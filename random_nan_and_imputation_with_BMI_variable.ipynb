{
  "nbformat": 4,
  "nbformat_minor": 0,
  "metadata": {
    "colab": {
      "provenance": [],
      "machine_shape": "hm",
      "authorship_tag": "ABX9TyMqs0GYxv2RHqjT9msQs4SK",
      "include_colab_link": true
    },
    "kernelspec": {
      "name": "python3",
      "display_name": "Python 3"
    },
    "language_info": {
      "name": "python"
    },
    "accelerator": "GPU",
    "gpuClass": "standard"
  },
  "cells": [
    {
      "cell_type": "markdown",
      "metadata": {
        "id": "view-in-github",
        "colab_type": "text"
      },
      "source": [
        "<a href=\"https://colab.research.google.com/github/Worachet-Ch/project2022/blob/main/random_nan_and_imputation_with_BMI_variable.ipynb\" target=\"_parent\"><img src=\"https://colab.research.google.com/assets/colab-badge.svg\" alt=\"Open In Colab\"/></a>"
      ]
    },
    {
      "cell_type": "code",
      "execution_count": 1,
      "metadata": {
        "id": "WlE8oT5Ng_NP"
      },
      "outputs": [],
      "source": [
        "import pandas as pd #นำเข้า pandas แทนที่ด้วย pd\n",
        "import os# os ใช้จัดการกับไฟล์ ว่าอยู่ที่ไหน\n",
        "import numpy as np\n",
        "import seaborn as sns\n",
        "import matplotlib.pyplot as plt\n",
        "import missingno as mno\n",
        "import missingno as msno\n",
        "from sklearn import linear_model\n",
        "%matplotlib inline\n",
        "import matplotlib\n",
        "import sklearn \n",
        "from sklearn.impute import KNNImputer\n",
        "from sklearn.metrics import mean_squared_error\n",
        "import time"
      ]
    },
    {
      "cell_type": "code",
      "source": [
        "from google.colab import drive #เชื่อม Google drive\n",
        "drive.mount('/content/drive')\n",
        "path = '/content/drive/My Drive/project' #เข้า drive\n",
        "data_file_path = os.path.join(path,'data_notmissing.csv') #ไปที่ไฟล์ confirmed-cases-since-280265.csv\n",
        "data = pd.read_csv(data_file_path) #อ่านไฟล์ csv"
      ],
      "metadata": {
        "id": "GDkw1dtXhLP4",
        "colab": {
          "base_uri": "https://localhost:8080/"
        },
        "outputId": "f433fee5-6ef4-442f-b731-52ba98a6aba6"
      },
      "execution_count": 2,
      "outputs": [
        {
          "output_type": "stream",
          "name": "stdout",
          "text": [
            "Mounted at /content/drive\n"
          ]
        }
      ]
    },
    {
      "cell_type": "code",
      "source": [
        "data.drop({'Unnamed: 0','telomere length (kb) '},1,inplace = True)"
      ],
      "metadata": {
        "id": "o6Qf5r-uhMFj",
        "colab": {
          "base_uri": "https://localhost:8080/"
        },
        "outputId": "0dc2b3c6-56da-49c3-bfc5-43825633fa26"
      },
      "execution_count": 3,
      "outputs": [
        {
          "output_type": "stream",
          "name": "stderr",
          "text": [
            "<ipython-input-3-4cc622f169ae>:1: FutureWarning: In a future version of pandas all arguments of DataFrame.drop except for the argument 'labels' will be keyword-only\n",
            "  data.drop({'Unnamed: 0','telomere length (kb) '},1,inplace = True)\n"
          ]
        }
      ]
    },
    {
      "cell_type": "code",
      "source": [
        "data"
      ],
      "metadata": {
        "id": "wDnYHJnYhNRe",
        "colab": {
          "base_uri": "https://localhost:8080/",
          "height": 423
        },
        "outputId": "475a8f7c-b701-40e8-ced2-afccc91f44f9"
      },
      "execution_count": 4,
      "outputs": [
        {
          "output_type": "execute_result",
          "data": {
            "text/plain": [
              "     Sex  AgeSYear  Weight  Height   BMI  Systolic  Diastolic  HeartRate  \\\n",
              "0      2      57.0    47.4   153.0  20.2     114.0       75.0       69.0   \n",
              "1      2      24.0    53.2   157.0  21.6     103.0       69.0       78.0   \n",
              "2      2      62.0    54.4   165.0  20.0      95.0       75.0       83.0   \n",
              "3      2      35.0    56.3   161.0  21.7      95.0       57.0       72.0   \n",
              "4      1      46.0    72.3   170.0  25.0     133.0       77.0      107.0   \n",
              "..   ...       ...     ...     ...   ...       ...        ...        ...   \n",
              "148    1      60.0    72.0   170.0  24.9     131.0       74.0       69.0   \n",
              "149    1      58.0    62.0   168.0  22.0     103.0       76.0       72.0   \n",
              "150    2      42.0    55.5   165.0  20.4     102.0       52.0       77.0   \n",
              "151    2      61.0    61.8   159.0  24.4     117.0       60.0       72.0   \n",
              "152    2      31.0    58.2   169.0  20.4     108.0       69.0       73.0   \n",
              "\n",
              "      SMM  Fat Mass  ...  003_Creatinine  004_Uric Acid  005_Cholesterol  \\\n",
              "0    19.3      12.5  ...             1.0            5.0            176.0   \n",
              "1    21.3      14.6  ...             0.8            5.2            159.0   \n",
              "2    21.6      15.2  ...             0.7            4.1            230.0   \n",
              "3    22.5      15.4  ...             0.6            5.0            198.0   \n",
              "4    29.2      19.0  ...             0.9            6.9            194.0   \n",
              "..    ...       ...  ...             ...            ...              ...   \n",
              "148  30.5      13.8  ...             0.9            6.9            182.0   \n",
              "149  27.8      11.9  ...             1.0            6.8            191.0   \n",
              "150  22.9      14.1  ...             0.8            4.7            212.0   \n",
              "151  23.4      19.2  ...             0.8            5.1            235.0   \n",
              "152  25.0      13.0  ...             0.7            4.3            200.0   \n",
              "\n",
              "     006_Triglyceride  008_HDL-C  009_LDL  010_AST  012_ALT  \\\n",
              "0                51.0       72.0     94.0     16.0     16.0   \n",
              "1                45.0       52.0     98.0     13.0     17.0   \n",
              "2                94.0       61.0    151.0     18.0     31.0   \n",
              "3                47.0       68.0    120.0     16.0     20.0   \n",
              "4                63.0       60.0    122.0     15.0     19.0   \n",
              "..                ...        ...      ...      ...      ...   \n",
              "148             179.0       39.0    107.0     36.0     31.0   \n",
              "149              62.0       47.0    132.0     16.0     33.0   \n",
              "150              68.0       63.0    135.0     11.0     16.0   \n",
              "151              66.0       56.0    166.0     15.0     23.0   \n",
              "152              44.0       56.0    135.0     14.0     21.0   \n",
              "\n",
              "     013_Alkaline Phos  071_HbA1c  \n",
              "0                 62.0        5.1  \n",
              "1                 50.0        5.4  \n",
              "2                 76.0        5.6  \n",
              "3                 35.0        5.1  \n",
              "4                 69.0        5.2  \n",
              "..                 ...        ...  \n",
              "148               79.0        6.5  \n",
              "149               42.0        6.8  \n",
              "150               33.0        4.8  \n",
              "151               44.0        5.4  \n",
              "152               31.0        4.7  \n",
              "\n",
              "[153 rows x 26 columns]"
            ],
            "text/html": [
              "\n",
              "  <div id=\"df-57d1da21-7aa3-411a-a151-790ade327e5e\">\n",
              "    <div class=\"colab-df-container\">\n",
              "      <div>\n",
              "<style scoped>\n",
              "    .dataframe tbody tr th:only-of-type {\n",
              "        vertical-align: middle;\n",
              "    }\n",
              "\n",
              "    .dataframe tbody tr th {\n",
              "        vertical-align: top;\n",
              "    }\n",
              "\n",
              "    .dataframe thead th {\n",
              "        text-align: right;\n",
              "    }\n",
              "</style>\n",
              "<table border=\"1\" class=\"dataframe\">\n",
              "  <thead>\n",
              "    <tr style=\"text-align: right;\">\n",
              "      <th></th>\n",
              "      <th>Sex</th>\n",
              "      <th>AgeSYear</th>\n",
              "      <th>Weight</th>\n",
              "      <th>Height</th>\n",
              "      <th>BMI</th>\n",
              "      <th>Systolic</th>\n",
              "      <th>Diastolic</th>\n",
              "      <th>HeartRate</th>\n",
              "      <th>SMM</th>\n",
              "      <th>Fat Mass</th>\n",
              "      <th>...</th>\n",
              "      <th>003_Creatinine</th>\n",
              "      <th>004_Uric Acid</th>\n",
              "      <th>005_Cholesterol</th>\n",
              "      <th>006_Triglyceride</th>\n",
              "      <th>008_HDL-C</th>\n",
              "      <th>009_LDL</th>\n",
              "      <th>010_AST</th>\n",
              "      <th>012_ALT</th>\n",
              "      <th>013_Alkaline Phos</th>\n",
              "      <th>071_HbA1c</th>\n",
              "    </tr>\n",
              "  </thead>\n",
              "  <tbody>\n",
              "    <tr>\n",
              "      <th>0</th>\n",
              "      <td>2</td>\n",
              "      <td>57.0</td>\n",
              "      <td>47.4</td>\n",
              "      <td>153.0</td>\n",
              "      <td>20.2</td>\n",
              "      <td>114.0</td>\n",
              "      <td>75.0</td>\n",
              "      <td>69.0</td>\n",
              "      <td>19.3</td>\n",
              "      <td>12.5</td>\n",
              "      <td>...</td>\n",
              "      <td>1.0</td>\n",
              "      <td>5.0</td>\n",
              "      <td>176.0</td>\n",
              "      <td>51.0</td>\n",
              "      <td>72.0</td>\n",
              "      <td>94.0</td>\n",
              "      <td>16.0</td>\n",
              "      <td>16.0</td>\n",
              "      <td>62.0</td>\n",
              "      <td>5.1</td>\n",
              "    </tr>\n",
              "    <tr>\n",
              "      <th>1</th>\n",
              "      <td>2</td>\n",
              "      <td>24.0</td>\n",
              "      <td>53.2</td>\n",
              "      <td>157.0</td>\n",
              "      <td>21.6</td>\n",
              "      <td>103.0</td>\n",
              "      <td>69.0</td>\n",
              "      <td>78.0</td>\n",
              "      <td>21.3</td>\n",
              "      <td>14.6</td>\n",
              "      <td>...</td>\n",
              "      <td>0.8</td>\n",
              "      <td>5.2</td>\n",
              "      <td>159.0</td>\n",
              "      <td>45.0</td>\n",
              "      <td>52.0</td>\n",
              "      <td>98.0</td>\n",
              "      <td>13.0</td>\n",
              "      <td>17.0</td>\n",
              "      <td>50.0</td>\n",
              "      <td>5.4</td>\n",
              "    </tr>\n",
              "    <tr>\n",
              "      <th>2</th>\n",
              "      <td>2</td>\n",
              "      <td>62.0</td>\n",
              "      <td>54.4</td>\n",
              "      <td>165.0</td>\n",
              "      <td>20.0</td>\n",
              "      <td>95.0</td>\n",
              "      <td>75.0</td>\n",
              "      <td>83.0</td>\n",
              "      <td>21.6</td>\n",
              "      <td>15.2</td>\n",
              "      <td>...</td>\n",
              "      <td>0.7</td>\n",
              "      <td>4.1</td>\n",
              "      <td>230.0</td>\n",
              "      <td>94.0</td>\n",
              "      <td>61.0</td>\n",
              "      <td>151.0</td>\n",
              "      <td>18.0</td>\n",
              "      <td>31.0</td>\n",
              "      <td>76.0</td>\n",
              "      <td>5.6</td>\n",
              "    </tr>\n",
              "    <tr>\n",
              "      <th>3</th>\n",
              "      <td>2</td>\n",
              "      <td>35.0</td>\n",
              "      <td>56.3</td>\n",
              "      <td>161.0</td>\n",
              "      <td>21.7</td>\n",
              "      <td>95.0</td>\n",
              "      <td>57.0</td>\n",
              "      <td>72.0</td>\n",
              "      <td>22.5</td>\n",
              "      <td>15.4</td>\n",
              "      <td>...</td>\n",
              "      <td>0.6</td>\n",
              "      <td>5.0</td>\n",
              "      <td>198.0</td>\n",
              "      <td>47.0</td>\n",
              "      <td>68.0</td>\n",
              "      <td>120.0</td>\n",
              "      <td>16.0</td>\n",
              "      <td>20.0</td>\n",
              "      <td>35.0</td>\n",
              "      <td>5.1</td>\n",
              "    </tr>\n",
              "    <tr>\n",
              "      <th>4</th>\n",
              "      <td>1</td>\n",
              "      <td>46.0</td>\n",
              "      <td>72.3</td>\n",
              "      <td>170.0</td>\n",
              "      <td>25.0</td>\n",
              "      <td>133.0</td>\n",
              "      <td>77.0</td>\n",
              "      <td>107.0</td>\n",
              "      <td>29.2</td>\n",
              "      <td>19.0</td>\n",
              "      <td>...</td>\n",
              "      <td>0.9</td>\n",
              "      <td>6.9</td>\n",
              "      <td>194.0</td>\n",
              "      <td>63.0</td>\n",
              "      <td>60.0</td>\n",
              "      <td>122.0</td>\n",
              "      <td>15.0</td>\n",
              "      <td>19.0</td>\n",
              "      <td>69.0</td>\n",
              "      <td>5.2</td>\n",
              "    </tr>\n",
              "    <tr>\n",
              "      <th>...</th>\n",
              "      <td>...</td>\n",
              "      <td>...</td>\n",
              "      <td>...</td>\n",
              "      <td>...</td>\n",
              "      <td>...</td>\n",
              "      <td>...</td>\n",
              "      <td>...</td>\n",
              "      <td>...</td>\n",
              "      <td>...</td>\n",
              "      <td>...</td>\n",
              "      <td>...</td>\n",
              "      <td>...</td>\n",
              "      <td>...</td>\n",
              "      <td>...</td>\n",
              "      <td>...</td>\n",
              "      <td>...</td>\n",
              "      <td>...</td>\n",
              "      <td>...</td>\n",
              "      <td>...</td>\n",
              "      <td>...</td>\n",
              "      <td>...</td>\n",
              "    </tr>\n",
              "    <tr>\n",
              "      <th>148</th>\n",
              "      <td>1</td>\n",
              "      <td>60.0</td>\n",
              "      <td>72.0</td>\n",
              "      <td>170.0</td>\n",
              "      <td>24.9</td>\n",
              "      <td>131.0</td>\n",
              "      <td>74.0</td>\n",
              "      <td>69.0</td>\n",
              "      <td>30.5</td>\n",
              "      <td>13.8</td>\n",
              "      <td>...</td>\n",
              "      <td>0.9</td>\n",
              "      <td>6.9</td>\n",
              "      <td>182.0</td>\n",
              "      <td>179.0</td>\n",
              "      <td>39.0</td>\n",
              "      <td>107.0</td>\n",
              "      <td>36.0</td>\n",
              "      <td>31.0</td>\n",
              "      <td>79.0</td>\n",
              "      <td>6.5</td>\n",
              "    </tr>\n",
              "    <tr>\n",
              "      <th>149</th>\n",
              "      <td>1</td>\n",
              "      <td>58.0</td>\n",
              "      <td>62.0</td>\n",
              "      <td>168.0</td>\n",
              "      <td>22.0</td>\n",
              "      <td>103.0</td>\n",
              "      <td>76.0</td>\n",
              "      <td>72.0</td>\n",
              "      <td>27.8</td>\n",
              "      <td>11.9</td>\n",
              "      <td>...</td>\n",
              "      <td>1.0</td>\n",
              "      <td>6.8</td>\n",
              "      <td>191.0</td>\n",
              "      <td>62.0</td>\n",
              "      <td>47.0</td>\n",
              "      <td>132.0</td>\n",
              "      <td>16.0</td>\n",
              "      <td>33.0</td>\n",
              "      <td>42.0</td>\n",
              "      <td>6.8</td>\n",
              "    </tr>\n",
              "    <tr>\n",
              "      <th>150</th>\n",
              "      <td>2</td>\n",
              "      <td>42.0</td>\n",
              "      <td>55.5</td>\n",
              "      <td>165.0</td>\n",
              "      <td>20.4</td>\n",
              "      <td>102.0</td>\n",
              "      <td>52.0</td>\n",
              "      <td>77.0</td>\n",
              "      <td>22.9</td>\n",
              "      <td>14.1</td>\n",
              "      <td>...</td>\n",
              "      <td>0.8</td>\n",
              "      <td>4.7</td>\n",
              "      <td>212.0</td>\n",
              "      <td>68.0</td>\n",
              "      <td>63.0</td>\n",
              "      <td>135.0</td>\n",
              "      <td>11.0</td>\n",
              "      <td>16.0</td>\n",
              "      <td>33.0</td>\n",
              "      <td>4.8</td>\n",
              "    </tr>\n",
              "    <tr>\n",
              "      <th>151</th>\n",
              "      <td>2</td>\n",
              "      <td>61.0</td>\n",
              "      <td>61.8</td>\n",
              "      <td>159.0</td>\n",
              "      <td>24.4</td>\n",
              "      <td>117.0</td>\n",
              "      <td>60.0</td>\n",
              "      <td>72.0</td>\n",
              "      <td>23.4</td>\n",
              "      <td>19.2</td>\n",
              "      <td>...</td>\n",
              "      <td>0.8</td>\n",
              "      <td>5.1</td>\n",
              "      <td>235.0</td>\n",
              "      <td>66.0</td>\n",
              "      <td>56.0</td>\n",
              "      <td>166.0</td>\n",
              "      <td>15.0</td>\n",
              "      <td>23.0</td>\n",
              "      <td>44.0</td>\n",
              "      <td>5.4</td>\n",
              "    </tr>\n",
              "    <tr>\n",
              "      <th>152</th>\n",
              "      <td>2</td>\n",
              "      <td>31.0</td>\n",
              "      <td>58.2</td>\n",
              "      <td>169.0</td>\n",
              "      <td>20.4</td>\n",
              "      <td>108.0</td>\n",
              "      <td>69.0</td>\n",
              "      <td>73.0</td>\n",
              "      <td>25.0</td>\n",
              "      <td>13.0</td>\n",
              "      <td>...</td>\n",
              "      <td>0.7</td>\n",
              "      <td>4.3</td>\n",
              "      <td>200.0</td>\n",
              "      <td>44.0</td>\n",
              "      <td>56.0</td>\n",
              "      <td>135.0</td>\n",
              "      <td>14.0</td>\n",
              "      <td>21.0</td>\n",
              "      <td>31.0</td>\n",
              "      <td>4.7</td>\n",
              "    </tr>\n",
              "  </tbody>\n",
              "</table>\n",
              "<p>153 rows × 26 columns</p>\n",
              "</div>\n",
              "      <button class=\"colab-df-convert\" onclick=\"convertToInteractive('df-57d1da21-7aa3-411a-a151-790ade327e5e')\"\n",
              "              title=\"Convert this dataframe to an interactive table.\"\n",
              "              style=\"display:none;\">\n",
              "        \n",
              "  <svg xmlns=\"http://www.w3.org/2000/svg\" height=\"24px\"viewBox=\"0 0 24 24\"\n",
              "       width=\"24px\">\n",
              "    <path d=\"M0 0h24v24H0V0z\" fill=\"none\"/>\n",
              "    <path d=\"M18.56 5.44l.94 2.06.94-2.06 2.06-.94-2.06-.94-.94-2.06-.94 2.06-2.06.94zm-11 1L8.5 8.5l.94-2.06 2.06-.94-2.06-.94L8.5 2.5l-.94 2.06-2.06.94zm10 10l.94 2.06.94-2.06 2.06-.94-2.06-.94-.94-2.06-.94 2.06-2.06.94z\"/><path d=\"M17.41 7.96l-1.37-1.37c-.4-.4-.92-.59-1.43-.59-.52 0-1.04.2-1.43.59L10.3 9.45l-7.72 7.72c-.78.78-.78 2.05 0 2.83L4 21.41c.39.39.9.59 1.41.59.51 0 1.02-.2 1.41-.59l7.78-7.78 2.81-2.81c.8-.78.8-2.07 0-2.86zM5.41 20L4 18.59l7.72-7.72 1.47 1.35L5.41 20z\"/>\n",
              "  </svg>\n",
              "      </button>\n",
              "      \n",
              "  <style>\n",
              "    .colab-df-container {\n",
              "      display:flex;\n",
              "      flex-wrap:wrap;\n",
              "      gap: 12px;\n",
              "    }\n",
              "\n",
              "    .colab-df-convert {\n",
              "      background-color: #E8F0FE;\n",
              "      border: none;\n",
              "      border-radius: 50%;\n",
              "      cursor: pointer;\n",
              "      display: none;\n",
              "      fill: #1967D2;\n",
              "      height: 32px;\n",
              "      padding: 0 0 0 0;\n",
              "      width: 32px;\n",
              "    }\n",
              "\n",
              "    .colab-df-convert:hover {\n",
              "      background-color: #E2EBFA;\n",
              "      box-shadow: 0px 1px 2px rgba(60, 64, 67, 0.3), 0px 1px 3px 1px rgba(60, 64, 67, 0.15);\n",
              "      fill: #174EA6;\n",
              "    }\n",
              "\n",
              "    [theme=dark] .colab-df-convert {\n",
              "      background-color: #3B4455;\n",
              "      fill: #D2E3FC;\n",
              "    }\n",
              "\n",
              "    [theme=dark] .colab-df-convert:hover {\n",
              "      background-color: #434B5C;\n",
              "      box-shadow: 0px 1px 3px 1px rgba(0, 0, 0, 0.15);\n",
              "      filter: drop-shadow(0px 1px 2px rgba(0, 0, 0, 0.3));\n",
              "      fill: #FFFFFF;\n",
              "    }\n",
              "  </style>\n",
              "\n",
              "      <script>\n",
              "        const buttonEl =\n",
              "          document.querySelector('#df-57d1da21-7aa3-411a-a151-790ade327e5e button.colab-df-convert');\n",
              "        buttonEl.style.display =\n",
              "          google.colab.kernel.accessAllowed ? 'block' : 'none';\n",
              "\n",
              "        async function convertToInteractive(key) {\n",
              "          const element = document.querySelector('#df-57d1da21-7aa3-411a-a151-790ade327e5e');\n",
              "          const dataTable =\n",
              "            await google.colab.kernel.invokeFunction('convertToInteractive',\n",
              "                                                     [key], {});\n",
              "          if (!dataTable) return;\n",
              "\n",
              "          const docLinkHtml = 'Like what you see? Visit the ' +\n",
              "            '<a target=\"_blank\" href=https://colab.research.google.com/notebooks/data_table.ipynb>data table notebook</a>'\n",
              "            + ' to learn more about interactive tables.';\n",
              "          element.innerHTML = '';\n",
              "          dataTable['output_type'] = 'display_data';\n",
              "          await google.colab.output.renderOutput(dataTable, element);\n",
              "          const docLink = document.createElement('div');\n",
              "          docLink.innerHTML = docLinkHtml;\n",
              "          element.appendChild(docLink);\n",
              "        }\n",
              "      </script>\n",
              "    </div>\n",
              "  </div>\n",
              "  "
            ]
          },
          "metadata": {},
          "execution_count": 4
        }
      ]
    },
    {
      "cell_type": "code",
      "source": [
        "t_start_t = time.time()"
      ],
      "metadata": {
        "id": "2eA-H0UzhPHH"
      },
      "execution_count": 5,
      "outputs": []
    },
    {
      "cell_type": "markdown",
      "source": [
        "# 10 % random nan"
      ],
      "metadata": {
        "id": "EaiTwqv1RA0w"
      }
    },
    {
      "cell_type": "code",
      "source": [
        "t_start = time.time()\n",
        "for i in range(1,1001):\n",
        "  globals()[f'BMI10_{i}'] = data.copy() # for loop variable name\n",
        "  np.random.seed(i) # for loop seed\n",
        "  n = int((153*10/100)) \n",
        "  index_nan = np.random.choice(globals()[f'BMI10_{i}']['BMI'].size, n, replace=False) #globals()[name dataframe][column name].size\n",
        "  globals()[f'BMI10_{i}']['BMI'].ravel()[index_nan] = np.nan\n",
        "t_end = time.time()\n",
        "print(f'เวลาที่ใช้ในการประมวลผล {t_end- t_start} วินาที')\n",
        "print(f'เวลาที่ใช้ในการประมวลผล {(t_end- t_start)/60} นาที')"
      ],
      "metadata": {
        "id": "4nEkEiZP2gLT",
        "colab": {
          "base_uri": "https://localhost:8080/"
        },
        "outputId": "346e7b8d-3e1d-4323-a30b-a144e6ac2d42"
      },
      "execution_count": 8,
      "outputs": [
        {
          "output_type": "stream",
          "name": "stdout",
          "text": [
            "เวลาที่ใช้ในการประมวลผล 0.17774605751037598 วินาที\n",
            "เวลาที่ใช้ในการประมวลผล 0.0029624342918395997 นาที\n"
          ]
        }
      ]
    },
    {
      "cell_type": "markdown",
      "source": [
        "## Imputation using Mean"
      ],
      "metadata": {
        "id": "YjwJ6-Qb7rt3"
      }
    },
    {
      "cell_type": "code",
      "source": [
        "from sklearn.impute import SimpleImputer"
      ],
      "metadata": {
        "id": "z2nfqhdh-yXe"
      },
      "execution_count": 9,
      "outputs": []
    },
    {
      "cell_type": "code",
      "source": [
        "t_start = time.time()\n",
        "mean10_imputer = SimpleImputer(strategy='mean')\n",
        "for i in range(1,1001):\n",
        "  globals()[f'imputed_mean10_{i}'] = mean10_imputer.fit_transform(globals()[f'BMI10_{i}'].copy()) #for loop miss forest impputation \n",
        "  globals()[f'MSE_MEAN10_{i}'] = mean_squared_error(data, globals()[f'imputed_mean10_{i}']) # for loop mean_squared_error\n",
        "t_end = time.time()\n",
        "t10_MEAN= (t_end- t_start)"
      ],
      "metadata": {
        "id": "zJS_wIka_iTE"
      },
      "execution_count": 10,
      "outputs": []
    },
    {
      "cell_type": "code",
      "source": [
        "t_start = time.time()\n",
        "mse_mean10_total = 0 \n",
        "MSE_MEAN10_1001 = 0\n",
        "for i in range(0,1001):\n",
        "  mse_mean10_total = mse_mean10_total + globals()[f'MSE_MEAN10_{i+1}']\n",
        "AMSE_BMI10_mean = mse_mean10_total/1000\n",
        "print(f'AMSE_BMI10_mean = {AMSE_BMI10_mean}')\n",
        "t_end = time.time()\n",
        "print(f'เวลาที่ใช้ในการประมวลผล {t_end- t_start} วินาที')\n",
        "print(f'เวลาที่ใช้ในการประมวลผล {(t_end- t_start)/60} นาที')"
      ],
      "metadata": {
        "id": "fpVr60a-_yGy",
        "colab": {
          "base_uri": "https://localhost:8080/"
        },
        "outputId": "75b45c18-cd69-4fac-cfc1-3a649e22c521"
      },
      "execution_count": 11,
      "outputs": [
        {
          "output_type": "stream",
          "name": "stdout",
          "text": [
            "AMSE_BMI10_mean = 0.01936803813539053\n",
            "เวลาที่ใช้ในการประมวลผล 0.009600162506103516 วินาที\n",
            "เวลาที่ใช้ในการประมวลผล 0.0001600027084350586 นาที\n"
          ]
        }
      ]
    },
    {
      "cell_type": "markdown",
      "source": [
        "## Imputation using the miss forest"
      ],
      "metadata": {
        "id": "yYzw-Hj6Lcd4"
      }
    },
    {
      "cell_type": "code",
      "source": [
        "import sys\n",
        "import sklearn.neighbors._base\n",
        "sys.modules['sklearn.neighbors.base'] = sklearn.neighbors._base\n",
        "!pip install missingpy\n",
        "import missingpy\n",
        "from missingpy import MissForest\n",
        "from sklearn.metrics import mean_squared_error"
      ],
      "metadata": {
        "id": "LySNylXpbrZY",
        "colab": {
          "base_uri": "https://localhost:8080/"
        },
        "outputId": "51fa0b01-16e2-4603-e138-b2bc3693d9ef"
      },
      "execution_count": 12,
      "outputs": [
        {
          "output_type": "stream",
          "name": "stdout",
          "text": [
            "Looking in indexes: https://pypi.org/simple, https://us-python.pkg.dev/colab-wheels/public/simple/\n",
            "Collecting missingpy\n",
            "  Downloading missingpy-0.2.0-py3-none-any.whl (49 kB)\n",
            "\u001b[2K     \u001b[90m━━━━━━━━━━━━━━━━━━━━━━━━━━━━━━━━━━━━━━━━\u001b[0m \u001b[32m49.1/49.1 KB\u001b[0m \u001b[31m5.9 MB/s\u001b[0m eta \u001b[36m0:00:00\u001b[0m\n",
            "\u001b[?25hInstalling collected packages: missingpy\n",
            "Successfully installed missingpy-0.2.0\n"
          ]
        }
      ]
    },
    {
      "cell_type": "code",
      "source": [
        "t_start = time.time()\n",
        "MF10_imputer = MissForest()\n",
        "for i in range(1,1001):\n",
        "  globals()[f'imputed_mf10_{i}'] = MF10_imputer.fit_transform(globals()[f'BMI10_{i}'].copy()) #for loop miss forest impputation \n",
        "  globals()[f'MSE_MF10_{i}'] = mean_squared_error(data, globals()[f'imputed_mf10_{i}']) # for loop mean_squared_error\n",
        "t_end = time.time()\n",
        "t10_MF= (t_end- t_start)"
      ],
      "metadata": {
        "id": "jpVrBlWkczgN"
      },
      "execution_count": null,
      "outputs": []
    },
    {
      "cell_type": "code",
      "source": [
        "t_start = time.time()\n",
        "mse_mf10_total = 0 \n",
        "MSE_MF10_1001 = 0\n",
        "for i in range(0,1001):\n",
        "  mse_mf10_total = mse_mf10_total + globals()[f'MSE_MF10_{i+1}']\n",
        "AMSE_BMI10_mf = mse_mf10_total/1000\n",
        "print(f'AMSE_BMI10_mf = {AMSE_BMI10_mf}')\n",
        "t_end = time.time()\n",
        "print(f'เวลาที่ใช้ในการประมวลผล {t_end- t_start} วินาที')\n",
        "print(f'เวลาที่ใช้ในการประมวลผล {(t_end- t_start)/60} นาที')"
      ],
      "metadata": {
        "id": "itymgxccG8Yj",
        "colab": {
          "base_uri": "https://localhost:8080/"
        },
        "outputId": "68c2e9b8-eb5d-4ed4-af85-f7926a2df775"
      },
      "execution_count": 14,
      "outputs": [
        {
          "output_type": "stream",
          "name": "stdout",
          "text": [
            "AMSE_BMI10_mf = 0.004330174669683257\n",
            "เวลาที่ใช้ในการประมวลผล 0.0024216175079345703 วินาที\n",
            "เวลาที่ใช้ในการประมวลผล 4.0360291798909505e-05 นาที\n"
          ]
        }
      ]
    },
    {
      "cell_type": "markdown",
      "source": [
        "## Imputation using the KNN"
      ],
      "metadata": {
        "id": "AH3QecnbePSA"
      }
    },
    {
      "cell_type": "code",
      "source": [
        "from sklearn import neighbors\n",
        "from sklearn.impute import KNNImputer"
      ],
      "metadata": {
        "id": "PpTM8fjNRgta"
      },
      "execution_count": 15,
      "outputs": []
    },
    {
      "cell_type": "code",
      "source": [
        "t_start = time.time()\n",
        "KNN10_imputer = KNNImputer(n_neighbors = 15)\n",
        "for i in range(1,1001):\n",
        "  globals()[f'imputed_KNN10_{i}'] = KNN10_imputer.fit_transform(globals()[f'BMI10_{i}'].copy())\n",
        "  globals()[f'MSE_KNN10_{i}'] = mean_squared_error(data, globals()[f'imputed_KNN10_{i}'])\n",
        "t_end = time.time()\n",
        "t10_KNN= (t_end- t_start)"
      ],
      "metadata": {
        "id": "0j-UtJFbjj19"
      },
      "execution_count": 24,
      "outputs": []
    },
    {
      "cell_type": "code",
      "source": [
        "t_start = time.time()\n",
        "mse_knn10_total = 0 \n",
        "MSE_KNN10_1001 = 0\n",
        "for i in range(0,1001):\n",
        "  mse_knn10_total = mse_knn10_total + globals()[f'MSE_KNN10_{i+1}']\n",
        "AMSE_BMI10_knn = mse_knn10_total/1000\n",
        "print(f'AMSE_BMI10_knn = {AMSE_BMI10_knn}')\n",
        "t_end = time.time()\n",
        "print(f'เวลาที่ใช้ในการประมวลผล {t_end- t_start} วินาที')\n",
        "print(f'เวลาที่ใช้ในการประมวลผล {(t_end- t_start)/60} นาที')"
      ],
      "metadata": {
        "id": "Y7aDqUh_klXX",
        "colab": {
          "base_uri": "https://localhost:8080/"
        },
        "outputId": "c4fa0b4f-dab2-4956-dc3b-44f674763326"
      },
      "execution_count": 25,
      "outputs": [
        {
          "output_type": "stream",
          "name": "stdout",
          "text": [
            "AMSE_BMI10_knn = 0.010301678811239588\n",
            "เวลาที่ใช้ในการประมวลผล 0.001134634017944336 วินาที\n",
            "เวลาที่ใช้ในการประมวลผล 1.891056696573893e-05 นาที\n"
          ]
        }
      ]
    },
    {
      "cell_type": "markdown",
      "source": [
        "## Imputation using the MICE"
      ],
      "metadata": {
        "id": "bNG85n-5mgJ5"
      }
    },
    {
      "cell_type": "code",
      "source": [
        "from sklearn.experimental import enable_iterative_imputer\n",
        "from sklearn.impute import IterativeImputer\n",
        "from sklearn.linear_model import LinearRegression\n",
        "from sklearn import svm"
      ],
      "metadata": {
        "id": "jdG8Wkt5PqYA"
      },
      "execution_count": 26,
      "outputs": []
    },
    {
      "cell_type": "markdown",
      "source": [
        "### LinearRegression model"
      ],
      "metadata": {
        "id": "KO_irahVV3Ny"
      }
    },
    {
      "cell_type": "code",
      "source": [
        "t_start = time.time()\n",
        "lr = LinearRegression()\n",
        "for i in range(1,1001):\n",
        "  imp = IterativeImputer(estimator= lr , max_iter= 10, verbose=2, imputation_order='roman',initial_strategy = 'mean',random_state= i)\n",
        "  globals()[f'imputed_lr10_{i}'] = imp.fit_transform(globals()[f'BMI10_{i}'].copy())\n",
        "  globals()[f'MSE_lr10_{i}'] = mean_squared_error(data, globals()[f'imputed_lr10_{i}'])\n",
        "t_end = time.time()\n",
        "t10_LR= (t_end- t_start)"
      ],
      "metadata": {
        "id": "ocdE53Z3WGwP"
      },
      "execution_count": null,
      "outputs": []
    },
    {
      "cell_type": "code",
      "source": [
        "t_start = time.time()\n",
        "mse_lr10_total = 0 \n",
        "MSE_lr10_1001 = 0\n",
        "for i in range(0,1001):\n",
        "  mse_lr10_total = mse_lr10_total + globals()[f'MSE_lr10_{i+1}']\n",
        "AMSE_BMI10_lr = mse_lr10_total/1000\n",
        "print(f'AMSE_BMI10_lr = {AMSE_BMI10_lr}')\n",
        "t_end = time.time()\n",
        "print(f'เวลาที่ใช้ในการประมวลผล {t_end- t_start} วินาที')\n",
        "print(f'เวลาที่ใช้ในการประมวลผล {(t_end- t_start)/60} นาที')"
      ],
      "metadata": {
        "id": "Zv8b8tpgXTqV",
        "colab": {
          "base_uri": "https://localhost:8080/"
        },
        "outputId": "0bdb403b-11d7-4433-8cac-5f4d0d0bbd93"
      },
      "execution_count": 28,
      "outputs": [
        {
          "output_type": "stream",
          "name": "stdout",
          "text": [
            "AMSE_BMI10_lr = 0.0007325576111377501\n",
            "เวลาที่ใช้ในการประมวลผล 0.0009014606475830078 วินาที\n",
            "เวลาที่ใช้ในการประมวลผล 1.5024344126383463e-05 นาที\n"
          ]
        }
      ]
    },
    {
      "cell_type": "markdown",
      "source": [
        "### Support Vector Machine model"
      ],
      "metadata": {
        "id": "Q_etxqbFV-c-"
      }
    },
    {
      "cell_type": "code",
      "source": [
        "t_start = time.time()\n",
        "regr = svm.SVR()\n",
        "for i in range(1,1001):\n",
        "  svm_svr = IterativeImputer(estimator= regr, max_iter= 10, verbose=2, imputation_order='roman',initial_strategy = 'mean',random_state= i)\n",
        "  globals()[f'imputed_svm10_{i}'] = svm_svr.fit_transform(globals()[f'BMI10_{i}'].copy())\n",
        "  globals()[f'MSE_svm10_{i}'] = mean_squared_error(data, globals()[f'imputed_svm10_{i}'])\n",
        "t_end = time.time()\n",
        "t10_SVM = (t_end- t_start)"
      ],
      "metadata": {
        "id": "yICe2SxBWDiV"
      },
      "execution_count": null,
      "outputs": []
    },
    {
      "cell_type": "code",
      "source": [
        "t_start = time.time()\n",
        "mse_svm10_total = 0 \n",
        "MSE_svm10_1001 = 0\n",
        "for i in range(0,1001):\n",
        "  mse_svm10_total = mse_svm10_total + globals()[f'MSE_svm10_{i+1}']\n",
        "AMSE_BMI10_svm = mse_svm10_total/1000\n",
        "print(f'AMSE_BMI10_svm = {AMSE_BMI10_svm}')\n",
        "t_end = time.time()\n",
        "print(f'เวลาที่ใช้ในการประมวลผล {t_end- t_start} วินาที')\n",
        "print(f'เวลาที่ใช้ในการประมวลผล {(t_end- t_start)/60} นาที')"
      ],
      "metadata": {
        "id": "Kg6Ga9K4XvWz",
        "colab": {
          "base_uri": "https://localhost:8080/"
        },
        "outputId": "f1f05cbc-182a-4578-ec6c-ca11d6c4945b"
      },
      "execution_count": 32,
      "outputs": [
        {
          "output_type": "stream",
          "name": "stdout",
          "text": [
            "AMSE_BMI10_svm = 0.010259359638894579\n",
            "เวลาที่ใช้ในการประมวลผล 0.0011610984802246094 วินาที\n",
            "เวลาที่ใช้ในการประมวลผล 1.9351641337076824e-05 นาที\n"
          ]
        }
      ]
    },
    {
      "cell_type": "markdown",
      "source": [
        "## Imputation using the EM"
      ],
      "metadata": {
        "id": "CBhCn1dleov0"
      }
    },
    {
      "cell_type": "markdown",
      "source": [
        "### impy.em"
      ],
      "metadata": {
        "id": "okGFHwzYnBSm"
      }
    },
    {
      "cell_type": "code",
      "source": [
        "!pip install impyute\n",
        "import impyute as impy"
      ],
      "metadata": {
        "id": "MoYcRZ9unCRN",
        "colab": {
          "base_uri": "https://localhost:8080/"
        },
        "outputId": "5315edf3-add9-4b22-ebf0-32a82dd6ea6f"
      },
      "execution_count": 33,
      "outputs": [
        {
          "output_type": "stream",
          "name": "stdout",
          "text": [
            "Looking in indexes: https://pypi.org/simple, https://us-python.pkg.dev/colab-wheels/public/simple/\n",
            "Collecting impyute\n",
            "  Downloading impyute-0.0.8-py2.py3-none-any.whl (31 kB)\n",
            "Requirement already satisfied: scikit-learn in /usr/local/lib/python3.8/dist-packages (from impyute) (1.0.2)\n",
            "Requirement already satisfied: numpy in /usr/local/lib/python3.8/dist-packages (from impyute) (1.21.6)\n",
            "Requirement already satisfied: scipy in /usr/local/lib/python3.8/dist-packages (from impyute) (1.7.3)\n",
            "Requirement already satisfied: threadpoolctl>=2.0.0 in /usr/local/lib/python3.8/dist-packages (from scikit-learn->impyute) (3.1.0)\n",
            "Requirement already satisfied: joblib>=0.11 in /usr/local/lib/python3.8/dist-packages (from scikit-learn->impyute) (1.2.0)\n",
            "Installing collected packages: impyute\n",
            "Successfully installed impyute-0.0.8\n"
          ]
        }
      ]
    },
    {
      "cell_type": "code",
      "source": [
        "t_start = time.time()\n",
        "for i in range(1,1001):\n",
        "  globals()[f'imputed_impy10_{i}'] = impy.em(globals()[f'BMI10_{i}'].values.copy())\n",
        "  globals()[f'MSE_impy10_{i}'] = mean_squared_error(data, globals()[f'imputed_impy10_{i}'])\n",
        "t_end = time.time()\n",
        "t10_EM = (t_end- t_start)"
      ],
      "metadata": {
        "id": "q8hPK-5WqHua"
      },
      "execution_count": 37,
      "outputs": []
    },
    {
      "cell_type": "code",
      "source": [
        "t_start = time.time()\n",
        "mse_impy10_total = 0 \n",
        "MSE_impy10_1001 = 0\n",
        "for i in range(0,1001):\n",
        "  mse_impy10_total = mse_impy10_total + globals()[f'MSE_impy10_{i+1}']\n",
        "AMSE_BMI10_impy = mse_impy10_total/1000\n",
        "print(f'AMSE_BMI10_impy = {AMSE_BMI10_impy}')\n",
        "t_end = time.time()\n",
        "print(f'เวลาที่ใช้ในการประมวลผล {t_end- t_start} วินาที')\n",
        "print(f'เวลาที่ใช้ในการประมวลผล {(t_end- t_start)/60} นาที')"
      ],
      "metadata": {
        "id": "dxBu9e5fqHZw",
        "colab": {
          "base_uri": "https://localhost:8080/"
        },
        "outputId": "a055751b-af59-49d5-fb04-9c80ff5ce22c"
      },
      "execution_count": 38,
      "outputs": [
        {
          "output_type": "stream",
          "name": "stdout",
          "text": [
            "AMSE_BMI10_impy = 0.03508214003430212\n",
            "เวลาที่ใช้ในการประมวลผล 0.001237630844116211 วินาที\n",
            "เวลาที่ใช้ในการประมวลผล 2.0627180735270182e-05 นาที\n"
          ]
        }
      ]
    },
    {
      "cell_type": "markdown",
      "source": [
        "# 20 % random nan"
      ],
      "metadata": {
        "id": "XDnNeFskmmxr"
      }
    },
    {
      "cell_type": "code",
      "source": [
        "t_start = time.time()\n",
        "for i in range(1,1001):\n",
        "  globals()[f'BMI20_{i}'] = data.copy() # for loop variable name\n",
        "  np.random.seed(i) # for loop seed\n",
        "  n = int((153*20/100)) \n",
        "  index_nan = np.random.choice(globals()[f'BMI20_{i}']['BMI'].size, n, replace=False) #globals()[name dataframe][column name].size\n",
        "  globals()[f'BMI20_{i}']['BMI'].ravel()[index_nan] = np.nan\n",
        "t_end = time.time()\n",
        "print(f'เวลาที่ใช้ในการประมวลผล {t_end- t_start} วินาที')\n",
        "print(f'เวลาที่ใช้ในการประมวลผล {(t_end- t_start)/60} นาที')"
      ],
      "metadata": {
        "id": "1sP-Uzfimmxr",
        "colab": {
          "base_uri": "https://localhost:8080/"
        },
        "outputId": "4dcea846-18fd-4be1-911c-981e87116e9e"
      },
      "execution_count": 39,
      "outputs": [
        {
          "output_type": "stream",
          "name": "stdout",
          "text": [
            "เวลาที่ใช้ในการประมวลผล 0.3857145309448242 วินาที\n",
            "เวลาที่ใช้ในการประมวลผล 0.006428575515747071 นาที\n"
          ]
        }
      ]
    },
    {
      "cell_type": "code",
      "source": [
        "BMI20_1"
      ],
      "metadata": {
        "id": "fdd83gWXmmxr",
        "colab": {
          "base_uri": "https://localhost:8080/",
          "height": 423
        },
        "outputId": "8ebfbf36-7880-418b-9d53-51b1395814be"
      },
      "execution_count": 40,
      "outputs": [
        {
          "output_type": "execute_result",
          "data": {
            "text/plain": [
              "     Sex  AgeSYear  Weight  Height   BMI  Systolic  Diastolic  HeartRate  \\\n",
              "0      2      57.0    47.4   153.0  20.2     114.0       75.0       69.0   \n",
              "1      2      24.0    53.2   157.0  21.6     103.0       69.0       78.0   \n",
              "2      2      62.0    54.4   165.0  20.0      95.0       75.0       83.0   \n",
              "3      2      35.0    56.3   161.0  21.7      95.0       57.0       72.0   \n",
              "4      1      46.0    72.3   170.0  25.0     133.0       77.0      107.0   \n",
              "..   ...       ...     ...     ...   ...       ...        ...        ...   \n",
              "148    1      60.0    72.0   170.0  24.9     131.0       74.0       69.0   \n",
              "149    1      58.0    62.0   168.0  22.0     103.0       76.0       72.0   \n",
              "150    2      42.0    55.5   165.0  20.4     102.0       52.0       77.0   \n",
              "151    2      61.0    61.8   159.0  24.4     117.0       60.0       72.0   \n",
              "152    2      31.0    58.2   169.0  20.4     108.0       69.0       73.0   \n",
              "\n",
              "      SMM  Fat Mass  ...  003_Creatinine  004_Uric Acid  005_Cholesterol  \\\n",
              "0    19.3      12.5  ...             1.0            5.0            176.0   \n",
              "1    21.3      14.6  ...             0.8            5.2            159.0   \n",
              "2    21.6      15.2  ...             0.7            4.1            230.0   \n",
              "3    22.5      15.4  ...             0.6            5.0            198.0   \n",
              "4    29.2      19.0  ...             0.9            6.9            194.0   \n",
              "..    ...       ...  ...             ...            ...              ...   \n",
              "148  30.5      13.8  ...             0.9            6.9            182.0   \n",
              "149  27.8      11.9  ...             1.0            6.8            191.0   \n",
              "150  22.9      14.1  ...             0.8            4.7            212.0   \n",
              "151  23.4      19.2  ...             0.8            5.1            235.0   \n",
              "152  25.0      13.0  ...             0.7            4.3            200.0   \n",
              "\n",
              "     006_Triglyceride  008_HDL-C  009_LDL  010_AST  012_ALT  \\\n",
              "0                51.0       72.0     94.0     16.0     16.0   \n",
              "1                45.0       52.0     98.0     13.0     17.0   \n",
              "2                94.0       61.0    151.0     18.0     31.0   \n",
              "3                47.0       68.0    120.0     16.0     20.0   \n",
              "4                63.0       60.0    122.0     15.0     19.0   \n",
              "..                ...        ...      ...      ...      ...   \n",
              "148             179.0       39.0    107.0     36.0     31.0   \n",
              "149              62.0       47.0    132.0     16.0     33.0   \n",
              "150              68.0       63.0    135.0     11.0     16.0   \n",
              "151              66.0       56.0    166.0     15.0     23.0   \n",
              "152              44.0       56.0    135.0     14.0     21.0   \n",
              "\n",
              "     013_Alkaline Phos  071_HbA1c  \n",
              "0                 62.0        5.1  \n",
              "1                 50.0        5.4  \n",
              "2                 76.0        5.6  \n",
              "3                 35.0        5.1  \n",
              "4                 69.0        5.2  \n",
              "..                 ...        ...  \n",
              "148               79.0        6.5  \n",
              "149               42.0        6.8  \n",
              "150               33.0        4.8  \n",
              "151               44.0        5.4  \n",
              "152               31.0        4.7  \n",
              "\n",
              "[153 rows x 26 columns]"
            ],
            "text/html": [
              "\n",
              "  <div id=\"df-7a84f752-97ac-47e8-a651-9dd2d5450872\">\n",
              "    <div class=\"colab-df-container\">\n",
              "      <div>\n",
              "<style scoped>\n",
              "    .dataframe tbody tr th:only-of-type {\n",
              "        vertical-align: middle;\n",
              "    }\n",
              "\n",
              "    .dataframe tbody tr th {\n",
              "        vertical-align: top;\n",
              "    }\n",
              "\n",
              "    .dataframe thead th {\n",
              "        text-align: right;\n",
              "    }\n",
              "</style>\n",
              "<table border=\"1\" class=\"dataframe\">\n",
              "  <thead>\n",
              "    <tr style=\"text-align: right;\">\n",
              "      <th></th>\n",
              "      <th>Sex</th>\n",
              "      <th>AgeSYear</th>\n",
              "      <th>Weight</th>\n",
              "      <th>Height</th>\n",
              "      <th>BMI</th>\n",
              "      <th>Systolic</th>\n",
              "      <th>Diastolic</th>\n",
              "      <th>HeartRate</th>\n",
              "      <th>SMM</th>\n",
              "      <th>Fat Mass</th>\n",
              "      <th>...</th>\n",
              "      <th>003_Creatinine</th>\n",
              "      <th>004_Uric Acid</th>\n",
              "      <th>005_Cholesterol</th>\n",
              "      <th>006_Triglyceride</th>\n",
              "      <th>008_HDL-C</th>\n",
              "      <th>009_LDL</th>\n",
              "      <th>010_AST</th>\n",
              "      <th>012_ALT</th>\n",
              "      <th>013_Alkaline Phos</th>\n",
              "      <th>071_HbA1c</th>\n",
              "    </tr>\n",
              "  </thead>\n",
              "  <tbody>\n",
              "    <tr>\n",
              "      <th>0</th>\n",
              "      <td>2</td>\n",
              "      <td>57.0</td>\n",
              "      <td>47.4</td>\n",
              "      <td>153.0</td>\n",
              "      <td>20.2</td>\n",
              "      <td>114.0</td>\n",
              "      <td>75.0</td>\n",
              "      <td>69.0</td>\n",
              "      <td>19.3</td>\n",
              "      <td>12.5</td>\n",
              "      <td>...</td>\n",
              "      <td>1.0</td>\n",
              "      <td>5.0</td>\n",
              "      <td>176.0</td>\n",
              "      <td>51.0</td>\n",
              "      <td>72.0</td>\n",
              "      <td>94.0</td>\n",
              "      <td>16.0</td>\n",
              "      <td>16.0</td>\n",
              "      <td>62.0</td>\n",
              "      <td>5.1</td>\n",
              "    </tr>\n",
              "    <tr>\n",
              "      <th>1</th>\n",
              "      <td>2</td>\n",
              "      <td>24.0</td>\n",
              "      <td>53.2</td>\n",
              "      <td>157.0</td>\n",
              "      <td>21.6</td>\n",
              "      <td>103.0</td>\n",
              "      <td>69.0</td>\n",
              "      <td>78.0</td>\n",
              "      <td>21.3</td>\n",
              "      <td>14.6</td>\n",
              "      <td>...</td>\n",
              "      <td>0.8</td>\n",
              "      <td>5.2</td>\n",
              "      <td>159.0</td>\n",
              "      <td>45.0</td>\n",
              "      <td>52.0</td>\n",
              "      <td>98.0</td>\n",
              "      <td>13.0</td>\n",
              "      <td>17.0</td>\n",
              "      <td>50.0</td>\n",
              "      <td>5.4</td>\n",
              "    </tr>\n",
              "    <tr>\n",
              "      <th>2</th>\n",
              "      <td>2</td>\n",
              "      <td>62.0</td>\n",
              "      <td>54.4</td>\n",
              "      <td>165.0</td>\n",
              "      <td>20.0</td>\n",
              "      <td>95.0</td>\n",
              "      <td>75.0</td>\n",
              "      <td>83.0</td>\n",
              "      <td>21.6</td>\n",
              "      <td>15.2</td>\n",
              "      <td>...</td>\n",
              "      <td>0.7</td>\n",
              "      <td>4.1</td>\n",
              "      <td>230.0</td>\n",
              "      <td>94.0</td>\n",
              "      <td>61.0</td>\n",
              "      <td>151.0</td>\n",
              "      <td>18.0</td>\n",
              "      <td>31.0</td>\n",
              "      <td>76.0</td>\n",
              "      <td>5.6</td>\n",
              "    </tr>\n",
              "    <tr>\n",
              "      <th>3</th>\n",
              "      <td>2</td>\n",
              "      <td>35.0</td>\n",
              "      <td>56.3</td>\n",
              "      <td>161.0</td>\n",
              "      <td>21.7</td>\n",
              "      <td>95.0</td>\n",
              "      <td>57.0</td>\n",
              "      <td>72.0</td>\n",
              "      <td>22.5</td>\n",
              "      <td>15.4</td>\n",
              "      <td>...</td>\n",
              "      <td>0.6</td>\n",
              "      <td>5.0</td>\n",
              "      <td>198.0</td>\n",
              "      <td>47.0</td>\n",
              "      <td>68.0</td>\n",
              "      <td>120.0</td>\n",
              "      <td>16.0</td>\n",
              "      <td>20.0</td>\n",
              "      <td>35.0</td>\n",
              "      <td>5.1</td>\n",
              "    </tr>\n",
              "    <tr>\n",
              "      <th>4</th>\n",
              "      <td>1</td>\n",
              "      <td>46.0</td>\n",
              "      <td>72.3</td>\n",
              "      <td>170.0</td>\n",
              "      <td>25.0</td>\n",
              "      <td>133.0</td>\n",
              "      <td>77.0</td>\n",
              "      <td>107.0</td>\n",
              "      <td>29.2</td>\n",
              "      <td>19.0</td>\n",
              "      <td>...</td>\n",
              "      <td>0.9</td>\n",
              "      <td>6.9</td>\n",
              "      <td>194.0</td>\n",
              "      <td>63.0</td>\n",
              "      <td>60.0</td>\n",
              "      <td>122.0</td>\n",
              "      <td>15.0</td>\n",
              "      <td>19.0</td>\n",
              "      <td>69.0</td>\n",
              "      <td>5.2</td>\n",
              "    </tr>\n",
              "    <tr>\n",
              "      <th>...</th>\n",
              "      <td>...</td>\n",
              "      <td>...</td>\n",
              "      <td>...</td>\n",
              "      <td>...</td>\n",
              "      <td>...</td>\n",
              "      <td>...</td>\n",
              "      <td>...</td>\n",
              "      <td>...</td>\n",
              "      <td>...</td>\n",
              "      <td>...</td>\n",
              "      <td>...</td>\n",
              "      <td>...</td>\n",
              "      <td>...</td>\n",
              "      <td>...</td>\n",
              "      <td>...</td>\n",
              "      <td>...</td>\n",
              "      <td>...</td>\n",
              "      <td>...</td>\n",
              "      <td>...</td>\n",
              "      <td>...</td>\n",
              "      <td>...</td>\n",
              "    </tr>\n",
              "    <tr>\n",
              "      <th>148</th>\n",
              "      <td>1</td>\n",
              "      <td>60.0</td>\n",
              "      <td>72.0</td>\n",
              "      <td>170.0</td>\n",
              "      <td>24.9</td>\n",
              "      <td>131.0</td>\n",
              "      <td>74.0</td>\n",
              "      <td>69.0</td>\n",
              "      <td>30.5</td>\n",
              "      <td>13.8</td>\n",
              "      <td>...</td>\n",
              "      <td>0.9</td>\n",
              "      <td>6.9</td>\n",
              "      <td>182.0</td>\n",
              "      <td>179.0</td>\n",
              "      <td>39.0</td>\n",
              "      <td>107.0</td>\n",
              "      <td>36.0</td>\n",
              "      <td>31.0</td>\n",
              "      <td>79.0</td>\n",
              "      <td>6.5</td>\n",
              "    </tr>\n",
              "    <tr>\n",
              "      <th>149</th>\n",
              "      <td>1</td>\n",
              "      <td>58.0</td>\n",
              "      <td>62.0</td>\n",
              "      <td>168.0</td>\n",
              "      <td>22.0</td>\n",
              "      <td>103.0</td>\n",
              "      <td>76.0</td>\n",
              "      <td>72.0</td>\n",
              "      <td>27.8</td>\n",
              "      <td>11.9</td>\n",
              "      <td>...</td>\n",
              "      <td>1.0</td>\n",
              "      <td>6.8</td>\n",
              "      <td>191.0</td>\n",
              "      <td>62.0</td>\n",
              "      <td>47.0</td>\n",
              "      <td>132.0</td>\n",
              "      <td>16.0</td>\n",
              "      <td>33.0</td>\n",
              "      <td>42.0</td>\n",
              "      <td>6.8</td>\n",
              "    </tr>\n",
              "    <tr>\n",
              "      <th>150</th>\n",
              "      <td>2</td>\n",
              "      <td>42.0</td>\n",
              "      <td>55.5</td>\n",
              "      <td>165.0</td>\n",
              "      <td>20.4</td>\n",
              "      <td>102.0</td>\n",
              "      <td>52.0</td>\n",
              "      <td>77.0</td>\n",
              "      <td>22.9</td>\n",
              "      <td>14.1</td>\n",
              "      <td>...</td>\n",
              "      <td>0.8</td>\n",
              "      <td>4.7</td>\n",
              "      <td>212.0</td>\n",
              "      <td>68.0</td>\n",
              "      <td>63.0</td>\n",
              "      <td>135.0</td>\n",
              "      <td>11.0</td>\n",
              "      <td>16.0</td>\n",
              "      <td>33.0</td>\n",
              "      <td>4.8</td>\n",
              "    </tr>\n",
              "    <tr>\n",
              "      <th>151</th>\n",
              "      <td>2</td>\n",
              "      <td>61.0</td>\n",
              "      <td>61.8</td>\n",
              "      <td>159.0</td>\n",
              "      <td>24.4</td>\n",
              "      <td>117.0</td>\n",
              "      <td>60.0</td>\n",
              "      <td>72.0</td>\n",
              "      <td>23.4</td>\n",
              "      <td>19.2</td>\n",
              "      <td>...</td>\n",
              "      <td>0.8</td>\n",
              "      <td>5.1</td>\n",
              "      <td>235.0</td>\n",
              "      <td>66.0</td>\n",
              "      <td>56.0</td>\n",
              "      <td>166.0</td>\n",
              "      <td>15.0</td>\n",
              "      <td>23.0</td>\n",
              "      <td>44.0</td>\n",
              "      <td>5.4</td>\n",
              "    </tr>\n",
              "    <tr>\n",
              "      <th>152</th>\n",
              "      <td>2</td>\n",
              "      <td>31.0</td>\n",
              "      <td>58.2</td>\n",
              "      <td>169.0</td>\n",
              "      <td>20.4</td>\n",
              "      <td>108.0</td>\n",
              "      <td>69.0</td>\n",
              "      <td>73.0</td>\n",
              "      <td>25.0</td>\n",
              "      <td>13.0</td>\n",
              "      <td>...</td>\n",
              "      <td>0.7</td>\n",
              "      <td>4.3</td>\n",
              "      <td>200.0</td>\n",
              "      <td>44.0</td>\n",
              "      <td>56.0</td>\n",
              "      <td>135.0</td>\n",
              "      <td>14.0</td>\n",
              "      <td>21.0</td>\n",
              "      <td>31.0</td>\n",
              "      <td>4.7</td>\n",
              "    </tr>\n",
              "  </tbody>\n",
              "</table>\n",
              "<p>153 rows × 26 columns</p>\n",
              "</div>\n",
              "      <button class=\"colab-df-convert\" onclick=\"convertToInteractive('df-7a84f752-97ac-47e8-a651-9dd2d5450872')\"\n",
              "              title=\"Convert this dataframe to an interactive table.\"\n",
              "              style=\"display:none;\">\n",
              "        \n",
              "  <svg xmlns=\"http://www.w3.org/2000/svg\" height=\"24px\"viewBox=\"0 0 24 24\"\n",
              "       width=\"24px\">\n",
              "    <path d=\"M0 0h24v24H0V0z\" fill=\"none\"/>\n",
              "    <path d=\"M18.56 5.44l.94 2.06.94-2.06 2.06-.94-2.06-.94-.94-2.06-.94 2.06-2.06.94zm-11 1L8.5 8.5l.94-2.06 2.06-.94-2.06-.94L8.5 2.5l-.94 2.06-2.06.94zm10 10l.94 2.06.94-2.06 2.06-.94-2.06-.94-.94-2.06-.94 2.06-2.06.94z\"/><path d=\"M17.41 7.96l-1.37-1.37c-.4-.4-.92-.59-1.43-.59-.52 0-1.04.2-1.43.59L10.3 9.45l-7.72 7.72c-.78.78-.78 2.05 0 2.83L4 21.41c.39.39.9.59 1.41.59.51 0 1.02-.2 1.41-.59l7.78-7.78 2.81-2.81c.8-.78.8-2.07 0-2.86zM5.41 20L4 18.59l7.72-7.72 1.47 1.35L5.41 20z\"/>\n",
              "  </svg>\n",
              "      </button>\n",
              "      \n",
              "  <style>\n",
              "    .colab-df-container {\n",
              "      display:flex;\n",
              "      flex-wrap:wrap;\n",
              "      gap: 12px;\n",
              "    }\n",
              "\n",
              "    .colab-df-convert {\n",
              "      background-color: #E8F0FE;\n",
              "      border: none;\n",
              "      border-radius: 50%;\n",
              "      cursor: pointer;\n",
              "      display: none;\n",
              "      fill: #1967D2;\n",
              "      height: 32px;\n",
              "      padding: 0 0 0 0;\n",
              "      width: 32px;\n",
              "    }\n",
              "\n",
              "    .colab-df-convert:hover {\n",
              "      background-color: #E2EBFA;\n",
              "      box-shadow: 0px 1px 2px rgba(60, 64, 67, 0.3), 0px 1px 3px 1px rgba(60, 64, 67, 0.15);\n",
              "      fill: #174EA6;\n",
              "    }\n",
              "\n",
              "    [theme=dark] .colab-df-convert {\n",
              "      background-color: #3B4455;\n",
              "      fill: #D2E3FC;\n",
              "    }\n",
              "\n",
              "    [theme=dark] .colab-df-convert:hover {\n",
              "      background-color: #434B5C;\n",
              "      box-shadow: 0px 1px 3px 1px rgba(0, 0, 0, 0.15);\n",
              "      filter: drop-shadow(0px 1px 2px rgba(0, 0, 0, 0.3));\n",
              "      fill: #FFFFFF;\n",
              "    }\n",
              "  </style>\n",
              "\n",
              "      <script>\n",
              "        const buttonEl =\n",
              "          document.querySelector('#df-7a84f752-97ac-47e8-a651-9dd2d5450872 button.colab-df-convert');\n",
              "        buttonEl.style.display =\n",
              "          google.colab.kernel.accessAllowed ? 'block' : 'none';\n",
              "\n",
              "        async function convertToInteractive(key) {\n",
              "          const element = document.querySelector('#df-7a84f752-97ac-47e8-a651-9dd2d5450872');\n",
              "          const dataTable =\n",
              "            await google.colab.kernel.invokeFunction('convertToInteractive',\n",
              "                                                     [key], {});\n",
              "          if (!dataTable) return;\n",
              "\n",
              "          const docLinkHtml = 'Like what you see? Visit the ' +\n",
              "            '<a target=\"_blank\" href=https://colab.research.google.com/notebooks/data_table.ipynb>data table notebook</a>'\n",
              "            + ' to learn more about interactive tables.';\n",
              "          element.innerHTML = '';\n",
              "          dataTable['output_type'] = 'display_data';\n",
              "          await google.colab.output.renderOutput(dataTable, element);\n",
              "          const docLink = document.createElement('div');\n",
              "          docLink.innerHTML = docLinkHtml;\n",
              "          element.appendChild(docLink);\n",
              "        }\n",
              "      </script>\n",
              "    </div>\n",
              "  </div>\n",
              "  "
            ]
          },
          "metadata": {},
          "execution_count": 40
        }
      ]
    },
    {
      "cell_type": "markdown",
      "source": [
        "## Imputation using Mean"
      ],
      "metadata": {
        "id": "Q5srQCVpmmxr"
      }
    },
    {
      "cell_type": "code",
      "source": [
        "from sklearn.impute import SimpleImputer"
      ],
      "metadata": {
        "id": "chHokb5Ummxr"
      },
      "execution_count": 41,
      "outputs": []
    },
    {
      "cell_type": "code",
      "source": [
        "t_start = time.time()\n",
        "mean20_imputer = SimpleImputer(strategy='mean')\n",
        "for i in range(1,1001):\n",
        "  globals()[f'imputed_mean20_{i}'] = mean20_imputer.fit_transform(globals()[f'BMI20_{i}'].copy()) #for loop miss forest impputation \n",
        "  globals()[f'MSE_MEAN20_{i}'] = mean_squared_error(data, globals()[f'imputed_mean20_{i}']) # for loop mean_squared_error\n",
        "t_end = time.time()\n",
        "t20_MEAN = (t_end- t_start)"
      ],
      "metadata": {
        "id": "7VclQaj-mmxs"
      },
      "execution_count": 42,
      "outputs": []
    },
    {
      "cell_type": "code",
      "source": [
        "t_start = time.time()\n",
        "mse_mean20_total = 0 \n",
        "MSE_MEAN20_1001 = 0\n",
        "for i in range(0,1001):\n",
        "  mse_mean20_total = mse_mean20_total + globals()[f'MSE_MEAN20_{i+1}']\n",
        "AMSE_BMI20_mean = mse_mean20_total/1000\n",
        "print(f'AMSE_BMI20_mean = {AMSE_BMI20_mean}')\n",
        "t_end = time.time()\n",
        "print(f'เวลาที่ใช้ในการประมวลผล {t_end- t_start} วินาที')\n",
        "print(f'เวลาที่ใช้ในการประมวลผล {(t_end- t_start)/60} นาที')"
      ],
      "metadata": {
        "id": "LzWT-scommxs",
        "colab": {
          "base_uri": "https://localhost:8080/"
        },
        "outputId": "c20f8965-c053-440b-e9fc-ba96165eaffa"
      },
      "execution_count": 43,
      "outputs": [
        {
          "output_type": "stream",
          "name": "stdout",
          "text": [
            "AMSE_BMI20_mean = 0.03822980408357405\n",
            "เวลาที่ใช้ในการประมวลผล 0.0011830329895019531 วินาที\n",
            "เวลาที่ใช้ในการประมวลผล 1.971721649169922e-05 นาที\n"
          ]
        }
      ]
    },
    {
      "cell_type": "markdown",
      "source": [
        "## Imputation using the miss forest"
      ],
      "metadata": {
        "id": "jPm8Yyvymmxs"
      }
    },
    {
      "cell_type": "code",
      "source": [
        "import sys\n",
        "import sklearn.neighbors._base\n",
        "sys.modules['sklearn.neighbors.base'] = sklearn.neighbors._base\n",
        "!pip install missingpy\n",
        "import missingpy\n",
        "from missingpy import MissForest\n",
        "from sklearn.metrics import mean_squared_error"
      ],
      "metadata": {
        "colab": {
          "base_uri": "https://localhost:8080/"
        },
        "outputId": "c200d872-2719-4409-fb2d-3d07a0bc8c88",
        "id": "qSntFelOmmxs"
      },
      "execution_count": 44,
      "outputs": [
        {
          "output_type": "stream",
          "name": "stdout",
          "text": [
            "Looking in indexes: https://pypi.org/simple, https://us-python.pkg.dev/colab-wheels/public/simple/\n",
            "Requirement already satisfied: missingpy in /usr/local/lib/python3.8/dist-packages (0.2.0)\n"
          ]
        }
      ]
    },
    {
      "cell_type": "code",
      "source": [
        "t_start = time.time()\n",
        "MF20_imputer = MissForest()\n",
        "for i in range(1,1001):\n",
        "  globals()[f'imputed_mf20_{i}'] = MF20_imputer.fit_transform(globals()[f'BMI20_{i}'].copy()) #for loop miss forest impputation \n",
        "  globals()[f'MSE_MF20_{i}'] = mean_squared_error(data, globals()[f'imputed_mf20_{i}']) # for loop mean_squared_error\n",
        "t_end = time.time()\n",
        "t20_MF = (t_end- t_start)"
      ],
      "metadata": {
        "id": "Atqzpyu0mmxs"
      },
      "execution_count": null,
      "outputs": []
    },
    {
      "cell_type": "code",
      "source": [
        "t_start = time.time()\n",
        "mse_mf20_total = 0 \n",
        "MSE_MF20_1001 = 0\n",
        "for i in range(0,1001):\n",
        "  mse_mf20_total = mse_mf20_total + globals()[f'MSE_MF20_{i+1}']\n",
        "AMSE_BMI20_mf = mse_mf20_total/1000\n",
        "print(f'AMSE_BMI20_mf = {AMSE_BMI20_mf}')\n",
        "t_end = time.time()\n",
        "print(f'เวลาที่ใช้ในการประมวลผล {t_end- t_start} วินาที')\n",
        "print(f'เวลาที่ใช้ในการประมวลผล {(t_end- t_start)/60} นาที')"
      ],
      "metadata": {
        "id": "YcBt9j5tmmxs",
        "colab": {
          "base_uri": "https://localhost:8080/"
        },
        "outputId": "b9605f74-48b7-4562-cf6b-b7a769a7dd99"
      },
      "execution_count": 46,
      "outputs": [
        {
          "output_type": "stream",
          "name": "stdout",
          "text": [
            "AMSE_BMI20_mf = 0.008880307203871271\n",
            "เวลาที่ใช้ในการประมวลผล 0.001550912857055664 วินาที\n",
            "เวลาที่ใช้ในการประมวลผล 2.5848547617594402e-05 นาที\n"
          ]
        }
      ]
    },
    {
      "cell_type": "markdown",
      "source": [
        "## Imputation using the KNN"
      ],
      "metadata": {
        "id": "c6ooAbE9mmxs"
      }
    },
    {
      "cell_type": "code",
      "source": [
        "from sklearn import neighbors\n",
        "from sklearn.impute import KNNImputer"
      ],
      "metadata": {
        "id": "VWXjdHBJmmxt"
      },
      "execution_count": 47,
      "outputs": []
    },
    {
      "cell_type": "code",
      "source": [
        "t_start = time.time()\n",
        "KNN20_imputer = KNNImputer(n_neighbors = 15)\n",
        "for i in range(1,1001):\n",
        "  globals()[f'imputed_KNN20_{i}'] = KNN20_imputer.fit_transform(globals()[f'BMI20_{i}'].copy())\n",
        "  globals()[f'MSE_KNN20_{i}'] = mean_squared_error(data, globals()[f'imputed_KNN20_{i}'])\n",
        "t_end = time.time()\n",
        "t20_KNN = (t_end- t_start)"
      ],
      "metadata": {
        "id": "aFcobkWqmmxt"
      },
      "execution_count": 48,
      "outputs": []
    },
    {
      "cell_type": "code",
      "source": [
        "t_start = time.time()\n",
        "mse_knn20_total = 0 \n",
        "MSE_KNN20_1001 = 0\n",
        "for i in range(0,1001):\n",
        "  mse_knn20_total = mse_knn20_total + globals()[f'MSE_KNN20_{i+1}']\n",
        "AMSE_BMI20_knn = mse_knn20_total/1000\n",
        "print(f'AMSE_BMI20_knn = {AMSE_BMI20_knn}')\n",
        "t_end = time.time()\n",
        "print(f'เวลาที่ใช้ในการประมวลผล {t_end- t_start} วินาที')\n",
        "print(f'เวลาที่ใช้ในการประมวลผล {(t_end- t_start)/60} นาที')"
      ],
      "metadata": {
        "id": "YAwxOSZjmmxt",
        "colab": {
          "base_uri": "https://localhost:8080/"
        },
        "outputId": "a4bfeb7d-a1d3-44ea-cf88-03ab6a30d42e"
      },
      "execution_count": 49,
      "outputs": [
        {
          "output_type": "stream",
          "name": "stdout",
          "text": [
            "AMSE_BMI20_knn = 0.020678804267918034\n",
            "เวลาที่ใช้ในการประมวลผล 0.0008687973022460938 วินาที\n",
            "เวลาที่ใช้ในการประมวลผล 1.4479955037434896e-05 นาที\n"
          ]
        }
      ]
    },
    {
      "cell_type": "markdown",
      "source": [
        "## Imputation using the MICE"
      ],
      "metadata": {
        "id": "wnzhN2uXmmxt"
      }
    },
    {
      "cell_type": "code",
      "source": [
        "from sklearn.experimental import enable_iterative_imputer\n",
        "from sklearn.impute import IterativeImputer\n",
        "from sklearn.linear_model import LinearRegression\n",
        "from sklearn import svm"
      ],
      "metadata": {
        "id": "ux_ZdCz7mmxt"
      },
      "execution_count": 50,
      "outputs": []
    },
    {
      "cell_type": "markdown",
      "source": [
        "### LinearRegression model"
      ],
      "metadata": {
        "id": "qBsh-oGrmmxt"
      }
    },
    {
      "cell_type": "code",
      "source": [
        "t_start = time.time()\n",
        "lr = LinearRegression()\n",
        "for i in range(1,1001):\n",
        "  imp = IterativeImputer(estimator= lr , max_iter= 10, verbose=2, imputation_order='roman',initial_strategy = 'mean',random_state= i)\n",
        "  globals()[f'imputed_lr20_{i}'] = imp.fit_transform(globals()[f'BMI20_{i}'].copy())\n",
        "  globals()[f'MSE_lr20_{i}'] = mean_squared_error(data, globals()[f'imputed_lr20_{i}'])\n",
        "t_end = time.time()\n",
        "t20_LR = (t_end- t_start)"
      ],
      "metadata": {
        "id": "m-oCWLICmmxt"
      },
      "execution_count": null,
      "outputs": []
    },
    {
      "cell_type": "code",
      "source": [
        "t_start = time.time()\n",
        "mse_lr20_total = 0 \n",
        "MSE_lr20_1001 = 0\n",
        "for i in range(0,1001):\n",
        "  mse_lr20_total = mse_lr20_total + globals()[f'MSE_lr20_{i+1}']\n",
        "AMSE_BMI20_lr = mse_lr20_total/1000\n",
        "print(f'AMSE_BMI20_lr = {AMSE_BMI20_lr}')\n",
        "t_end = time.time()\n",
        "print(f'เวลาที่ใช้ในการประมวลผล {t_end- t_start} วินาที')\n",
        "print(f'เวลาที่ใช้ในการประมวลผล {(t_end- t_start)/60} นาที')"
      ],
      "metadata": {
        "id": "PoasKeKLmmxt",
        "colab": {
          "base_uri": "https://localhost:8080/"
        },
        "outputId": "1219127a-a87d-4556-d73d-370a0fd6e6f1"
      },
      "execution_count": 52,
      "outputs": [
        {
          "output_type": "stream",
          "name": "stdout",
          "text": [
            "AMSE_BMI20_lr = 0.002034222396379551\n",
            "เวลาที่ใช้ในการประมวลผล 0.0010402202606201172 วินาที\n",
            "เวลาที่ใช้ในการประมวลผล 1.733700434366862e-05 นาที\n"
          ]
        }
      ]
    },
    {
      "cell_type": "markdown",
      "source": [
        "### Support Vector Machine model"
      ],
      "metadata": {
        "id": "dp1n9b1wmmxu"
      }
    },
    {
      "cell_type": "code",
      "source": [
        "t_start = time.time()\n",
        "regr = svm.SVR()\n",
        "for i in range(1,1001):\n",
        "  svm_svr = IterativeImputer(estimator= regr, max_iter= 10, verbose=2, imputation_order='roman',initial_strategy = 'mean',random_state= i)\n",
        "  globals()[f'imputed_svm20_{i}'] = svm_svr.fit_transform(globals()[f'BMI20_{i}'].copy())\n",
        "  globals()[f'MSE_svm20_{i}'] = mean_squared_error(data, globals()[f'imputed_svm20_{i}'])\n",
        "t_end = time.time()\n",
        "t20_SVM = (t_end- t_start)"
      ],
      "metadata": {
        "id": "1H1XXo5rmmxu"
      },
      "execution_count": null,
      "outputs": []
    },
    {
      "cell_type": "code",
      "source": [
        "t_start = time.time()\n",
        "mse_svm20_total = 0 \n",
        "MSE_svm20_1001 = 0\n",
        "for i in range(0,1001):\n",
        "  mse_svm20_total = mse_svm20_total + globals()[f'MSE_svm20_{i+1}']\n",
        "AMSE_BMI20_svm = mse_svm20_total/1000\n",
        "print(f'AMSE_BMI20_svm = {AMSE_BMI20_svm}')\n",
        "t_end = time.time()\n",
        "print(f'เวลาที่ใช้ในการประมวลผล {t_end- t_start} วินาที')\n",
        "print(f'เวลาที่ใช้ในการประมวลผล {(t_end- t_start)/60} นาที')"
      ],
      "metadata": {
        "id": "AXvfoiQhmmxu",
        "colab": {
          "base_uri": "https://localhost:8080/"
        },
        "outputId": "cd367fa9-702d-4c42-e86e-94b0e3dce321"
      },
      "execution_count": 54,
      "outputs": [
        {
          "output_type": "stream",
          "name": "stdout",
          "text": [
            "AMSE_BMI20_svm = 0.02119889562606676\n",
            "เวลาที่ใช้ในการประมวลผล 0.0014717578887939453 วินาที\n",
            "เวลาที่ใช้ในการประมวลผล 2.4529298146565757e-05 นาที\n"
          ]
        }
      ]
    },
    {
      "cell_type": "markdown",
      "source": [
        "## Imputation using the EM"
      ],
      "metadata": {
        "id": "-r-sozwOmmxu"
      }
    },
    {
      "cell_type": "markdown",
      "source": [
        "### impy.em"
      ],
      "metadata": {
        "id": "mcM5dZZWmmxu"
      }
    },
    {
      "cell_type": "code",
      "source": [
        "!pip install impyute\n",
        "import impyute as impy"
      ],
      "metadata": {
        "id": "L3zdQDYimmxu",
        "colab": {
          "base_uri": "https://localhost:8080/"
        },
        "outputId": "59500069-aac6-4d09-f110-87285627e3f1"
      },
      "execution_count": 55,
      "outputs": [
        {
          "output_type": "stream",
          "name": "stdout",
          "text": [
            "Looking in indexes: https://pypi.org/simple, https://us-python.pkg.dev/colab-wheels/public/simple/\n",
            "Requirement already satisfied: impyute in /usr/local/lib/python3.8/dist-packages (0.0.8)\n",
            "Requirement already satisfied: scikit-learn in /usr/local/lib/python3.8/dist-packages (from impyute) (1.0.2)\n",
            "Requirement already satisfied: scipy in /usr/local/lib/python3.8/dist-packages (from impyute) (1.7.3)\n",
            "Requirement already satisfied: numpy in /usr/local/lib/python3.8/dist-packages (from impyute) (1.21.6)\n",
            "Requirement already satisfied: threadpoolctl>=2.0.0 in /usr/local/lib/python3.8/dist-packages (from scikit-learn->impyute) (3.1.0)\n",
            "Requirement already satisfied: joblib>=0.11 in /usr/local/lib/python3.8/dist-packages (from scikit-learn->impyute) (1.2.0)\n"
          ]
        }
      ]
    },
    {
      "cell_type": "code",
      "source": [
        "t_start = time.time()\n",
        "for i in range(1,1001):\n",
        "  globals()[f'imputed_impy20_{i}'] = impy.em(globals()[f'BMI20_{i}'].values.copy())\n",
        "  globals()[f'MSE_impy20_{i}'] = mean_squared_error(data, globals()[f'imputed_impy20_{i}'])\n",
        "t_end = time.time()\n",
        "t20_EM = (t_end- t_start)"
      ],
      "metadata": {
        "id": "P6jYA4gMmmxu"
      },
      "execution_count": 56,
      "outputs": []
    },
    {
      "cell_type": "code",
      "source": [
        "t_start = time.time()\n",
        "mse_impy20_total = 0 \n",
        "MSE_impy20_1001 = 0\n",
        "for i in range(0,1001):\n",
        "  mse_impy20_total = mse_impy20_total + globals()[f'MSE_impy20_{i+1}']\n",
        "AMSE_BMI20_impy = mse_impy20_total/1000\n",
        "print(f'AMSE_BMI20_impy = {AMSE_BMI20_impy}')\n",
        "t_end = time.time()\n",
        "print(f'เวลาที่ใช้ในการประมวลผล {t_end- t_start} วินาที')\n",
        "print(f'เวลาที่ใช้ในการประมวลผล {(t_end- t_start)/60} นาที')"
      ],
      "metadata": {
        "id": "YEu3OWtZmmxu",
        "colab": {
          "base_uri": "https://localhost:8080/"
        },
        "outputId": "8568ab56-1fdb-4cdf-a078-521ad449d536"
      },
      "execution_count": 57,
      "outputs": [
        {
          "output_type": "stream",
          "name": "stdout",
          "text": [
            "AMSE_BMI20_impy = 0.07180791774358229\n",
            "เวลาที่ใช้ในการประมวลผล 0.002502918243408203 วินาที\n",
            "เวลาที่ใช้ในการประมวลผล 4.1715304056803386e-05 นาที\n"
          ]
        }
      ]
    },
    {
      "cell_type": "markdown",
      "source": [
        "# 30 % random nan"
      ],
      "metadata": {
        "id": "zaN0bLowuzIT"
      }
    },
    {
      "cell_type": "code",
      "source": [
        "t_start = time.time()\n",
        "for i in range(1,1001):\n",
        "  globals()[f'BMI30_{i}'] = data.copy() # for loop variable name\n",
        "  np.random.seed(i) # for loop seed\n",
        "  n = int((153*30/100)) \n",
        "  index_nan = np.random.choice(globals()[f'BMI30_{i}']['BMI'].size, n, replace=False) #globals()[name dataframe][column name].size\n",
        "  globals()[f'BMI30_{i}']['BMI'].ravel()[index_nan] = np.nan\n",
        "t_end = time.time()\n",
        "print(f'เวลาที่ใช้ในการประมวลผล {t_end- t_start} วินาที')\n",
        "print(f'เวลาที่ใช้ในการประมวลผล {(t_end- t_start)/60} นาที')"
      ],
      "metadata": {
        "id": "m5Q1jaobuzIU",
        "colab": {
          "base_uri": "https://localhost:8080/"
        },
        "outputId": "978795a3-996b-4343-d80f-c46f8e33e629"
      },
      "execution_count": 58,
      "outputs": [
        {
          "output_type": "stream",
          "name": "stdout",
          "text": [
            "เวลาที่ใช้ในการประมวลผล 0.19844627380371094 วินาที\n",
            "เวลาที่ใช้ในการประมวลผล 0.0033074378967285155 นาที\n"
          ]
        }
      ]
    },
    {
      "cell_type": "code",
      "source": [
        "BMI30_1"
      ],
      "metadata": {
        "id": "gBNcDPtSuzIU",
        "colab": {
          "base_uri": "https://localhost:8080/",
          "height": 423
        },
        "outputId": "0b3c1327-d47b-4e71-a795-77da233b7b25"
      },
      "execution_count": 59,
      "outputs": [
        {
          "output_type": "execute_result",
          "data": {
            "text/plain": [
              "     Sex  AgeSYear  Weight  Height   BMI  Systolic  Diastolic  HeartRate  \\\n",
              "0      2      57.0    47.4   153.0  20.2     114.0       75.0       69.0   \n",
              "1      2      24.0    53.2   157.0  21.6     103.0       69.0       78.0   \n",
              "2      2      62.0    54.4   165.0  20.0      95.0       75.0       83.0   \n",
              "3      2      35.0    56.3   161.0  21.7      95.0       57.0       72.0   \n",
              "4      1      46.0    72.3   170.0  25.0     133.0       77.0      107.0   \n",
              "..   ...       ...     ...     ...   ...       ...        ...        ...   \n",
              "148    1      60.0    72.0   170.0  24.9     131.0       74.0       69.0   \n",
              "149    1      58.0    62.0   168.0  22.0     103.0       76.0       72.0   \n",
              "150    2      42.0    55.5   165.0  20.4     102.0       52.0       77.0   \n",
              "151    2      61.0    61.8   159.0  24.4     117.0       60.0       72.0   \n",
              "152    2      31.0    58.2   169.0  20.4     108.0       69.0       73.0   \n",
              "\n",
              "      SMM  Fat Mass  ...  003_Creatinine  004_Uric Acid  005_Cholesterol  \\\n",
              "0    19.3      12.5  ...             1.0            5.0            176.0   \n",
              "1    21.3      14.6  ...             0.8            5.2            159.0   \n",
              "2    21.6      15.2  ...             0.7            4.1            230.0   \n",
              "3    22.5      15.4  ...             0.6            5.0            198.0   \n",
              "4    29.2      19.0  ...             0.9            6.9            194.0   \n",
              "..    ...       ...  ...             ...            ...              ...   \n",
              "148  30.5      13.8  ...             0.9            6.9            182.0   \n",
              "149  27.8      11.9  ...             1.0            6.8            191.0   \n",
              "150  22.9      14.1  ...             0.8            4.7            212.0   \n",
              "151  23.4      19.2  ...             0.8            5.1            235.0   \n",
              "152  25.0      13.0  ...             0.7            4.3            200.0   \n",
              "\n",
              "     006_Triglyceride  008_HDL-C  009_LDL  010_AST  012_ALT  \\\n",
              "0                51.0       72.0     94.0     16.0     16.0   \n",
              "1                45.0       52.0     98.0     13.0     17.0   \n",
              "2                94.0       61.0    151.0     18.0     31.0   \n",
              "3                47.0       68.0    120.0     16.0     20.0   \n",
              "4                63.0       60.0    122.0     15.0     19.0   \n",
              "..                ...        ...      ...      ...      ...   \n",
              "148             179.0       39.0    107.0     36.0     31.0   \n",
              "149              62.0       47.0    132.0     16.0     33.0   \n",
              "150              68.0       63.0    135.0     11.0     16.0   \n",
              "151              66.0       56.0    166.0     15.0     23.0   \n",
              "152              44.0       56.0    135.0     14.0     21.0   \n",
              "\n",
              "     013_Alkaline Phos  071_HbA1c  \n",
              "0                 62.0        5.1  \n",
              "1                 50.0        5.4  \n",
              "2                 76.0        5.6  \n",
              "3                 35.0        5.1  \n",
              "4                 69.0        5.2  \n",
              "..                 ...        ...  \n",
              "148               79.0        6.5  \n",
              "149               42.0        6.8  \n",
              "150               33.0        4.8  \n",
              "151               44.0        5.4  \n",
              "152               31.0        4.7  \n",
              "\n",
              "[153 rows x 26 columns]"
            ],
            "text/html": [
              "\n",
              "  <div id=\"df-99956e41-5bed-4d1f-9bf7-40bca5e4db18\">\n",
              "    <div class=\"colab-df-container\">\n",
              "      <div>\n",
              "<style scoped>\n",
              "    .dataframe tbody tr th:only-of-type {\n",
              "        vertical-align: middle;\n",
              "    }\n",
              "\n",
              "    .dataframe tbody tr th {\n",
              "        vertical-align: top;\n",
              "    }\n",
              "\n",
              "    .dataframe thead th {\n",
              "        text-align: right;\n",
              "    }\n",
              "</style>\n",
              "<table border=\"1\" class=\"dataframe\">\n",
              "  <thead>\n",
              "    <tr style=\"text-align: right;\">\n",
              "      <th></th>\n",
              "      <th>Sex</th>\n",
              "      <th>AgeSYear</th>\n",
              "      <th>Weight</th>\n",
              "      <th>Height</th>\n",
              "      <th>BMI</th>\n",
              "      <th>Systolic</th>\n",
              "      <th>Diastolic</th>\n",
              "      <th>HeartRate</th>\n",
              "      <th>SMM</th>\n",
              "      <th>Fat Mass</th>\n",
              "      <th>...</th>\n",
              "      <th>003_Creatinine</th>\n",
              "      <th>004_Uric Acid</th>\n",
              "      <th>005_Cholesterol</th>\n",
              "      <th>006_Triglyceride</th>\n",
              "      <th>008_HDL-C</th>\n",
              "      <th>009_LDL</th>\n",
              "      <th>010_AST</th>\n",
              "      <th>012_ALT</th>\n",
              "      <th>013_Alkaline Phos</th>\n",
              "      <th>071_HbA1c</th>\n",
              "    </tr>\n",
              "  </thead>\n",
              "  <tbody>\n",
              "    <tr>\n",
              "      <th>0</th>\n",
              "      <td>2</td>\n",
              "      <td>57.0</td>\n",
              "      <td>47.4</td>\n",
              "      <td>153.0</td>\n",
              "      <td>20.2</td>\n",
              "      <td>114.0</td>\n",
              "      <td>75.0</td>\n",
              "      <td>69.0</td>\n",
              "      <td>19.3</td>\n",
              "      <td>12.5</td>\n",
              "      <td>...</td>\n",
              "      <td>1.0</td>\n",
              "      <td>5.0</td>\n",
              "      <td>176.0</td>\n",
              "      <td>51.0</td>\n",
              "      <td>72.0</td>\n",
              "      <td>94.0</td>\n",
              "      <td>16.0</td>\n",
              "      <td>16.0</td>\n",
              "      <td>62.0</td>\n",
              "      <td>5.1</td>\n",
              "    </tr>\n",
              "    <tr>\n",
              "      <th>1</th>\n",
              "      <td>2</td>\n",
              "      <td>24.0</td>\n",
              "      <td>53.2</td>\n",
              "      <td>157.0</td>\n",
              "      <td>21.6</td>\n",
              "      <td>103.0</td>\n",
              "      <td>69.0</td>\n",
              "      <td>78.0</td>\n",
              "      <td>21.3</td>\n",
              "      <td>14.6</td>\n",
              "      <td>...</td>\n",
              "      <td>0.8</td>\n",
              "      <td>5.2</td>\n",
              "      <td>159.0</td>\n",
              "      <td>45.0</td>\n",
              "      <td>52.0</td>\n",
              "      <td>98.0</td>\n",
              "      <td>13.0</td>\n",
              "      <td>17.0</td>\n",
              "      <td>50.0</td>\n",
              "      <td>5.4</td>\n",
              "    </tr>\n",
              "    <tr>\n",
              "      <th>2</th>\n",
              "      <td>2</td>\n",
              "      <td>62.0</td>\n",
              "      <td>54.4</td>\n",
              "      <td>165.0</td>\n",
              "      <td>20.0</td>\n",
              "      <td>95.0</td>\n",
              "      <td>75.0</td>\n",
              "      <td>83.0</td>\n",
              "      <td>21.6</td>\n",
              "      <td>15.2</td>\n",
              "      <td>...</td>\n",
              "      <td>0.7</td>\n",
              "      <td>4.1</td>\n",
              "      <td>230.0</td>\n",
              "      <td>94.0</td>\n",
              "      <td>61.0</td>\n",
              "      <td>151.0</td>\n",
              "      <td>18.0</td>\n",
              "      <td>31.0</td>\n",
              "      <td>76.0</td>\n",
              "      <td>5.6</td>\n",
              "    </tr>\n",
              "    <tr>\n",
              "      <th>3</th>\n",
              "      <td>2</td>\n",
              "      <td>35.0</td>\n",
              "      <td>56.3</td>\n",
              "      <td>161.0</td>\n",
              "      <td>21.7</td>\n",
              "      <td>95.0</td>\n",
              "      <td>57.0</td>\n",
              "      <td>72.0</td>\n",
              "      <td>22.5</td>\n",
              "      <td>15.4</td>\n",
              "      <td>...</td>\n",
              "      <td>0.6</td>\n",
              "      <td>5.0</td>\n",
              "      <td>198.0</td>\n",
              "      <td>47.0</td>\n",
              "      <td>68.0</td>\n",
              "      <td>120.0</td>\n",
              "      <td>16.0</td>\n",
              "      <td>20.0</td>\n",
              "      <td>35.0</td>\n",
              "      <td>5.1</td>\n",
              "    </tr>\n",
              "    <tr>\n",
              "      <th>4</th>\n",
              "      <td>1</td>\n",
              "      <td>46.0</td>\n",
              "      <td>72.3</td>\n",
              "      <td>170.0</td>\n",
              "      <td>25.0</td>\n",
              "      <td>133.0</td>\n",
              "      <td>77.0</td>\n",
              "      <td>107.0</td>\n",
              "      <td>29.2</td>\n",
              "      <td>19.0</td>\n",
              "      <td>...</td>\n",
              "      <td>0.9</td>\n",
              "      <td>6.9</td>\n",
              "      <td>194.0</td>\n",
              "      <td>63.0</td>\n",
              "      <td>60.0</td>\n",
              "      <td>122.0</td>\n",
              "      <td>15.0</td>\n",
              "      <td>19.0</td>\n",
              "      <td>69.0</td>\n",
              "      <td>5.2</td>\n",
              "    </tr>\n",
              "    <tr>\n",
              "      <th>...</th>\n",
              "      <td>...</td>\n",
              "      <td>...</td>\n",
              "      <td>...</td>\n",
              "      <td>...</td>\n",
              "      <td>...</td>\n",
              "      <td>...</td>\n",
              "      <td>...</td>\n",
              "      <td>...</td>\n",
              "      <td>...</td>\n",
              "      <td>...</td>\n",
              "      <td>...</td>\n",
              "      <td>...</td>\n",
              "      <td>...</td>\n",
              "      <td>...</td>\n",
              "      <td>...</td>\n",
              "      <td>...</td>\n",
              "      <td>...</td>\n",
              "      <td>...</td>\n",
              "      <td>...</td>\n",
              "      <td>...</td>\n",
              "      <td>...</td>\n",
              "    </tr>\n",
              "    <tr>\n",
              "      <th>148</th>\n",
              "      <td>1</td>\n",
              "      <td>60.0</td>\n",
              "      <td>72.0</td>\n",
              "      <td>170.0</td>\n",
              "      <td>24.9</td>\n",
              "      <td>131.0</td>\n",
              "      <td>74.0</td>\n",
              "      <td>69.0</td>\n",
              "      <td>30.5</td>\n",
              "      <td>13.8</td>\n",
              "      <td>...</td>\n",
              "      <td>0.9</td>\n",
              "      <td>6.9</td>\n",
              "      <td>182.0</td>\n",
              "      <td>179.0</td>\n",
              "      <td>39.0</td>\n",
              "      <td>107.0</td>\n",
              "      <td>36.0</td>\n",
              "      <td>31.0</td>\n",
              "      <td>79.0</td>\n",
              "      <td>6.5</td>\n",
              "    </tr>\n",
              "    <tr>\n",
              "      <th>149</th>\n",
              "      <td>1</td>\n",
              "      <td>58.0</td>\n",
              "      <td>62.0</td>\n",
              "      <td>168.0</td>\n",
              "      <td>22.0</td>\n",
              "      <td>103.0</td>\n",
              "      <td>76.0</td>\n",
              "      <td>72.0</td>\n",
              "      <td>27.8</td>\n",
              "      <td>11.9</td>\n",
              "      <td>...</td>\n",
              "      <td>1.0</td>\n",
              "      <td>6.8</td>\n",
              "      <td>191.0</td>\n",
              "      <td>62.0</td>\n",
              "      <td>47.0</td>\n",
              "      <td>132.0</td>\n",
              "      <td>16.0</td>\n",
              "      <td>33.0</td>\n",
              "      <td>42.0</td>\n",
              "      <td>6.8</td>\n",
              "    </tr>\n",
              "    <tr>\n",
              "      <th>150</th>\n",
              "      <td>2</td>\n",
              "      <td>42.0</td>\n",
              "      <td>55.5</td>\n",
              "      <td>165.0</td>\n",
              "      <td>20.4</td>\n",
              "      <td>102.0</td>\n",
              "      <td>52.0</td>\n",
              "      <td>77.0</td>\n",
              "      <td>22.9</td>\n",
              "      <td>14.1</td>\n",
              "      <td>...</td>\n",
              "      <td>0.8</td>\n",
              "      <td>4.7</td>\n",
              "      <td>212.0</td>\n",
              "      <td>68.0</td>\n",
              "      <td>63.0</td>\n",
              "      <td>135.0</td>\n",
              "      <td>11.0</td>\n",
              "      <td>16.0</td>\n",
              "      <td>33.0</td>\n",
              "      <td>4.8</td>\n",
              "    </tr>\n",
              "    <tr>\n",
              "      <th>151</th>\n",
              "      <td>2</td>\n",
              "      <td>61.0</td>\n",
              "      <td>61.8</td>\n",
              "      <td>159.0</td>\n",
              "      <td>24.4</td>\n",
              "      <td>117.0</td>\n",
              "      <td>60.0</td>\n",
              "      <td>72.0</td>\n",
              "      <td>23.4</td>\n",
              "      <td>19.2</td>\n",
              "      <td>...</td>\n",
              "      <td>0.8</td>\n",
              "      <td>5.1</td>\n",
              "      <td>235.0</td>\n",
              "      <td>66.0</td>\n",
              "      <td>56.0</td>\n",
              "      <td>166.0</td>\n",
              "      <td>15.0</td>\n",
              "      <td>23.0</td>\n",
              "      <td>44.0</td>\n",
              "      <td>5.4</td>\n",
              "    </tr>\n",
              "    <tr>\n",
              "      <th>152</th>\n",
              "      <td>2</td>\n",
              "      <td>31.0</td>\n",
              "      <td>58.2</td>\n",
              "      <td>169.0</td>\n",
              "      <td>20.4</td>\n",
              "      <td>108.0</td>\n",
              "      <td>69.0</td>\n",
              "      <td>73.0</td>\n",
              "      <td>25.0</td>\n",
              "      <td>13.0</td>\n",
              "      <td>...</td>\n",
              "      <td>0.7</td>\n",
              "      <td>4.3</td>\n",
              "      <td>200.0</td>\n",
              "      <td>44.0</td>\n",
              "      <td>56.0</td>\n",
              "      <td>135.0</td>\n",
              "      <td>14.0</td>\n",
              "      <td>21.0</td>\n",
              "      <td>31.0</td>\n",
              "      <td>4.7</td>\n",
              "    </tr>\n",
              "  </tbody>\n",
              "</table>\n",
              "<p>153 rows × 26 columns</p>\n",
              "</div>\n",
              "      <button class=\"colab-df-convert\" onclick=\"convertToInteractive('df-99956e41-5bed-4d1f-9bf7-40bca5e4db18')\"\n",
              "              title=\"Convert this dataframe to an interactive table.\"\n",
              "              style=\"display:none;\">\n",
              "        \n",
              "  <svg xmlns=\"http://www.w3.org/2000/svg\" height=\"24px\"viewBox=\"0 0 24 24\"\n",
              "       width=\"24px\">\n",
              "    <path d=\"M0 0h24v24H0V0z\" fill=\"none\"/>\n",
              "    <path d=\"M18.56 5.44l.94 2.06.94-2.06 2.06-.94-2.06-.94-.94-2.06-.94 2.06-2.06.94zm-11 1L8.5 8.5l.94-2.06 2.06-.94-2.06-.94L8.5 2.5l-.94 2.06-2.06.94zm10 10l.94 2.06.94-2.06 2.06-.94-2.06-.94-.94-2.06-.94 2.06-2.06.94z\"/><path d=\"M17.41 7.96l-1.37-1.37c-.4-.4-.92-.59-1.43-.59-.52 0-1.04.2-1.43.59L10.3 9.45l-7.72 7.72c-.78.78-.78 2.05 0 2.83L4 21.41c.39.39.9.59 1.41.59.51 0 1.02-.2 1.41-.59l7.78-7.78 2.81-2.81c.8-.78.8-2.07 0-2.86zM5.41 20L4 18.59l7.72-7.72 1.47 1.35L5.41 20z\"/>\n",
              "  </svg>\n",
              "      </button>\n",
              "      \n",
              "  <style>\n",
              "    .colab-df-container {\n",
              "      display:flex;\n",
              "      flex-wrap:wrap;\n",
              "      gap: 12px;\n",
              "    }\n",
              "\n",
              "    .colab-df-convert {\n",
              "      background-color: #E8F0FE;\n",
              "      border: none;\n",
              "      border-radius: 50%;\n",
              "      cursor: pointer;\n",
              "      display: none;\n",
              "      fill: #1967D2;\n",
              "      height: 32px;\n",
              "      padding: 0 0 0 0;\n",
              "      width: 32px;\n",
              "    }\n",
              "\n",
              "    .colab-df-convert:hover {\n",
              "      background-color: #E2EBFA;\n",
              "      box-shadow: 0px 1px 2px rgba(60, 64, 67, 0.3), 0px 1px 3px 1px rgba(60, 64, 67, 0.15);\n",
              "      fill: #174EA6;\n",
              "    }\n",
              "\n",
              "    [theme=dark] .colab-df-convert {\n",
              "      background-color: #3B4455;\n",
              "      fill: #D2E3FC;\n",
              "    }\n",
              "\n",
              "    [theme=dark] .colab-df-convert:hover {\n",
              "      background-color: #434B5C;\n",
              "      box-shadow: 0px 1px 3px 1px rgba(0, 0, 0, 0.15);\n",
              "      filter: drop-shadow(0px 1px 2px rgba(0, 0, 0, 0.3));\n",
              "      fill: #FFFFFF;\n",
              "    }\n",
              "  </style>\n",
              "\n",
              "      <script>\n",
              "        const buttonEl =\n",
              "          document.querySelector('#df-99956e41-5bed-4d1f-9bf7-40bca5e4db18 button.colab-df-convert');\n",
              "        buttonEl.style.display =\n",
              "          google.colab.kernel.accessAllowed ? 'block' : 'none';\n",
              "\n",
              "        async function convertToInteractive(key) {\n",
              "          const element = document.querySelector('#df-99956e41-5bed-4d1f-9bf7-40bca5e4db18');\n",
              "          const dataTable =\n",
              "            await google.colab.kernel.invokeFunction('convertToInteractive',\n",
              "                                                     [key], {});\n",
              "          if (!dataTable) return;\n",
              "\n",
              "          const docLinkHtml = 'Like what you see? Visit the ' +\n",
              "            '<a target=\"_blank\" href=https://colab.research.google.com/notebooks/data_table.ipynb>data table notebook</a>'\n",
              "            + ' to learn more about interactive tables.';\n",
              "          element.innerHTML = '';\n",
              "          dataTable['output_type'] = 'display_data';\n",
              "          await google.colab.output.renderOutput(dataTable, element);\n",
              "          const docLink = document.createElement('div');\n",
              "          docLink.innerHTML = docLinkHtml;\n",
              "          element.appendChild(docLink);\n",
              "        }\n",
              "      </script>\n",
              "    </div>\n",
              "  </div>\n",
              "  "
            ]
          },
          "metadata": {},
          "execution_count": 59
        }
      ]
    },
    {
      "cell_type": "markdown",
      "source": [
        "## Imputation using Mean"
      ],
      "metadata": {
        "id": "QVRZUJUGuzIU"
      }
    },
    {
      "cell_type": "code",
      "source": [
        "from sklearn.impute import SimpleImputer"
      ],
      "metadata": {
        "id": "1JOFyiYHuzIU"
      },
      "execution_count": 60,
      "outputs": []
    },
    {
      "cell_type": "code",
      "source": [
        "t_start = time.time()\n",
        "mean30_imputer = SimpleImputer(strategy='mean')\n",
        "for i in range(1,1001):\n",
        "  globals()[f'imputed_mean30_{i}'] = mean30_imputer.fit_transform(globals()[f'BMI30_{i}'].copy()) #for loop miss forest impputation \n",
        "  globals()[f'MSE_MEAN30_{i}'] = mean_squared_error(data, globals()[f'imputed_mean30_{i}']) # for loop mean_squared_error\n",
        "t_end = time.time()\n",
        "t30_MEAN = (t_end- t_start)"
      ],
      "metadata": {
        "id": "BMQJ2Q9uuzIU"
      },
      "execution_count": 61,
      "outputs": []
    },
    {
      "cell_type": "code",
      "source": [
        "t_start = time.time()\n",
        "mse_mean30_total = 0 \n",
        "MSE_MEAN30_1001 = 0\n",
        "for i in range(0,1001):\n",
        "  mse_mean30_total = mse_mean30_total + globals()[f'MSE_MEAN30_{i+1}']\n",
        "AMSE_BMI30_mean = mse_mean30_total/1000\n",
        "print(f'AMSE_BMI30_mean = {AMSE_BMI30_mean}')\n",
        "t_end = time.time()\n",
        "print(f'เวลาที่ใช้ในการประมวลผล {t_end- t_start} วินาที')\n",
        "print(f'เวลาที่ใช้ในการประมวลผล {(t_end- t_start)/60} นาที')"
      ],
      "metadata": {
        "id": "us-bmwdEuzIU",
        "colab": {
          "base_uri": "https://localhost:8080/"
        },
        "outputId": "75556e25-3c56-4cfc-9c0c-93bd72166c56"
      },
      "execution_count": 62,
      "outputs": [
        {
          "output_type": "stream",
          "name": "stdout",
          "text": [
            "AMSE_BMI30_mean = 0.05790382071687489\n",
            "เวลาที่ใช้ในการประมวลผล 0.001466512680053711 วินาที\n",
            "เวลาที่ใช้ในการประมวลผล 2.4441878000895182e-05 นาที\n"
          ]
        }
      ]
    },
    {
      "cell_type": "markdown",
      "source": [
        "## Imputation using the miss forest"
      ],
      "metadata": {
        "id": "ZOjyFyeKuzIV"
      }
    },
    {
      "cell_type": "code",
      "source": [
        "import sys\n",
        "import sklearn.neighbors._base\n",
        "sys.modules['sklearn.neighbors.base'] = sklearn.neighbors._base\n",
        "!pip install missingpy\n",
        "import missingpy\n",
        "from missingpy import MissForest\n",
        "from sklearn.metrics import mean_squared_error"
      ],
      "metadata": {
        "id": "acamNyLHuzIV",
        "colab": {
          "base_uri": "https://localhost:8080/"
        },
        "outputId": "4d0094e1-3f2a-4176-a2b8-b454897cfa1a"
      },
      "execution_count": 63,
      "outputs": [
        {
          "output_type": "stream",
          "name": "stdout",
          "text": [
            "Looking in indexes: https://pypi.org/simple, https://us-python.pkg.dev/colab-wheels/public/simple/\n",
            "Requirement already satisfied: missingpy in /usr/local/lib/python3.8/dist-packages (0.2.0)\n"
          ]
        }
      ]
    },
    {
      "cell_type": "code",
      "source": [
        "t_start = time.time()\n",
        "MF30_imputer = MissForest()\n",
        "for i in range(1,1001):\n",
        "  globals()[f'imputed_mf30_{i}'] = MF30_imputer.fit_transform(globals()[f'BMI30_{i}'].copy()) #for loop miss forest impputation \n",
        "  globals()[f'MSE_MF30_{i}'] = mean_squared_error(data, globals()[f'imputed_mf30_{i}']) # for loop mean_squared_error\n",
        "t_end = time.time()\n",
        "t30_MF = (t_end- t_start)"
      ],
      "metadata": {
        "id": "fX6tp59-uzIV"
      },
      "execution_count": null,
      "outputs": []
    },
    {
      "cell_type": "code",
      "source": [
        "t_start = time.time()\n",
        "mse_mf30_total = 0 \n",
        "MSE_MF30_1001 = 0\n",
        "for i in range(0,1001):\n",
        "  mse_mf30_total = mse_mf30_total + globals()[f'MSE_MF30_{i+1}']\n",
        "AMSE_BMI30_mf = mse_mf30_total/1000\n",
        "print(f'AMSE_BMI30_mf = {AMSE_BMI30_mf}')\n",
        "t_end = time.time()\n",
        "print(f'เวลาที่ใช้ในการประมวลผล {t_end- t_start} วินาที')\n",
        "print(f'เวลาที่ใช้ในการประมวลผล {(t_end- t_start)/60} นาที')"
      ],
      "metadata": {
        "id": "XwaS1AV-uzIV",
        "colab": {
          "base_uri": "https://localhost:8080/"
        },
        "outputId": "212e9c89-8c26-4191-ed14-0b50c74632eb"
      },
      "execution_count": 65,
      "outputs": [
        {
          "output_type": "stream",
          "name": "stdout",
          "text": [
            "AMSE_BMI30_mf = 0.01418671544544997\n",
            "เวลาที่ใช้ในการประมวลผล 0.0010428428649902344 วินาที\n",
            "เวลาที่ใช้ในการประมวลผล 1.7380714416503908e-05 นาที\n"
          ]
        }
      ]
    },
    {
      "cell_type": "markdown",
      "source": [
        "## Imputation using the KNN"
      ],
      "metadata": {
        "id": "T_wph6E1uzIV"
      }
    },
    {
      "cell_type": "code",
      "source": [
        "from sklearn import neighbors\n",
        "from sklearn.impute import KNNImputer"
      ],
      "metadata": {
        "id": "hELFhk5guzIV"
      },
      "execution_count": 66,
      "outputs": []
    },
    {
      "cell_type": "code",
      "source": [
        "t_start = time.time()\n",
        "KNN30_imputer = KNNImputer(n_neighbors = 15)\n",
        "for i in range(1,1001):\n",
        "  globals()[f'imputed_KNN30_{i}'] = KNN30_imputer.fit_transform(globals()[f'BMI30_{i}'].copy())\n",
        "  globals()[f'MSE_KNN30_{i}'] = mean_squared_error(data, globals()[f'imputed_KNN30_{i}'])\n",
        "t_end = time.time()\n",
        "t30_KNN = (t_end- t_start)"
      ],
      "metadata": {
        "id": "D8MXMd1JuzIV"
      },
      "execution_count": 67,
      "outputs": []
    },
    {
      "cell_type": "code",
      "source": [
        "t_start = time.time()\n",
        "mse_knn30_total = 0 \n",
        "MSE_KNN30_1001 = 0\n",
        "for i in range(0,1001):\n",
        "  mse_knn30_total = mse_knn30_total + globals()[f'MSE_KNN30_{i+1}']\n",
        "AMSE_BMI30_knn = mse_knn30_total/1000\n",
        "print(f'AMSE_BMI30_knn = {AMSE_BMI30_knn}')\n",
        "t_end = time.time()\n",
        "print(f'เวลาที่ใช้ในการประมวลผล {t_end- t_start} วินาที')\n",
        "print(f'เวลาที่ใช้ในการประมวลผล {(t_end- t_start)/60} นาที')"
      ],
      "metadata": {
        "id": "3C9AWGthuzIV",
        "colab": {
          "base_uri": "https://localhost:8080/"
        },
        "outputId": "bf2fc762-1ef1-46eb-f94b-8ec9a6128ff3"
      },
      "execution_count": 68,
      "outputs": [
        {
          "output_type": "stream",
          "name": "stdout",
          "text": [
            "AMSE_BMI30_knn = 0.03153946617507399\n",
            "เวลาที่ใช้ในการประมวลผล 0.0008554458618164062 วินาที\n",
            "เวลาที่ใช้ในการประมวลผล 1.4257431030273437e-05 นาที\n"
          ]
        }
      ]
    },
    {
      "cell_type": "markdown",
      "source": [
        "## Imputation using the MICE"
      ],
      "metadata": {
        "id": "2npPu6n3uzIW"
      }
    },
    {
      "cell_type": "code",
      "source": [
        "from sklearn.experimental import enable_iterative_imputer\n",
        "from sklearn.impute import IterativeImputer\n",
        "from sklearn.linear_model import LinearRegression\n",
        "from sklearn import svm"
      ],
      "metadata": {
        "id": "x-Jdq67zuzIW"
      },
      "execution_count": 69,
      "outputs": []
    },
    {
      "cell_type": "markdown",
      "source": [
        "### LinearRegression model"
      ],
      "metadata": {
        "id": "ndI0t5PBuzIW"
      }
    },
    {
      "cell_type": "code",
      "source": [
        "t_start = time.time()\n",
        "lr = LinearRegression()\n",
        "for i in range(1,1001):\n",
        "  imp = IterativeImputer(estimator= lr , max_iter= 10, verbose=2, imputation_order='roman',initial_strategy = 'mean',random_state= i)\n",
        "  globals()[f'imputed_lr30_{i}'] = imp.fit_transform(globals()[f'BMI30_{i}'].copy())\n",
        "  globals()[f'MSE_lr30_{i}'] = mean_squared_error(data, globals()[f'imputed_lr30_{i}'])\n",
        "t_end = time.time()\n",
        "t30_LR = (t_end- t_start)"
      ],
      "metadata": {
        "id": "Yw5f7th9uzIW"
      },
      "execution_count": null,
      "outputs": []
    },
    {
      "cell_type": "code",
      "source": [
        "t_start = time.time()\n",
        "mse_lr30_total = 0 \n",
        "MSE_lr30_1001 = 0\n",
        "for i in range(0,1001):\n",
        "  mse_lr30_total = mse_lr30_total + globals()[f'MSE_lr30_{i+1}']\n",
        "AMSE_BMI30_lr = mse_lr30_total/1000\n",
        "print(f'AMSE_BMI30_lr = {AMSE_BMI30_lr}')\n",
        "t_end = time.time()\n",
        "print(f'เวลาที่ใช้ในการประมวลผล {t_end- t_start} วินาที')\n",
        "print(f'เวลาที่ใช้ในการประมวลผล {(t_end- t_start)/60} นาที')"
      ],
      "metadata": {
        "id": "2MQgk_fjuzIW",
        "colab": {
          "base_uri": "https://localhost:8080/"
        },
        "outputId": "95ff480c-bd38-4fbe-d626-da093f857646"
      },
      "execution_count": 71,
      "outputs": [
        {
          "output_type": "stream",
          "name": "stdout",
          "text": [
            "AMSE_BMI30_lr = 0.0045367594133482216\n",
            "เวลาที่ใช้ในการประมวลผล 0.0015501976013183594 วินาที\n",
            "เวลาที่ใช้ในการประมวลผล 2.583662668863932e-05 นาที\n"
          ]
        }
      ]
    },
    {
      "cell_type": "markdown",
      "source": [
        "### Support Vector Machine model"
      ],
      "metadata": {
        "id": "1VoyXYTouzIW"
      }
    },
    {
      "cell_type": "code",
      "source": [
        "t_start = time.time()\n",
        "regr = svm.SVR()\n",
        "for i in range(1,1001):\n",
        "  svm_svr = IterativeImputer(estimator= regr, max_iter= 10, verbose=2, imputation_order='roman',initial_strategy = 'mean',random_state= i)\n",
        "  globals()[f'imputed_svm30_{i}'] = svm_svr.fit_transform(globals()[f'BMI30_{i}'].copy())\n",
        "  globals()[f'MSE_svm30_{i}'] = mean_squared_error(data, globals()[f'imputed_svm30_{i}'])\n",
        "t_end = time.time()\n",
        "t30_SVM = (t_end- t_start)"
      ],
      "metadata": {
        "id": "OeUfrN0wuzIW"
      },
      "execution_count": null,
      "outputs": []
    },
    {
      "cell_type": "code",
      "source": [
        "t_start = time.time()\n",
        "mse_svm30_total = 0 \n",
        "MSE_svm30_1001 = 0\n",
        "for i in range(0,1001):\n",
        "  mse_svm30_total = mse_svm30_total + globals()[f'MSE_svm30_{i+1}']\n",
        "AMSE_BMI30_svm = mse_svm30_total/1000\n",
        "print(f'AMSE_BMI30_svm = {AMSE_BMI30_svm}')\n",
        "t_end = time.time()\n",
        "print(f'เวลาที่ใช้ในการประมวลผล {t_end- t_start} วินาที')\n",
        "print(f'เวลาที่ใช้ในการประมวลผล {(t_end- t_start)/60} นาที')"
      ],
      "metadata": {
        "id": "0_K5XC5guzIW",
        "colab": {
          "base_uri": "https://localhost:8080/"
        },
        "outputId": "6f0d1626-6c3c-48c9-ff30-92223bccb44e"
      },
      "execution_count": 73,
      "outputs": [
        {
          "output_type": "stream",
          "name": "stdout",
          "text": [
            "AMSE_BMI30_svm = 0.033512204174903165\n",
            "เวลาที่ใช้ในการประมวลผล 0.0027587413787841797 วินาที\n",
            "เวลาที่ใช้ในการประมวลผล 4.597902297973633e-05 นาที\n"
          ]
        }
      ]
    },
    {
      "cell_type": "markdown",
      "source": [
        "## Imputation using the EM"
      ],
      "metadata": {
        "id": "PAsAQUc0uzIW"
      }
    },
    {
      "cell_type": "markdown",
      "source": [
        "### impy.em"
      ],
      "metadata": {
        "id": "BM_Pj2_TuzIX"
      }
    },
    {
      "cell_type": "code",
      "source": [
        "!pip install impyute\n",
        "import impyute as impy"
      ],
      "metadata": {
        "id": "QCZbBPzWuzIX",
        "colab": {
          "base_uri": "https://localhost:8080/"
        },
        "outputId": "dfd46a87-ded5-4174-de14-e271406e3f33"
      },
      "execution_count": 74,
      "outputs": [
        {
          "output_type": "stream",
          "name": "stdout",
          "text": [
            "Looking in indexes: https://pypi.org/simple, https://us-python.pkg.dev/colab-wheels/public/simple/\n",
            "Requirement already satisfied: impyute in /usr/local/lib/python3.8/dist-packages (0.0.8)\n",
            "Requirement already satisfied: scikit-learn in /usr/local/lib/python3.8/dist-packages (from impyute) (1.0.2)\n",
            "Requirement already satisfied: scipy in /usr/local/lib/python3.8/dist-packages (from impyute) (1.7.3)\n",
            "Requirement already satisfied: numpy in /usr/local/lib/python3.8/dist-packages (from impyute) (1.21.6)\n",
            "Requirement already satisfied: threadpoolctl>=2.0.0 in /usr/local/lib/python3.8/dist-packages (from scikit-learn->impyute) (3.1.0)\n",
            "Requirement already satisfied: joblib>=0.11 in /usr/local/lib/python3.8/dist-packages (from scikit-learn->impyute) (1.2.0)\n"
          ]
        }
      ]
    },
    {
      "cell_type": "code",
      "source": [
        "t_start = time.time()\n",
        "for i in range(1,1001):\n",
        "  globals()[f'imputed_impy30_{i}'] = impy.em(globals()[f'BMI30_{i}'].values.copy())\n",
        "  globals()[f'MSE_impy30_{i}'] = mean_squared_error(data, globals()[f'imputed_impy30_{i}'])\n",
        "t_end = time.time()\n",
        "t30_EM = (t_end- t_start)"
      ],
      "metadata": {
        "id": "plNiFqusuzIX"
      },
      "execution_count": 75,
      "outputs": []
    },
    {
      "cell_type": "code",
      "source": [
        "t_start = time.time()\n",
        "mse_impy30_total = 0 \n",
        "MSE_impy30_1001 = 0\n",
        "for i in range(0,1001):\n",
        "  mse_impy30_total = mse_impy30_total + globals()[f'MSE_impy30_{i+1}']\n",
        "AMSE_BMI30_impy = mse_impy30_total/1000\n",
        "print(f'AMSE_BMI30_impy = {AMSE_BMI30_impy}')\n",
        "t_end = time.time()\n",
        "print(f'เวลาที่ใช้ในการประมวลผล {t_end- t_start} วินาที')\n",
        "print(f'เวลาที่ใช้ในการประมวลผล {(t_end- t_start)/60} นาที')"
      ],
      "metadata": {
        "id": "XeeSDFPYuzIX",
        "colab": {
          "base_uri": "https://localhost:8080/"
        },
        "outputId": "fef18fd0-cf06-4387-f8c0-1709784d7361"
      },
      "execution_count": 76,
      "outputs": [
        {
          "output_type": "stream",
          "name": "stdout",
          "text": [
            "AMSE_BMI30_impy = 0.10842059114812652\n",
            "เวลาที่ใช้ในการประมวลผล 0.001741170883178711 วินาที\n",
            "เวลาที่ใช้ในการประมวลผล 2.9019514719645183e-05 นาที\n"
          ]
        }
      ]
    },
    {
      "cell_type": "code",
      "source": [],
      "metadata": {
        "id": "ZBwfCHFSuzIX"
      },
      "execution_count": 76,
      "outputs": []
    },
    {
      "cell_type": "markdown",
      "source": [
        "# 40 % random nan"
      ],
      "metadata": {
        "id": "wgXT6R6o3M70"
      }
    },
    {
      "cell_type": "code",
      "source": [
        "t_start = time.time()\n",
        "for i in range(1,1001):\n",
        "  globals()[f'BMI40_{i}'] = data.copy() # for loop variable name\n",
        "  np.random.seed(i) # for loop seed\n",
        "  n = int((153*40/100)) \n",
        "  index_nan = np.random.choice(globals()[f'BMI40_{i}']['BMI'].size, n, replace=False) #globals()[name dataframe][column name].size\n",
        "  globals()[f'BMI40_{i}']['BMI'].ravel()[index_nan] = np.nan\n",
        "t_end = time.time()\n",
        "print(f'เวลาที่ใช้ในการประมวลผล {t_end- t_start} วินาที')\n",
        "print(f'เวลาที่ใช้ในการประมวลผล {(t_end- t_start)/60} นาที')"
      ],
      "metadata": {
        "id": "QJfpwnea3M75",
        "colab": {
          "base_uri": "https://localhost:8080/"
        },
        "outputId": "911bb23b-e985-4344-c80a-8608275ed24f"
      },
      "execution_count": 77,
      "outputs": [
        {
          "output_type": "stream",
          "name": "stdout",
          "text": [
            "เวลาที่ใช้ในการประมวลผล 0.20461630821228027 วินาที\n",
            "เวลาที่ใช้ในการประมวลผล 0.0034102718035380047 นาที\n"
          ]
        }
      ]
    },
    {
      "cell_type": "code",
      "source": [
        "BMI40_1"
      ],
      "metadata": {
        "id": "jPzmx4513M76",
        "colab": {
          "base_uri": "https://localhost:8080/",
          "height": 423
        },
        "outputId": "561cfc8d-febd-43d6-af95-50531a095023"
      },
      "execution_count": 78,
      "outputs": [
        {
          "output_type": "execute_result",
          "data": {
            "text/plain": [
              "     Sex  AgeSYear  Weight  Height   BMI  Systolic  Diastolic  HeartRate  \\\n",
              "0      2      57.0    47.4   153.0  20.2     114.0       75.0       69.0   \n",
              "1      2      24.0    53.2   157.0  21.6     103.0       69.0       78.0   \n",
              "2      2      62.0    54.4   165.0  20.0      95.0       75.0       83.0   \n",
              "3      2      35.0    56.3   161.0  21.7      95.0       57.0       72.0   \n",
              "4      1      46.0    72.3   170.0   NaN     133.0       77.0      107.0   \n",
              "..   ...       ...     ...     ...   ...       ...        ...        ...   \n",
              "148    1      60.0    72.0   170.0   NaN     131.0       74.0       69.0   \n",
              "149    1      58.0    62.0   168.0  22.0     103.0       76.0       72.0   \n",
              "150    2      42.0    55.5   165.0  20.4     102.0       52.0       77.0   \n",
              "151    2      61.0    61.8   159.0  24.4     117.0       60.0       72.0   \n",
              "152    2      31.0    58.2   169.0  20.4     108.0       69.0       73.0   \n",
              "\n",
              "      SMM  Fat Mass  ...  003_Creatinine  004_Uric Acid  005_Cholesterol  \\\n",
              "0    19.3      12.5  ...             1.0            5.0            176.0   \n",
              "1    21.3      14.6  ...             0.8            5.2            159.0   \n",
              "2    21.6      15.2  ...             0.7            4.1            230.0   \n",
              "3    22.5      15.4  ...             0.6            5.0            198.0   \n",
              "4    29.2      19.0  ...             0.9            6.9            194.0   \n",
              "..    ...       ...  ...             ...            ...              ...   \n",
              "148  30.5      13.8  ...             0.9            6.9            182.0   \n",
              "149  27.8      11.9  ...             1.0            6.8            191.0   \n",
              "150  22.9      14.1  ...             0.8            4.7            212.0   \n",
              "151  23.4      19.2  ...             0.8            5.1            235.0   \n",
              "152  25.0      13.0  ...             0.7            4.3            200.0   \n",
              "\n",
              "     006_Triglyceride  008_HDL-C  009_LDL  010_AST  012_ALT  \\\n",
              "0                51.0       72.0     94.0     16.0     16.0   \n",
              "1                45.0       52.0     98.0     13.0     17.0   \n",
              "2                94.0       61.0    151.0     18.0     31.0   \n",
              "3                47.0       68.0    120.0     16.0     20.0   \n",
              "4                63.0       60.0    122.0     15.0     19.0   \n",
              "..                ...        ...      ...      ...      ...   \n",
              "148             179.0       39.0    107.0     36.0     31.0   \n",
              "149              62.0       47.0    132.0     16.0     33.0   \n",
              "150              68.0       63.0    135.0     11.0     16.0   \n",
              "151              66.0       56.0    166.0     15.0     23.0   \n",
              "152              44.0       56.0    135.0     14.0     21.0   \n",
              "\n",
              "     013_Alkaline Phos  071_HbA1c  \n",
              "0                 62.0        5.1  \n",
              "1                 50.0        5.4  \n",
              "2                 76.0        5.6  \n",
              "3                 35.0        5.1  \n",
              "4                 69.0        5.2  \n",
              "..                 ...        ...  \n",
              "148               79.0        6.5  \n",
              "149               42.0        6.8  \n",
              "150               33.0        4.8  \n",
              "151               44.0        5.4  \n",
              "152               31.0        4.7  \n",
              "\n",
              "[153 rows x 26 columns]"
            ],
            "text/html": [
              "\n",
              "  <div id=\"df-a1a74f6c-a2c6-4c86-b739-776019b8cfa0\">\n",
              "    <div class=\"colab-df-container\">\n",
              "      <div>\n",
              "<style scoped>\n",
              "    .dataframe tbody tr th:only-of-type {\n",
              "        vertical-align: middle;\n",
              "    }\n",
              "\n",
              "    .dataframe tbody tr th {\n",
              "        vertical-align: top;\n",
              "    }\n",
              "\n",
              "    .dataframe thead th {\n",
              "        text-align: right;\n",
              "    }\n",
              "</style>\n",
              "<table border=\"1\" class=\"dataframe\">\n",
              "  <thead>\n",
              "    <tr style=\"text-align: right;\">\n",
              "      <th></th>\n",
              "      <th>Sex</th>\n",
              "      <th>AgeSYear</th>\n",
              "      <th>Weight</th>\n",
              "      <th>Height</th>\n",
              "      <th>BMI</th>\n",
              "      <th>Systolic</th>\n",
              "      <th>Diastolic</th>\n",
              "      <th>HeartRate</th>\n",
              "      <th>SMM</th>\n",
              "      <th>Fat Mass</th>\n",
              "      <th>...</th>\n",
              "      <th>003_Creatinine</th>\n",
              "      <th>004_Uric Acid</th>\n",
              "      <th>005_Cholesterol</th>\n",
              "      <th>006_Triglyceride</th>\n",
              "      <th>008_HDL-C</th>\n",
              "      <th>009_LDL</th>\n",
              "      <th>010_AST</th>\n",
              "      <th>012_ALT</th>\n",
              "      <th>013_Alkaline Phos</th>\n",
              "      <th>071_HbA1c</th>\n",
              "    </tr>\n",
              "  </thead>\n",
              "  <tbody>\n",
              "    <tr>\n",
              "      <th>0</th>\n",
              "      <td>2</td>\n",
              "      <td>57.0</td>\n",
              "      <td>47.4</td>\n",
              "      <td>153.0</td>\n",
              "      <td>20.2</td>\n",
              "      <td>114.0</td>\n",
              "      <td>75.0</td>\n",
              "      <td>69.0</td>\n",
              "      <td>19.3</td>\n",
              "      <td>12.5</td>\n",
              "      <td>...</td>\n",
              "      <td>1.0</td>\n",
              "      <td>5.0</td>\n",
              "      <td>176.0</td>\n",
              "      <td>51.0</td>\n",
              "      <td>72.0</td>\n",
              "      <td>94.0</td>\n",
              "      <td>16.0</td>\n",
              "      <td>16.0</td>\n",
              "      <td>62.0</td>\n",
              "      <td>5.1</td>\n",
              "    </tr>\n",
              "    <tr>\n",
              "      <th>1</th>\n",
              "      <td>2</td>\n",
              "      <td>24.0</td>\n",
              "      <td>53.2</td>\n",
              "      <td>157.0</td>\n",
              "      <td>21.6</td>\n",
              "      <td>103.0</td>\n",
              "      <td>69.0</td>\n",
              "      <td>78.0</td>\n",
              "      <td>21.3</td>\n",
              "      <td>14.6</td>\n",
              "      <td>...</td>\n",
              "      <td>0.8</td>\n",
              "      <td>5.2</td>\n",
              "      <td>159.0</td>\n",
              "      <td>45.0</td>\n",
              "      <td>52.0</td>\n",
              "      <td>98.0</td>\n",
              "      <td>13.0</td>\n",
              "      <td>17.0</td>\n",
              "      <td>50.0</td>\n",
              "      <td>5.4</td>\n",
              "    </tr>\n",
              "    <tr>\n",
              "      <th>2</th>\n",
              "      <td>2</td>\n",
              "      <td>62.0</td>\n",
              "      <td>54.4</td>\n",
              "      <td>165.0</td>\n",
              "      <td>20.0</td>\n",
              "      <td>95.0</td>\n",
              "      <td>75.0</td>\n",
              "      <td>83.0</td>\n",
              "      <td>21.6</td>\n",
              "      <td>15.2</td>\n",
              "      <td>...</td>\n",
              "      <td>0.7</td>\n",
              "      <td>4.1</td>\n",
              "      <td>230.0</td>\n",
              "      <td>94.0</td>\n",
              "      <td>61.0</td>\n",
              "      <td>151.0</td>\n",
              "      <td>18.0</td>\n",
              "      <td>31.0</td>\n",
              "      <td>76.0</td>\n",
              "      <td>5.6</td>\n",
              "    </tr>\n",
              "    <tr>\n",
              "      <th>3</th>\n",
              "      <td>2</td>\n",
              "      <td>35.0</td>\n",
              "      <td>56.3</td>\n",
              "      <td>161.0</td>\n",
              "      <td>21.7</td>\n",
              "      <td>95.0</td>\n",
              "      <td>57.0</td>\n",
              "      <td>72.0</td>\n",
              "      <td>22.5</td>\n",
              "      <td>15.4</td>\n",
              "      <td>...</td>\n",
              "      <td>0.6</td>\n",
              "      <td>5.0</td>\n",
              "      <td>198.0</td>\n",
              "      <td>47.0</td>\n",
              "      <td>68.0</td>\n",
              "      <td>120.0</td>\n",
              "      <td>16.0</td>\n",
              "      <td>20.0</td>\n",
              "      <td>35.0</td>\n",
              "      <td>5.1</td>\n",
              "    </tr>\n",
              "    <tr>\n",
              "      <th>4</th>\n",
              "      <td>1</td>\n",
              "      <td>46.0</td>\n",
              "      <td>72.3</td>\n",
              "      <td>170.0</td>\n",
              "      <td>NaN</td>\n",
              "      <td>133.0</td>\n",
              "      <td>77.0</td>\n",
              "      <td>107.0</td>\n",
              "      <td>29.2</td>\n",
              "      <td>19.0</td>\n",
              "      <td>...</td>\n",
              "      <td>0.9</td>\n",
              "      <td>6.9</td>\n",
              "      <td>194.0</td>\n",
              "      <td>63.0</td>\n",
              "      <td>60.0</td>\n",
              "      <td>122.0</td>\n",
              "      <td>15.0</td>\n",
              "      <td>19.0</td>\n",
              "      <td>69.0</td>\n",
              "      <td>5.2</td>\n",
              "    </tr>\n",
              "    <tr>\n",
              "      <th>...</th>\n",
              "      <td>...</td>\n",
              "      <td>...</td>\n",
              "      <td>...</td>\n",
              "      <td>...</td>\n",
              "      <td>...</td>\n",
              "      <td>...</td>\n",
              "      <td>...</td>\n",
              "      <td>...</td>\n",
              "      <td>...</td>\n",
              "      <td>...</td>\n",
              "      <td>...</td>\n",
              "      <td>...</td>\n",
              "      <td>...</td>\n",
              "      <td>...</td>\n",
              "      <td>...</td>\n",
              "      <td>...</td>\n",
              "      <td>...</td>\n",
              "      <td>...</td>\n",
              "      <td>...</td>\n",
              "      <td>...</td>\n",
              "      <td>...</td>\n",
              "    </tr>\n",
              "    <tr>\n",
              "      <th>148</th>\n",
              "      <td>1</td>\n",
              "      <td>60.0</td>\n",
              "      <td>72.0</td>\n",
              "      <td>170.0</td>\n",
              "      <td>NaN</td>\n",
              "      <td>131.0</td>\n",
              "      <td>74.0</td>\n",
              "      <td>69.0</td>\n",
              "      <td>30.5</td>\n",
              "      <td>13.8</td>\n",
              "      <td>...</td>\n",
              "      <td>0.9</td>\n",
              "      <td>6.9</td>\n",
              "      <td>182.0</td>\n",
              "      <td>179.0</td>\n",
              "      <td>39.0</td>\n",
              "      <td>107.0</td>\n",
              "      <td>36.0</td>\n",
              "      <td>31.0</td>\n",
              "      <td>79.0</td>\n",
              "      <td>6.5</td>\n",
              "    </tr>\n",
              "    <tr>\n",
              "      <th>149</th>\n",
              "      <td>1</td>\n",
              "      <td>58.0</td>\n",
              "      <td>62.0</td>\n",
              "      <td>168.0</td>\n",
              "      <td>22.0</td>\n",
              "      <td>103.0</td>\n",
              "      <td>76.0</td>\n",
              "      <td>72.0</td>\n",
              "      <td>27.8</td>\n",
              "      <td>11.9</td>\n",
              "      <td>...</td>\n",
              "      <td>1.0</td>\n",
              "      <td>6.8</td>\n",
              "      <td>191.0</td>\n",
              "      <td>62.0</td>\n",
              "      <td>47.0</td>\n",
              "      <td>132.0</td>\n",
              "      <td>16.0</td>\n",
              "      <td>33.0</td>\n",
              "      <td>42.0</td>\n",
              "      <td>6.8</td>\n",
              "    </tr>\n",
              "    <tr>\n",
              "      <th>150</th>\n",
              "      <td>2</td>\n",
              "      <td>42.0</td>\n",
              "      <td>55.5</td>\n",
              "      <td>165.0</td>\n",
              "      <td>20.4</td>\n",
              "      <td>102.0</td>\n",
              "      <td>52.0</td>\n",
              "      <td>77.0</td>\n",
              "      <td>22.9</td>\n",
              "      <td>14.1</td>\n",
              "      <td>...</td>\n",
              "      <td>0.8</td>\n",
              "      <td>4.7</td>\n",
              "      <td>212.0</td>\n",
              "      <td>68.0</td>\n",
              "      <td>63.0</td>\n",
              "      <td>135.0</td>\n",
              "      <td>11.0</td>\n",
              "      <td>16.0</td>\n",
              "      <td>33.0</td>\n",
              "      <td>4.8</td>\n",
              "    </tr>\n",
              "    <tr>\n",
              "      <th>151</th>\n",
              "      <td>2</td>\n",
              "      <td>61.0</td>\n",
              "      <td>61.8</td>\n",
              "      <td>159.0</td>\n",
              "      <td>24.4</td>\n",
              "      <td>117.0</td>\n",
              "      <td>60.0</td>\n",
              "      <td>72.0</td>\n",
              "      <td>23.4</td>\n",
              "      <td>19.2</td>\n",
              "      <td>...</td>\n",
              "      <td>0.8</td>\n",
              "      <td>5.1</td>\n",
              "      <td>235.0</td>\n",
              "      <td>66.0</td>\n",
              "      <td>56.0</td>\n",
              "      <td>166.0</td>\n",
              "      <td>15.0</td>\n",
              "      <td>23.0</td>\n",
              "      <td>44.0</td>\n",
              "      <td>5.4</td>\n",
              "    </tr>\n",
              "    <tr>\n",
              "      <th>152</th>\n",
              "      <td>2</td>\n",
              "      <td>31.0</td>\n",
              "      <td>58.2</td>\n",
              "      <td>169.0</td>\n",
              "      <td>20.4</td>\n",
              "      <td>108.0</td>\n",
              "      <td>69.0</td>\n",
              "      <td>73.0</td>\n",
              "      <td>25.0</td>\n",
              "      <td>13.0</td>\n",
              "      <td>...</td>\n",
              "      <td>0.7</td>\n",
              "      <td>4.3</td>\n",
              "      <td>200.0</td>\n",
              "      <td>44.0</td>\n",
              "      <td>56.0</td>\n",
              "      <td>135.0</td>\n",
              "      <td>14.0</td>\n",
              "      <td>21.0</td>\n",
              "      <td>31.0</td>\n",
              "      <td>4.7</td>\n",
              "    </tr>\n",
              "  </tbody>\n",
              "</table>\n",
              "<p>153 rows × 26 columns</p>\n",
              "</div>\n",
              "      <button class=\"colab-df-convert\" onclick=\"convertToInteractive('df-a1a74f6c-a2c6-4c86-b739-776019b8cfa0')\"\n",
              "              title=\"Convert this dataframe to an interactive table.\"\n",
              "              style=\"display:none;\">\n",
              "        \n",
              "  <svg xmlns=\"http://www.w3.org/2000/svg\" height=\"24px\"viewBox=\"0 0 24 24\"\n",
              "       width=\"24px\">\n",
              "    <path d=\"M0 0h24v24H0V0z\" fill=\"none\"/>\n",
              "    <path d=\"M18.56 5.44l.94 2.06.94-2.06 2.06-.94-2.06-.94-.94-2.06-.94 2.06-2.06.94zm-11 1L8.5 8.5l.94-2.06 2.06-.94-2.06-.94L8.5 2.5l-.94 2.06-2.06.94zm10 10l.94 2.06.94-2.06 2.06-.94-2.06-.94-.94-2.06-.94 2.06-2.06.94z\"/><path d=\"M17.41 7.96l-1.37-1.37c-.4-.4-.92-.59-1.43-.59-.52 0-1.04.2-1.43.59L10.3 9.45l-7.72 7.72c-.78.78-.78 2.05 0 2.83L4 21.41c.39.39.9.59 1.41.59.51 0 1.02-.2 1.41-.59l7.78-7.78 2.81-2.81c.8-.78.8-2.07 0-2.86zM5.41 20L4 18.59l7.72-7.72 1.47 1.35L5.41 20z\"/>\n",
              "  </svg>\n",
              "      </button>\n",
              "      \n",
              "  <style>\n",
              "    .colab-df-container {\n",
              "      display:flex;\n",
              "      flex-wrap:wrap;\n",
              "      gap: 12px;\n",
              "    }\n",
              "\n",
              "    .colab-df-convert {\n",
              "      background-color: #E8F0FE;\n",
              "      border: none;\n",
              "      border-radius: 50%;\n",
              "      cursor: pointer;\n",
              "      display: none;\n",
              "      fill: #1967D2;\n",
              "      height: 32px;\n",
              "      padding: 0 0 0 0;\n",
              "      width: 32px;\n",
              "    }\n",
              "\n",
              "    .colab-df-convert:hover {\n",
              "      background-color: #E2EBFA;\n",
              "      box-shadow: 0px 1px 2px rgba(60, 64, 67, 0.3), 0px 1px 3px 1px rgba(60, 64, 67, 0.15);\n",
              "      fill: #174EA6;\n",
              "    }\n",
              "\n",
              "    [theme=dark] .colab-df-convert {\n",
              "      background-color: #3B4455;\n",
              "      fill: #D2E3FC;\n",
              "    }\n",
              "\n",
              "    [theme=dark] .colab-df-convert:hover {\n",
              "      background-color: #434B5C;\n",
              "      box-shadow: 0px 1px 3px 1px rgba(0, 0, 0, 0.15);\n",
              "      filter: drop-shadow(0px 1px 2px rgba(0, 0, 0, 0.3));\n",
              "      fill: #FFFFFF;\n",
              "    }\n",
              "  </style>\n",
              "\n",
              "      <script>\n",
              "        const buttonEl =\n",
              "          document.querySelector('#df-a1a74f6c-a2c6-4c86-b739-776019b8cfa0 button.colab-df-convert');\n",
              "        buttonEl.style.display =\n",
              "          google.colab.kernel.accessAllowed ? 'block' : 'none';\n",
              "\n",
              "        async function convertToInteractive(key) {\n",
              "          const element = document.querySelector('#df-a1a74f6c-a2c6-4c86-b739-776019b8cfa0');\n",
              "          const dataTable =\n",
              "            await google.colab.kernel.invokeFunction('convertToInteractive',\n",
              "                                                     [key], {});\n",
              "          if (!dataTable) return;\n",
              "\n",
              "          const docLinkHtml = 'Like what you see? Visit the ' +\n",
              "            '<a target=\"_blank\" href=https://colab.research.google.com/notebooks/data_table.ipynb>data table notebook</a>'\n",
              "            + ' to learn more about interactive tables.';\n",
              "          element.innerHTML = '';\n",
              "          dataTable['output_type'] = 'display_data';\n",
              "          await google.colab.output.renderOutput(dataTable, element);\n",
              "          const docLink = document.createElement('div');\n",
              "          docLink.innerHTML = docLinkHtml;\n",
              "          element.appendChild(docLink);\n",
              "        }\n",
              "      </script>\n",
              "    </div>\n",
              "  </div>\n",
              "  "
            ]
          },
          "metadata": {},
          "execution_count": 78
        }
      ]
    },
    {
      "cell_type": "markdown",
      "source": [
        "## Imputation using Mean"
      ],
      "metadata": {
        "id": "LNnd1COX3M76"
      }
    },
    {
      "cell_type": "code",
      "source": [
        "from sklearn.impute import SimpleImputer"
      ],
      "metadata": {
        "id": "2At9rpls3M76"
      },
      "execution_count": 79,
      "outputs": []
    },
    {
      "cell_type": "code",
      "source": [
        "t_start = time.time()\n",
        "mean40_imputer = SimpleImputer(strategy='mean')\n",
        "for i in range(1,1001):\n",
        "  globals()[f'imputed_mean40_{i}'] = mean40_imputer.fit_transform(globals()[f'BMI40_{i}'].copy()) #for loop miss forest impputation \n",
        "  globals()[f'MSE_MEAN40_{i}'] = mean_squared_error(data, globals()[f'imputed_mean40_{i}']) # for loop mean_squared_error\n",
        "t_end = time.time()\n",
        "t40_MEAN = (t_end- t_start)"
      ],
      "metadata": {
        "id": "kOcOSKzY3M76"
      },
      "execution_count": 80,
      "outputs": []
    },
    {
      "cell_type": "code",
      "source": [
        "t_start = time.time()\n",
        "mse_mean40_total = 0 \n",
        "MSE_MEAN40_1001 = 0\n",
        "for i in range(0,1001):\n",
        "  mse_mean40_total = mse_mean40_total + globals()[f'MSE_MEAN40_{i+1}']\n",
        "AMSE_BMI40_mean = mse_mean40_total/1000\n",
        "print(f'AMSE_BMI40_mean = {AMSE_BMI40_mean}')\n",
        "t_end = time.time()\n",
        "print(f'เวลาที่ใช้ในการประมวลผล {t_end- t_start} วินาที')\n",
        "print(f'เวลาที่ใช้ในการประมวลผล {(t_end- t_start)/60} นาที')"
      ],
      "metadata": {
        "id": "8KG1dnhb3M76",
        "colab": {
          "base_uri": "https://localhost:8080/"
        },
        "outputId": "988b78ef-0e2f-47ad-a0f2-1bb18c9ce3a4"
      },
      "execution_count": 81,
      "outputs": [
        {
          "output_type": "stream",
          "name": "stdout",
          "text": [
            "AMSE_BMI40_mean = 0.07847464466783745\n",
            "เวลาที่ใช้ในการประมวลผล 0.0013494491577148438 วินาที\n",
            "เวลาที่ใช้ในการประมวลผล 2.2490819295247395e-05 นาที\n"
          ]
        }
      ]
    },
    {
      "cell_type": "markdown",
      "source": [
        "## Imputation using the miss forest"
      ],
      "metadata": {
        "id": "_iaNd0ov3M76"
      }
    },
    {
      "cell_type": "code",
      "source": [
        "import sys\n",
        "import sklearn.neighbors._base\n",
        "sys.modules['sklearn.neighbors.base'] = sklearn.neighbors._base\n",
        "!pip install missingpy\n",
        "import missingpy\n",
        "from missingpy import MissForest\n",
        "from sklearn.metrics import mean_squared_error"
      ],
      "metadata": {
        "id": "5D1HqJBL3M76",
        "colab": {
          "base_uri": "https://localhost:8080/"
        },
        "outputId": "b61d4222-78a0-4a1e-f4d8-ebd7fbe6be16"
      },
      "execution_count": 82,
      "outputs": [
        {
          "output_type": "stream",
          "name": "stdout",
          "text": [
            "Looking in indexes: https://pypi.org/simple, https://us-python.pkg.dev/colab-wheels/public/simple/\n",
            "Requirement already satisfied: missingpy in /usr/local/lib/python3.8/dist-packages (0.2.0)\n"
          ]
        }
      ]
    },
    {
      "cell_type": "code",
      "source": [
        "t_start = time.time()\n",
        "MF40_imputer = MissForest()\n",
        "for i in range(1,1001):\n",
        "  globals()[f'imputed_mf40_{i}'] = MF40_imputer.fit_transform(globals()[f'BMI40_{i}'].copy()) #for loop miss forest impputation \n",
        "  globals()[f'MSE_MF40_{i}'] = mean_squared_error(data, globals()[f'imputed_mf40_{i}']) # for loop mean_squared_error\n",
        "t_end = time.time()\n",
        "t40_MF = (t_end- t_start)"
      ],
      "metadata": {
        "id": "d4SNLEtC3M76"
      },
      "execution_count": null,
      "outputs": []
    },
    {
      "cell_type": "code",
      "source": [
        "t_start = time.time()\n",
        "mse_mf40_total = 0 \n",
        "MSE_MF40_1001 = 0\n",
        "for i in range(0,1001):\n",
        "  mse_mf40_total = mse_mf40_total + globals()[f'MSE_MF40_{i+1}']\n",
        "AMSE_BMI40_mf = mse_mf40_total/1000\n",
        "print(f'AMSE_BMI40_mf = {AMSE_BMI40_mf}')\n",
        "t_end = time.time()\n",
        "print(f'เวลาที่ใช้ในการประมวลผล {t_end- t_start} วินาที')\n",
        "print(f'เวลาที่ใช้ในการประมวลผล {(t_end- t_start)/60} นาที')"
      ],
      "metadata": {
        "id": "d2d8YbUy3M77",
        "colab": {
          "base_uri": "https://localhost:8080/"
        },
        "outputId": "a8f0eeab-cf84-4ed6-ee49-f0225bafd99b"
      },
      "execution_count": 84,
      "outputs": [
        {
          "output_type": "stream",
          "name": "stdout",
          "text": [
            "AMSE_BMI40_mf = 0.020344384153594748\n",
            "เวลาที่ใช้ในการประมวลผล 0.0011746883392333984 วินาที\n",
            "เวลาที่ใช้ในการประมวลผล 1.9578138987223306e-05 นาที\n"
          ]
        }
      ]
    },
    {
      "cell_type": "markdown",
      "source": [
        "## Imputation using the KNN"
      ],
      "metadata": {
        "id": "gFEGDs2y3M77"
      }
    },
    {
      "cell_type": "code",
      "source": [
        "from sklearn import neighbors\n",
        "from sklearn.impute import KNNImputer"
      ],
      "metadata": {
        "id": "K7an-0gc3M77"
      },
      "execution_count": 85,
      "outputs": []
    },
    {
      "cell_type": "code",
      "source": [
        "t_start = time.time()\n",
        "KNN40_imputer = KNNImputer(n_neighbors = 15)\n",
        "for i in range(1,1001):\n",
        "  globals()[f'imputed_KNN40_{i}'] = KNN40_imputer.fit_transform(globals()[f'BMI40_{i}'].copy())\n",
        "  globals()[f'MSE_KNN40_{i}'] = mean_squared_error(data, globals()[f'imputed_KNN40_{i}'])\n",
        "t_end = time.time()\n",
        "t40_KNN = (t_end- t_start)"
      ],
      "metadata": {
        "id": "_bhDpYXj3M77"
      },
      "execution_count": 86,
      "outputs": []
    },
    {
      "cell_type": "code",
      "source": [
        "t_start = time.time()\n",
        "mse_knn40_total = 0 \n",
        "MSE_KNN40_1001 = 0\n",
        "for i in range(0,1001):\n",
        "  mse_knn40_total = mse_knn40_total + globals()[f'MSE_KNN40_{i+1}']\n",
        "AMSE_BMI40_knn = mse_knn40_total/1000\n",
        "print(f'AMSE_BMI40_knn = {AMSE_BMI40_knn}')\n",
        "t_end = time.time()\n",
        "print(f'เวลาที่ใช้ในการประมวลผล {t_end- t_start} วินาที')\n",
        "print(f'เวลาที่ใช้ในการประมวลผล {(t_end- t_start)/60} นาที')"
      ],
      "metadata": {
        "id": "frWeSoV23M77",
        "colab": {
          "base_uri": "https://localhost:8080/"
        },
        "outputId": "20701724-10ba-4ee7-b474-cbecbd2d8025"
      },
      "execution_count": 87,
      "outputs": [
        {
          "output_type": "stream",
          "name": "stdout",
          "text": [
            "AMSE_BMI40_knn = 0.04347048821853518\n",
            "เวลาที่ใช้ในการประมวลผล 0.0009124279022216797 วินาที\n",
            "เวลาที่ใช้ในการประมวลผล 1.5207131703694661e-05 นาที\n"
          ]
        }
      ]
    },
    {
      "cell_type": "markdown",
      "source": [
        "## Imputation using the MICE"
      ],
      "metadata": {
        "id": "rXFzEFyh3M77"
      }
    },
    {
      "cell_type": "code",
      "source": [
        "from sklearn.experimental import enable_iterative_imputer\n",
        "from sklearn.impute import IterativeImputer\n",
        "from sklearn.linear_model import LinearRegression\n",
        "from sklearn import svm"
      ],
      "metadata": {
        "id": "i3vp047L3M77"
      },
      "execution_count": 88,
      "outputs": []
    },
    {
      "cell_type": "markdown",
      "source": [
        "### LinearRegression model"
      ],
      "metadata": {
        "id": "ONL5L18S3M77"
      }
    },
    {
      "cell_type": "code",
      "source": [
        "t_start = time.time()\n",
        "lr = LinearRegression()\n",
        "for i in range(1,1001):\n",
        "  imp = IterativeImputer(estimator= lr , max_iter= 10, verbose=2, imputation_order='roman',initial_strategy = 'mean',random_state= i)\n",
        "  globals()[f'imputed_lr40_{i}'] = imp.fit_transform(globals()[f'BMI40_{i}'].copy())\n",
        "  globals()[f'MSE_lr40_{i}'] = mean_squared_error(data, globals()[f'imputed_lr40_{i}'])\n",
        "t_end = time.time()\n",
        "t40_LR = (t_end- t_start)"
      ],
      "metadata": {
        "id": "NODGsVqB3M77"
      },
      "execution_count": null,
      "outputs": []
    },
    {
      "cell_type": "code",
      "source": [
        "t_start = time.time()\n",
        "mse_lr40_total = 0 \n",
        "MSE_lr40_1001 = 0\n",
        "for i in range(0,1001):\n",
        "  mse_lr40_total = mse_lr40_total + globals()[f'MSE_lr40_{i+1}']\n",
        "AMSE_BMI40_lr = mse_lr40_total/1000\n",
        "print(f'AMSE_BMI40_lr = {AMSE_BMI40_lr}')\n",
        "t_end = time.time()\n",
        "print(f'เวลาที่ใช้ในการประมวลผล {t_end- t_start} วินาที')\n",
        "print(f'เวลาที่ใช้ในการประมวลผล {(t_end- t_start)/60} นาที')"
      ],
      "metadata": {
        "id": "sxUaR1Xc3M78",
        "colab": {
          "base_uri": "https://localhost:8080/"
        },
        "outputId": "f94e5f95-4b36-4b7d-d891-d5ac433d61d6"
      },
      "execution_count": 90,
      "outputs": [
        {
          "output_type": "stream",
          "name": "stdout",
          "text": [
            "AMSE_BMI40_lr = 0.006938295367362663\n",
            "เวลาที่ใช้ในการประมวลผล 0.000988006591796875 วินาที\n",
            "เวลาที่ใช้ในการประมวลผล 1.6466776529947916e-05 นาที\n"
          ]
        }
      ]
    },
    {
      "cell_type": "markdown",
      "source": [
        "### Support Vector Machine model"
      ],
      "metadata": {
        "id": "b-JCYrIR3M78"
      }
    },
    {
      "cell_type": "code",
      "source": [
        "t_start = time.time()\n",
        "regr = svm.SVR()\n",
        "for i in range(1,1001):\n",
        "  svm_svr = IterativeImputer(estimator= regr, max_iter= 10, verbose=2, imputation_order='roman',initial_strategy = 'mean',random_state= i)\n",
        "  globals()[f'imputed_svm40_{i}'] = svm_svr.fit_transform(globals()[f'BMI40_{i}'].copy())\n",
        "  globals()[f'MSE_svm40_{i}'] = mean_squared_error(data, globals()[f'imputed_svm40_{i}'])\n",
        "t_end = time.time()\n",
        "t40_SVM = (t_end- t_start)"
      ],
      "metadata": {
        "id": "AT113utI3M78"
      },
      "execution_count": null,
      "outputs": []
    },
    {
      "cell_type": "code",
      "source": [
        "t_start = time.time()\n",
        "mse_svm40_total = 0 \n",
        "MSE_svm40_1001 = 0\n",
        "for i in range(0,1001):\n",
        "  mse_svm40_total = mse_svm40_total + globals()[f'MSE_svm40_{i+1}']\n",
        "AMSE_BMI40_svm = mse_svm40_total/1000\n",
        "print(f'AMSE_BMI40_svm = {AMSE_BMI40_svm}')\n",
        "t_end = time.time()\n",
        "print(f'เวลาที่ใช้ในการประมวลผล {t_end- t_start} วินาที')\n",
        "print(f'เวลาที่ใช้ในการประมวลผล {(t_end- t_start)/60} นาที')"
      ],
      "metadata": {
        "id": "70czjXAm3M78",
        "colab": {
          "base_uri": "https://localhost:8080/"
        },
        "outputId": "0c816331-6571-41e8-b217-021aee8443bd"
      },
      "execution_count": 92,
      "outputs": [
        {
          "output_type": "stream",
          "name": "stdout",
          "text": [
            "AMSE_BMI40_svm = 0.04741023485610507\n",
            "เวลาที่ใช้ในการประมวลผล 0.0013387203216552734 วินาที\n",
            "เวลาที่ใช้ในการประมวลผล 2.2312005360921223e-05 นาที\n"
          ]
        }
      ]
    },
    {
      "cell_type": "markdown",
      "source": [
        "## Imputation using the EM"
      ],
      "metadata": {
        "id": "oYCU9MKU3M78"
      }
    },
    {
      "cell_type": "markdown",
      "source": [
        "### impy.em"
      ],
      "metadata": {
        "id": "M_0BOcvh3M78"
      }
    },
    {
      "cell_type": "code",
      "source": [
        "!pip install impyute\n",
        "import impyute as impy"
      ],
      "metadata": {
        "id": "HG47KPna3M78",
        "colab": {
          "base_uri": "https://localhost:8080/"
        },
        "outputId": "b6c22d63-0f5c-4af4-95bc-e231388bb6f0"
      },
      "execution_count": 93,
      "outputs": [
        {
          "output_type": "stream",
          "name": "stdout",
          "text": [
            "Looking in indexes: https://pypi.org/simple, https://us-python.pkg.dev/colab-wheels/public/simple/\n",
            "Requirement already satisfied: impyute in /usr/local/lib/python3.8/dist-packages (0.0.8)\n",
            "Requirement already satisfied: numpy in /usr/local/lib/python3.8/dist-packages (from impyute) (1.21.6)\n",
            "Requirement already satisfied: scipy in /usr/local/lib/python3.8/dist-packages (from impyute) (1.7.3)\n",
            "Requirement already satisfied: scikit-learn in /usr/local/lib/python3.8/dist-packages (from impyute) (1.0.2)\n",
            "Requirement already satisfied: threadpoolctl>=2.0.0 in /usr/local/lib/python3.8/dist-packages (from scikit-learn->impyute) (3.1.0)\n",
            "Requirement already satisfied: joblib>=0.11 in /usr/local/lib/python3.8/dist-packages (from scikit-learn->impyute) (1.2.0)\n"
          ]
        }
      ]
    },
    {
      "cell_type": "code",
      "source": [
        "t_start = time.time()\n",
        "for i in range(1,1001):\n",
        "  globals()[f'imputed_impy40_{i}'] = impy.em(globals()[f'BMI40_{i}'].values.copy())\n",
        "  globals()[f'MSE_impy40_{i}'] = mean_squared_error(data, globals()[f'imputed_impy40_{i}'])\n",
        "t_end = time.time()\n",
        "t40_EM = (t_end- t_start)"
      ],
      "metadata": {
        "id": "Bf-gqNxt3M78"
      },
      "execution_count": 94,
      "outputs": []
    },
    {
      "cell_type": "code",
      "source": [
        "t_start = time.time()\n",
        "mse_impy40_total = 0 \n",
        "MSE_impy40_1001 = 0\n",
        "for i in range(0,1001):\n",
        "  mse_impy40_total = mse_impy40_total + globals()[f'MSE_impy40_{i+1}']\n",
        "AMSE_BMI40_impy = mse_impy40_total/1000\n",
        "print(f'AMSE_BMI40_impy = {AMSE_BMI40_impy}')\n",
        "t_end = time.time()\n",
        "print(f'เวลาที่ใช้ในการประมวลผล {t_end- t_start} วินาที')\n",
        "print(f'เวลาที่ใช้ในการประมวลผล {(t_end- t_start)/60} นาที')"
      ],
      "metadata": {
        "id": "dlR0Alp-3M78",
        "colab": {
          "base_uri": "https://localhost:8080/"
        },
        "outputId": "63e30cf5-a20d-4c76-a4f2-48baab43e545"
      },
      "execution_count": 95,
      "outputs": [
        {
          "output_type": "stream",
          "name": "stdout",
          "text": [
            "AMSE_BMI40_impy = 0.14758660343289728\n",
            "เวลาที่ใช้ในการประมวลผล 0.0009624958038330078 วินาที\n",
            "เวลาที่ใช้ในการประมวลผล 1.604159673055013e-05 นาที\n"
          ]
        }
      ]
    },
    {
      "cell_type": "markdown",
      "source": [
        "# 50 % random nan"
      ],
      "metadata": {
        "id": "VPcbhfhg5CxE"
      }
    },
    {
      "cell_type": "code",
      "source": [
        "t_start = time.time()\n",
        "for i in range(1,1001):\n",
        "  globals()[f'BMI50_{i}'] = data.copy() # for loop variable name\n",
        "  np.random.seed(i) # for loop seed\n",
        "  n = int((153*50/100)) \n",
        "  index_nan = np.random.choice(globals()[f'BMI50_{i}']['BMI'].size, n, replace=False) #globals()[name dataframe][column name].size\n",
        "  globals()[f'BMI50_{i}']['BMI'].ravel()[index_nan] = np.nan\n",
        "t_end = time.time()\n",
        "print(f'เวลาที่ใช้ในการประมวลผล {t_end- t_start} วินาที')\n",
        "print(f'เวลาที่ใช้ในการประมวลผล {(t_end- t_start)/60} นาที')"
      ],
      "metadata": {
        "id": "6o8bkvAb5CxE",
        "colab": {
          "base_uri": "https://localhost:8080/"
        },
        "outputId": "3b93ee60-084d-4997-c546-0933599585bb"
      },
      "execution_count": 96,
      "outputs": [
        {
          "output_type": "stream",
          "name": "stdout",
          "text": [
            "เวลาที่ใช้ในการประมวลผล 0.17898201942443848 วินาที\n",
            "เวลาที่ใช้ในการประมวลผล 0.0029830336570739746 นาที\n"
          ]
        }
      ]
    },
    {
      "cell_type": "code",
      "source": [
        "BMI50_1"
      ],
      "metadata": {
        "id": "B3jkNopU5CxF",
        "colab": {
          "base_uri": "https://localhost:8080/",
          "height": 423
        },
        "outputId": "45d9611a-ba8b-4546-d270-6983deb4238a"
      },
      "execution_count": 97,
      "outputs": [
        {
          "output_type": "execute_result",
          "data": {
            "text/plain": [
              "     Sex  AgeSYear  Weight  Height   BMI  Systolic  Diastolic  HeartRate  \\\n",
              "0      2      57.0    47.4   153.0   NaN     114.0       75.0       69.0   \n",
              "1      2      24.0    53.2   157.0  21.6     103.0       69.0       78.0   \n",
              "2      2      62.0    54.4   165.0   NaN      95.0       75.0       83.0   \n",
              "3      2      35.0    56.3   161.0  21.7      95.0       57.0       72.0   \n",
              "4      1      46.0    72.3   170.0   NaN     133.0       77.0      107.0   \n",
              "..   ...       ...     ...     ...   ...       ...        ...        ...   \n",
              "148    1      60.0    72.0   170.0   NaN     131.0       74.0       69.0   \n",
              "149    1      58.0    62.0   168.0  22.0     103.0       76.0       72.0   \n",
              "150    2      42.0    55.5   165.0  20.4     102.0       52.0       77.0   \n",
              "151    2      61.0    61.8   159.0  24.4     117.0       60.0       72.0   \n",
              "152    2      31.0    58.2   169.0  20.4     108.0       69.0       73.0   \n",
              "\n",
              "      SMM  Fat Mass  ...  003_Creatinine  004_Uric Acid  005_Cholesterol  \\\n",
              "0    19.3      12.5  ...             1.0            5.0            176.0   \n",
              "1    21.3      14.6  ...             0.8            5.2            159.0   \n",
              "2    21.6      15.2  ...             0.7            4.1            230.0   \n",
              "3    22.5      15.4  ...             0.6            5.0            198.0   \n",
              "4    29.2      19.0  ...             0.9            6.9            194.0   \n",
              "..    ...       ...  ...             ...            ...              ...   \n",
              "148  30.5      13.8  ...             0.9            6.9            182.0   \n",
              "149  27.8      11.9  ...             1.0            6.8            191.0   \n",
              "150  22.9      14.1  ...             0.8            4.7            212.0   \n",
              "151  23.4      19.2  ...             0.8            5.1            235.0   \n",
              "152  25.0      13.0  ...             0.7            4.3            200.0   \n",
              "\n",
              "     006_Triglyceride  008_HDL-C  009_LDL  010_AST  012_ALT  \\\n",
              "0                51.0       72.0     94.0     16.0     16.0   \n",
              "1                45.0       52.0     98.0     13.0     17.0   \n",
              "2                94.0       61.0    151.0     18.0     31.0   \n",
              "3                47.0       68.0    120.0     16.0     20.0   \n",
              "4                63.0       60.0    122.0     15.0     19.0   \n",
              "..                ...        ...      ...      ...      ...   \n",
              "148             179.0       39.0    107.0     36.0     31.0   \n",
              "149              62.0       47.0    132.0     16.0     33.0   \n",
              "150              68.0       63.0    135.0     11.0     16.0   \n",
              "151              66.0       56.0    166.0     15.0     23.0   \n",
              "152              44.0       56.0    135.0     14.0     21.0   \n",
              "\n",
              "     013_Alkaline Phos  071_HbA1c  \n",
              "0                 62.0        5.1  \n",
              "1                 50.0        5.4  \n",
              "2                 76.0        5.6  \n",
              "3                 35.0        5.1  \n",
              "4                 69.0        5.2  \n",
              "..                 ...        ...  \n",
              "148               79.0        6.5  \n",
              "149               42.0        6.8  \n",
              "150               33.0        4.8  \n",
              "151               44.0        5.4  \n",
              "152               31.0        4.7  \n",
              "\n",
              "[153 rows x 26 columns]"
            ],
            "text/html": [
              "\n",
              "  <div id=\"df-ebd8e11f-4d6c-4449-a337-c18cebe4d2cc\">\n",
              "    <div class=\"colab-df-container\">\n",
              "      <div>\n",
              "<style scoped>\n",
              "    .dataframe tbody tr th:only-of-type {\n",
              "        vertical-align: middle;\n",
              "    }\n",
              "\n",
              "    .dataframe tbody tr th {\n",
              "        vertical-align: top;\n",
              "    }\n",
              "\n",
              "    .dataframe thead th {\n",
              "        text-align: right;\n",
              "    }\n",
              "</style>\n",
              "<table border=\"1\" class=\"dataframe\">\n",
              "  <thead>\n",
              "    <tr style=\"text-align: right;\">\n",
              "      <th></th>\n",
              "      <th>Sex</th>\n",
              "      <th>AgeSYear</th>\n",
              "      <th>Weight</th>\n",
              "      <th>Height</th>\n",
              "      <th>BMI</th>\n",
              "      <th>Systolic</th>\n",
              "      <th>Diastolic</th>\n",
              "      <th>HeartRate</th>\n",
              "      <th>SMM</th>\n",
              "      <th>Fat Mass</th>\n",
              "      <th>...</th>\n",
              "      <th>003_Creatinine</th>\n",
              "      <th>004_Uric Acid</th>\n",
              "      <th>005_Cholesterol</th>\n",
              "      <th>006_Triglyceride</th>\n",
              "      <th>008_HDL-C</th>\n",
              "      <th>009_LDL</th>\n",
              "      <th>010_AST</th>\n",
              "      <th>012_ALT</th>\n",
              "      <th>013_Alkaline Phos</th>\n",
              "      <th>071_HbA1c</th>\n",
              "    </tr>\n",
              "  </thead>\n",
              "  <tbody>\n",
              "    <tr>\n",
              "      <th>0</th>\n",
              "      <td>2</td>\n",
              "      <td>57.0</td>\n",
              "      <td>47.4</td>\n",
              "      <td>153.0</td>\n",
              "      <td>NaN</td>\n",
              "      <td>114.0</td>\n",
              "      <td>75.0</td>\n",
              "      <td>69.0</td>\n",
              "      <td>19.3</td>\n",
              "      <td>12.5</td>\n",
              "      <td>...</td>\n",
              "      <td>1.0</td>\n",
              "      <td>5.0</td>\n",
              "      <td>176.0</td>\n",
              "      <td>51.0</td>\n",
              "      <td>72.0</td>\n",
              "      <td>94.0</td>\n",
              "      <td>16.0</td>\n",
              "      <td>16.0</td>\n",
              "      <td>62.0</td>\n",
              "      <td>5.1</td>\n",
              "    </tr>\n",
              "    <tr>\n",
              "      <th>1</th>\n",
              "      <td>2</td>\n",
              "      <td>24.0</td>\n",
              "      <td>53.2</td>\n",
              "      <td>157.0</td>\n",
              "      <td>21.6</td>\n",
              "      <td>103.0</td>\n",
              "      <td>69.0</td>\n",
              "      <td>78.0</td>\n",
              "      <td>21.3</td>\n",
              "      <td>14.6</td>\n",
              "      <td>...</td>\n",
              "      <td>0.8</td>\n",
              "      <td>5.2</td>\n",
              "      <td>159.0</td>\n",
              "      <td>45.0</td>\n",
              "      <td>52.0</td>\n",
              "      <td>98.0</td>\n",
              "      <td>13.0</td>\n",
              "      <td>17.0</td>\n",
              "      <td>50.0</td>\n",
              "      <td>5.4</td>\n",
              "    </tr>\n",
              "    <tr>\n",
              "      <th>2</th>\n",
              "      <td>2</td>\n",
              "      <td>62.0</td>\n",
              "      <td>54.4</td>\n",
              "      <td>165.0</td>\n",
              "      <td>NaN</td>\n",
              "      <td>95.0</td>\n",
              "      <td>75.0</td>\n",
              "      <td>83.0</td>\n",
              "      <td>21.6</td>\n",
              "      <td>15.2</td>\n",
              "      <td>...</td>\n",
              "      <td>0.7</td>\n",
              "      <td>4.1</td>\n",
              "      <td>230.0</td>\n",
              "      <td>94.0</td>\n",
              "      <td>61.0</td>\n",
              "      <td>151.0</td>\n",
              "      <td>18.0</td>\n",
              "      <td>31.0</td>\n",
              "      <td>76.0</td>\n",
              "      <td>5.6</td>\n",
              "    </tr>\n",
              "    <tr>\n",
              "      <th>3</th>\n",
              "      <td>2</td>\n",
              "      <td>35.0</td>\n",
              "      <td>56.3</td>\n",
              "      <td>161.0</td>\n",
              "      <td>21.7</td>\n",
              "      <td>95.0</td>\n",
              "      <td>57.0</td>\n",
              "      <td>72.0</td>\n",
              "      <td>22.5</td>\n",
              "      <td>15.4</td>\n",
              "      <td>...</td>\n",
              "      <td>0.6</td>\n",
              "      <td>5.0</td>\n",
              "      <td>198.0</td>\n",
              "      <td>47.0</td>\n",
              "      <td>68.0</td>\n",
              "      <td>120.0</td>\n",
              "      <td>16.0</td>\n",
              "      <td>20.0</td>\n",
              "      <td>35.0</td>\n",
              "      <td>5.1</td>\n",
              "    </tr>\n",
              "    <tr>\n",
              "      <th>4</th>\n",
              "      <td>1</td>\n",
              "      <td>46.0</td>\n",
              "      <td>72.3</td>\n",
              "      <td>170.0</td>\n",
              "      <td>NaN</td>\n",
              "      <td>133.0</td>\n",
              "      <td>77.0</td>\n",
              "      <td>107.0</td>\n",
              "      <td>29.2</td>\n",
              "      <td>19.0</td>\n",
              "      <td>...</td>\n",
              "      <td>0.9</td>\n",
              "      <td>6.9</td>\n",
              "      <td>194.0</td>\n",
              "      <td>63.0</td>\n",
              "      <td>60.0</td>\n",
              "      <td>122.0</td>\n",
              "      <td>15.0</td>\n",
              "      <td>19.0</td>\n",
              "      <td>69.0</td>\n",
              "      <td>5.2</td>\n",
              "    </tr>\n",
              "    <tr>\n",
              "      <th>...</th>\n",
              "      <td>...</td>\n",
              "      <td>...</td>\n",
              "      <td>...</td>\n",
              "      <td>...</td>\n",
              "      <td>...</td>\n",
              "      <td>...</td>\n",
              "      <td>...</td>\n",
              "      <td>...</td>\n",
              "      <td>...</td>\n",
              "      <td>...</td>\n",
              "      <td>...</td>\n",
              "      <td>...</td>\n",
              "      <td>...</td>\n",
              "      <td>...</td>\n",
              "      <td>...</td>\n",
              "      <td>...</td>\n",
              "      <td>...</td>\n",
              "      <td>...</td>\n",
              "      <td>...</td>\n",
              "      <td>...</td>\n",
              "      <td>...</td>\n",
              "    </tr>\n",
              "    <tr>\n",
              "      <th>148</th>\n",
              "      <td>1</td>\n",
              "      <td>60.0</td>\n",
              "      <td>72.0</td>\n",
              "      <td>170.0</td>\n",
              "      <td>NaN</td>\n",
              "      <td>131.0</td>\n",
              "      <td>74.0</td>\n",
              "      <td>69.0</td>\n",
              "      <td>30.5</td>\n",
              "      <td>13.8</td>\n",
              "      <td>...</td>\n",
              "      <td>0.9</td>\n",
              "      <td>6.9</td>\n",
              "      <td>182.0</td>\n",
              "      <td>179.0</td>\n",
              "      <td>39.0</td>\n",
              "      <td>107.0</td>\n",
              "      <td>36.0</td>\n",
              "      <td>31.0</td>\n",
              "      <td>79.0</td>\n",
              "      <td>6.5</td>\n",
              "    </tr>\n",
              "    <tr>\n",
              "      <th>149</th>\n",
              "      <td>1</td>\n",
              "      <td>58.0</td>\n",
              "      <td>62.0</td>\n",
              "      <td>168.0</td>\n",
              "      <td>22.0</td>\n",
              "      <td>103.0</td>\n",
              "      <td>76.0</td>\n",
              "      <td>72.0</td>\n",
              "      <td>27.8</td>\n",
              "      <td>11.9</td>\n",
              "      <td>...</td>\n",
              "      <td>1.0</td>\n",
              "      <td>6.8</td>\n",
              "      <td>191.0</td>\n",
              "      <td>62.0</td>\n",
              "      <td>47.0</td>\n",
              "      <td>132.0</td>\n",
              "      <td>16.0</td>\n",
              "      <td>33.0</td>\n",
              "      <td>42.0</td>\n",
              "      <td>6.8</td>\n",
              "    </tr>\n",
              "    <tr>\n",
              "      <th>150</th>\n",
              "      <td>2</td>\n",
              "      <td>42.0</td>\n",
              "      <td>55.5</td>\n",
              "      <td>165.0</td>\n",
              "      <td>20.4</td>\n",
              "      <td>102.0</td>\n",
              "      <td>52.0</td>\n",
              "      <td>77.0</td>\n",
              "      <td>22.9</td>\n",
              "      <td>14.1</td>\n",
              "      <td>...</td>\n",
              "      <td>0.8</td>\n",
              "      <td>4.7</td>\n",
              "      <td>212.0</td>\n",
              "      <td>68.0</td>\n",
              "      <td>63.0</td>\n",
              "      <td>135.0</td>\n",
              "      <td>11.0</td>\n",
              "      <td>16.0</td>\n",
              "      <td>33.0</td>\n",
              "      <td>4.8</td>\n",
              "    </tr>\n",
              "    <tr>\n",
              "      <th>151</th>\n",
              "      <td>2</td>\n",
              "      <td>61.0</td>\n",
              "      <td>61.8</td>\n",
              "      <td>159.0</td>\n",
              "      <td>24.4</td>\n",
              "      <td>117.0</td>\n",
              "      <td>60.0</td>\n",
              "      <td>72.0</td>\n",
              "      <td>23.4</td>\n",
              "      <td>19.2</td>\n",
              "      <td>...</td>\n",
              "      <td>0.8</td>\n",
              "      <td>5.1</td>\n",
              "      <td>235.0</td>\n",
              "      <td>66.0</td>\n",
              "      <td>56.0</td>\n",
              "      <td>166.0</td>\n",
              "      <td>15.0</td>\n",
              "      <td>23.0</td>\n",
              "      <td>44.0</td>\n",
              "      <td>5.4</td>\n",
              "    </tr>\n",
              "    <tr>\n",
              "      <th>152</th>\n",
              "      <td>2</td>\n",
              "      <td>31.0</td>\n",
              "      <td>58.2</td>\n",
              "      <td>169.0</td>\n",
              "      <td>20.4</td>\n",
              "      <td>108.0</td>\n",
              "      <td>69.0</td>\n",
              "      <td>73.0</td>\n",
              "      <td>25.0</td>\n",
              "      <td>13.0</td>\n",
              "      <td>...</td>\n",
              "      <td>0.7</td>\n",
              "      <td>4.3</td>\n",
              "      <td>200.0</td>\n",
              "      <td>44.0</td>\n",
              "      <td>56.0</td>\n",
              "      <td>135.0</td>\n",
              "      <td>14.0</td>\n",
              "      <td>21.0</td>\n",
              "      <td>31.0</td>\n",
              "      <td>4.7</td>\n",
              "    </tr>\n",
              "  </tbody>\n",
              "</table>\n",
              "<p>153 rows × 26 columns</p>\n",
              "</div>\n",
              "      <button class=\"colab-df-convert\" onclick=\"convertToInteractive('df-ebd8e11f-4d6c-4449-a337-c18cebe4d2cc')\"\n",
              "              title=\"Convert this dataframe to an interactive table.\"\n",
              "              style=\"display:none;\">\n",
              "        \n",
              "  <svg xmlns=\"http://www.w3.org/2000/svg\" height=\"24px\"viewBox=\"0 0 24 24\"\n",
              "       width=\"24px\">\n",
              "    <path d=\"M0 0h24v24H0V0z\" fill=\"none\"/>\n",
              "    <path d=\"M18.56 5.44l.94 2.06.94-2.06 2.06-.94-2.06-.94-.94-2.06-.94 2.06-2.06.94zm-11 1L8.5 8.5l.94-2.06 2.06-.94-2.06-.94L8.5 2.5l-.94 2.06-2.06.94zm10 10l.94 2.06.94-2.06 2.06-.94-2.06-.94-.94-2.06-.94 2.06-2.06.94z\"/><path d=\"M17.41 7.96l-1.37-1.37c-.4-.4-.92-.59-1.43-.59-.52 0-1.04.2-1.43.59L10.3 9.45l-7.72 7.72c-.78.78-.78 2.05 0 2.83L4 21.41c.39.39.9.59 1.41.59.51 0 1.02-.2 1.41-.59l7.78-7.78 2.81-2.81c.8-.78.8-2.07 0-2.86zM5.41 20L4 18.59l7.72-7.72 1.47 1.35L5.41 20z\"/>\n",
              "  </svg>\n",
              "      </button>\n",
              "      \n",
              "  <style>\n",
              "    .colab-df-container {\n",
              "      display:flex;\n",
              "      flex-wrap:wrap;\n",
              "      gap: 12px;\n",
              "    }\n",
              "\n",
              "    .colab-df-convert {\n",
              "      background-color: #E8F0FE;\n",
              "      border: none;\n",
              "      border-radius: 50%;\n",
              "      cursor: pointer;\n",
              "      display: none;\n",
              "      fill: #1967D2;\n",
              "      height: 32px;\n",
              "      padding: 0 0 0 0;\n",
              "      width: 32px;\n",
              "    }\n",
              "\n",
              "    .colab-df-convert:hover {\n",
              "      background-color: #E2EBFA;\n",
              "      box-shadow: 0px 1px 2px rgba(60, 64, 67, 0.3), 0px 1px 3px 1px rgba(60, 64, 67, 0.15);\n",
              "      fill: #174EA6;\n",
              "    }\n",
              "\n",
              "    [theme=dark] .colab-df-convert {\n",
              "      background-color: #3B4455;\n",
              "      fill: #D2E3FC;\n",
              "    }\n",
              "\n",
              "    [theme=dark] .colab-df-convert:hover {\n",
              "      background-color: #434B5C;\n",
              "      box-shadow: 0px 1px 3px 1px rgba(0, 0, 0, 0.15);\n",
              "      filter: drop-shadow(0px 1px 2px rgba(0, 0, 0, 0.3));\n",
              "      fill: #FFFFFF;\n",
              "    }\n",
              "  </style>\n",
              "\n",
              "      <script>\n",
              "        const buttonEl =\n",
              "          document.querySelector('#df-ebd8e11f-4d6c-4449-a337-c18cebe4d2cc button.colab-df-convert');\n",
              "        buttonEl.style.display =\n",
              "          google.colab.kernel.accessAllowed ? 'block' : 'none';\n",
              "\n",
              "        async function convertToInteractive(key) {\n",
              "          const element = document.querySelector('#df-ebd8e11f-4d6c-4449-a337-c18cebe4d2cc');\n",
              "          const dataTable =\n",
              "            await google.colab.kernel.invokeFunction('convertToInteractive',\n",
              "                                                     [key], {});\n",
              "          if (!dataTable) return;\n",
              "\n",
              "          const docLinkHtml = 'Like what you see? Visit the ' +\n",
              "            '<a target=\"_blank\" href=https://colab.research.google.com/notebooks/data_table.ipynb>data table notebook</a>'\n",
              "            + ' to learn more about interactive tables.';\n",
              "          element.innerHTML = '';\n",
              "          dataTable['output_type'] = 'display_data';\n",
              "          await google.colab.output.renderOutput(dataTable, element);\n",
              "          const docLink = document.createElement('div');\n",
              "          docLink.innerHTML = docLinkHtml;\n",
              "          element.appendChild(docLink);\n",
              "        }\n",
              "      </script>\n",
              "    </div>\n",
              "  </div>\n",
              "  "
            ]
          },
          "metadata": {},
          "execution_count": 97
        }
      ]
    },
    {
      "cell_type": "markdown",
      "source": [
        "## Imputation using Mean"
      ],
      "metadata": {
        "id": "zsQM_EY35CxF"
      }
    },
    {
      "cell_type": "code",
      "source": [
        "from sklearn.impute import SimpleImputer"
      ],
      "metadata": {
        "id": "q1cKpKhO5CxF"
      },
      "execution_count": 98,
      "outputs": []
    },
    {
      "cell_type": "code",
      "source": [
        "t_start = time.time()\n",
        "mean50_imputer = SimpleImputer(strategy='mean')\n",
        "for i in range(1,1001):\n",
        "  globals()[f'imputed_mean50_{i}'] = mean50_imputer.fit_transform(globals()[f'BMI50_{i}'].copy()) #for loop miss forest impputation \n",
        "  globals()[f'MSE_MEAN50_{i}'] = mean_squared_error(data, globals()[f'imputed_mean50_{i}']) # for loop mean_squared_error\n",
        "t_end = time.time()\n",
        "t50_MEAN = (t_end- t_start)"
      ],
      "metadata": {
        "id": "AN9tLTag5CxF"
      },
      "execution_count": 99,
      "outputs": []
    },
    {
      "cell_type": "code",
      "source": [
        "t_start = time.time()\n",
        "mse_mean50_total = 0 \n",
        "MSE_MEAN50_1001 = 0\n",
        "for i in range(0,1001):\n",
        "  mse_mean50_total = mse_mean50_total + globals()[f'MSE_MEAN50_{i+1}']\n",
        "AMSE_BMI50_mean = mse_mean50_total/1000\n",
        "print(f'AMSE_BMI50_mean = {AMSE_BMI50_mean}')\n",
        "t_end = time.time()\n",
        "print(f'เวลาที่ใช้ในการประมวลผล {t_end- t_start} วินาที')\n",
        "print(f'เวลาที่ใช้ในการประมวลผล {(t_end- t_start)/60} นาที')"
      ],
      "metadata": {
        "id": "t2R9Lede5CxF",
        "colab": {
          "base_uri": "https://localhost:8080/"
        },
        "outputId": "7985536b-6067-4a8e-b473-ce44c0de2099"
      },
      "execution_count": 100,
      "outputs": [
        {
          "output_type": "stream",
          "name": "stdout",
          "text": [
            "AMSE_BMI50_mean = 0.0979904931478842\n",
            "เวลาที่ใช้ในการประมวลผล 0.0014824867248535156 วินาที\n",
            "เวลาที่ใช้ในการประมวลผล 2.470811208089193e-05 นาที\n"
          ]
        }
      ]
    },
    {
      "cell_type": "markdown",
      "source": [
        "## Imputation using the miss forest"
      ],
      "metadata": {
        "id": "KxQMxl4x5CxF"
      }
    },
    {
      "cell_type": "code",
      "source": [
        "import sys\n",
        "import sklearn.neighbors._base\n",
        "sys.modules['sklearn.neighbors.base'] = sklearn.neighbors._base\n",
        "!pip install missingpy\n",
        "import missingpy\n",
        "from missingpy import MissForest\n",
        "from sklearn.metrics import mean_squared_error"
      ],
      "metadata": {
        "id": "c10-E_OL5CxF",
        "colab": {
          "base_uri": "https://localhost:8080/"
        },
        "outputId": "d9196872-435c-483c-a8fc-48f08527c2ca"
      },
      "execution_count": 101,
      "outputs": [
        {
          "output_type": "stream",
          "name": "stdout",
          "text": [
            "Looking in indexes: https://pypi.org/simple, https://us-python.pkg.dev/colab-wheels/public/simple/\n",
            "Requirement already satisfied: missingpy in /usr/local/lib/python3.8/dist-packages (0.2.0)\n"
          ]
        }
      ]
    },
    {
      "cell_type": "code",
      "source": [
        "t_start = time.time()\n",
        "MF50_imputer = MissForest()\n",
        "for i in range(1,1001):\n",
        "  globals()[f'imputed_mf50_{i}'] = MF50_imputer.fit_transform(globals()[f'BMI50_{i}'].copy()) #for loop miss forest impputation \n",
        "  globals()[f'MSE_MF50_{i}'] = mean_squared_error(data, globals()[f'imputed_mf50_{i}']) # for loop mean_squared_error\n",
        "t_end = time.time()\n",
        "t50_MF = (t_end- t_start)"
      ],
      "metadata": {
        "id": "4jgSbYVu5CxF"
      },
      "execution_count": null,
      "outputs": []
    },
    {
      "cell_type": "code",
      "source": [
        "t_start = time.time()\n",
        "mse_mf50_total = 0 \n",
        "MSE_MF50_1001 = 0\n",
        "for i in range(0,1001):\n",
        "  mse_mf50_total = mse_mf50_total + globals()[f'MSE_MF50_{i+1}']\n",
        "AMSE_BMI50_mf = mse_mf50_total/1000\n",
        "print(f'AMSE_BMI50_mf = {AMSE_BMI50_mf}')\n",
        "t_end = time.time()\n",
        "print(f'เวลาที่ใช้ในการประมวลผล {t_end- t_start} วินาที')\n",
        "print(f'เวลาที่ใช้ในการประมวลผล {(t_end- t_start)/60} นาที')"
      ],
      "metadata": {
        "id": "NEs1DrsU5CxG",
        "colab": {
          "base_uri": "https://localhost:8080/"
        },
        "outputId": "4470b5a3-5f89-4303-c595-faa4231922b3"
      },
      "execution_count": 103,
      "outputs": [
        {
          "output_type": "stream",
          "name": "stdout",
          "text": [
            "AMSE_BMI50_mf = 0.02690860875540468\n",
            "เวลาที่ใช้ในการประมวลผล 0.001432657241821289 วินาที\n",
            "เวลาที่ใช้ในการประมวลผล 2.3877620697021486e-05 นาที\n"
          ]
        }
      ]
    },
    {
      "cell_type": "markdown",
      "source": [
        "## Imputation using the KNN"
      ],
      "metadata": {
        "id": "2Hg2k_PK5CxG"
      }
    },
    {
      "cell_type": "code",
      "source": [
        "from sklearn import neighbors\n",
        "from sklearn.impute import KNNImputer"
      ],
      "metadata": {
        "id": "0Uc7nuFW5CxG"
      },
      "execution_count": 104,
      "outputs": []
    },
    {
      "cell_type": "code",
      "source": [
        "t_start = time.time()\n",
        "KNN50_imputer = KNNImputer(n_neighbors = 15)\n",
        "for i in range(1,1001):\n",
        "  globals()[f'imputed_KNN50_{i}'] = KNN50_imputer.fit_transform(globals()[f'BMI50_{i}'].copy())\n",
        "  globals()[f'MSE_KNN50_{i}'] = mean_squared_error(data, globals()[f'imputed_KNN50_{i}'])\n",
        "t_end = time.time()\n",
        "t50_KNN = (t_end- t_start)"
      ],
      "metadata": {
        "id": "kKu_4B2z5CxG"
      },
      "execution_count": 105,
      "outputs": []
    },
    {
      "cell_type": "code",
      "source": [
        "t_start = time.time()\n",
        "mse_knn50_total = 0 \n",
        "MSE_KNN50_1001 = 0\n",
        "for i in range(0,1001):\n",
        "  mse_knn50_total = mse_knn50_total + globals()[f'MSE_KNN50_{i+1}']\n",
        "AMSE_BMI50_knn = mse_knn50_total/1000\n",
        "print(f'AMSE_BMI50_knn = {AMSE_BMI50_knn}')\n",
        "t_end = time.time()\n",
        "print(f'เวลาที่ใช้ในการประมวลผล {t_end- t_start} วินาที')\n",
        "print(f'เวลาที่ใช้ในการประมวลผล {(t_end- t_start)/60} นาที')"
      ],
      "metadata": {
        "id": "Ryv_HNUY5CxG",
        "colab": {
          "base_uri": "https://localhost:8080/"
        },
        "outputId": "3283afe8-5846-4d1c-e372-2778642a5969"
      },
      "execution_count": 106,
      "outputs": [
        {
          "output_type": "stream",
          "name": "stdout",
          "text": [
            "AMSE_BMI50_knn = 0.0561649139936316\n",
            "เวลาที่ใช้ในการประมวลผล 0.0026586055755615234 วินาที\n",
            "เวลาที่ใช้ในการประมวลผล 4.431009292602539e-05 นาที\n"
          ]
        }
      ]
    },
    {
      "cell_type": "markdown",
      "source": [
        "## Imputation using the MICE"
      ],
      "metadata": {
        "id": "3sQ8lPP45CxG"
      }
    },
    {
      "cell_type": "code",
      "source": [
        "from sklearn.experimental import enable_iterative_imputer\n",
        "from sklearn.impute import IterativeImputer\n",
        "from sklearn.linear_model import LinearRegression\n",
        "from sklearn import svm"
      ],
      "metadata": {
        "id": "0mDo68T_5CxG"
      },
      "execution_count": 107,
      "outputs": []
    },
    {
      "cell_type": "markdown",
      "source": [
        "### LinearRegression model"
      ],
      "metadata": {
        "id": "2HkBT00U5CxH"
      }
    },
    {
      "cell_type": "code",
      "source": [
        "t_start = time.time()\n",
        "lr = LinearRegression()\n",
        "for i in range(1,1001):\n",
        "  imp = IterativeImputer(estimator= lr , max_iter= 10, verbose=2, imputation_order='roman',initial_strategy = 'mean',random_state= i)\n",
        "  globals()[f'imputed_lr50_{i}'] = imp.fit_transform(globals()[f'BMI50_{i}'].copy())\n",
        "  globals()[f'MSE_lr50_{i}'] = mean_squared_error(data, globals()[f'imputed_lr50_{i}'])\n",
        "t_end = time.time()\n",
        "t50_LR = (t_end- t_start)"
      ],
      "metadata": {
        "id": "OVl-oZMC5CxH"
      },
      "execution_count": null,
      "outputs": []
    },
    {
      "cell_type": "code",
      "source": [
        "t_start = time.time()\n",
        "mse_lr50_total = 0 \n",
        "MSE_lr50_1001 = 0\n",
        "for i in range(0,1001):\n",
        "  mse_lr50_total = mse_lr50_total + globals()[f'MSE_lr50_{i+1}']\n",
        "AMSE_BMI50_lr = mse_lr50_total/1000\n",
        "print(f'AMSE_BMI50_lr = {AMSE_BMI50_lr}')\n",
        "t_end = time.time()\n",
        "print(f'เวลาที่ใช้ในการประมวลผล {t_end- t_start} วินาที')\n",
        "print(f'เวลาที่ใช้ในการประมวลผล {(t_end- t_start)/60} นาที')"
      ],
      "metadata": {
        "id": "WBUkD7lh5CxH",
        "colab": {
          "base_uri": "https://localhost:8080/"
        },
        "outputId": "b2be32b6-07aa-47d8-ca3b-b713bf442277"
      },
      "execution_count": 109,
      "outputs": [
        {
          "output_type": "stream",
          "name": "stdout",
          "text": [
            "AMSE_BMI50_lr = 0.010596769895478584\n",
            "เวลาที่ใช้ในการประมวลผล 0.0012433528900146484 วินาที\n",
            "เวลาที่ใช้ในการประมวลผล 2.072254816691081e-05 นาที\n"
          ]
        }
      ]
    },
    {
      "cell_type": "markdown",
      "source": [
        "### Support Vector Machine model"
      ],
      "metadata": {
        "id": "IiGbBbaq5CxH"
      }
    },
    {
      "cell_type": "code",
      "source": [
        "t_start = time.time()\n",
        "regr = svm.SVR()\n",
        "for i in range(1,1001):\n",
        "  svm_svr = IterativeImputer(estimator= regr, max_iter= 10, verbose=2, imputation_order='roman',initial_strategy = 'mean',random_state= i)\n",
        "  globals()[f'imputed_svm50_{i}'] = svm_svr.fit_transform(globals()[f'BMI50_{i}'].copy())\n",
        "  globals()[f'MSE_svm50_{i}'] = mean_squared_error(data, globals()[f'imputed_svm50_{i}'])\n",
        "t_end = time.time()\n",
        "t50_SVM = (t_end- t_start)"
      ],
      "metadata": {
        "id": "h5LAYHJp5CxH"
      },
      "execution_count": null,
      "outputs": []
    },
    {
      "cell_type": "code",
      "source": [
        "t_start = time.time()\n",
        "mse_svm50_total = 0 \n",
        "MSE_svm50_1001 = 0\n",
        "for i in range(0,1001):\n",
        "  mse_svm50_total = mse_svm50_total + globals()[f'MSE_svm50_{i+1}']\n",
        "AMSE_BMI50_svm = mse_svm50_total/1000\n",
        "print(f'AMSE_BMI50_svm = {AMSE_BMI50_svm}')\n",
        "t_end = time.time()\n",
        "print(f'เวลาที่ใช้ในการประมวลผล {t_end- t_start} วินาที')\n",
        "print(f'เวลาที่ใช้ในการประมวลผล {(t_end- t_start)/60} นาที')"
      ],
      "metadata": {
        "id": "wpFlfe4U5CxH",
        "colab": {
          "base_uri": "https://localhost:8080/"
        },
        "outputId": "ec617e39-a8a1-45cf-8afa-1072e613d71c"
      },
      "execution_count": 111,
      "outputs": [
        {
          "output_type": "stream",
          "name": "stdout",
          "text": [
            "AMSE_BMI50_svm = 0.06212689812546626\n",
            "เวลาที่ใช้ในการประมวลผล 0.0016186237335205078 วินาที\n",
            "เวลาที่ใช้ในการประมวลผล 2.6977062225341798e-05 นาที\n"
          ]
        }
      ]
    },
    {
      "cell_type": "markdown",
      "source": [
        "## Imputation using the EM"
      ],
      "metadata": {
        "id": "PtaO25rz5CxI"
      }
    },
    {
      "cell_type": "markdown",
      "source": [
        "### impy.em"
      ],
      "metadata": {
        "id": "GGSdcCYV5CxI"
      }
    },
    {
      "cell_type": "code",
      "source": [
        "!pip install impyute\n",
        "import impyute as impy"
      ],
      "metadata": {
        "id": "IKTlJokL5CxI",
        "colab": {
          "base_uri": "https://localhost:8080/"
        },
        "outputId": "a263df63-862d-45b6-bf7f-ad0a1345f490"
      },
      "execution_count": 112,
      "outputs": [
        {
          "output_type": "stream",
          "name": "stdout",
          "text": [
            "Looking in indexes: https://pypi.org/simple, https://us-python.pkg.dev/colab-wheels/public/simple/\n",
            "Requirement already satisfied: impyute in /usr/local/lib/python3.8/dist-packages (0.0.8)\n",
            "Requirement already satisfied: scikit-learn in /usr/local/lib/python3.8/dist-packages (from impyute) (1.0.2)\n",
            "Requirement already satisfied: numpy in /usr/local/lib/python3.8/dist-packages (from impyute) (1.21.6)\n",
            "Requirement already satisfied: scipy in /usr/local/lib/python3.8/dist-packages (from impyute) (1.7.3)\n",
            "Requirement already satisfied: threadpoolctl>=2.0.0 in /usr/local/lib/python3.8/dist-packages (from scikit-learn->impyute) (3.1.0)\n",
            "Requirement already satisfied: joblib>=0.11 in /usr/local/lib/python3.8/dist-packages (from scikit-learn->impyute) (1.2.0)\n"
          ]
        }
      ]
    },
    {
      "cell_type": "code",
      "source": [
        "t_start = time.time()\n",
        "for i in range(1,1001):\n",
        "  globals()[f'imputed_impy50_{i}'] = impy.em(globals()[f'BMI50_{i}'].values.copy())\n",
        "  globals()[f'MSE_impy50_{i}'] = mean_squared_error(data, globals()[f'imputed_impy50_{i}'])\n",
        "t_end = time.time()\n",
        "t50_EM = (t_end- t_start)"
      ],
      "metadata": {
        "id": "JtbESpzv5CxI"
      },
      "execution_count": 113,
      "outputs": []
    },
    {
      "cell_type": "code",
      "source": [
        "t_start = time.time()\n",
        "mse_impy50_total = 0 \n",
        "MSE_impy50_1001 = 0\n",
        "for i in range(0,1001):\n",
        "  mse_impy50_total = mse_impy50_total + globals()[f'MSE_impy50_{i+1}']\n",
        "AMSE_BMI50_impy = mse_impy50_total/1000\n",
        "print(f'AMSE_BMI50_impy = {AMSE_BMI50_impy}')\n",
        "t_end = time.time()\n",
        "print(f'เวลาที่ใช้ในการประมวลผล {t_end- t_start} วินาที')\n",
        "print(f'เวลาที่ใช้ในการประมวลผล {(t_end- t_start)/60} นาที')"
      ],
      "metadata": {
        "id": "zYc0LhiU5CxI",
        "colab": {
          "base_uri": "https://localhost:8080/"
        },
        "outputId": "ac1aefba-e6c3-4818-d133-1ed11e1dac71"
      },
      "execution_count": 114,
      "outputs": [
        {
          "output_type": "stream",
          "name": "stdout",
          "text": [
            "AMSE_BMI50_impy = 0.18533223240122534\n",
            "เวลาที่ใช้ในการประมวลผล 0.0012433528900146484 วินาที\n",
            "เวลาที่ใช้ในการประมวลผล 2.072254816691081e-05 นาที\n"
          ]
        }
      ]
    },
    {
      "cell_type": "code",
      "source": [],
      "metadata": {
        "id": "TT3osM6_5CxI"
      },
      "execution_count": 114,
      "outputs": []
    },
    {
      "cell_type": "markdown",
      "source": [
        "# 60 % random nan"
      ],
      "metadata": {
        "id": "nEaoPWrp7Jgo"
      }
    },
    {
      "cell_type": "code",
      "source": [
        "t_start = time.time()\n",
        "for i in range(1,1001):\n",
        "  globals()[f'BMI60_{i}'] = data.copy() # for loop variable name\n",
        "  np.random.seed(i) # for loop seed\n",
        "  n = int((153*60/100)) \n",
        "  index_nan = np.random.choice(globals()[f'BMI60_{i}']['BMI'].size, n, replace=False) #globals()[name dataframe][column name].size\n",
        "  globals()[f'BMI60_{i}']['BMI'].ravel()[index_nan] = np.nan\n",
        "t_end = time.time()\n",
        "print(f'เวลาที่ใช้ในการประมวลผล {t_end- t_start} วินาที')\n",
        "print(f'เวลาที่ใช้ในการประมวลผล {(t_end- t_start)/60} นาที')"
      ],
      "metadata": {
        "id": "H-FmVEpx7Jgo",
        "colab": {
          "base_uri": "https://localhost:8080/"
        },
        "outputId": "5b6ffd68-dbfe-490f-9d8a-720059a65d82"
      },
      "execution_count": 115,
      "outputs": [
        {
          "output_type": "stream",
          "name": "stdout",
          "text": [
            "เวลาที่ใช้ในการประมวลผล 0.15906405448913574 วินาที\n",
            "เวลาที่ใช้ในการประมวลผล 0.002651067574818929 นาที\n"
          ]
        }
      ]
    },
    {
      "cell_type": "code",
      "source": [
        "BMI60_1"
      ],
      "metadata": {
        "colab": {
          "base_uri": "https://localhost:8080/",
          "height": 423
        },
        "id": "5B_Rq68a7Jgp",
        "outputId": "9302e677-eb04-48c5-dee9-788eb657c816"
      },
      "execution_count": 116,
      "outputs": [
        {
          "output_type": "execute_result",
          "data": {
            "text/plain": [
              "     Sex  AgeSYear  Weight  Height   BMI  Systolic  Diastolic  HeartRate  \\\n",
              "0      2      57.0    47.4   153.0   NaN     114.0       75.0       69.0   \n",
              "1      2      24.0    53.2   157.0  21.6     103.0       69.0       78.0   \n",
              "2      2      62.0    54.4   165.0   NaN      95.0       75.0       83.0   \n",
              "3      2      35.0    56.3   161.0  21.7      95.0       57.0       72.0   \n",
              "4      1      46.0    72.3   170.0   NaN     133.0       77.0      107.0   \n",
              "..   ...       ...     ...     ...   ...       ...        ...        ...   \n",
              "148    1      60.0    72.0   170.0   NaN     131.0       74.0       69.0   \n",
              "149    1      58.0    62.0   168.0  22.0     103.0       76.0       72.0   \n",
              "150    2      42.0    55.5   165.0  20.4     102.0       52.0       77.0   \n",
              "151    2      61.0    61.8   159.0   NaN     117.0       60.0       72.0   \n",
              "152    2      31.0    58.2   169.0   NaN     108.0       69.0       73.0   \n",
              "\n",
              "      SMM  Fat Mass  ...  003_Creatinine  004_Uric Acid  005_Cholesterol  \\\n",
              "0    19.3      12.5  ...             1.0            5.0            176.0   \n",
              "1    21.3      14.6  ...             0.8            5.2            159.0   \n",
              "2    21.6      15.2  ...             0.7            4.1            230.0   \n",
              "3    22.5      15.4  ...             0.6            5.0            198.0   \n",
              "4    29.2      19.0  ...             0.9            6.9            194.0   \n",
              "..    ...       ...  ...             ...            ...              ...   \n",
              "148  30.5      13.8  ...             0.9            6.9            182.0   \n",
              "149  27.8      11.9  ...             1.0            6.8            191.0   \n",
              "150  22.9      14.1  ...             0.8            4.7            212.0   \n",
              "151  23.4      19.2  ...             0.8            5.1            235.0   \n",
              "152  25.0      13.0  ...             0.7            4.3            200.0   \n",
              "\n",
              "     006_Triglyceride  008_HDL-C  009_LDL  010_AST  012_ALT  \\\n",
              "0                51.0       72.0     94.0     16.0     16.0   \n",
              "1                45.0       52.0     98.0     13.0     17.0   \n",
              "2                94.0       61.0    151.0     18.0     31.0   \n",
              "3                47.0       68.0    120.0     16.0     20.0   \n",
              "4                63.0       60.0    122.0     15.0     19.0   \n",
              "..                ...        ...      ...      ...      ...   \n",
              "148             179.0       39.0    107.0     36.0     31.0   \n",
              "149              62.0       47.0    132.0     16.0     33.0   \n",
              "150              68.0       63.0    135.0     11.0     16.0   \n",
              "151              66.0       56.0    166.0     15.0     23.0   \n",
              "152              44.0       56.0    135.0     14.0     21.0   \n",
              "\n",
              "     013_Alkaline Phos  071_HbA1c  \n",
              "0                 62.0        5.1  \n",
              "1                 50.0        5.4  \n",
              "2                 76.0        5.6  \n",
              "3                 35.0        5.1  \n",
              "4                 69.0        5.2  \n",
              "..                 ...        ...  \n",
              "148               79.0        6.5  \n",
              "149               42.0        6.8  \n",
              "150               33.0        4.8  \n",
              "151               44.0        5.4  \n",
              "152               31.0        4.7  \n",
              "\n",
              "[153 rows x 26 columns]"
            ],
            "text/html": [
              "\n",
              "  <div id=\"df-e4e8816c-34ac-4620-b1cd-ba26c5ea5b70\">\n",
              "    <div class=\"colab-df-container\">\n",
              "      <div>\n",
              "<style scoped>\n",
              "    .dataframe tbody tr th:only-of-type {\n",
              "        vertical-align: middle;\n",
              "    }\n",
              "\n",
              "    .dataframe tbody tr th {\n",
              "        vertical-align: top;\n",
              "    }\n",
              "\n",
              "    .dataframe thead th {\n",
              "        text-align: right;\n",
              "    }\n",
              "</style>\n",
              "<table border=\"1\" class=\"dataframe\">\n",
              "  <thead>\n",
              "    <tr style=\"text-align: right;\">\n",
              "      <th></th>\n",
              "      <th>Sex</th>\n",
              "      <th>AgeSYear</th>\n",
              "      <th>Weight</th>\n",
              "      <th>Height</th>\n",
              "      <th>BMI</th>\n",
              "      <th>Systolic</th>\n",
              "      <th>Diastolic</th>\n",
              "      <th>HeartRate</th>\n",
              "      <th>SMM</th>\n",
              "      <th>Fat Mass</th>\n",
              "      <th>...</th>\n",
              "      <th>003_Creatinine</th>\n",
              "      <th>004_Uric Acid</th>\n",
              "      <th>005_Cholesterol</th>\n",
              "      <th>006_Triglyceride</th>\n",
              "      <th>008_HDL-C</th>\n",
              "      <th>009_LDL</th>\n",
              "      <th>010_AST</th>\n",
              "      <th>012_ALT</th>\n",
              "      <th>013_Alkaline Phos</th>\n",
              "      <th>071_HbA1c</th>\n",
              "    </tr>\n",
              "  </thead>\n",
              "  <tbody>\n",
              "    <tr>\n",
              "      <th>0</th>\n",
              "      <td>2</td>\n",
              "      <td>57.0</td>\n",
              "      <td>47.4</td>\n",
              "      <td>153.0</td>\n",
              "      <td>NaN</td>\n",
              "      <td>114.0</td>\n",
              "      <td>75.0</td>\n",
              "      <td>69.0</td>\n",
              "      <td>19.3</td>\n",
              "      <td>12.5</td>\n",
              "      <td>...</td>\n",
              "      <td>1.0</td>\n",
              "      <td>5.0</td>\n",
              "      <td>176.0</td>\n",
              "      <td>51.0</td>\n",
              "      <td>72.0</td>\n",
              "      <td>94.0</td>\n",
              "      <td>16.0</td>\n",
              "      <td>16.0</td>\n",
              "      <td>62.0</td>\n",
              "      <td>5.1</td>\n",
              "    </tr>\n",
              "    <tr>\n",
              "      <th>1</th>\n",
              "      <td>2</td>\n",
              "      <td>24.0</td>\n",
              "      <td>53.2</td>\n",
              "      <td>157.0</td>\n",
              "      <td>21.6</td>\n",
              "      <td>103.0</td>\n",
              "      <td>69.0</td>\n",
              "      <td>78.0</td>\n",
              "      <td>21.3</td>\n",
              "      <td>14.6</td>\n",
              "      <td>...</td>\n",
              "      <td>0.8</td>\n",
              "      <td>5.2</td>\n",
              "      <td>159.0</td>\n",
              "      <td>45.0</td>\n",
              "      <td>52.0</td>\n",
              "      <td>98.0</td>\n",
              "      <td>13.0</td>\n",
              "      <td>17.0</td>\n",
              "      <td>50.0</td>\n",
              "      <td>5.4</td>\n",
              "    </tr>\n",
              "    <tr>\n",
              "      <th>2</th>\n",
              "      <td>2</td>\n",
              "      <td>62.0</td>\n",
              "      <td>54.4</td>\n",
              "      <td>165.0</td>\n",
              "      <td>NaN</td>\n",
              "      <td>95.0</td>\n",
              "      <td>75.0</td>\n",
              "      <td>83.0</td>\n",
              "      <td>21.6</td>\n",
              "      <td>15.2</td>\n",
              "      <td>...</td>\n",
              "      <td>0.7</td>\n",
              "      <td>4.1</td>\n",
              "      <td>230.0</td>\n",
              "      <td>94.0</td>\n",
              "      <td>61.0</td>\n",
              "      <td>151.0</td>\n",
              "      <td>18.0</td>\n",
              "      <td>31.0</td>\n",
              "      <td>76.0</td>\n",
              "      <td>5.6</td>\n",
              "    </tr>\n",
              "    <tr>\n",
              "      <th>3</th>\n",
              "      <td>2</td>\n",
              "      <td>35.0</td>\n",
              "      <td>56.3</td>\n",
              "      <td>161.0</td>\n",
              "      <td>21.7</td>\n",
              "      <td>95.0</td>\n",
              "      <td>57.0</td>\n",
              "      <td>72.0</td>\n",
              "      <td>22.5</td>\n",
              "      <td>15.4</td>\n",
              "      <td>...</td>\n",
              "      <td>0.6</td>\n",
              "      <td>5.0</td>\n",
              "      <td>198.0</td>\n",
              "      <td>47.0</td>\n",
              "      <td>68.0</td>\n",
              "      <td>120.0</td>\n",
              "      <td>16.0</td>\n",
              "      <td>20.0</td>\n",
              "      <td>35.0</td>\n",
              "      <td>5.1</td>\n",
              "    </tr>\n",
              "    <tr>\n",
              "      <th>4</th>\n",
              "      <td>1</td>\n",
              "      <td>46.0</td>\n",
              "      <td>72.3</td>\n",
              "      <td>170.0</td>\n",
              "      <td>NaN</td>\n",
              "      <td>133.0</td>\n",
              "      <td>77.0</td>\n",
              "      <td>107.0</td>\n",
              "      <td>29.2</td>\n",
              "      <td>19.0</td>\n",
              "      <td>...</td>\n",
              "      <td>0.9</td>\n",
              "      <td>6.9</td>\n",
              "      <td>194.0</td>\n",
              "      <td>63.0</td>\n",
              "      <td>60.0</td>\n",
              "      <td>122.0</td>\n",
              "      <td>15.0</td>\n",
              "      <td>19.0</td>\n",
              "      <td>69.0</td>\n",
              "      <td>5.2</td>\n",
              "    </tr>\n",
              "    <tr>\n",
              "      <th>...</th>\n",
              "      <td>...</td>\n",
              "      <td>...</td>\n",
              "      <td>...</td>\n",
              "      <td>...</td>\n",
              "      <td>...</td>\n",
              "      <td>...</td>\n",
              "      <td>...</td>\n",
              "      <td>...</td>\n",
              "      <td>...</td>\n",
              "      <td>...</td>\n",
              "      <td>...</td>\n",
              "      <td>...</td>\n",
              "      <td>...</td>\n",
              "      <td>...</td>\n",
              "      <td>...</td>\n",
              "      <td>...</td>\n",
              "      <td>...</td>\n",
              "      <td>...</td>\n",
              "      <td>...</td>\n",
              "      <td>...</td>\n",
              "      <td>...</td>\n",
              "    </tr>\n",
              "    <tr>\n",
              "      <th>148</th>\n",
              "      <td>1</td>\n",
              "      <td>60.0</td>\n",
              "      <td>72.0</td>\n",
              "      <td>170.0</td>\n",
              "      <td>NaN</td>\n",
              "      <td>131.0</td>\n",
              "      <td>74.0</td>\n",
              "      <td>69.0</td>\n",
              "      <td>30.5</td>\n",
              "      <td>13.8</td>\n",
              "      <td>...</td>\n",
              "      <td>0.9</td>\n",
              "      <td>6.9</td>\n",
              "      <td>182.0</td>\n",
              "      <td>179.0</td>\n",
              "      <td>39.0</td>\n",
              "      <td>107.0</td>\n",
              "      <td>36.0</td>\n",
              "      <td>31.0</td>\n",
              "      <td>79.0</td>\n",
              "      <td>6.5</td>\n",
              "    </tr>\n",
              "    <tr>\n",
              "      <th>149</th>\n",
              "      <td>1</td>\n",
              "      <td>58.0</td>\n",
              "      <td>62.0</td>\n",
              "      <td>168.0</td>\n",
              "      <td>22.0</td>\n",
              "      <td>103.0</td>\n",
              "      <td>76.0</td>\n",
              "      <td>72.0</td>\n",
              "      <td>27.8</td>\n",
              "      <td>11.9</td>\n",
              "      <td>...</td>\n",
              "      <td>1.0</td>\n",
              "      <td>6.8</td>\n",
              "      <td>191.0</td>\n",
              "      <td>62.0</td>\n",
              "      <td>47.0</td>\n",
              "      <td>132.0</td>\n",
              "      <td>16.0</td>\n",
              "      <td>33.0</td>\n",
              "      <td>42.0</td>\n",
              "      <td>6.8</td>\n",
              "    </tr>\n",
              "    <tr>\n",
              "      <th>150</th>\n",
              "      <td>2</td>\n",
              "      <td>42.0</td>\n",
              "      <td>55.5</td>\n",
              "      <td>165.0</td>\n",
              "      <td>20.4</td>\n",
              "      <td>102.0</td>\n",
              "      <td>52.0</td>\n",
              "      <td>77.0</td>\n",
              "      <td>22.9</td>\n",
              "      <td>14.1</td>\n",
              "      <td>...</td>\n",
              "      <td>0.8</td>\n",
              "      <td>4.7</td>\n",
              "      <td>212.0</td>\n",
              "      <td>68.0</td>\n",
              "      <td>63.0</td>\n",
              "      <td>135.0</td>\n",
              "      <td>11.0</td>\n",
              "      <td>16.0</td>\n",
              "      <td>33.0</td>\n",
              "      <td>4.8</td>\n",
              "    </tr>\n",
              "    <tr>\n",
              "      <th>151</th>\n",
              "      <td>2</td>\n",
              "      <td>61.0</td>\n",
              "      <td>61.8</td>\n",
              "      <td>159.0</td>\n",
              "      <td>NaN</td>\n",
              "      <td>117.0</td>\n",
              "      <td>60.0</td>\n",
              "      <td>72.0</td>\n",
              "      <td>23.4</td>\n",
              "      <td>19.2</td>\n",
              "      <td>...</td>\n",
              "      <td>0.8</td>\n",
              "      <td>5.1</td>\n",
              "      <td>235.0</td>\n",
              "      <td>66.0</td>\n",
              "      <td>56.0</td>\n",
              "      <td>166.0</td>\n",
              "      <td>15.0</td>\n",
              "      <td>23.0</td>\n",
              "      <td>44.0</td>\n",
              "      <td>5.4</td>\n",
              "    </tr>\n",
              "    <tr>\n",
              "      <th>152</th>\n",
              "      <td>2</td>\n",
              "      <td>31.0</td>\n",
              "      <td>58.2</td>\n",
              "      <td>169.0</td>\n",
              "      <td>NaN</td>\n",
              "      <td>108.0</td>\n",
              "      <td>69.0</td>\n",
              "      <td>73.0</td>\n",
              "      <td>25.0</td>\n",
              "      <td>13.0</td>\n",
              "      <td>...</td>\n",
              "      <td>0.7</td>\n",
              "      <td>4.3</td>\n",
              "      <td>200.0</td>\n",
              "      <td>44.0</td>\n",
              "      <td>56.0</td>\n",
              "      <td>135.0</td>\n",
              "      <td>14.0</td>\n",
              "      <td>21.0</td>\n",
              "      <td>31.0</td>\n",
              "      <td>4.7</td>\n",
              "    </tr>\n",
              "  </tbody>\n",
              "</table>\n",
              "<p>153 rows × 26 columns</p>\n",
              "</div>\n",
              "      <button class=\"colab-df-convert\" onclick=\"convertToInteractive('df-e4e8816c-34ac-4620-b1cd-ba26c5ea5b70')\"\n",
              "              title=\"Convert this dataframe to an interactive table.\"\n",
              "              style=\"display:none;\">\n",
              "        \n",
              "  <svg xmlns=\"http://www.w3.org/2000/svg\" height=\"24px\"viewBox=\"0 0 24 24\"\n",
              "       width=\"24px\">\n",
              "    <path d=\"M0 0h24v24H0V0z\" fill=\"none\"/>\n",
              "    <path d=\"M18.56 5.44l.94 2.06.94-2.06 2.06-.94-2.06-.94-.94-2.06-.94 2.06-2.06.94zm-11 1L8.5 8.5l.94-2.06 2.06-.94-2.06-.94L8.5 2.5l-.94 2.06-2.06.94zm10 10l.94 2.06.94-2.06 2.06-.94-2.06-.94-.94-2.06-.94 2.06-2.06.94z\"/><path d=\"M17.41 7.96l-1.37-1.37c-.4-.4-.92-.59-1.43-.59-.52 0-1.04.2-1.43.59L10.3 9.45l-7.72 7.72c-.78.78-.78 2.05 0 2.83L4 21.41c.39.39.9.59 1.41.59.51 0 1.02-.2 1.41-.59l7.78-7.78 2.81-2.81c.8-.78.8-2.07 0-2.86zM5.41 20L4 18.59l7.72-7.72 1.47 1.35L5.41 20z\"/>\n",
              "  </svg>\n",
              "      </button>\n",
              "      \n",
              "  <style>\n",
              "    .colab-df-container {\n",
              "      display:flex;\n",
              "      flex-wrap:wrap;\n",
              "      gap: 12px;\n",
              "    }\n",
              "\n",
              "    .colab-df-convert {\n",
              "      background-color: #E8F0FE;\n",
              "      border: none;\n",
              "      border-radius: 50%;\n",
              "      cursor: pointer;\n",
              "      display: none;\n",
              "      fill: #1967D2;\n",
              "      height: 32px;\n",
              "      padding: 0 0 0 0;\n",
              "      width: 32px;\n",
              "    }\n",
              "\n",
              "    .colab-df-convert:hover {\n",
              "      background-color: #E2EBFA;\n",
              "      box-shadow: 0px 1px 2px rgba(60, 64, 67, 0.3), 0px 1px 3px 1px rgba(60, 64, 67, 0.15);\n",
              "      fill: #174EA6;\n",
              "    }\n",
              "\n",
              "    [theme=dark] .colab-df-convert {\n",
              "      background-color: #3B4455;\n",
              "      fill: #D2E3FC;\n",
              "    }\n",
              "\n",
              "    [theme=dark] .colab-df-convert:hover {\n",
              "      background-color: #434B5C;\n",
              "      box-shadow: 0px 1px 3px 1px rgba(0, 0, 0, 0.15);\n",
              "      filter: drop-shadow(0px 1px 2px rgba(0, 0, 0, 0.3));\n",
              "      fill: #FFFFFF;\n",
              "    }\n",
              "  </style>\n",
              "\n",
              "      <script>\n",
              "        const buttonEl =\n",
              "          document.querySelector('#df-e4e8816c-34ac-4620-b1cd-ba26c5ea5b70 button.colab-df-convert');\n",
              "        buttonEl.style.display =\n",
              "          google.colab.kernel.accessAllowed ? 'block' : 'none';\n",
              "\n",
              "        async function convertToInteractive(key) {\n",
              "          const element = document.querySelector('#df-e4e8816c-34ac-4620-b1cd-ba26c5ea5b70');\n",
              "          const dataTable =\n",
              "            await google.colab.kernel.invokeFunction('convertToInteractive',\n",
              "                                                     [key], {});\n",
              "          if (!dataTable) return;\n",
              "\n",
              "          const docLinkHtml = 'Like what you see? Visit the ' +\n",
              "            '<a target=\"_blank\" href=https://colab.research.google.com/notebooks/data_table.ipynb>data table notebook</a>'\n",
              "            + ' to learn more about interactive tables.';\n",
              "          element.innerHTML = '';\n",
              "          dataTable['output_type'] = 'display_data';\n",
              "          await google.colab.output.renderOutput(dataTable, element);\n",
              "          const docLink = document.createElement('div');\n",
              "          docLink.innerHTML = docLinkHtml;\n",
              "          element.appendChild(docLink);\n",
              "        }\n",
              "      </script>\n",
              "    </div>\n",
              "  </div>\n",
              "  "
            ]
          },
          "metadata": {},
          "execution_count": 116
        }
      ]
    },
    {
      "cell_type": "markdown",
      "source": [
        "## Imputation using Mean"
      ],
      "metadata": {
        "id": "mnQVQbqJ7Jgp"
      }
    },
    {
      "cell_type": "code",
      "source": [
        "from sklearn.impute import SimpleImputer"
      ],
      "metadata": {
        "id": "r--lqIL57Jgp"
      },
      "execution_count": 117,
      "outputs": []
    },
    {
      "cell_type": "code",
      "source": [
        "t_start = time.time()\n",
        "mean60_imputer = SimpleImputer(strategy='mean')\n",
        "for i in range(1,1001):\n",
        "  globals()[f'imputed_mean60_{i}'] = mean50_imputer.fit_transform(globals()[f'BMI60_{i}'].copy()) #for loop miss forest impputation \n",
        "  globals()[f'MSE_MEAN60_{i}'] = mean_squared_error(data, globals()[f'imputed_mean60_{i}']) # for loop mean_squared_error\n",
        "t_end = time.time()\n",
        "t60_MEAN = (t_end- t_start)"
      ],
      "metadata": {
        "id": "pZXxPF997Jgp"
      },
      "execution_count": 118,
      "outputs": []
    },
    {
      "cell_type": "code",
      "source": [
        "t_start = time.time()\n",
        "mse_mean60_total = 0 \n",
        "MSE_MEAN60_1001 = 0\n",
        "for i in range(0,1001):\n",
        "  mse_mean60_total = mse_mean60_total + globals()[f'MSE_MEAN60_{i+1}']\n",
        "AMSE_BMI60_mean = mse_mean60_total/1000\n",
        "print(f'AMSE_BMI60_mean = {AMSE_BMI60_mean}')\n",
        "t_end = time.time()\n",
        "print(f'เวลาที่ใช้ในการประมวลผล {t_end- t_start} วินาที')\n",
        "print(f'เวลาที่ใช้ในการประมวลผล {(t_end- t_start)/60} นาที')"
      ],
      "metadata": {
        "id": "wOc9EIvo7Jgp",
        "colab": {
          "base_uri": "https://localhost:8080/"
        },
        "outputId": "792c776f-25ce-4c65-e2b8-00b46f25a5a8"
      },
      "execution_count": 119,
      "outputs": [
        {
          "output_type": "stream",
          "name": "stdout",
          "text": [
            "AMSE_BMI60_mean = 0.11816958765732342\n",
            "เวลาที่ใช้ในการประมวลผล 0.0013768672943115234 วินาที\n",
            "เวลาที่ใช้ในการประมวลผล 2.294778823852539e-05 นาที\n"
          ]
        }
      ]
    },
    {
      "cell_type": "markdown",
      "source": [
        "## Imputation using the miss forest"
      ],
      "metadata": {
        "id": "FwBPKTBy7Jgp"
      }
    },
    {
      "cell_type": "code",
      "source": [
        "import sys\n",
        "import sklearn.neighbors._base\n",
        "sys.modules['sklearn.neighbors.base'] = sklearn.neighbors._base\n",
        "!pip install missingpy\n",
        "import missingpy\n",
        "from missingpy import MissForest\n",
        "from sklearn.metrics import mean_squared_error"
      ],
      "metadata": {
        "id": "lv1_5jT87Jgp",
        "colab": {
          "base_uri": "https://localhost:8080/"
        },
        "outputId": "74f98bbb-a2e1-43e2-d5b0-c35a421ce950"
      },
      "execution_count": 120,
      "outputs": [
        {
          "output_type": "stream",
          "name": "stdout",
          "text": [
            "Looking in indexes: https://pypi.org/simple, https://us-python.pkg.dev/colab-wheels/public/simple/\n",
            "Requirement already satisfied: missingpy in /usr/local/lib/python3.8/dist-packages (0.2.0)\n"
          ]
        }
      ]
    },
    {
      "cell_type": "code",
      "source": [
        "t_start = time.time()\n",
        "MF60_imputer = MissForest()\n",
        "for i in range(1,1001):\n",
        "  globals()[f'imputed_mf60_{i}'] = MF60_imputer.fit_transform(globals()[f'BMI60_{i}'].copy()) #for loop miss forest impputation \n",
        "  globals()[f'MSE_MF60_{i}'] = mean_squared_error(data, globals()[f'imputed_mf60_{i}']) # for loop mean_squared_error\n",
        "t_end = time.time()\n",
        "t60_MF = (t_end- t_start)"
      ],
      "metadata": {
        "id": "vlxfsL-p7Jgp"
      },
      "execution_count": null,
      "outputs": []
    },
    {
      "cell_type": "code",
      "source": [
        "t_start = time.time()\n",
        "mse_mf60_total = 0 \n",
        "MSE_MF60_1001 = 0\n",
        "for i in range(0,1001):\n",
        "  mse_mf60_total = mse_mf60_total + globals()[f'MSE_MF60_{i+1}']\n",
        "AMSE_BMI60_mf = mse_mf60_total/1000\n",
        "print(f'AMSE_BMI60_mf = {AMSE_BMI60_mf}')\n",
        "t_end = time.time()\n",
        "print(f'เวลาที่ใช้ในการประมวลผล {t_end- t_start} วินาที')\n",
        "print(f'เวลาที่ใช้ในการประมวลผล {(t_end- t_start)/60} นาที')"
      ],
      "metadata": {
        "id": "8xuApycY7Jgq",
        "colab": {
          "base_uri": "https://localhost:8080/"
        },
        "outputId": "801d6cad-2b8b-4ab2-a7b0-e0141ae681d1"
      },
      "execution_count": 122,
      "outputs": [
        {
          "output_type": "stream",
          "name": "stdout",
          "text": [
            "AMSE_BMI60_mf = 0.0347224759736048\n",
            "เวลาที่ใช้ในการประมวลผล 0.0010716915130615234 วินาที\n",
            "เวลาที่ใช้ในการประมวลผล 1.786152521769206e-05 นาที\n"
          ]
        }
      ]
    },
    {
      "cell_type": "markdown",
      "source": [
        "## Imputation using the KNN"
      ],
      "metadata": {
        "id": "hJinxfM57Jgq"
      }
    },
    {
      "cell_type": "code",
      "source": [
        "from sklearn import neighbors\n",
        "from sklearn.impute import KNNImputer"
      ],
      "metadata": {
        "id": "M9cnQDhk7Jgq"
      },
      "execution_count": 123,
      "outputs": []
    },
    {
      "cell_type": "code",
      "source": [
        "t_start = time.time()\n",
        "KNN60_imputer = KNNImputer(n_neighbors = 15)\n",
        "for i in range(1,1001):\n",
        "  globals()[f'imputed_KNN60_{i}'] = KNN60_imputer.fit_transform(globals()[f'BMI60_{i}'].copy())\n",
        "  globals()[f'MSE_KNN60_{i}'] = mean_squared_error(data, globals()[f'imputed_KNN60_{i}'])\n",
        "t_end = time.time()\n",
        "t60_KNN = (t_end- t_start)"
      ],
      "metadata": {
        "id": "HV14AOKf7Jgq"
      },
      "execution_count": 124,
      "outputs": []
    },
    {
      "cell_type": "code",
      "source": [
        "t_start = time.time()\n",
        "mse_knn60_total = 0 \n",
        "MSE_KNN60_1001 = 0\n",
        "for i in range(0,1001):\n",
        "  mse_knn60_total = mse_knn60_total + globals()[f'MSE_KNN60_{i+1}']\n",
        "AMSE_BMI60_knn = mse_knn60_total/1000\n",
        "print(f'AMSE_BMI60_knn = {AMSE_BMI60_knn}')\n",
        "t_end = time.time()\n",
        "print(f'เวลาที่ใช้ในการประมวลผล {t_end- t_start} วินาที')\n",
        "print(f'เวลาที่ใช้ในการประมวลผล {(t_end- t_start)/60} นาที')"
      ],
      "metadata": {
        "id": "fqgm9TWL7Jgq",
        "colab": {
          "base_uri": "https://localhost:8080/"
        },
        "outputId": "aa3349b7-fc34-4d04-bc2a-85fd166a5a6d"
      },
      "execution_count": 125,
      "outputs": [
        {
          "output_type": "stream",
          "name": "stdout",
          "text": [
            "AMSE_BMI60_knn = 0.07168601056924193\n",
            "เวลาที่ใช้ในการประมวลผล 0.003670930862426758 วินาที\n",
            "เวลาที่ใช้ในการประมวลผล 6.118218104044597e-05 นาที\n"
          ]
        }
      ]
    },
    {
      "cell_type": "markdown",
      "source": [
        "## Imputation using the MICE"
      ],
      "metadata": {
        "id": "oeo3L-HI7Jgq"
      }
    },
    {
      "cell_type": "code",
      "source": [
        "from sklearn.experimental import enable_iterative_imputer\n",
        "from sklearn.impute import IterativeImputer\n",
        "from sklearn.linear_model import LinearRegression\n",
        "from sklearn import svm"
      ],
      "metadata": {
        "id": "2Y4kfkQ27Jgq"
      },
      "execution_count": 126,
      "outputs": []
    },
    {
      "cell_type": "markdown",
      "source": [
        "### LinearRegression model"
      ],
      "metadata": {
        "id": "achsTX9n7Jgq"
      }
    },
    {
      "cell_type": "code",
      "source": [
        "t_start = time.time()\n",
        "lr = LinearRegression()\n",
        "for i in range(1,1001):\n",
        "  imp = IterativeImputer(estimator= lr , max_iter= 10, verbose=2, imputation_order='roman',initial_strategy = 'mean',random_state= i)\n",
        "  globals()[f'imputed_lr60_{i}'] = imp.fit_transform(globals()[f'BMI60_{i}'].copy())\n",
        "  globals()[f'MSE_lr60_{i}'] = mean_squared_error(data, globals()[f'imputed_lr60_{i}'])\n",
        "t_end = time.time()\n",
        "t60_LR = (t_end- t_start)"
      ],
      "metadata": {
        "id": "yMjq-5Nk7Jgq"
      },
      "execution_count": null,
      "outputs": []
    },
    {
      "cell_type": "code",
      "source": [
        "t_start = time.time()\n",
        "mse_lr60_total = 0 \n",
        "MSE_lr60_1001 = 0\n",
        "for i in range(0,1001):\n",
        "  mse_lr60_total = mse_lr60_total + globals()[f'MSE_lr60_{i+1}']\n",
        "AMSE_BMI60_lr = mse_lr60_total/1000\n",
        "print(f'AMSE_BMI60_lr = {AMSE_BMI60_lr}')\n",
        "t_end = time.time()\n",
        "print(f'เวลาที่ใช้ในการประมวลผล {t_end- t_start} วินาที')\n",
        "print(f'เวลาที่ใช้ในการประมวลผล {(t_end- t_start)/60} นาที')"
      ],
      "metadata": {
        "id": "v4Y1_5L67Jgr",
        "colab": {
          "base_uri": "https://localhost:8080/"
        },
        "outputId": "ddc6c3be-91e5-4e42-e701-e0f9ef327a22"
      },
      "execution_count": 128,
      "outputs": [
        {
          "output_type": "stream",
          "name": "stdout",
          "text": [
            "AMSE_BMI60_lr = 0.01646251402491945\n",
            "เวลาที่ใช้ในการประมวลผล 0.0009086132049560547 วินาที\n",
            "เวลาที่ใช้ในการประมวลผล 1.5143553415934245e-05 นาที\n"
          ]
        }
      ]
    },
    {
      "cell_type": "markdown",
      "source": [
        "### Support Vector Machine model"
      ],
      "metadata": {
        "id": "MGNkeqpJ7Jgr"
      }
    },
    {
      "cell_type": "code",
      "source": [
        "t_start = time.time()\n",
        "regr = svm.SVR()\n",
        "for i in range(1,1001):\n",
        "  svm_svr = IterativeImputer(estimator= regr, max_iter= 10, verbose=2, imputation_order='roman',initial_strategy = 'mean',random_state= i)\n",
        "  globals()[f'imputed_svm60_{i}'] = svm_svr.fit_transform(globals()[f'BMI60_{i}'].copy())\n",
        "  globals()[f'MSE_svm60_{i}'] = mean_squared_error(data, globals()[f'imputed_svm60_{i}'])\n",
        "t_end = time.time()\n",
        "t60_SVM = (t_end- t_start)"
      ],
      "metadata": {
        "id": "xuFqS3Iv7Jgr"
      },
      "execution_count": null,
      "outputs": []
    },
    {
      "cell_type": "code",
      "source": [
        "t_start = time.time()\n",
        "mse_svm60_total = 0 \n",
        "MSE_svm60_1001 = 0\n",
        "for i in range(0,1001):\n",
        "  mse_svm60_total = mse_svm60_total + globals()[f'MSE_svm60_{i+1}']\n",
        "AMSE_BMI60_svm = mse_svm60_total/1000\n",
        "print(f'AMSE_BMI60_svm = {AMSE_BMI60_svm}')\n",
        "t_end = time.time()\n",
        "print(f'เวลาที่ใช้ในการประมวลผล {t_end- t_start} วินาที')\n",
        "print(f'เวลาที่ใช้ในการประมวลผล {(t_end- t_start)/60} นาที')"
      ],
      "metadata": {
        "id": "azR8eZ7R7Jgr",
        "colab": {
          "base_uri": "https://localhost:8080/"
        },
        "outputId": "444aa9da-9eee-401d-991e-7b0cfa4295e0"
      },
      "execution_count": 130,
      "outputs": [
        {
          "output_type": "stream",
          "name": "stdout",
          "text": [
            "AMSE_BMI60_svm = 0.07886696439607331\n",
            "เวลาที่ใช้ในการประมวลผล 0.0016393661499023438 วินาที\n",
            "เวลาที่ใช้ในการประมวลผล 2.732276916503906e-05 นาที\n"
          ]
        }
      ]
    },
    {
      "cell_type": "markdown",
      "source": [
        "## Imputation using the EM"
      ],
      "metadata": {
        "id": "0nf_ZBoX7Jgr"
      }
    },
    {
      "cell_type": "markdown",
      "source": [
        "### impy.em"
      ],
      "metadata": {
        "id": "zAacr4gY7Jgr"
      }
    },
    {
      "cell_type": "code",
      "source": [
        "!pip install impyute\n",
        "import impyute as impy"
      ],
      "metadata": {
        "id": "esXruGLJ7Jgr",
        "colab": {
          "base_uri": "https://localhost:8080/"
        },
        "outputId": "4b1f256f-861b-44ab-c2a4-522cf3557933"
      },
      "execution_count": 131,
      "outputs": [
        {
          "output_type": "stream",
          "name": "stdout",
          "text": [
            "Looking in indexes: https://pypi.org/simple, https://us-python.pkg.dev/colab-wheels/public/simple/\n",
            "Requirement already satisfied: impyute in /usr/local/lib/python3.8/dist-packages (0.0.8)\n",
            "Requirement already satisfied: scikit-learn in /usr/local/lib/python3.8/dist-packages (from impyute) (1.0.2)\n",
            "Requirement already satisfied: numpy in /usr/local/lib/python3.8/dist-packages (from impyute) (1.21.6)\n",
            "Requirement already satisfied: scipy in /usr/local/lib/python3.8/dist-packages (from impyute) (1.7.3)\n",
            "Requirement already satisfied: joblib>=0.11 in /usr/local/lib/python3.8/dist-packages (from scikit-learn->impyute) (1.2.0)\n",
            "Requirement already satisfied: threadpoolctl>=2.0.0 in /usr/local/lib/python3.8/dist-packages (from scikit-learn->impyute) (3.1.0)\n"
          ]
        }
      ]
    },
    {
      "cell_type": "code",
      "source": [
        "t_start = time.time()\n",
        "for i in range(1,1001):\n",
        "  globals()[f'imputed_impy60_{i}'] = impy.em(globals()[f'BMI60_{i}'].values.copy())\n",
        "  globals()[f'MSE_impy60_{i}'] = mean_squared_error(data, globals()[f'imputed_impy60_{i}'])\n",
        "t_end = time.time()\n",
        "t60_EM = (t_end- t_start)"
      ],
      "metadata": {
        "id": "S5MqfiI-7Jgr"
      },
      "execution_count": 132,
      "outputs": []
    },
    {
      "cell_type": "code",
      "source": [
        "t_start = time.time()\n",
        "mse_impy60_total = 0 \n",
        "MSE_impy60_1001 = 0\n",
        "for i in range(0,1001):\n",
        "  mse_impy60_total = mse_impy60_total + globals()[f'MSE_impy60_{i+1}']\n",
        "AMSE_BMI60_impy = mse_impy60_total/1000\n",
        "print(f'AMSE_BMI60_impy = {AMSE_BMI60_impy}')\n",
        "t_end = time.time()\n",
        "print(f'เวลาที่ใช้ในการประมวลผล {t_end- t_start} วินาที')\n",
        "print(f'เวลาที่ใช้ในการประมวลผล {(t_end- t_start)/60} นาที')"
      ],
      "metadata": {
        "id": "YnvhFa8N7Jgr",
        "colab": {
          "base_uri": "https://localhost:8080/"
        },
        "outputId": "f11a743a-63cb-44b8-d0a4-0de5c6331c49"
      },
      "execution_count": 133,
      "outputs": [
        {
          "output_type": "stream",
          "name": "stdout",
          "text": [
            "AMSE_BMI60_impy = 0.22400918157003302\n",
            "เวลาที่ใช้ในการประมวลผล 0.000972747802734375 วินาที\n",
            "เวลาที่ใช้ในการประมวลผล 1.621246337890625e-05 นาที\n"
          ]
        }
      ]
    },
    {
      "cell_type": "markdown",
      "source": [
        "# AMSE"
      ],
      "metadata": {
        "id": "a2x-yfbQJv6P"
      }
    },
    {
      "cell_type": "code",
      "source": [
        "amse_value = {'Method':['MEAN','Miss Forest','KNN','MICE-LR','MICE-SVM','EM'],\n",
        "              '10%':[AMSE_BMI10_mean,AMSE_BMI10_mf,AMSE_BMI10_knn,AMSE_BMI10_lr,AMSE_BMI10_svm,AMSE_BMI10_impy],\n",
        "      '20%':[AMSE_BMI20_mean,AMSE_BMI20_mf,AMSE_BMI20_knn,AMSE_BMI20_lr,AMSE_BMI20_svm,AMSE_BMI20_impy],\n",
        "      '30%':[AMSE_BMI30_mean,AMSE_BMI30_mf,AMSE_BMI30_knn,AMSE_BMI30_lr,AMSE_BMI30_svm,AMSE_BMI30_impy],\n",
        "      '40%':[AMSE_BMI40_mean,AMSE_BMI40_mf,AMSE_BMI40_knn,AMSE_BMI40_lr,AMSE_BMI40_svm,AMSE_BMI40_impy],\n",
        "      '50%':[AMSE_BMI50_mean,AMSE_BMI50_mf,AMSE_BMI50_knn,AMSE_BMI50_lr,AMSE_BMI60_svm,AMSE_BMI50_impy]\n",
        "      ,'60%':[AMSE_BMI60_mean,AMSE_BMI60_mf,AMSE_BMI60_knn,AMSE_BMI60_lr,AMSE_BMI60_svm,AMSE_BMI60_impy]}"
      ],
      "metadata": {
        "id": "xS-oKgz67Jgs"
      },
      "execution_count": 134,
      "outputs": []
    },
    {
      "cell_type": "code",
      "source": [
        "data_AMSE = pd.DataFrame.from_dict(amse_value)\n",
        "data_AMSE"
      ],
      "metadata": {
        "id": "wzxrpg3MJzAl",
        "colab": {
          "base_uri": "https://localhost:8080/",
          "height": 237
        },
        "outputId": "2028efe3-028f-4e06-8a49-9a40d6e5d170"
      },
      "execution_count": 135,
      "outputs": [
        {
          "output_type": "execute_result",
          "data": {
            "text/plain": [
              "        Method       10%       20%       30%       40%       50%       60%\n",
              "0         MEAN  0.019368  0.038230  0.057904  0.078475  0.097990  0.118170\n",
              "1  Miss Forest  0.004330  0.008880  0.014187  0.020344  0.026909  0.034722\n",
              "2          KNN  0.010302  0.020679  0.031539  0.043470  0.056165  0.071686\n",
              "3      MICE-LR  0.000733  0.002034  0.004537  0.006938  0.010597  0.016463\n",
              "4     MICE-SVM  0.010259  0.021199  0.033512  0.047410  0.078867  0.078867\n",
              "5           EM  0.035082  0.071808  0.108421  0.147587  0.185332  0.224009"
            ],
            "text/html": [
              "\n",
              "  <div id=\"df-aa05688e-8426-4c1c-80fd-e7aac3f58848\">\n",
              "    <div class=\"colab-df-container\">\n",
              "      <div>\n",
              "<style scoped>\n",
              "    .dataframe tbody tr th:only-of-type {\n",
              "        vertical-align: middle;\n",
              "    }\n",
              "\n",
              "    .dataframe tbody tr th {\n",
              "        vertical-align: top;\n",
              "    }\n",
              "\n",
              "    .dataframe thead th {\n",
              "        text-align: right;\n",
              "    }\n",
              "</style>\n",
              "<table border=\"1\" class=\"dataframe\">\n",
              "  <thead>\n",
              "    <tr style=\"text-align: right;\">\n",
              "      <th></th>\n",
              "      <th>Method</th>\n",
              "      <th>10%</th>\n",
              "      <th>20%</th>\n",
              "      <th>30%</th>\n",
              "      <th>40%</th>\n",
              "      <th>50%</th>\n",
              "      <th>60%</th>\n",
              "    </tr>\n",
              "  </thead>\n",
              "  <tbody>\n",
              "    <tr>\n",
              "      <th>0</th>\n",
              "      <td>MEAN</td>\n",
              "      <td>0.019368</td>\n",
              "      <td>0.038230</td>\n",
              "      <td>0.057904</td>\n",
              "      <td>0.078475</td>\n",
              "      <td>0.097990</td>\n",
              "      <td>0.118170</td>\n",
              "    </tr>\n",
              "    <tr>\n",
              "      <th>1</th>\n",
              "      <td>Miss Forest</td>\n",
              "      <td>0.004330</td>\n",
              "      <td>0.008880</td>\n",
              "      <td>0.014187</td>\n",
              "      <td>0.020344</td>\n",
              "      <td>0.026909</td>\n",
              "      <td>0.034722</td>\n",
              "    </tr>\n",
              "    <tr>\n",
              "      <th>2</th>\n",
              "      <td>KNN</td>\n",
              "      <td>0.010302</td>\n",
              "      <td>0.020679</td>\n",
              "      <td>0.031539</td>\n",
              "      <td>0.043470</td>\n",
              "      <td>0.056165</td>\n",
              "      <td>0.071686</td>\n",
              "    </tr>\n",
              "    <tr>\n",
              "      <th>3</th>\n",
              "      <td>MICE-LR</td>\n",
              "      <td>0.000733</td>\n",
              "      <td>0.002034</td>\n",
              "      <td>0.004537</td>\n",
              "      <td>0.006938</td>\n",
              "      <td>0.010597</td>\n",
              "      <td>0.016463</td>\n",
              "    </tr>\n",
              "    <tr>\n",
              "      <th>4</th>\n",
              "      <td>MICE-SVM</td>\n",
              "      <td>0.010259</td>\n",
              "      <td>0.021199</td>\n",
              "      <td>0.033512</td>\n",
              "      <td>0.047410</td>\n",
              "      <td>0.078867</td>\n",
              "      <td>0.078867</td>\n",
              "    </tr>\n",
              "    <tr>\n",
              "      <th>5</th>\n",
              "      <td>EM</td>\n",
              "      <td>0.035082</td>\n",
              "      <td>0.071808</td>\n",
              "      <td>0.108421</td>\n",
              "      <td>0.147587</td>\n",
              "      <td>0.185332</td>\n",
              "      <td>0.224009</td>\n",
              "    </tr>\n",
              "  </tbody>\n",
              "</table>\n",
              "</div>\n",
              "      <button class=\"colab-df-convert\" onclick=\"convertToInteractive('df-aa05688e-8426-4c1c-80fd-e7aac3f58848')\"\n",
              "              title=\"Convert this dataframe to an interactive table.\"\n",
              "              style=\"display:none;\">\n",
              "        \n",
              "  <svg xmlns=\"http://www.w3.org/2000/svg\" height=\"24px\"viewBox=\"0 0 24 24\"\n",
              "       width=\"24px\">\n",
              "    <path d=\"M0 0h24v24H0V0z\" fill=\"none\"/>\n",
              "    <path d=\"M18.56 5.44l.94 2.06.94-2.06 2.06-.94-2.06-.94-.94-2.06-.94 2.06-2.06.94zm-11 1L8.5 8.5l.94-2.06 2.06-.94-2.06-.94L8.5 2.5l-.94 2.06-2.06.94zm10 10l.94 2.06.94-2.06 2.06-.94-2.06-.94-.94-2.06-.94 2.06-2.06.94z\"/><path d=\"M17.41 7.96l-1.37-1.37c-.4-.4-.92-.59-1.43-.59-.52 0-1.04.2-1.43.59L10.3 9.45l-7.72 7.72c-.78.78-.78 2.05 0 2.83L4 21.41c.39.39.9.59 1.41.59.51 0 1.02-.2 1.41-.59l7.78-7.78 2.81-2.81c.8-.78.8-2.07 0-2.86zM5.41 20L4 18.59l7.72-7.72 1.47 1.35L5.41 20z\"/>\n",
              "  </svg>\n",
              "      </button>\n",
              "      \n",
              "  <style>\n",
              "    .colab-df-container {\n",
              "      display:flex;\n",
              "      flex-wrap:wrap;\n",
              "      gap: 12px;\n",
              "    }\n",
              "\n",
              "    .colab-df-convert {\n",
              "      background-color: #E8F0FE;\n",
              "      border: none;\n",
              "      border-radius: 50%;\n",
              "      cursor: pointer;\n",
              "      display: none;\n",
              "      fill: #1967D2;\n",
              "      height: 32px;\n",
              "      padding: 0 0 0 0;\n",
              "      width: 32px;\n",
              "    }\n",
              "\n",
              "    .colab-df-convert:hover {\n",
              "      background-color: #E2EBFA;\n",
              "      box-shadow: 0px 1px 2px rgba(60, 64, 67, 0.3), 0px 1px 3px 1px rgba(60, 64, 67, 0.15);\n",
              "      fill: #174EA6;\n",
              "    }\n",
              "\n",
              "    [theme=dark] .colab-df-convert {\n",
              "      background-color: #3B4455;\n",
              "      fill: #D2E3FC;\n",
              "    }\n",
              "\n",
              "    [theme=dark] .colab-df-convert:hover {\n",
              "      background-color: #434B5C;\n",
              "      box-shadow: 0px 1px 3px 1px rgba(0, 0, 0, 0.15);\n",
              "      filter: drop-shadow(0px 1px 2px rgba(0, 0, 0, 0.3));\n",
              "      fill: #FFFFFF;\n",
              "    }\n",
              "  </style>\n",
              "\n",
              "      <script>\n",
              "        const buttonEl =\n",
              "          document.querySelector('#df-aa05688e-8426-4c1c-80fd-e7aac3f58848 button.colab-df-convert');\n",
              "        buttonEl.style.display =\n",
              "          google.colab.kernel.accessAllowed ? 'block' : 'none';\n",
              "\n",
              "        async function convertToInteractive(key) {\n",
              "          const element = document.querySelector('#df-aa05688e-8426-4c1c-80fd-e7aac3f58848');\n",
              "          const dataTable =\n",
              "            await google.colab.kernel.invokeFunction('convertToInteractive',\n",
              "                                                     [key], {});\n",
              "          if (!dataTable) return;\n",
              "\n",
              "          const docLinkHtml = 'Like what you see? Visit the ' +\n",
              "            '<a target=\"_blank\" href=https://colab.research.google.com/notebooks/data_table.ipynb>data table notebook</a>'\n",
              "            + ' to learn more about interactive tables.';\n",
              "          element.innerHTML = '';\n",
              "          dataTable['output_type'] = 'display_data';\n",
              "          await google.colab.output.renderOutput(dataTable, element);\n",
              "          const docLink = document.createElement('div');\n",
              "          docLink.innerHTML = docLinkHtml;\n",
              "          element.appendChild(docLink);\n",
              "        }\n",
              "      </script>\n",
              "    </div>\n",
              "  </div>\n",
              "  "
            ]
          },
          "metadata": {},
          "execution_count": 135
        }
      ]
    },
    {
      "cell_type": "markdown",
      "source": [
        "# เวลาทั้งหมดในการรัน"
      ],
      "metadata": {
        "id": "_zhlMnVr3Gy3"
      }
    },
    {
      "cell_type": "markdown",
      "source": [
        "### second"
      ],
      "metadata": {
        "id": "Outibfv7OToS"
      }
    },
    {
      "cell_type": "code",
      "source": [
        "data_t_sec = {'Method':['MEAN','Miss Forest','KNN','MICE-LR','MICE-SVM','EM'],'10%':[t10_MEAN,t10_MF,t10_KNN,t10_LR,t10_SVM,t10_EM],\n",
        "      '20%':[t20_MEAN,t20_MF,t20_KNN,t20_LR,t20_SVM,t20_EM],'30%':[t30_MEAN,t30_MF,t30_KNN,t30_LR,t30_SVM,t30_EM],'40%':[t40_MEAN,t40_MF,t40_KNN,t40_LR,t40_SVM,t40_EM],\n",
        "      '50%':[t50_MEAN,t50_MF,t50_KNN,t50_LR,t50_SVM,t50_EM],'60%':[t60_MEAN,t60_MF,t60_KNN,t60_LR,t60_SVM,t60_EM]}"
      ],
      "metadata": {
        "id": "azaqLAHf3JTO"
      },
      "execution_count": 136,
      "outputs": []
    },
    {
      "cell_type": "code",
      "source": [
        "data_second = pd.DataFrame.from_dict(data_t_sec)\n",
        "data_second"
      ],
      "metadata": {
        "id": "7aUnBQRquZKr",
        "colab": {
          "base_uri": "https://localhost:8080/",
          "height": 237
        },
        "outputId": "e674c86c-3c1a-4cc6-bf3e-f70a71e1bd5c"
      },
      "execution_count": 137,
      "outputs": [
        {
          "output_type": "execute_result",
          "data": {
            "text/plain": [
              "        Method         10%         20%         30%         40%         50%  \\\n",
              "0         MEAN    4.884439    3.778719    4.808225    4.874542    6.159041   \n",
              "1  Miss Forest  721.266563  698.424743  675.580361  671.070441  671.142241   \n",
              "2          KNN    5.464276    4.738069    4.864931    5.197400    8.305961   \n",
              "3      MICE-LR   51.772371   51.275745   51.079265   52.910037   51.411433   \n",
              "4     MICE-SVM  112.517722  112.658489  112.818627  112.553828  114.929476   \n",
              "5           EM    6.367727   11.215493   17.444335   23.043270   28.215550   \n",
              "\n",
              "          60%  \n",
              "0    3.828487  \n",
              "1  655.181990  \n",
              "2   10.376151  \n",
              "3   52.068354  \n",
              "4  114.268572  \n",
              "5   32.441371  "
            ],
            "text/html": [
              "\n",
              "  <div id=\"df-79d83406-6591-4751-a57c-50d2510a32aa\">\n",
              "    <div class=\"colab-df-container\">\n",
              "      <div>\n",
              "<style scoped>\n",
              "    .dataframe tbody tr th:only-of-type {\n",
              "        vertical-align: middle;\n",
              "    }\n",
              "\n",
              "    .dataframe tbody tr th {\n",
              "        vertical-align: top;\n",
              "    }\n",
              "\n",
              "    .dataframe thead th {\n",
              "        text-align: right;\n",
              "    }\n",
              "</style>\n",
              "<table border=\"1\" class=\"dataframe\">\n",
              "  <thead>\n",
              "    <tr style=\"text-align: right;\">\n",
              "      <th></th>\n",
              "      <th>Method</th>\n",
              "      <th>10%</th>\n",
              "      <th>20%</th>\n",
              "      <th>30%</th>\n",
              "      <th>40%</th>\n",
              "      <th>50%</th>\n",
              "      <th>60%</th>\n",
              "    </tr>\n",
              "  </thead>\n",
              "  <tbody>\n",
              "    <tr>\n",
              "      <th>0</th>\n",
              "      <td>MEAN</td>\n",
              "      <td>4.884439</td>\n",
              "      <td>3.778719</td>\n",
              "      <td>4.808225</td>\n",
              "      <td>4.874542</td>\n",
              "      <td>6.159041</td>\n",
              "      <td>3.828487</td>\n",
              "    </tr>\n",
              "    <tr>\n",
              "      <th>1</th>\n",
              "      <td>Miss Forest</td>\n",
              "      <td>721.266563</td>\n",
              "      <td>698.424743</td>\n",
              "      <td>675.580361</td>\n",
              "      <td>671.070441</td>\n",
              "      <td>671.142241</td>\n",
              "      <td>655.181990</td>\n",
              "    </tr>\n",
              "    <tr>\n",
              "      <th>2</th>\n",
              "      <td>KNN</td>\n",
              "      <td>5.464276</td>\n",
              "      <td>4.738069</td>\n",
              "      <td>4.864931</td>\n",
              "      <td>5.197400</td>\n",
              "      <td>8.305961</td>\n",
              "      <td>10.376151</td>\n",
              "    </tr>\n",
              "    <tr>\n",
              "      <th>3</th>\n",
              "      <td>MICE-LR</td>\n",
              "      <td>51.772371</td>\n",
              "      <td>51.275745</td>\n",
              "      <td>51.079265</td>\n",
              "      <td>52.910037</td>\n",
              "      <td>51.411433</td>\n",
              "      <td>52.068354</td>\n",
              "    </tr>\n",
              "    <tr>\n",
              "      <th>4</th>\n",
              "      <td>MICE-SVM</td>\n",
              "      <td>112.517722</td>\n",
              "      <td>112.658489</td>\n",
              "      <td>112.818627</td>\n",
              "      <td>112.553828</td>\n",
              "      <td>114.929476</td>\n",
              "      <td>114.268572</td>\n",
              "    </tr>\n",
              "    <tr>\n",
              "      <th>5</th>\n",
              "      <td>EM</td>\n",
              "      <td>6.367727</td>\n",
              "      <td>11.215493</td>\n",
              "      <td>17.444335</td>\n",
              "      <td>23.043270</td>\n",
              "      <td>28.215550</td>\n",
              "      <td>32.441371</td>\n",
              "    </tr>\n",
              "  </tbody>\n",
              "</table>\n",
              "</div>\n",
              "      <button class=\"colab-df-convert\" onclick=\"convertToInteractive('df-79d83406-6591-4751-a57c-50d2510a32aa')\"\n",
              "              title=\"Convert this dataframe to an interactive table.\"\n",
              "              style=\"display:none;\">\n",
              "        \n",
              "  <svg xmlns=\"http://www.w3.org/2000/svg\" height=\"24px\"viewBox=\"0 0 24 24\"\n",
              "       width=\"24px\">\n",
              "    <path d=\"M0 0h24v24H0V0z\" fill=\"none\"/>\n",
              "    <path d=\"M18.56 5.44l.94 2.06.94-2.06 2.06-.94-2.06-.94-.94-2.06-.94 2.06-2.06.94zm-11 1L8.5 8.5l.94-2.06 2.06-.94-2.06-.94L8.5 2.5l-.94 2.06-2.06.94zm10 10l.94 2.06.94-2.06 2.06-.94-2.06-.94-.94-2.06-.94 2.06-2.06.94z\"/><path d=\"M17.41 7.96l-1.37-1.37c-.4-.4-.92-.59-1.43-.59-.52 0-1.04.2-1.43.59L10.3 9.45l-7.72 7.72c-.78.78-.78 2.05 0 2.83L4 21.41c.39.39.9.59 1.41.59.51 0 1.02-.2 1.41-.59l7.78-7.78 2.81-2.81c.8-.78.8-2.07 0-2.86zM5.41 20L4 18.59l7.72-7.72 1.47 1.35L5.41 20z\"/>\n",
              "  </svg>\n",
              "      </button>\n",
              "      \n",
              "  <style>\n",
              "    .colab-df-container {\n",
              "      display:flex;\n",
              "      flex-wrap:wrap;\n",
              "      gap: 12px;\n",
              "    }\n",
              "\n",
              "    .colab-df-convert {\n",
              "      background-color: #E8F0FE;\n",
              "      border: none;\n",
              "      border-radius: 50%;\n",
              "      cursor: pointer;\n",
              "      display: none;\n",
              "      fill: #1967D2;\n",
              "      height: 32px;\n",
              "      padding: 0 0 0 0;\n",
              "      width: 32px;\n",
              "    }\n",
              "\n",
              "    .colab-df-convert:hover {\n",
              "      background-color: #E2EBFA;\n",
              "      box-shadow: 0px 1px 2px rgba(60, 64, 67, 0.3), 0px 1px 3px 1px rgba(60, 64, 67, 0.15);\n",
              "      fill: #174EA6;\n",
              "    }\n",
              "\n",
              "    [theme=dark] .colab-df-convert {\n",
              "      background-color: #3B4455;\n",
              "      fill: #D2E3FC;\n",
              "    }\n",
              "\n",
              "    [theme=dark] .colab-df-convert:hover {\n",
              "      background-color: #434B5C;\n",
              "      box-shadow: 0px 1px 3px 1px rgba(0, 0, 0, 0.15);\n",
              "      filter: drop-shadow(0px 1px 2px rgba(0, 0, 0, 0.3));\n",
              "      fill: #FFFFFF;\n",
              "    }\n",
              "  </style>\n",
              "\n",
              "      <script>\n",
              "        const buttonEl =\n",
              "          document.querySelector('#df-79d83406-6591-4751-a57c-50d2510a32aa button.colab-df-convert');\n",
              "        buttonEl.style.display =\n",
              "          google.colab.kernel.accessAllowed ? 'block' : 'none';\n",
              "\n",
              "        async function convertToInteractive(key) {\n",
              "          const element = document.querySelector('#df-79d83406-6591-4751-a57c-50d2510a32aa');\n",
              "          const dataTable =\n",
              "            await google.colab.kernel.invokeFunction('convertToInteractive',\n",
              "                                                     [key], {});\n",
              "          if (!dataTable) return;\n",
              "\n",
              "          const docLinkHtml = 'Like what you see? Visit the ' +\n",
              "            '<a target=\"_blank\" href=https://colab.research.google.com/notebooks/data_table.ipynb>data table notebook</a>'\n",
              "            + ' to learn more about interactive tables.';\n",
              "          element.innerHTML = '';\n",
              "          dataTable['output_type'] = 'display_data';\n",
              "          await google.colab.output.renderOutput(dataTable, element);\n",
              "          const docLink = document.createElement('div');\n",
              "          docLink.innerHTML = docLinkHtml;\n",
              "          element.appendChild(docLink);\n",
              "        }\n",
              "      </script>\n",
              "    </div>\n",
              "  </div>\n",
              "  "
            ]
          },
          "metadata": {},
          "execution_count": 137
        }
      ]
    },
    {
      "cell_type": "markdown",
      "source": [
        "### minutes"
      ],
      "metadata": {
        "id": "A1MtAqwOON3J"
      }
    },
    {
      "cell_type": "code",
      "source": [
        "data_t_min = {'Method':['MEAN','Miss Forest','KNN','MICE-LR','MICE-SVM','EM'],'10%':[t10_MEAN/60,t10_MF/60,t10_KNN/60,t10_LR/60,t10_SVM/60,t10_EM/60],\n",
        "      '20%':[t20_MEAN/60,t20_MF/60,t20_KNN/60,t20_LR/60,t20_SVM/60,t20_EM/60],'30%':[t30_MEAN/60,t30_MF/60,t30_KNN/60,t30_LR/60,t30_SVM/60,t30_EM/60]\n",
        "      ,'40%':[t40_MEAN/60,t40_MF/60,t40_KNN/60,t40_LR/60,t40_SVM/60,t40_EM/60],'50%':[t50_MEAN/60,t50_MF/60,t50_KNN/60,t50_LR/60,t50_SVM/60,t50_EM/60],\n",
        "      '60%':[t60_MEAN/60,t60_MF/60,t60_KNN/60,t60_LR/60,t60_SVM/60,t60_EM/60]}"
      ],
      "metadata": {
        "id": "XQe91TNaOIDW"
      },
      "execution_count": 138,
      "outputs": []
    },
    {
      "cell_type": "code",
      "source": [
        "data_minutes = pd.DataFrame.from_dict(data_t_min)\n",
        "data_minutes\n",
        "     "
      ],
      "metadata": {
        "colab": {
          "base_uri": "https://localhost:8080/",
          "height": 237
        },
        "id": "Kf3cAVwzOPhY",
        "outputId": "efa61fb2-4e2b-4fb8-8aa8-d794260d4160"
      },
      "execution_count": 139,
      "outputs": [
        {
          "output_type": "execute_result",
          "data": {
            "text/plain": [
              "        Method        10%        20%        30%        40%        50%  \\\n",
              "0         MEAN   0.081407   0.062979   0.080137   0.081242   0.102651   \n",
              "1  Miss Forest  12.021109  11.640412  11.259673  11.184507  11.185704   \n",
              "2          KNN   0.091071   0.078968   0.081082   0.086623   0.138433   \n",
              "3      MICE-LR   0.862873   0.854596   0.851321   0.881834   0.856857   \n",
              "4     MICE-SVM   1.875295   1.877641   1.880310   1.875897   1.915491   \n",
              "5           EM   0.106129   0.186925   0.290739   0.384054   0.470259   \n",
              "\n",
              "         60%  \n",
              "0   0.063808  \n",
              "1  10.919700  \n",
              "2   0.172936  \n",
              "3   0.867806  \n",
              "4   1.904476  \n",
              "5   0.540690  "
            ],
            "text/html": [
              "\n",
              "  <div id=\"df-c32765bd-aa74-4b53-ab6c-1d48fff058bd\">\n",
              "    <div class=\"colab-df-container\">\n",
              "      <div>\n",
              "<style scoped>\n",
              "    .dataframe tbody tr th:only-of-type {\n",
              "        vertical-align: middle;\n",
              "    }\n",
              "\n",
              "    .dataframe tbody tr th {\n",
              "        vertical-align: top;\n",
              "    }\n",
              "\n",
              "    .dataframe thead th {\n",
              "        text-align: right;\n",
              "    }\n",
              "</style>\n",
              "<table border=\"1\" class=\"dataframe\">\n",
              "  <thead>\n",
              "    <tr style=\"text-align: right;\">\n",
              "      <th></th>\n",
              "      <th>Method</th>\n",
              "      <th>10%</th>\n",
              "      <th>20%</th>\n",
              "      <th>30%</th>\n",
              "      <th>40%</th>\n",
              "      <th>50%</th>\n",
              "      <th>60%</th>\n",
              "    </tr>\n",
              "  </thead>\n",
              "  <tbody>\n",
              "    <tr>\n",
              "      <th>0</th>\n",
              "      <td>MEAN</td>\n",
              "      <td>0.081407</td>\n",
              "      <td>0.062979</td>\n",
              "      <td>0.080137</td>\n",
              "      <td>0.081242</td>\n",
              "      <td>0.102651</td>\n",
              "      <td>0.063808</td>\n",
              "    </tr>\n",
              "    <tr>\n",
              "      <th>1</th>\n",
              "      <td>Miss Forest</td>\n",
              "      <td>12.021109</td>\n",
              "      <td>11.640412</td>\n",
              "      <td>11.259673</td>\n",
              "      <td>11.184507</td>\n",
              "      <td>11.185704</td>\n",
              "      <td>10.919700</td>\n",
              "    </tr>\n",
              "    <tr>\n",
              "      <th>2</th>\n",
              "      <td>KNN</td>\n",
              "      <td>0.091071</td>\n",
              "      <td>0.078968</td>\n",
              "      <td>0.081082</td>\n",
              "      <td>0.086623</td>\n",
              "      <td>0.138433</td>\n",
              "      <td>0.172936</td>\n",
              "    </tr>\n",
              "    <tr>\n",
              "      <th>3</th>\n",
              "      <td>MICE-LR</td>\n",
              "      <td>0.862873</td>\n",
              "      <td>0.854596</td>\n",
              "      <td>0.851321</td>\n",
              "      <td>0.881834</td>\n",
              "      <td>0.856857</td>\n",
              "      <td>0.867806</td>\n",
              "    </tr>\n",
              "    <tr>\n",
              "      <th>4</th>\n",
              "      <td>MICE-SVM</td>\n",
              "      <td>1.875295</td>\n",
              "      <td>1.877641</td>\n",
              "      <td>1.880310</td>\n",
              "      <td>1.875897</td>\n",
              "      <td>1.915491</td>\n",
              "      <td>1.904476</td>\n",
              "    </tr>\n",
              "    <tr>\n",
              "      <th>5</th>\n",
              "      <td>EM</td>\n",
              "      <td>0.106129</td>\n",
              "      <td>0.186925</td>\n",
              "      <td>0.290739</td>\n",
              "      <td>0.384054</td>\n",
              "      <td>0.470259</td>\n",
              "      <td>0.540690</td>\n",
              "    </tr>\n",
              "  </tbody>\n",
              "</table>\n",
              "</div>\n",
              "      <button class=\"colab-df-convert\" onclick=\"convertToInteractive('df-c32765bd-aa74-4b53-ab6c-1d48fff058bd')\"\n",
              "              title=\"Convert this dataframe to an interactive table.\"\n",
              "              style=\"display:none;\">\n",
              "        \n",
              "  <svg xmlns=\"http://www.w3.org/2000/svg\" height=\"24px\"viewBox=\"0 0 24 24\"\n",
              "       width=\"24px\">\n",
              "    <path d=\"M0 0h24v24H0V0z\" fill=\"none\"/>\n",
              "    <path d=\"M18.56 5.44l.94 2.06.94-2.06 2.06-.94-2.06-.94-.94-2.06-.94 2.06-2.06.94zm-11 1L8.5 8.5l.94-2.06 2.06-.94-2.06-.94L8.5 2.5l-.94 2.06-2.06.94zm10 10l.94 2.06.94-2.06 2.06-.94-2.06-.94-.94-2.06-.94 2.06-2.06.94z\"/><path d=\"M17.41 7.96l-1.37-1.37c-.4-.4-.92-.59-1.43-.59-.52 0-1.04.2-1.43.59L10.3 9.45l-7.72 7.72c-.78.78-.78 2.05 0 2.83L4 21.41c.39.39.9.59 1.41.59.51 0 1.02-.2 1.41-.59l7.78-7.78 2.81-2.81c.8-.78.8-2.07 0-2.86zM5.41 20L4 18.59l7.72-7.72 1.47 1.35L5.41 20z\"/>\n",
              "  </svg>\n",
              "      </button>\n",
              "      \n",
              "  <style>\n",
              "    .colab-df-container {\n",
              "      display:flex;\n",
              "      flex-wrap:wrap;\n",
              "      gap: 12px;\n",
              "    }\n",
              "\n",
              "    .colab-df-convert {\n",
              "      background-color: #E8F0FE;\n",
              "      border: none;\n",
              "      border-radius: 50%;\n",
              "      cursor: pointer;\n",
              "      display: none;\n",
              "      fill: #1967D2;\n",
              "      height: 32px;\n",
              "      padding: 0 0 0 0;\n",
              "      width: 32px;\n",
              "    }\n",
              "\n",
              "    .colab-df-convert:hover {\n",
              "      background-color: #E2EBFA;\n",
              "      box-shadow: 0px 1px 2px rgba(60, 64, 67, 0.3), 0px 1px 3px 1px rgba(60, 64, 67, 0.15);\n",
              "      fill: #174EA6;\n",
              "    }\n",
              "\n",
              "    [theme=dark] .colab-df-convert {\n",
              "      background-color: #3B4455;\n",
              "      fill: #D2E3FC;\n",
              "    }\n",
              "\n",
              "    [theme=dark] .colab-df-convert:hover {\n",
              "      background-color: #434B5C;\n",
              "      box-shadow: 0px 1px 3px 1px rgba(0, 0, 0, 0.15);\n",
              "      filter: drop-shadow(0px 1px 2px rgba(0, 0, 0, 0.3));\n",
              "      fill: #FFFFFF;\n",
              "    }\n",
              "  </style>\n",
              "\n",
              "      <script>\n",
              "        const buttonEl =\n",
              "          document.querySelector('#df-c32765bd-aa74-4b53-ab6c-1d48fff058bd button.colab-df-convert');\n",
              "        buttonEl.style.display =\n",
              "          google.colab.kernel.accessAllowed ? 'block' : 'none';\n",
              "\n",
              "        async function convertToInteractive(key) {\n",
              "          const element = document.querySelector('#df-c32765bd-aa74-4b53-ab6c-1d48fff058bd');\n",
              "          const dataTable =\n",
              "            await google.colab.kernel.invokeFunction('convertToInteractive',\n",
              "                                                     [key], {});\n",
              "          if (!dataTable) return;\n",
              "\n",
              "          const docLinkHtml = 'Like what you see? Visit the ' +\n",
              "            '<a target=\"_blank\" href=https://colab.research.google.com/notebooks/data_table.ipynb>data table notebook</a>'\n",
              "            + ' to learn more about interactive tables.';\n",
              "          element.innerHTML = '';\n",
              "          dataTable['output_type'] = 'display_data';\n",
              "          await google.colab.output.renderOutput(dataTable, element);\n",
              "          const docLink = document.createElement('div');\n",
              "          docLink.innerHTML = docLinkHtml;\n",
              "          element.appendChild(docLink);\n",
              "        }\n",
              "      </script>\n",
              "    </div>\n",
              "  </div>\n",
              "  "
            ]
          },
          "metadata": {},
          "execution_count": 139
        }
      ]
    }
  ]
}