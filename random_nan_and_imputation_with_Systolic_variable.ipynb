{
  "nbformat": 4,
  "nbformat_minor": 0,
  "metadata": {
    "colab": {
      "provenance": [],
      "collapsed_sections": [
        "VPcbhfhg5CxE",
        "E3ShT2BaLdcN"
      ],
      "machine_shape": "hm",
      "authorship_tag": "ABX9TyOd6h+uPr7l0II61j3jqG3C",
      "include_colab_link": true
    },
    "kernelspec": {
      "name": "python3",
      "display_name": "Python 3"
    },
    "language_info": {
      "name": "python"
    },
    "accelerator": "GPU",
    "gpuClass": "standard"
  },
  "cells": [
    {
      "cell_type": "markdown",
      "metadata": {
        "id": "view-in-github",
        "colab_type": "text"
      },
      "source": [
        "<a href=\"https://colab.research.google.com/github/Worachet-Ch/project2022/blob/main/random_nan_and_imputation_with_Systolic_variable.ipynb\" target=\"_parent\"><img src=\"https://colab.research.google.com/assets/colab-badge.svg\" alt=\"Open In Colab\"/></a>"
      ]
    },
    {
      "cell_type": "code",
      "execution_count": 1,
      "metadata": {
        "id": "WlE8oT5Ng_NP"
      },
      "outputs": [],
      "source": [
        "import pandas as pd #นำเข้า pandas แทนที่ด้วย pd\n",
        "import os# os ใช้จัดการกับไฟล์ ว่าอยู่ที่ไหน\n",
        "import numpy as np\n",
        "import seaborn as sns\n",
        "import matplotlib.pyplot as plt\n",
        "import missingno as mno\n",
        "import missingno as msno\n",
        "from sklearn import linear_model\n",
        "%matplotlib inline\n",
        "import matplotlib\n",
        "import sklearn \n",
        "from sklearn.impute import KNNImputer\n",
        "from sklearn.metrics import mean_squared_error\n",
        "import time"
      ]
    },
    {
      "cell_type": "code",
      "source": [
        "from google.colab import drive #เชื่อม Google drive\n",
        "drive.mount('/content/drive')\n",
        "path = '/content/drive/My Drive/project' #เข้า drive\n",
        "data_file_path = os.path.join(path,'data_notmissing.csv') #ไปที่ไฟล์ confirmed-cases-since-280265.csv\n",
        "data = pd.read_csv(data_file_path) #อ่านไฟล์ csv"
      ],
      "metadata": {
        "id": "GDkw1dtXhLP4",
        "colab": {
          "base_uri": "https://localhost:8080/"
        },
        "outputId": "45e91928-193a-4138-9d3e-358e64d154ef"
      },
      "execution_count": 2,
      "outputs": [
        {
          "output_type": "stream",
          "name": "stdout",
          "text": [
            "Drive already mounted at /content/drive; to attempt to forcibly remount, call drive.mount(\"/content/drive\", force_remount=True).\n"
          ]
        }
      ]
    },
    {
      "cell_type": "code",
      "source": [
        "data.drop({'Unnamed: 0','telomere length (kb) '},1,inplace = True)"
      ],
      "metadata": {
        "id": "o6Qf5r-uhMFj",
        "colab": {
          "base_uri": "https://localhost:8080/"
        },
        "outputId": "0ae411f2-d4f0-4153-fe6a-8e8890baabc9"
      },
      "execution_count": 3,
      "outputs": [
        {
          "output_type": "stream",
          "name": "stderr",
          "text": [
            "<ipython-input-3-4cc622f169ae>:1: FutureWarning: In a future version of pandas all arguments of DataFrame.drop except for the argument 'labels' will be keyword-only\n",
            "  data.drop({'Unnamed: 0','telomere length (kb) '},1,inplace = True)\n"
          ]
        }
      ]
    },
    {
      "cell_type": "code",
      "source": [
        "data"
      ],
      "metadata": {
        "id": "wDnYHJnYhNRe",
        "colab": {
          "base_uri": "https://localhost:8080/",
          "height": 423
        },
        "outputId": "09b236f5-3d15-474c-e052-6087d4cc746d"
      },
      "execution_count": 4,
      "outputs": [
        {
          "output_type": "execute_result",
          "data": {
            "text/plain": [
              "     Sex  AgeSYear  Weight  Height   BMI  Systolic  Diastolic  HeartRate  \\\n",
              "0      2      57.0    47.4   153.0  20.2     114.0       75.0       69.0   \n",
              "1      2      24.0    53.2   157.0  21.6     103.0       69.0       78.0   \n",
              "2      2      62.0    54.4   165.0  20.0      95.0       75.0       83.0   \n",
              "3      2      35.0    56.3   161.0  21.7      95.0       57.0       72.0   \n",
              "4      1      46.0    72.3   170.0  25.0     133.0       77.0      107.0   \n",
              "..   ...       ...     ...     ...   ...       ...        ...        ...   \n",
              "148    1      60.0    72.0   170.0  24.9     131.0       74.0       69.0   \n",
              "149    1      58.0    62.0   168.0  22.0     103.0       76.0       72.0   \n",
              "150    2      42.0    55.5   165.0  20.4     102.0       52.0       77.0   \n",
              "151    2      61.0    61.8   159.0  24.4     117.0       60.0       72.0   \n",
              "152    2      31.0    58.2   169.0  20.4     108.0       69.0       73.0   \n",
              "\n",
              "      SMM  Fat Mass  ...  003_Creatinine  004_Uric Acid  005_Cholesterol  \\\n",
              "0    19.3      12.5  ...             1.0            5.0            176.0   \n",
              "1    21.3      14.6  ...             0.8            5.2            159.0   \n",
              "2    21.6      15.2  ...             0.7            4.1            230.0   \n",
              "3    22.5      15.4  ...             0.6            5.0            198.0   \n",
              "4    29.2      19.0  ...             0.9            6.9            194.0   \n",
              "..    ...       ...  ...             ...            ...              ...   \n",
              "148  30.5      13.8  ...             0.9            6.9            182.0   \n",
              "149  27.8      11.9  ...             1.0            6.8            191.0   \n",
              "150  22.9      14.1  ...             0.8            4.7            212.0   \n",
              "151  23.4      19.2  ...             0.8            5.1            235.0   \n",
              "152  25.0      13.0  ...             0.7            4.3            200.0   \n",
              "\n",
              "     006_Triglyceride  008_HDL-C  009_LDL  010_AST  012_ALT  \\\n",
              "0                51.0       72.0     94.0     16.0     16.0   \n",
              "1                45.0       52.0     98.0     13.0     17.0   \n",
              "2                94.0       61.0    151.0     18.0     31.0   \n",
              "3                47.0       68.0    120.0     16.0     20.0   \n",
              "4                63.0       60.0    122.0     15.0     19.0   \n",
              "..                ...        ...      ...      ...      ...   \n",
              "148             179.0       39.0    107.0     36.0     31.0   \n",
              "149              62.0       47.0    132.0     16.0     33.0   \n",
              "150              68.0       63.0    135.0     11.0     16.0   \n",
              "151              66.0       56.0    166.0     15.0     23.0   \n",
              "152              44.0       56.0    135.0     14.0     21.0   \n",
              "\n",
              "     013_Alkaline Phos  071_HbA1c  \n",
              "0                 62.0        5.1  \n",
              "1                 50.0        5.4  \n",
              "2                 76.0        5.6  \n",
              "3                 35.0        5.1  \n",
              "4                 69.0        5.2  \n",
              "..                 ...        ...  \n",
              "148               79.0        6.5  \n",
              "149               42.0        6.8  \n",
              "150               33.0        4.8  \n",
              "151               44.0        5.4  \n",
              "152               31.0        4.7  \n",
              "\n",
              "[153 rows x 26 columns]"
            ],
            "text/html": [
              "\n",
              "  <div id=\"df-52124814-cfdf-4b2b-8d24-1e4ea0709fdc\">\n",
              "    <div class=\"colab-df-container\">\n",
              "      <div>\n",
              "<style scoped>\n",
              "    .dataframe tbody tr th:only-of-type {\n",
              "        vertical-align: middle;\n",
              "    }\n",
              "\n",
              "    .dataframe tbody tr th {\n",
              "        vertical-align: top;\n",
              "    }\n",
              "\n",
              "    .dataframe thead th {\n",
              "        text-align: right;\n",
              "    }\n",
              "</style>\n",
              "<table border=\"1\" class=\"dataframe\">\n",
              "  <thead>\n",
              "    <tr style=\"text-align: right;\">\n",
              "      <th></th>\n",
              "      <th>Sex</th>\n",
              "      <th>AgeSYear</th>\n",
              "      <th>Weight</th>\n",
              "      <th>Height</th>\n",
              "      <th>BMI</th>\n",
              "      <th>Systolic</th>\n",
              "      <th>Diastolic</th>\n",
              "      <th>HeartRate</th>\n",
              "      <th>SMM</th>\n",
              "      <th>Fat Mass</th>\n",
              "      <th>...</th>\n",
              "      <th>003_Creatinine</th>\n",
              "      <th>004_Uric Acid</th>\n",
              "      <th>005_Cholesterol</th>\n",
              "      <th>006_Triglyceride</th>\n",
              "      <th>008_HDL-C</th>\n",
              "      <th>009_LDL</th>\n",
              "      <th>010_AST</th>\n",
              "      <th>012_ALT</th>\n",
              "      <th>013_Alkaline Phos</th>\n",
              "      <th>071_HbA1c</th>\n",
              "    </tr>\n",
              "  </thead>\n",
              "  <tbody>\n",
              "    <tr>\n",
              "      <th>0</th>\n",
              "      <td>2</td>\n",
              "      <td>57.0</td>\n",
              "      <td>47.4</td>\n",
              "      <td>153.0</td>\n",
              "      <td>20.2</td>\n",
              "      <td>114.0</td>\n",
              "      <td>75.0</td>\n",
              "      <td>69.0</td>\n",
              "      <td>19.3</td>\n",
              "      <td>12.5</td>\n",
              "      <td>...</td>\n",
              "      <td>1.0</td>\n",
              "      <td>5.0</td>\n",
              "      <td>176.0</td>\n",
              "      <td>51.0</td>\n",
              "      <td>72.0</td>\n",
              "      <td>94.0</td>\n",
              "      <td>16.0</td>\n",
              "      <td>16.0</td>\n",
              "      <td>62.0</td>\n",
              "      <td>5.1</td>\n",
              "    </tr>\n",
              "    <tr>\n",
              "      <th>1</th>\n",
              "      <td>2</td>\n",
              "      <td>24.0</td>\n",
              "      <td>53.2</td>\n",
              "      <td>157.0</td>\n",
              "      <td>21.6</td>\n",
              "      <td>103.0</td>\n",
              "      <td>69.0</td>\n",
              "      <td>78.0</td>\n",
              "      <td>21.3</td>\n",
              "      <td>14.6</td>\n",
              "      <td>...</td>\n",
              "      <td>0.8</td>\n",
              "      <td>5.2</td>\n",
              "      <td>159.0</td>\n",
              "      <td>45.0</td>\n",
              "      <td>52.0</td>\n",
              "      <td>98.0</td>\n",
              "      <td>13.0</td>\n",
              "      <td>17.0</td>\n",
              "      <td>50.0</td>\n",
              "      <td>5.4</td>\n",
              "    </tr>\n",
              "    <tr>\n",
              "      <th>2</th>\n",
              "      <td>2</td>\n",
              "      <td>62.0</td>\n",
              "      <td>54.4</td>\n",
              "      <td>165.0</td>\n",
              "      <td>20.0</td>\n",
              "      <td>95.0</td>\n",
              "      <td>75.0</td>\n",
              "      <td>83.0</td>\n",
              "      <td>21.6</td>\n",
              "      <td>15.2</td>\n",
              "      <td>...</td>\n",
              "      <td>0.7</td>\n",
              "      <td>4.1</td>\n",
              "      <td>230.0</td>\n",
              "      <td>94.0</td>\n",
              "      <td>61.0</td>\n",
              "      <td>151.0</td>\n",
              "      <td>18.0</td>\n",
              "      <td>31.0</td>\n",
              "      <td>76.0</td>\n",
              "      <td>5.6</td>\n",
              "    </tr>\n",
              "    <tr>\n",
              "      <th>3</th>\n",
              "      <td>2</td>\n",
              "      <td>35.0</td>\n",
              "      <td>56.3</td>\n",
              "      <td>161.0</td>\n",
              "      <td>21.7</td>\n",
              "      <td>95.0</td>\n",
              "      <td>57.0</td>\n",
              "      <td>72.0</td>\n",
              "      <td>22.5</td>\n",
              "      <td>15.4</td>\n",
              "      <td>...</td>\n",
              "      <td>0.6</td>\n",
              "      <td>5.0</td>\n",
              "      <td>198.0</td>\n",
              "      <td>47.0</td>\n",
              "      <td>68.0</td>\n",
              "      <td>120.0</td>\n",
              "      <td>16.0</td>\n",
              "      <td>20.0</td>\n",
              "      <td>35.0</td>\n",
              "      <td>5.1</td>\n",
              "    </tr>\n",
              "    <tr>\n",
              "      <th>4</th>\n",
              "      <td>1</td>\n",
              "      <td>46.0</td>\n",
              "      <td>72.3</td>\n",
              "      <td>170.0</td>\n",
              "      <td>25.0</td>\n",
              "      <td>133.0</td>\n",
              "      <td>77.0</td>\n",
              "      <td>107.0</td>\n",
              "      <td>29.2</td>\n",
              "      <td>19.0</td>\n",
              "      <td>...</td>\n",
              "      <td>0.9</td>\n",
              "      <td>6.9</td>\n",
              "      <td>194.0</td>\n",
              "      <td>63.0</td>\n",
              "      <td>60.0</td>\n",
              "      <td>122.0</td>\n",
              "      <td>15.0</td>\n",
              "      <td>19.0</td>\n",
              "      <td>69.0</td>\n",
              "      <td>5.2</td>\n",
              "    </tr>\n",
              "    <tr>\n",
              "      <th>...</th>\n",
              "      <td>...</td>\n",
              "      <td>...</td>\n",
              "      <td>...</td>\n",
              "      <td>...</td>\n",
              "      <td>...</td>\n",
              "      <td>...</td>\n",
              "      <td>...</td>\n",
              "      <td>...</td>\n",
              "      <td>...</td>\n",
              "      <td>...</td>\n",
              "      <td>...</td>\n",
              "      <td>...</td>\n",
              "      <td>...</td>\n",
              "      <td>...</td>\n",
              "      <td>...</td>\n",
              "      <td>...</td>\n",
              "      <td>...</td>\n",
              "      <td>...</td>\n",
              "      <td>...</td>\n",
              "      <td>...</td>\n",
              "      <td>...</td>\n",
              "    </tr>\n",
              "    <tr>\n",
              "      <th>148</th>\n",
              "      <td>1</td>\n",
              "      <td>60.0</td>\n",
              "      <td>72.0</td>\n",
              "      <td>170.0</td>\n",
              "      <td>24.9</td>\n",
              "      <td>131.0</td>\n",
              "      <td>74.0</td>\n",
              "      <td>69.0</td>\n",
              "      <td>30.5</td>\n",
              "      <td>13.8</td>\n",
              "      <td>...</td>\n",
              "      <td>0.9</td>\n",
              "      <td>6.9</td>\n",
              "      <td>182.0</td>\n",
              "      <td>179.0</td>\n",
              "      <td>39.0</td>\n",
              "      <td>107.0</td>\n",
              "      <td>36.0</td>\n",
              "      <td>31.0</td>\n",
              "      <td>79.0</td>\n",
              "      <td>6.5</td>\n",
              "    </tr>\n",
              "    <tr>\n",
              "      <th>149</th>\n",
              "      <td>1</td>\n",
              "      <td>58.0</td>\n",
              "      <td>62.0</td>\n",
              "      <td>168.0</td>\n",
              "      <td>22.0</td>\n",
              "      <td>103.0</td>\n",
              "      <td>76.0</td>\n",
              "      <td>72.0</td>\n",
              "      <td>27.8</td>\n",
              "      <td>11.9</td>\n",
              "      <td>...</td>\n",
              "      <td>1.0</td>\n",
              "      <td>6.8</td>\n",
              "      <td>191.0</td>\n",
              "      <td>62.0</td>\n",
              "      <td>47.0</td>\n",
              "      <td>132.0</td>\n",
              "      <td>16.0</td>\n",
              "      <td>33.0</td>\n",
              "      <td>42.0</td>\n",
              "      <td>6.8</td>\n",
              "    </tr>\n",
              "    <tr>\n",
              "      <th>150</th>\n",
              "      <td>2</td>\n",
              "      <td>42.0</td>\n",
              "      <td>55.5</td>\n",
              "      <td>165.0</td>\n",
              "      <td>20.4</td>\n",
              "      <td>102.0</td>\n",
              "      <td>52.0</td>\n",
              "      <td>77.0</td>\n",
              "      <td>22.9</td>\n",
              "      <td>14.1</td>\n",
              "      <td>...</td>\n",
              "      <td>0.8</td>\n",
              "      <td>4.7</td>\n",
              "      <td>212.0</td>\n",
              "      <td>68.0</td>\n",
              "      <td>63.0</td>\n",
              "      <td>135.0</td>\n",
              "      <td>11.0</td>\n",
              "      <td>16.0</td>\n",
              "      <td>33.0</td>\n",
              "      <td>4.8</td>\n",
              "    </tr>\n",
              "    <tr>\n",
              "      <th>151</th>\n",
              "      <td>2</td>\n",
              "      <td>61.0</td>\n",
              "      <td>61.8</td>\n",
              "      <td>159.0</td>\n",
              "      <td>24.4</td>\n",
              "      <td>117.0</td>\n",
              "      <td>60.0</td>\n",
              "      <td>72.0</td>\n",
              "      <td>23.4</td>\n",
              "      <td>19.2</td>\n",
              "      <td>...</td>\n",
              "      <td>0.8</td>\n",
              "      <td>5.1</td>\n",
              "      <td>235.0</td>\n",
              "      <td>66.0</td>\n",
              "      <td>56.0</td>\n",
              "      <td>166.0</td>\n",
              "      <td>15.0</td>\n",
              "      <td>23.0</td>\n",
              "      <td>44.0</td>\n",
              "      <td>5.4</td>\n",
              "    </tr>\n",
              "    <tr>\n",
              "      <th>152</th>\n",
              "      <td>2</td>\n",
              "      <td>31.0</td>\n",
              "      <td>58.2</td>\n",
              "      <td>169.0</td>\n",
              "      <td>20.4</td>\n",
              "      <td>108.0</td>\n",
              "      <td>69.0</td>\n",
              "      <td>73.0</td>\n",
              "      <td>25.0</td>\n",
              "      <td>13.0</td>\n",
              "      <td>...</td>\n",
              "      <td>0.7</td>\n",
              "      <td>4.3</td>\n",
              "      <td>200.0</td>\n",
              "      <td>44.0</td>\n",
              "      <td>56.0</td>\n",
              "      <td>135.0</td>\n",
              "      <td>14.0</td>\n",
              "      <td>21.0</td>\n",
              "      <td>31.0</td>\n",
              "      <td>4.7</td>\n",
              "    </tr>\n",
              "  </tbody>\n",
              "</table>\n",
              "<p>153 rows × 26 columns</p>\n",
              "</div>\n",
              "      <button class=\"colab-df-convert\" onclick=\"convertToInteractive('df-52124814-cfdf-4b2b-8d24-1e4ea0709fdc')\"\n",
              "              title=\"Convert this dataframe to an interactive table.\"\n",
              "              style=\"display:none;\">\n",
              "        \n",
              "  <svg xmlns=\"http://www.w3.org/2000/svg\" height=\"24px\"viewBox=\"0 0 24 24\"\n",
              "       width=\"24px\">\n",
              "    <path d=\"M0 0h24v24H0V0z\" fill=\"none\"/>\n",
              "    <path d=\"M18.56 5.44l.94 2.06.94-2.06 2.06-.94-2.06-.94-.94-2.06-.94 2.06-2.06.94zm-11 1L8.5 8.5l.94-2.06 2.06-.94-2.06-.94L8.5 2.5l-.94 2.06-2.06.94zm10 10l.94 2.06.94-2.06 2.06-.94-2.06-.94-.94-2.06-.94 2.06-2.06.94z\"/><path d=\"M17.41 7.96l-1.37-1.37c-.4-.4-.92-.59-1.43-.59-.52 0-1.04.2-1.43.59L10.3 9.45l-7.72 7.72c-.78.78-.78 2.05 0 2.83L4 21.41c.39.39.9.59 1.41.59.51 0 1.02-.2 1.41-.59l7.78-7.78 2.81-2.81c.8-.78.8-2.07 0-2.86zM5.41 20L4 18.59l7.72-7.72 1.47 1.35L5.41 20z\"/>\n",
              "  </svg>\n",
              "      </button>\n",
              "      \n",
              "  <style>\n",
              "    .colab-df-container {\n",
              "      display:flex;\n",
              "      flex-wrap:wrap;\n",
              "      gap: 12px;\n",
              "    }\n",
              "\n",
              "    .colab-df-convert {\n",
              "      background-color: #E8F0FE;\n",
              "      border: none;\n",
              "      border-radius: 50%;\n",
              "      cursor: pointer;\n",
              "      display: none;\n",
              "      fill: #1967D2;\n",
              "      height: 32px;\n",
              "      padding: 0 0 0 0;\n",
              "      width: 32px;\n",
              "    }\n",
              "\n",
              "    .colab-df-convert:hover {\n",
              "      background-color: #E2EBFA;\n",
              "      box-shadow: 0px 1px 2px rgba(60, 64, 67, 0.3), 0px 1px 3px 1px rgba(60, 64, 67, 0.15);\n",
              "      fill: #174EA6;\n",
              "    }\n",
              "\n",
              "    [theme=dark] .colab-df-convert {\n",
              "      background-color: #3B4455;\n",
              "      fill: #D2E3FC;\n",
              "    }\n",
              "\n",
              "    [theme=dark] .colab-df-convert:hover {\n",
              "      background-color: #434B5C;\n",
              "      box-shadow: 0px 1px 3px 1px rgba(0, 0, 0, 0.15);\n",
              "      filter: drop-shadow(0px 1px 2px rgba(0, 0, 0, 0.3));\n",
              "      fill: #FFFFFF;\n",
              "    }\n",
              "  </style>\n",
              "\n",
              "      <script>\n",
              "        const buttonEl =\n",
              "          document.querySelector('#df-52124814-cfdf-4b2b-8d24-1e4ea0709fdc button.colab-df-convert');\n",
              "        buttonEl.style.display =\n",
              "          google.colab.kernel.accessAllowed ? 'block' : 'none';\n",
              "\n",
              "        async function convertToInteractive(key) {\n",
              "          const element = document.querySelector('#df-52124814-cfdf-4b2b-8d24-1e4ea0709fdc');\n",
              "          const dataTable =\n",
              "            await google.colab.kernel.invokeFunction('convertToInteractive',\n",
              "                                                     [key], {});\n",
              "          if (!dataTable) return;\n",
              "\n",
              "          const docLinkHtml = 'Like what you see? Visit the ' +\n",
              "            '<a target=\"_blank\" href=https://colab.research.google.com/notebooks/data_table.ipynb>data table notebook</a>'\n",
              "            + ' to learn more about interactive tables.';\n",
              "          element.innerHTML = '';\n",
              "          dataTable['output_type'] = 'display_data';\n",
              "          await google.colab.output.renderOutput(dataTable, element);\n",
              "          const docLink = document.createElement('div');\n",
              "          docLink.innerHTML = docLinkHtml;\n",
              "          element.appendChild(docLink);\n",
              "        }\n",
              "      </script>\n",
              "    </div>\n",
              "  </div>\n",
              "  "
            ]
          },
          "metadata": {},
          "execution_count": 4
        }
      ]
    },
    {
      "cell_type": "markdown",
      "source": [
        "# 10 % random nan"
      ],
      "metadata": {
        "id": "EaiTwqv1RA0w"
      }
    },
    {
      "cell_type": "code",
      "source": [
        "t_start = time.time()\n",
        "for i in range(1,1001):\n",
        "  globals()[f'Systolic10_{i}'] = data.copy() # for loop variable name\n",
        "  np.random.seed(i) # for loop seed\n",
        "  n = int((153*10/100)) \n",
        "  index_nan = np.random.choice(globals()[f'Systolic10_{i}']['Systolic'].size, n, replace=False) #globals()[name dataframe][column name].size\n",
        "  globals()[f'Systolic10_{i}']['Systolic'].ravel()[index_nan] = np.nan\n",
        "t_end = time.time()\n",
        "print(f'เวลาที่ใช้ในการประมวลผล {t_end- t_start} วินาที')\n",
        "print(f'เวลาที่ใช้ในการประมวลผล {(t_end- t_start)/60} นาที')"
      ],
      "metadata": {
        "id": "4nEkEiZP2gLT",
        "colab": {
          "base_uri": "https://localhost:8080/"
        },
        "outputId": "1eba922f-acc7-4933-b0bb-39dba2d8b94c"
      },
      "execution_count": 5,
      "outputs": [
        {
          "output_type": "stream",
          "name": "stdout",
          "text": [
            "เวลาที่ใช้ในการประมวลผล 0.22958850860595703 วินาที\n",
            "เวลาที่ใช้ในการประมวลผล 0.003826475143432617 นาที\n"
          ]
        }
      ]
    },
    {
      "cell_type": "code",
      "source": [
        "Systolic10_1"
      ],
      "metadata": {
        "id": "qBZ1V4NtQrRp",
        "colab": {
          "base_uri": "https://localhost:8080/",
          "height": 423
        },
        "outputId": "0b22ceea-1abc-4ff8-c34b-aec71c294a50"
      },
      "execution_count": 6,
      "outputs": [
        {
          "output_type": "execute_result",
          "data": {
            "text/plain": [
              "     Sex  AgeSYear  Weight  Height   BMI  Systolic  Diastolic  HeartRate  \\\n",
              "0      2      57.0    47.4   153.0  20.2     114.0       75.0       69.0   \n",
              "1      2      24.0    53.2   157.0  21.6     103.0       69.0       78.0   \n",
              "2      2      62.0    54.4   165.0  20.0      95.0       75.0       83.0   \n",
              "3      2      35.0    56.3   161.0  21.7      95.0       57.0       72.0   \n",
              "4      1      46.0    72.3   170.0  25.0     133.0       77.0      107.0   \n",
              "..   ...       ...     ...     ...   ...       ...        ...        ...   \n",
              "148    1      60.0    72.0   170.0  24.9     131.0       74.0       69.0   \n",
              "149    1      58.0    62.0   168.0  22.0     103.0       76.0       72.0   \n",
              "150    2      42.0    55.5   165.0  20.4     102.0       52.0       77.0   \n",
              "151    2      61.0    61.8   159.0  24.4     117.0       60.0       72.0   \n",
              "152    2      31.0    58.2   169.0  20.4     108.0       69.0       73.0   \n",
              "\n",
              "      SMM  Fat Mass  ...  003_Creatinine  004_Uric Acid  005_Cholesterol  \\\n",
              "0    19.3      12.5  ...             1.0            5.0            176.0   \n",
              "1    21.3      14.6  ...             0.8            5.2            159.0   \n",
              "2    21.6      15.2  ...             0.7            4.1            230.0   \n",
              "3    22.5      15.4  ...             0.6            5.0            198.0   \n",
              "4    29.2      19.0  ...             0.9            6.9            194.0   \n",
              "..    ...       ...  ...             ...            ...              ...   \n",
              "148  30.5      13.8  ...             0.9            6.9            182.0   \n",
              "149  27.8      11.9  ...             1.0            6.8            191.0   \n",
              "150  22.9      14.1  ...             0.8            4.7            212.0   \n",
              "151  23.4      19.2  ...             0.8            5.1            235.0   \n",
              "152  25.0      13.0  ...             0.7            4.3            200.0   \n",
              "\n",
              "     006_Triglyceride  008_HDL-C  009_LDL  010_AST  012_ALT  \\\n",
              "0                51.0       72.0     94.0     16.0     16.0   \n",
              "1                45.0       52.0     98.0     13.0     17.0   \n",
              "2                94.0       61.0    151.0     18.0     31.0   \n",
              "3                47.0       68.0    120.0     16.0     20.0   \n",
              "4                63.0       60.0    122.0     15.0     19.0   \n",
              "..                ...        ...      ...      ...      ...   \n",
              "148             179.0       39.0    107.0     36.0     31.0   \n",
              "149              62.0       47.0    132.0     16.0     33.0   \n",
              "150              68.0       63.0    135.0     11.0     16.0   \n",
              "151              66.0       56.0    166.0     15.0     23.0   \n",
              "152              44.0       56.0    135.0     14.0     21.0   \n",
              "\n",
              "     013_Alkaline Phos  071_HbA1c  \n",
              "0                 62.0        5.1  \n",
              "1                 50.0        5.4  \n",
              "2                 76.0        5.6  \n",
              "3                 35.0        5.1  \n",
              "4                 69.0        5.2  \n",
              "..                 ...        ...  \n",
              "148               79.0        6.5  \n",
              "149               42.0        6.8  \n",
              "150               33.0        4.8  \n",
              "151               44.0        5.4  \n",
              "152               31.0        4.7  \n",
              "\n",
              "[153 rows x 26 columns]"
            ],
            "text/html": [
              "\n",
              "  <div id=\"df-42087c6a-0152-4864-bbdd-d2e289cedf51\">\n",
              "    <div class=\"colab-df-container\">\n",
              "      <div>\n",
              "<style scoped>\n",
              "    .dataframe tbody tr th:only-of-type {\n",
              "        vertical-align: middle;\n",
              "    }\n",
              "\n",
              "    .dataframe tbody tr th {\n",
              "        vertical-align: top;\n",
              "    }\n",
              "\n",
              "    .dataframe thead th {\n",
              "        text-align: right;\n",
              "    }\n",
              "</style>\n",
              "<table border=\"1\" class=\"dataframe\">\n",
              "  <thead>\n",
              "    <tr style=\"text-align: right;\">\n",
              "      <th></th>\n",
              "      <th>Sex</th>\n",
              "      <th>AgeSYear</th>\n",
              "      <th>Weight</th>\n",
              "      <th>Height</th>\n",
              "      <th>BMI</th>\n",
              "      <th>Systolic</th>\n",
              "      <th>Diastolic</th>\n",
              "      <th>HeartRate</th>\n",
              "      <th>SMM</th>\n",
              "      <th>Fat Mass</th>\n",
              "      <th>...</th>\n",
              "      <th>003_Creatinine</th>\n",
              "      <th>004_Uric Acid</th>\n",
              "      <th>005_Cholesterol</th>\n",
              "      <th>006_Triglyceride</th>\n",
              "      <th>008_HDL-C</th>\n",
              "      <th>009_LDL</th>\n",
              "      <th>010_AST</th>\n",
              "      <th>012_ALT</th>\n",
              "      <th>013_Alkaline Phos</th>\n",
              "      <th>071_HbA1c</th>\n",
              "    </tr>\n",
              "  </thead>\n",
              "  <tbody>\n",
              "    <tr>\n",
              "      <th>0</th>\n",
              "      <td>2</td>\n",
              "      <td>57.0</td>\n",
              "      <td>47.4</td>\n",
              "      <td>153.0</td>\n",
              "      <td>20.2</td>\n",
              "      <td>114.0</td>\n",
              "      <td>75.0</td>\n",
              "      <td>69.0</td>\n",
              "      <td>19.3</td>\n",
              "      <td>12.5</td>\n",
              "      <td>...</td>\n",
              "      <td>1.0</td>\n",
              "      <td>5.0</td>\n",
              "      <td>176.0</td>\n",
              "      <td>51.0</td>\n",
              "      <td>72.0</td>\n",
              "      <td>94.0</td>\n",
              "      <td>16.0</td>\n",
              "      <td>16.0</td>\n",
              "      <td>62.0</td>\n",
              "      <td>5.1</td>\n",
              "    </tr>\n",
              "    <tr>\n",
              "      <th>1</th>\n",
              "      <td>2</td>\n",
              "      <td>24.0</td>\n",
              "      <td>53.2</td>\n",
              "      <td>157.0</td>\n",
              "      <td>21.6</td>\n",
              "      <td>103.0</td>\n",
              "      <td>69.0</td>\n",
              "      <td>78.0</td>\n",
              "      <td>21.3</td>\n",
              "      <td>14.6</td>\n",
              "      <td>...</td>\n",
              "      <td>0.8</td>\n",
              "      <td>5.2</td>\n",
              "      <td>159.0</td>\n",
              "      <td>45.0</td>\n",
              "      <td>52.0</td>\n",
              "      <td>98.0</td>\n",
              "      <td>13.0</td>\n",
              "      <td>17.0</td>\n",
              "      <td>50.0</td>\n",
              "      <td>5.4</td>\n",
              "    </tr>\n",
              "    <tr>\n",
              "      <th>2</th>\n",
              "      <td>2</td>\n",
              "      <td>62.0</td>\n",
              "      <td>54.4</td>\n",
              "      <td>165.0</td>\n",
              "      <td>20.0</td>\n",
              "      <td>95.0</td>\n",
              "      <td>75.0</td>\n",
              "      <td>83.0</td>\n",
              "      <td>21.6</td>\n",
              "      <td>15.2</td>\n",
              "      <td>...</td>\n",
              "      <td>0.7</td>\n",
              "      <td>4.1</td>\n",
              "      <td>230.0</td>\n",
              "      <td>94.0</td>\n",
              "      <td>61.0</td>\n",
              "      <td>151.0</td>\n",
              "      <td>18.0</td>\n",
              "      <td>31.0</td>\n",
              "      <td>76.0</td>\n",
              "      <td>5.6</td>\n",
              "    </tr>\n",
              "    <tr>\n",
              "      <th>3</th>\n",
              "      <td>2</td>\n",
              "      <td>35.0</td>\n",
              "      <td>56.3</td>\n",
              "      <td>161.0</td>\n",
              "      <td>21.7</td>\n",
              "      <td>95.0</td>\n",
              "      <td>57.0</td>\n",
              "      <td>72.0</td>\n",
              "      <td>22.5</td>\n",
              "      <td>15.4</td>\n",
              "      <td>...</td>\n",
              "      <td>0.6</td>\n",
              "      <td>5.0</td>\n",
              "      <td>198.0</td>\n",
              "      <td>47.0</td>\n",
              "      <td>68.0</td>\n",
              "      <td>120.0</td>\n",
              "      <td>16.0</td>\n",
              "      <td>20.0</td>\n",
              "      <td>35.0</td>\n",
              "      <td>5.1</td>\n",
              "    </tr>\n",
              "    <tr>\n",
              "      <th>4</th>\n",
              "      <td>1</td>\n",
              "      <td>46.0</td>\n",
              "      <td>72.3</td>\n",
              "      <td>170.0</td>\n",
              "      <td>25.0</td>\n",
              "      <td>133.0</td>\n",
              "      <td>77.0</td>\n",
              "      <td>107.0</td>\n",
              "      <td>29.2</td>\n",
              "      <td>19.0</td>\n",
              "      <td>...</td>\n",
              "      <td>0.9</td>\n",
              "      <td>6.9</td>\n",
              "      <td>194.0</td>\n",
              "      <td>63.0</td>\n",
              "      <td>60.0</td>\n",
              "      <td>122.0</td>\n",
              "      <td>15.0</td>\n",
              "      <td>19.0</td>\n",
              "      <td>69.0</td>\n",
              "      <td>5.2</td>\n",
              "    </tr>\n",
              "    <tr>\n",
              "      <th>...</th>\n",
              "      <td>...</td>\n",
              "      <td>...</td>\n",
              "      <td>...</td>\n",
              "      <td>...</td>\n",
              "      <td>...</td>\n",
              "      <td>...</td>\n",
              "      <td>...</td>\n",
              "      <td>...</td>\n",
              "      <td>...</td>\n",
              "      <td>...</td>\n",
              "      <td>...</td>\n",
              "      <td>...</td>\n",
              "      <td>...</td>\n",
              "      <td>...</td>\n",
              "      <td>...</td>\n",
              "      <td>...</td>\n",
              "      <td>...</td>\n",
              "      <td>...</td>\n",
              "      <td>...</td>\n",
              "      <td>...</td>\n",
              "      <td>...</td>\n",
              "    </tr>\n",
              "    <tr>\n",
              "      <th>148</th>\n",
              "      <td>1</td>\n",
              "      <td>60.0</td>\n",
              "      <td>72.0</td>\n",
              "      <td>170.0</td>\n",
              "      <td>24.9</td>\n",
              "      <td>131.0</td>\n",
              "      <td>74.0</td>\n",
              "      <td>69.0</td>\n",
              "      <td>30.5</td>\n",
              "      <td>13.8</td>\n",
              "      <td>...</td>\n",
              "      <td>0.9</td>\n",
              "      <td>6.9</td>\n",
              "      <td>182.0</td>\n",
              "      <td>179.0</td>\n",
              "      <td>39.0</td>\n",
              "      <td>107.0</td>\n",
              "      <td>36.0</td>\n",
              "      <td>31.0</td>\n",
              "      <td>79.0</td>\n",
              "      <td>6.5</td>\n",
              "    </tr>\n",
              "    <tr>\n",
              "      <th>149</th>\n",
              "      <td>1</td>\n",
              "      <td>58.0</td>\n",
              "      <td>62.0</td>\n",
              "      <td>168.0</td>\n",
              "      <td>22.0</td>\n",
              "      <td>103.0</td>\n",
              "      <td>76.0</td>\n",
              "      <td>72.0</td>\n",
              "      <td>27.8</td>\n",
              "      <td>11.9</td>\n",
              "      <td>...</td>\n",
              "      <td>1.0</td>\n",
              "      <td>6.8</td>\n",
              "      <td>191.0</td>\n",
              "      <td>62.0</td>\n",
              "      <td>47.0</td>\n",
              "      <td>132.0</td>\n",
              "      <td>16.0</td>\n",
              "      <td>33.0</td>\n",
              "      <td>42.0</td>\n",
              "      <td>6.8</td>\n",
              "    </tr>\n",
              "    <tr>\n",
              "      <th>150</th>\n",
              "      <td>2</td>\n",
              "      <td>42.0</td>\n",
              "      <td>55.5</td>\n",
              "      <td>165.0</td>\n",
              "      <td>20.4</td>\n",
              "      <td>102.0</td>\n",
              "      <td>52.0</td>\n",
              "      <td>77.0</td>\n",
              "      <td>22.9</td>\n",
              "      <td>14.1</td>\n",
              "      <td>...</td>\n",
              "      <td>0.8</td>\n",
              "      <td>4.7</td>\n",
              "      <td>212.0</td>\n",
              "      <td>68.0</td>\n",
              "      <td>63.0</td>\n",
              "      <td>135.0</td>\n",
              "      <td>11.0</td>\n",
              "      <td>16.0</td>\n",
              "      <td>33.0</td>\n",
              "      <td>4.8</td>\n",
              "    </tr>\n",
              "    <tr>\n",
              "      <th>151</th>\n",
              "      <td>2</td>\n",
              "      <td>61.0</td>\n",
              "      <td>61.8</td>\n",
              "      <td>159.0</td>\n",
              "      <td>24.4</td>\n",
              "      <td>117.0</td>\n",
              "      <td>60.0</td>\n",
              "      <td>72.0</td>\n",
              "      <td>23.4</td>\n",
              "      <td>19.2</td>\n",
              "      <td>...</td>\n",
              "      <td>0.8</td>\n",
              "      <td>5.1</td>\n",
              "      <td>235.0</td>\n",
              "      <td>66.0</td>\n",
              "      <td>56.0</td>\n",
              "      <td>166.0</td>\n",
              "      <td>15.0</td>\n",
              "      <td>23.0</td>\n",
              "      <td>44.0</td>\n",
              "      <td>5.4</td>\n",
              "    </tr>\n",
              "    <tr>\n",
              "      <th>152</th>\n",
              "      <td>2</td>\n",
              "      <td>31.0</td>\n",
              "      <td>58.2</td>\n",
              "      <td>169.0</td>\n",
              "      <td>20.4</td>\n",
              "      <td>108.0</td>\n",
              "      <td>69.0</td>\n",
              "      <td>73.0</td>\n",
              "      <td>25.0</td>\n",
              "      <td>13.0</td>\n",
              "      <td>...</td>\n",
              "      <td>0.7</td>\n",
              "      <td>4.3</td>\n",
              "      <td>200.0</td>\n",
              "      <td>44.0</td>\n",
              "      <td>56.0</td>\n",
              "      <td>135.0</td>\n",
              "      <td>14.0</td>\n",
              "      <td>21.0</td>\n",
              "      <td>31.0</td>\n",
              "      <td>4.7</td>\n",
              "    </tr>\n",
              "  </tbody>\n",
              "</table>\n",
              "<p>153 rows × 26 columns</p>\n",
              "</div>\n",
              "      <button class=\"colab-df-convert\" onclick=\"convertToInteractive('df-42087c6a-0152-4864-bbdd-d2e289cedf51')\"\n",
              "              title=\"Convert this dataframe to an interactive table.\"\n",
              "              style=\"display:none;\">\n",
              "        \n",
              "  <svg xmlns=\"http://www.w3.org/2000/svg\" height=\"24px\"viewBox=\"0 0 24 24\"\n",
              "       width=\"24px\">\n",
              "    <path d=\"M0 0h24v24H0V0z\" fill=\"none\"/>\n",
              "    <path d=\"M18.56 5.44l.94 2.06.94-2.06 2.06-.94-2.06-.94-.94-2.06-.94 2.06-2.06.94zm-11 1L8.5 8.5l.94-2.06 2.06-.94-2.06-.94L8.5 2.5l-.94 2.06-2.06.94zm10 10l.94 2.06.94-2.06 2.06-.94-2.06-.94-.94-2.06-.94 2.06-2.06.94z\"/><path d=\"M17.41 7.96l-1.37-1.37c-.4-.4-.92-.59-1.43-.59-.52 0-1.04.2-1.43.59L10.3 9.45l-7.72 7.72c-.78.78-.78 2.05 0 2.83L4 21.41c.39.39.9.59 1.41.59.51 0 1.02-.2 1.41-.59l7.78-7.78 2.81-2.81c.8-.78.8-2.07 0-2.86zM5.41 20L4 18.59l7.72-7.72 1.47 1.35L5.41 20z\"/>\n",
              "  </svg>\n",
              "      </button>\n",
              "      \n",
              "  <style>\n",
              "    .colab-df-container {\n",
              "      display:flex;\n",
              "      flex-wrap:wrap;\n",
              "      gap: 12px;\n",
              "    }\n",
              "\n",
              "    .colab-df-convert {\n",
              "      background-color: #E8F0FE;\n",
              "      border: none;\n",
              "      border-radius: 50%;\n",
              "      cursor: pointer;\n",
              "      display: none;\n",
              "      fill: #1967D2;\n",
              "      height: 32px;\n",
              "      padding: 0 0 0 0;\n",
              "      width: 32px;\n",
              "    }\n",
              "\n",
              "    .colab-df-convert:hover {\n",
              "      background-color: #E2EBFA;\n",
              "      box-shadow: 0px 1px 2px rgba(60, 64, 67, 0.3), 0px 1px 3px 1px rgba(60, 64, 67, 0.15);\n",
              "      fill: #174EA6;\n",
              "    }\n",
              "\n",
              "    [theme=dark] .colab-df-convert {\n",
              "      background-color: #3B4455;\n",
              "      fill: #D2E3FC;\n",
              "    }\n",
              "\n",
              "    [theme=dark] .colab-df-convert:hover {\n",
              "      background-color: #434B5C;\n",
              "      box-shadow: 0px 1px 3px 1px rgba(0, 0, 0, 0.15);\n",
              "      filter: drop-shadow(0px 1px 2px rgba(0, 0, 0, 0.3));\n",
              "      fill: #FFFFFF;\n",
              "    }\n",
              "  </style>\n",
              "\n",
              "      <script>\n",
              "        const buttonEl =\n",
              "          document.querySelector('#df-42087c6a-0152-4864-bbdd-d2e289cedf51 button.colab-df-convert');\n",
              "        buttonEl.style.display =\n",
              "          google.colab.kernel.accessAllowed ? 'block' : 'none';\n",
              "\n",
              "        async function convertToInteractive(key) {\n",
              "          const element = document.querySelector('#df-42087c6a-0152-4864-bbdd-d2e289cedf51');\n",
              "          const dataTable =\n",
              "            await google.colab.kernel.invokeFunction('convertToInteractive',\n",
              "                                                     [key], {});\n",
              "          if (!dataTable) return;\n",
              "\n",
              "          const docLinkHtml = 'Like what you see? Visit the ' +\n",
              "            '<a target=\"_blank\" href=https://colab.research.google.com/notebooks/data_table.ipynb>data table notebook</a>'\n",
              "            + ' to learn more about interactive tables.';\n",
              "          element.innerHTML = '';\n",
              "          dataTable['output_type'] = 'display_data';\n",
              "          await google.colab.output.renderOutput(dataTable, element);\n",
              "          const docLink = document.createElement('div');\n",
              "          docLink.innerHTML = docLinkHtml;\n",
              "          element.appendChild(docLink);\n",
              "        }\n",
              "      </script>\n",
              "    </div>\n",
              "  </div>\n",
              "  "
            ]
          },
          "metadata": {},
          "execution_count": 6
        }
      ]
    },
    {
      "cell_type": "markdown",
      "source": [
        "## Imputation using Mean"
      ],
      "metadata": {
        "id": "YjwJ6-Qb7rt3"
      }
    },
    {
      "cell_type": "code",
      "source": [
        "from sklearn.impute import SimpleImputer"
      ],
      "metadata": {
        "id": "z2nfqhdh-yXe"
      },
      "execution_count": 7,
      "outputs": []
    },
    {
      "cell_type": "code",
      "source": [
        "t_start = time.time()\n",
        "mean10_imputer = SimpleImputer(strategy='mean')\n",
        "for i in range(1,1001):\n",
        "  globals()[f'imputed_mean10_{i}'] = mean10_imputer.fit_transform(globals()[f'Systolic10_{i}'].copy()) #for loop miss forest impputation \n",
        "  globals()[f'MSE_MEAN10_{i}'] = mean_squared_error(data, globals()[f'imputed_mean10_{i}']) # for loop mean_squared_error\n",
        "t_end = time.time()\n",
        "t10_MEAN= (t_end- t_start)"
      ],
      "metadata": {
        "id": "zJS_wIka_iTE"
      },
      "execution_count": 8,
      "outputs": []
    },
    {
      "cell_type": "code",
      "source": [
        "MSE_MEAN10_1"
      ],
      "metadata": {
        "colab": {
          "base_uri": "https://localhost:8080/"
        },
        "id": "WJYWxxenZymG",
        "outputId": "e90fb439-8115-4824-f9b4-540fc1dcdf04"
      },
      "execution_count": 9,
      "outputs": [
        {
          "output_type": "execute_result",
          "data": {
            "text/plain": [
              "0.6752880049471843"
            ]
          },
          "metadata": {},
          "execution_count": 9
        }
      ]
    },
    {
      "cell_type": "code",
      "source": [
        "t_start = time.time()\n",
        "mse_mean10_total = 0 \n",
        "MSE_MEAN10_1001 = 0\n",
        "for i in range(0,1001):\n",
        "  mse_mean10_total = mse_mean10_total + globals()[f'MSE_MEAN10_{i+1}']\n",
        "AMSE_Systolic10_mean = mse_mean10_total/1000\n",
        "print(f'AMSE_Systolic10_mean = {AMSE_Systolic10_mean}')\n",
        "t_end = time.time()\n",
        "print(f'เวลาที่ใช้ในการประมวลผล {t_end- t_start} วินาที')\n",
        "print(f'เวลาที่ใช้ในการประมวลผล {(t_end- t_start)/60} นาที')"
      ],
      "metadata": {
        "id": "fpVr60a-_yGy",
        "colab": {
          "base_uri": "https://localhost:8080/"
        },
        "outputId": "323e36f8-3b9c-4286-c23c-cad574ca07cf"
      },
      "execution_count": 10,
      "outputs": [
        {
          "output_type": "stream",
          "name": "stdout",
          "text": [
            "AMSE_Systolic10_mean = 0.6560541472110476\n",
            "เวลาที่ใช้ในการประมวลผล 0.0007507801055908203 วินาที\n",
            "เวลาที่ใช้ในการประมวลผล 1.2513001759847005e-05 นาที\n"
          ]
        }
      ]
    },
    {
      "cell_type": "markdown",
      "source": [
        "## Imputation using the miss forest"
      ],
      "metadata": {
        "id": "yYzw-Hj6Lcd4"
      }
    },
    {
      "cell_type": "code",
      "source": [
        "import sys\n",
        "import sklearn.neighbors._base\n",
        "sys.modules['sklearn.neighbors.base'] = sklearn.neighbors._base\n",
        "!pip install missingpy\n",
        "import missingpy\n",
        "from missingpy import MissForest\n",
        "from sklearn.metrics import mean_squared_error"
      ],
      "metadata": {
        "id": "LySNylXpbrZY",
        "colab": {
          "base_uri": "https://localhost:8080/"
        },
        "outputId": "d9285cd0-3270-49d7-e243-c1f1492a06b1"
      },
      "execution_count": 11,
      "outputs": [
        {
          "output_type": "stream",
          "name": "stdout",
          "text": [
            "Looking in indexes: https://pypi.org/simple, https://us-python.pkg.dev/colab-wheels/public/simple/\n",
            "Requirement already satisfied: missingpy in /usr/local/lib/python3.8/dist-packages (0.2.0)\n"
          ]
        }
      ]
    },
    {
      "cell_type": "code",
      "source": [
        "t_start = time.time()\n",
        "MF10_imputer = MissForest()\n",
        "for i in range(1,1001):\n",
        "  globals()[f'imputed_mf10_{i}'] = MF10_imputer.fit_transform(globals()[f'Systolic10_{i}'].copy()) #for loop miss forest impputation \n",
        "  globals()[f'MSE_MF10_{i}'] = mean_squared_error(data, globals()[f'imputed_mf10_{i}']) # for loop mean_squared_error\n",
        "t_end = time.time()\n",
        "t10_MF= (t_end- t_start)"
      ],
      "metadata": {
        "id": "jpVrBlWkczgN"
      },
      "execution_count": null,
      "outputs": []
    },
    {
      "cell_type": "code",
      "source": [
        "t_start = time.time()\n",
        "mse_mf10_total = 0 \n",
        "MSE_MF10_1001 = 0\n",
        "for i in range(0,1001):\n",
        "  mse_mf10_total = mse_mf10_total + globals()[f'MSE_MF10_{i+1}']\n",
        "AMSE_Systolic10_mf = mse_mf10_total/1000\n",
        "print(f'AMSE_Systolic10_mf = {AMSE_Systolic10_mf}')\n",
        "t_end = time.time()\n",
        "print(f'เวลาที่ใช้ในการประมวลผล {t_end- t_start} วินาที')\n",
        "print(f'เวลาที่ใช้ในการประมวลผล {(t_end- t_start)/60} นาที')"
      ],
      "metadata": {
        "id": "itymgxccG8Yj",
        "colab": {
          "base_uri": "https://localhost:8080/"
        },
        "outputId": "707e6bb1-0901-4541-b04f-6b4236380f39"
      },
      "execution_count": 13,
      "outputs": [
        {
          "output_type": "stream",
          "name": "stdout",
          "text": [
            "AMSE_Systolic10_mf = 0.3981160829813979\n",
            "เวลาที่ใช้ในการประมวลผล 0.0014553070068359375 วินาที\n",
            "เวลาที่ใช้ในการประมวลผล 2.425511678059896e-05 นาที\n"
          ]
        }
      ]
    },
    {
      "cell_type": "markdown",
      "source": [
        "## Imputation using the KNN"
      ],
      "metadata": {
        "id": "AH3QecnbePSA"
      }
    },
    {
      "cell_type": "code",
      "source": [
        "from sklearn import neighbors\n",
        "from sklearn.impute import KNNImputer"
      ],
      "metadata": {
        "id": "PpTM8fjNRgta"
      },
      "execution_count": 14,
      "outputs": []
    },
    {
      "cell_type": "code",
      "source": [
        "t_start = time.time()\n",
        "KNN10_imputer = KNNImputer(n_neighbors = 15)\n",
        "for i in range(1,1001):\n",
        "  globals()[f'imputed_KNN10_{i}'] = KNN10_imputer.fit_transform(globals()[f'Systolic10_{i}'].copy())\n",
        "  globals()[f'MSE_KNN10_{i}'] = mean_squared_error(data, globals()[f'imputed_KNN10_{i}'])\n",
        "t_end = time.time()\n",
        "t10_KNN= (t_end- t_start)"
      ],
      "metadata": {
        "id": "0j-UtJFbjj19"
      },
      "execution_count": 15,
      "outputs": []
    },
    {
      "cell_type": "code",
      "source": [
        "t_start = time.time()\n",
        "mse_knn10_total = 0 \n",
        "MSE_KNN10_1001 = 0\n",
        "for i in range(0,1001):\n",
        "  mse_knn10_total = mse_knn10_total + globals()[f'MSE_KNN10_{i+1}']\n",
        "AMSE_Systolic10_knn = mse_knn10_total/1000\n",
        "print(f'AMSE_Systolic10_knn = {AMSE_Systolic10_knn}')\n",
        "t_end = time.time()\n",
        "print(f'เวลาที่ใช้ในการประมวลผล {t_end- t_start} วินาที')\n",
        "print(f'เวลาที่ใช้ในการประมวลผล {(t_end- t_start)/60} นาที')"
      ],
      "metadata": {
        "id": "Y7aDqUh_klXX",
        "colab": {
          "base_uri": "https://localhost:8080/"
        },
        "outputId": "37e32904-b05e-4ba9-e989-f3803dd5e99d"
      },
      "execution_count": 16,
      "outputs": [
        {
          "output_type": "stream",
          "name": "stdout",
          "text": [
            "AMSE_Systolic10_knn = 0.5164972325568408\n",
            "เวลาที่ใช้ในการประมวลผล 0.0008206367492675781 วินาที\n",
            "เวลาที่ใช้ในการประมวลผล 1.3677279154459636e-05 นาที\n"
          ]
        }
      ]
    },
    {
      "cell_type": "markdown",
      "source": [
        "## Imputation using the MICE"
      ],
      "metadata": {
        "id": "bNG85n-5mgJ5"
      }
    },
    {
      "cell_type": "code",
      "source": [
        "from sklearn.experimental import enable_iterative_imputer\n",
        "from sklearn.impute import IterativeImputer\n",
        "from sklearn.linear_model import LinearRegression\n",
        "from sklearn import svm"
      ],
      "metadata": {
        "id": "jdG8Wkt5PqYA"
      },
      "execution_count": 17,
      "outputs": []
    },
    {
      "cell_type": "markdown",
      "source": [
        "### LinearRegression model"
      ],
      "metadata": {
        "id": "KO_irahVV3Ny"
      }
    },
    {
      "cell_type": "code",
      "source": [
        "t_start = time.time()\n",
        "lr = LinearRegression()\n",
        "for i in range(1,1001):\n",
        "  imp = IterativeImputer(estimator= lr , max_iter= 10, verbose=2, imputation_order='roman',initial_strategy = 'mean',random_state= i)\n",
        "  globals()[f'imputed_lr10_{i}'] = imp.fit_transform(globals()[f'Systolic10_{i}'].copy())\n",
        "  globals()[f'MSE_lr10_{i}'] = mean_squared_error(data, globals()[f'imputed_lr10_{i}'])\n",
        "t_end = time.time()\n",
        "t10_LR= (t_end- t_start)"
      ],
      "metadata": {
        "id": "ocdE53Z3WGwP"
      },
      "execution_count": null,
      "outputs": []
    },
    {
      "cell_type": "code",
      "source": [
        "t_start = time.time()\n",
        "mse_lr10_total = 0 \n",
        "MSE_lr10_1001 = 0\n",
        "for i in range(0,1001):\n",
        "  mse_lr10_total = mse_lr10_total + globals()[f'MSE_lr10_{i+1}']\n",
        "AMSE_Systolic10_lr = mse_lr10_total/1000\n",
        "print(f'AMSE_Systolic10_lr = {AMSE_Systolic10_lr}')\n",
        "t_end = time.time()\n",
        "print(f'เวลาที่ใช้ในการประมวลผล {t_end- t_start} วินาที')\n",
        "print(f'เวลาที่ใช้ในการประมวลผล {(t_end- t_start)/60} นาที')"
      ],
      "metadata": {
        "id": "Zv8b8tpgXTqV",
        "colab": {
          "base_uri": "https://localhost:8080/"
        },
        "outputId": "edd99ef1-800a-410a-b057-52a374d70789"
      },
      "execution_count": 19,
      "outputs": [
        {
          "output_type": "stream",
          "name": "stdout",
          "text": [
            "AMSE_Systolic10_lr = 0.7607934593355028\n",
            "เวลาที่ใช้ในการประมวลผล 0.00138092041015625 วินาที\n",
            "เวลาที่ใช้ในการประมวลผล 2.3015340169270833e-05 นาที\n"
          ]
        }
      ]
    },
    {
      "cell_type": "markdown",
      "source": [
        "### Support Vector Machine model"
      ],
      "metadata": {
        "id": "Q_etxqbFV-c-"
      }
    },
    {
      "cell_type": "code",
      "source": [
        "t_start = time.time()\n",
        "regr = svm.SVR()\n",
        "for i in range(1,1001):\n",
        "  svm_svr = IterativeImputer(estimator= regr, max_iter= 10, verbose=2, imputation_order='roman',initial_strategy = 'mean',random_state= i)\n",
        "  globals()[f'imputed_svm10_{i}'] = svm_svr.fit_transform(globals()[f'Systolic10_{i}'].copy())\n",
        "  globals()[f'MSE_svm10_{i}'] = mean_squared_error(data, globals()[f'imputed_svm10_{i}'])\n",
        "t_end = time.time()\n",
        "t10_SVM= (t_end- t_start)"
      ],
      "metadata": {
        "id": "yICe2SxBWDiV"
      },
      "execution_count": null,
      "outputs": []
    },
    {
      "cell_type": "code",
      "source": [
        "t_start = time.time()\n",
        "mse_svm10_total = 0 \n",
        "MSE_svm10_1001 = 0\n",
        "for i in range(0,1001):\n",
        "  mse_svm10_total = mse_svm10_total + globals()[f'MSE_svm10_{i+1}']\n",
        "AMSE_Systolic10_svm = mse_svm10_total/1000\n",
        "print(f'AMSE_Systolic10_svm = {AMSE_Systolic10_svm}')\n",
        "t_end = time.time()\n",
        "print(f'เวลาที่ใช้ในการประมวลผล {t_end- t_start} วินาที')\n",
        "print(f'เวลาที่ใช้ในการประมวลผล {(t_end- t_start)/60} นาที')"
      ],
      "metadata": {
        "id": "Kg6Ga9K4XvWz",
        "colab": {
          "base_uri": "https://localhost:8080/"
        },
        "outputId": "d292e3a9-fc51-4425-eb24-9d323d0409c4"
      },
      "execution_count": 21,
      "outputs": [
        {
          "output_type": "stream",
          "name": "stdout",
          "text": [
            "AMSE_Systolic10_svm = 0.6079166388018563\n",
            "เวลาที่ใช้ในการประมวลผล 0.0016927719116210938 วินาที\n",
            "เวลาที่ใช้ในการประมวลผล 2.8212865193684895e-05 นาที\n"
          ]
        }
      ]
    },
    {
      "cell_type": "markdown",
      "source": [
        "## Imputation using the EM"
      ],
      "metadata": {
        "id": "CBhCn1dleov0"
      }
    },
    {
      "cell_type": "markdown",
      "source": [
        "### impy.em"
      ],
      "metadata": {
        "id": "okGFHwzYnBSm"
      }
    },
    {
      "cell_type": "code",
      "source": [
        "!pip install impyute\n",
        "import impyute as impy"
      ],
      "metadata": {
        "id": "MoYcRZ9unCRN",
        "colab": {
          "base_uri": "https://localhost:8080/"
        },
        "outputId": "ced8f5c6-4f80-42f6-fffa-da3509c49680"
      },
      "execution_count": 22,
      "outputs": [
        {
          "output_type": "stream",
          "name": "stdout",
          "text": [
            "Looking in indexes: https://pypi.org/simple, https://us-python.pkg.dev/colab-wheels/public/simple/\n",
            "Requirement already satisfied: impyute in /usr/local/lib/python3.8/dist-packages (0.0.8)\n",
            "Requirement already satisfied: scikit-learn in /usr/local/lib/python3.8/dist-packages (from impyute) (1.0.2)\n",
            "Requirement already satisfied: numpy in /usr/local/lib/python3.8/dist-packages (from impyute) (1.21.6)\n",
            "Requirement already satisfied: scipy in /usr/local/lib/python3.8/dist-packages (from impyute) (1.7.3)\n",
            "Requirement already satisfied: threadpoolctl>=2.0.0 in /usr/local/lib/python3.8/dist-packages (from scikit-learn->impyute) (3.1.0)\n",
            "Requirement already satisfied: joblib>=0.11 in /usr/local/lib/python3.8/dist-packages (from scikit-learn->impyute) (1.2.0)\n"
          ]
        }
      ]
    },
    {
      "cell_type": "code",
      "source": [
        "t_start = time.time()\n",
        "for i in range(1,1001):\n",
        "  globals()[f'imputed_impy10_{i}'] = impy.em(globals()[f'Systolic10_{i}'].values.copy())\n",
        "  globals()[f'MSE_impy10_{i}'] = mean_squared_error(data, globals()[f'imputed_impy10_{i}'])\n",
        "t_end = time.time()\n",
        "t10_EM= (t_end- t_start)"
      ],
      "metadata": {
        "id": "q8hPK-5WqHua"
      },
      "execution_count": 23,
      "outputs": []
    },
    {
      "cell_type": "code",
      "source": [
        "t_start = time.time()\n",
        "mse_impy10_total = 0 \n",
        "MSE_impy10_1001 = 0\n",
        "for i in range(0,1001):\n",
        "  mse_impy10_total = mse_impy10_total + globals()[f'MSE_impy10_{i+1}']\n",
        "AMSE_Systolic10_impy = mse_impy10_total/1000\n",
        "print(f'AMSE_Systolic10_impy = {AMSE_Systolic10_impy}')\n",
        "t_end = time.time()\n",
        "print(f'เวลาที่ใช้ในการประมวลผล {t_end- t_start} วินาที')\n",
        "print(f'เวลาที่ใช้ในการประมวลผล {(t_end- t_start)/60} นาที')"
      ],
      "metadata": {
        "id": "dxBu9e5fqHZw",
        "colab": {
          "base_uri": "https://localhost:8080/"
        },
        "outputId": "c51c946f-752a-44aa-fdca-570ed97e87fc"
      },
      "execution_count": 24,
      "outputs": [
        {
          "output_type": "stream",
          "name": "stdout",
          "text": [
            "AMSE_Systolic10_impy = 1.2421439378827015\n",
            "เวลาที่ใช้ในการประมวลผล 0.0009644031524658203 วินาที\n",
            "เวลาที่ใช้ในการประมวลผล 1.607338587443034e-05 นาที\n"
          ]
        }
      ]
    },
    {
      "cell_type": "code",
      "source": [],
      "metadata": {
        "id": "5N4p-V0Khe4t"
      },
      "execution_count": 24,
      "outputs": []
    },
    {
      "cell_type": "markdown",
      "source": [
        "# 20 % random nan"
      ],
      "metadata": {
        "id": "XDnNeFskmmxr"
      }
    },
    {
      "cell_type": "code",
      "source": [
        "t_start = time.time()\n",
        "for i in range(1,1001):\n",
        "  globals()[f'Systolic20_{i}'] = data.copy() # for loop variable name\n",
        "  np.random.seed(i) # for loop seed\n",
        "  n = int((153*20/100)) \n",
        "  index_nan = np.random.choice(globals()[f'Systolic20_{i}']['Systolic'].size, n, replace=False) #globals()[name dataframe][column name].size\n",
        "  globals()[f'Systolic20_{i}']['Systolic'].ravel()[index_nan] = np.nan\n",
        "t_end = time.time()\n",
        "print(f'เวลาที่ใช้ในการประมวลผล {t_end- t_start} วินาที')\n",
        "print(f'เวลาที่ใช้ในการประมวลผล {(t_end- t_start)/60} นาที')"
      ],
      "metadata": {
        "id": "1sP-Uzfimmxr",
        "colab": {
          "base_uri": "https://localhost:8080/"
        },
        "outputId": "b126b217-3859-400c-8a54-376cec5bba4a"
      },
      "execution_count": 25,
      "outputs": [
        {
          "output_type": "stream",
          "name": "stdout",
          "text": [
            "เวลาที่ใช้ในการประมวลผล 0.3982970714569092 วินาที\n",
            "เวลาที่ใช้ในการประมวลผล 0.00663828452428182 นาที\n"
          ]
        }
      ]
    },
    {
      "cell_type": "markdown",
      "source": [
        "## Imputation using Mean"
      ],
      "metadata": {
        "id": "Q5srQCVpmmxr"
      }
    },
    {
      "cell_type": "code",
      "source": [
        "from sklearn.impute import SimpleImputer"
      ],
      "metadata": {
        "id": "chHokb5Ummxr"
      },
      "execution_count": 26,
      "outputs": []
    },
    {
      "cell_type": "code",
      "source": [
        "t_start = time.time()\n",
        "mean20_imputer = SimpleImputer(strategy='mean')\n",
        "for i in range(1,1001):\n",
        "  globals()[f'imputed_mean20_{i}'] = mean20_imputer.fit_transform(globals()[f'Systolic20_{i}'].copy()) #for loop miss forest impputation \n",
        "  globals()[f'MSE_MEAN20_{i}'] = mean_squared_error(data, globals()[f'imputed_mean20_{i}']) # for loop mean_squared_error\n",
        "t_end = time.time()\n",
        "t20_MEAN = (t_end- t_start)"
      ],
      "metadata": {
        "id": "7VclQaj-mmxs"
      },
      "execution_count": 27,
      "outputs": []
    },
    {
      "cell_type": "code",
      "source": [
        "t_start = time.time()\n",
        "mse_mean20_total = 0 \n",
        "MSE_MEAN20_1001 = 0\n",
        "for i in range(0,1001):\n",
        "  mse_mean20_total = mse_mean20_total + globals()[f'MSE_MEAN20_{i+1}']\n",
        "AMSE_Systolic20_mean = mse_mean20_total/1000\n",
        "print(f'AMSE_Systolic20_mean = {AMSE_Systolic20_mean}')\n",
        "t_end = time.time()\n",
        "print(f'เวลาที่ใช้ในการประมวลผล {t_end- t_start} วินาที')\n",
        "print(f'เวลาที่ใช้ในการประมวลผล {(t_end- t_start)/60} นาที')"
      ],
      "metadata": {
        "id": "LzWT-scommxs",
        "colab": {
          "base_uri": "https://localhost:8080/"
        },
        "outputId": "28539dae-52d5-4074-d741-cc34c9f184c4"
      },
      "execution_count": 28,
      "outputs": [
        {
          "output_type": "stream",
          "name": "stdout",
          "text": [
            "AMSE_Systolic20_mean = 1.318454221597728\n",
            "เวลาที่ใช้ในการประมวลผล 0.0010161399841308594 วินาที\n",
            "เวลาที่ใช้ในการประมวลผล 1.693566640218099e-05 นาที\n"
          ]
        }
      ]
    },
    {
      "cell_type": "markdown",
      "source": [
        "## Imputation using the miss forest"
      ],
      "metadata": {
        "id": "jPm8Yyvymmxs"
      }
    },
    {
      "cell_type": "code",
      "source": [
        "import sys\n",
        "import sklearn.neighbors._base\n",
        "sys.modules['sklearn.neighbors.base'] = sklearn.neighbors._base\n",
        "!pip install missingpy\n",
        "import missingpy\n",
        "from missingpy import MissForest\n",
        "from sklearn.metrics import mean_squared_error"
      ],
      "metadata": {
        "colab": {
          "base_uri": "https://localhost:8080/"
        },
        "outputId": "b1c23c82-73ec-4a6e-aee2-f85ee076979a",
        "id": "qSntFelOmmxs"
      },
      "execution_count": 29,
      "outputs": [
        {
          "output_type": "stream",
          "name": "stdout",
          "text": [
            "Looking in indexes: https://pypi.org/simple, https://us-python.pkg.dev/colab-wheels/public/simple/\n",
            "Requirement already satisfied: missingpy in /usr/local/lib/python3.8/dist-packages (0.2.0)\n"
          ]
        }
      ]
    },
    {
      "cell_type": "code",
      "source": [
        "t_start = time.time()\n",
        "MF20_imputer = MissForest()\n",
        "for i in range(1,1001):\n",
        "  globals()[f'imputed_mf20_{i}'] = MF20_imputer.fit_transform(globals()[f'Systolic20_{i}'].copy()) #for loop miss forest impputation \n",
        "  globals()[f'MSE_MF20_{i}'] = mean_squared_error(data, globals()[f'imputed_mf20_{i}']) # for loop mean_squared_error\n",
        "t_end = time.time()\n",
        "t20_MF = (t_end- t_start)"
      ],
      "metadata": {
        "id": "Atqzpyu0mmxs"
      },
      "execution_count": null,
      "outputs": []
    },
    {
      "cell_type": "code",
      "source": [
        "t_start = time.time()\n",
        "mse_mf20_total = 0 \n",
        "MSE_MF20_1001 = 0\n",
        "for i in range(0,1001):\n",
        "  mse_mf20_total = mse_mf20_total + globals()[f'MSE_MF20_{i+1}']\n",
        "AMSE_Systolic20_mf = mse_mf20_total/1000\n",
        "print(f'AMSE_Systolic20_mf = {AMSE_Systolic20_mf}')\n",
        "t_end = time.time()\n",
        "print(f'เวลาที่ใช้ในการประมวลผล {t_end- t_start} วินาที')\n",
        "print(f'เวลาที่ใช้ในการประมวลผล {(t_end- t_start)/60} นาที')"
      ],
      "metadata": {
        "id": "YcBt9j5tmmxs",
        "colab": {
          "base_uri": "https://localhost:8080/"
        },
        "outputId": "3abe3003-4c0f-408b-9009-2cb8ccb15292"
      },
      "execution_count": 31,
      "outputs": [
        {
          "output_type": "stream",
          "name": "stdout",
          "text": [
            "AMSE_Systolic20_mf = 0.8005037496480644\n",
            "เวลาที่ใช้ในการประมวลผล 0.0020551681518554688 วินาที\n",
            "เวลาที่ใช้ในการประมวลผล 3.425280253092448e-05 นาที\n"
          ]
        }
      ]
    },
    {
      "cell_type": "markdown",
      "source": [
        "## Imputation using the KNN"
      ],
      "metadata": {
        "id": "c6ooAbE9mmxs"
      }
    },
    {
      "cell_type": "code",
      "source": [
        "from sklearn import neighbors\n",
        "from sklearn.impute import KNNImputer"
      ],
      "metadata": {
        "id": "VWXjdHBJmmxt"
      },
      "execution_count": 32,
      "outputs": []
    },
    {
      "cell_type": "code",
      "source": [
        "t_start = time.time()\n",
        "KNN20_imputer = KNNImputer(n_neighbors = 15)\n",
        "for i in range(1,1001):\n",
        "  globals()[f'imputed_KNN20_{i}'] = KNN20_imputer.fit_transform(globals()[f'Systolic20_{i}'].copy())\n",
        "  globals()[f'MSE_KNN20_{i}'] = mean_squared_error(data, globals()[f'imputed_KNN20_{i}'])\n",
        "t_end = time.time()\n",
        "t20_KNN = (t_end- t_start)"
      ],
      "metadata": {
        "id": "aFcobkWqmmxt"
      },
      "execution_count": 33,
      "outputs": []
    },
    {
      "cell_type": "code",
      "source": [
        "t_start = time.time()\n",
        "mse_knn20_total = 0 \n",
        "MSE_KNN20_1001 = 0\n",
        "for i in range(0,1001):\n",
        "  mse_knn20_total = mse_knn20_total + globals()[f'MSE_KNN20_{i+1}']\n",
        "AMSE_Systolic20_knn = mse_knn20_total/1000\n",
        "print(f'AMSE_Systolic20_knn = {AMSE_Systolic20_knn}')\n",
        "t_end = time.time()\n",
        "print(f'เวลาที่ใช้ในการประมวลผล {t_end- t_start} วินาที')\n",
        "print(f'เวลาที่ใช้ในการประมวลผล {(t_end- t_start)/60} นาที')"
      ],
      "metadata": {
        "id": "YAwxOSZjmmxt",
        "colab": {
          "base_uri": "https://localhost:8080/"
        },
        "outputId": "dee45709-22d1-48ab-e690-06a6a3618f8f"
      },
      "execution_count": 34,
      "outputs": [
        {
          "output_type": "stream",
          "name": "stdout",
          "text": [
            "AMSE_Systolic20_knn = 1.0408277045975098\n",
            "เวลาที่ใช้ในการประมวลผล 0.00083160400390625 วินาที\n",
            "เวลาที่ใช้ในการประมวลผล 1.3860066731770833e-05 นาที\n"
          ]
        }
      ]
    },
    {
      "cell_type": "markdown",
      "source": [
        "## Imputation using the MICE"
      ],
      "metadata": {
        "id": "wnzhN2uXmmxt"
      }
    },
    {
      "cell_type": "code",
      "source": [
        "from sklearn.experimental import enable_iterative_imputer\n",
        "from sklearn.impute import IterativeImputer\n",
        "from sklearn.linear_model import LinearRegression\n",
        "from sklearn import svm"
      ],
      "metadata": {
        "id": "ux_ZdCz7mmxt"
      },
      "execution_count": 35,
      "outputs": []
    },
    {
      "cell_type": "markdown",
      "source": [
        "### LinearRegression model"
      ],
      "metadata": {
        "id": "qBsh-oGrmmxt"
      }
    },
    {
      "cell_type": "code",
      "source": [
        "t_start = time.time()\n",
        "lr = LinearRegression()\n",
        "for i in range(1,1001):\n",
        "  imp = IterativeImputer(estimator= lr , max_iter= 10, verbose=2, imputation_order='roman',initial_strategy = 'mean',random_state= i)\n",
        "  globals()[f'imputed_lr20_{i}'] = imp.fit_transform(globals()[f'Systolic20_{i}'].copy())\n",
        "  globals()[f'MSE_lr20_{i}'] = mean_squared_error(data, globals()[f'imputed_lr20_{i}'])\n",
        "t_end = time.time()\n",
        "t20_LR = (t_end- t_start)"
      ],
      "metadata": {
        "id": "m-oCWLICmmxt"
      },
      "execution_count": null,
      "outputs": []
    },
    {
      "cell_type": "code",
      "source": [
        "t_start = time.time()\n",
        "mse_lr20_total = 0 \n",
        "MSE_lr20_1001 = 0\n",
        "for i in range(0,1001):\n",
        "  mse_lr20_total = mse_lr20_total + globals()[f'MSE_lr20_{i+1}']\n",
        "AMSE_Systolic20_lr = mse_lr20_total/1000\n",
        "print(f'AMSE_Systolic20_lr = {AMSE_Systolic20_lr}')\n",
        "t_end = time.time()\n",
        "print(f'เวลาที่ใช้ในการประมวลผล {t_end- t_start} วินาที')\n",
        "print(f'เวลาที่ใช้ในการประมวลผล {(t_end- t_start)/60} นาที')"
      ],
      "metadata": {
        "id": "PoasKeKLmmxt",
        "colab": {
          "base_uri": "https://localhost:8080/"
        },
        "outputId": "8f54baa2-8cb8-40b7-d558-c71bd3dcad70"
      },
      "execution_count": 37,
      "outputs": [
        {
          "output_type": "stream",
          "name": "stdout",
          "text": [
            "AMSE_Systolic20_lr = 1.6694746466625061\n",
            "เวลาที่ใช้ในการประมวลผล 0.0013110637664794922 วินาที\n",
            "เวลาที่ใช้ในการประมวลผล 2.1851062774658204e-05 นาที\n"
          ]
        }
      ]
    },
    {
      "cell_type": "markdown",
      "source": [
        "### Support Vector Machine model"
      ],
      "metadata": {
        "id": "dp1n9b1wmmxu"
      }
    },
    {
      "cell_type": "code",
      "source": [
        "t_start = time.time()\n",
        "regr = svm.SVR()\n",
        "for i in range(1,1001):\n",
        "  svm_svr = IterativeImputer(estimator= regr, max_iter= 10, verbose=2, imputation_order='roman',initial_strategy = 'mean',random_state= i)\n",
        "  globals()[f'imputed_svm20_{i}'] = svm_svr.fit_transform(globals()[f'Systolic20_{i}'].copy())\n",
        "  globals()[f'MSE_svm20_{i}'] = mean_squared_error(data, globals()[f'imputed_svm20_{i}'])\n",
        "t_end = time.time()\n",
        "t20_SVM = (t_end- t_start)"
      ],
      "metadata": {
        "id": "1H1XXo5rmmxu"
      },
      "execution_count": null,
      "outputs": []
    },
    {
      "cell_type": "code",
      "source": [
        "t_start = time.time()\n",
        "mse_svm20_total = 0 \n",
        "MSE_svm20_1001 = 0\n",
        "for i in range(0,1001):\n",
        "  mse_svm20_total = mse_svm20_total + globals()[f'MSE_svm20_{i+1}']\n",
        "AMSE_Systolic20_svm = mse_svm20_total/1000\n",
        "print(f'AMSE_Systolic20_svm = {AMSE_Systolic20_svm}')\n",
        "t_end = time.time()\n",
        "print(f'เวลาที่ใช้ในการประมวลผล {t_end- t_start} วินาที')\n",
        "print(f'เวลาที่ใช้ในการประมวลผล {(t_end- t_start)/60} นาที')"
      ],
      "metadata": {
        "id": "AXvfoiQhmmxu",
        "colab": {
          "base_uri": "https://localhost:8080/"
        },
        "outputId": "efee37bd-7422-4fb7-c6c6-436c5ee2f3b0"
      },
      "execution_count": 39,
      "outputs": [
        {
          "output_type": "stream",
          "name": "stdout",
          "text": [
            "AMSE_Systolic20_svm = 1.2289544977614353\n",
            "เวลาที่ใช้ในการประมวลผล 0.0015103816986083984 วินาที\n",
            "เวลาที่ใช้ในการประมวลผล 2.5173028310139973e-05 นาที\n"
          ]
        }
      ]
    },
    {
      "cell_type": "markdown",
      "source": [
        "## Imputation using the EM"
      ],
      "metadata": {
        "id": "-r-sozwOmmxu"
      }
    },
    {
      "cell_type": "markdown",
      "source": [
        "### impy.em"
      ],
      "metadata": {
        "id": "mcM5dZZWmmxu"
      }
    },
    {
      "cell_type": "code",
      "source": [
        "!pip install impyute\n",
        "import impyute as impy"
      ],
      "metadata": {
        "id": "L3zdQDYimmxu",
        "colab": {
          "base_uri": "https://localhost:8080/"
        },
        "outputId": "e1cac502-827e-4c4c-e09c-c5e2e34b94f9"
      },
      "execution_count": 40,
      "outputs": [
        {
          "output_type": "stream",
          "name": "stdout",
          "text": [
            "Looking in indexes: https://pypi.org/simple, https://us-python.pkg.dev/colab-wheels/public/simple/\n",
            "Requirement already satisfied: impyute in /usr/local/lib/python3.8/dist-packages (0.0.8)\n",
            "Requirement already satisfied: scikit-learn in /usr/local/lib/python3.8/dist-packages (from impyute) (1.0.2)\n",
            "Requirement already satisfied: scipy in /usr/local/lib/python3.8/dist-packages (from impyute) (1.7.3)\n",
            "Requirement already satisfied: numpy in /usr/local/lib/python3.8/dist-packages (from impyute) (1.21.6)\n",
            "Requirement already satisfied: threadpoolctl>=2.0.0 in /usr/local/lib/python3.8/dist-packages (from scikit-learn->impyute) (3.1.0)\n",
            "Requirement already satisfied: joblib>=0.11 in /usr/local/lib/python3.8/dist-packages (from scikit-learn->impyute) (1.2.0)\n"
          ]
        }
      ]
    },
    {
      "cell_type": "code",
      "source": [
        "t_start = time.time()\n",
        "for i in range(1,1001):\n",
        "  globals()[f'imputed_impy20_{i}'] = impy.em(globals()[f'Systolic20_{i}'].values.copy())\n",
        "  globals()[f'MSE_impy20_{i}'] = mean_squared_error(data, globals()[f'imputed_impy20_{i}'])\n",
        "t_end = time.time()\n",
        "t20_EM = (t_end- t_start)"
      ],
      "metadata": {
        "id": "P6jYA4gMmmxu"
      },
      "execution_count": 41,
      "outputs": []
    },
    {
      "cell_type": "code",
      "source": [
        "t_start = time.time()\n",
        "mse_impy20_total = 0 \n",
        "MSE_impy20_1001 = 0\n",
        "for i in range(0,1001):\n",
        "  mse_impy20_total = mse_impy20_total + globals()[f'MSE_impy20_{i+1}']\n",
        "AMSE_Systolic20_impy = mse_impy20_total/1000\n",
        "print(f'AMSE_Systolic20_impy = {AMSE_Systolic20_impy}')\n",
        "t_end = time.time()\n",
        "print(f'เวลาที่ใช้ในการประมวลผล {t_end- t_start} วินาที')\n",
        "print(f'เวลาที่ใช้ในการประมวลผล {(t_end- t_start)/60} นาที')"
      ],
      "metadata": {
        "id": "YEu3OWtZmmxu",
        "colab": {
          "base_uri": "https://localhost:8080/"
        },
        "outputId": "bcce58e7-d3a9-4a5d-8680-a088af76ec05"
      },
      "execution_count": 42,
      "outputs": [
        {
          "output_type": "stream",
          "name": "stdout",
          "text": [
            "AMSE_Systolic20_impy = 2.50318806692327\n",
            "เวลาที่ใช้ในการประมวลผล 0.001619577407836914 วินาที\n",
            "เวลาที่ใช้ในการประมวลผล 2.69929567972819e-05 นาที\n"
          ]
        }
      ]
    },
    {
      "cell_type": "code",
      "source": [],
      "metadata": {
        "id": "VuRWbP9M_-vZ"
      },
      "execution_count": 42,
      "outputs": []
    },
    {
      "cell_type": "markdown",
      "source": [
        "# 30 % random nan"
      ],
      "metadata": {
        "id": "zaN0bLowuzIT"
      }
    },
    {
      "cell_type": "code",
      "source": [
        "t_start = time.time()\n",
        "for i in range(1,1001):\n",
        "  globals()[f'Systolic30_{i}'] = data.copy() # for loop variable name\n",
        "  np.random.seed(i) # for loop seed\n",
        "  n = int((153*30/100)) \n",
        "  index_nan = np.random.choice(globals()[f'Systolic30_{i}']['Systolic'].size, n, replace=False) #globals()[name dataframe][column name].size\n",
        "  globals()[f'Systolic30_{i}']['Systolic'].ravel()[index_nan] = np.nan\n",
        "t_end = time.time()\n",
        "print(f'เวลาที่ใช้ในการประมวลผล {t_end- t_start} วินาที')\n",
        "print(f'เวลาที่ใช้ในการประมวลผล {(t_end- t_start)/60} นาที')"
      ],
      "metadata": {
        "id": "m5Q1jaobuzIU",
        "colab": {
          "base_uri": "https://localhost:8080/"
        },
        "outputId": "8fbca1be-a3a9-46c4-cb49-08901d56bc4c"
      },
      "execution_count": 43,
      "outputs": [
        {
          "output_type": "stream",
          "name": "stdout",
          "text": [
            "เวลาที่ใช้ในการประมวลผล 0.20384573936462402 วินาที\n",
            "เวลาที่ใช้ในการประมวลผล 0.0033974289894104005 นาที\n"
          ]
        }
      ]
    },
    {
      "cell_type": "markdown",
      "source": [
        "## Imputation using Mean"
      ],
      "metadata": {
        "id": "QVRZUJUGuzIU"
      }
    },
    {
      "cell_type": "code",
      "source": [
        "from sklearn.impute import SimpleImputer"
      ],
      "metadata": {
        "id": "1JOFyiYHuzIU"
      },
      "execution_count": 44,
      "outputs": []
    },
    {
      "cell_type": "code",
      "source": [
        "t_start = time.time()\n",
        "mean30_imputer = SimpleImputer(strategy='mean')\n",
        "for i in range(1,1001):\n",
        "  globals()[f'imputed_mean30_{i}'] = mean30_imputer.fit_transform(globals()[f'Systolic30_{i}'].copy()) #for loop miss forest impputation \n",
        "  globals()[f'MSE_MEAN30_{i}'] = mean_squared_error(data, globals()[f'imputed_mean30_{i}']) # for loop mean_squared_error\n",
        "t_end = time.time()\n",
        "t30_MEAN = (t_end- t_start)"
      ],
      "metadata": {
        "id": "BMQJ2Q9uuzIU"
      },
      "execution_count": 45,
      "outputs": []
    },
    {
      "cell_type": "code",
      "source": [
        "t_start = time.time()\n",
        "mse_mean30_total = 0 \n",
        "MSE_MEAN30_1001 = 0\n",
        "for i in range(0,1001):\n",
        "  mse_mean30_total = mse_mean30_total + globals()[f'MSE_MEAN30_{i+1}']\n",
        "AMSE_Systolic30_mean = mse_mean30_total/1000\n",
        "print(f'AMSE_Systolic30_mean = {AMSE_Systolic30_mean}')\n",
        "t_end = time.time()\n",
        "print(f'เวลาที่ใช้ในการประมวลผล {t_end- t_start} วินาที')\n",
        "print(f'เวลาที่ใช้ในการประมวลผล {(t_end- t_start)/60} นาที')"
      ],
      "metadata": {
        "id": "us-bmwdEuzIU",
        "colab": {
          "base_uri": "https://localhost:8080/"
        },
        "outputId": "891fe7b3-41c4-4035-cfa9-2c5e9b55b067"
      },
      "execution_count": 46,
      "outputs": [
        {
          "output_type": "stream",
          "name": "stdout",
          "text": [
            "AMSE_Systolic30_mean = 1.9934371640473205\n",
            "เวลาที่ใช้ในการประมวลผล 0.0013332366943359375 วินาที\n",
            "เวลาที่ใช้ในการประมวลผล 2.2220611572265626e-05 นาที\n"
          ]
        }
      ]
    },
    {
      "cell_type": "markdown",
      "source": [
        "## Imputation using the miss forest"
      ],
      "metadata": {
        "id": "ZOjyFyeKuzIV"
      }
    },
    {
      "cell_type": "code",
      "source": [
        "import sys\n",
        "import sklearn.neighbors._base\n",
        "sys.modules['sklearn.neighbors.base'] = sklearn.neighbors._base\n",
        "!pip install missingpy\n",
        "import missingpy\n",
        "from missingpy import MissForest\n",
        "from sklearn.metrics import mean_squared_error"
      ],
      "metadata": {
        "id": "acamNyLHuzIV",
        "colab": {
          "base_uri": "https://localhost:8080/"
        },
        "outputId": "9f0ca52e-5fe6-4c51-b11f-92f8f0a27ba1"
      },
      "execution_count": 47,
      "outputs": [
        {
          "output_type": "stream",
          "name": "stdout",
          "text": [
            "Looking in indexes: https://pypi.org/simple, https://us-python.pkg.dev/colab-wheels/public/simple/\n",
            "Requirement already satisfied: missingpy in /usr/local/lib/python3.8/dist-packages (0.2.0)\n"
          ]
        }
      ]
    },
    {
      "cell_type": "code",
      "source": [
        "t_start = time.time()\n",
        "MF30_imputer = MissForest()\n",
        "for i in range(1,1001):\n",
        "  globals()[f'imputed_mf30_{i}'] = MF30_imputer.fit_transform(globals()[f'Systolic30_{i}'].copy()) #for loop miss forest impputation \n",
        "  globals()[f'MSE_MF30_{i}'] = mean_squared_error(data, globals()[f'imputed_mf30_{i}']) # for loop mean_squared_error\n",
        "t_end = time.time()\n",
        "t30_MF = (t_end- t_start)"
      ],
      "metadata": {
        "id": "fX6tp59-uzIV"
      },
      "execution_count": null,
      "outputs": []
    },
    {
      "cell_type": "code",
      "source": [
        "t_start = time.time()\n",
        "mse_mf30_total = 0 \n",
        "MSE_MF30_1001 = 0\n",
        "for i in range(0,1001):\n",
        "  mse_mf30_total = mse_mf30_total + globals()[f'MSE_MF30_{i+1}']\n",
        "AMSE_Systolic30_mf = mse_mf30_total/1000\n",
        "print(f'AMSE_Systolic30_mf = {AMSE_Systolic30_mf}')\n",
        "t_end = time.time()\n",
        "print(f'เวลาที่ใช้ในการประมวลผล {t_end- t_start} วินาที')\n",
        "print(f'เวลาที่ใช้ในการประมวลผล {(t_end- t_start)/60} นาที')"
      ],
      "metadata": {
        "id": "XwaS1AV-uzIV",
        "colab": {
          "base_uri": "https://localhost:8080/"
        },
        "outputId": "9da1d14c-febc-4b30-8bb4-569804e36978"
      },
      "execution_count": 49,
      "outputs": [
        {
          "output_type": "stream",
          "name": "stdout",
          "text": [
            "AMSE_Systolic30_mf = 1.2318183389140274\n",
            "เวลาที่ใช้ในการประมวลผล 0.0017275810241699219 วินาที\n",
            "เวลาที่ใช้ในการประมวลผล 2.8793017069498698e-05 นาที\n"
          ]
        }
      ]
    },
    {
      "cell_type": "markdown",
      "source": [
        "## Imputation using the KNN"
      ],
      "metadata": {
        "id": "T_wph6E1uzIV"
      }
    },
    {
      "cell_type": "code",
      "source": [
        "from sklearn import neighbors\n",
        "from sklearn.impute import KNNImputer"
      ],
      "metadata": {
        "id": "hELFhk5guzIV"
      },
      "execution_count": 50,
      "outputs": []
    },
    {
      "cell_type": "code",
      "source": [
        "t_start = time.time()\n",
        "KNN30_imputer = KNNImputer(n_neighbors = 15)\n",
        "for i in range(1,1001):\n",
        "  globals()[f'imputed_KNN30_{i}'] = KNN30_imputer.fit_transform(globals()[f'Systolic30_{i}'].copy())\n",
        "  globals()[f'MSE_KNN30_{i}'] = mean_squared_error(data, globals()[f'imputed_KNN30_{i}'])\n",
        "t_end = time.time()\n",
        "t30_KNN = (t_end- t_start)"
      ],
      "metadata": {
        "id": "D8MXMd1JuzIV"
      },
      "execution_count": 51,
      "outputs": []
    },
    {
      "cell_type": "code",
      "source": [
        "t_start = time.time()\n",
        "mse_knn30_total = 0 \n",
        "MSE_KNN30_1001 = 0\n",
        "for i in range(0,1001):\n",
        "  mse_knn30_total = mse_knn30_total + globals()[f'MSE_KNN30_{i+1}']\n",
        "AMSE_Systolic30_knn = mse_knn30_total/1000\n",
        "print(f'AMSE_Systolic30_knn = {AMSE_Systolic30_knn}')\n",
        "t_end = time.time()\n",
        "print(f'เวลาที่ใช้ในการประมวลผล {t_end- t_start} วินาที')\n",
        "print(f'เวลาที่ใช้ในการประมวลผล {(t_end- t_start)/60} นาที')"
      ],
      "metadata": {
        "id": "3C9AWGthuzIV",
        "colab": {
          "base_uri": "https://localhost:8080/"
        },
        "outputId": "6101a4a2-85f5-42c5-b2d6-ff87a9c1f7a7"
      },
      "execution_count": 52,
      "outputs": [
        {
          "output_type": "stream",
          "name": "stdout",
          "text": [
            "AMSE_Systolic30_knn = 1.5946601787609627\n",
            "เวลาที่ใช้ในการประมวลผล 0.0009350776672363281 วินาที\n",
            "เวลาที่ใช้ในการประมวลผล 1.5584627787272134e-05 นาที\n"
          ]
        }
      ]
    },
    {
      "cell_type": "markdown",
      "source": [
        "## Imputation using the MICE"
      ],
      "metadata": {
        "id": "2npPu6n3uzIW"
      }
    },
    {
      "cell_type": "code",
      "source": [
        "from sklearn.experimental import enable_iterative_imputer\n",
        "from sklearn.impute import IterativeImputer\n",
        "from sklearn.linear_model import LinearRegression\n",
        "from sklearn import svm"
      ],
      "metadata": {
        "id": "x-Jdq67zuzIW"
      },
      "execution_count": 53,
      "outputs": []
    },
    {
      "cell_type": "markdown",
      "source": [
        "### LinearRegression model"
      ],
      "metadata": {
        "id": "ndI0t5PBuzIW"
      }
    },
    {
      "cell_type": "code",
      "source": [
        "t_start = time.time()\n",
        "lr = LinearRegression()\n",
        "for i in range(1,1001):\n",
        "  imp = IterativeImputer(estimator= lr , max_iter= 10, verbose=2, imputation_order='roman',initial_strategy = 'mean',random_state= i)\n",
        "  globals()[f'imputed_lr30_{i}'] = imp.fit_transform(globals()[f'Systolic30_{i}'].copy())\n",
        "  globals()[f'MSE_lr30_{i}'] = mean_squared_error(data, globals()[f'imputed_lr30_{i}'])\n",
        "t_end = time.time()\n",
        "t30_LR = (t_end- t_start)"
      ],
      "metadata": {
        "id": "Yw5f7th9uzIW"
      },
      "execution_count": null,
      "outputs": []
    },
    {
      "cell_type": "code",
      "source": [
        "t_start = time.time()\n",
        "mse_lr30_total = 0 \n",
        "MSE_lr30_1001 = 0\n",
        "for i in range(0,1001):\n",
        "  mse_lr30_total = mse_lr30_total + globals()[f'MSE_lr30_{i+1}']\n",
        "AMSE_Systolic30_lr = mse_lr30_total/1000\n",
        "print(f'AMSE_Systolic30_lr = {AMSE_Systolic30_lr}')\n",
        "t_end = time.time()\n",
        "print(f'เวลาที่ใช้ในการประมวลผล {t_end- t_start} วินาที')\n",
        "print(f'เวลาที่ใช้ในการประมวลผล {(t_end- t_start)/60} นาที')"
      ],
      "metadata": {
        "id": "2MQgk_fjuzIW",
        "colab": {
          "base_uri": "https://localhost:8080/"
        },
        "outputId": "da325f5f-e306-4bb4-e3c8-0bf5436922ca"
      },
      "execution_count": 55,
      "outputs": [
        {
          "output_type": "stream",
          "name": "stdout",
          "text": [
            "AMSE_Systolic30_lr = 2.962069172295166\n",
            "เวลาที่ใช้ในการประมวลผล 0.001485586166381836 วินาที\n",
            "เวลาที่ใช้ในการประมวลผล 2.4759769439697264e-05 นาที\n"
          ]
        }
      ]
    },
    {
      "cell_type": "markdown",
      "source": [
        "### Support Vector Machine model"
      ],
      "metadata": {
        "id": "1VoyXYTouzIW"
      }
    },
    {
      "cell_type": "code",
      "source": [
        "t_start = time.time()\n",
        "regr = svm.SVR()\n",
        "for i in range(1,1001):\n",
        "  svm_svr = IterativeImputer(estimator= regr, max_iter= 10, verbose=2, imputation_order='roman',initial_strategy = 'mean',random_state= i)\n",
        "  globals()[f'imputed_svm30_{i}'] = svm_svr.fit_transform(globals()[f'Systolic30_{i}'].copy())\n",
        "  globals()[f'MSE_svm30_{i}'] = mean_squared_error(data, globals()[f'imputed_svm30_{i}'])\n",
        "t_end = time.time()\n",
        "t30_SVM = (t_end- t_start)"
      ],
      "metadata": {
        "id": "OeUfrN0wuzIW"
      },
      "execution_count": null,
      "outputs": []
    },
    {
      "cell_type": "code",
      "source": [
        "t_start = time.time()\n",
        "mse_svm30_total = 0 \n",
        "MSE_svm30_1001 = 0\n",
        "for i in range(0,1001):\n",
        "  mse_svm30_total = mse_svm30_total + globals()[f'MSE_svm30_{i+1}']\n",
        "AMSE_Systolic30_svm = mse_svm30_total/1000\n",
        "print(f'AMSE_Systolic30_svm = {AMSE_Systolic30_svm}')\n",
        "t_end = time.time()\n",
        "print(f'เวลาที่ใช้ในการประมวลผล {t_end- t_start} วินาที')\n",
        "print(f'เวลาที่ใช้ในการประมวลผล {(t_end- t_start)/60} นาที')"
      ],
      "metadata": {
        "id": "0_K5XC5guzIW",
        "colab": {
          "base_uri": "https://localhost:8080/"
        },
        "outputId": "4e637b28-4cd0-4e0a-c9bb-0acf731e2115"
      },
      "execution_count": 57,
      "outputs": [
        {
          "output_type": "stream",
          "name": "stdout",
          "text": [
            "AMSE_Systolic30_svm = 1.8712057477987636\n",
            "เวลาที่ใช้ในการประมวลผล 0.0008499622344970703 วินาที\n",
            "เวลาที่ใช้ในการประมวลผล 1.4166037241617838e-05 นาที\n"
          ]
        }
      ]
    },
    {
      "cell_type": "markdown",
      "source": [
        "## Imputation using the EM"
      ],
      "metadata": {
        "id": "PAsAQUc0uzIW"
      }
    },
    {
      "cell_type": "markdown",
      "source": [
        "### impy.em"
      ],
      "metadata": {
        "id": "BM_Pj2_TuzIX"
      }
    },
    {
      "cell_type": "code",
      "source": [
        "!pip install impyute\n",
        "import impyute as impy"
      ],
      "metadata": {
        "id": "QCZbBPzWuzIX",
        "colab": {
          "base_uri": "https://localhost:8080/"
        },
        "outputId": "740ce59c-da76-485a-d665-29e54db6d6c9"
      },
      "execution_count": 58,
      "outputs": [
        {
          "output_type": "stream",
          "name": "stdout",
          "text": [
            "Looking in indexes: https://pypi.org/simple, https://us-python.pkg.dev/colab-wheels/public/simple/\n",
            "Requirement already satisfied: impyute in /usr/local/lib/python3.8/dist-packages (0.0.8)\n",
            "Requirement already satisfied: scikit-learn in /usr/local/lib/python3.8/dist-packages (from impyute) (1.0.2)\n",
            "Requirement already satisfied: scipy in /usr/local/lib/python3.8/dist-packages (from impyute) (1.7.3)\n",
            "Requirement already satisfied: numpy in /usr/local/lib/python3.8/dist-packages (from impyute) (1.21.6)\n",
            "Requirement already satisfied: threadpoolctl>=2.0.0 in /usr/local/lib/python3.8/dist-packages (from scikit-learn->impyute) (3.1.0)\n",
            "Requirement already satisfied: joblib>=0.11 in /usr/local/lib/python3.8/dist-packages (from scikit-learn->impyute) (1.2.0)\n"
          ]
        }
      ]
    },
    {
      "cell_type": "code",
      "source": [
        "t_start = time.time()\n",
        "for i in range(1,1001):\n",
        "  globals()[f'imputed_impy30_{i}'] = impy.em(globals()[f'Systolic30_{i}'].values.copy())\n",
        "  globals()[f'MSE_impy30_{i}'] = mean_squared_error(data, globals()[f'imputed_impy30_{i}'])\n",
        "t_end = time.time()\n",
        "t30_EM = (t_end- t_start)"
      ],
      "metadata": {
        "id": "plNiFqusuzIX"
      },
      "execution_count": 59,
      "outputs": []
    },
    {
      "cell_type": "code",
      "source": [
        "t_start = time.time()\n",
        "mse_impy30_total = 0 \n",
        "MSE_impy30_1001 = 0\n",
        "for i in range(0,1001):\n",
        "  mse_impy30_total = mse_impy30_total + globals()[f'MSE_impy30_{i+1}']\n",
        "AMSE_Systolic30_impy = mse_impy30_total/1000\n",
        "print(f'AMSE_Systolic30_impy = {AMSE_Systolic30_impy}')\n",
        "t_end = time.time()\n",
        "print(f'เวลาที่ใช้ในการประมวลผล {t_end- t_start} วินาที')\n",
        "print(f'เวลาที่ใช้ในการประมวลผล {(t_end- t_start)/60} นาที')"
      ],
      "metadata": {
        "id": "XeeSDFPYuzIX",
        "colab": {
          "base_uri": "https://localhost:8080/"
        },
        "outputId": "53086d99-82f9-496c-b9ef-573665a0d9b8"
      },
      "execution_count": 60,
      "outputs": [
        {
          "output_type": "stream",
          "name": "stdout",
          "text": [
            "AMSE_Systolic30_impy = 3.7444179810888905\n",
            "เวลาที่ใช้ในการประมวลผล 0.0011112689971923828 วินาที\n",
            "เวลาที่ใช้ในการประมวลผล 1.852114995320638e-05 นาที\n"
          ]
        }
      ]
    },
    {
      "cell_type": "code",
      "source": [],
      "metadata": {
        "id": "ZBwfCHFSuzIX"
      },
      "execution_count": 60,
      "outputs": []
    },
    {
      "cell_type": "markdown",
      "source": [
        "# 40 % random nan"
      ],
      "metadata": {
        "id": "wgXT6R6o3M70"
      }
    },
    {
      "cell_type": "code",
      "source": [
        "t_start = time.time()\n",
        "for i in range(1,1001):\n",
        "  globals()[f'Systolic40_{i}'] = data.copy() # for loop variable name\n",
        "  np.random.seed(i) # for loop seed\n",
        "  n = int((153*40/100)) \n",
        "  index_nan = np.random.choice(globals()[f'Systolic40_{i}']['Systolic'].size, n, replace=False) #globals()[name dataframe][column name].size\n",
        "  globals()[f'Systolic40_{i}']['Systolic'].ravel()[index_nan] = np.nan\n",
        "t_end = time.time()\n",
        "print(f'เวลาที่ใช้ในการประมวลผล {t_end- t_start} วินาที')\n",
        "print(f'เวลาที่ใช้ในการประมวลผล {(t_end- t_start)/60} นาที')"
      ],
      "metadata": {
        "id": "QJfpwnea3M75",
        "colab": {
          "base_uri": "https://localhost:8080/"
        },
        "outputId": "95d986d6-7ada-4a87-f08b-23afa91785d0"
      },
      "execution_count": 61,
      "outputs": [
        {
          "output_type": "stream",
          "name": "stdout",
          "text": [
            "เวลาที่ใช้ในการประมวลผล 0.16196918487548828 วินาที\n",
            "เวลาที่ใช้ในการประมวลผล 0.0026994864145914715 นาที\n"
          ]
        }
      ]
    },
    {
      "cell_type": "markdown",
      "source": [
        "## Imputation using Mean"
      ],
      "metadata": {
        "id": "LNnd1COX3M76"
      }
    },
    {
      "cell_type": "code",
      "source": [
        "from sklearn.impute import SimpleImputer"
      ],
      "metadata": {
        "id": "2At9rpls3M76"
      },
      "execution_count": 62,
      "outputs": []
    },
    {
      "cell_type": "code",
      "source": [
        "t_start = time.time()\n",
        "mean40_imputer = SimpleImputer(strategy='mean')\n",
        "for i in range(1,1001):\n",
        "  globals()[f'imputed_mean40_{i}'] = mean40_imputer.fit_transform(globals()[f'Systolic40_{i}'].copy()) #for loop miss forest impputation \n",
        "  globals()[f'MSE_MEAN40_{i}'] = mean_squared_error(data, globals()[f'imputed_mean40_{i}']) # for loop mean_squared_error\n",
        "t_end = time.time()\n",
        "t40_MEAN = (t_end- t_start)"
      ],
      "metadata": {
        "id": "kOcOSKzY3M76"
      },
      "execution_count": 63,
      "outputs": []
    },
    {
      "cell_type": "code",
      "source": [
        "t_start = time.time()\n",
        "mse_mean40_total = 0 \n",
        "MSE_MEAN40_1001 = 0\n",
        "for i in range(0,1001):\n",
        "  mse_mean40_total = mse_mean40_total + globals()[f'MSE_MEAN40_{i+1}']\n",
        "AMSE_Systolic40_mean = mse_mean40_total/1000\n",
        "print(f'AMSE_Systolic40_mean = {AMSE_Systolic40_mean}')\n",
        "t_end = time.time()\n",
        "print(f'เวลาที่ใช้ในการประมวลผล {t_end- t_start} วินาที')\n",
        "print(f'เวลาที่ใช้ในการประมวลผล {(t_end- t_start)/60} นาที')"
      ],
      "metadata": {
        "id": "8KG1dnhb3M76",
        "colab": {
          "base_uri": "https://localhost:8080/"
        },
        "outputId": "1b3151f6-9546-45d7-9a2c-5c290fa270f4"
      },
      "execution_count": 64,
      "outputs": [
        {
          "output_type": "stream",
          "name": "stdout",
          "text": [
            "AMSE_Systolic40_mean = 2.704088330869403\n",
            "เวลาที่ใช้ในการประมวลผล 0.0011684894561767578 วินาที\n",
            "เวลาที่ใช้ในการประมวลผล 1.947482426961263e-05 นาที\n"
          ]
        }
      ]
    },
    {
      "cell_type": "markdown",
      "source": [
        "## Imputation using the miss forest"
      ],
      "metadata": {
        "id": "_iaNd0ov3M76"
      }
    },
    {
      "cell_type": "code",
      "source": [
        "import sys\n",
        "import sklearn.neighbors._base\n",
        "sys.modules['sklearn.neighbors.base'] = sklearn.neighbors._base\n",
        "!pip install missingpy\n",
        "import missingpy\n",
        "from missingpy import MissForest\n",
        "from sklearn.metrics import mean_squared_error"
      ],
      "metadata": {
        "id": "5D1HqJBL3M76",
        "colab": {
          "base_uri": "https://localhost:8080/"
        },
        "outputId": "2824d9c1-817b-4606-cab5-ab2a07a7cc94"
      },
      "execution_count": 65,
      "outputs": [
        {
          "output_type": "stream",
          "name": "stdout",
          "text": [
            "Looking in indexes: https://pypi.org/simple, https://us-python.pkg.dev/colab-wheels/public/simple/\n",
            "Requirement already satisfied: missingpy in /usr/local/lib/python3.8/dist-packages (0.2.0)\n"
          ]
        }
      ]
    },
    {
      "cell_type": "code",
      "source": [
        "t_start = time.time()\n",
        "MF40_imputer = MissForest()\n",
        "for i in range(1,1001):\n",
        "  globals()[f'imputed_mf40_{i}'] = MF40_imputer.fit_transform(globals()[f'Systolic40_{i}'].copy()) #for loop miss forest impputation \n",
        "  globals()[f'MSE_MF40_{i}'] = mean_squared_error(data, globals()[f'imputed_mf40_{i}']) # for loop mean_squared_error\n",
        "t_end = time.time()\n",
        "t40_MF = (t_end- t_start)"
      ],
      "metadata": {
        "id": "d4SNLEtC3M76"
      },
      "execution_count": null,
      "outputs": []
    },
    {
      "cell_type": "code",
      "source": [
        "t_start = time.time()\n",
        "mse_mf40_total = 0 \n",
        "MSE_MF40_1001 = 0\n",
        "for i in range(0,1001):\n",
        "  mse_mf40_total = mse_mf40_total + globals()[f'MSE_MF40_{i+1}']\n",
        "AMSE_Systolic40_mf = mse_mf40_total/1000\n",
        "print(f'AMSE_Systolic40_mf = {AMSE_Systolic40_mf}')\n",
        "t_end = time.time()\n",
        "print(f'เวลาที่ใช้ในการประมวลผล {t_end- t_start} วินาที')\n",
        "print(f'เวลาที่ใช้ในการประมวลผล {(t_end- t_start)/60} นาที')"
      ],
      "metadata": {
        "id": "d2d8YbUy3M77",
        "colab": {
          "base_uri": "https://localhost:8080/"
        },
        "outputId": "aef804a3-c44b-48e5-c852-009cee5778be"
      },
      "execution_count": 67,
      "outputs": [
        {
          "output_type": "stream",
          "name": "stdout",
          "text": [
            "AMSE_Systolic40_mf = 1.6701054174459549\n",
            "เวลาที่ใช้ในการประมวลผล 0.0011777877807617188 วินาที\n",
            "เวลาที่ใช้ในการประมวลผล 1.9629796346028645e-05 นาที\n"
          ]
        }
      ]
    },
    {
      "cell_type": "markdown",
      "source": [
        "## Imputation using the KNN"
      ],
      "metadata": {
        "id": "gFEGDs2y3M77"
      }
    },
    {
      "cell_type": "code",
      "source": [
        "from sklearn import neighbors\n",
        "from sklearn.impute import KNNImputer"
      ],
      "metadata": {
        "id": "K7an-0gc3M77"
      },
      "execution_count": 68,
      "outputs": []
    },
    {
      "cell_type": "code",
      "source": [
        "t_start = time.time()\n",
        "KNN40_imputer = KNNImputer(n_neighbors = 15)\n",
        "for i in range(1,1001):\n",
        "  globals()[f'imputed_KNN40_{i}'] = KNN40_imputer.fit_transform(globals()[f'Systolic40_{i}'].copy())\n",
        "  globals()[f'MSE_KNN40_{i}'] = mean_squared_error(data, globals()[f'imputed_KNN40_{i}'])\n",
        "t_end = time.time()\n",
        "t40_KNN = (t_end- t_start)"
      ],
      "metadata": {
        "id": "_bhDpYXj3M77"
      },
      "execution_count": 69,
      "outputs": []
    },
    {
      "cell_type": "code",
      "source": [
        "t_start = time.time()\n",
        "mse_knn40_total = 0 \n",
        "MSE_KNN40_1001 = 0\n",
        "for i in range(0,1001):\n",
        "  mse_knn40_total = mse_knn40_total + globals()[f'MSE_KNN40_{i+1}']\n",
        "AMSE_Systolic40_knn = mse_knn40_total/1000\n",
        "print(f'AMSE_Systolic40_knn = {AMSE_Systolic40_knn}')\n",
        "t_end = time.time()\n",
        "print(f'เวลาที่ใช้ในการประมวลผล {t_end- t_start} วินาที')\n",
        "print(f'เวลาที่ใช้ในการประมวลผล {(t_end- t_start)/60} นาที')"
      ],
      "metadata": {
        "id": "frWeSoV23M77",
        "colab": {
          "base_uri": "https://localhost:8080/"
        },
        "outputId": "a26cf1ba-a007-4c97-8941-f15858e7145a"
      },
      "execution_count": 70,
      "outputs": [
        {
          "output_type": "stream",
          "name": "stdout",
          "text": [
            "AMSE_Systolic40_knn = 2.2339389788279984\n",
            "เวลาที่ใช้ในการประมวลผล 0.0011699199676513672 วินาที\n",
            "เวลาที่ใช้ในการประมวลผล 1.9498666127522786e-05 นาที\n"
          ]
        }
      ]
    },
    {
      "cell_type": "markdown",
      "source": [
        "## Imputation using the MICE"
      ],
      "metadata": {
        "id": "rXFzEFyh3M77"
      }
    },
    {
      "cell_type": "code",
      "source": [
        "from sklearn.experimental import enable_iterative_imputer\n",
        "from sklearn.impute import IterativeImputer\n",
        "from sklearn.linear_model import LinearRegression\n",
        "from sklearn import svm"
      ],
      "metadata": {
        "id": "i3vp047L3M77"
      },
      "execution_count": 71,
      "outputs": []
    },
    {
      "cell_type": "markdown",
      "source": [
        "### LinearRegression model"
      ],
      "metadata": {
        "id": "ONL5L18S3M77"
      }
    },
    {
      "cell_type": "code",
      "source": [
        "t_start = time.time()\n",
        "lr = LinearRegression()\n",
        "for i in range(1,1001):\n",
        "  imp = IterativeImputer(estimator= lr , max_iter= 10, verbose=2, imputation_order='roman',initial_strategy = 'mean',random_state= i)\n",
        "  globals()[f'imputed_lr40_{i}'] = imp.fit_transform(globals()[f'Systolic40_{i}'].copy())\n",
        "  globals()[f'MSE_lr40_{i}'] = mean_squared_error(data, globals()[f'imputed_lr40_{i}'])\n",
        "t_end = time.time()\n",
        "t40_LR = (t_end- t_start)"
      ],
      "metadata": {
        "id": "NODGsVqB3M77"
      },
      "execution_count": null,
      "outputs": []
    },
    {
      "cell_type": "code",
      "source": [
        "t_start = time.time()\n",
        "mse_lr40_total = 0 \n",
        "MSE_lr40_1001 = 0\n",
        "for i in range(0,1001):\n",
        "  mse_lr40_total = mse_lr40_total + globals()[f'MSE_lr40_{i+1}']\n",
        "AMSE_Systolic40_lr = mse_lr40_total/1000\n",
        "print(f'AMSE_Systolic40_lr = {AMSE_Systolic40_lr}')\n",
        "t_end = time.time()\n",
        "print(f'เวลาที่ใช้ในการประมวลผล {t_end- t_start} วินาที')\n",
        "print(f'เวลาที่ใช้ในการประมวลผล {(t_end- t_start)/60} นาที')"
      ],
      "metadata": {
        "id": "sxUaR1Xc3M78",
        "colab": {
          "base_uri": "https://localhost:8080/"
        },
        "outputId": "c12280f1-4cb2-41a8-d1c7-ff52dbf05836"
      },
      "execution_count": 73,
      "outputs": [
        {
          "output_type": "stream",
          "name": "stdout",
          "text": [
            "AMSE_Systolic40_lr = 4.365362745761229\n",
            "เวลาที่ใช้ในการประมวลผล 0.0008933544158935547 วินาที\n",
            "เวลาที่ใช้ในการประมวลผล 1.4889240264892579e-05 นาที\n"
          ]
        }
      ]
    },
    {
      "cell_type": "markdown",
      "source": [
        "### Support Vector Machine model"
      ],
      "metadata": {
        "id": "b-JCYrIR3M78"
      }
    },
    {
      "cell_type": "code",
      "source": [
        "t_start = time.time()\n",
        "regr = svm.SVR()\n",
        "for i in range(1,1001):\n",
        "  svm_svr = IterativeImputer(estimator= regr, max_iter= 10, verbose=2, imputation_order='roman',initial_strategy = 'mean',random_state= i)\n",
        "  globals()[f'imputed_svm40_{i}'] = svm_svr.fit_transform(globals()[f'Systolic40_{i}'].copy())\n",
        "  globals()[f'MSE_svm40_{i}'] = mean_squared_error(data, globals()[f'imputed_svm40_{i}'])\n",
        "t_end = time.time()\n",
        "t40_SVM = (t_end- t_start)"
      ],
      "metadata": {
        "id": "AT113utI3M78"
      },
      "execution_count": null,
      "outputs": []
    },
    {
      "cell_type": "code",
      "source": [
        "t_start = time.time()\n",
        "mse_svm40_total = 0 \n",
        "MSE_svm40_1001 = 0\n",
        "for i in range(0,1001):\n",
        "  mse_svm40_total = mse_svm40_total + globals()[f'MSE_svm40_{i+1}']\n",
        "AMSE_Systolic40_svm = mse_svm40_total/1000\n",
        "print(f'AMSE_Systolic40_svm = {AMSE_Systolic40_svm}')\n",
        "t_end = time.time()\n",
        "print(f'เวลาที่ใช้ในการประมวลผล {t_end- t_start} วินาที')\n",
        "print(f'เวลาที่ใช้ในการประมวลผล {(t_end- t_start)/60} นาที')"
      ],
      "metadata": {
        "id": "70czjXAm3M78",
        "colab": {
          "base_uri": "https://localhost:8080/"
        },
        "outputId": "a488130a-c83c-4e90-b8b9-1a4e073e462c"
      },
      "execution_count": 75,
      "outputs": [
        {
          "output_type": "stream",
          "name": "stdout",
          "text": [
            "AMSE_Systolic40_svm = 2.5568744739362157\n",
            "เวลาที่ใช้ในการประมวลผล 0.0011568069458007812 วินาที\n",
            "เวลาที่ใช้ในการประมวลผล 1.9280115763346353e-05 นาที\n"
          ]
        }
      ]
    },
    {
      "cell_type": "markdown",
      "source": [
        "## Imputation using the EM"
      ],
      "metadata": {
        "id": "oYCU9MKU3M78"
      }
    },
    {
      "cell_type": "markdown",
      "source": [
        "### impy.em"
      ],
      "metadata": {
        "id": "M_0BOcvh3M78"
      }
    },
    {
      "cell_type": "code",
      "source": [
        "!pip install impyute\n",
        "import impyute as impy"
      ],
      "metadata": {
        "id": "HG47KPna3M78",
        "colab": {
          "base_uri": "https://localhost:8080/"
        },
        "outputId": "400232ad-14b1-4e5f-e3a0-60ec4da7c9ba"
      },
      "execution_count": 76,
      "outputs": [
        {
          "output_type": "stream",
          "name": "stdout",
          "text": [
            "Looking in indexes: https://pypi.org/simple, https://us-python.pkg.dev/colab-wheels/public/simple/\n",
            "Requirement already satisfied: impyute in /usr/local/lib/python3.8/dist-packages (0.0.8)\n",
            "Requirement already satisfied: scikit-learn in /usr/local/lib/python3.8/dist-packages (from impyute) (1.0.2)\n",
            "Requirement already satisfied: scipy in /usr/local/lib/python3.8/dist-packages (from impyute) (1.7.3)\n",
            "Requirement already satisfied: numpy in /usr/local/lib/python3.8/dist-packages (from impyute) (1.21.6)\n",
            "Requirement already satisfied: threadpoolctl>=2.0.0 in /usr/local/lib/python3.8/dist-packages (from scikit-learn->impyute) (3.1.0)\n",
            "Requirement already satisfied: joblib>=0.11 in /usr/local/lib/python3.8/dist-packages (from scikit-learn->impyute) (1.2.0)\n"
          ]
        }
      ]
    },
    {
      "cell_type": "code",
      "source": [
        "t_start = time.time()\n",
        "for i in range(1,1001):\n",
        "  globals()[f'imputed_impy40_{i}'] = impy.em(globals()[f'Systolic40_{i}'].values.copy())\n",
        "  globals()[f'MSE_impy40_{i}'] = mean_squared_error(data, globals()[f'imputed_impy40_{i}'])\n",
        "t_end = time.time()\n",
        "t40_EM = (t_end- t_start)"
      ],
      "metadata": {
        "id": "Bf-gqNxt3M78"
      },
      "execution_count": 77,
      "outputs": []
    },
    {
      "cell_type": "code",
      "source": [
        "t_start = time.time()\n",
        "mse_impy40_total = 0 \n",
        "MSE_impy40_1001 = 0\n",
        "for i in range(0,1001):\n",
        "  mse_impy40_total = mse_impy40_total + globals()[f'MSE_impy40_{i+1}']\n",
        "AMSE_Systolic40_impy = mse_impy40_total/1000\n",
        "print(f'AMSE_Systolic40_impy = {AMSE_Systolic40_impy}')\n",
        "t_end = time.time()\n",
        "print(f'เวลาที่ใช้ในการประมวลผล {t_end- t_start} วินาที')\n",
        "print(f'เวลาที่ใช้ในการประมวลผล {(t_end- t_start)/60} นาที')"
      ],
      "metadata": {
        "id": "dlR0Alp-3M78",
        "colab": {
          "base_uri": "https://localhost:8080/"
        },
        "outputId": "af4c50e7-876c-46bf-ebd0-d1338a3f1f70"
      },
      "execution_count": 78,
      "outputs": [
        {
          "output_type": "stream",
          "name": "stdout",
          "text": [
            "AMSE_Systolic40_impy = 5.117235596340704\n",
            "เวลาที่ใช้ในการประมวลผล 0.0010943412780761719 วินาที\n",
            "เวลาที่ใช้ในการประมวลผล 1.823902130126953e-05 นาที\n"
          ]
        }
      ]
    },
    {
      "cell_type": "code",
      "source": [],
      "metadata": {
        "id": "P_3zrcFt3M79"
      },
      "execution_count": 78,
      "outputs": []
    },
    {
      "cell_type": "markdown",
      "source": [
        "# 50 % random nan"
      ],
      "metadata": {
        "id": "VPcbhfhg5CxE"
      }
    },
    {
      "cell_type": "code",
      "source": [
        "t_start = time.time()\n",
        "for i in range(1,1001):\n",
        "  globals()[f'Systolic50_{i}'] = data.copy() # for loop variable name\n",
        "  np.random.seed(i) # for loop seed\n",
        "  n = int((153*50/100)) \n",
        "  index_nan = np.random.choice(globals()[f'Systolic50_{i}']['Systolic'].size, n, replace=False) #globals()[name dataframe][column name].size\n",
        "  globals()[f'Systolic50_{i}']['Systolic'].ravel()[index_nan] = np.nan\n",
        "t_end = time.time()\n",
        "print(f'เวลาที่ใช้ในการประมวลผล {t_end- t_start} วินาที')\n",
        "print(f'เวลาที่ใช้ในการประมวลผล {(t_end- t_start)/60} นาที')"
      ],
      "metadata": {
        "id": "6o8bkvAb5CxE",
        "colab": {
          "base_uri": "https://localhost:8080/"
        },
        "outputId": "85bc1d6d-01e6-4e9a-bf2b-bb118c569102"
      },
      "execution_count": 79,
      "outputs": [
        {
          "output_type": "stream",
          "name": "stdout",
          "text": [
            "เวลาที่ใช้ในการประมวลผล 0.1742706298828125 วินาที\n",
            "เวลาที่ใช้ในการประมวลผล 0.002904510498046875 นาที\n"
          ]
        }
      ]
    },
    {
      "cell_type": "code",
      "source": [
        "Systolic50_1"
      ],
      "metadata": {
        "id": "B3jkNopU5CxF",
        "colab": {
          "base_uri": "https://localhost:8080/",
          "height": 423
        },
        "outputId": "2226c804-1267-4cda-cb46-b7bf03029c8e"
      },
      "execution_count": 80,
      "outputs": [
        {
          "output_type": "execute_result",
          "data": {
            "text/plain": [
              "     Sex  AgeSYear  Weight  Height   BMI  Systolic  Diastolic  HeartRate  \\\n",
              "0      2      57.0    47.4   153.0  20.2       NaN       75.0       69.0   \n",
              "1      2      24.0    53.2   157.0  21.6     103.0       69.0       78.0   \n",
              "2      2      62.0    54.4   165.0  20.0       NaN       75.0       83.0   \n",
              "3      2      35.0    56.3   161.0  21.7      95.0       57.0       72.0   \n",
              "4      1      46.0    72.3   170.0  25.0       NaN       77.0      107.0   \n",
              "..   ...       ...     ...     ...   ...       ...        ...        ...   \n",
              "148    1      60.0    72.0   170.0  24.9       NaN       74.0       69.0   \n",
              "149    1      58.0    62.0   168.0  22.0     103.0       76.0       72.0   \n",
              "150    2      42.0    55.5   165.0  20.4     102.0       52.0       77.0   \n",
              "151    2      61.0    61.8   159.0  24.4     117.0       60.0       72.0   \n",
              "152    2      31.0    58.2   169.0  20.4     108.0       69.0       73.0   \n",
              "\n",
              "      SMM  Fat Mass  ...  003_Creatinine  004_Uric Acid  005_Cholesterol  \\\n",
              "0    19.3      12.5  ...             1.0            5.0            176.0   \n",
              "1    21.3      14.6  ...             0.8            5.2            159.0   \n",
              "2    21.6      15.2  ...             0.7            4.1            230.0   \n",
              "3    22.5      15.4  ...             0.6            5.0            198.0   \n",
              "4    29.2      19.0  ...             0.9            6.9            194.0   \n",
              "..    ...       ...  ...             ...            ...              ...   \n",
              "148  30.5      13.8  ...             0.9            6.9            182.0   \n",
              "149  27.8      11.9  ...             1.0            6.8            191.0   \n",
              "150  22.9      14.1  ...             0.8            4.7            212.0   \n",
              "151  23.4      19.2  ...             0.8            5.1            235.0   \n",
              "152  25.0      13.0  ...             0.7            4.3            200.0   \n",
              "\n",
              "     006_Triglyceride  008_HDL-C  009_LDL  010_AST  012_ALT  \\\n",
              "0                51.0       72.0     94.0     16.0     16.0   \n",
              "1                45.0       52.0     98.0     13.0     17.0   \n",
              "2                94.0       61.0    151.0     18.0     31.0   \n",
              "3                47.0       68.0    120.0     16.0     20.0   \n",
              "4                63.0       60.0    122.0     15.0     19.0   \n",
              "..                ...        ...      ...      ...      ...   \n",
              "148             179.0       39.0    107.0     36.0     31.0   \n",
              "149              62.0       47.0    132.0     16.0     33.0   \n",
              "150              68.0       63.0    135.0     11.0     16.0   \n",
              "151              66.0       56.0    166.0     15.0     23.0   \n",
              "152              44.0       56.0    135.0     14.0     21.0   \n",
              "\n",
              "     013_Alkaline Phos  071_HbA1c  \n",
              "0                 62.0        5.1  \n",
              "1                 50.0        5.4  \n",
              "2                 76.0        5.6  \n",
              "3                 35.0        5.1  \n",
              "4                 69.0        5.2  \n",
              "..                 ...        ...  \n",
              "148               79.0        6.5  \n",
              "149               42.0        6.8  \n",
              "150               33.0        4.8  \n",
              "151               44.0        5.4  \n",
              "152               31.0        4.7  \n",
              "\n",
              "[153 rows x 26 columns]"
            ],
            "text/html": [
              "\n",
              "  <div id=\"df-2ffb8806-6fa9-4510-bd04-59a01dea5644\">\n",
              "    <div class=\"colab-df-container\">\n",
              "      <div>\n",
              "<style scoped>\n",
              "    .dataframe tbody tr th:only-of-type {\n",
              "        vertical-align: middle;\n",
              "    }\n",
              "\n",
              "    .dataframe tbody tr th {\n",
              "        vertical-align: top;\n",
              "    }\n",
              "\n",
              "    .dataframe thead th {\n",
              "        text-align: right;\n",
              "    }\n",
              "</style>\n",
              "<table border=\"1\" class=\"dataframe\">\n",
              "  <thead>\n",
              "    <tr style=\"text-align: right;\">\n",
              "      <th></th>\n",
              "      <th>Sex</th>\n",
              "      <th>AgeSYear</th>\n",
              "      <th>Weight</th>\n",
              "      <th>Height</th>\n",
              "      <th>BMI</th>\n",
              "      <th>Systolic</th>\n",
              "      <th>Diastolic</th>\n",
              "      <th>HeartRate</th>\n",
              "      <th>SMM</th>\n",
              "      <th>Fat Mass</th>\n",
              "      <th>...</th>\n",
              "      <th>003_Creatinine</th>\n",
              "      <th>004_Uric Acid</th>\n",
              "      <th>005_Cholesterol</th>\n",
              "      <th>006_Triglyceride</th>\n",
              "      <th>008_HDL-C</th>\n",
              "      <th>009_LDL</th>\n",
              "      <th>010_AST</th>\n",
              "      <th>012_ALT</th>\n",
              "      <th>013_Alkaline Phos</th>\n",
              "      <th>071_HbA1c</th>\n",
              "    </tr>\n",
              "  </thead>\n",
              "  <tbody>\n",
              "    <tr>\n",
              "      <th>0</th>\n",
              "      <td>2</td>\n",
              "      <td>57.0</td>\n",
              "      <td>47.4</td>\n",
              "      <td>153.0</td>\n",
              "      <td>20.2</td>\n",
              "      <td>NaN</td>\n",
              "      <td>75.0</td>\n",
              "      <td>69.0</td>\n",
              "      <td>19.3</td>\n",
              "      <td>12.5</td>\n",
              "      <td>...</td>\n",
              "      <td>1.0</td>\n",
              "      <td>5.0</td>\n",
              "      <td>176.0</td>\n",
              "      <td>51.0</td>\n",
              "      <td>72.0</td>\n",
              "      <td>94.0</td>\n",
              "      <td>16.0</td>\n",
              "      <td>16.0</td>\n",
              "      <td>62.0</td>\n",
              "      <td>5.1</td>\n",
              "    </tr>\n",
              "    <tr>\n",
              "      <th>1</th>\n",
              "      <td>2</td>\n",
              "      <td>24.0</td>\n",
              "      <td>53.2</td>\n",
              "      <td>157.0</td>\n",
              "      <td>21.6</td>\n",
              "      <td>103.0</td>\n",
              "      <td>69.0</td>\n",
              "      <td>78.0</td>\n",
              "      <td>21.3</td>\n",
              "      <td>14.6</td>\n",
              "      <td>...</td>\n",
              "      <td>0.8</td>\n",
              "      <td>5.2</td>\n",
              "      <td>159.0</td>\n",
              "      <td>45.0</td>\n",
              "      <td>52.0</td>\n",
              "      <td>98.0</td>\n",
              "      <td>13.0</td>\n",
              "      <td>17.0</td>\n",
              "      <td>50.0</td>\n",
              "      <td>5.4</td>\n",
              "    </tr>\n",
              "    <tr>\n",
              "      <th>2</th>\n",
              "      <td>2</td>\n",
              "      <td>62.0</td>\n",
              "      <td>54.4</td>\n",
              "      <td>165.0</td>\n",
              "      <td>20.0</td>\n",
              "      <td>NaN</td>\n",
              "      <td>75.0</td>\n",
              "      <td>83.0</td>\n",
              "      <td>21.6</td>\n",
              "      <td>15.2</td>\n",
              "      <td>...</td>\n",
              "      <td>0.7</td>\n",
              "      <td>4.1</td>\n",
              "      <td>230.0</td>\n",
              "      <td>94.0</td>\n",
              "      <td>61.0</td>\n",
              "      <td>151.0</td>\n",
              "      <td>18.0</td>\n",
              "      <td>31.0</td>\n",
              "      <td>76.0</td>\n",
              "      <td>5.6</td>\n",
              "    </tr>\n",
              "    <tr>\n",
              "      <th>3</th>\n",
              "      <td>2</td>\n",
              "      <td>35.0</td>\n",
              "      <td>56.3</td>\n",
              "      <td>161.0</td>\n",
              "      <td>21.7</td>\n",
              "      <td>95.0</td>\n",
              "      <td>57.0</td>\n",
              "      <td>72.0</td>\n",
              "      <td>22.5</td>\n",
              "      <td>15.4</td>\n",
              "      <td>...</td>\n",
              "      <td>0.6</td>\n",
              "      <td>5.0</td>\n",
              "      <td>198.0</td>\n",
              "      <td>47.0</td>\n",
              "      <td>68.0</td>\n",
              "      <td>120.0</td>\n",
              "      <td>16.0</td>\n",
              "      <td>20.0</td>\n",
              "      <td>35.0</td>\n",
              "      <td>5.1</td>\n",
              "    </tr>\n",
              "    <tr>\n",
              "      <th>4</th>\n",
              "      <td>1</td>\n",
              "      <td>46.0</td>\n",
              "      <td>72.3</td>\n",
              "      <td>170.0</td>\n",
              "      <td>25.0</td>\n",
              "      <td>NaN</td>\n",
              "      <td>77.0</td>\n",
              "      <td>107.0</td>\n",
              "      <td>29.2</td>\n",
              "      <td>19.0</td>\n",
              "      <td>...</td>\n",
              "      <td>0.9</td>\n",
              "      <td>6.9</td>\n",
              "      <td>194.0</td>\n",
              "      <td>63.0</td>\n",
              "      <td>60.0</td>\n",
              "      <td>122.0</td>\n",
              "      <td>15.0</td>\n",
              "      <td>19.0</td>\n",
              "      <td>69.0</td>\n",
              "      <td>5.2</td>\n",
              "    </tr>\n",
              "    <tr>\n",
              "      <th>...</th>\n",
              "      <td>...</td>\n",
              "      <td>...</td>\n",
              "      <td>...</td>\n",
              "      <td>...</td>\n",
              "      <td>...</td>\n",
              "      <td>...</td>\n",
              "      <td>...</td>\n",
              "      <td>...</td>\n",
              "      <td>...</td>\n",
              "      <td>...</td>\n",
              "      <td>...</td>\n",
              "      <td>...</td>\n",
              "      <td>...</td>\n",
              "      <td>...</td>\n",
              "      <td>...</td>\n",
              "      <td>...</td>\n",
              "      <td>...</td>\n",
              "      <td>...</td>\n",
              "      <td>...</td>\n",
              "      <td>...</td>\n",
              "      <td>...</td>\n",
              "    </tr>\n",
              "    <tr>\n",
              "      <th>148</th>\n",
              "      <td>1</td>\n",
              "      <td>60.0</td>\n",
              "      <td>72.0</td>\n",
              "      <td>170.0</td>\n",
              "      <td>24.9</td>\n",
              "      <td>NaN</td>\n",
              "      <td>74.0</td>\n",
              "      <td>69.0</td>\n",
              "      <td>30.5</td>\n",
              "      <td>13.8</td>\n",
              "      <td>...</td>\n",
              "      <td>0.9</td>\n",
              "      <td>6.9</td>\n",
              "      <td>182.0</td>\n",
              "      <td>179.0</td>\n",
              "      <td>39.0</td>\n",
              "      <td>107.0</td>\n",
              "      <td>36.0</td>\n",
              "      <td>31.0</td>\n",
              "      <td>79.0</td>\n",
              "      <td>6.5</td>\n",
              "    </tr>\n",
              "    <tr>\n",
              "      <th>149</th>\n",
              "      <td>1</td>\n",
              "      <td>58.0</td>\n",
              "      <td>62.0</td>\n",
              "      <td>168.0</td>\n",
              "      <td>22.0</td>\n",
              "      <td>103.0</td>\n",
              "      <td>76.0</td>\n",
              "      <td>72.0</td>\n",
              "      <td>27.8</td>\n",
              "      <td>11.9</td>\n",
              "      <td>...</td>\n",
              "      <td>1.0</td>\n",
              "      <td>6.8</td>\n",
              "      <td>191.0</td>\n",
              "      <td>62.0</td>\n",
              "      <td>47.0</td>\n",
              "      <td>132.0</td>\n",
              "      <td>16.0</td>\n",
              "      <td>33.0</td>\n",
              "      <td>42.0</td>\n",
              "      <td>6.8</td>\n",
              "    </tr>\n",
              "    <tr>\n",
              "      <th>150</th>\n",
              "      <td>2</td>\n",
              "      <td>42.0</td>\n",
              "      <td>55.5</td>\n",
              "      <td>165.0</td>\n",
              "      <td>20.4</td>\n",
              "      <td>102.0</td>\n",
              "      <td>52.0</td>\n",
              "      <td>77.0</td>\n",
              "      <td>22.9</td>\n",
              "      <td>14.1</td>\n",
              "      <td>...</td>\n",
              "      <td>0.8</td>\n",
              "      <td>4.7</td>\n",
              "      <td>212.0</td>\n",
              "      <td>68.0</td>\n",
              "      <td>63.0</td>\n",
              "      <td>135.0</td>\n",
              "      <td>11.0</td>\n",
              "      <td>16.0</td>\n",
              "      <td>33.0</td>\n",
              "      <td>4.8</td>\n",
              "    </tr>\n",
              "    <tr>\n",
              "      <th>151</th>\n",
              "      <td>2</td>\n",
              "      <td>61.0</td>\n",
              "      <td>61.8</td>\n",
              "      <td>159.0</td>\n",
              "      <td>24.4</td>\n",
              "      <td>117.0</td>\n",
              "      <td>60.0</td>\n",
              "      <td>72.0</td>\n",
              "      <td>23.4</td>\n",
              "      <td>19.2</td>\n",
              "      <td>...</td>\n",
              "      <td>0.8</td>\n",
              "      <td>5.1</td>\n",
              "      <td>235.0</td>\n",
              "      <td>66.0</td>\n",
              "      <td>56.0</td>\n",
              "      <td>166.0</td>\n",
              "      <td>15.0</td>\n",
              "      <td>23.0</td>\n",
              "      <td>44.0</td>\n",
              "      <td>5.4</td>\n",
              "    </tr>\n",
              "    <tr>\n",
              "      <th>152</th>\n",
              "      <td>2</td>\n",
              "      <td>31.0</td>\n",
              "      <td>58.2</td>\n",
              "      <td>169.0</td>\n",
              "      <td>20.4</td>\n",
              "      <td>108.0</td>\n",
              "      <td>69.0</td>\n",
              "      <td>73.0</td>\n",
              "      <td>25.0</td>\n",
              "      <td>13.0</td>\n",
              "      <td>...</td>\n",
              "      <td>0.7</td>\n",
              "      <td>4.3</td>\n",
              "      <td>200.0</td>\n",
              "      <td>44.0</td>\n",
              "      <td>56.0</td>\n",
              "      <td>135.0</td>\n",
              "      <td>14.0</td>\n",
              "      <td>21.0</td>\n",
              "      <td>31.0</td>\n",
              "      <td>4.7</td>\n",
              "    </tr>\n",
              "  </tbody>\n",
              "</table>\n",
              "<p>153 rows × 26 columns</p>\n",
              "</div>\n",
              "      <button class=\"colab-df-convert\" onclick=\"convertToInteractive('df-2ffb8806-6fa9-4510-bd04-59a01dea5644')\"\n",
              "              title=\"Convert this dataframe to an interactive table.\"\n",
              "              style=\"display:none;\">\n",
              "        \n",
              "  <svg xmlns=\"http://www.w3.org/2000/svg\" height=\"24px\"viewBox=\"0 0 24 24\"\n",
              "       width=\"24px\">\n",
              "    <path d=\"M0 0h24v24H0V0z\" fill=\"none\"/>\n",
              "    <path d=\"M18.56 5.44l.94 2.06.94-2.06 2.06-.94-2.06-.94-.94-2.06-.94 2.06-2.06.94zm-11 1L8.5 8.5l.94-2.06 2.06-.94-2.06-.94L8.5 2.5l-.94 2.06-2.06.94zm10 10l.94 2.06.94-2.06 2.06-.94-2.06-.94-.94-2.06-.94 2.06-2.06.94z\"/><path d=\"M17.41 7.96l-1.37-1.37c-.4-.4-.92-.59-1.43-.59-.52 0-1.04.2-1.43.59L10.3 9.45l-7.72 7.72c-.78.78-.78 2.05 0 2.83L4 21.41c.39.39.9.59 1.41.59.51 0 1.02-.2 1.41-.59l7.78-7.78 2.81-2.81c.8-.78.8-2.07 0-2.86zM5.41 20L4 18.59l7.72-7.72 1.47 1.35L5.41 20z\"/>\n",
              "  </svg>\n",
              "      </button>\n",
              "      \n",
              "  <style>\n",
              "    .colab-df-container {\n",
              "      display:flex;\n",
              "      flex-wrap:wrap;\n",
              "      gap: 12px;\n",
              "    }\n",
              "\n",
              "    .colab-df-convert {\n",
              "      background-color: #E8F0FE;\n",
              "      border: none;\n",
              "      border-radius: 50%;\n",
              "      cursor: pointer;\n",
              "      display: none;\n",
              "      fill: #1967D2;\n",
              "      height: 32px;\n",
              "      padding: 0 0 0 0;\n",
              "      width: 32px;\n",
              "    }\n",
              "\n",
              "    .colab-df-convert:hover {\n",
              "      background-color: #E2EBFA;\n",
              "      box-shadow: 0px 1px 2px rgba(60, 64, 67, 0.3), 0px 1px 3px 1px rgba(60, 64, 67, 0.15);\n",
              "      fill: #174EA6;\n",
              "    }\n",
              "\n",
              "    [theme=dark] .colab-df-convert {\n",
              "      background-color: #3B4455;\n",
              "      fill: #D2E3FC;\n",
              "    }\n",
              "\n",
              "    [theme=dark] .colab-df-convert:hover {\n",
              "      background-color: #434B5C;\n",
              "      box-shadow: 0px 1px 3px 1px rgba(0, 0, 0, 0.15);\n",
              "      filter: drop-shadow(0px 1px 2px rgba(0, 0, 0, 0.3));\n",
              "      fill: #FFFFFF;\n",
              "    }\n",
              "  </style>\n",
              "\n",
              "      <script>\n",
              "        const buttonEl =\n",
              "          document.querySelector('#df-2ffb8806-6fa9-4510-bd04-59a01dea5644 button.colab-df-convert');\n",
              "        buttonEl.style.display =\n",
              "          google.colab.kernel.accessAllowed ? 'block' : 'none';\n",
              "\n",
              "        async function convertToInteractive(key) {\n",
              "          const element = document.querySelector('#df-2ffb8806-6fa9-4510-bd04-59a01dea5644');\n",
              "          const dataTable =\n",
              "            await google.colab.kernel.invokeFunction('convertToInteractive',\n",
              "                                                     [key], {});\n",
              "          if (!dataTable) return;\n",
              "\n",
              "          const docLinkHtml = 'Like what you see? Visit the ' +\n",
              "            '<a target=\"_blank\" href=https://colab.research.google.com/notebooks/data_table.ipynb>data table notebook</a>'\n",
              "            + ' to learn more about interactive tables.';\n",
              "          element.innerHTML = '';\n",
              "          dataTable['output_type'] = 'display_data';\n",
              "          await google.colab.output.renderOutput(dataTable, element);\n",
              "          const docLink = document.createElement('div');\n",
              "          docLink.innerHTML = docLinkHtml;\n",
              "          element.appendChild(docLink);\n",
              "        }\n",
              "      </script>\n",
              "    </div>\n",
              "  </div>\n",
              "  "
            ]
          },
          "metadata": {},
          "execution_count": 80
        }
      ]
    },
    {
      "cell_type": "markdown",
      "source": [
        "## Imputation using Mean"
      ],
      "metadata": {
        "id": "zsQM_EY35CxF"
      }
    },
    {
      "cell_type": "code",
      "source": [
        "from sklearn.impute import SimpleImputer"
      ],
      "metadata": {
        "id": "q1cKpKhO5CxF"
      },
      "execution_count": 81,
      "outputs": []
    },
    {
      "cell_type": "code",
      "source": [
        "t_start = time.time()\n",
        "mean50_imputer = SimpleImputer(strategy='mean')\n",
        "for i in range(1,1001):\n",
        "  globals()[f'imputed_mean50_{i}'] = mean50_imputer.fit_transform(globals()[f'Systolic50_{i}'].copy()) #for loop miss forest impputation \n",
        "  globals()[f'MSE_MEAN50_{i}'] = mean_squared_error(data, globals()[f'imputed_mean50_{i}']) # for loop mean_squared_error\n",
        "t_end = time.time()\n",
        "t50_MEAN = (t_end- t_start)"
      ],
      "metadata": {
        "id": "AN9tLTag5CxF"
      },
      "execution_count": 82,
      "outputs": []
    },
    {
      "cell_type": "code",
      "source": [
        "t_start = time.time()\n",
        "mse_mean50_total = 0 \n",
        "MSE_MEAN50_1001 = 0\n",
        "for i in range(0,1001):\n",
        "  mse_mean50_total = mse_mean50_total + globals()[f'MSE_MEAN50_{i+1}']\n",
        "AMSE_Systolic50_mean = mse_mean50_total/1000\n",
        "print(f'AMSE_Systolic50_mean = {AMSE_Systolic50_mean}')\n",
        "t_end = time.time()\n",
        "print(f'เวลาที่ใช้ในการประมวลผล {t_end- t_start} วินาที')\n",
        "print(f'เวลาที่ใช้ในการประมวลผล {(t_end- t_start)/60} นาที')"
      ],
      "metadata": {
        "id": "t2R9Lede5CxF",
        "colab": {
          "base_uri": "https://localhost:8080/"
        },
        "outputId": "e6d0891d-27c1-4139-bfd4-c3e2d4a13ded"
      },
      "execution_count": 83,
      "outputs": [
        {
          "output_type": "stream",
          "name": "stdout",
          "text": [
            "AMSE_Systolic50_mean = 3.382697967086814\n",
            "เวลาที่ใช้ในการประมวลผล 0.0015659332275390625 วินาที\n",
            "เวลาที่ใช้ในการประมวลผล 2.6098887125651042e-05 นาที\n"
          ]
        }
      ]
    },
    {
      "cell_type": "markdown",
      "source": [
        "## Imputation using the miss forest"
      ],
      "metadata": {
        "id": "KxQMxl4x5CxF"
      }
    },
    {
      "cell_type": "code",
      "source": [
        "import sys\n",
        "import sklearn.neighbors._base\n",
        "sys.modules['sklearn.neighbors.base'] = sklearn.neighbors._base\n",
        "!pip install missingpy\n",
        "import missingpy\n",
        "from missingpy import MissForest\n",
        "from sklearn.metrics import mean_squared_error"
      ],
      "metadata": {
        "id": "c10-E_OL5CxF",
        "colab": {
          "base_uri": "https://localhost:8080/"
        },
        "outputId": "baecb7cb-1275-4921-8641-f1d5ed6c1657"
      },
      "execution_count": 84,
      "outputs": [
        {
          "output_type": "stream",
          "name": "stdout",
          "text": [
            "Looking in indexes: https://pypi.org/simple, https://us-python.pkg.dev/colab-wheels/public/simple/\n",
            "Requirement already satisfied: missingpy in /usr/local/lib/python3.8/dist-packages (0.2.0)\n"
          ]
        }
      ]
    },
    {
      "cell_type": "code",
      "source": [
        "t_start = time.time()\n",
        "MF50_imputer = MissForest()\n",
        "for i in range(1,1001):\n",
        "  globals()[f'imputed_mf50_{i}'] = MF50_imputer.fit_transform(globals()[f'Systolic50_{i}'].copy()) #for loop miss forest impputation \n",
        "  globals()[f'MSE_MF50_{i}'] = mean_squared_error(data, globals()[f'imputed_mf50_{i}']) # for loop mean_squared_error\n",
        "t_end = time.time()\n",
        "t50_MF = (t_end- t_start)"
      ],
      "metadata": {
        "id": "4jgSbYVu5CxF"
      },
      "execution_count": null,
      "outputs": []
    },
    {
      "cell_type": "code",
      "source": [
        "t_start = time.time()\n",
        "mse_mf50_total = 0 \n",
        "MSE_MF50_1001 = 0\n",
        "for i in range(0,1001):\n",
        "  mse_mf50_total = mse_mf50_total + globals()[f'MSE_MF50_{i+1}']\n",
        "AMSE_Systolic50_mf = mse_mf50_total/1000\n",
        "print(f'AMSE_Systolic50_mf = {AMSE_Systolic50_mf}')\n",
        "t_end = time.time()\n",
        "print(f'เวลาที่ใช้ในการประมวลผล {t_end- t_start} วินาที')\n",
        "print(f'เวลาที่ใช้ในการประมวลผล {(t_end- t_start)/60} นาที')"
      ],
      "metadata": {
        "id": "NEs1DrsU5CxG",
        "colab": {
          "base_uri": "https://localhost:8080/"
        },
        "outputId": "b990b283-c4b0-4be8-eb28-288948bdc528"
      },
      "execution_count": 86,
      "outputs": [
        {
          "output_type": "stream",
          "name": "stdout",
          "text": [
            "AMSE_Systolic50_mf = 2.124768299120162\n",
            "เวลาที่ใช้ในการประมวลผล 0.011856794357299805 วินาที\n",
            "เวลาที่ใช้ในการประมวลผล 0.00019761323928833008 นาที\n"
          ]
        }
      ]
    },
    {
      "cell_type": "markdown",
      "source": [
        "## Imputation using the KNN"
      ],
      "metadata": {
        "id": "2Hg2k_PK5CxG"
      }
    },
    {
      "cell_type": "code",
      "source": [
        "from sklearn import neighbors\n",
        "from sklearn.impute import KNNImputer"
      ],
      "metadata": {
        "id": "0Uc7nuFW5CxG"
      },
      "execution_count": 87,
      "outputs": []
    },
    {
      "cell_type": "code",
      "source": [
        "t_start = time.time()\n",
        "KNN50_imputer = KNNImputer(n_neighbors = 15)\n",
        "for i in range(1,1001):\n",
        "  globals()[f'imputed_KNN50_{i}'] = KNN50_imputer.fit_transform(globals()[f'Systolic50_{i}'].copy())\n",
        "  globals()[f'MSE_KNN50_{i}'] = mean_squared_error(data, globals()[f'imputed_KNN50_{i}'])\n",
        "t_end = time.time()\n",
        "t50_KNN = (t_end- t_start)"
      ],
      "metadata": {
        "id": "kKu_4B2z5CxG"
      },
      "execution_count": 88,
      "outputs": []
    },
    {
      "cell_type": "code",
      "source": [
        "t_start = time.time()\n",
        "mse_knn50_total = 0 \n",
        "MSE_KNN50_1001 = 0\n",
        "for i in range(0,1001):\n",
        "  mse_knn50_total = mse_knn50_total + globals()[f'MSE_KNN50_{i+1}']\n",
        "AMSE_Systolic50_knn = mse_knn50_total/1000\n",
        "print(f'AMSE_Systolic50_knn = {AMSE_Systolic50_knn}')\n",
        "t_end = time.time()\n",
        "print(f'เวลาที่ใช้ในการประมวลผล {t_end- t_start} วินาที')\n",
        "print(f'เวลาที่ใช้ในการประมวลผล {(t_end- t_start)/60} นาที')"
      ],
      "metadata": {
        "id": "Ryv_HNUY5CxG",
        "colab": {
          "base_uri": "https://localhost:8080/"
        },
        "outputId": "d4fc5a19-9b40-4349-c0b4-ab1ba8e7ea86"
      },
      "execution_count": 89,
      "outputs": [
        {
          "output_type": "stream",
          "name": "stdout",
          "text": [
            "AMSE_Systolic50_knn = 2.906129752527791\n",
            "เวลาที่ใช้ในการประมวลผล 0.002317190170288086 วินาที\n",
            "เวลาที่ใช้ในการประมวลผล 3.8619836171468096e-05 นาที\n"
          ]
        }
      ]
    },
    {
      "cell_type": "markdown",
      "source": [
        "## Imputation using the MICE"
      ],
      "metadata": {
        "id": "3sQ8lPP45CxG"
      }
    },
    {
      "cell_type": "code",
      "source": [
        "from sklearn.experimental import enable_iterative_imputer\n",
        "from sklearn.impute import IterativeImputer\n",
        "from sklearn.linear_model import LinearRegression\n",
        "from sklearn import svm"
      ],
      "metadata": {
        "id": "0mDo68T_5CxG"
      },
      "execution_count": 90,
      "outputs": []
    },
    {
      "cell_type": "markdown",
      "source": [
        "### LinearRegression model"
      ],
      "metadata": {
        "id": "2HkBT00U5CxH"
      }
    },
    {
      "cell_type": "code",
      "source": [
        "t_start = time.time()\n",
        "lr = LinearRegression()\n",
        "for i in range(1,1001):\n",
        "  imp = IterativeImputer(estimator= lr , max_iter= 10, verbose=2, imputation_order='roman',initial_strategy = 'mean',random_state= i)\n",
        "  globals()[f'imputed_lr50_{i}'] = imp.fit_transform(globals()[f'Systolic50_{i}'].copy())\n",
        "  globals()[f'MSE_lr50_{i}'] = mean_squared_error(data, globals()[f'imputed_lr50_{i}'])\n",
        "t_end = time.time()\n",
        "t50_LR = (t_end- t_start)"
      ],
      "metadata": {
        "id": "OVl-oZMC5CxH"
      },
      "execution_count": null,
      "outputs": []
    },
    {
      "cell_type": "code",
      "source": [
        "t_start = time.time()\n",
        "mse_lr50_total = 0 \n",
        "MSE_lr50_1001 = 0\n",
        "for i in range(0,1001):\n",
        "  mse_lr50_total = mse_lr50_total + globals()[f'MSE_lr50_{i+1}']\n",
        "AMSE_Systolic50_lr = mse_lr50_total/1000\n",
        "print(f'AMSE_Systolic50_lr = {AMSE_Systolic50_lr}')\n",
        "t_end = time.time()\n",
        "print(f'เวลาที่ใช้ในการประมวลผล {t_end- t_start} วินาที')\n",
        "print(f'เวลาที่ใช้ในการประมวลผล {(t_end- t_start)/60} นาที')"
      ],
      "metadata": {
        "id": "WBUkD7lh5CxH",
        "colab": {
          "base_uri": "https://localhost:8080/"
        },
        "outputId": "5cceb6a1-ffcd-4175-d5a7-0c6de81c595a"
      },
      "execution_count": 92,
      "outputs": [
        {
          "output_type": "stream",
          "name": "stdout",
          "text": [
            "AMSE_Systolic50_lr = 6.51355029692126\n",
            "เวลาที่ใช้ในการประมวลผล 0.0010371208190917969 วินาที\n",
            "เวลาที่ใช้ในการประมวลผล 1.728534698486328e-05 นาที\n"
          ]
        }
      ]
    },
    {
      "cell_type": "markdown",
      "source": [
        "### Support Vector Machine model"
      ],
      "metadata": {
        "id": "IiGbBbaq5CxH"
      }
    },
    {
      "cell_type": "code",
      "source": [
        "t_start = time.time()\n",
        "regr = svm.SVR()\n",
        "for i in range(1,1001):\n",
        "  svm_svr = IterativeImputer(estimator= regr, max_iter= 10, verbose=2, imputation_order='roman',initial_strategy = 'mean',random_state= i)\n",
        "  globals()[f'imputed_svm50_{i}'] = svm_svr.fit_transform(globals()[f'Systolic50_{i}'].copy())\n",
        "  globals()[f'MSE_svm50_{i}'] = mean_squared_error(data, globals()[f'imputed_svm50_{i}'])\n",
        "t_end = time.time()\n",
        "t50_SVM = (t_end- t_start)"
      ],
      "metadata": {
        "id": "h5LAYHJp5CxH"
      },
      "execution_count": null,
      "outputs": []
    },
    {
      "cell_type": "code",
      "source": [
        "t_start = time.time()\n",
        "mse_svm50_total = 0 \n",
        "MSE_svm50_1001 = 0\n",
        "for i in range(0,1001):\n",
        "  mse_svm50_total = mse_svm50_total + globals()[f'MSE_svm50_{i+1}']\n",
        "AMSE_Systolic50_svm = mse_svm50_total/1000\n",
        "print(f'AMSE_Systolic50_svm = {AMSE_Systolic50_svm}')\n",
        "t_end = time.time()\n",
        "print(f'เวลาที่ใช้ในการประมวลผล {t_end- t_start} วินาที')\n",
        "print(f'เวลาที่ใช้ในการประมวลผล {(t_end- t_start)/60} นาที')"
      ],
      "metadata": {
        "id": "wpFlfe4U5CxH",
        "colab": {
          "base_uri": "https://localhost:8080/"
        },
        "outputId": "ba26a952-dd17-419e-fa44-9efa143b0bbb"
      },
      "execution_count": 94,
      "outputs": [
        {
          "output_type": "stream",
          "name": "stdout",
          "text": [
            "AMSE_Systolic50_svm = 3.2300031941342247\n",
            "เวลาที่ใช้ในการประมวลผล 0.0011074542999267578 วินาที\n",
            "เวลาที่ใช้ในการประมวลผล 1.8457571665445965e-05 นาที\n"
          ]
        }
      ]
    },
    {
      "cell_type": "markdown",
      "source": [
        "## Imputation using the EM"
      ],
      "metadata": {
        "id": "PtaO25rz5CxI"
      }
    },
    {
      "cell_type": "markdown",
      "source": [
        "### impy.em"
      ],
      "metadata": {
        "id": "GGSdcCYV5CxI"
      }
    },
    {
      "cell_type": "code",
      "source": [
        "!pip install impyute\n",
        "import impyute as impy"
      ],
      "metadata": {
        "id": "IKTlJokL5CxI",
        "colab": {
          "base_uri": "https://localhost:8080/"
        },
        "outputId": "8df749ac-4328-4dba-bfd5-e88998bab868"
      },
      "execution_count": 95,
      "outputs": [
        {
          "output_type": "stream",
          "name": "stdout",
          "text": [
            "Looking in indexes: https://pypi.org/simple, https://us-python.pkg.dev/colab-wheels/public/simple/\n",
            "Requirement already satisfied: impyute in /usr/local/lib/python3.8/dist-packages (0.0.8)\n",
            "Requirement already satisfied: numpy in /usr/local/lib/python3.8/dist-packages (from impyute) (1.21.6)\n",
            "Requirement already satisfied: scipy in /usr/local/lib/python3.8/dist-packages (from impyute) (1.7.3)\n",
            "Requirement already satisfied: scikit-learn in /usr/local/lib/python3.8/dist-packages (from impyute) (1.0.2)\n",
            "Requirement already satisfied: joblib>=0.11 in /usr/local/lib/python3.8/dist-packages (from scikit-learn->impyute) (1.2.0)\n",
            "Requirement already satisfied: threadpoolctl>=2.0.0 in /usr/local/lib/python3.8/dist-packages (from scikit-learn->impyute) (3.1.0)\n"
          ]
        }
      ]
    },
    {
      "cell_type": "code",
      "source": [
        "t_start = time.time()\n",
        "for i in range(1,1001):\n",
        "  globals()[f'imputed_impy50_{i}'] = impy.em(globals()[f'Systolic50_{i}'].values.copy())\n",
        "  globals()[f'MSE_impy50_{i}'] = mean_squared_error(data, globals()[f'imputed_impy50_{i}'])\n",
        "t_end = time.time()\n",
        "t50_EM = (t_end- t_start)"
      ],
      "metadata": {
        "id": "JtbESpzv5CxI"
      },
      "execution_count": 96,
      "outputs": []
    },
    {
      "cell_type": "code",
      "source": [
        "t_start = time.time()\n",
        "mse_impy50_total = 0 \n",
        "MSE_impy50_1001 = 0\n",
        "for i in range(0,1001):\n",
        "  mse_impy50_total = mse_impy50_total + globals()[f'MSE_impy50_{i+1}']\n",
        "AMSE_Systolic50_impy = mse_impy50_total/1000\n",
        "print(f'AMSE_Systolic50_impy = {AMSE_Systolic50_impy}')\n",
        "t_end = time.time()\n",
        "print(f'เวลาที่ใช้ในการประมวลผล {t_end- t_start} วินาที')\n",
        "print(f'เวลาที่ใช้ในการประมวลผล {(t_end- t_start)/60} นาที')"
      ],
      "metadata": {
        "id": "zYc0LhiU5CxI",
        "colab": {
          "base_uri": "https://localhost:8080/"
        },
        "outputId": "3f752c48-7592-4a63-9d87-b81b48a642f3"
      },
      "execution_count": 97,
      "outputs": [
        {
          "output_type": "stream",
          "name": "stdout",
          "text": [
            "AMSE_Systolic50_impy = 6.3933001948161845\n",
            "เวลาที่ใช้ในการประมวลผล 0.0017473697662353516 วินาที\n",
            "เวลาที่ใช้ในการประมวลผล 2.912282943725586e-05 นาที\n"
          ]
        }
      ]
    },
    {
      "cell_type": "code",
      "source": [],
      "metadata": {
        "id": "TT3osM6_5CxI"
      },
      "execution_count": 97,
      "outputs": []
    },
    {
      "cell_type": "markdown",
      "source": [
        "# 60 % random nan"
      ],
      "metadata": {
        "id": "nEaoPWrp7Jgo"
      }
    },
    {
      "cell_type": "code",
      "source": [
        "t_start = time.time()\n",
        "for i in range(1,1001):\n",
        "  globals()[f'Systolic60_{i}'] = data.copy() # for loop variable name\n",
        "  np.random.seed(i) # for loop seed\n",
        "  n = int((153*60/100)) \n",
        "  index_nan = np.random.choice(globals()[f'Systolic60_{i}']['Systolic'].size, n, replace=False) #globals()[name dataframe][column name].size\n",
        "  globals()[f'Systolic60_{i}']['Systolic'].ravel()[index_nan] = np.nan\n",
        "t_end = time.time()\n",
        "print(f'เวลาที่ใช้ในการประมวลผล {t_end- t_start} วินาที')\n",
        "print(f'เวลาที่ใช้ในการประมวลผล {(t_end- t_start)/60} นาที')"
      ],
      "metadata": {
        "id": "H-FmVEpx7Jgo",
        "colab": {
          "base_uri": "https://localhost:8080/"
        },
        "outputId": "5d573f9c-f221-424e-a264-81d23996fcbf"
      },
      "execution_count": 98,
      "outputs": [
        {
          "output_type": "stream",
          "name": "stdout",
          "text": [
            "เวลาที่ใช้ในการประมวลผล 0.16046619415283203 วินาที\n",
            "เวลาที่ใช้ในการประมวลผล 0.002674436569213867 นาที\n"
          ]
        }
      ]
    },
    {
      "cell_type": "code",
      "source": [
        "Systolic60_1"
      ],
      "metadata": {
        "colab": {
          "base_uri": "https://localhost:8080/",
          "height": 423
        },
        "id": "5B_Rq68a7Jgp",
        "outputId": "a3eeecae-5bbc-41ac-c36b-c268828d19ab"
      },
      "execution_count": 99,
      "outputs": [
        {
          "output_type": "execute_result",
          "data": {
            "text/plain": [
              "     Sex  AgeSYear  Weight  Height   BMI  Systolic  Diastolic  HeartRate  \\\n",
              "0      2      57.0    47.4   153.0  20.2       NaN       75.0       69.0   \n",
              "1      2      24.0    53.2   157.0  21.6     103.0       69.0       78.0   \n",
              "2      2      62.0    54.4   165.0  20.0       NaN       75.0       83.0   \n",
              "3      2      35.0    56.3   161.0  21.7      95.0       57.0       72.0   \n",
              "4      1      46.0    72.3   170.0  25.0       NaN       77.0      107.0   \n",
              "..   ...       ...     ...     ...   ...       ...        ...        ...   \n",
              "148    1      60.0    72.0   170.0  24.9       NaN       74.0       69.0   \n",
              "149    1      58.0    62.0   168.0  22.0     103.0       76.0       72.0   \n",
              "150    2      42.0    55.5   165.0  20.4     102.0       52.0       77.0   \n",
              "151    2      61.0    61.8   159.0  24.4       NaN       60.0       72.0   \n",
              "152    2      31.0    58.2   169.0  20.4       NaN       69.0       73.0   \n",
              "\n",
              "      SMM  Fat Mass  ...  003_Creatinine  004_Uric Acid  005_Cholesterol  \\\n",
              "0    19.3      12.5  ...             1.0            5.0            176.0   \n",
              "1    21.3      14.6  ...             0.8            5.2            159.0   \n",
              "2    21.6      15.2  ...             0.7            4.1            230.0   \n",
              "3    22.5      15.4  ...             0.6            5.0            198.0   \n",
              "4    29.2      19.0  ...             0.9            6.9            194.0   \n",
              "..    ...       ...  ...             ...            ...              ...   \n",
              "148  30.5      13.8  ...             0.9            6.9            182.0   \n",
              "149  27.8      11.9  ...             1.0            6.8            191.0   \n",
              "150  22.9      14.1  ...             0.8            4.7            212.0   \n",
              "151  23.4      19.2  ...             0.8            5.1            235.0   \n",
              "152  25.0      13.0  ...             0.7            4.3            200.0   \n",
              "\n",
              "     006_Triglyceride  008_HDL-C  009_LDL  010_AST  012_ALT  \\\n",
              "0                51.0       72.0     94.0     16.0     16.0   \n",
              "1                45.0       52.0     98.0     13.0     17.0   \n",
              "2                94.0       61.0    151.0     18.0     31.0   \n",
              "3                47.0       68.0    120.0     16.0     20.0   \n",
              "4                63.0       60.0    122.0     15.0     19.0   \n",
              "..                ...        ...      ...      ...      ...   \n",
              "148             179.0       39.0    107.0     36.0     31.0   \n",
              "149              62.0       47.0    132.0     16.0     33.0   \n",
              "150              68.0       63.0    135.0     11.0     16.0   \n",
              "151              66.0       56.0    166.0     15.0     23.0   \n",
              "152              44.0       56.0    135.0     14.0     21.0   \n",
              "\n",
              "     013_Alkaline Phos  071_HbA1c  \n",
              "0                 62.0        5.1  \n",
              "1                 50.0        5.4  \n",
              "2                 76.0        5.6  \n",
              "3                 35.0        5.1  \n",
              "4                 69.0        5.2  \n",
              "..                 ...        ...  \n",
              "148               79.0        6.5  \n",
              "149               42.0        6.8  \n",
              "150               33.0        4.8  \n",
              "151               44.0        5.4  \n",
              "152               31.0        4.7  \n",
              "\n",
              "[153 rows x 26 columns]"
            ],
            "text/html": [
              "\n",
              "  <div id=\"df-c6a1bd9d-fe28-49fc-8183-8e722c2f23f0\">\n",
              "    <div class=\"colab-df-container\">\n",
              "      <div>\n",
              "<style scoped>\n",
              "    .dataframe tbody tr th:only-of-type {\n",
              "        vertical-align: middle;\n",
              "    }\n",
              "\n",
              "    .dataframe tbody tr th {\n",
              "        vertical-align: top;\n",
              "    }\n",
              "\n",
              "    .dataframe thead th {\n",
              "        text-align: right;\n",
              "    }\n",
              "</style>\n",
              "<table border=\"1\" class=\"dataframe\">\n",
              "  <thead>\n",
              "    <tr style=\"text-align: right;\">\n",
              "      <th></th>\n",
              "      <th>Sex</th>\n",
              "      <th>AgeSYear</th>\n",
              "      <th>Weight</th>\n",
              "      <th>Height</th>\n",
              "      <th>BMI</th>\n",
              "      <th>Systolic</th>\n",
              "      <th>Diastolic</th>\n",
              "      <th>HeartRate</th>\n",
              "      <th>SMM</th>\n",
              "      <th>Fat Mass</th>\n",
              "      <th>...</th>\n",
              "      <th>003_Creatinine</th>\n",
              "      <th>004_Uric Acid</th>\n",
              "      <th>005_Cholesterol</th>\n",
              "      <th>006_Triglyceride</th>\n",
              "      <th>008_HDL-C</th>\n",
              "      <th>009_LDL</th>\n",
              "      <th>010_AST</th>\n",
              "      <th>012_ALT</th>\n",
              "      <th>013_Alkaline Phos</th>\n",
              "      <th>071_HbA1c</th>\n",
              "    </tr>\n",
              "  </thead>\n",
              "  <tbody>\n",
              "    <tr>\n",
              "      <th>0</th>\n",
              "      <td>2</td>\n",
              "      <td>57.0</td>\n",
              "      <td>47.4</td>\n",
              "      <td>153.0</td>\n",
              "      <td>20.2</td>\n",
              "      <td>NaN</td>\n",
              "      <td>75.0</td>\n",
              "      <td>69.0</td>\n",
              "      <td>19.3</td>\n",
              "      <td>12.5</td>\n",
              "      <td>...</td>\n",
              "      <td>1.0</td>\n",
              "      <td>5.0</td>\n",
              "      <td>176.0</td>\n",
              "      <td>51.0</td>\n",
              "      <td>72.0</td>\n",
              "      <td>94.0</td>\n",
              "      <td>16.0</td>\n",
              "      <td>16.0</td>\n",
              "      <td>62.0</td>\n",
              "      <td>5.1</td>\n",
              "    </tr>\n",
              "    <tr>\n",
              "      <th>1</th>\n",
              "      <td>2</td>\n",
              "      <td>24.0</td>\n",
              "      <td>53.2</td>\n",
              "      <td>157.0</td>\n",
              "      <td>21.6</td>\n",
              "      <td>103.0</td>\n",
              "      <td>69.0</td>\n",
              "      <td>78.0</td>\n",
              "      <td>21.3</td>\n",
              "      <td>14.6</td>\n",
              "      <td>...</td>\n",
              "      <td>0.8</td>\n",
              "      <td>5.2</td>\n",
              "      <td>159.0</td>\n",
              "      <td>45.0</td>\n",
              "      <td>52.0</td>\n",
              "      <td>98.0</td>\n",
              "      <td>13.0</td>\n",
              "      <td>17.0</td>\n",
              "      <td>50.0</td>\n",
              "      <td>5.4</td>\n",
              "    </tr>\n",
              "    <tr>\n",
              "      <th>2</th>\n",
              "      <td>2</td>\n",
              "      <td>62.0</td>\n",
              "      <td>54.4</td>\n",
              "      <td>165.0</td>\n",
              "      <td>20.0</td>\n",
              "      <td>NaN</td>\n",
              "      <td>75.0</td>\n",
              "      <td>83.0</td>\n",
              "      <td>21.6</td>\n",
              "      <td>15.2</td>\n",
              "      <td>...</td>\n",
              "      <td>0.7</td>\n",
              "      <td>4.1</td>\n",
              "      <td>230.0</td>\n",
              "      <td>94.0</td>\n",
              "      <td>61.0</td>\n",
              "      <td>151.0</td>\n",
              "      <td>18.0</td>\n",
              "      <td>31.0</td>\n",
              "      <td>76.0</td>\n",
              "      <td>5.6</td>\n",
              "    </tr>\n",
              "    <tr>\n",
              "      <th>3</th>\n",
              "      <td>2</td>\n",
              "      <td>35.0</td>\n",
              "      <td>56.3</td>\n",
              "      <td>161.0</td>\n",
              "      <td>21.7</td>\n",
              "      <td>95.0</td>\n",
              "      <td>57.0</td>\n",
              "      <td>72.0</td>\n",
              "      <td>22.5</td>\n",
              "      <td>15.4</td>\n",
              "      <td>...</td>\n",
              "      <td>0.6</td>\n",
              "      <td>5.0</td>\n",
              "      <td>198.0</td>\n",
              "      <td>47.0</td>\n",
              "      <td>68.0</td>\n",
              "      <td>120.0</td>\n",
              "      <td>16.0</td>\n",
              "      <td>20.0</td>\n",
              "      <td>35.0</td>\n",
              "      <td>5.1</td>\n",
              "    </tr>\n",
              "    <tr>\n",
              "      <th>4</th>\n",
              "      <td>1</td>\n",
              "      <td>46.0</td>\n",
              "      <td>72.3</td>\n",
              "      <td>170.0</td>\n",
              "      <td>25.0</td>\n",
              "      <td>NaN</td>\n",
              "      <td>77.0</td>\n",
              "      <td>107.0</td>\n",
              "      <td>29.2</td>\n",
              "      <td>19.0</td>\n",
              "      <td>...</td>\n",
              "      <td>0.9</td>\n",
              "      <td>6.9</td>\n",
              "      <td>194.0</td>\n",
              "      <td>63.0</td>\n",
              "      <td>60.0</td>\n",
              "      <td>122.0</td>\n",
              "      <td>15.0</td>\n",
              "      <td>19.0</td>\n",
              "      <td>69.0</td>\n",
              "      <td>5.2</td>\n",
              "    </tr>\n",
              "    <tr>\n",
              "      <th>...</th>\n",
              "      <td>...</td>\n",
              "      <td>...</td>\n",
              "      <td>...</td>\n",
              "      <td>...</td>\n",
              "      <td>...</td>\n",
              "      <td>...</td>\n",
              "      <td>...</td>\n",
              "      <td>...</td>\n",
              "      <td>...</td>\n",
              "      <td>...</td>\n",
              "      <td>...</td>\n",
              "      <td>...</td>\n",
              "      <td>...</td>\n",
              "      <td>...</td>\n",
              "      <td>...</td>\n",
              "      <td>...</td>\n",
              "      <td>...</td>\n",
              "      <td>...</td>\n",
              "      <td>...</td>\n",
              "      <td>...</td>\n",
              "      <td>...</td>\n",
              "    </tr>\n",
              "    <tr>\n",
              "      <th>148</th>\n",
              "      <td>1</td>\n",
              "      <td>60.0</td>\n",
              "      <td>72.0</td>\n",
              "      <td>170.0</td>\n",
              "      <td>24.9</td>\n",
              "      <td>NaN</td>\n",
              "      <td>74.0</td>\n",
              "      <td>69.0</td>\n",
              "      <td>30.5</td>\n",
              "      <td>13.8</td>\n",
              "      <td>...</td>\n",
              "      <td>0.9</td>\n",
              "      <td>6.9</td>\n",
              "      <td>182.0</td>\n",
              "      <td>179.0</td>\n",
              "      <td>39.0</td>\n",
              "      <td>107.0</td>\n",
              "      <td>36.0</td>\n",
              "      <td>31.0</td>\n",
              "      <td>79.0</td>\n",
              "      <td>6.5</td>\n",
              "    </tr>\n",
              "    <tr>\n",
              "      <th>149</th>\n",
              "      <td>1</td>\n",
              "      <td>58.0</td>\n",
              "      <td>62.0</td>\n",
              "      <td>168.0</td>\n",
              "      <td>22.0</td>\n",
              "      <td>103.0</td>\n",
              "      <td>76.0</td>\n",
              "      <td>72.0</td>\n",
              "      <td>27.8</td>\n",
              "      <td>11.9</td>\n",
              "      <td>...</td>\n",
              "      <td>1.0</td>\n",
              "      <td>6.8</td>\n",
              "      <td>191.0</td>\n",
              "      <td>62.0</td>\n",
              "      <td>47.0</td>\n",
              "      <td>132.0</td>\n",
              "      <td>16.0</td>\n",
              "      <td>33.0</td>\n",
              "      <td>42.0</td>\n",
              "      <td>6.8</td>\n",
              "    </tr>\n",
              "    <tr>\n",
              "      <th>150</th>\n",
              "      <td>2</td>\n",
              "      <td>42.0</td>\n",
              "      <td>55.5</td>\n",
              "      <td>165.0</td>\n",
              "      <td>20.4</td>\n",
              "      <td>102.0</td>\n",
              "      <td>52.0</td>\n",
              "      <td>77.0</td>\n",
              "      <td>22.9</td>\n",
              "      <td>14.1</td>\n",
              "      <td>...</td>\n",
              "      <td>0.8</td>\n",
              "      <td>4.7</td>\n",
              "      <td>212.0</td>\n",
              "      <td>68.0</td>\n",
              "      <td>63.0</td>\n",
              "      <td>135.0</td>\n",
              "      <td>11.0</td>\n",
              "      <td>16.0</td>\n",
              "      <td>33.0</td>\n",
              "      <td>4.8</td>\n",
              "    </tr>\n",
              "    <tr>\n",
              "      <th>151</th>\n",
              "      <td>2</td>\n",
              "      <td>61.0</td>\n",
              "      <td>61.8</td>\n",
              "      <td>159.0</td>\n",
              "      <td>24.4</td>\n",
              "      <td>NaN</td>\n",
              "      <td>60.0</td>\n",
              "      <td>72.0</td>\n",
              "      <td>23.4</td>\n",
              "      <td>19.2</td>\n",
              "      <td>...</td>\n",
              "      <td>0.8</td>\n",
              "      <td>5.1</td>\n",
              "      <td>235.0</td>\n",
              "      <td>66.0</td>\n",
              "      <td>56.0</td>\n",
              "      <td>166.0</td>\n",
              "      <td>15.0</td>\n",
              "      <td>23.0</td>\n",
              "      <td>44.0</td>\n",
              "      <td>5.4</td>\n",
              "    </tr>\n",
              "    <tr>\n",
              "      <th>152</th>\n",
              "      <td>2</td>\n",
              "      <td>31.0</td>\n",
              "      <td>58.2</td>\n",
              "      <td>169.0</td>\n",
              "      <td>20.4</td>\n",
              "      <td>NaN</td>\n",
              "      <td>69.0</td>\n",
              "      <td>73.0</td>\n",
              "      <td>25.0</td>\n",
              "      <td>13.0</td>\n",
              "      <td>...</td>\n",
              "      <td>0.7</td>\n",
              "      <td>4.3</td>\n",
              "      <td>200.0</td>\n",
              "      <td>44.0</td>\n",
              "      <td>56.0</td>\n",
              "      <td>135.0</td>\n",
              "      <td>14.0</td>\n",
              "      <td>21.0</td>\n",
              "      <td>31.0</td>\n",
              "      <td>4.7</td>\n",
              "    </tr>\n",
              "  </tbody>\n",
              "</table>\n",
              "<p>153 rows × 26 columns</p>\n",
              "</div>\n",
              "      <button class=\"colab-df-convert\" onclick=\"convertToInteractive('df-c6a1bd9d-fe28-49fc-8183-8e722c2f23f0')\"\n",
              "              title=\"Convert this dataframe to an interactive table.\"\n",
              "              style=\"display:none;\">\n",
              "        \n",
              "  <svg xmlns=\"http://www.w3.org/2000/svg\" height=\"24px\"viewBox=\"0 0 24 24\"\n",
              "       width=\"24px\">\n",
              "    <path d=\"M0 0h24v24H0V0z\" fill=\"none\"/>\n",
              "    <path d=\"M18.56 5.44l.94 2.06.94-2.06 2.06-.94-2.06-.94-.94-2.06-.94 2.06-2.06.94zm-11 1L8.5 8.5l.94-2.06 2.06-.94-2.06-.94L8.5 2.5l-.94 2.06-2.06.94zm10 10l.94 2.06.94-2.06 2.06-.94-2.06-.94-.94-2.06-.94 2.06-2.06.94z\"/><path d=\"M17.41 7.96l-1.37-1.37c-.4-.4-.92-.59-1.43-.59-.52 0-1.04.2-1.43.59L10.3 9.45l-7.72 7.72c-.78.78-.78 2.05 0 2.83L4 21.41c.39.39.9.59 1.41.59.51 0 1.02-.2 1.41-.59l7.78-7.78 2.81-2.81c.8-.78.8-2.07 0-2.86zM5.41 20L4 18.59l7.72-7.72 1.47 1.35L5.41 20z\"/>\n",
              "  </svg>\n",
              "      </button>\n",
              "      \n",
              "  <style>\n",
              "    .colab-df-container {\n",
              "      display:flex;\n",
              "      flex-wrap:wrap;\n",
              "      gap: 12px;\n",
              "    }\n",
              "\n",
              "    .colab-df-convert {\n",
              "      background-color: #E8F0FE;\n",
              "      border: none;\n",
              "      border-radius: 50%;\n",
              "      cursor: pointer;\n",
              "      display: none;\n",
              "      fill: #1967D2;\n",
              "      height: 32px;\n",
              "      padding: 0 0 0 0;\n",
              "      width: 32px;\n",
              "    }\n",
              "\n",
              "    .colab-df-convert:hover {\n",
              "      background-color: #E2EBFA;\n",
              "      box-shadow: 0px 1px 2px rgba(60, 64, 67, 0.3), 0px 1px 3px 1px rgba(60, 64, 67, 0.15);\n",
              "      fill: #174EA6;\n",
              "    }\n",
              "\n",
              "    [theme=dark] .colab-df-convert {\n",
              "      background-color: #3B4455;\n",
              "      fill: #D2E3FC;\n",
              "    }\n",
              "\n",
              "    [theme=dark] .colab-df-convert:hover {\n",
              "      background-color: #434B5C;\n",
              "      box-shadow: 0px 1px 3px 1px rgba(0, 0, 0, 0.15);\n",
              "      filter: drop-shadow(0px 1px 2px rgba(0, 0, 0, 0.3));\n",
              "      fill: #FFFFFF;\n",
              "    }\n",
              "  </style>\n",
              "\n",
              "      <script>\n",
              "        const buttonEl =\n",
              "          document.querySelector('#df-c6a1bd9d-fe28-49fc-8183-8e722c2f23f0 button.colab-df-convert');\n",
              "        buttonEl.style.display =\n",
              "          google.colab.kernel.accessAllowed ? 'block' : 'none';\n",
              "\n",
              "        async function convertToInteractive(key) {\n",
              "          const element = document.querySelector('#df-c6a1bd9d-fe28-49fc-8183-8e722c2f23f0');\n",
              "          const dataTable =\n",
              "            await google.colab.kernel.invokeFunction('convertToInteractive',\n",
              "                                                     [key], {});\n",
              "          if (!dataTable) return;\n",
              "\n",
              "          const docLinkHtml = 'Like what you see? Visit the ' +\n",
              "            '<a target=\"_blank\" href=https://colab.research.google.com/notebooks/data_table.ipynb>data table notebook</a>'\n",
              "            + ' to learn more about interactive tables.';\n",
              "          element.innerHTML = '';\n",
              "          dataTable['output_type'] = 'display_data';\n",
              "          await google.colab.output.renderOutput(dataTable, element);\n",
              "          const docLink = document.createElement('div');\n",
              "          docLink.innerHTML = docLinkHtml;\n",
              "          element.appendChild(docLink);\n",
              "        }\n",
              "      </script>\n",
              "    </div>\n",
              "  </div>\n",
              "  "
            ]
          },
          "metadata": {},
          "execution_count": 99
        }
      ]
    },
    {
      "cell_type": "markdown",
      "source": [
        "## Imputation using Mean"
      ],
      "metadata": {
        "id": "mnQVQbqJ7Jgp"
      }
    },
    {
      "cell_type": "code",
      "source": [
        "from sklearn.impute import SimpleImputer"
      ],
      "metadata": {
        "id": "r--lqIL57Jgp"
      },
      "execution_count": 100,
      "outputs": []
    },
    {
      "cell_type": "code",
      "source": [
        "t_start = time.time()\n",
        "mean60_imputer = SimpleImputer(strategy='mean')\n",
        "for i in range(1,1001):\n",
        "  globals()[f'imputed_mean60_{i}'] = mean50_imputer.fit_transform(globals()[f'Systolic60_{i}'].copy()) #for loop miss forest impputation \n",
        "  globals()[f'MSE_MEAN60_{i}'] = mean_squared_error(data, globals()[f'imputed_mean60_{i}']) # for loop mean_squared_error\n",
        "t_end = time.time()\n",
        "t60_MEAN = (t_end- t_start)"
      ],
      "metadata": {
        "id": "pZXxPF997Jgp"
      },
      "execution_count": 101,
      "outputs": []
    },
    {
      "cell_type": "code",
      "source": [
        "t_start = time.time()\n",
        "mse_mean60_total = 0 \n",
        "MSE_MEAN60_1001 = 0\n",
        "for i in range(0,1001):\n",
        "  mse_mean60_total = mse_mean60_total + globals()[f'MSE_MEAN60_{i+1}']\n",
        "AMSE_Systolic60_mean = mse_mean60_total/1000\n",
        "print(f'AMSE_Systolic60_mean = {AMSE_Systolic60_mean}')\n",
        "t_end = time.time()\n",
        "print(f'เวลาที่ใช้ในการประมวลผล {t_end- t_start} วินาที')\n",
        "print(f'เวลาที่ใช้ในการประมวลผล {(t_end- t_start)/60} นาที')"
      ],
      "metadata": {
        "id": "wOc9EIvo7Jgp",
        "colab": {
          "base_uri": "https://localhost:8080/"
        },
        "outputId": "a29a175c-a2ac-42b2-fda6-2434c25e21e5"
      },
      "execution_count": 102,
      "outputs": [
        {
          "output_type": "stream",
          "name": "stdout",
          "text": [
            "AMSE_Systolic60_mean = 4.0680025286709585\n",
            "เวลาที่ใช้ในการประมวลผล 0.0017180442810058594 วินาที\n",
            "เวลาที่ใช้ในการประมวลผล 2.8634071350097655e-05 นาที\n"
          ]
        }
      ]
    },
    {
      "cell_type": "markdown",
      "source": [
        "## Imputation using the miss forest"
      ],
      "metadata": {
        "id": "FwBPKTBy7Jgp"
      }
    },
    {
      "cell_type": "code",
      "source": [
        "import sys\n",
        "import sklearn.neighbors._base\n",
        "sys.modules['sklearn.neighbors.base'] = sklearn.neighbors._base\n",
        "!pip install missingpy\n",
        "import missingpy\n",
        "from missingpy import MissForest\n",
        "from sklearn.metrics import mean_squared_error"
      ],
      "metadata": {
        "id": "lv1_5jT87Jgp",
        "colab": {
          "base_uri": "https://localhost:8080/"
        },
        "outputId": "ea70927d-4f33-483e-eed3-98748041063e"
      },
      "execution_count": 103,
      "outputs": [
        {
          "output_type": "stream",
          "name": "stdout",
          "text": [
            "Looking in indexes: https://pypi.org/simple, https://us-python.pkg.dev/colab-wheels/public/simple/\n",
            "Requirement already satisfied: missingpy in /usr/local/lib/python3.8/dist-packages (0.2.0)\n"
          ]
        }
      ]
    },
    {
      "cell_type": "code",
      "source": [
        "t_start = time.time()\n",
        "MF60_imputer = MissForest()\n",
        "for i in range(1,1001):\n",
        "  globals()[f'imputed_mf60_{i}'] = MF60_imputer.fit_transform(globals()[f'Systolic60_{i}'].copy()) #for loop miss forest impputation \n",
        "  globals()[f'MSE_MF60_{i}'] = mean_squared_error(data, globals()[f'imputed_mf60_{i}']) # for loop mean_squared_error\n",
        "t_end = time.time()\n",
        "t60_MF = (t_end- t_start)"
      ],
      "metadata": {
        "id": "vlxfsL-p7Jgp"
      },
      "execution_count": null,
      "outputs": []
    },
    {
      "cell_type": "code",
      "source": [
        "t_start = time.time()\n",
        "mse_mf60_total = 0 \n",
        "MSE_MF60_1001 = 0\n",
        "for i in range(0,1001):\n",
        "  mse_mf60_total = mse_mf60_total + globals()[f'MSE_MF60_{i+1}']\n",
        "AMSE_Systolic60_mf = mse_mf60_total/1000\n",
        "print(f'AMSE_Systolic60_mf = {AMSE_Systolic60_mf}')\n",
        "t_end = time.time()\n",
        "print(f'เวลาที่ใช้ในการประมวลผล {t_end- t_start} วินาที')\n",
        "print(f'เวลาที่ใช้ในการประมวลผล {(t_end- t_start)/60} นาที')"
      ],
      "metadata": {
        "id": "8xuApycY7Jgq",
        "colab": {
          "base_uri": "https://localhost:8080/"
        },
        "outputId": "cd7116fe-ab24-4e30-faab-2f2ec34c6ea5"
      },
      "execution_count": 105,
      "outputs": [
        {
          "output_type": "stream",
          "name": "stdout",
          "text": [
            "AMSE_Systolic60_mf = 2.62468495248869\n",
            "เวลาที่ใช้ในการประมวลผล 0.0020751953125 วินาที\n",
            "เวลาที่ใช้ในการประมวลผล 3.4586588541666666e-05 นาที\n"
          ]
        }
      ]
    },
    {
      "cell_type": "markdown",
      "source": [
        "## Imputation using the KNN"
      ],
      "metadata": {
        "id": "hJinxfM57Jgq"
      }
    },
    {
      "cell_type": "code",
      "source": [
        "from sklearn import neighbors\n",
        "from sklearn.impute import KNNImputer"
      ],
      "metadata": {
        "id": "M9cnQDhk7Jgq"
      },
      "execution_count": 106,
      "outputs": []
    },
    {
      "cell_type": "code",
      "source": [
        "t_start = time.time()\n",
        "KNN60_imputer = KNNImputer(n_neighbors = 15)\n",
        "for i in range(1,1001):\n",
        "  globals()[f'imputed_KNN60_{i}'] = KNN60_imputer.fit_transform(globals()[f'Systolic60_{i}'].copy())\n",
        "  globals()[f'MSE_KNN60_{i}'] = mean_squared_error(data, globals()[f'imputed_KNN60_{i}'])\n",
        "t_end = time.time()\n",
        "t60_KNN = (t_end- t_start)"
      ],
      "metadata": {
        "id": "HV14AOKf7Jgq"
      },
      "execution_count": 107,
      "outputs": []
    },
    {
      "cell_type": "code",
      "source": [
        "t_start = time.time()\n",
        "mse_knn60_total = 0 \n",
        "MSE_KNN60_1001 = 0\n",
        "for i in range(0,1001):\n",
        "  mse_knn60_total = mse_knn60_total + globals()[f'MSE_KNN60_{i+1}']\n",
        "AMSE_Systolic60_knn = mse_knn60_total/1000\n",
        "print(f'AMSE_Systolic60_knn = {AMSE_Systolic60_knn}')\n",
        "t_end = time.time()\n",
        "print(f'เวลาที่ใช้ในการประมวลผล {t_end- t_start} วินาที')\n",
        "print(f'เวลาที่ใช้ในการประมวลผล {(t_end- t_start)/60} นาที')"
      ],
      "metadata": {
        "id": "fqgm9TWL7Jgq",
        "colab": {
          "base_uri": "https://localhost:8080/"
        },
        "outputId": "fd8041e6-b963-4dd0-f4f5-e4f670282c60"
      },
      "execution_count": 108,
      "outputs": [
        {
          "output_type": "stream",
          "name": "stdout",
          "text": [
            "AMSE_Systolic60_knn = 3.6361567577230365\n",
            "เวลาที่ใช้ในการประมวลผล 0.0022525787353515625 วินาที\n",
            "เวลาที่ใช้ในการประมวลผล 3.754297892252604e-05 นาที\n"
          ]
        }
      ]
    },
    {
      "cell_type": "markdown",
      "source": [
        "## Imputation using the MICE"
      ],
      "metadata": {
        "id": "oeo3L-HI7Jgq"
      }
    },
    {
      "cell_type": "code",
      "source": [
        "from sklearn.experimental import enable_iterative_imputer\n",
        "from sklearn.impute import IterativeImputer\n",
        "from sklearn.linear_model import LinearRegression\n",
        "from sklearn import svm"
      ],
      "metadata": {
        "id": "2Y4kfkQ27Jgq"
      },
      "execution_count": 109,
      "outputs": []
    },
    {
      "cell_type": "markdown",
      "source": [
        "### LinearRegression model"
      ],
      "metadata": {
        "id": "achsTX9n7Jgq"
      }
    },
    {
      "cell_type": "code",
      "source": [
        "t_start = time.time()\n",
        "lr = LinearRegression()\n",
        "for i in range(1,1001):\n",
        "  imp = IterativeImputer(estimator= lr , max_iter= 10, verbose=2, imputation_order='roman',initial_strategy = 'mean',random_state= i)\n",
        "  globals()[f'imputed_lr60_{i}'] = imp.fit_transform(globals()[f'Systolic60_{i}'].copy())\n",
        "  globals()[f'MSE_lr60_{i}'] = mean_squared_error(data, globals()[f'imputed_lr60_{i}'])\n",
        "t_end = time.time()\n",
        "t60_LR = (t_end- t_start)"
      ],
      "metadata": {
        "id": "yMjq-5Nk7Jgq"
      },
      "execution_count": null,
      "outputs": []
    },
    {
      "cell_type": "code",
      "source": [
        "t_start = time.time()\n",
        "mse_lr60_total = 0 \n",
        "MSE_lr60_1001 = 0\n",
        "for i in range(0,1001):\n",
        "  mse_lr60_total = mse_lr60_total + globals()[f'MSE_lr60_{i+1}']\n",
        "AMSE_Systolic60_lr = mse_lr60_total/1000\n",
        "print(f'AMSE_Systolic60_lr = {AMSE_Systolic60_lr}')\n",
        "t_end = time.time()\n",
        "print(f'เวลาที่ใช้ในการประมวลผล {t_end- t_start} วินาที')\n",
        "print(f'เวลาที่ใช้ในการประมวลผล {(t_end- t_start)/60} นาที')"
      ],
      "metadata": {
        "id": "v4Y1_5L67Jgr",
        "colab": {
          "base_uri": "https://localhost:8080/"
        },
        "outputId": "1901c766-de88-436e-b91d-03e60f240c41"
      },
      "execution_count": 111,
      "outputs": [
        {
          "output_type": "stream",
          "name": "stdout",
          "text": [
            "AMSE_Systolic60_lr = 10.738558322259056\n",
            "เวลาที่ใช้ในการประมวลผล 0.00130462646484375 วินาที\n",
            "เวลาที่ใช้ในการประมวลผล 2.17437744140625e-05 นาที\n"
          ]
        }
      ]
    },
    {
      "cell_type": "markdown",
      "source": [
        "### Support Vector Machine model"
      ],
      "metadata": {
        "id": "MGNkeqpJ7Jgr"
      }
    },
    {
      "cell_type": "code",
      "source": [
        "t_start = time.time()\n",
        "regr = svm.SVR()\n",
        "for i in range(1,1001):\n",
        "  svm_svr = IterativeImputer(estimator= regr, max_iter= 10, verbose=2, imputation_order='roman',initial_strategy = 'mean',random_state= i)\n",
        "  globals()[f'imputed_svm60_{i}'] = svm_svr.fit_transform(globals()[f'Systolic60_{i}'].copy())\n",
        "  globals()[f'MSE_svm60_{i}'] = mean_squared_error(data, globals()[f'imputed_svm60_{i}'])\n",
        "t_end = time.time()\n",
        "t60_SVM = (t_end- t_start)"
      ],
      "metadata": {
        "id": "xuFqS3Iv7Jgr"
      },
      "execution_count": null,
      "outputs": []
    },
    {
      "cell_type": "code",
      "source": [
        "t_start = time.time()\n",
        "mse_svm60_total = 0 \n",
        "MSE_svm60_1001 = 0\n",
        "for i in range(0,1001):\n",
        "  mse_svm60_total = mse_svm60_total + globals()[f'MSE_svm60_{i+1}']\n",
        "AMSE_Systolic60_svm = mse_svm60_total/1000\n",
        "print(f'AMSE_Systolic60_svm = {AMSE_Systolic60_svm}')\n",
        "t_end = time.time()\n",
        "print(f'เวลาที่ใช้ในการประมวลผล {t_end- t_start} วินาที')\n",
        "print(f'เวลาที่ใช้ในการประมวลผล {(t_end- t_start)/60} นาที')"
      ],
      "metadata": {
        "id": "azR8eZ7R7Jgr",
        "colab": {
          "base_uri": "https://localhost:8080/"
        },
        "outputId": "034dc069-3f5b-425d-eb9a-4cc7e8f68de5"
      },
      "execution_count": 113,
      "outputs": [
        {
          "output_type": "stream",
          "name": "stdout",
          "text": [
            "AMSE_Systolic60_svm = 3.9319381511387506\n",
            "เวลาที่ใช้ในการประมวลผล 0.0012438297271728516 วินาที\n",
            "เวลาที่ใช้ในการประมวลผล 2.073049545288086e-05 นาที\n"
          ]
        }
      ]
    },
    {
      "cell_type": "markdown",
      "source": [
        "## Imputation using the EM"
      ],
      "metadata": {
        "id": "0nf_ZBoX7Jgr"
      }
    },
    {
      "cell_type": "markdown",
      "source": [
        "### impy.em"
      ],
      "metadata": {
        "id": "zAacr4gY7Jgr"
      }
    },
    {
      "cell_type": "code",
      "source": [
        "!pip install impyute\n",
        "import impyute as impy"
      ],
      "metadata": {
        "id": "esXruGLJ7Jgr",
        "colab": {
          "base_uri": "https://localhost:8080/"
        },
        "outputId": "3e91ad7a-c484-4796-fb5b-a1861bbf1265"
      },
      "execution_count": 114,
      "outputs": [
        {
          "output_type": "stream",
          "name": "stdout",
          "text": [
            "Looking in indexes: https://pypi.org/simple, https://us-python.pkg.dev/colab-wheels/public/simple/\n",
            "Requirement already satisfied: impyute in /usr/local/lib/python3.8/dist-packages (0.0.8)\n",
            "Requirement already satisfied: numpy in /usr/local/lib/python3.8/dist-packages (from impyute) (1.21.6)\n",
            "Requirement already satisfied: scikit-learn in /usr/local/lib/python3.8/dist-packages (from impyute) (1.0.2)\n",
            "Requirement already satisfied: scipy in /usr/local/lib/python3.8/dist-packages (from impyute) (1.7.3)\n",
            "Requirement already satisfied: threadpoolctl>=2.0.0 in /usr/local/lib/python3.8/dist-packages (from scikit-learn->impyute) (3.1.0)\n",
            "Requirement already satisfied: joblib>=0.11 in /usr/local/lib/python3.8/dist-packages (from scikit-learn->impyute) (1.2.0)\n"
          ]
        }
      ]
    },
    {
      "cell_type": "code",
      "source": [
        "t_start = time.time()\n",
        "for i in range(1,1001):\n",
        "  globals()[f'imputed_impy60_{i}'] = impy.em(globals()[f'Systolic60_{i}'].values.copy())\n",
        "  globals()[f'MSE_impy60_{i}'] = mean_squared_error(data, globals()[f'imputed_impy60_{i}'])\n",
        "t_end = time.time()\n",
        "t60_EM = (t_end- t_start)"
      ],
      "metadata": {
        "id": "S5MqfiI-7Jgr"
      },
      "execution_count": 115,
      "outputs": []
    },
    {
      "cell_type": "code",
      "source": [
        "t_start = time.time()\n",
        "mse_impy60_total = 0 \n",
        "MSE_impy60_1001 = 0\n",
        "for i in range(0,1001):\n",
        "  mse_impy60_total = mse_impy60_total + globals()[f'MSE_impy60_{i+1}']\n",
        "AMSE_Systolic60_impy = mse_impy60_total/1000\n",
        "print(f'AMSE_Systolic60_impy = {AMSE_Systolic60_impy}')\n",
        "t_end = time.time()\n",
        "print(f'เวลาที่ใช้ในการประมวลผล {t_end- t_start} วินาที')\n",
        "print(f'เวลาที่ใช้ในการประมวลผล {(t_end- t_start)/60} นาที')"
      ],
      "metadata": {
        "id": "YnvhFa8N7Jgr",
        "colab": {
          "base_uri": "https://localhost:8080/"
        },
        "outputId": "76484165-355f-4797-8687-1577e094c2af"
      },
      "execution_count": 116,
      "outputs": [
        {
          "output_type": "stream",
          "name": "stdout",
          "text": [
            "AMSE_Systolic60_impy = 7.762631097130708\n",
            "เวลาที่ใช้ในการประมวลผล 0.001134634017944336 วินาที\n",
            "เวลาที่ใช้ในการประมวลผล 1.891056696573893e-05 นาที\n"
          ]
        }
      ]
    },
    {
      "cell_type": "markdown",
      "source": [
        "# AMSE"
      ],
      "metadata": {
        "id": "E3ShT2BaLdcN"
      }
    },
    {
      "cell_type": "code",
      "source": [
        "amse_value = {'Method':['MEAN','Miss Forest','KNN','MICE-LR','MICE-SVM','EM'],\n",
        "              '10%':[AMSE_Systolic10_mean,AMSE_Systolic10_mf,AMSE_Systolic10_knn,AMSE_Systolic10_lr,AMSE_Systolic10_svm,AMSE_Systolic10_impy],\n",
        "      '20%':[AMSE_Systolic20_mean,AMSE_Systolic20_mf,AMSE_Systolic20_knn,AMSE_Systolic20_lr,AMSE_Systolic20_svm,AMSE_Systolic20_impy],\n",
        "      '30%':[AMSE_Systolic30_mean,AMSE_Systolic30_mf,AMSE_Systolic30_knn,AMSE_Systolic30_lr,AMSE_Systolic30_svm,AMSE_Systolic30_impy],\n",
        "      '40%':[AMSE_Systolic40_mean,AMSE_Systolic40_mf,AMSE_Systolic40_knn,AMSE_Systolic40_lr,AMSE_Systolic40_svm,AMSE_Systolic40_impy],\n",
        "      '50%':[AMSE_Systolic50_mean,AMSE_Systolic50_mf,AMSE_Systolic50_knn,AMSE_Systolic50_lr,AMSE_Systolic60_svm,AMSE_Systolic50_impy]\n",
        "      ,'60%':[AMSE_Systolic60_mean,AMSE_Systolic60_mf,AMSE_Systolic60_knn,AMSE_Systolic60_lr,AMSE_Systolic60_svm,AMSE_Systolic60_impy]}"
      ],
      "metadata": {
        "id": "xS-oKgz67Jgs"
      },
      "execution_count": 117,
      "outputs": []
    },
    {
      "cell_type": "code",
      "source": [
        "data_AMSE = pd.DataFrame.from_dict(amse_value)\n",
        "data_AMSE"
      ],
      "metadata": {
        "id": "nFaSdMIjLgvV",
        "colab": {
          "base_uri": "https://localhost:8080/",
          "height": 0
        },
        "outputId": "708f14da-6748-449c-9f08-f66328a0968c"
      },
      "execution_count": 118,
      "outputs": [
        {
          "output_type": "execute_result",
          "data": {
            "text/plain": [
              "        Method       10%       20%       30%       40%       50%        60%\n",
              "0         MEAN  0.656054  1.318454  1.993437  2.704088  3.382698   4.068003\n",
              "1  Miss Forest  0.398116  0.800504  1.231818  1.670105  2.124768   2.624685\n",
              "2          KNN  0.516497  1.040828  1.594660  2.233939  2.906130   3.636157\n",
              "3      MICE-LR  0.760793  1.669475  2.962069  4.365363  6.513550  10.738558\n",
              "4     MICE-SVM  0.607917  1.228954  1.871206  2.556874  3.931938   3.931938\n",
              "5           EM  1.242144  2.503188  3.744418  5.117236  6.393300   7.762631"
            ],
            "text/html": [
              "\n",
              "  <div id=\"df-24ccaab5-f105-4fa7-9413-8e5aeddd6381\">\n",
              "    <div class=\"colab-df-container\">\n",
              "      <div>\n",
              "<style scoped>\n",
              "    .dataframe tbody tr th:only-of-type {\n",
              "        vertical-align: middle;\n",
              "    }\n",
              "\n",
              "    .dataframe tbody tr th {\n",
              "        vertical-align: top;\n",
              "    }\n",
              "\n",
              "    .dataframe thead th {\n",
              "        text-align: right;\n",
              "    }\n",
              "</style>\n",
              "<table border=\"1\" class=\"dataframe\">\n",
              "  <thead>\n",
              "    <tr style=\"text-align: right;\">\n",
              "      <th></th>\n",
              "      <th>Method</th>\n",
              "      <th>10%</th>\n",
              "      <th>20%</th>\n",
              "      <th>30%</th>\n",
              "      <th>40%</th>\n",
              "      <th>50%</th>\n",
              "      <th>60%</th>\n",
              "    </tr>\n",
              "  </thead>\n",
              "  <tbody>\n",
              "    <tr>\n",
              "      <th>0</th>\n",
              "      <td>MEAN</td>\n",
              "      <td>0.656054</td>\n",
              "      <td>1.318454</td>\n",
              "      <td>1.993437</td>\n",
              "      <td>2.704088</td>\n",
              "      <td>3.382698</td>\n",
              "      <td>4.068003</td>\n",
              "    </tr>\n",
              "    <tr>\n",
              "      <th>1</th>\n",
              "      <td>Miss Forest</td>\n",
              "      <td>0.398116</td>\n",
              "      <td>0.800504</td>\n",
              "      <td>1.231818</td>\n",
              "      <td>1.670105</td>\n",
              "      <td>2.124768</td>\n",
              "      <td>2.624685</td>\n",
              "    </tr>\n",
              "    <tr>\n",
              "      <th>2</th>\n",
              "      <td>KNN</td>\n",
              "      <td>0.516497</td>\n",
              "      <td>1.040828</td>\n",
              "      <td>1.594660</td>\n",
              "      <td>2.233939</td>\n",
              "      <td>2.906130</td>\n",
              "      <td>3.636157</td>\n",
              "    </tr>\n",
              "    <tr>\n",
              "      <th>3</th>\n",
              "      <td>MICE-LR</td>\n",
              "      <td>0.760793</td>\n",
              "      <td>1.669475</td>\n",
              "      <td>2.962069</td>\n",
              "      <td>4.365363</td>\n",
              "      <td>6.513550</td>\n",
              "      <td>10.738558</td>\n",
              "    </tr>\n",
              "    <tr>\n",
              "      <th>4</th>\n",
              "      <td>MICE-SVM</td>\n",
              "      <td>0.607917</td>\n",
              "      <td>1.228954</td>\n",
              "      <td>1.871206</td>\n",
              "      <td>2.556874</td>\n",
              "      <td>3.931938</td>\n",
              "      <td>3.931938</td>\n",
              "    </tr>\n",
              "    <tr>\n",
              "      <th>5</th>\n",
              "      <td>EM</td>\n",
              "      <td>1.242144</td>\n",
              "      <td>2.503188</td>\n",
              "      <td>3.744418</td>\n",
              "      <td>5.117236</td>\n",
              "      <td>6.393300</td>\n",
              "      <td>7.762631</td>\n",
              "    </tr>\n",
              "  </tbody>\n",
              "</table>\n",
              "</div>\n",
              "      <button class=\"colab-df-convert\" onclick=\"convertToInteractive('df-24ccaab5-f105-4fa7-9413-8e5aeddd6381')\"\n",
              "              title=\"Convert this dataframe to an interactive table.\"\n",
              "              style=\"display:none;\">\n",
              "        \n",
              "  <svg xmlns=\"http://www.w3.org/2000/svg\" height=\"24px\"viewBox=\"0 0 24 24\"\n",
              "       width=\"24px\">\n",
              "    <path d=\"M0 0h24v24H0V0z\" fill=\"none\"/>\n",
              "    <path d=\"M18.56 5.44l.94 2.06.94-2.06 2.06-.94-2.06-.94-.94-2.06-.94 2.06-2.06.94zm-11 1L8.5 8.5l.94-2.06 2.06-.94-2.06-.94L8.5 2.5l-.94 2.06-2.06.94zm10 10l.94 2.06.94-2.06 2.06-.94-2.06-.94-.94-2.06-.94 2.06-2.06.94z\"/><path d=\"M17.41 7.96l-1.37-1.37c-.4-.4-.92-.59-1.43-.59-.52 0-1.04.2-1.43.59L10.3 9.45l-7.72 7.72c-.78.78-.78 2.05 0 2.83L4 21.41c.39.39.9.59 1.41.59.51 0 1.02-.2 1.41-.59l7.78-7.78 2.81-2.81c.8-.78.8-2.07 0-2.86zM5.41 20L4 18.59l7.72-7.72 1.47 1.35L5.41 20z\"/>\n",
              "  </svg>\n",
              "      </button>\n",
              "      \n",
              "  <style>\n",
              "    .colab-df-container {\n",
              "      display:flex;\n",
              "      flex-wrap:wrap;\n",
              "      gap: 12px;\n",
              "    }\n",
              "\n",
              "    .colab-df-convert {\n",
              "      background-color: #E8F0FE;\n",
              "      border: none;\n",
              "      border-radius: 50%;\n",
              "      cursor: pointer;\n",
              "      display: none;\n",
              "      fill: #1967D2;\n",
              "      height: 32px;\n",
              "      padding: 0 0 0 0;\n",
              "      width: 32px;\n",
              "    }\n",
              "\n",
              "    .colab-df-convert:hover {\n",
              "      background-color: #E2EBFA;\n",
              "      box-shadow: 0px 1px 2px rgba(60, 64, 67, 0.3), 0px 1px 3px 1px rgba(60, 64, 67, 0.15);\n",
              "      fill: #174EA6;\n",
              "    }\n",
              "\n",
              "    [theme=dark] .colab-df-convert {\n",
              "      background-color: #3B4455;\n",
              "      fill: #D2E3FC;\n",
              "    }\n",
              "\n",
              "    [theme=dark] .colab-df-convert:hover {\n",
              "      background-color: #434B5C;\n",
              "      box-shadow: 0px 1px 3px 1px rgba(0, 0, 0, 0.15);\n",
              "      filter: drop-shadow(0px 1px 2px rgba(0, 0, 0, 0.3));\n",
              "      fill: #FFFFFF;\n",
              "    }\n",
              "  </style>\n",
              "\n",
              "      <script>\n",
              "        const buttonEl =\n",
              "          document.querySelector('#df-24ccaab5-f105-4fa7-9413-8e5aeddd6381 button.colab-df-convert');\n",
              "        buttonEl.style.display =\n",
              "          google.colab.kernel.accessAllowed ? 'block' : 'none';\n",
              "\n",
              "        async function convertToInteractive(key) {\n",
              "          const element = document.querySelector('#df-24ccaab5-f105-4fa7-9413-8e5aeddd6381');\n",
              "          const dataTable =\n",
              "            await google.colab.kernel.invokeFunction('convertToInteractive',\n",
              "                                                     [key], {});\n",
              "          if (!dataTable) return;\n",
              "\n",
              "          const docLinkHtml = 'Like what you see? Visit the ' +\n",
              "            '<a target=\"_blank\" href=https://colab.research.google.com/notebooks/data_table.ipynb>data table notebook</a>'\n",
              "            + ' to learn more about interactive tables.';\n",
              "          element.innerHTML = '';\n",
              "          dataTable['output_type'] = 'display_data';\n",
              "          await google.colab.output.renderOutput(dataTable, element);\n",
              "          const docLink = document.createElement('div');\n",
              "          docLink.innerHTML = docLinkHtml;\n",
              "          element.appendChild(docLink);\n",
              "        }\n",
              "      </script>\n",
              "    </div>\n",
              "  </div>\n",
              "  "
            ]
          },
          "metadata": {},
          "execution_count": 118
        }
      ]
    },
    {
      "cell_type": "markdown",
      "source": [
        "# เวลาทั้งหมดในการรัน"
      ],
      "metadata": {
        "id": "_zhlMnVr3Gy3"
      }
    },
    {
      "cell_type": "markdown",
      "source": [
        "## second time"
      ],
      "metadata": {
        "id": "O3YvBlIcDTen"
      }
    },
    {
      "cell_type": "code",
      "source": [
        "data_t_sec = {'Method':['MEAN','Miss Forest','KNN','MICE-LR','MICE-SVM','EM'],'10%':[t10_MEAN,t10_MF,t10_KNN,t10_LR,t10_SVM,t10_EM],\n",
        "      '20%':[t20_MEAN,t20_MF,t20_KNN,t20_LR,t20_SVM,t20_EM],'30%':[t30_MEAN,t30_MF,t30_KNN,t30_LR,t30_SVM,t30_EM],'40%':[t40_MEAN,t40_MF,t40_KNN,t40_LR,t40_SVM,t40_EM],\n",
        "      '50%':[t50_MEAN,t50_MF,t50_KNN,t50_LR,t50_SVM,t50_EM],'60%':[t60_MEAN,t60_MF,t60_KNN,t60_LR,t60_SVM,t60_EM]}"
      ],
      "metadata": {
        "id": "azaqLAHf3JTO"
      },
      "execution_count": 119,
      "outputs": []
    },
    {
      "cell_type": "code",
      "source": [
        "data_second = pd.DataFrame.from_dict(data_t_sec)\n",
        "data_second"
      ],
      "metadata": {
        "id": "1E7JBoF7DXNZ",
        "colab": {
          "base_uri": "https://localhost:8080/",
          "height": 237
        },
        "outputId": "8b76f9a0-1e1e-47b3-f741-e807963d3219"
      },
      "execution_count": 120,
      "outputs": [
        {
          "output_type": "execute_result",
          "data": {
            "text/plain": [
              "        Method         10%         20%         30%         40%         50%  \\\n",
              "0         MEAN    4.216270    4.142338    4.444604    4.352309    4.555060   \n",
              "1  Miss Forest  768.503871  760.008633  727.604975  747.254579  750.960078   \n",
              "2          KNN    4.983605    5.038391    5.145983    5.896869   10.041794   \n",
              "3      MICE-LR   59.137543   57.058236   59.620306   63.522815   60.949301   \n",
              "4     MICE-SVM  121.690513  122.865779  122.405543  128.392833  122.945733   \n",
              "5           EM    6.621698   12.329002   18.139932   25.729067   28.367869   \n",
              "\n",
              "          60%  \n",
              "0    4.344003  \n",
              "1  711.771154  \n",
              "2    9.372723  \n",
              "3   59.786982  \n",
              "4  121.507658  \n",
              "5   32.531761  "
            ],
            "text/html": [
              "\n",
              "  <div id=\"df-5a033a1a-72a2-46bb-b262-37fd75b451d4\">\n",
              "    <div class=\"colab-df-container\">\n",
              "      <div>\n",
              "<style scoped>\n",
              "    .dataframe tbody tr th:only-of-type {\n",
              "        vertical-align: middle;\n",
              "    }\n",
              "\n",
              "    .dataframe tbody tr th {\n",
              "        vertical-align: top;\n",
              "    }\n",
              "\n",
              "    .dataframe thead th {\n",
              "        text-align: right;\n",
              "    }\n",
              "</style>\n",
              "<table border=\"1\" class=\"dataframe\">\n",
              "  <thead>\n",
              "    <tr style=\"text-align: right;\">\n",
              "      <th></th>\n",
              "      <th>Method</th>\n",
              "      <th>10%</th>\n",
              "      <th>20%</th>\n",
              "      <th>30%</th>\n",
              "      <th>40%</th>\n",
              "      <th>50%</th>\n",
              "      <th>60%</th>\n",
              "    </tr>\n",
              "  </thead>\n",
              "  <tbody>\n",
              "    <tr>\n",
              "      <th>0</th>\n",
              "      <td>MEAN</td>\n",
              "      <td>4.216270</td>\n",
              "      <td>4.142338</td>\n",
              "      <td>4.444604</td>\n",
              "      <td>4.352309</td>\n",
              "      <td>4.555060</td>\n",
              "      <td>4.344003</td>\n",
              "    </tr>\n",
              "    <tr>\n",
              "      <th>1</th>\n",
              "      <td>Miss Forest</td>\n",
              "      <td>768.503871</td>\n",
              "      <td>760.008633</td>\n",
              "      <td>727.604975</td>\n",
              "      <td>747.254579</td>\n",
              "      <td>750.960078</td>\n",
              "      <td>711.771154</td>\n",
              "    </tr>\n",
              "    <tr>\n",
              "      <th>2</th>\n",
              "      <td>KNN</td>\n",
              "      <td>4.983605</td>\n",
              "      <td>5.038391</td>\n",
              "      <td>5.145983</td>\n",
              "      <td>5.896869</td>\n",
              "      <td>10.041794</td>\n",
              "      <td>9.372723</td>\n",
              "    </tr>\n",
              "    <tr>\n",
              "      <th>3</th>\n",
              "      <td>MICE-LR</td>\n",
              "      <td>59.137543</td>\n",
              "      <td>57.058236</td>\n",
              "      <td>59.620306</td>\n",
              "      <td>63.522815</td>\n",
              "      <td>60.949301</td>\n",
              "      <td>59.786982</td>\n",
              "    </tr>\n",
              "    <tr>\n",
              "      <th>4</th>\n",
              "      <td>MICE-SVM</td>\n",
              "      <td>121.690513</td>\n",
              "      <td>122.865779</td>\n",
              "      <td>122.405543</td>\n",
              "      <td>128.392833</td>\n",
              "      <td>122.945733</td>\n",
              "      <td>121.507658</td>\n",
              "    </tr>\n",
              "    <tr>\n",
              "      <th>5</th>\n",
              "      <td>EM</td>\n",
              "      <td>6.621698</td>\n",
              "      <td>12.329002</td>\n",
              "      <td>18.139932</td>\n",
              "      <td>25.729067</td>\n",
              "      <td>28.367869</td>\n",
              "      <td>32.531761</td>\n",
              "    </tr>\n",
              "  </tbody>\n",
              "</table>\n",
              "</div>\n",
              "      <button class=\"colab-df-convert\" onclick=\"convertToInteractive('df-5a033a1a-72a2-46bb-b262-37fd75b451d4')\"\n",
              "              title=\"Convert this dataframe to an interactive table.\"\n",
              "              style=\"display:none;\">\n",
              "        \n",
              "  <svg xmlns=\"http://www.w3.org/2000/svg\" height=\"24px\"viewBox=\"0 0 24 24\"\n",
              "       width=\"24px\">\n",
              "    <path d=\"M0 0h24v24H0V0z\" fill=\"none\"/>\n",
              "    <path d=\"M18.56 5.44l.94 2.06.94-2.06 2.06-.94-2.06-.94-.94-2.06-.94 2.06-2.06.94zm-11 1L8.5 8.5l.94-2.06 2.06-.94-2.06-.94L8.5 2.5l-.94 2.06-2.06.94zm10 10l.94 2.06.94-2.06 2.06-.94-2.06-.94-.94-2.06-.94 2.06-2.06.94z\"/><path d=\"M17.41 7.96l-1.37-1.37c-.4-.4-.92-.59-1.43-.59-.52 0-1.04.2-1.43.59L10.3 9.45l-7.72 7.72c-.78.78-.78 2.05 0 2.83L4 21.41c.39.39.9.59 1.41.59.51 0 1.02-.2 1.41-.59l7.78-7.78 2.81-2.81c.8-.78.8-2.07 0-2.86zM5.41 20L4 18.59l7.72-7.72 1.47 1.35L5.41 20z\"/>\n",
              "  </svg>\n",
              "      </button>\n",
              "      \n",
              "  <style>\n",
              "    .colab-df-container {\n",
              "      display:flex;\n",
              "      flex-wrap:wrap;\n",
              "      gap: 12px;\n",
              "    }\n",
              "\n",
              "    .colab-df-convert {\n",
              "      background-color: #E8F0FE;\n",
              "      border: none;\n",
              "      border-radius: 50%;\n",
              "      cursor: pointer;\n",
              "      display: none;\n",
              "      fill: #1967D2;\n",
              "      height: 32px;\n",
              "      padding: 0 0 0 0;\n",
              "      width: 32px;\n",
              "    }\n",
              "\n",
              "    .colab-df-convert:hover {\n",
              "      background-color: #E2EBFA;\n",
              "      box-shadow: 0px 1px 2px rgba(60, 64, 67, 0.3), 0px 1px 3px 1px rgba(60, 64, 67, 0.15);\n",
              "      fill: #174EA6;\n",
              "    }\n",
              "\n",
              "    [theme=dark] .colab-df-convert {\n",
              "      background-color: #3B4455;\n",
              "      fill: #D2E3FC;\n",
              "    }\n",
              "\n",
              "    [theme=dark] .colab-df-convert:hover {\n",
              "      background-color: #434B5C;\n",
              "      box-shadow: 0px 1px 3px 1px rgba(0, 0, 0, 0.15);\n",
              "      filter: drop-shadow(0px 1px 2px rgba(0, 0, 0, 0.3));\n",
              "      fill: #FFFFFF;\n",
              "    }\n",
              "  </style>\n",
              "\n",
              "      <script>\n",
              "        const buttonEl =\n",
              "          document.querySelector('#df-5a033a1a-72a2-46bb-b262-37fd75b451d4 button.colab-df-convert');\n",
              "        buttonEl.style.display =\n",
              "          google.colab.kernel.accessAllowed ? 'block' : 'none';\n",
              "\n",
              "        async function convertToInteractive(key) {\n",
              "          const element = document.querySelector('#df-5a033a1a-72a2-46bb-b262-37fd75b451d4');\n",
              "          const dataTable =\n",
              "            await google.colab.kernel.invokeFunction('convertToInteractive',\n",
              "                                                     [key], {});\n",
              "          if (!dataTable) return;\n",
              "\n",
              "          const docLinkHtml = 'Like what you see? Visit the ' +\n",
              "            '<a target=\"_blank\" href=https://colab.research.google.com/notebooks/data_table.ipynb>data table notebook</a>'\n",
              "            + ' to learn more about interactive tables.';\n",
              "          element.innerHTML = '';\n",
              "          dataTable['output_type'] = 'display_data';\n",
              "          await google.colab.output.renderOutput(dataTable, element);\n",
              "          const docLink = document.createElement('div');\n",
              "          docLink.innerHTML = docLinkHtml;\n",
              "          element.appendChild(docLink);\n",
              "        }\n",
              "      </script>\n",
              "    </div>\n",
              "  </div>\n",
              "  "
            ]
          },
          "metadata": {},
          "execution_count": 120
        }
      ]
    },
    {
      "cell_type": "markdown",
      "source": [
        "## minutes"
      ],
      "metadata": {
        "id": "PEE2AdSMmxct"
      }
    },
    {
      "cell_type": "code",
      "source": [
        "data_t_min = {'Method':['MEAN','Miss Forest','KNN','MICE-LR','MICE-SVM','EM'],'10%':[t10_MEAN/60,t10_MF/60,t10_KNN/60,t10_LR/60,t10_SVM/60,t10_EM/60],\n",
        "      '20%':[t20_MEAN/60,t20_MF/60,t20_KNN/60,t20_LR/60,t20_SVM/60,t20_EM/60],'30%':[t30_MEAN/60,t30_MF/60,t30_KNN/60,t30_LR/60,t30_SVM/60,t30_EM/60]\n",
        "      ,'40%':[t40_MEAN/60,t40_MF/60,t40_KNN/60,t40_LR/60,t40_SVM/60,t40_EM/60],'50%':[t50_MEAN/60,t50_MF/60,t50_KNN/60,t50_LR/60,t50_SVM/60,t50_EM/60],\n",
        "      '60%':[t60_MEAN/60,t60_MF/60,t60_KNN/60,t60_LR/60,t60_SVM/60,t60_EM/60]}"
      ],
      "metadata": {
        "id": "xEv_GdmhmxSW"
      },
      "execution_count": 121,
      "outputs": []
    },
    {
      "cell_type": "code",
      "source": [
        "data_minutes = pd.DataFrame.from_dict(data_t_min)\n",
        "data_minutes"
      ],
      "metadata": {
        "id": "1Prs79NnmxMd",
        "colab": {
          "base_uri": "https://localhost:8080/",
          "height": 237
        },
        "outputId": "f1ac021f-5f2e-4e2c-ca7c-e0f7b88c94b4"
      },
      "execution_count": 122,
      "outputs": [
        {
          "output_type": "execute_result",
          "data": {
            "text/plain": [
              "        Method        10%        20%        30%        40%        50%  \\\n",
              "0         MEAN   0.070271   0.069039   0.074077   0.072538   0.075918   \n",
              "1  Miss Forest  12.808398  12.666811  12.126750  12.454243  12.516001   \n",
              "2          KNN   0.083060   0.083973   0.085766   0.098281   0.167363   \n",
              "3      MICE-LR   0.985626   0.950971   0.993672   1.058714   1.015822   \n",
              "4     MICE-SVM   2.028175   2.047763   2.040092   2.139881   2.049096   \n",
              "5           EM   0.110362   0.205483   0.302332   0.428818   0.472798   \n",
              "\n",
              "         60%  \n",
              "0   0.072400  \n",
              "1  11.862853  \n",
              "2   0.156212  \n",
              "3   0.996450  \n",
              "4   2.025128  \n",
              "5   0.542196  "
            ],
            "text/html": [
              "\n",
              "  <div id=\"df-2dbbbdb5-bded-4533-81f4-09d7592122a5\">\n",
              "    <div class=\"colab-df-container\">\n",
              "      <div>\n",
              "<style scoped>\n",
              "    .dataframe tbody tr th:only-of-type {\n",
              "        vertical-align: middle;\n",
              "    }\n",
              "\n",
              "    .dataframe tbody tr th {\n",
              "        vertical-align: top;\n",
              "    }\n",
              "\n",
              "    .dataframe thead th {\n",
              "        text-align: right;\n",
              "    }\n",
              "</style>\n",
              "<table border=\"1\" class=\"dataframe\">\n",
              "  <thead>\n",
              "    <tr style=\"text-align: right;\">\n",
              "      <th></th>\n",
              "      <th>Method</th>\n",
              "      <th>10%</th>\n",
              "      <th>20%</th>\n",
              "      <th>30%</th>\n",
              "      <th>40%</th>\n",
              "      <th>50%</th>\n",
              "      <th>60%</th>\n",
              "    </tr>\n",
              "  </thead>\n",
              "  <tbody>\n",
              "    <tr>\n",
              "      <th>0</th>\n",
              "      <td>MEAN</td>\n",
              "      <td>0.070271</td>\n",
              "      <td>0.069039</td>\n",
              "      <td>0.074077</td>\n",
              "      <td>0.072538</td>\n",
              "      <td>0.075918</td>\n",
              "      <td>0.072400</td>\n",
              "    </tr>\n",
              "    <tr>\n",
              "      <th>1</th>\n",
              "      <td>Miss Forest</td>\n",
              "      <td>12.808398</td>\n",
              "      <td>12.666811</td>\n",
              "      <td>12.126750</td>\n",
              "      <td>12.454243</td>\n",
              "      <td>12.516001</td>\n",
              "      <td>11.862853</td>\n",
              "    </tr>\n",
              "    <tr>\n",
              "      <th>2</th>\n",
              "      <td>KNN</td>\n",
              "      <td>0.083060</td>\n",
              "      <td>0.083973</td>\n",
              "      <td>0.085766</td>\n",
              "      <td>0.098281</td>\n",
              "      <td>0.167363</td>\n",
              "      <td>0.156212</td>\n",
              "    </tr>\n",
              "    <tr>\n",
              "      <th>3</th>\n",
              "      <td>MICE-LR</td>\n",
              "      <td>0.985626</td>\n",
              "      <td>0.950971</td>\n",
              "      <td>0.993672</td>\n",
              "      <td>1.058714</td>\n",
              "      <td>1.015822</td>\n",
              "      <td>0.996450</td>\n",
              "    </tr>\n",
              "    <tr>\n",
              "      <th>4</th>\n",
              "      <td>MICE-SVM</td>\n",
              "      <td>2.028175</td>\n",
              "      <td>2.047763</td>\n",
              "      <td>2.040092</td>\n",
              "      <td>2.139881</td>\n",
              "      <td>2.049096</td>\n",
              "      <td>2.025128</td>\n",
              "    </tr>\n",
              "    <tr>\n",
              "      <th>5</th>\n",
              "      <td>EM</td>\n",
              "      <td>0.110362</td>\n",
              "      <td>0.205483</td>\n",
              "      <td>0.302332</td>\n",
              "      <td>0.428818</td>\n",
              "      <td>0.472798</td>\n",
              "      <td>0.542196</td>\n",
              "    </tr>\n",
              "  </tbody>\n",
              "</table>\n",
              "</div>\n",
              "      <button class=\"colab-df-convert\" onclick=\"convertToInteractive('df-2dbbbdb5-bded-4533-81f4-09d7592122a5')\"\n",
              "              title=\"Convert this dataframe to an interactive table.\"\n",
              "              style=\"display:none;\">\n",
              "        \n",
              "  <svg xmlns=\"http://www.w3.org/2000/svg\" height=\"24px\"viewBox=\"0 0 24 24\"\n",
              "       width=\"24px\">\n",
              "    <path d=\"M0 0h24v24H0V0z\" fill=\"none\"/>\n",
              "    <path d=\"M18.56 5.44l.94 2.06.94-2.06 2.06-.94-2.06-.94-.94-2.06-.94 2.06-2.06.94zm-11 1L8.5 8.5l.94-2.06 2.06-.94-2.06-.94L8.5 2.5l-.94 2.06-2.06.94zm10 10l.94 2.06.94-2.06 2.06-.94-2.06-.94-.94-2.06-.94 2.06-2.06.94z\"/><path d=\"M17.41 7.96l-1.37-1.37c-.4-.4-.92-.59-1.43-.59-.52 0-1.04.2-1.43.59L10.3 9.45l-7.72 7.72c-.78.78-.78 2.05 0 2.83L4 21.41c.39.39.9.59 1.41.59.51 0 1.02-.2 1.41-.59l7.78-7.78 2.81-2.81c.8-.78.8-2.07 0-2.86zM5.41 20L4 18.59l7.72-7.72 1.47 1.35L5.41 20z\"/>\n",
              "  </svg>\n",
              "      </button>\n",
              "      \n",
              "  <style>\n",
              "    .colab-df-container {\n",
              "      display:flex;\n",
              "      flex-wrap:wrap;\n",
              "      gap: 12px;\n",
              "    }\n",
              "\n",
              "    .colab-df-convert {\n",
              "      background-color: #E8F0FE;\n",
              "      border: none;\n",
              "      border-radius: 50%;\n",
              "      cursor: pointer;\n",
              "      display: none;\n",
              "      fill: #1967D2;\n",
              "      height: 32px;\n",
              "      padding: 0 0 0 0;\n",
              "      width: 32px;\n",
              "    }\n",
              "\n",
              "    .colab-df-convert:hover {\n",
              "      background-color: #E2EBFA;\n",
              "      box-shadow: 0px 1px 2px rgba(60, 64, 67, 0.3), 0px 1px 3px 1px rgba(60, 64, 67, 0.15);\n",
              "      fill: #174EA6;\n",
              "    }\n",
              "\n",
              "    [theme=dark] .colab-df-convert {\n",
              "      background-color: #3B4455;\n",
              "      fill: #D2E3FC;\n",
              "    }\n",
              "\n",
              "    [theme=dark] .colab-df-convert:hover {\n",
              "      background-color: #434B5C;\n",
              "      box-shadow: 0px 1px 3px 1px rgba(0, 0, 0, 0.15);\n",
              "      filter: drop-shadow(0px 1px 2px rgba(0, 0, 0, 0.3));\n",
              "      fill: #FFFFFF;\n",
              "    }\n",
              "  </style>\n",
              "\n",
              "      <script>\n",
              "        const buttonEl =\n",
              "          document.querySelector('#df-2dbbbdb5-bded-4533-81f4-09d7592122a5 button.colab-df-convert');\n",
              "        buttonEl.style.display =\n",
              "          google.colab.kernel.accessAllowed ? 'block' : 'none';\n",
              "\n",
              "        async function convertToInteractive(key) {\n",
              "          const element = document.querySelector('#df-2dbbbdb5-bded-4533-81f4-09d7592122a5');\n",
              "          const dataTable =\n",
              "            await google.colab.kernel.invokeFunction('convertToInteractive',\n",
              "                                                     [key], {});\n",
              "          if (!dataTable) return;\n",
              "\n",
              "          const docLinkHtml = 'Like what you see? Visit the ' +\n",
              "            '<a target=\"_blank\" href=https://colab.research.google.com/notebooks/data_table.ipynb>data table notebook</a>'\n",
              "            + ' to learn more about interactive tables.';\n",
              "          element.innerHTML = '';\n",
              "          dataTable['output_type'] = 'display_data';\n",
              "          await google.colab.output.renderOutput(dataTable, element);\n",
              "          const docLink = document.createElement('div');\n",
              "          docLink.innerHTML = docLinkHtml;\n",
              "          element.appendChild(docLink);\n",
              "        }\n",
              "      </script>\n",
              "    </div>\n",
              "  </div>\n",
              "  "
            ]
          },
          "metadata": {},
          "execution_count": 122
        }
      ]
    }
  ]
}