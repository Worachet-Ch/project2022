{
  "nbformat": 4,
  "nbformat_minor": 0,
  "metadata": {
    "colab": {
      "provenance": [],
      "machine_shape": "hm",
      "authorship_tag": "ABX9TyM26FUxBsxiaLLMPmI0j3eH",
      "include_colab_link": true
    },
    "kernelspec": {
      "name": "python3",
      "display_name": "Python 3"
    },
    "language_info": {
      "name": "python"
    },
    "accelerator": "GPU",
    "gpuClass": "standard"
  },
  "cells": [
    {
      "cell_type": "markdown",
      "metadata": {
        "id": "view-in-github",
        "colab_type": "text"
      },
      "source": [
        "<a href=\"https://colab.research.google.com/github/Worachet-Ch/project2022/blob/main/random_nan_and_imputation_with_Fat_Mass_variable.ipynb\" target=\"_parent\"><img src=\"https://colab.research.google.com/assets/colab-badge.svg\" alt=\"Open In Colab\"/></a>"
      ]
    },
    {
      "cell_type": "code",
      "execution_count": 1,
      "metadata": {
        "id": "WlE8oT5Ng_NP"
      },
      "outputs": [],
      "source": [
        "import pandas as pd #นำเข้า pandas แทนที่ด้วย pd\n",
        "import os# os ใช้จัดการกับไฟล์ ว่าอยู่ที่ไหน\n",
        "import numpy as np\n",
        "import seaborn as sns\n",
        "import matplotlib.pyplot as plt\n",
        "import missingno as mno\n",
        "import missingno as msno\n",
        "from sklearn import linear_model\n",
        "%matplotlib inline\n",
        "import matplotlib\n",
        "import sklearn \n",
        "from sklearn.impute import KNNImputer\n",
        "from sklearn.metrics import mean_squared_error\n",
        "import time"
      ]
    },
    {
      "cell_type": "code",
      "source": [
        "from google.colab import drive #เชื่อม Google drive\n",
        "drive.mount('/content/drive')\n",
        "path = '/content/drive/My Drive/project' #เข้า drive\n",
        "data_file_path = os.path.join(path,'data_notmissing.csv') #ไปที่ไฟล์ confirmed-cases-since-280265.csv\n",
        "data = pd.read_csv(data_file_path) #อ่านไฟล์ csv"
      ],
      "metadata": {
        "id": "GDkw1dtXhLP4",
        "colab": {
          "base_uri": "https://localhost:8080/"
        },
        "outputId": "e629d78f-6727-47d6-bca9-f3f3959a6266"
      },
      "execution_count": 2,
      "outputs": [
        {
          "output_type": "stream",
          "name": "stdout",
          "text": [
            "Mounted at /content/drive\n"
          ]
        }
      ]
    },
    {
      "cell_type": "code",
      "source": [
        "data.drop({'Unnamed: 0','telomere length (kb) '},1,inplace = True)"
      ],
      "metadata": {
        "id": "o6Qf5r-uhMFj",
        "colab": {
          "base_uri": "https://localhost:8080/"
        },
        "outputId": "0b082876-90aa-4034-a393-03d46f2b0726"
      },
      "execution_count": 3,
      "outputs": [
        {
          "output_type": "stream",
          "name": "stderr",
          "text": [
            "<ipython-input-3-4cc622f169ae>:1: FutureWarning: In a future version of pandas all arguments of DataFrame.drop except for the argument 'labels' will be keyword-only\n",
            "  data.drop({'Unnamed: 0','telomere length (kb) '},1,inplace = True)\n"
          ]
        }
      ]
    },
    {
      "cell_type": "code",
      "source": [
        "data"
      ],
      "metadata": {
        "id": "wDnYHJnYhNRe",
        "colab": {
          "base_uri": "https://localhost:8080/",
          "height": 423
        },
        "outputId": "a8eaebdc-acde-4278-f711-7e3620fc6c9f"
      },
      "execution_count": 4,
      "outputs": [
        {
          "output_type": "execute_result",
          "data": {
            "text/plain": [
              "     Sex  AgeSYear  Weight  Height   BMI  Systolic  Diastolic  HeartRate  \\\n",
              "0      2      57.0    47.4   153.0  20.2     114.0       75.0       69.0   \n",
              "1      2      24.0    53.2   157.0  21.6     103.0       69.0       78.0   \n",
              "2      2      62.0    54.4   165.0  20.0      95.0       75.0       83.0   \n",
              "3      2      35.0    56.3   161.0  21.7      95.0       57.0       72.0   \n",
              "4      1      46.0    72.3   170.0  25.0     133.0       77.0      107.0   \n",
              "..   ...       ...     ...     ...   ...       ...        ...        ...   \n",
              "148    1      60.0    72.0   170.0  24.9     131.0       74.0       69.0   \n",
              "149    1      58.0    62.0   168.0  22.0     103.0       76.0       72.0   \n",
              "150    2      42.0    55.5   165.0  20.4     102.0       52.0       77.0   \n",
              "151    2      61.0    61.8   159.0  24.4     117.0       60.0       72.0   \n",
              "152    2      31.0    58.2   169.0  20.4     108.0       69.0       73.0   \n",
              "\n",
              "      SMM  Fat Mass  ...  003_Creatinine  004_Uric Acid  005_Cholesterol  \\\n",
              "0    19.3      12.5  ...             1.0            5.0            176.0   \n",
              "1    21.3      14.6  ...             0.8            5.2            159.0   \n",
              "2    21.6      15.2  ...             0.7            4.1            230.0   \n",
              "3    22.5      15.4  ...             0.6            5.0            198.0   \n",
              "4    29.2      19.0  ...             0.9            6.9            194.0   \n",
              "..    ...       ...  ...             ...            ...              ...   \n",
              "148  30.5      13.8  ...             0.9            6.9            182.0   \n",
              "149  27.8      11.9  ...             1.0            6.8            191.0   \n",
              "150  22.9      14.1  ...             0.8            4.7            212.0   \n",
              "151  23.4      19.2  ...             0.8            5.1            235.0   \n",
              "152  25.0      13.0  ...             0.7            4.3            200.0   \n",
              "\n",
              "     006_Triglyceride  008_HDL-C  009_LDL  010_AST  012_ALT  \\\n",
              "0                51.0       72.0     94.0     16.0     16.0   \n",
              "1                45.0       52.0     98.0     13.0     17.0   \n",
              "2                94.0       61.0    151.0     18.0     31.0   \n",
              "3                47.0       68.0    120.0     16.0     20.0   \n",
              "4                63.0       60.0    122.0     15.0     19.0   \n",
              "..                ...        ...      ...      ...      ...   \n",
              "148             179.0       39.0    107.0     36.0     31.0   \n",
              "149              62.0       47.0    132.0     16.0     33.0   \n",
              "150              68.0       63.0    135.0     11.0     16.0   \n",
              "151              66.0       56.0    166.0     15.0     23.0   \n",
              "152              44.0       56.0    135.0     14.0     21.0   \n",
              "\n",
              "     013_Alkaline Phos  071_HbA1c  \n",
              "0                 62.0        5.1  \n",
              "1                 50.0        5.4  \n",
              "2                 76.0        5.6  \n",
              "3                 35.0        5.1  \n",
              "4                 69.0        5.2  \n",
              "..                 ...        ...  \n",
              "148               79.0        6.5  \n",
              "149               42.0        6.8  \n",
              "150               33.0        4.8  \n",
              "151               44.0        5.4  \n",
              "152               31.0        4.7  \n",
              "\n",
              "[153 rows x 26 columns]"
            ],
            "text/html": [
              "\n",
              "  <div id=\"df-ae68430f-7a79-41f0-9a85-6cc321a57a9f\">\n",
              "    <div class=\"colab-df-container\">\n",
              "      <div>\n",
              "<style scoped>\n",
              "    .dataframe tbody tr th:only-of-type {\n",
              "        vertical-align: middle;\n",
              "    }\n",
              "\n",
              "    .dataframe tbody tr th {\n",
              "        vertical-align: top;\n",
              "    }\n",
              "\n",
              "    .dataframe thead th {\n",
              "        text-align: right;\n",
              "    }\n",
              "</style>\n",
              "<table border=\"1\" class=\"dataframe\">\n",
              "  <thead>\n",
              "    <tr style=\"text-align: right;\">\n",
              "      <th></th>\n",
              "      <th>Sex</th>\n",
              "      <th>AgeSYear</th>\n",
              "      <th>Weight</th>\n",
              "      <th>Height</th>\n",
              "      <th>BMI</th>\n",
              "      <th>Systolic</th>\n",
              "      <th>Diastolic</th>\n",
              "      <th>HeartRate</th>\n",
              "      <th>SMM</th>\n",
              "      <th>Fat Mass</th>\n",
              "      <th>...</th>\n",
              "      <th>003_Creatinine</th>\n",
              "      <th>004_Uric Acid</th>\n",
              "      <th>005_Cholesterol</th>\n",
              "      <th>006_Triglyceride</th>\n",
              "      <th>008_HDL-C</th>\n",
              "      <th>009_LDL</th>\n",
              "      <th>010_AST</th>\n",
              "      <th>012_ALT</th>\n",
              "      <th>013_Alkaline Phos</th>\n",
              "      <th>071_HbA1c</th>\n",
              "    </tr>\n",
              "  </thead>\n",
              "  <tbody>\n",
              "    <tr>\n",
              "      <th>0</th>\n",
              "      <td>2</td>\n",
              "      <td>57.0</td>\n",
              "      <td>47.4</td>\n",
              "      <td>153.0</td>\n",
              "      <td>20.2</td>\n",
              "      <td>114.0</td>\n",
              "      <td>75.0</td>\n",
              "      <td>69.0</td>\n",
              "      <td>19.3</td>\n",
              "      <td>12.5</td>\n",
              "      <td>...</td>\n",
              "      <td>1.0</td>\n",
              "      <td>5.0</td>\n",
              "      <td>176.0</td>\n",
              "      <td>51.0</td>\n",
              "      <td>72.0</td>\n",
              "      <td>94.0</td>\n",
              "      <td>16.0</td>\n",
              "      <td>16.0</td>\n",
              "      <td>62.0</td>\n",
              "      <td>5.1</td>\n",
              "    </tr>\n",
              "    <tr>\n",
              "      <th>1</th>\n",
              "      <td>2</td>\n",
              "      <td>24.0</td>\n",
              "      <td>53.2</td>\n",
              "      <td>157.0</td>\n",
              "      <td>21.6</td>\n",
              "      <td>103.0</td>\n",
              "      <td>69.0</td>\n",
              "      <td>78.0</td>\n",
              "      <td>21.3</td>\n",
              "      <td>14.6</td>\n",
              "      <td>...</td>\n",
              "      <td>0.8</td>\n",
              "      <td>5.2</td>\n",
              "      <td>159.0</td>\n",
              "      <td>45.0</td>\n",
              "      <td>52.0</td>\n",
              "      <td>98.0</td>\n",
              "      <td>13.0</td>\n",
              "      <td>17.0</td>\n",
              "      <td>50.0</td>\n",
              "      <td>5.4</td>\n",
              "    </tr>\n",
              "    <tr>\n",
              "      <th>2</th>\n",
              "      <td>2</td>\n",
              "      <td>62.0</td>\n",
              "      <td>54.4</td>\n",
              "      <td>165.0</td>\n",
              "      <td>20.0</td>\n",
              "      <td>95.0</td>\n",
              "      <td>75.0</td>\n",
              "      <td>83.0</td>\n",
              "      <td>21.6</td>\n",
              "      <td>15.2</td>\n",
              "      <td>...</td>\n",
              "      <td>0.7</td>\n",
              "      <td>4.1</td>\n",
              "      <td>230.0</td>\n",
              "      <td>94.0</td>\n",
              "      <td>61.0</td>\n",
              "      <td>151.0</td>\n",
              "      <td>18.0</td>\n",
              "      <td>31.0</td>\n",
              "      <td>76.0</td>\n",
              "      <td>5.6</td>\n",
              "    </tr>\n",
              "    <tr>\n",
              "      <th>3</th>\n",
              "      <td>2</td>\n",
              "      <td>35.0</td>\n",
              "      <td>56.3</td>\n",
              "      <td>161.0</td>\n",
              "      <td>21.7</td>\n",
              "      <td>95.0</td>\n",
              "      <td>57.0</td>\n",
              "      <td>72.0</td>\n",
              "      <td>22.5</td>\n",
              "      <td>15.4</td>\n",
              "      <td>...</td>\n",
              "      <td>0.6</td>\n",
              "      <td>5.0</td>\n",
              "      <td>198.0</td>\n",
              "      <td>47.0</td>\n",
              "      <td>68.0</td>\n",
              "      <td>120.0</td>\n",
              "      <td>16.0</td>\n",
              "      <td>20.0</td>\n",
              "      <td>35.0</td>\n",
              "      <td>5.1</td>\n",
              "    </tr>\n",
              "    <tr>\n",
              "      <th>4</th>\n",
              "      <td>1</td>\n",
              "      <td>46.0</td>\n",
              "      <td>72.3</td>\n",
              "      <td>170.0</td>\n",
              "      <td>25.0</td>\n",
              "      <td>133.0</td>\n",
              "      <td>77.0</td>\n",
              "      <td>107.0</td>\n",
              "      <td>29.2</td>\n",
              "      <td>19.0</td>\n",
              "      <td>...</td>\n",
              "      <td>0.9</td>\n",
              "      <td>6.9</td>\n",
              "      <td>194.0</td>\n",
              "      <td>63.0</td>\n",
              "      <td>60.0</td>\n",
              "      <td>122.0</td>\n",
              "      <td>15.0</td>\n",
              "      <td>19.0</td>\n",
              "      <td>69.0</td>\n",
              "      <td>5.2</td>\n",
              "    </tr>\n",
              "    <tr>\n",
              "      <th>...</th>\n",
              "      <td>...</td>\n",
              "      <td>...</td>\n",
              "      <td>...</td>\n",
              "      <td>...</td>\n",
              "      <td>...</td>\n",
              "      <td>...</td>\n",
              "      <td>...</td>\n",
              "      <td>...</td>\n",
              "      <td>...</td>\n",
              "      <td>...</td>\n",
              "      <td>...</td>\n",
              "      <td>...</td>\n",
              "      <td>...</td>\n",
              "      <td>...</td>\n",
              "      <td>...</td>\n",
              "      <td>...</td>\n",
              "      <td>...</td>\n",
              "      <td>...</td>\n",
              "      <td>...</td>\n",
              "      <td>...</td>\n",
              "      <td>...</td>\n",
              "    </tr>\n",
              "    <tr>\n",
              "      <th>148</th>\n",
              "      <td>1</td>\n",
              "      <td>60.0</td>\n",
              "      <td>72.0</td>\n",
              "      <td>170.0</td>\n",
              "      <td>24.9</td>\n",
              "      <td>131.0</td>\n",
              "      <td>74.0</td>\n",
              "      <td>69.0</td>\n",
              "      <td>30.5</td>\n",
              "      <td>13.8</td>\n",
              "      <td>...</td>\n",
              "      <td>0.9</td>\n",
              "      <td>6.9</td>\n",
              "      <td>182.0</td>\n",
              "      <td>179.0</td>\n",
              "      <td>39.0</td>\n",
              "      <td>107.0</td>\n",
              "      <td>36.0</td>\n",
              "      <td>31.0</td>\n",
              "      <td>79.0</td>\n",
              "      <td>6.5</td>\n",
              "    </tr>\n",
              "    <tr>\n",
              "      <th>149</th>\n",
              "      <td>1</td>\n",
              "      <td>58.0</td>\n",
              "      <td>62.0</td>\n",
              "      <td>168.0</td>\n",
              "      <td>22.0</td>\n",
              "      <td>103.0</td>\n",
              "      <td>76.0</td>\n",
              "      <td>72.0</td>\n",
              "      <td>27.8</td>\n",
              "      <td>11.9</td>\n",
              "      <td>...</td>\n",
              "      <td>1.0</td>\n",
              "      <td>6.8</td>\n",
              "      <td>191.0</td>\n",
              "      <td>62.0</td>\n",
              "      <td>47.0</td>\n",
              "      <td>132.0</td>\n",
              "      <td>16.0</td>\n",
              "      <td>33.0</td>\n",
              "      <td>42.0</td>\n",
              "      <td>6.8</td>\n",
              "    </tr>\n",
              "    <tr>\n",
              "      <th>150</th>\n",
              "      <td>2</td>\n",
              "      <td>42.0</td>\n",
              "      <td>55.5</td>\n",
              "      <td>165.0</td>\n",
              "      <td>20.4</td>\n",
              "      <td>102.0</td>\n",
              "      <td>52.0</td>\n",
              "      <td>77.0</td>\n",
              "      <td>22.9</td>\n",
              "      <td>14.1</td>\n",
              "      <td>...</td>\n",
              "      <td>0.8</td>\n",
              "      <td>4.7</td>\n",
              "      <td>212.0</td>\n",
              "      <td>68.0</td>\n",
              "      <td>63.0</td>\n",
              "      <td>135.0</td>\n",
              "      <td>11.0</td>\n",
              "      <td>16.0</td>\n",
              "      <td>33.0</td>\n",
              "      <td>4.8</td>\n",
              "    </tr>\n",
              "    <tr>\n",
              "      <th>151</th>\n",
              "      <td>2</td>\n",
              "      <td>61.0</td>\n",
              "      <td>61.8</td>\n",
              "      <td>159.0</td>\n",
              "      <td>24.4</td>\n",
              "      <td>117.0</td>\n",
              "      <td>60.0</td>\n",
              "      <td>72.0</td>\n",
              "      <td>23.4</td>\n",
              "      <td>19.2</td>\n",
              "      <td>...</td>\n",
              "      <td>0.8</td>\n",
              "      <td>5.1</td>\n",
              "      <td>235.0</td>\n",
              "      <td>66.0</td>\n",
              "      <td>56.0</td>\n",
              "      <td>166.0</td>\n",
              "      <td>15.0</td>\n",
              "      <td>23.0</td>\n",
              "      <td>44.0</td>\n",
              "      <td>5.4</td>\n",
              "    </tr>\n",
              "    <tr>\n",
              "      <th>152</th>\n",
              "      <td>2</td>\n",
              "      <td>31.0</td>\n",
              "      <td>58.2</td>\n",
              "      <td>169.0</td>\n",
              "      <td>20.4</td>\n",
              "      <td>108.0</td>\n",
              "      <td>69.0</td>\n",
              "      <td>73.0</td>\n",
              "      <td>25.0</td>\n",
              "      <td>13.0</td>\n",
              "      <td>...</td>\n",
              "      <td>0.7</td>\n",
              "      <td>4.3</td>\n",
              "      <td>200.0</td>\n",
              "      <td>44.0</td>\n",
              "      <td>56.0</td>\n",
              "      <td>135.0</td>\n",
              "      <td>14.0</td>\n",
              "      <td>21.0</td>\n",
              "      <td>31.0</td>\n",
              "      <td>4.7</td>\n",
              "    </tr>\n",
              "  </tbody>\n",
              "</table>\n",
              "<p>153 rows × 26 columns</p>\n",
              "</div>\n",
              "      <button class=\"colab-df-convert\" onclick=\"convertToInteractive('df-ae68430f-7a79-41f0-9a85-6cc321a57a9f')\"\n",
              "              title=\"Convert this dataframe to an interactive table.\"\n",
              "              style=\"display:none;\">\n",
              "        \n",
              "  <svg xmlns=\"http://www.w3.org/2000/svg\" height=\"24px\"viewBox=\"0 0 24 24\"\n",
              "       width=\"24px\">\n",
              "    <path d=\"M0 0h24v24H0V0z\" fill=\"none\"/>\n",
              "    <path d=\"M18.56 5.44l.94 2.06.94-2.06 2.06-.94-2.06-.94-.94-2.06-.94 2.06-2.06.94zm-11 1L8.5 8.5l.94-2.06 2.06-.94-2.06-.94L8.5 2.5l-.94 2.06-2.06.94zm10 10l.94 2.06.94-2.06 2.06-.94-2.06-.94-.94-2.06-.94 2.06-2.06.94z\"/><path d=\"M17.41 7.96l-1.37-1.37c-.4-.4-.92-.59-1.43-.59-.52 0-1.04.2-1.43.59L10.3 9.45l-7.72 7.72c-.78.78-.78 2.05 0 2.83L4 21.41c.39.39.9.59 1.41.59.51 0 1.02-.2 1.41-.59l7.78-7.78 2.81-2.81c.8-.78.8-2.07 0-2.86zM5.41 20L4 18.59l7.72-7.72 1.47 1.35L5.41 20z\"/>\n",
              "  </svg>\n",
              "      </button>\n",
              "      \n",
              "  <style>\n",
              "    .colab-df-container {\n",
              "      display:flex;\n",
              "      flex-wrap:wrap;\n",
              "      gap: 12px;\n",
              "    }\n",
              "\n",
              "    .colab-df-convert {\n",
              "      background-color: #E8F0FE;\n",
              "      border: none;\n",
              "      border-radius: 50%;\n",
              "      cursor: pointer;\n",
              "      display: none;\n",
              "      fill: #1967D2;\n",
              "      height: 32px;\n",
              "      padding: 0 0 0 0;\n",
              "      width: 32px;\n",
              "    }\n",
              "\n",
              "    .colab-df-convert:hover {\n",
              "      background-color: #E2EBFA;\n",
              "      box-shadow: 0px 1px 2px rgba(60, 64, 67, 0.3), 0px 1px 3px 1px rgba(60, 64, 67, 0.15);\n",
              "      fill: #174EA6;\n",
              "    }\n",
              "\n",
              "    [theme=dark] .colab-df-convert {\n",
              "      background-color: #3B4455;\n",
              "      fill: #D2E3FC;\n",
              "    }\n",
              "\n",
              "    [theme=dark] .colab-df-convert:hover {\n",
              "      background-color: #434B5C;\n",
              "      box-shadow: 0px 1px 3px 1px rgba(0, 0, 0, 0.15);\n",
              "      filter: drop-shadow(0px 1px 2px rgba(0, 0, 0, 0.3));\n",
              "      fill: #FFFFFF;\n",
              "    }\n",
              "  </style>\n",
              "\n",
              "      <script>\n",
              "        const buttonEl =\n",
              "          document.querySelector('#df-ae68430f-7a79-41f0-9a85-6cc321a57a9f button.colab-df-convert');\n",
              "        buttonEl.style.display =\n",
              "          google.colab.kernel.accessAllowed ? 'block' : 'none';\n",
              "\n",
              "        async function convertToInteractive(key) {\n",
              "          const element = document.querySelector('#df-ae68430f-7a79-41f0-9a85-6cc321a57a9f');\n",
              "          const dataTable =\n",
              "            await google.colab.kernel.invokeFunction('convertToInteractive',\n",
              "                                                     [key], {});\n",
              "          if (!dataTable) return;\n",
              "\n",
              "          const docLinkHtml = 'Like what you see? Visit the ' +\n",
              "            '<a target=\"_blank\" href=https://colab.research.google.com/notebooks/data_table.ipynb>data table notebook</a>'\n",
              "            + ' to learn more about interactive tables.';\n",
              "          element.innerHTML = '';\n",
              "          dataTable['output_type'] = 'display_data';\n",
              "          await google.colab.output.renderOutput(dataTable, element);\n",
              "          const docLink = document.createElement('div');\n",
              "          docLink.innerHTML = docLinkHtml;\n",
              "          element.appendChild(docLink);\n",
              "        }\n",
              "      </script>\n",
              "    </div>\n",
              "  </div>\n",
              "  "
            ]
          },
          "metadata": {},
          "execution_count": 4
        }
      ]
    },
    {
      "cell_type": "markdown",
      "source": [
        "# 10 % random nan "
      ],
      "metadata": {
        "id": "EaiTwqv1RA0w"
      }
    },
    {
      "cell_type": "code",
      "source": [
        "t_start = time.time()\n",
        "for i in range(1,1001):\n",
        "  globals()[f'FatMass10_{i}'] = data.copy() # for loop variable name\n",
        "  np.random.seed(i) # for loop seed\n",
        "  n = int((153*10/100)) \n",
        "  index_nan = np.random.choice(globals()[f'FatMass10_{i}']['Fat Mass'].size, n, replace=False) #globals()[name dataframe][column name].size\n",
        "  globals()[f'FatMass10_{i}']['Fat Mass'].ravel()[index_nan] = np.nan\n",
        "t_end = time.time()\n",
        "print(f'เวลาที่ใช้ในการประมวลผล {t_end- t_start} วินาที')\n",
        "print(f'เวลาที่ใช้ในการประมวลผล {(t_end- t_start)/60} นาที')"
      ],
      "metadata": {
        "id": "4nEkEiZP2gLT",
        "colab": {
          "base_uri": "https://localhost:8080/"
        },
        "outputId": "02d5e304-7440-4286-d387-a02ce959601d"
      },
      "execution_count": 5,
      "outputs": [
        {
          "output_type": "stream",
          "name": "stdout",
          "text": [
            "เวลาที่ใช้ในการประมวลผล 0.23801422119140625 วินาที\n",
            "เวลาที่ใช้ในการประมวลผล 0.003966903686523438 นาที\n"
          ]
        }
      ]
    },
    {
      "cell_type": "code",
      "source": [
        "FatMass10_1"
      ],
      "metadata": {
        "id": "qBZ1V4NtQrRp",
        "colab": {
          "base_uri": "https://localhost:8080/",
          "height": 423
        },
        "outputId": "72daed70-0c50-427d-ee37-de25c803f005"
      },
      "execution_count": 6,
      "outputs": [
        {
          "output_type": "execute_result",
          "data": {
            "text/plain": [
              "     Sex  AgeSYear  Weight  Height   BMI  Systolic  Diastolic  HeartRate  \\\n",
              "0      2      57.0    47.4   153.0  20.2     114.0       75.0       69.0   \n",
              "1      2      24.0    53.2   157.0  21.6     103.0       69.0       78.0   \n",
              "2      2      62.0    54.4   165.0  20.0      95.0       75.0       83.0   \n",
              "3      2      35.0    56.3   161.0  21.7      95.0       57.0       72.0   \n",
              "4      1      46.0    72.3   170.0  25.0     133.0       77.0      107.0   \n",
              "..   ...       ...     ...     ...   ...       ...        ...        ...   \n",
              "148    1      60.0    72.0   170.0  24.9     131.0       74.0       69.0   \n",
              "149    1      58.0    62.0   168.0  22.0     103.0       76.0       72.0   \n",
              "150    2      42.0    55.5   165.0  20.4     102.0       52.0       77.0   \n",
              "151    2      61.0    61.8   159.0  24.4     117.0       60.0       72.0   \n",
              "152    2      31.0    58.2   169.0  20.4     108.0       69.0       73.0   \n",
              "\n",
              "      SMM  Fat Mass  ...  003_Creatinine  004_Uric Acid  005_Cholesterol  \\\n",
              "0    19.3      12.5  ...             1.0            5.0            176.0   \n",
              "1    21.3      14.6  ...             0.8            5.2            159.0   \n",
              "2    21.6      15.2  ...             0.7            4.1            230.0   \n",
              "3    22.5      15.4  ...             0.6            5.0            198.0   \n",
              "4    29.2      19.0  ...             0.9            6.9            194.0   \n",
              "..    ...       ...  ...             ...            ...              ...   \n",
              "148  30.5      13.8  ...             0.9            6.9            182.0   \n",
              "149  27.8      11.9  ...             1.0            6.8            191.0   \n",
              "150  22.9      14.1  ...             0.8            4.7            212.0   \n",
              "151  23.4      19.2  ...             0.8            5.1            235.0   \n",
              "152  25.0      13.0  ...             0.7            4.3            200.0   \n",
              "\n",
              "     006_Triglyceride  008_HDL-C  009_LDL  010_AST  012_ALT  \\\n",
              "0                51.0       72.0     94.0     16.0     16.0   \n",
              "1                45.0       52.0     98.0     13.0     17.0   \n",
              "2                94.0       61.0    151.0     18.0     31.0   \n",
              "3                47.0       68.0    120.0     16.0     20.0   \n",
              "4                63.0       60.0    122.0     15.0     19.0   \n",
              "..                ...        ...      ...      ...      ...   \n",
              "148             179.0       39.0    107.0     36.0     31.0   \n",
              "149              62.0       47.0    132.0     16.0     33.0   \n",
              "150              68.0       63.0    135.0     11.0     16.0   \n",
              "151              66.0       56.0    166.0     15.0     23.0   \n",
              "152              44.0       56.0    135.0     14.0     21.0   \n",
              "\n",
              "     013_Alkaline Phos  071_HbA1c  \n",
              "0                 62.0        5.1  \n",
              "1                 50.0        5.4  \n",
              "2                 76.0        5.6  \n",
              "3                 35.0        5.1  \n",
              "4                 69.0        5.2  \n",
              "..                 ...        ...  \n",
              "148               79.0        6.5  \n",
              "149               42.0        6.8  \n",
              "150               33.0        4.8  \n",
              "151               44.0        5.4  \n",
              "152               31.0        4.7  \n",
              "\n",
              "[153 rows x 26 columns]"
            ],
            "text/html": [
              "\n",
              "  <div id=\"df-c8297966-81e8-45ab-96de-0ff9bc3e7b7d\">\n",
              "    <div class=\"colab-df-container\">\n",
              "      <div>\n",
              "<style scoped>\n",
              "    .dataframe tbody tr th:only-of-type {\n",
              "        vertical-align: middle;\n",
              "    }\n",
              "\n",
              "    .dataframe tbody tr th {\n",
              "        vertical-align: top;\n",
              "    }\n",
              "\n",
              "    .dataframe thead th {\n",
              "        text-align: right;\n",
              "    }\n",
              "</style>\n",
              "<table border=\"1\" class=\"dataframe\">\n",
              "  <thead>\n",
              "    <tr style=\"text-align: right;\">\n",
              "      <th></th>\n",
              "      <th>Sex</th>\n",
              "      <th>AgeSYear</th>\n",
              "      <th>Weight</th>\n",
              "      <th>Height</th>\n",
              "      <th>BMI</th>\n",
              "      <th>Systolic</th>\n",
              "      <th>Diastolic</th>\n",
              "      <th>HeartRate</th>\n",
              "      <th>SMM</th>\n",
              "      <th>Fat Mass</th>\n",
              "      <th>...</th>\n",
              "      <th>003_Creatinine</th>\n",
              "      <th>004_Uric Acid</th>\n",
              "      <th>005_Cholesterol</th>\n",
              "      <th>006_Triglyceride</th>\n",
              "      <th>008_HDL-C</th>\n",
              "      <th>009_LDL</th>\n",
              "      <th>010_AST</th>\n",
              "      <th>012_ALT</th>\n",
              "      <th>013_Alkaline Phos</th>\n",
              "      <th>071_HbA1c</th>\n",
              "    </tr>\n",
              "  </thead>\n",
              "  <tbody>\n",
              "    <tr>\n",
              "      <th>0</th>\n",
              "      <td>2</td>\n",
              "      <td>57.0</td>\n",
              "      <td>47.4</td>\n",
              "      <td>153.0</td>\n",
              "      <td>20.2</td>\n",
              "      <td>114.0</td>\n",
              "      <td>75.0</td>\n",
              "      <td>69.0</td>\n",
              "      <td>19.3</td>\n",
              "      <td>12.5</td>\n",
              "      <td>...</td>\n",
              "      <td>1.0</td>\n",
              "      <td>5.0</td>\n",
              "      <td>176.0</td>\n",
              "      <td>51.0</td>\n",
              "      <td>72.0</td>\n",
              "      <td>94.0</td>\n",
              "      <td>16.0</td>\n",
              "      <td>16.0</td>\n",
              "      <td>62.0</td>\n",
              "      <td>5.1</td>\n",
              "    </tr>\n",
              "    <tr>\n",
              "      <th>1</th>\n",
              "      <td>2</td>\n",
              "      <td>24.0</td>\n",
              "      <td>53.2</td>\n",
              "      <td>157.0</td>\n",
              "      <td>21.6</td>\n",
              "      <td>103.0</td>\n",
              "      <td>69.0</td>\n",
              "      <td>78.0</td>\n",
              "      <td>21.3</td>\n",
              "      <td>14.6</td>\n",
              "      <td>...</td>\n",
              "      <td>0.8</td>\n",
              "      <td>5.2</td>\n",
              "      <td>159.0</td>\n",
              "      <td>45.0</td>\n",
              "      <td>52.0</td>\n",
              "      <td>98.0</td>\n",
              "      <td>13.0</td>\n",
              "      <td>17.0</td>\n",
              "      <td>50.0</td>\n",
              "      <td>5.4</td>\n",
              "    </tr>\n",
              "    <tr>\n",
              "      <th>2</th>\n",
              "      <td>2</td>\n",
              "      <td>62.0</td>\n",
              "      <td>54.4</td>\n",
              "      <td>165.0</td>\n",
              "      <td>20.0</td>\n",
              "      <td>95.0</td>\n",
              "      <td>75.0</td>\n",
              "      <td>83.0</td>\n",
              "      <td>21.6</td>\n",
              "      <td>15.2</td>\n",
              "      <td>...</td>\n",
              "      <td>0.7</td>\n",
              "      <td>4.1</td>\n",
              "      <td>230.0</td>\n",
              "      <td>94.0</td>\n",
              "      <td>61.0</td>\n",
              "      <td>151.0</td>\n",
              "      <td>18.0</td>\n",
              "      <td>31.0</td>\n",
              "      <td>76.0</td>\n",
              "      <td>5.6</td>\n",
              "    </tr>\n",
              "    <tr>\n",
              "      <th>3</th>\n",
              "      <td>2</td>\n",
              "      <td>35.0</td>\n",
              "      <td>56.3</td>\n",
              "      <td>161.0</td>\n",
              "      <td>21.7</td>\n",
              "      <td>95.0</td>\n",
              "      <td>57.0</td>\n",
              "      <td>72.0</td>\n",
              "      <td>22.5</td>\n",
              "      <td>15.4</td>\n",
              "      <td>...</td>\n",
              "      <td>0.6</td>\n",
              "      <td>5.0</td>\n",
              "      <td>198.0</td>\n",
              "      <td>47.0</td>\n",
              "      <td>68.0</td>\n",
              "      <td>120.0</td>\n",
              "      <td>16.0</td>\n",
              "      <td>20.0</td>\n",
              "      <td>35.0</td>\n",
              "      <td>5.1</td>\n",
              "    </tr>\n",
              "    <tr>\n",
              "      <th>4</th>\n",
              "      <td>1</td>\n",
              "      <td>46.0</td>\n",
              "      <td>72.3</td>\n",
              "      <td>170.0</td>\n",
              "      <td>25.0</td>\n",
              "      <td>133.0</td>\n",
              "      <td>77.0</td>\n",
              "      <td>107.0</td>\n",
              "      <td>29.2</td>\n",
              "      <td>19.0</td>\n",
              "      <td>...</td>\n",
              "      <td>0.9</td>\n",
              "      <td>6.9</td>\n",
              "      <td>194.0</td>\n",
              "      <td>63.0</td>\n",
              "      <td>60.0</td>\n",
              "      <td>122.0</td>\n",
              "      <td>15.0</td>\n",
              "      <td>19.0</td>\n",
              "      <td>69.0</td>\n",
              "      <td>5.2</td>\n",
              "    </tr>\n",
              "    <tr>\n",
              "      <th>...</th>\n",
              "      <td>...</td>\n",
              "      <td>...</td>\n",
              "      <td>...</td>\n",
              "      <td>...</td>\n",
              "      <td>...</td>\n",
              "      <td>...</td>\n",
              "      <td>...</td>\n",
              "      <td>...</td>\n",
              "      <td>...</td>\n",
              "      <td>...</td>\n",
              "      <td>...</td>\n",
              "      <td>...</td>\n",
              "      <td>...</td>\n",
              "      <td>...</td>\n",
              "      <td>...</td>\n",
              "      <td>...</td>\n",
              "      <td>...</td>\n",
              "      <td>...</td>\n",
              "      <td>...</td>\n",
              "      <td>...</td>\n",
              "      <td>...</td>\n",
              "    </tr>\n",
              "    <tr>\n",
              "      <th>148</th>\n",
              "      <td>1</td>\n",
              "      <td>60.0</td>\n",
              "      <td>72.0</td>\n",
              "      <td>170.0</td>\n",
              "      <td>24.9</td>\n",
              "      <td>131.0</td>\n",
              "      <td>74.0</td>\n",
              "      <td>69.0</td>\n",
              "      <td>30.5</td>\n",
              "      <td>13.8</td>\n",
              "      <td>...</td>\n",
              "      <td>0.9</td>\n",
              "      <td>6.9</td>\n",
              "      <td>182.0</td>\n",
              "      <td>179.0</td>\n",
              "      <td>39.0</td>\n",
              "      <td>107.0</td>\n",
              "      <td>36.0</td>\n",
              "      <td>31.0</td>\n",
              "      <td>79.0</td>\n",
              "      <td>6.5</td>\n",
              "    </tr>\n",
              "    <tr>\n",
              "      <th>149</th>\n",
              "      <td>1</td>\n",
              "      <td>58.0</td>\n",
              "      <td>62.0</td>\n",
              "      <td>168.0</td>\n",
              "      <td>22.0</td>\n",
              "      <td>103.0</td>\n",
              "      <td>76.0</td>\n",
              "      <td>72.0</td>\n",
              "      <td>27.8</td>\n",
              "      <td>11.9</td>\n",
              "      <td>...</td>\n",
              "      <td>1.0</td>\n",
              "      <td>6.8</td>\n",
              "      <td>191.0</td>\n",
              "      <td>62.0</td>\n",
              "      <td>47.0</td>\n",
              "      <td>132.0</td>\n",
              "      <td>16.0</td>\n",
              "      <td>33.0</td>\n",
              "      <td>42.0</td>\n",
              "      <td>6.8</td>\n",
              "    </tr>\n",
              "    <tr>\n",
              "      <th>150</th>\n",
              "      <td>2</td>\n",
              "      <td>42.0</td>\n",
              "      <td>55.5</td>\n",
              "      <td>165.0</td>\n",
              "      <td>20.4</td>\n",
              "      <td>102.0</td>\n",
              "      <td>52.0</td>\n",
              "      <td>77.0</td>\n",
              "      <td>22.9</td>\n",
              "      <td>14.1</td>\n",
              "      <td>...</td>\n",
              "      <td>0.8</td>\n",
              "      <td>4.7</td>\n",
              "      <td>212.0</td>\n",
              "      <td>68.0</td>\n",
              "      <td>63.0</td>\n",
              "      <td>135.0</td>\n",
              "      <td>11.0</td>\n",
              "      <td>16.0</td>\n",
              "      <td>33.0</td>\n",
              "      <td>4.8</td>\n",
              "    </tr>\n",
              "    <tr>\n",
              "      <th>151</th>\n",
              "      <td>2</td>\n",
              "      <td>61.0</td>\n",
              "      <td>61.8</td>\n",
              "      <td>159.0</td>\n",
              "      <td>24.4</td>\n",
              "      <td>117.0</td>\n",
              "      <td>60.0</td>\n",
              "      <td>72.0</td>\n",
              "      <td>23.4</td>\n",
              "      <td>19.2</td>\n",
              "      <td>...</td>\n",
              "      <td>0.8</td>\n",
              "      <td>5.1</td>\n",
              "      <td>235.0</td>\n",
              "      <td>66.0</td>\n",
              "      <td>56.0</td>\n",
              "      <td>166.0</td>\n",
              "      <td>15.0</td>\n",
              "      <td>23.0</td>\n",
              "      <td>44.0</td>\n",
              "      <td>5.4</td>\n",
              "    </tr>\n",
              "    <tr>\n",
              "      <th>152</th>\n",
              "      <td>2</td>\n",
              "      <td>31.0</td>\n",
              "      <td>58.2</td>\n",
              "      <td>169.0</td>\n",
              "      <td>20.4</td>\n",
              "      <td>108.0</td>\n",
              "      <td>69.0</td>\n",
              "      <td>73.0</td>\n",
              "      <td>25.0</td>\n",
              "      <td>13.0</td>\n",
              "      <td>...</td>\n",
              "      <td>0.7</td>\n",
              "      <td>4.3</td>\n",
              "      <td>200.0</td>\n",
              "      <td>44.0</td>\n",
              "      <td>56.0</td>\n",
              "      <td>135.0</td>\n",
              "      <td>14.0</td>\n",
              "      <td>21.0</td>\n",
              "      <td>31.0</td>\n",
              "      <td>4.7</td>\n",
              "    </tr>\n",
              "  </tbody>\n",
              "</table>\n",
              "<p>153 rows × 26 columns</p>\n",
              "</div>\n",
              "      <button class=\"colab-df-convert\" onclick=\"convertToInteractive('df-c8297966-81e8-45ab-96de-0ff9bc3e7b7d')\"\n",
              "              title=\"Convert this dataframe to an interactive table.\"\n",
              "              style=\"display:none;\">\n",
              "        \n",
              "  <svg xmlns=\"http://www.w3.org/2000/svg\" height=\"24px\"viewBox=\"0 0 24 24\"\n",
              "       width=\"24px\">\n",
              "    <path d=\"M0 0h24v24H0V0z\" fill=\"none\"/>\n",
              "    <path d=\"M18.56 5.44l.94 2.06.94-2.06 2.06-.94-2.06-.94-.94-2.06-.94 2.06-2.06.94zm-11 1L8.5 8.5l.94-2.06 2.06-.94-2.06-.94L8.5 2.5l-.94 2.06-2.06.94zm10 10l.94 2.06.94-2.06 2.06-.94-2.06-.94-.94-2.06-.94 2.06-2.06.94z\"/><path d=\"M17.41 7.96l-1.37-1.37c-.4-.4-.92-.59-1.43-.59-.52 0-1.04.2-1.43.59L10.3 9.45l-7.72 7.72c-.78.78-.78 2.05 0 2.83L4 21.41c.39.39.9.59 1.41.59.51 0 1.02-.2 1.41-.59l7.78-7.78 2.81-2.81c.8-.78.8-2.07 0-2.86zM5.41 20L4 18.59l7.72-7.72 1.47 1.35L5.41 20z\"/>\n",
              "  </svg>\n",
              "      </button>\n",
              "      \n",
              "  <style>\n",
              "    .colab-df-container {\n",
              "      display:flex;\n",
              "      flex-wrap:wrap;\n",
              "      gap: 12px;\n",
              "    }\n",
              "\n",
              "    .colab-df-convert {\n",
              "      background-color: #E8F0FE;\n",
              "      border: none;\n",
              "      border-radius: 50%;\n",
              "      cursor: pointer;\n",
              "      display: none;\n",
              "      fill: #1967D2;\n",
              "      height: 32px;\n",
              "      padding: 0 0 0 0;\n",
              "      width: 32px;\n",
              "    }\n",
              "\n",
              "    .colab-df-convert:hover {\n",
              "      background-color: #E2EBFA;\n",
              "      box-shadow: 0px 1px 2px rgba(60, 64, 67, 0.3), 0px 1px 3px 1px rgba(60, 64, 67, 0.15);\n",
              "      fill: #174EA6;\n",
              "    }\n",
              "\n",
              "    [theme=dark] .colab-df-convert {\n",
              "      background-color: #3B4455;\n",
              "      fill: #D2E3FC;\n",
              "    }\n",
              "\n",
              "    [theme=dark] .colab-df-convert:hover {\n",
              "      background-color: #434B5C;\n",
              "      box-shadow: 0px 1px 3px 1px rgba(0, 0, 0, 0.15);\n",
              "      filter: drop-shadow(0px 1px 2px rgba(0, 0, 0, 0.3));\n",
              "      fill: #FFFFFF;\n",
              "    }\n",
              "  </style>\n",
              "\n",
              "      <script>\n",
              "        const buttonEl =\n",
              "          document.querySelector('#df-c8297966-81e8-45ab-96de-0ff9bc3e7b7d button.colab-df-convert');\n",
              "        buttonEl.style.display =\n",
              "          google.colab.kernel.accessAllowed ? 'block' : 'none';\n",
              "\n",
              "        async function convertToInteractive(key) {\n",
              "          const element = document.querySelector('#df-c8297966-81e8-45ab-96de-0ff9bc3e7b7d');\n",
              "          const dataTable =\n",
              "            await google.colab.kernel.invokeFunction('convertToInteractive',\n",
              "                                                     [key], {});\n",
              "          if (!dataTable) return;\n",
              "\n",
              "          const docLinkHtml = 'Like what you see? Visit the ' +\n",
              "            '<a target=\"_blank\" href=https://colab.research.google.com/notebooks/data_table.ipynb>data table notebook</a>'\n",
              "            + ' to learn more about interactive tables.';\n",
              "          element.innerHTML = '';\n",
              "          dataTable['output_type'] = 'display_data';\n",
              "          await google.colab.output.renderOutput(dataTable, element);\n",
              "          const docLink = document.createElement('div');\n",
              "          docLink.innerHTML = docLinkHtml;\n",
              "          element.appendChild(docLink);\n",
              "        }\n",
              "      </script>\n",
              "    </div>\n",
              "  </div>\n",
              "  "
            ]
          },
          "metadata": {},
          "execution_count": 6
        }
      ]
    },
    {
      "cell_type": "markdown",
      "source": [
        "## Imputation using Mean"
      ],
      "metadata": {
        "id": "YjwJ6-Qb7rt3"
      }
    },
    {
      "cell_type": "code",
      "source": [
        "from sklearn.impute import SimpleImputer"
      ],
      "metadata": {
        "id": "z2nfqhdh-yXe"
      },
      "execution_count": 7,
      "outputs": []
    },
    {
      "cell_type": "code",
      "source": [
        "t_start = time.time()\n",
        "mean10_imputer = SimpleImputer(strategy='mean')\n",
        "for i in range(1,1001):\n",
        "  globals()[f'imputed_mean10_{i}'] = mean10_imputer.fit_transform(globals()[f'FatMass10_{i}'].copy()) #for loop miss forest impputation \n",
        "  globals()[f'MSE_MEAN10_{i}'] = mean_squared_error(data, globals()[f'imputed_mean10_{i}']) # for loop mean_squared_error\n",
        "t_end = time.time()\n",
        "t10_MEAN= (t_end- t_start)"
      ],
      "metadata": {
        "id": "zJS_wIka_iTE"
      },
      "execution_count": 8,
      "outputs": []
    },
    {
      "cell_type": "code",
      "source": [
        "MSE_MEAN10_1"
      ],
      "metadata": {
        "colab": {
          "base_uri": "https://localhost:8080/"
        },
        "id": "WJYWxxenZymG",
        "outputId": "21e13d39-58b1-4ede-a616-1e27be26c90d"
      },
      "execution_count": 9,
      "outputs": [
        {
          "output_type": "execute_result",
          "data": {
            "text/plain": [
              "0.03360865985351697"
            ]
          },
          "metadata": {},
          "execution_count": 9
        }
      ]
    },
    {
      "cell_type": "code",
      "source": [
        "t_start = time.time()\n",
        "mse_mean10_total = 0 \n",
        "MSE_MEAN10_1001 = 0\n",
        "for i in range(0,1001):\n",
        "  mse_mean10_total = mse_mean10_total + globals()[f'MSE_MEAN10_{i+1}']\n",
        "AMSE_FatMass10_mean = mse_mean10_total/1000\n",
        "print(f'AMSE_mean = {AMSE_FatMass10_mean}')\n",
        "t_end = time.time()\n",
        "print(f'เวลาที่ใช้ในการประมวลผล {t_end- t_start} วินาที')\n",
        "print(f'เวลาที่ใช้ในการประมวลผล {(t_end- t_start)/60} นาที')"
      ],
      "metadata": {
        "id": "fpVr60a-_yGy",
        "colab": {
          "base_uri": "https://localhost:8080/"
        },
        "outputId": "42eb3632-5941-45c1-c3c8-6d14cba93f1c"
      },
      "execution_count": 10,
      "outputs": [
        {
          "output_type": "stream",
          "name": "stdout",
          "text": [
            "AMSE_mean = 0.08980543460321938\n",
            "เวลาที่ใช้ในการประมวลผล 0.0018460750579833984 วินาที\n",
            "เวลาที่ใช้ในการประมวลผล 3.076791763305664e-05 นาที\n"
          ]
        }
      ]
    },
    {
      "cell_type": "markdown",
      "source": [
        "## Imputation using the miss forest"
      ],
      "metadata": {
        "id": "yYzw-Hj6Lcd4"
      }
    },
    {
      "cell_type": "code",
      "source": [
        "import sys\n",
        "import sklearn.neighbors._base\n",
        "sys.modules['sklearn.neighbors.base'] = sklearn.neighbors._base\n",
        "!pip install missingpy\n",
        "import missingpy\n",
        "from missingpy import MissForest\n",
        "from sklearn.metrics import mean_squared_error"
      ],
      "metadata": {
        "id": "LySNylXpbrZY",
        "colab": {
          "base_uri": "https://localhost:8080/"
        },
        "outputId": "8e7883f2-dde7-49f4-bb7d-a2be033cfb39"
      },
      "execution_count": 11,
      "outputs": [
        {
          "output_type": "stream",
          "name": "stdout",
          "text": [
            "Looking in indexes: https://pypi.org/simple, https://us-python.pkg.dev/colab-wheels/public/simple/\n",
            "Collecting missingpy\n",
            "  Downloading missingpy-0.2.0-py3-none-any.whl (49 kB)\n",
            "\u001b[2K     \u001b[90m━━━━━━━━━━━━━━━━━━━━━━━━━━━━━━━━━━━━━━━━\u001b[0m \u001b[32m49.1/49.1 KB\u001b[0m \u001b[31m3.3 MB/s\u001b[0m eta \u001b[36m0:00:00\u001b[0m\n",
            "\u001b[?25hInstalling collected packages: missingpy\n",
            "Successfully installed missingpy-0.2.0\n"
          ]
        }
      ]
    },
    {
      "cell_type": "code",
      "source": [
        "t_start = time.time()\n",
        "MF10_imputer = MissForest()\n",
        "for i in range(1,1001):\n",
        "  globals()[f'imputed_mf10_{i}'] = MF10_imputer.fit_transform(globals()[f'FatMass10_{i}'].copy()) #for loop miss forest impputation \n",
        "  globals()[f'MSE_MF10_{i}'] = mean_squared_error(data, globals()[f'imputed_mf10_{i}']) # for loop mean_squared_error\n",
        "t_end = time.time()\n",
        "t10_MF= (t_end- t_start)"
      ],
      "metadata": {
        "id": "jpVrBlWkczgN"
      },
      "execution_count": null,
      "outputs": []
    },
    {
      "cell_type": "code",
      "source": [
        "t_start = time.time()\n",
        "mse_mf10_total = 0 \n",
        "MSE_MF10_1001 = 0\n",
        "for i in range(0,1001):\n",
        "  mse_mf10_total = mse_mf10_total + globals()[f'MSE_MF10_{i+1}']\n",
        "AMSE_FatMass10_mf = mse_mf10_total/1000\n",
        "print(f'AMSE_mf = {AMSE_FatMass10_mf}')\n",
        "t_end = time.time()\n",
        "print(f'เวลาที่ใช้ในการประมวลผล {t_end- t_start} วินาที')\n",
        "print(f'เวลาที่ใช้ในการประมวลผล {(t_end- t_start)/60} นาที')"
      ],
      "metadata": {
        "id": "itymgxccG8Yj",
        "colab": {
          "base_uri": "https://localhost:8080/"
        },
        "outputId": "3ba15006-66fe-45dc-e33a-ff9984dc1777"
      },
      "execution_count": 13,
      "outputs": [
        {
          "output_type": "stream",
          "name": "stdout",
          "text": [
            "AMSE_mf = 0.03283947328858721\n",
            "เวลาที่ใช้ในการประมวลผล 0.0014615058898925781 วินาที\n",
            "เวลาที่ใช้ในการประมวลผล 2.4358431498209637e-05 นาที\n"
          ]
        }
      ]
    },
    {
      "cell_type": "markdown",
      "source": [
        "## Imputation using the KNN"
      ],
      "metadata": {
        "id": "AH3QecnbePSA"
      }
    },
    {
      "cell_type": "code",
      "source": [
        "from sklearn import neighbors\n",
        "from sklearn.impute import KNNImputer"
      ],
      "metadata": {
        "id": "PpTM8fjNRgta"
      },
      "execution_count": 14,
      "outputs": []
    },
    {
      "cell_type": "code",
      "source": [
        "t_start = time.time()\n",
        "KNN10_imputer = KNNImputer(n_neighbors = 15)\n",
        "for i in range(1,1001):\n",
        "  globals()[f'imputed_KNN10_{i}'] = KNN10_imputer.fit_transform(globals()[f'FatMass10_{i}'].copy())\n",
        "  globals()[f'MSE_KNN10_{i}'] = mean_squared_error(data, globals()[f'imputed_KNN10_{i}'])\n",
        "t_end = time.time()\n",
        "t10_KNN= (t_end- t_start)"
      ],
      "metadata": {
        "id": "0j-UtJFbjj19"
      },
      "execution_count": 15,
      "outputs": []
    },
    {
      "cell_type": "code",
      "source": [
        "t_start = time.time()\n",
        "mse_knn10_total = 0 \n",
        "MSE_KNN10_1001 = 0\n",
        "for i in range(0,1001):\n",
        "  mse_knn10_total = mse_knn10_total + globals()[f'MSE_KNN10_{i+1}']\n",
        "AMSE_FatMass10_knn = mse_knn10_total/1000\n",
        "print(f'AMSE_knn = {AMSE_FatMass10_knn}')\n",
        "t_end = time.time()\n",
        "print(f'เวลาที่ใช้ในการประมวลผล {t_end- t_start} วินาที')\n",
        "print(f'เวลาที่ใช้ในการประมวลผล {(t_end- t_start)/60} นาที')"
      ],
      "metadata": {
        "id": "Y7aDqUh_klXX",
        "colab": {
          "base_uri": "https://localhost:8080/"
        },
        "outputId": "c0d1eafe-b2ae-4dbb-bb2c-124ab2f4b204"
      },
      "execution_count": 16,
      "outputs": [
        {
          "output_type": "stream",
          "name": "stdout",
          "text": [
            "AMSE_knn = 0.06432150367018608\n",
            "เวลาที่ใช้ในการประมวลผล 0.0010688304901123047 วินาที\n",
            "เวลาที่ใช้ในการประมวลผล 1.7813841501871745e-05 นาที\n"
          ]
        }
      ]
    },
    {
      "cell_type": "markdown",
      "source": [
        "## Imputation using the MICE"
      ],
      "metadata": {
        "id": "bNG85n-5mgJ5"
      }
    },
    {
      "cell_type": "code",
      "source": [
        "from sklearn.experimental import enable_iterative_imputer\n",
        "from sklearn.impute import IterativeImputer\n",
        "from sklearn.linear_model import LinearRegression\n",
        "from sklearn import svm"
      ],
      "metadata": {
        "id": "jdG8Wkt5PqYA"
      },
      "execution_count": 17,
      "outputs": []
    },
    {
      "cell_type": "markdown",
      "source": [
        "### LinearRegression model"
      ],
      "metadata": {
        "id": "KO_irahVV3Ny"
      }
    },
    {
      "cell_type": "code",
      "source": [
        "t_start = time.time()\n",
        "lr = LinearRegression()\n",
        "for i in range(1,1001):\n",
        "  imp = IterativeImputer(estimator= lr , max_iter= 10, verbose=2, imputation_order='roman',initial_strategy = 'mean',random_state= i)\n",
        "  globals()[f'imputed_lr10_{i}'] = imp.fit_transform(globals()[f'FatMass10_{i}'].copy())\n",
        "  globals()[f'MSE_lr10_{i}'] = mean_squared_error(data, globals()[f'imputed_lr10_{i}'])\n",
        "t_end = time.time()\n",
        "t10_LR= (t_end- t_start)"
      ],
      "metadata": {
        "id": "ocdE53Z3WGwP"
      },
      "execution_count": null,
      "outputs": []
    },
    {
      "cell_type": "code",
      "source": [
        "t_start = time.time()\n",
        "mse_lr10_total = 0 \n",
        "MSE_lr10_1001 = 0\n",
        "for i in range(0,1001):\n",
        "  mse_lr10_total = mse_lr10_total + globals()[f'MSE_lr10_{i+1}']\n",
        "AMSE_FatMass10_lr = mse_lr10_total/1000\n",
        "print(f'AMSE_lr = {AMSE_FatMass10_lr}')\n",
        "t_end = time.time()\n",
        "print(f'เวลาที่ใช้ในการประมวลผล {t_end- t_start} วินาที')\n",
        "print(f'เวลาที่ใช้ในการประมวลผล {(t_end- t_start)/60} นาที')"
      ],
      "metadata": {
        "id": "Zv8b8tpgXTqV",
        "colab": {
          "base_uri": "https://localhost:8080/"
        },
        "outputId": "31ff607e-754a-4186-d577-916444082e95"
      },
      "execution_count": 19,
      "outputs": [
        {
          "output_type": "stream",
          "name": "stdout",
          "text": [
            "AMSE_lr = 0.029604337181148823\n",
            "เวลาที่ใช้ในการประมวลผล 0.0011348724365234375 วินาที\n",
            "เวลาที่ใช้ในการประมวลผล 1.8914540608723957e-05 นาที\n"
          ]
        }
      ]
    },
    {
      "cell_type": "markdown",
      "source": [
        "### Support Vector Machine model"
      ],
      "metadata": {
        "id": "Q_etxqbFV-c-"
      }
    },
    {
      "cell_type": "code",
      "source": [
        "t_start = time.time()\n",
        "regr = svm.SVR()\n",
        "for i in range(1,1001):\n",
        "  svm_svr = IterativeImputer(estimator= regr, max_iter= 10, verbose=2, imputation_order='roman',initial_strategy = 'mean',random_state= i)\n",
        "  globals()[f'imputed_svm10_{i}'] = svm_svr.fit_transform(globals()[f'FatMass10_{i}'].copy())\n",
        "  globals()[f'MSE_svm10_{i}'] = mean_squared_error(data, globals()[f'imputed_svm10_{i}'])\n",
        "t_end = time.time()\n",
        "t10_SVM= (t_end- t_start)"
      ],
      "metadata": {
        "id": "yICe2SxBWDiV"
      },
      "execution_count": null,
      "outputs": []
    },
    {
      "cell_type": "code",
      "source": [
        "t_start = time.time()\n",
        "mse_svm10_total = 0 \n",
        "MSE_svm10_1001 = 0\n",
        "for i in range(0,1001):\n",
        "  mse_svm10_total = mse_svm10_total + globals()[f'MSE_svm10_{i+1}']\n",
        "AMSE_FatMass10_svm = mse_svm10_total/1000\n",
        "print(f'AMSE_svm = {AMSE_FatMass10_svm}')\n",
        "t_end = time.time()\n",
        "print(f'เวลาที่ใช้ในการประมวลผล {t_end- t_start} วินาที')\n",
        "print(f'เวลาที่ใช้ในการประมวลผล {(t_end- t_start)/60} นาที')"
      ],
      "metadata": {
        "id": "Kg6Ga9K4XvWz",
        "colab": {
          "base_uri": "https://localhost:8080/"
        },
        "outputId": "6a7378e2-6ff0-45e4-eeb1-df12857d48cc"
      },
      "execution_count": 21,
      "outputs": [
        {
          "output_type": "stream",
          "name": "stdout",
          "text": [
            "AMSE_svm = 0.07144380802757225\n",
            "เวลาที่ใช้ในการประมวลผล 0.0010159015655517578 วินาที\n",
            "เวลาที่ใช้ในการประมวลผล 1.6931692759195963e-05 นาที\n"
          ]
        }
      ]
    },
    {
      "cell_type": "markdown",
      "source": [
        "## Imputation using the EM"
      ],
      "metadata": {
        "id": "CBhCn1dleov0"
      }
    },
    {
      "cell_type": "markdown",
      "source": [
        "### impy.em"
      ],
      "metadata": {
        "id": "okGFHwzYnBSm"
      }
    },
    {
      "cell_type": "code",
      "source": [
        "!pip install impyute\n",
        "import impyute as impy"
      ],
      "metadata": {
        "id": "MoYcRZ9unCRN",
        "colab": {
          "base_uri": "https://localhost:8080/"
        },
        "outputId": "c460d496-1c5f-403e-fc77-c1aa1a700652"
      },
      "execution_count": 22,
      "outputs": [
        {
          "output_type": "stream",
          "name": "stdout",
          "text": [
            "Looking in indexes: https://pypi.org/simple, https://us-python.pkg.dev/colab-wheels/public/simple/\n",
            "Collecting impyute\n",
            "  Downloading impyute-0.0.8-py2.py3-none-any.whl (31 kB)\n",
            "Requirement already satisfied: scipy in /usr/local/lib/python3.8/dist-packages (from impyute) (1.7.3)\n",
            "Requirement already satisfied: scikit-learn in /usr/local/lib/python3.8/dist-packages (from impyute) (1.0.2)\n",
            "Requirement already satisfied: numpy in /usr/local/lib/python3.8/dist-packages (from impyute) (1.21.6)\n",
            "Requirement already satisfied: threadpoolctl>=2.0.0 in /usr/local/lib/python3.8/dist-packages (from scikit-learn->impyute) (3.1.0)\n",
            "Requirement already satisfied: joblib>=0.11 in /usr/local/lib/python3.8/dist-packages (from scikit-learn->impyute) (1.2.0)\n",
            "Installing collected packages: impyute\n",
            "Successfully installed impyute-0.0.8\n"
          ]
        }
      ]
    },
    {
      "cell_type": "code",
      "source": [
        "t_start = time.time()\n",
        "for i in range(1,1001):\n",
        "  globals()[f'imputed_impy10_{i}'] = impy.em(globals()[f'FatMass10_{i}'].values.copy())\n",
        "  globals()[f'MSE_impy10_{i}'] = mean_squared_error(data, globals()[f'imputed_impy10_{i}'])\n",
        "t_end = time.time()\n",
        "t10_EM= (t_end- t_start)"
      ],
      "metadata": {
        "id": "q8hPK-5WqHua"
      },
      "execution_count": 23,
      "outputs": []
    },
    {
      "cell_type": "code",
      "source": [
        "t_start = time.time()\n",
        "mse_impy10_total = 0 \n",
        "MSE_impy10_1001 = 0\n",
        "for i in range(0,1001):\n",
        "  mse_impy10_total = mse_impy10_total + globals()[f'MSE_impy10_{i+1}']\n",
        "AMSE_FatMass10_impy = mse_impy10_total/1000\n",
        "print(f'AMSE_impy = {AMSE_FatMass10_impy}')\n",
        "t_end = time.time()\n",
        "print(f'เวลาที่ใช้ในการประมวลผล {t_end- t_start} วินาที')\n",
        "print(f'เวลาที่ใช้ในการประมวลผล {(t_end- t_start)/60} นาที')"
      ],
      "metadata": {
        "id": "dxBu9e5fqHZw",
        "colab": {
          "base_uri": "https://localhost:8080/"
        },
        "outputId": "228f9ec6-13c1-485b-e493-8f692d94c55f"
      },
      "execution_count": 24,
      "outputs": [
        {
          "output_type": "stream",
          "name": "stdout",
          "text": [
            "AMSE_impy = 0.16645247283047698\n",
            "เวลาที่ใช้ในการประมวลผล 0.0008625984191894531 วินาที\n",
            "เวลาที่ใช้ในการประมวลผล 1.4376640319824218e-05 นาที\n"
          ]
        }
      ]
    },
    {
      "cell_type": "code",
      "source": [],
      "metadata": {
        "id": "5N4p-V0Khe4t"
      },
      "execution_count": 24,
      "outputs": []
    },
    {
      "cell_type": "markdown",
      "source": [
        "# 20 % random nan"
      ],
      "metadata": {
        "id": "XDnNeFskmmxr"
      }
    },
    {
      "cell_type": "code",
      "source": [
        "t_start = time.time()\n",
        "for i in range(1,1001):\n",
        "  globals()[f'FatMass20_{i}'] = data.copy() # for loop variable name\n",
        "  np.random.seed(i) # for loop seed\n",
        "  n = int((153*20/100)) \n",
        "  index_nan = np.random.choice(globals()[f'FatMass20_{i}']['Fat Mass'].size, n, replace=False) #globals()[name dataframe][column name].size\n",
        "  globals()[f'FatMass20_{i}']['Fat Mass'].ravel()[index_nan] = np.nan\n",
        "t_end = time.time()\n",
        "print(f'เวลาที่ใช้ในการประมวลผล {t_end- t_start} วินาที')\n",
        "print(f'เวลาที่ใช้ในการประมวลผล {(t_end- t_start)/60} นาที')"
      ],
      "metadata": {
        "id": "1sP-Uzfimmxr",
        "colab": {
          "base_uri": "https://localhost:8080/"
        },
        "outputId": "c4371304-f112-4884-aa43-865e6601eeaa"
      },
      "execution_count": 25,
      "outputs": [
        {
          "output_type": "stream",
          "name": "stdout",
          "text": [
            "เวลาที่ใช้ในการประมวลผล 0.19803643226623535 วินาที\n",
            "เวลาที่ใช้ในการประมวลผล 0.003300607204437256 นาที\n"
          ]
        }
      ]
    },
    {
      "cell_type": "markdown",
      "source": [
        "## Imputation using Mean"
      ],
      "metadata": {
        "id": "Q5srQCVpmmxr"
      }
    },
    {
      "cell_type": "code",
      "source": [
        "from sklearn.impute import SimpleImputer"
      ],
      "metadata": {
        "id": "chHokb5Ummxr"
      },
      "execution_count": 26,
      "outputs": []
    },
    {
      "cell_type": "code",
      "source": [
        "t_start = time.time()\n",
        "mean20_imputer = SimpleImputer(strategy='mean')\n",
        "for i in range(1,1001):\n",
        "  globals()[f'imputed_mean20_{i}'] = mean20_imputer.fit_transform(globals()[f'FatMass20_{i}'].copy()) #for loop miss forest impputation \n",
        "  globals()[f'MSE_MEAN20_{i}'] = mean_squared_error(data, globals()[f'imputed_mean20_{i}']) # for loop mean_squared_error\n",
        "t_end = time.time()\n",
        "t20_MEAN = (t_end- t_start)"
      ],
      "metadata": {
        "id": "7VclQaj-mmxs"
      },
      "execution_count": 27,
      "outputs": []
    },
    {
      "cell_type": "code",
      "source": [
        "t_start = time.time()\n",
        "mse_mean20_total = 0 \n",
        "MSE_MEAN20_1001 = 0\n",
        "for i in range(0,1001):\n",
        "  mse_mean20_total = mse_mean20_total + globals()[f'MSE_MEAN20_{i+1}']\n",
        "AMSE_FatMass20_mean = mse_mean20_total/1000\n",
        "print(f'AMSE_mean = {AMSE_FatMass20_mean}')\n",
        "t_end = time.time()\n",
        "print(f'เวลาที่ใช้ในการประมวลผล {t_end- t_start} วินาที')\n",
        "print(f'เวลาที่ใช้ในการประมวลผล {(t_end- t_start)/60} นาที')"
      ],
      "metadata": {
        "id": "LzWT-scommxs",
        "colab": {
          "base_uri": "https://localhost:8080/"
        },
        "outputId": "961fd640-7a55-4dec-f168-fa0a676fcbd4"
      },
      "execution_count": 28,
      "outputs": [
        {
          "output_type": "stream",
          "name": "stdout",
          "text": [
            "AMSE_mean = 0.18119409169029693\n",
            "เวลาที่ใช้ในการประมวลผล 0.0009646415710449219 วินาที\n",
            "เวลาที่ใช้ในการประมวลผล 1.6077359517415365e-05 นาที\n"
          ]
        }
      ]
    },
    {
      "cell_type": "markdown",
      "source": [
        "## Imputation using the miss forest"
      ],
      "metadata": {
        "id": "jPm8Yyvymmxs"
      }
    },
    {
      "cell_type": "code",
      "source": [
        "import sys\n",
        "import sklearn.neighbors._base\n",
        "sys.modules['sklearn.neighbors.base'] = sklearn.neighbors._base\n",
        "!pip install missingpy\n",
        "import missingpy\n",
        "from missingpy import MissForest\n",
        "from sklearn.metrics import mean_squared_error"
      ],
      "metadata": {
        "colab": {
          "base_uri": "https://localhost:8080/"
        },
        "outputId": "32020176-69f9-4080-8ec6-64356a7a33f2",
        "id": "qSntFelOmmxs"
      },
      "execution_count": 29,
      "outputs": [
        {
          "output_type": "stream",
          "name": "stdout",
          "text": [
            "Looking in indexes: https://pypi.org/simple, https://us-python.pkg.dev/colab-wheels/public/simple/\n",
            "Requirement already satisfied: missingpy in /usr/local/lib/python3.8/dist-packages (0.2.0)\n"
          ]
        }
      ]
    },
    {
      "cell_type": "code",
      "source": [
        "t_start = time.time()\n",
        "MF20_imputer = MissForest()\n",
        "for i in range(1,1001):\n",
        "  globals()[f'imputed_mf20_{i}'] = MF20_imputer.fit_transform(globals()[f'FatMass20_{i}'].copy()) #for loop miss forest impputation \n",
        "  globals()[f'MSE_MF20_{i}'] = mean_squared_error(data, globals()[f'imputed_mf20_{i}']) # for loop mean_squared_error\n",
        "t_end = time.time()\n",
        "t20_MF = (t_end- t_start)"
      ],
      "metadata": {
        "id": "Atqzpyu0mmxs"
      },
      "execution_count": null,
      "outputs": []
    },
    {
      "cell_type": "code",
      "source": [
        "t_start = time.time()\n",
        "mse_mf20_total = 0 \n",
        "MSE_MF20_1001 = 0\n",
        "for i in range(0,1001):\n",
        "  mse_mf20_total = mse_mf20_total + globals()[f'MSE_MF20_{i+1}']\n",
        "AMSE_FatMass20_mf = mse_mf20_total/1000\n",
        "print(f'AMSE_mf = {AMSE_FatMass20_mf}')\n",
        "t_end = time.time()\n",
        "print(f'เวลาที่ใช้ในการประมวลผล {t_end- t_start} วินาที')\n",
        "print(f'เวลาที่ใช้ในการประมวลผล {(t_end- t_start)/60} นาที')"
      ],
      "metadata": {
        "id": "YcBt9j5tmmxs",
        "colab": {
          "base_uri": "https://localhost:8080/"
        },
        "outputId": "58dc09a6-4cb9-49a3-d3f8-eefa1613902f"
      },
      "execution_count": 31,
      "outputs": [
        {
          "output_type": "stream",
          "name": "stdout",
          "text": [
            "AMSE_mf = 0.06972903991201611\n",
            "เวลาที่ใช้ในการประมวลผล 0.0014722347259521484 วินาที\n",
            "เวลาที่ใช้ในการประมวลผล 2.453724543253581e-05 นาที\n"
          ]
        }
      ]
    },
    {
      "cell_type": "markdown",
      "source": [
        "## Imputation using the KNN"
      ],
      "metadata": {
        "id": "c6ooAbE9mmxs"
      }
    },
    {
      "cell_type": "code",
      "source": [
        "from sklearn import neighbors\n",
        "from sklearn.impute import KNNImputer"
      ],
      "metadata": {
        "id": "VWXjdHBJmmxt"
      },
      "execution_count": 32,
      "outputs": []
    },
    {
      "cell_type": "code",
      "source": [
        "t_start = time.time()\n",
        "KNN20_imputer = KNNImputer(n_neighbors = 15)\n",
        "for i in range(1,1001):\n",
        "  globals()[f'imputed_KNN20_{i}'] = KNN20_imputer.fit_transform(globals()[f'FatMass20_{i}'].copy())\n",
        "  globals()[f'MSE_KNN20_{i}'] = mean_squared_error(data, globals()[f'imputed_KNN20_{i}'])\n",
        "t_end = time.time()\n",
        "t20_KNN = (t_end- t_start)"
      ],
      "metadata": {
        "id": "aFcobkWqmmxt"
      },
      "execution_count": 33,
      "outputs": []
    },
    {
      "cell_type": "code",
      "source": [
        "t_start = time.time()\n",
        "mse_knn20_total = 0 \n",
        "MSE_KNN20_1001 = 0\n",
        "for i in range(0,1001):\n",
        "  mse_knn20_total = mse_knn20_total + globals()[f'MSE_KNN20_{i+1}']\n",
        "AMSE_FatMass20_knn = mse_knn20_total/1000\n",
        "print(f'AMSE_knn = {AMSE_FatMass20_knn}')\n",
        "t_end = time.time()\n",
        "print(f'เวลาที่ใช้ในการประมวลผล {t_end- t_start} วินาที')\n",
        "print(f'เวลาที่ใช้ในการประมวลผล {(t_end- t_start)/60} นาที')"
      ],
      "metadata": {
        "id": "YAwxOSZjmmxt",
        "colab": {
          "base_uri": "https://localhost:8080/"
        },
        "outputId": "f567c04b-f828-488e-95e4-48cc72265f39"
      },
      "execution_count": 34,
      "outputs": [
        {
          "output_type": "stream",
          "name": "stdout",
          "text": [
            "AMSE_knn = 0.13346193382492613\n",
            "เวลาที่ใช้ในการประมวลผล 0.0012636184692382812 วินาที\n",
            "เวลาที่ใช้ในการประมวลผล 2.106030782063802e-05 นาที\n"
          ]
        }
      ]
    },
    {
      "cell_type": "markdown",
      "source": [
        "## Imputation using the MICE"
      ],
      "metadata": {
        "id": "wnzhN2uXmmxt"
      }
    },
    {
      "cell_type": "code",
      "source": [
        "from sklearn.experimental import enable_iterative_imputer\n",
        "from sklearn.impute import IterativeImputer\n",
        "from sklearn.linear_model import LinearRegression\n",
        "from sklearn import svm"
      ],
      "metadata": {
        "id": "ux_ZdCz7mmxt"
      },
      "execution_count": 35,
      "outputs": []
    },
    {
      "cell_type": "markdown",
      "source": [
        "### LinearRegression model"
      ],
      "metadata": {
        "id": "qBsh-oGrmmxt"
      }
    },
    {
      "cell_type": "code",
      "source": [
        "t_start = time.time()\n",
        "lr = LinearRegression()\n",
        "for i in range(1,1001):\n",
        "  imp = IterativeImputer(estimator= lr , max_iter= 10, verbose=2, imputation_order='roman',initial_strategy = 'mean',random_state= i)\n",
        "  globals()[f'imputed_lr20_{i}'] = imp.fit_transform(globals()[f'FatMass20_{i}'].copy())\n",
        "  globals()[f'MSE_lr20_{i}'] = mean_squared_error(data, globals()[f'imputed_lr20_{i}'])\n",
        "t_end = time.time()\n",
        "t20_LR = (t_end- t_start)"
      ],
      "metadata": {
        "id": "m-oCWLICmmxt"
      },
      "execution_count": null,
      "outputs": []
    },
    {
      "cell_type": "code",
      "source": [
        "t_start = time.time()\n",
        "mse_lr20_total = 0 \n",
        "MSE_lr20_1001 = 0\n",
        "for i in range(0,1001):\n",
        "  mse_lr20_total = mse_lr20_total + globals()[f'MSE_lr20_{i+1}']\n",
        "AMSE_FatMass20_lr = mse_lr20_total/1000\n",
        "print(f'AMSE_lr = {AMSE_FatMass20_lr}')\n",
        "t_end = time.time()\n",
        "print(f'เวลาที่ใช้ในการประมวลผล {t_end- t_start} วินาที')\n",
        "print(f'เวลาที่ใช้ในการประมวลผล {(t_end- t_start)/60} นาที')"
      ],
      "metadata": {
        "id": "PoasKeKLmmxt",
        "colab": {
          "base_uri": "https://localhost:8080/"
        },
        "outputId": "ed7258e5-2e4b-4032-a1c3-aa03dd10ac9f"
      },
      "execution_count": 37,
      "outputs": [
        {
          "output_type": "stream",
          "name": "stdout",
          "text": [
            "AMSE_lr = 0.06456872901899344\n",
            "เวลาที่ใช้ในการประมวลผล 0.0009357929229736328 วินาที\n",
            "เวลาที่ใช้ในการประมวลผล 1.5596548716227215e-05 นาที\n"
          ]
        }
      ]
    },
    {
      "cell_type": "markdown",
      "source": [
        "### Support Vector Machine model"
      ],
      "metadata": {
        "id": "dp1n9b1wmmxu"
      }
    },
    {
      "cell_type": "code",
      "source": [
        "t_start = time.time()\n",
        "regr = svm.SVR()\n",
        "for i in range(1,1001):\n",
        "  svm_svr = IterativeImputer(estimator= regr, max_iter= 10, verbose=2, imputation_order='roman',initial_strategy = 'mean',random_state= i)\n",
        "  globals()[f'imputed_svm20_{i}'] = svm_svr.fit_transform(globals()[f'FatMass20_{i}'].copy())\n",
        "  globals()[f'MSE_svm20_{i}'] = mean_squared_error(data, globals()[f'imputed_svm20_{i}'])\n",
        "t_end = time.time()\n",
        "t20_SVM = (t_end- t_start)"
      ],
      "metadata": {
        "id": "1H1XXo5rmmxu"
      },
      "execution_count": null,
      "outputs": []
    },
    {
      "cell_type": "code",
      "source": [
        "t_start = time.time()\n",
        "mse_svm20_total = 0 \n",
        "MSE_svm20_1001 = 0\n",
        "for i in range(0,1001):\n",
        "  mse_svm20_total = mse_svm20_total + globals()[f'MSE_svm20_{i+1}']\n",
        "AMSE_FatMass20_svm = mse_svm20_total/1000\n",
        "print(f'AMSE_svm = {AMSE_FatMass20_svm}')\n",
        "t_end = time.time()\n",
        "print(f'เวลาที่ใช้ในการประมวลผล {t_end- t_start} วินาที')\n",
        "print(f'เวลาที่ใช้ในการประมวลผล {(t_end- t_start)/60} นาที')"
      ],
      "metadata": {
        "id": "AXvfoiQhmmxu",
        "colab": {
          "base_uri": "https://localhost:8080/"
        },
        "outputId": "d451652d-cfca-48c1-b13b-db8b0bbb6789"
      },
      "execution_count": 39,
      "outputs": [
        {
          "output_type": "stream",
          "name": "stdout",
          "text": [
            "AMSE_svm = 0.14758271468360792\n",
            "เวลาที่ใช้ในการประมวลผล 0.0010428428649902344 วินาที\n",
            "เวลาที่ใช้ในการประมวลผล 1.7380714416503908e-05 นาที\n"
          ]
        }
      ]
    },
    {
      "cell_type": "markdown",
      "source": [
        "## Imputation using the EM"
      ],
      "metadata": {
        "id": "-r-sozwOmmxu"
      }
    },
    {
      "cell_type": "markdown",
      "source": [
        "### impy.em"
      ],
      "metadata": {
        "id": "mcM5dZZWmmxu"
      }
    },
    {
      "cell_type": "code",
      "source": [
        "!pip install impyute\n",
        "import impyute as impy"
      ],
      "metadata": {
        "id": "L3zdQDYimmxu",
        "colab": {
          "base_uri": "https://localhost:8080/"
        },
        "outputId": "996cd4d2-7cf8-46fd-fffb-ddd4bb07bf03"
      },
      "execution_count": 40,
      "outputs": [
        {
          "output_type": "stream",
          "name": "stdout",
          "text": [
            "Looking in indexes: https://pypi.org/simple, https://us-python.pkg.dev/colab-wheels/public/simple/\n",
            "Requirement already satisfied: impyute in /usr/local/lib/python3.8/dist-packages (0.0.8)\n",
            "Requirement already satisfied: numpy in /usr/local/lib/python3.8/dist-packages (from impyute) (1.21.6)\n",
            "Requirement already satisfied: scipy in /usr/local/lib/python3.8/dist-packages (from impyute) (1.7.3)\n",
            "Requirement already satisfied: scikit-learn in /usr/local/lib/python3.8/dist-packages (from impyute) (1.0.2)\n",
            "Requirement already satisfied: threadpoolctl>=2.0.0 in /usr/local/lib/python3.8/dist-packages (from scikit-learn->impyute) (3.1.0)\n",
            "Requirement already satisfied: joblib>=0.11 in /usr/local/lib/python3.8/dist-packages (from scikit-learn->impyute) (1.2.0)\n"
          ]
        }
      ]
    },
    {
      "cell_type": "code",
      "source": [
        "t_start = time.time()\n",
        "for i in range(1,1001):\n",
        "  globals()[f'imputed_impy20_{i}'] = impy.em(globals()[f'FatMass20_{i}'].values.copy())\n",
        "  globals()[f'MSE_impy20_{i}'] = mean_squared_error(data, globals()[f'imputed_impy20_{i}'])\n",
        "t_end = time.time()\n",
        "t20_EM = (t_end- t_start)"
      ],
      "metadata": {
        "id": "P6jYA4gMmmxu"
      },
      "execution_count": 41,
      "outputs": []
    },
    {
      "cell_type": "code",
      "source": [
        "t_start = time.time()\n",
        "mse_impy20_total = 0 \n",
        "MSE_impy20_1001 = 0\n",
        "for i in range(0,1001):\n",
        "  mse_impy20_total = mse_impy20_total + globals()[f'MSE_impy20_{i+1}']\n",
        "AMSE_FatMass20_impy = mse_impy20_total/1000\n",
        "print(f'AMSE_impy = {AMSE_FatMass20_impy}')\n",
        "t_end = time.time()\n",
        "print(f'เวลาที่ใช้ในการประมวลผล {t_end- t_start} วินาที')\n",
        "print(f'เวลาที่ใช้ในการประมวลผล {(t_end- t_start)/60} นาที')"
      ],
      "metadata": {
        "id": "YEu3OWtZmmxu",
        "colab": {
          "base_uri": "https://localhost:8080/"
        },
        "outputId": "dce4c35c-c41b-4958-a117-0d641b709738"
      },
      "execution_count": 42,
      "outputs": [
        {
          "output_type": "stream",
          "name": "stdout",
          "text": [
            "AMSE_impy = 0.33838736645441236\n",
            "เวลาที่ใช้ในการประมวลผล 0.0008327960968017578 วินาที\n",
            "เวลาที่ใช้ในการประมวลผล 1.3879934946695964e-05 นาที\n"
          ]
        }
      ]
    },
    {
      "cell_type": "markdown",
      "source": [
        "# 30 % random nan"
      ],
      "metadata": {
        "id": "zaN0bLowuzIT"
      }
    },
    {
      "cell_type": "code",
      "source": [
        "t_start = time.time()\n",
        "for i in range(1,1001):\n",
        "  globals()[f'FatMass30_{i}'] = data.copy() # for loop variable name\n",
        "  np.random.seed(i) # for loop seed\n",
        "  n = int((153*30/100)) \n",
        "  index_nan = np.random.choice(globals()[f'FatMass30_{i}']['Fat Mass'].size, n, replace=False) #globals()[name dataframe][column name].size\n",
        "  globals()[f'FatMass30_{i}']['Fat Mass'].ravel()[index_nan] = np.nan\n",
        "t_end = time.time()\n",
        "print(f'เวลาที่ใช้ในการประมวลผล {t_end- t_start} วินาที')\n",
        "print(f'เวลาที่ใช้ในการประมวลผล {(t_end- t_start)/60} นาที')"
      ],
      "metadata": {
        "id": "m5Q1jaobuzIU",
        "colab": {
          "base_uri": "https://localhost:8080/"
        },
        "outputId": "76638d12-d2fe-497a-a512-8fb532deae70"
      },
      "execution_count": 43,
      "outputs": [
        {
          "output_type": "stream",
          "name": "stdout",
          "text": [
            "เวลาที่ใช้ในการประมวลผล 0.15244436264038086 วินาที\n",
            "เวลาที่ใช้ในการประมวลผล 0.002540739377339681 นาที\n"
          ]
        }
      ]
    },
    {
      "cell_type": "markdown",
      "source": [
        "## Imputation using Mean"
      ],
      "metadata": {
        "id": "QVRZUJUGuzIU"
      }
    },
    {
      "cell_type": "code",
      "source": [
        "from sklearn.impute import SimpleImputer"
      ],
      "metadata": {
        "id": "1JOFyiYHuzIU"
      },
      "execution_count": 44,
      "outputs": []
    },
    {
      "cell_type": "code",
      "source": [
        "t_start = time.time()\n",
        "mean30_imputer = SimpleImputer(strategy='mean')\n",
        "for i in range(1,1001):\n",
        "  globals()[f'imputed_mean30_{i}'] = mean30_imputer.fit_transform(globals()[f'FatMass30_{i}'].copy()) #for loop miss forest impputation \n",
        "  globals()[f'MSE_MEAN30_{i}'] = mean_squared_error(data, globals()[f'imputed_mean30_{i}']) # for loop mean_squared_error\n",
        "t_end = time.time()\n",
        "t30_MEAN = (t_end- t_start)"
      ],
      "metadata": {
        "id": "BMQJ2Q9uuzIU"
      },
      "execution_count": 45,
      "outputs": []
    },
    {
      "cell_type": "code",
      "source": [
        "t_start = time.time()\n",
        "mse_mean30_total = 0 \n",
        "MSE_MEAN30_1001 = 0\n",
        "for i in range(0,1001):\n",
        "  mse_mean30_total = mse_mean30_total + globals()[f'MSE_MEAN30_{i+1}']\n",
        "AMSE_FatMass30_mean = mse_mean30_total/1000\n",
        "print(f'AMSE_mean = {AMSE_FatMass30_mean}')\n",
        "t_end = time.time()\n",
        "print(f'เวลาที่ใช้ในการประมวลผล {t_end- t_start} วินาที')\n",
        "print(f'เวลาที่ใช้ในการประมวลผล {(t_end- t_start)/60} นาที')"
      ],
      "metadata": {
        "id": "us-bmwdEuzIU",
        "colab": {
          "base_uri": "https://localhost:8080/"
        },
        "outputId": "933065b1-7b53-4d06-a92b-be1273dc418d"
      },
      "execution_count": 46,
      "outputs": [
        {
          "output_type": "stream",
          "name": "stdout",
          "text": [
            "AMSE_mean = 0.27384798294749224\n",
            "เวลาที่ใช้ในการประมวลผล 0.000896453857421875 วินาที\n",
            "เวลาที่ใช้ในการประมวลผล 1.4940897623697916e-05 นาที\n"
          ]
        }
      ]
    },
    {
      "cell_type": "markdown",
      "source": [
        "## Imputation using the miss forest"
      ],
      "metadata": {
        "id": "ZOjyFyeKuzIV"
      }
    },
    {
      "cell_type": "code",
      "source": [
        "import sys\n",
        "import sklearn.neighbors._base\n",
        "sys.modules['sklearn.neighbors.base'] = sklearn.neighbors._base\n",
        "!pip install missingpy\n",
        "import missingpy\n",
        "from missingpy import MissForest\n",
        "from sklearn.metrics import mean_squared_error"
      ],
      "metadata": {
        "id": "acamNyLHuzIV",
        "colab": {
          "base_uri": "https://localhost:8080/"
        },
        "outputId": "dfcbcff1-0491-4af7-a760-9a449994f299"
      },
      "execution_count": 47,
      "outputs": [
        {
          "output_type": "stream",
          "name": "stdout",
          "text": [
            "Looking in indexes: https://pypi.org/simple, https://us-python.pkg.dev/colab-wheels/public/simple/\n",
            "Requirement already satisfied: missingpy in /usr/local/lib/python3.8/dist-packages (0.2.0)\n"
          ]
        }
      ]
    },
    {
      "cell_type": "code",
      "source": [
        "t_start = time.time()\n",
        "MF30_imputer = MissForest()\n",
        "for i in range(1,1001):\n",
        "  globals()[f'imputed_mf30_{i}'] = MF30_imputer.fit_transform(globals()[f'FatMass30_{i}'].copy()) #for loop miss forest impputation \n",
        "  globals()[f'MSE_MF30_{i}'] = mean_squared_error(data, globals()[f'imputed_mf30_{i}']) # for loop mean_squared_error\n",
        "t_end = time.time()\n",
        "t30_MF = (t_end- t_start)"
      ],
      "metadata": {
        "id": "fX6tp59-uzIV"
      },
      "execution_count": null,
      "outputs": []
    },
    {
      "cell_type": "code",
      "source": [
        "t_start = time.time()\n",
        "mse_mf30_total = 0 \n",
        "MSE_MF30_1001 = 0\n",
        "for i in range(0,1001):\n",
        "  mse_mf30_total = mse_mf30_total + globals()[f'MSE_MF30_{i+1}']\n",
        "AMSE_FatMass30_mf = mse_mf30_total/1000\n",
        "print(f'AMSE_mf = {AMSE_FatMass30_mf}')\n",
        "t_end = time.time()\n",
        "print(f'เวลาที่ใช้ในการประมวลผล {t_end- t_start} วินาที')\n",
        "print(f'เวลาที่ใช้ในการประมวลผล {(t_end- t_start)/60} นาที')"
      ],
      "metadata": {
        "id": "XwaS1AV-uzIV",
        "colab": {
          "base_uri": "https://localhost:8080/"
        },
        "outputId": "0f813d8f-0253-4da7-e42a-115996d1dd90"
      },
      "execution_count": 49,
      "outputs": [
        {
          "output_type": "stream",
          "name": "stdout",
          "text": [
            "AMSE_mf = 0.1077124448255404\n",
            "เวลาที่ใช้ในการประมวลผล 0.0010685920715332031 วินาที\n",
            "เวลาที่ใช้ในการประมวลผล 1.780986785888672e-05 นาที\n"
          ]
        }
      ]
    },
    {
      "cell_type": "markdown",
      "source": [
        "## Imputation using the KNN"
      ],
      "metadata": {
        "id": "T_wph6E1uzIV"
      }
    },
    {
      "cell_type": "code",
      "source": [
        "from sklearn import neighbors\n",
        "from sklearn.impute import KNNImputer"
      ],
      "metadata": {
        "id": "hELFhk5guzIV"
      },
      "execution_count": 50,
      "outputs": []
    },
    {
      "cell_type": "code",
      "source": [
        "t_start = time.time()\n",
        "KNN30_imputer = KNNImputer(n_neighbors = 15)\n",
        "for i in range(1,1001):\n",
        "  globals()[f'imputed_KNN30_{i}'] = KNN30_imputer.fit_transform(globals()[f'FatMass30_{i}'].copy())\n",
        "  globals()[f'MSE_KNN30_{i}'] = mean_squared_error(data, globals()[f'imputed_KNN30_{i}'])\n",
        "t_end = time.time()\n",
        "t30_KNN = (t_end- t_start)"
      ],
      "metadata": {
        "id": "D8MXMd1JuzIV"
      },
      "execution_count": 51,
      "outputs": []
    },
    {
      "cell_type": "code",
      "source": [
        "t_start = time.time()\n",
        "mse_knn30_total = 0 \n",
        "MSE_KNN30_1001 = 0\n",
        "for i in range(0,1001):\n",
        "  mse_knn30_total = mse_knn30_total + globals()[f'MSE_KNN30_{i+1}']\n",
        "AMSE_FatMass30_knn = mse_knn30_total/1000\n",
        "print(f'AMSE_knn = {AMSE_FatMass30_knn}')\n",
        "t_end = time.time()\n",
        "print(f'เวลาที่ใช้ในการประมวลผล {t_end- t_start} วินาที')\n",
        "print(f'เวลาที่ใช้ในการประมวลผล {(t_end- t_start)/60} นาที')"
      ],
      "metadata": {
        "id": "3C9AWGthuzIV",
        "colab": {
          "base_uri": "https://localhost:8080/"
        },
        "outputId": "7bf31f6c-f8e8-4add-e85c-4df831701f46"
      },
      "execution_count": 52,
      "outputs": [
        {
          "output_type": "stream",
          "name": "stdout",
          "text": [
            "AMSE_knn = 0.20569454231607148\n",
            "เวลาที่ใช้ในการประมวลผล 0.001104593276977539 วินาที\n",
            "เวลาที่ใช้ในการประมวลผล 1.840988794962565e-05 นาที\n"
          ]
        }
      ]
    },
    {
      "cell_type": "markdown",
      "source": [
        "## Imputation using the MICE"
      ],
      "metadata": {
        "id": "2npPu6n3uzIW"
      }
    },
    {
      "cell_type": "code",
      "source": [
        "from sklearn.experimental import enable_iterative_imputer\n",
        "from sklearn.impute import IterativeImputer\n",
        "from sklearn.linear_model import LinearRegression\n",
        "from sklearn import svm"
      ],
      "metadata": {
        "id": "x-Jdq67zuzIW"
      },
      "execution_count": 53,
      "outputs": []
    },
    {
      "cell_type": "markdown",
      "source": [
        "### LinearRegression model"
      ],
      "metadata": {
        "id": "ndI0t5PBuzIW"
      }
    },
    {
      "cell_type": "code",
      "source": [
        "t_start = time.time()\n",
        "lr = LinearRegression()\n",
        "for i in range(1,1001):\n",
        "  imp = IterativeImputer(estimator= lr , max_iter= 10, verbose=2, imputation_order='roman',initial_strategy = 'mean',random_state= i)\n",
        "  globals()[f'imputed_lr30_{i}'] = imp.fit_transform(globals()[f'FatMass30_{i}'].copy())\n",
        "  globals()[f'MSE_lr30_{i}'] = mean_squared_error(data, globals()[f'imputed_lr30_{i}'])\n",
        "t_end = time.time()\n",
        "t30_LR = (t_end- t_start)"
      ],
      "metadata": {
        "id": "Yw5f7th9uzIW"
      },
      "execution_count": null,
      "outputs": []
    },
    {
      "cell_type": "code",
      "source": [
        "t_start = time.time()\n",
        "mse_lr30_total = 0 \n",
        "MSE_lr30_1001 = 0\n",
        "for i in range(0,1001):\n",
        "  mse_lr30_total = mse_lr30_total + globals()[f'MSE_lr30_{i+1}']\n",
        "AMSE_FatMass30_lr = mse_lr30_total/1000\n",
        "print(f'AMSE_lr = {AMSE_FatMass30_lr}')\n",
        "t_end = time.time()\n",
        "print(f'เวลาที่ใช้ในการประมวลผล {t_end- t_start} วินาที')\n",
        "print(f'เวลาที่ใช้ในการประมวลผล {(t_end- t_start)/60} นาที')"
      ],
      "metadata": {
        "id": "2MQgk_fjuzIW",
        "colab": {
          "base_uri": "https://localhost:8080/"
        },
        "outputId": "8dc17e01-1000-4dc2-c25e-8e20bb06acb7"
      },
      "execution_count": 55,
      "outputs": [
        {
          "output_type": "stream",
          "name": "stdout",
          "text": [
            "AMSE_lr = 0.10435586319614995\n",
            "เวลาที่ใช้ในการประมวลผล 0.0010673999786376953 วินาที\n",
            "เวลาที่ใช้ในการประมวลผล 1.7789999643961587e-05 นาที\n"
          ]
        }
      ]
    },
    {
      "cell_type": "markdown",
      "source": [
        "### Support Vector Machine model"
      ],
      "metadata": {
        "id": "1VoyXYTouzIW"
      }
    },
    {
      "cell_type": "code",
      "source": [
        "t_start = time.time()\n",
        "regr = svm.SVR()\n",
        "for i in range(1,1001):\n",
        "  svm_svr = IterativeImputer(estimator= regr, max_iter= 10, verbose=2, imputation_order='roman',initial_strategy = 'mean',random_state= i)\n",
        "  globals()[f'imputed_svm30_{i}'] = svm_svr.fit_transform(globals()[f'FatMass30_{i}'].copy())\n",
        "  globals()[f'MSE_svm30_{i}'] = mean_squared_error(data, globals()[f'imputed_svm30_{i}'])\n",
        "t_end = time.time()\n",
        "t30_SVM = (t_end- t_start)"
      ],
      "metadata": {
        "id": "OeUfrN0wuzIW"
      },
      "execution_count": null,
      "outputs": []
    },
    {
      "cell_type": "code",
      "source": [
        "t_start = time.time()\n",
        "mse_svm30_total = 0 \n",
        "MSE_svm30_1001 = 0\n",
        "for i in range(0,1001):\n",
        "  mse_svm30_total = mse_svm30_total + globals()[f'MSE_svm30_{i+1}']\n",
        "AMSE_FatMass30_svm = mse_svm30_total/1000\n",
        "print(f'AMSE_svm = {AMSE_FatMass30_svm}')\n",
        "t_end = time.time()\n",
        "print(f'เวลาที่ใช้ในการประมวลผล {t_end- t_start} วินาที')\n",
        "print(f'เวลาที่ใช้ในการประมวลผล {(t_end- t_start)/60} นาที')"
      ],
      "metadata": {
        "id": "0_K5XC5guzIW",
        "colab": {
          "base_uri": "https://localhost:8080/"
        },
        "outputId": "7f79b3fe-2360-463c-e081-65148ea23dd3"
      },
      "execution_count": 57,
      "outputs": [
        {
          "output_type": "stream",
          "name": "stdout",
          "text": [
            "AMSE_svm = 0.22694531337496066\n",
            "เวลาที่ใช้ในการประมวลผล 0.0009288787841796875 วินาที\n",
            "เวลาที่ใช้ในการประมวลผล 1.548131306966146e-05 นาที\n"
          ]
        }
      ]
    },
    {
      "cell_type": "markdown",
      "source": [
        "## Imputation using the EM"
      ],
      "metadata": {
        "id": "PAsAQUc0uzIW"
      }
    },
    {
      "cell_type": "markdown",
      "source": [
        "### impy.em"
      ],
      "metadata": {
        "id": "BM_Pj2_TuzIX"
      }
    },
    {
      "cell_type": "code",
      "source": [
        "!pip install impyute\n",
        "import impyute as impy"
      ],
      "metadata": {
        "id": "QCZbBPzWuzIX"
      },
      "execution_count": null,
      "outputs": []
    },
    {
      "cell_type": "code",
      "source": [
        "t_start = time.time()\n",
        "for i in range(1,1001):\n",
        "  globals()[f'imputed_impy30_{i}'] = impy.em(globals()[f'FatMass30_{i}'].values.copy())\n",
        "  globals()[f'MSE_impy30_{i}'] = mean_squared_error(data, globals()[f'imputed_impy30_{i}'])\n",
        "t_end = time.time()\n",
        "t30_EM = (t_end- t_start)"
      ],
      "metadata": {
        "id": "plNiFqusuzIX"
      },
      "execution_count": 59,
      "outputs": []
    },
    {
      "cell_type": "code",
      "source": [
        "t_start = time.time()\n",
        "mse_impy30_total = 0 \n",
        "MSE_impy30_1001 = 0\n",
        "for i in range(0,1001):\n",
        "  mse_impy30_total = mse_impy30_total + globals()[f'MSE_impy30_{i+1}']\n",
        "AMSE_FatMass30_impy = mse_impy30_total/1000\n",
        "print(f'AMSE_impy = {AMSE_FatMass30_impy}')\n",
        "t_end = time.time()\n",
        "print(f'เวลาที่ใช้ในการประมวลผล {t_end- t_start} วินาที')\n",
        "print(f'เวลาที่ใช้ในการประมวลผล {(t_end- t_start)/60} นาที')"
      ],
      "metadata": {
        "id": "XeeSDFPYuzIX",
        "colab": {
          "base_uri": "https://localhost:8080/"
        },
        "outputId": "6a4767e6-5f9c-4605-d27b-373bd7ba2b21"
      },
      "execution_count": 60,
      "outputs": [
        {
          "output_type": "stream",
          "name": "stdout",
          "text": [
            "AMSE_impy = 0.5139458111730808\n",
            "เวลาที่ใช้ในการประมวลผล 0.0009403228759765625 วินาที\n",
            "เวลาที่ใช้ในการประมวลผล 1.567204793294271e-05 นาที\n"
          ]
        }
      ]
    },
    {
      "cell_type": "code",
      "source": [],
      "metadata": {
        "id": "ZBwfCHFSuzIX"
      },
      "execution_count": 60,
      "outputs": []
    },
    {
      "cell_type": "markdown",
      "source": [
        "# 40 % random nan"
      ],
      "metadata": {
        "id": "wgXT6R6o3M70"
      }
    },
    {
      "cell_type": "code",
      "source": [
        "t_start = time.time()\n",
        "for i in range(1,1001):\n",
        "  globals()[f'FatMass40_{i}'] = data.copy() # for loop variable name\n",
        "  np.random.seed(i) # for loop seed\n",
        "  n = int((153*40/100)) \n",
        "  index_nan = np.random.choice(globals()[f'FatMass40_{i}']['Fat Mass'].size, n, replace=False) #globals()[name dataframe][column name].size\n",
        "  globals()[f'FatMass40_{i}']['Fat Mass'].ravel()[index_nan] = np.nan\n",
        "t_end = time.time()\n",
        "print(f'เวลาที่ใช้ในการประมวลผล {t_end- t_start} วินาที')\n",
        "print(f'เวลาที่ใช้ในการประมวลผล {(t_end- t_start)/60} นาที')"
      ],
      "metadata": {
        "id": "QJfpwnea3M75",
        "colab": {
          "base_uri": "https://localhost:8080/"
        },
        "outputId": "cdfdb309-927b-4ef2-dad7-723670ce3b7e"
      },
      "execution_count": 61,
      "outputs": [
        {
          "output_type": "stream",
          "name": "stdout",
          "text": [
            "เวลาที่ใช้ในการประมวลผล 0.1678025722503662 วินาที\n",
            "เวลาที่ใช้ในการประมวลผล 0.0027967095375061035 นาที\n"
          ]
        }
      ]
    },
    {
      "cell_type": "markdown",
      "source": [
        "## Imputation using Mean"
      ],
      "metadata": {
        "id": "LNnd1COX3M76"
      }
    },
    {
      "cell_type": "code",
      "source": [
        "from sklearn.impute import SimpleImputer"
      ],
      "metadata": {
        "id": "2At9rpls3M76"
      },
      "execution_count": 62,
      "outputs": []
    },
    {
      "cell_type": "code",
      "source": [
        "t_start = time.time()\n",
        "mean40_imputer = SimpleImputer(strategy='mean')\n",
        "for i in range(1,1001):\n",
        "  globals()[f'imputed_mean40_{i}'] = mean40_imputer.fit_transform(globals()[f'FatMass40_{i}'].copy()) #for loop miss forest impputation \n",
        "  globals()[f'MSE_MEAN40_{i}'] = mean_squared_error(data, globals()[f'imputed_mean40_{i}']) # for loop mean_squared_error\n",
        "t_end = time.time()\n",
        "t40_MEAN = (t_end- t_start)"
      ],
      "metadata": {
        "id": "kOcOSKzY3M76"
      },
      "execution_count": 63,
      "outputs": []
    },
    {
      "cell_type": "code",
      "source": [
        "t_start = time.time()\n",
        "mse_mean40_total = 0 \n",
        "MSE_MEAN40_1001 = 0\n",
        "for i in range(0,1001):\n",
        "  mse_mean40_total = mse_mean40_total + globals()[f'MSE_MEAN40_{i+1}']\n",
        "AMSE_FatMass40_mean = mse_mean40_total/1000\n",
        "print(f'AMSE_mean = {AMSE_FatMass40_mean}')\n",
        "t_end = time.time()\n",
        "print(f'เวลาที่ใช้ในการประมวลผล {t_end- t_start} วินาที')\n",
        "print(f'เวลาที่ใช้ในการประมวลผล {(t_end- t_start)/60} นาที')"
      ],
      "metadata": {
        "id": "8KG1dnhb3M76",
        "colab": {
          "base_uri": "https://localhost:8080/"
        },
        "outputId": "d69655bf-00ae-41e0-c628-788c00a78120"
      },
      "execution_count": 64,
      "outputs": [
        {
          "output_type": "stream",
          "name": "stdout",
          "text": [
            "AMSE_mean = 0.36744647220838195\n",
            "เวลาที่ใช้ในการประมวลผล 0.0010013580322265625 วินาที\n",
            "เวลาที่ใช้ในการประมวลผล 1.6689300537109375e-05 นาที\n"
          ]
        }
      ]
    },
    {
      "cell_type": "markdown",
      "source": [
        "## Imputation using the miss forest"
      ],
      "metadata": {
        "id": "_iaNd0ov3M76"
      }
    },
    {
      "cell_type": "code",
      "source": [
        "import sys\n",
        "import sklearn.neighbors._base\n",
        "sys.modules['sklearn.neighbors.base'] = sklearn.neighbors._base\n",
        "!pip install missingpy\n",
        "import missingpy\n",
        "from missingpy import MissForest\n",
        "from sklearn.metrics import mean_squared_error"
      ],
      "metadata": {
        "id": "5D1HqJBL3M76",
        "colab": {
          "base_uri": "https://localhost:8080/"
        },
        "outputId": "5efb49a6-7209-40a0-fa19-6426c5f5b8c9"
      },
      "execution_count": 65,
      "outputs": [
        {
          "output_type": "stream",
          "name": "stdout",
          "text": [
            "Looking in indexes: https://pypi.org/simple, https://us-python.pkg.dev/colab-wheels/public/simple/\n",
            "Requirement already satisfied: missingpy in /usr/local/lib/python3.8/dist-packages (0.2.0)\n"
          ]
        }
      ]
    },
    {
      "cell_type": "code",
      "source": [
        "t_start = time.time()\n",
        "MF40_imputer = MissForest()\n",
        "for i in range(1,1001):\n",
        "  globals()[f'imputed_mf40_{i}'] = MF40_imputer.fit_transform(globals()[f'FatMass40_{i}'].copy()) #for loop miss forest impputation \n",
        "  globals()[f'MSE_MF40_{i}'] = mean_squared_error(data, globals()[f'imputed_mf40_{i}']) # for loop mean_squared_error\n",
        "t_end = time.time()\n",
        "t40_MF = (t_end- t_start)"
      ],
      "metadata": {
        "id": "d4SNLEtC3M76"
      },
      "execution_count": null,
      "outputs": []
    },
    {
      "cell_type": "code",
      "source": [
        "t_start = time.time()\n",
        "mse_mf40_total = 0 \n",
        "MSE_MF40_1001 = 0\n",
        "for i in range(0,1001):\n",
        "  mse_mf40_total = mse_mf40_total + globals()[f'MSE_MF40_{i+1}']\n",
        "AMSE_FatMass40_mf = mse_mf40_total/1000\n",
        "print(f'AMSE_mf = {AMSE_FatMass40_mf}')\n",
        "t_end = time.time()\n",
        "print(f'เวลาที่ใช้ในการประมวลผล {t_end- t_start} วินาที')\n",
        "print(f'เวลาที่ใช้ในการประมวลผล {(t_end- t_start)/60} นาที')"
      ],
      "metadata": {
        "id": "d2d8YbUy3M77",
        "colab": {
          "base_uri": "https://localhost:8080/"
        },
        "outputId": "f58c780f-46de-423d-f551-c1cba37de259"
      },
      "execution_count": 67,
      "outputs": [
        {
          "output_type": "stream",
          "name": "stdout",
          "text": [
            "AMSE_mf = 0.15015109194394158\n",
            "เวลาที่ใช้ในการประมวลผล 0.0011475086212158203 วินาที\n",
            "เวลาที่ใช้ในการประมวลผล 1.912514368693034e-05 นาที\n"
          ]
        }
      ]
    },
    {
      "cell_type": "markdown",
      "source": [
        "## Imputation using the KNN"
      ],
      "metadata": {
        "id": "gFEGDs2y3M77"
      }
    },
    {
      "cell_type": "code",
      "source": [
        "from sklearn import neighbors\n",
        "from sklearn.impute import KNNImputer"
      ],
      "metadata": {
        "id": "K7an-0gc3M77"
      },
      "execution_count": 68,
      "outputs": []
    },
    {
      "cell_type": "code",
      "source": [
        "t_start = time.time()\n",
        "KNN40_imputer = KNNImputer(n_neighbors = 15)\n",
        "for i in range(1,1001):\n",
        "  globals()[f'imputed_KNN40_{i}'] = KNN40_imputer.fit_transform(globals()[f'FatMass40_{i}'].copy())\n",
        "  globals()[f'MSE_KNN40_{i}'] = mean_squared_error(data, globals()[f'imputed_KNN40_{i}'])\n",
        "t_end = time.time()\n",
        "t40_KNN = (t_end- t_start)"
      ],
      "metadata": {
        "id": "_bhDpYXj3M77"
      },
      "execution_count": 69,
      "outputs": []
    },
    {
      "cell_type": "code",
      "source": [
        "t_start = time.time()\n",
        "mse_knn40_total = 0 \n",
        "MSE_KNN40_1001 = 0\n",
        "for i in range(0,1001):\n",
        "  mse_knn40_total = mse_knn40_total + globals()[f'MSE_KNN40_{i+1}']\n",
        "AMSE_FatMass40_knn = mse_knn40_total/1000\n",
        "print(f'AMSE_knn = {AMSE_FatMass40_knn}')\n",
        "t_end = time.time()\n",
        "print(f'เวลาที่ใช้ในการประมวลผล {t_end- t_start} วินาที')\n",
        "print(f'เวลาที่ใช้ในการประมวลผล {(t_end- t_start)/60} นาที')"
      ],
      "metadata": {
        "id": "frWeSoV23M77",
        "colab": {
          "base_uri": "https://localhost:8080/"
        },
        "outputId": "ee502c2e-5906-4dee-c170-246f29014bdb"
      },
      "execution_count": 70,
      "outputs": [
        {
          "output_type": "stream",
          "name": "stdout",
          "text": [
            "AMSE_knn = 0.27825336725322597\n",
            "เวลาที่ใช้ในการประมวลผล 0.0012509822845458984 วินาที\n",
            "เวลาที่ใช้ในการประมวลผล 2.084970474243164e-05 นาที\n"
          ]
        }
      ]
    },
    {
      "cell_type": "markdown",
      "source": [
        "## Imputation using the MICE"
      ],
      "metadata": {
        "id": "rXFzEFyh3M77"
      }
    },
    {
      "cell_type": "code",
      "source": [
        "from sklearn.experimental import enable_iterative_imputer\n",
        "from sklearn.impute import IterativeImputer\n",
        "from sklearn.linear_model import LinearRegression\n",
        "from sklearn import svm"
      ],
      "metadata": {
        "id": "i3vp047L3M77"
      },
      "execution_count": 71,
      "outputs": []
    },
    {
      "cell_type": "markdown",
      "source": [
        "### LinearRegression model"
      ],
      "metadata": {
        "id": "ONL5L18S3M77"
      }
    },
    {
      "cell_type": "code",
      "source": [
        "t_start = time.time()\n",
        "lr = LinearRegression()\n",
        "for i in range(1,1001):\n",
        "  imp = IterativeImputer(estimator= lr , max_iter= 10, verbose=2, imputation_order='roman',initial_strategy = 'mean',random_state= i)\n",
        "  globals()[f'imputed_lr40_{i}'] = imp.fit_transform(globals()[f'FatMass40_{i}'].copy())\n",
        "  globals()[f'MSE_lr40_{i}'] = mean_squared_error(data, globals()[f'imputed_lr40_{i}'])\n",
        "t_end = time.time()\n",
        "t40_LR = (t_end- t_start)"
      ],
      "metadata": {
        "id": "NODGsVqB3M77"
      },
      "execution_count": null,
      "outputs": []
    },
    {
      "cell_type": "code",
      "source": [
        "t_start = time.time()\n",
        "mse_lr40_total = 0 \n",
        "MSE_lr40_1001 = 0\n",
        "for i in range(0,1001):\n",
        "  mse_lr40_total = mse_lr40_total + globals()[f'MSE_lr40_{i+1}']\n",
        "AMSE_FatMass40_lr = mse_lr40_total/1000\n",
        "print(f'AMSE_lr = {AMSE_FatMass40_lr}')\n",
        "t_end = time.time()\n",
        "print(f'เวลาที่ใช้ในการประมวลผล {t_end- t_start} วินาที')\n",
        "print(f'เวลาที่ใช้ในการประมวลผล {(t_end- t_start)/60} นาที')"
      ],
      "metadata": {
        "id": "sxUaR1Xc3M78",
        "colab": {
          "base_uri": "https://localhost:8080/"
        },
        "outputId": "8a2e5f40-f108-423d-a5b0-2b2cce645fb4"
      },
      "execution_count": 73,
      "outputs": [
        {
          "output_type": "stream",
          "name": "stdout",
          "text": [
            "AMSE_lr = 0.1489427517926446\n",
            "เวลาที่ใช้ในการประมวลผล 0.0013175010681152344 วินาที\n",
            "เวลาที่ใช้ในการประมวลผล 2.1958351135253905e-05 นาที\n"
          ]
        }
      ]
    },
    {
      "cell_type": "markdown",
      "source": [
        "### Support Vector Machine model"
      ],
      "metadata": {
        "id": "b-JCYrIR3M78"
      }
    },
    {
      "cell_type": "code",
      "source": [
        "t_start = time.time()\n",
        "regr = svm.SVR()\n",
        "for i in range(1,1001):\n",
        "  svm_svr = IterativeImputer(estimator= regr, max_iter= 10, verbose=2, imputation_order='roman',initial_strategy = 'mean',random_state= i)\n",
        "  globals()[f'imputed_svm40_{i}'] = svm_svr.fit_transform(globals()[f'FatMass40_{i}'].copy())\n",
        "  globals()[f'MSE_svm40_{i}'] = mean_squared_error(data, globals()[f'imputed_svm40_{i}'])\n",
        "t_end = time.time()\n",
        "t40_SVM = (t_end- t_start)"
      ],
      "metadata": {
        "id": "AT113utI3M78"
      },
      "execution_count": null,
      "outputs": []
    },
    {
      "cell_type": "code",
      "source": [
        "t_start = time.time()\n",
        "mse_svm40_total = 0 \n",
        "MSE_svm40_1001 = 0\n",
        "for i in range(0,1001):\n",
        "  mse_svm40_total = mse_svm40_total + globals()[f'MSE_svm40_{i+1}']\n",
        "AMSE_FatMass40_svm = mse_svm40_total/1000\n",
        "print(f'AMSE_svm = {AMSE_FatMass40_svm}')\n",
        "t_end = time.time()\n",
        "print(f'เวลาที่ใช้ในการประมวลผล {t_end- t_start} วินาที')\n",
        "print(f'เวลาที่ใช้ในการประมวลผล {(t_end- t_start)/60} นาที')"
      ],
      "metadata": {
        "id": "70czjXAm3M78",
        "colab": {
          "base_uri": "https://localhost:8080/"
        },
        "outputId": "290a5667-8599-4d64-e222-b00cdb90a7e3"
      },
      "execution_count": 75,
      "outputs": [
        {
          "output_type": "stream",
          "name": "stdout",
          "text": [
            "AMSE_svm = 0.3087883067653605\n",
            "เวลาที่ใช้ในการประมวลผล 0.001085042953491211 วินาที\n",
            "เวลาที่ใช้ในการประมวลผล 1.8084049224853514e-05 นาที\n"
          ]
        }
      ]
    },
    {
      "cell_type": "markdown",
      "source": [
        "## Imputation using the EM"
      ],
      "metadata": {
        "id": "oYCU9MKU3M78"
      }
    },
    {
      "cell_type": "markdown",
      "source": [
        "### impy.em"
      ],
      "metadata": {
        "id": "M_0BOcvh3M78"
      }
    },
    {
      "cell_type": "code",
      "source": [
        "!pip install impyute\n",
        "import impyute as impy"
      ],
      "metadata": {
        "id": "HG47KPna3M78",
        "colab": {
          "base_uri": "https://localhost:8080/"
        },
        "outputId": "812a6cd4-0356-4241-c0fa-bd006c2aca1c"
      },
      "execution_count": 76,
      "outputs": [
        {
          "output_type": "stream",
          "name": "stdout",
          "text": [
            "Looking in indexes: https://pypi.org/simple, https://us-python.pkg.dev/colab-wheels/public/simple/\n",
            "Requirement already satisfied: impyute in /usr/local/lib/python3.8/dist-packages (0.0.8)\n",
            "Requirement already satisfied: scipy in /usr/local/lib/python3.8/dist-packages (from impyute) (1.7.3)\n",
            "Requirement already satisfied: numpy in /usr/local/lib/python3.8/dist-packages (from impyute) (1.21.6)\n",
            "Requirement already satisfied: scikit-learn in /usr/local/lib/python3.8/dist-packages (from impyute) (1.0.2)\n",
            "Requirement already satisfied: threadpoolctl>=2.0.0 in /usr/local/lib/python3.8/dist-packages (from scikit-learn->impyute) (3.1.0)\n",
            "Requirement already satisfied: joblib>=0.11 in /usr/local/lib/python3.8/dist-packages (from scikit-learn->impyute) (1.2.0)\n"
          ]
        }
      ]
    },
    {
      "cell_type": "code",
      "source": [
        "t_start = time.time()\n",
        "for i in range(1,1001):\n",
        "  globals()[f'imputed_impy40_{i}'] = impy.em(globals()[f'FatMass40_{i}'].values.copy())\n",
        "  globals()[f'MSE_impy40_{i}'] = mean_squared_error(data, globals()[f'imputed_impy40_{i}'])\n",
        "t_end = time.time()\n",
        "t40_EM = (t_end- t_start)"
      ],
      "metadata": {
        "id": "Bf-gqNxt3M78"
      },
      "execution_count": 77,
      "outputs": []
    },
    {
      "cell_type": "code",
      "source": [
        "t_start = time.time()\n",
        "mse_impy40_total = 0 \n",
        "MSE_impy40_1001 = 0\n",
        "for i in range(0,1001):\n",
        "  mse_impy40_total = mse_impy40_total + globals()[f'MSE_impy40_{i+1}']\n",
        "AMSE_FatMass40_impy = mse_impy40_total/1000\n",
        "print(f'AMSE_impy = {AMSE_FatMass40_impy}')\n",
        "t_end = time.time()\n",
        "print(f'เวลาที่ใช้ในการประมวลผล {t_end- t_start} วินาที')\n",
        "print(f'เวลาที่ใช้ในการประมวลผล {(t_end- t_start)/60} นาที')"
      ],
      "metadata": {
        "id": "dlR0Alp-3M78",
        "colab": {
          "base_uri": "https://localhost:8080/"
        },
        "outputId": "19f8b334-d941-4b68-abf5-f9094510046f"
      },
      "execution_count": 78,
      "outputs": [
        {
          "output_type": "stream",
          "name": "stdout",
          "text": [
            "AMSE_impy = 0.7044711636595217\n",
            "เวลาที่ใช้ในการประมวลผล 0.0009331703186035156 วินาที\n",
            "เวลาที่ใช้ในการประมวลผล 1.5552838643391927e-05 นาที\n"
          ]
        }
      ]
    },
    {
      "cell_type": "code",
      "source": [],
      "metadata": {
        "id": "P_3zrcFt3M79"
      },
      "execution_count": 78,
      "outputs": []
    },
    {
      "cell_type": "markdown",
      "source": [
        "# 50 % random nan"
      ],
      "metadata": {
        "id": "VPcbhfhg5CxE"
      }
    },
    {
      "cell_type": "code",
      "source": [
        "t_start = time.time()\n",
        "for i in range(1,1001):\n",
        "  globals()[f'FatMass50_{i}'] = data.copy() # for loop variable name\n",
        "  np.random.seed(i) # for loop seed\n",
        "  n = int((153*50/100)) \n",
        "  index_nan = np.random.choice(globals()[f'FatMass50_{i}']['Fat Mass'].size, n, replace=False) #globals()[name dataframe][column name].size\n",
        "  globals()[f'FatMass50_{i}']['Fat Mass'].ravel()[index_nan] = np.nan\n",
        "t_end = time.time()\n",
        "print(f'เวลาที่ใช้ในการประมวลผล {t_end- t_start} วินาที')\n",
        "print(f'เวลาที่ใช้ในการประมวลผล {(t_end- t_start)/60} นาที')"
      ],
      "metadata": {
        "id": "6o8bkvAb5CxE",
        "colab": {
          "base_uri": "https://localhost:8080/"
        },
        "outputId": "2960323e-eb29-4115-bcfd-0b66cfaeb725"
      },
      "execution_count": 79,
      "outputs": [
        {
          "output_type": "stream",
          "name": "stdout",
          "text": [
            "เวลาที่ใช้ในการประมวลผล 0.16261625289916992 วินาที\n",
            "เวลาที่ใช้ในการประมวลผล 0.002710270881652832 นาที\n"
          ]
        }
      ]
    },
    {
      "cell_type": "markdown",
      "source": [
        "## Imputation using Mean"
      ],
      "metadata": {
        "id": "zsQM_EY35CxF"
      }
    },
    {
      "cell_type": "code",
      "source": [
        "from sklearn.impute import SimpleImputer"
      ],
      "metadata": {
        "id": "q1cKpKhO5CxF"
      },
      "execution_count": 80,
      "outputs": []
    },
    {
      "cell_type": "code",
      "source": [
        "t_start = time.time()\n",
        "mean50_imputer = SimpleImputer(strategy='mean')\n",
        "for i in range(1,1001):\n",
        "  globals()[f'imputed_mean50_{i}'] = mean50_imputer.fit_transform(globals()[f'FatMass50_{i}'].copy()) #for loop miss forest impputation \n",
        "  globals()[f'MSE_MEAN50_{i}'] = mean_squared_error(data, globals()[f'imputed_mean50_{i}']) # for loop mean_squared_error\n",
        "t_end = time.time()\n",
        "t50_MEAN = (t_end- t_start)"
      ],
      "metadata": {
        "id": "AN9tLTag5CxF"
      },
      "execution_count": 81,
      "outputs": []
    },
    {
      "cell_type": "code",
      "source": [
        "t_start = time.time()\n",
        "mse_mean50_total = 0 \n",
        "MSE_MEAN50_1001 = 0\n",
        "for i in range(0,1001):\n",
        "  mse_mean50_total = mse_mean50_total + globals()[f'MSE_MEAN50_{i+1}']\n",
        "AMSE_FatMass50_mean = mse_mean50_total/1000\n",
        "print(f'AMSE_mean = {AMSE_FatMass50_mean}')\n",
        "t_end = time.time()\n",
        "print(f'เวลาที่ใช้ในการประมวลผล {t_end- t_start} วินาที')\n",
        "print(f'เวลาที่ใช้ในการประมวลผล {(t_end- t_start)/60} นาที')"
      ],
      "metadata": {
        "id": "t2R9Lede5CxF",
        "colab": {
          "base_uri": "https://localhost:8080/"
        },
        "outputId": "af012bdd-860e-4ac7-b016-850354ea1d38"
      },
      "execution_count": 82,
      "outputs": [
        {
          "output_type": "stream",
          "name": "stdout",
          "text": [
            "AMSE_mean = 0.45591025603545116\n",
            "เวลาที่ใช้ในการประมวลผล 0.0013916492462158203 วินาที\n",
            "เวลาที่ใช้ในการประมวลผล 2.3194154103597005e-05 นาที\n"
          ]
        }
      ]
    },
    {
      "cell_type": "markdown",
      "source": [
        "## Imputation using the miss forest"
      ],
      "metadata": {
        "id": "KxQMxl4x5CxF"
      }
    },
    {
      "cell_type": "code",
      "source": [
        "import sys\n",
        "import sklearn.neighbors._base\n",
        "sys.modules['sklearn.neighbors.base'] = sklearn.neighbors._base\n",
        "!pip install missingpy\n",
        "import missingpy\n",
        "from missingpy import MissForest\n",
        "from sklearn.metrics import mean_squared_error"
      ],
      "metadata": {
        "id": "c10-E_OL5CxF",
        "colab": {
          "base_uri": "https://localhost:8080/"
        },
        "outputId": "b52aaed4-f6eb-490a-d3bc-74b8c5b6bc9f"
      },
      "execution_count": 83,
      "outputs": [
        {
          "output_type": "stream",
          "name": "stdout",
          "text": [
            "Looking in indexes: https://pypi.org/simple, https://us-python.pkg.dev/colab-wheels/public/simple/\n",
            "Requirement already satisfied: missingpy in /usr/local/lib/python3.8/dist-packages (0.2.0)\n"
          ]
        }
      ]
    },
    {
      "cell_type": "code",
      "source": [
        "t_start = time.time()\n",
        "MF50_imputer = MissForest()\n",
        "for i in range(1,1001):\n",
        "  globals()[f'imputed_mf50_{i}'] = MF50_imputer.fit_transform(globals()[f'FatMass50_{i}'].copy()) #for loop miss forest impputation \n",
        "  globals()[f'MSE_MF50_{i}'] = mean_squared_error(data, globals()[f'imputed_mf50_{i}']) # for loop mean_squared_error\n",
        "t_end = time.time()\n",
        "t50_MF = (t_end- t_start)"
      ],
      "metadata": {
        "id": "4jgSbYVu5CxF"
      },
      "execution_count": null,
      "outputs": []
    },
    {
      "cell_type": "code",
      "source": [
        "t_start = time.time()\n",
        "mse_mf50_total = 0 \n",
        "MSE_MF50_1001 = 0\n",
        "for i in range(0,1001):\n",
        "  mse_mf50_total = mse_mf50_total + globals()[f'MSE_MF50_{i+1}']\n",
        "AMSE_FatMass50_mf = mse_mf50_total/1000\n",
        "print(f'AMSE_mf = {AMSE_FatMass50_mf}')\n",
        "t_end = time.time()\n",
        "print(f'เวลาที่ใช้ในการประมวลผล {t_end- t_start} วินาที')\n",
        "print(f'เวลาที่ใช้ในการประมวลผล {(t_end- t_start)/60} นาที')"
      ],
      "metadata": {
        "id": "NEs1DrsU5CxG",
        "colab": {
          "base_uri": "https://localhost:8080/"
        },
        "outputId": "8bdf4184-0609-4bcd-d7e2-9b64078936f3"
      },
      "execution_count": 85,
      "outputs": [
        {
          "output_type": "stream",
          "name": "stdout",
          "text": [
            "AMSE_mf = 0.1982142513941676\n",
            "เวลาที่ใช้ในการประมวลผล 0.0011708736419677734 วินาที\n",
            "เวลาที่ใช้ในการประมวลผล 1.951456069946289e-05 นาที\n"
          ]
        }
      ]
    },
    {
      "cell_type": "markdown",
      "source": [
        "## Imputation using the KNN"
      ],
      "metadata": {
        "id": "2Hg2k_PK5CxG"
      }
    },
    {
      "cell_type": "code",
      "source": [
        "from sklearn import neighbors\n",
        "from sklearn.impute import KNNImputer"
      ],
      "metadata": {
        "id": "0Uc7nuFW5CxG"
      },
      "execution_count": 86,
      "outputs": []
    },
    {
      "cell_type": "code",
      "source": [
        "t_start = time.time()\n",
        "KNN50_imputer = KNNImputer(n_neighbors = 15)\n",
        "for i in range(1,1001):\n",
        "  globals()[f'imputed_KNN50_{i}'] = KNN50_imputer.fit_transform(globals()[f'FatMass50_{i}'].copy())\n",
        "  globals()[f'MSE_KNN50_{i}'] = mean_squared_error(data, globals()[f'imputed_KNN50_{i}'])\n",
        "t_end = time.time()\n",
        "t50_KNN = (t_end- t_start)"
      ],
      "metadata": {
        "id": "kKu_4B2z5CxG"
      },
      "execution_count": 87,
      "outputs": []
    },
    {
      "cell_type": "code",
      "source": [
        "t_start = time.time()\n",
        "mse_knn50_total = 0 \n",
        "MSE_KNN50_1001 = 0\n",
        "for i in range(0,1001):\n",
        "  mse_knn50_total = mse_knn50_total + globals()[f'MSE_KNN50_{i+1}']\n",
        "AMSE_FatMass50_knn = mse_knn50_total/1000\n",
        "print(f'AMSE_knn = {AMSE_FatMass50_knn}')\n",
        "t_end = time.time()\n",
        "print(f'เวลาที่ใช้ในการประมวลผล {t_end- t_start} วินาที')\n",
        "print(f'เวลาที่ใช้ในการประมวลผล {(t_end- t_start)/60} นาที')"
      ],
      "metadata": {
        "id": "Ryv_HNUY5CxG",
        "colab": {
          "base_uri": "https://localhost:8080/"
        },
        "outputId": "da829296-da7f-40b9-9dd7-66fdea662183"
      },
      "execution_count": 88,
      "outputs": [
        {
          "output_type": "stream",
          "name": "stdout",
          "text": [
            "AMSE_knn = 0.3499059828501201\n",
            "เวลาที่ใช้ในการประมวลผล 0.0024178028106689453 วินาที\n",
            "เวลาที่ใช้ในการประมวลผล 4.029671351114909e-05 นาที\n"
          ]
        }
      ]
    },
    {
      "cell_type": "markdown",
      "source": [
        "## Imputation using the MICE"
      ],
      "metadata": {
        "id": "3sQ8lPP45CxG"
      }
    },
    {
      "cell_type": "code",
      "source": [
        "from sklearn.experimental import enable_iterative_imputer\n",
        "from sklearn.impute import IterativeImputer\n",
        "from sklearn.linear_model import LinearRegression\n",
        "from sklearn import svm"
      ],
      "metadata": {
        "id": "0mDo68T_5CxG"
      },
      "execution_count": 89,
      "outputs": []
    },
    {
      "cell_type": "markdown",
      "source": [
        "### LinearRegression model"
      ],
      "metadata": {
        "id": "2HkBT00U5CxH"
      }
    },
    {
      "cell_type": "code",
      "source": [
        "t_start = time.time()\n",
        "lr = LinearRegression()\n",
        "for i in range(1,1001):\n",
        "  imp = IterativeImputer(estimator= lr , max_iter= 10, verbose=2, imputation_order='roman',initial_strategy = 'mean',random_state= i)\n",
        "  globals()[f'imputed_lr50_{i}'] = imp.fit_transform(globals()[f'FatMass50_{i}'].copy())\n",
        "  globals()[f'MSE_lr50_{i}'] = mean_squared_error(data, globals()[f'imputed_lr50_{i}'])\n",
        "t_end = time.time()\n",
        "t50_LR = (t_end- t_start)"
      ],
      "metadata": {
        "id": "OVl-oZMC5CxH"
      },
      "execution_count": null,
      "outputs": []
    },
    {
      "cell_type": "code",
      "source": [
        "t_start = time.time()\n",
        "mse_lr50_total = 0 \n",
        "MSE_lr50_1001 = 0\n",
        "for i in range(0,1001):\n",
        "  mse_lr50_total = mse_lr50_total + globals()[f'MSE_lr50_{i+1}']\n",
        "AMSE_FatMass50_lr = mse_lr50_total/1000\n",
        "print(f'AMSE_lr = {AMSE_FatMass50_lr}')\n",
        "t_end = time.time()\n",
        "print(f'เวลาที่ใช้ในการประมวลผล {t_end- t_start} วินาที')\n",
        "print(f'เวลาที่ใช้ในการประมวลผล {(t_end- t_start)/60} นาที')"
      ],
      "metadata": {
        "id": "WBUkD7lh5CxH",
        "colab": {
          "base_uri": "https://localhost:8080/"
        },
        "outputId": "557e8a16-24e5-41c7-9183-f6c63a746d25"
      },
      "execution_count": 91,
      "outputs": [
        {
          "output_type": "stream",
          "name": "stdout",
          "text": [
            "AMSE_lr = 0.20842297272659913\n",
            "เวลาที่ใช้ในการประมวลผล 0.0014922618865966797 วินาที\n",
            "เวลาที่ใช้ในการประมวลผล 2.4871031443277994e-05 นาที\n"
          ]
        }
      ]
    },
    {
      "cell_type": "markdown",
      "source": [
        "### Support Vector Machine model"
      ],
      "metadata": {
        "id": "IiGbBbaq5CxH"
      }
    },
    {
      "cell_type": "code",
      "source": [
        "t_start = time.time()\n",
        "regr = svm.SVR()\n",
        "for i in range(1,1001):\n",
        "  svm_svr = IterativeImputer(estimator= regr, max_iter= 10, verbose=2, imputation_order='roman',initial_strategy = 'mean',random_state= i)\n",
        "  globals()[f'imputed_svm50_{i}'] = svm_svr.fit_transform(globals()[f'FatMass50_{i}'].copy())\n",
        "  globals()[f'MSE_svm50_{i}'] = mean_squared_error(data, globals()[f'imputed_svm50_{i}'])\n",
        "t_end = time.time()\n",
        "t50_SVM = (t_end- t_start)"
      ],
      "metadata": {
        "id": "h5LAYHJp5CxH"
      },
      "execution_count": null,
      "outputs": []
    },
    {
      "cell_type": "code",
      "source": [
        "t_start = time.time()\n",
        "mse_svm50_total = 0 \n",
        "MSE_svm50_1001 = 0\n",
        "for i in range(0,1001):\n",
        "  mse_svm50_total = mse_svm50_total + globals()[f'MSE_svm50_{i+1}']\n",
        "AMSE_FatMass50_svm = mse_svm50_total/1000\n",
        "print(f'AMSE_svm = {AMSE_FatMass50_svm}')\n",
        "t_end = time.time()\n",
        "print(f'เวลาที่ใช้ในการประมวลผล {t_end- t_start} วินาที')\n",
        "print(f'เวลาที่ใช้ในการประมวลผล {(t_end- t_start)/60} นาที')"
      ],
      "metadata": {
        "id": "wpFlfe4U5CxH",
        "colab": {
          "base_uri": "https://localhost:8080/"
        },
        "outputId": "54e21b20-1100-431d-dcdd-b0aba89f450d"
      },
      "execution_count": 93,
      "outputs": [
        {
          "output_type": "stream",
          "name": "stdout",
          "text": [
            "AMSE_svm = 0.3887807073063303\n",
            "เวลาที่ใช้ในการประมวลผล 0.001481771469116211 วินาที\n",
            "เวลาที่ใช้ในการประมวลผล 2.4696191151936848e-05 นาที\n"
          ]
        }
      ]
    },
    {
      "cell_type": "markdown",
      "source": [
        "## Imputation using the EM"
      ],
      "metadata": {
        "id": "PtaO25rz5CxI"
      }
    },
    {
      "cell_type": "markdown",
      "source": [
        "### impy.em"
      ],
      "metadata": {
        "id": "GGSdcCYV5CxI"
      }
    },
    {
      "cell_type": "code",
      "source": [
        "!pip install impyute\n",
        "import impyute as impy"
      ],
      "metadata": {
        "id": "IKTlJokL5CxI",
        "colab": {
          "base_uri": "https://localhost:8080/"
        },
        "outputId": "2b47b340-0ee2-430a-ef4c-54e440732518"
      },
      "execution_count": 94,
      "outputs": [
        {
          "output_type": "stream",
          "name": "stdout",
          "text": [
            "Looking in indexes: https://pypi.org/simple, https://us-python.pkg.dev/colab-wheels/public/simple/\n",
            "Requirement already satisfied: impyute in /usr/local/lib/python3.8/dist-packages (0.0.8)\n",
            "Requirement already satisfied: numpy in /usr/local/lib/python3.8/dist-packages (from impyute) (1.21.6)\n",
            "Requirement already satisfied: scipy in /usr/local/lib/python3.8/dist-packages (from impyute) (1.7.3)\n",
            "Requirement already satisfied: scikit-learn in /usr/local/lib/python3.8/dist-packages (from impyute) (1.0.2)\n",
            "Requirement already satisfied: joblib>=0.11 in /usr/local/lib/python3.8/dist-packages (from scikit-learn->impyute) (1.2.0)\n",
            "Requirement already satisfied: threadpoolctl>=2.0.0 in /usr/local/lib/python3.8/dist-packages (from scikit-learn->impyute) (3.1.0)\n"
          ]
        }
      ]
    },
    {
      "cell_type": "code",
      "source": [
        "t_start = time.time()\n",
        "for i in range(1,1001):\n",
        "  globals()[f'imputed_impy50_{i}'] = impy.em(globals()[f'FatMass50_{i}'].values.copy())\n",
        "  globals()[f'MSE_impy50_{i}'] = mean_squared_error(data, globals()[f'imputed_impy50_{i}'])\n",
        "t_end = time.time()\n",
        "t50_EM = (t_end- t_start)"
      ],
      "metadata": {
        "id": "JtbESpzv5CxI"
      },
      "execution_count": 95,
      "outputs": []
    },
    {
      "cell_type": "code",
      "source": [
        "t_start = time.time()\n",
        "mse_impy50_total = 0 \n",
        "MSE_impy50_1001 = 0\n",
        "for i in range(0,1001):\n",
        "  mse_impy50_total = mse_impy50_total + globals()[f'MSE_impy50_{i+1}']\n",
        "AMSE_FatMass50_impy = mse_impy50_total/1000\n",
        "print(f'AMSE_impy = {AMSE_FatMass50_impy}')\n",
        "t_end = time.time()\n",
        "print(f'เวลาที่ใช้ในการประมวลผล {t_end- t_start} วินาที')\n",
        "print(f'เวลาที่ใช้ในการประมวลผล {(t_end- t_start)/60} นาที')"
      ],
      "metadata": {
        "id": "zYc0LhiU5CxI",
        "colab": {
          "base_uri": "https://localhost:8080/"
        },
        "outputId": "96dd2e22-de58-4fb5-a4a4-71c0a394e872"
      },
      "execution_count": 96,
      "outputs": [
        {
          "output_type": "stream",
          "name": "stdout",
          "text": [
            "AMSE_impy = 0.8887231868418819\n",
            "เวลาที่ใช้ในการประมวลผล 0.0009999275207519531 วินาที\n",
            "เวลาที่ใช้ในการประมวลผล 1.666545867919922e-05 นาที\n"
          ]
        }
      ]
    },
    {
      "cell_type": "code",
      "source": [],
      "metadata": {
        "id": "TT3osM6_5CxI"
      },
      "execution_count": 96,
      "outputs": []
    },
    {
      "cell_type": "markdown",
      "source": [
        "# 60 % random nan"
      ],
      "metadata": {
        "id": "nEaoPWrp7Jgo"
      }
    },
    {
      "cell_type": "code",
      "source": [
        "t_start = time.time()\n",
        "for i in range(1,1001):\n",
        "  globals()[f'FatMass60_{i}'] = data.copy() # for loop variable name\n",
        "  np.random.seed(i) # for loop seed\n",
        "  n = int((153*60/100)) \n",
        "  index_nan = np.random.choice(globals()[f'FatMass60_{i}']['Fat Mass'].size, n, replace=False) #globals()[name dataframe][column name].size\n",
        "  globals()[f'FatMass60_{i}']['Fat Mass'].ravel()[index_nan] = np.nan\n",
        "t_end = time.time()\n",
        "print(f'เวลาที่ใช้ในการประมวลผล {t_end- t_start} วินาที')\n",
        "print(f'เวลาที่ใช้ในการประมวลผล {(t_end- t_start)/60} นาที')"
      ],
      "metadata": {
        "id": "H-FmVEpx7Jgo",
        "colab": {
          "base_uri": "https://localhost:8080/"
        },
        "outputId": "2c68421f-17d6-4743-902c-f7bacda319bd"
      },
      "execution_count": 97,
      "outputs": [
        {
          "output_type": "stream",
          "name": "stdout",
          "text": [
            "เวลาที่ใช้ในการประมวลผล 0.170867919921875 วินาที\n",
            "เวลาที่ใช้ในการประมวลผล 0.0028477986653645832 นาที\n"
          ]
        }
      ]
    },
    {
      "cell_type": "markdown",
      "source": [
        "## Imputation using Mean"
      ],
      "metadata": {
        "id": "mnQVQbqJ7Jgp"
      }
    },
    {
      "cell_type": "code",
      "source": [
        "from sklearn.impute import SimpleImputer"
      ],
      "metadata": {
        "id": "r--lqIL57Jgp"
      },
      "execution_count": 98,
      "outputs": []
    },
    {
      "cell_type": "code",
      "source": [
        "t_start = time.time()\n",
        "mean60_imputer = SimpleImputer(strategy='mean')\n",
        "for i in range(1,1001):\n",
        "  globals()[f'imputed_mean60_{i}'] = mean50_imputer.fit_transform(globals()[f'FatMass60_{i}'].copy()) #for loop miss forest impputation \n",
        "  globals()[f'MSE_MEAN60_{i}'] = mean_squared_error(data, globals()[f'imputed_mean60_{i}']) # for loop mean_squared_error\n",
        "t_end = time.time()\n",
        "t60_MEAN = (t_end- t_start)"
      ],
      "metadata": {
        "id": "pZXxPF997Jgp"
      },
      "execution_count": 99,
      "outputs": []
    },
    {
      "cell_type": "code",
      "source": [
        "t_start = time.time()\n",
        "mse_mean60_total = 0 \n",
        "MSE_MEAN60_1001 = 0\n",
        "for i in range(0,1001):\n",
        "  mse_mean60_total = mse_mean60_total + globals()[f'MSE_MEAN60_{i+1}']\n",
        "AMSE_FatMass60_mean = mse_mean60_total/1000\n",
        "print(f'AMSE_mean = {AMSE_FatMass60_mean}')\n",
        "t_end = time.time()\n",
        "print(f'เวลาที่ใช้ในการประมวลผล {t_end- t_start} วินาที')\n",
        "print(f'เวลาที่ใช้ในการประมวลผล {(t_end- t_start)/60} นาที')"
      ],
      "metadata": {
        "id": "wOc9EIvo7Jgp",
        "colab": {
          "base_uri": "https://localhost:8080/"
        },
        "outputId": "61ccf7c6-14ef-4393-ec4a-4cab56c6333c"
      },
      "execution_count": 100,
      "outputs": [
        {
          "output_type": "stream",
          "name": "stdout",
          "text": [
            "AMSE_mean = 0.5470387686836652\n",
            "เวลาที่ใช้ในการประมวลผล 0.0010454654693603516 วินาที\n",
            "เวลาที่ใช้ในการประมวลผล 1.742442448933919e-05 นาที\n"
          ]
        }
      ]
    },
    {
      "cell_type": "markdown",
      "source": [
        "## Imputation using the miss forest"
      ],
      "metadata": {
        "id": "FwBPKTBy7Jgp"
      }
    },
    {
      "cell_type": "code",
      "source": [
        "import sys\n",
        "import sklearn.neighbors._base\n",
        "sys.modules['sklearn.neighbors.base'] = sklearn.neighbors._base\n",
        "!pip install missingpy\n",
        "import missingpy\n",
        "from missingpy import MissForest\n",
        "from sklearn.metrics import mean_squared_error"
      ],
      "metadata": {
        "id": "lv1_5jT87Jgp",
        "colab": {
          "base_uri": "https://localhost:8080/"
        },
        "outputId": "7ce59d8c-f4c3-4390-f019-caa17f4788e7"
      },
      "execution_count": 101,
      "outputs": [
        {
          "output_type": "stream",
          "name": "stdout",
          "text": [
            "Looking in indexes: https://pypi.org/simple, https://us-python.pkg.dev/colab-wheels/public/simple/\n",
            "Requirement already satisfied: missingpy in /usr/local/lib/python3.8/dist-packages (0.2.0)\n"
          ]
        }
      ]
    },
    {
      "cell_type": "code",
      "source": [
        "t_start = time.time()\n",
        "MF60_imputer = MissForest()\n",
        "for i in range(1,1001):\n",
        "  globals()[f'imputed_mf60_{i}'] = MF60_imputer.fit_transform(globals()[f'FatMass60_{i}'].copy()) #for loop miss forest impputation \n",
        "  globals()[f'MSE_MF60_{i}'] = mean_squared_error(data, globals()[f'imputed_mf60_{i}']) # for loop mean_squared_error\n",
        "t_end = time.time()\n",
        "t60_MF = (t_end- t_start)"
      ],
      "metadata": {
        "id": "vlxfsL-p7Jgp"
      },
      "execution_count": null,
      "outputs": []
    },
    {
      "cell_type": "code",
      "source": [
        "t_start = time.time()\n",
        "mse_mf60_total = 0 \n",
        "MSE_MF60_1001 = 0\n",
        "for i in range(0,1001):\n",
        "  mse_mf60_total = mse_mf60_total + globals()[f'MSE_MF60_{i+1}']\n",
        "AMSE_FatMass60_mf = mse_mf60_total/1000\n",
        "print(f'AMSE_mf = {AMSE_FatMass60_mf}')\n",
        "t_end = time.time()\n",
        "print(f'เวลาที่ใช้ในการประมวลผล {t_end- t_start} วินาที')\n",
        "print(f'เวลาที่ใช้ในการประมวลผล {(t_end- t_start)/60} นาที')"
      ],
      "metadata": {
        "id": "8xuApycY7Jgq",
        "colab": {
          "base_uri": "https://localhost:8080/"
        },
        "outputId": "6fc0e8ac-bbce-4da4-9fcb-8f58f91d6bc8"
      },
      "execution_count": 103,
      "outputs": [
        {
          "output_type": "stream",
          "name": "stdout",
          "text": [
            "AMSE_mf = 0.25817742229386614\n",
            "เวลาที่ใช้ในการประมวลผล 0.0018646717071533203 วินาที\n",
            "เวลาที่ใช้ในการประมวลผล 3.107786178588867e-05 นาที\n"
          ]
        }
      ]
    },
    {
      "cell_type": "markdown",
      "source": [
        "## Imputation using the KNN"
      ],
      "metadata": {
        "id": "hJinxfM57Jgq"
      }
    },
    {
      "cell_type": "code",
      "source": [
        "from sklearn import neighbors\n",
        "from sklearn.impute import KNNImputer"
      ],
      "metadata": {
        "id": "M9cnQDhk7Jgq"
      },
      "execution_count": 104,
      "outputs": []
    },
    {
      "cell_type": "code",
      "source": [
        "t_start = time.time()\n",
        "KNN60_imputer = KNNImputer(n_neighbors = 15)\n",
        "for i in range(1,1001):\n",
        "  globals()[f'imputed_KNN60_{i}'] = KNN60_imputer.fit_transform(globals()[f'FatMass60_{i}'].copy())\n",
        "  globals()[f'MSE_KNN60_{i}'] = mean_squared_error(data, globals()[f'imputed_KNN60_{i}'])\n",
        "t_end = time.time()\n",
        "t60_KNN = (t_end- t_start)"
      ],
      "metadata": {
        "id": "HV14AOKf7Jgq"
      },
      "execution_count": 105,
      "outputs": []
    },
    {
      "cell_type": "code",
      "source": [
        "t_start = time.time()\n",
        "mse_knn60_total = 0 \n",
        "MSE_KNN60_1001 = 0\n",
        "for i in range(0,1001):\n",
        "  mse_knn60_total = mse_knn60_total + globals()[f'MSE_KNN60_{i+1}']\n",
        "AMSE_FatMass60_knn = mse_knn60_total/1000\n",
        "print(f'AMSE_knn = {AMSE_FatMass60_knn}')\n",
        "t_end = time.time()\n",
        "print(f'เวลาที่ใช้ในการประมวลผล {t_end- t_start} วินาที')\n",
        "print(f'เวลาที่ใช้ในการประมวลผล {(t_end- t_start)/60} นาที')"
      ],
      "metadata": {
        "id": "fqgm9TWL7Jgq",
        "colab": {
          "base_uri": "https://localhost:8080/"
        },
        "outputId": "3c71e5d1-298a-46c4-d192-d783189ad82d"
      },
      "execution_count": 106,
      "outputs": [
        {
          "output_type": "stream",
          "name": "stdout",
          "text": [
            "AMSE_knn = 0.42984876414725426\n",
            "เวลาที่ใช้ในการประมวลผล 0.002301454544067383 วินาที\n",
            "เวลาที่ใช้ในการประมวลผล 3.835757573445638e-05 นาที\n"
          ]
        }
      ]
    },
    {
      "cell_type": "markdown",
      "source": [
        "## Imputation using the MICE"
      ],
      "metadata": {
        "id": "oeo3L-HI7Jgq"
      }
    },
    {
      "cell_type": "code",
      "source": [
        "from sklearn.experimental import enable_iterative_imputer\n",
        "from sklearn.impute import IterativeImputer\n",
        "from sklearn.linear_model import LinearRegression\n",
        "from sklearn import svm"
      ],
      "metadata": {
        "id": "2Y4kfkQ27Jgq"
      },
      "execution_count": 107,
      "outputs": []
    },
    {
      "cell_type": "markdown",
      "source": [
        "### LinearRegression model"
      ],
      "metadata": {
        "id": "achsTX9n7Jgq"
      }
    },
    {
      "cell_type": "code",
      "source": [
        "t_start = time.time()\n",
        "lr = LinearRegression()\n",
        "for i in range(1,1001):\n",
        "  imp = IterativeImputer(estimator= lr , max_iter= 10, verbose=2, imputation_order='roman',initial_strategy = 'mean',random_state= i)\n",
        "  globals()[f'imputed_lr60_{i}'] = imp.fit_transform(globals()[f'FatMass60_{i}'].copy())\n",
        "  globals()[f'MSE_lr60_{i}'] = mean_squared_error(data, globals()[f'imputed_lr60_{i}'])\n",
        "t_end = time.time()\n",
        "t60_LR = (t_end- t_start)"
      ],
      "metadata": {
        "id": "yMjq-5Nk7Jgq"
      },
      "execution_count": null,
      "outputs": []
    },
    {
      "cell_type": "code",
      "source": [
        "t_start = time.time()\n",
        "mse_lr60_total = 0 \n",
        "MSE_lr60_1001 = 0\n",
        "for i in range(0,1001):\n",
        "  mse_lr60_total = mse_lr60_total + globals()[f'MSE_lr60_{i+1}']\n",
        "AMSE_FatMass60_lr = mse_lr60_total/1000\n",
        "print(f'AMSE_lr = {AMSE_FatMass60_lr}')\n",
        "t_end = time.time()\n",
        "print(f'เวลาที่ใช้ในการประมวลผล {t_end- t_start} วินาที')\n",
        "print(f'เวลาที่ใช้ในการประมวลผล {(t_end- t_start)/60} นาที')"
      ],
      "metadata": {
        "id": "v4Y1_5L67Jgr",
        "colab": {
          "base_uri": "https://localhost:8080/"
        },
        "outputId": "5b717136-7902-4a1a-e2f0-c6803170c26d"
      },
      "execution_count": 109,
      "outputs": [
        {
          "output_type": "stream",
          "name": "stdout",
          "text": [
            "AMSE_lr = 0.30869810327649877\n",
            "เวลาที่ใช้ในการประมวลผล 0.0015697479248046875 วินาที\n",
            "เวลาที่ใช้ในการประมวลผล 2.616246541341146e-05 นาที\n"
          ]
        }
      ]
    },
    {
      "cell_type": "markdown",
      "source": [
        "### Support Vector Machine model"
      ],
      "metadata": {
        "id": "MGNkeqpJ7Jgr"
      }
    },
    {
      "cell_type": "code",
      "source": [
        "t_start = time.time()\n",
        "regr = svm.SVR()\n",
        "for i in range(1,1001):\n",
        "  svm_svr = IterativeImputer(estimator= regr, max_iter= 10, verbose=2, imputation_order='roman',initial_strategy = 'mean',random_state= i)\n",
        "  globals()[f'imputed_svm60_{i}'] = svm_svr.fit_transform(globals()[f'FatMass60_{i}'].copy())\n",
        "  globals()[f'MSE_svm60_{i}'] = mean_squared_error(data, globals()[f'imputed_svm60_{i}'])\n",
        "t_end = time.time()\n",
        "t60_SVM = (t_end- t_start)"
      ],
      "metadata": {
        "id": "xuFqS3Iv7Jgr"
      },
      "execution_count": null,
      "outputs": []
    },
    {
      "cell_type": "code",
      "source": [
        "t_start = time.time()\n",
        "mse_svm60_total = 0 \n",
        "MSE_svm60_1001 = 0\n",
        "for i in range(0,1001):\n",
        "  mse_svm60_total = mse_svm60_total + globals()[f'MSE_svm60_{i+1}']\n",
        "AMSE_FatMass60_svm = mse_svm60_total/1000\n",
        "print(f'AMSE_svm = {AMSE_FatMass60_svm}')\n",
        "t_end = time.time()\n",
        "print(f'เวลาที่ใช้ในการประมวลผล {t_end- t_start} วินาที')\n",
        "print(f'เวลาที่ใช้ในการประมวลผล {(t_end- t_start)/60} นาที')"
      ],
      "metadata": {
        "id": "azR8eZ7R7Jgr",
        "colab": {
          "base_uri": "https://localhost:8080/"
        },
        "outputId": "54b3a751-18c3-40d7-9474-37a5edace1ab"
      },
      "execution_count": 111,
      "outputs": [
        {
          "output_type": "stream",
          "name": "stdout",
          "text": [
            "AMSE_svm = 0.4768057717851406\n",
            "เวลาที่ใช้ในการประมวลผล 0.001524209976196289 วินาที\n",
            "เวลาที่ใช้ในการประมวลผล 2.5403499603271484e-05 นาที\n"
          ]
        }
      ]
    },
    {
      "cell_type": "markdown",
      "source": [
        "## Imputation using the EM"
      ],
      "metadata": {
        "id": "0nf_ZBoX7Jgr"
      }
    },
    {
      "cell_type": "markdown",
      "source": [
        "### impy.em"
      ],
      "metadata": {
        "id": "zAacr4gY7Jgr"
      }
    },
    {
      "cell_type": "code",
      "source": [
        "!pip install impyute\n",
        "import impyute as impy"
      ],
      "metadata": {
        "id": "esXruGLJ7Jgr",
        "colab": {
          "base_uri": "https://localhost:8080/"
        },
        "outputId": "0fe44d2f-e12a-4e88-f87b-28b986ef7677"
      },
      "execution_count": 112,
      "outputs": [
        {
          "output_type": "stream",
          "name": "stdout",
          "text": [
            "Looking in indexes: https://pypi.org/simple, https://us-python.pkg.dev/colab-wheels/public/simple/\n",
            "Requirement already satisfied: impyute in /usr/local/lib/python3.8/dist-packages (0.0.8)\n",
            "Requirement already satisfied: scikit-learn in /usr/local/lib/python3.8/dist-packages (from impyute) (1.0.2)\n",
            "Requirement already satisfied: numpy in /usr/local/lib/python3.8/dist-packages (from impyute) (1.21.6)\n",
            "Requirement already satisfied: scipy in /usr/local/lib/python3.8/dist-packages (from impyute) (1.7.3)\n",
            "Requirement already satisfied: joblib>=0.11 in /usr/local/lib/python3.8/dist-packages (from scikit-learn->impyute) (1.2.0)\n",
            "Requirement already satisfied: threadpoolctl>=2.0.0 in /usr/local/lib/python3.8/dist-packages (from scikit-learn->impyute) (3.1.0)\n"
          ]
        }
      ]
    },
    {
      "cell_type": "code",
      "source": [
        "t_start = time.time()\n",
        "for i in range(1,1001):\n",
        "  globals()[f'imputed_impy60_{i}'] = impy.em(globals()[f'FatMass60_{i}'].values.copy())\n",
        "  globals()[f'MSE_impy60_{i}'] = mean_squared_error(data, globals()[f'imputed_impy60_{i}'])\n",
        "t_end = time.time()\n",
        "t60_EM = (t_end- t_start)"
      ],
      "metadata": {
        "id": "S5MqfiI-7Jgr"
      },
      "execution_count": 113,
      "outputs": []
    },
    {
      "cell_type": "code",
      "source": [
        "t_start = time.time()\n",
        "mse_impy60_total = 0 \n",
        "MSE_impy60_1001 = 0\n",
        "for i in range(0,1001):\n",
        "  mse_impy60_total = mse_impy60_total + globals()[f'MSE_impy60_{i+1}']\n",
        "AMSE_FatMass60_impy = mse_impy60_total/1000\n",
        "print(f'AMSE_impy = {AMSE_FatMass60_impy}')\n",
        "t_end = time.time()\n",
        "print(f'เวลาที่ใช้ในการประมวลผล {t_end- t_start} วินาที')\n",
        "print(f'เวลาที่ใช้ในการประมวลผล {(t_end- t_start)/60} นาที')"
      ],
      "metadata": {
        "id": "YnvhFa8N7Jgr",
        "colab": {
          "base_uri": "https://localhost:8080/"
        },
        "outputId": "358c1cbf-a2a3-4259-cbf9-ccf02005b804"
      },
      "execution_count": 114,
      "outputs": [
        {
          "output_type": "stream",
          "name": "stdout",
          "text": [
            "AMSE_impy = 1.0921282009576954\n",
            "เวลาที่ใช้ในการประมวลผล 0.0010328292846679688 วินาที\n",
            "เวลาที่ใช้ในการประมวลผล 1.7213821411132813e-05 นาที\n"
          ]
        }
      ]
    },
    {
      "cell_type": "markdown",
      "source": [
        "# AMSE"
      ],
      "metadata": {
        "id": "yAQ1LC9JHHsB"
      }
    },
    {
      "cell_type": "code",
      "source": [
        "amse_value = {'Method':['MEAN','Miss Forest','KNN','MICE-LR','MICE-SVM','EM'],\n",
        "              '10%':[AMSE_FatMass10_mean,AMSE_FatMass10_mf,AMSE_FatMass10_knn,AMSE_FatMass10_lr,AMSE_FatMass10_svm,AMSE_FatMass10_impy],\n",
        "      '20%':[AMSE_FatMass20_mean,AMSE_FatMass20_mf,AMSE_FatMass20_knn,AMSE_FatMass20_lr,AMSE_FatMass20_svm,AMSE_FatMass20_impy],\n",
        "      '30%':[AMSE_FatMass30_mean,AMSE_FatMass30_mf,AMSE_FatMass30_knn,AMSE_FatMass30_lr,AMSE_FatMass30_svm,AMSE_FatMass30_impy],\n",
        "      '40%':[AMSE_FatMass40_mean,AMSE_FatMass40_mf,AMSE_FatMass40_knn,AMSE_FatMass40_lr,AMSE_FatMass40_svm,AMSE_FatMass40_impy],\n",
        "      '50%':[AMSE_FatMass50_mean,AMSE_FatMass50_mf,AMSE_FatMass50_knn,AMSE_FatMass50_lr,AMSE_FatMass60_svm,AMSE_FatMass50_impy]\n",
        "      ,'60%':[AMSE_FatMass60_mean,AMSE_FatMass60_mf,AMSE_FatMass60_knn,AMSE_FatMass60_lr,AMSE_FatMass60_svm,AMSE_FatMass60_impy]}"
      ],
      "metadata": {
        "id": "xS-oKgz67Jgs"
      },
      "execution_count": 115,
      "outputs": []
    },
    {
      "cell_type": "code",
      "source": [
        "data_AMSE = pd.DataFrame.from_dict(amse_value)\n",
        "data_AMSE"
      ],
      "metadata": {
        "id": "o-mexyDUHK5V",
        "colab": {
          "base_uri": "https://localhost:8080/",
          "height": 237
        },
        "outputId": "d4827e3a-921c-415a-8709-e7703e10e918"
      },
      "execution_count": 116,
      "outputs": [
        {
          "output_type": "execute_result",
          "data": {
            "text/plain": [
              "        Method       10%       20%       30%       40%       50%       60%\n",
              "0         MEAN  0.089805  0.181194  0.273848  0.367446  0.455910  0.547039\n",
              "1  Miss Forest  0.032839  0.069729  0.107712  0.150151  0.198214  0.258177\n",
              "2          KNN  0.064322  0.133462  0.205695  0.278253  0.349906  0.429849\n",
              "3      MICE-LR  0.029604  0.064569  0.104356  0.148943  0.208423  0.308698\n",
              "4     MICE-SVM  0.071444  0.147583  0.226945  0.308788  0.476806  0.476806\n",
              "5           EM  0.166452  0.338387  0.513946  0.704471  0.888723  1.092128"
            ],
            "text/html": [
              "\n",
              "  <div id=\"df-70666e58-3074-498d-9e37-d4ebde5313dd\">\n",
              "    <div class=\"colab-df-container\">\n",
              "      <div>\n",
              "<style scoped>\n",
              "    .dataframe tbody tr th:only-of-type {\n",
              "        vertical-align: middle;\n",
              "    }\n",
              "\n",
              "    .dataframe tbody tr th {\n",
              "        vertical-align: top;\n",
              "    }\n",
              "\n",
              "    .dataframe thead th {\n",
              "        text-align: right;\n",
              "    }\n",
              "</style>\n",
              "<table border=\"1\" class=\"dataframe\">\n",
              "  <thead>\n",
              "    <tr style=\"text-align: right;\">\n",
              "      <th></th>\n",
              "      <th>Method</th>\n",
              "      <th>10%</th>\n",
              "      <th>20%</th>\n",
              "      <th>30%</th>\n",
              "      <th>40%</th>\n",
              "      <th>50%</th>\n",
              "      <th>60%</th>\n",
              "    </tr>\n",
              "  </thead>\n",
              "  <tbody>\n",
              "    <tr>\n",
              "      <th>0</th>\n",
              "      <td>MEAN</td>\n",
              "      <td>0.089805</td>\n",
              "      <td>0.181194</td>\n",
              "      <td>0.273848</td>\n",
              "      <td>0.367446</td>\n",
              "      <td>0.455910</td>\n",
              "      <td>0.547039</td>\n",
              "    </tr>\n",
              "    <tr>\n",
              "      <th>1</th>\n",
              "      <td>Miss Forest</td>\n",
              "      <td>0.032839</td>\n",
              "      <td>0.069729</td>\n",
              "      <td>0.107712</td>\n",
              "      <td>0.150151</td>\n",
              "      <td>0.198214</td>\n",
              "      <td>0.258177</td>\n",
              "    </tr>\n",
              "    <tr>\n",
              "      <th>2</th>\n",
              "      <td>KNN</td>\n",
              "      <td>0.064322</td>\n",
              "      <td>0.133462</td>\n",
              "      <td>0.205695</td>\n",
              "      <td>0.278253</td>\n",
              "      <td>0.349906</td>\n",
              "      <td>0.429849</td>\n",
              "    </tr>\n",
              "    <tr>\n",
              "      <th>3</th>\n",
              "      <td>MICE-LR</td>\n",
              "      <td>0.029604</td>\n",
              "      <td>0.064569</td>\n",
              "      <td>0.104356</td>\n",
              "      <td>0.148943</td>\n",
              "      <td>0.208423</td>\n",
              "      <td>0.308698</td>\n",
              "    </tr>\n",
              "    <tr>\n",
              "      <th>4</th>\n",
              "      <td>MICE-SVM</td>\n",
              "      <td>0.071444</td>\n",
              "      <td>0.147583</td>\n",
              "      <td>0.226945</td>\n",
              "      <td>0.308788</td>\n",
              "      <td>0.476806</td>\n",
              "      <td>0.476806</td>\n",
              "    </tr>\n",
              "    <tr>\n",
              "      <th>5</th>\n",
              "      <td>EM</td>\n",
              "      <td>0.166452</td>\n",
              "      <td>0.338387</td>\n",
              "      <td>0.513946</td>\n",
              "      <td>0.704471</td>\n",
              "      <td>0.888723</td>\n",
              "      <td>1.092128</td>\n",
              "    </tr>\n",
              "  </tbody>\n",
              "</table>\n",
              "</div>\n",
              "      <button class=\"colab-df-convert\" onclick=\"convertToInteractive('df-70666e58-3074-498d-9e37-d4ebde5313dd')\"\n",
              "              title=\"Convert this dataframe to an interactive table.\"\n",
              "              style=\"display:none;\">\n",
              "        \n",
              "  <svg xmlns=\"http://www.w3.org/2000/svg\" height=\"24px\"viewBox=\"0 0 24 24\"\n",
              "       width=\"24px\">\n",
              "    <path d=\"M0 0h24v24H0V0z\" fill=\"none\"/>\n",
              "    <path d=\"M18.56 5.44l.94 2.06.94-2.06 2.06-.94-2.06-.94-.94-2.06-.94 2.06-2.06.94zm-11 1L8.5 8.5l.94-2.06 2.06-.94-2.06-.94L8.5 2.5l-.94 2.06-2.06.94zm10 10l.94 2.06.94-2.06 2.06-.94-2.06-.94-.94-2.06-.94 2.06-2.06.94z\"/><path d=\"M17.41 7.96l-1.37-1.37c-.4-.4-.92-.59-1.43-.59-.52 0-1.04.2-1.43.59L10.3 9.45l-7.72 7.72c-.78.78-.78 2.05 0 2.83L4 21.41c.39.39.9.59 1.41.59.51 0 1.02-.2 1.41-.59l7.78-7.78 2.81-2.81c.8-.78.8-2.07 0-2.86zM5.41 20L4 18.59l7.72-7.72 1.47 1.35L5.41 20z\"/>\n",
              "  </svg>\n",
              "      </button>\n",
              "      \n",
              "  <style>\n",
              "    .colab-df-container {\n",
              "      display:flex;\n",
              "      flex-wrap:wrap;\n",
              "      gap: 12px;\n",
              "    }\n",
              "\n",
              "    .colab-df-convert {\n",
              "      background-color: #E8F0FE;\n",
              "      border: none;\n",
              "      border-radius: 50%;\n",
              "      cursor: pointer;\n",
              "      display: none;\n",
              "      fill: #1967D2;\n",
              "      height: 32px;\n",
              "      padding: 0 0 0 0;\n",
              "      width: 32px;\n",
              "    }\n",
              "\n",
              "    .colab-df-convert:hover {\n",
              "      background-color: #E2EBFA;\n",
              "      box-shadow: 0px 1px 2px rgba(60, 64, 67, 0.3), 0px 1px 3px 1px rgba(60, 64, 67, 0.15);\n",
              "      fill: #174EA6;\n",
              "    }\n",
              "\n",
              "    [theme=dark] .colab-df-convert {\n",
              "      background-color: #3B4455;\n",
              "      fill: #D2E3FC;\n",
              "    }\n",
              "\n",
              "    [theme=dark] .colab-df-convert:hover {\n",
              "      background-color: #434B5C;\n",
              "      box-shadow: 0px 1px 3px 1px rgba(0, 0, 0, 0.15);\n",
              "      filter: drop-shadow(0px 1px 2px rgba(0, 0, 0, 0.3));\n",
              "      fill: #FFFFFF;\n",
              "    }\n",
              "  </style>\n",
              "\n",
              "      <script>\n",
              "        const buttonEl =\n",
              "          document.querySelector('#df-70666e58-3074-498d-9e37-d4ebde5313dd button.colab-df-convert');\n",
              "        buttonEl.style.display =\n",
              "          google.colab.kernel.accessAllowed ? 'block' : 'none';\n",
              "\n",
              "        async function convertToInteractive(key) {\n",
              "          const element = document.querySelector('#df-70666e58-3074-498d-9e37-d4ebde5313dd');\n",
              "          const dataTable =\n",
              "            await google.colab.kernel.invokeFunction('convertToInteractive',\n",
              "                                                     [key], {});\n",
              "          if (!dataTable) return;\n",
              "\n",
              "          const docLinkHtml = 'Like what you see? Visit the ' +\n",
              "            '<a target=\"_blank\" href=https://colab.research.google.com/notebooks/data_table.ipynb>data table notebook</a>'\n",
              "            + ' to learn more about interactive tables.';\n",
              "          element.innerHTML = '';\n",
              "          dataTable['output_type'] = 'display_data';\n",
              "          await google.colab.output.renderOutput(dataTable, element);\n",
              "          const docLink = document.createElement('div');\n",
              "          docLink.innerHTML = docLinkHtml;\n",
              "          element.appendChild(docLink);\n",
              "        }\n",
              "      </script>\n",
              "    </div>\n",
              "  </div>\n",
              "  "
            ]
          },
          "metadata": {},
          "execution_count": 116
        }
      ]
    },
    {
      "cell_type": "markdown",
      "source": [
        "# เวลาทั้งหมดในการรัน"
      ],
      "metadata": {
        "id": "_zhlMnVr3Gy3"
      }
    },
    {
      "cell_type": "markdown",
      "source": [
        "## second time"
      ],
      "metadata": {
        "id": "O3YvBlIcDTen"
      }
    },
    {
      "cell_type": "code",
      "source": [
        "data_t_sec = {'Method':['MEAN','Miss Forest','KNN','MICE-LR','MICE-SVM','EM'],'10%':[t10_MEAN,t10_MF,t10_KNN,t10_LR,t10_SVM,t10_EM],\n",
        "      '20%':[t20_MEAN,t20_MF,t20_KNN,t20_LR,t20_SVM,t20_EM],'30%':[t30_MEAN,t30_MF,t30_KNN,t30_LR,t30_SVM,t30_EM],'40%':[t40_MEAN,t40_MF,t40_KNN,t40_LR,t40_SVM,t40_EM],\n",
        "      '50%':[t50_MEAN,t50_MF,t50_KNN,t50_LR,t50_SVM,t50_EM],'60%':[t60_MEAN,t60_MF,t60_KNN,t60_LR,t60_SVM,t60_EM]}"
      ],
      "metadata": {
        "id": "azaqLAHf3JTO"
      },
      "execution_count": 117,
      "outputs": []
    },
    {
      "cell_type": "code",
      "source": [
        "data_second = pd.DataFrame.from_dict(data_t_sec)\n",
        "data_second"
      ],
      "metadata": {
        "id": "1E7JBoF7DXNZ",
        "colab": {
          "base_uri": "https://localhost:8080/",
          "height": 237
        },
        "outputId": "d1cc48e7-f14c-4017-bc2a-1b6aff159146"
      },
      "execution_count": 118,
      "outputs": [
        {
          "output_type": "execute_result",
          "data": {
            "text/plain": [
              "        Method         10%         20%         30%         40%         50%  \\\n",
              "0         MEAN    4.001454    3.871331    3.793306    3.867394    3.880478   \n",
              "1  Miss Forest  720.457078  702.721548  683.527963  667.715090  678.474318   \n",
              "2          KNN    4.724937    4.795721    4.981491    5.107177   11.021502   \n",
              "3      MICE-LR   52.125944   51.866518   51.815781   51.425736   53.958135   \n",
              "4     MICE-SVM  114.409624  112.410471  112.397521  113.685748  116.058604   \n",
              "5           EM    6.693469   13.276587   18.833485   23.674142   29.401235   \n",
              "\n",
              "          60%  \n",
              "0    3.907974  \n",
              "1  671.326301  \n",
              "2   12.309867  \n",
              "3   53.505283  \n",
              "4  116.476672  \n",
              "5   33.989888  "
            ],
            "text/html": [
              "\n",
              "  <div id=\"df-f95e0153-aeaf-4fc1-a5eb-547d6c710e72\">\n",
              "    <div class=\"colab-df-container\">\n",
              "      <div>\n",
              "<style scoped>\n",
              "    .dataframe tbody tr th:only-of-type {\n",
              "        vertical-align: middle;\n",
              "    }\n",
              "\n",
              "    .dataframe tbody tr th {\n",
              "        vertical-align: top;\n",
              "    }\n",
              "\n",
              "    .dataframe thead th {\n",
              "        text-align: right;\n",
              "    }\n",
              "</style>\n",
              "<table border=\"1\" class=\"dataframe\">\n",
              "  <thead>\n",
              "    <tr style=\"text-align: right;\">\n",
              "      <th></th>\n",
              "      <th>Method</th>\n",
              "      <th>10%</th>\n",
              "      <th>20%</th>\n",
              "      <th>30%</th>\n",
              "      <th>40%</th>\n",
              "      <th>50%</th>\n",
              "      <th>60%</th>\n",
              "    </tr>\n",
              "  </thead>\n",
              "  <tbody>\n",
              "    <tr>\n",
              "      <th>0</th>\n",
              "      <td>MEAN</td>\n",
              "      <td>4.001454</td>\n",
              "      <td>3.871331</td>\n",
              "      <td>3.793306</td>\n",
              "      <td>3.867394</td>\n",
              "      <td>3.880478</td>\n",
              "      <td>3.907974</td>\n",
              "    </tr>\n",
              "    <tr>\n",
              "      <th>1</th>\n",
              "      <td>Miss Forest</td>\n",
              "      <td>720.457078</td>\n",
              "      <td>702.721548</td>\n",
              "      <td>683.527963</td>\n",
              "      <td>667.715090</td>\n",
              "      <td>678.474318</td>\n",
              "      <td>671.326301</td>\n",
              "    </tr>\n",
              "    <tr>\n",
              "      <th>2</th>\n",
              "      <td>KNN</td>\n",
              "      <td>4.724937</td>\n",
              "      <td>4.795721</td>\n",
              "      <td>4.981491</td>\n",
              "      <td>5.107177</td>\n",
              "      <td>11.021502</td>\n",
              "      <td>12.309867</td>\n",
              "    </tr>\n",
              "    <tr>\n",
              "      <th>3</th>\n",
              "      <td>MICE-LR</td>\n",
              "      <td>52.125944</td>\n",
              "      <td>51.866518</td>\n",
              "      <td>51.815781</td>\n",
              "      <td>51.425736</td>\n",
              "      <td>53.958135</td>\n",
              "      <td>53.505283</td>\n",
              "    </tr>\n",
              "    <tr>\n",
              "      <th>4</th>\n",
              "      <td>MICE-SVM</td>\n",
              "      <td>114.409624</td>\n",
              "      <td>112.410471</td>\n",
              "      <td>112.397521</td>\n",
              "      <td>113.685748</td>\n",
              "      <td>116.058604</td>\n",
              "      <td>116.476672</td>\n",
              "    </tr>\n",
              "    <tr>\n",
              "      <th>5</th>\n",
              "      <td>EM</td>\n",
              "      <td>6.693469</td>\n",
              "      <td>13.276587</td>\n",
              "      <td>18.833485</td>\n",
              "      <td>23.674142</td>\n",
              "      <td>29.401235</td>\n",
              "      <td>33.989888</td>\n",
              "    </tr>\n",
              "  </tbody>\n",
              "</table>\n",
              "</div>\n",
              "      <button class=\"colab-df-convert\" onclick=\"convertToInteractive('df-f95e0153-aeaf-4fc1-a5eb-547d6c710e72')\"\n",
              "              title=\"Convert this dataframe to an interactive table.\"\n",
              "              style=\"display:none;\">\n",
              "        \n",
              "  <svg xmlns=\"http://www.w3.org/2000/svg\" height=\"24px\"viewBox=\"0 0 24 24\"\n",
              "       width=\"24px\">\n",
              "    <path d=\"M0 0h24v24H0V0z\" fill=\"none\"/>\n",
              "    <path d=\"M18.56 5.44l.94 2.06.94-2.06 2.06-.94-2.06-.94-.94-2.06-.94 2.06-2.06.94zm-11 1L8.5 8.5l.94-2.06 2.06-.94-2.06-.94L8.5 2.5l-.94 2.06-2.06.94zm10 10l.94 2.06.94-2.06 2.06-.94-2.06-.94-.94-2.06-.94 2.06-2.06.94z\"/><path d=\"M17.41 7.96l-1.37-1.37c-.4-.4-.92-.59-1.43-.59-.52 0-1.04.2-1.43.59L10.3 9.45l-7.72 7.72c-.78.78-.78 2.05 0 2.83L4 21.41c.39.39.9.59 1.41.59.51 0 1.02-.2 1.41-.59l7.78-7.78 2.81-2.81c.8-.78.8-2.07 0-2.86zM5.41 20L4 18.59l7.72-7.72 1.47 1.35L5.41 20z\"/>\n",
              "  </svg>\n",
              "      </button>\n",
              "      \n",
              "  <style>\n",
              "    .colab-df-container {\n",
              "      display:flex;\n",
              "      flex-wrap:wrap;\n",
              "      gap: 12px;\n",
              "    }\n",
              "\n",
              "    .colab-df-convert {\n",
              "      background-color: #E8F0FE;\n",
              "      border: none;\n",
              "      border-radius: 50%;\n",
              "      cursor: pointer;\n",
              "      display: none;\n",
              "      fill: #1967D2;\n",
              "      height: 32px;\n",
              "      padding: 0 0 0 0;\n",
              "      width: 32px;\n",
              "    }\n",
              "\n",
              "    .colab-df-convert:hover {\n",
              "      background-color: #E2EBFA;\n",
              "      box-shadow: 0px 1px 2px rgba(60, 64, 67, 0.3), 0px 1px 3px 1px rgba(60, 64, 67, 0.15);\n",
              "      fill: #174EA6;\n",
              "    }\n",
              "\n",
              "    [theme=dark] .colab-df-convert {\n",
              "      background-color: #3B4455;\n",
              "      fill: #D2E3FC;\n",
              "    }\n",
              "\n",
              "    [theme=dark] .colab-df-convert:hover {\n",
              "      background-color: #434B5C;\n",
              "      box-shadow: 0px 1px 3px 1px rgba(0, 0, 0, 0.15);\n",
              "      filter: drop-shadow(0px 1px 2px rgba(0, 0, 0, 0.3));\n",
              "      fill: #FFFFFF;\n",
              "    }\n",
              "  </style>\n",
              "\n",
              "      <script>\n",
              "        const buttonEl =\n",
              "          document.querySelector('#df-f95e0153-aeaf-4fc1-a5eb-547d6c710e72 button.colab-df-convert');\n",
              "        buttonEl.style.display =\n",
              "          google.colab.kernel.accessAllowed ? 'block' : 'none';\n",
              "\n",
              "        async function convertToInteractive(key) {\n",
              "          const element = document.querySelector('#df-f95e0153-aeaf-4fc1-a5eb-547d6c710e72');\n",
              "          const dataTable =\n",
              "            await google.colab.kernel.invokeFunction('convertToInteractive',\n",
              "                                                     [key], {});\n",
              "          if (!dataTable) return;\n",
              "\n",
              "          const docLinkHtml = 'Like what you see? Visit the ' +\n",
              "            '<a target=\"_blank\" href=https://colab.research.google.com/notebooks/data_table.ipynb>data table notebook</a>'\n",
              "            + ' to learn more about interactive tables.';\n",
              "          element.innerHTML = '';\n",
              "          dataTable['output_type'] = 'display_data';\n",
              "          await google.colab.output.renderOutput(dataTable, element);\n",
              "          const docLink = document.createElement('div');\n",
              "          docLink.innerHTML = docLinkHtml;\n",
              "          element.appendChild(docLink);\n",
              "        }\n",
              "      </script>\n",
              "    </div>\n",
              "  </div>\n",
              "  "
            ]
          },
          "metadata": {},
          "execution_count": 118
        }
      ]
    },
    {
      "cell_type": "markdown",
      "source": [
        "## minutes"
      ],
      "metadata": {
        "id": "4I2gjmMvl9QK"
      }
    },
    {
      "cell_type": "code",
      "source": [
        "data_t_min = {'Method':['MEAN','Miss Forest','KNN','MICE-LR','MICE-SVM','EM'],'10%':[t10_MEAN/60,t10_MF/60,t10_KNN/60,t10_LR/60,t10_SVM/60,t10_EM/60],\n",
        "      '20%':[t20_MEAN/60,t20_MF/60,t20_KNN/60,t20_LR/60,t20_SVM/60,t20_EM/60],'30%':[t30_MEAN/60,t30_MF/60,t30_KNN/60,t30_LR/60,t30_SVM/60,t30_EM/60]\n",
        "      ,'40%':[t40_MEAN/60,t40_MF/60,t40_KNN/60,t40_LR/60,t40_SVM/60,t40_EM/60],'50%':[t50_MEAN/60,t50_MF/60,t50_KNN/60,t50_LR/60,t50_SVM/60,t50_EM/60],\n",
        "      '60%':[t60_MEAN/60,t60_MF/60,t60_KNN/60,t60_LR/60,t60_SVM/60,t60_EM/60]}\n",
        "     "
      ],
      "metadata": {
        "id": "sAG1_iMfl7Rp"
      },
      "execution_count": 119,
      "outputs": []
    },
    {
      "cell_type": "code",
      "source": [
        "data_minutes = pd.DataFrame.from_dict(data_t_min)\n",
        "data_minutes\n",
        "     "
      ],
      "metadata": {
        "id": "A2-STCRyl7uS",
        "colab": {
          "base_uri": "https://localhost:8080/",
          "height": 237
        },
        "outputId": "5daefd95-fdd9-4e65-f339-4d7dc8b1311d"
      },
      "execution_count": 120,
      "outputs": [
        {
          "output_type": "execute_result",
          "data": {
            "text/plain": [
              "        Method        10%        20%        30%        40%        50%  \\\n",
              "0         MEAN   0.066691   0.064522   0.063222   0.064457   0.064675   \n",
              "1  Miss Forest  12.007618  11.712026  11.392133  11.128585  11.307905   \n",
              "2          KNN   0.078749   0.079929   0.083025   0.085120   0.183692   \n",
              "3      MICE-LR   0.868766   0.864442   0.863596   0.857096   0.899302   \n",
              "4     MICE-SVM   1.906827   1.873508   1.873292   1.894762   1.934310   \n",
              "5           EM   0.111558   0.221276   0.313891   0.394569   0.490021   \n",
              "\n",
              "         60%  \n",
              "0   0.065133  \n",
              "1  11.188772  \n",
              "2   0.205164  \n",
              "3   0.891755  \n",
              "4   1.941278  \n",
              "5   0.566498  "
            ],
            "text/html": [
              "\n",
              "  <div id=\"df-1c48d472-0300-434a-b112-5ca8a0838938\">\n",
              "    <div class=\"colab-df-container\">\n",
              "      <div>\n",
              "<style scoped>\n",
              "    .dataframe tbody tr th:only-of-type {\n",
              "        vertical-align: middle;\n",
              "    }\n",
              "\n",
              "    .dataframe tbody tr th {\n",
              "        vertical-align: top;\n",
              "    }\n",
              "\n",
              "    .dataframe thead th {\n",
              "        text-align: right;\n",
              "    }\n",
              "</style>\n",
              "<table border=\"1\" class=\"dataframe\">\n",
              "  <thead>\n",
              "    <tr style=\"text-align: right;\">\n",
              "      <th></th>\n",
              "      <th>Method</th>\n",
              "      <th>10%</th>\n",
              "      <th>20%</th>\n",
              "      <th>30%</th>\n",
              "      <th>40%</th>\n",
              "      <th>50%</th>\n",
              "      <th>60%</th>\n",
              "    </tr>\n",
              "  </thead>\n",
              "  <tbody>\n",
              "    <tr>\n",
              "      <th>0</th>\n",
              "      <td>MEAN</td>\n",
              "      <td>0.066691</td>\n",
              "      <td>0.064522</td>\n",
              "      <td>0.063222</td>\n",
              "      <td>0.064457</td>\n",
              "      <td>0.064675</td>\n",
              "      <td>0.065133</td>\n",
              "    </tr>\n",
              "    <tr>\n",
              "      <th>1</th>\n",
              "      <td>Miss Forest</td>\n",
              "      <td>12.007618</td>\n",
              "      <td>11.712026</td>\n",
              "      <td>11.392133</td>\n",
              "      <td>11.128585</td>\n",
              "      <td>11.307905</td>\n",
              "      <td>11.188772</td>\n",
              "    </tr>\n",
              "    <tr>\n",
              "      <th>2</th>\n",
              "      <td>KNN</td>\n",
              "      <td>0.078749</td>\n",
              "      <td>0.079929</td>\n",
              "      <td>0.083025</td>\n",
              "      <td>0.085120</td>\n",
              "      <td>0.183692</td>\n",
              "      <td>0.205164</td>\n",
              "    </tr>\n",
              "    <tr>\n",
              "      <th>3</th>\n",
              "      <td>MICE-LR</td>\n",
              "      <td>0.868766</td>\n",
              "      <td>0.864442</td>\n",
              "      <td>0.863596</td>\n",
              "      <td>0.857096</td>\n",
              "      <td>0.899302</td>\n",
              "      <td>0.891755</td>\n",
              "    </tr>\n",
              "    <tr>\n",
              "      <th>4</th>\n",
              "      <td>MICE-SVM</td>\n",
              "      <td>1.906827</td>\n",
              "      <td>1.873508</td>\n",
              "      <td>1.873292</td>\n",
              "      <td>1.894762</td>\n",
              "      <td>1.934310</td>\n",
              "      <td>1.941278</td>\n",
              "    </tr>\n",
              "    <tr>\n",
              "      <th>5</th>\n",
              "      <td>EM</td>\n",
              "      <td>0.111558</td>\n",
              "      <td>0.221276</td>\n",
              "      <td>0.313891</td>\n",
              "      <td>0.394569</td>\n",
              "      <td>0.490021</td>\n",
              "      <td>0.566498</td>\n",
              "    </tr>\n",
              "  </tbody>\n",
              "</table>\n",
              "</div>\n",
              "      <button class=\"colab-df-convert\" onclick=\"convertToInteractive('df-1c48d472-0300-434a-b112-5ca8a0838938')\"\n",
              "              title=\"Convert this dataframe to an interactive table.\"\n",
              "              style=\"display:none;\">\n",
              "        \n",
              "  <svg xmlns=\"http://www.w3.org/2000/svg\" height=\"24px\"viewBox=\"0 0 24 24\"\n",
              "       width=\"24px\">\n",
              "    <path d=\"M0 0h24v24H0V0z\" fill=\"none\"/>\n",
              "    <path d=\"M18.56 5.44l.94 2.06.94-2.06 2.06-.94-2.06-.94-.94-2.06-.94 2.06-2.06.94zm-11 1L8.5 8.5l.94-2.06 2.06-.94-2.06-.94L8.5 2.5l-.94 2.06-2.06.94zm10 10l.94 2.06.94-2.06 2.06-.94-2.06-.94-.94-2.06-.94 2.06-2.06.94z\"/><path d=\"M17.41 7.96l-1.37-1.37c-.4-.4-.92-.59-1.43-.59-.52 0-1.04.2-1.43.59L10.3 9.45l-7.72 7.72c-.78.78-.78 2.05 0 2.83L4 21.41c.39.39.9.59 1.41.59.51 0 1.02-.2 1.41-.59l7.78-7.78 2.81-2.81c.8-.78.8-2.07 0-2.86zM5.41 20L4 18.59l7.72-7.72 1.47 1.35L5.41 20z\"/>\n",
              "  </svg>\n",
              "      </button>\n",
              "      \n",
              "  <style>\n",
              "    .colab-df-container {\n",
              "      display:flex;\n",
              "      flex-wrap:wrap;\n",
              "      gap: 12px;\n",
              "    }\n",
              "\n",
              "    .colab-df-convert {\n",
              "      background-color: #E8F0FE;\n",
              "      border: none;\n",
              "      border-radius: 50%;\n",
              "      cursor: pointer;\n",
              "      display: none;\n",
              "      fill: #1967D2;\n",
              "      height: 32px;\n",
              "      padding: 0 0 0 0;\n",
              "      width: 32px;\n",
              "    }\n",
              "\n",
              "    .colab-df-convert:hover {\n",
              "      background-color: #E2EBFA;\n",
              "      box-shadow: 0px 1px 2px rgba(60, 64, 67, 0.3), 0px 1px 3px 1px rgba(60, 64, 67, 0.15);\n",
              "      fill: #174EA6;\n",
              "    }\n",
              "\n",
              "    [theme=dark] .colab-df-convert {\n",
              "      background-color: #3B4455;\n",
              "      fill: #D2E3FC;\n",
              "    }\n",
              "\n",
              "    [theme=dark] .colab-df-convert:hover {\n",
              "      background-color: #434B5C;\n",
              "      box-shadow: 0px 1px 3px 1px rgba(0, 0, 0, 0.15);\n",
              "      filter: drop-shadow(0px 1px 2px rgba(0, 0, 0, 0.3));\n",
              "      fill: #FFFFFF;\n",
              "    }\n",
              "  </style>\n",
              "\n",
              "      <script>\n",
              "        const buttonEl =\n",
              "          document.querySelector('#df-1c48d472-0300-434a-b112-5ca8a0838938 button.colab-df-convert');\n",
              "        buttonEl.style.display =\n",
              "          google.colab.kernel.accessAllowed ? 'block' : 'none';\n",
              "\n",
              "        async function convertToInteractive(key) {\n",
              "          const element = document.querySelector('#df-1c48d472-0300-434a-b112-5ca8a0838938');\n",
              "          const dataTable =\n",
              "            await google.colab.kernel.invokeFunction('convertToInteractive',\n",
              "                                                     [key], {});\n",
              "          if (!dataTable) return;\n",
              "\n",
              "          const docLinkHtml = 'Like what you see? Visit the ' +\n",
              "            '<a target=\"_blank\" href=https://colab.research.google.com/notebooks/data_table.ipynb>data table notebook</a>'\n",
              "            + ' to learn more about interactive tables.';\n",
              "          element.innerHTML = '';\n",
              "          dataTable['output_type'] = 'display_data';\n",
              "          await google.colab.output.renderOutput(dataTable, element);\n",
              "          const docLink = document.createElement('div');\n",
              "          docLink.innerHTML = docLinkHtml;\n",
              "          element.appendChild(docLink);\n",
              "        }\n",
              "      </script>\n",
              "    </div>\n",
              "  </div>\n",
              "  "
            ]
          },
          "metadata": {},
          "execution_count": 120
        }
      ]
    }
  ]
}