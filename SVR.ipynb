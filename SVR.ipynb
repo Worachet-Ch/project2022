{
  "nbformat": 4,
  "nbformat_minor": 0,
  "metadata": {
    "colab": {
      "provenance": [],
      "machine_shape": "hm",
      "authorship_tag": "ABX9TyP4JDnGZ8Gnf0DAXbOVdLli",
      "include_colab_link": true
    },
    "kernelspec": {
      "name": "python3",
      "display_name": "Python 3"
    },
    "language_info": {
      "name": "python"
    },
    "accelerator": "GPU",
    "gpuClass": "standard"
  },
  "cells": [
    {
      "cell_type": "markdown",
      "metadata": {
        "id": "view-in-github",
        "colab_type": "text"
      },
      "source": [
        "<a href=\"https://colab.research.google.com/github/Worachet-Ch/project2022/blob/main/SVR.ipynb\" target=\"_parent\"><img src=\"https://colab.research.google.com/assets/colab-badge.svg\" alt=\"Open In Colab\"/></a>"
      ]
    },
    {
      "cell_type": "code",
      "execution_count": 1,
      "metadata": {
        "colab": {
          "base_uri": "https://localhost:8080/"
        },
        "id": "Nb4K5OgPDes1",
        "outputId": "97b17d2c-2ac8-41e8-cf18-f551be653b44"
      },
      "outputs": [
        {
          "output_type": "stream",
          "name": "stdout",
          "text": [
            "Mounted at /content/drive\n"
          ]
        }
      ],
      "source": [
        "import pandas as pd\n",
        "import os\n",
        "from google.colab import drive #เชื่อม Google drive\n",
        "drive.mount('/content/drive')\n",
        "path = '/content/drive/My Drive/project' #เข้า drive\n",
        "data_X = pd.read_csv(os.path.join(path,'first_data.csv'))\n",
        "data_Y = pd.read_csv(os.path.join(path,'dataset2.csv'))"
      ]
    },
    {
      "cell_type": "code",
      "source": [
        "data_X.drop('Unnamed: 0',1,inplace = True)\n",
        "data_Y.dropna(subset=['telomere length (kb) '], inplace = True)\n",
        "data_Y.drop(['No.', 'LabNo','DHEAs (BRIA)'], axis=1,inplace = True)\n",
        "data_Y.drop(data_Y.columns[2: 10], axis=1,inplace = True)\n",
        "data_Y.drop(data_Y.columns[27:37], axis=1,inplace = True)"
      ],
      "metadata": {
        "colab": {
          "base_uri": "https://localhost:8080/"
        },
        "id": "-bnQb4G4D21b",
        "outputId": "15c26150-6db3-47b0-f4e6-c036042f529b"
      },
      "execution_count": 2,
      "outputs": [
        {
          "output_type": "stream",
          "name": "stderr",
          "text": [
            "<ipython-input-2-5ecd7837be1a>:1: FutureWarning: In a future version of pandas all arguments of DataFrame.drop except for the argument 'labels' will be keyword-only\n",
            "  data_X.drop('Unnamed: 0',1,inplace = True)\n"
          ]
        }
      ]
    },
    {
      "cell_type": "code",
      "source": [
        "data1 = data_Y['telomere length (kb) ']\n",
        "data = data_X.copy()\n",
        "data['telomere length (kb) '] = list(data1)\n",
        "data"
      ],
      "metadata": {
        "colab": {
          "base_uri": "https://localhost:8080/",
          "height": 485
        },
        "id": "OmtThdK1D4MH",
        "outputId": "dc107550-d057-4ad0-98ea-30d888285ca2"
      },
      "execution_count": 3,
      "outputs": [
        {
          "output_type": "execute_result",
          "data": {
            "text/plain": [
              "     Sex  AgeSYear     Weight     Height        BMI  Systolic  Diastolic  \\\n",
              "0    2.0      58.0  47.200000  156.00000  19.400000   112.000      64.00   \n",
              "1    2.0      57.0  47.400000  153.00000  20.200000   114.000      75.00   \n",
              "2    2.0      24.0  53.200000  157.00000  21.600000   103.000      69.00   \n",
              "3    2.0      62.0  54.400000  165.00000  20.000000    95.000      75.00   \n",
              "4    2.0      86.0  49.000000  154.00000  20.700000   129.000      79.00   \n",
              "..   ...       ...        ...        ...        ...       ...        ...   \n",
              "418  2.0      25.0  47.000000  165.00000  17.300000   104.000      63.00   \n",
              "419  2.0      31.0  72.200000  168.00000  25.600000   123.000      89.00   \n",
              "420  2.0      32.0  58.608675  162.00241  22.240723   113.420      71.38   \n",
              "421  1.0      29.0  58.608675  162.00241  22.240723   115.985      74.54   \n",
              "422  2.0      31.0  58.608675  162.00241  22.240723   116.730      73.36   \n",
              "\n",
              "     HeartRate     SMM  Fat Mass  ...  Uric Acid  Cholesterol  Triglyceride  \\\n",
              "0        70.00  19.847    15.025  ...        4.8        180.0          97.0   \n",
              "1        69.00  19.300    12.500  ...        5.0        176.0          51.0   \n",
              "2        78.00  21.300    14.600  ...        5.2        159.0          45.0   \n",
              "3        83.00  21.600    15.200  ...        4.1        230.0          94.0   \n",
              "4        83.00  19.878    13.932  ...        5.4        183.0          86.0   \n",
              "..         ...     ...       ...  ...        ...          ...           ...   \n",
              "418      89.00  20.381    18.684  ...        4.8        232.0          36.0   \n",
              "419      69.00  25.838    19.464  ...        6.1        187.0          49.0   \n",
              "420      75.64  23.317    20.276  ...        5.1        222.0          58.0   \n",
              "421      85.45  27.483    21.162  ...        6.8        140.0          92.0   \n",
              "422      76.10  23.056    21.261  ...        4.0        243.0         161.0   \n",
              "\n",
              "     HDL-C    LDL   AST   ALT  Alkaline Phos     HbA1c  telomere length (kb)   \n",
              "0     62.0   98.0  25.0  32.0           40.0  5.800000                   7.30  \n",
              "1     72.0   94.0  16.0  16.0           62.0  5.100000                   6.36  \n",
              "2     52.0   98.0  13.0  17.0           50.0  5.400000                   9.71  \n",
              "3     61.0  151.0  18.0  31.0           76.0  5.600000                   6.17  \n",
              "4     39.0  127.0  12.0  22.0           82.0  6.200000                   4.55  \n",
              "..     ...    ...   ...   ...            ...       ...                    ...  \n",
              "418   96.0  128.0  18.0  12.0           46.0  5.426667                   8.98  \n",
              "419   51.0  127.0  21.0  24.0           71.0  5.520000                   8.23  \n",
              "420   79.0  132.0  17.0  10.0           34.0  5.486667                   8.79  \n",
              "421   48.0   73.0  31.0  75.0           69.0  5.420000                   8.93  \n",
              "422   87.0  124.0  24.0  11.0           46.0  6.000000                   7.92  \n",
              "\n",
              "[423 rows x 27 columns]"
            ],
            "text/html": [
              "\n",
              "  <div id=\"df-a10c6b6c-289a-45a5-93b4-12e23d748080\">\n",
              "    <div class=\"colab-df-container\">\n",
              "      <div>\n",
              "<style scoped>\n",
              "    .dataframe tbody tr th:only-of-type {\n",
              "        vertical-align: middle;\n",
              "    }\n",
              "\n",
              "    .dataframe tbody tr th {\n",
              "        vertical-align: top;\n",
              "    }\n",
              "\n",
              "    .dataframe thead th {\n",
              "        text-align: right;\n",
              "    }\n",
              "</style>\n",
              "<table border=\"1\" class=\"dataframe\">\n",
              "  <thead>\n",
              "    <tr style=\"text-align: right;\">\n",
              "      <th></th>\n",
              "      <th>Sex</th>\n",
              "      <th>AgeSYear</th>\n",
              "      <th>Weight</th>\n",
              "      <th>Height</th>\n",
              "      <th>BMI</th>\n",
              "      <th>Systolic</th>\n",
              "      <th>Diastolic</th>\n",
              "      <th>HeartRate</th>\n",
              "      <th>SMM</th>\n",
              "      <th>Fat Mass</th>\n",
              "      <th>...</th>\n",
              "      <th>Uric Acid</th>\n",
              "      <th>Cholesterol</th>\n",
              "      <th>Triglyceride</th>\n",
              "      <th>HDL-C</th>\n",
              "      <th>LDL</th>\n",
              "      <th>AST</th>\n",
              "      <th>ALT</th>\n",
              "      <th>Alkaline Phos</th>\n",
              "      <th>HbA1c</th>\n",
              "      <th>telomere length (kb)</th>\n",
              "    </tr>\n",
              "  </thead>\n",
              "  <tbody>\n",
              "    <tr>\n",
              "      <th>0</th>\n",
              "      <td>2.0</td>\n",
              "      <td>58.0</td>\n",
              "      <td>47.200000</td>\n",
              "      <td>156.00000</td>\n",
              "      <td>19.400000</td>\n",
              "      <td>112.000</td>\n",
              "      <td>64.00</td>\n",
              "      <td>70.00</td>\n",
              "      <td>19.847</td>\n",
              "      <td>15.025</td>\n",
              "      <td>...</td>\n",
              "      <td>4.8</td>\n",
              "      <td>180.0</td>\n",
              "      <td>97.0</td>\n",
              "      <td>62.0</td>\n",
              "      <td>98.0</td>\n",
              "      <td>25.0</td>\n",
              "      <td>32.0</td>\n",
              "      <td>40.0</td>\n",
              "      <td>5.800000</td>\n",
              "      <td>7.30</td>\n",
              "    </tr>\n",
              "    <tr>\n",
              "      <th>1</th>\n",
              "      <td>2.0</td>\n",
              "      <td>57.0</td>\n",
              "      <td>47.400000</td>\n",
              "      <td>153.00000</td>\n",
              "      <td>20.200000</td>\n",
              "      <td>114.000</td>\n",
              "      <td>75.00</td>\n",
              "      <td>69.00</td>\n",
              "      <td>19.300</td>\n",
              "      <td>12.500</td>\n",
              "      <td>...</td>\n",
              "      <td>5.0</td>\n",
              "      <td>176.0</td>\n",
              "      <td>51.0</td>\n",
              "      <td>72.0</td>\n",
              "      <td>94.0</td>\n",
              "      <td>16.0</td>\n",
              "      <td>16.0</td>\n",
              "      <td>62.0</td>\n",
              "      <td>5.100000</td>\n",
              "      <td>6.36</td>\n",
              "    </tr>\n",
              "    <tr>\n",
              "      <th>2</th>\n",
              "      <td>2.0</td>\n",
              "      <td>24.0</td>\n",
              "      <td>53.200000</td>\n",
              "      <td>157.00000</td>\n",
              "      <td>21.600000</td>\n",
              "      <td>103.000</td>\n",
              "      <td>69.00</td>\n",
              "      <td>78.00</td>\n",
              "      <td>21.300</td>\n",
              "      <td>14.600</td>\n",
              "      <td>...</td>\n",
              "      <td>5.2</td>\n",
              "      <td>159.0</td>\n",
              "      <td>45.0</td>\n",
              "      <td>52.0</td>\n",
              "      <td>98.0</td>\n",
              "      <td>13.0</td>\n",
              "      <td>17.0</td>\n",
              "      <td>50.0</td>\n",
              "      <td>5.400000</td>\n",
              "      <td>9.71</td>\n",
              "    </tr>\n",
              "    <tr>\n",
              "      <th>3</th>\n",
              "      <td>2.0</td>\n",
              "      <td>62.0</td>\n",
              "      <td>54.400000</td>\n",
              "      <td>165.00000</td>\n",
              "      <td>20.000000</td>\n",
              "      <td>95.000</td>\n",
              "      <td>75.00</td>\n",
              "      <td>83.00</td>\n",
              "      <td>21.600</td>\n",
              "      <td>15.200</td>\n",
              "      <td>...</td>\n",
              "      <td>4.1</td>\n",
              "      <td>230.0</td>\n",
              "      <td>94.0</td>\n",
              "      <td>61.0</td>\n",
              "      <td>151.0</td>\n",
              "      <td>18.0</td>\n",
              "      <td>31.0</td>\n",
              "      <td>76.0</td>\n",
              "      <td>5.600000</td>\n",
              "      <td>6.17</td>\n",
              "    </tr>\n",
              "    <tr>\n",
              "      <th>4</th>\n",
              "      <td>2.0</td>\n",
              "      <td>86.0</td>\n",
              "      <td>49.000000</td>\n",
              "      <td>154.00000</td>\n",
              "      <td>20.700000</td>\n",
              "      <td>129.000</td>\n",
              "      <td>79.00</td>\n",
              "      <td>83.00</td>\n",
              "      <td>19.878</td>\n",
              "      <td>13.932</td>\n",
              "      <td>...</td>\n",
              "      <td>5.4</td>\n",
              "      <td>183.0</td>\n",
              "      <td>86.0</td>\n",
              "      <td>39.0</td>\n",
              "      <td>127.0</td>\n",
              "      <td>12.0</td>\n",
              "      <td>22.0</td>\n",
              "      <td>82.0</td>\n",
              "      <td>6.200000</td>\n",
              "      <td>4.55</td>\n",
              "    </tr>\n",
              "    <tr>\n",
              "      <th>...</th>\n",
              "      <td>...</td>\n",
              "      <td>...</td>\n",
              "      <td>...</td>\n",
              "      <td>...</td>\n",
              "      <td>...</td>\n",
              "      <td>...</td>\n",
              "      <td>...</td>\n",
              "      <td>...</td>\n",
              "      <td>...</td>\n",
              "      <td>...</td>\n",
              "      <td>...</td>\n",
              "      <td>...</td>\n",
              "      <td>...</td>\n",
              "      <td>...</td>\n",
              "      <td>...</td>\n",
              "      <td>...</td>\n",
              "      <td>...</td>\n",
              "      <td>...</td>\n",
              "      <td>...</td>\n",
              "      <td>...</td>\n",
              "      <td>...</td>\n",
              "    </tr>\n",
              "    <tr>\n",
              "      <th>418</th>\n",
              "      <td>2.0</td>\n",
              "      <td>25.0</td>\n",
              "      <td>47.000000</td>\n",
              "      <td>165.00000</td>\n",
              "      <td>17.300000</td>\n",
              "      <td>104.000</td>\n",
              "      <td>63.00</td>\n",
              "      <td>89.00</td>\n",
              "      <td>20.381</td>\n",
              "      <td>18.684</td>\n",
              "      <td>...</td>\n",
              "      <td>4.8</td>\n",
              "      <td>232.0</td>\n",
              "      <td>36.0</td>\n",
              "      <td>96.0</td>\n",
              "      <td>128.0</td>\n",
              "      <td>18.0</td>\n",
              "      <td>12.0</td>\n",
              "      <td>46.0</td>\n",
              "      <td>5.426667</td>\n",
              "      <td>8.98</td>\n",
              "    </tr>\n",
              "    <tr>\n",
              "      <th>419</th>\n",
              "      <td>2.0</td>\n",
              "      <td>31.0</td>\n",
              "      <td>72.200000</td>\n",
              "      <td>168.00000</td>\n",
              "      <td>25.600000</td>\n",
              "      <td>123.000</td>\n",
              "      <td>89.00</td>\n",
              "      <td>69.00</td>\n",
              "      <td>25.838</td>\n",
              "      <td>19.464</td>\n",
              "      <td>...</td>\n",
              "      <td>6.1</td>\n",
              "      <td>187.0</td>\n",
              "      <td>49.0</td>\n",
              "      <td>51.0</td>\n",
              "      <td>127.0</td>\n",
              "      <td>21.0</td>\n",
              "      <td>24.0</td>\n",
              "      <td>71.0</td>\n",
              "      <td>5.520000</td>\n",
              "      <td>8.23</td>\n",
              "    </tr>\n",
              "    <tr>\n",
              "      <th>420</th>\n",
              "      <td>2.0</td>\n",
              "      <td>32.0</td>\n",
              "      <td>58.608675</td>\n",
              "      <td>162.00241</td>\n",
              "      <td>22.240723</td>\n",
              "      <td>113.420</td>\n",
              "      <td>71.38</td>\n",
              "      <td>75.64</td>\n",
              "      <td>23.317</td>\n",
              "      <td>20.276</td>\n",
              "      <td>...</td>\n",
              "      <td>5.1</td>\n",
              "      <td>222.0</td>\n",
              "      <td>58.0</td>\n",
              "      <td>79.0</td>\n",
              "      <td>132.0</td>\n",
              "      <td>17.0</td>\n",
              "      <td>10.0</td>\n",
              "      <td>34.0</td>\n",
              "      <td>5.486667</td>\n",
              "      <td>8.79</td>\n",
              "    </tr>\n",
              "    <tr>\n",
              "      <th>421</th>\n",
              "      <td>1.0</td>\n",
              "      <td>29.0</td>\n",
              "      <td>58.608675</td>\n",
              "      <td>162.00241</td>\n",
              "      <td>22.240723</td>\n",
              "      <td>115.985</td>\n",
              "      <td>74.54</td>\n",
              "      <td>85.45</td>\n",
              "      <td>27.483</td>\n",
              "      <td>21.162</td>\n",
              "      <td>...</td>\n",
              "      <td>6.8</td>\n",
              "      <td>140.0</td>\n",
              "      <td>92.0</td>\n",
              "      <td>48.0</td>\n",
              "      <td>73.0</td>\n",
              "      <td>31.0</td>\n",
              "      <td>75.0</td>\n",
              "      <td>69.0</td>\n",
              "      <td>5.420000</td>\n",
              "      <td>8.93</td>\n",
              "    </tr>\n",
              "    <tr>\n",
              "      <th>422</th>\n",
              "      <td>2.0</td>\n",
              "      <td>31.0</td>\n",
              "      <td>58.608675</td>\n",
              "      <td>162.00241</td>\n",
              "      <td>22.240723</td>\n",
              "      <td>116.730</td>\n",
              "      <td>73.36</td>\n",
              "      <td>76.10</td>\n",
              "      <td>23.056</td>\n",
              "      <td>21.261</td>\n",
              "      <td>...</td>\n",
              "      <td>4.0</td>\n",
              "      <td>243.0</td>\n",
              "      <td>161.0</td>\n",
              "      <td>87.0</td>\n",
              "      <td>124.0</td>\n",
              "      <td>24.0</td>\n",
              "      <td>11.0</td>\n",
              "      <td>46.0</td>\n",
              "      <td>6.000000</td>\n",
              "      <td>7.92</td>\n",
              "    </tr>\n",
              "  </tbody>\n",
              "</table>\n",
              "<p>423 rows × 27 columns</p>\n",
              "</div>\n",
              "      <button class=\"colab-df-convert\" onclick=\"convertToInteractive('df-a10c6b6c-289a-45a5-93b4-12e23d748080')\"\n",
              "              title=\"Convert this dataframe to an interactive table.\"\n",
              "              style=\"display:none;\">\n",
              "        \n",
              "  <svg xmlns=\"http://www.w3.org/2000/svg\" height=\"24px\"viewBox=\"0 0 24 24\"\n",
              "       width=\"24px\">\n",
              "    <path d=\"M0 0h24v24H0V0z\" fill=\"none\"/>\n",
              "    <path d=\"M18.56 5.44l.94 2.06.94-2.06 2.06-.94-2.06-.94-.94-2.06-.94 2.06-2.06.94zm-11 1L8.5 8.5l.94-2.06 2.06-.94-2.06-.94L8.5 2.5l-.94 2.06-2.06.94zm10 10l.94 2.06.94-2.06 2.06-.94-2.06-.94-.94-2.06-.94 2.06-2.06.94z\"/><path d=\"M17.41 7.96l-1.37-1.37c-.4-.4-.92-.59-1.43-.59-.52 0-1.04.2-1.43.59L10.3 9.45l-7.72 7.72c-.78.78-.78 2.05 0 2.83L4 21.41c.39.39.9.59 1.41.59.51 0 1.02-.2 1.41-.59l7.78-7.78 2.81-2.81c.8-.78.8-2.07 0-2.86zM5.41 20L4 18.59l7.72-7.72 1.47 1.35L5.41 20z\"/>\n",
              "  </svg>\n",
              "      </button>\n",
              "      \n",
              "  <style>\n",
              "    .colab-df-container {\n",
              "      display:flex;\n",
              "      flex-wrap:wrap;\n",
              "      gap: 12px;\n",
              "    }\n",
              "\n",
              "    .colab-df-convert {\n",
              "      background-color: #E8F0FE;\n",
              "      border: none;\n",
              "      border-radius: 50%;\n",
              "      cursor: pointer;\n",
              "      display: none;\n",
              "      fill: #1967D2;\n",
              "      height: 32px;\n",
              "      padding: 0 0 0 0;\n",
              "      width: 32px;\n",
              "    }\n",
              "\n",
              "    .colab-df-convert:hover {\n",
              "      background-color: #E2EBFA;\n",
              "      box-shadow: 0px 1px 2px rgba(60, 64, 67, 0.3), 0px 1px 3px 1px rgba(60, 64, 67, 0.15);\n",
              "      fill: #174EA6;\n",
              "    }\n",
              "\n",
              "    [theme=dark] .colab-df-convert {\n",
              "      background-color: #3B4455;\n",
              "      fill: #D2E3FC;\n",
              "    }\n",
              "\n",
              "    [theme=dark] .colab-df-convert:hover {\n",
              "      background-color: #434B5C;\n",
              "      box-shadow: 0px 1px 3px 1px rgba(0, 0, 0, 0.15);\n",
              "      filter: drop-shadow(0px 1px 2px rgba(0, 0, 0, 0.3));\n",
              "      fill: #FFFFFF;\n",
              "    }\n",
              "  </style>\n",
              "\n",
              "      <script>\n",
              "        const buttonEl =\n",
              "          document.querySelector('#df-a10c6b6c-289a-45a5-93b4-12e23d748080 button.colab-df-convert');\n",
              "        buttonEl.style.display =\n",
              "          google.colab.kernel.accessAllowed ? 'block' : 'none';\n",
              "\n",
              "        async function convertToInteractive(key) {\n",
              "          const element = document.querySelector('#df-a10c6b6c-289a-45a5-93b4-12e23d748080');\n",
              "          const dataTable =\n",
              "            await google.colab.kernel.invokeFunction('convertToInteractive',\n",
              "                                                     [key], {});\n",
              "          if (!dataTable) return;\n",
              "\n",
              "          const docLinkHtml = 'Like what you see? Visit the ' +\n",
              "            '<a target=\"_blank\" href=https://colab.research.google.com/notebooks/data_table.ipynb>data table notebook</a>'\n",
              "            + ' to learn more about interactive tables.';\n",
              "          element.innerHTML = '';\n",
              "          dataTable['output_type'] = 'display_data';\n",
              "          await google.colab.output.renderOutput(dataTable, element);\n",
              "          const docLink = document.createElement('div');\n",
              "          docLink.innerHTML = docLinkHtml;\n",
              "          element.appendChild(docLink);\n",
              "        }\n",
              "      </script>\n",
              "    </div>\n",
              "  </div>\n",
              "  "
            ]
          },
          "metadata": {},
          "execution_count": 3
        }
      ]
    },
    {
      "cell_type": "code",
      "source": [
        "data.isna().sum()"
      ],
      "metadata": {
        "colab": {
          "base_uri": "https://localhost:8080/"
        },
        "id": "uGW9b_SvD7Qn",
        "outputId": "d46f8380-d8bd-4ed2-c376-16be39cd470c"
      },
      "execution_count": 4,
      "outputs": [
        {
          "output_type": "execute_result",
          "data": {
            "text/plain": [
              "Sex                        0\n",
              "AgeSYear                   0\n",
              "Weight                     0\n",
              "Height                     0\n",
              "BMI                        0\n",
              "Systolic                   0\n",
              "Diastolic                  0\n",
              "HeartRate                  0\n",
              "SMM                        0\n",
              "Fat Mass                   0\n",
              "% Body fat                 0\n",
              "waist to hip radio         0\n",
              "abdominal circumference    0\n",
              "visceral fat area          0\n",
              "Glucose                    0\n",
              "BUN                        0\n",
              "Creatinine                 0\n",
              "Uric Acid                  0\n",
              "Cholesterol                0\n",
              "Triglyceride               0\n",
              "HDL-C                      0\n",
              "LDL                        0\n",
              "AST                        0\n",
              "ALT                        0\n",
              "Alkaline Phos              0\n",
              "HbA1c                      0\n",
              "telomere length (kb)       0\n",
              "dtype: int64"
            ]
          },
          "metadata": {},
          "execution_count": 4
        }
      ]
    },
    {
      "cell_type": "code",
      "source": [
        "y = data['telomere length (kb) ']\n",
        "X = data.drop('telomere length (kb) ',1)"
      ],
      "metadata": {
        "colab": {
          "base_uri": "https://localhost:8080/"
        },
        "id": "c-cq49tuD8uM",
        "outputId": "51f0343f-298c-4363-b983-f70684ea813a"
      },
      "execution_count": 5,
      "outputs": [
        {
          "output_type": "stream",
          "name": "stderr",
          "text": [
            "<ipython-input-5-c954eb9a847c>:2: FutureWarning: In a future version of pandas all arguments of DataFrame.drop except for the argument 'labels' will be keyword-only\n",
            "  X = data.drop('telomere length (kb) ',1)\n"
          ]
        }
      ]
    },
    {
      "cell_type": "code",
      "source": [
        "from sklearn.model_selection import train_test_split\n",
        "X_train, X_test, y_train, y_test = train_test_split(X, y, test_size=0.2, random_state=216)"
      ],
      "metadata": {
        "id": "MQjwkH9MEF3i"
      },
      "execution_count": 12,
      "outputs": []
    },
    {
      "cell_type": "code",
      "source": [
        "from sklearn.svm import SVR\n",
        "model = SVR(kernel='linear',gamma='scale', C=1.0, epsilon=0.1)\n",
        "svr = model.fit(X_train, y_train) "
      ],
      "metadata": {
        "id": "-BkNU18xEngC"
      },
      "execution_count": 13,
      "outputs": []
    },
    {
      "cell_type": "code",
      "source": [
        "y_pred = model.predict(X_test)"
      ],
      "metadata": {
        "id": "hWUwx9mhFPG4"
      },
      "execution_count": 14,
      "outputs": []
    },
    {
      "cell_type": "code",
      "source": [
        "from sklearn import metrics\n",
        "#Train\n",
        "print('R2 Value Train:',metrics.r2_score(y_train, svr.predict(X_train)))\n",
        "print('MSE Train:',metrics.mean_squared_error(y_train, svr.predict(X_train)))\n",
        "print('MAE Train:',metrics.mean_absolute_error(y_train, svr.predict(X_train)))"
      ],
      "metadata": {
        "colab": {
          "base_uri": "https://localhost:8080/"
        },
        "id": "_j7_pQbpFXad",
        "outputId": "a53b4743-b33a-40a4-bcca-4d078571a068"
      },
      "execution_count": 15,
      "outputs": [
        {
          "output_type": "stream",
          "name": "stdout",
          "text": [
            "R2 Value Train: 0.43500816907026896\n",
            "MSE Train: 1.972190144592246\n",
            "MAE Train: 0.6134292736226837\n"
          ]
        }
      ]
    },
    {
      "cell_type": "code",
      "source": [
        "import numpy as np\n",
        "print('Accuracy',100- (np.mean(np.abs((y_test - y_pred) / y_test)) * 100))"
      ],
      "metadata": {
        "colab": {
          "base_uri": "https://localhost:8080/"
        },
        "id": "RLQsxV64FltW",
        "outputId": "b980dd13-a3dd-4212-89a3-f0b3e131abd0"
      },
      "execution_count": 16,
      "outputs": [
        {
          "output_type": "stream",
          "name": "stdout",
          "text": [
            "Accuracy 92.19885909251278\n"
          ]
        }
      ]
    },
    {
      "cell_type": "code",
      "source": [
        "#Test\n",
        "print('R2 Value Test:',metrics.r2_score(y_test, y_pred))\n",
        "print('MSE Test:',metrics.mean_squared_error(y_test, y_pred))\n",
        "print('MAE Test:',metrics.mean_absolute_error(y_test, y_pred))"
      ],
      "metadata": {
        "colab": {
          "base_uri": "https://localhost:8080/"
        },
        "id": "XZIbrbCjFpTF",
        "outputId": "9e52533a-2f1d-49d3-a252-0f317a634b37"
      },
      "execution_count": 17,
      "outputs": [
        {
          "output_type": "stream",
          "name": "stdout",
          "text": [
            "R2 Value Test: 0.7768517243592789\n",
            "MSE Test: 0.5199706114952974\n",
            "MAE Test: 0.576392904852205\n"
          ]
        }
      ]
    }
  ]
}