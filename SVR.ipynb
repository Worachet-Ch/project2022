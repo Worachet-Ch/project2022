{
  "nbformat": 4,
  "nbformat_minor": 0,
  "metadata": {
    "colab": {
      "provenance": [],
      "machine_shape": "hm",
      "authorship_tag": "ABX9TyMsvIuh44E1OZ9Pd+oXOBLr",
      "include_colab_link": true
    },
    "kernelspec": {
      "name": "python3",
      "display_name": "Python 3"
    },
    "language_info": {
      "name": "python"
    },
    "accelerator": "GPU",
    "gpuClass": "standard"
  },
  "cells": [
    {
      "cell_type": "markdown",
      "metadata": {
        "id": "view-in-github",
        "colab_type": "text"
      },
      "source": [
        "<a href=\"https://colab.research.google.com/github/Worachet-Ch/project2022/blob/main/SVR.ipynb\" target=\"_parent\"><img src=\"https://colab.research.google.com/assets/colab-badge.svg\" alt=\"Open In Colab\"/></a>"
      ]
    },
    {
      "cell_type": "code",
      "execution_count": 1,
      "metadata": {
        "colab": {
          "base_uri": "https://localhost:8080/"
        },
        "id": "Nb4K5OgPDes1",
        "outputId": "18854e2b-1543-4029-e048-ac1528033f71"
      },
      "outputs": [
        {
          "output_type": "stream",
          "name": "stdout",
          "text": [
            "Drive already mounted at /content/drive; to attempt to forcibly remount, call drive.mount(\"/content/drive\", force_remount=True).\n"
          ]
        }
      ],
      "source": [
        "import pandas as pd\n",
        "import os\n",
        "from google.colab import drive #เชื่อม Google drive\n",
        "drive.mount('/content/drive')\n",
        "path = '/content/drive/My Drive/project' #เข้า drive\n",
        "data_X = pd.read_csv(os.path.join(path,'first_data.csv'))\n",
        "data_Y = pd.read_csv(os.path.join(path,'dataset2.csv'))"
      ]
    },
    {
      "cell_type": "code",
      "source": [
        "data_X.drop('Unnamed: 0',1,inplace = True)\n",
        "data_Y.dropna(subset=['telomere length (kb) '], inplace = True)\n",
        "data_Y.drop(['No.', 'LabNo','DHEAs (BRIA)'], axis=1,inplace = True)\n",
        "data_Y.drop(data_Y.columns[2: 10], axis=1,inplace = True)\n",
        "data_Y.drop(data_Y.columns[27:37], axis=1,inplace = True)"
      ],
      "metadata": {
        "colab": {
          "base_uri": "https://localhost:8080/"
        },
        "id": "-bnQb4G4D21b",
        "outputId": "4524ea85-f423-4b75-8661-8722f72847de"
      },
      "execution_count": 2,
      "outputs": [
        {
          "output_type": "stream",
          "name": "stderr",
          "text": [
            "<ipython-input-2-5ecd7837be1a>:1: FutureWarning: In a future version of pandas all arguments of DataFrame.drop except for the argument 'labels' will be keyword-only\n",
            "  data_X.drop('Unnamed: 0',1,inplace = True)\n"
          ]
        }
      ]
    },
    {
      "cell_type": "markdown",
      "source": [
        "## First Data"
      ],
      "metadata": {
        "id": "aumWetnCksa2"
      }
    },
    {
      "cell_type": "code",
      "source": [
        "data1 = data_Y['telomere length (kb) ']\n",
        "data = data_X.copy()\n",
        "data['telomere length (kb) '] = list(data1)\n",
        "data"
      ],
      "metadata": {
        "colab": {
          "base_uri": "https://localhost:8080/",
          "height": 522
        },
        "id": "OmtThdK1D4MH",
        "outputId": "058070b0-c9eb-4c86-e8fe-b00d356dca58"
      },
      "execution_count": 3,
      "outputs": [
        {
          "output_type": "execute_result",
          "data": {
            "text/plain": [
              "     Sex  AgeSYear     Weight     Height        BMI  Systolic  Diastolic  \\\n",
              "0    2.0      58.0  47.200000  156.00000  19.400000   112.000      64.00   \n",
              "1    2.0      57.0  47.400000  153.00000  20.200000   114.000      75.00   \n",
              "2    2.0      24.0  53.200000  157.00000  21.600000   103.000      69.00   \n",
              "3    2.0      62.0  54.400000  165.00000  20.000000    95.000      75.00   \n",
              "4    2.0      86.0  49.000000  154.00000  20.700000   129.000      79.00   \n",
              "..   ...       ...        ...        ...        ...       ...        ...   \n",
              "418  2.0      25.0  47.000000  165.00000  17.300000   104.000      63.00   \n",
              "419  2.0      31.0  72.200000  168.00000  25.600000   123.000      89.00   \n",
              "420  2.0      32.0  58.608675  162.00241  22.240723   113.420      71.38   \n",
              "421  1.0      29.0  58.608675  162.00241  22.240723   115.985      74.54   \n",
              "422  2.0      31.0  58.608675  162.00241  22.240723   116.730      73.36   \n",
              "\n",
              "     HeartRate     SMM  Fat Mass  ...  Uric Acid  Cholesterol  Triglyceride  \\\n",
              "0        70.00  19.847    15.025  ...        4.8        180.0          97.0   \n",
              "1        69.00  19.300    12.500  ...        5.0        176.0          51.0   \n",
              "2        78.00  21.300    14.600  ...        5.2        159.0          45.0   \n",
              "3        83.00  21.600    15.200  ...        4.1        230.0          94.0   \n",
              "4        83.00  19.878    13.932  ...        5.4        183.0          86.0   \n",
              "..         ...     ...       ...  ...        ...          ...           ...   \n",
              "418      89.00  20.381    18.684  ...        4.8        232.0          36.0   \n",
              "419      69.00  25.838    19.464  ...        6.1        187.0          49.0   \n",
              "420      75.64  23.317    20.276  ...        5.1        222.0          58.0   \n",
              "421      85.45  27.483    21.162  ...        6.8        140.0          92.0   \n",
              "422      76.10  23.056    21.261  ...        4.0        243.0         161.0   \n",
              "\n",
              "     HDL-C    LDL   AST   ALT  Alkaline Phos     HbA1c  telomere length (kb)   \n",
              "0     62.0   98.0  25.0  32.0           40.0  5.800000                   7.30  \n",
              "1     72.0   94.0  16.0  16.0           62.0  5.100000                   6.36  \n",
              "2     52.0   98.0  13.0  17.0           50.0  5.400000                   9.71  \n",
              "3     61.0  151.0  18.0  31.0           76.0  5.600000                   6.17  \n",
              "4     39.0  127.0  12.0  22.0           82.0  6.200000                   4.55  \n",
              "..     ...    ...   ...   ...            ...       ...                    ...  \n",
              "418   96.0  128.0  18.0  12.0           46.0  5.426667                   8.98  \n",
              "419   51.0  127.0  21.0  24.0           71.0  5.520000                   8.23  \n",
              "420   79.0  132.0  17.0  10.0           34.0  5.486667                   8.79  \n",
              "421   48.0   73.0  31.0  75.0           69.0  5.420000                   8.93  \n",
              "422   87.0  124.0  24.0  11.0           46.0  6.000000                   7.92  \n",
              "\n",
              "[423 rows x 27 columns]"
            ],
            "text/html": [
              "\n",
              "  <div id=\"df-4d6970f9-12c1-447d-ac3d-e73016fa73e1\">\n",
              "    <div class=\"colab-df-container\">\n",
              "      <div>\n",
              "<style scoped>\n",
              "    .dataframe tbody tr th:only-of-type {\n",
              "        vertical-align: middle;\n",
              "    }\n",
              "\n",
              "    .dataframe tbody tr th {\n",
              "        vertical-align: top;\n",
              "    }\n",
              "\n",
              "    .dataframe thead th {\n",
              "        text-align: right;\n",
              "    }\n",
              "</style>\n",
              "<table border=\"1\" class=\"dataframe\">\n",
              "  <thead>\n",
              "    <tr style=\"text-align: right;\">\n",
              "      <th></th>\n",
              "      <th>Sex</th>\n",
              "      <th>AgeSYear</th>\n",
              "      <th>Weight</th>\n",
              "      <th>Height</th>\n",
              "      <th>BMI</th>\n",
              "      <th>Systolic</th>\n",
              "      <th>Diastolic</th>\n",
              "      <th>HeartRate</th>\n",
              "      <th>SMM</th>\n",
              "      <th>Fat Mass</th>\n",
              "      <th>...</th>\n",
              "      <th>Uric Acid</th>\n",
              "      <th>Cholesterol</th>\n",
              "      <th>Triglyceride</th>\n",
              "      <th>HDL-C</th>\n",
              "      <th>LDL</th>\n",
              "      <th>AST</th>\n",
              "      <th>ALT</th>\n",
              "      <th>Alkaline Phos</th>\n",
              "      <th>HbA1c</th>\n",
              "      <th>telomere length (kb)</th>\n",
              "    </tr>\n",
              "  </thead>\n",
              "  <tbody>\n",
              "    <tr>\n",
              "      <th>0</th>\n",
              "      <td>2.0</td>\n",
              "      <td>58.0</td>\n",
              "      <td>47.200000</td>\n",
              "      <td>156.00000</td>\n",
              "      <td>19.400000</td>\n",
              "      <td>112.000</td>\n",
              "      <td>64.00</td>\n",
              "      <td>70.00</td>\n",
              "      <td>19.847</td>\n",
              "      <td>15.025</td>\n",
              "      <td>...</td>\n",
              "      <td>4.8</td>\n",
              "      <td>180.0</td>\n",
              "      <td>97.0</td>\n",
              "      <td>62.0</td>\n",
              "      <td>98.0</td>\n",
              "      <td>25.0</td>\n",
              "      <td>32.0</td>\n",
              "      <td>40.0</td>\n",
              "      <td>5.800000</td>\n",
              "      <td>7.30</td>\n",
              "    </tr>\n",
              "    <tr>\n",
              "      <th>1</th>\n",
              "      <td>2.0</td>\n",
              "      <td>57.0</td>\n",
              "      <td>47.400000</td>\n",
              "      <td>153.00000</td>\n",
              "      <td>20.200000</td>\n",
              "      <td>114.000</td>\n",
              "      <td>75.00</td>\n",
              "      <td>69.00</td>\n",
              "      <td>19.300</td>\n",
              "      <td>12.500</td>\n",
              "      <td>...</td>\n",
              "      <td>5.0</td>\n",
              "      <td>176.0</td>\n",
              "      <td>51.0</td>\n",
              "      <td>72.0</td>\n",
              "      <td>94.0</td>\n",
              "      <td>16.0</td>\n",
              "      <td>16.0</td>\n",
              "      <td>62.0</td>\n",
              "      <td>5.100000</td>\n",
              "      <td>6.36</td>\n",
              "    </tr>\n",
              "    <tr>\n",
              "      <th>2</th>\n",
              "      <td>2.0</td>\n",
              "      <td>24.0</td>\n",
              "      <td>53.200000</td>\n",
              "      <td>157.00000</td>\n",
              "      <td>21.600000</td>\n",
              "      <td>103.000</td>\n",
              "      <td>69.00</td>\n",
              "      <td>78.00</td>\n",
              "      <td>21.300</td>\n",
              "      <td>14.600</td>\n",
              "      <td>...</td>\n",
              "      <td>5.2</td>\n",
              "      <td>159.0</td>\n",
              "      <td>45.0</td>\n",
              "      <td>52.0</td>\n",
              "      <td>98.0</td>\n",
              "      <td>13.0</td>\n",
              "      <td>17.0</td>\n",
              "      <td>50.0</td>\n",
              "      <td>5.400000</td>\n",
              "      <td>9.71</td>\n",
              "    </tr>\n",
              "    <tr>\n",
              "      <th>3</th>\n",
              "      <td>2.0</td>\n",
              "      <td>62.0</td>\n",
              "      <td>54.400000</td>\n",
              "      <td>165.00000</td>\n",
              "      <td>20.000000</td>\n",
              "      <td>95.000</td>\n",
              "      <td>75.00</td>\n",
              "      <td>83.00</td>\n",
              "      <td>21.600</td>\n",
              "      <td>15.200</td>\n",
              "      <td>...</td>\n",
              "      <td>4.1</td>\n",
              "      <td>230.0</td>\n",
              "      <td>94.0</td>\n",
              "      <td>61.0</td>\n",
              "      <td>151.0</td>\n",
              "      <td>18.0</td>\n",
              "      <td>31.0</td>\n",
              "      <td>76.0</td>\n",
              "      <td>5.600000</td>\n",
              "      <td>6.17</td>\n",
              "    </tr>\n",
              "    <tr>\n",
              "      <th>4</th>\n",
              "      <td>2.0</td>\n",
              "      <td>86.0</td>\n",
              "      <td>49.000000</td>\n",
              "      <td>154.00000</td>\n",
              "      <td>20.700000</td>\n",
              "      <td>129.000</td>\n",
              "      <td>79.00</td>\n",
              "      <td>83.00</td>\n",
              "      <td>19.878</td>\n",
              "      <td>13.932</td>\n",
              "      <td>...</td>\n",
              "      <td>5.4</td>\n",
              "      <td>183.0</td>\n",
              "      <td>86.0</td>\n",
              "      <td>39.0</td>\n",
              "      <td>127.0</td>\n",
              "      <td>12.0</td>\n",
              "      <td>22.0</td>\n",
              "      <td>82.0</td>\n",
              "      <td>6.200000</td>\n",
              "      <td>4.55</td>\n",
              "    </tr>\n",
              "    <tr>\n",
              "      <th>...</th>\n",
              "      <td>...</td>\n",
              "      <td>...</td>\n",
              "      <td>...</td>\n",
              "      <td>...</td>\n",
              "      <td>...</td>\n",
              "      <td>...</td>\n",
              "      <td>...</td>\n",
              "      <td>...</td>\n",
              "      <td>...</td>\n",
              "      <td>...</td>\n",
              "      <td>...</td>\n",
              "      <td>...</td>\n",
              "      <td>...</td>\n",
              "      <td>...</td>\n",
              "      <td>...</td>\n",
              "      <td>...</td>\n",
              "      <td>...</td>\n",
              "      <td>...</td>\n",
              "      <td>...</td>\n",
              "      <td>...</td>\n",
              "      <td>...</td>\n",
              "    </tr>\n",
              "    <tr>\n",
              "      <th>418</th>\n",
              "      <td>2.0</td>\n",
              "      <td>25.0</td>\n",
              "      <td>47.000000</td>\n",
              "      <td>165.00000</td>\n",
              "      <td>17.300000</td>\n",
              "      <td>104.000</td>\n",
              "      <td>63.00</td>\n",
              "      <td>89.00</td>\n",
              "      <td>20.381</td>\n",
              "      <td>18.684</td>\n",
              "      <td>...</td>\n",
              "      <td>4.8</td>\n",
              "      <td>232.0</td>\n",
              "      <td>36.0</td>\n",
              "      <td>96.0</td>\n",
              "      <td>128.0</td>\n",
              "      <td>18.0</td>\n",
              "      <td>12.0</td>\n",
              "      <td>46.0</td>\n",
              "      <td>5.426667</td>\n",
              "      <td>8.98</td>\n",
              "    </tr>\n",
              "    <tr>\n",
              "      <th>419</th>\n",
              "      <td>2.0</td>\n",
              "      <td>31.0</td>\n",
              "      <td>72.200000</td>\n",
              "      <td>168.00000</td>\n",
              "      <td>25.600000</td>\n",
              "      <td>123.000</td>\n",
              "      <td>89.00</td>\n",
              "      <td>69.00</td>\n",
              "      <td>25.838</td>\n",
              "      <td>19.464</td>\n",
              "      <td>...</td>\n",
              "      <td>6.1</td>\n",
              "      <td>187.0</td>\n",
              "      <td>49.0</td>\n",
              "      <td>51.0</td>\n",
              "      <td>127.0</td>\n",
              "      <td>21.0</td>\n",
              "      <td>24.0</td>\n",
              "      <td>71.0</td>\n",
              "      <td>5.520000</td>\n",
              "      <td>8.23</td>\n",
              "    </tr>\n",
              "    <tr>\n",
              "      <th>420</th>\n",
              "      <td>2.0</td>\n",
              "      <td>32.0</td>\n",
              "      <td>58.608675</td>\n",
              "      <td>162.00241</td>\n",
              "      <td>22.240723</td>\n",
              "      <td>113.420</td>\n",
              "      <td>71.38</td>\n",
              "      <td>75.64</td>\n",
              "      <td>23.317</td>\n",
              "      <td>20.276</td>\n",
              "      <td>...</td>\n",
              "      <td>5.1</td>\n",
              "      <td>222.0</td>\n",
              "      <td>58.0</td>\n",
              "      <td>79.0</td>\n",
              "      <td>132.0</td>\n",
              "      <td>17.0</td>\n",
              "      <td>10.0</td>\n",
              "      <td>34.0</td>\n",
              "      <td>5.486667</td>\n",
              "      <td>8.79</td>\n",
              "    </tr>\n",
              "    <tr>\n",
              "      <th>421</th>\n",
              "      <td>1.0</td>\n",
              "      <td>29.0</td>\n",
              "      <td>58.608675</td>\n",
              "      <td>162.00241</td>\n",
              "      <td>22.240723</td>\n",
              "      <td>115.985</td>\n",
              "      <td>74.54</td>\n",
              "      <td>85.45</td>\n",
              "      <td>27.483</td>\n",
              "      <td>21.162</td>\n",
              "      <td>...</td>\n",
              "      <td>6.8</td>\n",
              "      <td>140.0</td>\n",
              "      <td>92.0</td>\n",
              "      <td>48.0</td>\n",
              "      <td>73.0</td>\n",
              "      <td>31.0</td>\n",
              "      <td>75.0</td>\n",
              "      <td>69.0</td>\n",
              "      <td>5.420000</td>\n",
              "      <td>8.93</td>\n",
              "    </tr>\n",
              "    <tr>\n",
              "      <th>422</th>\n",
              "      <td>2.0</td>\n",
              "      <td>31.0</td>\n",
              "      <td>58.608675</td>\n",
              "      <td>162.00241</td>\n",
              "      <td>22.240723</td>\n",
              "      <td>116.730</td>\n",
              "      <td>73.36</td>\n",
              "      <td>76.10</td>\n",
              "      <td>23.056</td>\n",
              "      <td>21.261</td>\n",
              "      <td>...</td>\n",
              "      <td>4.0</td>\n",
              "      <td>243.0</td>\n",
              "      <td>161.0</td>\n",
              "      <td>87.0</td>\n",
              "      <td>124.0</td>\n",
              "      <td>24.0</td>\n",
              "      <td>11.0</td>\n",
              "      <td>46.0</td>\n",
              "      <td>6.000000</td>\n",
              "      <td>7.92</td>\n",
              "    </tr>\n",
              "  </tbody>\n",
              "</table>\n",
              "<p>423 rows × 27 columns</p>\n",
              "</div>\n",
              "      <button class=\"colab-df-convert\" onclick=\"convertToInteractive('df-4d6970f9-12c1-447d-ac3d-e73016fa73e1')\"\n",
              "              title=\"Convert this dataframe to an interactive table.\"\n",
              "              style=\"display:none;\">\n",
              "        \n",
              "  <svg xmlns=\"http://www.w3.org/2000/svg\" height=\"24px\"viewBox=\"0 0 24 24\"\n",
              "       width=\"24px\">\n",
              "    <path d=\"M0 0h24v24H0V0z\" fill=\"none\"/>\n",
              "    <path d=\"M18.56 5.44l.94 2.06.94-2.06 2.06-.94-2.06-.94-.94-2.06-.94 2.06-2.06.94zm-11 1L8.5 8.5l.94-2.06 2.06-.94-2.06-.94L8.5 2.5l-.94 2.06-2.06.94zm10 10l.94 2.06.94-2.06 2.06-.94-2.06-.94-.94-2.06-.94 2.06-2.06.94z\"/><path d=\"M17.41 7.96l-1.37-1.37c-.4-.4-.92-.59-1.43-.59-.52 0-1.04.2-1.43.59L10.3 9.45l-7.72 7.72c-.78.78-.78 2.05 0 2.83L4 21.41c.39.39.9.59 1.41.59.51 0 1.02-.2 1.41-.59l7.78-7.78 2.81-2.81c.8-.78.8-2.07 0-2.86zM5.41 20L4 18.59l7.72-7.72 1.47 1.35L5.41 20z\"/>\n",
              "  </svg>\n",
              "      </button>\n",
              "      \n",
              "  <style>\n",
              "    .colab-df-container {\n",
              "      display:flex;\n",
              "      flex-wrap:wrap;\n",
              "      gap: 12px;\n",
              "    }\n",
              "\n",
              "    .colab-df-convert {\n",
              "      background-color: #E8F0FE;\n",
              "      border: none;\n",
              "      border-radius: 50%;\n",
              "      cursor: pointer;\n",
              "      display: none;\n",
              "      fill: #1967D2;\n",
              "      height: 32px;\n",
              "      padding: 0 0 0 0;\n",
              "      width: 32px;\n",
              "    }\n",
              "\n",
              "    .colab-df-convert:hover {\n",
              "      background-color: #E2EBFA;\n",
              "      box-shadow: 0px 1px 2px rgba(60, 64, 67, 0.3), 0px 1px 3px 1px rgba(60, 64, 67, 0.15);\n",
              "      fill: #174EA6;\n",
              "    }\n",
              "\n",
              "    [theme=dark] .colab-df-convert {\n",
              "      background-color: #3B4455;\n",
              "      fill: #D2E3FC;\n",
              "    }\n",
              "\n",
              "    [theme=dark] .colab-df-convert:hover {\n",
              "      background-color: #434B5C;\n",
              "      box-shadow: 0px 1px 3px 1px rgba(0, 0, 0, 0.15);\n",
              "      filter: drop-shadow(0px 1px 2px rgba(0, 0, 0, 0.3));\n",
              "      fill: #FFFFFF;\n",
              "    }\n",
              "  </style>\n",
              "\n",
              "      <script>\n",
              "        const buttonEl =\n",
              "          document.querySelector('#df-4d6970f9-12c1-447d-ac3d-e73016fa73e1 button.colab-df-convert');\n",
              "        buttonEl.style.display =\n",
              "          google.colab.kernel.accessAllowed ? 'block' : 'none';\n",
              "\n",
              "        async function convertToInteractive(key) {\n",
              "          const element = document.querySelector('#df-4d6970f9-12c1-447d-ac3d-e73016fa73e1');\n",
              "          const dataTable =\n",
              "            await google.colab.kernel.invokeFunction('convertToInteractive',\n",
              "                                                     [key], {});\n",
              "          if (!dataTable) return;\n",
              "\n",
              "          const docLinkHtml = 'Like what you see? Visit the ' +\n",
              "            '<a target=\"_blank\" href=https://colab.research.google.com/notebooks/data_table.ipynb>data table notebook</a>'\n",
              "            + ' to learn more about interactive tables.';\n",
              "          element.innerHTML = '';\n",
              "          dataTable['output_type'] = 'display_data';\n",
              "          await google.colab.output.renderOutput(dataTable, element);\n",
              "          const docLink = document.createElement('div');\n",
              "          docLink.innerHTML = docLinkHtml;\n",
              "          element.appendChild(docLink);\n",
              "        }\n",
              "      </script>\n",
              "    </div>\n",
              "  </div>\n",
              "  "
            ]
          },
          "metadata": {},
          "execution_count": 3
        }
      ]
    },
    {
      "cell_type": "code",
      "source": [
        "data.isna().sum()"
      ],
      "metadata": {
        "colab": {
          "base_uri": "https://localhost:8080/"
        },
        "id": "uGW9b_SvD7Qn",
        "outputId": "45b73eaa-a888-44e1-a217-01f27b3a76e7"
      },
      "execution_count": 4,
      "outputs": [
        {
          "output_type": "execute_result",
          "data": {
            "text/plain": [
              "Sex                        0\n",
              "AgeSYear                   0\n",
              "Weight                     0\n",
              "Height                     0\n",
              "BMI                        0\n",
              "Systolic                   0\n",
              "Diastolic                  0\n",
              "HeartRate                  0\n",
              "SMM                        0\n",
              "Fat Mass                   0\n",
              "% Body fat                 0\n",
              "waist to hip radio         0\n",
              "abdominal circumference    0\n",
              "visceral fat area          0\n",
              "Glucose                    0\n",
              "BUN                        0\n",
              "Creatinine                 0\n",
              "Uric Acid                  0\n",
              "Cholesterol                0\n",
              "Triglyceride               0\n",
              "HDL-C                      0\n",
              "LDL                        0\n",
              "AST                        0\n",
              "ALT                        0\n",
              "Alkaline Phos              0\n",
              "HbA1c                      0\n",
              "telomere length (kb)       0\n",
              "dtype: int64"
            ]
          },
          "metadata": {},
          "execution_count": 4
        }
      ]
    },
    {
      "cell_type": "code",
      "source": [
        "y = data['telomere length (kb) ']\n",
        "X = data.drop('telomere length (kb) ',1)"
      ],
      "metadata": {
        "colab": {
          "base_uri": "https://localhost:8080/"
        },
        "id": "c-cq49tuD8uM",
        "outputId": "2743366a-4482-409b-8f9f-3fd9df24e0c3"
      },
      "execution_count": 5,
      "outputs": [
        {
          "output_type": "stream",
          "name": "stderr",
          "text": [
            "<ipython-input-5-c954eb9a847c>:2: FutureWarning: In a future version of pandas all arguments of DataFrame.drop except for the argument 'labels' will be keyword-only\n",
            "  X = data.drop('telomere length (kb) ',1)\n"
          ]
        }
      ]
    },
    {
      "cell_type": "code",
      "source": [
        "from sklearn.model_selection import train_test_split\n",
        "X_train, X_test, y_train, y_test = train_test_split(X, y, test_size=0.2, random_state=216)"
      ],
      "metadata": {
        "id": "MQjwkH9MEF3i"
      },
      "execution_count": 6,
      "outputs": []
    },
    {
      "cell_type": "code",
      "source": [
        "from sklearn.svm import SVR\n",
        "model = SVR(kernel='linear',gamma='scale', C=1.0, epsilon=0.1)\n",
        "svr = model.fit(X_train, y_train) "
      ],
      "metadata": {
        "id": "-BkNU18xEngC"
      },
      "execution_count": 7,
      "outputs": []
    },
    {
      "cell_type": "code",
      "source": [
        "y_pred = model.predict(X_test)"
      ],
      "metadata": {
        "id": "hWUwx9mhFPG4"
      },
      "execution_count": 8,
      "outputs": []
    },
    {
      "cell_type": "code",
      "source": [
        "from sklearn import metrics\n",
        "#Train\n",
        "print('R2 Value Train:',metrics.r2_score(y_train, svr.predict(X_train)))\n",
        "print('MSE Train:',metrics.mean_squared_error(y_train, svr.predict(X_train)))\n",
        "print('MAE Train:',metrics.mean_absolute_error(y_train, svr.predict(X_train)))"
      ],
      "metadata": {
        "colab": {
          "base_uri": "https://localhost:8080/"
        },
        "id": "_j7_pQbpFXad",
        "outputId": "c449bcf1-0f2f-4bd0-f5c9-ce8adca1fe8d"
      },
      "execution_count": 9,
      "outputs": [
        {
          "output_type": "stream",
          "name": "stdout",
          "text": [
            "R2 Value Train: 0.43500816907026896\n",
            "MSE Train: 1.972190144592246\n",
            "MAE Train: 0.6134292736226837\n"
          ]
        }
      ]
    },
    {
      "cell_type": "code",
      "source": [
        "import numpy as np\n",
        "print('Accuracy',100- (np.mean(np.abs((y_test - y_pred) / y_test)) * 100))"
      ],
      "metadata": {
        "colab": {
          "base_uri": "https://localhost:8080/"
        },
        "id": "RLQsxV64FltW",
        "outputId": "0d1f9e7e-5224-49da-a07f-3e1fb745a0fb"
      },
      "execution_count": 10,
      "outputs": [
        {
          "output_type": "stream",
          "name": "stdout",
          "text": [
            "Accuracy 92.19885909251278\n"
          ]
        }
      ]
    },
    {
      "cell_type": "code",
      "source": [
        "#Test\n",
        "print('R2 Value Test:',metrics.r2_score(y_test, y_pred))\n",
        "print('MSE Test:',metrics.mean_squared_error(y_test, y_pred))\n",
        "print('MAE Test:',metrics.mean_absolute_error(y_test, y_pred))"
      ],
      "metadata": {
        "colab": {
          "base_uri": "https://localhost:8080/"
        },
        "id": "XZIbrbCjFpTF",
        "outputId": "1432c2a8-4c0c-4e20-8302-f8a9d23c832b"
      },
      "execution_count": 11,
      "outputs": [
        {
          "output_type": "stream",
          "name": "stdout",
          "text": [
            "R2 Value Test: 0.7768517243592789\n",
            "MSE Test: 0.5199706114952974\n",
            "MAE Test: 0.576392904852205\n"
          ]
        }
      ]
    },
    {
      "cell_type": "markdown",
      "source": [
        "## Second Data"
      ],
      "metadata": {
        "id": "huvo_N4tk0Ty"
      }
    },
    {
      "cell_type": "code",
      "source": [
        "data_X = pd.read_csv(os.path.join(path,'second_data.csv'))\n",
        "data_X.drop('Unnamed: 0',1,inplace = True)"
      ],
      "metadata": {
        "colab": {
          "base_uri": "https://localhost:8080/"
        },
        "id": "mqNQe_JxleKT",
        "outputId": "32c1738f-4e7a-4e8b-f2b0-e4f5f7860674"
      },
      "execution_count": 12,
      "outputs": [
        {
          "output_type": "stream",
          "name": "stderr",
          "text": [
            "<ipython-input-12-d28e4ea85a49>:2: FutureWarning: In a future version of pandas all arguments of DataFrame.drop except for the argument 'labels' will be keyword-only\n",
            "  data_X.drop('Unnamed: 0',1,inplace = True)\n"
          ]
        }
      ]
    },
    {
      "cell_type": "code",
      "source": [
        "data1 = data_Y['telomere length (kb) ']\n",
        "data = data_X.copy()\n",
        "data['telomere length (kb) '] = list(data1)\n",
        "data"
      ],
      "metadata": {
        "colab": {
          "base_uri": "https://localhost:8080/",
          "height": 522
        },
        "id": "aB77c7m0k47Y",
        "outputId": "fb0ecb90-0482-4c7b-aab6-f8cd47aae7a4"
      },
      "execution_count": 13,
      "outputs": [
        {
          "output_type": "execute_result",
          "data": {
            "text/plain": [
              "     Sex  AgeSYear  Weight  Height   BMI  Systolic  Diastolic  HeartRate  \\\n",
              "0    2.0      58.0    47.2   156.0  19.4     112.0       64.0       70.0   \n",
              "1    2.0      57.0    47.4   153.0  20.2     114.0       75.0       69.0   \n",
              "2    2.0      24.0    53.2   157.0  21.6     103.0       69.0       78.0   \n",
              "3    2.0      62.0    54.4   165.0  20.0      95.0       75.0       83.0   \n",
              "4    2.0      86.0    49.0   154.0  20.7     129.0       79.0       83.0   \n",
              "..   ...       ...     ...     ...   ...       ...        ...        ...   \n",
              "418  2.0      25.0    47.0   165.0  17.3     104.0       63.0       89.0   \n",
              "419  2.0      31.0    72.2   168.0  25.6     123.0       89.0       69.0   \n",
              "420  2.0      32.0    62.8   159.3  24.6     114.0       72.3       76.1   \n",
              "421  1.0      29.0    61.8   170.0  21.8     112.7       75.3       79.1   \n",
              "422  2.0      31.0    61.1   161.1  23.8     114.3       72.3       73.6   \n",
              "\n",
              "      SMM  Fat Mass  ...  Uric Acid  Cholesterol  Triglyceride  HDL-C    LDL  \\\n",
              "0    19.8      13.7  ...        4.8        180.0          97.0   62.0   98.0   \n",
              "1    19.3      12.5  ...        5.0        176.0          51.0   72.0   94.0   \n",
              "2    21.3      14.6  ...        5.2        159.0          45.0   52.0   98.0   \n",
              "3    21.6      15.2  ...        4.1        230.0          94.0   61.0  151.0   \n",
              "4    19.7      15.3  ...        5.4        183.0          86.0   39.0  127.0   \n",
              "..    ...       ...  ...        ...          ...           ...    ...    ...   \n",
              "418  20.3      13.9  ...        4.8        232.0          36.0   96.0  128.0   \n",
              "419  25.2      19.3  ...        6.1        187.0          49.0   51.0  127.0   \n",
              "420  23.2      21.6  ...        5.1        222.0          58.0   79.0  132.0   \n",
              "421  27.4      11.1  ...        6.8        140.0          92.0   48.0   73.0   \n",
              "422  23.4      20.1  ...        4.0        243.0         161.0   87.0  124.0   \n",
              "\n",
              "      AST   ALT  Alkaline Phos  HbA1c  telomere length (kb)   \n",
              "0    25.0  32.0           40.0    5.8                   7.30  \n",
              "1    16.0  16.0           62.0    5.1                   6.36  \n",
              "2    13.0  17.0           50.0    5.4                   9.71  \n",
              "3    18.0  31.0           76.0    5.6                   6.17  \n",
              "4    12.0  22.0           82.0    6.2                   4.55  \n",
              "..    ...   ...            ...    ...                    ...  \n",
              "418  18.0  12.0           46.0    5.3                   8.98  \n",
              "419  21.0  24.0           71.0    5.2                   8.23  \n",
              "420  17.0  10.0           34.0    5.6                   8.79  \n",
              "421  31.0  75.0           69.0    6.0                   8.93  \n",
              "422  24.0  11.0           46.0    5.0                   7.92  \n",
              "\n",
              "[423 rows x 27 columns]"
            ],
            "text/html": [
              "\n",
              "  <div id=\"df-a9a1af36-1391-4cc2-8cf6-3f36cb918696\">\n",
              "    <div class=\"colab-df-container\">\n",
              "      <div>\n",
              "<style scoped>\n",
              "    .dataframe tbody tr th:only-of-type {\n",
              "        vertical-align: middle;\n",
              "    }\n",
              "\n",
              "    .dataframe tbody tr th {\n",
              "        vertical-align: top;\n",
              "    }\n",
              "\n",
              "    .dataframe thead th {\n",
              "        text-align: right;\n",
              "    }\n",
              "</style>\n",
              "<table border=\"1\" class=\"dataframe\">\n",
              "  <thead>\n",
              "    <tr style=\"text-align: right;\">\n",
              "      <th></th>\n",
              "      <th>Sex</th>\n",
              "      <th>AgeSYear</th>\n",
              "      <th>Weight</th>\n",
              "      <th>Height</th>\n",
              "      <th>BMI</th>\n",
              "      <th>Systolic</th>\n",
              "      <th>Diastolic</th>\n",
              "      <th>HeartRate</th>\n",
              "      <th>SMM</th>\n",
              "      <th>Fat Mass</th>\n",
              "      <th>...</th>\n",
              "      <th>Uric Acid</th>\n",
              "      <th>Cholesterol</th>\n",
              "      <th>Triglyceride</th>\n",
              "      <th>HDL-C</th>\n",
              "      <th>LDL</th>\n",
              "      <th>AST</th>\n",
              "      <th>ALT</th>\n",
              "      <th>Alkaline Phos</th>\n",
              "      <th>HbA1c</th>\n",
              "      <th>telomere length (kb)</th>\n",
              "    </tr>\n",
              "  </thead>\n",
              "  <tbody>\n",
              "    <tr>\n",
              "      <th>0</th>\n",
              "      <td>2.0</td>\n",
              "      <td>58.0</td>\n",
              "      <td>47.2</td>\n",
              "      <td>156.0</td>\n",
              "      <td>19.4</td>\n",
              "      <td>112.0</td>\n",
              "      <td>64.0</td>\n",
              "      <td>70.0</td>\n",
              "      <td>19.8</td>\n",
              "      <td>13.7</td>\n",
              "      <td>...</td>\n",
              "      <td>4.8</td>\n",
              "      <td>180.0</td>\n",
              "      <td>97.0</td>\n",
              "      <td>62.0</td>\n",
              "      <td>98.0</td>\n",
              "      <td>25.0</td>\n",
              "      <td>32.0</td>\n",
              "      <td>40.0</td>\n",
              "      <td>5.8</td>\n",
              "      <td>7.30</td>\n",
              "    </tr>\n",
              "    <tr>\n",
              "      <th>1</th>\n",
              "      <td>2.0</td>\n",
              "      <td>57.0</td>\n",
              "      <td>47.4</td>\n",
              "      <td>153.0</td>\n",
              "      <td>20.2</td>\n",
              "      <td>114.0</td>\n",
              "      <td>75.0</td>\n",
              "      <td>69.0</td>\n",
              "      <td>19.3</td>\n",
              "      <td>12.5</td>\n",
              "      <td>...</td>\n",
              "      <td>5.0</td>\n",
              "      <td>176.0</td>\n",
              "      <td>51.0</td>\n",
              "      <td>72.0</td>\n",
              "      <td>94.0</td>\n",
              "      <td>16.0</td>\n",
              "      <td>16.0</td>\n",
              "      <td>62.0</td>\n",
              "      <td>5.1</td>\n",
              "      <td>6.36</td>\n",
              "    </tr>\n",
              "    <tr>\n",
              "      <th>2</th>\n",
              "      <td>2.0</td>\n",
              "      <td>24.0</td>\n",
              "      <td>53.2</td>\n",
              "      <td>157.0</td>\n",
              "      <td>21.6</td>\n",
              "      <td>103.0</td>\n",
              "      <td>69.0</td>\n",
              "      <td>78.0</td>\n",
              "      <td>21.3</td>\n",
              "      <td>14.6</td>\n",
              "      <td>...</td>\n",
              "      <td>5.2</td>\n",
              "      <td>159.0</td>\n",
              "      <td>45.0</td>\n",
              "      <td>52.0</td>\n",
              "      <td>98.0</td>\n",
              "      <td>13.0</td>\n",
              "      <td>17.0</td>\n",
              "      <td>50.0</td>\n",
              "      <td>5.4</td>\n",
              "      <td>9.71</td>\n",
              "    </tr>\n",
              "    <tr>\n",
              "      <th>3</th>\n",
              "      <td>2.0</td>\n",
              "      <td>62.0</td>\n",
              "      <td>54.4</td>\n",
              "      <td>165.0</td>\n",
              "      <td>20.0</td>\n",
              "      <td>95.0</td>\n",
              "      <td>75.0</td>\n",
              "      <td>83.0</td>\n",
              "      <td>21.6</td>\n",
              "      <td>15.2</td>\n",
              "      <td>...</td>\n",
              "      <td>4.1</td>\n",
              "      <td>230.0</td>\n",
              "      <td>94.0</td>\n",
              "      <td>61.0</td>\n",
              "      <td>151.0</td>\n",
              "      <td>18.0</td>\n",
              "      <td>31.0</td>\n",
              "      <td>76.0</td>\n",
              "      <td>5.6</td>\n",
              "      <td>6.17</td>\n",
              "    </tr>\n",
              "    <tr>\n",
              "      <th>4</th>\n",
              "      <td>2.0</td>\n",
              "      <td>86.0</td>\n",
              "      <td>49.0</td>\n",
              "      <td>154.0</td>\n",
              "      <td>20.7</td>\n",
              "      <td>129.0</td>\n",
              "      <td>79.0</td>\n",
              "      <td>83.0</td>\n",
              "      <td>19.7</td>\n",
              "      <td>15.3</td>\n",
              "      <td>...</td>\n",
              "      <td>5.4</td>\n",
              "      <td>183.0</td>\n",
              "      <td>86.0</td>\n",
              "      <td>39.0</td>\n",
              "      <td>127.0</td>\n",
              "      <td>12.0</td>\n",
              "      <td>22.0</td>\n",
              "      <td>82.0</td>\n",
              "      <td>6.2</td>\n",
              "      <td>4.55</td>\n",
              "    </tr>\n",
              "    <tr>\n",
              "      <th>...</th>\n",
              "      <td>...</td>\n",
              "      <td>...</td>\n",
              "      <td>...</td>\n",
              "      <td>...</td>\n",
              "      <td>...</td>\n",
              "      <td>...</td>\n",
              "      <td>...</td>\n",
              "      <td>...</td>\n",
              "      <td>...</td>\n",
              "      <td>...</td>\n",
              "      <td>...</td>\n",
              "      <td>...</td>\n",
              "      <td>...</td>\n",
              "      <td>...</td>\n",
              "      <td>...</td>\n",
              "      <td>...</td>\n",
              "      <td>...</td>\n",
              "      <td>...</td>\n",
              "      <td>...</td>\n",
              "      <td>...</td>\n",
              "      <td>...</td>\n",
              "    </tr>\n",
              "    <tr>\n",
              "      <th>418</th>\n",
              "      <td>2.0</td>\n",
              "      <td>25.0</td>\n",
              "      <td>47.0</td>\n",
              "      <td>165.0</td>\n",
              "      <td>17.3</td>\n",
              "      <td>104.0</td>\n",
              "      <td>63.0</td>\n",
              "      <td>89.0</td>\n",
              "      <td>20.3</td>\n",
              "      <td>13.9</td>\n",
              "      <td>...</td>\n",
              "      <td>4.8</td>\n",
              "      <td>232.0</td>\n",
              "      <td>36.0</td>\n",
              "      <td>96.0</td>\n",
              "      <td>128.0</td>\n",
              "      <td>18.0</td>\n",
              "      <td>12.0</td>\n",
              "      <td>46.0</td>\n",
              "      <td>5.3</td>\n",
              "      <td>8.98</td>\n",
              "    </tr>\n",
              "    <tr>\n",
              "      <th>419</th>\n",
              "      <td>2.0</td>\n",
              "      <td>31.0</td>\n",
              "      <td>72.2</td>\n",
              "      <td>168.0</td>\n",
              "      <td>25.6</td>\n",
              "      <td>123.0</td>\n",
              "      <td>89.0</td>\n",
              "      <td>69.0</td>\n",
              "      <td>25.2</td>\n",
              "      <td>19.3</td>\n",
              "      <td>...</td>\n",
              "      <td>6.1</td>\n",
              "      <td>187.0</td>\n",
              "      <td>49.0</td>\n",
              "      <td>51.0</td>\n",
              "      <td>127.0</td>\n",
              "      <td>21.0</td>\n",
              "      <td>24.0</td>\n",
              "      <td>71.0</td>\n",
              "      <td>5.2</td>\n",
              "      <td>8.23</td>\n",
              "    </tr>\n",
              "    <tr>\n",
              "      <th>420</th>\n",
              "      <td>2.0</td>\n",
              "      <td>32.0</td>\n",
              "      <td>62.8</td>\n",
              "      <td>159.3</td>\n",
              "      <td>24.6</td>\n",
              "      <td>114.0</td>\n",
              "      <td>72.3</td>\n",
              "      <td>76.1</td>\n",
              "      <td>23.2</td>\n",
              "      <td>21.6</td>\n",
              "      <td>...</td>\n",
              "      <td>5.1</td>\n",
              "      <td>222.0</td>\n",
              "      <td>58.0</td>\n",
              "      <td>79.0</td>\n",
              "      <td>132.0</td>\n",
              "      <td>17.0</td>\n",
              "      <td>10.0</td>\n",
              "      <td>34.0</td>\n",
              "      <td>5.6</td>\n",
              "      <td>8.79</td>\n",
              "    </tr>\n",
              "    <tr>\n",
              "      <th>421</th>\n",
              "      <td>1.0</td>\n",
              "      <td>29.0</td>\n",
              "      <td>61.8</td>\n",
              "      <td>170.0</td>\n",
              "      <td>21.8</td>\n",
              "      <td>112.7</td>\n",
              "      <td>75.3</td>\n",
              "      <td>79.1</td>\n",
              "      <td>27.4</td>\n",
              "      <td>11.1</td>\n",
              "      <td>...</td>\n",
              "      <td>6.8</td>\n",
              "      <td>140.0</td>\n",
              "      <td>92.0</td>\n",
              "      <td>48.0</td>\n",
              "      <td>73.0</td>\n",
              "      <td>31.0</td>\n",
              "      <td>75.0</td>\n",
              "      <td>69.0</td>\n",
              "      <td>6.0</td>\n",
              "      <td>8.93</td>\n",
              "    </tr>\n",
              "    <tr>\n",
              "      <th>422</th>\n",
              "      <td>2.0</td>\n",
              "      <td>31.0</td>\n",
              "      <td>61.1</td>\n",
              "      <td>161.1</td>\n",
              "      <td>23.8</td>\n",
              "      <td>114.3</td>\n",
              "      <td>72.3</td>\n",
              "      <td>73.6</td>\n",
              "      <td>23.4</td>\n",
              "      <td>20.1</td>\n",
              "      <td>...</td>\n",
              "      <td>4.0</td>\n",
              "      <td>243.0</td>\n",
              "      <td>161.0</td>\n",
              "      <td>87.0</td>\n",
              "      <td>124.0</td>\n",
              "      <td>24.0</td>\n",
              "      <td>11.0</td>\n",
              "      <td>46.0</td>\n",
              "      <td>5.0</td>\n",
              "      <td>7.92</td>\n",
              "    </tr>\n",
              "  </tbody>\n",
              "</table>\n",
              "<p>423 rows × 27 columns</p>\n",
              "</div>\n",
              "      <button class=\"colab-df-convert\" onclick=\"convertToInteractive('df-a9a1af36-1391-4cc2-8cf6-3f36cb918696')\"\n",
              "              title=\"Convert this dataframe to an interactive table.\"\n",
              "              style=\"display:none;\">\n",
              "        \n",
              "  <svg xmlns=\"http://www.w3.org/2000/svg\" height=\"24px\"viewBox=\"0 0 24 24\"\n",
              "       width=\"24px\">\n",
              "    <path d=\"M0 0h24v24H0V0z\" fill=\"none\"/>\n",
              "    <path d=\"M18.56 5.44l.94 2.06.94-2.06 2.06-.94-2.06-.94-.94-2.06-.94 2.06-2.06.94zm-11 1L8.5 8.5l.94-2.06 2.06-.94-2.06-.94L8.5 2.5l-.94 2.06-2.06.94zm10 10l.94 2.06.94-2.06 2.06-.94-2.06-.94-.94-2.06-.94 2.06-2.06.94z\"/><path d=\"M17.41 7.96l-1.37-1.37c-.4-.4-.92-.59-1.43-.59-.52 0-1.04.2-1.43.59L10.3 9.45l-7.72 7.72c-.78.78-.78 2.05 0 2.83L4 21.41c.39.39.9.59 1.41.59.51 0 1.02-.2 1.41-.59l7.78-7.78 2.81-2.81c.8-.78.8-2.07 0-2.86zM5.41 20L4 18.59l7.72-7.72 1.47 1.35L5.41 20z\"/>\n",
              "  </svg>\n",
              "      </button>\n",
              "      \n",
              "  <style>\n",
              "    .colab-df-container {\n",
              "      display:flex;\n",
              "      flex-wrap:wrap;\n",
              "      gap: 12px;\n",
              "    }\n",
              "\n",
              "    .colab-df-convert {\n",
              "      background-color: #E8F0FE;\n",
              "      border: none;\n",
              "      border-radius: 50%;\n",
              "      cursor: pointer;\n",
              "      display: none;\n",
              "      fill: #1967D2;\n",
              "      height: 32px;\n",
              "      padding: 0 0 0 0;\n",
              "      width: 32px;\n",
              "    }\n",
              "\n",
              "    .colab-df-convert:hover {\n",
              "      background-color: #E2EBFA;\n",
              "      box-shadow: 0px 1px 2px rgba(60, 64, 67, 0.3), 0px 1px 3px 1px rgba(60, 64, 67, 0.15);\n",
              "      fill: #174EA6;\n",
              "    }\n",
              "\n",
              "    [theme=dark] .colab-df-convert {\n",
              "      background-color: #3B4455;\n",
              "      fill: #D2E3FC;\n",
              "    }\n",
              "\n",
              "    [theme=dark] .colab-df-convert:hover {\n",
              "      background-color: #434B5C;\n",
              "      box-shadow: 0px 1px 3px 1px rgba(0, 0, 0, 0.15);\n",
              "      filter: drop-shadow(0px 1px 2px rgba(0, 0, 0, 0.3));\n",
              "      fill: #FFFFFF;\n",
              "    }\n",
              "  </style>\n",
              "\n",
              "      <script>\n",
              "        const buttonEl =\n",
              "          document.querySelector('#df-a9a1af36-1391-4cc2-8cf6-3f36cb918696 button.colab-df-convert');\n",
              "        buttonEl.style.display =\n",
              "          google.colab.kernel.accessAllowed ? 'block' : 'none';\n",
              "\n",
              "        async function convertToInteractive(key) {\n",
              "          const element = document.querySelector('#df-a9a1af36-1391-4cc2-8cf6-3f36cb918696');\n",
              "          const dataTable =\n",
              "            await google.colab.kernel.invokeFunction('convertToInteractive',\n",
              "                                                     [key], {});\n",
              "          if (!dataTable) return;\n",
              "\n",
              "          const docLinkHtml = 'Like what you see? Visit the ' +\n",
              "            '<a target=\"_blank\" href=https://colab.research.google.com/notebooks/data_table.ipynb>data table notebook</a>'\n",
              "            + ' to learn more about interactive tables.';\n",
              "          element.innerHTML = '';\n",
              "          dataTable['output_type'] = 'display_data';\n",
              "          await google.colab.output.renderOutput(dataTable, element);\n",
              "          const docLink = document.createElement('div');\n",
              "          docLink.innerHTML = docLinkHtml;\n",
              "          element.appendChild(docLink);\n",
              "        }\n",
              "      </script>\n",
              "    </div>\n",
              "  </div>\n",
              "  "
            ]
          },
          "metadata": {},
          "execution_count": 13
        }
      ]
    },
    {
      "cell_type": "code",
      "source": [
        "data.isna().sum()"
      ],
      "metadata": {
        "colab": {
          "base_uri": "https://localhost:8080/"
        },
        "id": "9i18pKUXuk1O",
        "outputId": "66ff0eea-877d-42ef-b24a-9b89d54bb268"
      },
      "execution_count": 24,
      "outputs": [
        {
          "output_type": "execute_result",
          "data": {
            "text/plain": [
              "Sex                        0\n",
              "AgeSYear                   0\n",
              "Weight                     0\n",
              "Height                     0\n",
              "BMI                        0\n",
              "Systolic                   0\n",
              "Diastolic                  0\n",
              "HeartRate                  0\n",
              "SMM                        0\n",
              "Fat Mass                   0\n",
              "% Body fat                 0\n",
              "waist to hip radio         0\n",
              "abdominal circumference    0\n",
              "visceral fat area          0\n",
              "Glucose                    0\n",
              "BUN                        0\n",
              "Creatinine                 0\n",
              "Uric Acid                  0\n",
              "Cholesterol                0\n",
              "Triglyceride               0\n",
              "HDL-C                      0\n",
              "LDL                        0\n",
              "AST                        0\n",
              "ALT                        0\n",
              "Alkaline Phos              0\n",
              "HbA1c                      0\n",
              "telomere length (kb)       0\n",
              "dtype: int64"
            ]
          },
          "metadata": {},
          "execution_count": 24
        }
      ]
    },
    {
      "cell_type": "code",
      "source": [
        "y = data['telomere length (kb) '].values\n",
        "X = data.drop('telomere length (kb) ',1).values"
      ],
      "metadata": {
        "colab": {
          "base_uri": "https://localhost:8080/"
        },
        "id": "pHzpY0tPlU_6",
        "outputId": "808b8d7b-b34a-472c-bdc5-33ce929ddb78"
      },
      "execution_count": 14,
      "outputs": [
        {
          "output_type": "stream",
          "name": "stderr",
          "text": [
            "<ipython-input-14-13d2162fa1d2>:2: FutureWarning: In a future version of pandas all arguments of DataFrame.drop except for the argument 'labels' will be keyword-only\n",
            "  X = data.drop('telomere length (kb) ',1).values\n"
          ]
        }
      ]
    },
    {
      "cell_type": "code",
      "source": [
        "from sklearn.model_selection import train_test_split\n",
        "X_train, X_test, y_train, y_test = train_test_split(X, y, test_size=0.2, random_state=216)"
      ],
      "metadata": {
        "id": "y6zJ_ttXlVcK"
      },
      "execution_count": 15,
      "outputs": []
    },
    {
      "cell_type": "code",
      "source": [
        "model = SVR(kernel='linear',gamma='scale', C=1.0, epsilon=0.1)\n",
        "svr = model.fit(X_train, y_train) "
      ],
      "metadata": {
        "id": "QNU94NGulXmA"
      },
      "execution_count": 16,
      "outputs": []
    },
    {
      "cell_type": "code",
      "source": [
        "y_pred = model.predict(X_test)"
      ],
      "metadata": {
        "id": "ZhqVFD8plYnC"
      },
      "execution_count": 17,
      "outputs": []
    },
    {
      "cell_type": "code",
      "source": [
        "#Train\n",
        "print('R2 Value Train:',metrics.r2_score(y_train, svr.predict(X_train)))\n",
        "print('MSE Train:',metrics.mean_squared_error(y_train, svr.predict(X_train)))\n",
        "print('MAE Train:',metrics.mean_absolute_error(y_train, svr.predict(X_train)))"
      ],
      "metadata": {
        "colab": {
          "base_uri": "https://localhost:8080/"
        },
        "id": "N2r2PH91lZ4F",
        "outputId": "e93a5150-177b-433c-d262-a5616071e96b"
      },
      "execution_count": 18,
      "outputs": [
        {
          "output_type": "stream",
          "name": "stdout",
          "text": [
            "R2 Value Train: 0.43887482580819526\n",
            "MSE Train: 1.9586929896006233\n",
            "MAE Train: 0.6155620074215656\n"
          ]
        }
      ]
    },
    {
      "cell_type": "code",
      "source": [
        "print('Accuracy',100- (np.mean(np.abs((y_test - y_pred) / y_test)) * 100))"
      ],
      "metadata": {
        "colab": {
          "base_uri": "https://localhost:8080/"
        },
        "id": "NBNzVA5plbzj",
        "outputId": "6d3b9ac8-48fd-47a3-c316-3b7d018973a5"
      },
      "execution_count": 19,
      "outputs": [
        {
          "output_type": "stream",
          "name": "stdout",
          "text": [
            "Accuracy 92.40349130617213\n"
          ]
        }
      ]
    },
    {
      "cell_type": "code",
      "source": [
        "#Test\n",
        "print('R2 Value Test:',metrics.r2_score(y_test, y_pred))\n",
        "print('MSE Test:',metrics.mean_squared_error(y_test, y_pred))\n",
        "print('MAE Test:',metrics.mean_absolute_error(y_test, y_pred))"
      ],
      "metadata": {
        "colab": {
          "base_uri": "https://localhost:8080/"
        },
        "id": "ymLuMJHXlcfk",
        "outputId": "38083f63-47a7-44da-a098-80d41a2ec0e2"
      },
      "execution_count": 20,
      "outputs": [
        {
          "output_type": "stream",
          "name": "stdout",
          "text": [
            "R2 Value Test: 0.7843481365375928\n",
            "MSE Test: 0.5025027909925993\n",
            "MAE Test: 0.5604828516372284\n"
          ]
        }
      ]
    },
    {
      "cell_type": "markdown",
      "source": [
        "## GridSearchCV"
      ],
      "metadata": {
        "id": "wRzt7xMTRK4i"
      }
    },
    {
      "cell_type": "code",
      "source": [
        "from sklearn.model_selection import GridSearchCV"
      ],
      "metadata": {
        "id": "jgv_RkUEQo9S"
      },
      "execution_count": 21,
      "outputs": []
    },
    {
      "cell_type": "code",
      "source": [
        "def hyperParameter(X_train, y_train):\n",
        "  param_tuning = {\n",
        "        'kernel': ['linear','poly','rbf','sigmoid'],\n",
        "        'gamma': ['scala','auto'] ,'C':[1,3,5,7,9],\n",
        "        'epsilon':[0.1,0.2,0.5,1,0.7]\n",
        "    }\n",
        "  model = SVR()\n",
        "\n",
        "  gsearch = GridSearchCV(estimator = model,\n",
        "                           param_grid = param_tuning                       \n",
        "                          )\n",
        "\n",
        "  gsearch.fit(X_train,y_train)\n",
        "\n",
        "  return gsearch.best_params_"
      ],
      "metadata": {
        "id": "2r_k1rndRLw-"
      },
      "execution_count": 22,
      "outputs": []
    },
    {
      "cell_type": "code",
      "source": [
        "hyperParameter(X_train, y_train) #ประมาณ 1 ชม 6 นาที"
      ],
      "metadata": {
        "id": "MXoeUl-_UVPE",
        "colab": {
          "base_uri": "https://localhost:8080/"
        },
        "outputId": "b255dfce-86fd-4799-c97f-fe74e11b82eb"
      },
      "execution_count": 23,
      "outputs": [
        {
          "output_type": "stream",
          "name": "stderr",
          "text": [
            "/usr/local/lib/python3.8/dist-packages/sklearn/model_selection/_validation.py:372: FitFailedWarning: \n",
            "500 fits failed out of a total of 1000.\n",
            "The score on these train-test partitions for these parameters will be set to nan.\n",
            "If these failures are not expected, you can try to debug them by setting error_score='raise'.\n",
            "\n",
            "Below are more details about the failures:\n",
            "--------------------------------------------------------------------------------\n",
            "500 fits failed with the following error:\n",
            "Traceback (most recent call last):\n",
            "  File \"/usr/local/lib/python3.8/dist-packages/sklearn/model_selection/_validation.py\", line 680, in _fit_and_score\n",
            "    estimator.fit(X_train, y_train, **fit_params)\n",
            "  File \"/usr/local/lib/python3.8/dist-packages/sklearn/svm/_base.py\", line 243, in fit\n",
            "    raise ValueError(\n",
            "ValueError: When 'gamma' is a string, it should be either 'scale' or 'auto'. Got 'scala' instead.\n",
            "\n",
            "  warnings.warn(some_fits_failed_message, FitFailedWarning)\n",
            "/usr/local/lib/python3.8/dist-packages/sklearn/model_selection/_search.py:969: UserWarning: One or more of the test scores are non-finite: [        nan         nan         nan         nan  0.56405605 -3.79140253\n",
            " -0.01588988 -0.01925162         nan         nan         nan         nan\n",
            "  0.56195433 -2.83517581 -0.01568834 -0.01566793         nan         nan\n",
            "         nan         nan  0.55557602 -1.391439   -0.0169934  -0.01715526\n",
            "         nan         nan         nan         nan  0.56537386 -0.60721451\n",
            " -0.01915503 -0.01465642         nan         nan         nan         nan\n",
            "  0.54380508 -0.97787552 -0.01745594 -0.0173896          nan         nan\n",
            "         nan         nan  0.56303233 -3.79140253 -0.01756204 -0.01925162\n",
            "         nan         nan         nan         nan  0.56864084 -2.83517581\n",
            " -0.01750731 -0.01566793         nan         nan         nan         nan\n",
            "  0.55078391 -1.391439   -0.0184203  -0.01715526         nan         nan\n",
            "         nan         nan  0.5573454  -0.60721451 -0.01916672 -0.01465642\n",
            "         nan         nan         nan         nan  0.54915621 -0.97787552\n",
            " -0.01869279 -0.0173896          nan         nan         nan         nan\n",
            "  0.57353924 -3.79140253 -0.01766689 -0.01925162         nan         nan\n",
            "         nan         nan  0.56571355 -2.83517581 -0.01758892 -0.01566793\n",
            "         nan         nan         nan         nan  0.54334293 -1.391439\n",
            " -0.01858993 -0.01715526         nan         nan         nan         nan\n",
            "  0.55109354 -0.60721451 -0.01955504 -0.01465642         nan         nan\n",
            "         nan         nan  0.55694567 -0.97787552 -0.01887209 -0.0173896\n",
            "         nan         nan         nan         nan  0.56115387 -3.79140253\n",
            " -0.01786059 -0.01925162         nan         nan         nan         nan\n",
            "  0.54774436 -2.83517581 -0.01779358 -0.01566793         nan         nan\n",
            "         nan         nan  0.54083009 -1.391439   -0.01884186 -0.01715526\n",
            "         nan         nan         nan         nan  0.55446116 -0.60721451\n",
            " -0.02012731 -0.01465642         nan         nan         nan         nan\n",
            "  0.54684217 -0.97787552 -0.01921538 -0.0173896          nan         nan\n",
            "         nan         nan  0.53232367 -3.79140253 -0.01810116 -0.01925162\n",
            "         nan         nan         nan         nan  0.54474343 -2.83517581\n",
            " -0.01805059 -0.01566793         nan         nan         nan         nan\n",
            "  0.54309814 -1.391439   -0.01917877 -0.01715526         nan         nan\n",
            "         nan         nan  0.54589392 -0.60721451 -0.02086535 -0.01465642\n",
            "         nan         nan         nan         nan  0.53488268 -0.97787552\n",
            " -0.01966655 -0.0173896 ]\n",
            "  warnings.warn(\n"
          ]
        },
        {
          "output_type": "execute_result",
          "data": {
            "text/plain": [
              "{'C': 5, 'epsilon': 0.1, 'gamma': 'auto', 'kernel': 'linear'}"
            ]
          },
          "metadata": {},
          "execution_count": 23
        }
      ]
    },
    {
      "cell_type": "code",
      "source": [
        "model = SVR(kernel='linear',gamma='auto', C=5.0, epsilon=1)\n",
        "svr = model.fit(X_train, y_train) "
      ],
      "metadata": {
        "id": "T-O7AU1RuoJS"
      },
      "execution_count": 25,
      "outputs": []
    },
    {
      "cell_type": "code",
      "source": [
        "y_pred = model.predict(X_test)"
      ],
      "metadata": {
        "id": "hNo8OV9nu7r-"
      },
      "execution_count": 26,
      "outputs": []
    },
    {
      "cell_type": "code",
      "source": [
        "#Train\n",
        "print('R2 Value Train:',metrics.r2_score(y_train, svr.predict(X_train)))\n",
        "print('MSE Train:',metrics.mean_squared_error(y_train, svr.predict(X_train)))\n",
        "print('MAE Train:',metrics.mean_absolute_error(y_train, svr.predict(X_train)))"
      ],
      "metadata": {
        "colab": {
          "base_uri": "https://localhost:8080/"
        },
        "id": "gqW0LfCtu-Xb",
        "outputId": "42605d63-dcff-4949-eeed-fe0fec0ead87"
      },
      "execution_count": 27,
      "outputs": [
        {
          "output_type": "stream",
          "name": "stdout",
          "text": [
            "R2 Value Train: 0.4474260914878879\n",
            "MSE Train: 1.9288434927158136\n",
            "MAE Train: 0.6417692098037824\n"
          ]
        }
      ]
    },
    {
      "cell_type": "code",
      "source": [
        "print('R2 Value Test:',metrics.r2_score(y_test, y_pred))\n",
        "print('MSE Test:',metrics.mean_squared_error(y_test, y_pred))\n",
        "print('MAE Test:',metrics.mean_absolute_error(y_test, y_pred))"
      ],
      "metadata": {
        "colab": {
          "base_uri": "https://localhost:8080/"
        },
        "id": "0RWVOt0OvAP9",
        "outputId": "6a695819-dfa8-4a58-b443-24376c45bed5"
      },
      "execution_count": 28,
      "outputs": [
        {
          "output_type": "stream",
          "name": "stdout",
          "text": [
            "R2 Value Test: 0.7772921094326166\n",
            "MSE Test: 0.5189444449465337\n",
            "MAE Test: 0.587180097725387\n"
          ]
        }
      ]
    },
    {
      "cell_type": "code",
      "source": [
        "print('Accuracy',100- (np.mean(np.abs((y_test - y_pred) / y_test)) * 100))"
      ],
      "metadata": {
        "colab": {
          "base_uri": "https://localhost:8080/"
        },
        "id": "DTDzEISPvBZB",
        "outputId": "9891cc51-9339-4bca-ebae-5b906a88414d"
      },
      "execution_count": 29,
      "outputs": [
        {
          "output_type": "stream",
          "name": "stdout",
          "text": [
            "Accuracy 92.2287421034017\n"
          ]
        }
      ]
    }
  ]
}