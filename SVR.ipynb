{
  "nbformat": 4,
  "nbformat_minor": 0,
  "metadata": {
    "colab": {
      "provenance": [],
      "machine_shape": "hm",
      "collapsed_sections": [
        "7qg3ykOlJ2UU",
        "RJwBJSSrs3bK"
      ],
      "toc_visible": true,
      "authorship_tag": "ABX9TyNGKjksyAckCoT3e0EiCdV/",
      "include_colab_link": true
    },
    "kernelspec": {
      "name": "python3",
      "display_name": "Python 3"
    },
    "language_info": {
      "name": "python"
    },
    "accelerator": "TPU",
    "gpuClass": "standard"
  },
  "cells": [
    {
      "cell_type": "markdown",
      "metadata": {
        "id": "view-in-github",
        "colab_type": "text"
      },
      "source": [
        "<a href=\"https://colab.research.google.com/github/Worachet-Ch/project2022/blob/main/SVR.ipynb\" target=\"_parent\"><img src=\"https://colab.research.google.com/assets/colab-badge.svg\" alt=\"Open In Colab\"/></a>"
      ]
    },
    {
      "cell_type": "code",
      "execution_count": null,
      "metadata": {
        "colab": {
          "base_uri": "https://localhost:8080/"
        },
        "id": "Nb4K5OgPDes1",
        "outputId": "37fbe149-4260-4dc8-aef0-4a644ad047aa"
      },
      "outputs": [
        {
          "output_type": "stream",
          "name": "stdout",
          "text": [
            "Drive already mounted at /content/drive; to attempt to forcibly remount, call drive.mount(\"/content/drive\", force_remount=True).\n"
          ]
        }
      ],
      "source": [
        "import pandas as pd\n",
        "import os\n",
        "from google.colab import drive #เชื่อม Google drive\n",
        "drive.mount('/content/drive')\n",
        "path = '/content/drive/My Drive/project' #เข้า drive\n",
        "data1 = pd.read_csv(os.path.join(path,'df_1.csv'))"
      ]
    },
    {
      "cell_type": "code",
      "source": [
        "from sklearn import metrics\n",
        "from sklearn.preprocessing import MinMaxScaler\n",
        "from sklearn.model_selection import train_test_split\n",
        "from sklearn.ensemble import RandomForestRegressor\n",
        "from sklearn import metrics\n",
        "import numpy as np\n"
      ],
      "metadata": {
        "id": "qv9sU7SM7qCZ"
      },
      "execution_count": null,
      "outputs": []
    },
    {
      "cell_type": "markdown",
      "source": [
        "## First Data"
      ],
      "metadata": {
        "id": "aumWetnCksa2"
      }
    },
    {
      "cell_type": "code",
      "source": [
        "data1.drop('Unnamed: 0',1,inplace = True)\n",
        "data1"
      ],
      "metadata": {
        "colab": {
          "base_uri": "https://localhost:8080/",
          "height": 557
        },
        "id": "kn4DEVRsIXbH",
        "outputId": "95d4f4e3-0ae7-4594-ade1-f1051a0db517"
      },
      "execution_count": null,
      "outputs": [
        {
          "output_type": "stream",
          "name": "stderr",
          "text": [
            "<ipython-input-93-f170cadba2e7>:1: FutureWarning: In a future version of pandas all arguments of DataFrame.drop except for the argument 'labels' will be keyword-only\n",
            "  data1.drop('Unnamed: 0',1,inplace = True)\n"
          ]
        },
        {
          "output_type": "execute_result",
          "data": {
            "text/plain": [
              "     Sex  AgeSYear     Weight      Height    BMI  Systolic  Diastolic  \\\n",
              "0    2.0      58.0  47.200000  156.000000  19.40   112.000      64.00   \n",
              "1    2.0      57.0  47.400000  153.000000  20.20   114.000      75.00   \n",
              "2    2.0      24.0  53.200000  157.000000  21.60   103.000      69.00   \n",
              "3    2.0      62.0  54.400000  165.000000  20.00    95.000      75.00   \n",
              "4    2.0      86.0  49.000000  154.000000  20.70   129.000      79.00   \n",
              "..   ...       ...        ...         ...    ...       ...        ...   \n",
              "417  2.0      25.0  47.000000  165.000000  17.30   104.000      63.00   \n",
              "418  2.0      31.0  72.200000  168.000000  25.60   123.000      89.00   \n",
              "419  2.0      32.0  54.500000  158.466667  21.68   113.160      71.83   \n",
              "420  1.0      29.0  63.073333  168.866667  22.04   108.465      71.96   \n",
              "421  2.0      31.0  58.066667  160.200000  22.60   112.810      72.72   \n",
              "\n",
              "     HeartRate     SMM  Fat Mass  ...  Uric Acid  Cholesterol  Triglyceride  \\\n",
              "0        70.00  19.741    13.631  ...        4.8        180.0          97.0   \n",
              "1        69.00  19.300    12.500  ...        5.0        176.0          51.0   \n",
              "2        78.00  21.300    14.600  ...        5.2        159.0          45.0   \n",
              "3        83.00  21.600    15.200  ...        4.1        230.0          94.0   \n",
              "4        83.00  19.907    15.369  ...        5.4        183.0          86.0   \n",
              "..         ...     ...       ...  ...        ...          ...           ...   \n",
              "417      89.00  20.387    12.852  ...        4.8        232.0          36.0   \n",
              "418      69.00  25.451    18.258  ...        6.1        187.0          49.0   \n",
              "419      72.30  22.707    21.599  ...        5.1        222.0          58.0   \n",
              "420      83.95  27.607    20.258  ...        6.8        140.0          92.0   \n",
              "421      74.41  23.020    22.436  ...        4.0        243.0         161.0   \n",
              "\n",
              "     HDL-C    LDL   AST   ALT  Alkaline Phos     HbA1c  telomere length (kb)   \n",
              "0     62.0   98.0  25.0  32.0           40.0  5.800000                   7.30  \n",
              "1     72.0   94.0  16.0  16.0           62.0  5.100000                   6.36  \n",
              "2     52.0   98.0  13.0  17.0           50.0  5.400000                   9.71  \n",
              "3     61.0  151.0  18.0  31.0           76.0  5.600000                   6.17  \n",
              "4     39.0  127.0  12.0  22.0           82.0  6.200000                   4.55  \n",
              "..     ...    ...   ...   ...            ...       ...                    ...  \n",
              "417   96.0  128.0  18.0  12.0           46.0  5.393333                   8.98  \n",
              "418   51.0  127.0  21.0  24.0           71.0  5.186667                   8.23  \n",
              "419   79.0  132.0  17.0  10.0           34.0  5.486667                   8.79  \n",
              "420   48.0   73.0  31.0  75.0           69.0  4.973333                   8.93  \n",
              "421   87.0  124.0  24.0  11.0           46.0  6.086667                   7.92  \n",
              "\n",
              "[422 rows x 27 columns]"
            ],
            "text/html": [
              "\n",
              "  <div id=\"df-985f8ab9-f2cd-4676-97d3-40ee4aa0f1be\">\n",
              "    <div class=\"colab-df-container\">\n",
              "      <div>\n",
              "<style scoped>\n",
              "    .dataframe tbody tr th:only-of-type {\n",
              "        vertical-align: middle;\n",
              "    }\n",
              "\n",
              "    .dataframe tbody tr th {\n",
              "        vertical-align: top;\n",
              "    }\n",
              "\n",
              "    .dataframe thead th {\n",
              "        text-align: right;\n",
              "    }\n",
              "</style>\n",
              "<table border=\"1\" class=\"dataframe\">\n",
              "  <thead>\n",
              "    <tr style=\"text-align: right;\">\n",
              "      <th></th>\n",
              "      <th>Sex</th>\n",
              "      <th>AgeSYear</th>\n",
              "      <th>Weight</th>\n",
              "      <th>Height</th>\n",
              "      <th>BMI</th>\n",
              "      <th>Systolic</th>\n",
              "      <th>Diastolic</th>\n",
              "      <th>HeartRate</th>\n",
              "      <th>SMM</th>\n",
              "      <th>Fat Mass</th>\n",
              "      <th>...</th>\n",
              "      <th>Uric Acid</th>\n",
              "      <th>Cholesterol</th>\n",
              "      <th>Triglyceride</th>\n",
              "      <th>HDL-C</th>\n",
              "      <th>LDL</th>\n",
              "      <th>AST</th>\n",
              "      <th>ALT</th>\n",
              "      <th>Alkaline Phos</th>\n",
              "      <th>HbA1c</th>\n",
              "      <th>telomere length (kb)</th>\n",
              "    </tr>\n",
              "  </thead>\n",
              "  <tbody>\n",
              "    <tr>\n",
              "      <th>0</th>\n",
              "      <td>2.0</td>\n",
              "      <td>58.0</td>\n",
              "      <td>47.200000</td>\n",
              "      <td>156.000000</td>\n",
              "      <td>19.40</td>\n",
              "      <td>112.000</td>\n",
              "      <td>64.00</td>\n",
              "      <td>70.00</td>\n",
              "      <td>19.741</td>\n",
              "      <td>13.631</td>\n",
              "      <td>...</td>\n",
              "      <td>4.8</td>\n",
              "      <td>180.0</td>\n",
              "      <td>97.0</td>\n",
              "      <td>62.0</td>\n",
              "      <td>98.0</td>\n",
              "      <td>25.0</td>\n",
              "      <td>32.0</td>\n",
              "      <td>40.0</td>\n",
              "      <td>5.800000</td>\n",
              "      <td>7.30</td>\n",
              "    </tr>\n",
              "    <tr>\n",
              "      <th>1</th>\n",
              "      <td>2.0</td>\n",
              "      <td>57.0</td>\n",
              "      <td>47.400000</td>\n",
              "      <td>153.000000</td>\n",
              "      <td>20.20</td>\n",
              "      <td>114.000</td>\n",
              "      <td>75.00</td>\n",
              "      <td>69.00</td>\n",
              "      <td>19.300</td>\n",
              "      <td>12.500</td>\n",
              "      <td>...</td>\n",
              "      <td>5.0</td>\n",
              "      <td>176.0</td>\n",
              "      <td>51.0</td>\n",
              "      <td>72.0</td>\n",
              "      <td>94.0</td>\n",
              "      <td>16.0</td>\n",
              "      <td>16.0</td>\n",
              "      <td>62.0</td>\n",
              "      <td>5.100000</td>\n",
              "      <td>6.36</td>\n",
              "    </tr>\n",
              "    <tr>\n",
              "      <th>2</th>\n",
              "      <td>2.0</td>\n",
              "      <td>24.0</td>\n",
              "      <td>53.200000</td>\n",
              "      <td>157.000000</td>\n",
              "      <td>21.60</td>\n",
              "      <td>103.000</td>\n",
              "      <td>69.00</td>\n",
              "      <td>78.00</td>\n",
              "      <td>21.300</td>\n",
              "      <td>14.600</td>\n",
              "      <td>...</td>\n",
              "      <td>5.2</td>\n",
              "      <td>159.0</td>\n",
              "      <td>45.0</td>\n",
              "      <td>52.0</td>\n",
              "      <td>98.0</td>\n",
              "      <td>13.0</td>\n",
              "      <td>17.0</td>\n",
              "      <td>50.0</td>\n",
              "      <td>5.400000</td>\n",
              "      <td>9.71</td>\n",
              "    </tr>\n",
              "    <tr>\n",
              "      <th>3</th>\n",
              "      <td>2.0</td>\n",
              "      <td>62.0</td>\n",
              "      <td>54.400000</td>\n",
              "      <td>165.000000</td>\n",
              "      <td>20.00</td>\n",
              "      <td>95.000</td>\n",
              "      <td>75.00</td>\n",
              "      <td>83.00</td>\n",
              "      <td>21.600</td>\n",
              "      <td>15.200</td>\n",
              "      <td>...</td>\n",
              "      <td>4.1</td>\n",
              "      <td>230.0</td>\n",
              "      <td>94.0</td>\n",
              "      <td>61.0</td>\n",
              "      <td>151.0</td>\n",
              "      <td>18.0</td>\n",
              "      <td>31.0</td>\n",
              "      <td>76.0</td>\n",
              "      <td>5.600000</td>\n",
              "      <td>6.17</td>\n",
              "    </tr>\n",
              "    <tr>\n",
              "      <th>4</th>\n",
              "      <td>2.0</td>\n",
              "      <td>86.0</td>\n",
              "      <td>49.000000</td>\n",
              "      <td>154.000000</td>\n",
              "      <td>20.70</td>\n",
              "      <td>129.000</td>\n",
              "      <td>79.00</td>\n",
              "      <td>83.00</td>\n",
              "      <td>19.907</td>\n",
              "      <td>15.369</td>\n",
              "      <td>...</td>\n",
              "      <td>5.4</td>\n",
              "      <td>183.0</td>\n",
              "      <td>86.0</td>\n",
              "      <td>39.0</td>\n",
              "      <td>127.0</td>\n",
              "      <td>12.0</td>\n",
              "      <td>22.0</td>\n",
              "      <td>82.0</td>\n",
              "      <td>6.200000</td>\n",
              "      <td>4.55</td>\n",
              "    </tr>\n",
              "    <tr>\n",
              "      <th>...</th>\n",
              "      <td>...</td>\n",
              "      <td>...</td>\n",
              "      <td>...</td>\n",
              "      <td>...</td>\n",
              "      <td>...</td>\n",
              "      <td>...</td>\n",
              "      <td>...</td>\n",
              "      <td>...</td>\n",
              "      <td>...</td>\n",
              "      <td>...</td>\n",
              "      <td>...</td>\n",
              "      <td>...</td>\n",
              "      <td>...</td>\n",
              "      <td>...</td>\n",
              "      <td>...</td>\n",
              "      <td>...</td>\n",
              "      <td>...</td>\n",
              "      <td>...</td>\n",
              "      <td>...</td>\n",
              "      <td>...</td>\n",
              "      <td>...</td>\n",
              "    </tr>\n",
              "    <tr>\n",
              "      <th>417</th>\n",
              "      <td>2.0</td>\n",
              "      <td>25.0</td>\n",
              "      <td>47.000000</td>\n",
              "      <td>165.000000</td>\n",
              "      <td>17.30</td>\n",
              "      <td>104.000</td>\n",
              "      <td>63.00</td>\n",
              "      <td>89.00</td>\n",
              "      <td>20.387</td>\n",
              "      <td>12.852</td>\n",
              "      <td>...</td>\n",
              "      <td>4.8</td>\n",
              "      <td>232.0</td>\n",
              "      <td>36.0</td>\n",
              "      <td>96.0</td>\n",
              "      <td>128.0</td>\n",
              "      <td>18.0</td>\n",
              "      <td>12.0</td>\n",
              "      <td>46.0</td>\n",
              "      <td>5.393333</td>\n",
              "      <td>8.98</td>\n",
              "    </tr>\n",
              "    <tr>\n",
              "      <th>418</th>\n",
              "      <td>2.0</td>\n",
              "      <td>31.0</td>\n",
              "      <td>72.200000</td>\n",
              "      <td>168.000000</td>\n",
              "      <td>25.60</td>\n",
              "      <td>123.000</td>\n",
              "      <td>89.00</td>\n",
              "      <td>69.00</td>\n",
              "      <td>25.451</td>\n",
              "      <td>18.258</td>\n",
              "      <td>...</td>\n",
              "      <td>6.1</td>\n",
              "      <td>187.0</td>\n",
              "      <td>49.0</td>\n",
              "      <td>51.0</td>\n",
              "      <td>127.0</td>\n",
              "      <td>21.0</td>\n",
              "      <td>24.0</td>\n",
              "      <td>71.0</td>\n",
              "      <td>5.186667</td>\n",
              "      <td>8.23</td>\n",
              "    </tr>\n",
              "    <tr>\n",
              "      <th>419</th>\n",
              "      <td>2.0</td>\n",
              "      <td>32.0</td>\n",
              "      <td>54.500000</td>\n",
              "      <td>158.466667</td>\n",
              "      <td>21.68</td>\n",
              "      <td>113.160</td>\n",
              "      <td>71.83</td>\n",
              "      <td>72.30</td>\n",
              "      <td>22.707</td>\n",
              "      <td>21.599</td>\n",
              "      <td>...</td>\n",
              "      <td>5.1</td>\n",
              "      <td>222.0</td>\n",
              "      <td>58.0</td>\n",
              "      <td>79.0</td>\n",
              "      <td>132.0</td>\n",
              "      <td>17.0</td>\n",
              "      <td>10.0</td>\n",
              "      <td>34.0</td>\n",
              "      <td>5.486667</td>\n",
              "      <td>8.79</td>\n",
              "    </tr>\n",
              "    <tr>\n",
              "      <th>420</th>\n",
              "      <td>1.0</td>\n",
              "      <td>29.0</td>\n",
              "      <td>63.073333</td>\n",
              "      <td>168.866667</td>\n",
              "      <td>22.04</td>\n",
              "      <td>108.465</td>\n",
              "      <td>71.96</td>\n",
              "      <td>83.95</td>\n",
              "      <td>27.607</td>\n",
              "      <td>20.258</td>\n",
              "      <td>...</td>\n",
              "      <td>6.8</td>\n",
              "      <td>140.0</td>\n",
              "      <td>92.0</td>\n",
              "      <td>48.0</td>\n",
              "      <td>73.0</td>\n",
              "      <td>31.0</td>\n",
              "      <td>75.0</td>\n",
              "      <td>69.0</td>\n",
              "      <td>4.973333</td>\n",
              "      <td>8.93</td>\n",
              "    </tr>\n",
              "    <tr>\n",
              "      <th>421</th>\n",
              "      <td>2.0</td>\n",
              "      <td>31.0</td>\n",
              "      <td>58.066667</td>\n",
              "      <td>160.200000</td>\n",
              "      <td>22.60</td>\n",
              "      <td>112.810</td>\n",
              "      <td>72.72</td>\n",
              "      <td>74.41</td>\n",
              "      <td>23.020</td>\n",
              "      <td>22.436</td>\n",
              "      <td>...</td>\n",
              "      <td>4.0</td>\n",
              "      <td>243.0</td>\n",
              "      <td>161.0</td>\n",
              "      <td>87.0</td>\n",
              "      <td>124.0</td>\n",
              "      <td>24.0</td>\n",
              "      <td>11.0</td>\n",
              "      <td>46.0</td>\n",
              "      <td>6.086667</td>\n",
              "      <td>7.92</td>\n",
              "    </tr>\n",
              "  </tbody>\n",
              "</table>\n",
              "<p>422 rows × 27 columns</p>\n",
              "</div>\n",
              "      <button class=\"colab-df-convert\" onclick=\"convertToInteractive('df-985f8ab9-f2cd-4676-97d3-40ee4aa0f1be')\"\n",
              "              title=\"Convert this dataframe to an interactive table.\"\n",
              "              style=\"display:none;\">\n",
              "        \n",
              "  <svg xmlns=\"http://www.w3.org/2000/svg\" height=\"24px\"viewBox=\"0 0 24 24\"\n",
              "       width=\"24px\">\n",
              "    <path d=\"M0 0h24v24H0V0z\" fill=\"none\"/>\n",
              "    <path d=\"M18.56 5.44l.94 2.06.94-2.06 2.06-.94-2.06-.94-.94-2.06-.94 2.06-2.06.94zm-11 1L8.5 8.5l.94-2.06 2.06-.94-2.06-.94L8.5 2.5l-.94 2.06-2.06.94zm10 10l.94 2.06.94-2.06 2.06-.94-2.06-.94-.94-2.06-.94 2.06-2.06.94z\"/><path d=\"M17.41 7.96l-1.37-1.37c-.4-.4-.92-.59-1.43-.59-.52 0-1.04.2-1.43.59L10.3 9.45l-7.72 7.72c-.78.78-.78 2.05 0 2.83L4 21.41c.39.39.9.59 1.41.59.51 0 1.02-.2 1.41-.59l7.78-7.78 2.81-2.81c.8-.78.8-2.07 0-2.86zM5.41 20L4 18.59l7.72-7.72 1.47 1.35L5.41 20z\"/>\n",
              "  </svg>\n",
              "      </button>\n",
              "      \n",
              "  <style>\n",
              "    .colab-df-container {\n",
              "      display:flex;\n",
              "      flex-wrap:wrap;\n",
              "      gap: 12px;\n",
              "    }\n",
              "\n",
              "    .colab-df-convert {\n",
              "      background-color: #E8F0FE;\n",
              "      border: none;\n",
              "      border-radius: 50%;\n",
              "      cursor: pointer;\n",
              "      display: none;\n",
              "      fill: #1967D2;\n",
              "      height: 32px;\n",
              "      padding: 0 0 0 0;\n",
              "      width: 32px;\n",
              "    }\n",
              "\n",
              "    .colab-df-convert:hover {\n",
              "      background-color: #E2EBFA;\n",
              "      box-shadow: 0px 1px 2px rgba(60, 64, 67, 0.3), 0px 1px 3px 1px rgba(60, 64, 67, 0.15);\n",
              "      fill: #174EA6;\n",
              "    }\n",
              "\n",
              "    [theme=dark] .colab-df-convert {\n",
              "      background-color: #3B4455;\n",
              "      fill: #D2E3FC;\n",
              "    }\n",
              "\n",
              "    [theme=dark] .colab-df-convert:hover {\n",
              "      background-color: #434B5C;\n",
              "      box-shadow: 0px 1px 3px 1px rgba(0, 0, 0, 0.15);\n",
              "      filter: drop-shadow(0px 1px 2px rgba(0, 0, 0, 0.3));\n",
              "      fill: #FFFFFF;\n",
              "    }\n",
              "  </style>\n",
              "\n",
              "      <script>\n",
              "        const buttonEl =\n",
              "          document.querySelector('#df-985f8ab9-f2cd-4676-97d3-40ee4aa0f1be button.colab-df-convert');\n",
              "        buttonEl.style.display =\n",
              "          google.colab.kernel.accessAllowed ? 'block' : 'none';\n",
              "\n",
              "        async function convertToInteractive(key) {\n",
              "          const element = document.querySelector('#df-985f8ab9-f2cd-4676-97d3-40ee4aa0f1be');\n",
              "          const dataTable =\n",
              "            await google.colab.kernel.invokeFunction('convertToInteractive',\n",
              "                                                     [key], {});\n",
              "          if (!dataTable) return;\n",
              "\n",
              "          const docLinkHtml = 'Like what you see? Visit the ' +\n",
              "            '<a target=\"_blank\" href=https://colab.research.google.com/notebooks/data_table.ipynb>data table notebook</a>'\n",
              "            + ' to learn more about interactive tables.';\n",
              "          element.innerHTML = '';\n",
              "          dataTable['output_type'] = 'display_data';\n",
              "          await google.colab.output.renderOutput(dataTable, element);\n",
              "          const docLink = document.createElement('div');\n",
              "          docLink.innerHTML = docLinkHtml;\n",
              "          element.appendChild(docLink);\n",
              "        }\n",
              "      </script>\n",
              "    </div>\n",
              "  </div>\n",
              "  "
            ]
          },
          "metadata": {},
          "execution_count": 93
        }
      ]
    },
    {
      "cell_type": "code",
      "source": [
        "scaler = MinMaxScaler()\n",
        "Scaler = scaler.fit_transform(data1)"
      ],
      "metadata": {
        "id": "lZ4UKLZF7ndE"
      },
      "execution_count": null,
      "outputs": []
    },
    {
      "cell_type": "code",
      "source": [
        "df = pd.DataFrame(  Scaler, columns = ['Sex' , 'AgeSYear', 'telomere length (kb)','Weight','Height','BMI','Systolic','Diastolic','HeartRate','SMM','Fat Mass',\n",
        "                                       '% Body fat','waist to hip radio','abdominal circumference','visceral fat area','Glucose','BUN','Creatinine','Uric Acid','Cholesterol',\n",
        "                                       'Triglyceride','HDL-C','LDL','AST','ALT','Alkaline Phos','HbA1c'])\n",
        "df"
      ],
      "metadata": {
        "colab": {
          "base_uri": "https://localhost:8080/",
          "height": 522
        },
        "id": "Grpg1A-I7ony",
        "outputId": "3e2973f6-0d40-4660-8be8-62118e700de7"
      },
      "execution_count": null,
      "outputs": [
        {
          "output_type": "execute_result",
          "data": {
            "text/plain": [
              "     Sex  AgeSYear  telomere length (kb)    Weight    Height       BMI  \\\n",
              "0    1.0  0.582090              0.154562  0.250000  0.198473  0.531707   \n",
              "1    1.0  0.567164              0.158287  0.181818  0.259542  0.551220   \n",
              "2    1.0  0.074627              0.266294  0.272727  0.366412  0.443902   \n",
              "3    1.0  0.641791              0.288641  0.454545  0.244275  0.365854   \n",
              "4    1.0  1.000000              0.188082  0.204545  0.297710  0.697561   \n",
              "..   ...       ...                   ...       ...       ...       ...   \n",
              "417  1.0  0.089552              0.150838  0.454545  0.038168  0.453659   \n",
              "418  1.0  0.179104              0.620112  0.522727  0.671756  0.639024   \n",
              "419  1.0  0.194030              0.290503  0.306061  0.372519  0.543024   \n",
              "420  0.0  0.149254              0.450155  0.542424  0.400000  0.497220   \n",
              "421  1.0  0.179104              0.356921  0.345455  0.442748  0.539610   \n",
              "\n",
              "     Systolic  Diastolic  HeartRate       SMM  ...  Creatinine  Uric Acid  \\\n",
              "0    0.333333   0.306452   0.101103  0.236189  ...    0.424242   0.438849   \n",
              "1    0.537037   0.290323   0.085409  0.208738  ...    0.454545   0.410072   \n",
              "2    0.425926   0.435484   0.156584  0.259709  ...    0.484848   0.287770   \n",
              "3    0.537037   0.516129   0.167260  0.274272  ...    0.318182   0.798561   \n",
              "4    0.611111   0.516129   0.107011  0.278374  ...    0.515152   0.460432   \n",
              "..        ...        ...        ...       ...  ...         ...        ...   \n",
              "417  0.314815   0.612903   0.124093  0.217282  ...    0.424242   0.812950   \n",
              "418  0.796296   0.290323   0.304306  0.348495  ...    0.621212   0.489209   \n",
              "419  0.478333   0.343548   0.206655  0.429587  ...    0.469697   0.741007   \n",
              "420  0.480741   0.531452   0.381032  0.397039  ...    0.727273   0.151079   \n",
              "421  0.494815   0.377581   0.217794  0.449903  ...    0.303030   0.892086   \n",
              "\n",
              "     Cholesterol  Triglyceride     HDL-C       LDL       AST       ALT  \\\n",
              "0       0.211082      0.402299  0.350365  0.271186  0.376812  0.203390   \n",
              "1       0.089710      0.517241  0.321168  0.118644  0.144928  0.389831   \n",
              "2       0.073879      0.287356  0.350365  0.067797  0.159420  0.288136   \n",
              "3       0.203166      0.390805  0.737226  0.152542  0.362319  0.508475   \n",
              "4       0.182058      0.137931  0.562044  0.050847  0.231884  0.559322   \n",
              "..           ...           ...       ...       ...       ...       ...   \n",
              "417     0.050132      0.793103  0.569343  0.152542  0.086957  0.254237   \n",
              "418     0.084433      0.275862  0.562044  0.203390  0.260870  0.466102   \n",
              "419     0.108179      0.597701  0.598540  0.135593  0.057971  0.152542   \n",
              "420     0.197889      0.241379  0.167883  0.372881  1.000000  0.449153   \n",
              "421     0.379947      0.689655  0.540146  0.254237  0.072464  0.254237   \n",
              "\n",
              "     Alkaline Phos     HbA1c  \n",
              "0         0.540984  0.119472  \n",
              "1         0.426230  0.083010  \n",
              "2         0.475410  0.212956  \n",
              "3         0.508197  0.075640  \n",
              "4         0.606557  0.012801  \n",
              "..             ...       ...  \n",
              "417       0.474317  0.184639  \n",
              "418       0.440437  0.155547  \n",
              "419       0.489617  0.177269  \n",
              "420       0.405464  0.182700  \n",
              "421       0.587978  0.143522  \n",
              "\n",
              "[422 rows x 27 columns]"
            ],
            "text/html": [
              "\n",
              "  <div id=\"df-168fcfe6-bb2c-4abd-842e-76dd2cfd3e8f\">\n",
              "    <div class=\"colab-df-container\">\n",
              "      <div>\n",
              "<style scoped>\n",
              "    .dataframe tbody tr th:only-of-type {\n",
              "        vertical-align: middle;\n",
              "    }\n",
              "\n",
              "    .dataframe tbody tr th {\n",
              "        vertical-align: top;\n",
              "    }\n",
              "\n",
              "    .dataframe thead th {\n",
              "        text-align: right;\n",
              "    }\n",
              "</style>\n",
              "<table border=\"1\" class=\"dataframe\">\n",
              "  <thead>\n",
              "    <tr style=\"text-align: right;\">\n",
              "      <th></th>\n",
              "      <th>Sex</th>\n",
              "      <th>AgeSYear</th>\n",
              "      <th>telomere length (kb)</th>\n",
              "      <th>Weight</th>\n",
              "      <th>Height</th>\n",
              "      <th>BMI</th>\n",
              "      <th>Systolic</th>\n",
              "      <th>Diastolic</th>\n",
              "      <th>HeartRate</th>\n",
              "      <th>SMM</th>\n",
              "      <th>...</th>\n",
              "      <th>Creatinine</th>\n",
              "      <th>Uric Acid</th>\n",
              "      <th>Cholesterol</th>\n",
              "      <th>Triglyceride</th>\n",
              "      <th>HDL-C</th>\n",
              "      <th>LDL</th>\n",
              "      <th>AST</th>\n",
              "      <th>ALT</th>\n",
              "      <th>Alkaline Phos</th>\n",
              "      <th>HbA1c</th>\n",
              "    </tr>\n",
              "  </thead>\n",
              "  <tbody>\n",
              "    <tr>\n",
              "      <th>0</th>\n",
              "      <td>1.0</td>\n",
              "      <td>0.582090</td>\n",
              "      <td>0.154562</td>\n",
              "      <td>0.250000</td>\n",
              "      <td>0.198473</td>\n",
              "      <td>0.531707</td>\n",
              "      <td>0.333333</td>\n",
              "      <td>0.306452</td>\n",
              "      <td>0.101103</td>\n",
              "      <td>0.236189</td>\n",
              "      <td>...</td>\n",
              "      <td>0.424242</td>\n",
              "      <td>0.438849</td>\n",
              "      <td>0.211082</td>\n",
              "      <td>0.402299</td>\n",
              "      <td>0.350365</td>\n",
              "      <td>0.271186</td>\n",
              "      <td>0.376812</td>\n",
              "      <td>0.203390</td>\n",
              "      <td>0.540984</td>\n",
              "      <td>0.119472</td>\n",
              "    </tr>\n",
              "    <tr>\n",
              "      <th>1</th>\n",
              "      <td>1.0</td>\n",
              "      <td>0.567164</td>\n",
              "      <td>0.158287</td>\n",
              "      <td>0.181818</td>\n",
              "      <td>0.259542</td>\n",
              "      <td>0.551220</td>\n",
              "      <td>0.537037</td>\n",
              "      <td>0.290323</td>\n",
              "      <td>0.085409</td>\n",
              "      <td>0.208738</td>\n",
              "      <td>...</td>\n",
              "      <td>0.454545</td>\n",
              "      <td>0.410072</td>\n",
              "      <td>0.089710</td>\n",
              "      <td>0.517241</td>\n",
              "      <td>0.321168</td>\n",
              "      <td>0.118644</td>\n",
              "      <td>0.144928</td>\n",
              "      <td>0.389831</td>\n",
              "      <td>0.426230</td>\n",
              "      <td>0.083010</td>\n",
              "    </tr>\n",
              "    <tr>\n",
              "      <th>2</th>\n",
              "      <td>1.0</td>\n",
              "      <td>0.074627</td>\n",
              "      <td>0.266294</td>\n",
              "      <td>0.272727</td>\n",
              "      <td>0.366412</td>\n",
              "      <td>0.443902</td>\n",
              "      <td>0.425926</td>\n",
              "      <td>0.435484</td>\n",
              "      <td>0.156584</td>\n",
              "      <td>0.259709</td>\n",
              "      <td>...</td>\n",
              "      <td>0.484848</td>\n",
              "      <td>0.287770</td>\n",
              "      <td>0.073879</td>\n",
              "      <td>0.287356</td>\n",
              "      <td>0.350365</td>\n",
              "      <td>0.067797</td>\n",
              "      <td>0.159420</td>\n",
              "      <td>0.288136</td>\n",
              "      <td>0.475410</td>\n",
              "      <td>0.212956</td>\n",
              "    </tr>\n",
              "    <tr>\n",
              "      <th>3</th>\n",
              "      <td>1.0</td>\n",
              "      <td>0.641791</td>\n",
              "      <td>0.288641</td>\n",
              "      <td>0.454545</td>\n",
              "      <td>0.244275</td>\n",
              "      <td>0.365854</td>\n",
              "      <td>0.537037</td>\n",
              "      <td>0.516129</td>\n",
              "      <td>0.167260</td>\n",
              "      <td>0.274272</td>\n",
              "      <td>...</td>\n",
              "      <td>0.318182</td>\n",
              "      <td>0.798561</td>\n",
              "      <td>0.203166</td>\n",
              "      <td>0.390805</td>\n",
              "      <td>0.737226</td>\n",
              "      <td>0.152542</td>\n",
              "      <td>0.362319</td>\n",
              "      <td>0.508475</td>\n",
              "      <td>0.508197</td>\n",
              "      <td>0.075640</td>\n",
              "    </tr>\n",
              "    <tr>\n",
              "      <th>4</th>\n",
              "      <td>1.0</td>\n",
              "      <td>1.000000</td>\n",
              "      <td>0.188082</td>\n",
              "      <td>0.204545</td>\n",
              "      <td>0.297710</td>\n",
              "      <td>0.697561</td>\n",
              "      <td>0.611111</td>\n",
              "      <td>0.516129</td>\n",
              "      <td>0.107011</td>\n",
              "      <td>0.278374</td>\n",
              "      <td>...</td>\n",
              "      <td>0.515152</td>\n",
              "      <td>0.460432</td>\n",
              "      <td>0.182058</td>\n",
              "      <td>0.137931</td>\n",
              "      <td>0.562044</td>\n",
              "      <td>0.050847</td>\n",
              "      <td>0.231884</td>\n",
              "      <td>0.559322</td>\n",
              "      <td>0.606557</td>\n",
              "      <td>0.012801</td>\n",
              "    </tr>\n",
              "    <tr>\n",
              "      <th>...</th>\n",
              "      <td>...</td>\n",
              "      <td>...</td>\n",
              "      <td>...</td>\n",
              "      <td>...</td>\n",
              "      <td>...</td>\n",
              "      <td>...</td>\n",
              "      <td>...</td>\n",
              "      <td>...</td>\n",
              "      <td>...</td>\n",
              "      <td>...</td>\n",
              "      <td>...</td>\n",
              "      <td>...</td>\n",
              "      <td>...</td>\n",
              "      <td>...</td>\n",
              "      <td>...</td>\n",
              "      <td>...</td>\n",
              "      <td>...</td>\n",
              "      <td>...</td>\n",
              "      <td>...</td>\n",
              "      <td>...</td>\n",
              "      <td>...</td>\n",
              "    </tr>\n",
              "    <tr>\n",
              "      <th>417</th>\n",
              "      <td>1.0</td>\n",
              "      <td>0.089552</td>\n",
              "      <td>0.150838</td>\n",
              "      <td>0.454545</td>\n",
              "      <td>0.038168</td>\n",
              "      <td>0.453659</td>\n",
              "      <td>0.314815</td>\n",
              "      <td>0.612903</td>\n",
              "      <td>0.124093</td>\n",
              "      <td>0.217282</td>\n",
              "      <td>...</td>\n",
              "      <td>0.424242</td>\n",
              "      <td>0.812950</td>\n",
              "      <td>0.050132</td>\n",
              "      <td>0.793103</td>\n",
              "      <td>0.569343</td>\n",
              "      <td>0.152542</td>\n",
              "      <td>0.086957</td>\n",
              "      <td>0.254237</td>\n",
              "      <td>0.474317</td>\n",
              "      <td>0.184639</td>\n",
              "    </tr>\n",
              "    <tr>\n",
              "      <th>418</th>\n",
              "      <td>1.0</td>\n",
              "      <td>0.179104</td>\n",
              "      <td>0.620112</td>\n",
              "      <td>0.522727</td>\n",
              "      <td>0.671756</td>\n",
              "      <td>0.639024</td>\n",
              "      <td>0.796296</td>\n",
              "      <td>0.290323</td>\n",
              "      <td>0.304306</td>\n",
              "      <td>0.348495</td>\n",
              "      <td>...</td>\n",
              "      <td>0.621212</td>\n",
              "      <td>0.489209</td>\n",
              "      <td>0.084433</td>\n",
              "      <td>0.275862</td>\n",
              "      <td>0.562044</td>\n",
              "      <td>0.203390</td>\n",
              "      <td>0.260870</td>\n",
              "      <td>0.466102</td>\n",
              "      <td>0.440437</td>\n",
              "      <td>0.155547</td>\n",
              "    </tr>\n",
              "    <tr>\n",
              "      <th>419</th>\n",
              "      <td>1.0</td>\n",
              "      <td>0.194030</td>\n",
              "      <td>0.290503</td>\n",
              "      <td>0.306061</td>\n",
              "      <td>0.372519</td>\n",
              "      <td>0.543024</td>\n",
              "      <td>0.478333</td>\n",
              "      <td>0.343548</td>\n",
              "      <td>0.206655</td>\n",
              "      <td>0.429587</td>\n",
              "      <td>...</td>\n",
              "      <td>0.469697</td>\n",
              "      <td>0.741007</td>\n",
              "      <td>0.108179</td>\n",
              "      <td>0.597701</td>\n",
              "      <td>0.598540</td>\n",
              "      <td>0.135593</td>\n",
              "      <td>0.057971</td>\n",
              "      <td>0.152542</td>\n",
              "      <td>0.489617</td>\n",
              "      <td>0.177269</td>\n",
              "    </tr>\n",
              "    <tr>\n",
              "      <th>420</th>\n",
              "      <td>0.0</td>\n",
              "      <td>0.149254</td>\n",
              "      <td>0.450155</td>\n",
              "      <td>0.542424</td>\n",
              "      <td>0.400000</td>\n",
              "      <td>0.497220</td>\n",
              "      <td>0.480741</td>\n",
              "      <td>0.531452</td>\n",
              "      <td>0.381032</td>\n",
              "      <td>0.397039</td>\n",
              "      <td>...</td>\n",
              "      <td>0.727273</td>\n",
              "      <td>0.151079</td>\n",
              "      <td>0.197889</td>\n",
              "      <td>0.241379</td>\n",
              "      <td>0.167883</td>\n",
              "      <td>0.372881</td>\n",
              "      <td>1.000000</td>\n",
              "      <td>0.449153</td>\n",
              "      <td>0.405464</td>\n",
              "      <td>0.182700</td>\n",
              "    </tr>\n",
              "    <tr>\n",
              "      <th>421</th>\n",
              "      <td>1.0</td>\n",
              "      <td>0.179104</td>\n",
              "      <td>0.356921</td>\n",
              "      <td>0.345455</td>\n",
              "      <td>0.442748</td>\n",
              "      <td>0.539610</td>\n",
              "      <td>0.494815</td>\n",
              "      <td>0.377581</td>\n",
              "      <td>0.217794</td>\n",
              "      <td>0.449903</td>\n",
              "      <td>...</td>\n",
              "      <td>0.303030</td>\n",
              "      <td>0.892086</td>\n",
              "      <td>0.379947</td>\n",
              "      <td>0.689655</td>\n",
              "      <td>0.540146</td>\n",
              "      <td>0.254237</td>\n",
              "      <td>0.072464</td>\n",
              "      <td>0.254237</td>\n",
              "      <td>0.587978</td>\n",
              "      <td>0.143522</td>\n",
              "    </tr>\n",
              "  </tbody>\n",
              "</table>\n",
              "<p>422 rows × 27 columns</p>\n",
              "</div>\n",
              "      <button class=\"colab-df-convert\" onclick=\"convertToInteractive('df-168fcfe6-bb2c-4abd-842e-76dd2cfd3e8f')\"\n",
              "              title=\"Convert this dataframe to an interactive table.\"\n",
              "              style=\"display:none;\">\n",
              "        \n",
              "  <svg xmlns=\"http://www.w3.org/2000/svg\" height=\"24px\"viewBox=\"0 0 24 24\"\n",
              "       width=\"24px\">\n",
              "    <path d=\"M0 0h24v24H0V0z\" fill=\"none\"/>\n",
              "    <path d=\"M18.56 5.44l.94 2.06.94-2.06 2.06-.94-2.06-.94-.94-2.06-.94 2.06-2.06.94zm-11 1L8.5 8.5l.94-2.06 2.06-.94-2.06-.94L8.5 2.5l-.94 2.06-2.06.94zm10 10l.94 2.06.94-2.06 2.06-.94-2.06-.94-.94-2.06-.94 2.06-2.06.94z\"/><path d=\"M17.41 7.96l-1.37-1.37c-.4-.4-.92-.59-1.43-.59-.52 0-1.04.2-1.43.59L10.3 9.45l-7.72 7.72c-.78.78-.78 2.05 0 2.83L4 21.41c.39.39.9.59 1.41.59.51 0 1.02-.2 1.41-.59l7.78-7.78 2.81-2.81c.8-.78.8-2.07 0-2.86zM5.41 20L4 18.59l7.72-7.72 1.47 1.35L5.41 20z\"/>\n",
              "  </svg>\n",
              "      </button>\n",
              "      \n",
              "  <style>\n",
              "    .colab-df-container {\n",
              "      display:flex;\n",
              "      flex-wrap:wrap;\n",
              "      gap: 12px;\n",
              "    }\n",
              "\n",
              "    .colab-df-convert {\n",
              "      background-color: #E8F0FE;\n",
              "      border: none;\n",
              "      border-radius: 50%;\n",
              "      cursor: pointer;\n",
              "      display: none;\n",
              "      fill: #1967D2;\n",
              "      height: 32px;\n",
              "      padding: 0 0 0 0;\n",
              "      width: 32px;\n",
              "    }\n",
              "\n",
              "    .colab-df-convert:hover {\n",
              "      background-color: #E2EBFA;\n",
              "      box-shadow: 0px 1px 2px rgba(60, 64, 67, 0.3), 0px 1px 3px 1px rgba(60, 64, 67, 0.15);\n",
              "      fill: #174EA6;\n",
              "    }\n",
              "\n",
              "    [theme=dark] .colab-df-convert {\n",
              "      background-color: #3B4455;\n",
              "      fill: #D2E3FC;\n",
              "    }\n",
              "\n",
              "    [theme=dark] .colab-df-convert:hover {\n",
              "      background-color: #434B5C;\n",
              "      box-shadow: 0px 1px 3px 1px rgba(0, 0, 0, 0.15);\n",
              "      filter: drop-shadow(0px 1px 2px rgba(0, 0, 0, 0.3));\n",
              "      fill: #FFFFFF;\n",
              "    }\n",
              "  </style>\n",
              "\n",
              "      <script>\n",
              "        const buttonEl =\n",
              "          document.querySelector('#df-168fcfe6-bb2c-4abd-842e-76dd2cfd3e8f button.colab-df-convert');\n",
              "        buttonEl.style.display =\n",
              "          google.colab.kernel.accessAllowed ? 'block' : 'none';\n",
              "\n",
              "        async function convertToInteractive(key) {\n",
              "          const element = document.querySelector('#df-168fcfe6-bb2c-4abd-842e-76dd2cfd3e8f');\n",
              "          const dataTable =\n",
              "            await google.colab.kernel.invokeFunction('convertToInteractive',\n",
              "                                                     [key], {});\n",
              "          if (!dataTable) return;\n",
              "\n",
              "          const docLinkHtml = 'Like what you see? Visit the ' +\n",
              "            '<a target=\"_blank\" href=https://colab.research.google.com/notebooks/data_table.ipynb>data table notebook</a>'\n",
              "            + ' to learn more about interactive tables.';\n",
              "          element.innerHTML = '';\n",
              "          dataTable['output_type'] = 'display_data';\n",
              "          await google.colab.output.renderOutput(dataTable, element);\n",
              "          const docLink = document.createElement('div');\n",
              "          docLink.innerHTML = docLinkHtml;\n",
              "          element.appendChild(docLink);\n",
              "        }\n",
              "      </script>\n",
              "    </div>\n",
              "  </div>\n",
              "  "
            ]
          },
          "metadata": {},
          "execution_count": 95
        }
      ]
    },
    {
      "cell_type": "code",
      "source": [
        "y = df['telomere length (kb)']\n",
        "X = df.drop('telomere length (kb)',1)"
      ],
      "metadata": {
        "colab": {
          "base_uri": "https://localhost:8080/"
        },
        "id": "c-cq49tuD8uM",
        "outputId": "6b4b1e2b-0c8e-4c87-b96f-3cca610ad86e"
      },
      "execution_count": null,
      "outputs": [
        {
          "output_type": "stream",
          "name": "stderr",
          "text": [
            "<ipython-input-96-2081a7e829a9>:2: FutureWarning: In a future version of pandas all arguments of DataFrame.drop except for the argument 'labels' will be keyword-only\n",
            "  X = df.drop('telomere length (kb)',1)\n"
          ]
        }
      ]
    },
    {
      "cell_type": "code",
      "source": [
        "from sklearn.model_selection import train_test_split\n",
        "X_train, X_test, y_train, y_test = train_test_split(X, y, test_size=0.2, random_state=216)"
      ],
      "metadata": {
        "id": "MQjwkH9MEF3i"
      },
      "execution_count": null,
      "outputs": []
    },
    {
      "cell_type": "code",
      "source": [
        "from sklearn.svm import SVR\n",
        "model = SVR(kernel='linear',gamma='scale', C=1.0, epsilon=0.1)\n",
        "svr = model.fit(X_train, y_train) "
      ],
      "metadata": {
        "id": "-BkNU18xEngC"
      },
      "execution_count": null,
      "outputs": []
    },
    {
      "cell_type": "code",
      "source": [
        "y_pred = model.predict(X_test)"
      ],
      "metadata": {
        "id": "hWUwx9mhFPG4"
      },
      "execution_count": null,
      "outputs": []
    },
    {
      "cell_type": "code",
      "source": [
        "from sklearn import metrics\n",
        "#Train\n",
        "print('R2 Value Train:',metrics.r2_score(y_train, svr.predict(X_train)))\n",
        "print('MSE Train:',metrics.mean_squared_error(y_train, svr.predict(X_train)))\n",
        "print('MAE Train:',metrics.mean_absolute_error(y_train, svr.predict(X_train)))"
      ],
      "metadata": {
        "colab": {
          "base_uri": "https://localhost:8080/"
        },
        "id": "_j7_pQbpFXad",
        "outputId": "47d09a5f-64eb-410d-837c-b0b4639009a7"
      },
      "execution_count": null,
      "outputs": [
        {
          "output_type": "stream",
          "name": "stdout",
          "text": [
            "R2 Value Train: 0.9332976404347691\n",
            "MSE Train: 0.002349841178171661\n",
            "MAE Train: 0.040040836808383384\n"
          ]
        }
      ]
    },
    {
      "cell_type": "code",
      "source": [
        "import numpy as np\n",
        "print('MAPE',100- (np.mean(np.abs((y_test - y_pred) / y_test)) * 100))"
      ],
      "metadata": {
        "colab": {
          "base_uri": "https://localhost:8080/"
        },
        "id": "RLQsxV64FltW",
        "outputId": "78fbcaaf-02f7-4d57-c6d2-88434be38850"
      },
      "execution_count": null,
      "outputs": [
        {
          "output_type": "stream",
          "name": "stdout",
          "text": [
            "MAPE 79.75138418513087\n"
          ]
        }
      ]
    },
    {
      "cell_type": "code",
      "source": [
        "#Test\n",
        "print('R2 Value Test:',metrics.r2_score(y_test, y_pred))\n",
        "print('MSE Test:',metrics.mean_squared_error(y_test, y_pred))\n",
        "print('MAE Test:',metrics.mean_absolute_error(y_test, y_pred))"
      ],
      "metadata": {
        "colab": {
          "base_uri": "https://localhost:8080/"
        },
        "id": "XZIbrbCjFpTF",
        "outputId": "f76c6bea-3470-42b5-873b-eb173ffabf5f"
      },
      "execution_count": null,
      "outputs": [
        {
          "output_type": "stream",
          "name": "stdout",
          "text": [
            "R2 Value Test: 0.9294628425968878\n",
            "MSE Test: 0.0020947385594004215\n",
            "MAE Test: 0.03888079628615357\n"
          ]
        }
      ]
    },
    {
      "cell_type": "markdown",
      "source": [
        "## Second Data"
      ],
      "metadata": {
        "id": "huvo_N4tk0Ty"
      }
    },
    {
      "cell_type": "code",
      "source": [
        "data2 = pd.read_csv(os.path.join(path,'df_2.csv'))\n",
        "data2.drop('Unnamed: 0',1,inplace = True)"
      ],
      "metadata": {
        "colab": {
          "base_uri": "https://localhost:8080/"
        },
        "id": "mqNQe_JxleKT",
        "outputId": "b722bb67-e19e-4740-896c-6343353b05dd"
      },
      "execution_count": null,
      "outputs": [
        {
          "output_type": "stream",
          "name": "stderr",
          "text": [
            "<ipython-input-103-9295e0cecbd9>:2: FutureWarning: In a future version of pandas all arguments of DataFrame.drop except for the argument 'labels' will be keyword-only\n",
            "  data2.drop('Unnamed: 0',1,inplace = True)\n"
          ]
        }
      ]
    },
    {
      "cell_type": "code",
      "source": [
        "scaler = MinMaxScaler()\n",
        "Scaler = scaler.fit_transform(data2)"
      ],
      "metadata": {
        "id": "Bk0-CQDE78Dj"
      },
      "execution_count": null,
      "outputs": []
    },
    {
      "cell_type": "code",
      "source": [
        "df2 = pd.DataFrame(  Scaler, columns = ['Sex' , 'AgeSYear', 'telomere length (kb)','Weight','Height','BMI','Systolic','Diastolic','HeartRate','SMM','Fat Mass',\n",
        "                                       '% Body fat','waist to hip radio','abdominal circumference','visceral fat area','Glucose','BUN','Creatinine','Uric Acid','Cholesterol',\n",
        "                                       'Triglyceride','HDL-C','LDL','AST','ALT','Alkaline Phos','HbA1c'])\n",
        "df2"
      ],
      "metadata": {
        "colab": {
          "base_uri": "https://localhost:8080/",
          "height": 522
        },
        "id": "nBFx4r9E797P",
        "outputId": "efd3378a-d7f7-4b86-eeb2-1c34f60cebda"
      },
      "execution_count": null,
      "outputs": [
        {
          "output_type": "execute_result",
          "data": {
            "text/plain": [
              "     Sex  AgeSYear  telomere length (kb)    Weight    Height       BMI  \\\n",
              "0    1.0  0.582090              0.154562  0.250000  0.198473  0.531707   \n",
              "1    1.0  0.567164              0.158287  0.181818  0.259542  0.551220   \n",
              "2    1.0  0.074627              0.266294  0.272727  0.366412  0.443902   \n",
              "3    1.0  0.641791              0.288641  0.454545  0.244275  0.365854   \n",
              "4    1.0  1.000000              0.188082  0.204545  0.297710  0.697561   \n",
              "..   ...       ...                   ...       ...       ...       ...   \n",
              "417  1.0  0.089552              0.150838  0.454545  0.038168  0.453659   \n",
              "418  1.0  0.179104              0.620112  0.522727  0.671756  0.639024   \n",
              "419  1.0  0.194030              0.498250  0.271818  0.700763  0.569366   \n",
              "420  0.0  0.149254              0.537579  0.565909  0.539695  0.582488   \n",
              "421  1.0  0.179104              0.428957  0.374091  0.554198  0.544780   \n",
              "\n",
              "     Systolic  Diastolic  HeartRate       SMM  ...  Creatinine  Uric Acid  \\\n",
              "0    0.333333   0.306452   0.099431  0.230680  ...    0.424242   0.438849   \n",
              "1    0.537037   0.290323   0.085409  0.208738  ...    0.454545   0.410072   \n",
              "2    0.425926   0.435484   0.156584  0.259709  ...    0.484848   0.287770   \n",
              "3    0.537037   0.516129   0.167260  0.274272  ...    0.318182   0.798561   \n",
              "4    0.611111   0.516129   0.112349  0.300850  ...    0.515152   0.460432   \n",
              "..        ...        ...        ...       ...  ...         ...        ...   \n",
              "417  0.314815   0.612903   0.120961  0.234903  ...    0.424242   0.812950   \n",
              "418  0.796296   0.290323   0.298434  0.346626  ...    0.621212   0.489209   \n",
              "419  0.503148   0.382581   0.237473  0.506432  ...    0.469697   0.741007   \n",
              "420  0.546296   0.554355   0.457402  0.309175  ...    0.727273   0.151079   \n",
              "421  0.468704   0.367258   0.227580  0.435704  ...    0.303030   0.892086   \n",
              "\n",
              "     Cholesterol  Triglyceride     HDL-C       LDL       AST       ALT  \\\n",
              "0       0.211082      0.402299  0.350365  0.271186  0.376812  0.203390   \n",
              "1       0.089710      0.517241  0.321168  0.118644  0.144928  0.389831   \n",
              "2       0.073879      0.287356  0.350365  0.067797  0.159420  0.288136   \n",
              "3       0.203166      0.390805  0.737226  0.152542  0.362319  0.508475   \n",
              "4       0.182058      0.137931  0.562044  0.050847  0.231884  0.559322   \n",
              "..           ...           ...       ...       ...       ...       ...   \n",
              "417     0.050132      0.793103  0.569343  0.152542  0.086957  0.254237   \n",
              "418     0.084433      0.275862  0.562044  0.203390  0.260870  0.466102   \n",
              "419     0.108179      0.597701  0.598540  0.135593  0.057971  0.152542   \n",
              "420     0.197889      0.241379  0.167883  0.372881  1.000000  0.449153   \n",
              "421     0.379947      0.689655  0.540146  0.254237  0.072464  0.254237   \n",
              "\n",
              "     Alkaline Phos     HbA1c  \n",
              "0         0.540984  0.119472  \n",
              "1         0.426230  0.083010  \n",
              "2         0.475410  0.212956  \n",
              "3         0.508197  0.075640  \n",
              "4         0.606557  0.012801  \n",
              "..             ...       ...  \n",
              "417       0.461639  0.184639  \n",
              "418       0.445082  0.155547  \n",
              "419       0.498689  0.177269  \n",
              "420       0.528689  0.182700  \n",
              "421       0.380000  0.143522  \n",
              "\n",
              "[422 rows x 27 columns]"
            ],
            "text/html": [
              "\n",
              "  <div id=\"df-8ecf1797-5895-45cf-b3d4-69acd5d3826d\">\n",
              "    <div class=\"colab-df-container\">\n",
              "      <div>\n",
              "<style scoped>\n",
              "    .dataframe tbody tr th:only-of-type {\n",
              "        vertical-align: middle;\n",
              "    }\n",
              "\n",
              "    .dataframe tbody tr th {\n",
              "        vertical-align: top;\n",
              "    }\n",
              "\n",
              "    .dataframe thead th {\n",
              "        text-align: right;\n",
              "    }\n",
              "</style>\n",
              "<table border=\"1\" class=\"dataframe\">\n",
              "  <thead>\n",
              "    <tr style=\"text-align: right;\">\n",
              "      <th></th>\n",
              "      <th>Sex</th>\n",
              "      <th>AgeSYear</th>\n",
              "      <th>telomere length (kb)</th>\n",
              "      <th>Weight</th>\n",
              "      <th>Height</th>\n",
              "      <th>BMI</th>\n",
              "      <th>Systolic</th>\n",
              "      <th>Diastolic</th>\n",
              "      <th>HeartRate</th>\n",
              "      <th>SMM</th>\n",
              "      <th>...</th>\n",
              "      <th>Creatinine</th>\n",
              "      <th>Uric Acid</th>\n",
              "      <th>Cholesterol</th>\n",
              "      <th>Triglyceride</th>\n",
              "      <th>HDL-C</th>\n",
              "      <th>LDL</th>\n",
              "      <th>AST</th>\n",
              "      <th>ALT</th>\n",
              "      <th>Alkaline Phos</th>\n",
              "      <th>HbA1c</th>\n",
              "    </tr>\n",
              "  </thead>\n",
              "  <tbody>\n",
              "    <tr>\n",
              "      <th>0</th>\n",
              "      <td>1.0</td>\n",
              "      <td>0.582090</td>\n",
              "      <td>0.154562</td>\n",
              "      <td>0.250000</td>\n",
              "      <td>0.198473</td>\n",
              "      <td>0.531707</td>\n",
              "      <td>0.333333</td>\n",
              "      <td>0.306452</td>\n",
              "      <td>0.099431</td>\n",
              "      <td>0.230680</td>\n",
              "      <td>...</td>\n",
              "      <td>0.424242</td>\n",
              "      <td>0.438849</td>\n",
              "      <td>0.211082</td>\n",
              "      <td>0.402299</td>\n",
              "      <td>0.350365</td>\n",
              "      <td>0.271186</td>\n",
              "      <td>0.376812</td>\n",
              "      <td>0.203390</td>\n",
              "      <td>0.540984</td>\n",
              "      <td>0.119472</td>\n",
              "    </tr>\n",
              "    <tr>\n",
              "      <th>1</th>\n",
              "      <td>1.0</td>\n",
              "      <td>0.567164</td>\n",
              "      <td>0.158287</td>\n",
              "      <td>0.181818</td>\n",
              "      <td>0.259542</td>\n",
              "      <td>0.551220</td>\n",
              "      <td>0.537037</td>\n",
              "      <td>0.290323</td>\n",
              "      <td>0.085409</td>\n",
              "      <td>0.208738</td>\n",
              "      <td>...</td>\n",
              "      <td>0.454545</td>\n",
              "      <td>0.410072</td>\n",
              "      <td>0.089710</td>\n",
              "      <td>0.517241</td>\n",
              "      <td>0.321168</td>\n",
              "      <td>0.118644</td>\n",
              "      <td>0.144928</td>\n",
              "      <td>0.389831</td>\n",
              "      <td>0.426230</td>\n",
              "      <td>0.083010</td>\n",
              "    </tr>\n",
              "    <tr>\n",
              "      <th>2</th>\n",
              "      <td>1.0</td>\n",
              "      <td>0.074627</td>\n",
              "      <td>0.266294</td>\n",
              "      <td>0.272727</td>\n",
              "      <td>0.366412</td>\n",
              "      <td>0.443902</td>\n",
              "      <td>0.425926</td>\n",
              "      <td>0.435484</td>\n",
              "      <td>0.156584</td>\n",
              "      <td>0.259709</td>\n",
              "      <td>...</td>\n",
              "      <td>0.484848</td>\n",
              "      <td>0.287770</td>\n",
              "      <td>0.073879</td>\n",
              "      <td>0.287356</td>\n",
              "      <td>0.350365</td>\n",
              "      <td>0.067797</td>\n",
              "      <td>0.159420</td>\n",
              "      <td>0.288136</td>\n",
              "      <td>0.475410</td>\n",
              "      <td>0.212956</td>\n",
              "    </tr>\n",
              "    <tr>\n",
              "      <th>3</th>\n",
              "      <td>1.0</td>\n",
              "      <td>0.641791</td>\n",
              "      <td>0.288641</td>\n",
              "      <td>0.454545</td>\n",
              "      <td>0.244275</td>\n",
              "      <td>0.365854</td>\n",
              "      <td>0.537037</td>\n",
              "      <td>0.516129</td>\n",
              "      <td>0.167260</td>\n",
              "      <td>0.274272</td>\n",
              "      <td>...</td>\n",
              "      <td>0.318182</td>\n",
              "      <td>0.798561</td>\n",
              "      <td>0.203166</td>\n",
              "      <td>0.390805</td>\n",
              "      <td>0.737226</td>\n",
              "      <td>0.152542</td>\n",
              "      <td>0.362319</td>\n",
              "      <td>0.508475</td>\n",
              "      <td>0.508197</td>\n",
              "      <td>0.075640</td>\n",
              "    </tr>\n",
              "    <tr>\n",
              "      <th>4</th>\n",
              "      <td>1.0</td>\n",
              "      <td>1.000000</td>\n",
              "      <td>0.188082</td>\n",
              "      <td>0.204545</td>\n",
              "      <td>0.297710</td>\n",
              "      <td>0.697561</td>\n",
              "      <td>0.611111</td>\n",
              "      <td>0.516129</td>\n",
              "      <td>0.112349</td>\n",
              "      <td>0.300850</td>\n",
              "      <td>...</td>\n",
              "      <td>0.515152</td>\n",
              "      <td>0.460432</td>\n",
              "      <td>0.182058</td>\n",
              "      <td>0.137931</td>\n",
              "      <td>0.562044</td>\n",
              "      <td>0.050847</td>\n",
              "      <td>0.231884</td>\n",
              "      <td>0.559322</td>\n",
              "      <td>0.606557</td>\n",
              "      <td>0.012801</td>\n",
              "    </tr>\n",
              "    <tr>\n",
              "      <th>...</th>\n",
              "      <td>...</td>\n",
              "      <td>...</td>\n",
              "      <td>...</td>\n",
              "      <td>...</td>\n",
              "      <td>...</td>\n",
              "      <td>...</td>\n",
              "      <td>...</td>\n",
              "      <td>...</td>\n",
              "      <td>...</td>\n",
              "      <td>...</td>\n",
              "      <td>...</td>\n",
              "      <td>...</td>\n",
              "      <td>...</td>\n",
              "      <td>...</td>\n",
              "      <td>...</td>\n",
              "      <td>...</td>\n",
              "      <td>...</td>\n",
              "      <td>...</td>\n",
              "      <td>...</td>\n",
              "      <td>...</td>\n",
              "      <td>...</td>\n",
              "    </tr>\n",
              "    <tr>\n",
              "      <th>417</th>\n",
              "      <td>1.0</td>\n",
              "      <td>0.089552</td>\n",
              "      <td>0.150838</td>\n",
              "      <td>0.454545</td>\n",
              "      <td>0.038168</td>\n",
              "      <td>0.453659</td>\n",
              "      <td>0.314815</td>\n",
              "      <td>0.612903</td>\n",
              "      <td>0.120961</td>\n",
              "      <td>0.234903</td>\n",
              "      <td>...</td>\n",
              "      <td>0.424242</td>\n",
              "      <td>0.812950</td>\n",
              "      <td>0.050132</td>\n",
              "      <td>0.793103</td>\n",
              "      <td>0.569343</td>\n",
              "      <td>0.152542</td>\n",
              "      <td>0.086957</td>\n",
              "      <td>0.254237</td>\n",
              "      <td>0.461639</td>\n",
              "      <td>0.184639</td>\n",
              "    </tr>\n",
              "    <tr>\n",
              "      <th>418</th>\n",
              "      <td>1.0</td>\n",
              "      <td>0.179104</td>\n",
              "      <td>0.620112</td>\n",
              "      <td>0.522727</td>\n",
              "      <td>0.671756</td>\n",
              "      <td>0.639024</td>\n",
              "      <td>0.796296</td>\n",
              "      <td>0.290323</td>\n",
              "      <td>0.298434</td>\n",
              "      <td>0.346626</td>\n",
              "      <td>...</td>\n",
              "      <td>0.621212</td>\n",
              "      <td>0.489209</td>\n",
              "      <td>0.084433</td>\n",
              "      <td>0.275862</td>\n",
              "      <td>0.562044</td>\n",
              "      <td>0.203390</td>\n",
              "      <td>0.260870</td>\n",
              "      <td>0.466102</td>\n",
              "      <td>0.445082</td>\n",
              "      <td>0.155547</td>\n",
              "    </tr>\n",
              "    <tr>\n",
              "      <th>419</th>\n",
              "      <td>1.0</td>\n",
              "      <td>0.194030</td>\n",
              "      <td>0.498250</td>\n",
              "      <td>0.271818</td>\n",
              "      <td>0.700763</td>\n",
              "      <td>0.569366</td>\n",
              "      <td>0.503148</td>\n",
              "      <td>0.382581</td>\n",
              "      <td>0.237473</td>\n",
              "      <td>0.506432</td>\n",
              "      <td>...</td>\n",
              "      <td>0.469697</td>\n",
              "      <td>0.741007</td>\n",
              "      <td>0.108179</td>\n",
              "      <td>0.597701</td>\n",
              "      <td>0.598540</td>\n",
              "      <td>0.135593</td>\n",
              "      <td>0.057971</td>\n",
              "      <td>0.152542</td>\n",
              "      <td>0.498689</td>\n",
              "      <td>0.177269</td>\n",
              "    </tr>\n",
              "    <tr>\n",
              "      <th>420</th>\n",
              "      <td>0.0</td>\n",
              "      <td>0.149254</td>\n",
              "      <td>0.537579</td>\n",
              "      <td>0.565909</td>\n",
              "      <td>0.539695</td>\n",
              "      <td>0.582488</td>\n",
              "      <td>0.546296</td>\n",
              "      <td>0.554355</td>\n",
              "      <td>0.457402</td>\n",
              "      <td>0.309175</td>\n",
              "      <td>...</td>\n",
              "      <td>0.727273</td>\n",
              "      <td>0.151079</td>\n",
              "      <td>0.197889</td>\n",
              "      <td>0.241379</td>\n",
              "      <td>0.167883</td>\n",
              "      <td>0.372881</td>\n",
              "      <td>1.000000</td>\n",
              "      <td>0.449153</td>\n",
              "      <td>0.528689</td>\n",
              "      <td>0.182700</td>\n",
              "    </tr>\n",
              "    <tr>\n",
              "      <th>421</th>\n",
              "      <td>1.0</td>\n",
              "      <td>0.179104</td>\n",
              "      <td>0.428957</td>\n",
              "      <td>0.374091</td>\n",
              "      <td>0.554198</td>\n",
              "      <td>0.544780</td>\n",
              "      <td>0.468704</td>\n",
              "      <td>0.367258</td>\n",
              "      <td>0.227580</td>\n",
              "      <td>0.435704</td>\n",
              "      <td>...</td>\n",
              "      <td>0.303030</td>\n",
              "      <td>0.892086</td>\n",
              "      <td>0.379947</td>\n",
              "      <td>0.689655</td>\n",
              "      <td>0.540146</td>\n",
              "      <td>0.254237</td>\n",
              "      <td>0.072464</td>\n",
              "      <td>0.254237</td>\n",
              "      <td>0.380000</td>\n",
              "      <td>0.143522</td>\n",
              "    </tr>\n",
              "  </tbody>\n",
              "</table>\n",
              "<p>422 rows × 27 columns</p>\n",
              "</div>\n",
              "      <button class=\"colab-df-convert\" onclick=\"convertToInteractive('df-8ecf1797-5895-45cf-b3d4-69acd5d3826d')\"\n",
              "              title=\"Convert this dataframe to an interactive table.\"\n",
              "              style=\"display:none;\">\n",
              "        \n",
              "  <svg xmlns=\"http://www.w3.org/2000/svg\" height=\"24px\"viewBox=\"0 0 24 24\"\n",
              "       width=\"24px\">\n",
              "    <path d=\"M0 0h24v24H0V0z\" fill=\"none\"/>\n",
              "    <path d=\"M18.56 5.44l.94 2.06.94-2.06 2.06-.94-2.06-.94-.94-2.06-.94 2.06-2.06.94zm-11 1L8.5 8.5l.94-2.06 2.06-.94-2.06-.94L8.5 2.5l-.94 2.06-2.06.94zm10 10l.94 2.06.94-2.06 2.06-.94-2.06-.94-.94-2.06-.94 2.06-2.06.94z\"/><path d=\"M17.41 7.96l-1.37-1.37c-.4-.4-.92-.59-1.43-.59-.52 0-1.04.2-1.43.59L10.3 9.45l-7.72 7.72c-.78.78-.78 2.05 0 2.83L4 21.41c.39.39.9.59 1.41.59.51 0 1.02-.2 1.41-.59l7.78-7.78 2.81-2.81c.8-.78.8-2.07 0-2.86zM5.41 20L4 18.59l7.72-7.72 1.47 1.35L5.41 20z\"/>\n",
              "  </svg>\n",
              "      </button>\n",
              "      \n",
              "  <style>\n",
              "    .colab-df-container {\n",
              "      display:flex;\n",
              "      flex-wrap:wrap;\n",
              "      gap: 12px;\n",
              "    }\n",
              "\n",
              "    .colab-df-convert {\n",
              "      background-color: #E8F0FE;\n",
              "      border: none;\n",
              "      border-radius: 50%;\n",
              "      cursor: pointer;\n",
              "      display: none;\n",
              "      fill: #1967D2;\n",
              "      height: 32px;\n",
              "      padding: 0 0 0 0;\n",
              "      width: 32px;\n",
              "    }\n",
              "\n",
              "    .colab-df-convert:hover {\n",
              "      background-color: #E2EBFA;\n",
              "      box-shadow: 0px 1px 2px rgba(60, 64, 67, 0.3), 0px 1px 3px 1px rgba(60, 64, 67, 0.15);\n",
              "      fill: #174EA6;\n",
              "    }\n",
              "\n",
              "    [theme=dark] .colab-df-convert {\n",
              "      background-color: #3B4455;\n",
              "      fill: #D2E3FC;\n",
              "    }\n",
              "\n",
              "    [theme=dark] .colab-df-convert:hover {\n",
              "      background-color: #434B5C;\n",
              "      box-shadow: 0px 1px 3px 1px rgba(0, 0, 0, 0.15);\n",
              "      filter: drop-shadow(0px 1px 2px rgba(0, 0, 0, 0.3));\n",
              "      fill: #FFFFFF;\n",
              "    }\n",
              "  </style>\n",
              "\n",
              "      <script>\n",
              "        const buttonEl =\n",
              "          document.querySelector('#df-8ecf1797-5895-45cf-b3d4-69acd5d3826d button.colab-df-convert');\n",
              "        buttonEl.style.display =\n",
              "          google.colab.kernel.accessAllowed ? 'block' : 'none';\n",
              "\n",
              "        async function convertToInteractive(key) {\n",
              "          const element = document.querySelector('#df-8ecf1797-5895-45cf-b3d4-69acd5d3826d');\n",
              "          const dataTable =\n",
              "            await google.colab.kernel.invokeFunction('convertToInteractive',\n",
              "                                                     [key], {});\n",
              "          if (!dataTable) return;\n",
              "\n",
              "          const docLinkHtml = 'Like what you see? Visit the ' +\n",
              "            '<a target=\"_blank\" href=https://colab.research.google.com/notebooks/data_table.ipynb>data table notebook</a>'\n",
              "            + ' to learn more about interactive tables.';\n",
              "          element.innerHTML = '';\n",
              "          dataTable['output_type'] = 'display_data';\n",
              "          await google.colab.output.renderOutput(dataTable, element);\n",
              "          const docLink = document.createElement('div');\n",
              "          docLink.innerHTML = docLinkHtml;\n",
              "          element.appendChild(docLink);\n",
              "        }\n",
              "      </script>\n",
              "    </div>\n",
              "  </div>\n",
              "  "
            ]
          },
          "metadata": {},
          "execution_count": 105
        }
      ]
    },
    {
      "cell_type": "code",
      "source": [
        "y = df2['telomere length (kb)'].values\n",
        "X = df2.drop('telomere length (kb)',1).values"
      ],
      "metadata": {
        "colab": {
          "base_uri": "https://localhost:8080/"
        },
        "id": "pHzpY0tPlU_6",
        "outputId": "88fda1ec-db84-473d-9072-6dd458dc6c5f"
      },
      "execution_count": null,
      "outputs": [
        {
          "output_type": "stream",
          "name": "stderr",
          "text": [
            "<ipython-input-106-8bd2b2c93927>:2: FutureWarning: In a future version of pandas all arguments of DataFrame.drop except for the argument 'labels' will be keyword-only\n",
            "  X = df2.drop('telomere length (kb)',1).values\n"
          ]
        }
      ]
    },
    {
      "cell_type": "code",
      "source": [
        "from sklearn.model_selection import train_test_split\n",
        "X_train, X_test, y_train, y_test = train_test_split(X, y, test_size=0.2, random_state=216)"
      ],
      "metadata": {
        "id": "y6zJ_ttXlVcK"
      },
      "execution_count": null,
      "outputs": []
    },
    {
      "cell_type": "code",
      "source": [
        "model = SVR(kernel='linear', C=1.0, epsilon=0.1)\n",
        "svr = model.fit(X_train, y_train) "
      ],
      "metadata": {
        "id": "QNU94NGulXmA"
      },
      "execution_count": null,
      "outputs": []
    },
    {
      "cell_type": "code",
      "source": [
        "y_pred = model.predict(X_test)"
      ],
      "metadata": {
        "id": "ZhqVFD8plYnC"
      },
      "execution_count": null,
      "outputs": []
    },
    {
      "cell_type": "code",
      "source": [
        "#Train\n",
        "print('R2 Value Train:',metrics.r2_score(y_train, svr.predict(X_train)))\n",
        "print('MSE Train:',metrics.mean_squared_error(y_train, svr.predict(X_train)))\n",
        "print('MAE Train:',metrics.mean_absolute_error(y_train, svr.predict(X_train)))"
      ],
      "metadata": {
        "colab": {
          "base_uri": "https://localhost:8080/"
        },
        "id": "N2r2PH91lZ4F",
        "outputId": "ed82c450-bbab-4617-ebf0-5caf323668b4"
      },
      "execution_count": null,
      "outputs": [
        {
          "output_type": "stream",
          "name": "stdout",
          "text": [
            "R2 Value Train: 0.9332976404347691\n",
            "MSE Train: 0.002349841178171661\n",
            "MAE Train: 0.040040836808383384\n"
          ]
        }
      ]
    },
    {
      "cell_type": "code",
      "source": [
        "print('MAPE',100- (np.mean(np.abs((y_test - y_pred) / y_test)) * 100))"
      ],
      "metadata": {
        "colab": {
          "base_uri": "https://localhost:8080/"
        },
        "id": "NBNzVA5plbzj",
        "outputId": "b57f27a0-2043-4ca8-c8b3-8b3c9aa41723"
      },
      "execution_count": null,
      "outputs": [
        {
          "output_type": "stream",
          "name": "stdout",
          "text": [
            "MAPE 79.75138418513087\n"
          ]
        }
      ]
    },
    {
      "cell_type": "code",
      "source": [
        "#Test\n",
        "print('R2 Value Test:',metrics.r2_score(y_test, y_pred))\n",
        "print('MSE Test:',metrics.mean_squared_error(y_test, y_pred))\n",
        "print('MAE Test:',metrics.mean_absolute_error(y_test, y_pred))"
      ],
      "metadata": {
        "colab": {
          "base_uri": "https://localhost:8080/"
        },
        "id": "ymLuMJHXlcfk",
        "outputId": "232afa1d-1256-4dac-e8fa-b781c5a2e6c3"
      },
      "execution_count": null,
      "outputs": [
        {
          "output_type": "stream",
          "name": "stdout",
          "text": [
            "R2 Value Test: 0.9294628425968878\n",
            "MSE Test: 0.0020947385594004215\n",
            "MAE Test: 0.03888079628615357\n"
          ]
        }
      ]
    },
    {
      "cell_type": "markdown",
      "source": [
        "# data control"
      ],
      "metadata": {
        "id": "rolR_b-n8GKp"
      }
    },
    {
      "cell_type": "code",
      "source": [
        "data_file_path = os.path.join(path,'data_notmissing.csv') #ไปที่ไฟล์ confirmed-cases-since-280265.csv\n",
        "data3 = pd.read_csv(data_file_path)\n",
        "data3.drop({'Unnamed: 0'},1,inplace = True)"
      ],
      "metadata": {
        "colab": {
          "base_uri": "https://localhost:8080/"
        },
        "id": "2kY-z2CJ8IoZ",
        "outputId": "b0623c12-1a08-4758-c2f3-1556bdfe05f3"
      },
      "execution_count": null,
      "outputs": [
        {
          "output_type": "stream",
          "name": "stderr",
          "text": [
            "<ipython-input-61-eab412fc4bad>:3: FutureWarning: In a future version of pandas all arguments of DataFrame.drop except for the argument 'labels' will be keyword-only\n",
            "  data3.drop({'Unnamed: 0'},1,inplace = True)\n"
          ]
        }
      ]
    },
    {
      "cell_type": "code",
      "source": [
        "scaler = MinMaxScaler()\n",
        "Scaler = scaler.fit_transform(data3)"
      ],
      "metadata": {
        "id": "YgekvGV68J3E"
      },
      "execution_count": null,
      "outputs": []
    },
    {
      "cell_type": "code",
      "source": [
        "df3 = pd.DataFrame(Scaler, columns = ['Sex' , 'AgeSYear', 'telomere length (kb)','Weight','Height','BMI','Systolic','Diastolic','HeartRate','SMM','Fat Mass',\n",
        "                                       '% Body fat','waist to hip radio','abdominal circumference','visceral fat area','Glucose','BUN','Creatinine','Uric Acid','Cholesterol',\n",
        "                                       'Triglyceride','HDL-C','LDL','AST','ALT','Alkaline Phos','HbA1c'])"
      ],
      "metadata": {
        "id": "hGlvMn0p8MQW"
      },
      "execution_count": null,
      "outputs": []
    },
    {
      "cell_type": "code",
      "source": [
        "y = df3['telomere length (kb)']\n",
        "X = df3.drop('telomere length (kb)',1)"
      ],
      "metadata": {
        "colab": {
          "base_uri": "https://localhost:8080/"
        },
        "id": "5HFYOoTs8MNQ",
        "outputId": "182c5b0f-19b5-406b-9c91-6cee2c97deb9"
      },
      "execution_count": null,
      "outputs": [
        {
          "output_type": "stream",
          "name": "stderr",
          "text": [
            "<ipython-input-64-2db422769c5c>:2: FutureWarning: In a future version of pandas all arguments of DataFrame.drop except for the argument 'labels' will be keyword-only\n",
            "  X = df3.drop('telomere length (kb)',1)\n"
          ]
        }
      ]
    },
    {
      "cell_type": "code",
      "source": [
        "X_train, X_test, y_train, y_test = train_test_split(X, y, test_size=0.2, random_state=216)"
      ],
      "metadata": {
        "id": "YB1WBZYj8Ro1"
      },
      "execution_count": null,
      "outputs": []
    },
    {
      "cell_type": "code",
      "source": [
        "model = SVR(kernel='linear', C=1.0, epsilon=0.1)\n",
        "svr = model.fit(X_train, y_train) "
      ],
      "metadata": {
        "id": "T9k9UJDM8Rll"
      },
      "execution_count": null,
      "outputs": []
    },
    {
      "cell_type": "code",
      "source": [
        "y_pred = model.predict(X_test)"
      ],
      "metadata": {
        "id": "XGVSUlQr8MKI"
      },
      "execution_count": null,
      "outputs": []
    },
    {
      "cell_type": "code",
      "source": [
        "#Train\n",
        "print('R2 Value Train:',metrics.r2_score(y_train, svr.predict(X_train)))\n",
        "print('MSE Train:',metrics.mean_squared_error(y_train, svr.predict(X_train)))\n",
        "print('MAE Train:',metrics.mean_absolute_error(y_train, svr.predict(X_train)))"
      ],
      "metadata": {
        "colab": {
          "base_uri": "https://localhost:8080/"
        },
        "id": "iFeMnx-78MAN",
        "outputId": "0583d564-76bd-48c7-f726-d029b1dca733"
      },
      "execution_count": null,
      "outputs": [
        {
          "output_type": "stream",
          "name": "stdout",
          "text": [
            "R2 Value Train: 0.754326706985436\n",
            "MSE Train: 0.008505615288209482\n",
            "MAE Train: 0.07958187145817283\n"
          ]
        }
      ]
    },
    {
      "cell_type": "code",
      "source": [
        "print('MAPE',100- (np.mean(np.abs((y_test - y_pred) / y_test)) * 100))"
      ],
      "metadata": {
        "colab": {
          "base_uri": "https://localhost:8080/"
        },
        "id": "7mvo1EY18Y_R",
        "outputId": "9afedf18-6a56-47ed-9b03-3cb3ea413522"
      },
      "execution_count": null,
      "outputs": [
        {
          "output_type": "stream",
          "name": "stdout",
          "text": [
            "MAPE 67.10029458054282\n"
          ]
        }
      ]
    },
    {
      "cell_type": "code",
      "source": [
        "#Test\n",
        "print('R2 Value Test:',metrics.r2_score(y_test, y_pred))\n",
        "print('MSE Test:',metrics.mean_squared_error(y_test, y_pred))\n",
        "print('MAE Test:',metrics.mean_absolute_error(y_test, y_pred))"
      ],
      "metadata": {
        "colab": {
          "base_uri": "https://localhost:8080/"
        },
        "id": "y5pIck9Z8Y8A",
        "outputId": "97a7cfdb-6821-4c87-d62a-d5b1e720b9dd"
      },
      "execution_count": null,
      "outputs": [
        {
          "output_type": "stream",
          "name": "stdout",
          "text": [
            "R2 Value Test: 0.7471324126152579\n",
            "MSE Test: 0.01589143072004024\n",
            "MAE Test: 0.10972294221408282\n"
          ]
        }
      ]
    },
    {
      "cell_type": "markdown",
      "source": [
        "## GridSearchCV"
      ],
      "metadata": {
        "id": "wRzt7xMTRK4i"
      }
    },
    {
      "cell_type": "code",
      "source": [
        "from sklearn.model_selection import GridSearchCV"
      ],
      "metadata": {
        "id": "jgv_RkUEQo9S"
      },
      "execution_count": null,
      "outputs": []
    },
    {
      "cell_type": "code",
      "source": [
        "def hyperParameter(data):\n",
        "  y = data['telomere length (kb)']\n",
        "  X = data.drop('telomere length (kb)',1)\n",
        "  X_train, X_test, y_train, y_test = train_test_split(X, y, test_size=0.2, random_state=216)\n",
        "  param_tuning = {\n",
        "        'kernel': ['linear','poly','rbf'],'gamma':['scale','auto'],\n",
        "        'C': np.arange(1,11,1),'epsilon': np.arange(0.1,1,0.1)\n",
        "    }\n",
        "  model = SVR()\n",
        "\n",
        "  gsearch = GridSearchCV(estimator = model,\n",
        "                           param_grid = param_tuning                       \n",
        "                          )\n",
        "\n",
        "  gsearch.fit(X_train,y_train)\n",
        "\n",
        "  return gsearch.best_params_"
      ],
      "metadata": {
        "id": "2r_k1rndRLw-"
      },
      "execution_count": null,
      "outputs": []
    },
    {
      "cell_type": "markdown",
      "source": [
        "### data1"
      ],
      "metadata": {
        "id": "7qg3ykOlJ2UU"
      }
    },
    {
      "cell_type": "code",
      "source": [
        "hyperParameter(df) "
      ],
      "metadata": {
        "id": "MXoeUl-_UVPE",
        "colab": {
          "base_uri": "https://localhost:8080/"
        },
        "outputId": "232f5542-88d4-4b86-9670-b12e17763bdc"
      },
      "execution_count": null,
      "outputs": [
        {
          "output_type": "stream",
          "name": "stderr",
          "text": [
            "<ipython-input-86-535e4415d470>:3: FutureWarning: In a future version of pandas all arguments of DataFrame.drop except for the argument 'labels' will be keyword-only\n",
            "  X = data.drop('telomere length (kb)',1)\n"
          ]
        },
        {
          "output_type": "execute_result",
          "data": {
            "text/plain": [
              "{'C': 1, 'epsilon': 0.1, 'gamma': 'scale', 'kernel': 'linear'}"
            ]
          },
          "metadata": {},
          "execution_count": 87
        }
      ]
    },
    {
      "cell_type": "code",
      "source": [
        "model = SVR(kernel='linear', C=1.0,gamma='scale')\n",
        "svr = model.fit(X_train, y_train) "
      ],
      "metadata": {
        "id": "T-O7AU1RuoJS"
      },
      "execution_count": null,
      "outputs": []
    },
    {
      "cell_type": "code",
      "source": [
        "y_pred = model.predict(X_test)"
      ],
      "metadata": {
        "id": "hNo8OV9nu7r-"
      },
      "execution_count": null,
      "outputs": []
    },
    {
      "cell_type": "code",
      "source": [
        "#Train\n",
        "print('R2 Value Train:',metrics.r2_score(y_train, svr.predict(X_train)))\n",
        "print('MSE Train:',metrics.mean_squared_error(y_train, svr.predict(X_train)))\n",
        "print('MAE Train:',metrics.mean_absolute_error(y_train, svr.predict(X_train)))"
      ],
      "metadata": {
        "colab": {
          "base_uri": "https://localhost:8080/"
        },
        "id": "gqW0LfCtu-Xb",
        "outputId": "a1442866-7a13-4aa8-efbc-bd753815aa0d"
      },
      "execution_count": null,
      "outputs": [
        {
          "output_type": "stream",
          "name": "stdout",
          "text": [
            "R2 Value Train: 0.9332976404347691\n",
            "MSE Train: 0.002349841178171661\n",
            "MAE Train: 0.040040836808383384\n"
          ]
        }
      ]
    },
    {
      "cell_type": "code",
      "source": [
        "print('R2 Value Test:',metrics.r2_score(y_test, y_pred))\n",
        "print('MSE Test:',metrics.mean_squared_error(y_test, y_pred))\n",
        "print('MAE Test:',metrics.mean_absolute_error(y_test, y_pred))"
      ],
      "metadata": {
        "colab": {
          "base_uri": "https://localhost:8080/"
        },
        "id": "0RWVOt0OvAP9",
        "outputId": "254997fa-6467-4878-ce4d-ac795a6ea0ae"
      },
      "execution_count": null,
      "outputs": [
        {
          "output_type": "stream",
          "name": "stdout",
          "text": [
            "R2 Value Test: 0.9294628425968878\n",
            "MSE Test: 0.0020947385594004215\n",
            "MAE Test: 0.03888079628615357\n"
          ]
        }
      ]
    },
    {
      "cell_type": "code",
      "source": [
        "print('MAPE',100- (np.mean(np.abs((y_test - y_pred) / y_test)) * 100))"
      ],
      "metadata": {
        "colab": {
          "base_uri": "https://localhost:8080/"
        },
        "id": "DTDzEISPvBZB",
        "outputId": "a7551841-219b-4f30-a73b-d6de018081a8"
      },
      "execution_count": null,
      "outputs": [
        {
          "output_type": "stream",
          "name": "stdout",
          "text": [
            "MAPE 79.75138418513087\n"
          ]
        }
      ]
    },
    {
      "cell_type": "markdown",
      "source": [
        "### data2"
      ],
      "metadata": {
        "id": "xh5TkFT8lSGL"
      }
    },
    {
      "cell_type": "code",
      "source": [
        "hyperParameter(df2) "
      ],
      "metadata": {
        "colab": {
          "base_uri": "https://localhost:8080/"
        },
        "id": "XSv0DEnPf592",
        "outputId": "924606d1-0013-4b16-8b1e-71be2440301f"
      },
      "execution_count": null,
      "outputs": [
        {
          "output_type": "stream",
          "name": "stderr",
          "text": [
            "<ipython-input-86-535e4415d470>:3: FutureWarning: In a future version of pandas all arguments of DataFrame.drop except for the argument 'labels' will be keyword-only\n",
            "  X = data.drop('telomere length (kb)',1)\n"
          ]
        },
        {
          "output_type": "execute_result",
          "data": {
            "text/plain": [
              "{'C': 1, 'epsilon': 0.1, 'gamma': 'scale', 'kernel': 'linear'}"
            ]
          },
          "metadata": {},
          "execution_count": 88
        }
      ]
    },
    {
      "cell_type": "code",
      "source": [
        "y = df2['telomere length (kb)'].values\n",
        "X = df2.drop('telomere length (kb)',1).values"
      ],
      "metadata": {
        "colab": {
          "base_uri": "https://localhost:8080/"
        },
        "id": "m4Mk61_meQKB",
        "outputId": "3a284193-3ede-4b8c-b8d7-df6dea24a120"
      },
      "execution_count": null,
      "outputs": [
        {
          "output_type": "stream",
          "name": "stderr",
          "text": [
            "<ipython-input-54-8bd2b2c93927>:2: FutureWarning: In a future version of pandas all arguments of DataFrame.drop except for the argument 'labels' will be keyword-only\n",
            "  X = df2.drop('telomere length (kb)',1).values\n"
          ]
        }
      ]
    },
    {
      "cell_type": "code",
      "source": [
        "X_train, X_test, y_train, y_test = train_test_split(X, y, test_size=0.2, random_state=216)"
      ],
      "metadata": {
        "id": "AX3p4yc6eNNY"
      },
      "execution_count": null,
      "outputs": []
    },
    {
      "cell_type": "code",
      "source": [
        "model = SVR(kernel='linear', C=1.0,gamma='scale')\n",
        "svr = model.fit(X_train, y_train) "
      ],
      "metadata": {
        "id": "u8_zkOzbriMW"
      },
      "execution_count": null,
      "outputs": []
    },
    {
      "cell_type": "code",
      "source": [
        "y_pred = model.predict(X_test)"
      ],
      "metadata": {
        "id": "gZC4320NrrSl"
      },
      "execution_count": null,
      "outputs": []
    },
    {
      "cell_type": "code",
      "source": [
        "#Train\n",
        "print('R2 Value Train:',metrics.r2_score(y_train, svr.predict(X_train)))\n",
        "print('MSE Train:',metrics.mean_squared_error(y_train, svr.predict(X_train)))\n",
        "print('MAE Train:',metrics.mean_absolute_error(y_train, svr.predict(X_train)))"
      ],
      "metadata": {
        "colab": {
          "base_uri": "https://localhost:8080/"
        },
        "id": "fb-SwDYirumW",
        "outputId": "01530df2-ba84-433e-f8ee-ad034fbb308c"
      },
      "execution_count": null,
      "outputs": [
        {
          "output_type": "stream",
          "name": "stdout",
          "text": [
            "R2 Value Train: 0.9314705267128296\n",
            "MSE Train: 0.0024235743537015476\n",
            "MAE Train: 0.04121014237258107\n"
          ]
        }
      ]
    },
    {
      "cell_type": "code",
      "source": [
        "print('MAPE',100- (np.mean(np.abs((y_test - y_pred) / y_test)) * 100))"
      ],
      "metadata": {
        "colab": {
          "base_uri": "https://localhost:8080/"
        },
        "id": "65YWAwwrrujY",
        "outputId": "eaf00859-6e2e-44a4-98fb-9502f71547c8"
      },
      "execution_count": null,
      "outputs": [
        {
          "output_type": "stream",
          "name": "stdout",
          "text": [
            "MAPE 78.14845717903356\n"
          ]
        }
      ]
    },
    {
      "cell_type": "code",
      "source": [
        "print('R2 Value Test:',metrics.r2_score(y_test, y_pred))\n",
        "print('MSE Test:',metrics.mean_squared_error(y_test, y_pred))\n",
        "print('MAE Test:',metrics.mean_absolute_error(y_test, y_pred))"
      ],
      "metadata": {
        "colab": {
          "base_uri": "https://localhost:8080/"
        },
        "id": "nfu2hlPPrubn",
        "outputId": "ca4d9d38-0d67-4d03-f6ef-0bdee626c63b"
      },
      "execution_count": null,
      "outputs": [
        {
          "output_type": "stream",
          "name": "stdout",
          "text": [
            "R2 Value Test: 0.9198531596728259\n",
            "MSE Test: 0.00238770512254669\n",
            "MAE Test: 0.04187107150837936\n"
          ]
        }
      ]
    },
    {
      "cell_type": "markdown",
      "source": [
        "### data3"
      ],
      "metadata": {
        "id": "hpspn3Xgf2XV"
      }
    },
    {
      "cell_type": "code",
      "source": [
        "hyperParameter(df3) "
      ],
      "metadata": {
        "colab": {
          "base_uri": "https://localhost:8080/"
        },
        "id": "hAp6hDz6f6-t",
        "outputId": "e6ac394e-135d-4b1a-acae-28b682bf6f91"
      },
      "execution_count": null,
      "outputs": [
        {
          "output_type": "stream",
          "name": "stderr",
          "text": [
            "<ipython-input-86-535e4415d470>:3: FutureWarning: In a future version of pandas all arguments of DataFrame.drop except for the argument 'labels' will be keyword-only\n",
            "  X = data.drop('telomere length (kb)',1)\n"
          ]
        },
        {
          "output_type": "execute_result",
          "data": {
            "text/plain": [
              "{'C': 1, 'epsilon': 0.1, 'gamma': 'scale', 'kernel': 'linear'}"
            ]
          },
          "metadata": {},
          "execution_count": 89
        }
      ]
    },
    {
      "cell_type": "code",
      "source": [
        "y = df3['telomere length (kb)'].values\n",
        "X = df3.drop('telomere length (kb)',1).values"
      ],
      "metadata": {
        "colab": {
          "base_uri": "https://localhost:8080/"
        },
        "id": "XaByDbbnemrZ",
        "outputId": "c5363c1f-a757-4797-a121-32aaa4a64057"
      },
      "execution_count": null,
      "outputs": [
        {
          "output_type": "stream",
          "name": "stderr",
          "text": [
            "<ipython-input-78-9c5732b33452>:2: FutureWarning: In a future version of pandas all arguments of DataFrame.drop except for the argument 'labels' will be keyword-only\n",
            "  X = df3.drop('telomere length (kb)',1).values\n"
          ]
        }
      ]
    },
    {
      "cell_type": "code",
      "source": [
        "X_train, X_test, y_train, y_test = train_test_split(X, y, test_size=0.2, random_state=216)"
      ],
      "metadata": {
        "id": "6dqDk86pen4h"
      },
      "execution_count": null,
      "outputs": []
    },
    {
      "cell_type": "code",
      "source": [
        "model = SVR(kernel='linear', C=1.0,gamma='scale')\n",
        "svr = model.fit(X_train, y_train) "
      ],
      "metadata": {
        "id": "bL8UW16Es_Al"
      },
      "execution_count": null,
      "outputs": []
    },
    {
      "cell_type": "code",
      "source": [
        "y_pred = model.predict(X_test)"
      ],
      "metadata": {
        "id": "dVMfoQn1s-9p"
      },
      "execution_count": null,
      "outputs": []
    },
    {
      "cell_type": "code",
      "source": [
        "#Train\n",
        "print('R2 Value Train:',metrics.r2_score(y_train, svr.predict(X_train)))\n",
        "print('MSE Train:',metrics.mean_squared_error(y_train, svr.predict(X_train)))\n",
        "print('MAE Train:',metrics.mean_absolute_error(y_train, svr.predict(X_train)))"
      ],
      "metadata": {
        "colab": {
          "base_uri": "https://localhost:8080/"
        },
        "id": "w3OWUlhVs-6m",
        "outputId": "09677474-8937-4036-d772-9014c0d921f8"
      },
      "execution_count": null,
      "outputs": [
        {
          "output_type": "stream",
          "name": "stdout",
          "text": [
            "R2 Value Train: 0.754326706985436\n",
            "MSE Train: 0.008505615288209482\n",
            "MAE Train: 0.07958187145817283\n"
          ]
        }
      ]
    },
    {
      "cell_type": "code",
      "source": [
        "print('MAPE',100- (np.mean(np.abs((y_test - y_pred) / y_test)) * 100))"
      ],
      "metadata": {
        "colab": {
          "base_uri": "https://localhost:8080/"
        },
        "id": "GtS7DBDks-3B",
        "outputId": "086a79ba-d58a-4246-e579-c3ac86f9a848"
      },
      "execution_count": null,
      "outputs": [
        {
          "output_type": "stream",
          "name": "stdout",
          "text": [
            "MAPE 67.10029458054282\n"
          ]
        }
      ]
    },
    {
      "cell_type": "code",
      "source": [
        "print('R2 Value Test:',metrics.r2_score(y_test, y_pred))\n",
        "print('MSE Test:',metrics.mean_squared_error(y_test, y_pred))\n",
        "print('MAE Test:',metrics.mean_absolute_error(y_test, y_pred))"
      ],
      "metadata": {
        "colab": {
          "base_uri": "https://localhost:8080/"
        },
        "id": "2ArqbG8hs92P",
        "outputId": "5dbd7d14-f673-4e4a-9340-d8047cbdea23"
      },
      "execution_count": null,
      "outputs": [
        {
          "output_type": "stream",
          "name": "stdout",
          "text": [
            "R2 Value Test: 0.7471324126152579\n",
            "MSE Test: 0.01589143072004024\n",
            "MAE Test: 0.10972294221408282\n"
          ]
        }
      ]
    }
  ]
}