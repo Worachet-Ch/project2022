{
  "nbformat": 4,
  "nbformat_minor": 0,
  "metadata": {
    "colab": {
      "provenance": [],
      "machine_shape": "hm",
      "authorship_tag": "ABX9TyOeuxJsrtKQy8FQnGPJa/7O",
      "include_colab_link": true
    },
    "kernelspec": {
      "name": "python3",
      "display_name": "Python 3"
    },
    "language_info": {
      "name": "python"
    },
    "accelerator": "GPU",
    "gpuClass": "standard"
  },
  "cells": [
    {
      "cell_type": "markdown",
      "metadata": {
        "id": "view-in-github",
        "colab_type": "text"
      },
      "source": [
        "<a href=\"https://colab.research.google.com/github/Worachet-Ch/project2022/blob/main/random_nan_and_imputation_with_Body_fat_variable.ipynb\" target=\"_parent\"><img src=\"https://colab.research.google.com/assets/colab-badge.svg\" alt=\"Open In Colab\"/></a>"
      ]
    },
    {
      "cell_type": "code",
      "execution_count": 1,
      "metadata": {
        "id": "WlE8oT5Ng_NP"
      },
      "outputs": [],
      "source": [
        "import pandas as pd #นำเข้า pandas แทนที่ด้วย pd\n",
        "import os# os ใช้จัดการกับไฟล์ ว่าอยู่ที่ไหน\n",
        "import numpy as np\n",
        "import seaborn as sns\n",
        "import matplotlib.pyplot as plt\n",
        "import missingno as mno\n",
        "import missingno as msno\n",
        "from sklearn import linear_model\n",
        "%matplotlib inline\n",
        "import matplotlib\n",
        "import sklearn \n",
        "from sklearn.impute import KNNImputer\n",
        "from sklearn.metrics import mean_squared_error\n",
        "import time"
      ]
    },
    {
      "cell_type": "code",
      "source": [
        "from google.colab import drive #เชื่อม Google drive\n",
        "drive.mount('/content/drive')\n",
        "path = '/content/drive/My Drive/project' #เข้า drive\n",
        "data_file_path = os.path.join(path,'data_notmissing.csv') #ไปที่ไฟล์ confirmed-cases-since-280265.csv\n",
        "data = pd.read_csv(data_file_path) #อ่านไฟล์ csv"
      ],
      "metadata": {
        "id": "GDkw1dtXhLP4",
        "colab": {
          "base_uri": "https://localhost:8080/"
        },
        "outputId": "4d0b2f05-94cd-47fd-c355-bae26031f7ed"
      },
      "execution_count": 2,
      "outputs": [
        {
          "output_type": "stream",
          "name": "stdout",
          "text": [
            "Mounted at /content/drive\n"
          ]
        }
      ]
    },
    {
      "cell_type": "code",
      "source": [
        "data.drop({'Unnamed: 0','telomere length (kb) '},1,inplace = True)"
      ],
      "metadata": {
        "id": "o6Qf5r-uhMFj",
        "colab": {
          "base_uri": "https://localhost:8080/"
        },
        "outputId": "ed9745ad-241b-4e71-a71b-4b673af753bb"
      },
      "execution_count": 3,
      "outputs": [
        {
          "output_type": "stream",
          "name": "stderr",
          "text": [
            "<ipython-input-3-4cc622f169ae>:1: FutureWarning: In a future version of pandas all arguments of DataFrame.drop except for the argument 'labels' will be keyword-only\n",
            "  data.drop({'Unnamed: 0','telomere length (kb) '},1,inplace = True)\n"
          ]
        }
      ]
    },
    {
      "cell_type": "code",
      "source": [
        "data"
      ],
      "metadata": {
        "id": "wDnYHJnYhNRe",
        "colab": {
          "base_uri": "https://localhost:8080/",
          "height": 423
        },
        "outputId": "c4c5171a-4b06-4907-a0de-07235f3ae2b8"
      },
      "execution_count": 4,
      "outputs": [
        {
          "output_type": "execute_result",
          "data": {
            "text/plain": [
              "     Sex  AgeSYear  Weight  Height   BMI  Systolic  Diastolic  HeartRate  \\\n",
              "0      2      57.0    47.4   153.0  20.2     114.0       75.0       69.0   \n",
              "1      2      24.0    53.2   157.0  21.6     103.0       69.0       78.0   \n",
              "2      2      62.0    54.4   165.0  20.0      95.0       75.0       83.0   \n",
              "3      2      35.0    56.3   161.0  21.7      95.0       57.0       72.0   \n",
              "4      1      46.0    72.3   170.0  25.0     133.0       77.0      107.0   \n",
              "..   ...       ...     ...     ...   ...       ...        ...        ...   \n",
              "148    1      60.0    72.0   170.0  24.9     131.0       74.0       69.0   \n",
              "149    1      58.0    62.0   168.0  22.0     103.0       76.0       72.0   \n",
              "150    2      42.0    55.5   165.0  20.4     102.0       52.0       77.0   \n",
              "151    2      61.0    61.8   159.0  24.4     117.0       60.0       72.0   \n",
              "152    2      31.0    58.2   169.0  20.4     108.0       69.0       73.0   \n",
              "\n",
              "      SMM  Fat Mass  ...  003_Creatinine  004_Uric Acid  005_Cholesterol  \\\n",
              "0    19.3      12.5  ...             1.0            5.0            176.0   \n",
              "1    21.3      14.6  ...             0.8            5.2            159.0   \n",
              "2    21.6      15.2  ...             0.7            4.1            230.0   \n",
              "3    22.5      15.4  ...             0.6            5.0            198.0   \n",
              "4    29.2      19.0  ...             0.9            6.9            194.0   \n",
              "..    ...       ...  ...             ...            ...              ...   \n",
              "148  30.5      13.8  ...             0.9            6.9            182.0   \n",
              "149  27.8      11.9  ...             1.0            6.8            191.0   \n",
              "150  22.9      14.1  ...             0.8            4.7            212.0   \n",
              "151  23.4      19.2  ...             0.8            5.1            235.0   \n",
              "152  25.0      13.0  ...             0.7            4.3            200.0   \n",
              "\n",
              "     006_Triglyceride  008_HDL-C  009_LDL  010_AST  012_ALT  \\\n",
              "0                51.0       72.0     94.0     16.0     16.0   \n",
              "1                45.0       52.0     98.0     13.0     17.0   \n",
              "2                94.0       61.0    151.0     18.0     31.0   \n",
              "3                47.0       68.0    120.0     16.0     20.0   \n",
              "4                63.0       60.0    122.0     15.0     19.0   \n",
              "..                ...        ...      ...      ...      ...   \n",
              "148             179.0       39.0    107.0     36.0     31.0   \n",
              "149              62.0       47.0    132.0     16.0     33.0   \n",
              "150              68.0       63.0    135.0     11.0     16.0   \n",
              "151              66.0       56.0    166.0     15.0     23.0   \n",
              "152              44.0       56.0    135.0     14.0     21.0   \n",
              "\n",
              "     013_Alkaline Phos  071_HbA1c  \n",
              "0                 62.0        5.1  \n",
              "1                 50.0        5.4  \n",
              "2                 76.0        5.6  \n",
              "3                 35.0        5.1  \n",
              "4                 69.0        5.2  \n",
              "..                 ...        ...  \n",
              "148               79.0        6.5  \n",
              "149               42.0        6.8  \n",
              "150               33.0        4.8  \n",
              "151               44.0        5.4  \n",
              "152               31.0        4.7  \n",
              "\n",
              "[153 rows x 26 columns]"
            ],
            "text/html": [
              "\n",
              "  <div id=\"df-79b8e40c-09bc-41a7-b6db-1844a1247370\">\n",
              "    <div class=\"colab-df-container\">\n",
              "      <div>\n",
              "<style scoped>\n",
              "    .dataframe tbody tr th:only-of-type {\n",
              "        vertical-align: middle;\n",
              "    }\n",
              "\n",
              "    .dataframe tbody tr th {\n",
              "        vertical-align: top;\n",
              "    }\n",
              "\n",
              "    .dataframe thead th {\n",
              "        text-align: right;\n",
              "    }\n",
              "</style>\n",
              "<table border=\"1\" class=\"dataframe\">\n",
              "  <thead>\n",
              "    <tr style=\"text-align: right;\">\n",
              "      <th></th>\n",
              "      <th>Sex</th>\n",
              "      <th>AgeSYear</th>\n",
              "      <th>Weight</th>\n",
              "      <th>Height</th>\n",
              "      <th>BMI</th>\n",
              "      <th>Systolic</th>\n",
              "      <th>Diastolic</th>\n",
              "      <th>HeartRate</th>\n",
              "      <th>SMM</th>\n",
              "      <th>Fat Mass</th>\n",
              "      <th>...</th>\n",
              "      <th>003_Creatinine</th>\n",
              "      <th>004_Uric Acid</th>\n",
              "      <th>005_Cholesterol</th>\n",
              "      <th>006_Triglyceride</th>\n",
              "      <th>008_HDL-C</th>\n",
              "      <th>009_LDL</th>\n",
              "      <th>010_AST</th>\n",
              "      <th>012_ALT</th>\n",
              "      <th>013_Alkaline Phos</th>\n",
              "      <th>071_HbA1c</th>\n",
              "    </tr>\n",
              "  </thead>\n",
              "  <tbody>\n",
              "    <tr>\n",
              "      <th>0</th>\n",
              "      <td>2</td>\n",
              "      <td>57.0</td>\n",
              "      <td>47.4</td>\n",
              "      <td>153.0</td>\n",
              "      <td>20.2</td>\n",
              "      <td>114.0</td>\n",
              "      <td>75.0</td>\n",
              "      <td>69.0</td>\n",
              "      <td>19.3</td>\n",
              "      <td>12.5</td>\n",
              "      <td>...</td>\n",
              "      <td>1.0</td>\n",
              "      <td>5.0</td>\n",
              "      <td>176.0</td>\n",
              "      <td>51.0</td>\n",
              "      <td>72.0</td>\n",
              "      <td>94.0</td>\n",
              "      <td>16.0</td>\n",
              "      <td>16.0</td>\n",
              "      <td>62.0</td>\n",
              "      <td>5.1</td>\n",
              "    </tr>\n",
              "    <tr>\n",
              "      <th>1</th>\n",
              "      <td>2</td>\n",
              "      <td>24.0</td>\n",
              "      <td>53.2</td>\n",
              "      <td>157.0</td>\n",
              "      <td>21.6</td>\n",
              "      <td>103.0</td>\n",
              "      <td>69.0</td>\n",
              "      <td>78.0</td>\n",
              "      <td>21.3</td>\n",
              "      <td>14.6</td>\n",
              "      <td>...</td>\n",
              "      <td>0.8</td>\n",
              "      <td>5.2</td>\n",
              "      <td>159.0</td>\n",
              "      <td>45.0</td>\n",
              "      <td>52.0</td>\n",
              "      <td>98.0</td>\n",
              "      <td>13.0</td>\n",
              "      <td>17.0</td>\n",
              "      <td>50.0</td>\n",
              "      <td>5.4</td>\n",
              "    </tr>\n",
              "    <tr>\n",
              "      <th>2</th>\n",
              "      <td>2</td>\n",
              "      <td>62.0</td>\n",
              "      <td>54.4</td>\n",
              "      <td>165.0</td>\n",
              "      <td>20.0</td>\n",
              "      <td>95.0</td>\n",
              "      <td>75.0</td>\n",
              "      <td>83.0</td>\n",
              "      <td>21.6</td>\n",
              "      <td>15.2</td>\n",
              "      <td>...</td>\n",
              "      <td>0.7</td>\n",
              "      <td>4.1</td>\n",
              "      <td>230.0</td>\n",
              "      <td>94.0</td>\n",
              "      <td>61.0</td>\n",
              "      <td>151.0</td>\n",
              "      <td>18.0</td>\n",
              "      <td>31.0</td>\n",
              "      <td>76.0</td>\n",
              "      <td>5.6</td>\n",
              "    </tr>\n",
              "    <tr>\n",
              "      <th>3</th>\n",
              "      <td>2</td>\n",
              "      <td>35.0</td>\n",
              "      <td>56.3</td>\n",
              "      <td>161.0</td>\n",
              "      <td>21.7</td>\n",
              "      <td>95.0</td>\n",
              "      <td>57.0</td>\n",
              "      <td>72.0</td>\n",
              "      <td>22.5</td>\n",
              "      <td>15.4</td>\n",
              "      <td>...</td>\n",
              "      <td>0.6</td>\n",
              "      <td>5.0</td>\n",
              "      <td>198.0</td>\n",
              "      <td>47.0</td>\n",
              "      <td>68.0</td>\n",
              "      <td>120.0</td>\n",
              "      <td>16.0</td>\n",
              "      <td>20.0</td>\n",
              "      <td>35.0</td>\n",
              "      <td>5.1</td>\n",
              "    </tr>\n",
              "    <tr>\n",
              "      <th>4</th>\n",
              "      <td>1</td>\n",
              "      <td>46.0</td>\n",
              "      <td>72.3</td>\n",
              "      <td>170.0</td>\n",
              "      <td>25.0</td>\n",
              "      <td>133.0</td>\n",
              "      <td>77.0</td>\n",
              "      <td>107.0</td>\n",
              "      <td>29.2</td>\n",
              "      <td>19.0</td>\n",
              "      <td>...</td>\n",
              "      <td>0.9</td>\n",
              "      <td>6.9</td>\n",
              "      <td>194.0</td>\n",
              "      <td>63.0</td>\n",
              "      <td>60.0</td>\n",
              "      <td>122.0</td>\n",
              "      <td>15.0</td>\n",
              "      <td>19.0</td>\n",
              "      <td>69.0</td>\n",
              "      <td>5.2</td>\n",
              "    </tr>\n",
              "    <tr>\n",
              "      <th>...</th>\n",
              "      <td>...</td>\n",
              "      <td>...</td>\n",
              "      <td>...</td>\n",
              "      <td>...</td>\n",
              "      <td>...</td>\n",
              "      <td>...</td>\n",
              "      <td>...</td>\n",
              "      <td>...</td>\n",
              "      <td>...</td>\n",
              "      <td>...</td>\n",
              "      <td>...</td>\n",
              "      <td>...</td>\n",
              "      <td>...</td>\n",
              "      <td>...</td>\n",
              "      <td>...</td>\n",
              "      <td>...</td>\n",
              "      <td>...</td>\n",
              "      <td>...</td>\n",
              "      <td>...</td>\n",
              "      <td>...</td>\n",
              "      <td>...</td>\n",
              "    </tr>\n",
              "    <tr>\n",
              "      <th>148</th>\n",
              "      <td>1</td>\n",
              "      <td>60.0</td>\n",
              "      <td>72.0</td>\n",
              "      <td>170.0</td>\n",
              "      <td>24.9</td>\n",
              "      <td>131.0</td>\n",
              "      <td>74.0</td>\n",
              "      <td>69.0</td>\n",
              "      <td>30.5</td>\n",
              "      <td>13.8</td>\n",
              "      <td>...</td>\n",
              "      <td>0.9</td>\n",
              "      <td>6.9</td>\n",
              "      <td>182.0</td>\n",
              "      <td>179.0</td>\n",
              "      <td>39.0</td>\n",
              "      <td>107.0</td>\n",
              "      <td>36.0</td>\n",
              "      <td>31.0</td>\n",
              "      <td>79.0</td>\n",
              "      <td>6.5</td>\n",
              "    </tr>\n",
              "    <tr>\n",
              "      <th>149</th>\n",
              "      <td>1</td>\n",
              "      <td>58.0</td>\n",
              "      <td>62.0</td>\n",
              "      <td>168.0</td>\n",
              "      <td>22.0</td>\n",
              "      <td>103.0</td>\n",
              "      <td>76.0</td>\n",
              "      <td>72.0</td>\n",
              "      <td>27.8</td>\n",
              "      <td>11.9</td>\n",
              "      <td>...</td>\n",
              "      <td>1.0</td>\n",
              "      <td>6.8</td>\n",
              "      <td>191.0</td>\n",
              "      <td>62.0</td>\n",
              "      <td>47.0</td>\n",
              "      <td>132.0</td>\n",
              "      <td>16.0</td>\n",
              "      <td>33.0</td>\n",
              "      <td>42.0</td>\n",
              "      <td>6.8</td>\n",
              "    </tr>\n",
              "    <tr>\n",
              "      <th>150</th>\n",
              "      <td>2</td>\n",
              "      <td>42.0</td>\n",
              "      <td>55.5</td>\n",
              "      <td>165.0</td>\n",
              "      <td>20.4</td>\n",
              "      <td>102.0</td>\n",
              "      <td>52.0</td>\n",
              "      <td>77.0</td>\n",
              "      <td>22.9</td>\n",
              "      <td>14.1</td>\n",
              "      <td>...</td>\n",
              "      <td>0.8</td>\n",
              "      <td>4.7</td>\n",
              "      <td>212.0</td>\n",
              "      <td>68.0</td>\n",
              "      <td>63.0</td>\n",
              "      <td>135.0</td>\n",
              "      <td>11.0</td>\n",
              "      <td>16.0</td>\n",
              "      <td>33.0</td>\n",
              "      <td>4.8</td>\n",
              "    </tr>\n",
              "    <tr>\n",
              "      <th>151</th>\n",
              "      <td>2</td>\n",
              "      <td>61.0</td>\n",
              "      <td>61.8</td>\n",
              "      <td>159.0</td>\n",
              "      <td>24.4</td>\n",
              "      <td>117.0</td>\n",
              "      <td>60.0</td>\n",
              "      <td>72.0</td>\n",
              "      <td>23.4</td>\n",
              "      <td>19.2</td>\n",
              "      <td>...</td>\n",
              "      <td>0.8</td>\n",
              "      <td>5.1</td>\n",
              "      <td>235.0</td>\n",
              "      <td>66.0</td>\n",
              "      <td>56.0</td>\n",
              "      <td>166.0</td>\n",
              "      <td>15.0</td>\n",
              "      <td>23.0</td>\n",
              "      <td>44.0</td>\n",
              "      <td>5.4</td>\n",
              "    </tr>\n",
              "    <tr>\n",
              "      <th>152</th>\n",
              "      <td>2</td>\n",
              "      <td>31.0</td>\n",
              "      <td>58.2</td>\n",
              "      <td>169.0</td>\n",
              "      <td>20.4</td>\n",
              "      <td>108.0</td>\n",
              "      <td>69.0</td>\n",
              "      <td>73.0</td>\n",
              "      <td>25.0</td>\n",
              "      <td>13.0</td>\n",
              "      <td>...</td>\n",
              "      <td>0.7</td>\n",
              "      <td>4.3</td>\n",
              "      <td>200.0</td>\n",
              "      <td>44.0</td>\n",
              "      <td>56.0</td>\n",
              "      <td>135.0</td>\n",
              "      <td>14.0</td>\n",
              "      <td>21.0</td>\n",
              "      <td>31.0</td>\n",
              "      <td>4.7</td>\n",
              "    </tr>\n",
              "  </tbody>\n",
              "</table>\n",
              "<p>153 rows × 26 columns</p>\n",
              "</div>\n",
              "      <button class=\"colab-df-convert\" onclick=\"convertToInteractive('df-79b8e40c-09bc-41a7-b6db-1844a1247370')\"\n",
              "              title=\"Convert this dataframe to an interactive table.\"\n",
              "              style=\"display:none;\">\n",
              "        \n",
              "  <svg xmlns=\"http://www.w3.org/2000/svg\" height=\"24px\"viewBox=\"0 0 24 24\"\n",
              "       width=\"24px\">\n",
              "    <path d=\"M0 0h24v24H0V0z\" fill=\"none\"/>\n",
              "    <path d=\"M18.56 5.44l.94 2.06.94-2.06 2.06-.94-2.06-.94-.94-2.06-.94 2.06-2.06.94zm-11 1L8.5 8.5l.94-2.06 2.06-.94-2.06-.94L8.5 2.5l-.94 2.06-2.06.94zm10 10l.94 2.06.94-2.06 2.06-.94-2.06-.94-.94-2.06-.94 2.06-2.06.94z\"/><path d=\"M17.41 7.96l-1.37-1.37c-.4-.4-.92-.59-1.43-.59-.52 0-1.04.2-1.43.59L10.3 9.45l-7.72 7.72c-.78.78-.78 2.05 0 2.83L4 21.41c.39.39.9.59 1.41.59.51 0 1.02-.2 1.41-.59l7.78-7.78 2.81-2.81c.8-.78.8-2.07 0-2.86zM5.41 20L4 18.59l7.72-7.72 1.47 1.35L5.41 20z\"/>\n",
              "  </svg>\n",
              "      </button>\n",
              "      \n",
              "  <style>\n",
              "    .colab-df-container {\n",
              "      display:flex;\n",
              "      flex-wrap:wrap;\n",
              "      gap: 12px;\n",
              "    }\n",
              "\n",
              "    .colab-df-convert {\n",
              "      background-color: #E8F0FE;\n",
              "      border: none;\n",
              "      border-radius: 50%;\n",
              "      cursor: pointer;\n",
              "      display: none;\n",
              "      fill: #1967D2;\n",
              "      height: 32px;\n",
              "      padding: 0 0 0 0;\n",
              "      width: 32px;\n",
              "    }\n",
              "\n",
              "    .colab-df-convert:hover {\n",
              "      background-color: #E2EBFA;\n",
              "      box-shadow: 0px 1px 2px rgba(60, 64, 67, 0.3), 0px 1px 3px 1px rgba(60, 64, 67, 0.15);\n",
              "      fill: #174EA6;\n",
              "    }\n",
              "\n",
              "    [theme=dark] .colab-df-convert {\n",
              "      background-color: #3B4455;\n",
              "      fill: #D2E3FC;\n",
              "    }\n",
              "\n",
              "    [theme=dark] .colab-df-convert:hover {\n",
              "      background-color: #434B5C;\n",
              "      box-shadow: 0px 1px 3px 1px rgba(0, 0, 0, 0.15);\n",
              "      filter: drop-shadow(0px 1px 2px rgba(0, 0, 0, 0.3));\n",
              "      fill: #FFFFFF;\n",
              "    }\n",
              "  </style>\n",
              "\n",
              "      <script>\n",
              "        const buttonEl =\n",
              "          document.querySelector('#df-79b8e40c-09bc-41a7-b6db-1844a1247370 button.colab-df-convert');\n",
              "        buttonEl.style.display =\n",
              "          google.colab.kernel.accessAllowed ? 'block' : 'none';\n",
              "\n",
              "        async function convertToInteractive(key) {\n",
              "          const element = document.querySelector('#df-79b8e40c-09bc-41a7-b6db-1844a1247370');\n",
              "          const dataTable =\n",
              "            await google.colab.kernel.invokeFunction('convertToInteractive',\n",
              "                                                     [key], {});\n",
              "          if (!dataTable) return;\n",
              "\n",
              "          const docLinkHtml = 'Like what you see? Visit the ' +\n",
              "            '<a target=\"_blank\" href=https://colab.research.google.com/notebooks/data_table.ipynb>data table notebook</a>'\n",
              "            + ' to learn more about interactive tables.';\n",
              "          element.innerHTML = '';\n",
              "          dataTable['output_type'] = 'display_data';\n",
              "          await google.colab.output.renderOutput(dataTable, element);\n",
              "          const docLink = document.createElement('div');\n",
              "          docLink.innerHTML = docLinkHtml;\n",
              "          element.appendChild(docLink);\n",
              "        }\n",
              "      </script>\n",
              "    </div>\n",
              "  </div>\n",
              "  "
            ]
          },
          "metadata": {},
          "execution_count": 4
        }
      ]
    },
    {
      "cell_type": "markdown",
      "source": [
        "# 10 % random nan "
      ],
      "metadata": {
        "id": "EaiTwqv1RA0w"
      }
    },
    {
      "cell_type": "code",
      "source": [
        "t_start = time.time()\n",
        "for i in range(1,1001):\n",
        "  globals()[f'Bodyfat10_{i}'] = data.copy() # for loop variable name\n",
        "  np.random.seed(i) # for loop seed\n",
        "  n = int((153*10/100)) \n",
        "  index_nan = np.random.choice(globals()[f'Bodyfat10_{i}']['% Body fat'].size, n, replace=False) #globals()[name dataframe][column name].size\n",
        "  globals()[f'Bodyfat10_{i}']['% Body fat'].ravel()[index_nan] = np.nan\n",
        "t_end = time.time()\n",
        "print(f'เวลาที่ใช้ในการประมวลผล {t_end- t_start} วินาที')\n",
        "print(f'เวลาที่ใช้ในการประมวลผล {(t_end- t_start)/60} นาที')"
      ],
      "metadata": {
        "id": "4nEkEiZP2gLT",
        "colab": {
          "base_uri": "https://localhost:8080/"
        },
        "outputId": "4ed966b3-9968-4507-97fb-ca13f86c6080"
      },
      "execution_count": 5,
      "outputs": [
        {
          "output_type": "stream",
          "name": "stdout",
          "text": [
            "เวลาที่ใช้ในการประมวลผล 0.24382591247558594 วินาที\n",
            "เวลาที่ใช้ในการประมวลผล 0.004063765207926433 นาที\n"
          ]
        }
      ]
    },
    {
      "cell_type": "code",
      "source": [
        "Bodyfat10_1"
      ],
      "metadata": {
        "id": "qBZ1V4NtQrRp",
        "colab": {
          "base_uri": "https://localhost:8080/",
          "height": 423
        },
        "outputId": "5fa78be0-cdda-4899-80db-b3f3f4daf0d1"
      },
      "execution_count": 6,
      "outputs": [
        {
          "output_type": "execute_result",
          "data": {
            "text/plain": [
              "     Sex  AgeSYear  Weight  Height   BMI  Systolic  Diastolic  HeartRate  \\\n",
              "0      2      57.0    47.4   153.0  20.2     114.0       75.0       69.0   \n",
              "1      2      24.0    53.2   157.0  21.6     103.0       69.0       78.0   \n",
              "2      2      62.0    54.4   165.0  20.0      95.0       75.0       83.0   \n",
              "3      2      35.0    56.3   161.0  21.7      95.0       57.0       72.0   \n",
              "4      1      46.0    72.3   170.0  25.0     133.0       77.0      107.0   \n",
              "..   ...       ...     ...     ...   ...       ...        ...        ...   \n",
              "148    1      60.0    72.0   170.0  24.9     131.0       74.0       69.0   \n",
              "149    1      58.0    62.0   168.0  22.0     103.0       76.0       72.0   \n",
              "150    2      42.0    55.5   165.0  20.4     102.0       52.0       77.0   \n",
              "151    2      61.0    61.8   159.0  24.4     117.0       60.0       72.0   \n",
              "152    2      31.0    58.2   169.0  20.4     108.0       69.0       73.0   \n",
              "\n",
              "      SMM  Fat Mass  ...  003_Creatinine  004_Uric Acid  005_Cholesterol  \\\n",
              "0    19.3      12.5  ...             1.0            5.0            176.0   \n",
              "1    21.3      14.6  ...             0.8            5.2            159.0   \n",
              "2    21.6      15.2  ...             0.7            4.1            230.0   \n",
              "3    22.5      15.4  ...             0.6            5.0            198.0   \n",
              "4    29.2      19.0  ...             0.9            6.9            194.0   \n",
              "..    ...       ...  ...             ...            ...              ...   \n",
              "148  30.5      13.8  ...             0.9            6.9            182.0   \n",
              "149  27.8      11.9  ...             1.0            6.8            191.0   \n",
              "150  22.9      14.1  ...             0.8            4.7            212.0   \n",
              "151  23.4      19.2  ...             0.8            5.1            235.0   \n",
              "152  25.0      13.0  ...             0.7            4.3            200.0   \n",
              "\n",
              "     006_Triglyceride  008_HDL-C  009_LDL  010_AST  012_ALT  \\\n",
              "0                51.0       72.0     94.0     16.0     16.0   \n",
              "1                45.0       52.0     98.0     13.0     17.0   \n",
              "2                94.0       61.0    151.0     18.0     31.0   \n",
              "3                47.0       68.0    120.0     16.0     20.0   \n",
              "4                63.0       60.0    122.0     15.0     19.0   \n",
              "..                ...        ...      ...      ...      ...   \n",
              "148             179.0       39.0    107.0     36.0     31.0   \n",
              "149              62.0       47.0    132.0     16.0     33.0   \n",
              "150              68.0       63.0    135.0     11.0     16.0   \n",
              "151              66.0       56.0    166.0     15.0     23.0   \n",
              "152              44.0       56.0    135.0     14.0     21.0   \n",
              "\n",
              "     013_Alkaline Phos  071_HbA1c  \n",
              "0                 62.0        5.1  \n",
              "1                 50.0        5.4  \n",
              "2                 76.0        5.6  \n",
              "3                 35.0        5.1  \n",
              "4                 69.0        5.2  \n",
              "..                 ...        ...  \n",
              "148               79.0        6.5  \n",
              "149               42.0        6.8  \n",
              "150               33.0        4.8  \n",
              "151               44.0        5.4  \n",
              "152               31.0        4.7  \n",
              "\n",
              "[153 rows x 26 columns]"
            ],
            "text/html": [
              "\n",
              "  <div id=\"df-e1738eef-ba51-44b0-9b9c-1b39db1c4e29\">\n",
              "    <div class=\"colab-df-container\">\n",
              "      <div>\n",
              "<style scoped>\n",
              "    .dataframe tbody tr th:only-of-type {\n",
              "        vertical-align: middle;\n",
              "    }\n",
              "\n",
              "    .dataframe tbody tr th {\n",
              "        vertical-align: top;\n",
              "    }\n",
              "\n",
              "    .dataframe thead th {\n",
              "        text-align: right;\n",
              "    }\n",
              "</style>\n",
              "<table border=\"1\" class=\"dataframe\">\n",
              "  <thead>\n",
              "    <tr style=\"text-align: right;\">\n",
              "      <th></th>\n",
              "      <th>Sex</th>\n",
              "      <th>AgeSYear</th>\n",
              "      <th>Weight</th>\n",
              "      <th>Height</th>\n",
              "      <th>BMI</th>\n",
              "      <th>Systolic</th>\n",
              "      <th>Diastolic</th>\n",
              "      <th>HeartRate</th>\n",
              "      <th>SMM</th>\n",
              "      <th>Fat Mass</th>\n",
              "      <th>...</th>\n",
              "      <th>003_Creatinine</th>\n",
              "      <th>004_Uric Acid</th>\n",
              "      <th>005_Cholesterol</th>\n",
              "      <th>006_Triglyceride</th>\n",
              "      <th>008_HDL-C</th>\n",
              "      <th>009_LDL</th>\n",
              "      <th>010_AST</th>\n",
              "      <th>012_ALT</th>\n",
              "      <th>013_Alkaline Phos</th>\n",
              "      <th>071_HbA1c</th>\n",
              "    </tr>\n",
              "  </thead>\n",
              "  <tbody>\n",
              "    <tr>\n",
              "      <th>0</th>\n",
              "      <td>2</td>\n",
              "      <td>57.0</td>\n",
              "      <td>47.4</td>\n",
              "      <td>153.0</td>\n",
              "      <td>20.2</td>\n",
              "      <td>114.0</td>\n",
              "      <td>75.0</td>\n",
              "      <td>69.0</td>\n",
              "      <td>19.3</td>\n",
              "      <td>12.5</td>\n",
              "      <td>...</td>\n",
              "      <td>1.0</td>\n",
              "      <td>5.0</td>\n",
              "      <td>176.0</td>\n",
              "      <td>51.0</td>\n",
              "      <td>72.0</td>\n",
              "      <td>94.0</td>\n",
              "      <td>16.0</td>\n",
              "      <td>16.0</td>\n",
              "      <td>62.0</td>\n",
              "      <td>5.1</td>\n",
              "    </tr>\n",
              "    <tr>\n",
              "      <th>1</th>\n",
              "      <td>2</td>\n",
              "      <td>24.0</td>\n",
              "      <td>53.2</td>\n",
              "      <td>157.0</td>\n",
              "      <td>21.6</td>\n",
              "      <td>103.0</td>\n",
              "      <td>69.0</td>\n",
              "      <td>78.0</td>\n",
              "      <td>21.3</td>\n",
              "      <td>14.6</td>\n",
              "      <td>...</td>\n",
              "      <td>0.8</td>\n",
              "      <td>5.2</td>\n",
              "      <td>159.0</td>\n",
              "      <td>45.0</td>\n",
              "      <td>52.0</td>\n",
              "      <td>98.0</td>\n",
              "      <td>13.0</td>\n",
              "      <td>17.0</td>\n",
              "      <td>50.0</td>\n",
              "      <td>5.4</td>\n",
              "    </tr>\n",
              "    <tr>\n",
              "      <th>2</th>\n",
              "      <td>2</td>\n",
              "      <td>62.0</td>\n",
              "      <td>54.4</td>\n",
              "      <td>165.0</td>\n",
              "      <td>20.0</td>\n",
              "      <td>95.0</td>\n",
              "      <td>75.0</td>\n",
              "      <td>83.0</td>\n",
              "      <td>21.6</td>\n",
              "      <td>15.2</td>\n",
              "      <td>...</td>\n",
              "      <td>0.7</td>\n",
              "      <td>4.1</td>\n",
              "      <td>230.0</td>\n",
              "      <td>94.0</td>\n",
              "      <td>61.0</td>\n",
              "      <td>151.0</td>\n",
              "      <td>18.0</td>\n",
              "      <td>31.0</td>\n",
              "      <td>76.0</td>\n",
              "      <td>5.6</td>\n",
              "    </tr>\n",
              "    <tr>\n",
              "      <th>3</th>\n",
              "      <td>2</td>\n",
              "      <td>35.0</td>\n",
              "      <td>56.3</td>\n",
              "      <td>161.0</td>\n",
              "      <td>21.7</td>\n",
              "      <td>95.0</td>\n",
              "      <td>57.0</td>\n",
              "      <td>72.0</td>\n",
              "      <td>22.5</td>\n",
              "      <td>15.4</td>\n",
              "      <td>...</td>\n",
              "      <td>0.6</td>\n",
              "      <td>5.0</td>\n",
              "      <td>198.0</td>\n",
              "      <td>47.0</td>\n",
              "      <td>68.0</td>\n",
              "      <td>120.0</td>\n",
              "      <td>16.0</td>\n",
              "      <td>20.0</td>\n",
              "      <td>35.0</td>\n",
              "      <td>5.1</td>\n",
              "    </tr>\n",
              "    <tr>\n",
              "      <th>4</th>\n",
              "      <td>1</td>\n",
              "      <td>46.0</td>\n",
              "      <td>72.3</td>\n",
              "      <td>170.0</td>\n",
              "      <td>25.0</td>\n",
              "      <td>133.0</td>\n",
              "      <td>77.0</td>\n",
              "      <td>107.0</td>\n",
              "      <td>29.2</td>\n",
              "      <td>19.0</td>\n",
              "      <td>...</td>\n",
              "      <td>0.9</td>\n",
              "      <td>6.9</td>\n",
              "      <td>194.0</td>\n",
              "      <td>63.0</td>\n",
              "      <td>60.0</td>\n",
              "      <td>122.0</td>\n",
              "      <td>15.0</td>\n",
              "      <td>19.0</td>\n",
              "      <td>69.0</td>\n",
              "      <td>5.2</td>\n",
              "    </tr>\n",
              "    <tr>\n",
              "      <th>...</th>\n",
              "      <td>...</td>\n",
              "      <td>...</td>\n",
              "      <td>...</td>\n",
              "      <td>...</td>\n",
              "      <td>...</td>\n",
              "      <td>...</td>\n",
              "      <td>...</td>\n",
              "      <td>...</td>\n",
              "      <td>...</td>\n",
              "      <td>...</td>\n",
              "      <td>...</td>\n",
              "      <td>...</td>\n",
              "      <td>...</td>\n",
              "      <td>...</td>\n",
              "      <td>...</td>\n",
              "      <td>...</td>\n",
              "      <td>...</td>\n",
              "      <td>...</td>\n",
              "      <td>...</td>\n",
              "      <td>...</td>\n",
              "      <td>...</td>\n",
              "    </tr>\n",
              "    <tr>\n",
              "      <th>148</th>\n",
              "      <td>1</td>\n",
              "      <td>60.0</td>\n",
              "      <td>72.0</td>\n",
              "      <td>170.0</td>\n",
              "      <td>24.9</td>\n",
              "      <td>131.0</td>\n",
              "      <td>74.0</td>\n",
              "      <td>69.0</td>\n",
              "      <td>30.5</td>\n",
              "      <td>13.8</td>\n",
              "      <td>...</td>\n",
              "      <td>0.9</td>\n",
              "      <td>6.9</td>\n",
              "      <td>182.0</td>\n",
              "      <td>179.0</td>\n",
              "      <td>39.0</td>\n",
              "      <td>107.0</td>\n",
              "      <td>36.0</td>\n",
              "      <td>31.0</td>\n",
              "      <td>79.0</td>\n",
              "      <td>6.5</td>\n",
              "    </tr>\n",
              "    <tr>\n",
              "      <th>149</th>\n",
              "      <td>1</td>\n",
              "      <td>58.0</td>\n",
              "      <td>62.0</td>\n",
              "      <td>168.0</td>\n",
              "      <td>22.0</td>\n",
              "      <td>103.0</td>\n",
              "      <td>76.0</td>\n",
              "      <td>72.0</td>\n",
              "      <td>27.8</td>\n",
              "      <td>11.9</td>\n",
              "      <td>...</td>\n",
              "      <td>1.0</td>\n",
              "      <td>6.8</td>\n",
              "      <td>191.0</td>\n",
              "      <td>62.0</td>\n",
              "      <td>47.0</td>\n",
              "      <td>132.0</td>\n",
              "      <td>16.0</td>\n",
              "      <td>33.0</td>\n",
              "      <td>42.0</td>\n",
              "      <td>6.8</td>\n",
              "    </tr>\n",
              "    <tr>\n",
              "      <th>150</th>\n",
              "      <td>2</td>\n",
              "      <td>42.0</td>\n",
              "      <td>55.5</td>\n",
              "      <td>165.0</td>\n",
              "      <td>20.4</td>\n",
              "      <td>102.0</td>\n",
              "      <td>52.0</td>\n",
              "      <td>77.0</td>\n",
              "      <td>22.9</td>\n",
              "      <td>14.1</td>\n",
              "      <td>...</td>\n",
              "      <td>0.8</td>\n",
              "      <td>4.7</td>\n",
              "      <td>212.0</td>\n",
              "      <td>68.0</td>\n",
              "      <td>63.0</td>\n",
              "      <td>135.0</td>\n",
              "      <td>11.0</td>\n",
              "      <td>16.0</td>\n",
              "      <td>33.0</td>\n",
              "      <td>4.8</td>\n",
              "    </tr>\n",
              "    <tr>\n",
              "      <th>151</th>\n",
              "      <td>2</td>\n",
              "      <td>61.0</td>\n",
              "      <td>61.8</td>\n",
              "      <td>159.0</td>\n",
              "      <td>24.4</td>\n",
              "      <td>117.0</td>\n",
              "      <td>60.0</td>\n",
              "      <td>72.0</td>\n",
              "      <td>23.4</td>\n",
              "      <td>19.2</td>\n",
              "      <td>...</td>\n",
              "      <td>0.8</td>\n",
              "      <td>5.1</td>\n",
              "      <td>235.0</td>\n",
              "      <td>66.0</td>\n",
              "      <td>56.0</td>\n",
              "      <td>166.0</td>\n",
              "      <td>15.0</td>\n",
              "      <td>23.0</td>\n",
              "      <td>44.0</td>\n",
              "      <td>5.4</td>\n",
              "    </tr>\n",
              "    <tr>\n",
              "      <th>152</th>\n",
              "      <td>2</td>\n",
              "      <td>31.0</td>\n",
              "      <td>58.2</td>\n",
              "      <td>169.0</td>\n",
              "      <td>20.4</td>\n",
              "      <td>108.0</td>\n",
              "      <td>69.0</td>\n",
              "      <td>73.0</td>\n",
              "      <td>25.0</td>\n",
              "      <td>13.0</td>\n",
              "      <td>...</td>\n",
              "      <td>0.7</td>\n",
              "      <td>4.3</td>\n",
              "      <td>200.0</td>\n",
              "      <td>44.0</td>\n",
              "      <td>56.0</td>\n",
              "      <td>135.0</td>\n",
              "      <td>14.0</td>\n",
              "      <td>21.0</td>\n",
              "      <td>31.0</td>\n",
              "      <td>4.7</td>\n",
              "    </tr>\n",
              "  </tbody>\n",
              "</table>\n",
              "<p>153 rows × 26 columns</p>\n",
              "</div>\n",
              "      <button class=\"colab-df-convert\" onclick=\"convertToInteractive('df-e1738eef-ba51-44b0-9b9c-1b39db1c4e29')\"\n",
              "              title=\"Convert this dataframe to an interactive table.\"\n",
              "              style=\"display:none;\">\n",
              "        \n",
              "  <svg xmlns=\"http://www.w3.org/2000/svg\" height=\"24px\"viewBox=\"0 0 24 24\"\n",
              "       width=\"24px\">\n",
              "    <path d=\"M0 0h24v24H0V0z\" fill=\"none\"/>\n",
              "    <path d=\"M18.56 5.44l.94 2.06.94-2.06 2.06-.94-2.06-.94-.94-2.06-.94 2.06-2.06.94zm-11 1L8.5 8.5l.94-2.06 2.06-.94-2.06-.94L8.5 2.5l-.94 2.06-2.06.94zm10 10l.94 2.06.94-2.06 2.06-.94-2.06-.94-.94-2.06-.94 2.06-2.06.94z\"/><path d=\"M17.41 7.96l-1.37-1.37c-.4-.4-.92-.59-1.43-.59-.52 0-1.04.2-1.43.59L10.3 9.45l-7.72 7.72c-.78.78-.78 2.05 0 2.83L4 21.41c.39.39.9.59 1.41.59.51 0 1.02-.2 1.41-.59l7.78-7.78 2.81-2.81c.8-.78.8-2.07 0-2.86zM5.41 20L4 18.59l7.72-7.72 1.47 1.35L5.41 20z\"/>\n",
              "  </svg>\n",
              "      </button>\n",
              "      \n",
              "  <style>\n",
              "    .colab-df-container {\n",
              "      display:flex;\n",
              "      flex-wrap:wrap;\n",
              "      gap: 12px;\n",
              "    }\n",
              "\n",
              "    .colab-df-convert {\n",
              "      background-color: #E8F0FE;\n",
              "      border: none;\n",
              "      border-radius: 50%;\n",
              "      cursor: pointer;\n",
              "      display: none;\n",
              "      fill: #1967D2;\n",
              "      height: 32px;\n",
              "      padding: 0 0 0 0;\n",
              "      width: 32px;\n",
              "    }\n",
              "\n",
              "    .colab-df-convert:hover {\n",
              "      background-color: #E2EBFA;\n",
              "      box-shadow: 0px 1px 2px rgba(60, 64, 67, 0.3), 0px 1px 3px 1px rgba(60, 64, 67, 0.15);\n",
              "      fill: #174EA6;\n",
              "    }\n",
              "\n",
              "    [theme=dark] .colab-df-convert {\n",
              "      background-color: #3B4455;\n",
              "      fill: #D2E3FC;\n",
              "    }\n",
              "\n",
              "    [theme=dark] .colab-df-convert:hover {\n",
              "      background-color: #434B5C;\n",
              "      box-shadow: 0px 1px 3px 1px rgba(0, 0, 0, 0.15);\n",
              "      filter: drop-shadow(0px 1px 2px rgba(0, 0, 0, 0.3));\n",
              "      fill: #FFFFFF;\n",
              "    }\n",
              "  </style>\n",
              "\n",
              "      <script>\n",
              "        const buttonEl =\n",
              "          document.querySelector('#df-e1738eef-ba51-44b0-9b9c-1b39db1c4e29 button.colab-df-convert');\n",
              "        buttonEl.style.display =\n",
              "          google.colab.kernel.accessAllowed ? 'block' : 'none';\n",
              "\n",
              "        async function convertToInteractive(key) {\n",
              "          const element = document.querySelector('#df-e1738eef-ba51-44b0-9b9c-1b39db1c4e29');\n",
              "          const dataTable =\n",
              "            await google.colab.kernel.invokeFunction('convertToInteractive',\n",
              "                                                     [key], {});\n",
              "          if (!dataTable) return;\n",
              "\n",
              "          const docLinkHtml = 'Like what you see? Visit the ' +\n",
              "            '<a target=\"_blank\" href=https://colab.research.google.com/notebooks/data_table.ipynb>data table notebook</a>'\n",
              "            + ' to learn more about interactive tables.';\n",
              "          element.innerHTML = '';\n",
              "          dataTable['output_type'] = 'display_data';\n",
              "          await google.colab.output.renderOutput(dataTable, element);\n",
              "          const docLink = document.createElement('div');\n",
              "          docLink.innerHTML = docLinkHtml;\n",
              "          element.appendChild(docLink);\n",
              "        }\n",
              "      </script>\n",
              "    </div>\n",
              "  </div>\n",
              "  "
            ]
          },
          "metadata": {},
          "execution_count": 6
        }
      ]
    },
    {
      "cell_type": "markdown",
      "source": [
        "## Imputation using Mean"
      ],
      "metadata": {
        "id": "YjwJ6-Qb7rt3"
      }
    },
    {
      "cell_type": "code",
      "source": [
        "from sklearn.impute import SimpleImputer"
      ],
      "metadata": {
        "id": "z2nfqhdh-yXe"
      },
      "execution_count": 7,
      "outputs": []
    },
    {
      "cell_type": "code",
      "source": [
        "t_start = time.time()\n",
        "mean10_imputer = SimpleImputer(strategy='mean')\n",
        "for i in range(1,1001):\n",
        "  globals()[f'imputed_mean10_{i}'] = mean10_imputer.fit_transform(globals()[f'Bodyfat10_{i}'].copy()) #for loop miss forest impputation \n",
        "  globals()[f'MSE_MEAN10_{i}'] = mean_squared_error(data, globals()[f'imputed_mean10_{i}']) # for loop mean_squared_error\n",
        "t_end = time.time()\n",
        "t10_MEAN= (t_end- t_start)"
      ],
      "metadata": {
        "id": "zJS_wIka_iTE"
      },
      "execution_count": 8,
      "outputs": []
    },
    {
      "cell_type": "code",
      "source": [
        "MSE_MEAN10_1"
      ],
      "metadata": {
        "colab": {
          "base_uri": "https://localhost:8080/"
        },
        "id": "WJYWxxenZymG",
        "outputId": "e3ca2233-be63-4e18-def3-dbdeb7bb9e49"
      },
      "execution_count": 9,
      "outputs": [
        {
          "output_type": "execute_result",
          "data": {
            "text/plain": [
              "0.11502234129235687"
            ]
          },
          "metadata": {},
          "execution_count": 9
        }
      ]
    },
    {
      "cell_type": "code",
      "source": [
        "t_start = time.time()\n",
        "mse_mean10_total = 0 \n",
        "MSE_MEAN10_1001 = 0\n",
        "for i in range(0,1001):\n",
        "  mse_mean10_total = mse_mean10_total + globals()[f'MSE_MEAN10_{i+1}']\n",
        "AMSE_Bodyfat10_mean = mse_mean10_total/1000\n",
        "print(f'AMSE_mean = {AMSE_Bodyfat10_mean}')\n",
        "t_end = time.time()\n",
        "print(f'เวลาที่ใช้ในการประมวลผล {t_end- t_start} วินาที')\n",
        "print(f'เวลาที่ใช้ในการประมวลผล {(t_end- t_start)/60} นาที')"
      ],
      "metadata": {
        "id": "fpVr60a-_yGy",
        "colab": {
          "base_uri": "https://localhost:8080/"
        },
        "outputId": "55b8976e-74f5-4440-f284-642ab464bc2d"
      },
      "execution_count": 10,
      "outputs": [
        {
          "output_type": "stream",
          "name": "stdout",
          "text": [
            "AMSE_mean = 0.15132388490193233\n",
            "เวลาที่ใช้ในการประมวลผล 0.0007617473602294922 วินาที\n",
            "เวลาที่ใช้ในการประมวลผล 1.2695789337158203e-05 นาที\n"
          ]
        }
      ]
    },
    {
      "cell_type": "markdown",
      "source": [
        "## Imputation using the miss forest"
      ],
      "metadata": {
        "id": "yYzw-Hj6Lcd4"
      }
    },
    {
      "cell_type": "code",
      "source": [
        "import sys\n",
        "import sklearn.neighbors._base\n",
        "sys.modules['sklearn.neighbors.base'] = sklearn.neighbors._base\n",
        "!pip install missingpy\n",
        "import missingpy\n",
        "from missingpy import MissForest\n",
        "from sklearn.metrics import mean_squared_error"
      ],
      "metadata": {
        "id": "LySNylXpbrZY",
        "colab": {
          "base_uri": "https://localhost:8080/"
        },
        "outputId": "d79ab2a6-37c5-475c-dd60-be32b606bbc0"
      },
      "execution_count": 11,
      "outputs": [
        {
          "output_type": "stream",
          "name": "stdout",
          "text": [
            "Looking in indexes: https://pypi.org/simple, https://us-python.pkg.dev/colab-wheels/public/simple/\n",
            "Collecting missingpy\n",
            "  Downloading missingpy-0.2.0-py3-none-any.whl (49 kB)\n",
            "\u001b[2K     \u001b[90m━━━━━━━━━━━━━━━━━━━━━━━━━━━━━━━━━━━━━━━━\u001b[0m \u001b[32m49.1/49.1 KB\u001b[0m \u001b[31m3.0 MB/s\u001b[0m eta \u001b[36m0:00:00\u001b[0m\n",
            "\u001b[?25hInstalling collected packages: missingpy\n",
            "Successfully installed missingpy-0.2.0\n"
          ]
        }
      ]
    },
    {
      "cell_type": "code",
      "source": [
        "t_start = time.time()\n",
        "MF10_imputer = MissForest()\n",
        "for i in range(1,1001):\n",
        "  globals()[f'imputed_mf10_{i}'] = MF10_imputer.fit_transform(globals()[f'Bodyfat10_{i}'].copy()) #for loop miss forest impputation \n",
        "  globals()[f'MSE_MF10_{i}'] = mean_squared_error(data, globals()[f'imputed_mf10_{i}']) # for loop mean_squared_error\n",
        "t_end = time.time()\n",
        "t10_MF= (t_end- t_start)"
      ],
      "metadata": {
        "id": "jpVrBlWkczgN"
      },
      "execution_count": null,
      "outputs": []
    },
    {
      "cell_type": "code",
      "source": [
        "t_start = time.time()\n",
        "mse_mf10_total = 0 \n",
        "MSE_MF10_1001 = 0\n",
        "for i in range(0,1001):\n",
        "  mse_mf10_total = mse_mf10_total + globals()[f'MSE_MF10_{i+1}']\n",
        "AMSE_Bodyfat10_mf = mse_mf10_total/1000\n",
        "print(f'AMSE_mf = {AMSE_Bodyfat10_mf}')\n",
        "t_end = time.time()\n",
        "print(f'เวลาที่ใช้ในการประมวลผล {t_end- t_start} วินาที')\n",
        "print(f'เวลาที่ใช้ในการประมวลผล {(t_end- t_start)/60} นาที')"
      ],
      "metadata": {
        "id": "itymgxccG8Yj",
        "colab": {
          "base_uri": "https://localhost:8080/"
        },
        "outputId": "de6e7899-d995-420b-c09e-dc3ff779af46"
      },
      "execution_count": 13,
      "outputs": [
        {
          "output_type": "stream",
          "name": "stdout",
          "text": [
            "AMSE_mf = 0.02668181486425336\n",
            "เวลาที่ใช้ในการประมวลผล 0.0019233226776123047 วินาที\n",
            "เวลาที่ใช้ในการประมวลผล 3.2055377960205075e-05 นาที\n"
          ]
        }
      ]
    },
    {
      "cell_type": "markdown",
      "source": [
        "## Imputation using the KNN"
      ],
      "metadata": {
        "id": "AH3QecnbePSA"
      }
    },
    {
      "cell_type": "code",
      "source": [
        "from sklearn import neighbors\n",
        "from sklearn.impute import KNNImputer"
      ],
      "metadata": {
        "id": "PpTM8fjNRgta"
      },
      "execution_count": 14,
      "outputs": []
    },
    {
      "cell_type": "code",
      "source": [
        "t_start = time.time()\n",
        "KNN10_imputer = KNNImputer(n_neighbors = 15)\n",
        "for i in range(1,1001):\n",
        "  globals()[f'imputed_KNN10_{i}'] = KNN10_imputer.fit_transform(globals()[f'Bodyfat10_{i}'].copy())\n",
        "  globals()[f'MSE_KNN10_{i}'] = mean_squared_error(data, globals()[f'imputed_KNN10_{i}'])\n",
        "t_end = time.time()\n",
        "t10_KNN= (t_end- t_start)"
      ],
      "metadata": {
        "id": "0j-UtJFbjj19"
      },
      "execution_count": 15,
      "outputs": []
    },
    {
      "cell_type": "code",
      "source": [
        "t_start = time.time()\n",
        "mse_knn10_total = 0 \n",
        "MSE_KNN10_1001 = 0\n",
        "for i in range(0,1001):\n",
        "  mse_knn10_total = mse_knn10_total + globals()[f'MSE_KNN10_{i+1}']\n",
        "AMSE_Bodyfat10_knn = mse_knn10_total/1000\n",
        "print(f'AMSE_knn = {AMSE_Bodyfat10_knn}')\n",
        "t_end = time.time()\n",
        "print(f'เวลาที่ใช้ในการประมวลผล {t_end- t_start} วินาที')\n",
        "print(f'เวลาที่ใช้ในการประมวลผล {(t_end- t_start)/60} นาที')"
      ],
      "metadata": {
        "id": "Y7aDqUh_klXX",
        "colab": {
          "base_uri": "https://localhost:8080/"
        },
        "outputId": "52f8827a-ab55-42da-e485-ac9b04d7b918"
      },
      "execution_count": 16,
      "outputs": [
        {
          "output_type": "stream",
          "name": "stdout",
          "text": [
            "AMSE_knn = 0.12395060510586\n",
            "เวลาที่ใช้ในการประมวลผล 0.0013794898986816406 วินาที\n",
            "เวลาที่ใช้ในการประมวลผล 2.2991498311360678e-05 นาที\n"
          ]
        }
      ]
    },
    {
      "cell_type": "markdown",
      "source": [
        "## Imputation using the MICE"
      ],
      "metadata": {
        "id": "bNG85n-5mgJ5"
      }
    },
    {
      "cell_type": "code",
      "source": [
        "from sklearn.experimental import enable_iterative_imputer\n",
        "from sklearn.impute import IterativeImputer\n",
        "from sklearn.linear_model import LinearRegression\n",
        "from sklearn import svm"
      ],
      "metadata": {
        "id": "jdG8Wkt5PqYA"
      },
      "execution_count": 17,
      "outputs": []
    },
    {
      "cell_type": "markdown",
      "source": [
        "### LinearRegression model"
      ],
      "metadata": {
        "id": "KO_irahVV3Ny"
      }
    },
    {
      "cell_type": "code",
      "source": [
        "t_start = time.time()\n",
        "lr = LinearRegression()\n",
        "for i in range(1,1001):\n",
        "  imp = IterativeImputer(estimator= lr , max_iter= 10, verbose=2, imputation_order='roman',initial_strategy = 'mean',random_state= i)\n",
        "  globals()[f'imputed_lr10_{i}'] = imp.fit_transform(globals()[f'Bodyfat10_{i}'].copy())\n",
        "  globals()[f'MSE_lr10_{i}'] = mean_squared_error(data, globals()[f'imputed_lr10_{i}'])\n",
        "t_end = time.time()\n",
        "t10_LR= (t_end- t_start)"
      ],
      "metadata": {
        "id": "ocdE53Z3WGwP"
      },
      "execution_count": null,
      "outputs": []
    },
    {
      "cell_type": "code",
      "source": [
        "t_start = time.time()\n",
        "mse_lr10_total = 0 \n",
        "MSE_lr10_1001 = 0\n",
        "for i in range(0,1001):\n",
        "  mse_lr10_total = mse_lr10_total + globals()[f'MSE_lr10_{i+1}']\n",
        "AMSE_Bodyfat10_lr = mse_lr10_total/1000\n",
        "print(f'AMSE_lr = {AMSE_Bodyfat10_lr}')\n",
        "t_end = time.time()\n",
        "print(f'เวลาที่ใช้ในการประมวลผล {t_end- t_start} วินาที')\n",
        "print(f'เวลาที่ใช้ในการประมวลผล {(t_end- t_start)/60} นาที')"
      ],
      "metadata": {
        "id": "Zv8b8tpgXTqV",
        "colab": {
          "base_uri": "https://localhost:8080/"
        },
        "outputId": "1f6f7af7-9718-4b67-fa68-585ed15c37a7"
      },
      "execution_count": 19,
      "outputs": [
        {
          "output_type": "stream",
          "name": "stdout",
          "text": [
            "AMSE_lr = 0.05916892652057558\n",
            "เวลาที่ใช้ในการประมวลผล 0.0056383609771728516 วินาที\n",
            "เวลาที่ใช้ในการประมวลผล 9.397268295288085e-05 นาที\n"
          ]
        }
      ]
    },
    {
      "cell_type": "markdown",
      "source": [
        "### Support Vector Machine model"
      ],
      "metadata": {
        "id": "Q_etxqbFV-c-"
      }
    },
    {
      "cell_type": "code",
      "source": [
        "t_start = time.time()\n",
        "regr = svm.SVR()\n",
        "for i in range(1,1001):\n",
        "  svm_svr = IterativeImputer(estimator= regr, max_iter= 10, verbose=2, imputation_order='roman',initial_strategy = 'mean',random_state= i)\n",
        "  globals()[f'imputed_svm10_{i}'] = svm_svr.fit_transform(globals()[f'Bodyfat10_{i}'].copy())\n",
        "  globals()[f'MSE_svm10_{i}'] = mean_squared_error(data, globals()[f'imputed_svm10_{i}'])\n",
        "t_end = time.time()\n",
        "t10_SVM= (t_end- t_start)"
      ],
      "metadata": {
        "id": "yICe2SxBWDiV"
      },
      "execution_count": null,
      "outputs": []
    },
    {
      "cell_type": "code",
      "source": [
        "t_start = time.time()\n",
        "mse_svm10_total = 0 \n",
        "MSE_svm10_1001 = 0\n",
        "for i in range(0,1001):\n",
        "  mse_svm10_total = mse_svm10_total + globals()[f'MSE_svm10_{i+1}']\n",
        "AMSE_Bodyfat10_svm = mse_svm10_total/1000\n",
        "print(f'AMSE_svm = {AMSE_Bodyfat10_svm}')\n",
        "t_end = time.time()\n",
        "print(f'เวลาที่ใช้ในการประมวลผล {t_end- t_start} วินาที')\n",
        "print(f'เวลาที่ใช้ในการประมวลผล {(t_end- t_start)/60} นาที')"
      ],
      "metadata": {
        "id": "Kg6Ga9K4XvWz",
        "colab": {
          "base_uri": "https://localhost:8080/"
        },
        "outputId": "c92b32cd-e1eb-48a9-c0d6-40452f1d74ba"
      },
      "execution_count": 21,
      "outputs": [
        {
          "output_type": "stream",
          "name": "stdout",
          "text": [
            "AMSE_svm = 0.14148504916368937\n",
            "เวลาที่ใช้ในการประมวลผล 0.001811981201171875 วินาที\n",
            "เวลาที่ใช้ในการประมวลผล 3.0199686686197918e-05 นาที\n"
          ]
        }
      ]
    },
    {
      "cell_type": "markdown",
      "source": [
        "## Imputation using the EM"
      ],
      "metadata": {
        "id": "CBhCn1dleov0"
      }
    },
    {
      "cell_type": "markdown",
      "source": [
        "### impy.em"
      ],
      "metadata": {
        "id": "okGFHwzYnBSm"
      }
    },
    {
      "cell_type": "code",
      "source": [
        "!pip install impyute\n",
        "import impyute as impy"
      ],
      "metadata": {
        "id": "MoYcRZ9unCRN",
        "colab": {
          "base_uri": "https://localhost:8080/"
        },
        "outputId": "9df91a38-7218-45a0-d6a7-c07567aabfdb"
      },
      "execution_count": 22,
      "outputs": [
        {
          "output_type": "stream",
          "name": "stdout",
          "text": [
            "Looking in indexes: https://pypi.org/simple, https://us-python.pkg.dev/colab-wheels/public/simple/\n",
            "Collecting impyute\n",
            "  Downloading impyute-0.0.8-py2.py3-none-any.whl (31 kB)\n",
            "Requirement already satisfied: scikit-learn in /usr/local/lib/python3.8/dist-packages (from impyute) (1.0.2)\n",
            "Requirement already satisfied: scipy in /usr/local/lib/python3.8/dist-packages (from impyute) (1.7.3)\n",
            "Requirement already satisfied: numpy in /usr/local/lib/python3.8/dist-packages (from impyute) (1.21.6)\n",
            "Requirement already satisfied: joblib>=0.11 in /usr/local/lib/python3.8/dist-packages (from scikit-learn->impyute) (1.2.0)\n",
            "Requirement already satisfied: threadpoolctl>=2.0.0 in /usr/local/lib/python3.8/dist-packages (from scikit-learn->impyute) (3.1.0)\n",
            "Installing collected packages: impyute\n",
            "Successfully installed impyute-0.0.8\n"
          ]
        }
      ]
    },
    {
      "cell_type": "code",
      "source": [
        "t_start = time.time()\n",
        "for i in range(1,1001):\n",
        "  globals()[f'imputed_impy10_{i}'] = impy.em(globals()[f'Bodyfat10_{i}'].values.copy())\n",
        "  globals()[f'MSE_impy10_{i}'] = mean_squared_error(data, globals()[f'imputed_impy10_{i}'])\n",
        "t_end = time.time()\n",
        "t10_EM= (t_end- t_start)"
      ],
      "metadata": {
        "id": "q8hPK-5WqHua"
      },
      "execution_count": 23,
      "outputs": []
    },
    {
      "cell_type": "code",
      "source": [
        "t_start = time.time()\n",
        "mse_impy10_total = 0 \n",
        "MSE_impy10_1001 = 0\n",
        "for i in range(0,1001):\n",
        "  mse_impy10_total = mse_impy10_total + globals()[f'MSE_impy10_{i+1}']\n",
        "AMSE_Bodyfat10_impy = mse_impy10_total/1000\n",
        "print(f'AMSE_impy = {AMSE_Bodyfat10_impy}')\n",
        "t_end = time.time()\n",
        "print(f'เวลาที่ใช้ในการประมวลผล {t_end- t_start} วินาที')\n",
        "print(f'เวลาที่ใช้ในการประมวลผล {(t_end- t_start)/60} นาที')"
      ],
      "metadata": {
        "id": "dxBu9e5fqHZw",
        "colab": {
          "base_uri": "https://localhost:8080/"
        },
        "outputId": "c2d43280-f7b3-4da5-9342-571a6797f2b0"
      },
      "execution_count": 24,
      "outputs": [
        {
          "output_type": "stream",
          "name": "stdout",
          "text": [
            "AMSE_impy = 0.2859659375922489\n",
            "เวลาที่ใช้ในการประมวลผล 0.0013515949249267578 วินาที\n",
            "เวลาที่ใช้ในการประมวลผล 2.252658208211263e-05 นาที\n"
          ]
        }
      ]
    },
    {
      "cell_type": "code",
      "source": [],
      "metadata": {
        "id": "5N4p-V0Khe4t"
      },
      "execution_count": 24,
      "outputs": []
    },
    {
      "cell_type": "markdown",
      "source": [
        "# 20 % random nan"
      ],
      "metadata": {
        "id": "XDnNeFskmmxr"
      }
    },
    {
      "cell_type": "code",
      "source": [
        "t_start = time.time()\n",
        "for i in range(1,1001):\n",
        "  globals()[f'Bodyfat20_{i}'] = data.copy() # for loop variable name\n",
        "  np.random.seed(i) # for loop seed\n",
        "  n = int((153*20/100)) \n",
        "  index_nan = np.random.choice(globals()[f'Bodyfat20_{i}']['% Body fat'].size, n, replace=False) #globals()[name dataframe][column name].size\n",
        "  globals()[f'Bodyfat20_{i}']['Fat Mass'].ravel()[index_nan] = np.nan\n",
        "t_end = time.time()\n",
        "print(f'เวลาที่ใช้ในการประมวลผล {t_end- t_start} วินาที')\n",
        "print(f'เวลาที่ใช้ในการประมวลผล {(t_end- t_start)/60} นาที')"
      ],
      "metadata": {
        "id": "1sP-Uzfimmxr",
        "colab": {
          "base_uri": "https://localhost:8080/"
        },
        "outputId": "4d6f7739-9b51-409e-8da1-6125f1a13386"
      },
      "execution_count": 25,
      "outputs": [
        {
          "output_type": "stream",
          "name": "stdout",
          "text": [
            "เวลาที่ใช้ในการประมวลผล 0.3066434860229492 วินาที\n",
            "เวลาที่ใช้ในการประมวลผล 0.005110724767049154 นาที\n"
          ]
        }
      ]
    },
    {
      "cell_type": "markdown",
      "source": [
        "## Imputation using Mean"
      ],
      "metadata": {
        "id": "Q5srQCVpmmxr"
      }
    },
    {
      "cell_type": "code",
      "source": [
        "from sklearn.impute import SimpleImputer"
      ],
      "metadata": {
        "id": "chHokb5Ummxr"
      },
      "execution_count": 26,
      "outputs": []
    },
    {
      "cell_type": "code",
      "source": [
        "t_start = time.time()\n",
        "mean20_imputer = SimpleImputer(strategy='mean')\n",
        "for i in range(1,1001):\n",
        "  globals()[f'imputed_mean20_{i}'] = mean20_imputer.fit_transform(globals()[f'Bodyfat20_{i}'].copy()) #for loop miss forest impputation \n",
        "  globals()[f'MSE_MEAN20_{i}'] = mean_squared_error(data, globals()[f'imputed_mean20_{i}']) # for loop mean_squared_error\n",
        "t_end = time.time()\n",
        "t20_MEAN = (t_end- t_start)"
      ],
      "metadata": {
        "id": "7VclQaj-mmxs"
      },
      "execution_count": 27,
      "outputs": []
    },
    {
      "cell_type": "code",
      "source": [
        "t_start = time.time()\n",
        "mse_mean20_total = 0 \n",
        "MSE_MEAN20_1001 = 0\n",
        "for i in range(0,1001):\n",
        "  mse_mean20_total = mse_mean20_total + globals()[f'MSE_MEAN20_{i+1}']\n",
        "AMSE_Bodyfat20_mean = mse_mean20_total/1000\n",
        "print(f'AMSE_mean = {AMSE_Bodyfat20_mean}')\n",
        "t_end = time.time()\n",
        "print(f'เวลาที่ใช้ในการประมวลผล {t_end- t_start} วินาที')\n",
        "print(f'เวลาที่ใช้ในการประมวลผล {(t_end- t_start)/60} นาที')"
      ],
      "metadata": {
        "id": "LzWT-scommxs",
        "colab": {
          "base_uri": "https://localhost:8080/"
        },
        "outputId": "6d9c302c-6c28-4902-852e-51ead144b582"
      },
      "execution_count": 28,
      "outputs": [
        {
          "output_type": "stream",
          "name": "stdout",
          "text": [
            "AMSE_mean = 0.18119409169029693\n",
            "เวลาที่ใช้ในการประมวลผล 0.0013175010681152344 วินาที\n",
            "เวลาที่ใช้ในการประมวลผล 2.1958351135253905e-05 นาที\n"
          ]
        }
      ]
    },
    {
      "cell_type": "markdown",
      "source": [
        "## Imputation using the miss forest"
      ],
      "metadata": {
        "id": "jPm8Yyvymmxs"
      }
    },
    {
      "cell_type": "code",
      "source": [
        "import sys\n",
        "import sklearn.neighbors._base\n",
        "sys.modules['sklearn.neighbors.base'] = sklearn.neighbors._base\n",
        "!pip install missingpy\n",
        "import missingpy\n",
        "from missingpy import MissForest\n",
        "from sklearn.metrics import mean_squared_error"
      ],
      "metadata": {
        "colab": {
          "base_uri": "https://localhost:8080/"
        },
        "outputId": "bc6e310f-7168-4e2e-f86a-546165b52577",
        "id": "qSntFelOmmxs"
      },
      "execution_count": 29,
      "outputs": [
        {
          "output_type": "stream",
          "name": "stdout",
          "text": [
            "Looking in indexes: https://pypi.org/simple, https://us-python.pkg.dev/colab-wheels/public/simple/\n",
            "Requirement already satisfied: missingpy in /usr/local/lib/python3.8/dist-packages (0.2.0)\n"
          ]
        }
      ]
    },
    {
      "cell_type": "code",
      "source": [
        "t_start = time.time()\n",
        "MF20_imputer = MissForest()\n",
        "for i in range(1,1001):\n",
        "  globals()[f'imputed_mf20_{i}'] = MF20_imputer.fit_transform(globals()[f'Bodyfat20_{i}'].copy()) #for loop miss forest impputation \n",
        "  globals()[f'MSE_MF20_{i}'] = mean_squared_error(data, globals()[f'imputed_mf20_{i}']) # for loop mean_squared_error\n",
        "t_end = time.time()\n",
        "t20_MF = (t_end- t_start)"
      ],
      "metadata": {
        "id": "Atqzpyu0mmxs"
      },
      "execution_count": null,
      "outputs": []
    },
    {
      "cell_type": "code",
      "source": [
        "t_start = time.time()\n",
        "mse_mf20_total = 0 \n",
        "MSE_MF20_1001 = 0\n",
        "for i in range(0,1001):\n",
        "  mse_mf20_total = mse_mf20_total + globals()[f'MSE_MF20_{i+1}']\n",
        "AMSE_Bodyfat20_mf = mse_mf20_total/1000\n",
        "print(f'AMSE_mf = {AMSE_Bodyfat20_mf}')\n",
        "t_end = time.time()\n",
        "print(f'เวลาที่ใช้ในการประมวลผล {t_end- t_start} วินาที')\n",
        "print(f'เวลาที่ใช้ในการประมวลผล {(t_end- t_start)/60} นาที')"
      ],
      "metadata": {
        "id": "YcBt9j5tmmxs",
        "colab": {
          "base_uri": "https://localhost:8080/"
        },
        "outputId": "de201728-cc2d-4b1f-ead5-ccad6c2c20a1"
      },
      "execution_count": 31,
      "outputs": [
        {
          "output_type": "stream",
          "name": "stdout",
          "text": [
            "AMSE_mf = 0.06972903991201611\n",
            "เวลาที่ใช้ในการประมวลผล 0.0011894702911376953 วินาที\n",
            "เวลาที่ใช้ในการประมวลผล 1.9824504852294923e-05 นาที\n"
          ]
        }
      ]
    },
    {
      "cell_type": "markdown",
      "source": [
        "## Imputation using the KNN"
      ],
      "metadata": {
        "id": "c6ooAbE9mmxs"
      }
    },
    {
      "cell_type": "code",
      "source": [
        "from sklearn import neighbors\n",
        "from sklearn.impute import KNNImputer"
      ],
      "metadata": {
        "id": "VWXjdHBJmmxt"
      },
      "execution_count": 32,
      "outputs": []
    },
    {
      "cell_type": "code",
      "source": [
        "t_start = time.time()\n",
        "KNN20_imputer = KNNImputer(n_neighbors = 15)\n",
        "for i in range(1,1001):\n",
        "  globals()[f'imputed_KNN20_{i}'] = KNN20_imputer.fit_transform(globals()[f'Bodyfat20_{i}'].copy())\n",
        "  globals()[f'MSE_KNN20_{i}'] = mean_squared_error(data, globals()[f'imputed_KNN20_{i}'])\n",
        "t_end = time.time()\n",
        "t20_KNN = (t_end- t_start)"
      ],
      "metadata": {
        "id": "aFcobkWqmmxt"
      },
      "execution_count": 33,
      "outputs": []
    },
    {
      "cell_type": "code",
      "source": [
        "t_start = time.time()\n",
        "mse_knn20_total = 0 \n",
        "MSE_KNN20_1001 = 0\n",
        "for i in range(0,1001):\n",
        "  mse_knn20_total = mse_knn20_total + globals()[f'MSE_KNN20_{i+1}']\n",
        "AMSE_Bodyfat20_knn = mse_knn20_total/1000\n",
        "print(f'AMSE_knn = {AMSE_Bodyfat20_knn}')\n",
        "t_end = time.time()\n",
        "print(f'เวลาที่ใช้ในการประมวลผล {t_end- t_start} วินาที')\n",
        "print(f'เวลาที่ใช้ในการประมวลผล {(t_end- t_start)/60} นาที')"
      ],
      "metadata": {
        "id": "YAwxOSZjmmxt",
        "colab": {
          "base_uri": "https://localhost:8080/"
        },
        "outputId": "30e95852-56cd-4528-9ea9-57cc56374495"
      },
      "execution_count": 34,
      "outputs": [
        {
          "output_type": "stream",
          "name": "stdout",
          "text": [
            "AMSE_knn = 0.13346193382492613\n",
            "เวลาที่ใช้ในการประมวลผล 0.0008940696716308594 วินาที\n",
            "เวลาที่ใช้ในการประมวลผล 1.4901161193847656e-05 นาที\n"
          ]
        }
      ]
    },
    {
      "cell_type": "markdown",
      "source": [
        "## Imputation using the MICE"
      ],
      "metadata": {
        "id": "wnzhN2uXmmxt"
      }
    },
    {
      "cell_type": "code",
      "source": [
        "from sklearn.experimental import enable_iterative_imputer\n",
        "from sklearn.impute import IterativeImputer\n",
        "from sklearn.linear_model import LinearRegression\n",
        "from sklearn import svm"
      ],
      "metadata": {
        "id": "ux_ZdCz7mmxt"
      },
      "execution_count": 35,
      "outputs": []
    },
    {
      "cell_type": "markdown",
      "source": [
        "### LinearRegression model"
      ],
      "metadata": {
        "id": "qBsh-oGrmmxt"
      }
    },
    {
      "cell_type": "code",
      "source": [
        "t_start = time.time()\n",
        "lr = LinearRegression()\n",
        "for i in range(1,1001):\n",
        "  imp = IterativeImputer(estimator= lr , max_iter= 10, verbose=2, imputation_order='roman',initial_strategy = 'mean',random_state= i)\n",
        "  globals()[f'imputed_lr20_{i}'] = imp.fit_transform(globals()[f'Bodyfat20_{i}'].copy())\n",
        "  globals()[f'MSE_lr20_{i}'] = mean_squared_error(data, globals()[f'imputed_lr20_{i}'])\n",
        "t_end = time.time()\n",
        "t20_LR = (t_end- t_start)"
      ],
      "metadata": {
        "id": "m-oCWLICmmxt"
      },
      "execution_count": null,
      "outputs": []
    },
    {
      "cell_type": "code",
      "source": [
        "t_start = time.time()\n",
        "mse_lr20_total = 0 \n",
        "MSE_lr20_1001 = 0\n",
        "for i in range(0,1001):\n",
        "  mse_lr20_total = mse_lr20_total + globals()[f'MSE_lr20_{i+1}']\n",
        "AMSE_Bodyfat20_lr = mse_lr20_total/1000\n",
        "print(f'AMSE_lr = {AMSE_Bodyfat20_lr}')\n",
        "t_end = time.time()\n",
        "print(f'เวลาที่ใช้ในการประมวลผล {t_end- t_start} วินาที')\n",
        "print(f'เวลาที่ใช้ในการประมวลผล {(t_end- t_start)/60} นาที')"
      ],
      "metadata": {
        "id": "PoasKeKLmmxt",
        "colab": {
          "base_uri": "https://localhost:8080/"
        },
        "outputId": "22824fee-08d4-4368-8c49-692c137b04d8"
      },
      "execution_count": 37,
      "outputs": [
        {
          "output_type": "stream",
          "name": "stdout",
          "text": [
            "AMSE_lr = 0.06456872901899344\n",
            "เวลาที่ใช้ในการประมวลผล 0.002479076385498047 วินาที\n",
            "เวลาที่ใช้ในการประมวลผล 4.1317939758300784e-05 นาที\n"
          ]
        }
      ]
    },
    {
      "cell_type": "markdown",
      "source": [
        "### Support Vector Machine model"
      ],
      "metadata": {
        "id": "dp1n9b1wmmxu"
      }
    },
    {
      "cell_type": "code",
      "source": [
        "t_start = time.time()\n",
        "regr = svm.SVR()\n",
        "for i in range(1,1001):\n",
        "  svm_svr = IterativeImputer(estimator= regr, max_iter= 10, verbose=2, imputation_order='roman',initial_strategy = 'mean',random_state= i)\n",
        "  globals()[f'imputed_svm20_{i}'] = svm_svr.fit_transform(globals()[f'Bodyfat20_{i}'].copy())\n",
        "  globals()[f'MSE_svm20_{i}'] = mean_squared_error(data, globals()[f'imputed_svm20_{i}'])\n",
        "t_end = time.time()\n",
        "t20_SVM = (t_end- t_start)"
      ],
      "metadata": {
        "id": "1H1XXo5rmmxu"
      },
      "execution_count": null,
      "outputs": []
    },
    {
      "cell_type": "code",
      "source": [
        "t_start = time.time()\n",
        "mse_svm20_total = 0 \n",
        "MSE_svm20_1001 = 0\n",
        "for i in range(0,1001):\n",
        "  mse_svm20_total = mse_svm20_total + globals()[f'MSE_svm20_{i+1}']\n",
        "AMSE_Bodyfat20_svm = mse_svm20_total/1000\n",
        "print(f'AMSE_svm = {AMSE_Bodyfat20_svm}')\n",
        "t_end = time.time()\n",
        "print(f'เวลาที่ใช้ในการประมวลผล {t_end- t_start} วินาที')\n",
        "print(f'เวลาที่ใช้ในการประมวลผล {(t_end- t_start)/60} นาที')"
      ],
      "metadata": {
        "id": "AXvfoiQhmmxu",
        "colab": {
          "base_uri": "https://localhost:8080/"
        },
        "outputId": "644f8cf0-aca9-4802-c431-a79321425968"
      },
      "execution_count": 39,
      "outputs": [
        {
          "output_type": "stream",
          "name": "stdout",
          "text": [
            "AMSE_svm = 0.14758271468360792\n",
            "เวลาที่ใช้ในการประมวลผล 0.0015785694122314453 วินาที\n",
            "เวลาที่ใช้ในการประมวลผล 2.630949020385742e-05 นาที\n"
          ]
        }
      ]
    },
    {
      "cell_type": "markdown",
      "source": [
        "## Imputation using the EM"
      ],
      "metadata": {
        "id": "-r-sozwOmmxu"
      }
    },
    {
      "cell_type": "markdown",
      "source": [
        "### impy.em"
      ],
      "metadata": {
        "id": "mcM5dZZWmmxu"
      }
    },
    {
      "cell_type": "code",
      "source": [
        "!pip install impyute\n",
        "import impyute as impy"
      ],
      "metadata": {
        "id": "L3zdQDYimmxu",
        "colab": {
          "base_uri": "https://localhost:8080/"
        },
        "outputId": "3bb5d077-0782-4714-d0da-3d393b882aea"
      },
      "execution_count": 40,
      "outputs": [
        {
          "output_type": "stream",
          "name": "stdout",
          "text": [
            "Looking in indexes: https://pypi.org/simple, https://us-python.pkg.dev/colab-wheels/public/simple/\n",
            "Requirement already satisfied: impyute in /usr/local/lib/python3.8/dist-packages (0.0.8)\n",
            "Requirement already satisfied: scipy in /usr/local/lib/python3.8/dist-packages (from impyute) (1.7.3)\n",
            "Requirement already satisfied: numpy in /usr/local/lib/python3.8/dist-packages (from impyute) (1.21.6)\n",
            "Requirement already satisfied: scikit-learn in /usr/local/lib/python3.8/dist-packages (from impyute) (1.0.2)\n",
            "Requirement already satisfied: threadpoolctl>=2.0.0 in /usr/local/lib/python3.8/dist-packages (from scikit-learn->impyute) (3.1.0)\n",
            "Requirement already satisfied: joblib>=0.11 in /usr/local/lib/python3.8/dist-packages (from scikit-learn->impyute) (1.2.0)\n"
          ]
        }
      ]
    },
    {
      "cell_type": "code",
      "source": [
        "t_start = time.time()\n",
        "for i in range(1,1001):\n",
        "  globals()[f'imputed_impy20_{i}'] = impy.em(globals()[f'Bodyfat20_{i}'].values.copy())\n",
        "  globals()[f'MSE_impy20_{i}'] = mean_squared_error(data, globals()[f'imputed_impy20_{i}'])\n",
        "t_end = time.time()\n",
        "t20_EM = (t_end- t_start)"
      ],
      "metadata": {
        "id": "P6jYA4gMmmxu"
      },
      "execution_count": 41,
      "outputs": []
    },
    {
      "cell_type": "code",
      "source": [
        "t_start = time.time()\n",
        "mse_impy20_total = 0 \n",
        "MSE_impy20_1001 = 0\n",
        "for i in range(0,1001):\n",
        "  mse_impy20_total = mse_impy20_total + globals()[f'MSE_impy20_{i+1}']\n",
        "AMSE_Bodyfat20_impy = mse_impy20_total/1000\n",
        "print(f'AMSE_impy = {AMSE_Bodyfat20_impy}')\n",
        "t_end = time.time()\n",
        "print(f'เวลาที่ใช้ในการประมวลผล {t_end- t_start} วินาที')\n",
        "print(f'เวลาที่ใช้ในการประมวลผล {(t_end- t_start)/60} นาที')"
      ],
      "metadata": {
        "id": "YEu3OWtZmmxu",
        "colab": {
          "base_uri": "https://localhost:8080/"
        },
        "outputId": "36f6f770-d3a3-47be-e14b-37ee39189a36"
      },
      "execution_count": 42,
      "outputs": [
        {
          "output_type": "stream",
          "name": "stdout",
          "text": [
            "AMSE_impy = 0.33838736645441236\n",
            "เวลาที่ใช้ในการประมวลผล 0.0010914802551269531 วินาที\n",
            "เวลาที่ใช้ในการประมวลผล 1.8191337585449218e-05 นาที\n"
          ]
        }
      ]
    },
    {
      "cell_type": "markdown",
      "source": [
        "# 30 % random nan"
      ],
      "metadata": {
        "id": "zaN0bLowuzIT"
      }
    },
    {
      "cell_type": "code",
      "source": [
        "t_start = time.time()\n",
        "for i in range(1,1001):\n",
        "  globals()[f'Bodyfat30_{i}'] = data.copy() # for loop variable name\n",
        "  np.random.seed(i) # for loop seed\n",
        "  n = int((153*30/100)) \n",
        "  index_nan = np.random.choice(globals()[f'Bodyfat30_{i}']['% Body fat'].size, n, replace=False) #globals()[name dataframe][column name].size\n",
        "  globals()[f'Bodyfat30_{i}']['% Body fat'].ravel()[index_nan] = np.nan\n",
        "t_end = time.time()\n",
        "print(f'เวลาที่ใช้ในการประมวลผล {t_end- t_start} วินาที')\n",
        "print(f'เวลาที่ใช้ในการประมวลผล {(t_end- t_start)/60} นาที')"
      ],
      "metadata": {
        "id": "m5Q1jaobuzIU",
        "colab": {
          "base_uri": "https://localhost:8080/"
        },
        "outputId": "766b8388-3a37-4758-c21b-36219fc4d13e"
      },
      "execution_count": 43,
      "outputs": [
        {
          "output_type": "stream",
          "name": "stdout",
          "text": [
            "เวลาที่ใช้ในการประมวลผล 0.1668550968170166 วินาที\n",
            "เวลาที่ใช้ในการประมวลผล 0.00278091828028361 นาที\n"
          ]
        }
      ]
    },
    {
      "cell_type": "markdown",
      "source": [
        "## Imputation using Mean"
      ],
      "metadata": {
        "id": "QVRZUJUGuzIU"
      }
    },
    {
      "cell_type": "code",
      "source": [
        "from sklearn.impute import SimpleImputer"
      ],
      "metadata": {
        "id": "1JOFyiYHuzIU"
      },
      "execution_count": 44,
      "outputs": []
    },
    {
      "cell_type": "code",
      "source": [
        "t_start = time.time()\n",
        "mean30_imputer = SimpleImputer(strategy='mean')\n",
        "for i in range(1,1001):\n",
        "  globals()[f'imputed_mean30_{i}'] = mean30_imputer.fit_transform(globals()[f'Bodyfat30_{i}'].copy()) #for loop miss forest impputation \n",
        "  globals()[f'MSE_MEAN30_{i}'] = mean_squared_error(data, globals()[f'imputed_mean30_{i}']) # for loop mean_squared_error\n",
        "t_end = time.time()\n",
        "t30_MEAN = (t_end- t_start)"
      ],
      "metadata": {
        "id": "BMQJ2Q9uuzIU"
      },
      "execution_count": 45,
      "outputs": []
    },
    {
      "cell_type": "code",
      "source": [
        "t_start = time.time()\n",
        "mse_mean30_total = 0 \n",
        "MSE_MEAN30_1001 = 0\n",
        "for i in range(0,1001):\n",
        "  mse_mean30_total = mse_mean30_total + globals()[f'MSE_MEAN30_{i+1}']\n",
        "AMSE_Bodyfat30_mean = mse_mean30_total/1000\n",
        "print(f'AMSE_mean = {AMSE_Bodyfat30_mean}')\n",
        "t_end = time.time()\n",
        "print(f'เวลาที่ใช้ในการประมวลผล {t_end- t_start} วินาที')\n",
        "print(f'เวลาที่ใช้ในการประมวลผล {(t_end- t_start)/60} นาที')"
      ],
      "metadata": {
        "id": "us-bmwdEuzIU",
        "colab": {
          "base_uri": "https://localhost:8080/"
        },
        "outputId": "28749395-9e74-436d-e0bf-a79876f4e3f2"
      },
      "execution_count": 46,
      "outputs": [
        {
          "output_type": "stream",
          "name": "stdout",
          "text": [
            "AMSE_mean = 0.44543351503873163\n",
            "เวลาที่ใช้ในการประมวลผล 0.0012688636779785156 วินาที\n",
            "เวลาที่ใช้ในการประมวลผล 2.1147727966308594e-05 นาที\n"
          ]
        }
      ]
    },
    {
      "cell_type": "markdown",
      "source": [
        "## Imputation using the miss forest"
      ],
      "metadata": {
        "id": "ZOjyFyeKuzIV"
      }
    },
    {
      "cell_type": "code",
      "source": [
        "import sys\n",
        "import sklearn.neighbors._base\n",
        "sys.modules['sklearn.neighbors.base'] = sklearn.neighbors._base\n",
        "!pip install missingpy\n",
        "import missingpy\n",
        "from missingpy import MissForest\n",
        "from sklearn.metrics import mean_squared_error"
      ],
      "metadata": {
        "id": "acamNyLHuzIV",
        "colab": {
          "base_uri": "https://localhost:8080/"
        },
        "outputId": "d6db9d78-11bf-40b1-dbaa-d142aacd1cab"
      },
      "execution_count": 47,
      "outputs": [
        {
          "output_type": "stream",
          "name": "stdout",
          "text": [
            "Looking in indexes: https://pypi.org/simple, https://us-python.pkg.dev/colab-wheels/public/simple/\n",
            "Requirement already satisfied: missingpy in /usr/local/lib/python3.8/dist-packages (0.2.0)\n"
          ]
        }
      ]
    },
    {
      "cell_type": "code",
      "source": [
        "t_start = time.time()\n",
        "MF30_imputer = MissForest()\n",
        "for i in range(1,1001):\n",
        "  globals()[f'imputed_mf30_{i}'] = MF30_imputer.fit_transform(globals()[f'Bodyfat30_{i}'].copy()) #for loop miss forest impputation \n",
        "  globals()[f'MSE_MF30_{i}'] = mean_squared_error(data, globals()[f'imputed_mf30_{i}']) # for loop mean_squared_error\n",
        "t_end = time.time()\n",
        "t30_MF = (t_end- t_start)"
      ],
      "metadata": {
        "id": "fX6tp59-uzIV"
      },
      "execution_count": null,
      "outputs": []
    },
    {
      "cell_type": "code",
      "source": [
        "t_start = time.time()\n",
        "mse_mf30_total = 0 \n",
        "MSE_MF30_1001 = 0\n",
        "for i in range(0,1001):\n",
        "  mse_mf30_total = mse_mf30_total + globals()[f'MSE_MF30_{i+1}']\n",
        "AMSE_Bodyfat30_mf = mse_mf30_total/1000\n",
        "print(f'AMSE_mf = {AMSE_Bodyfat30_mf}')\n",
        "t_end = time.time()\n",
        "print(f'เวลาที่ใช้ในการประมวลผล {t_end- t_start} วินาที')\n",
        "print(f'เวลาที่ใช้ในการประมวลผล {(t_end- t_start)/60} นาที')"
      ],
      "metadata": {
        "id": "XwaS1AV-uzIV",
        "colab": {
          "base_uri": "https://localhost:8080/"
        },
        "outputId": "f568b136-f30e-42ee-f4c1-63e4a581f77e"
      },
      "execution_count": 49,
      "outputs": [
        {
          "output_type": "stream",
          "name": "stdout",
          "text": [
            "AMSE_mf = 0.08879161011362499\n",
            "เวลาที่ใช้ในการประมวลผล 0.0011777877807617188 วินาที\n",
            "เวลาที่ใช้ในการประมวลผล 1.9629796346028645e-05 นาที\n"
          ]
        }
      ]
    },
    {
      "cell_type": "markdown",
      "source": [
        "## Imputation using the KNN"
      ],
      "metadata": {
        "id": "T_wph6E1uzIV"
      }
    },
    {
      "cell_type": "code",
      "source": [
        "from sklearn import neighbors\n",
        "from sklearn.impute import KNNImputer"
      ],
      "metadata": {
        "id": "hELFhk5guzIV"
      },
      "execution_count": 50,
      "outputs": []
    },
    {
      "cell_type": "code",
      "source": [
        "t_start = time.time()\n",
        "KNN30_imputer = KNNImputer(n_neighbors = 15)\n",
        "for i in range(1,1001):\n",
        "  globals()[f'imputed_KNN30_{i}'] = KNN30_imputer.fit_transform(globals()[f'Bodyfat30_{i}'].copy())\n",
        "  globals()[f'MSE_KNN30_{i}'] = mean_squared_error(data, globals()[f'imputed_KNN30_{i}'])\n",
        "t_end = time.time()\n",
        "t30_KNN = (t_end- t_start)"
      ],
      "metadata": {
        "id": "D8MXMd1JuzIV"
      },
      "execution_count": 51,
      "outputs": []
    },
    {
      "cell_type": "code",
      "source": [
        "t_start = time.time()\n",
        "mse_knn30_total = 0 \n",
        "MSE_KNN30_1001 = 0\n",
        "for i in range(0,1001):\n",
        "  mse_knn30_total = mse_knn30_total + globals()[f'MSE_KNN30_{i+1}']\n",
        "AMSE_Bodyfat30_knn = mse_knn30_total/1000\n",
        "print(f'AMSE_knn = {AMSE_Bodyfat30_knn}')\n",
        "t_end = time.time()\n",
        "print(f'เวลาที่ใช้ในการประมวลผล {t_end- t_start} วินาที')\n",
        "print(f'เวลาที่ใช้ในการประมวลผล {(t_end- t_start)/60} นาที')"
      ],
      "metadata": {
        "id": "3C9AWGthuzIV",
        "colab": {
          "base_uri": "https://localhost:8080/"
        },
        "outputId": "60a8d531-8810-4057-b4a7-b957354a210c"
      },
      "execution_count": 52,
      "outputs": [
        {
          "output_type": "stream",
          "name": "stdout",
          "text": [
            "AMSE_knn = 0.3809424935813642\n",
            "เวลาที่ใช้ในการประมวลผล 0.0013229846954345703 วินาที\n",
            "เวลาที่ใช้ในการประมวลผล 2.2049744923909505e-05 นาที\n"
          ]
        }
      ]
    },
    {
      "cell_type": "markdown",
      "source": [
        "## Imputation using the MICE"
      ],
      "metadata": {
        "id": "2npPu6n3uzIW"
      }
    },
    {
      "cell_type": "code",
      "source": [
        "from sklearn.experimental import enable_iterative_imputer\n",
        "from sklearn.impute import IterativeImputer\n",
        "from sklearn.linear_model import LinearRegression\n",
        "from sklearn import svm"
      ],
      "metadata": {
        "id": "x-Jdq67zuzIW"
      },
      "execution_count": 53,
      "outputs": []
    },
    {
      "cell_type": "markdown",
      "source": [
        "### LinearRegression model"
      ],
      "metadata": {
        "id": "ndI0t5PBuzIW"
      }
    },
    {
      "cell_type": "code",
      "source": [
        "t_start = time.time()\n",
        "lr = LinearRegression()\n",
        "for i in range(1,1001):\n",
        "  imp = IterativeImputer(estimator= lr , max_iter= 10, verbose=2, imputation_order='roman',initial_strategy = 'mean',random_state= i)\n",
        "  globals()[f'imputed_lr30_{i}'] = imp.fit_transform(globals()[f'Bodyfat30_{i}'].copy())\n",
        "  globals()[f'MSE_lr30_{i}'] = mean_squared_error(data, globals()[f'imputed_lr30_{i}'])\n",
        "t_end = time.time()\n",
        "t30_LR = (t_end- t_start)"
      ],
      "metadata": {
        "id": "Yw5f7th9uzIW"
      },
      "execution_count": null,
      "outputs": []
    },
    {
      "cell_type": "code",
      "source": [
        "t_start = time.time()\n",
        "mse_lr30_total = 0 \n",
        "MSE_lr30_1001 = 0\n",
        "for i in range(0,1001):\n",
        "  mse_lr30_total = mse_lr30_total + globals()[f'MSE_lr30_{i+1}']\n",
        "AMSE_Bodyfat30_lr = mse_lr30_total/1000\n",
        "print(f'AMSE_lr = {AMSE_Bodyfat30_lr}')\n",
        "t_end = time.time()\n",
        "print(f'เวลาที่ใช้ในการประมวลผล {t_end- t_start} วินาที')\n",
        "print(f'เวลาที่ใช้ในการประมวลผล {(t_end- t_start)/60} นาที')"
      ],
      "metadata": {
        "id": "2MQgk_fjuzIW",
        "colab": {
          "base_uri": "https://localhost:8080/"
        },
        "outputId": "011e944d-e9f9-4a60-c72d-f64cb3b13d2a"
      },
      "execution_count": 55,
      "outputs": [
        {
          "output_type": "stream",
          "name": "stdout",
          "text": [
            "AMSE_lr = 0.2080465089094121\n",
            "เวลาที่ใช้ในการประมวลผล 0.0009486675262451172 วินาที\n",
            "เวลาที่ใช้ในการประมวลผล 1.581112543741862e-05 นาที\n"
          ]
        }
      ]
    },
    {
      "cell_type": "markdown",
      "source": [
        "### Support Vector Machine model"
      ],
      "metadata": {
        "id": "1VoyXYTouzIW"
      }
    },
    {
      "cell_type": "code",
      "source": [
        "t_start = time.time()\n",
        "regr = svm.SVR()\n",
        "for i in range(1,1001):\n",
        "  svm_svr = IterativeImputer(estimator= regr, max_iter= 10, verbose=2, imputation_order='roman',initial_strategy = 'mean',random_state= i)\n",
        "  globals()[f'imputed_svm30_{i}'] = svm_svr.fit_transform(globals()[f'Bodyfat30_{i}'].copy())\n",
        "  globals()[f'MSE_svm30_{i}'] = mean_squared_error(data, globals()[f'imputed_svm30_{i}'])\n",
        "t_end = time.time()\n",
        "t30_SVM = (t_end- t_start)"
      ],
      "metadata": {
        "id": "OeUfrN0wuzIW"
      },
      "execution_count": null,
      "outputs": []
    },
    {
      "cell_type": "code",
      "source": [
        "t_start = time.time()\n",
        "mse_svm30_total = 0 \n",
        "MSE_svm30_1001 = 0\n",
        "for i in range(0,1001):\n",
        "  mse_svm30_total = mse_svm30_total + globals()[f'MSE_svm30_{i+1}']\n",
        "AMSE_Bodyfat30_svm = mse_svm30_total/1000\n",
        "print(f'AMSE_svm = {AMSE_Bodyfat30_svm}')\n",
        "t_end = time.time()\n",
        "print(f'เวลาที่ใช้ในการประมวลผล {t_end- t_start} วินาที')\n",
        "print(f'เวลาที่ใช้ในการประมวลผล {(t_end- t_start)/60} นาที')"
      ],
      "metadata": {
        "id": "0_K5XC5guzIW",
        "colab": {
          "base_uri": "https://localhost:8080/"
        },
        "outputId": "937b00bb-e4d2-4319-817c-50c96d5c26b5"
      },
      "execution_count": 57,
      "outputs": [
        {
          "output_type": "stream",
          "name": "stdout",
          "text": [
            "AMSE_svm = 0.4199805713940603\n",
            "เวลาที่ใช้ในการประมวลผล 0.001043558120727539 วินาที\n",
            "เวลาที่ใช้ในการประมวลผล 1.7392635345458985e-05 นาที\n"
          ]
        }
      ]
    },
    {
      "cell_type": "markdown",
      "source": [
        "## Imputation using the EM"
      ],
      "metadata": {
        "id": "PAsAQUc0uzIW"
      }
    },
    {
      "cell_type": "markdown",
      "source": [
        "### impy.em"
      ],
      "metadata": {
        "id": "BM_Pj2_TuzIX"
      }
    },
    {
      "cell_type": "code",
      "source": [
        "!pip install impyute\n",
        "import impyute as impy"
      ],
      "metadata": {
        "id": "QCZbBPzWuzIX",
        "colab": {
          "base_uri": "https://localhost:8080/"
        },
        "outputId": "bbf4b696-ea17-4f50-c4b5-cf16f545f188"
      },
      "execution_count": 58,
      "outputs": [
        {
          "output_type": "stream",
          "name": "stdout",
          "text": [
            "Looking in indexes: https://pypi.org/simple, https://us-python.pkg.dev/colab-wheels/public/simple/\n",
            "Requirement already satisfied: impyute in /usr/local/lib/python3.8/dist-packages (0.0.8)\n",
            "Requirement already satisfied: scikit-learn in /usr/local/lib/python3.8/dist-packages (from impyute) (1.0.2)\n",
            "Requirement already satisfied: scipy in /usr/local/lib/python3.8/dist-packages (from impyute) (1.7.3)\n",
            "Requirement already satisfied: numpy in /usr/local/lib/python3.8/dist-packages (from impyute) (1.21.6)\n",
            "Requirement already satisfied: threadpoolctl>=2.0.0 in /usr/local/lib/python3.8/dist-packages (from scikit-learn->impyute) (3.1.0)\n",
            "Requirement already satisfied: joblib>=0.11 in /usr/local/lib/python3.8/dist-packages (from scikit-learn->impyute) (1.2.0)\n"
          ]
        }
      ]
    },
    {
      "cell_type": "code",
      "source": [
        "t_start = time.time()\n",
        "for i in range(1,1001):\n",
        "  globals()[f'imputed_impy30_{i}'] = impy.em(globals()[f'Bodyfat30_{i}'].values.copy())\n",
        "  globals()[f'MSE_impy30_{i}'] = mean_squared_error(data, globals()[f'imputed_impy30_{i}'])\n",
        "t_end = time.time()\n",
        "t30_EM = (t_end- t_start)"
      ],
      "metadata": {
        "id": "plNiFqusuzIX"
      },
      "execution_count": 59,
      "outputs": []
    },
    {
      "cell_type": "code",
      "source": [
        "t_start = time.time()\n",
        "mse_impy30_total = 0 \n",
        "MSE_impy30_1001 = 0\n",
        "for i in range(0,1001):\n",
        "  mse_impy30_total = mse_impy30_total + globals()[f'MSE_impy30_{i+1}']\n",
        "AMSE_Bodyfat30_impy = mse_impy30_total/1000\n",
        "print(f'AMSE_impy = {AMSE_Bodyfat30_impy}')\n",
        "t_end = time.time()\n",
        "print(f'เวลาที่ใช้ในการประมวลผล {t_end- t_start} วินาที')\n",
        "print(f'เวลาที่ใช้ในการประมวลผล {(t_end- t_start)/60} นาที')"
      ],
      "metadata": {
        "id": "XeeSDFPYuzIX",
        "colab": {
          "base_uri": "https://localhost:8080/"
        },
        "outputId": "d2aab4ba-a274-4322-f5a2-76b91ab9651c"
      },
      "execution_count": 60,
      "outputs": [
        {
          "output_type": "stream",
          "name": "stdout",
          "text": [
            "AMSE_impy = 0.850540572338101\n",
            "เวลาที่ใช้ในการประมวลผล 0.0009751319885253906 วินาที\n",
            "เวลาที่ใช้ในการประมวลผล 1.625219980875651e-05 นาที\n"
          ]
        }
      ]
    },
    {
      "cell_type": "code",
      "source": [],
      "metadata": {
        "id": "ZBwfCHFSuzIX"
      },
      "execution_count": 60,
      "outputs": []
    },
    {
      "cell_type": "markdown",
      "source": [
        "# 40 % random nan"
      ],
      "metadata": {
        "id": "wgXT6R6o3M70"
      }
    },
    {
      "cell_type": "code",
      "source": [
        "t_start = time.time()\n",
        "for i in range(1,1001):\n",
        "  globals()[f'Bodyfat40_{i}'] = data.copy() # for loop variable name\n",
        "  np.random.seed(i) # for loop seed\n",
        "  n = int((153*40/100)) \n",
        "  index_nan = np.random.choice(globals()[f'Bodyfat40_{i}']['% Body fat'].size, n, replace=False) #globals()[name dataframe][column name].size\n",
        "  globals()[f'Bodyfat40_{i}']['% Body fat'].ravel()[index_nan] = np.nan\n",
        "t_end = time.time()\n",
        "print(f'เวลาที่ใช้ในการประมวลผล {t_end- t_start} วินาที')\n",
        "print(f'เวลาที่ใช้ในการประมวลผล {(t_end- t_start)/60} นาที')"
      ],
      "metadata": {
        "id": "QJfpwnea3M75",
        "colab": {
          "base_uri": "https://localhost:8080/"
        },
        "outputId": "66520b45-8911-4ae3-e3fd-91d17e18903f"
      },
      "execution_count": 61,
      "outputs": [
        {
          "output_type": "stream",
          "name": "stdout",
          "text": [
            "เวลาที่ใช้ในการประมวลผล 0.16485977172851562 วินาที\n",
            "เวลาที่ใช้ในการประมวลผล 0.002747662862141927 นาที\n"
          ]
        }
      ]
    },
    {
      "cell_type": "markdown",
      "source": [
        "## Imputation using Mean"
      ],
      "metadata": {
        "id": "LNnd1COX3M76"
      }
    },
    {
      "cell_type": "code",
      "source": [
        "from sklearn.impute import SimpleImputer"
      ],
      "metadata": {
        "id": "2At9rpls3M76"
      },
      "execution_count": 62,
      "outputs": []
    },
    {
      "cell_type": "code",
      "source": [
        "t_start = time.time()\n",
        "mean40_imputer = SimpleImputer(strategy='mean')\n",
        "for i in range(1,1001):\n",
        "  globals()[f'imputed_mean40_{i}'] = mean40_imputer.fit_transform(globals()[f'Bodyfat40_{i}'].copy()) #for loop miss forest impputation \n",
        "  globals()[f'MSE_MEAN40_{i}'] = mean_squared_error(data, globals()[f'imputed_mean40_{i}']) # for loop mean_squared_error\n",
        "t_end = time.time()\n",
        "t40_MEAN = (t_end- t_start)"
      ],
      "metadata": {
        "id": "kOcOSKzY3M76"
      },
      "execution_count": 63,
      "outputs": []
    },
    {
      "cell_type": "code",
      "source": [
        "t_start = time.time()\n",
        "mse_mean40_total = 0 \n",
        "MSE_MEAN40_1001 = 0\n",
        "for i in range(0,1001):\n",
        "  mse_mean40_total = mse_mean40_total + globals()[f'MSE_MEAN40_{i+1}']\n",
        "AMSE_Bodyfat40_mean = mse_mean40_total/1000\n",
        "print(f'AMSE_mean = {AMSE_Bodyfat40_mean}')\n",
        "t_end = time.time()\n",
        "print(f'เวลาที่ใช้ในการประมวลผล {t_end- t_start} วินาที')\n",
        "print(f'เวลาที่ใช้ในการประมวลผล {(t_end- t_start)/60} นาที')"
      ],
      "metadata": {
        "id": "8KG1dnhb3M76",
        "colab": {
          "base_uri": "https://localhost:8080/"
        },
        "outputId": "16b393ad-2b9f-43c8-9946-13cb2102225b"
      },
      "execution_count": 64,
      "outputs": [
        {
          "output_type": "stream",
          "name": "stdout",
          "text": [
            "AMSE_mean = 0.6069684505758157\n",
            "เวลาที่ใช้ในการประมวลผล 0.0009846687316894531 วินาที\n",
            "เวลาที่ใช้ในการประมวลผล 1.641114552815755e-05 นาที\n"
          ]
        }
      ]
    },
    {
      "cell_type": "markdown",
      "source": [
        "## Imputation using the miss forest"
      ],
      "metadata": {
        "id": "_iaNd0ov3M76"
      }
    },
    {
      "cell_type": "code",
      "source": [
        "import sys\n",
        "import sklearn.neighbors._base\n",
        "sys.modules['sklearn.neighbors.base'] = sklearn.neighbors._base\n",
        "!pip install missingpy\n",
        "import missingpy\n",
        "from missingpy import MissForest\n",
        "from sklearn.metrics import mean_squared_error"
      ],
      "metadata": {
        "id": "5D1HqJBL3M76",
        "colab": {
          "base_uri": "https://localhost:8080/"
        },
        "outputId": "18430e2b-e6fd-493b-e423-6e85afe398d0"
      },
      "execution_count": 65,
      "outputs": [
        {
          "output_type": "stream",
          "name": "stdout",
          "text": [
            "Looking in indexes: https://pypi.org/simple, https://us-python.pkg.dev/colab-wheels/public/simple/\n",
            "Requirement already satisfied: missingpy in /usr/local/lib/python3.8/dist-packages (0.2.0)\n"
          ]
        }
      ]
    },
    {
      "cell_type": "code",
      "source": [
        "t_start = time.time()\n",
        "MF40_imputer = MissForest()\n",
        "for i in range(1,1001):\n",
        "  globals()[f'imputed_mf40_{i}'] = MF40_imputer.fit_transform(globals()[f'Bodyfat40_{i}'].copy()) #for loop miss forest impputation \n",
        "  globals()[f'MSE_MF40_{i}'] = mean_squared_error(data, globals()[f'imputed_mf40_{i}']) # for loop mean_squared_error\n",
        "t_end = time.time()\n",
        "t40_MF = (t_end- t_start)"
      ],
      "metadata": {
        "id": "d4SNLEtC3M76"
      },
      "execution_count": null,
      "outputs": []
    },
    {
      "cell_type": "code",
      "source": [
        "t_start = time.time()\n",
        "mse_mf40_total = 0 \n",
        "MSE_MF40_1001 = 0\n",
        "for i in range(0,1001):\n",
        "  mse_mf40_total = mse_mf40_total + globals()[f'MSE_MF40_{i+1}']\n",
        "AMSE_Bodyfat40_mf = mse_mf40_total/1000\n",
        "print(f'AMSE_mf = {AMSE_Bodyfat40_mf}')\n",
        "t_end = time.time()\n",
        "print(f'เวลาที่ใช้ในการประมวลผล {t_end- t_start} วินาที')\n",
        "print(f'เวลาที่ใช้ในการประมวลผล {(t_end- t_start)/60} นาที')"
      ],
      "metadata": {
        "id": "d2d8YbUy3M77",
        "colab": {
          "base_uri": "https://localhost:8080/"
        },
        "outputId": "0f7441a9-0495-44b0-bcaf-24c0185c9285"
      },
      "execution_count": 67,
      "outputs": [
        {
          "output_type": "stream",
          "name": "stdout",
          "text": [
            "AMSE_mf = 0.13171558414705872\n",
            "เวลาที่ใช้ในการประมวลผล 0.0013492107391357422 วินาที\n",
            "เวลาที่ใช้ในการประมวลผล 2.248684565226237e-05 นาที\n"
          ]
        }
      ]
    },
    {
      "cell_type": "markdown",
      "source": [
        "## Imputation using the KNN"
      ],
      "metadata": {
        "id": "gFEGDs2y3M77"
      }
    },
    {
      "cell_type": "code",
      "source": [
        "from sklearn import neighbors\n",
        "from sklearn.impute import KNNImputer"
      ],
      "metadata": {
        "id": "K7an-0gc3M77"
      },
      "execution_count": 68,
      "outputs": []
    },
    {
      "cell_type": "code",
      "source": [
        "t_start = time.time()\n",
        "KNN40_imputer = KNNImputer(n_neighbors = 15)\n",
        "for i in range(1,1001):\n",
        "  globals()[f'imputed_KNN40_{i}'] = KNN40_imputer.fit_transform(globals()[f'Bodyfat40_{i}'].copy())\n",
        "  globals()[f'MSE_KNN40_{i}'] = mean_squared_error(data, globals()[f'imputed_KNN40_{i}'])\n",
        "t_end = time.time()\n",
        "t40_KNN = (t_end- t_start)"
      ],
      "metadata": {
        "id": "_bhDpYXj3M77"
      },
      "execution_count": 69,
      "outputs": []
    },
    {
      "cell_type": "code",
      "source": [
        "t_start = time.time()\n",
        "mse_knn40_total = 0 \n",
        "MSE_KNN40_1001 = 0\n",
        "for i in range(0,1001):\n",
        "  mse_knn40_total = mse_knn40_total + globals()[f'MSE_KNN40_{i+1}']\n",
        "AMSE_Bodyfat40_knn = mse_knn40_total/1000\n",
        "print(f'AMSE_knn = {AMSE_Bodyfat40_knn}')\n",
        "t_end = time.time()\n",
        "print(f'เวลาที่ใช้ในการประมวลผล {t_end- t_start} วินาที')\n",
        "print(f'เวลาที่ใช้ในการประมวลผล {(t_end- t_start)/60} นาที')"
      ],
      "metadata": {
        "id": "frWeSoV23M77",
        "colab": {
          "base_uri": "https://localhost:8080/"
        },
        "outputId": "bae97ba2-ce84-4608-b64f-19ff3e6a1299"
      },
      "execution_count": 70,
      "outputs": [
        {
          "output_type": "stream",
          "name": "stdout",
          "text": [
            "AMSE_knn = 0.527265006401877\n",
            "เวลาที่ใช้ในการประมวลผล 0.0009093284606933594 วินาที\n",
            "เวลาที่ใช้ในการประมวลผล 1.5155474344889324e-05 นาที\n"
          ]
        }
      ]
    },
    {
      "cell_type": "markdown",
      "source": [
        "## Imputation using the MICE"
      ],
      "metadata": {
        "id": "rXFzEFyh3M77"
      }
    },
    {
      "cell_type": "code",
      "source": [
        "from sklearn.experimental import enable_iterative_imputer\n",
        "from sklearn.impute import IterativeImputer\n",
        "from sklearn.linear_model import LinearRegression\n",
        "from sklearn import svm"
      ],
      "metadata": {
        "id": "i3vp047L3M77"
      },
      "execution_count": 71,
      "outputs": []
    },
    {
      "cell_type": "markdown",
      "source": [
        "### LinearRegression model"
      ],
      "metadata": {
        "id": "ONL5L18S3M77"
      }
    },
    {
      "cell_type": "code",
      "source": [
        "t_start = time.time()\n",
        "lr = LinearRegression()\n",
        "for i in range(1,1001):\n",
        "  imp = IterativeImputer(estimator= lr , max_iter= 10, verbose=2, imputation_order='roman',initial_strategy = 'mean',random_state= i)\n",
        "  globals()[f'imputed_lr40_{i}'] = imp.fit_transform(globals()[f'Bodyfat40_{i}'].copy())\n",
        "  globals()[f'MSE_lr40_{i}'] = mean_squared_error(data, globals()[f'imputed_lr40_{i}'])\n",
        "t_end = time.time()\n",
        "t40_LR = (t_end- t_start)"
      ],
      "metadata": {
        "id": "NODGsVqB3M77"
      },
      "execution_count": null,
      "outputs": []
    },
    {
      "cell_type": "code",
      "source": [
        "t_start = time.time()\n",
        "mse_lr40_total = 0 \n",
        "MSE_lr40_1001 = 0\n",
        "for i in range(0,1001):\n",
        "  mse_lr40_total = mse_lr40_total + globals()[f'MSE_lr40_{i+1}']\n",
        "AMSE_Bodyfat40_lr = mse_lr40_total/1000\n",
        "print(f'AMSE_lr = {AMSE_Bodyfat40_lr}')\n",
        "t_end = time.time()\n",
        "print(f'เวลาที่ใช้ในการประมวลผล {t_end- t_start} วินาที')\n",
        "print(f'เวลาที่ใช้ในการประมวลผล {(t_end- t_start)/60} นาที')"
      ],
      "metadata": {
        "id": "sxUaR1Xc3M78",
        "colab": {
          "base_uri": "https://localhost:8080/"
        },
        "outputId": "82097f5d-168b-49d1-8006-711d886c2021"
      },
      "execution_count": 73,
      "outputs": [
        {
          "output_type": "stream",
          "name": "stdout",
          "text": [
            "AMSE_lr = 0.28657106113531144\n",
            "เวลาที่ใช้ในการประมวลผล 0.001039743423461914 วินาที\n",
            "เวลาที่ใช้ในการประมวลผล 1.732905705769857e-05 นาที\n"
          ]
        }
      ]
    },
    {
      "cell_type": "markdown",
      "source": [
        "### Support Vector Machine model"
      ],
      "metadata": {
        "id": "b-JCYrIR3M78"
      }
    },
    {
      "cell_type": "code",
      "source": [
        "t_start = time.time()\n",
        "regr = svm.SVR()\n",
        "for i in range(1,1001):\n",
        "  svm_svr = IterativeImputer(estimator= regr, max_iter= 10, verbose=2, imputation_order='roman',initial_strategy = 'mean',random_state= i)\n",
        "  globals()[f'imputed_svm40_{i}'] = svm_svr.fit_transform(globals()[f'Bodyfat40_{i}'].copy())\n",
        "  globals()[f'MSE_svm40_{i}'] = mean_squared_error(data, globals()[f'imputed_svm40_{i}'])\n",
        "t_end = time.time()\n",
        "t40_SVM = (t_end- t_start)"
      ],
      "metadata": {
        "id": "AT113utI3M78"
      },
      "execution_count": null,
      "outputs": []
    },
    {
      "cell_type": "code",
      "source": [
        "t_start = time.time()\n",
        "mse_svm40_total = 0 \n",
        "MSE_svm40_1001 = 0\n",
        "for i in range(0,1001):\n",
        "  mse_svm40_total = mse_svm40_total + globals()[f'MSE_svm40_{i+1}']\n",
        "AMSE_Bodyfat40_svm = mse_svm40_total/1000\n",
        "print(f'AMSE_svm = {AMSE_Bodyfat40_svm}')\n",
        "t_end = time.time()\n",
        "print(f'เวลาที่ใช้ในการประมวลผล {t_end- t_start} วินาที')\n",
        "print(f'เวลาที่ใช้ในการประมวลผล {(t_end- t_start)/60} นาที')"
      ],
      "metadata": {
        "id": "70czjXAm3M78",
        "colab": {
          "base_uri": "https://localhost:8080/"
        },
        "outputId": "2db3d2fe-af27-496a-df07-e4f1433aca25"
      },
      "execution_count": 75,
      "outputs": [
        {
          "output_type": "stream",
          "name": "stdout",
          "text": [
            "AMSE_svm = 0.5756703692896041\n",
            "เวลาที่ใช้ในการประมวลผล 0.0009548664093017578 วินาที\n",
            "เวลาที่ใช้ในการประมวลผล 1.5914440155029297e-05 นาที\n"
          ]
        }
      ]
    },
    {
      "cell_type": "markdown",
      "source": [
        "## Imputation using the EM"
      ],
      "metadata": {
        "id": "oYCU9MKU3M78"
      }
    },
    {
      "cell_type": "markdown",
      "source": [
        "### impy.em"
      ],
      "metadata": {
        "id": "M_0BOcvh3M78"
      }
    },
    {
      "cell_type": "code",
      "source": [
        "!pip install impyute\n",
        "import impyute as impy"
      ],
      "metadata": {
        "id": "HG47KPna3M78",
        "colab": {
          "base_uri": "https://localhost:8080/"
        },
        "outputId": "3b406754-728f-4723-88da-f8f03a9cca78"
      },
      "execution_count": 76,
      "outputs": [
        {
          "output_type": "stream",
          "name": "stdout",
          "text": [
            "Looking in indexes: https://pypi.org/simple, https://us-python.pkg.dev/colab-wheels/public/simple/\n",
            "Requirement already satisfied: impyute in /usr/local/lib/python3.8/dist-packages (0.0.8)\n",
            "Requirement already satisfied: scikit-learn in /usr/local/lib/python3.8/dist-packages (from impyute) (1.0.2)\n",
            "Requirement already satisfied: numpy in /usr/local/lib/python3.8/dist-packages (from impyute) (1.21.6)\n",
            "Requirement already satisfied: scipy in /usr/local/lib/python3.8/dist-packages (from impyute) (1.7.3)\n",
            "Requirement already satisfied: joblib>=0.11 in /usr/local/lib/python3.8/dist-packages (from scikit-learn->impyute) (1.2.0)\n",
            "Requirement already satisfied: threadpoolctl>=2.0.0 in /usr/local/lib/python3.8/dist-packages (from scikit-learn->impyute) (3.1.0)\n"
          ]
        }
      ]
    },
    {
      "cell_type": "code",
      "source": [
        "t_start = time.time()\n",
        "for i in range(1,1001):\n",
        "  globals()[f'imputed_impy40_{i}'] = impy.em(globals()[f'Bodyfat40_{i}'].values.copy())\n",
        "  globals()[f'MSE_impy40_{i}'] = mean_squared_error(data, globals()[f'imputed_impy40_{i}'])\n",
        "t_end = time.time()\n",
        "t40_EM = (t_end- t_start)"
      ],
      "metadata": {
        "id": "Bf-gqNxt3M78"
      },
      "execution_count": 77,
      "outputs": []
    },
    {
      "cell_type": "code",
      "source": [
        "t_start = time.time()\n",
        "mse_impy40_total = 0 \n",
        "MSE_impy40_1001 = 0\n",
        "for i in range(0,1001):\n",
        "  mse_impy40_total = mse_impy40_total + globals()[f'MSE_impy40_{i+1}']\n",
        "AMSE_Bodyfat40_impy = mse_impy40_total/1000\n",
        "print(f'AMSE_impy = {AMSE_Bodyfat40_impy}')\n",
        "t_end = time.time()\n",
        "print(f'เวลาที่ใช้ในการประมวลผล {t_end- t_start} วินาที')\n",
        "print(f'เวลาที่ใช้ในการประมวลผล {(t_end- t_start)/60} นาที')"
      ],
      "metadata": {
        "id": "dlR0Alp-3M78",
        "colab": {
          "base_uri": "https://localhost:8080/"
        },
        "outputId": "20a3ef3e-ed43-436f-d3f6-37a3cdcca241"
      },
      "execution_count": 78,
      "outputs": [
        {
          "output_type": "stream",
          "name": "stdout",
          "text": [
            "AMSE_impy = 1.164964059050305\n",
            "เวลาที่ใช้ในการประมวลผล 0.0018379688262939453 วินาที\n",
            "เวลาที่ใช้ในการประมวลผล 3.063281377156575e-05 นาที\n"
          ]
        }
      ]
    },
    {
      "cell_type": "code",
      "source": [],
      "metadata": {
        "id": "P_3zrcFt3M79"
      },
      "execution_count": 78,
      "outputs": []
    },
    {
      "cell_type": "markdown",
      "source": [
        "# 50 % random nan"
      ],
      "metadata": {
        "id": "VPcbhfhg5CxE"
      }
    },
    {
      "cell_type": "code",
      "source": [
        "t_start = time.time()\n",
        "for i in range(1,1001):\n",
        "  globals()[f'Bodyfat50_{i}'] = data.copy() # for loop variable name\n",
        "  np.random.seed(i) # for loop seed\n",
        "  n = int((153*50/100)) \n",
        "  index_nan = np.random.choice(globals()[f'Bodyfat50_{i}']['% Body fat'].size, n, replace=False) #globals()[name dataframe][column name].size\n",
        "  globals()[f'Bodyfat50_{i}']['% Body fat'].ravel()[index_nan] = np.nan\n",
        "t_end = time.time()\n",
        "print(f'เวลาที่ใช้ในการประมวลผล {t_end- t_start} วินาที')\n",
        "print(f'เวลาที่ใช้ในการประมวลผล {(t_end- t_start)/60} นาที')"
      ],
      "metadata": {
        "id": "6o8bkvAb5CxE",
        "colab": {
          "base_uri": "https://localhost:8080/"
        },
        "outputId": "ea8bc1e2-4117-41a8-91cf-95bf842c3ba8"
      },
      "execution_count": 79,
      "outputs": [
        {
          "output_type": "stream",
          "name": "stdout",
          "text": [
            "เวลาที่ใช้ในการประมวลผล 0.15693879127502441 วินาที\n",
            "เวลาที่ใช้ในการประมวลผล 0.002615646521250407 นาที\n"
          ]
        }
      ]
    },
    {
      "cell_type": "markdown",
      "source": [
        "## Imputation using Mean"
      ],
      "metadata": {
        "id": "zsQM_EY35CxF"
      }
    },
    {
      "cell_type": "code",
      "source": [
        "from sklearn.impute import SimpleImputer"
      ],
      "metadata": {
        "id": "q1cKpKhO5CxF"
      },
      "execution_count": 80,
      "outputs": []
    },
    {
      "cell_type": "code",
      "source": [
        "t_start = time.time()\n",
        "mean50_imputer = SimpleImputer(strategy='mean')\n",
        "for i in range(1,1001):\n",
        "  globals()[f'imputed_mean50_{i}'] = mean50_imputer.fit_transform(globals()[f'Bodyfat50_{i}'].copy()) #for loop miss forest impputation \n",
        "  globals()[f'MSE_MEAN50_{i}'] = mean_squared_error(data, globals()[f'imputed_mean50_{i}']) # for loop mean_squared_error\n",
        "t_end = time.time()\n",
        "t50_MEAN = (t_end- t_start)"
      ],
      "metadata": {
        "id": "AN9tLTag5CxF"
      },
      "execution_count": 81,
      "outputs": []
    },
    {
      "cell_type": "code",
      "source": [
        "t_start = time.time()\n",
        "mse_mean50_total = 0 \n",
        "MSE_MEAN50_1001 = 0\n",
        "for i in range(0,1001):\n",
        "  mse_mean50_total = mse_mean50_total + globals()[f'MSE_MEAN50_{i+1}']\n",
        "AMSE_Bodyfat50_mean = mse_mean50_total/1000\n",
        "print(f'AMSE_mean = {AMSE_Bodyfat50_mean}')\n",
        "t_end = time.time()\n",
        "print(f'เวลาที่ใช้ในการประมวลผล {t_end- t_start} วินาที')\n",
        "print(f'เวลาที่ใช้ในการประมวลผล {(t_end- t_start)/60} นาที')"
      ],
      "metadata": {
        "id": "t2R9Lede5CxF",
        "colab": {
          "base_uri": "https://localhost:8080/"
        },
        "outputId": "6920a2d8-142c-40b1-803e-7b4346c536b1"
      },
      "execution_count": 82,
      "outputs": [
        {
          "output_type": "stream",
          "name": "stdout",
          "text": [
            "AMSE_mean = 0.758303134007576\n",
            "เวลาที่ใช้ในการประมวลผล 0.001308441162109375 วินาที\n",
            "เวลาที่ใช้ในการประมวลผล 2.1807352701822917e-05 นาที\n"
          ]
        }
      ]
    },
    {
      "cell_type": "markdown",
      "source": [
        "## Imputation using the miss forest"
      ],
      "metadata": {
        "id": "KxQMxl4x5CxF"
      }
    },
    {
      "cell_type": "code",
      "source": [
        "import sys\n",
        "import sklearn.neighbors._base\n",
        "sys.modules['sklearn.neighbors.base'] = sklearn.neighbors._base\n",
        "!pip install missingpy\n",
        "import missingpy\n",
        "from missingpy import MissForest\n",
        "from sklearn.metrics import mean_squared_error"
      ],
      "metadata": {
        "id": "c10-E_OL5CxF",
        "colab": {
          "base_uri": "https://localhost:8080/"
        },
        "outputId": "1aa9e7ef-0b54-4d0a-91dd-239dda34ee9c"
      },
      "execution_count": 83,
      "outputs": [
        {
          "output_type": "stream",
          "name": "stdout",
          "text": [
            "Looking in indexes: https://pypi.org/simple, https://us-python.pkg.dev/colab-wheels/public/simple/\n",
            "Requirement already satisfied: missingpy in /usr/local/lib/python3.8/dist-packages (0.2.0)\n"
          ]
        }
      ]
    },
    {
      "cell_type": "code",
      "source": [
        "t_start = time.time()\n",
        "MF50_imputer = MissForest()\n",
        "for i in range(1,1001):\n",
        "  globals()[f'imputed_mf50_{i}'] = MF50_imputer.fit_transform(globals()[f'Bodyfat50_{i}'].copy()) #for loop miss forest impputation \n",
        "  globals()[f'MSE_MF50_{i}'] = mean_squared_error(data, globals()[f'imputed_mf50_{i}']) # for loop mean_squared_error\n",
        "t_end = time.time()\n",
        "t50_MF = (t_end- t_start)"
      ],
      "metadata": {
        "id": "4jgSbYVu5CxF"
      },
      "execution_count": null,
      "outputs": []
    },
    {
      "cell_type": "code",
      "source": [
        "t_start = time.time()\n",
        "mse_mf50_total = 0 \n",
        "MSE_MF50_1001 = 0\n",
        "for i in range(0,1001):\n",
        "  mse_mf50_total = mse_mf50_total + globals()[f'MSE_MF50_{i+1}']\n",
        "AMSE_Bodyfat50_mf = mse_mf50_total/1000\n",
        "print(f'AMSE_mf = {AMSE_Bodyfat50_mf}')\n",
        "t_end = time.time()\n",
        "print(f'เวลาที่ใช้ในการประมวลผล {t_end- t_start} วินาที')\n",
        "print(f'เวลาที่ใช้ในการประมวลผล {(t_end- t_start)/60} นาที')"
      ],
      "metadata": {
        "id": "NEs1DrsU5CxG",
        "colab": {
          "base_uri": "https://localhost:8080/"
        },
        "outputId": "17285794-77d3-4c76-ac56-c2c525efc55e"
      },
      "execution_count": 85,
      "outputs": [
        {
          "output_type": "stream",
          "name": "stdout",
          "text": [
            "AMSE_mf = 0.1835247954826542\n",
            "เวลาที่ใช้ในการประมวลผล 0.002808809280395508 วินาที\n",
            "เวลาที่ใช้ในการประมวลผล 4.6813488006591796e-05 นาที\n"
          ]
        }
      ]
    },
    {
      "cell_type": "markdown",
      "source": [
        "## Imputation using the KNN"
      ],
      "metadata": {
        "id": "2Hg2k_PK5CxG"
      }
    },
    {
      "cell_type": "code",
      "source": [
        "from sklearn import neighbors\n",
        "from sklearn.impute import KNNImputer"
      ],
      "metadata": {
        "id": "0Uc7nuFW5CxG"
      },
      "execution_count": 86,
      "outputs": []
    },
    {
      "cell_type": "code",
      "source": [
        "t_start = time.time()\n",
        "KNN50_imputer = KNNImputer(n_neighbors = 15)\n",
        "for i in range(1,1001):\n",
        "  globals()[f'imputed_KNN50_{i}'] = KNN50_imputer.fit_transform(globals()[f'Bodyfat50_{i}'].copy())\n",
        "  globals()[f'MSE_KNN50_{i}'] = mean_squared_error(data, globals()[f'imputed_KNN50_{i}'])\n",
        "t_end = time.time()\n",
        "t50_KNN = (t_end- t_start)"
      ],
      "metadata": {
        "id": "kKu_4B2z5CxG"
      },
      "execution_count": 87,
      "outputs": []
    },
    {
      "cell_type": "code",
      "source": [
        "t_start = time.time()\n",
        "mse_knn50_total = 0 \n",
        "MSE_KNN50_1001 = 0\n",
        "for i in range(0,1001):\n",
        "  mse_knn50_total = mse_knn50_total + globals()[f'MSE_KNN50_{i+1}']\n",
        "AMSE_Bodyfat50_knn = mse_knn50_total/1000\n",
        "print(f'AMSE_knn = {AMSE_Bodyfat50_knn}')\n",
        "t_end = time.time()\n",
        "print(f'เวลาที่ใช้ในการประมวลผล {t_end- t_start} วินาที')\n",
        "print(f'เวลาที่ใช้ในการประมวลผล {(t_end- t_start)/60} นาที')"
      ],
      "metadata": {
        "id": "Ryv_HNUY5CxG",
        "colab": {
          "base_uri": "https://localhost:8080/"
        },
        "outputId": "b8429ade-dd18-475c-a176-671ff3c87d99"
      },
      "execution_count": 88,
      "outputs": [
        {
          "output_type": "stream",
          "name": "stdout",
          "text": [
            "AMSE_knn = 0.6710048836377849\n",
            "เวลาที่ใช้ในการประมวลผล 0.011759042739868164 วินาที\n",
            "เวลาที่ใช้ในการประมวลผล 0.0001959840456644694 นาที\n"
          ]
        }
      ]
    },
    {
      "cell_type": "markdown",
      "source": [
        "## Imputation using the MICE"
      ],
      "metadata": {
        "id": "3sQ8lPP45CxG"
      }
    },
    {
      "cell_type": "code",
      "source": [
        "from sklearn.experimental import enable_iterative_imputer\n",
        "from sklearn.impute import IterativeImputer\n",
        "from sklearn.linear_model import LinearRegression\n",
        "from sklearn import svm"
      ],
      "metadata": {
        "id": "0mDo68T_5CxG"
      },
      "execution_count": 89,
      "outputs": []
    },
    {
      "cell_type": "markdown",
      "source": [
        "### LinearRegression model"
      ],
      "metadata": {
        "id": "2HkBT00U5CxH"
      }
    },
    {
      "cell_type": "code",
      "source": [
        "t_start = time.time()\n",
        "lr = LinearRegression()\n",
        "for i in range(1,1001):\n",
        "  imp = IterativeImputer(estimator= lr , max_iter= 10, verbose=2, imputation_order='roman',initial_strategy = 'mean',random_state= i)\n",
        "  globals()[f'imputed_lr50_{i}'] = imp.fit_transform(globals()[f'Bodyfat50_{i}'].copy())\n",
        "  globals()[f'MSE_lr50_{i}'] = mean_squared_error(data, globals()[f'imputed_lr50_{i}'])\n",
        "t_end = time.time()\n",
        "t50_LR = (t_end- t_start)"
      ],
      "metadata": {
        "id": "OVl-oZMC5CxH"
      },
      "execution_count": null,
      "outputs": []
    },
    {
      "cell_type": "code",
      "source": [
        "t_start = time.time()\n",
        "mse_lr50_total = 0 \n",
        "MSE_lr50_1001 = 0\n",
        "for i in range(0,1001):\n",
        "  mse_lr50_total = mse_lr50_total + globals()[f'MSE_lr50_{i+1}']\n",
        "AMSE_Bodyfat50_lr = mse_lr50_total/1000\n",
        "print(f'AMSE_lr = {AMSE_Bodyfat50_lr}')\n",
        "t_end = time.time()\n",
        "print(f'เวลาที่ใช้ในการประมวลผล {t_end- t_start} วินาที')\n",
        "print(f'เวลาที่ใช้ในการประมวลผล {(t_end- t_start)/60} นาที')"
      ],
      "metadata": {
        "id": "WBUkD7lh5CxH",
        "colab": {
          "base_uri": "https://localhost:8080/"
        },
        "outputId": "c2ce62d8-792c-4326-fa36-3549896afaad"
      },
      "execution_count": 91,
      "outputs": [
        {
          "output_type": "stream",
          "name": "stdout",
          "text": [
            "AMSE_lr = 0.3995294547944899\n",
            "เวลาที่ใช้ในการประมวลผล 0.0009708404541015625 วินาที\n",
            "เวลาที่ใช้ในการประมวลผล 1.618067423502604e-05 นาที\n"
          ]
        }
      ]
    },
    {
      "cell_type": "markdown",
      "source": [
        "### Support Vector Machine model"
      ],
      "metadata": {
        "id": "IiGbBbaq5CxH"
      }
    },
    {
      "cell_type": "code",
      "source": [
        "t_start = time.time()\n",
        "regr = svm.SVR()\n",
        "for i in range(1,1001):\n",
        "  svm_svr = IterativeImputer(estimator= regr, max_iter= 10, verbose=2, imputation_order='roman',initial_strategy = 'mean',random_state= i)\n",
        "  globals()[f'imputed_svm50_{i}'] = svm_svr.fit_transform(globals()[f'Bodyfat50_{i}'].copy())\n",
        "  globals()[f'MSE_svm50_{i}'] = mean_squared_error(data, globals()[f'imputed_svm50_{i}'])\n",
        "t_end = time.time()\n",
        "t50_SVM = (t_end- t_start)"
      ],
      "metadata": {
        "id": "h5LAYHJp5CxH"
      },
      "execution_count": null,
      "outputs": []
    },
    {
      "cell_type": "code",
      "source": [
        "t_start = time.time()\n",
        "mse_svm50_total = 0 \n",
        "MSE_svm50_1001 = 0\n",
        "for i in range(0,1001):\n",
        "  mse_svm50_total = mse_svm50_total + globals()[f'MSE_svm50_{i+1}']\n",
        "AMSE_Bodyfat50_svm = mse_svm50_total/1000\n",
        "print(f'AMSE_svm = {AMSE_Bodyfat50_svm}')\n",
        "t_end = time.time()\n",
        "print(f'เวลาที่ใช้ในการประมวลผล {t_end- t_start} วินาที')\n",
        "print(f'เวลาที่ใช้ในการประมวลผล {(t_end- t_start)/60} นาที')"
      ],
      "metadata": {
        "id": "wpFlfe4U5CxH",
        "colab": {
          "base_uri": "https://localhost:8080/"
        },
        "outputId": "c4a6c24f-198e-49d4-a958-2e1ea67c1b5a"
      },
      "execution_count": 93,
      "outputs": [
        {
          "output_type": "stream",
          "name": "stdout",
          "text": [
            "AMSE_svm = 0.7247766772226204\n",
            "เวลาที่ใช้ในการประมวลผล 0.0015311241149902344 วินาที\n",
            "เวลาที่ใช้ในการประมวลผล 2.551873524983724e-05 นาที\n"
          ]
        }
      ]
    },
    {
      "cell_type": "markdown",
      "source": [
        "## Imputation using the EM"
      ],
      "metadata": {
        "id": "PtaO25rz5CxI"
      }
    },
    {
      "cell_type": "markdown",
      "source": [
        "### impy.em"
      ],
      "metadata": {
        "id": "GGSdcCYV5CxI"
      }
    },
    {
      "cell_type": "code",
      "source": [
        "!pip install impyute\n",
        "import impyute as impy"
      ],
      "metadata": {
        "id": "IKTlJokL5CxI",
        "colab": {
          "base_uri": "https://localhost:8080/"
        },
        "outputId": "e4628353-bed9-49f5-bc7c-f460180c15dd"
      },
      "execution_count": 94,
      "outputs": [
        {
          "output_type": "stream",
          "name": "stdout",
          "text": [
            "Looking in indexes: https://pypi.org/simple, https://us-python.pkg.dev/colab-wheels/public/simple/\n",
            "Requirement already satisfied: impyute in /usr/local/lib/python3.8/dist-packages (0.0.8)\n",
            "Requirement already satisfied: scipy in /usr/local/lib/python3.8/dist-packages (from impyute) (1.7.3)\n",
            "Requirement already satisfied: scikit-learn in /usr/local/lib/python3.8/dist-packages (from impyute) (1.0.2)\n",
            "Requirement already satisfied: numpy in /usr/local/lib/python3.8/dist-packages (from impyute) (1.21.6)\n",
            "Requirement already satisfied: joblib>=0.11 in /usr/local/lib/python3.8/dist-packages (from scikit-learn->impyute) (1.2.0)\n",
            "Requirement already satisfied: threadpoolctl>=2.0.0 in /usr/local/lib/python3.8/dist-packages (from scikit-learn->impyute) (3.1.0)\n"
          ]
        }
      ]
    },
    {
      "cell_type": "code",
      "source": [
        "t_start = time.time()\n",
        "for i in range(1,1001):\n",
        "  globals()[f'imputed_impy50_{i}'] = impy.em(globals()[f'Bodyfat50_{i}'].values.copy())\n",
        "  globals()[f'MSE_impy50_{i}'] = mean_squared_error(data, globals()[f'imputed_impy50_{i}'])\n",
        "t_end = time.time()\n",
        "t50_EM = (t_end- t_start)"
      ],
      "metadata": {
        "id": "JtbESpzv5CxI"
      },
      "execution_count": 95,
      "outputs": []
    },
    {
      "cell_type": "code",
      "source": [
        "t_start = time.time()\n",
        "mse_impy50_total = 0 \n",
        "MSE_impy50_1001 = 0\n",
        "for i in range(0,1001):\n",
        "  mse_impy50_total = mse_impy50_total + globals()[f'MSE_impy50_{i+1}']\n",
        "AMSE_Bodyfat50_impy = mse_impy50_total/1000\n",
        "print(f'AMSE_impy = {AMSE_Bodyfat50_impy}')\n",
        "t_end = time.time()\n",
        "print(f'เวลาที่ใช้ในการประมวลผล {t_end- t_start} วินาที')\n",
        "print(f'เวลาที่ใช้ในการประมวลผล {(t_end- t_start)/60} นาที')"
      ],
      "metadata": {
        "id": "zYc0LhiU5CxI",
        "colab": {
          "base_uri": "https://localhost:8080/"
        },
        "outputId": "bb1e1b70-066c-4b4e-a94d-4a9be15f08d4"
      },
      "execution_count": 96,
      "outputs": [
        {
          "output_type": "stream",
          "name": "stdout",
          "text": [
            "AMSE_impy = 1.4704675393750544\n",
            "เวลาที่ใช้ในการประมวลผล 0.0018415451049804688 วินาที\n",
            "เวลาที่ใช้ในการประมวลผล 3.069241841634114e-05 นาที\n"
          ]
        }
      ]
    },
    {
      "cell_type": "code",
      "source": [],
      "metadata": {
        "id": "TT3osM6_5CxI"
      },
      "execution_count": 96,
      "outputs": []
    },
    {
      "cell_type": "markdown",
      "source": [
        "# 60 % random nan"
      ],
      "metadata": {
        "id": "nEaoPWrp7Jgo"
      }
    },
    {
      "cell_type": "code",
      "source": [
        "t_start = time.time()\n",
        "for i in range(1,1001):\n",
        "  globals()[f'Bodyfat60_{i}'] = data.copy() # for loop variable name\n",
        "  np.random.seed(i) # for loop seed\n",
        "  n = int((153*60/100)) \n",
        "  index_nan = np.random.choice(globals()[f'Bodyfat60_{i}']['% Body fat'].size, n, replace=False) #globals()[name dataframe][column name].size\n",
        "  globals()[f'Bodyfat60_{i}']['% Body fat'].ravel()[index_nan] = np.nan\n",
        "t_end = time.time()\n",
        "print(f'เวลาที่ใช้ในการประมวลผล {t_end- t_start} วินาที')\n",
        "print(f'เวลาที่ใช้ในการประมวลผล {(t_end- t_start)/60} นาที')"
      ],
      "metadata": {
        "id": "H-FmVEpx7Jgo",
        "colab": {
          "base_uri": "https://localhost:8080/"
        },
        "outputId": "e27b843b-9762-42ba-939c-6d3216e6c938"
      },
      "execution_count": 97,
      "outputs": [
        {
          "output_type": "stream",
          "name": "stdout",
          "text": [
            "เวลาที่ใช้ในการประมวลผล 0.16777849197387695 วินาที\n",
            "เวลาที่ใช้ในการประมวลผล 0.002796308199564616 นาที\n"
          ]
        }
      ]
    },
    {
      "cell_type": "markdown",
      "source": [
        "## Imputation using Mean"
      ],
      "metadata": {
        "id": "mnQVQbqJ7Jgp"
      }
    },
    {
      "cell_type": "code",
      "source": [
        "from sklearn.impute import SimpleImputer"
      ],
      "metadata": {
        "id": "r--lqIL57Jgp"
      },
      "execution_count": 98,
      "outputs": []
    },
    {
      "cell_type": "code",
      "source": [
        "t_start = time.time()\n",
        "mean60_imputer = SimpleImputer(strategy='mean')\n",
        "for i in range(1,1001):\n",
        "  globals()[f'imputed_mean60_{i}'] = mean50_imputer.fit_transform(globals()[f'Bodyfat60_{i}'].copy()) #for loop miss forest impputation \n",
        "  globals()[f'MSE_MEAN60_{i}'] = mean_squared_error(data, globals()[f'imputed_mean60_{i}']) # for loop mean_squared_error\n",
        "t_end = time.time()\n",
        "t60_MEAN = (t_end- t_start)"
      ],
      "metadata": {
        "id": "pZXxPF997Jgp"
      },
      "execution_count": 99,
      "outputs": []
    },
    {
      "cell_type": "code",
      "source": [
        "t_start = time.time()\n",
        "mse_mean60_total = 0 \n",
        "MSE_MEAN60_1001 = 0\n",
        "for i in range(0,1001):\n",
        "  mse_mean60_total = mse_mean60_total + globals()[f'MSE_MEAN60_{i+1}']\n",
        "AMSE_Bodyfat60_mean = mse_mean60_total/1000\n",
        "print(f'AMSE_mean = {AMSE_Bodyfat60_mean}')\n",
        "t_end = time.time()\n",
        "print(f'เวลาที่ใช้ในการประมวลผล {t_end- t_start} วินาที')\n",
        "print(f'เวลาที่ใช้ในการประมวลผล {(t_end- t_start)/60} นาที')"
      ],
      "metadata": {
        "id": "wOc9EIvo7Jgp",
        "colab": {
          "base_uri": "https://localhost:8080/"
        },
        "outputId": "6afad9a4-a668-444e-a1a1-eda7f8b09447"
      },
      "execution_count": 100,
      "outputs": [
        {
          "output_type": "stream",
          "name": "stdout",
          "text": [
            "AMSE_mean = 0.9081780958997162\n",
            "เวลาที่ใช้ในการประมวลผล 0.009512662887573242 วินาที\n",
            "เวลาที่ใช้ในการประมวลผล 0.00015854438145955404 นาที\n"
          ]
        }
      ]
    },
    {
      "cell_type": "markdown",
      "source": [
        "## Imputation using the miss forest"
      ],
      "metadata": {
        "id": "FwBPKTBy7Jgp"
      }
    },
    {
      "cell_type": "code",
      "source": [
        "import sys\n",
        "import sklearn.neighbors._base\n",
        "sys.modules['sklearn.neighbors.base'] = sklearn.neighbors._base\n",
        "!pip install missingpy\n",
        "import missingpy\n",
        "from missingpy import MissForest\n",
        "from sklearn.metrics import mean_squared_error"
      ],
      "metadata": {
        "id": "lv1_5jT87Jgp",
        "colab": {
          "base_uri": "https://localhost:8080/"
        },
        "outputId": "537d15af-5a8e-413f-f160-55068a56c62e"
      },
      "execution_count": 101,
      "outputs": [
        {
          "output_type": "stream",
          "name": "stdout",
          "text": [
            "Looking in indexes: https://pypi.org/simple, https://us-python.pkg.dev/colab-wheels/public/simple/\n",
            "Requirement already satisfied: missingpy in /usr/local/lib/python3.8/dist-packages (0.2.0)\n"
          ]
        }
      ]
    },
    {
      "cell_type": "code",
      "source": [
        "t_start = time.time()\n",
        "MF60_imputer = MissForest()\n",
        "for i in range(1,1001):\n",
        "  globals()[f'imputed_mf60_{i}'] = MF60_imputer.fit_transform(globals()[f'Bodyfat60_{i}'].copy()) #for loop miss forest impputation \n",
        "  globals()[f'MSE_MF60_{i}'] = mean_squared_error(data, globals()[f'imputed_mf60_{i}']) # for loop mean_squared_error\n",
        "t_end = time.time()\n",
        "t60_MF = (t_end- t_start)"
      ],
      "metadata": {
        "id": "vlxfsL-p7Jgp"
      },
      "execution_count": null,
      "outputs": []
    },
    {
      "cell_type": "code",
      "source": [
        "t_start = time.time()\n",
        "mse_mf60_total = 0 \n",
        "MSE_MF60_1001 = 0\n",
        "for i in range(0,1001):\n",
        "  mse_mf60_total = mse_mf60_total + globals()[f'MSE_MF60_{i+1}']\n",
        "AMSE_Bodyfat60_mf = mse_mf60_total/1000\n",
        "print(f'AMSE_mf = {AMSE_Bodyfat60_mf}')\n",
        "t_end = time.time()\n",
        "print(f'เวลาที่ใช้ในการประมวลผล {t_end- t_start} วินาที')\n",
        "print(f'เวลาที่ใช้ในการประมวลผล {(t_end- t_start)/60} นาที')"
      ],
      "metadata": {
        "id": "8xuApycY7Jgq",
        "colab": {
          "base_uri": "https://localhost:8080/"
        },
        "outputId": "446669c3-be0e-4f26-a685-61462a2618cb"
      },
      "execution_count": 103,
      "outputs": [
        {
          "output_type": "stream",
          "name": "stdout",
          "text": [
            "AMSE_mf = 0.2519521666468078\n",
            "เวลาที่ใช้ในการประมวลผล 0.0010600090026855469 วินาที\n",
            "เวลาที่ใช้ในการประมวลผล 1.766681671142578e-05 นาที\n"
          ]
        }
      ]
    },
    {
      "cell_type": "markdown",
      "source": [
        "## Imputation using the KNN"
      ],
      "metadata": {
        "id": "hJinxfM57Jgq"
      }
    },
    {
      "cell_type": "code",
      "source": [
        "from sklearn import neighbors\n",
        "from sklearn.impute import KNNImputer"
      ],
      "metadata": {
        "id": "M9cnQDhk7Jgq"
      },
      "execution_count": 104,
      "outputs": []
    },
    {
      "cell_type": "code",
      "source": [
        "t_start = time.time()\n",
        "KNN60_imputer = KNNImputer(n_neighbors = 15)\n",
        "for i in range(1,1001):\n",
        "  globals()[f'imputed_KNN60_{i}'] = KNN60_imputer.fit_transform(globals()[f'Bodyfat60_{i}'].copy())\n",
        "  globals()[f'MSE_KNN60_{i}'] = mean_squared_error(data, globals()[f'imputed_KNN60_{i}'])\n",
        "t_end = time.time()\n",
        "t60_KNN = (t_end- t_start)"
      ],
      "metadata": {
        "id": "HV14AOKf7Jgq"
      },
      "execution_count": 105,
      "outputs": []
    },
    {
      "cell_type": "code",
      "source": [
        "t_start = time.time()\n",
        "mse_knn60_total = 0 \n",
        "MSE_KNN60_1001 = 0\n",
        "for i in range(0,1001):\n",
        "  mse_knn60_total = mse_knn60_total + globals()[f'MSE_KNN60_{i+1}']\n",
        "AMSE_Bodyfat60_knn = mse_knn60_total/1000\n",
        "print(f'AMSE_knn = {AMSE_Bodyfat60_knn}')\n",
        "t_end = time.time()\n",
        "print(f'เวลาที่ใช้ในการประมวลผล {t_end- t_start} วินาที')\n",
        "print(f'เวลาที่ใช้ในการประมวลผล {(t_end- t_start)/60} นาที')"
      ],
      "metadata": {
        "id": "fqgm9TWL7Jgq",
        "colab": {
          "base_uri": "https://localhost:8080/"
        },
        "outputId": "c21a06bd-e9af-4b32-b765-478512abd41a"
      },
      "execution_count": 106,
      "outputs": [
        {
          "output_type": "stream",
          "name": "stdout",
          "text": [
            "AMSE_knn = 0.821188002726104\n",
            "เวลาที่ใช้ในการประมวลผล 0.004569530487060547 วินาที\n",
            "เวลาที่ใช้ในการประมวลผล 7.615884145100912e-05 นาที\n"
          ]
        }
      ]
    },
    {
      "cell_type": "markdown",
      "source": [
        "## Imputation using the MICE"
      ],
      "metadata": {
        "id": "oeo3L-HI7Jgq"
      }
    },
    {
      "cell_type": "code",
      "source": [
        "from sklearn.experimental import enable_iterative_imputer\n",
        "from sklearn.impute import IterativeImputer\n",
        "from sklearn.linear_model import LinearRegression\n",
        "from sklearn import svm"
      ],
      "metadata": {
        "id": "2Y4kfkQ27Jgq"
      },
      "execution_count": 107,
      "outputs": []
    },
    {
      "cell_type": "markdown",
      "source": [
        "### LinearRegression model"
      ],
      "metadata": {
        "id": "achsTX9n7Jgq"
      }
    },
    {
      "cell_type": "code",
      "source": [
        "t_start = time.time()\n",
        "lr = LinearRegression()\n",
        "for i in range(1,1001):\n",
        "  imp = IterativeImputer(estimator= lr , max_iter= 10, verbose=2, imputation_order='roman',initial_strategy = 'mean',random_state= i)\n",
        "  globals()[f'imputed_lr60_{i}'] = imp.fit_transform(globals()[f'Bodyfat60_{i}'].copy())\n",
        "  globals()[f'MSE_lr60_{i}'] = mean_squared_error(data, globals()[f'imputed_lr60_{i}'])\n",
        "t_end = time.time()\n",
        "t60_LR = (t_end- t_start)"
      ],
      "metadata": {
        "id": "yMjq-5Nk7Jgq"
      },
      "execution_count": null,
      "outputs": []
    },
    {
      "cell_type": "code",
      "source": [
        "t_start = time.time()\n",
        "mse_lr60_total = 0 \n",
        "MSE_lr60_1001 = 0\n",
        "for i in range(0,1001):\n",
        "  mse_lr60_total = mse_lr60_total + globals()[f'MSE_lr60_{i+1}']\n",
        "AMSE_Bodyfat60_lr = mse_lr60_total/1000\n",
        "print(f'AMSE_lr = {AMSE_Bodyfat60_lr}')\n",
        "t_end = time.time()\n",
        "print(f'เวลาที่ใช้ในการประมวลผล {t_end- t_start} วินาที')\n",
        "print(f'เวลาที่ใช้ในการประมวลผล {(t_end- t_start)/60} นาที')"
      ],
      "metadata": {
        "id": "v4Y1_5L67Jgr",
        "colab": {
          "base_uri": "https://localhost:8080/"
        },
        "outputId": "87d189c0-deef-44b3-ffd3-b3750603f419"
      },
      "execution_count": 109,
      "outputs": [
        {
          "output_type": "stream",
          "name": "stdout",
          "text": [
            "AMSE_lr = 0.5790154225756609\n",
            "เวลาที่ใช้ในการประมวลผล 0.0008943080902099609 วินาที\n",
            "เวลาที่ใช้ในการประมวลผล 1.4905134836832682e-05 นาที\n"
          ]
        }
      ]
    },
    {
      "cell_type": "markdown",
      "source": [
        "### Support Vector Machine model"
      ],
      "metadata": {
        "id": "MGNkeqpJ7Jgr"
      }
    },
    {
      "cell_type": "code",
      "source": [
        "t_start = time.time()\n",
        "regr = svm.SVR()\n",
        "for i in range(1,1001):\n",
        "  svm_svr = IterativeImputer(estimator= regr, max_iter= 10, verbose=2, imputation_order='roman',initial_strategy = 'mean',random_state= i)\n",
        "  globals()[f'imputed_svm60_{i}'] = svm_svr.fit_transform(globals()[f'Bodyfat60_{i}'].copy())\n",
        "  globals()[f'MSE_svm60_{i}'] = mean_squared_error(data, globals()[f'imputed_svm60_{i}'])\n",
        "t_end = time.time()\n",
        "t60_SVM = (t_end- t_start)"
      ],
      "metadata": {
        "id": "xuFqS3Iv7Jgr"
      },
      "execution_count": null,
      "outputs": []
    },
    {
      "cell_type": "code",
      "source": [
        "t_start = time.time()\n",
        "mse_svm60_total = 0 \n",
        "MSE_svm60_1001 = 0\n",
        "for i in range(0,1001):\n",
        "  mse_svm60_total = mse_svm60_total + globals()[f'MSE_svm60_{i+1}']\n",
        "AMSE_Bodyfat60_svm = mse_svm60_total/1000\n",
        "print(f'AMSE_svm = {AMSE_Bodyfat60_svm}')\n",
        "t_end = time.time()\n",
        "print(f'เวลาที่ใช้ในการประมวลผล {t_end- t_start} วินาที')\n",
        "print(f'เวลาที่ใช้ในการประมวลผล {(t_end- t_start)/60} นาที')"
      ],
      "metadata": {
        "id": "azR8eZ7R7Jgr",
        "colab": {
          "base_uri": "https://localhost:8080/"
        },
        "outputId": "8ea75967-edc6-4248-c788-0ed93a0c7ba2"
      },
      "execution_count": 111,
      "outputs": [
        {
          "output_type": "stream",
          "name": "stdout",
          "text": [
            "AMSE_svm = 0.8762987706434084\n",
            "เวลาที่ใช้ในการประมวลผล 0.0012652873992919922 วินาที\n",
            "เวลาที่ใช้ในการประมวลผล 2.1088123321533204e-05 นาที\n"
          ]
        }
      ]
    },
    {
      "cell_type": "markdown",
      "source": [
        "## Imputation using the EM"
      ],
      "metadata": {
        "id": "0nf_ZBoX7Jgr"
      }
    },
    {
      "cell_type": "markdown",
      "source": [
        "### impy.em"
      ],
      "metadata": {
        "id": "zAacr4gY7Jgr"
      }
    },
    {
      "cell_type": "code",
      "source": [
        "!pip install impyute\n",
        "import impyute as impy"
      ],
      "metadata": {
        "id": "esXruGLJ7Jgr",
        "colab": {
          "base_uri": "https://localhost:8080/"
        },
        "outputId": "de6308cc-02dd-4d92-a529-9d15049d0ca7"
      },
      "execution_count": 112,
      "outputs": [
        {
          "output_type": "stream",
          "name": "stdout",
          "text": [
            "Looking in indexes: https://pypi.org/simple, https://us-python.pkg.dev/colab-wheels/public/simple/\n",
            "Requirement already satisfied: impyute in /usr/local/lib/python3.8/dist-packages (0.0.8)\n",
            "Requirement already satisfied: scipy in /usr/local/lib/python3.8/dist-packages (from impyute) (1.7.3)\n",
            "Requirement already satisfied: numpy in /usr/local/lib/python3.8/dist-packages (from impyute) (1.21.6)\n",
            "Requirement already satisfied: scikit-learn in /usr/local/lib/python3.8/dist-packages (from impyute) (1.0.2)\n",
            "Requirement already satisfied: threadpoolctl>=2.0.0 in /usr/local/lib/python3.8/dist-packages (from scikit-learn->impyute) (3.1.0)\n",
            "Requirement already satisfied: joblib>=0.11 in /usr/local/lib/python3.8/dist-packages (from scikit-learn->impyute) (1.2.0)\n"
          ]
        }
      ]
    },
    {
      "cell_type": "code",
      "source": [
        "t_start = time.time()\n",
        "for i in range(1,1001):\n",
        "  globals()[f'imputed_impy60_{i}'] = impy.em(globals()[f'Bodyfat60_{i}'].values.copy())\n",
        "  globals()[f'MSE_impy60_{i}'] = mean_squared_error(data, globals()[f'imputed_impy60_{i}'])\n",
        "t_end = time.time()\n",
        "t60_EM = (t_end- t_start)"
      ],
      "metadata": {
        "id": "S5MqfiI-7Jgr"
      },
      "execution_count": 113,
      "outputs": []
    },
    {
      "cell_type": "code",
      "source": [
        "t_start = time.time()\n",
        "mse_impy60_total = 0 \n",
        "MSE_impy60_1001 = 0\n",
        "for i in range(0,1001):\n",
        "  mse_impy60_total = mse_impy60_total + globals()[f'MSE_impy60_{i+1}']\n",
        "AMSE_Bodyfat60_impy = mse_impy60_total/1000\n",
        "print(f'AMSE_impy = {AMSE_Bodyfat60_impy}')\n",
        "t_end = time.time()\n",
        "print(f'เวลาที่ใช้ในการประมวลผล {t_end- t_start} วินาที')\n",
        "print(f'เวลาที่ใช้ในการประมวลผล {(t_end- t_start)/60} นาที')"
      ],
      "metadata": {
        "id": "YnvhFa8N7Jgr",
        "colab": {
          "base_uri": "https://localhost:8080/"
        },
        "outputId": "c3fd50ed-ca75-4b14-9e2e-336605ed3bbe"
      },
      "execution_count": 114,
      "outputs": [
        {
          "output_type": "stream",
          "name": "stdout",
          "text": [
            "AMSE_impy = 1.7880544454395755\n",
            "เวลาที่ใช้ในการประมวลผล 0.0014739036560058594 วินาที\n",
            "เวลาที่ใช้ในการประมวลผล 2.456506093343099e-05 นาที\n"
          ]
        }
      ]
    },
    {
      "cell_type": "markdown",
      "source": [
        "# AMSE"
      ],
      "metadata": {
        "id": "nV0j-yWXB3eA"
      }
    },
    {
      "cell_type": "code",
      "source": [
        "amse_value = {'Method':['MEAN','Miss Forest','KNN','MICE-LR','MICE-SVM','EM'],'10%':[AMSE_Bodyfat10_mean,AMSE_Bodyfat10_mf,AMSE_Bodyfat10_knn,AMSE_Bodyfat10_lr,AMSE_Bodyfat10_svm,AMSE_Bodyfat10_impy],\n",
        "      '20%':[AMSE_Bodyfat20_mean,AMSE_Bodyfat20_mf,AMSE_Bodyfat20_knn,AMSE_Bodyfat20_lr,AMSE_Bodyfat20_svm,AMSE_Bodyfat20_impy],\n",
        "      '30%':[AMSE_Bodyfat30_mean,AMSE_Bodyfat30_mf,AMSE_Bodyfat30_knn,AMSE_Bodyfat30_lr,AMSE_Bodyfat30_svm,AMSE_Bodyfat30_impy],\n",
        "      '40%':[AMSE_Bodyfat40_mean,AMSE_Bodyfat40_mf,AMSE_Bodyfat40_knn,AMSE_Bodyfat40_lr,AMSE_Bodyfat40_svm,AMSE_Bodyfat40_impy],\n",
        "      '50%':[AMSE_Bodyfat50_mean,AMSE_Bodyfat50_mf,AMSE_Bodyfat50_knn,AMSE_Bodyfat50_lr,AMSE_Bodyfat60_svm,AMSE_Bodyfat50_impy]\n",
        "      ,'60%':[AMSE_Bodyfat60_mean,AMSE_Bodyfat60_mf,AMSE_Bodyfat60_knn,AMSE_Bodyfat60_lr,AMSE_Bodyfat60_svm,AMSE_Bodyfat60_impy]}"
      ],
      "metadata": {
        "id": "xS-oKgz67Jgs"
      },
      "execution_count": 115,
      "outputs": []
    },
    {
      "cell_type": "code",
      "source": [
        "data_AMSE = pd.DataFrame.from_dict(amse_value)\n",
        "data_AMSE"
      ],
      "metadata": {
        "colab": {
          "base_uri": "https://localhost:8080/",
          "height": 0
        },
        "id": "_jjsUOPKB6QT",
        "outputId": "afa0586d-7b94-4aef-dae5-f8b73f335b9e"
      },
      "execution_count": 116,
      "outputs": [
        {
          "output_type": "execute_result",
          "data": {
            "text/plain": [
              "        Method       10%       20%       30%       40%       50%       60%\n",
              "0         MEAN  0.151324  0.181194  0.445434  0.606968  0.758303  0.908178\n",
              "1  Miss Forest  0.026682  0.069729  0.088792  0.131716  0.183525  0.251952\n",
              "2          KNN  0.123951  0.133462  0.380942  0.527265  0.671005  0.821188\n",
              "3      MICE-LR  0.059169  0.064569  0.208047  0.286571  0.399529  0.579015\n",
              "4     MICE-SVM  0.141485  0.147583  0.419981  0.575670  0.876299  0.876299\n",
              "5           EM  0.285966  0.338387  0.850541  1.164964  1.470468  1.788054"
            ],
            "text/html": [
              "\n",
              "  <div id=\"df-a7fa595d-1397-4c49-9a0a-67bf74f073f6\">\n",
              "    <div class=\"colab-df-container\">\n",
              "      <div>\n",
              "<style scoped>\n",
              "    .dataframe tbody tr th:only-of-type {\n",
              "        vertical-align: middle;\n",
              "    }\n",
              "\n",
              "    .dataframe tbody tr th {\n",
              "        vertical-align: top;\n",
              "    }\n",
              "\n",
              "    .dataframe thead th {\n",
              "        text-align: right;\n",
              "    }\n",
              "</style>\n",
              "<table border=\"1\" class=\"dataframe\">\n",
              "  <thead>\n",
              "    <tr style=\"text-align: right;\">\n",
              "      <th></th>\n",
              "      <th>Method</th>\n",
              "      <th>10%</th>\n",
              "      <th>20%</th>\n",
              "      <th>30%</th>\n",
              "      <th>40%</th>\n",
              "      <th>50%</th>\n",
              "      <th>60%</th>\n",
              "    </tr>\n",
              "  </thead>\n",
              "  <tbody>\n",
              "    <tr>\n",
              "      <th>0</th>\n",
              "      <td>MEAN</td>\n",
              "      <td>0.151324</td>\n",
              "      <td>0.181194</td>\n",
              "      <td>0.445434</td>\n",
              "      <td>0.606968</td>\n",
              "      <td>0.758303</td>\n",
              "      <td>0.908178</td>\n",
              "    </tr>\n",
              "    <tr>\n",
              "      <th>1</th>\n",
              "      <td>Miss Forest</td>\n",
              "      <td>0.026682</td>\n",
              "      <td>0.069729</td>\n",
              "      <td>0.088792</td>\n",
              "      <td>0.131716</td>\n",
              "      <td>0.183525</td>\n",
              "      <td>0.251952</td>\n",
              "    </tr>\n",
              "    <tr>\n",
              "      <th>2</th>\n",
              "      <td>KNN</td>\n",
              "      <td>0.123951</td>\n",
              "      <td>0.133462</td>\n",
              "      <td>0.380942</td>\n",
              "      <td>0.527265</td>\n",
              "      <td>0.671005</td>\n",
              "      <td>0.821188</td>\n",
              "    </tr>\n",
              "    <tr>\n",
              "      <th>3</th>\n",
              "      <td>MICE-LR</td>\n",
              "      <td>0.059169</td>\n",
              "      <td>0.064569</td>\n",
              "      <td>0.208047</td>\n",
              "      <td>0.286571</td>\n",
              "      <td>0.399529</td>\n",
              "      <td>0.579015</td>\n",
              "    </tr>\n",
              "    <tr>\n",
              "      <th>4</th>\n",
              "      <td>MICE-SVM</td>\n",
              "      <td>0.141485</td>\n",
              "      <td>0.147583</td>\n",
              "      <td>0.419981</td>\n",
              "      <td>0.575670</td>\n",
              "      <td>0.876299</td>\n",
              "      <td>0.876299</td>\n",
              "    </tr>\n",
              "    <tr>\n",
              "      <th>5</th>\n",
              "      <td>EM</td>\n",
              "      <td>0.285966</td>\n",
              "      <td>0.338387</td>\n",
              "      <td>0.850541</td>\n",
              "      <td>1.164964</td>\n",
              "      <td>1.470468</td>\n",
              "      <td>1.788054</td>\n",
              "    </tr>\n",
              "  </tbody>\n",
              "</table>\n",
              "</div>\n",
              "      <button class=\"colab-df-convert\" onclick=\"convertToInteractive('df-a7fa595d-1397-4c49-9a0a-67bf74f073f6')\"\n",
              "              title=\"Convert this dataframe to an interactive table.\"\n",
              "              style=\"display:none;\">\n",
              "        \n",
              "  <svg xmlns=\"http://www.w3.org/2000/svg\" height=\"24px\"viewBox=\"0 0 24 24\"\n",
              "       width=\"24px\">\n",
              "    <path d=\"M0 0h24v24H0V0z\" fill=\"none\"/>\n",
              "    <path d=\"M18.56 5.44l.94 2.06.94-2.06 2.06-.94-2.06-.94-.94-2.06-.94 2.06-2.06.94zm-11 1L8.5 8.5l.94-2.06 2.06-.94-2.06-.94L8.5 2.5l-.94 2.06-2.06.94zm10 10l.94 2.06.94-2.06 2.06-.94-2.06-.94-.94-2.06-.94 2.06-2.06.94z\"/><path d=\"M17.41 7.96l-1.37-1.37c-.4-.4-.92-.59-1.43-.59-.52 0-1.04.2-1.43.59L10.3 9.45l-7.72 7.72c-.78.78-.78 2.05 0 2.83L4 21.41c.39.39.9.59 1.41.59.51 0 1.02-.2 1.41-.59l7.78-7.78 2.81-2.81c.8-.78.8-2.07 0-2.86zM5.41 20L4 18.59l7.72-7.72 1.47 1.35L5.41 20z\"/>\n",
              "  </svg>\n",
              "      </button>\n",
              "      \n",
              "  <style>\n",
              "    .colab-df-container {\n",
              "      display:flex;\n",
              "      flex-wrap:wrap;\n",
              "      gap: 12px;\n",
              "    }\n",
              "\n",
              "    .colab-df-convert {\n",
              "      background-color: #E8F0FE;\n",
              "      border: none;\n",
              "      border-radius: 50%;\n",
              "      cursor: pointer;\n",
              "      display: none;\n",
              "      fill: #1967D2;\n",
              "      height: 32px;\n",
              "      padding: 0 0 0 0;\n",
              "      width: 32px;\n",
              "    }\n",
              "\n",
              "    .colab-df-convert:hover {\n",
              "      background-color: #E2EBFA;\n",
              "      box-shadow: 0px 1px 2px rgba(60, 64, 67, 0.3), 0px 1px 3px 1px rgba(60, 64, 67, 0.15);\n",
              "      fill: #174EA6;\n",
              "    }\n",
              "\n",
              "    [theme=dark] .colab-df-convert {\n",
              "      background-color: #3B4455;\n",
              "      fill: #D2E3FC;\n",
              "    }\n",
              "\n",
              "    [theme=dark] .colab-df-convert:hover {\n",
              "      background-color: #434B5C;\n",
              "      box-shadow: 0px 1px 3px 1px rgba(0, 0, 0, 0.15);\n",
              "      filter: drop-shadow(0px 1px 2px rgba(0, 0, 0, 0.3));\n",
              "      fill: #FFFFFF;\n",
              "    }\n",
              "  </style>\n",
              "\n",
              "      <script>\n",
              "        const buttonEl =\n",
              "          document.querySelector('#df-a7fa595d-1397-4c49-9a0a-67bf74f073f6 button.colab-df-convert');\n",
              "        buttonEl.style.display =\n",
              "          google.colab.kernel.accessAllowed ? 'block' : 'none';\n",
              "\n",
              "        async function convertToInteractive(key) {\n",
              "          const element = document.querySelector('#df-a7fa595d-1397-4c49-9a0a-67bf74f073f6');\n",
              "          const dataTable =\n",
              "            await google.colab.kernel.invokeFunction('convertToInteractive',\n",
              "                                                     [key], {});\n",
              "          if (!dataTable) return;\n",
              "\n",
              "          const docLinkHtml = 'Like what you see? Visit the ' +\n",
              "            '<a target=\"_blank\" href=https://colab.research.google.com/notebooks/data_table.ipynb>data table notebook</a>'\n",
              "            + ' to learn more about interactive tables.';\n",
              "          element.innerHTML = '';\n",
              "          dataTable['output_type'] = 'display_data';\n",
              "          await google.colab.output.renderOutput(dataTable, element);\n",
              "          const docLink = document.createElement('div');\n",
              "          docLink.innerHTML = docLinkHtml;\n",
              "          element.appendChild(docLink);\n",
              "        }\n",
              "      </script>\n",
              "    </div>\n",
              "  </div>\n",
              "  "
            ]
          },
          "metadata": {},
          "execution_count": 116
        }
      ]
    },
    {
      "cell_type": "markdown",
      "source": [
        "# เวลาทั้งหมดในการรัน"
      ],
      "metadata": {
        "id": "_zhlMnVr3Gy3"
      }
    },
    {
      "cell_type": "markdown",
      "source": [
        "## second time"
      ],
      "metadata": {
        "id": "O3YvBlIcDTen"
      }
    },
    {
      "cell_type": "code",
      "source": [
        "data_t_sec = {'Method':['MEAN','Miss Forest','KNN','MICE-LR','MICE-SVM','EM'],'10%':[t10_MEAN,t10_MF,t10_KNN,t10_LR,t10_SVM,t10_EM],\n",
        "      '20%':[t20_MEAN,t20_MF,t20_KNN,t20_LR,t20_SVM,t20_EM],'30%':[t30_MEAN,t30_MF,t30_KNN,t30_LR,t30_SVM,t30_EM],'40%':[t40_MEAN,t40_MF,t40_KNN,t40_LR,t40_SVM,t40_EM],\n",
        "      '50%':[t50_MEAN,t50_MF,t50_KNN,t50_LR,t50_SVM,t50_EM],'60%':[t60_MEAN,t60_MF,t60_KNN,t60_LR,t60_SVM,t60_EM]}"
      ],
      "metadata": {
        "id": "azaqLAHf3JTO"
      },
      "execution_count": 117,
      "outputs": []
    },
    {
      "cell_type": "code",
      "source": [
        "data_second = pd.DataFrame.from_dict(data_t_sec)\n",
        "data_second"
      ],
      "metadata": {
        "id": "1E7JBoF7DXNZ",
        "colab": {
          "base_uri": "https://localhost:8080/",
          "height": 237
        },
        "outputId": "b275a34a-5166-41b3-cd49-160b52146482"
      },
      "execution_count": 118,
      "outputs": [
        {
          "output_type": "execute_result",
          "data": {
            "text/plain": [
              "        Method         10%         20%         30%         40%         50%  \\\n",
              "0         MEAN    4.028387    4.189998    3.903642    4.158183    3.835183   \n",
              "1  Miss Forest  734.693894  722.083782  710.748946  686.536190  675.643667   \n",
              "2          KNN    4.756705    4.940024    5.182004    5.351450   10.913246   \n",
              "3      MICE-LR   53.156956   54.885220   55.575997   53.206719   51.877018   \n",
              "4     MICE-SVM  117.410403  118.385197  118.527749  116.423071  114.471038   \n",
              "5           EM    6.867109   11.663639   19.523803   23.459834   28.547025   \n",
              "\n",
              "          60%  \n",
              "0    3.997441  \n",
              "1  667.335534  \n",
              "2   12.054137  \n",
              "3   53.441228  \n",
              "4  116.582286  \n",
              "5   33.504969  "
            ],
            "text/html": [
              "\n",
              "  <div id=\"df-c15a8c4d-564a-4fe3-bb1d-207fda02c277\">\n",
              "    <div class=\"colab-df-container\">\n",
              "      <div>\n",
              "<style scoped>\n",
              "    .dataframe tbody tr th:only-of-type {\n",
              "        vertical-align: middle;\n",
              "    }\n",
              "\n",
              "    .dataframe tbody tr th {\n",
              "        vertical-align: top;\n",
              "    }\n",
              "\n",
              "    .dataframe thead th {\n",
              "        text-align: right;\n",
              "    }\n",
              "</style>\n",
              "<table border=\"1\" class=\"dataframe\">\n",
              "  <thead>\n",
              "    <tr style=\"text-align: right;\">\n",
              "      <th></th>\n",
              "      <th>Method</th>\n",
              "      <th>10%</th>\n",
              "      <th>20%</th>\n",
              "      <th>30%</th>\n",
              "      <th>40%</th>\n",
              "      <th>50%</th>\n",
              "      <th>60%</th>\n",
              "    </tr>\n",
              "  </thead>\n",
              "  <tbody>\n",
              "    <tr>\n",
              "      <th>0</th>\n",
              "      <td>MEAN</td>\n",
              "      <td>4.028387</td>\n",
              "      <td>4.189998</td>\n",
              "      <td>3.903642</td>\n",
              "      <td>4.158183</td>\n",
              "      <td>3.835183</td>\n",
              "      <td>3.997441</td>\n",
              "    </tr>\n",
              "    <tr>\n",
              "      <th>1</th>\n",
              "      <td>Miss Forest</td>\n",
              "      <td>734.693894</td>\n",
              "      <td>722.083782</td>\n",
              "      <td>710.748946</td>\n",
              "      <td>686.536190</td>\n",
              "      <td>675.643667</td>\n",
              "      <td>667.335534</td>\n",
              "    </tr>\n",
              "    <tr>\n",
              "      <th>2</th>\n",
              "      <td>KNN</td>\n",
              "      <td>4.756705</td>\n",
              "      <td>4.940024</td>\n",
              "      <td>5.182004</td>\n",
              "      <td>5.351450</td>\n",
              "      <td>10.913246</td>\n",
              "      <td>12.054137</td>\n",
              "    </tr>\n",
              "    <tr>\n",
              "      <th>3</th>\n",
              "      <td>MICE-LR</td>\n",
              "      <td>53.156956</td>\n",
              "      <td>54.885220</td>\n",
              "      <td>55.575997</td>\n",
              "      <td>53.206719</td>\n",
              "      <td>51.877018</td>\n",
              "      <td>53.441228</td>\n",
              "    </tr>\n",
              "    <tr>\n",
              "      <th>4</th>\n",
              "      <td>MICE-SVM</td>\n",
              "      <td>117.410403</td>\n",
              "      <td>118.385197</td>\n",
              "      <td>118.527749</td>\n",
              "      <td>116.423071</td>\n",
              "      <td>114.471038</td>\n",
              "      <td>116.582286</td>\n",
              "    </tr>\n",
              "    <tr>\n",
              "      <th>5</th>\n",
              "      <td>EM</td>\n",
              "      <td>6.867109</td>\n",
              "      <td>11.663639</td>\n",
              "      <td>19.523803</td>\n",
              "      <td>23.459834</td>\n",
              "      <td>28.547025</td>\n",
              "      <td>33.504969</td>\n",
              "    </tr>\n",
              "  </tbody>\n",
              "</table>\n",
              "</div>\n",
              "      <button class=\"colab-df-convert\" onclick=\"convertToInteractive('df-c15a8c4d-564a-4fe3-bb1d-207fda02c277')\"\n",
              "              title=\"Convert this dataframe to an interactive table.\"\n",
              "              style=\"display:none;\">\n",
              "        \n",
              "  <svg xmlns=\"http://www.w3.org/2000/svg\" height=\"24px\"viewBox=\"0 0 24 24\"\n",
              "       width=\"24px\">\n",
              "    <path d=\"M0 0h24v24H0V0z\" fill=\"none\"/>\n",
              "    <path d=\"M18.56 5.44l.94 2.06.94-2.06 2.06-.94-2.06-.94-.94-2.06-.94 2.06-2.06.94zm-11 1L8.5 8.5l.94-2.06 2.06-.94-2.06-.94L8.5 2.5l-.94 2.06-2.06.94zm10 10l.94 2.06.94-2.06 2.06-.94-2.06-.94-.94-2.06-.94 2.06-2.06.94z\"/><path d=\"M17.41 7.96l-1.37-1.37c-.4-.4-.92-.59-1.43-.59-.52 0-1.04.2-1.43.59L10.3 9.45l-7.72 7.72c-.78.78-.78 2.05 0 2.83L4 21.41c.39.39.9.59 1.41.59.51 0 1.02-.2 1.41-.59l7.78-7.78 2.81-2.81c.8-.78.8-2.07 0-2.86zM5.41 20L4 18.59l7.72-7.72 1.47 1.35L5.41 20z\"/>\n",
              "  </svg>\n",
              "      </button>\n",
              "      \n",
              "  <style>\n",
              "    .colab-df-container {\n",
              "      display:flex;\n",
              "      flex-wrap:wrap;\n",
              "      gap: 12px;\n",
              "    }\n",
              "\n",
              "    .colab-df-convert {\n",
              "      background-color: #E8F0FE;\n",
              "      border: none;\n",
              "      border-radius: 50%;\n",
              "      cursor: pointer;\n",
              "      display: none;\n",
              "      fill: #1967D2;\n",
              "      height: 32px;\n",
              "      padding: 0 0 0 0;\n",
              "      width: 32px;\n",
              "    }\n",
              "\n",
              "    .colab-df-convert:hover {\n",
              "      background-color: #E2EBFA;\n",
              "      box-shadow: 0px 1px 2px rgba(60, 64, 67, 0.3), 0px 1px 3px 1px rgba(60, 64, 67, 0.15);\n",
              "      fill: #174EA6;\n",
              "    }\n",
              "\n",
              "    [theme=dark] .colab-df-convert {\n",
              "      background-color: #3B4455;\n",
              "      fill: #D2E3FC;\n",
              "    }\n",
              "\n",
              "    [theme=dark] .colab-df-convert:hover {\n",
              "      background-color: #434B5C;\n",
              "      box-shadow: 0px 1px 3px 1px rgba(0, 0, 0, 0.15);\n",
              "      filter: drop-shadow(0px 1px 2px rgba(0, 0, 0, 0.3));\n",
              "      fill: #FFFFFF;\n",
              "    }\n",
              "  </style>\n",
              "\n",
              "      <script>\n",
              "        const buttonEl =\n",
              "          document.querySelector('#df-c15a8c4d-564a-4fe3-bb1d-207fda02c277 button.colab-df-convert');\n",
              "        buttonEl.style.display =\n",
              "          google.colab.kernel.accessAllowed ? 'block' : 'none';\n",
              "\n",
              "        async function convertToInteractive(key) {\n",
              "          const element = document.querySelector('#df-c15a8c4d-564a-4fe3-bb1d-207fda02c277');\n",
              "          const dataTable =\n",
              "            await google.colab.kernel.invokeFunction('convertToInteractive',\n",
              "                                                     [key], {});\n",
              "          if (!dataTable) return;\n",
              "\n",
              "          const docLinkHtml = 'Like what you see? Visit the ' +\n",
              "            '<a target=\"_blank\" href=https://colab.research.google.com/notebooks/data_table.ipynb>data table notebook</a>'\n",
              "            + ' to learn more about interactive tables.';\n",
              "          element.innerHTML = '';\n",
              "          dataTable['output_type'] = 'display_data';\n",
              "          await google.colab.output.renderOutput(dataTable, element);\n",
              "          const docLink = document.createElement('div');\n",
              "          docLink.innerHTML = docLinkHtml;\n",
              "          element.appendChild(docLink);\n",
              "        }\n",
              "      </script>\n",
              "    </div>\n",
              "  </div>\n",
              "  "
            ]
          },
          "metadata": {},
          "execution_count": 118
        }
      ]
    },
    {
      "cell_type": "markdown",
      "source": [
        "## minutes"
      ],
      "metadata": {
        "id": "4I2gjmMvl9QK"
      }
    },
    {
      "cell_type": "code",
      "source": [
        "data_t_min = {'Method':['MEAN','Miss Forest','KNN','MICE-LR','MICE-SVM','EM'],'10%':[t10_MEAN/60,t10_MF/60,t10_KNN/60,t10_LR/60,t10_SVM/60,t10_EM/60],\n",
        "      '20%':[t20_MEAN/60,t20_MF/60,t20_KNN/60,t20_LR/60,t20_SVM/60,t20_EM/60],'30%':[t30_MEAN/60,t30_MF/60,t30_KNN/60,t30_LR/60,t30_SVM/60,t30_EM/60]\n",
        "      ,'40%':[t40_MEAN/60,t40_MF/60,t40_KNN/60,t40_LR/60,t40_SVM/60,t40_EM/60],'50%':[t50_MEAN/60,t50_MF/60,t50_KNN/60,t50_LR/60,t50_SVM/60,t50_EM/60],\n",
        "      '60%':[t60_MEAN/60,t60_MF/60,t60_KNN/60,t60_LR/60,t60_SVM/60,t60_EM/60]}\n",
        "     "
      ],
      "metadata": {
        "id": "sAG1_iMfl7Rp"
      },
      "execution_count": 119,
      "outputs": []
    },
    {
      "cell_type": "code",
      "source": [
        "data_minutes = pd.DataFrame.from_dict(data_t_min)\n",
        "data_minutes\n",
        "     "
      ],
      "metadata": {
        "id": "A2-STCRyl7uS",
        "colab": {
          "base_uri": "https://localhost:8080/",
          "height": 237
        },
        "outputId": "2cd31d30-3a31-4785-fbdf-60b83637425a"
      },
      "execution_count": 120,
      "outputs": [
        {
          "output_type": "execute_result",
          "data": {
            "text/plain": [
              "        Method        10%        20%        30%        40%        50%  \\\n",
              "0         MEAN   0.067140   0.069833   0.065061   0.069303   0.063920   \n",
              "1  Miss Forest  12.244898  12.034730  11.845816  11.442270  11.260728   \n",
              "2          KNN   0.079278   0.082334   0.086367   0.089191   0.181887   \n",
              "3      MICE-LR   0.885949   0.914754   0.926267   0.886779   0.864617   \n",
              "4     MICE-SVM   1.956840   1.973087   1.975462   1.940385   1.907851   \n",
              "5           EM   0.114452   0.194394   0.325397   0.390997   0.475784   \n",
              "\n",
              "         60%  \n",
              "0   0.066624  \n",
              "1  11.122259  \n",
              "2   0.200902  \n",
              "3   0.890687  \n",
              "4   1.943038  \n",
              "5   0.558416  "
            ],
            "text/html": [
              "\n",
              "  <div id=\"df-0f327cfd-a9fe-47e5-8785-1ca4d8fb586f\">\n",
              "    <div class=\"colab-df-container\">\n",
              "      <div>\n",
              "<style scoped>\n",
              "    .dataframe tbody tr th:only-of-type {\n",
              "        vertical-align: middle;\n",
              "    }\n",
              "\n",
              "    .dataframe tbody tr th {\n",
              "        vertical-align: top;\n",
              "    }\n",
              "\n",
              "    .dataframe thead th {\n",
              "        text-align: right;\n",
              "    }\n",
              "</style>\n",
              "<table border=\"1\" class=\"dataframe\">\n",
              "  <thead>\n",
              "    <tr style=\"text-align: right;\">\n",
              "      <th></th>\n",
              "      <th>Method</th>\n",
              "      <th>10%</th>\n",
              "      <th>20%</th>\n",
              "      <th>30%</th>\n",
              "      <th>40%</th>\n",
              "      <th>50%</th>\n",
              "      <th>60%</th>\n",
              "    </tr>\n",
              "  </thead>\n",
              "  <tbody>\n",
              "    <tr>\n",
              "      <th>0</th>\n",
              "      <td>MEAN</td>\n",
              "      <td>0.067140</td>\n",
              "      <td>0.069833</td>\n",
              "      <td>0.065061</td>\n",
              "      <td>0.069303</td>\n",
              "      <td>0.063920</td>\n",
              "      <td>0.066624</td>\n",
              "    </tr>\n",
              "    <tr>\n",
              "      <th>1</th>\n",
              "      <td>Miss Forest</td>\n",
              "      <td>12.244898</td>\n",
              "      <td>12.034730</td>\n",
              "      <td>11.845816</td>\n",
              "      <td>11.442270</td>\n",
              "      <td>11.260728</td>\n",
              "      <td>11.122259</td>\n",
              "    </tr>\n",
              "    <tr>\n",
              "      <th>2</th>\n",
              "      <td>KNN</td>\n",
              "      <td>0.079278</td>\n",
              "      <td>0.082334</td>\n",
              "      <td>0.086367</td>\n",
              "      <td>0.089191</td>\n",
              "      <td>0.181887</td>\n",
              "      <td>0.200902</td>\n",
              "    </tr>\n",
              "    <tr>\n",
              "      <th>3</th>\n",
              "      <td>MICE-LR</td>\n",
              "      <td>0.885949</td>\n",
              "      <td>0.914754</td>\n",
              "      <td>0.926267</td>\n",
              "      <td>0.886779</td>\n",
              "      <td>0.864617</td>\n",
              "      <td>0.890687</td>\n",
              "    </tr>\n",
              "    <tr>\n",
              "      <th>4</th>\n",
              "      <td>MICE-SVM</td>\n",
              "      <td>1.956840</td>\n",
              "      <td>1.973087</td>\n",
              "      <td>1.975462</td>\n",
              "      <td>1.940385</td>\n",
              "      <td>1.907851</td>\n",
              "      <td>1.943038</td>\n",
              "    </tr>\n",
              "    <tr>\n",
              "      <th>5</th>\n",
              "      <td>EM</td>\n",
              "      <td>0.114452</td>\n",
              "      <td>0.194394</td>\n",
              "      <td>0.325397</td>\n",
              "      <td>0.390997</td>\n",
              "      <td>0.475784</td>\n",
              "      <td>0.558416</td>\n",
              "    </tr>\n",
              "  </tbody>\n",
              "</table>\n",
              "</div>\n",
              "      <button class=\"colab-df-convert\" onclick=\"convertToInteractive('df-0f327cfd-a9fe-47e5-8785-1ca4d8fb586f')\"\n",
              "              title=\"Convert this dataframe to an interactive table.\"\n",
              "              style=\"display:none;\">\n",
              "        \n",
              "  <svg xmlns=\"http://www.w3.org/2000/svg\" height=\"24px\"viewBox=\"0 0 24 24\"\n",
              "       width=\"24px\">\n",
              "    <path d=\"M0 0h24v24H0V0z\" fill=\"none\"/>\n",
              "    <path d=\"M18.56 5.44l.94 2.06.94-2.06 2.06-.94-2.06-.94-.94-2.06-.94 2.06-2.06.94zm-11 1L8.5 8.5l.94-2.06 2.06-.94-2.06-.94L8.5 2.5l-.94 2.06-2.06.94zm10 10l.94 2.06.94-2.06 2.06-.94-2.06-.94-.94-2.06-.94 2.06-2.06.94z\"/><path d=\"M17.41 7.96l-1.37-1.37c-.4-.4-.92-.59-1.43-.59-.52 0-1.04.2-1.43.59L10.3 9.45l-7.72 7.72c-.78.78-.78 2.05 0 2.83L4 21.41c.39.39.9.59 1.41.59.51 0 1.02-.2 1.41-.59l7.78-7.78 2.81-2.81c.8-.78.8-2.07 0-2.86zM5.41 20L4 18.59l7.72-7.72 1.47 1.35L5.41 20z\"/>\n",
              "  </svg>\n",
              "      </button>\n",
              "      \n",
              "  <style>\n",
              "    .colab-df-container {\n",
              "      display:flex;\n",
              "      flex-wrap:wrap;\n",
              "      gap: 12px;\n",
              "    }\n",
              "\n",
              "    .colab-df-convert {\n",
              "      background-color: #E8F0FE;\n",
              "      border: none;\n",
              "      border-radius: 50%;\n",
              "      cursor: pointer;\n",
              "      display: none;\n",
              "      fill: #1967D2;\n",
              "      height: 32px;\n",
              "      padding: 0 0 0 0;\n",
              "      width: 32px;\n",
              "    }\n",
              "\n",
              "    .colab-df-convert:hover {\n",
              "      background-color: #E2EBFA;\n",
              "      box-shadow: 0px 1px 2px rgba(60, 64, 67, 0.3), 0px 1px 3px 1px rgba(60, 64, 67, 0.15);\n",
              "      fill: #174EA6;\n",
              "    }\n",
              "\n",
              "    [theme=dark] .colab-df-convert {\n",
              "      background-color: #3B4455;\n",
              "      fill: #D2E3FC;\n",
              "    }\n",
              "\n",
              "    [theme=dark] .colab-df-convert:hover {\n",
              "      background-color: #434B5C;\n",
              "      box-shadow: 0px 1px 3px 1px rgba(0, 0, 0, 0.15);\n",
              "      filter: drop-shadow(0px 1px 2px rgba(0, 0, 0, 0.3));\n",
              "      fill: #FFFFFF;\n",
              "    }\n",
              "  </style>\n",
              "\n",
              "      <script>\n",
              "        const buttonEl =\n",
              "          document.querySelector('#df-0f327cfd-a9fe-47e5-8785-1ca4d8fb586f button.colab-df-convert');\n",
              "        buttonEl.style.display =\n",
              "          google.colab.kernel.accessAllowed ? 'block' : 'none';\n",
              "\n",
              "        async function convertToInteractive(key) {\n",
              "          const element = document.querySelector('#df-0f327cfd-a9fe-47e5-8785-1ca4d8fb586f');\n",
              "          const dataTable =\n",
              "            await google.colab.kernel.invokeFunction('convertToInteractive',\n",
              "                                                     [key], {});\n",
              "          if (!dataTable) return;\n",
              "\n",
              "          const docLinkHtml = 'Like what you see? Visit the ' +\n",
              "            '<a target=\"_blank\" href=https://colab.research.google.com/notebooks/data_table.ipynb>data table notebook</a>'\n",
              "            + ' to learn more about interactive tables.';\n",
              "          element.innerHTML = '';\n",
              "          dataTable['output_type'] = 'display_data';\n",
              "          await google.colab.output.renderOutput(dataTable, element);\n",
              "          const docLink = document.createElement('div');\n",
              "          docLink.innerHTML = docLinkHtml;\n",
              "          element.appendChild(docLink);\n",
              "        }\n",
              "      </script>\n",
              "    </div>\n",
              "  </div>\n",
              "  "
            ]
          },
          "metadata": {},
          "execution_count": 120
        }
      ]
    }
  ]
}