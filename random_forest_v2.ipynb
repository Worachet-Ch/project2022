{
  "cells": [
    {
      "cell_type": "markdown",
      "metadata": {
        "id": "view-in-github",
        "colab_type": "text"
      },
      "source": [
        "<a href=\"https://colab.research.google.com/github/Worachet-Ch/project2022/blob/main/random_forest_v2.ipynb\" target=\"_parent\"><img src=\"https://colab.research.google.com/assets/colab-badge.svg\" alt=\"Open In Colab\"/></a>"
      ]
    },
    {
      "cell_type": "code",
      "execution_count": 2,
      "metadata": {
        "colab": {
          "base_uri": "https://localhost:8080/"
        },
        "id": "r9HYAS3DhijZ",
        "outputId": "890c9ab8-3d38-44aa-a609-b1e1445ae733"
      },
      "outputs": [
        {
          "output_type": "stream",
          "name": "stdout",
          "text": [
            "Mounted at /content/drive\n"
          ]
        }
      ],
      "source": [
        "import pandas as pd\n",
        "import os\n",
        "from google.colab import drive #เชื่อม Google drive\n",
        "drive.mount('/content/drive')\n",
        "path = '/content/drive/My Drive/project' #เข้า drive\n",
        "data1 = pd.read_csv(os.path.join(path,'df_1.csv'))"
      ]
    },
    {
      "cell_type": "code",
      "execution_count": 3,
      "metadata": {
        "id": "QMf6mEULf8Gh"
      },
      "outputs": [],
      "source": [
        "from sklearn import metrics\n",
        "from sklearn.preprocessing import MinMaxScaler\n",
        "from sklearn.model_selection import train_test_split\n",
        "from sklearn.ensemble import RandomForestRegressor\n",
        "from sklearn import metrics\n",
        "import matplotlib.pyplot as plt\n",
        "import seaborn as sns"
      ]
    },
    {
      "cell_type": "code",
      "execution_count": 4,
      "metadata": {
        "colab": {
          "base_uri": "https://localhost:8080/",
          "height": 519
        },
        "id": "4DqmyJG-ht7w",
        "outputId": "4a686680-3e80-4719-f194-4a607f8f2ab2"
      },
      "outputs": [
        {
          "output_type": "stream",
          "name": "stderr",
          "text": [
            "<ipython-input-4-f170cadba2e7>:1: FutureWarning: In a future version of pandas all arguments of DataFrame.drop except for the argument 'labels' will be keyword-only\n",
            "  data1.drop('Unnamed: 0',1,inplace = True)\n"
          ]
        },
        {
          "output_type": "execute_result",
          "data": {
            "text/plain": [
              "     Sex  AgeSYear     Weight      Height    BMI  Systolic  Diastolic  \\\n",
              "0    2.0      58.0  47.200000  156.000000  19.40   112.000      64.00   \n",
              "1    2.0      57.0  47.400000  153.000000  20.20   114.000      75.00   \n",
              "2    2.0      24.0  53.200000  157.000000  21.60   103.000      69.00   \n",
              "3    2.0      62.0  54.400000  165.000000  20.00    95.000      75.00   \n",
              "4    2.0      86.0  49.000000  154.000000  20.70   129.000      79.00   \n",
              "..   ...       ...        ...         ...    ...       ...        ...   \n",
              "417  2.0      25.0  47.000000  165.000000  17.30   104.000      63.00   \n",
              "418  2.0      31.0  72.200000  168.000000  25.60   123.000      89.00   \n",
              "419  2.0      32.0  54.500000  158.466667  21.68   113.160      71.83   \n",
              "420  1.0      29.0  63.073333  168.866667  22.04   108.465      71.96   \n",
              "421  2.0      31.0  58.066667  160.200000  22.60   112.810      72.72   \n",
              "\n",
              "     HeartRate     SMM  Fat Mass  ...  Uric Acid  Cholesterol  Triglyceride  \\\n",
              "0        70.00  19.741    13.631  ...        4.8        180.0          97.0   \n",
              "1        69.00  19.300    12.500  ...        5.0        176.0          51.0   \n",
              "2        78.00  21.300    14.600  ...        5.2        159.0          45.0   \n",
              "3        83.00  21.600    15.200  ...        4.1        230.0          94.0   \n",
              "4        83.00  19.907    15.369  ...        5.4        183.0          86.0   \n",
              "..         ...     ...       ...  ...        ...          ...           ...   \n",
              "417      89.00  20.387    12.852  ...        4.8        232.0          36.0   \n",
              "418      69.00  25.451    18.258  ...        6.1        187.0          49.0   \n",
              "419      72.30  22.707    21.599  ...        5.1        222.0          58.0   \n",
              "420      83.95  27.607    20.258  ...        6.8        140.0          92.0   \n",
              "421      74.41  23.020    22.436  ...        4.0        243.0         161.0   \n",
              "\n",
              "     HDL-C    LDL   AST   ALT  Alkaline Phos     HbA1c  telomere length (kb)   \n",
              "0     62.0   98.0  25.0  32.0           40.0  5.800000                   7.30  \n",
              "1     72.0   94.0  16.0  16.0           62.0  5.100000                   6.36  \n",
              "2     52.0   98.0  13.0  17.0           50.0  5.400000                   9.71  \n",
              "3     61.0  151.0  18.0  31.0           76.0  5.600000                   6.17  \n",
              "4     39.0  127.0  12.0  22.0           82.0  6.200000                   4.55  \n",
              "..     ...    ...   ...   ...            ...       ...                    ...  \n",
              "417   96.0  128.0  18.0  12.0           46.0  5.393333                   8.98  \n",
              "418   51.0  127.0  21.0  24.0           71.0  5.186667                   8.23  \n",
              "419   79.0  132.0  17.0  10.0           34.0  5.486667                   8.79  \n",
              "420   48.0   73.0  31.0  75.0           69.0  4.973333                   8.93  \n",
              "421   87.0  124.0  24.0  11.0           46.0  6.086667                   7.92  \n",
              "\n",
              "[422 rows x 27 columns]"
            ],
            "text/html": [
              "\n",
              "  <div id=\"df-7deed4b7-644d-429b-9590-6cda26871014\">\n",
              "    <div class=\"colab-df-container\">\n",
              "      <div>\n",
              "<style scoped>\n",
              "    .dataframe tbody tr th:only-of-type {\n",
              "        vertical-align: middle;\n",
              "    }\n",
              "\n",
              "    .dataframe tbody tr th {\n",
              "        vertical-align: top;\n",
              "    }\n",
              "\n",
              "    .dataframe thead th {\n",
              "        text-align: right;\n",
              "    }\n",
              "</style>\n",
              "<table border=\"1\" class=\"dataframe\">\n",
              "  <thead>\n",
              "    <tr style=\"text-align: right;\">\n",
              "      <th></th>\n",
              "      <th>Sex</th>\n",
              "      <th>AgeSYear</th>\n",
              "      <th>Weight</th>\n",
              "      <th>Height</th>\n",
              "      <th>BMI</th>\n",
              "      <th>Systolic</th>\n",
              "      <th>Diastolic</th>\n",
              "      <th>HeartRate</th>\n",
              "      <th>SMM</th>\n",
              "      <th>Fat Mass</th>\n",
              "      <th>...</th>\n",
              "      <th>Uric Acid</th>\n",
              "      <th>Cholesterol</th>\n",
              "      <th>Triglyceride</th>\n",
              "      <th>HDL-C</th>\n",
              "      <th>LDL</th>\n",
              "      <th>AST</th>\n",
              "      <th>ALT</th>\n",
              "      <th>Alkaline Phos</th>\n",
              "      <th>HbA1c</th>\n",
              "      <th>telomere length (kb)</th>\n",
              "    </tr>\n",
              "  </thead>\n",
              "  <tbody>\n",
              "    <tr>\n",
              "      <th>0</th>\n",
              "      <td>2.0</td>\n",
              "      <td>58.0</td>\n",
              "      <td>47.200000</td>\n",
              "      <td>156.000000</td>\n",
              "      <td>19.40</td>\n",
              "      <td>112.000</td>\n",
              "      <td>64.00</td>\n",
              "      <td>70.00</td>\n",
              "      <td>19.741</td>\n",
              "      <td>13.631</td>\n",
              "      <td>...</td>\n",
              "      <td>4.8</td>\n",
              "      <td>180.0</td>\n",
              "      <td>97.0</td>\n",
              "      <td>62.0</td>\n",
              "      <td>98.0</td>\n",
              "      <td>25.0</td>\n",
              "      <td>32.0</td>\n",
              "      <td>40.0</td>\n",
              "      <td>5.800000</td>\n",
              "      <td>7.30</td>\n",
              "    </tr>\n",
              "    <tr>\n",
              "      <th>1</th>\n",
              "      <td>2.0</td>\n",
              "      <td>57.0</td>\n",
              "      <td>47.400000</td>\n",
              "      <td>153.000000</td>\n",
              "      <td>20.20</td>\n",
              "      <td>114.000</td>\n",
              "      <td>75.00</td>\n",
              "      <td>69.00</td>\n",
              "      <td>19.300</td>\n",
              "      <td>12.500</td>\n",
              "      <td>...</td>\n",
              "      <td>5.0</td>\n",
              "      <td>176.0</td>\n",
              "      <td>51.0</td>\n",
              "      <td>72.0</td>\n",
              "      <td>94.0</td>\n",
              "      <td>16.0</td>\n",
              "      <td>16.0</td>\n",
              "      <td>62.0</td>\n",
              "      <td>5.100000</td>\n",
              "      <td>6.36</td>\n",
              "    </tr>\n",
              "    <tr>\n",
              "      <th>2</th>\n",
              "      <td>2.0</td>\n",
              "      <td>24.0</td>\n",
              "      <td>53.200000</td>\n",
              "      <td>157.000000</td>\n",
              "      <td>21.60</td>\n",
              "      <td>103.000</td>\n",
              "      <td>69.00</td>\n",
              "      <td>78.00</td>\n",
              "      <td>21.300</td>\n",
              "      <td>14.600</td>\n",
              "      <td>...</td>\n",
              "      <td>5.2</td>\n",
              "      <td>159.0</td>\n",
              "      <td>45.0</td>\n",
              "      <td>52.0</td>\n",
              "      <td>98.0</td>\n",
              "      <td>13.0</td>\n",
              "      <td>17.0</td>\n",
              "      <td>50.0</td>\n",
              "      <td>5.400000</td>\n",
              "      <td>9.71</td>\n",
              "    </tr>\n",
              "    <tr>\n",
              "      <th>3</th>\n",
              "      <td>2.0</td>\n",
              "      <td>62.0</td>\n",
              "      <td>54.400000</td>\n",
              "      <td>165.000000</td>\n",
              "      <td>20.00</td>\n",
              "      <td>95.000</td>\n",
              "      <td>75.00</td>\n",
              "      <td>83.00</td>\n",
              "      <td>21.600</td>\n",
              "      <td>15.200</td>\n",
              "      <td>...</td>\n",
              "      <td>4.1</td>\n",
              "      <td>230.0</td>\n",
              "      <td>94.0</td>\n",
              "      <td>61.0</td>\n",
              "      <td>151.0</td>\n",
              "      <td>18.0</td>\n",
              "      <td>31.0</td>\n",
              "      <td>76.0</td>\n",
              "      <td>5.600000</td>\n",
              "      <td>6.17</td>\n",
              "    </tr>\n",
              "    <tr>\n",
              "      <th>4</th>\n",
              "      <td>2.0</td>\n",
              "      <td>86.0</td>\n",
              "      <td>49.000000</td>\n",
              "      <td>154.000000</td>\n",
              "      <td>20.70</td>\n",
              "      <td>129.000</td>\n",
              "      <td>79.00</td>\n",
              "      <td>83.00</td>\n",
              "      <td>19.907</td>\n",
              "      <td>15.369</td>\n",
              "      <td>...</td>\n",
              "      <td>5.4</td>\n",
              "      <td>183.0</td>\n",
              "      <td>86.0</td>\n",
              "      <td>39.0</td>\n",
              "      <td>127.0</td>\n",
              "      <td>12.0</td>\n",
              "      <td>22.0</td>\n",
              "      <td>82.0</td>\n",
              "      <td>6.200000</td>\n",
              "      <td>4.55</td>\n",
              "    </tr>\n",
              "    <tr>\n",
              "      <th>...</th>\n",
              "      <td>...</td>\n",
              "      <td>...</td>\n",
              "      <td>...</td>\n",
              "      <td>...</td>\n",
              "      <td>...</td>\n",
              "      <td>...</td>\n",
              "      <td>...</td>\n",
              "      <td>...</td>\n",
              "      <td>...</td>\n",
              "      <td>...</td>\n",
              "      <td>...</td>\n",
              "      <td>...</td>\n",
              "      <td>...</td>\n",
              "      <td>...</td>\n",
              "      <td>...</td>\n",
              "      <td>...</td>\n",
              "      <td>...</td>\n",
              "      <td>...</td>\n",
              "      <td>...</td>\n",
              "      <td>...</td>\n",
              "      <td>...</td>\n",
              "    </tr>\n",
              "    <tr>\n",
              "      <th>417</th>\n",
              "      <td>2.0</td>\n",
              "      <td>25.0</td>\n",
              "      <td>47.000000</td>\n",
              "      <td>165.000000</td>\n",
              "      <td>17.30</td>\n",
              "      <td>104.000</td>\n",
              "      <td>63.00</td>\n",
              "      <td>89.00</td>\n",
              "      <td>20.387</td>\n",
              "      <td>12.852</td>\n",
              "      <td>...</td>\n",
              "      <td>4.8</td>\n",
              "      <td>232.0</td>\n",
              "      <td>36.0</td>\n",
              "      <td>96.0</td>\n",
              "      <td>128.0</td>\n",
              "      <td>18.0</td>\n",
              "      <td>12.0</td>\n",
              "      <td>46.0</td>\n",
              "      <td>5.393333</td>\n",
              "      <td>8.98</td>\n",
              "    </tr>\n",
              "    <tr>\n",
              "      <th>418</th>\n",
              "      <td>2.0</td>\n",
              "      <td>31.0</td>\n",
              "      <td>72.200000</td>\n",
              "      <td>168.000000</td>\n",
              "      <td>25.60</td>\n",
              "      <td>123.000</td>\n",
              "      <td>89.00</td>\n",
              "      <td>69.00</td>\n",
              "      <td>25.451</td>\n",
              "      <td>18.258</td>\n",
              "      <td>...</td>\n",
              "      <td>6.1</td>\n",
              "      <td>187.0</td>\n",
              "      <td>49.0</td>\n",
              "      <td>51.0</td>\n",
              "      <td>127.0</td>\n",
              "      <td>21.0</td>\n",
              "      <td>24.0</td>\n",
              "      <td>71.0</td>\n",
              "      <td>5.186667</td>\n",
              "      <td>8.23</td>\n",
              "    </tr>\n",
              "    <tr>\n",
              "      <th>419</th>\n",
              "      <td>2.0</td>\n",
              "      <td>32.0</td>\n",
              "      <td>54.500000</td>\n",
              "      <td>158.466667</td>\n",
              "      <td>21.68</td>\n",
              "      <td>113.160</td>\n",
              "      <td>71.83</td>\n",
              "      <td>72.30</td>\n",
              "      <td>22.707</td>\n",
              "      <td>21.599</td>\n",
              "      <td>...</td>\n",
              "      <td>5.1</td>\n",
              "      <td>222.0</td>\n",
              "      <td>58.0</td>\n",
              "      <td>79.0</td>\n",
              "      <td>132.0</td>\n",
              "      <td>17.0</td>\n",
              "      <td>10.0</td>\n",
              "      <td>34.0</td>\n",
              "      <td>5.486667</td>\n",
              "      <td>8.79</td>\n",
              "    </tr>\n",
              "    <tr>\n",
              "      <th>420</th>\n",
              "      <td>1.0</td>\n",
              "      <td>29.0</td>\n",
              "      <td>63.073333</td>\n",
              "      <td>168.866667</td>\n",
              "      <td>22.04</td>\n",
              "      <td>108.465</td>\n",
              "      <td>71.96</td>\n",
              "      <td>83.95</td>\n",
              "      <td>27.607</td>\n",
              "      <td>20.258</td>\n",
              "      <td>...</td>\n",
              "      <td>6.8</td>\n",
              "      <td>140.0</td>\n",
              "      <td>92.0</td>\n",
              "      <td>48.0</td>\n",
              "      <td>73.0</td>\n",
              "      <td>31.0</td>\n",
              "      <td>75.0</td>\n",
              "      <td>69.0</td>\n",
              "      <td>4.973333</td>\n",
              "      <td>8.93</td>\n",
              "    </tr>\n",
              "    <tr>\n",
              "      <th>421</th>\n",
              "      <td>2.0</td>\n",
              "      <td>31.0</td>\n",
              "      <td>58.066667</td>\n",
              "      <td>160.200000</td>\n",
              "      <td>22.60</td>\n",
              "      <td>112.810</td>\n",
              "      <td>72.72</td>\n",
              "      <td>74.41</td>\n",
              "      <td>23.020</td>\n",
              "      <td>22.436</td>\n",
              "      <td>...</td>\n",
              "      <td>4.0</td>\n",
              "      <td>243.0</td>\n",
              "      <td>161.0</td>\n",
              "      <td>87.0</td>\n",
              "      <td>124.0</td>\n",
              "      <td>24.0</td>\n",
              "      <td>11.0</td>\n",
              "      <td>46.0</td>\n",
              "      <td>6.086667</td>\n",
              "      <td>7.92</td>\n",
              "    </tr>\n",
              "  </tbody>\n",
              "</table>\n",
              "<p>422 rows × 27 columns</p>\n",
              "</div>\n",
              "      <button class=\"colab-df-convert\" onclick=\"convertToInteractive('df-7deed4b7-644d-429b-9590-6cda26871014')\"\n",
              "              title=\"Convert this dataframe to an interactive table.\"\n",
              "              style=\"display:none;\">\n",
              "        \n",
              "  <svg xmlns=\"http://www.w3.org/2000/svg\" height=\"24px\"viewBox=\"0 0 24 24\"\n",
              "       width=\"24px\">\n",
              "    <path d=\"M0 0h24v24H0V0z\" fill=\"none\"/>\n",
              "    <path d=\"M18.56 5.44l.94 2.06.94-2.06 2.06-.94-2.06-.94-.94-2.06-.94 2.06-2.06.94zm-11 1L8.5 8.5l.94-2.06 2.06-.94-2.06-.94L8.5 2.5l-.94 2.06-2.06.94zm10 10l.94 2.06.94-2.06 2.06-.94-2.06-.94-.94-2.06-.94 2.06-2.06.94z\"/><path d=\"M17.41 7.96l-1.37-1.37c-.4-.4-.92-.59-1.43-.59-.52 0-1.04.2-1.43.59L10.3 9.45l-7.72 7.72c-.78.78-.78 2.05 0 2.83L4 21.41c.39.39.9.59 1.41.59.51 0 1.02-.2 1.41-.59l7.78-7.78 2.81-2.81c.8-.78.8-2.07 0-2.86zM5.41 20L4 18.59l7.72-7.72 1.47 1.35L5.41 20z\"/>\n",
              "  </svg>\n",
              "      </button>\n",
              "      \n",
              "  <style>\n",
              "    .colab-df-container {\n",
              "      display:flex;\n",
              "      flex-wrap:wrap;\n",
              "      gap: 12px;\n",
              "    }\n",
              "\n",
              "    .colab-df-convert {\n",
              "      background-color: #E8F0FE;\n",
              "      border: none;\n",
              "      border-radius: 50%;\n",
              "      cursor: pointer;\n",
              "      display: none;\n",
              "      fill: #1967D2;\n",
              "      height: 32px;\n",
              "      padding: 0 0 0 0;\n",
              "      width: 32px;\n",
              "    }\n",
              "\n",
              "    .colab-df-convert:hover {\n",
              "      background-color: #E2EBFA;\n",
              "      box-shadow: 0px 1px 2px rgba(60, 64, 67, 0.3), 0px 1px 3px 1px rgba(60, 64, 67, 0.15);\n",
              "      fill: #174EA6;\n",
              "    }\n",
              "\n",
              "    [theme=dark] .colab-df-convert {\n",
              "      background-color: #3B4455;\n",
              "      fill: #D2E3FC;\n",
              "    }\n",
              "\n",
              "    [theme=dark] .colab-df-convert:hover {\n",
              "      background-color: #434B5C;\n",
              "      box-shadow: 0px 1px 3px 1px rgba(0, 0, 0, 0.15);\n",
              "      filter: drop-shadow(0px 1px 2px rgba(0, 0, 0, 0.3));\n",
              "      fill: #FFFFFF;\n",
              "    }\n",
              "  </style>\n",
              "\n",
              "      <script>\n",
              "        const buttonEl =\n",
              "          document.querySelector('#df-7deed4b7-644d-429b-9590-6cda26871014 button.colab-df-convert');\n",
              "        buttonEl.style.display =\n",
              "          google.colab.kernel.accessAllowed ? 'block' : 'none';\n",
              "\n",
              "        async function convertToInteractive(key) {\n",
              "          const element = document.querySelector('#df-7deed4b7-644d-429b-9590-6cda26871014');\n",
              "          const dataTable =\n",
              "            await google.colab.kernel.invokeFunction('convertToInteractive',\n",
              "                                                     [key], {});\n",
              "          if (!dataTable) return;\n",
              "\n",
              "          const docLinkHtml = 'Like what you see? Visit the ' +\n",
              "            '<a target=\"_blank\" href=https://colab.research.google.com/notebooks/data_table.ipynb>data table notebook</a>'\n",
              "            + ' to learn more about interactive tables.';\n",
              "          element.innerHTML = '';\n",
              "          dataTable['output_type'] = 'display_data';\n",
              "          await google.colab.output.renderOutput(dataTable, element);\n",
              "          const docLink = document.createElement('div');\n",
              "          docLink.innerHTML = docLinkHtml;\n",
              "          element.appendChild(docLink);\n",
              "        }\n",
              "      </script>\n",
              "    </div>\n",
              "  </div>\n",
              "  "
            ]
          },
          "metadata": {},
          "execution_count": 4
        }
      ],
      "source": [
        "data1.drop('Unnamed: 0',1,inplace = True)\n",
        "data1"
      ]
    },
    {
      "cell_type": "markdown",
      "metadata": {
        "id": "DB5VWIVimhdO"
      },
      "source": [
        "# hyperparameter "
      ]
    },
    {
      "cell_type": "code",
      "execution_count": 5,
      "metadata": {
        "id": "UgeydYW3oWnm"
      },
      "outputs": [],
      "source": [
        "from sklearn.model_selection import GridSearchCV"
      ]
    },
    {
      "cell_type": "code",
      "execution_count": 6,
      "metadata": {
        "id": "XVsFPGoDo5DS"
      },
      "outputs": [],
      "source": [
        "def hyperparameter(data):\n",
        "  y = data['telomere length (kb)']\n",
        "  X = data.drop('telomere length (kb)',1)\n",
        "  X_train, X_test, y_train, y_test = train_test_split(X, y, test_size=0.2, random_state=216)\n",
        "  param_grid = {\n",
        "    'bootstrap': [True, False ],\n",
        "    'max_depth': [10,20,40,50],\n",
        "    'max_features': [1,2, 3,5],\n",
        "    'min_samples_leaf': [1,3, 4, 5],\n",
        "    'min_samples_split': [6,8, 10, 12],\n",
        "    'n_estimators': [100, 300,500,700, 1000],'random_state':[216]\n",
        "  }\n",
        "  rf = RandomForestRegressor()\n",
        "  grid_search = GridSearchCV(estimator=rf,\n",
        "                            param_grid=param_grid)\n",
        "  grid_search.fit(X_train, y_train)\n",
        "  return grid_search.best_params_"
      ]
    },
    {
      "cell_type": "markdown",
      "metadata": {
        "id": "u6AN_CCWjzdB"
      },
      "source": [
        "# First Data"
      ]
    },
    {
      "cell_type": "code",
      "execution_count": 7,
      "metadata": {
        "id": "DBcKmlKhiNe1"
      },
      "outputs": [],
      "source": [
        "scaler = MinMaxScaler()\n",
        "Scaler = scaler.fit_transform(data1)"
      ]
    },
    {
      "cell_type": "code",
      "execution_count": 8,
      "metadata": {
        "id": "iKSNVTLFisGF"
      },
      "outputs": [],
      "source": [
        "df = pd.DataFrame(  Scaler, columns = ['Sex' , 'AgeSYear', 'telomere length (kb)','Weight','Height','BMI','Systolic','Diastolic','HeartRate','SMM','Fat Mass',\n",
        "                                       '% Body fat','waist to hip radio','abdominal circumference','visceral fat area','Glucose','BUN','Creatinine','Uric Acid','Cholesterol',\n",
        "                                       'Triglyceride','HDL-C','LDL','AST','ALT','Alkaline Phos','HbA1c'])"
      ]
    },
    {
      "cell_type": "code",
      "execution_count": 9,
      "metadata": {
        "colab": {
          "base_uri": "https://localhost:8080/",
          "height": 522
        },
        "id": "5X2muVEFiwJO",
        "outputId": "a101e89f-fd9d-44b7-c5be-d21c08e75c02"
      },
      "outputs": [
        {
          "output_type": "execute_result",
          "data": {
            "text/plain": [
              "     Sex  AgeSYear  telomere length (kb)    Weight    Height       BMI  \\\n",
              "0    1.0  0.582090              0.154562  0.250000  0.198473  0.531707   \n",
              "1    1.0  0.567164              0.158287  0.181818  0.259542  0.551220   \n",
              "2    1.0  0.074627              0.266294  0.272727  0.366412  0.443902   \n",
              "3    1.0  0.641791              0.288641  0.454545  0.244275  0.365854   \n",
              "4    1.0  1.000000              0.188082  0.204545  0.297710  0.697561   \n",
              "..   ...       ...                   ...       ...       ...       ...   \n",
              "417  1.0  0.089552              0.150838  0.454545  0.038168  0.453659   \n",
              "418  1.0  0.179104              0.620112  0.522727  0.671756  0.639024   \n",
              "419  1.0  0.194030              0.290503  0.306061  0.372519  0.543024   \n",
              "420  0.0  0.149254              0.450155  0.542424  0.400000  0.497220   \n",
              "421  1.0  0.179104              0.356921  0.345455  0.442748  0.539610   \n",
              "\n",
              "     Systolic  Diastolic  HeartRate       SMM  ...  Creatinine  Uric Acid  \\\n",
              "0    0.333333   0.306452   0.101103  0.236189  ...    0.424242   0.438849   \n",
              "1    0.537037   0.290323   0.085409  0.208738  ...    0.454545   0.410072   \n",
              "2    0.425926   0.435484   0.156584  0.259709  ...    0.484848   0.287770   \n",
              "3    0.537037   0.516129   0.167260  0.274272  ...    0.318182   0.798561   \n",
              "4    0.611111   0.516129   0.107011  0.278374  ...    0.515152   0.460432   \n",
              "..        ...        ...        ...       ...  ...         ...        ...   \n",
              "417  0.314815   0.612903   0.124093  0.217282  ...    0.424242   0.812950   \n",
              "418  0.796296   0.290323   0.304306  0.348495  ...    0.621212   0.489209   \n",
              "419  0.478333   0.343548   0.206655  0.429587  ...    0.469697   0.741007   \n",
              "420  0.480741   0.531452   0.381032  0.397039  ...    0.727273   0.151079   \n",
              "421  0.494815   0.377581   0.217794  0.449903  ...    0.303030   0.892086   \n",
              "\n",
              "     Cholesterol  Triglyceride     HDL-C       LDL       AST       ALT  \\\n",
              "0       0.211082      0.402299  0.350365  0.271186  0.376812  0.203390   \n",
              "1       0.089710      0.517241  0.321168  0.118644  0.144928  0.389831   \n",
              "2       0.073879      0.287356  0.350365  0.067797  0.159420  0.288136   \n",
              "3       0.203166      0.390805  0.737226  0.152542  0.362319  0.508475   \n",
              "4       0.182058      0.137931  0.562044  0.050847  0.231884  0.559322   \n",
              "..           ...           ...       ...       ...       ...       ...   \n",
              "417     0.050132      0.793103  0.569343  0.152542  0.086957  0.254237   \n",
              "418     0.084433      0.275862  0.562044  0.203390  0.260870  0.466102   \n",
              "419     0.108179      0.597701  0.598540  0.135593  0.057971  0.152542   \n",
              "420     0.197889      0.241379  0.167883  0.372881  1.000000  0.449153   \n",
              "421     0.379947      0.689655  0.540146  0.254237  0.072464  0.254237   \n",
              "\n",
              "     Alkaline Phos     HbA1c  \n",
              "0         0.540984  0.119472  \n",
              "1         0.426230  0.083010  \n",
              "2         0.475410  0.212956  \n",
              "3         0.508197  0.075640  \n",
              "4         0.606557  0.012801  \n",
              "..             ...       ...  \n",
              "417       0.474317  0.184639  \n",
              "418       0.440437  0.155547  \n",
              "419       0.489617  0.177269  \n",
              "420       0.405464  0.182700  \n",
              "421       0.587978  0.143522  \n",
              "\n",
              "[422 rows x 27 columns]"
            ],
            "text/html": [
              "\n",
              "  <div id=\"df-74226b23-6a5d-4953-903a-05df9e65a218\">\n",
              "    <div class=\"colab-df-container\">\n",
              "      <div>\n",
              "<style scoped>\n",
              "    .dataframe tbody tr th:only-of-type {\n",
              "        vertical-align: middle;\n",
              "    }\n",
              "\n",
              "    .dataframe tbody tr th {\n",
              "        vertical-align: top;\n",
              "    }\n",
              "\n",
              "    .dataframe thead th {\n",
              "        text-align: right;\n",
              "    }\n",
              "</style>\n",
              "<table border=\"1\" class=\"dataframe\">\n",
              "  <thead>\n",
              "    <tr style=\"text-align: right;\">\n",
              "      <th></th>\n",
              "      <th>Sex</th>\n",
              "      <th>AgeSYear</th>\n",
              "      <th>telomere length (kb)</th>\n",
              "      <th>Weight</th>\n",
              "      <th>Height</th>\n",
              "      <th>BMI</th>\n",
              "      <th>Systolic</th>\n",
              "      <th>Diastolic</th>\n",
              "      <th>HeartRate</th>\n",
              "      <th>SMM</th>\n",
              "      <th>...</th>\n",
              "      <th>Creatinine</th>\n",
              "      <th>Uric Acid</th>\n",
              "      <th>Cholesterol</th>\n",
              "      <th>Triglyceride</th>\n",
              "      <th>HDL-C</th>\n",
              "      <th>LDL</th>\n",
              "      <th>AST</th>\n",
              "      <th>ALT</th>\n",
              "      <th>Alkaline Phos</th>\n",
              "      <th>HbA1c</th>\n",
              "    </tr>\n",
              "  </thead>\n",
              "  <tbody>\n",
              "    <tr>\n",
              "      <th>0</th>\n",
              "      <td>1.0</td>\n",
              "      <td>0.582090</td>\n",
              "      <td>0.154562</td>\n",
              "      <td>0.250000</td>\n",
              "      <td>0.198473</td>\n",
              "      <td>0.531707</td>\n",
              "      <td>0.333333</td>\n",
              "      <td>0.306452</td>\n",
              "      <td>0.101103</td>\n",
              "      <td>0.236189</td>\n",
              "      <td>...</td>\n",
              "      <td>0.424242</td>\n",
              "      <td>0.438849</td>\n",
              "      <td>0.211082</td>\n",
              "      <td>0.402299</td>\n",
              "      <td>0.350365</td>\n",
              "      <td>0.271186</td>\n",
              "      <td>0.376812</td>\n",
              "      <td>0.203390</td>\n",
              "      <td>0.540984</td>\n",
              "      <td>0.119472</td>\n",
              "    </tr>\n",
              "    <tr>\n",
              "      <th>1</th>\n",
              "      <td>1.0</td>\n",
              "      <td>0.567164</td>\n",
              "      <td>0.158287</td>\n",
              "      <td>0.181818</td>\n",
              "      <td>0.259542</td>\n",
              "      <td>0.551220</td>\n",
              "      <td>0.537037</td>\n",
              "      <td>0.290323</td>\n",
              "      <td>0.085409</td>\n",
              "      <td>0.208738</td>\n",
              "      <td>...</td>\n",
              "      <td>0.454545</td>\n",
              "      <td>0.410072</td>\n",
              "      <td>0.089710</td>\n",
              "      <td>0.517241</td>\n",
              "      <td>0.321168</td>\n",
              "      <td>0.118644</td>\n",
              "      <td>0.144928</td>\n",
              "      <td>0.389831</td>\n",
              "      <td>0.426230</td>\n",
              "      <td>0.083010</td>\n",
              "    </tr>\n",
              "    <tr>\n",
              "      <th>2</th>\n",
              "      <td>1.0</td>\n",
              "      <td>0.074627</td>\n",
              "      <td>0.266294</td>\n",
              "      <td>0.272727</td>\n",
              "      <td>0.366412</td>\n",
              "      <td>0.443902</td>\n",
              "      <td>0.425926</td>\n",
              "      <td>0.435484</td>\n",
              "      <td>0.156584</td>\n",
              "      <td>0.259709</td>\n",
              "      <td>...</td>\n",
              "      <td>0.484848</td>\n",
              "      <td>0.287770</td>\n",
              "      <td>0.073879</td>\n",
              "      <td>0.287356</td>\n",
              "      <td>0.350365</td>\n",
              "      <td>0.067797</td>\n",
              "      <td>0.159420</td>\n",
              "      <td>0.288136</td>\n",
              "      <td>0.475410</td>\n",
              "      <td>0.212956</td>\n",
              "    </tr>\n",
              "    <tr>\n",
              "      <th>3</th>\n",
              "      <td>1.0</td>\n",
              "      <td>0.641791</td>\n",
              "      <td>0.288641</td>\n",
              "      <td>0.454545</td>\n",
              "      <td>0.244275</td>\n",
              "      <td>0.365854</td>\n",
              "      <td>0.537037</td>\n",
              "      <td>0.516129</td>\n",
              "      <td>0.167260</td>\n",
              "      <td>0.274272</td>\n",
              "      <td>...</td>\n",
              "      <td>0.318182</td>\n",
              "      <td>0.798561</td>\n",
              "      <td>0.203166</td>\n",
              "      <td>0.390805</td>\n",
              "      <td>0.737226</td>\n",
              "      <td>0.152542</td>\n",
              "      <td>0.362319</td>\n",
              "      <td>0.508475</td>\n",
              "      <td>0.508197</td>\n",
              "      <td>0.075640</td>\n",
              "    </tr>\n",
              "    <tr>\n",
              "      <th>4</th>\n",
              "      <td>1.0</td>\n",
              "      <td>1.000000</td>\n",
              "      <td>0.188082</td>\n",
              "      <td>0.204545</td>\n",
              "      <td>0.297710</td>\n",
              "      <td>0.697561</td>\n",
              "      <td>0.611111</td>\n",
              "      <td>0.516129</td>\n",
              "      <td>0.107011</td>\n",
              "      <td>0.278374</td>\n",
              "      <td>...</td>\n",
              "      <td>0.515152</td>\n",
              "      <td>0.460432</td>\n",
              "      <td>0.182058</td>\n",
              "      <td>0.137931</td>\n",
              "      <td>0.562044</td>\n",
              "      <td>0.050847</td>\n",
              "      <td>0.231884</td>\n",
              "      <td>0.559322</td>\n",
              "      <td>0.606557</td>\n",
              "      <td>0.012801</td>\n",
              "    </tr>\n",
              "    <tr>\n",
              "      <th>...</th>\n",
              "      <td>...</td>\n",
              "      <td>...</td>\n",
              "      <td>...</td>\n",
              "      <td>...</td>\n",
              "      <td>...</td>\n",
              "      <td>...</td>\n",
              "      <td>...</td>\n",
              "      <td>...</td>\n",
              "      <td>...</td>\n",
              "      <td>...</td>\n",
              "      <td>...</td>\n",
              "      <td>...</td>\n",
              "      <td>...</td>\n",
              "      <td>...</td>\n",
              "      <td>...</td>\n",
              "      <td>...</td>\n",
              "      <td>...</td>\n",
              "      <td>...</td>\n",
              "      <td>...</td>\n",
              "      <td>...</td>\n",
              "      <td>...</td>\n",
              "    </tr>\n",
              "    <tr>\n",
              "      <th>417</th>\n",
              "      <td>1.0</td>\n",
              "      <td>0.089552</td>\n",
              "      <td>0.150838</td>\n",
              "      <td>0.454545</td>\n",
              "      <td>0.038168</td>\n",
              "      <td>0.453659</td>\n",
              "      <td>0.314815</td>\n",
              "      <td>0.612903</td>\n",
              "      <td>0.124093</td>\n",
              "      <td>0.217282</td>\n",
              "      <td>...</td>\n",
              "      <td>0.424242</td>\n",
              "      <td>0.812950</td>\n",
              "      <td>0.050132</td>\n",
              "      <td>0.793103</td>\n",
              "      <td>0.569343</td>\n",
              "      <td>0.152542</td>\n",
              "      <td>0.086957</td>\n",
              "      <td>0.254237</td>\n",
              "      <td>0.474317</td>\n",
              "      <td>0.184639</td>\n",
              "    </tr>\n",
              "    <tr>\n",
              "      <th>418</th>\n",
              "      <td>1.0</td>\n",
              "      <td>0.179104</td>\n",
              "      <td>0.620112</td>\n",
              "      <td>0.522727</td>\n",
              "      <td>0.671756</td>\n",
              "      <td>0.639024</td>\n",
              "      <td>0.796296</td>\n",
              "      <td>0.290323</td>\n",
              "      <td>0.304306</td>\n",
              "      <td>0.348495</td>\n",
              "      <td>...</td>\n",
              "      <td>0.621212</td>\n",
              "      <td>0.489209</td>\n",
              "      <td>0.084433</td>\n",
              "      <td>0.275862</td>\n",
              "      <td>0.562044</td>\n",
              "      <td>0.203390</td>\n",
              "      <td>0.260870</td>\n",
              "      <td>0.466102</td>\n",
              "      <td>0.440437</td>\n",
              "      <td>0.155547</td>\n",
              "    </tr>\n",
              "    <tr>\n",
              "      <th>419</th>\n",
              "      <td>1.0</td>\n",
              "      <td>0.194030</td>\n",
              "      <td>0.290503</td>\n",
              "      <td>0.306061</td>\n",
              "      <td>0.372519</td>\n",
              "      <td>0.543024</td>\n",
              "      <td>0.478333</td>\n",
              "      <td>0.343548</td>\n",
              "      <td>0.206655</td>\n",
              "      <td>0.429587</td>\n",
              "      <td>...</td>\n",
              "      <td>0.469697</td>\n",
              "      <td>0.741007</td>\n",
              "      <td>0.108179</td>\n",
              "      <td>0.597701</td>\n",
              "      <td>0.598540</td>\n",
              "      <td>0.135593</td>\n",
              "      <td>0.057971</td>\n",
              "      <td>0.152542</td>\n",
              "      <td>0.489617</td>\n",
              "      <td>0.177269</td>\n",
              "    </tr>\n",
              "    <tr>\n",
              "      <th>420</th>\n",
              "      <td>0.0</td>\n",
              "      <td>0.149254</td>\n",
              "      <td>0.450155</td>\n",
              "      <td>0.542424</td>\n",
              "      <td>0.400000</td>\n",
              "      <td>0.497220</td>\n",
              "      <td>0.480741</td>\n",
              "      <td>0.531452</td>\n",
              "      <td>0.381032</td>\n",
              "      <td>0.397039</td>\n",
              "      <td>...</td>\n",
              "      <td>0.727273</td>\n",
              "      <td>0.151079</td>\n",
              "      <td>0.197889</td>\n",
              "      <td>0.241379</td>\n",
              "      <td>0.167883</td>\n",
              "      <td>0.372881</td>\n",
              "      <td>1.000000</td>\n",
              "      <td>0.449153</td>\n",
              "      <td>0.405464</td>\n",
              "      <td>0.182700</td>\n",
              "    </tr>\n",
              "    <tr>\n",
              "      <th>421</th>\n",
              "      <td>1.0</td>\n",
              "      <td>0.179104</td>\n",
              "      <td>0.356921</td>\n",
              "      <td>0.345455</td>\n",
              "      <td>0.442748</td>\n",
              "      <td>0.539610</td>\n",
              "      <td>0.494815</td>\n",
              "      <td>0.377581</td>\n",
              "      <td>0.217794</td>\n",
              "      <td>0.449903</td>\n",
              "      <td>...</td>\n",
              "      <td>0.303030</td>\n",
              "      <td>0.892086</td>\n",
              "      <td>0.379947</td>\n",
              "      <td>0.689655</td>\n",
              "      <td>0.540146</td>\n",
              "      <td>0.254237</td>\n",
              "      <td>0.072464</td>\n",
              "      <td>0.254237</td>\n",
              "      <td>0.587978</td>\n",
              "      <td>0.143522</td>\n",
              "    </tr>\n",
              "  </tbody>\n",
              "</table>\n",
              "<p>422 rows × 27 columns</p>\n",
              "</div>\n",
              "      <button class=\"colab-df-convert\" onclick=\"convertToInteractive('df-74226b23-6a5d-4953-903a-05df9e65a218')\"\n",
              "              title=\"Convert this dataframe to an interactive table.\"\n",
              "              style=\"display:none;\">\n",
              "        \n",
              "  <svg xmlns=\"http://www.w3.org/2000/svg\" height=\"24px\"viewBox=\"0 0 24 24\"\n",
              "       width=\"24px\">\n",
              "    <path d=\"M0 0h24v24H0V0z\" fill=\"none\"/>\n",
              "    <path d=\"M18.56 5.44l.94 2.06.94-2.06 2.06-.94-2.06-.94-.94-2.06-.94 2.06-2.06.94zm-11 1L8.5 8.5l.94-2.06 2.06-.94-2.06-.94L8.5 2.5l-.94 2.06-2.06.94zm10 10l.94 2.06.94-2.06 2.06-.94-2.06-.94-.94-2.06-.94 2.06-2.06.94z\"/><path d=\"M17.41 7.96l-1.37-1.37c-.4-.4-.92-.59-1.43-.59-.52 0-1.04.2-1.43.59L10.3 9.45l-7.72 7.72c-.78.78-.78 2.05 0 2.83L4 21.41c.39.39.9.59 1.41.59.51 0 1.02-.2 1.41-.59l7.78-7.78 2.81-2.81c.8-.78.8-2.07 0-2.86zM5.41 20L4 18.59l7.72-7.72 1.47 1.35L5.41 20z\"/>\n",
              "  </svg>\n",
              "      </button>\n",
              "      \n",
              "  <style>\n",
              "    .colab-df-container {\n",
              "      display:flex;\n",
              "      flex-wrap:wrap;\n",
              "      gap: 12px;\n",
              "    }\n",
              "\n",
              "    .colab-df-convert {\n",
              "      background-color: #E8F0FE;\n",
              "      border: none;\n",
              "      border-radius: 50%;\n",
              "      cursor: pointer;\n",
              "      display: none;\n",
              "      fill: #1967D2;\n",
              "      height: 32px;\n",
              "      padding: 0 0 0 0;\n",
              "      width: 32px;\n",
              "    }\n",
              "\n",
              "    .colab-df-convert:hover {\n",
              "      background-color: #E2EBFA;\n",
              "      box-shadow: 0px 1px 2px rgba(60, 64, 67, 0.3), 0px 1px 3px 1px rgba(60, 64, 67, 0.15);\n",
              "      fill: #174EA6;\n",
              "    }\n",
              "\n",
              "    [theme=dark] .colab-df-convert {\n",
              "      background-color: #3B4455;\n",
              "      fill: #D2E3FC;\n",
              "    }\n",
              "\n",
              "    [theme=dark] .colab-df-convert:hover {\n",
              "      background-color: #434B5C;\n",
              "      box-shadow: 0px 1px 3px 1px rgba(0, 0, 0, 0.15);\n",
              "      filter: drop-shadow(0px 1px 2px rgba(0, 0, 0, 0.3));\n",
              "      fill: #FFFFFF;\n",
              "    }\n",
              "  </style>\n",
              "\n",
              "      <script>\n",
              "        const buttonEl =\n",
              "          document.querySelector('#df-74226b23-6a5d-4953-903a-05df9e65a218 button.colab-df-convert');\n",
              "        buttonEl.style.display =\n",
              "          google.colab.kernel.accessAllowed ? 'block' : 'none';\n",
              "\n",
              "        async function convertToInteractive(key) {\n",
              "          const element = document.querySelector('#df-74226b23-6a5d-4953-903a-05df9e65a218');\n",
              "          const dataTable =\n",
              "            await google.colab.kernel.invokeFunction('convertToInteractive',\n",
              "                                                     [key], {});\n",
              "          if (!dataTable) return;\n",
              "\n",
              "          const docLinkHtml = 'Like what you see? Visit the ' +\n",
              "            '<a target=\"_blank\" href=https://colab.research.google.com/notebooks/data_table.ipynb>data table notebook</a>'\n",
              "            + ' to learn more about interactive tables.';\n",
              "          element.innerHTML = '';\n",
              "          dataTable['output_type'] = 'display_data';\n",
              "          await google.colab.output.renderOutput(dataTable, element);\n",
              "          const docLink = document.createElement('div');\n",
              "          docLink.innerHTML = docLinkHtml;\n",
              "          element.appendChild(docLink);\n",
              "        }\n",
              "      </script>\n",
              "    </div>\n",
              "  </div>\n",
              "  "
            ]
          },
          "metadata": {},
          "execution_count": 9
        }
      ],
      "source": [
        "df"
      ]
    },
    {
      "cell_type": "code",
      "execution_count": 10,
      "metadata": {
        "colab": {
          "base_uri": "https://localhost:8080/"
        },
        "id": "qOLT6YYRjBjN",
        "outputId": "389331b2-3630-4378-8877-62a5c9180f6d"
      },
      "outputs": [
        {
          "output_type": "stream",
          "name": "stderr",
          "text": [
            "<ipython-input-10-2081a7e829a9>:2: FutureWarning: In a future version of pandas all arguments of DataFrame.drop except for the argument 'labels' will be keyword-only\n",
            "  X = df.drop('telomere length (kb)',1)\n"
          ]
        }
      ],
      "source": [
        "y = df['telomere length (kb)']\n",
        "X = df.drop('telomere length (kb)',1)"
      ]
    },
    {
      "cell_type": "code",
      "execution_count": 11,
      "metadata": {
        "id": "jagCUj1EjEd8"
      },
      "outputs": [],
      "source": [
        "from sklearn.model_selection import train_test_split\n",
        "X_train, X_test, y_train, y_test = train_test_split(X, y, test_size=0.2, random_state=99)"
      ]
    },
    {
      "cell_type": "code",
      "execution_count": 12,
      "metadata": {
        "colab": {
          "base_uri": "https://localhost:8080/"
        },
        "id": "uYOvPtjgjKkq",
        "outputId": "37513489-61fa-48fb-df84-a5c0fa4aa7d7"
      },
      "outputs": [
        {
          "output_type": "execute_result",
          "data": {
            "text/plain": [
              "RandomForestRegressor(random_state=99)"
            ]
          },
          "metadata": {},
          "execution_count": 12
        }
      ],
      "source": [
        "from sklearn.ensemble import RandomForestRegressor\n",
        "rg = RandomForestRegressor(n_estimators=100,random_state=99)\n",
        "rg.fit(X_train, y_train)"
      ]
    },
    {
      "cell_type": "code",
      "execution_count": 13,
      "metadata": {
        "colab": {
          "base_uri": "https://localhost:8080/"
        },
        "id": "OU7y2s-3jNCX",
        "outputId": "7e96c325-a5bf-4ff9-c8b7-1cb251438eb2"
      },
      "outputs": [
        {
          "output_type": "execute_result",
          "data": {
            "text/plain": [
              "array([0.66800745, 0.16163873, 0.40870143, 0.58162011, 0.4473234 ,\n",
              "       0.4012216 , 0.20577281, 0.20117318, 0.5074612 , 0.6877095 ,\n",
              "       0.52078212, 0.46735568, 0.19191806, 0.18383613, 0.35005587,\n",
              "       0.17884544, 0.53295469, 0.27454376, 0.27364991, 0.83199255,\n",
              "       0.28072626, 0.51538175, 0.19752328, 0.28204097, 0.06674115,\n",
              "       0.06823091, 0.32469274, 0.69774674, 0.07050279, 0.51553197,\n",
              "       0.21736313, 0.2781378 , 0.20418994, 0.32858473, 0.83091248,\n",
              "       0.26653631, 0.79804469, 0.21126629, 0.2339851 , 0.38337927,\n",
              "       0.15284916, 0.63389199, 0.37048417, 0.75882682, 0.3146406 ,\n",
              "       0.15698324, 0.35921291, 0.14528864, 0.14729981, 0.07379888,\n",
              "       0.38881316, 0.59662942, 0.29316574, 0.27247672, 0.28420112,\n",
              "       0.33665549, 0.6081378 , 0.36498448, 0.31913594, 0.15357542,\n",
              "       0.37261577, 0.79869646, 0.38808939, 0.32908752, 0.2584432 ,\n",
              "       0.17515829, 0.37300435, 0.43878709, 0.60947858, 0.49931099,\n",
              "       0.62608939, 0.19204842, 0.56206331, 0.27945251, 0.65081937,\n",
              "       0.33281192, 0.34788827, 0.25975791, 0.23126629, 0.05214153,\n",
              "       0.42737554, 0.06780261, 0.43684171, 0.31348231, 0.23752328])"
            ]
          },
          "metadata": {},
          "execution_count": 13
        }
      ],
      "source": [
        "y_pred = rg.predict(X_test)\n",
        "y_pred"
      ]
    },
    {
      "cell_type": "code",
      "execution_count": 14,
      "metadata": {
        "colab": {
          "base_uri": "https://localhost:8080/"
        },
        "id": "IMcZpzqTjOvl",
        "outputId": "9051fe61-deed-4951-e7eb-c35d84fb70f2"
      },
      "outputs": [
        {
          "output_type": "stream",
          "name": "stdout",
          "text": [
            "R2 Value Train: 0.9932926163688213\n",
            "MSE Train: 0.0002131004108298414\n",
            "MAE Train: 0.009586271681890298\n"
          ]
        }
      ],
      "source": [
        "from sklearn import metrics\n",
        "#Train\n",
        "print('R2 Value Train:',metrics.r2_score(y_train, rg.predict(X_train)))\n",
        "print('MSE Train:',metrics.mean_squared_error(y_train, rg.predict(X_train)))\n",
        "print('MAE Train:',metrics.mean_absolute_error(y_train, rg.predict(X_train)))"
      ]
    },
    {
      "cell_type": "code",
      "source": [
        "import numpy as np\n",
        "print('MAPE : ',100- (np.mean(np.abs((y_test - y_pred) / y_test)) * 100))"
      ],
      "metadata": {
        "id": "_Q-CVzOidsGK",
        "outputId": "8560b319-ab0c-4b63-ae55-4adaab72a324",
        "colab": {
          "base_uri": "https://localhost:8080/"
        }
      },
      "execution_count": 15,
      "outputs": [
        {
          "output_type": "stream",
          "name": "stdout",
          "text": [
            "MAPE :  74.87834292467195\n"
          ]
        }
      ]
    },
    {
      "cell_type": "code",
      "execution_count": 16,
      "metadata": {
        "colab": {
          "base_uri": "https://localhost:8080/"
        },
        "id": "C6DguvcBjQVU",
        "outputId": "e4f6e92c-304c-4779-852a-b2afcee68a77"
      },
      "outputs": [
        {
          "output_type": "stream",
          "name": "stdout",
          "text": [
            "R2 Value Test: 0.9483930506289591\n",
            "MSE Test: 0.002297787597567275\n",
            "MAE Test: 0.03052895169240884\n"
          ]
        }
      ],
      "source": [
        "#Test\n",
        "print('R2 Value Test:',metrics.r2_score(y_test, y_pred))\n",
        "print('MSE Test:',metrics.mean_squared_error(y_test, y_pred))\n",
        "print('MAE Test:',metrics.mean_absolute_error(y_test, y_pred))"
      ]
    },
    {
      "cell_type": "code",
      "source": [
        "sns.distplot(y_pred, hist = False, color = 'r', label = 'Predicted Values')\n",
        "sns.distplot(y_test, hist = False, color = 'b', label = 'Actual Values')\n",
        "plt.title('Actual vs Predicted Values', fontsize = 16)\n",
        "plt.xlabel('Values', fontsize = 12)\n",
        "plt.ylabel('Frequency', fontsize = 12)\n",
        "plt.legend(loc = 'upper left', fontsize = 13)"
      ],
      "metadata": {
        "colab": {
          "base_uri": "https://localhost:8080/",
          "height": 407
        },
        "id": "3kOaPqf-DLlc",
        "outputId": "05b64a44-63be-4d2c-bc68-9f241ae828d5"
      },
      "execution_count": 17,
      "outputs": [
        {
          "output_type": "stream",
          "name": "stderr",
          "text": [
            "/usr/local/lib/python3.8/dist-packages/seaborn/distributions.py:2619: FutureWarning: `distplot` is a deprecated function and will be removed in a future version. Please adapt your code to use either `displot` (a figure-level function with similar flexibility) or `kdeplot` (an axes-level function for kernel density plots).\n",
            "  warnings.warn(msg, FutureWarning)\n",
            "/usr/local/lib/python3.8/dist-packages/seaborn/distributions.py:2619: FutureWarning: `distplot` is a deprecated function and will be removed in a future version. Please adapt your code to use either `displot` (a figure-level function with similar flexibility) or `kdeplot` (an axes-level function for kernel density plots).\n",
            "  warnings.warn(msg, FutureWarning)\n"
          ]
        },
        {
          "output_type": "execute_result",
          "data": {
            "text/plain": [
              "<matplotlib.legend.Legend at 0x7f2104e12b20>"
            ]
          },
          "metadata": {},
          "execution_count": 17
        },
        {
          "output_type": "display_data",
          "data": {
            "text/plain": [
              "<Figure size 432x288 with 1 Axes>"
            ],
            "image/png": "[encoded data removed]"
          },
          "metadata": {
            "needs_background": "light"
          }
        }
      ]
    },
    {
      "cell_type": "markdown",
      "metadata": {
        "id": "SnoqVywWqQCZ"
      },
      "source": [
        "## hyper"
      ]
    },
    {
      "cell_type": "code",
      "execution_count": null,
      "metadata": {
        "colab": {
          "base_uri": "https://localhost:8080/"
        },
        "id": "pz7AxBrBqSUG",
        "outputId": "53f5e048-48ff-45a5-be53-85b3c53360ec"
      },
      "outputs": [
        {
          "output_type": "stream",
          "name": "stderr",
          "text": [
            "<ipython-input-16-e2bf7b4127fa>:3: FutureWarning: In a future version of pandas all arguments of DataFrame.drop except for the argument 'labels' will be keyword-only\n",
            "  X = data.drop('telomere length (kb)',1)\n"
          ]
        },
        {
          "output_type": "execute_result",
          "data": {
            "text/plain": [
              "{'bootstrap': False,\n",
              " 'max_depth': 10,\n",
              " 'max_features': 5,\n",
              " 'min_samples_leaf': 1,\n",
              " 'min_samples_split': 6,\n",
              " 'n_estimators': 300,\n",
              " 'random_state': 216}"
            ]
          },
          "metadata": {},
          "execution_count": 37
        }
      ],
      "source": [
        "hyperparameter(df)"
      ]
    },
    {
      "cell_type": "code",
      "execution_count": null,
      "metadata": {
        "colab": {
          "base_uri": "https://localhost:8080/"
        },
        "id": "qDY1TZEWqidu",
        "outputId": "da0e35ba-98b7-4064-e46f-d550c631be09"
      },
      "outputs": [
        {
          "output_type": "execute_result",
          "data": {
            "text/plain": [
              "RandomForestRegressor(bootstrap=False, max_depth=10, max_features=5,\n",
              "                      min_samples_split=6, n_estimators=300, random_state=99)"
            ]
          },
          "metadata": {},
          "execution_count": 15
        }
      ],
      "source": [
        "rg = RandomForestRegressor(n_estimators=300,max_features=5,bootstrap= False,random_state=99,\n",
        "                           max_depth=10,min_samples_leaf=1,min_samples_split=6)\n",
        "rg.fit(X_train, y_train)"
      ]
    },
    {
      "cell_type": "code",
      "execution_count": null,
      "metadata": {
        "colab": {
          "base_uri": "https://localhost:8080/"
        },
        "id": "BBEF6oaOHv8X",
        "outputId": "6751b886-d9c4-4a13-f2fe-58e0c99d66f6"
      },
      "outputs": [
        {
          "output_type": "execute_result",
          "data": {
            "text/plain": [
              "array([0.6602558 , 0.18839402, 0.40354799, 0.56661136, 0.46410731,\n",
              "       0.42586875, 0.19555842, 0.20489613, 0.52895992, 0.66228721,\n",
              "       0.53166678, 0.50028827, 0.18664122, 0.18652165, 0.34879228,\n",
              "       0.16341234, 0.49827438, 0.27782254, 0.28743455, 0.80158575,\n",
              "       0.28037515, 0.52099717, 0.20410165, 0.28944606, 0.10984295,\n",
              "       0.1092999 , 0.34118597, 0.71257696, 0.12568505, 0.47148367,\n",
              "       0.22416426, 0.28153819, 0.20642543, 0.30679249, 0.80204255,\n",
              "       0.26414341, 0.74499352, 0.21758401, 0.26328012, 0.37304169,\n",
              "       0.15883645, 0.64465688, 0.38413152, 0.73488373, 0.31677905,\n",
              "       0.15723788, 0.33452843, 0.16064284, 0.15017876, 0.13527117,\n",
              "       0.3847114 , 0.57167505, 0.29495941, 0.24521177, 0.26883596,\n",
              "       0.34020051, 0.58348781, 0.37045994, 0.32716134, 0.15938513,\n",
              "       0.39510752, 0.73534831, 0.36739468, 0.33424583, 0.27210356,\n",
              "       0.21929648, 0.36154221, 0.46128335, 0.56834259, 0.50713863,\n",
              "       0.56061569, 0.21640957, 0.55501295, 0.27145124, 0.6379267 ,\n",
              "       0.31021219, 0.35378379, 0.27550958, 0.22715116, 0.08797197,\n",
              "       0.42852512, 0.12598451, 0.45822411, 0.32392295, 0.24577584])"
            ]
          },
          "metadata": {},
          "execution_count": 16
        }
      ],
      "source": [
        "y_pred = rg.predict(X_test)\n",
        "y_pred"
      ]
    },
    {
      "cell_type": "code",
      "execution_count": null,
      "metadata": {
        "colab": {
          "base_uri": "https://localhost:8080/"
        },
        "id": "ii8hdg9CH6Sf",
        "outputId": "dcfa6915-304e-454e-b575-7cfd969e89be"
      },
      "outputs": [
        {
          "output_type": "stream",
          "name": "stdout",
          "text": [
            "R2 Value Train: 0.9978668503170616\n",
            "MSE Train: 6.777233848421407e-05\n",
            "MAE Train: 0.005462117079388848\n"
          ]
        }
      ],
      "source": [
        "#Train\n",
        "print('R2 Value Train:',metrics.r2_score(y_train, rg.predict(X_train)))\n",
        "print('MSE Train:',metrics.mean_squared_error(y_train, rg.predict(X_train)))\n",
        "print('MAE Train:',metrics.mean_absolute_error(y_train, rg.predict(X_train)))"
      ]
    },
    {
      "cell_type": "code",
      "source": [
        "import numpy as np\n",
        "print('MAPE : ',100- (np.mean(np.abs((y_test - y_pred) / y_test)) * 100))"
      ],
      "metadata": {
        "colab": {
          "base_uri": "https://localhost:8080/"
        },
        "id": "DS6gpM4IZNlR",
        "outputId": "f3c6d604-fe11-468c-edef-c47c2bb4bb09"
      },
      "execution_count": null,
      "outputs": [
        {
          "output_type": "stream",
          "name": "stdout",
          "text": [
            "MAPE :  60.35803329941537\n"
          ]
        }
      ]
    },
    {
      "cell_type": "code",
      "execution_count": null,
      "metadata": {
        "colab": {
          "base_uri": "https://localhost:8080/"
        },
        "id": "-wFoJE66H8on",
        "outputId": "1bc72012-3ae4-4145-db54-c1203605794c"
      },
      "outputs": [
        {
          "output_type": "stream",
          "name": "stdout",
          "text": [
            "R2 Value Test: 0.93929304459373\n",
            "MSE Test: 0.002702963281469844\n",
            "MAE Test: 0.03402961717901107\n"
          ]
        }
      ],
      "source": [
        "#Test\n",
        "print('R2 Value Test:',metrics.r2_score(y_test, y_pred))\n",
        "print('MSE Test:',metrics.mean_squared_error(y_test, y_pred))\n",
        "print('MAE Test:',metrics.mean_absolute_error(y_test, y_pred))"
      ]
    },
    {
      "cell_type": "markdown",
      "metadata": {
        "id": "9lyCq-5Rj7BU"
      },
      "source": [
        "# Second Data"
      ]
    },
    {
      "cell_type": "code",
      "execution_count": null,
      "metadata": {
        "colab": {
          "base_uri": "https://localhost:8080/"
        },
        "id": "pNkxBvQZjqsp",
        "outputId": "e938d45b-2c1b-4672-aceb-782210b86806"
      },
      "outputs": [
        {
          "output_type": "stream",
          "name": "stderr",
          "text": [
            "<ipython-input-20-9295e0cecbd9>:2: FutureWarning: In a future version of pandas all arguments of DataFrame.drop except for the argument 'labels' will be keyword-only\n",
            "  data2.drop('Unnamed: 0',1,inplace = True)\n"
          ]
        }
      ],
      "source": [
        "data2 = pd.read_csv(os.path.join(path,'df_2.csv'))\n",
        "data2.drop('Unnamed: 0',1,inplace = True)"
      ]
    },
    {
      "cell_type": "code",
      "execution_count": null,
      "metadata": {
        "colab": {
          "base_uri": "https://localhost:8080/",
          "height": 423
        },
        "id": "IHWG0ZGlkJlS",
        "outputId": "009df284-6212-4c20-cd93-8ff75abf5f8e"
      },
      "outputs": [
        {
          "output_type": "execute_result",
          "data": {
            "text/plain": [
              "     Sex  AgeSYear  Weight  Height    BMI  Systolic  Diastolic  HeartRate  \\\n",
              "0    2.0      58.0  47.200  156.00  19.40   112.000      64.00      70.00   \n",
              "1    2.0      57.0  47.400  153.00  20.20   114.000      75.00      69.00   \n",
              "2    2.0      24.0  53.200  157.00  21.60   103.000      69.00      78.00   \n",
              "3    2.0      62.0  54.400  165.00  20.00    95.000      75.00      83.00   \n",
              "4    2.0      86.0  49.000  154.00  20.70   129.000      79.00      83.00   \n",
              "..   ...       ...     ...     ...    ...       ...        ...        ...   \n",
              "417  2.0      25.0  47.000  165.00  17.30   104.000      63.00      89.00   \n",
              "418  2.0      31.0  72.200  168.00  25.60   123.000      89.00      69.00   \n",
              "419  2.0      32.0  65.656  156.96  25.98   115.860      73.17      74.72   \n",
              "420  1.0      29.0  67.768  169.90  23.87   117.205      75.50      85.37   \n",
              "421  2.0      31.0  61.935  161.46  24.06   113.340      71.31      73.77   \n",
              "\n",
              "        SMM  Fat Mass  ...  Uric Acid  Cholesterol  Triglyceride  HDL-C  \\\n",
              "0    19.694    13.404  ...        4.8        180.0          97.0   62.0   \n",
              "1    19.300    12.500  ...        5.0        176.0          51.0   72.0   \n",
              "2    21.300    14.600  ...        5.2        159.0          45.0   52.0   \n",
              "3    21.600    15.200  ...        4.1        230.0          94.0   61.0   \n",
              "4    20.057    16.295  ...        5.4        183.0          86.0   39.0   \n",
              "..      ...       ...  ...        ...          ...           ...    ...   \n",
              "417  20.299    13.578  ...        4.8        232.0          36.0   96.0   \n",
              "418  25.286    18.181  ...        6.1        187.0          49.0   51.0   \n",
              "419  23.573    24.765  ...        5.1        222.0          58.0   79.0   \n",
              "420  29.753    16.638  ...        6.8        140.0          92.0   48.0   \n",
              "421  23.295    21.851  ...        4.0        243.0         161.0   87.0   \n",
              "\n",
              "       LDL   AST   ALT  Alkaline Phos  HbA1c  telomere length (kb)   \n",
              "0     98.0  25.0  32.0           40.0  5.800                   7.30  \n",
              "1     94.0  16.0  16.0           62.0  5.100                   6.36  \n",
              "2     98.0  13.0  17.0           50.0  5.400                   9.71  \n",
              "3    151.0  18.0  31.0           76.0  5.600                   6.17  \n",
              "4    127.0  12.0  22.0           82.0  6.200                   4.55  \n",
              "..     ...   ...   ...            ...    ...                    ...  \n",
              "417  128.0  18.0  12.0           46.0  5.316                   8.98  \n",
              "418  127.0  21.0  24.0           71.0  5.215                   8.23  \n",
              "419  132.0  17.0  10.0           34.0  5.542                   8.79  \n",
              "420   73.0  31.0  75.0           69.0  5.725                   8.93  \n",
              "421  124.0  24.0  11.0           46.0  4.818                   7.92  \n",
              "\n",
              "[422 rows x 27 columns]"
            ],
            "text/html": [
              "\n",
              "  <div id=\"df-784d6c52-5112-4a14-b494-7f7904ad5bce\">\n",
              "    <div class=\"colab-df-container\">\n",
              "      <div>\n",
              "<style scoped>\n",
              "    .dataframe tbody tr th:only-of-type {\n",
              "        vertical-align: middle;\n",
              "    }\n",
              "\n",
              "    .dataframe tbody tr th {\n",
              "        vertical-align: top;\n",
              "    }\n",
              "\n",
              "    .dataframe thead th {\n",
              "        text-align: right;\n",
              "    }\n",
              "</style>\n",
              "<table border=\"1\" class=\"dataframe\">\n",
              "  <thead>\n",
              "    <tr style=\"text-align: right;\">\n",
              "      <th></th>\n",
              "      <th>Sex</th>\n",
              "      <th>AgeSYear</th>\n",
              "      <th>Weight</th>\n",
              "      <th>Height</th>\n",
              "      <th>BMI</th>\n",
              "      <th>Systolic</th>\n",
              "      <th>Diastolic</th>\n",
              "      <th>HeartRate</th>\n",
              "      <th>SMM</th>\n",
              "      <th>Fat Mass</th>\n",
              "      <th>...</th>\n",
              "      <th>Uric Acid</th>\n",
              "      <th>Cholesterol</th>\n",
              "      <th>Triglyceride</th>\n",
              "      <th>HDL-C</th>\n",
              "      <th>LDL</th>\n",
              "      <th>AST</th>\n",
              "      <th>ALT</th>\n",
              "      <th>Alkaline Phos</th>\n",
              "      <th>HbA1c</th>\n",
              "      <th>telomere length (kb)</th>\n",
              "    </tr>\n",
              "  </thead>\n",
              "  <tbody>\n",
              "    <tr>\n",
              "      <th>0</th>\n",
              "      <td>2.0</td>\n",
              "      <td>58.0</td>\n",
              "      <td>47.200</td>\n",
              "      <td>156.00</td>\n",
              "      <td>19.40</td>\n",
              "      <td>112.000</td>\n",
              "      <td>64.00</td>\n",
              "      <td>70.00</td>\n",
              "      <td>19.694</td>\n",
              "      <td>13.404</td>\n",
              "      <td>...</td>\n",
              "      <td>4.8</td>\n",
              "      <td>180.0</td>\n",
              "      <td>97.0</td>\n",
              "      <td>62.0</td>\n",
              "      <td>98.0</td>\n",
              "      <td>25.0</td>\n",
              "      <td>32.0</td>\n",
              "      <td>40.0</td>\n",
              "      <td>5.800</td>\n",
              "      <td>7.30</td>\n",
              "    </tr>\n",
              "    <tr>\n",
              "      <th>1</th>\n",
              "      <td>2.0</td>\n",
              "      <td>57.0</td>\n",
              "      <td>47.400</td>\n",
              "      <td>153.00</td>\n",
              "      <td>20.20</td>\n",
              "      <td>114.000</td>\n",
              "      <td>75.00</td>\n",
              "      <td>69.00</td>\n",
              "      <td>19.300</td>\n",
              "      <td>12.500</td>\n",
              "      <td>...</td>\n",
              "      <td>5.0</td>\n",
              "      <td>176.0</td>\n",
              "      <td>51.0</td>\n",
              "      <td>72.0</td>\n",
              "      <td>94.0</td>\n",
              "      <td>16.0</td>\n",
              "      <td>16.0</td>\n",
              "      <td>62.0</td>\n",
              "      <td>5.100</td>\n",
              "      <td>6.36</td>\n",
              "    </tr>\n",
              "    <tr>\n",
              "      <th>2</th>\n",
              "      <td>2.0</td>\n",
              "      <td>24.0</td>\n",
              "      <td>53.200</td>\n",
              "      <td>157.00</td>\n",
              "      <td>21.60</td>\n",
              "      <td>103.000</td>\n",
              "      <td>69.00</td>\n",
              "      <td>78.00</td>\n",
              "      <td>21.300</td>\n",
              "      <td>14.600</td>\n",
              "      <td>...</td>\n",
              "      <td>5.2</td>\n",
              "      <td>159.0</td>\n",
              "      <td>45.0</td>\n",
              "      <td>52.0</td>\n",
              "      <td>98.0</td>\n",
              "      <td>13.0</td>\n",
              "      <td>17.0</td>\n",
              "      <td>50.0</td>\n",
              "      <td>5.400</td>\n",
              "      <td>9.71</td>\n",
              "    </tr>\n",
              "    <tr>\n",
              "      <th>3</th>\n",
              "      <td>2.0</td>\n",
              "      <td>62.0</td>\n",
              "      <td>54.400</td>\n",
              "      <td>165.00</td>\n",
              "      <td>20.00</td>\n",
              "      <td>95.000</td>\n",
              "      <td>75.00</td>\n",
              "      <td>83.00</td>\n",
              "      <td>21.600</td>\n",
              "      <td>15.200</td>\n",
              "      <td>...</td>\n",
              "      <td>4.1</td>\n",
              "      <td>230.0</td>\n",
              "      <td>94.0</td>\n",
              "      <td>61.0</td>\n",
              "      <td>151.0</td>\n",
              "      <td>18.0</td>\n",
              "      <td>31.0</td>\n",
              "      <td>76.0</td>\n",
              "      <td>5.600</td>\n",
              "      <td>6.17</td>\n",
              "    </tr>\n",
              "    <tr>\n",
              "      <th>4</th>\n",
              "      <td>2.0</td>\n",
              "      <td>86.0</td>\n",
              "      <td>49.000</td>\n",
              "      <td>154.00</td>\n",
              "      <td>20.70</td>\n",
              "      <td>129.000</td>\n",
              "      <td>79.00</td>\n",
              "      <td>83.00</td>\n",
              "      <td>20.057</td>\n",
              "      <td>16.295</td>\n",
              "      <td>...</td>\n",
              "      <td>5.4</td>\n",
              "      <td>183.0</td>\n",
              "      <td>86.0</td>\n",
              "      <td>39.0</td>\n",
              "      <td>127.0</td>\n",
              "      <td>12.0</td>\n",
              "      <td>22.0</td>\n",
              "      <td>82.0</td>\n",
              "      <td>6.200</td>\n",
              "      <td>4.55</td>\n",
              "    </tr>\n",
              "    <tr>\n",
              "      <th>...</th>\n",
              "      <td>...</td>\n",
              "      <td>...</td>\n",
              "      <td>...</td>\n",
              "      <td>...</td>\n",
              "      <td>...</td>\n",
              "      <td>...</td>\n",
              "      <td>...</td>\n",
              "      <td>...</td>\n",
              "      <td>...</td>\n",
              "      <td>...</td>\n",
              "      <td>...</td>\n",
              "      <td>...</td>\n",
              "      <td>...</td>\n",
              "      <td>...</td>\n",
              "      <td>...</td>\n",
              "      <td>...</td>\n",
              "      <td>...</td>\n",
              "      <td>...</td>\n",
              "      <td>...</td>\n",
              "      <td>...</td>\n",
              "      <td>...</td>\n",
              "    </tr>\n",
              "    <tr>\n",
              "      <th>417</th>\n",
              "      <td>2.0</td>\n",
              "      <td>25.0</td>\n",
              "      <td>47.000</td>\n",
              "      <td>165.00</td>\n",
              "      <td>17.30</td>\n",
              "      <td>104.000</td>\n",
              "      <td>63.00</td>\n",
              "      <td>89.00</td>\n",
              "      <td>20.299</td>\n",
              "      <td>13.578</td>\n",
              "      <td>...</td>\n",
              "      <td>4.8</td>\n",
              "      <td>232.0</td>\n",
              "      <td>36.0</td>\n",
              "      <td>96.0</td>\n",
              "      <td>128.0</td>\n",
              "      <td>18.0</td>\n",
              "      <td>12.0</td>\n",
              "      <td>46.0</td>\n",
              "      <td>5.316</td>\n",
              "      <td>8.98</td>\n",
              "    </tr>\n",
              "    <tr>\n",
              "      <th>418</th>\n",
              "      <td>2.0</td>\n",
              "      <td>31.0</td>\n",
              "      <td>72.200</td>\n",
              "      <td>168.00</td>\n",
              "      <td>25.60</td>\n",
              "      <td>123.000</td>\n",
              "      <td>89.00</td>\n",
              "      <td>69.00</td>\n",
              "      <td>25.286</td>\n",
              "      <td>18.181</td>\n",
              "      <td>...</td>\n",
              "      <td>6.1</td>\n",
              "      <td>187.0</td>\n",
              "      <td>49.0</td>\n",
              "      <td>51.0</td>\n",
              "      <td>127.0</td>\n",
              "      <td>21.0</td>\n",
              "      <td>24.0</td>\n",
              "      <td>71.0</td>\n",
              "      <td>5.215</td>\n",
              "      <td>8.23</td>\n",
              "    </tr>\n",
              "    <tr>\n",
              "      <th>419</th>\n",
              "      <td>2.0</td>\n",
              "      <td>32.0</td>\n",
              "      <td>65.656</td>\n",
              "      <td>156.96</td>\n",
              "      <td>25.98</td>\n",
              "      <td>115.860</td>\n",
              "      <td>73.17</td>\n",
              "      <td>74.72</td>\n",
              "      <td>23.573</td>\n",
              "      <td>24.765</td>\n",
              "      <td>...</td>\n",
              "      <td>5.1</td>\n",
              "      <td>222.0</td>\n",
              "      <td>58.0</td>\n",
              "      <td>79.0</td>\n",
              "      <td>132.0</td>\n",
              "      <td>17.0</td>\n",
              "      <td>10.0</td>\n",
              "      <td>34.0</td>\n",
              "      <td>5.542</td>\n",
              "      <td>8.79</td>\n",
              "    </tr>\n",
              "    <tr>\n",
              "      <th>420</th>\n",
              "      <td>1.0</td>\n",
              "      <td>29.0</td>\n",
              "      <td>67.768</td>\n",
              "      <td>169.90</td>\n",
              "      <td>23.87</td>\n",
              "      <td>117.205</td>\n",
              "      <td>75.50</td>\n",
              "      <td>85.37</td>\n",
              "      <td>29.753</td>\n",
              "      <td>16.638</td>\n",
              "      <td>...</td>\n",
              "      <td>6.8</td>\n",
              "      <td>140.0</td>\n",
              "      <td>92.0</td>\n",
              "      <td>48.0</td>\n",
              "      <td>73.0</td>\n",
              "      <td>31.0</td>\n",
              "      <td>75.0</td>\n",
              "      <td>69.0</td>\n",
              "      <td>5.725</td>\n",
              "      <td>8.93</td>\n",
              "    </tr>\n",
              "    <tr>\n",
              "      <th>421</th>\n",
              "      <td>2.0</td>\n",
              "      <td>31.0</td>\n",
              "      <td>61.935</td>\n",
              "      <td>161.46</td>\n",
              "      <td>24.06</td>\n",
              "      <td>113.340</td>\n",
              "      <td>71.31</td>\n",
              "      <td>73.77</td>\n",
              "      <td>23.295</td>\n",
              "      <td>21.851</td>\n",
              "      <td>...</td>\n",
              "      <td>4.0</td>\n",
              "      <td>243.0</td>\n",
              "      <td>161.0</td>\n",
              "      <td>87.0</td>\n",
              "      <td>124.0</td>\n",
              "      <td>24.0</td>\n",
              "      <td>11.0</td>\n",
              "      <td>46.0</td>\n",
              "      <td>4.818</td>\n",
              "      <td>7.92</td>\n",
              "    </tr>\n",
              "  </tbody>\n",
              "</table>\n",
              "<p>422 rows × 27 columns</p>\n",
              "</div>\n",
              "      <button class=\"colab-df-convert\" onclick=\"convertToInteractive('df-784d6c52-5112-4a14-b494-7f7904ad5bce')\"\n",
              "              title=\"Convert this dataframe to an interactive table.\"\n",
              "              style=\"display:none;\">\n",
              "        \n",
              "  <svg xmlns=\"http://www.w3.org/2000/svg\" height=\"24px\"viewBox=\"0 0 24 24\"\n",
              "       width=\"24px\">\n",
              "    <path d=\"M0 0h24v24H0V0z\" fill=\"none\"/>\n",
              "    <path d=\"M18.56 5.44l.94 2.06.94-2.06 2.06-.94-2.06-.94-.94-2.06-.94 2.06-2.06.94zm-11 1L8.5 8.5l.94-2.06 2.06-.94-2.06-.94L8.5 2.5l-.94 2.06-2.06.94zm10 10l.94 2.06.94-2.06 2.06-.94-2.06-.94-.94-2.06-.94 2.06-2.06.94z\"/><path d=\"M17.41 7.96l-1.37-1.37c-.4-.4-.92-.59-1.43-.59-.52 0-1.04.2-1.43.59L10.3 9.45l-7.72 7.72c-.78.78-.78 2.05 0 2.83L4 21.41c.39.39.9.59 1.41.59.51 0 1.02-.2 1.41-.59l7.78-7.78 2.81-2.81c.8-.78.8-2.07 0-2.86zM5.41 20L4 18.59l7.72-7.72 1.47 1.35L5.41 20z\"/>\n",
              "  </svg>\n",
              "      </button>\n",
              "      \n",
              "  <style>\n",
              "    .colab-df-container {\n",
              "      display:flex;\n",
              "      flex-wrap:wrap;\n",
              "      gap: 12px;\n",
              "    }\n",
              "\n",
              "    .colab-df-convert {\n",
              "      background-color: #E8F0FE;\n",
              "      border: none;\n",
              "      border-radius: 50%;\n",
              "      cursor: pointer;\n",
              "      display: none;\n",
              "      fill: #1967D2;\n",
              "      height: 32px;\n",
              "      padding: 0 0 0 0;\n",
              "      width: 32px;\n",
              "    }\n",
              "\n",
              "    .colab-df-convert:hover {\n",
              "      background-color: #E2EBFA;\n",
              "      box-shadow: 0px 1px 2px rgba(60, 64, 67, 0.3), 0px 1px 3px 1px rgba(60, 64, 67, 0.15);\n",
              "      fill: #174EA6;\n",
              "    }\n",
              "\n",
              "    [theme=dark] .colab-df-convert {\n",
              "      background-color: #3B4455;\n",
              "      fill: #D2E3FC;\n",
              "    }\n",
              "\n",
              "    [theme=dark] .colab-df-convert:hover {\n",
              "      background-color: #434B5C;\n",
              "      box-shadow: 0px 1px 3px 1px rgba(0, 0, 0, 0.15);\n",
              "      filter: drop-shadow(0px 1px 2px rgba(0, 0, 0, 0.3));\n",
              "      fill: #FFFFFF;\n",
              "    }\n",
              "  </style>\n",
              "\n",
              "      <script>\n",
              "        const buttonEl =\n",
              "          document.querySelector('#df-784d6c52-5112-4a14-b494-7f7904ad5bce button.colab-df-convert');\n",
              "        buttonEl.style.display =\n",
              "          google.colab.kernel.accessAllowed ? 'block' : 'none';\n",
              "\n",
              "        async function convertToInteractive(key) {\n",
              "          const element = document.querySelector('#df-784d6c52-5112-4a14-b494-7f7904ad5bce');\n",
              "          const dataTable =\n",
              "            await google.colab.kernel.invokeFunction('convertToInteractive',\n",
              "                                                     [key], {});\n",
              "          if (!dataTable) return;\n",
              "\n",
              "          const docLinkHtml = 'Like what you see? Visit the ' +\n",
              "            '<a target=\"_blank\" href=https://colab.research.google.com/notebooks/data_table.ipynb>data table notebook</a>'\n",
              "            + ' to learn more about interactive tables.';\n",
              "          element.innerHTML = '';\n",
              "          dataTable['output_type'] = 'display_data';\n",
              "          await google.colab.output.renderOutput(dataTable, element);\n",
              "          const docLink = document.createElement('div');\n",
              "          docLink.innerHTML = docLinkHtml;\n",
              "          element.appendChild(docLink);\n",
              "        }\n",
              "      </script>\n",
              "    </div>\n",
              "  </div>\n",
              "  "
            ]
          },
          "metadata": {},
          "execution_count": 21
        }
      ],
      "source": [
        "data2"
      ]
    },
    {
      "cell_type": "code",
      "execution_count": null,
      "metadata": {
        "id": "TqR-8YOWkbJG"
      },
      "outputs": [],
      "source": [
        "scaler = MinMaxScaler()\n",
        "Scaler = scaler.fit_transform(data2)"
      ]
    },
    {
      "cell_type": "code",
      "execution_count": null,
      "metadata": {
        "id": "nGHdHoSIkdeL"
      },
      "outputs": [],
      "source": [
        "df2 = pd.DataFrame(  Scaler, columns = ['Sex' , 'AgeSYear', 'telomere length (kb)','Weight','Height','BMI','Systolic','Diastolic','HeartRate','SMM','Fat Mass',\n",
        "                                       '% Body fat','waist to hip radio','abdominal circumference','visceral fat area','Glucose','BUN','Creatinine','Uric Acid','Cholesterol',\n",
        "                                       'Triglyceride','HDL-C','LDL','AST','ALT','Alkaline Phos','HbA1c'])"
      ]
    },
    {
      "cell_type": "code",
      "execution_count": null,
      "metadata": {
        "colab": {
          "base_uri": "https://localhost:8080/"
        },
        "id": "rPEwrxp7kjDi",
        "outputId": "385de8b3-d2e0-4bf2-cec5-2e3bd882b7ff"
      },
      "outputs": [
        {
          "output_type": "stream",
          "name": "stderr",
          "text": [
            "<ipython-input-24-7d77ef194ec6>:2: FutureWarning: In a future version of pandas all arguments of DataFrame.drop except for the argument 'labels' will be keyword-only\n",
            "  X = df2.drop('telomere length (kb)',1)\n"
          ]
        }
      ],
      "source": [
        "y = df2['telomere length (kb)']\n",
        "X = df2.drop('telomere length (kb)',1)"
      ]
    },
    {
      "cell_type": "code",
      "execution_count": null,
      "metadata": {
        "colab": {
          "base_uri": "https://localhost:8080/"
        },
        "id": "0fJd9GbSkoW3",
        "outputId": "e6a32bba-7882-4dbe-a6c2-1d8ce5441c17"
      },
      "outputs": [
        {
          "output_type": "execute_result",
          "data": {
            "text/plain": [
              "RandomForestRegressor(random_state=99)"
            ]
          },
          "metadata": {},
          "execution_count": 27
        }
      ],
      "source": [
        "X_train, X_test, y_train, y_test = train_test_split(X, y, test_size=0.2, random_state=99)\n",
        "rg2 = RandomForestRegressor(n_estimators=100,random_state=99)\n",
        "rg2.fit(X_train, y_train)"
      ]
    },
    {
      "cell_type": "code",
      "execution_count": null,
      "metadata": {
        "colab": {
          "base_uri": "https://localhost:8080/"
        },
        "id": "V-ZmVXovk0KW",
        "outputId": "4ba6db75-f3ad-4182-82ea-e607b32abe92"
      },
      "outputs": [
        {
          "output_type": "execute_result",
          "data": {
            "text/plain": [
              "array([0.67309125, 0.1775419 , 0.41778417, 0.5586473 , 0.4494568 ,\n",
              "       0.43056555, 0.21054618, 0.20044693, 0.51186965, 0.6596648 ,\n",
              "       0.52868529, 0.46759832, 0.18171322, 0.19912477, 0.35501583,\n",
              "       0.18180633, 0.54811769, 0.27800745, 0.27577281, 0.82100559,\n",
              "       0.28022346, 0.50906574, 0.20891993, 0.30741136, 0.11191806,\n",
              "       0.07074488, 0.35735214, 0.68032924, 0.08994413, 0.44675978,\n",
              "       0.23042831, 0.28253259, 0.20635009, 0.3117689 , 0.82746741,\n",
              "       0.27230912, 0.77655493, 0.20422719, 0.23951583, 0.40417784,\n",
              "       0.13903166, 0.64573557, 0.40253408, 0.7555121 , 0.33484171,\n",
              "       0.15664804, 0.34321341, 0.14798883, 0.14182495, 0.08512104,\n",
              "       0.56034227, 0.56845661, 0.29331471, 0.2862257 , 0.2807635 ,\n",
              "       0.35510149, 0.58737877, 0.38754022, 0.3264432 , 0.14128492,\n",
              "       0.39827765, 0.82013035, 0.35859534, 0.33368715, 0.24124767,\n",
              "       0.18480447, 0.37243203, 0.43186685, 0.57839851, 0.51547169,\n",
              "       0.60538175, 0.18394786, 0.49743687, 0.28106741, 0.64884544,\n",
              "       0.32486629, 0.36132458, 0.26608305, 0.23337058, 0.07191806,\n",
              "       0.43445251, 0.06480447, 0.45363724, 0.34089385, 0.23361266])"
            ]
          },
          "metadata": {},
          "execution_count": 28
        }
      ],
      "source": [
        "y_pred = rg2.predict(X_test)\n",
        "y_pred"
      ]
    },
    {
      "cell_type": "code",
      "source": [
        "#Train\n",
        "print('R2 Value Train:',metrics.r2_score(y_train, rg2.predict(X_train)))\n",
        "print('MSE Train:',metrics.mean_squared_error(y_train, rg2.predict(X_train)))\n",
        "print('MAE Train:',metrics.mean_absolute_error(y_train, rg2.predict(X_train)))"
      ],
      "metadata": {
        "colab": {
          "base_uri": "https://localhost:8080/"
        },
        "id": "hgP9oIJC9xyQ",
        "outputId": "8590e3b6-619c-493b-f1b5-510962501e21"
      },
      "execution_count": null,
      "outputs": [
        {
          "output_type": "stream",
          "name": "stdout",
          "text": [
            "R2 Value Train: 0.9936340181673807\n",
            "MSE Train: 0.00020289119423686546\n",
            "MAE Train: 0.009567077786803322\n"
          ]
        }
      ]
    },
    {
      "cell_type": "code",
      "source": [
        "import numpy as np\n",
        "print('MAPE : ',100- (np.mean(np.abs((y_test - y_pred) / y_test)) * 100))"
      ],
      "metadata": {
        "colab": {
          "base_uri": "https://localhost:8080/"
        },
        "id": "iXlGWZ4IaAYI",
        "outputId": "7381bde9-68b7-4ad7-85c0-3e6d2cb79327"
      },
      "execution_count": null,
      "outputs": [
        {
          "output_type": "stream",
          "name": "stdout",
          "text": [
            "MAPE :  68.28195486586704\n"
          ]
        }
      ]
    },
    {
      "cell_type": "code",
      "source": [
        "#Test\n",
        "print('R2 Value Test:',metrics.r2_score(y_test, y_pred))\n",
        "print('MSE Test:',metrics.mean_squared_error(y_test, y_pred))\n",
        "print('MAE Test:',metrics.mean_absolute_error(y_test, y_pred))"
      ],
      "metadata": {
        "colab": {
          "base_uri": "https://localhost:8080/"
        },
        "id": "38u9h91c9zGu",
        "outputId": "939d4eb1-e0c1-4cb3-cfc1-d040a7172d7f"
      },
      "execution_count": null,
      "outputs": [
        {
          "output_type": "stream",
          "name": "stdout",
          "text": [
            "R2 Value Test: 0.9481918611502428\n",
            "MSE Test: 0.0023240642596175356\n",
            "MAE Test: 0.03127911490853327\n"
          ]
        }
      ]
    },
    {
      "cell_type": "markdown",
      "metadata": {
        "id": "hvgpm45wIEaQ"
      },
      "source": [
        "### hyper"
      ]
    },
    {
      "cell_type": "code",
      "execution_count": null,
      "metadata": {
        "colab": {
          "base_uri": "https://localhost:8080/"
        },
        "id": "kJTiZvH9IFD6",
        "outputId": "4c23c48b-6a16-4bdc-c751-fa9d755af893"
      },
      "outputs": [
        {
          "output_type": "stream",
          "name": "stderr",
          "text": [
            "<ipython-input-16-e2bf7b4127fa>:3: FutureWarning: In a future version of pandas all arguments of DataFrame.drop except for the argument 'labels' will be keyword-only\n",
            "  X = data.drop('telomere length (kb)',1)\n"
          ]
        },
        {
          "output_type": "execute_result",
          "data": {
            "text/plain": [
              "{'bootstrap': False,\n",
              " 'max_depth': 10,\n",
              " 'max_features': 5,\n",
              " 'min_samples_leaf': 1,\n",
              " 'min_samples_split': 6,\n",
              " 'n_estimators': 300,\n",
              " 'random_state': 216}"
            ]
          },
          "metadata": {},
          "execution_count": 38
        }
      ],
      "source": [
        "hyperparameter(df2)"
      ]
    },
    {
      "cell_type": "code",
      "execution_count": null,
      "metadata": {
        "colab": {
          "base_uri": "https://localhost:8080/"
        },
        "id": "2IdvjTxjiMYi",
        "outputId": "8262b495-d832-493e-8c75-880c53e83e28"
      },
      "outputs": [
        {
          "output_type": "execute_result",
          "data": {
            "text/plain": [
              "RandomForestRegressor(bootstrap=False, max_depth=10, max_features=5,\n",
              "                      min_samples_split=6, n_estimators=300, random_state=99)"
            ]
          },
          "metadata": {},
          "execution_count": 32
        }
      ],
      "source": [
        "rg2 = RandomForestRegressor(n_estimators=300,max_features=5,bootstrap= False,random_state=99,\n",
        "                           max_depth=10,min_samples_leaf=1,min_samples_split=6)\n",
        "rg2.fit(X_train, y_train)"
      ]
    },
    {
      "cell_type": "code",
      "execution_count": null,
      "metadata": {
        "colab": {
          "base_uri": "https://localhost:8080/"
        },
        "id": "9HtWASrdirQk",
        "outputId": "7da39fb8-caa3-4fe2-b62c-1c6d057e50ee"
      },
      "outputs": [
        {
          "output_type": "execute_result",
          "data": {
            "text/plain": [
              "array([0.64573322, 0.20030929, 0.41143759, 0.55086169, 0.45456178,\n",
              "       0.44550056, 0.19535041, 0.20109207, 0.5363183 , 0.65318629,\n",
              "       0.53979213, 0.49903769, 0.18284674, 0.19009161, 0.35626249,\n",
              "       0.17313333, 0.52989741, 0.28562196, 0.27754468, 0.79406576,\n",
              "       0.27942857, 0.51697571, 0.20926617, 0.28802687, 0.11616287,\n",
              "       0.10702766, 0.36201733, 0.69629705, 0.1481207 , 0.44951928,\n",
              "       0.22867149, 0.28395149, 0.20581353, 0.31814845, 0.79808964,\n",
              "       0.27008537, 0.76588702, 0.23304828, 0.26757597, 0.38601324,\n",
              "       0.14179993, 0.63895448, 0.39099102, 0.73092624, 0.33516822,\n",
              "       0.15708112, 0.3371539 , 0.1502084 , 0.15003964, 0.18499319,\n",
              "       0.51317803, 0.56467865, 0.30197591, 0.25711307, 0.27197059,\n",
              "       0.34014795, 0.56152881, 0.38342567, 0.32787683, 0.13827287,\n",
              "       0.4022721 , 0.75279982, 0.36095723, 0.34828051, 0.26303367,\n",
              "       0.23316803, 0.36035923, 0.45785393, 0.56853193, 0.47854336,\n",
              "       0.55365167, 0.22425646, 0.54439311, 0.25602847, 0.61394474,\n",
              "       0.31195822, 0.34854435, 0.26567305, 0.23625293, 0.13209326,\n",
              "       0.42422233, 0.15304936, 0.45804555, 0.34024054, 0.24781713])"
            ]
          },
          "metadata": {},
          "execution_count": 33
        }
      ],
      "source": [
        "y_pred = rg2.predict(X_test)\n",
        "y_pred"
      ]
    },
    {
      "cell_type": "code",
      "execution_count": null,
      "metadata": {
        "colab": {
          "base_uri": "https://localhost:8080/"
        },
        "id": "Pa1G0eYTiuCu",
        "outputId": "5088aedd-2638-453a-815f-88f5eccf66c1"
      },
      "outputs": [
        {
          "output_type": "stream",
          "name": "stdout",
          "text": [
            "R2 Value Train: 0.9980156455951525\n",
            "MSE Train: 6.324366697462637e-05\n",
            "MAE Train: 0.005216866431979485\n"
          ]
        }
      ],
      "source": [
        "#Train\n",
        "print('R2 Value Train:',metrics.r2_score(y_train, rg2.predict(X_train)))\n",
        "print('MSE Train:',metrics.mean_squared_error(y_train, rg2.predict(X_train)))\n",
        "print('MAE Train:',metrics.mean_absolute_error(y_train, rg2.predict(X_train)))"
      ]
    },
    {
      "cell_type": "code",
      "source": [
        "import numpy as np\n",
        "print('MAPE : ',100- (np.mean(np.abs((y_test - y_pred) / y_test)) * 100))"
      ],
      "metadata": {
        "colab": {
          "base_uri": "https://localhost:8080/"
        },
        "id": "uBN_8i_9aDcM",
        "outputId": "18deb459-51bc-474b-9d1b-10783def3895"
      },
      "execution_count": null,
      "outputs": [
        {
          "output_type": "stream",
          "name": "stdout",
          "text": [
            "MAPE :  45.23100242335936\n"
          ]
        }
      ]
    },
    {
      "cell_type": "code",
      "execution_count": null,
      "metadata": {
        "colab": {
          "base_uri": "https://localhost:8080/"
        },
        "id": "mx6mhoOMiw4a",
        "outputId": "96de4119-efe4-44fa-d4c9-ba6ec8d4c751"
      },
      "outputs": [
        {
          "output_type": "stream",
          "name": "stdout",
          "text": [
            "R2 Value Test: 0.9345309432699974\n",
            "MSE Test: 0.0029368801550334975\n",
            "MAE Test: 0.03580324307283109\n"
          ]
        }
      ],
      "source": [
        "#Test\n",
        "print('R2 Value Test:',metrics.r2_score(y_test, y_pred))\n",
        "print('MSE Test:',metrics.mean_squared_error(y_test, y_pred))\n",
        "print('MAE Test:',metrics.mean_absolute_error(y_test, y_pred))"
      ]
    },
    {
      "cell_type": "markdown",
      "metadata": {
        "id": "MrBzXp2KlLum"
      },
      "source": [
        "# data control"
      ]
    },
    {
      "cell_type": "code",
      "execution_count": null,
      "metadata": {
        "colab": {
          "base_uri": "https://localhost:8080/"
        },
        "id": "rFY9WCrqlOTw",
        "outputId": "459013e3-917a-4c8f-f8d6-91c1bb0a90ef"
      },
      "outputs": [
        {
          "output_type": "stream",
          "name": "stderr",
          "text": [
            "<ipython-input-37-eab412fc4bad>:3: FutureWarning: In a future version of pandas all arguments of DataFrame.drop except for the argument 'labels' will be keyword-only\n",
            "  data3.drop({'Unnamed: 0'},1,inplace = True)\n"
          ]
        }
      ],
      "source": [
        "data_file_path = os.path.join(path,'data_notmissing.csv') #ไปที่ไฟล์ confirmed-cases-since-280265.csv\n",
        "data3 = pd.read_csv(data_file_path)\n",
        "data3.drop({'Unnamed: 0'},1,inplace = True)"
      ]
    },
    {
      "cell_type": "code",
      "execution_count": null,
      "metadata": {
        "id": "xdjH3FxKldNQ"
      },
      "outputs": [],
      "source": [
        "scaler = MinMaxScaler()\n",
        "Scaler = scaler.fit_transform(data3)"
      ]
    },
    {
      "cell_type": "code",
      "execution_count": null,
      "metadata": {
        "id": "avGOUpZMlyZd"
      },
      "outputs": [],
      "source": [
        "df3 = pd.DataFrame(Scaler, columns = ['Sex' , 'AgeSYear', 'telomere length (kb)','Weight','Height','BMI','Systolic','Diastolic','HeartRate','SMM','Fat Mass',\n",
        "                                       '% Body fat','waist to hip radio','abdominal circumference','visceral fat area','Glucose','BUN','Creatinine','Uric Acid','Cholesterol',\n",
        "                                       'Triglyceride','HDL-C','LDL','AST','ALT','Alkaline Phos','HbA1c'])"
      ]
    },
    {
      "cell_type": "code",
      "execution_count": null,
      "metadata": {
        "colab": {
          "base_uri": "https://localhost:8080/",
          "height": 522
        },
        "id": "UR4nHbF-mTcn",
        "outputId": "119be7d1-d0eb-4795-f059-49531eb054fb"
      },
      "outputs": [
        {
          "output_type": "execute_result",
          "data": {
            "text/plain": [
              "     Sex  AgeSYear  telomere length (kb)    Weight    Height       BMI  \\\n",
              "0    1.0  0.660714              0.275862  0.127413  0.181818  0.284483   \n",
              "1    1.0  0.071429              0.720159  0.239382  0.272727  0.405172   \n",
              "2    1.0  0.750000              0.250663  0.262548  0.454545  0.267241   \n",
              "3    1.0  0.267857              0.391247  0.299228  0.363636  0.413793   \n",
              "4    0.0  0.464286              0.297082  0.608108  0.568182  0.698276   \n",
              "..   ...       ...                   ...       ...       ...       ...   \n",
              "148  0.0  0.714286              0.202918  0.602317  0.568182  0.689655   \n",
              "149  0.0  0.678571              0.102122  0.409266  0.522727  0.439655   \n",
              "150  1.0  0.392857              0.689655  0.283784  0.454545  0.301724   \n",
              "151  1.0  0.732143              0.236074  0.405405  0.318182  0.646552   \n",
              "152  1.0  0.196429              0.684350  0.335907  0.545455  0.301724   \n",
              "\n",
              "     Systolic  Diastolic  HeartRate       SMM  ...  Creatinine  Uric Acid  \\\n",
              "0    0.444444   0.621622   0.310345  0.085409  ...         0.6   0.517241   \n",
              "1    0.269841   0.459459   0.465517  0.156584  ...         0.4   0.551724   \n",
              "2    0.142857   0.621622   0.551724  0.167260  ...         0.3   0.362069   \n",
              "3    0.142857   0.135135   0.362069  0.199288  ...         0.2   0.517241   \n",
              "4    0.746032   0.675676   0.965517  0.437722  ...         0.5   0.844828   \n",
              "..        ...        ...        ...       ...  ...         ...        ...   \n",
              "148  0.714286   0.594595   0.310345  0.483986  ...         0.5   0.844828   \n",
              "149  0.269841   0.648649   0.362069  0.387900  ...         0.6   0.827586   \n",
              "150  0.253968   0.000000   0.448276  0.213523  ...         0.4   0.465517   \n",
              "151  0.492063   0.216216   0.362069  0.231317  ...         0.4   0.534483   \n",
              "152  0.349206   0.459459   0.379310  0.288256  ...         0.3   0.396552   \n",
              "\n",
              "     Cholesterol  Triglyceride     HDL-C       LDL       AST       ALT  \\\n",
              "0       0.409091      0.132296  0.740741  0.290909  0.118644  0.000000   \n",
              "1       0.280303      0.108949  0.370370  0.327273  0.067797  0.032258   \n",
              "2       0.818182      0.299611  0.537037  0.809091  0.152542  0.483871   \n",
              "3       0.575758      0.116732  0.666667  0.527273  0.118644  0.129032   \n",
              "4       0.545455      0.178988  0.518519  0.545455  0.101695  0.096774   \n",
              "..           ...           ...       ...       ...       ...       ...   \n",
              "148     0.454545      0.630350  0.129630  0.409091  0.457627  0.483871   \n",
              "149     0.522727      0.175097  0.277778  0.636364  0.118644  0.548387   \n",
              "150     0.681818      0.198444  0.574074  0.663636  0.033898  0.000000   \n",
              "151     0.856061      0.190661  0.444444  0.945455  0.101695  0.225806   \n",
              "152     0.590909      0.105058  0.444444  0.663636  0.084746  0.161290   \n",
              "\n",
              "     Alkaline Phos     HbA1c  \n",
              "0         0.582278  0.426230  \n",
              "1         0.430380  0.475410  \n",
              "2         0.759494  0.508197  \n",
              "3         0.240506  0.426230  \n",
              "4         0.670886  0.442623  \n",
              "..             ...       ...  \n",
              "148       0.797468  0.655738  \n",
              "149       0.329114  0.704918  \n",
              "150       0.215190  0.377049  \n",
              "151       0.354430  0.475410  \n",
              "152       0.189873  0.360656  \n",
              "\n",
              "[153 rows x 27 columns]"
            ],
            "text/html": [
              "\n",
              "  <div id=\"df-16d8c620-95b0-4e7a-a816-42f3988b122d\">\n",
              "    <div class=\"colab-df-container\">\n",
              "      <div>\n",
              "<style scoped>\n",
              "    .dataframe tbody tr th:only-of-type {\n",
              "        vertical-align: middle;\n",
              "    }\n",
              "\n",
              "    .dataframe tbody tr th {\n",
              "        vertical-align: top;\n",
              "    }\n",
              "\n",
              "    .dataframe thead th {\n",
              "        text-align: right;\n",
              "    }\n",
              "</style>\n",
              "<table border=\"1\" class=\"dataframe\">\n",
              "  <thead>\n",
              "    <tr style=\"text-align: right;\">\n",
              "      <th></th>\n",
              "      <th>Sex</th>\n",
              "      <th>AgeSYear</th>\n",
              "      <th>telomere length (kb)</th>\n",
              "      <th>Weight</th>\n",
              "      <th>Height</th>\n",
              "      <th>BMI</th>\n",
              "      <th>Systolic</th>\n",
              "      <th>Diastolic</th>\n",
              "      <th>HeartRate</th>\n",
              "      <th>SMM</th>\n",
              "      <th>...</th>\n",
              "      <th>Creatinine</th>\n",
              "      <th>Uric Acid</th>\n",
              "      <th>Cholesterol</th>\n",
              "      <th>Triglyceride</th>\n",
              "      <th>HDL-C</th>\n",
              "      <th>LDL</th>\n",
              "      <th>AST</th>\n",
              "      <th>ALT</th>\n",
              "      <th>Alkaline Phos</th>\n",
              "      <th>HbA1c</th>\n",
              "    </tr>\n",
              "  </thead>\n",
              "  <tbody>\n",
              "    <tr>\n",
              "      <th>0</th>\n",
              "      <td>1.0</td>\n",
              "      <td>0.660714</td>\n",
              "      <td>0.275862</td>\n",
              "      <td>0.127413</td>\n",
              "      <td>0.181818</td>\n",
              "      <td>0.284483</td>\n",
              "      <td>0.444444</td>\n",
              "      <td>0.621622</td>\n",
              "      <td>0.310345</td>\n",
              "      <td>0.085409</td>\n",
              "      <td>...</td>\n",
              "      <td>0.6</td>\n",
              "      <td>0.517241</td>\n",
              "      <td>0.409091</td>\n",
              "      <td>0.132296</td>\n",
              "      <td>0.740741</td>\n",
              "      <td>0.290909</td>\n",
              "      <td>0.118644</td>\n",
              "      <td>0.000000</td>\n",
              "      <td>0.582278</td>\n",
              "      <td>0.426230</td>\n",
              "    </tr>\n",
              "    <tr>\n",
              "      <th>1</th>\n",
              "      <td>1.0</td>\n",
              "      <td>0.071429</td>\n",
              "      <td>0.720159</td>\n",
              "      <td>0.239382</td>\n",
              "      <td>0.272727</td>\n",
              "      <td>0.405172</td>\n",
              "      <td>0.269841</td>\n",
              "      <td>0.459459</td>\n",
              "      <td>0.465517</td>\n",
              "      <td>0.156584</td>\n",
              "      <td>...</td>\n",
              "      <td>0.4</td>\n",
              "      <td>0.551724</td>\n",
              "      <td>0.280303</td>\n",
              "      <td>0.108949</td>\n",
              "      <td>0.370370</td>\n",
              "      <td>0.327273</td>\n",
              "      <td>0.067797</td>\n",
              "      <td>0.032258</td>\n",
              "      <td>0.430380</td>\n",
              "      <td>0.475410</td>\n",
              "    </tr>\n",
              "    <tr>\n",
              "      <th>2</th>\n",
              "      <td>1.0</td>\n",
              "      <td>0.750000</td>\n",
              "      <td>0.250663</td>\n",
              "      <td>0.262548</td>\n",
              "      <td>0.454545</td>\n",
              "      <td>0.267241</td>\n",
              "      <td>0.142857</td>\n",
              "      <td>0.621622</td>\n",
              "      <td>0.551724</td>\n",
              "      <td>0.167260</td>\n",
              "      <td>...</td>\n",
              "      <td>0.3</td>\n",
              "      <td>0.362069</td>\n",
              "      <td>0.818182</td>\n",
              "      <td>0.299611</td>\n",
              "      <td>0.537037</td>\n",
              "      <td>0.809091</td>\n",
              "      <td>0.152542</td>\n",
              "      <td>0.483871</td>\n",
              "      <td>0.759494</td>\n",
              "      <td>0.508197</td>\n",
              "    </tr>\n",
              "    <tr>\n",
              "      <th>3</th>\n",
              "      <td>1.0</td>\n",
              "      <td>0.267857</td>\n",
              "      <td>0.391247</td>\n",
              "      <td>0.299228</td>\n",
              "      <td>0.363636</td>\n",
              "      <td>0.413793</td>\n",
              "      <td>0.142857</td>\n",
              "      <td>0.135135</td>\n",
              "      <td>0.362069</td>\n",
              "      <td>0.199288</td>\n",
              "      <td>...</td>\n",
              "      <td>0.2</td>\n",
              "      <td>0.517241</td>\n",
              "      <td>0.575758</td>\n",
              "      <td>0.116732</td>\n",
              "      <td>0.666667</td>\n",
              "      <td>0.527273</td>\n",
              "      <td>0.118644</td>\n",
              "      <td>0.129032</td>\n",
              "      <td>0.240506</td>\n",
              "      <td>0.426230</td>\n",
              "    </tr>\n",
              "    <tr>\n",
              "      <th>4</th>\n",
              "      <td>0.0</td>\n",
              "      <td>0.464286</td>\n",
              "      <td>0.297082</td>\n",
              "      <td>0.608108</td>\n",
              "      <td>0.568182</td>\n",
              "      <td>0.698276</td>\n",
              "      <td>0.746032</td>\n",
              "      <td>0.675676</td>\n",
              "      <td>0.965517</td>\n",
              "      <td>0.437722</td>\n",
              "      <td>...</td>\n",
              "      <td>0.5</td>\n",
              "      <td>0.844828</td>\n",
              "      <td>0.545455</td>\n",
              "      <td>0.178988</td>\n",
              "      <td>0.518519</td>\n",
              "      <td>0.545455</td>\n",
              "      <td>0.101695</td>\n",
              "      <td>0.096774</td>\n",
              "      <td>0.670886</td>\n",
              "      <td>0.442623</td>\n",
              "    </tr>\n",
              "    <tr>\n",
              "      <th>...</th>\n",
              "      <td>...</td>\n",
              "      <td>...</td>\n",
              "      <td>...</td>\n",
              "      <td>...</td>\n",
              "      <td>...</td>\n",
              "      <td>...</td>\n",
              "      <td>...</td>\n",
              "      <td>...</td>\n",
              "      <td>...</td>\n",
              "      <td>...</td>\n",
              "      <td>...</td>\n",
              "      <td>...</td>\n",
              "      <td>...</td>\n",
              "      <td>...</td>\n",
              "      <td>...</td>\n",
              "      <td>...</td>\n",
              "      <td>...</td>\n",
              "      <td>...</td>\n",
              "      <td>...</td>\n",
              "      <td>...</td>\n",
              "      <td>...</td>\n",
              "    </tr>\n",
              "    <tr>\n",
              "      <th>148</th>\n",
              "      <td>0.0</td>\n",
              "      <td>0.714286</td>\n",
              "      <td>0.202918</td>\n",
              "      <td>0.602317</td>\n",
              "      <td>0.568182</td>\n",
              "      <td>0.689655</td>\n",
              "      <td>0.714286</td>\n",
              "      <td>0.594595</td>\n",
              "      <td>0.310345</td>\n",
              "      <td>0.483986</td>\n",
              "      <td>...</td>\n",
              "      <td>0.5</td>\n",
              "      <td>0.844828</td>\n",
              "      <td>0.454545</td>\n",
              "      <td>0.630350</td>\n",
              "      <td>0.129630</td>\n",
              "      <td>0.409091</td>\n",
              "      <td>0.457627</td>\n",
              "      <td>0.483871</td>\n",
              "      <td>0.797468</td>\n",
              "      <td>0.655738</td>\n",
              "    </tr>\n",
              "    <tr>\n",
              "      <th>149</th>\n",
              "      <td>0.0</td>\n",
              "      <td>0.678571</td>\n",
              "      <td>0.102122</td>\n",
              "      <td>0.409266</td>\n",
              "      <td>0.522727</td>\n",
              "      <td>0.439655</td>\n",
              "      <td>0.269841</td>\n",
              "      <td>0.648649</td>\n",
              "      <td>0.362069</td>\n",
              "      <td>0.387900</td>\n",
              "      <td>...</td>\n",
              "      <td>0.6</td>\n",
              "      <td>0.827586</td>\n",
              "      <td>0.522727</td>\n",
              "      <td>0.175097</td>\n",
              "      <td>0.277778</td>\n",
              "      <td>0.636364</td>\n",
              "      <td>0.118644</td>\n",
              "      <td>0.548387</td>\n",
              "      <td>0.329114</td>\n",
              "      <td>0.704918</td>\n",
              "    </tr>\n",
              "    <tr>\n",
              "      <th>150</th>\n",
              "      <td>1.0</td>\n",
              "      <td>0.392857</td>\n",
              "      <td>0.689655</td>\n",
              "      <td>0.283784</td>\n",
              "      <td>0.454545</td>\n",
              "      <td>0.301724</td>\n",
              "      <td>0.253968</td>\n",
              "      <td>0.000000</td>\n",
              "      <td>0.448276</td>\n",
              "      <td>0.213523</td>\n",
              "      <td>...</td>\n",
              "      <td>0.4</td>\n",
              "      <td>0.465517</td>\n",
              "      <td>0.681818</td>\n",
              "      <td>0.198444</td>\n",
              "      <td>0.574074</td>\n",
              "      <td>0.663636</td>\n",
              "      <td>0.033898</td>\n",
              "      <td>0.000000</td>\n",
              "      <td>0.215190</td>\n",
              "      <td>0.377049</td>\n",
              "    </tr>\n",
              "    <tr>\n",
              "      <th>151</th>\n",
              "      <td>1.0</td>\n",
              "      <td>0.732143</td>\n",
              "      <td>0.236074</td>\n",
              "      <td>0.405405</td>\n",
              "      <td>0.318182</td>\n",
              "      <td>0.646552</td>\n",
              "      <td>0.492063</td>\n",
              "      <td>0.216216</td>\n",
              "      <td>0.362069</td>\n",
              "      <td>0.231317</td>\n",
              "      <td>...</td>\n",
              "      <td>0.4</td>\n",
              "      <td>0.534483</td>\n",
              "      <td>0.856061</td>\n",
              "      <td>0.190661</td>\n",
              "      <td>0.444444</td>\n",
              "      <td>0.945455</td>\n",
              "      <td>0.101695</td>\n",
              "      <td>0.225806</td>\n",
              "      <td>0.354430</td>\n",
              "      <td>0.475410</td>\n",
              "    </tr>\n",
              "    <tr>\n",
              "      <th>152</th>\n",
              "      <td>1.0</td>\n",
              "      <td>0.196429</td>\n",
              "      <td>0.684350</td>\n",
              "      <td>0.335907</td>\n",
              "      <td>0.545455</td>\n",
              "      <td>0.301724</td>\n",
              "      <td>0.349206</td>\n",
              "      <td>0.459459</td>\n",
              "      <td>0.379310</td>\n",
              "      <td>0.288256</td>\n",
              "      <td>...</td>\n",
              "      <td>0.3</td>\n",
              "      <td>0.396552</td>\n",
              "      <td>0.590909</td>\n",
              "      <td>0.105058</td>\n",
              "      <td>0.444444</td>\n",
              "      <td>0.663636</td>\n",
              "      <td>0.084746</td>\n",
              "      <td>0.161290</td>\n",
              "      <td>0.189873</td>\n",
              "      <td>0.360656</td>\n",
              "    </tr>\n",
              "  </tbody>\n",
              "</table>\n",
              "<p>153 rows × 27 columns</p>\n",
              "</div>\n",
              "      <button class=\"colab-df-convert\" onclick=\"convertToInteractive('df-16d8c620-95b0-4e7a-a816-42f3988b122d')\"\n",
              "              title=\"Convert this dataframe to an interactive table.\"\n",
              "              style=\"display:none;\">\n",
              "        \n",
              "  <svg xmlns=\"http://www.w3.org/2000/svg\" height=\"24px\"viewBox=\"0 0 24 24\"\n",
              "       width=\"24px\">\n",
              "    <path d=\"M0 0h24v24H0V0z\" fill=\"none\"/>\n",
              "    <path d=\"M18.56 5.44l.94 2.06.94-2.06 2.06-.94-2.06-.94-.94-2.06-.94 2.06-2.06.94zm-11 1L8.5 8.5l.94-2.06 2.06-.94-2.06-.94L8.5 2.5l-.94 2.06-2.06.94zm10 10l.94 2.06.94-2.06 2.06-.94-2.06-.94-.94-2.06-.94 2.06-2.06.94z\"/><path d=\"M17.41 7.96l-1.37-1.37c-.4-.4-.92-.59-1.43-.59-.52 0-1.04.2-1.43.59L10.3 9.45l-7.72 7.72c-.78.78-.78 2.05 0 2.83L4 21.41c.39.39.9.59 1.41.59.51 0 1.02-.2 1.41-.59l7.78-7.78 2.81-2.81c.8-.78.8-2.07 0-2.86zM5.41 20L4 18.59l7.72-7.72 1.47 1.35L5.41 20z\"/>\n",
              "  </svg>\n",
              "      </button>\n",
              "      \n",
              "  <style>\n",
              "    .colab-df-container {\n",
              "      display:flex;\n",
              "      flex-wrap:wrap;\n",
              "      gap: 12px;\n",
              "    }\n",
              "\n",
              "    .colab-df-convert {\n",
              "      background-color: #E8F0FE;\n",
              "      border: none;\n",
              "      border-radius: 50%;\n",
              "      cursor: pointer;\n",
              "      display: none;\n",
              "      fill: #1967D2;\n",
              "      height: 32px;\n",
              "      padding: 0 0 0 0;\n",
              "      width: 32px;\n",
              "    }\n",
              "\n",
              "    .colab-df-convert:hover {\n",
              "      background-color: #E2EBFA;\n",
              "      box-shadow: 0px 1px 2px rgba(60, 64, 67, 0.3), 0px 1px 3px 1px rgba(60, 64, 67, 0.15);\n",
              "      fill: #174EA6;\n",
              "    }\n",
              "\n",
              "    [theme=dark] .colab-df-convert {\n",
              "      background-color: #3B4455;\n",
              "      fill: #D2E3FC;\n",
              "    }\n",
              "\n",
              "    [theme=dark] .colab-df-convert:hover {\n",
              "      background-color: #434B5C;\n",
              "      box-shadow: 0px 1px 3px 1px rgba(0, 0, 0, 0.15);\n",
              "      filter: drop-shadow(0px 1px 2px rgba(0, 0, 0, 0.3));\n",
              "      fill: #FFFFFF;\n",
              "    }\n",
              "  </style>\n",
              "\n",
              "      <script>\n",
              "        const buttonEl =\n",
              "          document.querySelector('#df-16d8c620-95b0-4e7a-a816-42f3988b122d button.colab-df-convert');\n",
              "        buttonEl.style.display =\n",
              "          google.colab.kernel.accessAllowed ? 'block' : 'none';\n",
              "\n",
              "        async function convertToInteractive(key) {\n",
              "          const element = document.querySelector('#df-16d8c620-95b0-4e7a-a816-42f3988b122d');\n",
              "          const dataTable =\n",
              "            await google.colab.kernel.invokeFunction('convertToInteractive',\n",
              "                                                     [key], {});\n",
              "          if (!dataTable) return;\n",
              "\n",
              "          const docLinkHtml = 'Like what you see? Visit the ' +\n",
              "            '<a target=\"_blank\" href=https://colab.research.google.com/notebooks/data_table.ipynb>data table notebook</a>'\n",
              "            + ' to learn more about interactive tables.';\n",
              "          element.innerHTML = '';\n",
              "          dataTable['output_type'] = 'display_data';\n",
              "          await google.colab.output.renderOutput(dataTable, element);\n",
              "          const docLink = document.createElement('div');\n",
              "          docLink.innerHTML = docLinkHtml;\n",
              "          element.appendChild(docLink);\n",
              "        }\n",
              "      </script>\n",
              "    </div>\n",
              "  </div>\n",
              "  "
            ]
          },
          "metadata": {},
          "execution_count": 40
        }
      ],
      "source": [
        "df3"
      ]
    },
    {
      "cell_type": "code",
      "execution_count": null,
      "metadata": {
        "colab": {
          "base_uri": "https://localhost:8080/"
        },
        "id": "8x_rd6pol2XD",
        "outputId": "2169892a-4551-4f71-95cb-4f5a9304da89"
      },
      "outputs": [
        {
          "output_type": "stream",
          "name": "stderr",
          "text": [
            "<ipython-input-61-2db422769c5c>:2: FutureWarning: In a future version of pandas all arguments of DataFrame.drop except for the argument 'labels' will be keyword-only\n",
            "  X = df3.drop('telomere length (kb)',1)\n"
          ]
        }
      ],
      "source": [
        "y = df3['telomere length (kb)']\n",
        "X = df3.drop('telomere length (kb)',1)"
      ]
    },
    {
      "cell_type": "code",
      "execution_count": null,
      "metadata": {
        "colab": {
          "base_uri": "https://localhost:8080/"
        },
        "id": "tdFKMjnQl445",
        "outputId": "04188237-496b-45b4-9129-592241e33cbe"
      },
      "outputs": [
        {
          "output_type": "execute_result",
          "data": {
            "text/plain": [
              "RandomForestRegressor(random_state=99)"
            ]
          },
          "metadata": {},
          "execution_count": 62
        }
      ],
      "source": [
        "X_train, X_test, y_train, y_test = train_test_split(X, y, test_size=0.2, random_state=99)\n",
        "rg3 = RandomForestRegressor(n_estimators=100,random_state=99)\n",
        "rg3.fit(X_train, y_train)"
      ]
    },
    {
      "cell_type": "code",
      "execution_count": null,
      "metadata": {
        "colab": {
          "base_uri": "https://localhost:8080/"
        },
        "id": "YZ0gsUI3l7pn",
        "outputId": "c07c88c7-313f-4456-f744-fc0029e43c92"
      },
      "outputs": [
        {
          "output_type": "execute_result",
          "data": {
            "text/plain": [
              "array([0.40253316, 0.19970822, 0.46221485, 0.23181698, 0.62949602,\n",
              "       0.76176393, 0.27603448, 0.39616711, 0.57062334, 0.24734748,\n",
              "       0.35408488, 0.39689655, 0.53806366, 0.47139257, 0.46712202,\n",
              "       0.57746684, 0.22696286, 0.52985411, 0.54324934, 0.56864721,\n",
              "       0.6805305 , 0.36213528, 0.57629973, 0.68270557, 0.25125995,\n",
              "       0.41701592, 0.29381963, 0.57872679, 0.23039788, 0.55009284,\n",
              "       0.45307692])"
            ]
          },
          "metadata": {},
          "execution_count": 63
        }
      ],
      "source": [
        "y_pred = rg3.predict(X_test)\n",
        "y_pred"
      ]
    },
    {
      "cell_type": "code",
      "execution_count": null,
      "metadata": {
        "colab": {
          "base_uri": "https://localhost:8080/"
        },
        "id": "BUnuGTYvl-CG",
        "outputId": "bf95e7c8-0fab-4869-cc3d-d7d1144fd9ca"
      },
      "outputs": [
        {
          "output_type": "stream",
          "name": "stdout",
          "text": [
            "R2 Value Train: 0.9622426425861496\n",
            "MSE Train: 0.0015240543902681838\n",
            "MAE Train: 0.030085119798234583\n"
          ]
        }
      ],
      "source": [
        "#Train\n",
        "print('R2 Value Train:',metrics.r2_score(y_train, rg3.predict(X_train)))\n",
        "print('MSE Train:',metrics.mean_squared_error(y_train, rg3.predict(X_train)))\n",
        "print('MAE Train:',metrics.mean_absolute_error(y_train, rg3.predict(X_train)))"
      ]
    },
    {
      "cell_type": "code",
      "source": [
        "import numpy as np\n",
        "print('MAPE : ',100- (np.mean(np.abs((y_test - y_pred) / y_test)) * 100))"
      ],
      "metadata": {
        "colab": {
          "base_uri": "https://localhost:8080/"
        },
        "id": "yrD8M_v5agVC",
        "outputId": "fe104b47-17fe-47e2-dd81-4278ff3bf50d"
      },
      "execution_count": null,
      "outputs": [
        {
          "output_type": "stream",
          "name": "stdout",
          "text": [
            "MAPE :  67.08701803482892\n"
          ]
        }
      ]
    },
    {
      "cell_type": "code",
      "execution_count": null,
      "metadata": {
        "colab": {
          "base_uri": "https://localhost:8080/"
        },
        "id": "Bw1fKKXIgnG_",
        "outputId": "b5c70d8b-c62e-42b7-a075-f5e4b58264a9"
      },
      "outputs": [
        {
          "output_type": "stream",
          "name": "stdout",
          "text": [
            "R2 Value Test: 0.4870174727923935\n",
            "MSE Test: 0.021062028282348665\n",
            "MAE Test: 0.1229220501411824\n"
          ]
        }
      ],
      "source": [
        "#Test\n",
        "print('R2 Value Test:',metrics.r2_score(y_test, y_pred))\n",
        "print('MSE Test:',metrics.mean_squared_error(y_test, y_pred))\n",
        "print('MAE Test:',metrics.mean_absolute_error(y_test, y_pred))"
      ]
    },
    {
      "cell_type": "markdown",
      "metadata": {
        "id": "OCUbXLESgo3q"
      },
      "source": [
        "### hyper"
      ]
    },
    {
      "cell_type": "code",
      "execution_count": null,
      "metadata": {
        "colab": {
          "base_uri": "https://localhost:8080/"
        },
        "id": "RXwFFUZxgrUN",
        "outputId": "2e959847-c161-4ffd-8873-af452771487c"
      },
      "outputs": [
        {
          "output_type": "stream",
          "name": "stderr",
          "text": [
            "<ipython-input-16-e2bf7b4127fa>:3: FutureWarning: In a future version of pandas all arguments of DataFrame.drop except for the argument 'labels' will be keyword-only\n",
            "  X = data.drop('telomere length (kb)',1)\n"
          ]
        },
        {
          "output_type": "execute_result",
          "data": {
            "text/plain": [
              "{'bootstrap': False,\n",
              " 'max_depth': 10,\n",
              " 'max_features': 5,\n",
              " 'min_samples_leaf': 3,\n",
              " 'min_samples_split': 6,\n",
              " 'n_estimators': 500,\n",
              " 'random_state': 216}"
            ]
          },
          "metadata": {},
          "execution_count": 48
        }
      ],
      "source": [
        "hyperparameter(df3)"
      ]
    },
    {
      "cell_type": "code",
      "source": [
        "rg3 = RandomForestRegressor(n_estimators=300,max_features=5,bootstrap= False,random_state=99,\n",
        "                           max_depth=10,min_samples_leaf=1,min_samples_split=6)\n",
        "rg3.fit(X_train, y_train)"
      ],
      "metadata": {
        "colab": {
          "base_uri": "https://localhost:8080/"
        },
        "id": "ccKrcTV4Hdmb",
        "outputId": "3ca3a5e1-87d3-4843-be87-c1da4763ff13"
      },
      "execution_count": null,
      "outputs": [
        {
          "output_type": "execute_result",
          "data": {
            "text/plain": [
              "RandomForestRegressor(bootstrap=False, max_depth=10, max_features=5,\n",
              "                      min_samples_split=6, n_estimators=300, random_state=99)"
            ]
          },
          "metadata": {},
          "execution_count": 47
        }
      ]
    },
    {
      "cell_type": "code",
      "source": [
        "y_pred = rg3.predict(X_test)\n",
        "y_pred"
      ],
      "metadata": {
        "colab": {
          "base_uri": "https://localhost:8080/"
        },
        "id": "_kH9K4VfHglC",
        "outputId": "e7fcce47-12a4-4b73-fcf0-62521cce41a3"
      },
      "execution_count": null,
      "outputs": [
        {
          "output_type": "execute_result",
          "data": {
            "text/plain": [
              "array([0.43316244, 0.22352442, 0.48787293, 0.27277729, 0.59401155,\n",
              "       0.66986024, 0.35014479, 0.49715275, 0.50750395, 0.34230946,\n",
              "       0.30763014, 0.37896213, 0.53801206, 0.39578655, 0.45873743,\n",
              "       0.61771528, 0.25963471, 0.52158728, 0.54592814, 0.48204237,\n",
              "       0.59692835, 0.40875183, 0.59192904, 0.61278617, 0.3379754 ,\n",
              "       0.47678973, 0.29725646, 0.56284089, 0.32478388, 0.55495705,\n",
              "       0.41269241])"
            ]
          },
          "metadata": {},
          "execution_count": 48
        }
      ]
    },
    {
      "cell_type": "code",
      "source": [
        "#Train\n",
        "print('R2 Value Train:',metrics.r2_score(y_train, rg3.predict(X_train)))\n",
        "print('MSE Train:',metrics.mean_squared_error(y_train, rg3.predict(X_train)))\n",
        "print('MAE Train:',metrics.mean_absolute_error(y_train, rg3.predict(X_train)))"
      ],
      "metadata": {
        "colab": {
          "base_uri": "https://localhost:8080/"
        },
        "id": "L0WaZ_g7HmAZ",
        "outputId": "084e8ee0-2608-4879-b99b-3609b7e5bb8f"
      },
      "execution_count": null,
      "outputs": [
        {
          "output_type": "stream",
          "name": "stdout",
          "text": [
            "R2 Value Train: 0.9906512947342248\n",
            "MSE Train: 0.000377355203847012\n",
            "MAE Train: 0.014219119946331632\n"
          ]
        }
      ]
    },
    {
      "cell_type": "code",
      "source": [
        "import numpy as np\n",
        "print('MAPE : ',100- (np.mean(np.abs((y_test - y_pred) / y_test)) * 100))"
      ],
      "metadata": {
        "colab": {
          "base_uri": "https://localhost:8080/"
        },
        "id": "JoKOvRSLaiFX",
        "outputId": "e853f656-1386-4d79-9e03-887e10b780f0"
      },
      "execution_count": null,
      "outputs": [
        {
          "output_type": "stream",
          "name": "stdout",
          "text": [
            "MAPE :  57.74231864467763\n"
          ]
        }
      ]
    },
    {
      "cell_type": "code",
      "source": [
        "#Test\n",
        "print('R2 Value Test:',metrics.r2_score(y_test, y_pred))\n",
        "print('MSE Test:',metrics.mean_squared_error(y_test, y_pred))\n",
        "print('MAE Test:',metrics.mean_absolute_error(y_test, y_pred))"
      ],
      "metadata": {
        "colab": {
          "base_uri": "https://localhost:8080/"
        },
        "id": "ckDXhFO_HuMh",
        "outputId": "ba89972b-9951-42ec-c2be-c787549dcf9f"
      },
      "execution_count": null,
      "outputs": [
        {
          "output_type": "stream",
          "name": "stdout",
          "text": [
            "R2 Value Test: 0.3387960074361561\n",
            "MSE Test: 0.027147702803034256\n",
            "MAE Test: 0.13502856673642152\n"
          ]
        }
      ]
    }
  ],
  "metadata": {
    "accelerator": "GPU",
    "colab": {
      "machine_shape": "hm",
      "provenance": [],
      "authorship_tag": "ABX9TyNye0oD7AqfU2u2gn4TAjgf",
      "include_colab_link": true
    },
    "gpuClass": "standard",
    "kernelspec": {
      "display_name": "Python 3",
      "name": "python3"
    },
    "language_info": {
      "name": "python"
    }
  },
  "nbformat": 4,
  "nbformat_minor": 0
}