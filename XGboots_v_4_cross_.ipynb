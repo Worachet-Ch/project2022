{
  "cells": [
    {
      "cell_type": "markdown",
      "metadata": {
        "id": "view-in-github",
        "colab_type": "text"
      },
      "source": [
        "<a href=\"https://colab.research.google.com/github/Worachet-Ch/project2022/blob/main/XGboots_v_4_cross_.ipynb\" target=\"_parent\"><img src=\"https://colab.research.google.com/assets/colab-badge.svg\" alt=\"Open In Colab\"/></a>"
      ]
    },
    {
      "cell_type": "code",
      "execution_count": 1,
      "metadata": {
        "colab": {
          "base_uri": "https://localhost:8080/"
        },
        "id": "Hh4f8PtcqnvB",
        "outputId": "37af1fa3-7814-4c3f-e18f-e6d5bee6dac9"
      },
      "outputs": [
        {
          "output_type": "stream",
          "name": "stdout",
          "text": [
            "Mounted at /content/drive\n"
          ]
        }
      ],
      "source": [
        "import pandas as pd\n",
        "import os\n",
        "from google.colab import drive #เชื่อม Google drive\n",
        "drive.mount('/content/drive')\n",
        "path = '/content/drive/My Drive/project' #เข้า drive\n",
        "data1 = pd.read_csv(os.path.join(path,'df_1.csv'))"
      ]
    },
    {
      "cell_type": "code",
      "source": [
        "from sklearn import metrics\n",
        "from sklearn.preprocessing import MinMaxScaler\n",
        "from sklearn.model_selection import train_test_split\n",
        "from xgboost import XGBRegressor\n",
        "from sklearn import metrics\n",
        "import numpy as np\n",
        "import matplotlib.pyplot as plt\n",
        "import seaborn as sns\n",
        "from sklearn.metrics import mean_absolute_percentage_error"
      ],
      "metadata": {
        "id": "TiW3UftilQ1t"
      },
      "execution_count": 2,
      "outputs": []
    },
    {
      "cell_type": "code",
      "execution_count": 3,
      "metadata": {
        "id": "g7OhUAn2ZGMY"
      },
      "outputs": [],
      "source": [
        "from sklearn.model_selection import GridSearchCV\n",
        "from sklearn.model_selection import StratifiedKFold"
      ]
    },
    {
      "cell_type": "markdown",
      "metadata": {
        "id": "Q3qTsmzYVqLT"
      },
      "source": [
        "### GridSearchCV"
      ]
    },
    {
      "cell_type": "code",
      "source": [
        "def data(data,subsample,max_depth,n_estimators,colsample_bytree,learning_rate):\n",
        "  y = data['telomere length (kb)']\n",
        "  X = data.drop('telomere length (kb)',1)\n",
        "  X_train, X_test, y_train, y_test = train_test_split(X, y, test_size=0.2, random_state=216)\n",
        "  param_tuning = {\n",
        "        'learning_rate': [learning_rate],\n",
        "        'max_depth': [max_depth],\n",
        "        'min_child_weight': [1],\n",
        "        'subsample': [subsample],\n",
        "        'colsample_bytree': [colsample_bytree],\n",
        "        'n_estimators' : [n_estimators],\n",
        "        'seed':[216],'alpha':[0]\n",
        "    }\n",
        "  xgb_model = XGBRegressor()\n",
        "  grid_search = GridSearchCV(estimator=xgb_model,\n",
        "                            param_grid=param_tuning)\n",
        "  grid_search.fit(X_train, y_train)\n",
        "  y_pred = grid_search.predict(X_test)\n",
        "  print('-----------------------------')\n",
        "  print('Test')\n",
        "  print('R2 Value Test:',metrics.r2_score(y_test, y_pred))\n",
        "  print('MSE Test:',metrics.mean_squared_error(y_test, y_pred))\n",
        "  print('MAE Test:',metrics.mean_absolute_error(y_test, y_pred))\n",
        "  print('MAPE',mean_absolute_percentage_error(y_test, y_pred))\n",
        "  print('-----------------------------')\n",
        "  #sns.distplot(y_pred, hist = False, color = 'r', label = 'Predicted Values')\n",
        "  #sns.distplot(y_test, hist = False, color = 'b', label = 'Actual Values')\n",
        "  #plt.title('Actual vs Predicted Values', fontsize = 16)\n",
        "  #plt.xlabel('Values', fontsize = 12)\n",
        "  #plt.ylabel('Frequency', fontsize = 12)\n",
        "  #plt.legend(loc = 'upper left', fontsize = 13)"
      ],
      "metadata": {
        "id": "j5V-wAjNN5W_"
      },
      "execution_count": 4,
      "outputs": []
    },
    {
      "cell_type": "markdown",
      "source": [
        "## data1"
      ],
      "metadata": {
        "id": "5hkudAZeOj7G"
      }
    },
    {
      "cell_type": "code",
      "source": [
        "data1.drop('Unnamed: 0',1,inplace = True)\n",
        "data1"
      ],
      "metadata": {
        "colab": {
          "base_uri": "https://localhost:8080/",
          "height": 458
        },
        "id": "vhOMfctuOv8I",
        "outputId": "4691a786-ecc7-45d1-f214-137a6fe5c09b"
      },
      "execution_count": 5,
      "outputs": [
        {
          "output_type": "stream",
          "name": "stderr",
          "text": [
            "<ipython-input-5-f170cadba2e7>:1: FutureWarning: In a future version of pandas all arguments of DataFrame.drop except for the argument 'labels' will be keyword-only\n",
            "  data1.drop('Unnamed: 0',1,inplace = True)\n"
          ]
        },
        {
          "output_type": "execute_result",
          "data": {
            "text/plain": [
              "     Sex  AgeSYear     Weight      Height    BMI  Systolic  Diastolic  \\\n",
              "0    2.0      58.0  47.200000  156.000000  19.40   112.000      64.00   \n",
              "1    2.0      57.0  47.400000  153.000000  20.20   114.000      75.00   \n",
              "2    2.0      24.0  53.200000  157.000000  21.60   103.000      69.00   \n",
              "3    2.0      62.0  54.400000  165.000000  20.00    95.000      75.00   \n",
              "4    2.0      86.0  49.000000  154.000000  20.70   129.000      79.00   \n",
              "..   ...       ...        ...         ...    ...       ...        ...   \n",
              "417  2.0      25.0  47.000000  165.000000  17.30   104.000      63.00   \n",
              "418  2.0      31.0  72.200000  168.000000  25.60   123.000      89.00   \n",
              "419  2.0      32.0  54.500000  158.466667  21.68   113.160      71.83   \n",
              "420  1.0      29.0  63.073333  168.866667  22.04   108.465      71.96   \n",
              "421  2.0      31.0  58.066667  160.200000  22.60   112.810      72.72   \n",
              "\n",
              "     HeartRate     SMM  Fat Mass  ...  Uric Acid  Cholesterol  Triglyceride  \\\n",
              "0        70.00  19.741    13.631  ...        4.8        180.0          97.0   \n",
              "1        69.00  19.300    12.500  ...        5.0        176.0          51.0   \n",
              "2        78.00  21.300    14.600  ...        5.2        159.0          45.0   \n",
              "3        83.00  21.600    15.200  ...        4.1        230.0          94.0   \n",
              "4        83.00  19.907    15.369  ...        5.4        183.0          86.0   \n",
              "..         ...     ...       ...  ...        ...          ...           ...   \n",
              "417      89.00  20.387    12.852  ...        4.8        232.0          36.0   \n",
              "418      69.00  25.451    18.258  ...        6.1        187.0          49.0   \n",
              "419      72.30  22.707    21.599  ...        5.1        222.0          58.0   \n",
              "420      83.95  27.607    20.258  ...        6.8        140.0          92.0   \n",
              "421      74.41  23.020    22.436  ...        4.0        243.0         161.0   \n",
              "\n",
              "     HDL-C    LDL   AST   ALT  Alkaline Phos     HbA1c  telomere length (kb)   \n",
              "0     62.0   98.0  25.0  32.0           40.0  5.800000                   7.30  \n",
              "1     72.0   94.0  16.0  16.0           62.0  5.100000                   6.36  \n",
              "2     52.0   98.0  13.0  17.0           50.0  5.400000                   9.71  \n",
              "3     61.0  151.0  18.0  31.0           76.0  5.600000                   6.17  \n",
              "4     39.0  127.0  12.0  22.0           82.0  6.200000                   4.55  \n",
              "..     ...    ...   ...   ...            ...       ...                    ...  \n",
              "417   96.0  128.0  18.0  12.0           46.0  5.393333                   8.98  \n",
              "418   51.0  127.0  21.0  24.0           71.0  5.186667                   8.23  \n",
              "419   79.0  132.0  17.0  10.0           34.0  5.486667                   8.79  \n",
              "420   48.0   73.0  31.0  75.0           69.0  4.973333                   8.93  \n",
              "421   87.0  124.0  24.0  11.0           46.0  6.086667                   7.92  \n",
              "\n",
              "[422 rows x 27 columns]"
            ],
            "text/html": [
              "\n",
              "  <div id=\"df-861038d8-cd2b-4bbb-90fb-2494c8644125\">\n",
              "    <div class=\"colab-df-container\">\n",
              "      <div>\n",
              "<style scoped>\n",
              "    .dataframe tbody tr th:only-of-type {\n",
              "        vertical-align: middle;\n",
              "    }\n",
              "\n",
              "    .dataframe tbody tr th {\n",
              "        vertical-align: top;\n",
              "    }\n",
              "\n",
              "    .dataframe thead th {\n",
              "        text-align: right;\n",
              "    }\n",
              "</style>\n",
              "<table border=\"1\" class=\"dataframe\">\n",
              "  <thead>\n",
              "    <tr style=\"text-align: right;\">\n",
              "      <th></th>\n",
              "      <th>Sex</th>\n",
              "      <th>AgeSYear</th>\n",
              "      <th>Weight</th>\n",
              "      <th>Height</th>\n",
              "      <th>BMI</th>\n",
              "      <th>Systolic</th>\n",
              "      <th>Diastolic</th>\n",
              "      <th>HeartRate</th>\n",
              "      <th>SMM</th>\n",
              "      <th>Fat Mass</th>\n",
              "      <th>...</th>\n",
              "      <th>Uric Acid</th>\n",
              "      <th>Cholesterol</th>\n",
              "      <th>Triglyceride</th>\n",
              "      <th>HDL-C</th>\n",
              "      <th>LDL</th>\n",
              "      <th>AST</th>\n",
              "      <th>ALT</th>\n",
              "      <th>Alkaline Phos</th>\n",
              "      <th>HbA1c</th>\n",
              "      <th>telomere length (kb)</th>\n",
              "    </tr>\n",
              "  </thead>\n",
              "  <tbody>\n",
              "    <tr>\n",
              "      <th>0</th>\n",
              "      <td>2.0</td>\n",
              "      <td>58.0</td>\n",
              "      <td>47.200000</td>\n",
              "      <td>156.000000</td>\n",
              "      <td>19.40</td>\n",
              "      <td>112.000</td>\n",
              "      <td>64.00</td>\n",
              "      <td>70.00</td>\n",
              "      <td>19.741</td>\n",
              "      <td>13.631</td>\n",
              "      <td>...</td>\n",
              "      <td>4.8</td>\n",
              "      <td>180.0</td>\n",
              "      <td>97.0</td>\n",
              "      <td>62.0</td>\n",
              "      <td>98.0</td>\n",
              "      <td>25.0</td>\n",
              "      <td>32.0</td>\n",
              "      <td>40.0</td>\n",
              "      <td>5.800000</td>\n",
              "      <td>7.30</td>\n",
              "    </tr>\n",
              "    <tr>\n",
              "      <th>1</th>\n",
              "      <td>2.0</td>\n",
              "      <td>57.0</td>\n",
              "      <td>47.400000</td>\n",
              "      <td>153.000000</td>\n",
              "      <td>20.20</td>\n",
              "      <td>114.000</td>\n",
              "      <td>75.00</td>\n",
              "      <td>69.00</td>\n",
              "      <td>19.300</td>\n",
              "      <td>12.500</td>\n",
              "      <td>...</td>\n",
              "      <td>5.0</td>\n",
              "      <td>176.0</td>\n",
              "      <td>51.0</td>\n",
              "      <td>72.0</td>\n",
              "      <td>94.0</td>\n",
              "      <td>16.0</td>\n",
              "      <td>16.0</td>\n",
              "      <td>62.0</td>\n",
              "      <td>5.100000</td>\n",
              "      <td>6.36</td>\n",
              "    </tr>\n",
              "    <tr>\n",
              "      <th>2</th>\n",
              "      <td>2.0</td>\n",
              "      <td>24.0</td>\n",
              "      <td>53.200000</td>\n",
              "      <td>157.000000</td>\n",
              "      <td>21.60</td>\n",
              "      <td>103.000</td>\n",
              "      <td>69.00</td>\n",
              "      <td>78.00</td>\n",
              "      <td>21.300</td>\n",
              "      <td>14.600</td>\n",
              "      <td>...</td>\n",
              "      <td>5.2</td>\n",
              "      <td>159.0</td>\n",
              "      <td>45.0</td>\n",
              "      <td>52.0</td>\n",
              "      <td>98.0</td>\n",
              "      <td>13.0</td>\n",
              "      <td>17.0</td>\n",
              "      <td>50.0</td>\n",
              "      <td>5.400000</td>\n",
              "      <td>9.71</td>\n",
              "    </tr>\n",
              "    <tr>\n",
              "      <th>3</th>\n",
              "      <td>2.0</td>\n",
              "      <td>62.0</td>\n",
              "      <td>54.400000</td>\n",
              "      <td>165.000000</td>\n",
              "      <td>20.00</td>\n",
              "      <td>95.000</td>\n",
              "      <td>75.00</td>\n",
              "      <td>83.00</td>\n",
              "      <td>21.600</td>\n",
              "      <td>15.200</td>\n",
              "      <td>...</td>\n",
              "      <td>4.1</td>\n",
              "      <td>230.0</td>\n",
              "      <td>94.0</td>\n",
              "      <td>61.0</td>\n",
              "      <td>151.0</td>\n",
              "      <td>18.0</td>\n",
              "      <td>31.0</td>\n",
              "      <td>76.0</td>\n",
              "      <td>5.600000</td>\n",
              "      <td>6.17</td>\n",
              "    </tr>\n",
              "    <tr>\n",
              "      <th>4</th>\n",
              "      <td>2.0</td>\n",
              "      <td>86.0</td>\n",
              "      <td>49.000000</td>\n",
              "      <td>154.000000</td>\n",
              "      <td>20.70</td>\n",
              "      <td>129.000</td>\n",
              "      <td>79.00</td>\n",
              "      <td>83.00</td>\n",
              "      <td>19.907</td>\n",
              "      <td>15.369</td>\n",
              "      <td>...</td>\n",
              "      <td>5.4</td>\n",
              "      <td>183.0</td>\n",
              "      <td>86.0</td>\n",
              "      <td>39.0</td>\n",
              "      <td>127.0</td>\n",
              "      <td>12.0</td>\n",
              "      <td>22.0</td>\n",
              "      <td>82.0</td>\n",
              "      <td>6.200000</td>\n",
              "      <td>4.55</td>\n",
              "    </tr>\n",
              "    <tr>\n",
              "      <th>...</th>\n",
              "      <td>...</td>\n",
              "      <td>...</td>\n",
              "      <td>...</td>\n",
              "      <td>...</td>\n",
              "      <td>...</td>\n",
              "      <td>...</td>\n",
              "      <td>...</td>\n",
              "      <td>...</td>\n",
              "      <td>...</td>\n",
              "      <td>...</td>\n",
              "      <td>...</td>\n",
              "      <td>...</td>\n",
              "      <td>...</td>\n",
              "      <td>...</td>\n",
              "      <td>...</td>\n",
              "      <td>...</td>\n",
              "      <td>...</td>\n",
              "      <td>...</td>\n",
              "      <td>...</td>\n",
              "      <td>...</td>\n",
              "      <td>...</td>\n",
              "    </tr>\n",
              "    <tr>\n",
              "      <th>417</th>\n",
              "      <td>2.0</td>\n",
              "      <td>25.0</td>\n",
              "      <td>47.000000</td>\n",
              "      <td>165.000000</td>\n",
              "      <td>17.30</td>\n",
              "      <td>104.000</td>\n",
              "      <td>63.00</td>\n",
              "      <td>89.00</td>\n",
              "      <td>20.387</td>\n",
              "      <td>12.852</td>\n",
              "      <td>...</td>\n",
              "      <td>4.8</td>\n",
              "      <td>232.0</td>\n",
              "      <td>36.0</td>\n",
              "      <td>96.0</td>\n",
              "      <td>128.0</td>\n",
              "      <td>18.0</td>\n",
              "      <td>12.0</td>\n",
              "      <td>46.0</td>\n",
              "      <td>5.393333</td>\n",
              "      <td>8.98</td>\n",
              "    </tr>\n",
              "    <tr>\n",
              "      <th>418</th>\n",
              "      <td>2.0</td>\n",
              "      <td>31.0</td>\n",
              "      <td>72.200000</td>\n",
              "      <td>168.000000</td>\n",
              "      <td>25.60</td>\n",
              "      <td>123.000</td>\n",
              "      <td>89.00</td>\n",
              "      <td>69.00</td>\n",
              "      <td>25.451</td>\n",
              "      <td>18.258</td>\n",
              "      <td>...</td>\n",
              "      <td>6.1</td>\n",
              "      <td>187.0</td>\n",
              "      <td>49.0</td>\n",
              "      <td>51.0</td>\n",
              "      <td>127.0</td>\n",
              "      <td>21.0</td>\n",
              "      <td>24.0</td>\n",
              "      <td>71.0</td>\n",
              "      <td>5.186667</td>\n",
              "      <td>8.23</td>\n",
              "    </tr>\n",
              "    <tr>\n",
              "      <th>419</th>\n",
              "      <td>2.0</td>\n",
              "      <td>32.0</td>\n",
              "      <td>54.500000</td>\n",
              "      <td>158.466667</td>\n",
              "      <td>21.68</td>\n",
              "      <td>113.160</td>\n",
              "      <td>71.83</td>\n",
              "      <td>72.30</td>\n",
              "      <td>22.707</td>\n",
              "      <td>21.599</td>\n",
              "      <td>...</td>\n",
              "      <td>5.1</td>\n",
              "      <td>222.0</td>\n",
              "      <td>58.0</td>\n",
              "      <td>79.0</td>\n",
              "      <td>132.0</td>\n",
              "      <td>17.0</td>\n",
              "      <td>10.0</td>\n",
              "      <td>34.0</td>\n",
              "      <td>5.486667</td>\n",
              "      <td>8.79</td>\n",
              "    </tr>\n",
              "    <tr>\n",
              "      <th>420</th>\n",
              "      <td>1.0</td>\n",
              "      <td>29.0</td>\n",
              "      <td>63.073333</td>\n",
              "      <td>168.866667</td>\n",
              "      <td>22.04</td>\n",
              "      <td>108.465</td>\n",
              "      <td>71.96</td>\n",
              "      <td>83.95</td>\n",
              "      <td>27.607</td>\n",
              "      <td>20.258</td>\n",
              "      <td>...</td>\n",
              "      <td>6.8</td>\n",
              "      <td>140.0</td>\n",
              "      <td>92.0</td>\n",
              "      <td>48.0</td>\n",
              "      <td>73.0</td>\n",
              "      <td>31.0</td>\n",
              "      <td>75.0</td>\n",
              "      <td>69.0</td>\n",
              "      <td>4.973333</td>\n",
              "      <td>8.93</td>\n",
              "    </tr>\n",
              "    <tr>\n",
              "      <th>421</th>\n",
              "      <td>2.0</td>\n",
              "      <td>31.0</td>\n",
              "      <td>58.066667</td>\n",
              "      <td>160.200000</td>\n",
              "      <td>22.60</td>\n",
              "      <td>112.810</td>\n",
              "      <td>72.72</td>\n",
              "      <td>74.41</td>\n",
              "      <td>23.020</td>\n",
              "      <td>22.436</td>\n",
              "      <td>...</td>\n",
              "      <td>4.0</td>\n",
              "      <td>243.0</td>\n",
              "      <td>161.0</td>\n",
              "      <td>87.0</td>\n",
              "      <td>124.0</td>\n",
              "      <td>24.0</td>\n",
              "      <td>11.0</td>\n",
              "      <td>46.0</td>\n",
              "      <td>6.086667</td>\n",
              "      <td>7.92</td>\n",
              "    </tr>\n",
              "  </tbody>\n",
              "</table>\n",
              "<p>422 rows × 27 columns</p>\n",
              "</div>\n",
              "      <button class=\"colab-df-convert\" onclick=\"convertToInteractive('df-861038d8-cd2b-4bbb-90fb-2494c8644125')\"\n",
              "              title=\"Convert this dataframe to an interactive table.\"\n",
              "              style=\"display:none;\">\n",
              "        \n",
              "  <svg xmlns=\"http://www.w3.org/2000/svg\" height=\"24px\"viewBox=\"0 0 24 24\"\n",
              "       width=\"24px\">\n",
              "    <path d=\"M0 0h24v24H0V0z\" fill=\"none\"/>\n",
              "    <path d=\"M18.56 5.44l.94 2.06.94-2.06 2.06-.94-2.06-.94-.94-2.06-.94 2.06-2.06.94zm-11 1L8.5 8.5l.94-2.06 2.06-.94-2.06-.94L8.5 2.5l-.94 2.06-2.06.94zm10 10l.94 2.06.94-2.06 2.06-.94-2.06-.94-.94-2.06-.94 2.06-2.06.94z\"/><path d=\"M17.41 7.96l-1.37-1.37c-.4-.4-.92-.59-1.43-.59-.52 0-1.04.2-1.43.59L10.3 9.45l-7.72 7.72c-.78.78-.78 2.05 0 2.83L4 21.41c.39.39.9.59 1.41.59.51 0 1.02-.2 1.41-.59l7.78-7.78 2.81-2.81c.8-.78.8-2.07 0-2.86zM5.41 20L4 18.59l7.72-7.72 1.47 1.35L5.41 20z\"/>\n",
              "  </svg>\n",
              "      </button>\n",
              "      \n",
              "  <style>\n",
              "    .colab-df-container {\n",
              "      display:flex;\n",
              "      flex-wrap:wrap;\n",
              "      gap: 12px;\n",
              "    }\n",
              "\n",
              "    .colab-df-convert {\n",
              "      background-color: #E8F0FE;\n",
              "      border: none;\n",
              "      border-radius: 50%;\n",
              "      cursor: pointer;\n",
              "      display: none;\n",
              "      fill: #1967D2;\n",
              "      height: 32px;\n",
              "      padding: 0 0 0 0;\n",
              "      width: 32px;\n",
              "    }\n",
              "\n",
              "    .colab-df-convert:hover {\n",
              "      background-color: #E2EBFA;\n",
              "      box-shadow: 0px 1px 2px rgba(60, 64, 67, 0.3), 0px 1px 3px 1px rgba(60, 64, 67, 0.15);\n",
              "      fill: #174EA6;\n",
              "    }\n",
              "\n",
              "    [theme=dark] .colab-df-convert {\n",
              "      background-color: #3B4455;\n",
              "      fill: #D2E3FC;\n",
              "    }\n",
              "\n",
              "    [theme=dark] .colab-df-convert:hover {\n",
              "      background-color: #434B5C;\n",
              "      box-shadow: 0px 1px 3px 1px rgba(0, 0, 0, 0.15);\n",
              "      filter: drop-shadow(0px 1px 2px rgba(0, 0, 0, 0.3));\n",
              "      fill: #FFFFFF;\n",
              "    }\n",
              "  </style>\n",
              "\n",
              "      <script>\n",
              "        const buttonEl =\n",
              "          document.querySelector('#df-861038d8-cd2b-4bbb-90fb-2494c8644125 button.colab-df-convert');\n",
              "        buttonEl.style.display =\n",
              "          google.colab.kernel.accessAllowed ? 'block' : 'none';\n",
              "\n",
              "        async function convertToInteractive(key) {\n",
              "          const element = document.querySelector('#df-861038d8-cd2b-4bbb-90fb-2494c8644125');\n",
              "          const dataTable =\n",
              "            await google.colab.kernel.invokeFunction('convertToInteractive',\n",
              "                                                     [key], {});\n",
              "          if (!dataTable) return;\n",
              "\n",
              "          const docLinkHtml = 'Like what you see? Visit the ' +\n",
              "            '<a target=\"_blank\" href=https://colab.research.google.com/notebooks/data_table.ipynb>data table notebook</a>'\n",
              "            + ' to learn more about interactive tables.';\n",
              "          element.innerHTML = '';\n",
              "          dataTable['output_type'] = 'display_data';\n",
              "          await google.colab.output.renderOutput(dataTable, element);\n",
              "          const docLink = document.createElement('div');\n",
              "          docLink.innerHTML = docLinkHtml;\n",
              "          element.appendChild(docLink);\n",
              "        }\n",
              "      </script>\n",
              "    </div>\n",
              "  </div>\n",
              "  "
            ]
          },
          "metadata": {},
          "execution_count": 5
        }
      ]
    },
    {
      "cell_type": "code",
      "source": [
        "scaler = MinMaxScaler()\n",
        "Scaler = scaler.fit_transform(data1)"
      ],
      "metadata": {
        "id": "v91Zpon0Omnb"
      },
      "execution_count": 6,
      "outputs": []
    },
    {
      "cell_type": "code",
      "source": [
        "df = pd.DataFrame(Scaler, columns = ['Sex' , 'AgeSYear', 'telomere length (kb)','Weight','Height','BMI','Systolic','Diastolic','HeartRate','SMM','Fat Mass',\n",
        "                                       '% Body fat','waist to hip radio','abdominal circumference','visceral fat area','Glucose','BUN','Creatinine','Uric Acid','Cholesterol',\n",
        "                                       'Triglyceride','HDL-C','LDL','AST','ALT','Alkaline Phos','HbA1c'])"
      ],
      "metadata": {
        "id": "6lVjSzYuOmkE"
      },
      "execution_count": 7,
      "outputs": []
    },
    {
      "cell_type": "code",
      "source": [
        "#1\n",
        "data(df,1,6,100,1,0.3)"
      ],
      "metadata": {
        "colab": {
          "base_uri": "https://localhost:8080/"
        },
        "id": "fXNYUA2zd0z1",
        "outputId": "f24c9c5f-fb22-449d-fa19-6a48b1591cb7"
      },
      "execution_count": null,
      "outputs": [
        {
          "output_type": "stream",
          "name": "stderr",
          "text": [
            "<ipython-input-4-9750596bd37f>:3: FutureWarning: In a future version of pandas all arguments of DataFrame.drop except for the argument 'labels' will be keyword-only\n",
            "  X = data.drop('telomere length (kb)',1)\n"
          ]
        },
        {
          "output_type": "stream",
          "name": "stdout",
          "text": [
            "Train\n",
            "R2 Value Train: 0.9999891489509194\n",
            "MSE Train: 3.822689650285475e-07\n",
            "MAE Train: 0.00045037370715071364\n",
            "-----------------------------\n",
            "Test\n",
            "R2 Value Test: 0.94853975144217\n",
            "MSE Test: 0.0015282125180403215\n",
            "MAE Test: 0.024798788571273295\n",
            "MAPE 0.086285130461712\n",
            "-----------------------------\n"
          ]
        }
      ]
    },
    {
      "cell_type": "code",
      "source": [
        "data(df,1,6,100,1,0.1)"
      ],
      "metadata": {
        "colab": {
          "base_uri": "https://localhost:8080/"
        },
        "id": "OJwadaI6d0wZ",
        "outputId": "d2796bdc-4888-4f19-c77e-daad467926e5"
      },
      "execution_count": null,
      "outputs": [
        {
          "output_type": "stream",
          "name": "stderr",
          "text": [
            "<ipython-input-4-9750596bd37f>:3: FutureWarning: In a future version of pandas all arguments of DataFrame.drop except for the argument 'labels' will be keyword-only\n",
            "  X = data.drop('telomere length (kb)',1)\n"
          ]
        },
        {
          "output_type": "stream",
          "name": "stdout",
          "text": [
            "Train\n",
            "R2 Value Train: 0.9999537591871265\n",
            "MSE Train: 1.6290063336659985e-06\n",
            "MAE Train: 0.000932642579623402\n",
            "-----------------------------\n",
            "Test\n",
            "R2 Value Test: 0.9516662162565901\n",
            "MSE Test: 0.0014353660433242097\n",
            "MAE Test: 0.02255509988631869\n",
            "MAPE 0.08566905221030312\n",
            "-----------------------------\n"
          ]
        }
      ]
    },
    {
      "cell_type": "code",
      "source": [
        "data(df,1,6,100,1,0.05)"
      ],
      "metadata": {
        "colab": {
          "base_uri": "https://localhost:8080/"
        },
        "id": "2DxwfqLmd0tT",
        "outputId": "1d0dc269-92d5-4d5d-9cdf-b02474f6bc39"
      },
      "execution_count": null,
      "outputs": [
        {
          "output_type": "stream",
          "name": "stdout",
          "text": [
            "Train\n",
            "R2 Value Train: 0.9992899293785279\n",
            "MSE Train: 2.501490496919007e-05\n",
            "MAE Train: 0.0034939091107706248\n",
            "-----------------------------\n",
            "Test\n",
            "R2 Value Test: 0.9453787612903921\n",
            "MSE Test: 0.0016220842900338164\n",
            "MAE Test: 0.023967582686272488\n",
            "MAPE 0.09880726417735916\n",
            "-----------------------------\n"
          ]
        }
      ]
    },
    {
      "cell_type": "code",
      "source": [
        "data(df,1,6,100,0.9,0.3)"
      ],
      "metadata": {
        "colab": {
          "base_uri": "https://localhost:8080/"
        },
        "id": "mSvSjjyWd0qD",
        "outputId": "8e7b6f07-5bde-4c19-c3fa-0c29aa110c17"
      },
      "execution_count": null,
      "outputs": [
        {
          "output_type": "stream",
          "name": "stderr",
          "text": [
            "<ipython-input-4-9750596bd37f>:3: FutureWarning: In a future version of pandas all arguments of DataFrame.drop except for the argument 'labels' will be keyword-only\n",
            "  X = data.drop('telomere length (kb)',1)\n"
          ]
        },
        {
          "output_type": "stream",
          "name": "stdout",
          "text": [
            "Train\n",
            "R2 Value Train: 0.9999871045775193\n",
            "MSE Train: 4.5428969758706894e-07\n",
            "MAE Train: 0.00047942142531361387\n",
            "-----------------------------\n",
            "Test\n",
            "R2 Value Test: 0.9372636015138045\n",
            "MSE Test: 0.0018630797982957244\n",
            "MAE Test: 0.027785111051843777\n",
            "MAPE 0.09767504623845931\n",
            "-----------------------------\n"
          ]
        }
      ]
    },
    {
      "cell_type": "code",
      "source": [
        "data(df,1,6,100,0.9,0.1)"
      ],
      "metadata": {
        "colab": {
          "base_uri": "https://localhost:8080/"
        },
        "id": "3-XyJo1Xd0mq",
        "outputId": "668edb84-ddd9-4b0c-c302-daf9a48a5f31"
      },
      "execution_count": null,
      "outputs": [
        {
          "output_type": "stream",
          "name": "stderr",
          "text": [
            "<ipython-input-4-9750596bd37f>:3: FutureWarning: In a future version of pandas all arguments of DataFrame.drop except for the argument 'labels' will be keyword-only\n",
            "  X = data.drop('telomere length (kb)',1)\n"
          ]
        },
        {
          "output_type": "stream",
          "name": "stdout",
          "text": [
            "Train\n",
            "R2 Value Train: 0.9999505935309453\n",
            "MSE Train: 1.7405284642030073e-06\n",
            "MAE Train: 0.0009597668914948547\n",
            "-----------------------------\n",
            "Test\n",
            "R2 Value Test: 0.9569668741577732\n",
            "MSE Test: 0.0012779526614332508\n",
            "MAE Test: 0.022151662237860876\n",
            "MAPE 0.08432169432210936\n",
            "-----------------------------\n"
          ]
        }
      ]
    },
    {
      "cell_type": "code",
      "source": [
        "data(df,1,6,100,0.9,0.05)"
      ],
      "metadata": {
        "colab": {
          "base_uri": "https://localhost:8080/"
        },
        "id": "ER6zd3hOd0fp",
        "outputId": "180dedd9-e1ad-463c-eda5-864099378a40"
      },
      "execution_count": null,
      "outputs": [
        {
          "output_type": "stream",
          "name": "stderr",
          "text": [
            "<ipython-input-4-9750596bd37f>:3: FutureWarning: In a future version of pandas all arguments of DataFrame.drop except for the argument 'labels' will be keyword-only\n",
            "  X = data.drop('telomere length (kb)',1)\n"
          ]
        },
        {
          "output_type": "stream",
          "name": "stdout",
          "text": [
            "Train\n",
            "R2 Value Train: 0.9993259787589561\n",
            "MSE Train: 2.3744930126770758e-05\n",
            "MAE Train: 0.0033206726563235044\n",
            "-----------------------------\n",
            "Test\n",
            "R2 Value Test: 0.9496034178307201\n",
            "MSE Test: 0.0014966248686302279\n",
            "MAE Test: 0.023836834148384858\n",
            "MAPE 0.09698062122761811\n",
            "-----------------------------\n"
          ]
        }
      ]
    },
    {
      "cell_type": "code",
      "source": [
        "data(df,1,6,1000,1,0.3)"
      ],
      "metadata": {
        "colab": {
          "base_uri": "https://localhost:8080/"
        },
        "id": "Ltj7fSOijrY6",
        "outputId": "376ac080-6208-4e2a-fe5b-2ed592076de4"
      },
      "execution_count": null,
      "outputs": [
        {
          "output_type": "stream",
          "name": "stderr",
          "text": [
            "<ipython-input-14-dbc8405074f9>:3: FutureWarning: In a future version of pandas all arguments of DataFrame.drop except for the argument 'labels' will be keyword-only\n",
            "  X = data.drop('telomere length (kb)',1)\n"
          ]
        },
        {
          "output_type": "stream",
          "name": "stdout",
          "text": [
            "-----------------------------\n",
            "Test\n",
            "R2 Value Test: 0.9485397540106895\n",
            "MSE Test: 0.0015282124417631206\n",
            "MAE Test: 0.02479878133982742\n",
            "MAPE 0.08628499177291078\n",
            "-----------------------------\n"
          ]
        }
      ]
    },
    {
      "cell_type": "code",
      "source": [
        "data(df,1,6,1000,1,0.1)"
      ],
      "metadata": {
        "colab": {
          "base_uri": "https://localhost:8080/"
        },
        "id": "wuZxlc0SjrV6",
        "outputId": "6887098e-30ac-4ddf-da1a-489486a9c382"
      },
      "execution_count": null,
      "outputs": [
        {
          "output_type": "stream",
          "name": "stderr",
          "text": [
            "<ipython-input-14-dbc8405074f9>:3: FutureWarning: In a future version of pandas all arguments of DataFrame.drop except for the argument 'labels' will be keyword-only\n",
            "  X = data.drop('telomere length (kb)',1)\n"
          ]
        },
        {
          "output_type": "stream",
          "name": "stdout",
          "text": [
            "-----------------------------\n",
            "Test\n",
            "R2 Value Test: 0.9517658878895462\n",
            "MSE Test: 0.0014324060996502917\n",
            "MAE Test: 0.02254259833800039\n",
            "MAPE 0.08552146002072998\n",
            "-----------------------------\n"
          ]
        }
      ]
    },
    {
      "cell_type": "code",
      "source": [
        "data(df,1,6,1000,1,0.05)"
      ],
      "metadata": {
        "colab": {
          "base_uri": "https://localhost:8080/"
        },
        "id": "L7vTqqVmjrTK",
        "outputId": "4ccc12e9-95ab-48b5-c6b1-4bafdb47d1f9"
      },
      "execution_count": null,
      "outputs": [
        {
          "output_type": "stream",
          "name": "stderr",
          "text": [
            "<ipython-input-14-dbc8405074f9>:3: FutureWarning: In a future version of pandas all arguments of DataFrame.drop except for the argument 'labels' will be keyword-only\n",
            "  X = data.drop('telomere length (kb)',1)\n"
          ]
        },
        {
          "output_type": "stream",
          "name": "stdout",
          "text": [
            "-----------------------------\n",
            "Test\n",
            "R2 Value Test: 0.9478645643974087\n",
            "MSE Test: 0.0015482635151252504\n",
            "MAE Test: 0.022984078040510215\n",
            "MAPE 0.08862011412813625\n",
            "-----------------------------\n"
          ]
        }
      ]
    },
    {
      "cell_type": "code",
      "source": [
        "data(df,1,6,1000,0.9,0.3)"
      ],
      "metadata": {
        "colab": {
          "base_uri": "https://localhost:8080/"
        },
        "id": "m7mSlvY-jrQT",
        "outputId": "2fcec7e5-d41f-4e02-d284-e3b7172f8fbb"
      },
      "execution_count": null,
      "outputs": [
        {
          "output_type": "stream",
          "name": "stderr",
          "text": [
            "<ipython-input-14-dbc8405074f9>:3: FutureWarning: In a future version of pandas all arguments of DataFrame.drop except for the argument 'labels' will be keyword-only\n",
            "  X = data.drop('telomere length (kb)',1)\n"
          ]
        },
        {
          "output_type": "stream",
          "name": "stdout",
          "text": [
            "-----------------------------\n",
            "Test\n",
            "R2 Value Test: 0.9372636118609967\n",
            "MSE Test: 0.0018630794910156553\n",
            "MAE Test: 0.027785104390148183\n",
            "MAPE 0.09767506043421544\n",
            "-----------------------------\n"
          ]
        }
      ]
    },
    {
      "cell_type": "code",
      "source": [
        "data(df,1,6,1000,0.9,0.1)"
      ],
      "metadata": {
        "colab": {
          "base_uri": "https://localhost:8080/"
        },
        "id": "qzeDse-6jrNM",
        "outputId": "464fbe1d-0c5c-4f00-daf8-3cdbac5f9fc6"
      },
      "execution_count": null,
      "outputs": [
        {
          "output_type": "stream",
          "name": "stderr",
          "text": [
            "<ipython-input-14-dbc8405074f9>:3: FutureWarning: In a future version of pandas all arguments of DataFrame.drop except for the argument 'labels' will be keyword-only\n",
            "  X = data.drop('telomere length (kb)',1)\n"
          ]
        },
        {
          "output_type": "stream",
          "name": "stdout",
          "text": [
            "-----------------------------\n",
            "Test\n",
            "R2 Value Test: 0.9570943117952089\n",
            "MSE Test: 0.0012741681520642412\n",
            "MAE Test: 0.022086049970815463\n",
            "MAPE 0.08396609245524914\n",
            "-----------------------------\n"
          ]
        }
      ]
    },
    {
      "cell_type": "code",
      "source": [
        "data(df,1,6,1000,0.9,0.05)"
      ],
      "metadata": {
        "colab": {
          "base_uri": "https://localhost:8080/"
        },
        "id": "ptjErnL4j9UQ",
        "outputId": "0a33c722-ecde-4403-89d8-4c7e9454341e"
      },
      "execution_count": null,
      "outputs": [
        {
          "output_type": "stream",
          "name": "stderr",
          "text": [
            "<ipython-input-14-dbc8405074f9>:3: FutureWarning: In a future version of pandas all arguments of DataFrame.drop except for the argument 'labels' will be keyword-only\n",
            "  X = data.drop('telomere length (kb)',1)\n"
          ]
        },
        {
          "output_type": "stream",
          "name": "stdout",
          "text": [
            "-----------------------------\n",
            "Test\n",
            "R2 Value Test: 0.9521782083942143\n",
            "MSE Test: 0.0014201614375210273\n",
            "MAE Test: 0.02301532475551666\n",
            "MAPE 0.08918272232651102\n",
            "-----------------------------\n"
          ]
        }
      ]
    },
    {
      "cell_type": "code",
      "source": [
        "data(df,1,5,100,1,0.3)"
      ],
      "metadata": {
        "colab": {
          "base_uri": "https://localhost:8080/"
        },
        "id": "v8KSgykSjrKN",
        "outputId": "7d3fa87d-5c9f-4213-8fac-c00fe12b77e9"
      },
      "execution_count": null,
      "outputs": [
        {
          "output_type": "stream",
          "name": "stderr",
          "text": [
            "<ipython-input-14-dbc8405074f9>:3: FutureWarning: In a future version of pandas all arguments of DataFrame.drop except for the argument 'labels' will be keyword-only\n",
            "  X = data.drop('telomere length (kb)',1)\n"
          ]
        },
        {
          "output_type": "stream",
          "name": "stdout",
          "text": [
            "-----------------------------\n",
            "Test\n",
            "R2 Value Test: 0.9471205439215596\n",
            "MSE Test: 0.0015703586552914147\n",
            "MAE Test: 0.02545761032403441\n",
            "MAPE 0.09406494015926933\n",
            "-----------------------------\n"
          ]
        }
      ]
    },
    {
      "cell_type": "code",
      "source": [
        "data(df,1,5,100,1,0.1)"
      ],
      "metadata": {
        "colab": {
          "base_uri": "https://localhost:8080/"
        },
        "id": "T9LJ6uOFjrGt",
        "outputId": "be72f717-515f-4c1d-c2de-110692fbe7a5"
      },
      "execution_count": null,
      "outputs": [
        {
          "output_type": "stream",
          "name": "stderr",
          "text": [
            "<ipython-input-14-dbc8405074f9>:3: FutureWarning: In a future version of pandas all arguments of DataFrame.drop except for the argument 'labels' will be keyword-only\n",
            "  X = data.drop('telomere length (kb)',1)\n"
          ]
        },
        {
          "output_type": "stream",
          "name": "stdout",
          "text": [
            "-----------------------------\n",
            "Test\n",
            "R2 Value Test: 0.948594346508505\n",
            "MSE Test: 0.001526591210990031\n",
            "MAE Test: 0.024073719124428027\n",
            "MAPE 0.08785070246191787\n",
            "-----------------------------\n"
          ]
        }
      ]
    },
    {
      "cell_type": "code",
      "source": [
        "data(df,1,5,100,1,0.05)"
      ],
      "metadata": {
        "colab": {
          "base_uri": "https://localhost:8080/"
        },
        "id": "9LX4b_ioj1Tr",
        "outputId": "e4f5b6c8-055d-422f-e252-71ccb4fcc43c"
      },
      "execution_count": null,
      "outputs": [
        {
          "output_type": "stream",
          "name": "stderr",
          "text": [
            "<ipython-input-14-dbc8405074f9>:3: FutureWarning: In a future version of pandas all arguments of DataFrame.drop except for the argument 'labels' will be keyword-only\n",
            "  X = data.drop('telomere length (kb)',1)\n"
          ]
        },
        {
          "output_type": "stream",
          "name": "stdout",
          "text": [
            "-----------------------------\n",
            "Test\n",
            "R2 Value Test: 0.9438130454809888\n",
            "MSE Test: 0.0016685812768669618\n",
            "MAE Test: 0.02460430951775215\n",
            "MAPE 0.09072075433503798\n",
            "-----------------------------\n"
          ]
        }
      ]
    },
    {
      "cell_type": "code",
      "source": [
        "data(df,1,5,100,0.9,0.3)"
      ],
      "metadata": {
        "colab": {
          "base_uri": "https://localhost:8080/"
        },
        "id": "_Ggd5pIblXL1",
        "outputId": "37bb7aed-6390-4870-fe59-4aa3785f9e6e"
      },
      "execution_count": null,
      "outputs": [
        {
          "output_type": "stream",
          "name": "stderr",
          "text": [
            "<ipython-input-14-dbc8405074f9>:3: FutureWarning: In a future version of pandas all arguments of DataFrame.drop except for the argument 'labels' will be keyword-only\n",
            "  X = data.drop('telomere length (kb)',1)\n"
          ]
        },
        {
          "output_type": "stream",
          "name": "stdout",
          "text": [
            "-----------------------------\n",
            "Test\n",
            "R2 Value Test: 0.9598094866141599\n",
            "MSE Test: 0.0011935357364954398\n",
            "MAE Test: 0.02417508096120946\n",
            "MAPE 0.08970278144170339\n",
            "-----------------------------\n"
          ]
        }
      ]
    },
    {
      "cell_type": "code",
      "source": [
        "data(df,1,5,100,0.9,0.1)"
      ],
      "metadata": {
        "colab": {
          "base_uri": "https://localhost:8080/"
        },
        "id": "oWhUjw3RlXIG",
        "outputId": "fb27a76a-66ca-4d69-df34-8dac8becc6a5"
      },
      "execution_count": null,
      "outputs": [
        {
          "output_type": "stream",
          "name": "stderr",
          "text": [
            "<ipython-input-14-dbc8405074f9>:3: FutureWarning: In a future version of pandas all arguments of DataFrame.drop except for the argument 'labels' will be keyword-only\n",
            "  X = data.drop('telomere length (kb)',1)\n"
          ]
        },
        {
          "output_type": "stream",
          "name": "stdout",
          "text": [
            "-----------------------------\n",
            "Test\n",
            "R2 Value Test: 0.9599250296173714\n",
            "MSE Test: 0.0011901044615049692\n",
            "MAE Test: 0.021782746604777158\n",
            "MAPE 0.0808815307705531\n",
            "-----------------------------\n"
          ]
        }
      ]
    },
    {
      "cell_type": "code",
      "source": [
        "data(df,1,5,100,0.9,0.05)"
      ],
      "metadata": {
        "colab": {
          "base_uri": "https://localhost:8080/"
        },
        "id": "hU8mjT5PlXEp",
        "outputId": "7d0e7c88-fafd-4770-a8b7-7b30c0a2418b"
      },
      "execution_count": null,
      "outputs": [
        {
          "output_type": "stream",
          "name": "stderr",
          "text": [
            "<ipython-input-14-dbc8405074f9>:3: FutureWarning: In a future version of pandas all arguments of DataFrame.drop except for the argument 'labels' will be keyword-only\n",
            "  X = data.drop('telomere length (kb)',1)\n"
          ]
        },
        {
          "output_type": "stream",
          "name": "stdout",
          "text": [
            "-----------------------------\n",
            "Test\n",
            "R2 Value Test: 0.9572090768909775\n",
            "MSE Test: 0.0012707599785535624\n",
            "MAE Test: 0.022097298918121826\n",
            "MAPE 0.0822478337682541\n",
            "-----------------------------\n"
          ]
        }
      ]
    },
    {
      "cell_type": "code",
      "source": [
        "data(df,1,5,1000,1,0.3)"
      ],
      "metadata": {
        "colab": {
          "base_uri": "https://localhost:8080/"
        },
        "id": "nhcs-bAxlXBb",
        "outputId": "8a9f0c40-757c-4aaf-a252-26559c95ef0c"
      },
      "execution_count": null,
      "outputs": [
        {
          "output_type": "stream",
          "name": "stderr",
          "text": [
            "<ipython-input-14-dbc8405074f9>:3: FutureWarning: In a future version of pandas all arguments of DataFrame.drop except for the argument 'labels' will be keyword-only\n",
            "  X = data.drop('telomere length (kb)',1)\n"
          ]
        },
        {
          "output_type": "stream",
          "name": "stdout",
          "text": [
            "-----------------------------\n",
            "Test\n",
            "R2 Value Test: 0.9471205439215596\n",
            "MSE Test: 0.0015703586552914147\n",
            "MAE Test: 0.02545761032403441\n",
            "MAPE 0.09406494015926933\n",
            "-----------------------------\n"
          ]
        }
      ]
    },
    {
      "cell_type": "code",
      "source": [
        "data(df,1,5,1000,1,0.1)"
      ],
      "metadata": {
        "colab": {
          "base_uri": "https://localhost:8080/"
        },
        "id": "J6_JLOlVlW-T",
        "outputId": "6a841c64-997e-45ef-eab2-52675c8875b4"
      },
      "execution_count": null,
      "outputs": [
        {
          "output_type": "stream",
          "name": "stderr",
          "text": [
            "<ipython-input-14-dbc8405074f9>:3: FutureWarning: In a future version of pandas all arguments of DataFrame.drop except for the argument 'labels' will be keyword-only\n",
            "  X = data.drop('telomere length (kb)',1)\n"
          ]
        },
        {
          "output_type": "stream",
          "name": "stdout",
          "text": [
            "-----------------------------\n",
            "Test\n",
            "R2 Value Test: 0.948835291464607\n",
            "MSE Test: 0.0015194358802562554\n",
            "MAE Test: 0.024092488221280895\n",
            "MAPE 0.08755184629555877\n",
            "-----------------------------\n"
          ]
        }
      ]
    },
    {
      "cell_type": "code",
      "source": [
        "data(df,1,5,1000,1,0.05)"
      ],
      "metadata": {
        "colab": {
          "base_uri": "https://localhost:8080/"
        },
        "id": "AvP3dy3TlW7W",
        "outputId": "9bebffee-1747-4d56-e413-79c344d3e6b4"
      },
      "execution_count": null,
      "outputs": [
        {
          "output_type": "stream",
          "name": "stderr",
          "text": [
            "<ipython-input-14-dbc8405074f9>:3: FutureWarning: In a future version of pandas all arguments of DataFrame.drop except for the argument 'labels' will be keyword-only\n",
            "  X = data.drop('telomere length (kb)',1)\n"
          ]
        },
        {
          "output_type": "stream",
          "name": "stdout",
          "text": [
            "-----------------------------\n",
            "Test\n",
            "R2 Value Test: 0.9479364121782942\n",
            "MSE Test: 0.0015461298550435456\n",
            "MAE Test: 0.02335756059344128\n",
            "MAPE 0.08231296798261763\n",
            "-----------------------------\n"
          ]
        }
      ]
    },
    {
      "cell_type": "code",
      "source": [
        "data(df,1,5,1000,0.9,0.3)"
      ],
      "metadata": {
        "colab": {
          "base_uri": "https://localhost:8080/"
        },
        "id": "jgSpHf0qlW4c",
        "outputId": "c08ab38a-3c28-4e14-c8ad-5412a9fe3bd2"
      },
      "execution_count": null,
      "outputs": [
        {
          "output_type": "stream",
          "name": "stderr",
          "text": [
            "<ipython-input-14-dbc8405074f9>:3: FutureWarning: In a future version of pandas all arguments of DataFrame.drop except for the argument 'labels' will be keyword-only\n",
            "  X = data.drop('telomere length (kb)',1)\n"
          ]
        },
        {
          "output_type": "stream",
          "name": "stdout",
          "text": [
            "-----------------------------\n",
            "Test\n",
            "R2 Value Test: 0.9598095030686681\n",
            "MSE Test: 0.0011935352478467027\n",
            "MAE Test: 0.02417508096120946\n",
            "MAPE 0.08970294849359278\n",
            "-----------------------------\n"
          ]
        }
      ]
    },
    {
      "cell_type": "code",
      "source": [
        "data(df,1,5,1000,0.9,0.1)"
      ],
      "metadata": {
        "colab": {
          "base_uri": "https://localhost:8080/"
        },
        "id": "DHtnIORVlW1m",
        "outputId": "8bd5d576-f2ea-44cf-98c7-36cd4f442069"
      },
      "execution_count": null,
      "outputs": [
        {
          "output_type": "stream",
          "name": "stderr",
          "text": [
            "<ipython-input-14-dbc8405074f9>:3: FutureWarning: In a future version of pandas all arguments of DataFrame.drop except for the argument 'labels' will be keyword-only\n",
            "  X = data.drop('telomere length (kb)',1)\n"
          ]
        },
        {
          "output_type": "stream",
          "name": "stdout",
          "text": [
            "-----------------------------\n",
            "Test\n",
            "R2 Value Test: 0.9603693374233517\n",
            "MSE Test: 0.0011769098740322898\n",
            "MAE Test: 0.02165458957845002\n",
            "MAPE 0.08094579339394208\n",
            "-----------------------------\n"
          ]
        }
      ]
    },
    {
      "cell_type": "code",
      "source": [
        "data(df,1,5,1000,0.9,0.05)"
      ],
      "metadata": {
        "colab": {
          "base_uri": "https://localhost:8080/"
        },
        "id": "Q0BDfzWflWyv",
        "outputId": "c90fea81-be2c-4a5d-8163-16fb92109127"
      },
      "execution_count": null,
      "outputs": [
        {
          "output_type": "stream",
          "name": "stderr",
          "text": [
            "<ipython-input-14-dbc8405074f9>:3: FutureWarning: In a future version of pandas all arguments of DataFrame.drop except for the argument 'labels' will be keyword-only\n",
            "  X = data.drop('telomere length (kb)',1)\n"
          ]
        },
        {
          "output_type": "stream",
          "name": "stdout",
          "text": [
            "-----------------------------\n",
            "Test\n",
            "R2 Value Test: 0.9605422154012729\n",
            "MSE Test: 0.0011717759250647523\n",
            "MAE Test: 0.021165882261991543\n",
            "MAPE 0.07692433654416271\n",
            "-----------------------------\n"
          ]
        }
      ]
    },
    {
      "cell_type": "code",
      "source": [
        "data(df,1,10,100,1,0.3)"
      ],
      "metadata": {
        "colab": {
          "base_uri": "https://localhost:8080/"
        },
        "id": "t930r5zXdNKm",
        "outputId": "841dd2a8-5259-4d4a-bbc9-605a6834adb1"
      },
      "execution_count": 82,
      "outputs": [
        {
          "output_type": "stream",
          "name": "stderr",
          "text": [
            "<ipython-input-4-dbc8405074f9>:3: FutureWarning: In a future version of pandas all arguments of DataFrame.drop except for the argument 'labels' will be keyword-only\n",
            "  X = data.drop('telomere length (kb)',1)\n"
          ]
        },
        {
          "output_type": "stream",
          "name": "stdout",
          "text": [
            "-----------------------------\n",
            "Test\n",
            "R2 Value Test: 0.9421723651263696\n",
            "MSE Test: 0.0017173044821817236\n",
            "MAE Test: 0.02645579950444151\n",
            "MAPE 0.09851502535573087\n",
            "-----------------------------\n"
          ]
        }
      ]
    },
    {
      "cell_type": "code",
      "source": [
        "data(df,1,10,100,1,0.1)"
      ],
      "metadata": {
        "colab": {
          "base_uri": "https://localhost:8080/"
        },
        "id": "8Gt-RuGndM46",
        "outputId": "5b89126f-4a6a-418b-e94a-9a85de207017"
      },
      "execution_count": 83,
      "outputs": [
        {
          "output_type": "stream",
          "name": "stderr",
          "text": [
            "<ipython-input-4-dbc8405074f9>:3: FutureWarning: In a future version of pandas all arguments of DataFrame.drop except for the argument 'labels' will be keyword-only\n",
            "  X = data.drop('telomere length (kb)',1)\n"
          ]
        },
        {
          "output_type": "stream",
          "name": "stdout",
          "text": [
            "-----------------------------\n",
            "Test\n",
            "R2 Value Test: 0.9350285223286402\n",
            "MSE Test: 0.0019294548369965378\n",
            "MAE Test: 0.02692274239526224\n",
            "MAPE 0.10080032886069802\n",
            "-----------------------------\n"
          ]
        }
      ]
    },
    {
      "cell_type": "code",
      "source": [
        "data(df,1,10,100,1,0.05)"
      ],
      "metadata": {
        "colab": {
          "base_uri": "https://localhost:8080/"
        },
        "id": "UaWlGJFndM0v",
        "outputId": "9246411e-0325-44d8-c5f5-b6cad99088ab"
      },
      "execution_count": 84,
      "outputs": [
        {
          "output_type": "stream",
          "name": "stderr",
          "text": [
            "<ipython-input-4-dbc8405074f9>:3: FutureWarning: In a future version of pandas all arguments of DataFrame.drop except for the argument 'labels' will be keyword-only\n",
            "  X = data.drop('telomere length (kb)',1)\n"
          ]
        },
        {
          "output_type": "stream",
          "name": "stdout",
          "text": [
            "-----------------------------\n",
            "Test\n",
            "R2 Value Test: 0.9329164318414243\n",
            "MSE Test: 0.001992177486269599\n",
            "MAE Test: 0.02701625232509452\n",
            "MAPE 0.11312042697689584\n",
            "-----------------------------\n"
          ]
        }
      ]
    },
    {
      "cell_type": "code",
      "source": [
        "data(df,1,10,100,0.9,0.3)"
      ],
      "metadata": {
        "colab": {
          "base_uri": "https://localhost:8080/"
        },
        "id": "PM1wF7fNdMwq",
        "outputId": "336fda74-3cbd-42a6-881c-79454f32a103"
      },
      "execution_count": 85,
      "outputs": [
        {
          "output_type": "stream",
          "name": "stderr",
          "text": [
            "<ipython-input-4-dbc8405074f9>:3: FutureWarning: In a future version of pandas all arguments of DataFrame.drop except for the argument 'labels' will be keyword-only\n",
            "  X = data.drop('telomere length (kb)',1)\n"
          ]
        },
        {
          "output_type": "stream",
          "name": "stdout",
          "text": [
            "-----------------------------\n",
            "Test\n",
            "R2 Value Test: 0.9399502066426475\n",
            "MSE Test: 0.0017832958154353387\n",
            "MAE Test: 0.02793035916876622\n",
            "MAPE 0.09993606740546139\n",
            "-----------------------------\n"
          ]
        }
      ]
    },
    {
      "cell_type": "code",
      "source": [
        "data(df,1,10,100,0.9,0.1)"
      ],
      "metadata": {
        "colab": {
          "base_uri": "https://localhost:8080/"
        },
        "id": "p9CMoPSvdMs7",
        "outputId": "affbd50b-c203-40bf-bc25-1ff3d9b072f6"
      },
      "execution_count": 86,
      "outputs": [
        {
          "output_type": "stream",
          "name": "stderr",
          "text": [
            "<ipython-input-4-dbc8405074f9>:3: FutureWarning: In a future version of pandas all arguments of DataFrame.drop except for the argument 'labels' will be keyword-only\n",
            "  X = data.drop('telomere length (kb)',1)\n"
          ]
        },
        {
          "output_type": "stream",
          "name": "stdout",
          "text": [
            "-----------------------------\n",
            "Test\n",
            "R2 Value Test: 0.9492079618397413\n",
            "MSE Test: 0.0015083687061103095\n",
            "MAE Test: 0.023477651662266247\n",
            "MAPE 0.09344904071986157\n",
            "-----------------------------\n"
          ]
        }
      ]
    },
    {
      "cell_type": "code",
      "source": [
        "data(df,1,10,100,0.9,0.05)"
      ],
      "metadata": {
        "colab": {
          "base_uri": "https://localhost:8080/"
        },
        "id": "wcO0MAscdUfK",
        "outputId": "fa0fbd9f-6ad7-4afc-c5de-b0d08edf6440"
      },
      "execution_count": 87,
      "outputs": [
        {
          "output_type": "stream",
          "name": "stderr",
          "text": [
            "<ipython-input-4-dbc8405074f9>:3: FutureWarning: In a future version of pandas all arguments of DataFrame.drop except for the argument 'labels' will be keyword-only\n",
            "  X = data.drop('telomere length (kb)',1)\n"
          ]
        },
        {
          "output_type": "stream",
          "name": "stdout",
          "text": [
            "-----------------------------\n",
            "Test\n",
            "R2 Value Test: 0.9457628496343207\n",
            "MSE Test: 0.001610678037019601\n",
            "MAE Test: 0.024695902976091515\n",
            "MAPE 0.10019871752058798\n",
            "-----------------------------\n"
          ]
        }
      ]
    },
    {
      "cell_type": "code",
      "source": [
        "data(df,1,10,1000,1,0.3)"
      ],
      "metadata": {
        "id": "9rc9HG-OmvJw",
        "colab": {
          "base_uri": "https://localhost:8080/"
        },
        "outputId": "161efd9a-e70f-4e84-de00-060ece46f858"
      },
      "execution_count": 8,
      "outputs": [
        {
          "output_type": "stream",
          "name": "stderr",
          "text": [
            "<ipython-input-4-dbc8405074f9>:3: FutureWarning: In a future version of pandas all arguments of DataFrame.drop except for the argument 'labels' will be keyword-only\n",
            "  X = data.drop('telomere length (kb)',1)\n"
          ]
        },
        {
          "output_type": "stream",
          "name": "stdout",
          "text": [
            "-----------------------------\n",
            "Test\n",
            "R2 Value Test: 0.9421723651263696\n",
            "MSE Test: 0.0017173044821817236\n",
            "MAE Test: 0.02645579950444151\n",
            "MAPE 0.09851502535573087\n",
            "-----------------------------\n"
          ]
        }
      ]
    },
    {
      "cell_type": "code",
      "source": [
        "data(df,1,10,1000,1,0.1)"
      ],
      "metadata": {
        "id": "bWyFcFAhmvGh",
        "colab": {
          "base_uri": "https://localhost:8080/"
        },
        "outputId": "d59d5459-070e-41ad-d310-91729b18e886"
      },
      "execution_count": 9,
      "outputs": [
        {
          "output_type": "stream",
          "name": "stderr",
          "text": [
            "<ipython-input-4-dbc8405074f9>:3: FutureWarning: In a future version of pandas all arguments of DataFrame.drop except for the argument 'labels' will be keyword-only\n",
            "  X = data.drop('telomere length (kb)',1)\n"
          ]
        },
        {
          "output_type": "stream",
          "name": "stdout",
          "text": [
            "-----------------------------\n",
            "Test\n",
            "R2 Value Test: 0.9350884716016687\n",
            "MSE Test: 0.0019276745263284557\n",
            "MAE Test: 0.026919323805922702\n",
            "MAPE 0.10078155243111037\n",
            "-----------------------------\n"
          ]
        }
      ]
    },
    {
      "cell_type": "code",
      "source": [
        "data(df,1,10,1000,1,0.05)"
      ],
      "metadata": {
        "id": "qgCrCJ-CmvDH",
        "colab": {
          "base_uri": "https://localhost:8080/"
        },
        "outputId": "c699b321-512c-4126-ba75-16282ae85a0d"
      },
      "execution_count": 10,
      "outputs": [
        {
          "output_type": "stream",
          "name": "stderr",
          "text": [
            "<ipython-input-4-dbc8405074f9>:3: FutureWarning: In a future version of pandas all arguments of DataFrame.drop except for the argument 'labels' will be keyword-only\n",
            "  X = data.drop('telomere length (kb)',1)\n"
          ]
        },
        {
          "output_type": "stream",
          "name": "stdout",
          "text": [
            "-----------------------------\n",
            "Test\n",
            "R2 Value Test: 0.9352518287355804\n",
            "MSE Test: 0.0019228233174060103\n",
            "MAE Test: 0.026425515990276507\n",
            "MAPE 0.1065499954643816\n",
            "-----------------------------\n"
          ]
        }
      ]
    },
    {
      "cell_type": "code",
      "source": [
        "data(df,1,10,1000,0.9,0.3)"
      ],
      "metadata": {
        "id": "1EoihoBrmu__",
        "colab": {
          "base_uri": "https://localhost:8080/"
        },
        "outputId": "32c70924-914a-495a-93cd-581ea5b58b07"
      },
      "execution_count": 11,
      "outputs": [
        {
          "output_type": "stream",
          "name": "stderr",
          "text": [
            "<ipython-input-4-dbc8405074f9>:3: FutureWarning: In a future version of pandas all arguments of DataFrame.drop except for the argument 'labels' will be keyword-only\n",
            "  X = data.drop('telomere length (kb)',1)\n"
          ]
        },
        {
          "output_type": "stream",
          "name": "stdout",
          "text": [
            "-----------------------------\n",
            "Test\n",
            "R2 Value Test: 0.9399502492205314\n",
            "MSE Test: 0.001783294551001976\n",
            "MAE Test: 0.027930338526275272\n",
            "MAPE 0.09993586977747262\n",
            "-----------------------------\n"
          ]
        }
      ]
    },
    {
      "cell_type": "code",
      "source": [
        "data(df,1,10,1000,0.9,0.1)"
      ],
      "metadata": {
        "id": "g_m0R3xdmu8z",
        "colab": {
          "base_uri": "https://localhost:8080/"
        },
        "outputId": "fb2f8b5b-5968-4fb2-e0a3-c0fbcc7663ea"
      },
      "execution_count": 12,
      "outputs": [
        {
          "output_type": "stream",
          "name": "stderr",
          "text": [
            "<ipython-input-4-dbc8405074f9>:3: FutureWarning: In a future version of pandas all arguments of DataFrame.drop except for the argument 'labels' will be keyword-only\n",
            "  X = data.drop('telomere length (kb)',1)\n"
          ]
        },
        {
          "output_type": "stream",
          "name": "stdout",
          "text": [
            "-----------------------------\n",
            "Test\n",
            "R2 Value Test: 0.9492857122949527\n",
            "MSE Test: 0.0015060597545939992\n",
            "MAE Test: 0.02346515239294907\n",
            "MAPE 0.09333270647051414\n",
            "-----------------------------\n"
          ]
        }
      ]
    },
    {
      "cell_type": "code",
      "source": [
        "data(df,1,10,1000,0.9,0.05)"
      ],
      "metadata": {
        "id": "kboi5OxPmu5L",
        "colab": {
          "base_uri": "https://localhost:8080/"
        },
        "outputId": "b8c4b1a5-2298-441c-a02a-04af6a7024ad"
      },
      "execution_count": 13,
      "outputs": [
        {
          "output_type": "stream",
          "name": "stderr",
          "text": [
            "<ipython-input-4-dbc8405074f9>:3: FutureWarning: In a future version of pandas all arguments of DataFrame.drop except for the argument 'labels' will be keyword-only\n",
            "  X = data.drop('telomere length (kb)',1)\n"
          ]
        },
        {
          "output_type": "stream",
          "name": "stdout",
          "text": [
            "-----------------------------\n",
            "Test\n",
            "R2 Value Test: 0.9474955905666618\n",
            "MSE Test: 0.0015592209131709102\n",
            "MAE Test: 0.02385898173806458\n",
            "MAPE 0.09145666323840786\n",
            "-----------------------------\n"
          ]
        }
      ]
    },
    {
      "cell_type": "code",
      "source": [
        "data(df,0.5,6,100,1,0.3)"
      ],
      "metadata": {
        "id": "gzkgA2kymu19",
        "colab": {
          "base_uri": "https://localhost:8080/"
        },
        "outputId": "fb5f194c-e019-424d-ba75-69cca5a0ca4f"
      },
      "execution_count": 46,
      "outputs": [
        {
          "output_type": "stream",
          "name": "stderr",
          "text": [
            "<ipython-input-4-dbc8405074f9>:3: FutureWarning: In a future version of pandas all arguments of DataFrame.drop except for the argument 'labels' will be keyword-only\n",
            "  X = data.drop('telomere length (kb)',1)\n"
          ]
        },
        {
          "output_type": "stream",
          "name": "stdout",
          "text": [
            "-----------------------------\n",
            "Test\n",
            "R2 Value Test: 0.9519293512549885\n",
            "MSE Test: 0.0014275517359752079\n",
            "MAE Test: 0.027914105089948637\n",
            "MAPE 0.12286122352201986\n",
            "-----------------------------\n"
          ]
        }
      ]
    },
    {
      "cell_type": "code",
      "source": [
        "data(df,0.5,6,100,1,0.1)"
      ],
      "metadata": {
        "id": "479YTp5Emuyk",
        "colab": {
          "base_uri": "https://localhost:8080/"
        },
        "outputId": "ca27b5a8-4fb0-4aed-ea74-1baf002f1eea"
      },
      "execution_count": 47,
      "outputs": [
        {
          "output_type": "stream",
          "name": "stderr",
          "text": [
            "<ipython-input-4-dbc8405074f9>:3: FutureWarning: In a future version of pandas all arguments of DataFrame.drop except for the argument 'labels' will be keyword-only\n",
            "  X = data.drop('telomere length (kb)',1)\n"
          ]
        },
        {
          "output_type": "stream",
          "name": "stdout",
          "text": [
            "-----------------------------\n",
            "Test\n",
            "R2 Value Test: 0.9691854488417655\n",
            "MSE Test: 0.0009150982386897683\n",
            "MAE Test: 0.021224059407136536\n",
            "MAPE 0.09322526469202594\n",
            "-----------------------------\n"
          ]
        }
      ]
    },
    {
      "cell_type": "code",
      "source": [
        "data(df,0.5,6,100,1,0.05)"
      ],
      "metadata": {
        "id": "9Mh9lKkvmuva",
        "colab": {
          "base_uri": "https://localhost:8080/"
        },
        "outputId": "b02ebb00-9806-4909-d896-337210ce666a"
      },
      "execution_count": 48,
      "outputs": [
        {
          "output_type": "stream",
          "name": "stderr",
          "text": [
            "<ipython-input-4-dbc8405074f9>:3: FutureWarning: In a future version of pandas all arguments of DataFrame.drop except for the argument 'labels' will be keyword-only\n",
            "  X = data.drop('telomere length (kb)',1)\n"
          ]
        },
        {
          "output_type": "stream",
          "name": "stdout",
          "text": [
            "-----------------------------\n",
            "Test\n",
            "R2 Value Test: 0.9716445882394086\n",
            "MSE Test: 0.0008420692946717258\n",
            "MAE Test: 0.01886335036511245\n",
            "MAPE 0.07621815230363957\n",
            "-----------------------------\n"
          ]
        }
      ]
    },
    {
      "cell_type": "code",
      "source": [
        "data(df,0.5,6,100,0.9,0.3)"
      ],
      "metadata": {
        "id": "CAn2ET9qmusk",
        "colab": {
          "base_uri": "https://localhost:8080/"
        },
        "outputId": "d156840a-7644-4f62-bdc0-ee5d0d6b80f6"
      },
      "execution_count": 49,
      "outputs": [
        {
          "output_type": "stream",
          "name": "stderr",
          "text": [
            "<ipython-input-4-dbc8405074f9>:3: FutureWarning: In a future version of pandas all arguments of DataFrame.drop except for the argument 'labels' will be keyword-only\n",
            "  X = data.drop('telomere length (kb)',1)\n"
          ]
        },
        {
          "output_type": "stream",
          "name": "stdout",
          "text": [
            "-----------------------------\n",
            "Test\n",
            "R2 Value Test: 0.9537812038189631\n",
            "MSE Test: 0.0013725573597500155\n",
            "MAE Test: 0.027312495759300472\n",
            "MAPE 0.09636961086737571\n",
            "-----------------------------\n"
          ]
        }
      ]
    },
    {
      "cell_type": "code",
      "source": [
        "data(df,0.5,6,100,0.9,0.1)"
      ],
      "metadata": {
        "id": "iJ2ez6vSmupu",
        "colab": {
          "base_uri": "https://localhost:8080/"
        },
        "outputId": "01098cc5-e6ba-4635-f80c-a69938b6c071"
      },
      "execution_count": 50,
      "outputs": [
        {
          "output_type": "stream",
          "name": "stderr",
          "text": [
            "<ipython-input-4-dbc8405074f9>:3: FutureWarning: In a future version of pandas all arguments of DataFrame.drop except for the argument 'labels' will be keyword-only\n",
            "  X = data.drop('telomere length (kb)',1)\n"
          ]
        },
        {
          "output_type": "stream",
          "name": "stdout",
          "text": [
            "-----------------------------\n",
            "Test\n",
            "R2 Value Test: 0.9693573219445413\n",
            "MSE Test: 0.0009099941314509311\n",
            "MAE Test: 0.021021833882787534\n",
            "MAPE 0.07710808246478132\n",
            "-----------------------------\n"
          ]
        }
      ]
    },
    {
      "cell_type": "code",
      "source": [
        "data(df,0.5,5,100,0.9,0.05)"
      ],
      "metadata": {
        "id": "NN8e8iHGmumr",
        "colab": {
          "base_uri": "https://localhost:8080/"
        },
        "outputId": "f4903e7a-a130-4eed-c7da-1a3fc9ce4950"
      },
      "execution_count": 51,
      "outputs": [
        {
          "output_type": "stream",
          "name": "stderr",
          "text": [
            "<ipython-input-4-dbc8405074f9>:3: FutureWarning: In a future version of pandas all arguments of DataFrame.drop except for the argument 'labels' will be keyword-only\n",
            "  X = data.drop('telomere length (kb)',1)\n"
          ]
        },
        {
          "output_type": "stream",
          "name": "stdout",
          "text": [
            "-----------------------------\n",
            "Test\n",
            "R2 Value Test: 0.9698285364678084\n",
            "MSE Test: 0.0008960004964934521\n",
            "MAE Test: 0.019196557340627342\n",
            "MAPE 0.07824202550684685\n",
            "-----------------------------\n"
          ]
        }
      ]
    },
    {
      "cell_type": "code",
      "source": [
        "data(df,0.5,6,1000,1,0.3)"
      ],
      "metadata": {
        "id": "t7VnhDJwmujv",
        "colab": {
          "base_uri": "https://localhost:8080/"
        },
        "outputId": "6d112b5c-61db-48e2-ee73-c9e5f952ebd4"
      },
      "execution_count": 52,
      "outputs": [
        {
          "output_type": "stream",
          "name": "stderr",
          "text": [
            "<ipython-input-4-dbc8405074f9>:3: FutureWarning: In a future version of pandas all arguments of DataFrame.drop except for the argument 'labels' will be keyword-only\n",
            "  X = data.drop('telomere length (kb)',1)\n"
          ]
        },
        {
          "output_type": "stream",
          "name": "stdout",
          "text": [
            "-----------------------------\n",
            "Test\n",
            "R2 Value Test: 0.9520792735712786\n",
            "MSE Test: 0.0014230995001833276\n",
            "MAE Test: 0.027811209504018993\n",
            "MAPE 0.12230047323289528\n",
            "-----------------------------\n"
          ]
        }
      ]
    },
    {
      "cell_type": "code",
      "source": [
        "data(df,0.5,6,1000,1,0.1)"
      ],
      "metadata": {
        "colab": {
          "base_uri": "https://localhost:8080/"
        },
        "id": "Pnu9dbP2SPzI",
        "outputId": "4df5d576-6643-4866-a3b3-b4cb0304e939"
      },
      "execution_count": 53,
      "outputs": [
        {
          "output_type": "stream",
          "name": "stderr",
          "text": [
            "<ipython-input-4-dbc8405074f9>:3: FutureWarning: In a future version of pandas all arguments of DataFrame.drop except for the argument 'labels' will be keyword-only\n",
            "  X = data.drop('telomere length (kb)',1)\n"
          ]
        },
        {
          "output_type": "stream",
          "name": "stdout",
          "text": [
            "-----------------------------\n",
            "Test\n",
            "R2 Value Test: 0.9694632295004337\n",
            "MSE Test: 0.0009068489998745047\n",
            "MAE Test: 0.02106262750611593\n",
            "MAPE 0.09197975761743785\n",
            "-----------------------------\n"
          ]
        }
      ]
    },
    {
      "cell_type": "code",
      "source": [
        "data(df,0.5,6,1000,1,0.05)"
      ],
      "metadata": {
        "colab": {
          "base_uri": "https://localhost:8080/"
        },
        "id": "roX60bnRSPv0",
        "outputId": "0e3e10e7-a438-4ece-e0a5-a8dc2880ff6a"
      },
      "execution_count": 54,
      "outputs": [
        {
          "output_type": "stream",
          "name": "stderr",
          "text": [
            "<ipython-input-4-dbc8405074f9>:3: FutureWarning: In a future version of pandas all arguments of DataFrame.drop except for the argument 'labels' will be keyword-only\n",
            "  X = data.drop('telomere length (kb)',1)\n"
          ]
        },
        {
          "output_type": "stream",
          "name": "stdout",
          "text": [
            "-----------------------------\n",
            "Test\n",
            "R2 Value Test: 0.9778418417409208\n",
            "MSE Test: 0.0006580297565059253\n",
            "MAE Test: 0.016565000413586023\n",
            "MAPE 0.06530979144596373\n",
            "-----------------------------\n"
          ]
        }
      ]
    },
    {
      "cell_type": "code",
      "source": [
        "data(df,0.5,6,1000,0.9,0.3)"
      ],
      "metadata": {
        "colab": {
          "base_uri": "https://localhost:8080/"
        },
        "id": "uIxsv9YzSPsr",
        "outputId": "d4e9a974-2984-4dec-ca27-051f414562bb"
      },
      "execution_count": 55,
      "outputs": [
        {
          "output_type": "stream",
          "name": "stderr",
          "text": [
            "<ipython-input-4-dbc8405074f9>:3: FutureWarning: In a future version of pandas all arguments of DataFrame.drop except for the argument 'labels' will be keyword-only\n",
            "  X = data.drop('telomere length (kb)',1)\n"
          ]
        },
        {
          "output_type": "stream",
          "name": "stdout",
          "text": [
            "-----------------------------\n",
            "Test\n",
            "R2 Value Test: 0.953777347266107\n",
            "MSE Test: 0.0013726718876140756\n",
            "MAE Test: 0.02730479773177384\n",
            "MAPE 0.09628845213938911\n",
            "-----------------------------\n"
          ]
        }
      ]
    },
    {
      "cell_type": "code",
      "source": [
        "data(df,0.5,6,1000,0.9,0.1)"
      ],
      "metadata": {
        "colab": {
          "base_uri": "https://localhost:8080/"
        },
        "id": "YswC7-HBSPps",
        "outputId": "d5350c6d-cb60-4421-850c-053d61abfd33"
      },
      "execution_count": 56,
      "outputs": [
        {
          "output_type": "stream",
          "name": "stderr",
          "text": [
            "<ipython-input-4-dbc8405074f9>:3: FutureWarning: In a future version of pandas all arguments of DataFrame.drop except for the argument 'labels' will be keyword-only\n",
            "  X = data.drop('telomere length (kb)',1)\n"
          ]
        },
        {
          "output_type": "stream",
          "name": "stdout",
          "text": [
            "-----------------------------\n",
            "Test\n",
            "R2 Value Test: 0.9703824202786756\n",
            "MSE Test: 0.0008795518356915931\n",
            "MAE Test: 0.020604720352087717\n",
            "MAPE 0.07601576613535073\n",
            "-----------------------------\n"
          ]
        }
      ]
    },
    {
      "cell_type": "code",
      "source": [
        "data(df,0.5,6,1000,0.9,0.05)"
      ],
      "metadata": {
        "colab": {
          "base_uri": "https://localhost:8080/"
        },
        "id": "IsKgj7czSPmc",
        "outputId": "e47cec9d-50fb-45ae-9567-5199be76d22c"
      },
      "execution_count": 57,
      "outputs": [
        {
          "output_type": "stream",
          "name": "stderr",
          "text": [
            "<ipython-input-4-dbc8405074f9>:3: FutureWarning: In a future version of pandas all arguments of DataFrame.drop except for the argument 'labels' will be keyword-only\n",
            "  X = data.drop('telomere length (kb)',1)\n"
          ]
        },
        {
          "output_type": "stream",
          "name": "stdout",
          "text": [
            "-----------------------------\n",
            "Test\n",
            "R2 Value Test: 0.9747374511046054\n",
            "MSE Test: 0.0007502206954201234\n",
            "MAE Test: 0.017603446950445464\n",
            "MAPE 0.06844531452930819\n",
            "-----------------------------\n"
          ]
        }
      ]
    },
    {
      "cell_type": "code",
      "source": [
        "data(df,0.5,5,100,1,0.3)"
      ],
      "metadata": {
        "colab": {
          "base_uri": "https://localhost:8080/"
        },
        "id": "PYEzz9BWSPjI",
        "outputId": "ac403827-c9df-4cd4-b8d4-2e007e32727e"
      },
      "execution_count": 58,
      "outputs": [
        {
          "output_type": "stream",
          "name": "stderr",
          "text": [
            "<ipython-input-4-dbc8405074f9>:3: FutureWarning: In a future version of pandas all arguments of DataFrame.drop except for the argument 'labels' will be keyword-only\n",
            "  X = data.drop('telomere length (kb)',1)\n"
          ]
        },
        {
          "output_type": "stream",
          "name": "stdout",
          "text": [
            "-----------------------------\n",
            "Test\n",
            "R2 Value Test: 0.9640792722555052\n",
            "MSE Test: 0.0010667361183567935\n",
            "MAE Test: 0.024743033262665377\n",
            "MAPE 0.10508549835497413\n",
            "-----------------------------\n"
          ]
        }
      ]
    },
    {
      "cell_type": "code",
      "source": [
        "data(df,0.5,5,100,1,0.1)"
      ],
      "metadata": {
        "colab": {
          "base_uri": "https://localhost:8080/"
        },
        "id": "gDiR4cXGSPf6",
        "outputId": "ef9114a5-227d-43ac-e54b-cea0e8546394"
      },
      "execution_count": 59,
      "outputs": [
        {
          "output_type": "stream",
          "name": "stderr",
          "text": [
            "<ipython-input-4-dbc8405074f9>:3: FutureWarning: In a future version of pandas all arguments of DataFrame.drop except for the argument 'labels' will be keyword-only\n",
            "  X = data.drop('telomere length (kb)',1)\n"
          ]
        },
        {
          "output_type": "stream",
          "name": "stdout",
          "text": [
            "-----------------------------\n",
            "Test\n",
            "R2 Value Test: 0.968709952333328\n",
            "MSE Test: 0.0009292190355542059\n",
            "MAE Test: 0.01972244406769796\n",
            "MAPE 0.07744856058979042\n",
            "-----------------------------\n"
          ]
        }
      ]
    },
    {
      "cell_type": "code",
      "source": [
        "data(df,0.5,5,100,1,0.05)"
      ],
      "metadata": {
        "colab": {
          "base_uri": "https://localhost:8080/"
        },
        "id": "BwRvmCXXSPc3",
        "outputId": "20e343aa-be69-4ec4-e4db-b870cfa79007"
      },
      "execution_count": 60,
      "outputs": [
        {
          "output_type": "stream",
          "name": "stderr",
          "text": [
            "<ipython-input-4-dbc8405074f9>:3: FutureWarning: In a future version of pandas all arguments of DataFrame.drop except for the argument 'labels' will be keyword-only\n",
            "  X = data.drop('telomere length (kb)',1)\n"
          ]
        },
        {
          "output_type": "stream",
          "name": "stdout",
          "text": [
            "-----------------------------\n",
            "Test\n",
            "R2 Value Test: 0.970411755728569\n",
            "MSE Test: 0.0008786806622517881\n",
            "MAE Test: 0.01885966917810511\n",
            "MAPE 0.0764612486646679\n",
            "-----------------------------\n"
          ]
        }
      ]
    },
    {
      "cell_type": "code",
      "source": [
        "data(df,0.5,5,100,0.9,0.3)"
      ],
      "metadata": {
        "colab": {
          "base_uri": "https://localhost:8080/"
        },
        "id": "1yF8cOe2SPZ2",
        "outputId": "a895f3db-e005-4a25-f629-3b29d9f19c4e"
      },
      "execution_count": 63,
      "outputs": [
        {
          "output_type": "stream",
          "name": "stderr",
          "text": [
            "<ipython-input-4-dbc8405074f9>:3: FutureWarning: In a future version of pandas all arguments of DataFrame.drop except for the argument 'labels' will be keyword-only\n",
            "  X = data.drop('telomere length (kb)',1)\n"
          ]
        },
        {
          "output_type": "stream",
          "name": "stdout",
          "text": [
            "-----------------------------\n",
            "Test\n",
            "R2 Value Test: 0.9541588358781085\n",
            "MSE Test: 0.001361342838713439\n",
            "MAE Test: 0.026086692143192605\n",
            "MAPE 0.09580791606591647\n",
            "-----------------------------\n"
          ]
        }
      ]
    },
    {
      "cell_type": "code",
      "source": [
        "data(df,0.5,5,100,0.9,0.1)"
      ],
      "metadata": {
        "colab": {
          "base_uri": "https://localhost:8080/"
        },
        "id": "Xy3HAUFlSPWu",
        "outputId": "e4d659fd-e89f-45be-e532-f5fff350c2b6"
      },
      "execution_count": 62,
      "outputs": [
        {
          "output_type": "stream",
          "name": "stderr",
          "text": [
            "<ipython-input-4-dbc8405074f9>:3: FutureWarning: In a future version of pandas all arguments of DataFrame.drop except for the argument 'labels' will be keyword-only\n",
            "  X = data.drop('telomere length (kb)',1)\n"
          ]
        },
        {
          "output_type": "stream",
          "name": "stdout",
          "text": [
            "-----------------------------\n",
            "Test\n",
            "R2 Value Test: 0.970407504975924\n",
            "MSE Test: 0.0008788068966479526\n",
            "MAE Test: 0.019824254391399006\n",
            "MAPE 0.07724529816763026\n",
            "-----------------------------\n"
          ]
        }
      ]
    },
    {
      "cell_type": "code",
      "source": [
        "data(df,0.5,5,100,0.9,0.05)"
      ],
      "metadata": {
        "colab": {
          "base_uri": "https://localhost:8080/"
        },
        "id": "64N5sZySSPTt",
        "outputId": "d9ff2f15-1f10-434d-c2f3-6de024982b80"
      },
      "execution_count": 61,
      "outputs": [
        {
          "output_type": "stream",
          "name": "stderr",
          "text": [
            "<ipython-input-4-dbc8405074f9>:3: FutureWarning: In a future version of pandas all arguments of DataFrame.drop except for the argument 'labels' will be keyword-only\n",
            "  X = data.drop('telomere length (kb)',1)\n"
          ]
        },
        {
          "output_type": "stream",
          "name": "stdout",
          "text": [
            "-----------------------------\n",
            "Test\n",
            "R2 Value Test: 0.9698285364678084\n",
            "MSE Test: 0.0008960004964934521\n",
            "MAE Test: 0.019196557340627342\n",
            "MAPE 0.07824202550684685\n",
            "-----------------------------\n"
          ]
        }
      ]
    },
    {
      "cell_type": "code",
      "source": [
        "data(df,0.5,5,1000,1,0.3)"
      ],
      "metadata": {
        "colab": {
          "base_uri": "https://localhost:8080/"
        },
        "id": "02XHIzseSPQR",
        "outputId": "1d89a386-5886-4859-d513-e52494c46656"
      },
      "execution_count": 64,
      "outputs": [
        {
          "output_type": "stream",
          "name": "stderr",
          "text": [
            "<ipython-input-4-dbc8405074f9>:3: FutureWarning: In a future version of pandas all arguments of DataFrame.drop except for the argument 'labels' will be keyword-only\n",
            "  X = data.drop('telomere length (kb)',1)\n"
          ]
        },
        {
          "output_type": "stream",
          "name": "stdout",
          "text": [
            "-----------------------------\n",
            "Test\n",
            "R2 Value Test: 0.9642045661128598\n",
            "MSE Test: 0.0010630152727213952\n",
            "MAE Test: 0.024707480231557416\n",
            "MAPE 0.10503574645439946\n",
            "-----------------------------\n"
          ]
        }
      ]
    },
    {
      "cell_type": "code",
      "source": [
        "data(df,0.5,5,1000,1,0.1)"
      ],
      "metadata": {
        "colab": {
          "base_uri": "https://localhost:8080/"
        },
        "id": "hcn4AA7xUggT",
        "outputId": "7e683a48-cef0-4db7-db28-0ec63e9de5a7"
      },
      "execution_count": 65,
      "outputs": [
        {
          "output_type": "stream",
          "name": "stderr",
          "text": [
            "<ipython-input-4-dbc8405074f9>:3: FutureWarning: In a future version of pandas all arguments of DataFrame.drop except for the argument 'labels' will be keyword-only\n",
            "  X = data.drop('telomere length (kb)',1)\n"
          ]
        },
        {
          "output_type": "stream",
          "name": "stdout",
          "text": [
            "-----------------------------\n",
            "Test\n",
            "R2 Value Test: 0.9698100332888602\n",
            "MSE Test: 0.0008965499845057493\n",
            "MAE Test: 0.01915044151500913\n",
            "MAPE 0.07345955053148352\n",
            "-----------------------------\n"
          ]
        }
      ]
    },
    {
      "cell_type": "code",
      "source": [
        "data(df,0.5,5,1000,1,0.05)"
      ],
      "metadata": {
        "colab": {
          "base_uri": "https://localhost:8080/"
        },
        "id": "u6CkDRWuUfi_",
        "outputId": "1755077d-05c5-4d5a-dc65-4ad82c308895"
      },
      "execution_count": 66,
      "outputs": [
        {
          "output_type": "stream",
          "name": "stderr",
          "text": [
            "<ipython-input-4-dbc8405074f9>:3: FutureWarning: In a future version of pandas all arguments of DataFrame.drop except for the argument 'labels' will be keyword-only\n",
            "  X = data.drop('telomere length (kb)',1)\n"
          ]
        },
        {
          "output_type": "stream",
          "name": "stdout",
          "text": [
            "-----------------------------\n",
            "Test\n",
            "R2 Value Test: 0.9767533924757853\n",
            "MSE Test: 0.0006903533818059974\n",
            "MAE Test: 0.016640059004483045\n",
            "MAPE 0.06551614529199393\n",
            "-----------------------------\n"
          ]
        }
      ]
    },
    {
      "cell_type": "code",
      "source": [
        "data(df,0.5,5,1000,0.9,0.3)"
      ],
      "metadata": {
        "colab": {
          "base_uri": "https://localhost:8080/"
        },
        "id": "C1_3umwUUffq",
        "outputId": "01bfa13b-9dbe-4d19-a151-6f861219b921"
      },
      "execution_count": 67,
      "outputs": [
        {
          "output_type": "stream",
          "name": "stderr",
          "text": [
            "<ipython-input-4-dbc8405074f9>:3: FutureWarning: In a future version of pandas all arguments of DataFrame.drop except for the argument 'labels' will be keyword-only\n",
            "  X = data.drop('telomere length (kb)',1)\n"
          ]
        },
        {
          "output_type": "stream",
          "name": "stdout",
          "text": [
            "-----------------------------\n",
            "Test\n",
            "R2 Value Test: 0.9543548890808788\n",
            "MSE Test: 0.0013555206562119533\n",
            "MAE Test: 0.02602667758500355\n",
            "MAPE 0.09558052638716194\n",
            "-----------------------------\n"
          ]
        }
      ]
    },
    {
      "cell_type": "code",
      "source": [
        "data(df,0.5,5,1000,0.9,0.1)"
      ],
      "metadata": {
        "colab": {
          "base_uri": "https://localhost:8080/"
        },
        "id": "81URpMcOUfcL",
        "outputId": "248ec5cb-b4d5-4e3a-c1dc-78d7b4dd4850"
      },
      "execution_count": 68,
      "outputs": [
        {
          "output_type": "stream",
          "name": "stderr",
          "text": [
            "<ipython-input-4-dbc8405074f9>:3: FutureWarning: In a future version of pandas all arguments of DataFrame.drop except for the argument 'labels' will be keyword-only\n",
            "  X = data.drop('telomere length (kb)',1)\n"
          ]
        },
        {
          "output_type": "stream",
          "name": "stdout",
          "text": [
            "-----------------------------\n",
            "Test\n",
            "R2 Value Test: 0.9713420506889636\n",
            "MSE Test: 0.000851053737707355\n",
            "MAE Test: 0.019385967224234572\n",
            "MAPE 0.07503629924857293\n",
            "-----------------------------\n"
          ]
        }
      ]
    },
    {
      "cell_type": "code",
      "source": [
        "data(df,0.5,5,1000,0.9,0.05)"
      ],
      "metadata": {
        "colab": {
          "base_uri": "https://localhost:8080/"
        },
        "id": "ERir0Uy2UfYk",
        "outputId": "648b00f5-240a-4246-a8e0-c4f9f770fbbd"
      },
      "execution_count": 69,
      "outputs": [
        {
          "output_type": "stream",
          "name": "stderr",
          "text": [
            "<ipython-input-4-dbc8405074f9>:3: FutureWarning: In a future version of pandas all arguments of DataFrame.drop except for the argument 'labels' will be keyword-only\n",
            "  X = data.drop('telomere length (kb)',1)\n"
          ]
        },
        {
          "output_type": "stream",
          "name": "stdout",
          "text": [
            "-----------------------------\n",
            "Test\n",
            "R2 Value Test: 0.9767645228587268\n",
            "MSE Test: 0.0006900228433609161\n",
            "MAE Test: 0.016657615760908843\n",
            "MAPE 0.06420926522456483\n",
            "-----------------------------\n"
          ]
        }
      ]
    },
    {
      "cell_type": "code",
      "source": [
        "data(df,0.5,10,100,1,0.3)"
      ],
      "metadata": {
        "colab": {
          "base_uri": "https://localhost:8080/"
        },
        "id": "9W5V4a5hUfU-",
        "outputId": "7dd822a4-f49c-4836-acf7-6b98d352f15c"
      },
      "execution_count": 70,
      "outputs": [
        {
          "output_type": "stream",
          "name": "stderr",
          "text": [
            "<ipython-input-4-dbc8405074f9>:3: FutureWarning: In a future version of pandas all arguments of DataFrame.drop except for the argument 'labels' will be keyword-only\n",
            "  X = data.drop('telomere length (kb)',1)\n"
          ]
        },
        {
          "output_type": "stream",
          "name": "stdout",
          "text": [
            "-----------------------------\n",
            "Test\n",
            "R2 Value Test: 0.951936633391721\n",
            "MSE Test: 0.0014273354787120835\n",
            "MAE Test: 0.027860555394177602\n",
            "MAPE 0.11982469835534457\n",
            "-----------------------------\n"
          ]
        }
      ]
    },
    {
      "cell_type": "code",
      "source": [
        "data(df,0.5,10,100,1,0.1)"
      ],
      "metadata": {
        "colab": {
          "base_uri": "https://localhost:8080/"
        },
        "id": "zWhkH_HeUfRd",
        "outputId": "823db9eb-1e05-4bcb-eb01-628148c2e956"
      },
      "execution_count": 72,
      "outputs": [
        {
          "output_type": "stream",
          "name": "stderr",
          "text": [
            "<ipython-input-4-dbc8405074f9>:3: FutureWarning: In a future version of pandas all arguments of DataFrame.drop except for the argument 'labels' will be keyword-only\n",
            "  X = data.drop('telomere length (kb)',1)\n"
          ]
        },
        {
          "output_type": "stream",
          "name": "stdout",
          "text": [
            "-----------------------------\n",
            "Test\n",
            "R2 Value Test: 0.9701075839611519\n",
            "MSE Test: 0.0008877136365499765\n",
            "MAE Test: 0.02045344113547294\n",
            "MAPE 0.08232402185863563\n",
            "-----------------------------\n"
          ]
        }
      ]
    },
    {
      "cell_type": "code",
      "source": [
        "data(df,0.5,10,100,1,0.05)"
      ],
      "metadata": {
        "colab": {
          "base_uri": "https://localhost:8080/"
        },
        "id": "pxZU2KQcUfN3",
        "outputId": "68dfbf82-6659-425b-8e3c-fb3dbb4eb4a5"
      },
      "execution_count": 71,
      "outputs": [
        {
          "output_type": "stream",
          "name": "stderr",
          "text": [
            "<ipython-input-4-dbc8405074f9>:3: FutureWarning: In a future version of pandas all arguments of DataFrame.drop except for the argument 'labels' will be keyword-only\n",
            "  X = data.drop('telomere length (kb)',1)\n"
          ]
        },
        {
          "output_type": "stream",
          "name": "stdout",
          "text": [
            "-----------------------------\n",
            "Test\n",
            "R2 Value Test: 0.9694375109749188\n",
            "MSE Test: 0.0009076127616855895\n",
            "MAE Test: 0.01991106728730128\n",
            "MAPE 0.07986807696562857\n",
            "-----------------------------\n"
          ]
        }
      ]
    },
    {
      "cell_type": "code",
      "source": [
        "data(df,0.5,10,100,0.9,0.3)"
      ],
      "metadata": {
        "colab": {
          "base_uri": "https://localhost:8080/"
        },
        "id": "bJ-HthoWUfKp",
        "outputId": "f4c4e05b-e802-4769-9e24-4205baeb7e1e"
      },
      "execution_count": 74,
      "outputs": [
        {
          "output_type": "stream",
          "name": "stderr",
          "text": [
            "<ipython-input-4-dbc8405074f9>:3: FutureWarning: In a future version of pandas all arguments of DataFrame.drop except for the argument 'labels' will be keyword-only\n",
            "  X = data.drop('telomere length (kb)',1)\n"
          ]
        },
        {
          "output_type": "stream",
          "name": "stdout",
          "text": [
            "-----------------------------\n",
            "Test\n",
            "R2 Value Test: 0.9385962617433253\n",
            "MSE Test: 0.001823503851771495\n",
            "MAE Test: 0.031943005761053765\n",
            "MAPE 0.12179587435409923\n",
            "-----------------------------\n"
          ]
        }
      ]
    },
    {
      "cell_type": "code",
      "source": [
        "data(df,0.5,10,100,0.9,0.1)"
      ],
      "metadata": {
        "colab": {
          "base_uri": "https://localhost:8080/"
        },
        "id": "nS8btBMeUfHb",
        "outputId": "29f4b69c-4708-4751-c969-3b4bdcedc4ad"
      },
      "execution_count": 73,
      "outputs": [
        {
          "output_type": "stream",
          "name": "stderr",
          "text": [
            "<ipython-input-4-dbc8405074f9>:3: FutureWarning: In a future version of pandas all arguments of DataFrame.drop except for the argument 'labels' will be keyword-only\n",
            "  X = data.drop('telomere length (kb)',1)\n"
          ]
        },
        {
          "output_type": "stream",
          "name": "stdout",
          "text": [
            "-----------------------------\n",
            "Test\n",
            "R2 Value Test: 0.9628289332246329\n",
            "MSE Test: 0.0011038673762174297\n",
            "MAE Test: 0.02335292282737864\n",
            "MAPE 0.09372977357493555\n",
            "-----------------------------\n"
          ]
        }
      ]
    },
    {
      "cell_type": "code",
      "source": [
        "data(df,0.5,10,100,0.9,0.05)"
      ],
      "metadata": {
        "colab": {
          "base_uri": "https://localhost:8080/"
        },
        "id": "RMmJvl06UfEW",
        "outputId": "e5143156-0a90-4a84-c02f-894f601d582f"
      },
      "execution_count": 75,
      "outputs": [
        {
          "output_type": "stream",
          "name": "stderr",
          "text": [
            "<ipython-input-4-dbc8405074f9>:3: FutureWarning: In a future version of pandas all arguments of DataFrame.drop except for the argument 'labels' will be keyword-only\n",
            "  X = data.drop('telomere length (kb)',1)\n"
          ]
        },
        {
          "output_type": "stream",
          "name": "stdout",
          "text": [
            "-----------------------------\n",
            "Test\n",
            "R2 Value Test: 0.9693408347422993\n",
            "MSE Test: 0.0009104837511002686\n",
            "MAE Test: 0.019850992715987274\n",
            "MAPE 0.0779454595173925\n",
            "-----------------------------\n"
          ]
        }
      ]
    },
    {
      "cell_type": "code",
      "source": [
        "data(df,0.5,10,1000,1,0.03)"
      ],
      "metadata": {
        "colab": {
          "base_uri": "https://localhost:8080/"
        },
        "id": "W4BcTNIoUfBO",
        "outputId": "ead71b70-301c-42f8-efcf-f9a980ab9bdb"
      },
      "execution_count": 76,
      "outputs": [
        {
          "output_type": "stream",
          "name": "stderr",
          "text": [
            "<ipython-input-4-dbc8405074f9>:3: FutureWarning: In a future version of pandas all arguments of DataFrame.drop except for the argument 'labels' will be keyword-only\n",
            "  X = data.drop('telomere length (kb)',1)\n"
          ]
        },
        {
          "output_type": "stream",
          "name": "stdout",
          "text": [
            "-----------------------------\n",
            "Test\n",
            "R2 Value Test: 0.9748229071246595\n",
            "MSE Test: 0.0007476829121165372\n",
            "MAE Test: 0.018274130373208373\n",
            "MAPE 0.07715493372692081\n",
            "-----------------------------\n"
          ]
        }
      ]
    },
    {
      "cell_type": "code",
      "source": [
        "data(df,0.5,10,1000,1,0.1)"
      ],
      "metadata": {
        "colab": {
          "base_uri": "https://localhost:8080/"
        },
        "id": "ooO4P_axZ8Ja",
        "outputId": "b7d8b8be-5763-4297-b294-bb56b8eb4b7f"
      },
      "execution_count": 77,
      "outputs": [
        {
          "output_type": "stream",
          "name": "stderr",
          "text": [
            "<ipython-input-4-dbc8405074f9>:3: FutureWarning: In a future version of pandas all arguments of DataFrame.drop except for the argument 'labels' will be keyword-only\n",
            "  X = data.drop('telomere length (kb)',1)\n"
          ]
        },
        {
          "output_type": "stream",
          "name": "stdout",
          "text": [
            "-----------------------------\n",
            "Test\n",
            "R2 Value Test: 0.969179288697765\n",
            "MSE Test: 0.0009152811761888714\n",
            "MAE Test: 0.020867537849725174\n",
            "MAPE 0.08281833080222623\n",
            "-----------------------------\n"
          ]
        }
      ]
    },
    {
      "cell_type": "code",
      "source": [
        "data(df,0.5,10,1000,1,0.05)"
      ],
      "metadata": {
        "colab": {
          "base_uri": "https://localhost:8080/"
        },
        "id": "EowOcxw4Z8GD",
        "outputId": "1d7f1de2-a2a9-47bc-dc12-8f584c577f8c"
      },
      "execution_count": 78,
      "outputs": [
        {
          "output_type": "stream",
          "name": "stderr",
          "text": [
            "<ipython-input-4-dbc8405074f9>:3: FutureWarning: In a future version of pandas all arguments of DataFrame.drop except for the argument 'labels' will be keyword-only\n",
            "  X = data.drop('telomere length (kb)',1)\n"
          ]
        },
        {
          "output_type": "stream",
          "name": "stdout",
          "text": [
            "-----------------------------\n",
            "Test\n",
            "R2 Value Test: 0.9747923870690426\n",
            "MSE Test: 0.0007485892647353481\n",
            "MAE Test: 0.01793977057186328\n",
            "MAPE 0.06952817878314596\n",
            "-----------------------------\n"
          ]
        }
      ]
    },
    {
      "cell_type": "code",
      "source": [
        "data(df,0.5,10,1000,0.9,0.3)"
      ],
      "metadata": {
        "colab": {
          "base_uri": "https://localhost:8080/"
        },
        "id": "IjiPI31aZ8C1",
        "outputId": "09f195a4-dac8-47c3-8679-c7a03959734d"
      },
      "execution_count": 79,
      "outputs": [
        {
          "output_type": "stream",
          "name": "stderr",
          "text": [
            "<ipython-input-4-dbc8405074f9>:3: FutureWarning: In a future version of pandas all arguments of DataFrame.drop except for the argument 'labels' will be keyword-only\n",
            "  X = data.drop('telomere length (kb)',1)\n"
          ]
        },
        {
          "output_type": "stream",
          "name": "stdout",
          "text": [
            "-----------------------------\n",
            "Test\n",
            "R2 Value Test: 0.9386610543938121\n",
            "MSE Test: 0.00182157970755677\n",
            "MAE Test: 0.0319258804700709\n",
            "MAPE 0.12171901713857822\n",
            "-----------------------------\n"
          ]
        }
      ]
    },
    {
      "cell_type": "code",
      "source": [
        "data(df,0.5,10,1000,0.9,0.1)"
      ],
      "metadata": {
        "colab": {
          "base_uri": "https://localhost:8080/"
        },
        "id": "fFTlHCCFZ7-i",
        "outputId": "903b4082-b1c2-487f-b680-96c762e26659"
      },
      "execution_count": 81,
      "outputs": [
        {
          "output_type": "stream",
          "name": "stderr",
          "text": [
            "<ipython-input-4-dbc8405074f9>:3: FutureWarning: In a future version of pandas all arguments of DataFrame.drop except for the argument 'labels' will be keyword-only\n",
            "  X = data.drop('telomere length (kb)',1)\n"
          ]
        },
        {
          "output_type": "stream",
          "name": "stdout",
          "text": [
            "-----------------------------\n",
            "Test\n",
            "R2 Value Test: 0.962538021310215\n",
            "MSE Test: 0.001112506573300997\n",
            "MAE Test: 0.023309765557263076\n",
            "MAPE 0.09201742096344215\n",
            "-----------------------------\n"
          ]
        }
      ]
    },
    {
      "cell_type": "code",
      "source": [
        "data(df,0.5,10,1000,0.9,0.05)"
      ],
      "metadata": {
        "colab": {
          "base_uri": "https://localhost:8080/"
        },
        "id": "y7NnQmDzZ-M1",
        "outputId": "0879b5e0-97eb-4e48-a939-6dc2b67cf663"
      },
      "execution_count": 80,
      "outputs": [
        {
          "output_type": "stream",
          "name": "stderr",
          "text": [
            "<ipython-input-4-dbc8405074f9>:3: FutureWarning: In a future version of pandas all arguments of DataFrame.drop except for the argument 'labels' will be keyword-only\n",
            "  X = data.drop('telomere length (kb)',1)\n"
          ]
        },
        {
          "output_type": "stream",
          "name": "stdout",
          "text": [
            "-----------------------------\n",
            "Test\n",
            "R2 Value Test: 0.9737277119681813\n",
            "MSE Test: 0.000780206869826267\n",
            "MAE Test: 0.018427809786622673\n",
            "MAPE 0.06993654128918173\n",
            "-----------------------------\n"
          ]
        }
      ]
    },
    {
      "cell_type": "markdown",
      "source": [
        "## data2"
      ],
      "metadata": {
        "id": "_3MXQKDkdwRe"
      }
    },
    {
      "cell_type": "code",
      "source": [
        "data2 = pd.read_csv(os.path.join(path,'df_2.csv'))\n",
        "data2.drop('Unnamed: 0',1,inplace = True)"
      ],
      "metadata": {
        "colab": {
          "base_uri": "https://localhost:8080/"
        },
        "outputId": "9324596a-6837-47a1-ee42-11f6c399a71f",
        "id": "wdWgbwocdwRe"
      },
      "execution_count": 91,
      "outputs": [
        {
          "output_type": "stream",
          "name": "stderr",
          "text": [
            "<ipython-input-91-9295e0cecbd9>:2: FutureWarning: In a future version of pandas all arguments of DataFrame.drop except for the argument 'labels' will be keyword-only\n",
            "  data2.drop('Unnamed: 0',1,inplace = True)\n"
          ]
        }
      ]
    },
    {
      "cell_type": "code",
      "source": [
        "scaler = MinMaxScaler()\n",
        "Scaler = scaler.fit_transform(data2)"
      ],
      "metadata": {
        "id": "FuNCeSrhdwRe"
      },
      "execution_count": 92,
      "outputs": []
    },
    {
      "cell_type": "code",
      "source": [
        "df2 = pd.DataFrame(Scaler, columns = ['Sex' , 'AgeSYear', 'telomere length (kb)','Weight','Height','BMI','Systolic','Diastolic','HeartRate','SMM','Fat Mass',\n",
        "                                       '% Body fat','waist to hip radio','abdominal circumference','visceral fat area','Glucose','BUN','Creatinine','Uric Acid','Cholesterol',\n",
        "                                       'Triglyceride','HDL-C','LDL','AST','ALT','Alkaline Phos','HbA1c'])"
      ],
      "metadata": {
        "id": "PluDnTxDdwRe"
      },
      "execution_count": 93,
      "outputs": []
    },
    {
      "cell_type": "code",
      "source": [
        "#1\n",
        "data(df2,1,6,100,1,0.3)"
      ],
      "metadata": {
        "colab": {
          "base_uri": "https://localhost:8080/"
        },
        "outputId": "e1fac2c9-725f-499f-c68b-18bc58c064d1",
        "id": "Da3iOimDdwRe"
      },
      "execution_count": 94,
      "outputs": [
        {
          "output_type": "stream",
          "name": "stderr",
          "text": [
            "<ipython-input-4-dbc8405074f9>:3: FutureWarning: In a future version of pandas all arguments of DataFrame.drop except for the argument 'labels' will be keyword-only\n",
            "  X = data.drop('telomere length (kb)',1)\n"
          ]
        },
        {
          "output_type": "stream",
          "name": "stdout",
          "text": [
            "-----------------------------\n",
            "Test\n",
            "R2 Value Test: 0.9117801138219679\n",
            "MSE Test: 0.002628214328573523\n",
            "MAE Test: 0.029594372223447733\n",
            "MAPE 0.10415461308867065\n",
            "-----------------------------\n"
          ]
        }
      ]
    },
    {
      "cell_type": "code",
      "source": [
        "data(df2,1,6,100,1,0.1)"
      ],
      "metadata": {
        "colab": {
          "base_uri": "https://localhost:8080/"
        },
        "outputId": "54c1fb6e-7b43-4cf8-abd0-401541e5f5de",
        "id": "XyQi9PujdwRf"
      },
      "execution_count": 95,
      "outputs": [
        {
          "output_type": "stream",
          "name": "stderr",
          "text": [
            "<ipython-input-4-dbc8405074f9>:3: FutureWarning: In a future version of pandas all arguments of DataFrame.drop except for the argument 'labels' will be keyword-only\n",
            "  X = data.drop('telomere length (kb)',1)\n"
          ]
        },
        {
          "output_type": "stream",
          "name": "stdout",
          "text": [
            "-----------------------------\n",
            "Test\n",
            "R2 Value Test: 0.9196688726244084\n",
            "MSE Test: 0.0023931953343595234\n",
            "MAE Test: 0.028448698677294798\n",
            "MAPE 0.09773301851497591\n",
            "-----------------------------\n"
          ]
        }
      ]
    },
    {
      "cell_type": "code",
      "source": [
        "data(df2,1,6,100,1,0.05)"
      ],
      "metadata": {
        "colab": {
          "base_uri": "https://localhost:8080/"
        },
        "outputId": "af765f43-300e-46ba-8fbb-d2ad28c74261",
        "id": "iNCkiKUsdwRf"
      },
      "execution_count": 96,
      "outputs": [
        {
          "output_type": "stream",
          "name": "stderr",
          "text": [
            "<ipython-input-4-dbc8405074f9>:3: FutureWarning: In a future version of pandas all arguments of DataFrame.drop except for the argument 'labels' will be keyword-only\n",
            "  X = data.drop('telomere length (kb)',1)\n"
          ]
        },
        {
          "output_type": "stream",
          "name": "stdout",
          "text": [
            "-----------------------------\n",
            "Test\n",
            "R2 Value Test: 0.9192973101497114\n",
            "MSE Test: 0.002404264786636851\n",
            "MAE Test: 0.028910199128656937\n",
            "MAPE 0.10141216661583513\n",
            "-----------------------------\n"
          ]
        }
      ]
    },
    {
      "cell_type": "code",
      "source": [
        "data(df2,1,6,100,0.9,0.3)"
      ],
      "metadata": {
        "colab": {
          "base_uri": "https://localhost:8080/"
        },
        "outputId": "1aae5c0e-5384-4deb-9d39-d632e9a00a36",
        "id": "5-tj0sFUdwRf"
      },
      "execution_count": 97,
      "outputs": [
        {
          "output_type": "stream",
          "name": "stderr",
          "text": [
            "<ipython-input-4-dbc8405074f9>:3: FutureWarning: In a future version of pandas all arguments of DataFrame.drop except for the argument 'labels' will be keyword-only\n",
            "  X = data.drop('telomere length (kb)',1)\n"
          ]
        },
        {
          "output_type": "stream",
          "name": "stdout",
          "text": [
            "-----------------------------\n",
            "Test\n",
            "R2 Value Test: 0.9348219910115391\n",
            "MSE Test: 0.0019417592172548417\n",
            "MAE Test: 0.026751150895521804\n",
            "MAPE 0.09147483779015458\n",
            "-----------------------------\n"
          ]
        }
      ]
    },
    {
      "cell_type": "code",
      "source": [
        "data(df2,1,6,100,0.9,0.1)"
      ],
      "metadata": {
        "colab": {
          "base_uri": "https://localhost:8080/"
        },
        "outputId": "e9cc130d-d7c9-4eea-add1-7e9a607ead4f",
        "id": "HaNoIzfPdwRf"
      },
      "execution_count": 98,
      "outputs": [
        {
          "output_type": "stream",
          "name": "stderr",
          "text": [
            "<ipython-input-4-dbc8405074f9>:3: FutureWarning: In a future version of pandas all arguments of DataFrame.drop except for the argument 'labels' will be keyword-only\n",
            "  X = data.drop('telomere length (kb)',1)\n"
          ]
        },
        {
          "output_type": "stream",
          "name": "stdout",
          "text": [
            "-----------------------------\n",
            "Test\n",
            "R2 Value Test: 0.9340402250490738\n",
            "MSE Test: 0.001965049300626702\n",
            "MAE Test: 0.02640339587056399\n",
            "MAPE 0.09563370084460389\n",
            "-----------------------------\n"
          ]
        }
      ]
    },
    {
      "cell_type": "code",
      "source": [
        "data(df2,1,6,100,0.9,0.05)"
      ],
      "metadata": {
        "colab": {
          "base_uri": "https://localhost:8080/"
        },
        "outputId": "158f7f90-f98e-410b-e3cd-9cfaed9318c1",
        "id": "eLMWq3WrdwRf"
      },
      "execution_count": 99,
      "outputs": [
        {
          "output_type": "stream",
          "name": "stderr",
          "text": [
            "<ipython-input-4-dbc8405074f9>:3: FutureWarning: In a future version of pandas all arguments of DataFrame.drop except for the argument 'labels' will be keyword-only\n",
            "  X = data.drop('telomere length (kb)',1)\n"
          ]
        },
        {
          "output_type": "stream",
          "name": "stdout",
          "text": [
            "-----------------------------\n",
            "Test\n",
            "R2 Value Test: 0.9322607575786277\n",
            "MSE Test: 0.0020180625395422335\n",
            "MAE Test: 0.026726603205891663\n",
            "MAPE 0.0962150586993831\n",
            "-----------------------------\n"
          ]
        }
      ]
    },
    {
      "cell_type": "code",
      "source": [
        "data(df2,1,6,1000,1,0.3)"
      ],
      "metadata": {
        "colab": {
          "base_uri": "https://localhost:8080/"
        },
        "outputId": "4231bf45-3ea6-4c7f-c0c8-386685b25f62",
        "id": "nkfka6yYdwRf"
      },
      "execution_count": 100,
      "outputs": [
        {
          "output_type": "stream",
          "name": "stderr",
          "text": [
            "<ipython-input-4-dbc8405074f9>:3: FutureWarning: In a future version of pandas all arguments of DataFrame.drop except for the argument 'labels' will be keyword-only\n",
            "  X = data.drop('telomere length (kb)',1)\n"
          ]
        },
        {
          "output_type": "stream",
          "name": "stdout",
          "text": [
            "-----------------------------\n",
            "Test\n",
            "R2 Value Test: 0.9117801174485861\n",
            "MSE Test: 0.0026282142205306517\n",
            "MAE Test: 0.029594365517925197\n",
            "MAPE 0.10415448448632772\n",
            "-----------------------------\n"
          ]
        }
      ]
    },
    {
      "cell_type": "code",
      "source": [
        "data(df2,1,6,1000,1,0.1)"
      ],
      "metadata": {
        "colab": {
          "base_uri": "https://localhost:8080/"
        },
        "outputId": "4a59d2f2-823c-44c3-b325-a0534ef18edd",
        "id": "YlmlABYGdwRf"
      },
      "execution_count": 101,
      "outputs": [
        {
          "output_type": "stream",
          "name": "stderr",
          "text": [
            "<ipython-input-4-dbc8405074f9>:3: FutureWarning: In a future version of pandas all arguments of DataFrame.drop except for the argument 'labels' will be keyword-only\n",
            "  X = data.drop('telomere length (kb)',1)\n"
          ]
        },
        {
          "output_type": "stream",
          "name": "stdout",
          "text": [
            "-----------------------------\n",
            "Test\n",
            "R2 Value Test: 0.9198408494092888\n",
            "MSE Test: 0.0023880718653800643\n",
            "MAE Test: 0.028409132177322556\n",
            "MAPE 0.09767436888569844\n",
            "-----------------------------\n"
          ]
        }
      ]
    },
    {
      "cell_type": "code",
      "source": [
        "data(df2,1,6,1000,1,0.05)"
      ],
      "metadata": {
        "colab": {
          "base_uri": "https://localhost:8080/"
        },
        "outputId": "f5dfb05b-c18a-49ed-8bc1-1f44d35a33f4",
        "id": "bKidvLNvdwRf"
      },
      "execution_count": 102,
      "outputs": [
        {
          "output_type": "stream",
          "name": "stderr",
          "text": [
            "<ipython-input-4-dbc8405074f9>:3: FutureWarning: In a future version of pandas all arguments of DataFrame.drop except for the argument 'labels' will be keyword-only\n",
            "  X = data.drop('telomere length (kb)',1)\n"
          ]
        },
        {
          "output_type": "stream",
          "name": "stdout",
          "text": [
            "-----------------------------\n",
            "Test\n",
            "R2 Value Test: 0.9235801832233943\n",
            "MSE Test: 0.002276671010818557\n",
            "MAE Test: 0.028196131013164864\n",
            "MAPE 0.09729782471153\n",
            "-----------------------------\n"
          ]
        }
      ]
    },
    {
      "cell_type": "code",
      "source": [
        "data(df2,1,6,1000,0.9,0.3)"
      ],
      "metadata": {
        "colab": {
          "base_uri": "https://localhost:8080/"
        },
        "outputId": "d82b76f5-6154-4739-d55a-b9be2c73d291",
        "id": "wkiSIbdfdwRf"
      },
      "execution_count": 103,
      "outputs": [
        {
          "output_type": "stream",
          "name": "stderr",
          "text": [
            "<ipython-input-4-dbc8405074f9>:3: FutureWarning: In a future version of pandas all arguments of DataFrame.drop except for the argument 'labels' will be keyword-only\n",
            "  X = data.drop('telomere length (kb)',1)\n"
          ]
        },
        {
          "output_type": "stream",
          "name": "stdout",
          "text": [
            "-----------------------------\n",
            "Test\n",
            "R2 Value Test: 0.9348219692897775\n",
            "MSE Test: 0.0019417598643815576\n",
            "MAE Test: 0.026751150895521804\n",
            "MAPE 0.09147468154750509\n",
            "-----------------------------\n"
          ]
        }
      ]
    },
    {
      "cell_type": "code",
      "source": [
        "data(df2,1,6,1000,0.9,0.1)"
      ],
      "metadata": {
        "colab": {
          "base_uri": "https://localhost:8080/"
        },
        "outputId": "94257a21-5305-483e-e2be-d9533ed119d3",
        "id": "yVIF5KM-dwRg"
      },
      "execution_count": 104,
      "outputs": [
        {
          "output_type": "stream",
          "name": "stderr",
          "text": [
            "<ipython-input-4-dbc8405074f9>:3: FutureWarning: In a future version of pandas all arguments of DataFrame.drop except for the argument 'labels' will be keyword-only\n",
            "  X = data.drop('telomere length (kb)',1)\n"
          ]
        },
        {
          "output_type": "stream",
          "name": "stdout",
          "text": [
            "-----------------------------\n",
            "Test\n",
            "R2 Value Test: 0.9340563694992792\n",
            "MSE Test: 0.001964568331117503\n",
            "MAE Test: 0.026365263097837818\n",
            "MAPE 0.09568590822935659\n",
            "-----------------------------\n"
          ]
        }
      ]
    },
    {
      "cell_type": "code",
      "source": [
        "data(df2,1,6,1000,0.9,0.05)"
      ],
      "metadata": {
        "colab": {
          "base_uri": "https://localhost:8080/"
        },
        "outputId": "158913f6-120d-4342-be69-643cdc5bb596",
        "id": "VDO71aRPdwRg"
      },
      "execution_count": 105,
      "outputs": [
        {
          "output_type": "stream",
          "name": "stderr",
          "text": [
            "<ipython-input-4-dbc8405074f9>:3: FutureWarning: In a future version of pandas all arguments of DataFrame.drop except for the argument 'labels' will be keyword-only\n",
            "  X = data.drop('telomere length (kb)',1)\n"
          ]
        },
        {
          "output_type": "stream",
          "name": "stdout",
          "text": [
            "-----------------------------\n",
            "Test\n",
            "R2 Value Test: 0.9344588458260417\n",
            "MSE Test: 0.0019525779047551946\n",
            "MAE Test: 0.026083062068419562\n",
            "MAPE 0.0922636430936091\n",
            "-----------------------------\n"
          ]
        }
      ]
    },
    {
      "cell_type": "code",
      "source": [
        "data(df2,1,5,100,1,0.3)"
      ],
      "metadata": {
        "colab": {
          "base_uri": "https://localhost:8080/"
        },
        "outputId": "f07d384f-a988-4da3-83f5-1fe484de83d9",
        "id": "JHkmQnGzdwRg"
      },
      "execution_count": 106,
      "outputs": [
        {
          "output_type": "stream",
          "name": "stderr",
          "text": [
            "<ipython-input-4-dbc8405074f9>:3: FutureWarning: In a future version of pandas all arguments of DataFrame.drop except for the argument 'labels' will be keyword-only\n",
            "  X = data.drop('telomere length (kb)',1)\n"
          ]
        },
        {
          "output_type": "stream",
          "name": "stdout",
          "text": [
            "-----------------------------\n",
            "Test\n",
            "R2 Value Test: 0.9264097778325331\n",
            "MSE Test: 0.002192372771294815\n",
            "MAE Test: 0.027879060328248325\n",
            "MAPE 0.10149583582684968\n",
            "-----------------------------\n"
          ]
        }
      ]
    },
    {
      "cell_type": "code",
      "source": [
        "data(df2,1,5,100,1,0.1)"
      ],
      "metadata": {
        "colab": {
          "base_uri": "https://localhost:8080/"
        },
        "outputId": "d2badd4d-ba62-4db0-c1af-4438fd3bc6d8",
        "id": "3jlHoD8JdwRg"
      },
      "execution_count": 107,
      "outputs": [
        {
          "output_type": "stream",
          "name": "stderr",
          "text": [
            "<ipython-input-4-dbc8405074f9>:3: FutureWarning: In a future version of pandas all arguments of DataFrame.drop except for the argument 'labels' will be keyword-only\n",
            "  X = data.drop('telomere length (kb)',1)\n"
          ]
        },
        {
          "output_type": "stream",
          "name": "stdout",
          "text": [
            "-----------------------------\n",
            "Test\n",
            "R2 Value Test: 0.9258864616666883\n",
            "MSE Test: 0.0022079632135979473\n",
            "MAE Test: 0.027330682815942874\n",
            "MAPE 0.09546600390903902\n",
            "-----------------------------\n"
          ]
        }
      ]
    },
    {
      "cell_type": "code",
      "source": [
        "data(df2,1,5,100,1,0.05)"
      ],
      "metadata": {
        "colab": {
          "base_uri": "https://localhost:8080/"
        },
        "outputId": "19fec502-c4d3-4a86-e0e6-b53febf513c2",
        "id": "ArmdAvBkdwRg"
      },
      "execution_count": 108,
      "outputs": [
        {
          "output_type": "stream",
          "name": "stderr",
          "text": [
            "<ipython-input-4-dbc8405074f9>:3: FutureWarning: In a future version of pandas all arguments of DataFrame.drop except for the argument 'labels' will be keyword-only\n",
            "  X = data.drop('telomere length (kb)',1)\n"
          ]
        },
        {
          "output_type": "stream",
          "name": "stdout",
          "text": [
            "-----------------------------\n",
            "Test\n",
            "R2 Value Test: 0.91975268222457\n",
            "MSE Test: 0.0023906985096461917\n",
            "MAE Test: 0.027787556898451565\n",
            "MAPE 0.09945185717589328\n",
            "-----------------------------\n"
          ]
        }
      ]
    },
    {
      "cell_type": "code",
      "source": [
        "data(df2,1,5,100,0.9,0.3)"
      ],
      "metadata": {
        "colab": {
          "base_uri": "https://localhost:8080/"
        },
        "outputId": "88e0530e-1646-4122-8fb6-19f4e5eb8423",
        "id": "H_oVcPYvdwRg"
      },
      "execution_count": 109,
      "outputs": [
        {
          "output_type": "stream",
          "name": "stderr",
          "text": [
            "<ipython-input-4-dbc8405074f9>:3: FutureWarning: In a future version of pandas all arguments of DataFrame.drop except for the argument 'labels' will be keyword-only\n",
            "  X = data.drop('telomere length (kb)',1)\n"
          ]
        },
        {
          "output_type": "stream",
          "name": "stdout",
          "text": [
            "-----------------------------\n",
            "Test\n",
            "R2 Value Test: 0.9345972674544006\n",
            "MSE Test: 0.0019484540986294048\n",
            "MAE Test: 0.02788954866423457\n",
            "MAPE 0.10236475628770872\n",
            "-----------------------------\n"
          ]
        }
      ]
    },
    {
      "cell_type": "code",
      "source": [
        "data(df2,1,5,100,0.9,0.1)"
      ],
      "metadata": {
        "colab": {
          "base_uri": "https://localhost:8080/"
        },
        "outputId": "1b2a4ed5-349b-4c5d-c9e8-f9a4794fa1d3",
        "id": "l2_dkB9ydwRg"
      },
      "execution_count": 110,
      "outputs": [
        {
          "output_type": "stream",
          "name": "stderr",
          "text": [
            "<ipython-input-4-dbc8405074f9>:3: FutureWarning: In a future version of pandas all arguments of DataFrame.drop except for the argument 'labels' will be keyword-only\n",
            "  X = data.drop('telomere length (kb)',1)\n"
          ]
        },
        {
          "output_type": "stream",
          "name": "stdout",
          "text": [
            "-----------------------------\n",
            "Test\n",
            "R2 Value Test: 0.9381170008156324\n",
            "MSE Test: 0.0018435954998087315\n",
            "MAE Test: 0.026382534369011806\n",
            "MAPE 0.09656904503005774\n",
            "-----------------------------\n"
          ]
        }
      ]
    },
    {
      "cell_type": "code",
      "source": [
        "data(df2,1,5,100,0.9,0.05)"
      ],
      "metadata": {
        "colab": {
          "base_uri": "https://localhost:8080/"
        },
        "outputId": "4ef99411-876d-4cbe-9456-2c1c14bedf88",
        "id": "CSgkdOgydwRg"
      },
      "execution_count": 111,
      "outputs": [
        {
          "output_type": "stream",
          "name": "stderr",
          "text": [
            "<ipython-input-4-dbc8405074f9>:3: FutureWarning: In a future version of pandas all arguments of DataFrame.drop except for the argument 'labels' will be keyword-only\n",
            "  X = data.drop('telomere length (kb)',1)\n"
          ]
        },
        {
          "output_type": "stream",
          "name": "stdout",
          "text": [
            "-----------------------------\n",
            "Test\n",
            "R2 Value Test: 0.937149485558522\n",
            "MSE Test: 0.0018724193576940126\n",
            "MAE Test: 0.025836400869237663\n",
            "MAPE 0.09594651335839055\n",
            "-----------------------------\n"
          ]
        }
      ]
    },
    {
      "cell_type": "code",
      "source": [
        "data(df2,1,5,1000,1,0.3)"
      ],
      "metadata": {
        "colab": {
          "base_uri": "https://localhost:8080/"
        },
        "outputId": "8919c03f-8a28-426a-ade1-2098e2b2721e",
        "id": "8BAA2nhedwRg"
      },
      "execution_count": 112,
      "outputs": [
        {
          "output_type": "stream",
          "name": "stderr",
          "text": [
            "<ipython-input-4-dbc8405074f9>:3: FutureWarning: In a future version of pandas all arguments of DataFrame.drop except for the argument 'labels' will be keyword-only\n",
            "  X = data.drop('telomere length (kb)',1)\n"
          ]
        },
        {
          "output_type": "stream",
          "name": "stdout",
          "text": [
            "-----------------------------\n",
            "Test\n",
            "R2 Value Test: 0.9264097778325331\n",
            "MSE Test: 0.002192372771294815\n",
            "MAE Test: 0.027879060328248325\n",
            "MAPE 0.10149583582684968\n",
            "-----------------------------\n"
          ]
        }
      ]
    },
    {
      "cell_type": "code",
      "source": [
        "data(df2,1,5,1000,1,0.1)"
      ],
      "metadata": {
        "colab": {
          "base_uri": "https://localhost:8080/"
        },
        "outputId": "1c9f9e9f-1bb0-4431-d8d1-48ca583e6224",
        "id": "UOUmqdrgdwRh"
      },
      "execution_count": 113,
      "outputs": [
        {
          "output_type": "stream",
          "name": "stderr",
          "text": [
            "<ipython-input-4-dbc8405074f9>:3: FutureWarning: In a future version of pandas all arguments of DataFrame.drop except for the argument 'labels' will be keyword-only\n",
            "  X = data.drop('telomere length (kb)',1)\n"
          ]
        },
        {
          "output_type": "stream",
          "name": "stdout",
          "text": [
            "-----------------------------\n",
            "Test\n",
            "R2 Value Test: 0.926040447636793\n",
            "MSE Test: 0.002203375720340341\n",
            "MAE Test: 0.027208554608048944\n",
            "MAPE 0.09514617249072274\n",
            "-----------------------------\n"
          ]
        }
      ]
    },
    {
      "cell_type": "code",
      "source": [
        "data(df2,1,5,1000,1,0.05)"
      ],
      "metadata": {
        "colab": {
          "base_uri": "https://localhost:8080/"
        },
        "outputId": "a22b86c8-1311-405c-d850-f81453a176a6",
        "id": "uW4jet1adwRh"
      },
      "execution_count": 114,
      "outputs": [
        {
          "output_type": "stream",
          "name": "stderr",
          "text": [
            "<ipython-input-4-dbc8405074f9>:3: FutureWarning: In a future version of pandas all arguments of DataFrame.drop except for the argument 'labels' will be keyword-only\n",
            "  X = data.drop('telomere length (kb)',1)\n"
          ]
        },
        {
          "output_type": "stream",
          "name": "stdout",
          "text": [
            "-----------------------------\n",
            "Test\n",
            "R2 Value Test: 0.9244250537176633\n",
            "MSE Test: 0.002251500940497389\n",
            "MAE Test: 0.026807140374215648\n",
            "MAPE 0.09406085117571047\n",
            "-----------------------------\n"
          ]
        }
      ]
    },
    {
      "cell_type": "code",
      "source": [
        "data(df2,1,5,1000,0.9,0.3)"
      ],
      "metadata": {
        "colab": {
          "base_uri": "https://localhost:8080/"
        },
        "outputId": "99adc0ae-109f-4796-ba43-8fa32ad10f53",
        "id": "on0j0UP1dwRh"
      },
      "execution_count": 115,
      "outputs": [
        {
          "output_type": "stream",
          "name": "stderr",
          "text": [
            "<ipython-input-4-dbc8405074f9>:3: FutureWarning: In a future version of pandas all arguments of DataFrame.drop except for the argument 'labels' will be keyword-only\n",
            "  X = data.drop('telomere length (kb)',1)\n"
          ]
        },
        {
          "output_type": "stream",
          "name": "stdout",
          "text": [
            "-----------------------------\n",
            "Test\n",
            "R2 Value Test: 0.9345972669586271\n",
            "MSE Test: 0.0019484541133993067\n",
            "MAE Test: 0.027889547612387895\n",
            "MAPE 0.10236475990117022\n",
            "-----------------------------\n"
          ]
        }
      ]
    },
    {
      "cell_type": "code",
      "source": [
        "data(df2,1,5,1000,0.9,0.1)"
      ],
      "metadata": {
        "colab": {
          "base_uri": "https://localhost:8080/"
        },
        "outputId": "2cba6c54-c972-4dd3-8a3d-97590c14a12b",
        "id": "9eqIpo0idwRh"
      },
      "execution_count": 116,
      "outputs": [
        {
          "output_type": "stream",
          "name": "stderr",
          "text": [
            "<ipython-input-4-dbc8405074f9>:3: FutureWarning: In a future version of pandas all arguments of DataFrame.drop except for the argument 'labels' will be keyword-only\n",
            "  X = data.drop('telomere length (kb)',1)\n"
          ]
        },
        {
          "output_type": "stream",
          "name": "stdout",
          "text": [
            "-----------------------------\n",
            "Test\n",
            "R2 Value Test: 0.9383791190519366\n",
            "MSE Test: 0.0018357865699372426\n",
            "MAE Test: 0.02641845326745402\n",
            "MAPE 0.09707548964140036\n",
            "-----------------------------\n"
          ]
        }
      ]
    },
    {
      "cell_type": "code",
      "source": [
        "data(df2,1,5,1000,0.9,0.05)"
      ],
      "metadata": {
        "colab": {
          "base_uri": "https://localhost:8080/"
        },
        "outputId": "99d66908-9dcf-47be-a89b-239e5e51b64d",
        "id": "pS-Bg9EldwRh"
      },
      "execution_count": 117,
      "outputs": [
        {
          "output_type": "stream",
          "name": "stderr",
          "text": [
            "<ipython-input-4-dbc8405074f9>:3: FutureWarning: In a future version of pandas all arguments of DataFrame.drop except for the argument 'labels' will be keyword-only\n",
            "  X = data.drop('telomere length (kb)',1)\n"
          ]
        },
        {
          "output_type": "stream",
          "name": "stdout",
          "text": [
            "-----------------------------\n",
            "Test\n",
            "R2 Value Test: 0.9412700087618223\n",
            "MSE Test: 0.0017496622493672245\n",
            "MAE Test: 0.024777676824009782\n",
            "MAPE 0.09002802943056129\n",
            "-----------------------------\n"
          ]
        }
      ]
    },
    {
      "cell_type": "code",
      "source": [
        "data(df2,1,10,100,1,0.3)"
      ],
      "metadata": {
        "colab": {
          "base_uri": "https://localhost:8080/"
        },
        "outputId": "2fd1507e-0105-4e65-b021-4d09da758eed",
        "id": "r1rTo4YodwRh"
      },
      "execution_count": 118,
      "outputs": [
        {
          "output_type": "stream",
          "name": "stderr",
          "text": [
            "<ipython-input-4-dbc8405074f9>:3: FutureWarning: In a future version of pandas all arguments of DataFrame.drop except for the argument 'labels' will be keyword-only\n",
            "  X = data.drop('telomere length (kb)',1)\n"
          ]
        },
        {
          "output_type": "stream",
          "name": "stdout",
          "text": [
            "-----------------------------\n",
            "Test\n",
            "R2 Value Test: 0.9195154998458159\n",
            "MSE Test: 0.002397764559641639\n",
            "MAE Test: 0.028751553297981423\n",
            "MAPE 0.09966587608845676\n",
            "-----------------------------\n"
          ]
        }
      ]
    },
    {
      "cell_type": "code",
      "source": [
        "data(df2,1,10,100,1,0.1)"
      ],
      "metadata": {
        "colab": {
          "base_uri": "https://localhost:8080/"
        },
        "outputId": "4a0ea201-0f71-4f48-cbb6-273e6a8dc52c",
        "id": "fecLD6cfdwRh"
      },
      "execution_count": 119,
      "outputs": [
        {
          "output_type": "stream",
          "name": "stderr",
          "text": [
            "<ipython-input-4-dbc8405074f9>:3: FutureWarning: In a future version of pandas all arguments of DataFrame.drop except for the argument 'labels' will be keyword-only\n",
            "  X = data.drop('telomere length (kb)',1)\n"
          ]
        },
        {
          "output_type": "stream",
          "name": "stdout",
          "text": [
            "-----------------------------\n",
            "Test\n",
            "R2 Value Test: 0.9242667937078951\n",
            "MSE Test: 0.00225621576436911\n",
            "MAE Test: 0.02891467529204265\n",
            "MAPE 0.09933036847817026\n",
            "-----------------------------\n"
          ]
        }
      ]
    },
    {
      "cell_type": "code",
      "source": [
        "data(df2,1,10,100,1,0.05)"
      ],
      "metadata": {
        "colab": {
          "base_uri": "https://localhost:8080/"
        },
        "outputId": "459a20d7-5fef-403c-ad24-c0b7dc65d7be",
        "id": "UrdmogjKdwRh"
      },
      "execution_count": 120,
      "outputs": [
        {
          "output_type": "stream",
          "name": "stderr",
          "text": [
            "<ipython-input-4-dbc8405074f9>:3: FutureWarning: In a future version of pandas all arguments of DataFrame.drop except for the argument 'labels' will be keyword-only\n",
            "  X = data.drop('telomere length (kb)',1)\n"
          ]
        },
        {
          "output_type": "stream",
          "name": "stdout",
          "text": [
            "-----------------------------\n",
            "Test\n",
            "R2 Value Test: 0.9242099220295461\n",
            "MSE Test: 0.0022579100644459123\n",
            "MAE Test: 0.027999997392667328\n",
            "MAPE 0.09473515735731772\n",
            "-----------------------------\n"
          ]
        }
      ]
    },
    {
      "cell_type": "code",
      "source": [
        "data(df2,1,10,100,0.9,0.3)"
      ],
      "metadata": {
        "colab": {
          "base_uri": "https://localhost:8080/"
        },
        "outputId": "4b823e61-df6d-4e98-ca61-71d35ad01dae",
        "id": "siEIJ7ESdwRh"
      },
      "execution_count": 121,
      "outputs": [
        {
          "output_type": "stream",
          "name": "stderr",
          "text": [
            "<ipython-input-4-dbc8405074f9>:3: FutureWarning: In a future version of pandas all arguments of DataFrame.drop except for the argument 'labels' will be keyword-only\n",
            "  X = data.drop('telomere length (kb)',1)\n"
          ]
        },
        {
          "output_type": "stream",
          "name": "stdout",
          "text": [
            "-----------------------------\n",
            "Test\n",
            "R2 Value Test: 0.9255934616375925\n",
            "MSE Test: 0.0022166921624563497\n",
            "MAE Test: 0.027902726321769367\n",
            "MAPE 0.1024615538957306\n",
            "-----------------------------\n"
          ]
        }
      ]
    },
    {
      "cell_type": "code",
      "source": [
        "data(df2,1,10,100,0.9,0.1)"
      ],
      "metadata": {
        "colab": {
          "base_uri": "https://localhost:8080/"
        },
        "outputId": "a4bb8179-fad8-461a-f4c6-a73829d698a9",
        "id": "-2X01bN-dwRh"
      },
      "execution_count": 122,
      "outputs": [
        {
          "output_type": "stream",
          "name": "stderr",
          "text": [
            "<ipython-input-4-dbc8405074f9>:3: FutureWarning: In a future version of pandas all arguments of DataFrame.drop except for the argument 'labels' will be keyword-only\n",
            "  X = data.drop('telomere length (kb)',1)\n"
          ]
        },
        {
          "output_type": "stream",
          "name": "stdout",
          "text": [
            "-----------------------------\n",
            "Test\n",
            "R2 Value Test: 0.9404175768616663\n",
            "MSE Test: 0.0017750575863052249\n",
            "MAE Test: 0.026236259827384402\n",
            "MAPE 0.09743758896870457\n",
            "-----------------------------\n"
          ]
        }
      ]
    },
    {
      "cell_type": "code",
      "source": [
        "data(df2,1,10,100,0.9,0.05)"
      ],
      "metadata": {
        "colab": {
          "base_uri": "https://localhost:8080/"
        },
        "outputId": "572a27e9-d143-45c6-9bf8-202bfa78cbeb",
        "id": "40tSscMSdwRi"
      },
      "execution_count": 123,
      "outputs": [
        {
          "output_type": "stream",
          "name": "stderr",
          "text": [
            "<ipython-input-4-dbc8405074f9>:3: FutureWarning: In a future version of pandas all arguments of DataFrame.drop except for the argument 'labels' will be keyword-only\n",
            "  X = data.drop('telomere length (kb)',1)\n"
          ]
        },
        {
          "output_type": "stream",
          "name": "stdout",
          "text": [
            "-----------------------------\n",
            "Test\n",
            "R2 Value Test: 0.931238609957722\n",
            "MSE Test: 0.002048513984670607\n",
            "MAE Test: 0.027934127733648402\n",
            "MAPE 0.10172560663431565\n",
            "-----------------------------\n"
          ]
        }
      ]
    },
    {
      "cell_type": "code",
      "source": [
        "data(df2,1,10,1000,1,0.3)"
      ],
      "metadata": {
        "colab": {
          "base_uri": "https://localhost:8080/"
        },
        "outputId": "258716ec-f448-4aca-be78-f6f8d7117cb8",
        "id": "NraoaFbjdwRi"
      },
      "execution_count": 124,
      "outputs": [
        {
          "output_type": "stream",
          "name": "stderr",
          "text": [
            "<ipython-input-4-dbc8405074f9>:3: FutureWarning: In a future version of pandas all arguments of DataFrame.drop except for the argument 'labels' will be keyword-only\n",
            "  X = data.drop('telomere length (kb)',1)\n"
          ]
        },
        {
          "output_type": "stream",
          "name": "stdout",
          "text": [
            "-----------------------------\n",
            "Test\n",
            "R2 Value Test: 0.9195155585353986\n",
            "MSE Test: 0.0023977628111832273\n",
            "MAE Test: 0.028751536753309805\n",
            "MAPE 0.09966577793633545\n",
            "-----------------------------\n"
          ]
        }
      ]
    },
    {
      "cell_type": "code",
      "source": [
        "data(df2,1,10,1000,1,0.1)"
      ],
      "metadata": {
        "colab": {
          "base_uri": "https://localhost:8080/"
        },
        "outputId": "096ce000-4511-4fbe-c472-01e0162fd254",
        "id": "hL-Bw4P1dwRi"
      },
      "execution_count": 125,
      "outputs": [
        {
          "output_type": "stream",
          "name": "stderr",
          "text": [
            "<ipython-input-4-dbc8405074f9>:3: FutureWarning: In a future version of pandas all arguments of DataFrame.drop except for the argument 'labels' will be keyword-only\n",
            "  X = data.drop('telomere length (kb)',1)\n"
          ]
        },
        {
          "output_type": "stream",
          "name": "stdout",
          "text": [
            "-----------------------------\n",
            "Test\n",
            "R2 Value Test: 0.9243937815422351\n",
            "MSE Test: 0.002252432589619901\n",
            "MAE Test: 0.02890577167292155\n",
            "MAPE 0.09931069498669963\n",
            "-----------------------------\n"
          ]
        }
      ]
    },
    {
      "cell_type": "code",
      "source": [
        "data(df2,1,10,1000,1,0.05)"
      ],
      "metadata": {
        "colab": {
          "base_uri": "https://localhost:8080/"
        },
        "outputId": "b9f8dd5f-1b00-4ee5-c874-a6b5664fbcfd",
        "id": "AJrx-xrvdwRi"
      },
      "execution_count": 126,
      "outputs": [
        {
          "output_type": "stream",
          "name": "stderr",
          "text": [
            "<ipython-input-4-dbc8405074f9>:3: FutureWarning: In a future version of pandas all arguments of DataFrame.drop except for the argument 'labels' will be keyword-only\n",
            "  X = data.drop('telomere length (kb)',1)\n"
          ]
        },
        {
          "output_type": "stream",
          "name": "stdout",
          "text": [
            "-----------------------------\n",
            "Test\n",
            "R2 Value Test: 0.9293120131393365\n",
            "MSE Test: 0.002105910446883745\n",
            "MAE Test: 0.02723439769655946\n",
            "MAPE 0.09008654588204866\n",
            "-----------------------------\n"
          ]
        }
      ]
    },
    {
      "cell_type": "code",
      "source": [
        "data(df2,1,10,1000,0.9,0.3)"
      ],
      "metadata": {
        "colab": {
          "base_uri": "https://localhost:8080/"
        },
        "outputId": "b447caaf-78cf-4f9c-f3d3-95bf031956da",
        "id": "iuqe607udwRi"
      },
      "execution_count": 127,
      "outputs": [
        {
          "output_type": "stream",
          "name": "stderr",
          "text": [
            "<ipython-input-4-dbc8405074f9>:3: FutureWarning: In a future version of pandas all arguments of DataFrame.drop except for the argument 'labels' will be keyword-only\n",
            "  X = data.drop('telomere length (kb)',1)\n"
          ]
        },
        {
          "output_type": "stream",
          "name": "stdout",
          "text": [
            "-----------------------------\n",
            "Test\n",
            "R2 Value Test: 0.9255934616375925\n",
            "MSE Test: 0.0022166921624563497\n",
            "MAE Test: 0.027902726321769367\n",
            "MAPE 0.1024615538957306\n",
            "-----------------------------\n"
          ]
        }
      ]
    },
    {
      "cell_type": "code",
      "source": [
        "data(df2,1,10,1000,0.9,0.1)"
      ],
      "metadata": {
        "colab": {
          "base_uri": "https://localhost:8080/"
        },
        "outputId": "a2c5ebf8-856d-4dbe-fdbc-7b179fd5542a",
        "id": "x28P6UlvdwRi"
      },
      "execution_count": 128,
      "outputs": [
        {
          "output_type": "stream",
          "name": "stderr",
          "text": [
            "<ipython-input-4-dbc8405074f9>:3: FutureWarning: In a future version of pandas all arguments of DataFrame.drop except for the argument 'labels' will be keyword-only\n",
            "  X = data.drop('telomere length (kb)',1)\n"
          ]
        },
        {
          "output_type": "stream",
          "name": "stdout",
          "text": [
            "-----------------------------\n",
            "Test\n",
            "R2 Value Test: 0.9405102339370666\n",
            "MSE Test: 0.001772297180871019\n",
            "MAE Test: 0.026223363047678905\n",
            "MAPE 0.09740803569885788\n",
            "-----------------------------\n"
          ]
        }
      ]
    },
    {
      "cell_type": "code",
      "source": [
        "data(df2,1,10,1000,0.9,0.05)"
      ],
      "metadata": {
        "colab": {
          "base_uri": "https://localhost:8080/"
        },
        "outputId": "54c7c3ef-6436-4e1a-fe92-de459e8145bf",
        "id": "2MRvMYmzdwRi"
      },
      "execution_count": 129,
      "outputs": [
        {
          "output_type": "stream",
          "name": "stderr",
          "text": [
            "<ipython-input-4-dbc8405074f9>:3: FutureWarning: In a future version of pandas all arguments of DataFrame.drop except for the argument 'labels' will be keyword-only\n",
            "  X = data.drop('telomere length (kb)',1)\n"
          ]
        },
        {
          "output_type": "stream",
          "name": "stdout",
          "text": [
            "-----------------------------\n",
            "Test\n",
            "R2 Value Test: 0.9337196178517533\n",
            "MSE Test: 0.0019746007120640427\n",
            "MAE Test: 0.027477501749515743\n",
            "MAPE 0.09819315553423713\n",
            "-----------------------------\n"
          ]
        }
      ]
    },
    {
      "cell_type": "code",
      "source": [
        "data(df2,0.5,6,100,1,0.3)"
      ],
      "metadata": {
        "colab": {
          "base_uri": "https://localhost:8080/"
        },
        "outputId": "f730dcbd-d799-49b5-95ef-97ec7e247642",
        "id": "u4ncw1vxdwRi"
      },
      "execution_count": 130,
      "outputs": [
        {
          "output_type": "stream",
          "name": "stderr",
          "text": [
            "<ipython-input-4-dbc8405074f9>:3: FutureWarning: In a future version of pandas all arguments of DataFrame.drop except for the argument 'labels' will be keyword-only\n",
            "  X = data.drop('telomere length (kb)',1)\n"
          ]
        },
        {
          "output_type": "stream",
          "name": "stdout",
          "text": [
            "-----------------------------\n",
            "Test\n",
            "R2 Value Test: 0.9410988847147348\n",
            "MSE Test: 0.001754760313896704\n",
            "MAE Test: 0.031378117583252166\n",
            "MAPE 0.11872512004617264\n",
            "-----------------------------\n"
          ]
        }
      ]
    },
    {
      "cell_type": "code",
      "source": [
        "data(df2,0.5,6,100,1,0.1)"
      ],
      "metadata": {
        "colab": {
          "base_uri": "https://localhost:8080/"
        },
        "outputId": "8eceaddb-327c-444e-f686-94c9cd97d426",
        "id": "-m6xNEXJdwRk"
      },
      "execution_count": 131,
      "outputs": [
        {
          "output_type": "stream",
          "name": "stderr",
          "text": [
            "<ipython-input-4-dbc8405074f9>:3: FutureWarning: In a future version of pandas all arguments of DataFrame.drop except for the argument 'labels' will be keyword-only\n",
            "  X = data.drop('telomere length (kb)',1)\n"
          ]
        },
        {
          "output_type": "stream",
          "name": "stdout",
          "text": [
            "-----------------------------\n",
            "Test\n",
            "R2 Value Test: 0.9670862899629399\n",
            "MSE Test: 0.0009805531164633974\n",
            "MAE Test: 0.021406446335963128\n",
            "MAPE 0.08679905888034349\n",
            "-----------------------------\n"
          ]
        }
      ]
    },
    {
      "cell_type": "code",
      "source": [
        "data(df2,0.5,6,100,1,0.05)"
      ],
      "metadata": {
        "colab": {
          "base_uri": "https://localhost:8080/"
        },
        "outputId": "62096579-cb0e-447d-fcf6-9b86266bdb77",
        "id": "go72OCXQdwRk"
      },
      "execution_count": 132,
      "outputs": [
        {
          "output_type": "stream",
          "name": "stderr",
          "text": [
            "<ipython-input-4-dbc8405074f9>:3: FutureWarning: In a future version of pandas all arguments of DataFrame.drop except for the argument 'labels' will be keyword-only\n",
            "  X = data.drop('telomere length (kb)',1)\n"
          ]
        },
        {
          "output_type": "stream",
          "name": "stdout",
          "text": [
            "-----------------------------\n",
            "Test\n",
            "R2 Value Test: 0.9668194181644267\n",
            "MSE Test: 0.0009885036627079137\n",
            "MAE Test: 0.020367488469432697\n",
            "MAPE 0.08167419761757083\n",
            "-----------------------------\n"
          ]
        }
      ]
    },
    {
      "cell_type": "code",
      "source": [
        "data(df2,0.5,6,100,0.9,0.3)"
      ],
      "metadata": {
        "colab": {
          "base_uri": "https://localhost:8080/"
        },
        "outputId": "db871eae-3729-4d92-d728-8c899b95c115",
        "id": "rhmfmWnwdwRk"
      },
      "execution_count": 133,
      "outputs": [
        {
          "output_type": "stream",
          "name": "stderr",
          "text": [
            "<ipython-input-4-dbc8405074f9>:3: FutureWarning: In a future version of pandas all arguments of DataFrame.drop except for the argument 'labels' will be keyword-only\n",
            "  X = data.drop('telomere length (kb)',1)\n"
          ]
        },
        {
          "output_type": "stream",
          "name": "stdout",
          "text": [
            "-----------------------------\n",
            "Test\n",
            "R2 Value Test: 0.9326769209192536\n",
            "MSE Test: 0.0020056643547083437\n",
            "MAE Test: 0.03234810188292693\n",
            "MAPE 0.11060477461098732\n",
            "-----------------------------\n"
          ]
        }
      ]
    },
    {
      "cell_type": "code",
      "source": [
        "data(df2,0.5,6,100,0.9,0.1)"
      ],
      "metadata": {
        "colab": {
          "base_uri": "https://localhost:8080/"
        },
        "outputId": "329c7998-d461-4e1f-d888-03d8b011f1ab",
        "id": "QGhpjM1jdwRk"
      },
      "execution_count": 134,
      "outputs": [
        {
          "output_type": "stream",
          "name": "stderr",
          "text": [
            "<ipython-input-4-dbc8405074f9>:3: FutureWarning: In a future version of pandas all arguments of DataFrame.drop except for the argument 'labels' will be keyword-only\n",
            "  X = data.drop('telomere length (kb)',1)\n"
          ]
        },
        {
          "output_type": "stream",
          "name": "stdout",
          "text": [
            "-----------------------------\n",
            "Test\n",
            "R2 Value Test: 0.9700264624381038\n",
            "MSE Test: 0.0008929605819172891\n",
            "MAE Test: 0.021329651680784264\n",
            "MAPE 0.08128295070624073\n",
            "-----------------------------\n"
          ]
        }
      ]
    },
    {
      "cell_type": "code",
      "source": [
        "data(df2,0.5,5,100,0.9,0.05)"
      ],
      "metadata": {
        "colab": {
          "base_uri": "https://localhost:8080/"
        },
        "outputId": "036ded5a-a222-4358-a137-cd3054f8fcfc",
        "id": "srdtLWNgdwRk"
      },
      "execution_count": 135,
      "outputs": [
        {
          "output_type": "stream",
          "name": "stderr",
          "text": [
            "<ipython-input-4-dbc8405074f9>:3: FutureWarning: In a future version of pandas all arguments of DataFrame.drop except for the argument 'labels' will be keyword-only\n",
            "  X = data.drop('telomere length (kb)',1)\n"
          ]
        },
        {
          "output_type": "stream",
          "name": "stdout",
          "text": [
            "-----------------------------\n",
            "Test\n",
            "R2 Value Test: 0.9648803132568673\n",
            "MSE Test: 0.0010462727613028764\n",
            "MAE Test: 0.02173244475381426\n",
            "MAPE 0.0910697621130344\n",
            "-----------------------------\n"
          ]
        }
      ]
    },
    {
      "cell_type": "code",
      "source": [
        "data(df2,0.5,6,1000,1,0.3)"
      ],
      "metadata": {
        "colab": {
          "base_uri": "https://localhost:8080/"
        },
        "outputId": "517d8dd9-f865-4c3d-93c8-b672a5074057",
        "id": "jTjyraDGdwRk"
      },
      "execution_count": 136,
      "outputs": [
        {
          "output_type": "stream",
          "name": "stderr",
          "text": [
            "<ipython-input-4-dbc8405074f9>:3: FutureWarning: In a future version of pandas all arguments of DataFrame.drop except for the argument 'labels' will be keyword-only\n",
            "  X = data.drop('telomere length (kb)',1)\n"
          ]
        },
        {
          "output_type": "stream",
          "name": "stdout",
          "text": [
            "-----------------------------\n",
            "Test\n",
            "R2 Value Test: 0.941194170017219\n",
            "MSE Test: 0.0017519216092900564\n",
            "MAE Test: 0.03135625284647077\n",
            "MAPE 0.11850769350437627\n",
            "-----------------------------\n"
          ]
        }
      ]
    },
    {
      "cell_type": "code",
      "source": [
        "data(df2,0.5,6,1000,1,0.1)"
      ],
      "metadata": {
        "colab": {
          "base_uri": "https://localhost:8080/"
        },
        "outputId": "6c418418-bedb-40b4-d18c-63f714c54430",
        "id": "I5GFRBNkdwRl"
      },
      "execution_count": 137,
      "outputs": [
        {
          "output_type": "stream",
          "name": "stderr",
          "text": [
            "<ipython-input-4-dbc8405074f9>:3: FutureWarning: In a future version of pandas all arguments of DataFrame.drop except for the argument 'labels' will be keyword-only\n",
            "  X = data.drop('telomere length (kb)',1)\n"
          ]
        },
        {
          "output_type": "stream",
          "name": "stdout",
          "text": [
            "-----------------------------\n",
            "Test\n",
            "R2 Value Test: 0.9678278026947109\n",
            "MSE Test: 0.0009584622425018576\n",
            "MAE Test: 0.02086049195536126\n",
            "MAPE 0.0842245959790431\n",
            "-----------------------------\n"
          ]
        }
      ]
    },
    {
      "cell_type": "code",
      "source": [
        "data(df2,0.5,6,1000,1,0.05)"
      ],
      "metadata": {
        "colab": {
          "base_uri": "https://localhost:8080/"
        },
        "outputId": "82d3361b-98e1-4a0d-9285-01bcfa48b21f",
        "id": "q3p5RpFXdwRl"
      },
      "execution_count": 138,
      "outputs": [
        {
          "output_type": "stream",
          "name": "stderr",
          "text": [
            "<ipython-input-4-dbc8405074f9>:3: FutureWarning: In a future version of pandas all arguments of DataFrame.drop except for the argument 'labels' will be keyword-only\n",
            "  X = data.drop('telomere length (kb)',1)\n"
          ]
        },
        {
          "output_type": "stream",
          "name": "stdout",
          "text": [
            "-----------------------------\n",
            "Test\n",
            "R2 Value Test: 0.9738662140109758\n",
            "MSE Test: 0.0007785681185035447\n",
            "MAE Test: 0.01869892902591493\n",
            "MAPE 0.07465250642388449\n",
            "-----------------------------\n"
          ]
        }
      ]
    },
    {
      "cell_type": "code",
      "source": [
        "data(df2,0.5,6,1000,0.9,0.3)"
      ],
      "metadata": {
        "colab": {
          "base_uri": "https://localhost:8080/"
        },
        "outputId": "09d965d1-ce7c-4585-e0e1-2ad6cad88d5c",
        "id": "8DHWh6t6dwRl"
      },
      "execution_count": 139,
      "outputs": [
        {
          "output_type": "stream",
          "name": "stderr",
          "text": [
            "<ipython-input-4-dbc8405074f9>:3: FutureWarning: In a future version of pandas all arguments of DataFrame.drop except for the argument 'labels' will be keyword-only\n",
            "  X = data.drop('telomere length (kb)',1)\n"
          ]
        },
        {
          "output_type": "stream",
          "name": "stdout",
          "text": [
            "-----------------------------\n",
            "Test\n",
            "R2 Value Test: 0.9327072652886499\n",
            "MSE Test: 0.0020047603464411136\n",
            "MAE Test: 0.03235122187929231\n",
            "MAPE 0.11053737473560812\n",
            "-----------------------------\n"
          ]
        }
      ]
    },
    {
      "cell_type": "code",
      "source": [
        "data(df2,0.5,6,1000,0.9,0.1)"
      ],
      "metadata": {
        "colab": {
          "base_uri": "https://localhost:8080/"
        },
        "outputId": "efa52ca1-fb65-47a2-d8b1-efbfecd3ddef",
        "id": "GA7yHV_adwRl"
      },
      "execution_count": 140,
      "outputs": [
        {
          "output_type": "stream",
          "name": "stderr",
          "text": [
            "<ipython-input-4-dbc8405074f9>:3: FutureWarning: In a future version of pandas all arguments of DataFrame.drop except for the argument 'labels' will be keyword-only\n",
            "  X = data.drop('telomere length (kb)',1)\n"
          ]
        },
        {
          "output_type": "stream",
          "name": "stdout",
          "text": [
            "-----------------------------\n",
            "Test\n",
            "R2 Value Test: 0.9714691599139518\n",
            "MSE Test: 0.000849980270537508\n",
            "MAE Test: 0.020878870982694284\n",
            "MAPE 0.07950481157863172\n",
            "-----------------------------\n"
          ]
        }
      ]
    },
    {
      "cell_type": "code",
      "source": [
        "data(df2,0.5,6,1000,0.9,0.05)"
      ],
      "metadata": {
        "colab": {
          "base_uri": "https://localhost:8080/"
        },
        "outputId": "76e4ad52-cf7a-4f7f-9f92-3e1a64f6f59e",
        "id": "qCrUE3SxdwRl"
      },
      "execution_count": 141,
      "outputs": [
        {
          "output_type": "stream",
          "name": "stderr",
          "text": [
            "<ipython-input-4-dbc8405074f9>:3: FutureWarning: In a future version of pandas all arguments of DataFrame.drop except for the argument 'labels' will be keyword-only\n",
            "  X = data.drop('telomere length (kb)',1)\n"
          ]
        },
        {
          "output_type": "stream",
          "name": "stdout",
          "text": [
            "-----------------------------\n",
            "Test\n",
            "R2 Value Test: 0.9759080634252328\n",
            "MSE Test: 0.0007177380934396948\n",
            "MAE Test: 0.017651017436761555\n",
            "MAPE 0.07392204406013102\n",
            "-----------------------------\n"
          ]
        }
      ]
    },
    {
      "cell_type": "code",
      "source": [
        "data(df2,0.5,5,100,1,0.3)"
      ],
      "metadata": {
        "colab": {
          "base_uri": "https://localhost:8080/"
        },
        "outputId": "22a9e5dc-3899-448a-a3e3-e440e47f9716",
        "id": "-6KBDdtqdwRl"
      },
      "execution_count": 142,
      "outputs": [
        {
          "output_type": "stream",
          "name": "stderr",
          "text": [
            "<ipython-input-4-dbc8405074f9>:3: FutureWarning: In a future version of pandas all arguments of DataFrame.drop except for the argument 'labels' will be keyword-only\n",
            "  X = data.drop('telomere length (kb)',1)\n"
          ]
        },
        {
          "output_type": "stream",
          "name": "stdout",
          "text": [
            "-----------------------------\n",
            "Test\n",
            "R2 Value Test: 0.9445118005522001\n",
            "MSE Test: 0.0016530839833680056\n",
            "MAE Test: 0.030200264375897196\n",
            "MAPE 0.10259323247417179\n",
            "-----------------------------\n"
          ]
        }
      ]
    },
    {
      "cell_type": "code",
      "source": [
        "data(df2,0.5,5,100,1,0.1)"
      ],
      "metadata": {
        "colab": {
          "base_uri": "https://localhost:8080/"
        },
        "outputId": "759c5cf2-1afd-4282-efd5-ee4b3e961737",
        "id": "6ZSIFbm1dwRl"
      },
      "execution_count": 143,
      "outputs": [
        {
          "output_type": "stream",
          "name": "stderr",
          "text": [
            "<ipython-input-4-dbc8405074f9>:3: FutureWarning: In a future version of pandas all arguments of DataFrame.drop except for the argument 'labels' will be keyword-only\n",
            "  X = data.drop('telomere length (kb)',1)\n"
          ]
        },
        {
          "output_type": "stream",
          "name": "stdout",
          "text": [
            "-----------------------------\n",
            "Test\n",
            "R2 Value Test: 0.9695600294586634\n",
            "MSE Test: 0.0009068563812998724\n",
            "MAE Test: 0.02028348080393571\n",
            "MAPE 0.0775300112087055\n",
            "-----------------------------\n"
          ]
        }
      ]
    },
    {
      "cell_type": "code",
      "source": [
        "data(df2,0.5,5,100,1,0.05)"
      ],
      "metadata": {
        "colab": {
          "base_uri": "https://localhost:8080/"
        },
        "outputId": "1e111281-6e8f-439f-bfc6-9c3a46b9bcce",
        "id": "NA1eoSEqdwRl"
      },
      "execution_count": 144,
      "outputs": [
        {
          "output_type": "stream",
          "name": "stderr",
          "text": [
            "<ipython-input-4-dbc8405074f9>:3: FutureWarning: In a future version of pandas all arguments of DataFrame.drop except for the argument 'labels' will be keyword-only\n",
            "  X = data.drop('telomere length (kb)',1)\n"
          ]
        },
        {
          "output_type": "stream",
          "name": "stdout",
          "text": [
            "-----------------------------\n",
            "Test\n",
            "R2 Value Test: 0.9675150697018376\n",
            "MSE Test: 0.0009677790685429685\n",
            "MAE Test: 0.020397503620034205\n",
            "MAPE 0.08289261452698858\n",
            "-----------------------------\n"
          ]
        }
      ]
    },
    {
      "cell_type": "code",
      "source": [
        "data(df2,0.5,5,100,0.9,0.3)"
      ],
      "metadata": {
        "colab": {
          "base_uri": "https://localhost:8080/"
        },
        "outputId": "02110de0-1322-494b-d0ce-ff9cfea37886",
        "id": "ZtxOzzKzdwRl"
      },
      "execution_count": 145,
      "outputs": [
        {
          "output_type": "stream",
          "name": "stderr",
          "text": [
            "<ipython-input-4-dbc8405074f9>:3: FutureWarning: In a future version of pandas all arguments of DataFrame.drop except for the argument 'labels' will be keyword-only\n",
            "  X = data.drop('telomere length (kb)',1)\n"
          ]
        },
        {
          "output_type": "stream",
          "name": "stdout",
          "text": [
            "-----------------------------\n",
            "Test\n",
            "R2 Value Test: 0.9311055489229743\n",
            "MSE Test: 0.0020524780899676036\n",
            "MAE Test: 0.033787138507668714\n",
            "MAPE 0.13334356968372743\n",
            "-----------------------------\n"
          ]
        }
      ]
    },
    {
      "cell_type": "code",
      "source": [
        "data(df2,0.5,5,100,0.9,0.1)"
      ],
      "metadata": {
        "colab": {
          "base_uri": "https://localhost:8080/"
        },
        "outputId": "c3bc5ba2-304b-41a1-8b83-08bc99e96bff",
        "id": "wRy2O85vdwRl"
      },
      "execution_count": 146,
      "outputs": [
        {
          "output_type": "stream",
          "name": "stderr",
          "text": [
            "<ipython-input-4-dbc8405074f9>:3: FutureWarning: In a future version of pandas all arguments of DataFrame.drop except for the argument 'labels' will be keyword-only\n",
            "  X = data.drop('telomere length (kb)',1)\n"
          ]
        },
        {
          "output_type": "stream",
          "name": "stdout",
          "text": [
            "-----------------------------\n",
            "Test\n",
            "R2 Value Test: 0.9636513210300003\n",
            "MSE Test: 0.0010828864446830485\n",
            "MAE Test: 0.021410202352704084\n",
            "MAPE 0.07511423010291064\n",
            "-----------------------------\n"
          ]
        }
      ]
    },
    {
      "cell_type": "code",
      "source": [
        "data(df2,0.5,5,100,0.9,0.05)"
      ],
      "metadata": {
        "colab": {
          "base_uri": "https://localhost:8080/"
        },
        "outputId": "b4872742-5094-497a-db85-9bd67c11741a",
        "id": "s3oNk8C5dwRm"
      },
      "execution_count": 147,
      "outputs": [
        {
          "output_type": "stream",
          "name": "stderr",
          "text": [
            "<ipython-input-4-dbc8405074f9>:3: FutureWarning: In a future version of pandas all arguments of DataFrame.drop except for the argument 'labels' will be keyword-only\n",
            "  X = data.drop('telomere length (kb)',1)\n"
          ]
        },
        {
          "output_type": "stream",
          "name": "stdout",
          "text": [
            "-----------------------------\n",
            "Test\n",
            "R2 Value Test: 0.9648803132568673\n",
            "MSE Test: 0.0010462727613028764\n",
            "MAE Test: 0.02173244475381426\n",
            "MAPE 0.0910697621130344\n",
            "-----------------------------\n"
          ]
        }
      ]
    },
    {
      "cell_type": "code",
      "source": [
        "data(df2,0.5,5,1000,1,0.3)"
      ],
      "metadata": {
        "colab": {
          "base_uri": "https://localhost:8080/"
        },
        "outputId": "5bb46e7d-a317-40af-d8b5-c0d993d37dc5",
        "id": "eEQDMjA4dwRm"
      },
      "execution_count": 148,
      "outputs": [
        {
          "output_type": "stream",
          "name": "stderr",
          "text": [
            "<ipython-input-4-dbc8405074f9>:3: FutureWarning: In a future version of pandas all arguments of DataFrame.drop except for the argument 'labels' will be keyword-only\n",
            "  X = data.drop('telomere length (kb)',1)\n"
          ]
        },
        {
          "output_type": "stream",
          "name": "stdout",
          "text": [
            "-----------------------------\n",
            "Test\n",
            "R2 Value Test: 0.9445658418056923\n",
            "MSE Test: 0.0016514740062651598\n",
            "MAE Test: 0.03019036443549632\n",
            "MAPE 0.10254609645438205\n",
            "-----------------------------\n"
          ]
        }
      ]
    },
    {
      "cell_type": "code",
      "source": [
        "data(df2,0.5,5,1000,1,0.1)"
      ],
      "metadata": {
        "colab": {
          "base_uri": "https://localhost:8080/"
        },
        "outputId": "2f90d9d5-dd67-482c-f422-b92a1788138f",
        "id": "0GTs1qwwdwRm"
      },
      "execution_count": 149,
      "outputs": [
        {
          "output_type": "stream",
          "name": "stderr",
          "text": [
            "<ipython-input-4-dbc8405074f9>:3: FutureWarning: In a future version of pandas all arguments of DataFrame.drop except for the argument 'labels' will be keyword-only\n",
            "  X = data.drop('telomere length (kb)',1)\n"
          ]
        },
        {
          "output_type": "stream",
          "name": "stdout",
          "text": [
            "-----------------------------\n",
            "Test\n",
            "R2 Value Test: 0.9714680512007541\n",
            "MSE Test: 0.0008500133009123884\n",
            "MAE Test: 0.019671823628592017\n",
            "MAPE 0.07495990450462048\n",
            "-----------------------------\n"
          ]
        }
      ]
    },
    {
      "cell_type": "code",
      "source": [
        "data(df2,0.5,5,1000,1,0.05)"
      ],
      "metadata": {
        "colab": {
          "base_uri": "https://localhost:8080/"
        },
        "outputId": "a42f8f6d-6e0d-4386-f47e-4ef776d12399",
        "id": "es4WuXuydwRm"
      },
      "execution_count": 150,
      "outputs": [
        {
          "output_type": "stream",
          "name": "stderr",
          "text": [
            "<ipython-input-4-dbc8405074f9>:3: FutureWarning: In a future version of pandas all arguments of DataFrame.drop except for the argument 'labels' will be keyword-only\n",
            "  X = data.drop('telomere length (kb)',1)\n"
          ]
        },
        {
          "output_type": "stream",
          "name": "stdout",
          "text": [
            "-----------------------------\n",
            "Test\n",
            "R2 Value Test: 0.975550922782251\n",
            "MSE Test: 0.0007283778958228736\n",
            "MAE Test: 0.01812606089630816\n",
            "MAPE 0.07125329186089135\n",
            "-----------------------------\n"
          ]
        }
      ]
    },
    {
      "cell_type": "code",
      "source": [
        "data(df2,0.5,5,1000,0.9,0.3)"
      ],
      "metadata": {
        "colab": {
          "base_uri": "https://localhost:8080/"
        },
        "outputId": "8947e6a6-7d0d-44b0-ba6d-b8bf4360cea7",
        "id": "2q1kohQCdwRm"
      },
      "execution_count": 151,
      "outputs": [
        {
          "output_type": "stream",
          "name": "stderr",
          "text": [
            "<ipython-input-4-dbc8405074f9>:3: FutureWarning: In a future version of pandas all arguments of DataFrame.drop except for the argument 'labels' will be keyword-only\n",
            "  X = data.drop('telomere length (kb)',1)\n"
          ]
        },
        {
          "output_type": "stream",
          "name": "stdout",
          "text": [
            "-----------------------------\n",
            "Test\n",
            "R2 Value Test: 0.9312095739623207\n",
            "MSE Test: 0.0020493790143420775\n",
            "MAE Test: 0.03375846743542056\n",
            "MAPE 0.13293864947950704\n",
            "-----------------------------\n"
          ]
        }
      ]
    },
    {
      "cell_type": "code",
      "source": [
        "data(df2,0.5,5,1000,0.9,0.1)"
      ],
      "metadata": {
        "colab": {
          "base_uri": "https://localhost:8080/"
        },
        "outputId": "a6f22475-c336-493f-aab2-9ea78d967735",
        "id": "2HFSzoDkdwRm"
      },
      "execution_count": 152,
      "outputs": [
        {
          "output_type": "stream",
          "name": "stderr",
          "text": [
            "<ipython-input-4-dbc8405074f9>:3: FutureWarning: In a future version of pandas all arguments of DataFrame.drop except for the argument 'labels' will be keyword-only\n",
            "  X = data.drop('telomere length (kb)',1)\n"
          ]
        },
        {
          "output_type": "stream",
          "name": "stdout",
          "text": [
            "-----------------------------\n",
            "Test\n",
            "R2 Value Test: 0.9650953594488785\n",
            "MSE Test: 0.0010398661844228246\n",
            "MAE Test: 0.02079321914153235\n",
            "MAPE 0.07162300155328305\n",
            "-----------------------------\n"
          ]
        }
      ]
    },
    {
      "cell_type": "code",
      "source": [
        "data(df2,0.5,5,1000,0.9,0.05)"
      ],
      "metadata": {
        "colab": {
          "base_uri": "https://localhost:8080/"
        },
        "outputId": "c7458f5d-764e-4e81-f52d-79c13daec439",
        "id": "4vYm0raJdwRm"
      },
      "execution_count": 153,
      "outputs": [
        {
          "output_type": "stream",
          "name": "stderr",
          "text": [
            "<ipython-input-4-dbc8405074f9>:3: FutureWarning: In a future version of pandas all arguments of DataFrame.drop except for the argument 'labels' will be keyword-only\n",
            "  X = data.drop('telomere length (kb)',1)\n"
          ]
        },
        {
          "output_type": "stream",
          "name": "stdout",
          "text": [
            "-----------------------------\n",
            "Test\n",
            "R2 Value Test: 0.973861964584817\n",
            "MSE Test: 0.0007786947158412055\n",
            "MAE Test: 0.018473538248696193\n",
            "MAPE 0.07421391946136463\n",
            "-----------------------------\n"
          ]
        }
      ]
    },
    {
      "cell_type": "code",
      "source": [
        "data(df2,0.5,10,100,1,0.3)"
      ],
      "metadata": {
        "colab": {
          "base_uri": "https://localhost:8080/"
        },
        "outputId": "5c37334b-dd2a-453e-aac7-1e0fdecf943b",
        "id": "WHjE7BNxdwRm"
      },
      "execution_count": 154,
      "outputs": [
        {
          "output_type": "stream",
          "name": "stderr",
          "text": [
            "<ipython-input-4-dbc8405074f9>:3: FutureWarning: In a future version of pandas all arguments of DataFrame.drop except for the argument 'labels' will be keyword-only\n",
            "  X = data.drop('telomere length (kb)',1)\n"
          ]
        },
        {
          "output_type": "stream",
          "name": "stdout",
          "text": [
            "-----------------------------\n",
            "Test\n",
            "R2 Value Test: 0.9368748142914634\n",
            "MSE Test: 0.001880602262830322\n",
            "MAE Test: 0.03182706230525602\n",
            "MAPE 0.1145440027554481\n",
            "-----------------------------\n"
          ]
        }
      ]
    },
    {
      "cell_type": "code",
      "source": [
        "data(df2,0.5,10,100,1,0.1)"
      ],
      "metadata": {
        "colab": {
          "base_uri": "https://localhost:8080/"
        },
        "outputId": "29a8c6fb-8c5a-4176-e6c3-1cf59688da88",
        "id": "cTZfidrddwRm"
      },
      "execution_count": 155,
      "outputs": [
        {
          "output_type": "stream",
          "name": "stderr",
          "text": [
            "<ipython-input-4-dbc8405074f9>:3: FutureWarning: In a future version of pandas all arguments of DataFrame.drop except for the argument 'labels' will be keyword-only\n",
            "  X = data.drop('telomere length (kb)',1)\n"
          ]
        },
        {
          "output_type": "stream",
          "name": "stdout",
          "text": [
            "-----------------------------\n",
            "Test\n",
            "R2 Value Test: 0.968241053231235\n",
            "MSE Test: 0.0009461508348540243\n",
            "MAE Test: 0.02140976592668216\n",
            "MAPE 0.08147301804749711\n",
            "-----------------------------\n"
          ]
        }
      ]
    },
    {
      "cell_type": "code",
      "source": [
        "data(df2,0.5,10,100,1,0.05)"
      ],
      "metadata": {
        "colab": {
          "base_uri": "https://localhost:8080/"
        },
        "outputId": "09749742-9a52-4920-bd07-6fadff9d47bc",
        "id": "_Ul4_cHJdwRm"
      },
      "execution_count": 156,
      "outputs": [
        {
          "output_type": "stream",
          "name": "stderr",
          "text": [
            "<ipython-input-4-dbc8405074f9>:3: FutureWarning: In a future version of pandas all arguments of DataFrame.drop except for the argument 'labels' will be keyword-only\n",
            "  X = data.drop('telomere length (kb)',1)\n"
          ]
        },
        {
          "output_type": "stream",
          "name": "stdout",
          "text": [
            "-----------------------------\n",
            "Test\n",
            "R2 Value Test: 0.9674339050535956\n",
            "MSE Test: 0.0009701970958237202\n",
            "MAE Test: 0.02011133106962224\n",
            "MAPE 0.08345500296039288\n",
            "-----------------------------\n"
          ]
        }
      ]
    },
    {
      "cell_type": "code",
      "source": [
        "data(df2,0.5,10,100,0.9,0.3)"
      ],
      "metadata": {
        "colab": {
          "base_uri": "https://localhost:8080/"
        },
        "outputId": "0972383e-a26d-432e-ab67-59bfc2ac18ee",
        "id": "yTt3FOCldwRn"
      },
      "execution_count": 157,
      "outputs": [
        {
          "output_type": "stream",
          "name": "stderr",
          "text": [
            "<ipython-input-4-dbc8405074f9>:3: FutureWarning: In a future version of pandas all arguments of DataFrame.drop except for the argument 'labels' will be keyword-only\n",
            "  X = data.drop('telomere length (kb)',1)\n"
          ]
        },
        {
          "output_type": "stream",
          "name": "stdout",
          "text": [
            "-----------------------------\n",
            "Test\n",
            "R2 Value Test: 0.944568137726059\n",
            "MSE Test: 0.0016514056070519394\n",
            "MAE Test: 0.031067308909086818\n",
            "MAPE 0.1154233080603651\n",
            "-----------------------------\n"
          ]
        }
      ]
    },
    {
      "cell_type": "code",
      "source": [
        "data(df2,0.5,10,100,0.9,0.1)"
      ],
      "metadata": {
        "colab": {
          "base_uri": "https://localhost:8080/"
        },
        "outputId": "9f7b2cde-e61f-4d55-854d-2b3215421b07",
        "id": "6RC5o9ubdwRn"
      },
      "execution_count": 158,
      "outputs": [
        {
          "output_type": "stream",
          "name": "stderr",
          "text": [
            "<ipython-input-4-dbc8405074f9>:3: FutureWarning: In a future version of pandas all arguments of DataFrame.drop except for the argument 'labels' will be keyword-only\n",
            "  X = data.drop('telomere length (kb)',1)\n"
          ]
        },
        {
          "output_type": "stream",
          "name": "stdout",
          "text": [
            "-----------------------------\n",
            "Test\n",
            "R2 Value Test: 0.9669809239635814\n",
            "MSE Test: 0.0009836921414752816\n",
            "MAE Test: 0.02159392411570544\n",
            "MAPE 0.08141536908770905\n",
            "-----------------------------\n"
          ]
        }
      ]
    },
    {
      "cell_type": "code",
      "source": [
        "data(df2,0.5,10,100,0.9,0.05)"
      ],
      "metadata": {
        "colab": {
          "base_uri": "https://localhost:8080/"
        },
        "outputId": "767e0cdc-2016-4aea-94c3-bebdaeb23269",
        "id": "zTOZNzYpdwRn"
      },
      "execution_count": 159,
      "outputs": [
        {
          "output_type": "stream",
          "name": "stderr",
          "text": [
            "<ipython-input-4-dbc8405074f9>:3: FutureWarning: In a future version of pandas all arguments of DataFrame.drop except for the argument 'labels' will be keyword-only\n",
            "  X = data.drop('telomere length (kb)',1)\n"
          ]
        },
        {
          "output_type": "stream",
          "name": "stdout",
          "text": [
            "-----------------------------\n",
            "Test\n",
            "R2 Value Test: 0.9671990609242879\n",
            "MSE Test: 0.0009771934855536072\n",
            "MAE Test: 0.021347682597551248\n",
            "MAPE 0.08989341372043215\n",
            "-----------------------------\n"
          ]
        }
      ]
    },
    {
      "cell_type": "code",
      "source": [
        "data(df2,0.5,10,1000,1,0.03)"
      ],
      "metadata": {
        "colab": {
          "base_uri": "https://localhost:8080/"
        },
        "outputId": "f56391e7-711d-4b95-e73f-b3c69bb3199f",
        "id": "GJLN6_dzdwRn"
      },
      "execution_count": 160,
      "outputs": [
        {
          "output_type": "stream",
          "name": "stderr",
          "text": [
            "<ipython-input-4-dbc8405074f9>:3: FutureWarning: In a future version of pandas all arguments of DataFrame.drop except for the argument 'labels' will be keyword-only\n",
            "  X = data.drop('telomere length (kb)',1)\n"
          ]
        },
        {
          "output_type": "stream",
          "name": "stdout",
          "text": [
            "-----------------------------\n",
            "Test\n",
            "R2 Value Test: 0.973114242906983\n",
            "MSE Test: 0.0008009705644350535\n",
            "MAE Test: 0.018571669162037934\n",
            "MAPE 0.07904153330054227\n",
            "-----------------------------\n"
          ]
        }
      ]
    },
    {
      "cell_type": "code",
      "source": [
        "data(df2,0.5,10,1000,1,0.1)"
      ],
      "metadata": {
        "colab": {
          "base_uri": "https://localhost:8080/"
        },
        "outputId": "486b4013-6b60-407e-9043-10f99789936a",
        "id": "kmy3gDKwdwRn"
      },
      "execution_count": 161,
      "outputs": [
        {
          "output_type": "stream",
          "name": "stderr",
          "text": [
            "<ipython-input-4-dbc8405074f9>:3: FutureWarning: In a future version of pandas all arguments of DataFrame.drop except for the argument 'labels' will be keyword-only\n",
            "  X = data.drop('telomere length (kb)',1)\n"
          ]
        },
        {
          "output_type": "stream",
          "name": "stdout",
          "text": [
            "-----------------------------\n",
            "Test\n",
            "R2 Value Test: 0.966475085574388\n",
            "MSE Test: 0.0009987618922992366\n",
            "MAE Test: 0.02151797789631021\n",
            "MAPE 0.08136315260387361\n",
            "-----------------------------\n"
          ]
        }
      ]
    },
    {
      "cell_type": "code",
      "source": [
        "data(df2,0.5,10,1000,1,0.05)"
      ],
      "metadata": {
        "colab": {
          "base_uri": "https://localhost:8080/"
        },
        "outputId": "dc5a2998-747b-498a-96e0-177b0c7ea3db",
        "id": "fR472SVQdwRn"
      },
      "execution_count": 162,
      "outputs": [
        {
          "output_type": "stream",
          "name": "stderr",
          "text": [
            "<ipython-input-4-dbc8405074f9>:3: FutureWarning: In a future version of pandas all arguments of DataFrame.drop except for the argument 'labels' will be keyword-only\n",
            "  X = data.drop('telomere length (kb)',1)\n"
          ]
        },
        {
          "output_type": "stream",
          "name": "stdout",
          "text": [
            "-----------------------------\n",
            "Test\n",
            "R2 Value Test: 0.974045978284065\n",
            "MSE Test: 0.0007732126475460647\n",
            "MAE Test: 0.018221290141739083\n",
            "MAPE 0.07364943164503462\n",
            "-----------------------------\n"
          ]
        }
      ]
    },
    {
      "cell_type": "code",
      "source": [
        "data(df2,0.5,10,1000,0.9,0.3)"
      ],
      "metadata": {
        "colab": {
          "base_uri": "https://localhost:8080/"
        },
        "outputId": "8c8321cd-acf0-4654-faf2-ed3320fbedcf",
        "id": "zCXSuWsVdwRn"
      },
      "execution_count": 163,
      "outputs": [
        {
          "output_type": "stream",
          "name": "stderr",
          "text": [
            "<ipython-input-4-dbc8405074f9>:3: FutureWarning: In a future version of pandas all arguments of DataFrame.drop except for the argument 'labels' will be keyword-only\n",
            "  X = data.drop('telomere length (kb)',1)\n"
          ]
        },
        {
          "output_type": "stream",
          "name": "stdout",
          "text": [
            "-----------------------------\n",
            "Test\n",
            "R2 Value Test: 0.9445887183493182\n",
            "MSE Test: 0.001650792476710421\n",
            "MAE Test: 0.03104997228457667\n",
            "MAPE 0.11545409280807555\n",
            "-----------------------------\n"
          ]
        }
      ]
    },
    {
      "cell_type": "code",
      "source": [
        "data(df2,0.5,10,1000,0.9,0.1)"
      ],
      "metadata": {
        "colab": {
          "base_uri": "https://localhost:8080/"
        },
        "outputId": "fb5d7b3d-fc63-491e-b86a-a2e541d515a8",
        "id": "l1jngdr4dwRn"
      },
      "execution_count": 164,
      "outputs": [
        {
          "output_type": "stream",
          "name": "stderr",
          "text": [
            "<ipython-input-4-dbc8405074f9>:3: FutureWarning: In a future version of pandas all arguments of DataFrame.drop except for the argument 'labels' will be keyword-only\n",
            "  X = data.drop('telomere length (kb)',1)\n"
          ]
        },
        {
          "output_type": "stream",
          "name": "stdout",
          "text": [
            "-----------------------------\n",
            "Test\n",
            "R2 Value Test: 0.965866977165804\n",
            "MSE Test: 0.0010168784338411422\n",
            "MAE Test: 0.021694157912058924\n",
            "MAPE 0.08143617986804656\n",
            "-----------------------------\n"
          ]
        }
      ]
    },
    {
      "cell_type": "code",
      "source": [
        "data(df2,0.5,10,1000,0.9,0.05)"
      ],
      "metadata": {
        "colab": {
          "base_uri": "https://localhost:8080/"
        },
        "outputId": "f261483f-c96b-4bb3-930e-8456f215a595",
        "id": "V1_ZmMOndwRn"
      },
      "execution_count": 165,
      "outputs": [
        {
          "output_type": "stream",
          "name": "stderr",
          "text": [
            "<ipython-input-4-dbc8405074f9>:3: FutureWarning: In a future version of pandas all arguments of DataFrame.drop except for the argument 'labels' will be keyword-only\n",
            "  X = data.drop('telomere length (kb)',1)\n"
          ]
        },
        {
          "output_type": "stream",
          "name": "stdout",
          "text": [
            "-----------------------------\n",
            "Test\n",
            "R2 Value Test: 0.9738187295942181\n",
            "MSE Test: 0.0007799827567434377\n",
            "MAE Test: 0.01952765592679043\n",
            "MAPE 0.08079891977350528\n",
            "-----------------------------\n"
          ]
        }
      ]
    },
    {
      "cell_type": "markdown",
      "source": [
        "## data3"
      ],
      "metadata": {
        "id": "Eo87K0F8exnX"
      }
    },
    {
      "cell_type": "code",
      "source": [
        "data_file_path = os.path.join(path,'data_notmissing.csv') #ไปที่ไฟล์ confirmed-cases-since-280265.csv\n",
        "data3 = pd.read_csv(data_file_path)\n",
        "data3.drop({'Unnamed: 0'},1,inplace = True)"
      ],
      "metadata": {
        "colab": {
          "base_uri": "https://localhost:8080/"
        },
        "outputId": "8c2b5eb5-66ce-4214-9360-a049c18882c1",
        "id": "5XZKkEWMexnX"
      },
      "execution_count": 166,
      "outputs": [
        {
          "output_type": "stream",
          "name": "stderr",
          "text": [
            "<ipython-input-166-eab412fc4bad>:3: FutureWarning: In a future version of pandas all arguments of DataFrame.drop except for the argument 'labels' will be keyword-only\n",
            "  data3.drop({'Unnamed: 0'},1,inplace = True)\n"
          ]
        }
      ]
    },
    {
      "cell_type": "code",
      "source": [
        "scaler = MinMaxScaler()\n",
        "Scaler = scaler.fit_transform(data3)"
      ],
      "metadata": {
        "id": "Y_0NTFyBexnY"
      },
      "execution_count": 167,
      "outputs": []
    },
    {
      "cell_type": "code",
      "source": [
        "df3 = pd.DataFrame(Scaler, columns = ['Sex' , 'AgeSYear', 'telomere length (kb)','Weight','Height','BMI','Systolic','Diastolic','HeartRate','SMM','Fat Mass',\n",
        "                                       '% Body fat','waist to hip radio','abdominal circumference','visceral fat area','Glucose','BUN','Creatinine','Uric Acid','Cholesterol',\n",
        "                                       'Triglyceride','HDL-C','LDL','AST','ALT','Alkaline Phos','HbA1c'])"
      ],
      "metadata": {
        "id": "_2EMlfWCexnY"
      },
      "execution_count": 168,
      "outputs": []
    },
    {
      "cell_type": "code",
      "source": [
        "#1\n",
        "data(df3,1,6,100,1,0.3)"
      ],
      "metadata": {
        "colab": {
          "base_uri": "https://localhost:8080/"
        },
        "outputId": "3628ef99-ad96-43ce-f840-1bdc4f616e6e",
        "id": "PnkreH2SexnY"
      },
      "execution_count": 169,
      "outputs": [
        {
          "output_type": "stream",
          "name": "stderr",
          "text": [
            "<ipython-input-4-dbc8405074f9>:3: FutureWarning: In a future version of pandas all arguments of DataFrame.drop except for the argument 'labels' will be keyword-only\n",
            "  X = data.drop('telomere length (kb)',1)\n"
          ]
        },
        {
          "output_type": "stream",
          "name": "stdout",
          "text": [
            "-----------------------------\n",
            "Test\n",
            "R2 Value Test: 0.7222707719290067\n",
            "MSE Test: 0.01745385730321068\n",
            "MAE Test: 0.10973371421392167\n",
            "MAPE 0.30216131134381297\n",
            "-----------------------------\n"
          ]
        }
      ]
    },
    {
      "cell_type": "code",
      "source": [
        "data(df3,1,6,100,1,0.1)"
      ],
      "metadata": {
        "colab": {
          "base_uri": "https://localhost:8080/"
        },
        "outputId": "4b7c541c-9011-4908-9248-48e53ea94eab",
        "id": "6-VqupptexnY"
      },
      "execution_count": 170,
      "outputs": [
        {
          "output_type": "stream",
          "name": "stderr",
          "text": [
            "<ipython-input-4-dbc8405074f9>:3: FutureWarning: In a future version of pandas all arguments of DataFrame.drop except for the argument 'labels' will be keyword-only\n",
            "  X = data.drop('telomere length (kb)',1)\n"
          ]
        },
        {
          "output_type": "stream",
          "name": "stdout",
          "text": [
            "-----------------------------\n",
            "Test\n",
            "R2 Value Test: 0.7269117963621009\n",
            "MSE Test: 0.017162192724878168\n",
            "MAE Test: 0.10911320286963201\n",
            "MAPE 0.29892074272066166\n",
            "-----------------------------\n"
          ]
        }
      ]
    },
    {
      "cell_type": "code",
      "source": [
        "data(df3,1,6,100,1,0.05)"
      ],
      "metadata": {
        "colab": {
          "base_uri": "https://localhost:8080/"
        },
        "outputId": "7ba4b3d3-4e4a-4014-ddf9-8d8ec0a168d4",
        "id": "4x5aRZk2exnY"
      },
      "execution_count": 171,
      "outputs": [
        {
          "output_type": "stream",
          "name": "stderr",
          "text": [
            "<ipython-input-4-dbc8405074f9>:3: FutureWarning: In a future version of pandas all arguments of DataFrame.drop except for the argument 'labels' will be keyword-only\n",
            "  X = data.drop('telomere length (kb)',1)\n"
          ]
        },
        {
          "output_type": "stream",
          "name": "stdout",
          "text": [
            "-----------------------------\n",
            "Test\n",
            "R2 Value Test: 0.7302811879285886\n",
            "MSE Test: 0.01695044374905526\n",
            "MAE Test: 0.10814140098399108\n",
            "MAPE 0.2995316991104754\n",
            "-----------------------------\n"
          ]
        }
      ]
    },
    {
      "cell_type": "code",
      "source": [
        "data(df3,1,6,100,0.9,0.3)"
      ],
      "metadata": {
        "colab": {
          "base_uri": "https://localhost:8080/"
        },
        "outputId": "67e0591f-f462-4297-9ea7-efbaaf50b8aa",
        "id": "HdmWAe-VexnY"
      },
      "execution_count": 172,
      "outputs": [
        {
          "output_type": "stream",
          "name": "stderr",
          "text": [
            "<ipython-input-4-dbc8405074f9>:3: FutureWarning: In a future version of pandas all arguments of DataFrame.drop except for the argument 'labels' will be keyword-only\n",
            "  X = data.drop('telomere length (kb)',1)\n"
          ]
        },
        {
          "output_type": "stream",
          "name": "stdout",
          "text": [
            "-----------------------------\n",
            "Test\n",
            "R2 Value Test: 0.7299542167802813\n",
            "MSE Test: 0.016970992208446674\n",
            "MAE Test: 0.10627221318075449\n",
            "MAPE 0.2864194068503578\n",
            "-----------------------------\n"
          ]
        }
      ]
    },
    {
      "cell_type": "code",
      "source": [
        "data(df3,1,6,100,0.9,0.1)"
      ],
      "metadata": {
        "colab": {
          "base_uri": "https://localhost:8080/"
        },
        "outputId": "41777a37-2766-4946-8f1e-de605fa18b05",
        "id": "KYqRL8E1exnY"
      },
      "execution_count": 173,
      "outputs": [
        {
          "output_type": "stream",
          "name": "stderr",
          "text": [
            "<ipython-input-4-dbc8405074f9>:3: FutureWarning: In a future version of pandas all arguments of DataFrame.drop except for the argument 'labels' will be keyword-only\n",
            "  X = data.drop('telomere length (kb)',1)\n"
          ]
        },
        {
          "output_type": "stream",
          "name": "stdout",
          "text": [
            "-----------------------------\n",
            "Test\n",
            "R2 Value Test: 0.7245175728785334\n",
            "MSE Test: 0.017312657389056404\n",
            "MAE Test: 0.1064048538532271\n",
            "MAPE 0.29177228639503894\n",
            "-----------------------------\n"
          ]
        }
      ]
    },
    {
      "cell_type": "code",
      "source": [
        "data(df3,1,6,100,0.9,0.05)"
      ],
      "metadata": {
        "colab": {
          "base_uri": "https://localhost:8080/"
        },
        "outputId": "46dc8d58-ff2b-4aad-e842-6a784c9d5658",
        "id": "95O5K2LlexnY"
      },
      "execution_count": 174,
      "outputs": [
        {
          "output_type": "stream",
          "name": "stderr",
          "text": [
            "<ipython-input-4-dbc8405074f9>:3: FutureWarning: In a future version of pandas all arguments of DataFrame.drop except for the argument 'labels' will be keyword-only\n",
            "  X = data.drop('telomere length (kb)',1)\n"
          ]
        },
        {
          "output_type": "stream",
          "name": "stdout",
          "text": [
            "-----------------------------\n",
            "Test\n",
            "R2 Value Test: 0.7208569344079925\n",
            "MSE Test: 0.017542709738775725\n",
            "MAE Test: 0.11069791156027532\n",
            "MAPE 0.29946211272966944\n",
            "-----------------------------\n"
          ]
        }
      ]
    },
    {
      "cell_type": "code",
      "source": [
        "data(df3,1,6,1000,1,0.3)"
      ],
      "metadata": {
        "colab": {
          "base_uri": "https://localhost:8080/"
        },
        "outputId": "bab689bf-6518-4322-fb00-8176221b5c62",
        "id": "AIsw2VkgexnY"
      },
      "execution_count": 175,
      "outputs": [
        {
          "output_type": "stream",
          "name": "stderr",
          "text": [
            "<ipython-input-4-dbc8405074f9>:3: FutureWarning: In a future version of pandas all arguments of DataFrame.drop except for the argument 'labels' will be keyword-only\n",
            "  X = data.drop('telomere length (kb)',1)\n"
          ]
        },
        {
          "output_type": "stream",
          "name": "stdout",
          "text": [
            "-----------------------------\n",
            "Test\n",
            "R2 Value Test: 0.7222707719290067\n",
            "MSE Test: 0.01745385730321068\n",
            "MAE Test: 0.10973371421392167\n",
            "MAPE 0.30216131134381297\n",
            "-----------------------------\n"
          ]
        }
      ]
    },
    {
      "cell_type": "code",
      "source": [
        "data(df3,1,6,1000,1,0.1)"
      ],
      "metadata": {
        "colab": {
          "base_uri": "https://localhost:8080/"
        },
        "outputId": "f8f5ecda-09dd-40dc-c7e7-8ded6619ec5c",
        "id": "2dpxnjg6exnY"
      },
      "execution_count": 176,
      "outputs": [
        {
          "output_type": "stream",
          "name": "stderr",
          "text": [
            "<ipython-input-4-dbc8405074f9>:3: FutureWarning: In a future version of pandas all arguments of DataFrame.drop except for the argument 'labels' will be keyword-only\n",
            "  X = data.drop('telomere length (kb)',1)\n"
          ]
        },
        {
          "output_type": "stream",
          "name": "stdout",
          "text": [
            "-----------------------------\n",
            "Test\n",
            "R2 Value Test: 0.7270009491559236\n",
            "MSE Test: 0.017156589929117807\n",
            "MAE Test: 0.10906731786817259\n",
            "MAPE 0.29876491905634567\n",
            "-----------------------------\n"
          ]
        }
      ]
    },
    {
      "cell_type": "code",
      "source": [
        "data(df3,1,6,1000,1,0.05)"
      ],
      "metadata": {
        "colab": {
          "base_uri": "https://localhost:8080/"
        },
        "outputId": "a9ebc277-00e3-48f0-9d75-4005ed76c0ff",
        "id": "ZUNgxKEFexnZ"
      },
      "execution_count": 177,
      "outputs": [
        {
          "output_type": "stream",
          "name": "stderr",
          "text": [
            "<ipython-input-4-dbc8405074f9>:3: FutureWarning: In a future version of pandas all arguments of DataFrame.drop except for the argument 'labels' will be keyword-only\n",
            "  X = data.drop('telomere length (kb)',1)\n"
          ]
        },
        {
          "output_type": "stream",
          "name": "stdout",
          "text": [
            "-----------------------------\n",
            "Test\n",
            "R2 Value Test: 0.7298881368293296\n",
            "MSE Test: 0.016975144994390463\n",
            "MAE Test: 0.10823074305900057\n",
            "MAPE 0.29802554590374153\n",
            "-----------------------------\n"
          ]
        }
      ]
    },
    {
      "cell_type": "code",
      "source": [
        "data(df3,1,6,1000,0.9,0.3)"
      ],
      "metadata": {
        "colab": {
          "base_uri": "https://localhost:8080/"
        },
        "outputId": "203ab36f-c2be-46b0-ae6d-36f92eafea38",
        "id": "GkogywJsexnZ"
      },
      "execution_count": 178,
      "outputs": [
        {
          "output_type": "stream",
          "name": "stderr",
          "text": [
            "<ipython-input-4-dbc8405074f9>:3: FutureWarning: In a future version of pandas all arguments of DataFrame.drop except for the argument 'labels' will be keyword-only\n",
            "  X = data.drop('telomere length (kb)',1)\n"
          ]
        },
        {
          "output_type": "stream",
          "name": "stdout",
          "text": [
            "-----------------------------\n",
            "Test\n",
            "R2 Value Test: 0.7299542167802813\n",
            "MSE Test: 0.016970992208446674\n",
            "MAE Test: 0.10627221318075449\n",
            "MAPE 0.2864194068503578\n",
            "-----------------------------\n"
          ]
        }
      ]
    },
    {
      "cell_type": "code",
      "source": [
        "data(df3,1,6,1000,0.9,0.1)"
      ],
      "metadata": {
        "colab": {
          "base_uri": "https://localhost:8080/"
        },
        "outputId": "ab673ba9-a0e5-44e1-b43e-245c9112a96f",
        "id": "A8cOakF-exnZ"
      },
      "execution_count": 179,
      "outputs": [
        {
          "output_type": "stream",
          "name": "stderr",
          "text": [
            "<ipython-input-4-dbc8405074f9>:3: FutureWarning: In a future version of pandas all arguments of DataFrame.drop except for the argument 'labels' will be keyword-only\n",
            "  X = data.drop('telomere length (kb)',1)\n"
          ]
        },
        {
          "output_type": "stream",
          "name": "stdout",
          "text": [
            "-----------------------------\n",
            "Test\n",
            "R2 Value Test: 0.7245279583857089\n",
            "MSE Test: 0.01731200471320546\n",
            "MAE Test: 0.10639656255872926\n",
            "MAPE 0.29162407769042015\n",
            "-----------------------------\n"
          ]
        }
      ]
    },
    {
      "cell_type": "code",
      "source": [
        "data(df3,1,6,1000,0.9,0.05)"
      ],
      "metadata": {
        "colab": {
          "base_uri": "https://localhost:8080/"
        },
        "outputId": "31f5955d-06e5-490f-c2a5-3e706c382cfe",
        "id": "kfO_fxCdexnZ"
      },
      "execution_count": 180,
      "outputs": [
        {
          "output_type": "stream",
          "name": "stderr",
          "text": [
            "<ipython-input-4-dbc8405074f9>:3: FutureWarning: In a future version of pandas all arguments of DataFrame.drop except for the argument 'labels' will be keyword-only\n",
            "  X = data.drop('telomere length (kb)',1)\n"
          ]
        },
        {
          "output_type": "stream",
          "name": "stdout",
          "text": [
            "-----------------------------\n",
            "Test\n",
            "R2 Value Test: 0.7217654574429213\n",
            "MSE Test: 0.01748561372652499\n",
            "MAE Test: 0.11070315436560246\n",
            "MAPE 0.29765676235494437\n",
            "-----------------------------\n"
          ]
        }
      ]
    },
    {
      "cell_type": "code",
      "source": [
        "data(df3,1,5,100,1,0.3)"
      ],
      "metadata": {
        "colab": {
          "base_uri": "https://localhost:8080/"
        },
        "outputId": "df2bfdd1-5f5b-408c-d217-4d24b8981b64",
        "id": "m_P-DjjLexnZ"
      },
      "execution_count": 181,
      "outputs": [
        {
          "output_type": "stream",
          "name": "stderr",
          "text": [
            "<ipython-input-4-dbc8405074f9>:3: FutureWarning: In a future version of pandas all arguments of DataFrame.drop except for the argument 'labels' will be keyword-only\n",
            "  X = data.drop('telomere length (kb)',1)\n"
          ]
        },
        {
          "output_type": "stream",
          "name": "stdout",
          "text": [
            "-----------------------------\n",
            "Test\n",
            "R2 Value Test: 0.697176560208643\n",
            "MSE Test: 0.019030899782844203\n",
            "MAE Test: 0.11413341465085691\n",
            "MAPE 0.306746696371741\n",
            "-----------------------------\n"
          ]
        }
      ]
    },
    {
      "cell_type": "code",
      "source": [
        "data(df3,1,5,100,1,0.1)"
      ],
      "metadata": {
        "colab": {
          "base_uri": "https://localhost:8080/"
        },
        "outputId": "9fa8ef6b-cfb5-4787-c253-63355ebbd444",
        "id": "9WmVkDF6exnZ"
      },
      "execution_count": 182,
      "outputs": [
        {
          "output_type": "stream",
          "name": "stderr",
          "text": [
            "<ipython-input-4-dbc8405074f9>:3: FutureWarning: In a future version of pandas all arguments of DataFrame.drop except for the argument 'labels' will be keyword-only\n",
            "  X = data.drop('telomere length (kb)',1)\n"
          ]
        },
        {
          "output_type": "stream",
          "name": "stdout",
          "text": [
            "-----------------------------\n",
            "Test\n",
            "R2 Value Test: 0.7063496067115425\n",
            "MSE Test: 0.018454420865557198\n",
            "MAE Test: 0.11385560749589381\n",
            "MAPE 0.30921438664093015\n",
            "-----------------------------\n"
          ]
        }
      ]
    },
    {
      "cell_type": "code",
      "source": [
        "data(df3,1,5,100,1,0.05)"
      ],
      "metadata": {
        "colab": {
          "base_uri": "https://localhost:8080/"
        },
        "outputId": "c0f20483-5fc3-49e2-8d2d-a45f59c90856",
        "id": "XKuLny6YexnZ"
      },
      "execution_count": 183,
      "outputs": [
        {
          "output_type": "stream",
          "name": "stderr",
          "text": [
            "<ipython-input-4-dbc8405074f9>:3: FutureWarning: In a future version of pandas all arguments of DataFrame.drop except for the argument 'labels' will be keyword-only\n",
            "  X = data.drop('telomere length (kb)',1)\n"
          ]
        },
        {
          "output_type": "stream",
          "name": "stdout",
          "text": [
            "-----------------------------\n",
            "Test\n",
            "R2 Value Test: 0.7142870243792958\n",
            "MSE Test: 0.017955594882094136\n",
            "MAE Test: 0.11249975509870813\n",
            "MAPE 0.3103267441950482\n",
            "-----------------------------\n"
          ]
        }
      ]
    },
    {
      "cell_type": "code",
      "source": [
        "data(df3,1,5,100,0.9,0.3)"
      ],
      "metadata": {
        "colab": {
          "base_uri": "https://localhost:8080/"
        },
        "outputId": "c7bc7743-956b-43c9-ca0b-08b03175c3ff",
        "id": "blP-maLkexnZ"
      },
      "execution_count": 184,
      "outputs": [
        {
          "output_type": "stream",
          "name": "stderr",
          "text": [
            "<ipython-input-4-dbc8405074f9>:3: FutureWarning: In a future version of pandas all arguments of DataFrame.drop except for the argument 'labels' will be keyword-only\n",
            "  X = data.drop('telomere length (kb)',1)\n"
          ]
        },
        {
          "output_type": "stream",
          "name": "stdout",
          "text": [
            "-----------------------------\n",
            "Test\n",
            "R2 Value Test: 0.7036616500608543\n",
            "MSE Test: 0.018623345152511732\n",
            "MAE Test: 0.10917248775208896\n",
            "MAPE 0.294909791020079\n",
            "-----------------------------\n"
          ]
        }
      ]
    },
    {
      "cell_type": "code",
      "source": [
        "data(df3,1,5,100,0.9,0.1)"
      ],
      "metadata": {
        "colab": {
          "base_uri": "https://localhost:8080/"
        },
        "outputId": "ef59ea2d-53bf-42f2-ee3c-92e802fe324b",
        "id": "a8EDy38vexnZ"
      },
      "execution_count": 185,
      "outputs": [
        {
          "output_type": "stream",
          "name": "stderr",
          "text": [
            "<ipython-input-4-dbc8405074f9>:3: FutureWarning: In a future version of pandas all arguments of DataFrame.drop except for the argument 'labels' will be keyword-only\n",
            "  X = data.drop('telomere length (kb)',1)\n"
          ]
        },
        {
          "output_type": "stream",
          "name": "stdout",
          "text": [
            "-----------------------------\n",
            "Test\n",
            "R2 Value Test: 0.7098169061975299\n",
            "MSE Test: 0.018236518879236725\n",
            "MAE Test: 0.11261482252973254\n",
            "MAPE 0.31268296382049465\n",
            "-----------------------------\n"
          ]
        }
      ]
    },
    {
      "cell_type": "code",
      "source": [
        "data(df3,1,5,100,0.9,0.05)"
      ],
      "metadata": {
        "colab": {
          "base_uri": "https://localhost:8080/"
        },
        "outputId": "6a0e3e36-f9a4-4d13-9646-3e9f9b0d8511",
        "id": "zlwpSpzEexnZ"
      },
      "execution_count": 186,
      "outputs": [
        {
          "output_type": "stream",
          "name": "stderr",
          "text": [
            "<ipython-input-4-dbc8405074f9>:3: FutureWarning: In a future version of pandas all arguments of DataFrame.drop except for the argument 'labels' will be keyword-only\n",
            "  X = data.drop('telomere length (kb)',1)\n"
          ]
        },
        {
          "output_type": "stream",
          "name": "stdout",
          "text": [
            "-----------------------------\n",
            "Test\n",
            "R2 Value Test: 0.7182123464952387\n",
            "MSE Test: 0.0177089085230218\n",
            "MAE Test: 0.11194212624792506\n",
            "MAPE 0.3021737628569189\n",
            "-----------------------------\n"
          ]
        }
      ]
    },
    {
      "cell_type": "code",
      "source": [
        "data(df3,1,5,1000,1,0.3)"
      ],
      "metadata": {
        "colab": {
          "base_uri": "https://localhost:8080/"
        },
        "outputId": "64a3c5db-bd16-4019-9157-8761ee89409d",
        "id": "xYO8oIiXexnZ"
      },
      "execution_count": 187,
      "outputs": [
        {
          "output_type": "stream",
          "name": "stderr",
          "text": [
            "<ipython-input-4-dbc8405074f9>:3: FutureWarning: In a future version of pandas all arguments of DataFrame.drop except for the argument 'labels' will be keyword-only\n",
            "  X = data.drop('telomere length (kb)',1)\n"
          ]
        },
        {
          "output_type": "stream",
          "name": "stdout",
          "text": [
            "-----------------------------\n",
            "Test\n",
            "R2 Value Test: 0.697176560208643\n",
            "MSE Test: 0.019030899782844203\n",
            "MAE Test: 0.11413341465085691\n",
            "MAPE 0.306746696371741\n",
            "-----------------------------\n"
          ]
        }
      ]
    },
    {
      "cell_type": "code",
      "source": [
        "data(df3,1,5,1000,1,0.1)"
      ],
      "metadata": {
        "colab": {
          "base_uri": "https://localhost:8080/"
        },
        "outputId": "ce9bd046-1fad-416b-93df-45411e2f29c8",
        "id": "FBxbWQkGexnZ"
      },
      "execution_count": 188,
      "outputs": [
        {
          "output_type": "stream",
          "name": "stderr",
          "text": [
            "<ipython-input-4-dbc8405074f9>:3: FutureWarning: In a future version of pandas all arguments of DataFrame.drop except for the argument 'labels' will be keyword-only\n",
            "  X = data.drop('telomere length (kb)',1)\n"
          ]
        },
        {
          "output_type": "stream",
          "name": "stdout",
          "text": [
            "-----------------------------\n",
            "Test\n",
            "R2 Value Test: 0.7063051552058817\n",
            "MSE Test: 0.018457214414662942\n",
            "MAE Test: 0.11381265946523743\n",
            "MAPE 0.3090399024958243\n",
            "-----------------------------\n"
          ]
        }
      ]
    },
    {
      "cell_type": "code",
      "source": [
        "data(df3,1,5,1000,1,0.05)"
      ],
      "metadata": {
        "colab": {
          "base_uri": "https://localhost:8080/"
        },
        "outputId": "80fe5634-87ed-4d97-c6ff-121e1a85f2e7",
        "id": "_ja8Wi3Uexna"
      },
      "execution_count": 189,
      "outputs": [
        {
          "output_type": "stream",
          "name": "stderr",
          "text": [
            "<ipython-input-4-dbc8405074f9>:3: FutureWarning: In a future version of pandas all arguments of DataFrame.drop except for the argument 'labels' will be keyword-only\n",
            "  X = data.drop('telomere length (kb)',1)\n"
          ]
        },
        {
          "output_type": "stream",
          "name": "stdout",
          "text": [
            "-----------------------------\n",
            "Test\n",
            "R2 Value Test: 0.713354596592823\n",
            "MSE Test: 0.01801419318535405\n",
            "MAE Test: 0.11243858150586382\n",
            "MAPE 0.3080928448528595\n",
            "-----------------------------\n"
          ]
        }
      ]
    },
    {
      "cell_type": "code",
      "source": [
        "data(df3,1,5,1000,0.9,0.3)"
      ],
      "metadata": {
        "colab": {
          "base_uri": "https://localhost:8080/"
        },
        "outputId": "7b3cddde-fe7b-4e62-f067-c922911bc6c6",
        "id": "TqbxociRexna"
      },
      "execution_count": 190,
      "outputs": [
        {
          "output_type": "stream",
          "name": "stderr",
          "text": [
            "<ipython-input-4-dbc8405074f9>:3: FutureWarning: In a future version of pandas all arguments of DataFrame.drop except for the argument 'labels' will be keyword-only\n",
            "  X = data.drop('telomere length (kb)',1)\n"
          ]
        },
        {
          "output_type": "stream",
          "name": "stdout",
          "text": [
            "-----------------------------\n",
            "Test\n",
            "R2 Value Test: 0.7036616500608543\n",
            "MSE Test: 0.018623345152511732\n",
            "MAE Test: 0.10917248775208896\n",
            "MAPE 0.294909791020079\n",
            "-----------------------------\n"
          ]
        }
      ]
    },
    {
      "cell_type": "code",
      "source": [
        "data(df3,1,5,1000,0.9,0.1)"
      ],
      "metadata": {
        "colab": {
          "base_uri": "https://localhost:8080/"
        },
        "outputId": "11d25709-a000-4b70-b33b-e5f45ec504d0",
        "id": "b2AWH_Kgexna"
      },
      "execution_count": 191,
      "outputs": [
        {
          "output_type": "stream",
          "name": "stderr",
          "text": [
            "<ipython-input-4-dbc8405074f9>:3: FutureWarning: In a future version of pandas all arguments of DataFrame.drop except for the argument 'labels' will be keyword-only\n",
            "  X = data.drop('telomere length (kb)',1)\n"
          ]
        },
        {
          "output_type": "stream",
          "name": "stdout",
          "text": [
            "-----------------------------\n",
            "Test\n",
            "R2 Value Test: 0.7099929823397264\n",
            "MSE Test: 0.01822545339692598\n",
            "MAE Test: 0.11253915924001637\n",
            "MAPE 0.3124855094119042\n",
            "-----------------------------\n"
          ]
        }
      ]
    },
    {
      "cell_type": "code",
      "source": [
        "data(df3,1,5,1000,0.9,0.05)"
      ],
      "metadata": {
        "colab": {
          "base_uri": "https://localhost:8080/"
        },
        "outputId": "fca8bca9-434c-4509-dd22-6a6322e10d1c",
        "id": "lus8spugexna"
      },
      "execution_count": 192,
      "outputs": [
        {
          "output_type": "stream",
          "name": "stderr",
          "text": [
            "<ipython-input-4-dbc8405074f9>:3: FutureWarning: In a future version of pandas all arguments of DataFrame.drop except for the argument 'labels' will be keyword-only\n",
            "  X = data.drop('telomere length (kb)',1)\n"
          ]
        },
        {
          "output_type": "stream",
          "name": "stdout",
          "text": [
            "-----------------------------\n",
            "Test\n",
            "R2 Value Test: 0.7195274125316429\n",
            "MSE Test: 0.01762626336859164\n",
            "MAE Test: 0.11161981509266737\n",
            "MAPE 0.29835368697141823\n",
            "-----------------------------\n"
          ]
        }
      ]
    },
    {
      "cell_type": "code",
      "source": [
        "data(df3,1,10,100,1,0.3)"
      ],
      "metadata": {
        "colab": {
          "base_uri": "https://localhost:8080/"
        },
        "outputId": "858341f7-0dc5-4ab4-a9f9-87c74631787a",
        "id": "xOH61QeKexna"
      },
      "execution_count": 193,
      "outputs": [
        {
          "output_type": "stream",
          "name": "stderr",
          "text": [
            "<ipython-input-4-dbc8405074f9>:3: FutureWarning: In a future version of pandas all arguments of DataFrame.drop except for the argument 'labels' will be keyword-only\n",
            "  X = data.drop('telomere length (kb)',1)\n"
          ]
        },
        {
          "output_type": "stream",
          "name": "stdout",
          "text": [
            "-----------------------------\n",
            "Test\n",
            "R2 Value Test: 0.7321924443955277\n",
            "MSE Test: 0.01683033108437286\n",
            "MAE Test: 0.10711985283078693\n",
            "MAPE 0.29437941711297594\n",
            "-----------------------------\n"
          ]
        }
      ]
    },
    {
      "cell_type": "code",
      "source": [
        "data(df3,1,10,100,1,0.1)"
      ],
      "metadata": {
        "colab": {
          "base_uri": "https://localhost:8080/"
        },
        "outputId": "a9382937-c77d-45f3-a023-8f111b0ac789",
        "id": "nQAkY9ejexna"
      },
      "execution_count": 194,
      "outputs": [
        {
          "output_type": "stream",
          "name": "stderr",
          "text": [
            "<ipython-input-4-dbc8405074f9>:3: FutureWarning: In a future version of pandas all arguments of DataFrame.drop except for the argument 'labels' will be keyword-only\n",
            "  X = data.drop('telomere length (kb)',1)\n"
          ]
        },
        {
          "output_type": "stream",
          "name": "stdout",
          "text": [
            "-----------------------------\n",
            "Test\n",
            "R2 Value Test: 0.7270215253336827\n",
            "MSE Test: 0.017155296821896267\n",
            "MAE Test: 0.10860813474052321\n",
            "MAPE 0.2969893093514935\n",
            "-----------------------------\n"
          ]
        }
      ]
    },
    {
      "cell_type": "code",
      "source": [
        "data(df3,1,10,100,1,0.05)"
      ],
      "metadata": {
        "colab": {
          "base_uri": "https://localhost:8080/"
        },
        "outputId": "33a9322b-e6f3-4eda-ffa2-3efa2792b115",
        "id": "MSdLIcdcexna"
      },
      "execution_count": 195,
      "outputs": [
        {
          "output_type": "stream",
          "name": "stderr",
          "text": [
            "<ipython-input-4-dbc8405074f9>:3: FutureWarning: In a future version of pandas all arguments of DataFrame.drop except for the argument 'labels' will be keyword-only\n",
            "  X = data.drop('telomere length (kb)',1)\n"
          ]
        },
        {
          "output_type": "stream",
          "name": "stdout",
          "text": [
            "-----------------------------\n",
            "Test\n",
            "R2 Value Test: 0.7346528467616412\n",
            "MSE Test: 0.01667570741690762\n",
            "MAE Test: 0.10830552351834825\n",
            "MAPE 0.3032673694626658\n",
            "-----------------------------\n"
          ]
        }
      ]
    },
    {
      "cell_type": "code",
      "source": [
        "data(df3,1,10,100,0.9,0.3)"
      ],
      "metadata": {
        "colab": {
          "base_uri": "https://localhost:8080/"
        },
        "outputId": "4caa70bb-de64-4dab-f2ea-c2daf6888db3",
        "id": "zq9l1ywqexna"
      },
      "execution_count": 196,
      "outputs": [
        {
          "output_type": "stream",
          "name": "stderr",
          "text": [
            "<ipython-input-4-dbc8405074f9>:3: FutureWarning: In a future version of pandas all arguments of DataFrame.drop except for the argument 'labels' will be keyword-only\n",
            "  X = data.drop('telomere length (kb)',1)\n"
          ]
        },
        {
          "output_type": "stream",
          "name": "stdout",
          "text": [
            "-----------------------------\n",
            "Test\n",
            "R2 Value Test: 0.7120053580898004\n",
            "MSE Test: 0.018098985904015027\n",
            "MAE Test: 0.1098826131841997\n",
            "MAPE 0.289102428249853\n",
            "-----------------------------\n"
          ]
        }
      ]
    },
    {
      "cell_type": "code",
      "source": [
        "data(df3,1,10,100,0.9,0.1)"
      ],
      "metadata": {
        "colab": {
          "base_uri": "https://localhost:8080/"
        },
        "outputId": "f569d1a4-b9ec-4005-bdd4-32799e9f09ac",
        "id": "6wNEM_PGexna"
      },
      "execution_count": 197,
      "outputs": [
        {
          "output_type": "stream",
          "name": "stderr",
          "text": [
            "<ipython-input-4-dbc8405074f9>:3: FutureWarning: In a future version of pandas all arguments of DataFrame.drop except for the argument 'labels' will be keyword-only\n",
            "  X = data.drop('telomere length (kb)',1)\n"
          ]
        },
        {
          "output_type": "stream",
          "name": "stdout",
          "text": [
            "-----------------------------\n",
            "Test\n",
            "R2 Value Test: 0.7328451815887056\n",
            "MSE Test: 0.01678930990015917\n",
            "MAE Test: 0.10688047163692725\n",
            "MAPE 0.2924870057093147\n",
            "-----------------------------\n"
          ]
        }
      ]
    },
    {
      "cell_type": "code",
      "source": [
        "data(df3,1,10,100,0.9,0.05)"
      ],
      "metadata": {
        "colab": {
          "base_uri": "https://localhost:8080/"
        },
        "outputId": "cbbff590-9876-4ea3-d5ed-01d09e123493",
        "id": "WTl18mtHexna"
      },
      "execution_count": 198,
      "outputs": [
        {
          "output_type": "stream",
          "name": "stderr",
          "text": [
            "<ipython-input-4-dbc8405074f9>:3: FutureWarning: In a future version of pandas all arguments of DataFrame.drop except for the argument 'labels' will be keyword-only\n",
            "  X = data.drop('telomere length (kb)',1)\n"
          ]
        },
        {
          "output_type": "stream",
          "name": "stdout",
          "text": [
            "-----------------------------\n",
            "Test\n",
            "R2 Value Test: 0.7257205584064874\n",
            "MSE Test: 0.017237055919637527\n",
            "MAE Test: 0.109518171778398\n",
            "MAPE 0.3104652370715092\n",
            "-----------------------------\n"
          ]
        }
      ]
    },
    {
      "cell_type": "code",
      "source": [
        "data(df3,1,10,1000,1,0.3)"
      ],
      "metadata": {
        "colab": {
          "base_uri": "https://localhost:8080/"
        },
        "outputId": "62b0e794-28c7-44d9-92bc-e988abb7f75e",
        "id": "J4JfFIziexna"
      },
      "execution_count": 199,
      "outputs": [
        {
          "output_type": "stream",
          "name": "stderr",
          "text": [
            "<ipython-input-4-dbc8405074f9>:3: FutureWarning: In a future version of pandas all arguments of DataFrame.drop except for the argument 'labels' will be keyword-only\n",
            "  X = data.drop('telomere length (kb)',1)\n"
          ]
        },
        {
          "output_type": "stream",
          "name": "stdout",
          "text": [
            "-----------------------------\n",
            "Test\n",
            "R2 Value Test: 0.7321924443955277\n",
            "MSE Test: 0.01683033108437286\n",
            "MAE Test: 0.10711985283078693\n",
            "MAPE 0.29437941711297594\n",
            "-----------------------------\n"
          ]
        }
      ]
    },
    {
      "cell_type": "code",
      "source": [
        "data(df3,1,10,1000,1,0.1)"
      ],
      "metadata": {
        "colab": {
          "base_uri": "https://localhost:8080/"
        },
        "outputId": "0c172116-2e40-491d-8e08-93f1782f91c4",
        "id": "hAxI479hexnb"
      },
      "execution_count": 200,
      "outputs": [
        {
          "output_type": "stream",
          "name": "stderr",
          "text": [
            "<ipython-input-4-dbc8405074f9>:3: FutureWarning: In a future version of pandas all arguments of DataFrame.drop except for the argument 'labels' will be keyword-only\n",
            "  X = data.drop('telomere length (kb)',1)\n"
          ]
        },
        {
          "output_type": "stream",
          "name": "stdout",
          "text": [
            "-----------------------------\n",
            "Test\n",
            "R2 Value Test: 0.7270245813436975\n",
            "MSE Test: 0.017155104767343398\n",
            "MAE Test: 0.10860993537761457\n",
            "MAPE 0.2969668165717677\n",
            "-----------------------------\n"
          ]
        }
      ]
    },
    {
      "cell_type": "code",
      "source": [
        "data(df3,1,10,1000,1,0.05)"
      ],
      "metadata": {
        "colab": {
          "base_uri": "https://localhost:8080/"
        },
        "outputId": "5e461580-f383-4c96-a3bb-f1544bfb5c3b",
        "id": "V1z-V1vFexnb"
      },
      "execution_count": 201,
      "outputs": [
        {
          "output_type": "stream",
          "name": "stderr",
          "text": [
            "<ipython-input-4-dbc8405074f9>:3: FutureWarning: In a future version of pandas all arguments of DataFrame.drop except for the argument 'labels' will be keyword-only\n",
            "  X = data.drop('telomere length (kb)',1)\n"
          ]
        },
        {
          "output_type": "stream",
          "name": "stdout",
          "text": [
            "-----------------------------\n",
            "Test\n",
            "R2 Value Test: 0.7345451525228697\n",
            "MSE Test: 0.016682475447370074\n",
            "MAE Test: 0.10837199519502091\n",
            "MAPE 0.3017219281411422\n",
            "-----------------------------\n"
          ]
        }
      ]
    },
    {
      "cell_type": "code",
      "source": [
        "data(df3,1,10,1000,0.9,0.3)"
      ],
      "metadata": {
        "colab": {
          "base_uri": "https://localhost:8080/"
        },
        "outputId": "c2832b93-9731-4a79-ff23-68574b4706f8",
        "id": "x9nOzbW2exnb"
      },
      "execution_count": 202,
      "outputs": [
        {
          "output_type": "stream",
          "name": "stderr",
          "text": [
            "<ipython-input-4-dbc8405074f9>:3: FutureWarning: In a future version of pandas all arguments of DataFrame.drop except for the argument 'labels' will be keyword-only\n",
            "  X = data.drop('telomere length (kb)',1)\n"
          ]
        },
        {
          "output_type": "stream",
          "name": "stdout",
          "text": [
            "-----------------------------\n",
            "Test\n",
            "R2 Value Test: 0.7120053580898004\n",
            "MSE Test: 0.018098985904015027\n",
            "MAE Test: 0.1098826131841997\n",
            "MAPE 0.289102428249853\n",
            "-----------------------------\n"
          ]
        }
      ]
    },
    {
      "cell_type": "code",
      "source": [
        "data(df3,1,10,1000,0.9,0.1)"
      ],
      "metadata": {
        "colab": {
          "base_uri": "https://localhost:8080/"
        },
        "outputId": "fd30d9b1-f911-44b6-c09d-fea12c55ebe3",
        "id": "ecQXM8tIexnb"
      },
      "execution_count": 203,
      "outputs": [
        {
          "output_type": "stream",
          "name": "stderr",
          "text": [
            "<ipython-input-4-dbc8405074f9>:3: FutureWarning: In a future version of pandas all arguments of DataFrame.drop except for the argument 'labels' will be keyword-only\n",
            "  X = data.drop('telomere length (kb)',1)\n"
          ]
        },
        {
          "output_type": "stream",
          "name": "stdout",
          "text": [
            "-----------------------------\n",
            "Test\n",
            "R2 Value Test: 0.7328447929474824\n",
            "MSE Test: 0.016789334324266422\n",
            "MAE Test: 0.10688530778475859\n",
            "MAPE 0.2924904995603782\n",
            "-----------------------------\n"
          ]
        }
      ]
    },
    {
      "cell_type": "code",
      "source": [
        "data(df3,1,10,1000,0.9,0.05)"
      ],
      "metadata": {
        "colab": {
          "base_uri": "https://localhost:8080/"
        },
        "outputId": "966f6dfe-0649-4a7c-c109-43fff1ff972a",
        "id": "uo9in4NCexnb"
      },
      "execution_count": 204,
      "outputs": [
        {
          "output_type": "stream",
          "name": "stderr",
          "text": [
            "<ipython-input-4-dbc8405074f9>:3: FutureWarning: In a future version of pandas all arguments of DataFrame.drop except for the argument 'labels' will be keyword-only\n",
            "  X = data.drop('telomere length (kb)',1)\n"
          ]
        },
        {
          "output_type": "stream",
          "name": "stdout",
          "text": [
            "-----------------------------\n",
            "Test\n",
            "R2 Value Test: 0.7265826220986187\n",
            "MSE Test: 0.017182879638756886\n",
            "MAE Test: 0.10913981213468249\n",
            "MAPE 0.30757486803312245\n",
            "-----------------------------\n"
          ]
        }
      ]
    },
    {
      "cell_type": "code",
      "source": [
        "data(df3,0.5,6,100,1,0.3)"
      ],
      "metadata": {
        "colab": {
          "base_uri": "https://localhost:8080/"
        },
        "outputId": "57e2c2d6-cfd1-4ab1-c1e1-c73907b2668b",
        "id": "6j5SnYPeexnb"
      },
      "execution_count": 205,
      "outputs": [
        {
          "output_type": "stream",
          "name": "stderr",
          "text": [
            "<ipython-input-4-dbc8405074f9>:3: FutureWarning: In a future version of pandas all arguments of DataFrame.drop except for the argument 'labels' will be keyword-only\n",
            "  X = data.drop('telomere length (kb)',1)\n"
          ]
        },
        {
          "output_type": "stream",
          "name": "stdout",
          "text": [
            "-----------------------------\n",
            "Test\n",
            "R2 Value Test: 0.7023350312065657\n",
            "MSE Test: 0.018706716342282888\n",
            "MAE Test: 0.11614391738613423\n",
            "MAPE 0.3068233263948344\n",
            "-----------------------------\n"
          ]
        }
      ]
    },
    {
      "cell_type": "code",
      "source": [
        "data(df3,0.5,6,100,1,0.1)"
      ],
      "metadata": {
        "colab": {
          "base_uri": "https://localhost:8080/"
        },
        "outputId": "dde92f12-c5e4-49ad-a795-d086d3e0936a",
        "id": "f5rn95OYexnb"
      },
      "execution_count": 206,
      "outputs": [
        {
          "output_type": "stream",
          "name": "stderr",
          "text": [
            "<ipython-input-4-dbc8405074f9>:3: FutureWarning: In a future version of pandas all arguments of DataFrame.drop except for the argument 'labels' will be keyword-only\n",
            "  X = data.drop('telomere length (kb)',1)\n"
          ]
        },
        {
          "output_type": "stream",
          "name": "stdout",
          "text": [
            "-----------------------------\n",
            "Test\n",
            "R2 Value Test: 0.6999763996597881\n",
            "MSE Test: 0.018854944235811567\n",
            "MAE Test: 0.11492108913649954\n",
            "MAPE 0.3007242321250663\n",
            "-----------------------------\n"
          ]
        }
      ]
    },
    {
      "cell_type": "code",
      "source": [
        "data(df3,0.5,6,100,1,0.05)"
      ],
      "metadata": {
        "colab": {
          "base_uri": "https://localhost:8080/"
        },
        "outputId": "b3211c41-8d7a-4a50-bbe5-6a85f47907b5",
        "id": "m_8Nyniaexnb"
      },
      "execution_count": 207,
      "outputs": [
        {
          "output_type": "stream",
          "name": "stderr",
          "text": [
            "<ipython-input-4-dbc8405074f9>:3: FutureWarning: In a future version of pandas all arguments of DataFrame.drop except for the argument 'labels' will be keyword-only\n",
            "  X = data.drop('telomere length (kb)',1)\n"
          ]
        },
        {
          "output_type": "stream",
          "name": "stdout",
          "text": [
            "-----------------------------\n",
            "Test\n",
            "R2 Value Test: 0.7195716528114368\n",
            "MSE Test: 0.017623483093948095\n",
            "MAE Test: 0.11118343830888958\n",
            "MAPE 0.31807398869208314\n",
            "-----------------------------\n"
          ]
        }
      ]
    },
    {
      "cell_type": "code",
      "source": [
        "data(df3,0.5,6,100,0.9,0.3)"
      ],
      "metadata": {
        "colab": {
          "base_uri": "https://localhost:8080/"
        },
        "outputId": "75fbe2f4-bc93-4589-b4ee-e6400415e047",
        "id": "LRZnHIt0exnb"
      },
      "execution_count": 208,
      "outputs": [
        {
          "output_type": "stream",
          "name": "stderr",
          "text": [
            "<ipython-input-4-dbc8405074f9>:3: FutureWarning: In a future version of pandas all arguments of DataFrame.drop except for the argument 'labels' will be keyword-only\n",
            "  X = data.drop('telomere length (kb)',1)\n"
          ]
        },
        {
          "output_type": "stream",
          "name": "stdout",
          "text": [
            "-----------------------------\n",
            "Test\n",
            "R2 Value Test: 0.643408496907291\n",
            "MSE Test: 0.022409946744699833\n",
            "MAE Test: 0.1273324461772565\n",
            "MAPE 0.3035673795048613\n",
            "-----------------------------\n"
          ]
        }
      ]
    },
    {
      "cell_type": "code",
      "source": [
        "data(df3,0.5,6,100,0.9,0.1)"
      ],
      "metadata": {
        "colab": {
          "base_uri": "https://localhost:8080/"
        },
        "outputId": "9c32feff-9bda-4d56-86b6-b698354e91e7",
        "id": "odF1ghf5exnc"
      },
      "execution_count": 209,
      "outputs": [
        {
          "output_type": "stream",
          "name": "stderr",
          "text": [
            "<ipython-input-4-dbc8405074f9>:3: FutureWarning: In a future version of pandas all arguments of DataFrame.drop except for the argument 'labels' will be keyword-only\n",
            "  X = data.drop('telomere length (kb)',1)\n"
          ]
        },
        {
          "output_type": "stream",
          "name": "stdout",
          "text": [
            "-----------------------------\n",
            "Test\n",
            "R2 Value Test: 0.7139926475265144\n",
            "MSE Test: 0.017974094957212278\n",
            "MAE Test: 0.11288550524661835\n",
            "MAPE 0.3177896365087629\n",
            "-----------------------------\n"
          ]
        }
      ]
    },
    {
      "cell_type": "code",
      "source": [
        "data(df3,0.5,5,100,0.9,0.05)"
      ],
      "metadata": {
        "colab": {
          "base_uri": "https://localhost:8080/"
        },
        "outputId": "92b66315-b8be-448a-bcbb-f890fb3ebe2b",
        "id": "uT16Qdlsexnc"
      },
      "execution_count": 210,
      "outputs": [
        {
          "output_type": "stream",
          "name": "stderr",
          "text": [
            "<ipython-input-4-dbc8405074f9>:3: FutureWarning: In a future version of pandas all arguments of DataFrame.drop except for the argument 'labels' will be keyword-only\n",
            "  X = data.drop('telomere length (kb)',1)\n"
          ]
        },
        {
          "output_type": "stream",
          "name": "stdout",
          "text": [
            "-----------------------------\n",
            "Test\n",
            "R2 Value Test: 0.7261908239204132\n",
            "MSE Test: 0.01720750214443104\n",
            "MAE Test: 0.10639857689940797\n",
            "MAPE 0.2973528079277303\n",
            "-----------------------------\n"
          ]
        }
      ]
    },
    {
      "cell_type": "code",
      "source": [
        "data(df3,0.5,6,1000,1,0.3)"
      ],
      "metadata": {
        "colab": {
          "base_uri": "https://localhost:8080/"
        },
        "outputId": "53080c81-1351-482e-bd90-e94b09291df5",
        "id": "BIbgnP_Sexnc"
      },
      "execution_count": 211,
      "outputs": [
        {
          "output_type": "stream",
          "name": "stderr",
          "text": [
            "<ipython-input-4-dbc8405074f9>:3: FutureWarning: In a future version of pandas all arguments of DataFrame.drop except for the argument 'labels' will be keyword-only\n",
            "  X = data.drop('telomere length (kb)',1)\n"
          ]
        },
        {
          "output_type": "stream",
          "name": "stdout",
          "text": [
            "-----------------------------\n",
            "Test\n",
            "R2 Value Test: 0.7024595287728899\n",
            "MSE Test: 0.018698892308880603\n",
            "MAE Test: 0.11611926365528032\n",
            "MAPE 0.3066768581546763\n",
            "-----------------------------\n"
          ]
        }
      ]
    },
    {
      "cell_type": "code",
      "source": [
        "data(df3,0.5,6,1000,1,0.1)"
      ],
      "metadata": {
        "colab": {
          "base_uri": "https://localhost:8080/"
        },
        "outputId": "604fd253-e6b6-460f-9ef8-83e0227891bb",
        "id": "SK9X8numexnc"
      },
      "execution_count": 212,
      "outputs": [
        {
          "output_type": "stream",
          "name": "stderr",
          "text": [
            "<ipython-input-4-dbc8405074f9>:3: FutureWarning: In a future version of pandas all arguments of DataFrame.drop except for the argument 'labels' will be keyword-only\n",
            "  X = data.drop('telomere length (kb)',1)\n"
          ]
        },
        {
          "output_type": "stream",
          "name": "stdout",
          "text": [
            "-----------------------------\n",
            "Test\n",
            "R2 Value Test: 0.6970341037174762\n",
            "MSE Test: 0.01903985244254809\n",
            "MAE Test: 0.1151286935563001\n",
            "MAPE 0.30074463136024676\n",
            "-----------------------------\n"
          ]
        }
      ]
    },
    {
      "cell_type": "code",
      "source": [
        "data(df3,0.5,6,1000,1,0.05)"
      ],
      "metadata": {
        "colab": {
          "base_uri": "https://localhost:8080/"
        },
        "outputId": "935132a3-d1a0-41f8-ba90-273ef292f6e8",
        "id": "FS1fPeQqexnc"
      },
      "execution_count": 213,
      "outputs": [
        {
          "output_type": "stream",
          "name": "stderr",
          "text": [
            "<ipython-input-4-dbc8405074f9>:3: FutureWarning: In a future version of pandas all arguments of DataFrame.drop except for the argument 'labels' will be keyword-only\n",
            "  X = data.drop('telomere length (kb)',1)\n"
          ]
        },
        {
          "output_type": "stream",
          "name": "stdout",
          "text": [
            "-----------------------------\n",
            "Test\n",
            "R2 Value Test: 0.7210604827614675\n",
            "MSE Test: 0.017529917768911656\n",
            "MAE Test: 0.1113562149358202\n",
            "MAPE 0.31212201722357485\n",
            "-----------------------------\n"
          ]
        }
      ]
    },
    {
      "cell_type": "code",
      "source": [
        "data(df3,0.5,6,1000,0.9,0.3)"
      ],
      "metadata": {
        "colab": {
          "base_uri": "https://localhost:8080/"
        },
        "outputId": "086142a3-6e32-498d-9504-3bc1bba748a2",
        "id": "mcZ2JuHLexnc"
      },
      "execution_count": 214,
      "outputs": [
        {
          "output_type": "stream",
          "name": "stderr",
          "text": [
            "<ipython-input-4-dbc8405074f9>:3: FutureWarning: In a future version of pandas all arguments of DataFrame.drop except for the argument 'labels' will be keyword-only\n",
            "  X = data.drop('telomere length (kb)',1)\n"
          ]
        },
        {
          "output_type": "stream",
          "name": "stdout",
          "text": [
            "-----------------------------\n",
            "Test\n",
            "R2 Value Test: 0.6435065918035867\n",
            "MSE Test: 0.02240378198366978\n",
            "MAE Test: 0.12730371193164858\n",
            "MAPE 0.30344340813205084\n",
            "-----------------------------\n"
          ]
        }
      ]
    },
    {
      "cell_type": "code",
      "source": [
        "data(df3,0.5,6,1000,0.9,0.1)"
      ],
      "metadata": {
        "colab": {
          "base_uri": "https://localhost:8080/"
        },
        "outputId": "0222ca1c-2379-4d2d-cabc-8e540b9fb434",
        "id": "Kn53ArVeexnc"
      },
      "execution_count": 215,
      "outputs": [
        {
          "output_type": "stream",
          "name": "stderr",
          "text": [
            "<ipython-input-4-dbc8405074f9>:3: FutureWarning: In a future version of pandas all arguments of DataFrame.drop except for the argument 'labels' will be keyword-only\n",
            "  X = data.drop('telomere length (kb)',1)\n"
          ]
        },
        {
          "output_type": "stream",
          "name": "stdout",
          "text": [
            "-----------------------------\n",
            "Test\n",
            "R2 Value Test: 0.7158277985940544\n",
            "MSE Test: 0.01785876512648055\n",
            "MAE Test: 0.11227371403967398\n",
            "MAPE 0.3153473340291629\n",
            "-----------------------------\n"
          ]
        }
      ]
    },
    {
      "cell_type": "code",
      "source": [
        "data(df3,0.5,6,1000,0.9,0.05)"
      ],
      "metadata": {
        "colab": {
          "base_uri": "https://localhost:8080/"
        },
        "outputId": "73451d0a-77f9-4449-e94c-cbd6ac732423",
        "id": "d06uWix6exnc"
      },
      "execution_count": 216,
      "outputs": [
        {
          "output_type": "stream",
          "name": "stderr",
          "text": [
            "<ipython-input-4-dbc8405074f9>:3: FutureWarning: In a future version of pandas all arguments of DataFrame.drop except for the argument 'labels' will be keyword-only\n",
            "  X = data.drop('telomere length (kb)',1)\n"
          ]
        },
        {
          "output_type": "stream",
          "name": "stdout",
          "text": [
            "-----------------------------\n",
            "Test\n",
            "R2 Value Test: 0.7129906261945675\n",
            "MSE Test: 0.018037066857807853\n",
            "MAE Test: 0.1102088536597649\n",
            "MAPE 0.31083892884454\n",
            "-----------------------------\n"
          ]
        }
      ]
    },
    {
      "cell_type": "code",
      "source": [
        "data(df3,0.5,5,100,1,0.3)"
      ],
      "metadata": {
        "colab": {
          "base_uri": "https://localhost:8080/"
        },
        "outputId": "05b82f12-15c7-4336-991d-6dfbb58ab90c",
        "id": "M79IeMMDexnc"
      },
      "execution_count": 217,
      "outputs": [
        {
          "output_type": "stream",
          "name": "stderr",
          "text": [
            "<ipython-input-4-dbc8405074f9>:3: FutureWarning: In a future version of pandas all arguments of DataFrame.drop except for the argument 'labels' will be keyword-only\n",
            "  X = data.drop('telomere length (kb)',1)\n"
          ]
        },
        {
          "output_type": "stream",
          "name": "stdout",
          "text": [
            "-----------------------------\n",
            "Test\n",
            "R2 Value Test: 0.7113141875328142\n",
            "MSE Test: 0.018142422427990582\n",
            "MAE Test: 0.10829434254609703\n",
            "MAPE 0.26686632543326416\n",
            "-----------------------------\n"
          ]
        }
      ]
    },
    {
      "cell_type": "code",
      "source": [
        "data(df3,0.5,5,100,1,0.1)"
      ],
      "metadata": {
        "colab": {
          "base_uri": "https://localhost:8080/"
        },
        "outputId": "7ce61f3f-603d-4dbe-d309-68e90a808f2c",
        "id": "6SFC9co1exnc"
      },
      "execution_count": 218,
      "outputs": [
        {
          "output_type": "stream",
          "name": "stderr",
          "text": [
            "<ipython-input-4-dbc8405074f9>:3: FutureWarning: In a future version of pandas all arguments of DataFrame.drop except for the argument 'labels' will be keyword-only\n",
            "  X = data.drop('telomere length (kb)',1)\n"
          ]
        },
        {
          "output_type": "stream",
          "name": "stdout",
          "text": [
            "-----------------------------\n",
            "Test\n",
            "R2 Value Test: 0.7310977195321193\n",
            "MSE Test: 0.01689912892637501\n",
            "MAE Test: 0.10995854587676114\n",
            "MAPE 0.30376963294739373\n",
            "-----------------------------\n"
          ]
        }
      ]
    },
    {
      "cell_type": "code",
      "source": [
        "data(df3,0.5,5,100,1,0.05)"
      ],
      "metadata": {
        "colab": {
          "base_uri": "https://localhost:8080/"
        },
        "outputId": "b2fcecbe-8326-40a8-91c6-b6ed0d77eb1f",
        "id": "OEDkJaw-exnc"
      },
      "execution_count": 219,
      "outputs": [
        {
          "output_type": "stream",
          "name": "stderr",
          "text": [
            "<ipython-input-4-dbc8405074f9>:3: FutureWarning: In a future version of pandas all arguments of DataFrame.drop except for the argument 'labels' will be keyword-only\n",
            "  X = data.drop('telomere length (kb)',1)\n"
          ]
        },
        {
          "output_type": "stream",
          "name": "stdout",
          "text": [
            "-----------------------------\n",
            "Test\n",
            "R2 Value Test: 0.7212654447897033\n",
            "MSE Test: 0.017517036956840655\n",
            "MAE Test: 0.10988020662690412\n",
            "MAPE 0.325823272704138\n",
            "-----------------------------\n"
          ]
        }
      ]
    },
    {
      "cell_type": "code",
      "source": [
        "data(df3,0.5,5,100,0.9,0.3)"
      ],
      "metadata": {
        "colab": {
          "base_uri": "https://localhost:8080/"
        },
        "outputId": "9c125ebb-0efa-4736-d37b-6d68a026aa3a",
        "id": "w2UfCuDkexnc"
      },
      "execution_count": 220,
      "outputs": [
        {
          "output_type": "stream",
          "name": "stderr",
          "text": [
            "<ipython-input-4-dbc8405074f9>:3: FutureWarning: In a future version of pandas all arguments of DataFrame.drop except for the argument 'labels' will be keyword-only\n",
            "  X = data.drop('telomere length (kb)',1)\n"
          ]
        },
        {
          "output_type": "stream",
          "name": "stdout",
          "text": [
            "-----------------------------\n",
            "Test\n",
            "R2 Value Test: 0.74155243379397\n",
            "MSE Test: 0.016242103765071\n",
            "MAE Test: 0.10157147895369771\n",
            "MAPE 0.2592430941107611\n",
            "-----------------------------\n"
          ]
        }
      ]
    },
    {
      "cell_type": "code",
      "source": [
        "data(df3,0.5,5,100,0.9,0.1)"
      ],
      "metadata": {
        "colab": {
          "base_uri": "https://localhost:8080/"
        },
        "outputId": "ef5b4921-cbf1-47ae-fc97-c488770b0b51",
        "id": "2JJFOCtWexnd"
      },
      "execution_count": 221,
      "outputs": [
        {
          "output_type": "stream",
          "name": "stderr",
          "text": [
            "<ipython-input-4-dbc8405074f9>:3: FutureWarning: In a future version of pandas all arguments of DataFrame.drop except for the argument 'labels' will be keyword-only\n",
            "  X = data.drop('telomere length (kb)',1)\n"
          ]
        },
        {
          "output_type": "stream",
          "name": "stdout",
          "text": [
            "-----------------------------\n",
            "Test\n",
            "R2 Value Test: 0.7337828570108251\n",
            "MSE Test: 0.016730381809917916\n",
            "MAE Test: 0.10843266808997887\n",
            "MAPE 0.2924524395777965\n",
            "-----------------------------\n"
          ]
        }
      ]
    },
    {
      "cell_type": "code",
      "source": [
        "data(df3,0.5,5,100,0.9,0.05)"
      ],
      "metadata": {
        "colab": {
          "base_uri": "https://localhost:8080/"
        },
        "outputId": "dd9069e4-350a-4ac5-c3de-4d5880e563f6",
        "id": "A2WFyhCZexnd"
      },
      "execution_count": 222,
      "outputs": [
        {
          "output_type": "stream",
          "name": "stderr",
          "text": [
            "<ipython-input-4-dbc8405074f9>:3: FutureWarning: In a future version of pandas all arguments of DataFrame.drop except for the argument 'labels' will be keyword-only\n",
            "  X = data.drop('telomere length (kb)',1)\n"
          ]
        },
        {
          "output_type": "stream",
          "name": "stdout",
          "text": [
            "-----------------------------\n",
            "Test\n",
            "R2 Value Test: 0.7261908239204132\n",
            "MSE Test: 0.01720750214443104\n",
            "MAE Test: 0.10639857689940797\n",
            "MAPE 0.2973528079277303\n",
            "-----------------------------\n"
          ]
        }
      ]
    },
    {
      "cell_type": "code",
      "source": [
        "data(df3,0.5,5,1000,1,0.3)"
      ],
      "metadata": {
        "colab": {
          "base_uri": "https://localhost:8080/"
        },
        "outputId": "93c44e81-f970-4795-efdf-501d091efb16",
        "id": "T6bRyZy8exnd"
      },
      "execution_count": 223,
      "outputs": [
        {
          "output_type": "stream",
          "name": "stderr",
          "text": [
            "<ipython-input-4-dbc8405074f9>:3: FutureWarning: In a future version of pandas all arguments of DataFrame.drop except for the argument 'labels' will be keyword-only\n",
            "  X = data.drop('telomere length (kb)',1)\n"
          ]
        },
        {
          "output_type": "stream",
          "name": "stdout",
          "text": [
            "-----------------------------\n",
            "Test\n",
            "R2 Value Test: 0.7112803241973396\n",
            "MSE Test: 0.01814455056491477\n",
            "MAE Test: 0.10833638064455535\n",
            "MAPE 0.26690684517741853\n",
            "-----------------------------\n"
          ]
        }
      ]
    },
    {
      "cell_type": "code",
      "source": [
        "data(df3,0.5,5,1000,1,0.1)"
      ],
      "metadata": {
        "colab": {
          "base_uri": "https://localhost:8080/"
        },
        "outputId": "bf53d8f8-a2d5-4034-cb2c-f7adbda06682",
        "id": "LRcyCxI0exnd"
      },
      "execution_count": 224,
      "outputs": [
        {
          "output_type": "stream",
          "name": "stderr",
          "text": [
            "<ipython-input-4-dbc8405074f9>:3: FutureWarning: In a future version of pandas all arguments of DataFrame.drop except for the argument 'labels' will be keyword-only\n",
            "  X = data.drop('telomere length (kb)',1)\n"
          ]
        },
        {
          "output_type": "stream",
          "name": "stdout",
          "text": [
            "-----------------------------\n",
            "Test\n",
            "R2 Value Test: 0.7316299502913978\n",
            "MSE Test: 0.016865680953364225\n",
            "MAE Test: 0.10968894637752014\n",
            "MAPE 0.3027000818940441\n",
            "-----------------------------\n"
          ]
        }
      ]
    },
    {
      "cell_type": "code",
      "source": [
        "data(df3,0.5,5,1000,1,0.05)"
      ],
      "metadata": {
        "colab": {
          "base_uri": "https://localhost:8080/"
        },
        "outputId": "a3d8cdd4-9f14-497e-c0d0-c43de8e8a910",
        "id": "JXZ2l2DHexnd"
      },
      "execution_count": 225,
      "outputs": [
        {
          "output_type": "stream",
          "name": "stderr",
          "text": [
            "<ipython-input-4-dbc8405074f9>:3: FutureWarning: In a future version of pandas all arguments of DataFrame.drop except for the argument 'labels' will be keyword-only\n",
            "  X = data.drop('telomere length (kb)',1)\n"
          ]
        },
        {
          "output_type": "stream",
          "name": "stdout",
          "text": [
            "-----------------------------\n",
            "Test\n",
            "R2 Value Test: 0.7237873184778303\n",
            "MSE Test: 0.017358550132119288\n",
            "MAE Test: 0.11166664050823308\n",
            "MAPE 0.32093271949635266\n",
            "-----------------------------\n"
          ]
        }
      ]
    },
    {
      "cell_type": "code",
      "source": [
        "data(df3,0.5,5,1000,0.9,0.3)"
      ],
      "metadata": {
        "colab": {
          "base_uri": "https://localhost:8080/"
        },
        "outputId": "ce1736f4-e8c0-46ff-f2d0-c5160496e032",
        "id": "OTD4Pr86exnd"
      },
      "execution_count": 226,
      "outputs": [
        {
          "output_type": "stream",
          "name": "stderr",
          "text": [
            "<ipython-input-4-dbc8405074f9>:3: FutureWarning: In a future version of pandas all arguments of DataFrame.drop except for the argument 'labels' will be keyword-only\n",
            "  X = data.drop('telomere length (kb)',1)\n"
          ]
        },
        {
          "output_type": "stream",
          "name": "stdout",
          "text": [
            "-----------------------------\n",
            "Test\n",
            "R2 Value Test: 0.7413617473228836\n",
            "MSE Test: 0.016254087431605165\n",
            "MAE Test: 0.10160659570312279\n",
            "MAPE 0.2593402030804307\n",
            "-----------------------------\n"
          ]
        }
      ]
    },
    {
      "cell_type": "code",
      "source": [
        "data(df3,0.5,5,1000,0.9,0.1)"
      ],
      "metadata": {
        "colab": {
          "base_uri": "https://localhost:8080/"
        },
        "outputId": "b6710328-2984-4e87-db97-68588720d368",
        "id": "bmgzFXlkexnd"
      },
      "execution_count": 227,
      "outputs": [
        {
          "output_type": "stream",
          "name": "stderr",
          "text": [
            "<ipython-input-4-dbc8405074f9>:3: FutureWarning: In a future version of pandas all arguments of DataFrame.drop except for the argument 'labels' will be keyword-only\n",
            "  X = data.drop('telomere length (kb)',1)\n"
          ]
        },
        {
          "output_type": "stream",
          "name": "stdout",
          "text": [
            "-----------------------------\n",
            "Test\n",
            "R2 Value Test: 0.7281806628004845\n",
            "MSE Test: 0.017082450978191284\n",
            "MAE Test: 0.11013475178529826\n",
            "MAPE 0.2982171230654999\n",
            "-----------------------------\n"
          ]
        }
      ]
    },
    {
      "cell_type": "code",
      "source": [
        "data(df3,0.5,5,1000,0.9,0.05)"
      ],
      "metadata": {
        "colab": {
          "base_uri": "https://localhost:8080/"
        },
        "outputId": "68ec1be4-d67e-469b-ecfb-6dc604e3c001",
        "id": "bkhHNERaexnd"
      },
      "execution_count": 228,
      "outputs": [
        {
          "output_type": "stream",
          "name": "stderr",
          "text": [
            "<ipython-input-4-dbc8405074f9>:3: FutureWarning: In a future version of pandas all arguments of DataFrame.drop except for the argument 'labels' will be keyword-only\n",
            "  X = data.drop('telomere length (kb)',1)\n"
          ]
        },
        {
          "output_type": "stream",
          "name": "stdout",
          "text": [
            "-----------------------------\n",
            "Test\n",
            "R2 Value Test: 0.7216711991963249\n",
            "MSE Test: 0.01749153737380249\n",
            "MAE Test: 0.10778891527312058\n",
            "MAPE 0.2967604951831408\n",
            "-----------------------------\n"
          ]
        }
      ]
    },
    {
      "cell_type": "code",
      "source": [
        "data(df3,0.5,10,100,1,0.3)"
      ],
      "metadata": {
        "colab": {
          "base_uri": "https://localhost:8080/"
        },
        "outputId": "9f495bf5-a97e-45ae-ef99-33abd3f7949f",
        "id": "bQ2A2T9Kexnd"
      },
      "execution_count": 229,
      "outputs": [
        {
          "output_type": "stream",
          "name": "stderr",
          "text": [
            "<ipython-input-4-dbc8405074f9>:3: FutureWarning: In a future version of pandas all arguments of DataFrame.drop except for the argument 'labels' will be keyword-only\n",
            "  X = data.drop('telomere length (kb)',1)\n"
          ]
        },
        {
          "output_type": "stream",
          "name": "stdout",
          "text": [
            "-----------------------------\n",
            "Test\n",
            "R2 Value Test: 0.6565429248740184\n",
            "MSE Test: 0.021584515323301287\n",
            "MAE Test: 0.12171688930629472\n",
            "MAPE 0.33885634092005856\n",
            "-----------------------------\n"
          ]
        }
      ]
    },
    {
      "cell_type": "code",
      "source": [
        "data(df3,0.5,10,100,1,0.1)"
      ],
      "metadata": {
        "colab": {
          "base_uri": "https://localhost:8080/"
        },
        "outputId": "9df2d674-9023-44c2-db48-3c5e29dcfbf8",
        "id": "-KEXykiPexnd"
      },
      "execution_count": 230,
      "outputs": [
        {
          "output_type": "stream",
          "name": "stderr",
          "text": [
            "<ipython-input-4-dbc8405074f9>:3: FutureWarning: In a future version of pandas all arguments of DataFrame.drop except for the argument 'labels' will be keyword-only\n",
            "  X = data.drop('telomere length (kb)',1)\n"
          ]
        },
        {
          "output_type": "stream",
          "name": "stdout",
          "text": [
            "-----------------------------\n",
            "Test\n",
            "R2 Value Test: 0.7102903541732708\n",
            "MSE Test: 0.01820676510263039\n",
            "MAE Test: 0.11407969369394214\n",
            "MAPE 0.2954350002485873\n",
            "-----------------------------\n"
          ]
        }
      ]
    },
    {
      "cell_type": "code",
      "source": [
        "data(df3,0.5,10,100,1,0.05)"
      ],
      "metadata": {
        "colab": {
          "base_uri": "https://localhost:8080/"
        },
        "outputId": "bb65b014-13ee-4cd6-b473-a95eb7f3b864",
        "id": "bSA0ybrjexnd"
      },
      "execution_count": 231,
      "outputs": [
        {
          "output_type": "stream",
          "name": "stderr",
          "text": [
            "<ipython-input-4-dbc8405074f9>:3: FutureWarning: In a future version of pandas all arguments of DataFrame.drop except for the argument 'labels' will be keyword-only\n",
            "  X = data.drop('telomere length (kb)',1)\n"
          ]
        },
        {
          "output_type": "stream",
          "name": "stdout",
          "text": [
            "-----------------------------\n",
            "Test\n",
            "R2 Value Test: 0.7207355728642031\n",
            "MSE Test: 0.017550336689248706\n",
            "MAE Test: 0.11053374245963006\n",
            "MAPE 0.32267106522784894\n",
            "-----------------------------\n"
          ]
        }
      ]
    },
    {
      "cell_type": "code",
      "source": [
        "data(df3,0.5,10,100,0.9,0.3)"
      ],
      "metadata": {
        "colab": {
          "base_uri": "https://localhost:8080/"
        },
        "outputId": "cf6cea1c-3787-4153-f288-ef9df414494d",
        "id": "yFlEO91Fexnd"
      },
      "execution_count": 232,
      "outputs": [
        {
          "output_type": "stream",
          "name": "stderr",
          "text": [
            "<ipython-input-4-dbc8405074f9>:3: FutureWarning: In a future version of pandas all arguments of DataFrame.drop except for the argument 'labels' will be keyword-only\n",
            "  X = data.drop('telomere length (kb)',1)\n"
          ]
        },
        {
          "output_type": "stream",
          "name": "stdout",
          "text": [
            "-----------------------------\n",
            "Test\n",
            "R2 Value Test: 0.691010447408748\n",
            "MSE Test: 0.019418408341710606\n",
            "MAE Test: 0.11240427916667271\n",
            "MAPE 0.27823050047586306\n",
            "-----------------------------\n"
          ]
        }
      ]
    },
    {
      "cell_type": "code",
      "source": [
        "data(df3,0.5,10,100,0.9,0.1)"
      ],
      "metadata": {
        "colab": {
          "base_uri": "https://localhost:8080/"
        },
        "outputId": "9ee6c9a2-5a19-4e08-c407-e97f60295301",
        "id": "A2mo5HIaexne"
      },
      "execution_count": 233,
      "outputs": [
        {
          "output_type": "stream",
          "name": "stderr",
          "text": [
            "<ipython-input-4-dbc8405074f9>:3: FutureWarning: In a future version of pandas all arguments of DataFrame.drop except for the argument 'labels' will be keyword-only\n",
            "  X = data.drop('telomere length (kb)',1)\n"
          ]
        },
        {
          "output_type": "stream",
          "name": "stdout",
          "text": [
            "-----------------------------\n",
            "Test\n",
            "R2 Value Test: 0.6926503261434576\n",
            "MSE Test: 0.01931535037539936\n",
            "MAE Test: 0.11621566052293823\n",
            "MAPE 0.3059452972876758\n",
            "-----------------------------\n"
          ]
        }
      ]
    },
    {
      "cell_type": "code",
      "source": [
        "data(df3,0.5,10,100,0.9,0.05)"
      ],
      "metadata": {
        "colab": {
          "base_uri": "https://localhost:8080/"
        },
        "outputId": "d62361a7-404e-48de-f047-7ae3343fefaa",
        "id": "L1ne-saEexne"
      },
      "execution_count": 234,
      "outputs": [
        {
          "output_type": "stream",
          "name": "stderr",
          "text": [
            "<ipython-input-4-dbc8405074f9>:3: FutureWarning: In a future version of pandas all arguments of DataFrame.drop except for the argument 'labels' will be keyword-only\n",
            "  X = data.drop('telomere length (kb)',1)\n"
          ]
        },
        {
          "output_type": "stream",
          "name": "stdout",
          "text": [
            "-----------------------------\n",
            "Test\n",
            "R2 Value Test: 0.7155896717864587\n",
            "MSE Test: 0.017873730174807343\n",
            "MAE Test: 0.11248738444972473\n",
            "MAPE 0.332712071792116\n",
            "-----------------------------\n"
          ]
        }
      ]
    },
    {
      "cell_type": "code",
      "source": [
        "data(df3,0.5,10,1000,1,0.03)"
      ],
      "metadata": {
        "colab": {
          "base_uri": "https://localhost:8080/"
        },
        "outputId": "c6c6d5f8-46f6-4404-dd0f-c85ebfc8cab8",
        "id": "VxVuE7Weexne"
      },
      "execution_count": 235,
      "outputs": [
        {
          "output_type": "stream",
          "name": "stderr",
          "text": [
            "<ipython-input-4-dbc8405074f9>:3: FutureWarning: In a future version of pandas all arguments of DataFrame.drop except for the argument 'labels' will be keyword-only\n",
            "  X = data.drop('telomere length (kb)',1)\n"
          ]
        },
        {
          "output_type": "stream",
          "name": "stdout",
          "text": [
            "-----------------------------\n",
            "Test\n",
            "R2 Value Test: 0.7110625816059862\n",
            "MSE Test: 0.018158234569816627\n",
            "MAE Test: 0.11658579380001008\n",
            "MAPE 0.3426134114971116\n",
            "-----------------------------\n"
          ]
        }
      ]
    },
    {
      "cell_type": "code",
      "source": [
        "data(df3,0.5,10,1000,1,0.1)"
      ],
      "metadata": {
        "colab": {
          "base_uri": "https://localhost:8080/"
        },
        "outputId": "1d5f6886-bf79-4d06-cdd9-009f33ea3b91",
        "id": "f4iqn081exne"
      },
      "execution_count": 236,
      "outputs": [
        {
          "output_type": "stream",
          "name": "stderr",
          "text": [
            "<ipython-input-4-dbc8405074f9>:3: FutureWarning: In a future version of pandas all arguments of DataFrame.drop except for the argument 'labels' will be keyword-only\n",
            "  X = data.drop('telomere length (kb)',1)\n"
          ]
        },
        {
          "output_type": "stream",
          "name": "stdout",
          "text": [
            "-----------------------------\n",
            "Test\n",
            "R2 Value Test: 0.7080365046498427\n",
            "MSE Test: 0.018348407983496955\n",
            "MAE Test: 0.11488337340245373\n",
            "MAPE 0.2984440722273317\n",
            "-----------------------------\n"
          ]
        }
      ]
    },
    {
      "cell_type": "code",
      "source": [
        "data(df3,0.5,10,1000,1,0.05)"
      ],
      "metadata": {
        "colab": {
          "base_uri": "https://localhost:8080/"
        },
        "outputId": "52e8f260-2185-42a4-e0e8-5e3b2506e1aa",
        "id": "j1BrqCn7exne"
      },
      "execution_count": 237,
      "outputs": [
        {
          "output_type": "stream",
          "name": "stderr",
          "text": [
            "<ipython-input-4-dbc8405074f9>:3: FutureWarning: In a future version of pandas all arguments of DataFrame.drop except for the argument 'labels' will be keyword-only\n",
            "  X = data.drop('telomere length (kb)',1)\n"
          ]
        },
        {
          "output_type": "stream",
          "name": "stdout",
          "text": [
            "-----------------------------\n",
            "Test\n",
            "R2 Value Test: 0.7195777155641891\n",
            "MSE Test: 0.017623102081037997\n",
            "MAE Test: 0.11230498340541534\n",
            "MAPE 0.3246367508382455\n",
            "-----------------------------\n"
          ]
        }
      ]
    },
    {
      "cell_type": "code",
      "source": [
        "data(df3,0.5,10,1000,0.9,0.3)"
      ],
      "metadata": {
        "colab": {
          "base_uri": "https://localhost:8080/"
        },
        "outputId": "bae63fd6-c06a-472d-a9a2-e7a47b3aa6cf",
        "id": "y-iF7atrexne"
      },
      "execution_count": 238,
      "outputs": [
        {
          "output_type": "stream",
          "name": "stderr",
          "text": [
            "<ipython-input-4-dbc8405074f9>:3: FutureWarning: In a future version of pandas all arguments of DataFrame.drop except for the argument 'labels' will be keyword-only\n",
            "  X = data.drop('telomere length (kb)',1)\n"
          ]
        },
        {
          "output_type": "stream",
          "name": "stdout",
          "text": [
            "-----------------------------\n",
            "Test\n",
            "R2 Value Test: 0.6908954008584329\n",
            "MSE Test: 0.019425638427238056\n",
            "MAE Test: 0.11242824023387242\n",
            "MAPE 0.278242306907579\n",
            "-----------------------------\n"
          ]
        }
      ]
    },
    {
      "cell_type": "code",
      "source": [
        "data(df3,0.5,10,1000,0.9,0.1)"
      ],
      "metadata": {
        "colab": {
          "base_uri": "https://localhost:8080/"
        },
        "outputId": "adce9065-eae2-4012-e151-db404f4a09cf",
        "id": "D9WGVJmDexne"
      },
      "execution_count": 239,
      "outputs": [
        {
          "output_type": "stream",
          "name": "stderr",
          "text": [
            "<ipython-input-4-dbc8405074f9>:3: FutureWarning: In a future version of pandas all arguments of DataFrame.drop except for the argument 'labels' will be keyword-only\n",
            "  X = data.drop('telomere length (kb)',1)\n"
          ]
        },
        {
          "output_type": "stream",
          "name": "stdout",
          "text": [
            "-----------------------------\n",
            "Test\n",
            "R2 Value Test: 0.6889532788208705\n",
            "MSE Test: 0.019547690834701526\n",
            "MAE Test: 0.1169951075785703\n",
            "MAPE 0.30925402776343447\n",
            "-----------------------------\n"
          ]
        }
      ]
    },
    {
      "cell_type": "code",
      "source": [
        "data(df3,0.5,10,1000,0.9,0.05)"
      ],
      "metadata": {
        "colab": {
          "base_uri": "https://localhost:8080/"
        },
        "outputId": "54dcb951-72a6-464d-ad9a-794ee3fe28da",
        "id": "wNSdnfzNexne"
      },
      "execution_count": 240,
      "outputs": [
        {
          "output_type": "stream",
          "name": "stderr",
          "text": [
            "<ipython-input-4-dbc8405074f9>:3: FutureWarning: In a future version of pandas all arguments of DataFrame.drop except for the argument 'labels' will be keyword-only\n",
            "  X = data.drop('telomere length (kb)',1)\n"
          ]
        },
        {
          "output_type": "stream",
          "name": "stdout",
          "text": [
            "-----------------------------\n",
            "Test\n",
            "R2 Value Test: 0.7076465961081939\n",
            "MSE Test: 0.01837291173520688\n",
            "MAE Test: 0.11517491846667231\n",
            "MAPE 0.33704971340531126\n",
            "-----------------------------\n"
          ]
        }
      ]
    }
  ],
  "metadata": {
    "accelerator": "TPU",
    "colab": {
      "machine_shape": "hm",
      "provenance": [],
      "authorship_tag": "ABX9TyOwupVfA/siOypV6lQg9p2j",
      "include_colab_link": true
    },
    "gpuClass": "standard",
    "kernelspec": {
      "display_name": "Python 3",
      "name": "python3"
    },
    "language_info": {
      "name": "python"
    }
  },
  "nbformat": 4,
  "nbformat_minor": 0
}