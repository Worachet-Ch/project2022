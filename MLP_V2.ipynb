{
  "nbformat": 4,
  "nbformat_minor": 0,
  "metadata": {
    "colab": {
      "provenance": [],
      "machine_shape": "hm",
      "authorship_tag": "ABX9TyN8S/HzC6QDkFBLrQLwPXWO",
      "include_colab_link": true
    },
    "kernelspec": {
      "name": "python3",
      "display_name": "Python 3"
    },
    "language_info": {
      "name": "python"
    },
    "accelerator": "TPU",
    "gpuClass": "standard"
  },
  "cells": [
    {
      "cell_type": "markdown",
      "metadata": {
        "id": "view-in-github",
        "colab_type": "text"
      },
      "source": [
        "<a href=\"https://colab.research.google.com/github/Worachet-Ch/project2022/blob/main/MLP_V2.ipynb\" target=\"_parent\"><img src=\"https://colab.research.google.com/assets/colab-badge.svg\" alt=\"Open In Colab\"/></a>"
      ]
    },
    {
      "cell_type": "code",
      "execution_count": null,
      "metadata": {
        "colab": {
          "base_uri": "https://localhost:8080/"
        },
        "id": "gbPZs_T9J5BF",
        "outputId": "ef92e2d9-4cbb-4417-f068-c119a0c3caab"
      },
      "outputs": [
        {
          "output_type": "stream",
          "name": "stdout",
          "text": [
            "Drive already mounted at /content/drive; to attempt to forcibly remount, call drive.mount(\"/content/drive\", force_remount=True).\n"
          ]
        }
      ],
      "source": [
        "import pandas as pd\n",
        "import os\n",
        "from google.colab import drive #เชื่อม Google drive\n",
        "drive.mount('/content/drive')\n",
        "path = '/content/drive/My Drive/project' #เข้า drive\n",
        "data1 = pd.read_csv(os.path.join(path,'df_1.csv'))"
      ]
    },
    {
      "cell_type": "code",
      "source": [
        "from sklearn import metrics\n",
        "from sklearn.preprocessing import MinMaxScaler\n",
        "from sklearn.model_selection import train_test_split\n",
        "from sklearn.neural_network import MLPRegressor\n",
        "from sklearn import metrics\n",
        "import numpy as np\n",
        "from sklearn.model_selection import GridSearchCV\n",
        "import matplotlib.pyplot as plt\n",
        "import seaborn as sns\n",
        "from sklearn.metrics import mean_absolute_percentage_error"
      ],
      "metadata": {
        "id": "ml8mCLDh2KSY"
      },
      "execution_count": null,
      "outputs": []
    },
    {
      "cell_type": "markdown",
      "source": [
        "## hyperparameter"
      ],
      "metadata": {
        "id": "5bA8pX2Ury9V"
      }
    },
    {
      "cell_type": "code",
      "source": [
        "def hyperParameter(data):\n",
        "  y = data['telomere length (kb)']\n",
        "  X = data.drop('telomere length (kb)',1)\n",
        "  X_train, X_test, y_train, y_test = train_test_split(X, y, test_size=0.2, random_state=216)\n",
        "  param_grid = {\n",
        "    'hidden_layer_sizes': [(10,),(20,),(50,),(60),(70,),(100,),(120,)],\n",
        "    'max_iter': [200,400,600,800,1000],\n",
        "    'activation': ['tanh', 'relu','identify','logistic'],\n",
        "    'solver': ['sgd', 'adam','lbfgs'],\n",
        "\n",
        "    'random_state':[216]\n",
        "  }\n",
        "  model = MLPRegressor()\n",
        "\n",
        "  gsearch = GridSearchCV(estimator = model,\n",
        "                           param_grid = param_grid                    \n",
        "                          )\n",
        "\n",
        "  gsearch.fit(X_train,y_train)\n",
        "\n",
        "  return gsearch.best_params_"
      ],
      "metadata": {
        "id": "X_4k2jTG3Spd"
      },
      "execution_count": null,
      "outputs": []
    },
    {
      "cell_type": "markdown",
      "source": [
        "# data1"
      ],
      "metadata": {
        "id": "Y2eR5q5B2HOW"
      }
    },
    {
      "cell_type": "code",
      "source": [
        "data1.drop('Unnamed: 0',1,inplace = True)\n",
        "data1"
      ],
      "metadata": {
        "colab": {
          "base_uri": "https://localhost:8080/",
          "height": 459
        },
        "id": "unjB3wj72It_",
        "outputId": "476968f7-2ff3-4c50-ee37-7700b28df40a"
      },
      "execution_count": null,
      "outputs": [
        {
          "output_type": "stream",
          "name": "stderr",
          "text": [
            "<ipython-input-4-f170cadba2e7>:1: FutureWarning: In a future version of pandas all arguments of DataFrame.drop except for the argument 'labels' will be keyword-only\n",
            "  data1.drop('Unnamed: 0',1,inplace = True)\n"
          ]
        },
        {
          "output_type": "execute_result",
          "data": {
            "text/plain": [
              "     Sex  AgeSYear     Weight      Height    BMI  Systolic  Diastolic  \\\n",
              "0    2.0      58.0  47.200000  156.000000  19.40   112.000      64.00   \n",
              "1    2.0      57.0  47.400000  153.000000  20.20   114.000      75.00   \n",
              "2    2.0      24.0  53.200000  157.000000  21.60   103.000      69.00   \n",
              "3    2.0      62.0  54.400000  165.000000  20.00    95.000      75.00   \n",
              "4    2.0      86.0  49.000000  154.000000  20.70   129.000      79.00   \n",
              "..   ...       ...        ...         ...    ...       ...        ...   \n",
              "417  2.0      25.0  47.000000  165.000000  17.30   104.000      63.00   \n",
              "418  2.0      31.0  72.200000  168.000000  25.60   123.000      89.00   \n",
              "419  2.0      32.0  54.500000  158.466667  21.68   113.160      71.83   \n",
              "420  1.0      29.0  63.073333  168.866667  22.04   108.465      71.96   \n",
              "421  2.0      31.0  58.066667  160.200000  22.60   112.810      72.72   \n",
              "\n",
              "     HeartRate     SMM  Fat Mass  ...  Uric Acid  Cholesterol  Triglyceride  \\\n",
              "0        70.00  19.741    13.631  ...        4.8        180.0          97.0   \n",
              "1        69.00  19.300    12.500  ...        5.0        176.0          51.0   \n",
              "2        78.00  21.300    14.600  ...        5.2        159.0          45.0   \n",
              "3        83.00  21.600    15.200  ...        4.1        230.0          94.0   \n",
              "4        83.00  19.907    15.369  ...        5.4        183.0          86.0   \n",
              "..         ...     ...       ...  ...        ...          ...           ...   \n",
              "417      89.00  20.387    12.852  ...        4.8        232.0          36.0   \n",
              "418      69.00  25.451    18.258  ...        6.1        187.0          49.0   \n",
              "419      72.30  22.707    21.599  ...        5.1        222.0          58.0   \n",
              "420      83.95  27.607    20.258  ...        6.8        140.0          92.0   \n",
              "421      74.41  23.020    22.436  ...        4.0        243.0         161.0   \n",
              "\n",
              "     HDL-C    LDL   AST   ALT  Alkaline Phos     HbA1c  telomere length (kb)   \n",
              "0     62.0   98.0  25.0  32.0           40.0  5.800000                   7.30  \n",
              "1     72.0   94.0  16.0  16.0           62.0  5.100000                   6.36  \n",
              "2     52.0   98.0  13.0  17.0           50.0  5.400000                   9.71  \n",
              "3     61.0  151.0  18.0  31.0           76.0  5.600000                   6.17  \n",
              "4     39.0  127.0  12.0  22.0           82.0  6.200000                   4.55  \n",
              "..     ...    ...   ...   ...            ...       ...                    ...  \n",
              "417   96.0  128.0  18.0  12.0           46.0  5.393333                   8.98  \n",
              "418   51.0  127.0  21.0  24.0           71.0  5.186667                   8.23  \n",
              "419   79.0  132.0  17.0  10.0           34.0  5.486667                   8.79  \n",
              "420   48.0   73.0  31.0  75.0           69.0  4.973333                   8.93  \n",
              "421   87.0  124.0  24.0  11.0           46.0  6.086667                   7.92  \n",
              "\n",
              "[422 rows x 27 columns]"
            ],
            "text/html": [
              "\n",
              "  <div id=\"df-16e8eba7-c859-4162-8077-a84932a13a66\">\n",
              "    <div class=\"colab-df-container\">\n",
              "      <div>\n",
              "<style scoped>\n",
              "    .dataframe tbody tr th:only-of-type {\n",
              "        vertical-align: middle;\n",
              "    }\n",
              "\n",
              "    .dataframe tbody tr th {\n",
              "        vertical-align: top;\n",
              "    }\n",
              "\n",
              "    .dataframe thead th {\n",
              "        text-align: right;\n",
              "    }\n",
              "</style>\n",
              "<table border=\"1\" class=\"dataframe\">\n",
              "  <thead>\n",
              "    <tr style=\"text-align: right;\">\n",
              "      <th></th>\n",
              "      <th>Sex</th>\n",
              "      <th>AgeSYear</th>\n",
              "      <th>Weight</th>\n",
              "      <th>Height</th>\n",
              "      <th>BMI</th>\n",
              "      <th>Systolic</th>\n",
              "      <th>Diastolic</th>\n",
              "      <th>HeartRate</th>\n",
              "      <th>SMM</th>\n",
              "      <th>Fat Mass</th>\n",
              "      <th>...</th>\n",
              "      <th>Uric Acid</th>\n",
              "      <th>Cholesterol</th>\n",
              "      <th>Triglyceride</th>\n",
              "      <th>HDL-C</th>\n",
              "      <th>LDL</th>\n",
              "      <th>AST</th>\n",
              "      <th>ALT</th>\n",
              "      <th>Alkaline Phos</th>\n",
              "      <th>HbA1c</th>\n",
              "      <th>telomere length (kb)</th>\n",
              "    </tr>\n",
              "  </thead>\n",
              "  <tbody>\n",
              "    <tr>\n",
              "      <th>0</th>\n",
              "      <td>2.0</td>\n",
              "      <td>58.0</td>\n",
              "      <td>47.200000</td>\n",
              "      <td>156.000000</td>\n",
              "      <td>19.40</td>\n",
              "      <td>112.000</td>\n",
              "      <td>64.00</td>\n",
              "      <td>70.00</td>\n",
              "      <td>19.741</td>\n",
              "      <td>13.631</td>\n",
              "      <td>...</td>\n",
              "      <td>4.8</td>\n",
              "      <td>180.0</td>\n",
              "      <td>97.0</td>\n",
              "      <td>62.0</td>\n",
              "      <td>98.0</td>\n",
              "      <td>25.0</td>\n",
              "      <td>32.0</td>\n",
              "      <td>40.0</td>\n",
              "      <td>5.800000</td>\n",
              "      <td>7.30</td>\n",
              "    </tr>\n",
              "    <tr>\n",
              "      <th>1</th>\n",
              "      <td>2.0</td>\n",
              "      <td>57.0</td>\n",
              "      <td>47.400000</td>\n",
              "      <td>153.000000</td>\n",
              "      <td>20.20</td>\n",
              "      <td>114.000</td>\n",
              "      <td>75.00</td>\n",
              "      <td>69.00</td>\n",
              "      <td>19.300</td>\n",
              "      <td>12.500</td>\n",
              "      <td>...</td>\n",
              "      <td>5.0</td>\n",
              "      <td>176.0</td>\n",
              "      <td>51.0</td>\n",
              "      <td>72.0</td>\n",
              "      <td>94.0</td>\n",
              "      <td>16.0</td>\n",
              "      <td>16.0</td>\n",
              "      <td>62.0</td>\n",
              "      <td>5.100000</td>\n",
              "      <td>6.36</td>\n",
              "    </tr>\n",
              "    <tr>\n",
              "      <th>2</th>\n",
              "      <td>2.0</td>\n",
              "      <td>24.0</td>\n",
              "      <td>53.200000</td>\n",
              "      <td>157.000000</td>\n",
              "      <td>21.60</td>\n",
              "      <td>103.000</td>\n",
              "      <td>69.00</td>\n",
              "      <td>78.00</td>\n",
              "      <td>21.300</td>\n",
              "      <td>14.600</td>\n",
              "      <td>...</td>\n",
              "      <td>5.2</td>\n",
              "      <td>159.0</td>\n",
              "      <td>45.0</td>\n",
              "      <td>52.0</td>\n",
              "      <td>98.0</td>\n",
              "      <td>13.0</td>\n",
              "      <td>17.0</td>\n",
              "      <td>50.0</td>\n",
              "      <td>5.400000</td>\n",
              "      <td>9.71</td>\n",
              "    </tr>\n",
              "    <tr>\n",
              "      <th>3</th>\n",
              "      <td>2.0</td>\n",
              "      <td>62.0</td>\n",
              "      <td>54.400000</td>\n",
              "      <td>165.000000</td>\n",
              "      <td>20.00</td>\n",
              "      <td>95.000</td>\n",
              "      <td>75.00</td>\n",
              "      <td>83.00</td>\n",
              "      <td>21.600</td>\n",
              "      <td>15.200</td>\n",
              "      <td>...</td>\n",
              "      <td>4.1</td>\n",
              "      <td>230.0</td>\n",
              "      <td>94.0</td>\n",
              "      <td>61.0</td>\n",
              "      <td>151.0</td>\n",
              "      <td>18.0</td>\n",
              "      <td>31.0</td>\n",
              "      <td>76.0</td>\n",
              "      <td>5.600000</td>\n",
              "      <td>6.17</td>\n",
              "    </tr>\n",
              "    <tr>\n",
              "      <th>4</th>\n",
              "      <td>2.0</td>\n",
              "      <td>86.0</td>\n",
              "      <td>49.000000</td>\n",
              "      <td>154.000000</td>\n",
              "      <td>20.70</td>\n",
              "      <td>129.000</td>\n",
              "      <td>79.00</td>\n",
              "      <td>83.00</td>\n",
              "      <td>19.907</td>\n",
              "      <td>15.369</td>\n",
              "      <td>...</td>\n",
              "      <td>5.4</td>\n",
              "      <td>183.0</td>\n",
              "      <td>86.0</td>\n",
              "      <td>39.0</td>\n",
              "      <td>127.0</td>\n",
              "      <td>12.0</td>\n",
              "      <td>22.0</td>\n",
              "      <td>82.0</td>\n",
              "      <td>6.200000</td>\n",
              "      <td>4.55</td>\n",
              "    </tr>\n",
              "    <tr>\n",
              "      <th>...</th>\n",
              "      <td>...</td>\n",
              "      <td>...</td>\n",
              "      <td>...</td>\n",
              "      <td>...</td>\n",
              "      <td>...</td>\n",
              "      <td>...</td>\n",
              "      <td>...</td>\n",
              "      <td>...</td>\n",
              "      <td>...</td>\n",
              "      <td>...</td>\n",
              "      <td>...</td>\n",
              "      <td>...</td>\n",
              "      <td>...</td>\n",
              "      <td>...</td>\n",
              "      <td>...</td>\n",
              "      <td>...</td>\n",
              "      <td>...</td>\n",
              "      <td>...</td>\n",
              "      <td>...</td>\n",
              "      <td>...</td>\n",
              "      <td>...</td>\n",
              "    </tr>\n",
              "    <tr>\n",
              "      <th>417</th>\n",
              "      <td>2.0</td>\n",
              "      <td>25.0</td>\n",
              "      <td>47.000000</td>\n",
              "      <td>165.000000</td>\n",
              "      <td>17.30</td>\n",
              "      <td>104.000</td>\n",
              "      <td>63.00</td>\n",
              "      <td>89.00</td>\n",
              "      <td>20.387</td>\n",
              "      <td>12.852</td>\n",
              "      <td>...</td>\n",
              "      <td>4.8</td>\n",
              "      <td>232.0</td>\n",
              "      <td>36.0</td>\n",
              "      <td>96.0</td>\n",
              "      <td>128.0</td>\n",
              "      <td>18.0</td>\n",
              "      <td>12.0</td>\n",
              "      <td>46.0</td>\n",
              "      <td>5.393333</td>\n",
              "      <td>8.98</td>\n",
              "    </tr>\n",
              "    <tr>\n",
              "      <th>418</th>\n",
              "      <td>2.0</td>\n",
              "      <td>31.0</td>\n",
              "      <td>72.200000</td>\n",
              "      <td>168.000000</td>\n",
              "      <td>25.60</td>\n",
              "      <td>123.000</td>\n",
              "      <td>89.00</td>\n",
              "      <td>69.00</td>\n",
              "      <td>25.451</td>\n",
              "      <td>18.258</td>\n",
              "      <td>...</td>\n",
              "      <td>6.1</td>\n",
              "      <td>187.0</td>\n",
              "      <td>49.0</td>\n",
              "      <td>51.0</td>\n",
              "      <td>127.0</td>\n",
              "      <td>21.0</td>\n",
              "      <td>24.0</td>\n",
              "      <td>71.0</td>\n",
              "      <td>5.186667</td>\n",
              "      <td>8.23</td>\n",
              "    </tr>\n",
              "    <tr>\n",
              "      <th>419</th>\n",
              "      <td>2.0</td>\n",
              "      <td>32.0</td>\n",
              "      <td>54.500000</td>\n",
              "      <td>158.466667</td>\n",
              "      <td>21.68</td>\n",
              "      <td>113.160</td>\n",
              "      <td>71.83</td>\n",
              "      <td>72.30</td>\n",
              "      <td>22.707</td>\n",
              "      <td>21.599</td>\n",
              "      <td>...</td>\n",
              "      <td>5.1</td>\n",
              "      <td>222.0</td>\n",
              "      <td>58.0</td>\n",
              "      <td>79.0</td>\n",
              "      <td>132.0</td>\n",
              "      <td>17.0</td>\n",
              "      <td>10.0</td>\n",
              "      <td>34.0</td>\n",
              "      <td>5.486667</td>\n",
              "      <td>8.79</td>\n",
              "    </tr>\n",
              "    <tr>\n",
              "      <th>420</th>\n",
              "      <td>1.0</td>\n",
              "      <td>29.0</td>\n",
              "      <td>63.073333</td>\n",
              "      <td>168.866667</td>\n",
              "      <td>22.04</td>\n",
              "      <td>108.465</td>\n",
              "      <td>71.96</td>\n",
              "      <td>83.95</td>\n",
              "      <td>27.607</td>\n",
              "      <td>20.258</td>\n",
              "      <td>...</td>\n",
              "      <td>6.8</td>\n",
              "      <td>140.0</td>\n",
              "      <td>92.0</td>\n",
              "      <td>48.0</td>\n",
              "      <td>73.0</td>\n",
              "      <td>31.0</td>\n",
              "      <td>75.0</td>\n",
              "      <td>69.0</td>\n",
              "      <td>4.973333</td>\n",
              "      <td>8.93</td>\n",
              "    </tr>\n",
              "    <tr>\n",
              "      <th>421</th>\n",
              "      <td>2.0</td>\n",
              "      <td>31.0</td>\n",
              "      <td>58.066667</td>\n",
              "      <td>160.200000</td>\n",
              "      <td>22.60</td>\n",
              "      <td>112.810</td>\n",
              "      <td>72.72</td>\n",
              "      <td>74.41</td>\n",
              "      <td>23.020</td>\n",
              "      <td>22.436</td>\n",
              "      <td>...</td>\n",
              "      <td>4.0</td>\n",
              "      <td>243.0</td>\n",
              "      <td>161.0</td>\n",
              "      <td>87.0</td>\n",
              "      <td>124.0</td>\n",
              "      <td>24.0</td>\n",
              "      <td>11.0</td>\n",
              "      <td>46.0</td>\n",
              "      <td>6.086667</td>\n",
              "      <td>7.92</td>\n",
              "    </tr>\n",
              "  </tbody>\n",
              "</table>\n",
              "<p>422 rows × 27 columns</p>\n",
              "</div>\n",
              "      <button class=\"colab-df-convert\" onclick=\"convertToInteractive('df-16e8eba7-c859-4162-8077-a84932a13a66')\"\n",
              "              title=\"Convert this dataframe to an interactive table.\"\n",
              "              style=\"display:none;\">\n",
              "        \n",
              "  <svg xmlns=\"http://www.w3.org/2000/svg\" height=\"24px\"viewBox=\"0 0 24 24\"\n",
              "       width=\"24px\">\n",
              "    <path d=\"M0 0h24v24H0V0z\" fill=\"none\"/>\n",
              "    <path d=\"M18.56 5.44l.94 2.06.94-2.06 2.06-.94-2.06-.94-.94-2.06-.94 2.06-2.06.94zm-11 1L8.5 8.5l.94-2.06 2.06-.94-2.06-.94L8.5 2.5l-.94 2.06-2.06.94zm10 10l.94 2.06.94-2.06 2.06-.94-2.06-.94-.94-2.06-.94 2.06-2.06.94z\"/><path d=\"M17.41 7.96l-1.37-1.37c-.4-.4-.92-.59-1.43-.59-.52 0-1.04.2-1.43.59L10.3 9.45l-7.72 7.72c-.78.78-.78 2.05 0 2.83L4 21.41c.39.39.9.59 1.41.59.51 0 1.02-.2 1.41-.59l7.78-7.78 2.81-2.81c.8-.78.8-2.07 0-2.86zM5.41 20L4 18.59l7.72-7.72 1.47 1.35L5.41 20z\"/>\n",
              "  </svg>\n",
              "      </button>\n",
              "      \n",
              "  <style>\n",
              "    .colab-df-container {\n",
              "      display:flex;\n",
              "      flex-wrap:wrap;\n",
              "      gap: 12px;\n",
              "    }\n",
              "\n",
              "    .colab-df-convert {\n",
              "      background-color: #E8F0FE;\n",
              "      border: none;\n",
              "      border-radius: 50%;\n",
              "      cursor: pointer;\n",
              "      display: none;\n",
              "      fill: #1967D2;\n",
              "      height: 32px;\n",
              "      padding: 0 0 0 0;\n",
              "      width: 32px;\n",
              "    }\n",
              "\n",
              "    .colab-df-convert:hover {\n",
              "      background-color: #E2EBFA;\n",
              "      box-shadow: 0px 1px 2px rgba(60, 64, 67, 0.3), 0px 1px 3px 1px rgba(60, 64, 67, 0.15);\n",
              "      fill: #174EA6;\n",
              "    }\n",
              "\n",
              "    [theme=dark] .colab-df-convert {\n",
              "      background-color: #3B4455;\n",
              "      fill: #D2E3FC;\n",
              "    }\n",
              "\n",
              "    [theme=dark] .colab-df-convert:hover {\n",
              "      background-color: #434B5C;\n",
              "      box-shadow: 0px 1px 3px 1px rgba(0, 0, 0, 0.15);\n",
              "      filter: drop-shadow(0px 1px 2px rgba(0, 0, 0, 0.3));\n",
              "      fill: #FFFFFF;\n",
              "    }\n",
              "  </style>\n",
              "\n",
              "      <script>\n",
              "        const buttonEl =\n",
              "          document.querySelector('#df-16e8eba7-c859-4162-8077-a84932a13a66 button.colab-df-convert');\n",
              "        buttonEl.style.display =\n",
              "          google.colab.kernel.accessAllowed ? 'block' : 'none';\n",
              "\n",
              "        async function convertToInteractive(key) {\n",
              "          const element = document.querySelector('#df-16e8eba7-c859-4162-8077-a84932a13a66');\n",
              "          const dataTable =\n",
              "            await google.colab.kernel.invokeFunction('convertToInteractive',\n",
              "                                                     [key], {});\n",
              "          if (!dataTable) return;\n",
              "\n",
              "          const docLinkHtml = 'Like what you see? Visit the ' +\n",
              "            '<a target=\"_blank\" href=https://colab.research.google.com/notebooks/data_table.ipynb>data table notebook</a>'\n",
              "            + ' to learn more about interactive tables.';\n",
              "          element.innerHTML = '';\n",
              "          dataTable['output_type'] = 'display_data';\n",
              "          await google.colab.output.renderOutput(dataTable, element);\n",
              "          const docLink = document.createElement('div');\n",
              "          docLink.innerHTML = docLinkHtml;\n",
              "          element.appendChild(docLink);\n",
              "        }\n",
              "      </script>\n",
              "    </div>\n",
              "  </div>\n",
              "  "
            ]
          },
          "metadata": {},
          "execution_count": 4
        }
      ]
    },
    {
      "cell_type": "code",
      "source": [
        "scaler = MinMaxScaler()\n",
        "Scaler = scaler.fit_transform(data1)"
      ],
      "metadata": {
        "id": "HVn9X1I026Ej"
      },
      "execution_count": null,
      "outputs": []
    },
    {
      "cell_type": "code",
      "source": [
        "df = pd.DataFrame(  Scaler, columns = ['Sex' , 'AgeSYear', 'telomere length (kb)','Weight','Height','BMI','Systolic','Diastolic','HeartRate','SMM','Fat Mass',\n",
        "                                       '% Body fat','waist to hip radio','abdominal circumference','visceral fat area','Glucose','BUN','Creatinine','Uric Acid','Cholesterol',\n",
        "                                       'Triglyceride','HDL-C','LDL','AST','ALT','Alkaline Phos','HbA1c'])\n",
        "df"
      ],
      "metadata": {
        "id": "15SO2i3i260t"
      },
      "execution_count": null,
      "outputs": []
    },
    {
      "cell_type": "code",
      "source": [
        "y = df['telomere length (kb)']\n",
        "X = df.drop('telomere length (kb)',1)"
      ],
      "metadata": {
        "colab": {
          "base_uri": "https://localhost:8080/"
        },
        "id": "UWhJ_WBD27k5",
        "outputId": "7523d922-96bb-4518-e9a4-8dc70f45c416"
      },
      "execution_count": null,
      "outputs": [
        {
          "output_type": "stream",
          "name": "stderr",
          "text": [
            "<ipython-input-69-2081a7e829a9>:2: FutureWarning: In a future version of pandas all arguments of DataFrame.drop except for the argument 'labels' will be keyword-only\n",
            "  X = df.drop('telomere length (kb)',1)\n"
          ]
        }
      ]
    },
    {
      "cell_type": "code",
      "source": [
        "from sklearn.model_selection import train_test_split\n",
        "X_train, X_test, y_train, y_test = train_test_split(X, y, test_size=0.2, random_state=216)"
      ],
      "metadata": {
        "id": "1jQwk5bU29yc"
      },
      "execution_count": null,
      "outputs": []
    },
    {
      "cell_type": "code",
      "source": [
        "model = MLPRegressor(hidden_layer_sizes=(100,),activation = 'relu',solver = 'adam', random_state=216)\n",
        "model.fit(X_train, y_train)"
      ],
      "metadata": {
        "colab": {
          "base_uri": "https://localhost:8080/"
        },
        "id": "AFzxXfOH2-aH",
        "outputId": "5fdd2df1-2f7f-4b59-eb48-f4533459bfbb"
      },
      "execution_count": null,
      "outputs": [
        {
          "output_type": "execute_result",
          "data": {
            "text/plain": [
              "MLPRegressor(random_state=216)"
            ]
          },
          "metadata": {},
          "execution_count": 71
        }
      ]
    },
    {
      "cell_type": "code",
      "source": [
        "y_pred = model.predict(X_test)"
      ],
      "metadata": {
        "id": "a75dFHJs3R06"
      },
      "execution_count": null,
      "outputs": []
    },
    {
      "cell_type": "code",
      "source": [
        "#Train\n",
        "print('R2 Value Train:',metrics.r2_score(y_train, model.predict(X_train)))\n",
        "print('MSE Train:',metrics.mean_squared_error(y_train, model.predict(X_train)))\n",
        "print('MAE Train:',metrics.mean_absolute_error(y_train, model.predict(X_train)))"
      ],
      "metadata": {
        "colab": {
          "base_uri": "https://localhost:8080/"
        },
        "id": "1HmpE6nD3VMO",
        "outputId": "9caac3d6-f3a2-433d-f375-e81282de92ba"
      },
      "execution_count": null,
      "outputs": [
        {
          "output_type": "stream",
          "name": "stdout",
          "text": [
            "R2 Value Train: 0.8960934316316254\n",
            "MSE Train: 0.0036604991881244975\n",
            "MAE Train: 0.046744108870410854\n"
          ]
        }
      ]
    },
    {
      "cell_type": "code",
      "source": [
        "print('MAPE :',mean_absolute_percentage_error(y_test, y_pred))"
      ],
      "metadata": {
        "colab": {
          "base_uri": "https://localhost:8080/"
        },
        "id": "2LFsMi7G3XRy",
        "outputId": "a533281e-c8d7-4389-9aba-bdb307d1dff7"
      },
      "execution_count": null,
      "outputs": [
        {
          "output_type": "stream",
          "name": "stdout",
          "text": [
            "MAPE : 0.1775113106928869\n"
          ]
        }
      ]
    },
    {
      "cell_type": "code",
      "source": [
        "#Test\n",
        "print('R2 Value Test:',metrics.r2_score(y_test, y_pred))\n",
        "print('MSE Test:',metrics.mean_squared_error(y_test, y_pred))\n",
        "print('MAE Test:',metrics.mean_absolute_error(y_test, y_pred))"
      ],
      "metadata": {
        "colab": {
          "base_uri": "https://localhost:8080/"
        },
        "id": "u1zYYJAx3YID",
        "outputId": "1b2a8ac7-d15f-477f-f48a-10d082e1d32d"
      },
      "execution_count": null,
      "outputs": [
        {
          "output_type": "stream",
          "name": "stdout",
          "text": [
            "R2 Value Test: 0.8936440147962301\n",
            "MSE Test: 0.0031584485600425964\n",
            "MAE Test: 0.043910815426463655\n"
          ]
        }
      ]
    },
    {
      "cell_type": "code",
      "source": [
        "sns.distplot(y_pred, hist = False, color = 'r', label = 'Predicted Values')\n",
        "sns.distplot(y_test, hist = False, color = 'b', label = 'Actual Values')\n",
        "plt.title('Actual vs Predicted Values', fontsize = 16)\n",
        "plt.xlabel('Values', fontsize = 12)\n",
        "plt.ylabel('Frequency', fontsize = 12)\n",
        "plt.legend(loc = 'upper left', fontsize = 13)"
      ],
      "metadata": {
        "colab": {
          "base_uri": "https://localhost:8080/",
          "height": 410
        },
        "id": "X23AQzWGd0LH",
        "outputId": "038c35a2-b302-462b-b817-03a5eeff9ed5"
      },
      "execution_count": null,
      "outputs": [
        {
          "output_type": "stream",
          "name": "stderr",
          "text": [
            "/usr/local/lib/python3.8/dist-packages/seaborn/distributions.py:2619: FutureWarning: `distplot` is a deprecated function and will be removed in a future version. Please adapt your code to use either `displot` (a figure-level function with similar flexibility) or `kdeplot` (an axes-level function for kernel density plots).\n",
            "  warnings.warn(msg, FutureWarning)\n",
            "/usr/local/lib/python3.8/dist-packages/seaborn/distributions.py:2619: FutureWarning: `distplot` is a deprecated function and will be removed in a future version. Please adapt your code to use either `displot` (a figure-level function with similar flexibility) or `kdeplot` (an axes-level function for kernel density plots).\n",
            "  warnings.warn(msg, FutureWarning)\n"
          ]
        },
        {
          "output_type": "execute_result",
          "data": {
            "text/plain": [
              "<matplotlib.legend.Legend at 0x7f2618c8a7f0>"
            ]
          },
          "metadata": {},
          "execution_count": 76
        },
        {
          "output_type": "display_data",
          "data": {
            "text/plain": [
              "<Figure size 432x288 with 1 Axes>"
            ],
            "image/png": "[encoded data removed]"
          },
          "metadata": {
            "needs_background": "light"
          }
        }
      ]
    },
    {
      "cell_type": "code",
      "source": [
        "hyperParameter(df)"
      ],
      "metadata": {
        "colab": {
          "base_uri": "https://localhost:8080/"
        },
        "id": "LLWYfhbb7aby",
        "outputId": "62c95045-1b6f-4507-c3f5-686f89978959"
      },
      "execution_count": null,
      "outputs": [
        {
          "output_type": "stream",
          "name": "stderr",
          "text": [
            "<ipython-input-3-dbc7f8781684>:3: FutureWarning: In a future version of pandas all arguments of DataFrame.drop except for the argument 'labels' will be keyword-only\n",
            "  X = data.drop('telomere length (kb)',1)\n",
            "/usr/local/lib/python3.8/dist-packages/sklearn/model_selection/_validation.py:372: FitFailedWarning: \n",
            "525 fits failed out of a total of 2100.\n",
            "The score on these train-test partitions for these parameters will be set to nan.\n",
            "If these failures are not expected, you can try to debug them by setting error_score='raise'.\n",
            "\n",
            "Below are more details about the failures:\n",
            "--------------------------------------------------------------------------------\n",
            "525 fits failed with the following error:\n",
            "Traceback (most recent call last):\n",
            "  File \"/usr/local/lib/python3.8/dist-packages/sklearn/model_selection/_validation.py\", line 680, in _fit_and_score\n",
            "    estimator.fit(X_train, y_train, **fit_params)\n",
            "  File \"/usr/local/lib/python3.8/dist-packages/sklearn/neural_network/_multilayer_perceptron.py\", line 752, in fit\n",
            "    return self._fit(X, y, incremental=False)\n",
            "  File \"/usr/local/lib/python3.8/dist-packages/sklearn/neural_network/_multilayer_perceptron.py\", line 384, in _fit\n",
            "    self._validate_hyperparameters()\n",
            "  File \"/usr/local/lib/python3.8/dist-packages/sklearn/neural_network/_multilayer_perceptron.py\", line 493, in _validate_hyperparameters\n",
            "    raise ValueError(\n",
            "ValueError: The activation 'identify' is not supported. Supported activations are ['identity', 'logistic', 'relu', 'softmax', 'tanh'].\n",
            "\n",
            "  warnings.warn(some_fits_failed_message, FitFailedWarning)\n",
            "/usr/local/lib/python3.8/dist-packages/sklearn/model_selection/_search.py:969: UserWarning: One or more of the test scores are non-finite: [-0.23179214 -0.25957523  0.99486224 -0.23179214 -0.25957523  0.99486224\n",
            " -0.23179214 -0.25957523  0.99486224 -0.23179214 -0.25957523  0.99486224\n",
            " -0.23179214 -0.25957523  0.99486224  0.02002543  0.76055119  0.993464\n",
            "  0.02002543  0.76055119  0.993464    0.02002543  0.76055119  0.993464\n",
            "  0.02002543  0.76055119  0.993464    0.02002543  0.76055119  0.993464\n",
            "  0.52328514  0.68072295  0.99438416  0.52328514  0.68072295  0.99438416\n",
            "  0.52328514  0.68072295  0.99438416  0.52328514  0.68072295  0.99438416\n",
            "  0.52328514  0.68072295  0.99438416  0.31931254  0.74980944  0.99449027\n",
            "  0.31931254  0.74980944  0.99449027  0.31931254  0.74980944  0.99449027\n",
            "  0.31931254  0.74980944  0.99449027  0.31931254  0.74980944  0.99449027\n",
            "  0.57027882  0.84449558  0.99466941  0.57027882  0.84449558  0.99466941\n",
            "  0.57027882  0.84449558  0.99466941  0.57027882  0.84449558  0.99466941\n",
            "  0.57027882  0.84449558  0.99466941  0.13808811  0.89184407  0.99467297\n",
            "  0.13808811  0.89184407  0.99467297  0.13808811  0.89184407  0.99467297\n",
            "  0.13808811  0.89184407  0.99467297  0.13808811  0.89184407  0.99467297\n",
            "  0.52002502  0.87031915  0.99314146  0.52002502  0.87031915  0.99314146\n",
            "  0.52002502  0.87031915  0.99314146  0.52002502  0.87031915  0.99314146\n",
            "  0.52002502  0.87031915  0.99314146  0.55400068  0.42356849  0.99313566\n",
            "  0.55400068  0.42356849  0.99313566  0.55400068  0.42356849  0.99313566\n",
            "  0.55400068  0.42356849  0.99313566  0.55400068  0.42356849  0.99313566\n",
            " -0.0446569   0.42194014  0.99483411 -0.0446569   0.42194014  0.99483411\n",
            " -0.0446569   0.42194014  0.99483411 -0.0446569   0.42194014  0.99483411\n",
            " -0.0446569   0.42194014  0.99483411  0.50008804  0.6183492   0.99461592\n",
            "  0.50008804  0.6183492   0.99461592  0.50008804  0.6183492   0.99461592\n",
            "  0.50008804  0.6183492   0.99461592  0.50008804  0.6183492   0.99461592\n",
            "  0.29016842  0.82217957  0.99349288  0.29016842  0.82217957  0.99349288\n",
            "  0.29016842  0.82217957  0.99349288  0.29016842  0.82217957  0.99349288\n",
            "  0.29016842  0.82217957  0.99349288  0.58931345  0.90256179  0.99355159\n",
            "  0.58931345  0.90256179  0.99355159  0.58931345  0.90256179  0.99355159\n",
            "  0.58931345  0.90256179  0.99355159  0.58931345  0.90256179  0.99355159\n",
            "  0.40960312  0.87017168  0.99382804  0.40960312  0.87017168  0.99382804\n",
            "  0.40960312  0.87017168  0.99382804  0.40960312  0.87017168  0.99382804\n",
            "  0.40960312  0.87017168  0.99382804  0.25382309  0.91212843  0.99413094\n",
            "  0.25382309  0.91212843  0.99413094  0.25382309  0.91212843  0.99413094\n",
            "  0.25382309  0.91212843  0.99413094  0.25382309  0.91212843  0.99413094\n",
            "         nan         nan         nan         nan         nan         nan\n",
            "         nan         nan         nan         nan         nan         nan\n",
            "         nan         nan         nan         nan         nan         nan\n",
            "         nan         nan         nan         nan         nan         nan\n",
            "         nan         nan         nan         nan         nan         nan\n",
            "         nan         nan         nan         nan         nan         nan\n",
            "         nan         nan         nan         nan         nan         nan\n",
            "         nan         nan         nan         nan         nan         nan\n",
            "         nan         nan         nan         nan         nan         nan\n",
            "         nan         nan         nan         nan         nan         nan\n",
            "         nan         nan         nan         nan         nan         nan\n",
            "         nan         nan         nan         nan         nan         nan\n",
            "         nan         nan         nan         nan         nan         nan\n",
            "         nan         nan         nan         nan         nan         nan\n",
            "         nan         nan         nan         nan         nan         nan\n",
            "         nan         nan         nan         nan         nan         nan\n",
            "         nan         nan         nan         nan         nan         nan\n",
            "         nan         nan         nan  0.13798593  0.35538186  0.98958395\n",
            "  0.13798593  0.35538186  0.98958395  0.13798593  0.35538186  0.98958395\n",
            "  0.13798593  0.35538186  0.98958395  0.13798593  0.35538186  0.98958395\n",
            " -0.08569569  0.26034496  0.98912948 -0.08569569  0.26034496  0.98912948\n",
            " -0.08569569  0.26034496  0.98912948 -0.08569569  0.26034496  0.98912948\n",
            " -0.08569569  0.26034496  0.98912948 -0.12757767  0.18603857  0.98848487\n",
            " -0.12757767  0.18603857  0.98848487 -0.12757767  0.18603857  0.98848487\n",
            " -0.12757767  0.18603857  0.98848487 -0.12757767  0.18603857  0.98848487\n",
            " -0.18708655  0.63495901  0.9900513  -0.18708655  0.63495901  0.9900513\n",
            " -0.18708655  0.63495901  0.9900513  -0.18708655  0.63495901  0.9900513\n",
            " -0.18708655  0.63495901  0.9900513  -0.06591349  0.78342668  0.98965369\n",
            " -0.06591349  0.78342668  0.98965369 -0.06591349  0.78342668  0.98965369\n",
            " -0.06591349  0.78342668  0.98965369 -0.06591349  0.78342668  0.98965369\n",
            "  0.04793831  0.6627464   0.99030876  0.04793831  0.6627464   0.99030876\n",
            "  0.04793831  0.6627464   0.99030876  0.04793831  0.6627464   0.99030876\n",
            "  0.04793831  0.6627464   0.99030876 -0.18116896  0.64568918  0.9894997\n",
            " -0.18116896  0.64568918  0.9894997  -0.18116896  0.64568918  0.9894997\n",
            " -0.18116896  0.64568918  0.9894997  -0.18116896  0.64568918  0.9894997 ]\n",
            "  warnings.warn(\n",
            "/usr/local/lib/python3.8/dist-packages/sklearn/model_selection/_search.py:984: RuntimeWarning: invalid value encountered in cast\n",
            "  results[\"rank_%s\" % key_name] = np.asarray(\n"
          ]
        },
        {
          "output_type": "execute_result",
          "data": {
            "text/plain": [
              "{'activation': 'tanh',\n",
              " 'hidden_layer_sizes': (10,),\n",
              " 'max_iter': 200,\n",
              " 'random_state': 216,\n",
              " 'solver': 'sgd'}"
            ]
          },
          "metadata": {},
          "execution_count": 14
        }
      ]
    },
    {
      "cell_type": "code",
      "source": [
        "y = df['telomere length (kb)']\n",
        "X = df.drop('telomere length (kb)',1)\n",
        "X_train, X_test, y_train, y_test = train_test_split(X, y, test_size=0.2, random_state=216)"
      ],
      "metadata": {
        "colab": {
          "base_uri": "https://localhost:8080/"
        },
        "id": "dTq9He3AWvw4",
        "outputId": "8ba8b4b0-7dbd-4eec-a18b-80655b2b20b9"
      },
      "execution_count": null,
      "outputs": [
        {
          "output_type": "stream",
          "name": "stderr",
          "text": [
            "<ipython-input-77-6fcfdf7c125b>:2: FutureWarning: In a future version of pandas all arguments of DataFrame.drop except for the argument 'labels' will be keyword-only\n",
            "  X = df.drop('telomere length (kb)',1)\n"
          ]
        }
      ]
    },
    {
      "cell_type": "code",
      "source": [
        "model = MLPRegressor(hidden_layer_sizes= (10,),activation = 'tanh',solver = 'sgd',max_iter=200,random_state = 216)\n",
        "model.fit(X_train, y_train)"
      ],
      "metadata": {
        "colab": {
          "base_uri": "https://localhost:8080/"
        },
        "id": "w2Dlu6hJ9f_E",
        "outputId": "1eefbe9d-ada1-4542-91c1-95d2d75555b1"
      },
      "execution_count": null,
      "outputs": [
        {
          "output_type": "execute_result",
          "data": {
            "text/plain": [
              "MLPRegressor(activation='tanh', hidden_layer_sizes=(10,), random_state=216,\n",
              "             solver='sgd')"
            ]
          },
          "metadata": {},
          "execution_count": 78
        }
      ]
    },
    {
      "cell_type": "code",
      "source": [
        "y_pred = model.predict(X_test)"
      ],
      "metadata": {
        "id": "VWIqyRnk9wBp"
      },
      "execution_count": null,
      "outputs": []
    },
    {
      "cell_type": "code",
      "source": [
        "#Train\n",
        "print('R2 Value Train:',metrics.r2_score(y_train, model.predict(X_train)))\n",
        "print('MSE Train:',metrics.mean_squared_error(y_train, model.predict(X_train)))\n",
        "print('MAE Train:',metrics.mean_absolute_error(y_train, model.predict(X_train)))"
      ],
      "metadata": {
        "colab": {
          "base_uri": "https://localhost:8080/"
        },
        "id": "V1VKTjfF9xuo",
        "outputId": "b334fed4-fda9-474b-f61d-fdead93b9e1d"
      },
      "execution_count": null,
      "outputs": [
        {
          "output_type": "stream",
          "name": "stdout",
          "text": [
            "R2 Value Train: -0.2085932127927559\n",
            "MSE Train: 0.042577235911749944\n",
            "MAE Train: 0.16014546916650146\n"
          ]
        }
      ]
    },
    {
      "cell_type": "code",
      "source": [
        "print('MAPE :',mean_absolute_percentage_error(y_test, y_pred))"
      ],
      "metadata": {
        "colab": {
          "base_uri": "https://localhost:8080/"
        },
        "id": "N-MFq5jy9zLS",
        "outputId": "77c47b27-0afd-45b8-ad06-8c25d9224ae0"
      },
      "execution_count": null,
      "outputs": [
        {
          "output_type": "stream",
          "name": "stdout",
          "text": [
            "MAPE : 0.7179975741044345\n"
          ]
        }
      ]
    },
    {
      "cell_type": "code",
      "source": [
        "#Test\n",
        "print('R2 Value Test:',metrics.r2_score(y_test, y_pred))\n",
        "print('MSE Test:',metrics.mean_squared_error(y_test, y_pred))\n",
        "print('MAE Test:',metrics.mean_absolute_error(y_test, y_pred))"
      ],
      "metadata": {
        "colab": {
          "base_uri": "https://localhost:8080/"
        },
        "id": "KK582LPz91Yz",
        "outputId": "ff6a7d26-5e6f-4217-8653-bae91bff7fd2"
      },
      "execution_count": null,
      "outputs": [
        {
          "output_type": "stream",
          "name": "stdout",
          "text": [
            "R2 Value Test: -0.13681439441196774\n",
            "MSE Test: 0.03375992221017859\n",
            "MAE Test: 0.14288340156174942\n"
          ]
        }
      ]
    },
    {
      "cell_type": "code",
      "source": [
        "sns.distplot(y_pred, hist = False, color = 'r', label = 'Predicted Values')\n",
        "sns.distplot(y_test, hist = False, color = 'b', label = 'Actual Values')\n",
        "plt.title('Actual vs Predicted Values', fontsize = 16)\n",
        "plt.xlabel('Values', fontsize = 12)\n",
        "plt.ylabel('Frequency', fontsize = 12)\n",
        "plt.legend(loc = 'upper left', fontsize = 13)"
      ],
      "metadata": {
        "colab": {
          "base_uri": "https://localhost:8080/",
          "height": 410
        },
        "id": "vSiHI0kBdzPz",
        "outputId": "a454b6ac-2191-4972-ced2-726bc0cc3fa3"
      },
      "execution_count": null,
      "outputs": [
        {
          "output_type": "stream",
          "name": "stderr",
          "text": [
            "/usr/local/lib/python3.8/dist-packages/seaborn/distributions.py:2619: FutureWarning: `distplot` is a deprecated function and will be removed in a future version. Please adapt your code to use either `displot` (a figure-level function with similar flexibility) or `kdeplot` (an axes-level function for kernel density plots).\n",
            "  warnings.warn(msg, FutureWarning)\n",
            "/usr/local/lib/python3.8/dist-packages/seaborn/distributions.py:2619: FutureWarning: `distplot` is a deprecated function and will be removed in a future version. Please adapt your code to use either `displot` (a figure-level function with similar flexibility) or `kdeplot` (an axes-level function for kernel density plots).\n",
            "  warnings.warn(msg, FutureWarning)\n"
          ]
        },
        {
          "output_type": "execute_result",
          "data": {
            "text/plain": [
              "<matplotlib.legend.Legend at 0x7f2618c61d60>"
            ]
          },
          "metadata": {},
          "execution_count": 83
        },
        {
          "output_type": "display_data",
          "data": {
            "text/plain": [
              "<Figure size 432x288 with 1 Axes>"
            ],
            "image/png": "[encoded data removed]"
          },
          "metadata": {
            "needs_background": "light"
          }
        }
      ]
    },
    {
      "cell_type": "markdown",
      "source": [
        "# data2"
      ],
      "metadata": {
        "id": "5AJz7f3a34d7"
      }
    },
    {
      "cell_type": "code",
      "source": [
        "data2 = pd.read_csv(os.path.join(path,'df_2.csv'))\n",
        "data2.drop('Unnamed: 0',1,inplace = True)"
      ],
      "metadata": {
        "colab": {
          "base_uri": "https://localhost:8080/"
        },
        "id": "7PsubGiO36Sf",
        "outputId": "ca793c34-4128-410d-fb0b-ba5106c48700"
      },
      "execution_count": null,
      "outputs": [
        {
          "output_type": "stream",
          "name": "stderr",
          "text": [
            "<ipython-input-84-9295e0cecbd9>:2: FutureWarning: In a future version of pandas all arguments of DataFrame.drop except for the argument 'labels' will be keyword-only\n",
            "  data2.drop('Unnamed: 0',1,inplace = True)\n"
          ]
        }
      ]
    },
    {
      "cell_type": "code",
      "source": [
        "scaler = MinMaxScaler()\n",
        "Scaler = scaler.fit_transform(data2)"
      ],
      "metadata": {
        "id": "iXSepfPK37Wt"
      },
      "execution_count": null,
      "outputs": []
    },
    {
      "cell_type": "code",
      "source": [
        "df2 = pd.DataFrame(  Scaler, columns = ['Sex' , 'AgeSYear', 'telomere length (kb)','Weight','Height','BMI','Systolic','Diastolic','HeartRate','SMM','Fat Mass',\n",
        "                                       '% Body fat','waist to hip radio','abdominal circumference','visceral fat area','Glucose','BUN','Creatinine','Uric Acid','Cholesterol',\n",
        "                                       'Triglyceride','HDL-C','LDL','AST','ALT','Alkaline Phos','HbA1c'])\n",
        "df2"
      ],
      "metadata": {
        "colab": {
          "base_uri": "https://localhost:8080/",
          "height": 467
        },
        "id": "5Q3gyPfh382r",
        "outputId": "7c778ded-557f-43bc-8ebf-b200839efe59"
      },
      "execution_count": null,
      "outputs": [
        {
          "output_type": "execute_result",
          "data": {
            "text/plain": [
              "     Sex  AgeSYear  telomere length (kb)    Weight    Height       BMI  \\\n",
              "0    1.0  0.582090              0.154562  0.250000  0.198473  0.531707   \n",
              "1    1.0  0.567164              0.158287  0.181818  0.259542  0.551220   \n",
              "2    1.0  0.074627              0.266294  0.272727  0.366412  0.443902   \n",
              "3    1.0  0.641791              0.288641  0.454545  0.244275  0.365854   \n",
              "4    1.0  1.000000              0.188082  0.204545  0.297710  0.697561   \n",
              "..   ...       ...                   ...       ...       ...       ...   \n",
              "417  1.0  0.089552              0.150838  0.454545  0.038168  0.453659   \n",
              "418  1.0  0.179104              0.620112  0.522727  0.671756  0.639024   \n",
              "419  1.0  0.194030              0.498250  0.271818  0.700763  0.569366   \n",
              "420  0.0  0.149254              0.537579  0.565909  0.539695  0.582488   \n",
              "421  1.0  0.179104              0.428957  0.374091  0.554198  0.544780   \n",
              "\n",
              "     Systolic  Diastolic  HeartRate       SMM  ...  Creatinine  Uric Acid  \\\n",
              "0    0.333333   0.306452   0.099431  0.230680  ...    0.424242   0.438849   \n",
              "1    0.537037   0.290323   0.085409  0.208738  ...    0.454545   0.410072   \n",
              "2    0.425926   0.435484   0.156584  0.259709  ...    0.484848   0.287770   \n",
              "3    0.537037   0.516129   0.167260  0.274272  ...    0.318182   0.798561   \n",
              "4    0.611111   0.516129   0.112349  0.300850  ...    0.515152   0.460432   \n",
              "..        ...        ...        ...       ...  ...         ...        ...   \n",
              "417  0.314815   0.612903   0.120961  0.234903  ...    0.424242   0.812950   \n",
              "418  0.796296   0.290323   0.298434  0.346626  ...    0.621212   0.489209   \n",
              "419  0.503148   0.382581   0.237473  0.506432  ...    0.469697   0.741007   \n",
              "420  0.546296   0.554355   0.457402  0.309175  ...    0.727273   0.151079   \n",
              "421  0.468704   0.367258   0.227580  0.435704  ...    0.303030   0.892086   \n",
              "\n",
              "     Cholesterol  Triglyceride     HDL-C       LDL       AST       ALT  \\\n",
              "0       0.211082      0.402299  0.350365  0.271186  0.376812  0.203390   \n",
              "1       0.089710      0.517241  0.321168  0.118644  0.144928  0.389831   \n",
              "2       0.073879      0.287356  0.350365  0.067797  0.159420  0.288136   \n",
              "3       0.203166      0.390805  0.737226  0.152542  0.362319  0.508475   \n",
              "4       0.182058      0.137931  0.562044  0.050847  0.231884  0.559322   \n",
              "..           ...           ...       ...       ...       ...       ...   \n",
              "417     0.050132      0.793103  0.569343  0.152542  0.086957  0.254237   \n",
              "418     0.084433      0.275862  0.562044  0.203390  0.260870  0.466102   \n",
              "419     0.108179      0.597701  0.598540  0.135593  0.057971  0.152542   \n",
              "420     0.197889      0.241379  0.167883  0.372881  1.000000  0.449153   \n",
              "421     0.379947      0.689655  0.540146  0.254237  0.072464  0.254237   \n",
              "\n",
              "     Alkaline Phos     HbA1c  \n",
              "0         0.540984  0.119472  \n",
              "1         0.426230  0.083010  \n",
              "2         0.475410  0.212956  \n",
              "3         0.508197  0.075640  \n",
              "4         0.606557  0.012801  \n",
              "..             ...       ...  \n",
              "417       0.461639  0.184639  \n",
              "418       0.445082  0.155547  \n",
              "419       0.498689  0.177269  \n",
              "420       0.528689  0.182700  \n",
              "421       0.380000  0.143522  \n",
              "\n",
              "[422 rows x 27 columns]"
            ],
            "text/html": [
              "\n",
              "  <div id=\"df-b97eee7f-89ef-4842-9d27-efe647d68cde\">\n",
              "    <div class=\"colab-df-container\">\n",
              "      <div>\n",
              "<style scoped>\n",
              "    .dataframe tbody tr th:only-of-type {\n",
              "        vertical-align: middle;\n",
              "    }\n",
              "\n",
              "    .dataframe tbody tr th {\n",
              "        vertical-align: top;\n",
              "    }\n",
              "\n",
              "    .dataframe thead th {\n",
              "        text-align: right;\n",
              "    }\n",
              "</style>\n",
              "<table border=\"1\" class=\"dataframe\">\n",
              "  <thead>\n",
              "    <tr style=\"text-align: right;\">\n",
              "      <th></th>\n",
              "      <th>Sex</th>\n",
              "      <th>AgeSYear</th>\n",
              "      <th>telomere length (kb)</th>\n",
              "      <th>Weight</th>\n",
              "      <th>Height</th>\n",
              "      <th>BMI</th>\n",
              "      <th>Systolic</th>\n",
              "      <th>Diastolic</th>\n",
              "      <th>HeartRate</th>\n",
              "      <th>SMM</th>\n",
              "      <th>...</th>\n",
              "      <th>Creatinine</th>\n",
              "      <th>Uric Acid</th>\n",
              "      <th>Cholesterol</th>\n",
              "      <th>Triglyceride</th>\n",
              "      <th>HDL-C</th>\n",
              "      <th>LDL</th>\n",
              "      <th>AST</th>\n",
              "      <th>ALT</th>\n",
              "      <th>Alkaline Phos</th>\n",
              "      <th>HbA1c</th>\n",
              "    </tr>\n",
              "  </thead>\n",
              "  <tbody>\n",
              "    <tr>\n",
              "      <th>0</th>\n",
              "      <td>1.0</td>\n",
              "      <td>0.582090</td>\n",
              "      <td>0.154562</td>\n",
              "      <td>0.250000</td>\n",
              "      <td>0.198473</td>\n",
              "      <td>0.531707</td>\n",
              "      <td>0.333333</td>\n",
              "      <td>0.306452</td>\n",
              "      <td>0.099431</td>\n",
              "      <td>0.230680</td>\n",
              "      <td>...</td>\n",
              "      <td>0.424242</td>\n",
              "      <td>0.438849</td>\n",
              "      <td>0.211082</td>\n",
              "      <td>0.402299</td>\n",
              "      <td>0.350365</td>\n",
              "      <td>0.271186</td>\n",
              "      <td>0.376812</td>\n",
              "      <td>0.203390</td>\n",
              "      <td>0.540984</td>\n",
              "      <td>0.119472</td>\n",
              "    </tr>\n",
              "    <tr>\n",
              "      <th>1</th>\n",
              "      <td>1.0</td>\n",
              "      <td>0.567164</td>\n",
              "      <td>0.158287</td>\n",
              "      <td>0.181818</td>\n",
              "      <td>0.259542</td>\n",
              "      <td>0.551220</td>\n",
              "      <td>0.537037</td>\n",
              "      <td>0.290323</td>\n",
              "      <td>0.085409</td>\n",
              "      <td>0.208738</td>\n",
              "      <td>...</td>\n",
              "      <td>0.454545</td>\n",
              "      <td>0.410072</td>\n",
              "      <td>0.089710</td>\n",
              "      <td>0.517241</td>\n",
              "      <td>0.321168</td>\n",
              "      <td>0.118644</td>\n",
              "      <td>0.144928</td>\n",
              "      <td>0.389831</td>\n",
              "      <td>0.426230</td>\n",
              "      <td>0.083010</td>\n",
              "    </tr>\n",
              "    <tr>\n",
              "      <th>2</th>\n",
              "      <td>1.0</td>\n",
              "      <td>0.074627</td>\n",
              "      <td>0.266294</td>\n",
              "      <td>0.272727</td>\n",
              "      <td>0.366412</td>\n",
              "      <td>0.443902</td>\n",
              "      <td>0.425926</td>\n",
              "      <td>0.435484</td>\n",
              "      <td>0.156584</td>\n",
              "      <td>0.259709</td>\n",
              "      <td>...</td>\n",
              "      <td>0.484848</td>\n",
              "      <td>0.287770</td>\n",
              "      <td>0.073879</td>\n",
              "      <td>0.287356</td>\n",
              "      <td>0.350365</td>\n",
              "      <td>0.067797</td>\n",
              "      <td>0.159420</td>\n",
              "      <td>0.288136</td>\n",
              "      <td>0.475410</td>\n",
              "      <td>0.212956</td>\n",
              "    </tr>\n",
              "    <tr>\n",
              "      <th>3</th>\n",
              "      <td>1.0</td>\n",
              "      <td>0.641791</td>\n",
              "      <td>0.288641</td>\n",
              "      <td>0.454545</td>\n",
              "      <td>0.244275</td>\n",
              "      <td>0.365854</td>\n",
              "      <td>0.537037</td>\n",
              "      <td>0.516129</td>\n",
              "      <td>0.167260</td>\n",
              "      <td>0.274272</td>\n",
              "      <td>...</td>\n",
              "      <td>0.318182</td>\n",
              "      <td>0.798561</td>\n",
              "      <td>0.203166</td>\n",
              "      <td>0.390805</td>\n",
              "      <td>0.737226</td>\n",
              "      <td>0.152542</td>\n",
              "      <td>0.362319</td>\n",
              "      <td>0.508475</td>\n",
              "      <td>0.508197</td>\n",
              "      <td>0.075640</td>\n",
              "    </tr>\n",
              "    <tr>\n",
              "      <th>4</th>\n",
              "      <td>1.0</td>\n",
              "      <td>1.000000</td>\n",
              "      <td>0.188082</td>\n",
              "      <td>0.204545</td>\n",
              "      <td>0.297710</td>\n",
              "      <td>0.697561</td>\n",
              "      <td>0.611111</td>\n",
              "      <td>0.516129</td>\n",
              "      <td>0.112349</td>\n",
              "      <td>0.300850</td>\n",
              "      <td>...</td>\n",
              "      <td>0.515152</td>\n",
              "      <td>0.460432</td>\n",
              "      <td>0.182058</td>\n",
              "      <td>0.137931</td>\n",
              "      <td>0.562044</td>\n",
              "      <td>0.050847</td>\n",
              "      <td>0.231884</td>\n",
              "      <td>0.559322</td>\n",
              "      <td>0.606557</td>\n",
              "      <td>0.012801</td>\n",
              "    </tr>\n",
              "    <tr>\n",
              "      <th>...</th>\n",
              "      <td>...</td>\n",
              "      <td>...</td>\n",
              "      <td>...</td>\n",
              "      <td>...</td>\n",
              "      <td>...</td>\n",
              "      <td>...</td>\n",
              "      <td>...</td>\n",
              "      <td>...</td>\n",
              "      <td>...</td>\n",
              "      <td>...</td>\n",
              "      <td>...</td>\n",
              "      <td>...</td>\n",
              "      <td>...</td>\n",
              "      <td>...</td>\n",
              "      <td>...</td>\n",
              "      <td>...</td>\n",
              "      <td>...</td>\n",
              "      <td>...</td>\n",
              "      <td>...</td>\n",
              "      <td>...</td>\n",
              "      <td>...</td>\n",
              "    </tr>\n",
              "    <tr>\n",
              "      <th>417</th>\n",
              "      <td>1.0</td>\n",
              "      <td>0.089552</td>\n",
              "      <td>0.150838</td>\n",
              "      <td>0.454545</td>\n",
              "      <td>0.038168</td>\n",
              "      <td>0.453659</td>\n",
              "      <td>0.314815</td>\n",
              "      <td>0.612903</td>\n",
              "      <td>0.120961</td>\n",
              "      <td>0.234903</td>\n",
              "      <td>...</td>\n",
              "      <td>0.424242</td>\n",
              "      <td>0.812950</td>\n",
              "      <td>0.050132</td>\n",
              "      <td>0.793103</td>\n",
              "      <td>0.569343</td>\n",
              "      <td>0.152542</td>\n",
              "      <td>0.086957</td>\n",
              "      <td>0.254237</td>\n",
              "      <td>0.461639</td>\n",
              "      <td>0.184639</td>\n",
              "    </tr>\n",
              "    <tr>\n",
              "      <th>418</th>\n",
              "      <td>1.0</td>\n",
              "      <td>0.179104</td>\n",
              "      <td>0.620112</td>\n",
              "      <td>0.522727</td>\n",
              "      <td>0.671756</td>\n",
              "      <td>0.639024</td>\n",
              "      <td>0.796296</td>\n",
              "      <td>0.290323</td>\n",
              "      <td>0.298434</td>\n",
              "      <td>0.346626</td>\n",
              "      <td>...</td>\n",
              "      <td>0.621212</td>\n",
              "      <td>0.489209</td>\n",
              "      <td>0.084433</td>\n",
              "      <td>0.275862</td>\n",
              "      <td>0.562044</td>\n",
              "      <td>0.203390</td>\n",
              "      <td>0.260870</td>\n",
              "      <td>0.466102</td>\n",
              "      <td>0.445082</td>\n",
              "      <td>0.155547</td>\n",
              "    </tr>\n",
              "    <tr>\n",
              "      <th>419</th>\n",
              "      <td>1.0</td>\n",
              "      <td>0.194030</td>\n",
              "      <td>0.498250</td>\n",
              "      <td>0.271818</td>\n",
              "      <td>0.700763</td>\n",
              "      <td>0.569366</td>\n",
              "      <td>0.503148</td>\n",
              "      <td>0.382581</td>\n",
              "      <td>0.237473</td>\n",
              "      <td>0.506432</td>\n",
              "      <td>...</td>\n",
              "      <td>0.469697</td>\n",
              "      <td>0.741007</td>\n",
              "      <td>0.108179</td>\n",
              "      <td>0.597701</td>\n",
              "      <td>0.598540</td>\n",
              "      <td>0.135593</td>\n",
              "      <td>0.057971</td>\n",
              "      <td>0.152542</td>\n",
              "      <td>0.498689</td>\n",
              "      <td>0.177269</td>\n",
              "    </tr>\n",
              "    <tr>\n",
              "      <th>420</th>\n",
              "      <td>0.0</td>\n",
              "      <td>0.149254</td>\n",
              "      <td>0.537579</td>\n",
              "      <td>0.565909</td>\n",
              "      <td>0.539695</td>\n",
              "      <td>0.582488</td>\n",
              "      <td>0.546296</td>\n",
              "      <td>0.554355</td>\n",
              "      <td>0.457402</td>\n",
              "      <td>0.309175</td>\n",
              "      <td>...</td>\n",
              "      <td>0.727273</td>\n",
              "      <td>0.151079</td>\n",
              "      <td>0.197889</td>\n",
              "      <td>0.241379</td>\n",
              "      <td>0.167883</td>\n",
              "      <td>0.372881</td>\n",
              "      <td>1.000000</td>\n",
              "      <td>0.449153</td>\n",
              "      <td>0.528689</td>\n",
              "      <td>0.182700</td>\n",
              "    </tr>\n",
              "    <tr>\n",
              "      <th>421</th>\n",
              "      <td>1.0</td>\n",
              "      <td>0.179104</td>\n",
              "      <td>0.428957</td>\n",
              "      <td>0.374091</td>\n",
              "      <td>0.554198</td>\n",
              "      <td>0.544780</td>\n",
              "      <td>0.468704</td>\n",
              "      <td>0.367258</td>\n",
              "      <td>0.227580</td>\n",
              "      <td>0.435704</td>\n",
              "      <td>...</td>\n",
              "      <td>0.303030</td>\n",
              "      <td>0.892086</td>\n",
              "      <td>0.379947</td>\n",
              "      <td>0.689655</td>\n",
              "      <td>0.540146</td>\n",
              "      <td>0.254237</td>\n",
              "      <td>0.072464</td>\n",
              "      <td>0.254237</td>\n",
              "      <td>0.380000</td>\n",
              "      <td>0.143522</td>\n",
              "    </tr>\n",
              "  </tbody>\n",
              "</table>\n",
              "<p>422 rows × 27 columns</p>\n",
              "</div>\n",
              "      <button class=\"colab-df-convert\" onclick=\"convertToInteractive('df-b97eee7f-89ef-4842-9d27-efe647d68cde')\"\n",
              "              title=\"Convert this dataframe to an interactive table.\"\n",
              "              style=\"display:none;\">\n",
              "        \n",
              "  <svg xmlns=\"http://www.w3.org/2000/svg\" height=\"24px\"viewBox=\"0 0 24 24\"\n",
              "       width=\"24px\">\n",
              "    <path d=\"M0 0h24v24H0V0z\" fill=\"none\"/>\n",
              "    <path d=\"M18.56 5.44l.94 2.06.94-2.06 2.06-.94-2.06-.94-.94-2.06-.94 2.06-2.06.94zm-11 1L8.5 8.5l.94-2.06 2.06-.94-2.06-.94L8.5 2.5l-.94 2.06-2.06.94zm10 10l.94 2.06.94-2.06 2.06-.94-2.06-.94-.94-2.06-.94 2.06-2.06.94z\"/><path d=\"M17.41 7.96l-1.37-1.37c-.4-.4-.92-.59-1.43-.59-.52 0-1.04.2-1.43.59L10.3 9.45l-7.72 7.72c-.78.78-.78 2.05 0 2.83L4 21.41c.39.39.9.59 1.41.59.51 0 1.02-.2 1.41-.59l7.78-7.78 2.81-2.81c.8-.78.8-2.07 0-2.86zM5.41 20L4 18.59l7.72-7.72 1.47 1.35L5.41 20z\"/>\n",
              "  </svg>\n",
              "      </button>\n",
              "      \n",
              "  <style>\n",
              "    .colab-df-container {\n",
              "      display:flex;\n",
              "      flex-wrap:wrap;\n",
              "      gap: 12px;\n",
              "    }\n",
              "\n",
              "    .colab-df-convert {\n",
              "      background-color: #E8F0FE;\n",
              "      border: none;\n",
              "      border-radius: 50%;\n",
              "      cursor: pointer;\n",
              "      display: none;\n",
              "      fill: #1967D2;\n",
              "      height: 32px;\n",
              "      padding: 0 0 0 0;\n",
              "      width: 32px;\n",
              "    }\n",
              "\n",
              "    .colab-df-convert:hover {\n",
              "      background-color: #E2EBFA;\n",
              "      box-shadow: 0px 1px 2px rgba(60, 64, 67, 0.3), 0px 1px 3px 1px rgba(60, 64, 67, 0.15);\n",
              "      fill: #174EA6;\n",
              "    }\n",
              "\n",
              "    [theme=dark] .colab-df-convert {\n",
              "      background-color: #3B4455;\n",
              "      fill: #D2E3FC;\n",
              "    }\n",
              "\n",
              "    [theme=dark] .colab-df-convert:hover {\n",
              "      background-color: #434B5C;\n",
              "      box-shadow: 0px 1px 3px 1px rgba(0, 0, 0, 0.15);\n",
              "      filter: drop-shadow(0px 1px 2px rgba(0, 0, 0, 0.3));\n",
              "      fill: #FFFFFF;\n",
              "    }\n",
              "  </style>\n",
              "\n",
              "      <script>\n",
              "        const buttonEl =\n",
              "          document.querySelector('#df-b97eee7f-89ef-4842-9d27-efe647d68cde button.colab-df-convert');\n",
              "        buttonEl.style.display =\n",
              "          google.colab.kernel.accessAllowed ? 'block' : 'none';\n",
              "\n",
              "        async function convertToInteractive(key) {\n",
              "          const element = document.querySelector('#df-b97eee7f-89ef-4842-9d27-efe647d68cde');\n",
              "          const dataTable =\n",
              "            await google.colab.kernel.invokeFunction('convertToInteractive',\n",
              "                                                     [key], {});\n",
              "          if (!dataTable) return;\n",
              "\n",
              "          const docLinkHtml = 'Like what you see? Visit the ' +\n",
              "            '<a target=\"_blank\" href=https://colab.research.google.com/notebooks/data_table.ipynb>data table notebook</a>'\n",
              "            + ' to learn more about interactive tables.';\n",
              "          element.innerHTML = '';\n",
              "          dataTable['output_type'] = 'display_data';\n",
              "          await google.colab.output.renderOutput(dataTable, element);\n",
              "          const docLink = document.createElement('div');\n",
              "          docLink.innerHTML = docLinkHtml;\n",
              "          element.appendChild(docLink);\n",
              "        }\n",
              "      </script>\n",
              "    </div>\n",
              "  </div>\n",
              "  "
            ]
          },
          "metadata": {},
          "execution_count": 86
        }
      ]
    },
    {
      "cell_type": "code",
      "source": [
        "y = df2['telomere length (kb)'].values\n",
        "X = df2.drop('telomere length (kb)',1).values"
      ],
      "metadata": {
        "colab": {
          "base_uri": "https://localhost:8080/"
        },
        "id": "Hds5eRdG39LS",
        "outputId": "41ece029-3260-4a76-9e3d-2c5eaa896f12"
      },
      "execution_count": null,
      "outputs": [
        {
          "output_type": "stream",
          "name": "stderr",
          "text": [
            "<ipython-input-87-8bd2b2c93927>:2: FutureWarning: In a future version of pandas all arguments of DataFrame.drop except for the argument 'labels' will be keyword-only\n",
            "  X = df2.drop('telomere length (kb)',1).values\n"
          ]
        }
      ]
    },
    {
      "cell_type": "code",
      "source": [
        "X_train, X_test, y_train, y_test = train_test_split(X, y, test_size=0.2, random_state=216)"
      ],
      "metadata": {
        "id": "r-zUbarZ3_ca"
      },
      "execution_count": null,
      "outputs": []
    },
    {
      "cell_type": "code",
      "source": [
        "model = MLPRegressor(activation = 'relu',solver = 'adam')\n",
        "model.fit(X_train, y_train)"
      ],
      "metadata": {
        "colab": {
          "base_uri": "https://localhost:8080/"
        },
        "id": "XrTLGA-C4Axm",
        "outputId": "ba6c8eb3-f2de-4cc5-dcd3-63228f44d819"
      },
      "execution_count": null,
      "outputs": [
        {
          "output_type": "execute_result",
          "data": {
            "text/plain": [
              "MLPRegressor()"
            ]
          },
          "metadata": {},
          "execution_count": 89
        }
      ]
    },
    {
      "cell_type": "code",
      "source": [
        "y_pred = model.predict(X_test)"
      ],
      "metadata": {
        "id": "khaX96uCcmJk"
      },
      "execution_count": null,
      "outputs": []
    },
    {
      "cell_type": "code",
      "source": [
        "#Train\n",
        "print('R2 Value Train:',metrics.r2_score(y_train, model.predict(X_train)))\n",
        "print('MSE Train:',metrics.mean_squared_error(y_train, model.predict(X_train)))\n",
        "print('MAE Train:',metrics.mean_absolute_error(y_train, model.predict(X_train)))"
      ],
      "metadata": {
        "colab": {
          "base_uri": "https://localhost:8080/"
        },
        "id": "s1CzPHnY4C16",
        "outputId": "12e3dfc2-6fa8-4d47-eac4-2163479b9992"
      },
      "execution_count": null,
      "outputs": [
        {
          "output_type": "stream",
          "name": "stdout",
          "text": [
            "R2 Value Train: 0.9133995589448729\n",
            "MSE Train: 0.0030626619160042637\n",
            "MAE Train: 0.04153162828591969\n"
          ]
        }
      ]
    },
    {
      "cell_type": "code",
      "source": [
        "print('MAPE :',mean_absolute_percentage_error(y_test, y_pred))"
      ],
      "metadata": {
        "colab": {
          "base_uri": "https://localhost:8080/"
        },
        "id": "uhdkUkJr4FLo",
        "outputId": "4e7e62aa-02ef-4689-8e5d-f209009677e4"
      },
      "execution_count": null,
      "outputs": [
        {
          "output_type": "stream",
          "name": "stdout",
          "text": [
            "MAPE : 0.162858812480912\n"
          ]
        }
      ]
    },
    {
      "cell_type": "code",
      "source": [
        "#Test\n",
        "print('R2 Value Test:',metrics.r2_score(y_test, y_pred))\n",
        "print('MSE Test:',metrics.mean_squared_error(y_test, y_pred))\n",
        "print('MAE Test:',metrics.mean_absolute_error(y_test, y_pred))"
      ],
      "metadata": {
        "colab": {
          "base_uri": "https://localhost:8080/"
        },
        "id": "G34aW2N44FaS",
        "outputId": "62d231a6-a337-4a36-98b8-98a716798663"
      },
      "execution_count": null,
      "outputs": [
        {
          "output_type": "stream",
          "name": "stdout",
          "text": [
            "R2 Value Test: 0.8870730942555981\n",
            "MSE Test: 0.003364276747761377\n",
            "MAE Test: 0.04175752503301435\n"
          ]
        }
      ]
    },
    {
      "cell_type": "code",
      "source": [
        "sns.distplot(y_pred, hist = False, color = 'r', label = 'Predicted Values')\n",
        "sns.distplot(y_test, hist = False, color = 'b', label = 'Actual Values')\n",
        "plt.title('Actual vs Predicted Values', fontsize = 16)\n",
        "plt.xlabel('Values', fontsize = 12)\n",
        "plt.ylabel('Frequency', fontsize = 12)\n",
        "plt.legend(loc = 'upper left', fontsize = 13)"
      ],
      "metadata": {
        "colab": {
          "base_uri": "https://localhost:8080/",
          "height": 410
        },
        "id": "BVM7shiEdyVS",
        "outputId": "029b6978-98d2-4e6a-b6c5-af4812ff0cbc"
      },
      "execution_count": null,
      "outputs": [
        {
          "output_type": "stream",
          "name": "stderr",
          "text": [
            "/usr/local/lib/python3.8/dist-packages/seaborn/distributions.py:2619: FutureWarning: `distplot` is a deprecated function and will be removed in a future version. Please adapt your code to use either `displot` (a figure-level function with similar flexibility) or `kdeplot` (an axes-level function for kernel density plots).\n",
            "  warnings.warn(msg, FutureWarning)\n",
            "/usr/local/lib/python3.8/dist-packages/seaborn/distributions.py:2619: FutureWarning: `distplot` is a deprecated function and will be removed in a future version. Please adapt your code to use either `displot` (a figure-level function with similar flexibility) or `kdeplot` (an axes-level function for kernel density plots).\n",
            "  warnings.warn(msg, FutureWarning)\n"
          ]
        },
        {
          "output_type": "execute_result",
          "data": {
            "text/plain": [
              "<matplotlib.legend.Legend at 0x7f261bc6b2b0>"
            ]
          },
          "metadata": {},
          "execution_count": 94
        },
        {
          "output_type": "display_data",
          "data": {
            "text/plain": [
              "<Figure size 432x288 with 1 Axes>"
            ],
            "image/png": "[encoded data removed]"
          },
          "metadata": {
            "needs_background": "light"
          }
        }
      ]
    },
    {
      "cell_type": "code",
      "source": [
        "hyperParameter(df2)"
      ],
      "metadata": {
        "colab": {
          "base_uri": "https://localhost:8080/"
        },
        "id": "1_cPyjqLGyuD",
        "outputId": "ecbdc431-af07-4471-c2fb-2ea75e69ec58"
      },
      "execution_count": null,
      "outputs": [
        {
          "output_type": "stream",
          "name": "stderr",
          "text": [
            "<ipython-input-3-dbc7f8781684>:3: FutureWarning: In a future version of pandas all arguments of DataFrame.drop except for the argument 'labels' will be keyword-only\n",
            "  X = data.drop('telomere length (kb)',1)\n",
            "/usr/local/lib/python3.8/dist-packages/sklearn/model_selection/_validation.py:372: FitFailedWarning: \n",
            "525 fits failed out of a total of 2100.\n",
            "The score on these train-test partitions for these parameters will be set to nan.\n",
            "If these failures are not expected, you can try to debug them by setting error_score='raise'.\n",
            "\n",
            "Below are more details about the failures:\n",
            "--------------------------------------------------------------------------------\n",
            "525 fits failed with the following error:\n",
            "Traceback (most recent call last):\n",
            "  File \"/usr/local/lib/python3.8/dist-packages/sklearn/model_selection/_validation.py\", line 680, in _fit_and_score\n",
            "    estimator.fit(X_train, y_train, **fit_params)\n",
            "  File \"/usr/local/lib/python3.8/dist-packages/sklearn/neural_network/_multilayer_perceptron.py\", line 752, in fit\n",
            "    return self._fit(X, y, incremental=False)\n",
            "  File \"/usr/local/lib/python3.8/dist-packages/sklearn/neural_network/_multilayer_perceptron.py\", line 384, in _fit\n",
            "    self._validate_hyperparameters()\n",
            "  File \"/usr/local/lib/python3.8/dist-packages/sklearn/neural_network/_multilayer_perceptron.py\", line 493, in _validate_hyperparameters\n",
            "    raise ValueError(\n",
            "ValueError: The activation 'identify' is not supported. Supported activations are ['identity', 'logistic', 'relu', 'softmax', 'tanh'].\n",
            "\n",
            "  warnings.warn(some_fits_failed_message, FitFailedWarning)\n",
            "/usr/local/lib/python3.8/dist-packages/sklearn/model_selection/_search.py:969: UserWarning: One or more of the test scores are non-finite: [-0.18334554 -0.20615111  0.99480108 -0.18334554 -0.20615111  0.99480108\n",
            " -0.18334554 -0.20615111  0.99480108 -0.18334554 -0.20615111  0.99480108\n",
            " -0.18334554 -0.20615111  0.99480108  0.01921348  0.76651533  0.99478621\n",
            "  0.01921348  0.76651533  0.99478621  0.01921348  0.76651533  0.99478621\n",
            "  0.01921348  0.76651533  0.99478621  0.01921348  0.76651533  0.99478621\n",
            "  0.52168582  0.68574069  0.99422553  0.52168582  0.68574069  0.99422553\n",
            "  0.52168582  0.68574069  0.99422553  0.52168582  0.68574069  0.99422553\n",
            "  0.52168582  0.68574069  0.99422553  0.34404762  0.76434108  0.99476382\n",
            "  0.34404762  0.76434108  0.99476382  0.34404762  0.76434108  0.99476382\n",
            "  0.34404762  0.76434108  0.99476382  0.34404762  0.76434108  0.99476382\n",
            "  0.57578468  0.84292632  0.99465885  0.57578468  0.84292632  0.99465885\n",
            "  0.57578468  0.84292632  0.99465885  0.57578468  0.84292632  0.99465885\n",
            "  0.57578468  0.84292632  0.99465885  0.15363335  0.89063545  0.99381219\n",
            "  0.15363335  0.89063545  0.99381219  0.15363335  0.89063545  0.99381219\n",
            "  0.15363335  0.89063545  0.99381219  0.15363335  0.89063545  0.99381219\n",
            "  0.51585219  0.87253761  0.99303569  0.51585219  0.87253761  0.99303569\n",
            "  0.51585219  0.87253761  0.99303569  0.51585219  0.87253761  0.99303569\n",
            "  0.51585219  0.87253761  0.99303569  0.55443481  0.45760962  0.99375469\n",
            "  0.55443481  0.45760962  0.99375469  0.55443481  0.45760962  0.99375469\n",
            "  0.55443481  0.45760962  0.99375469  0.55443481  0.45760962  0.99375469\n",
            " -0.09157895  0.40718886  0.99350436 -0.09157895  0.40718886  0.99350436\n",
            " -0.09157895  0.40718886  0.99350436 -0.09157895  0.40718886  0.99350436\n",
            " -0.09157895  0.40718886  0.99350436  0.49566867  0.61916671  0.9939114\n",
            "  0.49566867  0.61916671  0.9939114   0.49566867  0.61916671  0.9939114\n",
            "  0.49566867  0.61916671  0.9939114   0.49566867  0.61916671  0.9939114\n",
            "  0.28924026  0.83814398  0.99404007  0.28924026  0.83814398  0.99404007\n",
            "  0.28924026  0.83814398  0.99404007  0.28924026  0.83814398  0.99404007\n",
            "  0.28924026  0.83814398  0.99404007  0.5972532   0.89529793  0.99407846\n",
            "  0.5972532   0.89529793  0.99407846  0.5972532   0.89529793  0.99407846\n",
            "  0.5972532   0.89529793  0.99407846  0.5972532   0.89529793  0.99407846\n",
            "  0.41996137  0.84635527  0.99400261  0.41996137  0.84635527  0.99400261\n",
            "  0.41996137  0.84635527  0.99400261  0.41996137  0.84635527  0.99400261\n",
            "  0.41996137  0.84635527  0.99400261  0.23416629  0.91264415  0.99387278\n",
            "  0.23416629  0.91264415  0.99387278  0.23416629  0.91264415  0.99387278\n",
            "  0.23416629  0.91264415  0.99387278  0.23416629  0.91264415  0.99387278\n",
            "         nan         nan         nan         nan         nan         nan\n",
            "         nan         nan         nan         nan         nan         nan\n",
            "         nan         nan         nan         nan         nan         nan\n",
            "         nan         nan         nan         nan         nan         nan\n",
            "         nan         nan         nan         nan         nan         nan\n",
            "         nan         nan         nan         nan         nan         nan\n",
            "         nan         nan         nan         nan         nan         nan\n",
            "         nan         nan         nan         nan         nan         nan\n",
            "         nan         nan         nan         nan         nan         nan\n",
            "         nan         nan         nan         nan         nan         nan\n",
            "         nan         nan         nan         nan         nan         nan\n",
            "         nan         nan         nan         nan         nan         nan\n",
            "         nan         nan         nan         nan         nan         nan\n",
            "         nan         nan         nan         nan         nan         nan\n",
            "         nan         nan         nan         nan         nan         nan\n",
            "         nan         nan         nan         nan         nan         nan\n",
            "         nan         nan         nan         nan         nan         nan\n",
            "         nan         nan         nan  0.13704567  0.35590603  0.988641\n",
            "  0.13704567  0.35590603  0.988641    0.13704567  0.35590603  0.988641\n",
            "  0.13704567  0.35590603  0.988641    0.13704567  0.35590603  0.988641\n",
            " -0.09075669  0.25466909  0.98729507 -0.09075669  0.25466909  0.98729507\n",
            " -0.09075669  0.25466909  0.98729507 -0.09075669  0.25466909  0.98729507\n",
            " -0.09075669  0.25466909  0.98729507 -0.1286823   0.1863833   0.98886054\n",
            " -0.1286823   0.1863833   0.98886054 -0.1286823   0.1863833   0.98886054\n",
            " -0.1286823   0.1863833   0.98886054 -0.1286823   0.1863833   0.98886054\n",
            " -0.18795007  0.63852359  0.98871899 -0.18795007  0.63852359  0.98871899\n",
            " -0.18795007  0.63852359  0.98871899 -0.18795007  0.63852359  0.98871899\n",
            " -0.18795007  0.63852359  0.98871899 -0.06425761  0.78692718  0.98876457\n",
            " -0.06425761  0.78692718  0.98876457 -0.06425761  0.78692718  0.98876457\n",
            " -0.06425761  0.78692718  0.98876457 -0.06425761  0.78692718  0.98876457\n",
            "  0.04554731  0.65700139  0.98982168  0.04554731  0.65700139  0.98982168\n",
            "  0.04554731  0.65700139  0.98982168  0.04554731  0.65700139  0.98982168\n",
            "  0.04554731  0.65700139  0.98982168 -0.1853382   0.64031274  0.98765409\n",
            " -0.1853382   0.64031274  0.98765409 -0.1853382   0.64031274  0.98765409\n",
            " -0.1853382   0.64031274  0.98765409 -0.1853382   0.64031274  0.98765409]\n",
            "  warnings.warn(\n",
            "/usr/local/lib/python3.8/dist-packages/sklearn/model_selection/_search.py:984: RuntimeWarning: invalid value encountered in cast\n",
            "  results[\"rank_%s\" % key_name] = np.asarray(\n"
          ]
        },
        {
          "output_type": "execute_result",
          "data": {
            "text/plain": [
              "{'activation': 'tanh',\n",
              " 'hidden_layer_sizes': (10,),\n",
              " 'max_iter': 200,\n",
              " 'random_state': 216,\n",
              " 'solver': 'sgd'}"
            ]
          },
          "metadata": {},
          "execution_count": 30
        }
      ]
    },
    {
      "cell_type": "code",
      "source": [
        "y = df2['telomere length (kb)']\n",
        "X = df2.drop('telomere length (kb)',1)\n",
        "X_train, X_test, y_train, y_test = train_test_split(X, y, test_size=0.2, random_state=216)"
      ],
      "metadata": {
        "colab": {
          "base_uri": "https://localhost:8080/"
        },
        "id": "2rTEQNLOcT9A",
        "outputId": "82810711-2de8-45f0-da6a-2161c0699a02"
      },
      "execution_count": null,
      "outputs": [
        {
          "output_type": "stream",
          "name": "stderr",
          "text": [
            "<ipython-input-95-a509929240d5>:2: FutureWarning: In a future version of pandas all arguments of DataFrame.drop except for the argument 'labels' will be keyword-only\n",
            "  X = df2.drop('telomere length (kb)',1)\n"
          ]
        }
      ]
    },
    {
      "cell_type": "code",
      "source": [
        "model = MLPRegressor(hidden_layer_sizes= (10,),activation = 'tanh',solver = 'sgd',max_iter=200,random_state = 216)\n",
        "model.fit(X_train, y_train)"
      ],
      "metadata": {
        "colab": {
          "base_uri": "https://localhost:8080/"
        },
        "id": "Y5p9YFHocT5w",
        "outputId": "62683e32-572e-494e-d91e-dec8580650ec"
      },
      "execution_count": null,
      "outputs": [
        {
          "output_type": "execute_result",
          "data": {
            "text/plain": [
              "MLPRegressor(activation='tanh', hidden_layer_sizes=(10,), random_state=216,\n",
              "             solver='sgd')"
            ]
          },
          "metadata": {},
          "execution_count": 96
        }
      ]
    },
    {
      "cell_type": "code",
      "source": [
        "y_pred = model.predict(X_test)"
      ],
      "metadata": {
        "id": "-MFuaRXzci6O"
      },
      "execution_count": null,
      "outputs": []
    },
    {
      "cell_type": "code",
      "source": [
        "#Train\n",
        "print('R2 Value Train:',metrics.r2_score(y_train, model.predict(X_train)))\n",
        "print('MSE Train:',metrics.mean_squared_error(y_train, model.predict(X_train)))\n",
        "print('MAE Train:',metrics.mean_absolute_error(y_train, model.predict(X_train)))"
      ],
      "metadata": {
        "colab": {
          "base_uri": "https://localhost:8080/"
        },
        "id": "rBVtSdYCcT2c",
        "outputId": "2161a495-5a99-4ee6-e1e4-fa68012805cd"
      },
      "execution_count": null,
      "outputs": [
        {
          "output_type": "stream",
          "name": "stdout",
          "text": [
            "R2 Value Train: -0.15957909614713706\n",
            "MSE Train: 0.041009014424115656\n",
            "MAE Train: 0.15724119887498264\n"
          ]
        }
      ]
    },
    {
      "cell_type": "code",
      "source": [
        "print('MAPE :',mean_absolute_percentage_error(y_test, y_pred))"
      ],
      "metadata": {
        "colab": {
          "base_uri": "https://localhost:8080/"
        },
        "id": "fcv-O1MjcTyg",
        "outputId": "1d33f629-e51c-49e7-e5bc-ad7da4b48c42"
      },
      "execution_count": null,
      "outputs": [
        {
          "output_type": "stream",
          "name": "stdout",
          "text": [
            "MAPE : 0.7331403200907083\n"
          ]
        }
      ]
    },
    {
      "cell_type": "code",
      "source": [
        "#Test\n",
        "print('R2 Value Test:',metrics.r2_score(y_test, y_pred))\n",
        "print('MSE Test:',metrics.mean_squared_error(y_test, y_pred))\n",
        "print('MAE Test:',metrics.mean_absolute_error(y_test, y_pred))"
      ],
      "metadata": {
        "colab": {
          "base_uri": "https://localhost:8080/"
        },
        "id": "eZOvRcp2ccXJ",
        "outputId": "2ab56b63-c5c5-4c15-a7c5-ae1959273f9f"
      },
      "execution_count": null,
      "outputs": [
        {
          "output_type": "stream",
          "name": "stdout",
          "text": [
            "R2 Value Test: -0.16538454016769633\n",
            "MSE Test: 0.034718706625689384\n",
            "MAE Test: 0.14691896725931095\n"
          ]
        }
      ]
    },
    {
      "cell_type": "code",
      "source": [
        "sns.distplot(y_pred, hist = False, color = 'r', label = 'Predicted Values')\n",
        "sns.distplot(y_test, hist = False, color = 'b', label = 'Actual Values')\n",
        "plt.title('Actual vs Predicted Values', fontsize = 16)\n",
        "plt.xlabel('Values', fontsize = 12)\n",
        "plt.ylabel('Frequency', fontsize = 12)\n",
        "plt.legend(loc = 'upper left', fontsize = 13)"
      ],
      "metadata": {
        "colab": {
          "base_uri": "https://localhost:8080/",
          "height": 410
        },
        "id": "03iNgA50ccRi",
        "outputId": "7f89f9ed-82ab-4f0e-da39-8b4d229d0e24"
      },
      "execution_count": null,
      "outputs": [
        {
          "output_type": "stream",
          "name": "stderr",
          "text": [
            "/usr/local/lib/python3.8/dist-packages/seaborn/distributions.py:2619: FutureWarning: `distplot` is a deprecated function and will be removed in a future version. Please adapt your code to use either `displot` (a figure-level function with similar flexibility) or `kdeplot` (an axes-level function for kernel density plots).\n",
            "  warnings.warn(msg, FutureWarning)\n",
            "/usr/local/lib/python3.8/dist-packages/seaborn/distributions.py:2619: FutureWarning: `distplot` is a deprecated function and will be removed in a future version. Please adapt your code to use either `displot` (a figure-level function with similar flexibility) or `kdeplot` (an axes-level function for kernel density plots).\n",
            "  warnings.warn(msg, FutureWarning)\n"
          ]
        },
        {
          "output_type": "execute_result",
          "data": {
            "text/plain": [
              "<matplotlib.legend.Legend at 0x7f2618c08eb0>"
            ]
          },
          "metadata": {},
          "execution_count": 101
        },
        {
          "output_type": "display_data",
          "data": {
            "text/plain": [
              "<Figure size 432x288 with 1 Axes>"
            ],
            "image/png": "[encoded data removed]"
          },
          "metadata": {
            "needs_background": "light"
          }
        }
      ]
    },
    {
      "cell_type": "markdown",
      "source": [
        "# data control"
      ],
      "metadata": {
        "id": "z2zOcj2Z4SEf"
      }
    },
    {
      "cell_type": "code",
      "source": [
        "data_file_path = os.path.join(path,'data_notmissing.csv') #ไปที่ไฟล์ confirmed-cases-since-280265.csv\n",
        "data3 = pd.read_csv(data_file_path)\n",
        "data3.drop({'Unnamed: 0'},1,inplace = True)"
      ],
      "metadata": {
        "colab": {
          "base_uri": "https://localhost:8080/"
        },
        "id": "xQJlM6ps4Two",
        "outputId": "f3de0abe-1613-444e-a00d-db46ecc33a19"
      },
      "execution_count": null,
      "outputs": [
        {
          "output_type": "stream",
          "name": "stderr",
          "text": [
            "<ipython-input-31-eab412fc4bad>:3: FutureWarning: In a future version of pandas all arguments of DataFrame.drop except for the argument 'labels' will be keyword-only\n",
            "  data3.drop({'Unnamed: 0'},1,inplace = True)\n"
          ]
        }
      ]
    },
    {
      "cell_type": "code",
      "source": [
        "scaler = MinMaxScaler()\n",
        "Scaler = scaler.fit_transform(data3)"
      ],
      "metadata": {
        "id": "QcRTWRtS4Tjn"
      },
      "execution_count": null,
      "outputs": []
    },
    {
      "cell_type": "code",
      "source": [
        "df3 = pd.DataFrame(Scaler, columns = ['Sex' , 'AgeSYear', 'telomere length (kb)','Weight','Height','BMI','Systolic','Diastolic','HeartRate','SMM','Fat Mass',\n",
        "                                       '% Body fat','waist to hip radio','abdominal circumference','visceral fat area','Glucose','BUN','Creatinine','Uric Acid','Cholesterol',\n",
        "                                       'Triglyceride','HDL-C','LDL','AST','ALT','Alkaline Phos','HbA1c'])"
      ],
      "metadata": {
        "id": "ApBojhBk4WA6"
      },
      "execution_count": null,
      "outputs": []
    },
    {
      "cell_type": "code",
      "source": [
        "df3"
      ],
      "metadata": {
        "colab": {
          "base_uri": "https://localhost:8080/",
          "height": 467
        },
        "id": "HIvxsWPc4q3p",
        "outputId": "245b70df-1994-4cff-8952-86f2456a8ae5"
      },
      "execution_count": null,
      "outputs": [
        {
          "output_type": "execute_result",
          "data": {
            "text/plain": [
              "     Sex  AgeSYear  telomere length (kb)    Weight    Height       BMI  \\\n",
              "0    1.0  0.660714              0.275862  0.127413  0.181818  0.284483   \n",
              "1    1.0  0.071429              0.720159  0.239382  0.272727  0.405172   \n",
              "2    1.0  0.750000              0.250663  0.262548  0.454545  0.267241   \n",
              "3    1.0  0.267857              0.391247  0.299228  0.363636  0.413793   \n",
              "4    0.0  0.464286              0.297082  0.608108  0.568182  0.698276   \n",
              "..   ...       ...                   ...       ...       ...       ...   \n",
              "148  0.0  0.714286              0.202918  0.602317  0.568182  0.689655   \n",
              "149  0.0  0.678571              0.102122  0.409266  0.522727  0.439655   \n",
              "150  1.0  0.392857              0.689655  0.283784  0.454545  0.301724   \n",
              "151  1.0  0.732143              0.236074  0.405405  0.318182  0.646552   \n",
              "152  1.0  0.196429              0.684350  0.335907  0.545455  0.301724   \n",
              "\n",
              "     Systolic  Diastolic  HeartRate       SMM  ...  Creatinine  Uric Acid  \\\n",
              "0    0.444444   0.621622   0.310345  0.085409  ...         0.6   0.517241   \n",
              "1    0.269841   0.459459   0.465517  0.156584  ...         0.4   0.551724   \n",
              "2    0.142857   0.621622   0.551724  0.167260  ...         0.3   0.362069   \n",
              "3    0.142857   0.135135   0.362069  0.199288  ...         0.2   0.517241   \n",
              "4    0.746032   0.675676   0.965517  0.437722  ...         0.5   0.844828   \n",
              "..        ...        ...        ...       ...  ...         ...        ...   \n",
              "148  0.714286   0.594595   0.310345  0.483986  ...         0.5   0.844828   \n",
              "149  0.269841   0.648649   0.362069  0.387900  ...         0.6   0.827586   \n",
              "150  0.253968   0.000000   0.448276  0.213523  ...         0.4   0.465517   \n",
              "151  0.492063   0.216216   0.362069  0.231317  ...         0.4   0.534483   \n",
              "152  0.349206   0.459459   0.379310  0.288256  ...         0.3   0.396552   \n",
              "\n",
              "     Cholesterol  Triglyceride     HDL-C       LDL       AST       ALT  \\\n",
              "0       0.409091      0.132296  0.740741  0.290909  0.118644  0.000000   \n",
              "1       0.280303      0.108949  0.370370  0.327273  0.067797  0.032258   \n",
              "2       0.818182      0.299611  0.537037  0.809091  0.152542  0.483871   \n",
              "3       0.575758      0.116732  0.666667  0.527273  0.118644  0.129032   \n",
              "4       0.545455      0.178988  0.518519  0.545455  0.101695  0.096774   \n",
              "..           ...           ...       ...       ...       ...       ...   \n",
              "148     0.454545      0.630350  0.129630  0.409091  0.457627  0.483871   \n",
              "149     0.522727      0.175097  0.277778  0.636364  0.118644  0.548387   \n",
              "150     0.681818      0.198444  0.574074  0.663636  0.033898  0.000000   \n",
              "151     0.856061      0.190661  0.444444  0.945455  0.101695  0.225806   \n",
              "152     0.590909      0.105058  0.444444  0.663636  0.084746  0.161290   \n",
              "\n",
              "     Alkaline Phos     HbA1c  \n",
              "0         0.582278  0.426230  \n",
              "1         0.430380  0.475410  \n",
              "2         0.759494  0.508197  \n",
              "3         0.240506  0.426230  \n",
              "4         0.670886  0.442623  \n",
              "..             ...       ...  \n",
              "148       0.797468  0.655738  \n",
              "149       0.329114  0.704918  \n",
              "150       0.215190  0.377049  \n",
              "151       0.354430  0.475410  \n",
              "152       0.189873  0.360656  \n",
              "\n",
              "[153 rows x 27 columns]"
            ],
            "text/html": [
              "\n",
              "  <div id=\"df-4c32fd07-81c2-4c93-a747-acc30550fe9b\">\n",
              "    <div class=\"colab-df-container\">\n",
              "      <div>\n",
              "<style scoped>\n",
              "    .dataframe tbody tr th:only-of-type {\n",
              "        vertical-align: middle;\n",
              "    }\n",
              "\n",
              "    .dataframe tbody tr th {\n",
              "        vertical-align: top;\n",
              "    }\n",
              "\n",
              "    .dataframe thead th {\n",
              "        text-align: right;\n",
              "    }\n",
              "</style>\n",
              "<table border=\"1\" class=\"dataframe\">\n",
              "  <thead>\n",
              "    <tr style=\"text-align: right;\">\n",
              "      <th></th>\n",
              "      <th>Sex</th>\n",
              "      <th>AgeSYear</th>\n",
              "      <th>telomere length (kb)</th>\n",
              "      <th>Weight</th>\n",
              "      <th>Height</th>\n",
              "      <th>BMI</th>\n",
              "      <th>Systolic</th>\n",
              "      <th>Diastolic</th>\n",
              "      <th>HeartRate</th>\n",
              "      <th>SMM</th>\n",
              "      <th>...</th>\n",
              "      <th>Creatinine</th>\n",
              "      <th>Uric Acid</th>\n",
              "      <th>Cholesterol</th>\n",
              "      <th>Triglyceride</th>\n",
              "      <th>HDL-C</th>\n",
              "      <th>LDL</th>\n",
              "      <th>AST</th>\n",
              "      <th>ALT</th>\n",
              "      <th>Alkaline Phos</th>\n",
              "      <th>HbA1c</th>\n",
              "    </tr>\n",
              "  </thead>\n",
              "  <tbody>\n",
              "    <tr>\n",
              "      <th>0</th>\n",
              "      <td>1.0</td>\n",
              "      <td>0.660714</td>\n",
              "      <td>0.275862</td>\n",
              "      <td>0.127413</td>\n",
              "      <td>0.181818</td>\n",
              "      <td>0.284483</td>\n",
              "      <td>0.444444</td>\n",
              "      <td>0.621622</td>\n",
              "      <td>0.310345</td>\n",
              "      <td>0.085409</td>\n",
              "      <td>...</td>\n",
              "      <td>0.6</td>\n",
              "      <td>0.517241</td>\n",
              "      <td>0.409091</td>\n",
              "      <td>0.132296</td>\n",
              "      <td>0.740741</td>\n",
              "      <td>0.290909</td>\n",
              "      <td>0.118644</td>\n",
              "      <td>0.000000</td>\n",
              "      <td>0.582278</td>\n",
              "      <td>0.426230</td>\n",
              "    </tr>\n",
              "    <tr>\n",
              "      <th>1</th>\n",
              "      <td>1.0</td>\n",
              "      <td>0.071429</td>\n",
              "      <td>0.720159</td>\n",
              "      <td>0.239382</td>\n",
              "      <td>0.272727</td>\n",
              "      <td>0.405172</td>\n",
              "      <td>0.269841</td>\n",
              "      <td>0.459459</td>\n",
              "      <td>0.465517</td>\n",
              "      <td>0.156584</td>\n",
              "      <td>...</td>\n",
              "      <td>0.4</td>\n",
              "      <td>0.551724</td>\n",
              "      <td>0.280303</td>\n",
              "      <td>0.108949</td>\n",
              "      <td>0.370370</td>\n",
              "      <td>0.327273</td>\n",
              "      <td>0.067797</td>\n",
              "      <td>0.032258</td>\n",
              "      <td>0.430380</td>\n",
              "      <td>0.475410</td>\n",
              "    </tr>\n",
              "    <tr>\n",
              "      <th>2</th>\n",
              "      <td>1.0</td>\n",
              "      <td>0.750000</td>\n",
              "      <td>0.250663</td>\n",
              "      <td>0.262548</td>\n",
              "      <td>0.454545</td>\n",
              "      <td>0.267241</td>\n",
              "      <td>0.142857</td>\n",
              "      <td>0.621622</td>\n",
              "      <td>0.551724</td>\n",
              "      <td>0.167260</td>\n",
              "      <td>...</td>\n",
              "      <td>0.3</td>\n",
              "      <td>0.362069</td>\n",
              "      <td>0.818182</td>\n",
              "      <td>0.299611</td>\n",
              "      <td>0.537037</td>\n",
              "      <td>0.809091</td>\n",
              "      <td>0.152542</td>\n",
              "      <td>0.483871</td>\n",
              "      <td>0.759494</td>\n",
              "      <td>0.508197</td>\n",
              "    </tr>\n",
              "    <tr>\n",
              "      <th>3</th>\n",
              "      <td>1.0</td>\n",
              "      <td>0.267857</td>\n",
              "      <td>0.391247</td>\n",
              "      <td>0.299228</td>\n",
              "      <td>0.363636</td>\n",
              "      <td>0.413793</td>\n",
              "      <td>0.142857</td>\n",
              "      <td>0.135135</td>\n",
              "      <td>0.362069</td>\n",
              "      <td>0.199288</td>\n",
              "      <td>...</td>\n",
              "      <td>0.2</td>\n",
              "      <td>0.517241</td>\n",
              "      <td>0.575758</td>\n",
              "      <td>0.116732</td>\n",
              "      <td>0.666667</td>\n",
              "      <td>0.527273</td>\n",
              "      <td>0.118644</td>\n",
              "      <td>0.129032</td>\n",
              "      <td>0.240506</td>\n",
              "      <td>0.426230</td>\n",
              "    </tr>\n",
              "    <tr>\n",
              "      <th>4</th>\n",
              "      <td>0.0</td>\n",
              "      <td>0.464286</td>\n",
              "      <td>0.297082</td>\n",
              "      <td>0.608108</td>\n",
              "      <td>0.568182</td>\n",
              "      <td>0.698276</td>\n",
              "      <td>0.746032</td>\n",
              "      <td>0.675676</td>\n",
              "      <td>0.965517</td>\n",
              "      <td>0.437722</td>\n",
              "      <td>...</td>\n",
              "      <td>0.5</td>\n",
              "      <td>0.844828</td>\n",
              "      <td>0.545455</td>\n",
              "      <td>0.178988</td>\n",
              "      <td>0.518519</td>\n",
              "      <td>0.545455</td>\n",
              "      <td>0.101695</td>\n",
              "      <td>0.096774</td>\n",
              "      <td>0.670886</td>\n",
              "      <td>0.442623</td>\n",
              "    </tr>\n",
              "    <tr>\n",
              "      <th>...</th>\n",
              "      <td>...</td>\n",
              "      <td>...</td>\n",
              "      <td>...</td>\n",
              "      <td>...</td>\n",
              "      <td>...</td>\n",
              "      <td>...</td>\n",
              "      <td>...</td>\n",
              "      <td>...</td>\n",
              "      <td>...</td>\n",
              "      <td>...</td>\n",
              "      <td>...</td>\n",
              "      <td>...</td>\n",
              "      <td>...</td>\n",
              "      <td>...</td>\n",
              "      <td>...</td>\n",
              "      <td>...</td>\n",
              "      <td>...</td>\n",
              "      <td>...</td>\n",
              "      <td>...</td>\n",
              "      <td>...</td>\n",
              "      <td>...</td>\n",
              "    </tr>\n",
              "    <tr>\n",
              "      <th>148</th>\n",
              "      <td>0.0</td>\n",
              "      <td>0.714286</td>\n",
              "      <td>0.202918</td>\n",
              "      <td>0.602317</td>\n",
              "      <td>0.568182</td>\n",
              "      <td>0.689655</td>\n",
              "      <td>0.714286</td>\n",
              "      <td>0.594595</td>\n",
              "      <td>0.310345</td>\n",
              "      <td>0.483986</td>\n",
              "      <td>...</td>\n",
              "      <td>0.5</td>\n",
              "      <td>0.844828</td>\n",
              "      <td>0.454545</td>\n",
              "      <td>0.630350</td>\n",
              "      <td>0.129630</td>\n",
              "      <td>0.409091</td>\n",
              "      <td>0.457627</td>\n",
              "      <td>0.483871</td>\n",
              "      <td>0.797468</td>\n",
              "      <td>0.655738</td>\n",
              "    </tr>\n",
              "    <tr>\n",
              "      <th>149</th>\n",
              "      <td>0.0</td>\n",
              "      <td>0.678571</td>\n",
              "      <td>0.102122</td>\n",
              "      <td>0.409266</td>\n",
              "      <td>0.522727</td>\n",
              "      <td>0.439655</td>\n",
              "      <td>0.269841</td>\n",
              "      <td>0.648649</td>\n",
              "      <td>0.362069</td>\n",
              "      <td>0.387900</td>\n",
              "      <td>...</td>\n",
              "      <td>0.6</td>\n",
              "      <td>0.827586</td>\n",
              "      <td>0.522727</td>\n",
              "      <td>0.175097</td>\n",
              "      <td>0.277778</td>\n",
              "      <td>0.636364</td>\n",
              "      <td>0.118644</td>\n",
              "      <td>0.548387</td>\n",
              "      <td>0.329114</td>\n",
              "      <td>0.704918</td>\n",
              "    </tr>\n",
              "    <tr>\n",
              "      <th>150</th>\n",
              "      <td>1.0</td>\n",
              "      <td>0.392857</td>\n",
              "      <td>0.689655</td>\n",
              "      <td>0.283784</td>\n",
              "      <td>0.454545</td>\n",
              "      <td>0.301724</td>\n",
              "      <td>0.253968</td>\n",
              "      <td>0.000000</td>\n",
              "      <td>0.448276</td>\n",
              "      <td>0.213523</td>\n",
              "      <td>...</td>\n",
              "      <td>0.4</td>\n",
              "      <td>0.465517</td>\n",
              "      <td>0.681818</td>\n",
              "      <td>0.198444</td>\n",
              "      <td>0.574074</td>\n",
              "      <td>0.663636</td>\n",
              "      <td>0.033898</td>\n",
              "      <td>0.000000</td>\n",
              "      <td>0.215190</td>\n",
              "      <td>0.377049</td>\n",
              "    </tr>\n",
              "    <tr>\n",
              "      <th>151</th>\n",
              "      <td>1.0</td>\n",
              "      <td>0.732143</td>\n",
              "      <td>0.236074</td>\n",
              "      <td>0.405405</td>\n",
              "      <td>0.318182</td>\n",
              "      <td>0.646552</td>\n",
              "      <td>0.492063</td>\n",
              "      <td>0.216216</td>\n",
              "      <td>0.362069</td>\n",
              "      <td>0.231317</td>\n",
              "      <td>...</td>\n",
              "      <td>0.4</td>\n",
              "      <td>0.534483</td>\n",
              "      <td>0.856061</td>\n",
              "      <td>0.190661</td>\n",
              "      <td>0.444444</td>\n",
              "      <td>0.945455</td>\n",
              "      <td>0.101695</td>\n",
              "      <td>0.225806</td>\n",
              "      <td>0.354430</td>\n",
              "      <td>0.475410</td>\n",
              "    </tr>\n",
              "    <tr>\n",
              "      <th>152</th>\n",
              "      <td>1.0</td>\n",
              "      <td>0.196429</td>\n",
              "      <td>0.684350</td>\n",
              "      <td>0.335907</td>\n",
              "      <td>0.545455</td>\n",
              "      <td>0.301724</td>\n",
              "      <td>0.349206</td>\n",
              "      <td>0.459459</td>\n",
              "      <td>0.379310</td>\n",
              "      <td>0.288256</td>\n",
              "      <td>...</td>\n",
              "      <td>0.3</td>\n",
              "      <td>0.396552</td>\n",
              "      <td>0.590909</td>\n",
              "      <td>0.105058</td>\n",
              "      <td>0.444444</td>\n",
              "      <td>0.663636</td>\n",
              "      <td>0.084746</td>\n",
              "      <td>0.161290</td>\n",
              "      <td>0.189873</td>\n",
              "      <td>0.360656</td>\n",
              "    </tr>\n",
              "  </tbody>\n",
              "</table>\n",
              "<p>153 rows × 27 columns</p>\n",
              "</div>\n",
              "      <button class=\"colab-df-convert\" onclick=\"convertToInteractive('df-4c32fd07-81c2-4c93-a747-acc30550fe9b')\"\n",
              "              title=\"Convert this dataframe to an interactive table.\"\n",
              "              style=\"display:none;\">\n",
              "        \n",
              "  <svg xmlns=\"http://www.w3.org/2000/svg\" height=\"24px\"viewBox=\"0 0 24 24\"\n",
              "       width=\"24px\">\n",
              "    <path d=\"M0 0h24v24H0V0z\" fill=\"none\"/>\n",
              "    <path d=\"M18.56 5.44l.94 2.06.94-2.06 2.06-.94-2.06-.94-.94-2.06-.94 2.06-2.06.94zm-11 1L8.5 8.5l.94-2.06 2.06-.94-2.06-.94L8.5 2.5l-.94 2.06-2.06.94zm10 10l.94 2.06.94-2.06 2.06-.94-2.06-.94-.94-2.06-.94 2.06-2.06.94z\"/><path d=\"M17.41 7.96l-1.37-1.37c-.4-.4-.92-.59-1.43-.59-.52 0-1.04.2-1.43.59L10.3 9.45l-7.72 7.72c-.78.78-.78 2.05 0 2.83L4 21.41c.39.39.9.59 1.41.59.51 0 1.02-.2 1.41-.59l7.78-7.78 2.81-2.81c.8-.78.8-2.07 0-2.86zM5.41 20L4 18.59l7.72-7.72 1.47 1.35L5.41 20z\"/>\n",
              "  </svg>\n",
              "      </button>\n",
              "      \n",
              "  <style>\n",
              "    .colab-df-container {\n",
              "      display:flex;\n",
              "      flex-wrap:wrap;\n",
              "      gap: 12px;\n",
              "    }\n",
              "\n",
              "    .colab-df-convert {\n",
              "      background-color: #E8F0FE;\n",
              "      border: none;\n",
              "      border-radius: 50%;\n",
              "      cursor: pointer;\n",
              "      display: none;\n",
              "      fill: #1967D2;\n",
              "      height: 32px;\n",
              "      padding: 0 0 0 0;\n",
              "      width: 32px;\n",
              "    }\n",
              "\n",
              "    .colab-df-convert:hover {\n",
              "      background-color: #E2EBFA;\n",
              "      box-shadow: 0px 1px 2px rgba(60, 64, 67, 0.3), 0px 1px 3px 1px rgba(60, 64, 67, 0.15);\n",
              "      fill: #174EA6;\n",
              "    }\n",
              "\n",
              "    [theme=dark] .colab-df-convert {\n",
              "      background-color: #3B4455;\n",
              "      fill: #D2E3FC;\n",
              "    }\n",
              "\n",
              "    [theme=dark] .colab-df-convert:hover {\n",
              "      background-color: #434B5C;\n",
              "      box-shadow: 0px 1px 3px 1px rgba(0, 0, 0, 0.15);\n",
              "      filter: drop-shadow(0px 1px 2px rgba(0, 0, 0, 0.3));\n",
              "      fill: #FFFFFF;\n",
              "    }\n",
              "  </style>\n",
              "\n",
              "      <script>\n",
              "        const buttonEl =\n",
              "          document.querySelector('#df-4c32fd07-81c2-4c93-a747-acc30550fe9b button.colab-df-convert');\n",
              "        buttonEl.style.display =\n",
              "          google.colab.kernel.accessAllowed ? 'block' : 'none';\n",
              "\n",
              "        async function convertToInteractive(key) {\n",
              "          const element = document.querySelector('#df-4c32fd07-81c2-4c93-a747-acc30550fe9b');\n",
              "          const dataTable =\n",
              "            await google.colab.kernel.invokeFunction('convertToInteractive',\n",
              "                                                     [key], {});\n",
              "          if (!dataTable) return;\n",
              "\n",
              "          const docLinkHtml = 'Like what you see? Visit the ' +\n",
              "            '<a target=\"_blank\" href=https://colab.research.google.com/notebooks/data_table.ipynb>data table notebook</a>'\n",
              "            + ' to learn more about interactive tables.';\n",
              "          element.innerHTML = '';\n",
              "          dataTable['output_type'] = 'display_data';\n",
              "          await google.colab.output.renderOutput(dataTable, element);\n",
              "          const docLink = document.createElement('div');\n",
              "          docLink.innerHTML = docLinkHtml;\n",
              "          element.appendChild(docLink);\n",
              "        }\n",
              "      </script>\n",
              "    </div>\n",
              "  </div>\n",
              "  "
            ]
          },
          "metadata": {},
          "execution_count": 104
        }
      ]
    },
    {
      "cell_type": "code",
      "source": [
        "y = df3['telomere length (kb)']\n",
        "X = df3.drop('telomere length (kb)',1)"
      ],
      "metadata": {
        "colab": {
          "base_uri": "https://localhost:8080/"
        },
        "id": "YhOqg4Me4Wwe",
        "outputId": "54138a8b-cce1-4dbe-cf02-837b4df9b78c"
      },
      "execution_count": null,
      "outputs": [
        {
          "output_type": "stream",
          "name": "stderr",
          "text": [
            "<ipython-input-105-2db422769c5c>:2: FutureWarning: In a future version of pandas all arguments of DataFrame.drop except for the argument 'labels' will be keyword-only\n",
            "  X = df3.drop('telomere length (kb)',1)\n"
          ]
        }
      ]
    },
    {
      "cell_type": "code",
      "source": [
        "X_train, X_test, y_train, y_test = train_test_split(X, y, test_size=0.2, random_state=216)"
      ],
      "metadata": {
        "id": "MQBRBTSV4YG6"
      },
      "execution_count": null,
      "outputs": []
    },
    {
      "cell_type": "code",
      "source": [
        "model = MLPRegressor(activation = 'relu',solver = 'adam')\n",
        "model.fit(X_train, y_train)"
      ],
      "metadata": {
        "colab": {
          "base_uri": "https://localhost:8080/"
        },
        "id": "X0scFr3a4YV6",
        "outputId": "64129150-87a6-49d1-b8db-39ea1173b5dd"
      },
      "execution_count": null,
      "outputs": [
        {
          "output_type": "execute_result",
          "data": {
            "text/plain": [
              "MLPRegressor()"
            ]
          },
          "metadata": {},
          "execution_count": 107
        }
      ]
    },
    {
      "cell_type": "code",
      "source": [
        "y_pred = model.predict(X_test)"
      ],
      "metadata": {
        "id": "RaCQGv4_HiPv"
      },
      "execution_count": null,
      "outputs": []
    },
    {
      "cell_type": "code",
      "source": [
        "#Train\n",
        "print('R2 Value Train:',metrics.r2_score(y_train, model.predict(X_train)))\n",
        "print('MSE Train:',metrics.mean_squared_error(y_train, model.predict(X_train)))\n",
        "print('MAE Train:',metrics.mean_absolute_error(y_train, model.predict(X_train)))"
      ],
      "metadata": {
        "colab": {
          "base_uri": "https://localhost:8080/"
        },
        "id": "YME-Y4P-4aM3",
        "outputId": "35244cae-c3b6-40d9-b9b4-fd3a6ab49945"
      },
      "execution_count": null,
      "outputs": [
        {
          "output_type": "stream",
          "name": "stdout",
          "text": [
            "R2 Value Train: -0.991038768322958\n",
            "MSE Train: 0.06893305161282465\n",
            "MAE Train: 0.20420536657320876\n"
          ]
        }
      ]
    },
    {
      "cell_type": "code",
      "source": [
        "print('MAPE :',mean_absolute_percentage_error(y_test, y_pred))"
      ],
      "metadata": {
        "colab": {
          "base_uri": "https://localhost:8080/"
        },
        "id": "AMvxlnHIGx4w",
        "outputId": "579f842d-0036-44d9-bf93-ed42815b028c"
      },
      "execution_count": null,
      "outputs": [
        {
          "output_type": "stream",
          "name": "stdout",
          "text": [
            "MAPE : 0.7701628786643191\n"
          ]
        }
      ]
    },
    {
      "cell_type": "code",
      "source": [
        "#Test\n",
        "print('R2 Value Test:',metrics.r2_score(y_test, y_pred))\n",
        "print('MSE Test:',metrics.mean_squared_error(y_test, y_pred))\n",
        "print('MAE Test:',metrics.mean_absolute_error(y_test, y_pred))"
      ],
      "metadata": {
        "colab": {
          "base_uri": "https://localhost:8080/"
        },
        "id": "wVM4XY8xHbhs",
        "outputId": "f37821a4-f94c-49e2-d190-3f82c0504e56"
      },
      "execution_count": null,
      "outputs": [
        {
          "output_type": "stream",
          "name": "stdout",
          "text": [
            "R2 Value Test: -0.2665652147081783\n",
            "MSE Test: 0.07959712658358047\n",
            "MAE Test: 0.24638012880217305\n"
          ]
        }
      ]
    },
    {
      "cell_type": "code",
      "source": [
        "sns.distplot(y_pred, hist = False, color = 'r', label = 'Predicted Values')\n",
        "sns.distplot(y_test, hist = False, color = 'b', label = 'Actual Values')\n",
        "plt.title('Actual vs Predicted Values', fontsize = 16)\n",
        "plt.xlabel('Values', fontsize = 12)\n",
        "plt.ylabel('Frequency', fontsize = 12)\n",
        "plt.legend(loc = 'upper left', fontsize = 13)"
      ],
      "metadata": {
        "colab": {
          "base_uri": "https://localhost:8080/",
          "height": 410
        },
        "id": "HADH3Q8gdxEv",
        "outputId": "29d281a1-153f-43c9-8e14-f6c7374e827d"
      },
      "execution_count": null,
      "outputs": [
        {
          "output_type": "stream",
          "name": "stderr",
          "text": [
            "/usr/local/lib/python3.8/dist-packages/seaborn/distributions.py:2619: FutureWarning: `distplot` is a deprecated function and will be removed in a future version. Please adapt your code to use either `displot` (a figure-level function with similar flexibility) or `kdeplot` (an axes-level function for kernel density plots).\n",
            "  warnings.warn(msg, FutureWarning)\n",
            "/usr/local/lib/python3.8/dist-packages/seaborn/distributions.py:2619: FutureWarning: `distplot` is a deprecated function and will be removed in a future version. Please adapt your code to use either `displot` (a figure-level function with similar flexibility) or `kdeplot` (an axes-level function for kernel density plots).\n",
            "  warnings.warn(msg, FutureWarning)\n"
          ]
        },
        {
          "output_type": "execute_result",
          "data": {
            "text/plain": [
              "<matplotlib.legend.Legend at 0x7f2618b8f130>"
            ]
          },
          "metadata": {},
          "execution_count": 112
        },
        {
          "output_type": "display_data",
          "data": {
            "text/plain": [
              "<Figure size 432x288 with 1 Axes>"
            ],
            "image/png": "[encoded data removed]"
          },
          "metadata": {
            "needs_background": "light"
          }
        }
      ]
    },
    {
      "cell_type": "code",
      "source": [
        "hyperParameter(df3)"
      ],
      "metadata": {
        "colab": {
          "base_uri": "https://localhost:8080/"
        },
        "id": "BhflKt-pHsvB",
        "outputId": "f984cc54-00a8-489b-c7d9-6cd198cc5d46"
      },
      "execution_count": null,
      "outputs": [
        {
          "output_type": "stream",
          "name": "stderr",
          "text": [
            "<ipython-input-3-dbc7f8781684>:3: FutureWarning: In a future version of pandas all arguments of DataFrame.drop except for the argument 'labels' will be keyword-only\n",
            "  X = data.drop('telomere length (kb)',1)\n",
            "/usr/local/lib/python3.8/dist-packages/sklearn/neural_network/_multilayer_perceptron.py:692: ConvergenceWarning: Stochastic Optimizer: Maximum iterations (200) reached and the optimization hasn't converged yet.\n",
            "  warnings.warn(\n",
            "/usr/local/lib/python3.8/dist-packages/sklearn/neural_network/_multilayer_perceptron.py:692: ConvergenceWarning: Stochastic Optimizer: Maximum iterations (200) reached and the optimization hasn't converged yet.\n",
            "  warnings.warn(\n",
            "/usr/local/lib/python3.8/dist-packages/sklearn/neural_network/_multilayer_perceptron.py:692: ConvergenceWarning: Stochastic Optimizer: Maximum iterations (200) reached and the optimization hasn't converged yet.\n",
            "  warnings.warn(\n",
            "/usr/local/lib/python3.8/dist-packages/sklearn/neural_network/_multilayer_perceptron.py:549: ConvergenceWarning: lbfgs failed to converge (status=1):\n",
            "STOP: TOTAL NO. of ITERATIONS REACHED LIMIT.\n",
            "\n",
            "Increase the number of iterations (max_iter) or scale the data as shown in:\n",
            "    https://scikit-learn.org/stable/modules/preprocessing.html\n",
            "  self.n_iter_ = _check_optimize_result(\"lbfgs\", opt_res, self.max_iter)\n",
            "/usr/local/lib/python3.8/dist-packages/sklearn/neural_network/_multilayer_perceptron.py:549: ConvergenceWarning: lbfgs failed to converge (status=1):\n",
            "STOP: TOTAL NO. of ITERATIONS REACHED LIMIT.\n",
            "\n",
            "Increase the number of iterations (max_iter) or scale the data as shown in:\n",
            "    https://scikit-learn.org/stable/modules/preprocessing.html\n",
            "  self.n_iter_ = _check_optimize_result(\"lbfgs\", opt_res, self.max_iter)\n",
            "/usr/local/lib/python3.8/dist-packages/sklearn/neural_network/_multilayer_perceptron.py:549: ConvergenceWarning: lbfgs failed to converge (status=1):\n",
            "STOP: TOTAL NO. of ITERATIONS REACHED LIMIT.\n",
            "\n",
            "Increase the number of iterations (max_iter) or scale the data as shown in:\n",
            "    https://scikit-learn.org/stable/modules/preprocessing.html\n",
            "  self.n_iter_ = _check_optimize_result(\"lbfgs\", opt_res, self.max_iter)\n",
            "/usr/local/lib/python3.8/dist-packages/sklearn/neural_network/_multilayer_perceptron.py:549: ConvergenceWarning: lbfgs failed to converge (status=1):\n",
            "STOP: TOTAL NO. of ITERATIONS REACHED LIMIT.\n",
            "\n",
            "Increase the number of iterations (max_iter) or scale the data as shown in:\n",
            "    https://scikit-learn.org/stable/modules/preprocessing.html\n",
            "  self.n_iter_ = _check_optimize_result(\"lbfgs\", opt_res, self.max_iter)\n",
            "/usr/local/lib/python3.8/dist-packages/sklearn/neural_network/_multilayer_perceptron.py:549: ConvergenceWarning: lbfgs failed to converge (status=1):\n",
            "STOP: TOTAL NO. of ITERATIONS REACHED LIMIT.\n",
            "\n",
            "Increase the number of iterations (max_iter) or scale the data as shown in:\n",
            "    https://scikit-learn.org/stable/modules/preprocessing.html\n",
            "  self.n_iter_ = _check_optimize_result(\"lbfgs\", opt_res, self.max_iter)\n",
            "/usr/local/lib/python3.8/dist-packages/sklearn/neural_network/_multilayer_perceptron.py:549: ConvergenceWarning: lbfgs failed to converge (status=1):\n",
            "STOP: TOTAL NO. of ITERATIONS REACHED LIMIT.\n",
            "\n",
            "Increase the number of iterations (max_iter) or scale the data as shown in:\n",
            "    https://scikit-learn.org/stable/modules/preprocessing.html\n",
            "  self.n_iter_ = _check_optimize_result(\"lbfgs\", opt_res, self.max_iter)\n",
            "/usr/local/lib/python3.8/dist-packages/sklearn/neural_network/_multilayer_perceptron.py:549: ConvergenceWarning: lbfgs failed to converge (status=1):\n",
            "STOP: TOTAL NO. of ITERATIONS REACHED LIMIT.\n",
            "\n",
            "Increase the number of iterations (max_iter) or scale the data as shown in:\n",
            "    https://scikit-learn.org/stable/modules/preprocessing.html\n",
            "  self.n_iter_ = _check_optimize_result(\"lbfgs\", opt_res, self.max_iter)\n",
            "/usr/local/lib/python3.8/dist-packages/sklearn/neural_network/_multilayer_perceptron.py:549: ConvergenceWarning: lbfgs failed to converge (status=1):\n",
            "STOP: TOTAL NO. of ITERATIONS REACHED LIMIT.\n",
            "\n",
            "Increase the number of iterations (max_iter) or scale the data as shown in:\n",
            "    https://scikit-learn.org/stable/modules/preprocessing.html\n",
            "  self.n_iter_ = _check_optimize_result(\"lbfgs\", opt_res, self.max_iter)\n",
            "/usr/local/lib/python3.8/dist-packages/sklearn/neural_network/_multilayer_perceptron.py:549: ConvergenceWarning: lbfgs failed to converge (status=1):\n",
            "STOP: TOTAL NO. of ITERATIONS REACHED LIMIT.\n",
            "\n",
            "Increase the number of iterations (max_iter) or scale the data as shown in:\n",
            "    https://scikit-learn.org/stable/modules/preprocessing.html\n",
            "  self.n_iter_ = _check_optimize_result(\"lbfgs\", opt_res, self.max_iter)\n",
            "/usr/local/lib/python3.8/dist-packages/sklearn/neural_network/_multilayer_perceptron.py:549: ConvergenceWarning: lbfgs failed to converge (status=1):\n",
            "STOP: TOTAL NO. of ITERATIONS REACHED LIMIT.\n",
            "\n",
            "Increase the number of iterations (max_iter) or scale the data as shown in:\n",
            "    https://scikit-learn.org/stable/modules/preprocessing.html\n",
            "  self.n_iter_ = _check_optimize_result(\"lbfgs\", opt_res, self.max_iter)\n",
            "/usr/local/lib/python3.8/dist-packages/sklearn/neural_network/_multilayer_perceptron.py:549: ConvergenceWarning: lbfgs failed to converge (status=1):\n",
            "STOP: TOTAL NO. of ITERATIONS REACHED LIMIT.\n",
            "\n",
            "Increase the number of iterations (max_iter) or scale the data as shown in:\n",
            "    https://scikit-learn.org/stable/modules/preprocessing.html\n",
            "  self.n_iter_ = _check_optimize_result(\"lbfgs\", opt_res, self.max_iter)\n",
            "/usr/local/lib/python3.8/dist-packages/sklearn/neural_network/_multilayer_perceptron.py:549: ConvergenceWarning: lbfgs failed to converge (status=1):\n",
            "STOP: TOTAL NO. of ITERATIONS REACHED LIMIT.\n",
            "\n",
            "Increase the number of iterations (max_iter) or scale the data as shown in:\n",
            "    https://scikit-learn.org/stable/modules/preprocessing.html\n",
            "  self.n_iter_ = _check_optimize_result(\"lbfgs\", opt_res, self.max_iter)\n",
            "/usr/local/lib/python3.8/dist-packages/sklearn/neural_network/_multilayer_perceptron.py:549: ConvergenceWarning: lbfgs failed to converge (status=1):\n",
            "STOP: TOTAL NO. of ITERATIONS REACHED LIMIT.\n",
            "\n",
            "Increase the number of iterations (max_iter) or scale the data as shown in:\n",
            "    https://scikit-learn.org/stable/modules/preprocessing.html\n",
            "  self.n_iter_ = _check_optimize_result(\"lbfgs\", opt_res, self.max_iter)\n",
            "/usr/local/lib/python3.8/dist-packages/sklearn/neural_network/_multilayer_perceptron.py:549: ConvergenceWarning: lbfgs failed to converge (status=1):\n",
            "STOP: TOTAL NO. of ITERATIONS REACHED LIMIT.\n",
            "\n",
            "Increase the number of iterations (max_iter) or scale the data as shown in:\n",
            "    https://scikit-learn.org/stable/modules/preprocessing.html\n",
            "  self.n_iter_ = _check_optimize_result(\"lbfgs\", opt_res, self.max_iter)\n",
            "/usr/local/lib/python3.8/dist-packages/sklearn/neural_network/_multilayer_perceptron.py:549: ConvergenceWarning: lbfgs failed to converge (status=1):\n",
            "STOP: TOTAL NO. of ITERATIONS REACHED LIMIT.\n",
            "\n",
            "Increase the number of iterations (max_iter) or scale the data as shown in:\n",
            "    https://scikit-learn.org/stable/modules/preprocessing.html\n",
            "  self.n_iter_ = _check_optimize_result(\"lbfgs\", opt_res, self.max_iter)\n",
            "/usr/local/lib/python3.8/dist-packages/sklearn/neural_network/_multilayer_perceptron.py:549: ConvergenceWarning: lbfgs failed to converge (status=1):\n",
            "STOP: TOTAL NO. of ITERATIONS REACHED LIMIT.\n",
            "\n",
            "Increase the number of iterations (max_iter) or scale the data as shown in:\n",
            "    https://scikit-learn.org/stable/modules/preprocessing.html\n",
            "  self.n_iter_ = _check_optimize_result(\"lbfgs\", opt_res, self.max_iter)\n",
            "/usr/local/lib/python3.8/dist-packages/sklearn/neural_network/_multilayer_perceptron.py:549: ConvergenceWarning: lbfgs failed to converge (status=1):\n",
            "STOP: TOTAL NO. of ITERATIONS REACHED LIMIT.\n",
            "\n",
            "Increase the number of iterations (max_iter) or scale the data as shown in:\n",
            "    https://scikit-learn.org/stable/modules/preprocessing.html\n",
            "  self.n_iter_ = _check_optimize_result(\"lbfgs\", opt_res, self.max_iter)\n",
            "/usr/local/lib/python3.8/dist-packages/sklearn/neural_network/_multilayer_perceptron.py:549: ConvergenceWarning: lbfgs failed to converge (status=1):\n",
            "STOP: TOTAL NO. of ITERATIONS REACHED LIMIT.\n",
            "\n",
            "Increase the number of iterations (max_iter) or scale the data as shown in:\n",
            "    https://scikit-learn.org/stable/modules/preprocessing.html\n",
            "  self.n_iter_ = _check_optimize_result(\"lbfgs\", opt_res, self.max_iter)\n",
            "/usr/local/lib/python3.8/dist-packages/sklearn/neural_network/_multilayer_perceptron.py:549: ConvergenceWarning: lbfgs failed to converge (status=1):\n",
            "STOP: TOTAL NO. of ITERATIONS REACHED LIMIT.\n",
            "\n",
            "Increase the number of iterations (max_iter) or scale the data as shown in:\n",
            "    https://scikit-learn.org/stable/modules/preprocessing.html\n",
            "  self.n_iter_ = _check_optimize_result(\"lbfgs\", opt_res, self.max_iter)\n",
            "/usr/local/lib/python3.8/dist-packages/sklearn/neural_network/_multilayer_perceptron.py:549: ConvergenceWarning: lbfgs failed to converge (status=1):\n",
            "STOP: TOTAL NO. of ITERATIONS REACHED LIMIT.\n",
            "\n",
            "Increase the number of iterations (max_iter) or scale the data as shown in:\n",
            "    https://scikit-learn.org/stable/modules/preprocessing.html\n",
            "  self.n_iter_ = _check_optimize_result(\"lbfgs\", opt_res, self.max_iter)\n",
            "/usr/local/lib/python3.8/dist-packages/sklearn/neural_network/_multilayer_perceptron.py:549: ConvergenceWarning: lbfgs failed to converge (status=1):\n",
            "STOP: TOTAL NO. of ITERATIONS REACHED LIMIT.\n",
            "\n",
            "Increase the number of iterations (max_iter) or scale the data as shown in:\n",
            "    https://scikit-learn.org/stable/modules/preprocessing.html\n",
            "  self.n_iter_ = _check_optimize_result(\"lbfgs\", opt_res, self.max_iter)\n",
            "/usr/local/lib/python3.8/dist-packages/sklearn/neural_network/_multilayer_perceptron.py:549: ConvergenceWarning: lbfgs failed to converge (status=1):\n",
            "STOP: TOTAL NO. of ITERATIONS REACHED LIMIT.\n",
            "\n",
            "Increase the number of iterations (max_iter) or scale the data as shown in:\n",
            "    https://scikit-learn.org/stable/modules/preprocessing.html\n",
            "  self.n_iter_ = _check_optimize_result(\"lbfgs\", opt_res, self.max_iter)\n",
            "/usr/local/lib/python3.8/dist-packages/sklearn/neural_network/_multilayer_perceptron.py:549: ConvergenceWarning: lbfgs failed to converge (status=1):\n",
            "STOP: TOTAL NO. of ITERATIONS REACHED LIMIT.\n",
            "\n",
            "Increase the number of iterations (max_iter) or scale the data as shown in:\n",
            "    https://scikit-learn.org/stable/modules/preprocessing.html\n",
            "  self.n_iter_ = _check_optimize_result(\"lbfgs\", opt_res, self.max_iter)\n",
            "/usr/local/lib/python3.8/dist-packages/sklearn/neural_network/_multilayer_perceptron.py:549: ConvergenceWarning: lbfgs failed to converge (status=1):\n",
            "STOP: TOTAL NO. of ITERATIONS REACHED LIMIT.\n",
            "\n",
            "Increase the number of iterations (max_iter) or scale the data as shown in:\n",
            "    https://scikit-learn.org/stable/modules/preprocessing.html\n",
            "  self.n_iter_ = _check_optimize_result(\"lbfgs\", opt_res, self.max_iter)\n",
            "/usr/local/lib/python3.8/dist-packages/sklearn/neural_network/_multilayer_perceptron.py:549: ConvergenceWarning: lbfgs failed to converge (status=1):\n",
            "STOP: TOTAL NO. of ITERATIONS REACHED LIMIT.\n",
            "\n",
            "Increase the number of iterations (max_iter) or scale the data as shown in:\n",
            "    https://scikit-learn.org/stable/modules/preprocessing.html\n",
            "  self.n_iter_ = _check_optimize_result(\"lbfgs\", opt_res, self.max_iter)\n",
            "/usr/local/lib/python3.8/dist-packages/sklearn/neural_network/_multilayer_perceptron.py:549: ConvergenceWarning: lbfgs failed to converge (status=1):\n",
            "STOP: TOTAL NO. of ITERATIONS REACHED LIMIT.\n",
            "\n",
            "Increase the number of iterations (max_iter) or scale the data as shown in:\n",
            "    https://scikit-learn.org/stable/modules/preprocessing.html\n",
            "  self.n_iter_ = _check_optimize_result(\"lbfgs\", opt_res, self.max_iter)\n",
            "/usr/local/lib/python3.8/dist-packages/sklearn/neural_network/_multilayer_perceptron.py:549: ConvergenceWarning: lbfgs failed to converge (status=1):\n",
            "STOP: TOTAL NO. of ITERATIONS REACHED LIMIT.\n",
            "\n",
            "Increase the number of iterations (max_iter) or scale the data as shown in:\n",
            "    https://scikit-learn.org/stable/modules/preprocessing.html\n",
            "  self.n_iter_ = _check_optimize_result(\"lbfgs\", opt_res, self.max_iter)\n",
            "/usr/local/lib/python3.8/dist-packages/sklearn/neural_network/_multilayer_perceptron.py:549: ConvergenceWarning: lbfgs failed to converge (status=1):\n",
            "STOP: TOTAL NO. of ITERATIONS REACHED LIMIT.\n",
            "\n",
            "Increase the number of iterations (max_iter) or scale the data as shown in:\n",
            "    https://scikit-learn.org/stable/modules/preprocessing.html\n",
            "  self.n_iter_ = _check_optimize_result(\"lbfgs\", opt_res, self.max_iter)\n",
            "/usr/local/lib/python3.8/dist-packages/sklearn/neural_network/_multilayer_perceptron.py:549: ConvergenceWarning: lbfgs failed to converge (status=1):\n",
            "STOP: TOTAL NO. of ITERATIONS REACHED LIMIT.\n",
            "\n",
            "Increase the number of iterations (max_iter) or scale the data as shown in:\n",
            "    https://scikit-learn.org/stable/modules/preprocessing.html\n",
            "  self.n_iter_ = _check_optimize_result(\"lbfgs\", opt_res, self.max_iter)\n",
            "/usr/local/lib/python3.8/dist-packages/sklearn/neural_network/_multilayer_perceptron.py:549: ConvergenceWarning: lbfgs failed to converge (status=1):\n",
            "STOP: TOTAL NO. of ITERATIONS REACHED LIMIT.\n",
            "\n",
            "Increase the number of iterations (max_iter) or scale the data as shown in:\n",
            "    https://scikit-learn.org/stable/modules/preprocessing.html\n",
            "  self.n_iter_ = _check_optimize_result(\"lbfgs\", opt_res, self.max_iter)\n",
            "/usr/local/lib/python3.8/dist-packages/sklearn/neural_network/_multilayer_perceptron.py:549: ConvergenceWarning: lbfgs failed to converge (status=1):\n",
            "STOP: TOTAL NO. of ITERATIONS REACHED LIMIT.\n",
            "\n",
            "Increase the number of iterations (max_iter) or scale the data as shown in:\n",
            "    https://scikit-learn.org/stable/modules/preprocessing.html\n",
            "  self.n_iter_ = _check_optimize_result(\"lbfgs\", opt_res, self.max_iter)\n",
            "/usr/local/lib/python3.8/dist-packages/sklearn/neural_network/_multilayer_perceptron.py:549: ConvergenceWarning: lbfgs failed to converge (status=1):\n",
            "STOP: TOTAL NO. of ITERATIONS REACHED LIMIT.\n",
            "\n",
            "Increase the number of iterations (max_iter) or scale the data as shown in:\n",
            "    https://scikit-learn.org/stable/modules/preprocessing.html\n",
            "  self.n_iter_ = _check_optimize_result(\"lbfgs\", opt_res, self.max_iter)\n",
            "/usr/local/lib/python3.8/dist-packages/sklearn/neural_network/_multilayer_perceptron.py:549: ConvergenceWarning: lbfgs failed to converge (status=1):\n",
            "STOP: TOTAL NO. of ITERATIONS REACHED LIMIT.\n",
            "\n",
            "Increase the number of iterations (max_iter) or scale the data as shown in:\n",
            "    https://scikit-learn.org/stable/modules/preprocessing.html\n",
            "  self.n_iter_ = _check_optimize_result(\"lbfgs\", opt_res, self.max_iter)\n",
            "/usr/local/lib/python3.8/dist-packages/sklearn/neural_network/_multilayer_perceptron.py:549: ConvergenceWarning: lbfgs failed to converge (status=1):\n",
            "STOP: TOTAL NO. of ITERATIONS REACHED LIMIT.\n",
            "\n",
            "Increase the number of iterations (max_iter) or scale the data as shown in:\n",
            "    https://scikit-learn.org/stable/modules/preprocessing.html\n",
            "  self.n_iter_ = _check_optimize_result(\"lbfgs\", opt_res, self.max_iter)\n",
            "/usr/local/lib/python3.8/dist-packages/sklearn/neural_network/_multilayer_perceptron.py:549: ConvergenceWarning: lbfgs failed to converge (status=1):\n",
            "STOP: TOTAL NO. of ITERATIONS REACHED LIMIT.\n",
            "\n",
            "Increase the number of iterations (max_iter) or scale the data as shown in:\n",
            "    https://scikit-learn.org/stable/modules/preprocessing.html\n",
            "  self.n_iter_ = _check_optimize_result(\"lbfgs\", opt_res, self.max_iter)\n",
            "/usr/local/lib/python3.8/dist-packages/sklearn/neural_network/_multilayer_perceptron.py:549: ConvergenceWarning: lbfgs failed to converge (status=1):\n",
            "STOP: TOTAL NO. of ITERATIONS REACHED LIMIT.\n",
            "\n",
            "Increase the number of iterations (max_iter) or scale the data as shown in:\n",
            "    https://scikit-learn.org/stable/modules/preprocessing.html\n",
            "  self.n_iter_ = _check_optimize_result(\"lbfgs\", opt_res, self.max_iter)\n",
            "/usr/local/lib/python3.8/dist-packages/sklearn/neural_network/_multilayer_perceptron.py:549: ConvergenceWarning: lbfgs failed to converge (status=1):\n",
            "STOP: TOTAL NO. of ITERATIONS REACHED LIMIT.\n",
            "\n",
            "Increase the number of iterations (max_iter) or scale the data as shown in:\n",
            "    https://scikit-learn.org/stable/modules/preprocessing.html\n",
            "  self.n_iter_ = _check_optimize_result(\"lbfgs\", opt_res, self.max_iter)\n",
            "/usr/local/lib/python3.8/dist-packages/sklearn/neural_network/_multilayer_perceptron.py:549: ConvergenceWarning: lbfgs failed to converge (status=1):\n",
            "STOP: TOTAL NO. of ITERATIONS REACHED LIMIT.\n",
            "\n",
            "Increase the number of iterations (max_iter) or scale the data as shown in:\n",
            "    https://scikit-learn.org/stable/modules/preprocessing.html\n",
            "  self.n_iter_ = _check_optimize_result(\"lbfgs\", opt_res, self.max_iter)\n",
            "/usr/local/lib/python3.8/dist-packages/sklearn/neural_network/_multilayer_perceptron.py:549: ConvergenceWarning: lbfgs failed to converge (status=1):\n",
            "STOP: TOTAL NO. of ITERATIONS REACHED LIMIT.\n",
            "\n",
            "Increase the number of iterations (max_iter) or scale the data as shown in:\n",
            "    https://scikit-learn.org/stable/modules/preprocessing.html\n",
            "  self.n_iter_ = _check_optimize_result(\"lbfgs\", opt_res, self.max_iter)\n",
            "/usr/local/lib/python3.8/dist-packages/sklearn/neural_network/_multilayer_perceptron.py:549: ConvergenceWarning: lbfgs failed to converge (status=1):\n",
            "STOP: TOTAL NO. of ITERATIONS REACHED LIMIT.\n",
            "\n",
            "Increase the number of iterations (max_iter) or scale the data as shown in:\n",
            "    https://scikit-learn.org/stable/modules/preprocessing.html\n",
            "  self.n_iter_ = _check_optimize_result(\"lbfgs\", opt_res, self.max_iter)\n",
            "/usr/local/lib/python3.8/dist-packages/sklearn/neural_network/_multilayer_perceptron.py:549: ConvergenceWarning: lbfgs failed to converge (status=1):\n",
            "STOP: TOTAL NO. of ITERATIONS REACHED LIMIT.\n",
            "\n",
            "Increase the number of iterations (max_iter) or scale the data as shown in:\n",
            "    https://scikit-learn.org/stable/modules/preprocessing.html\n",
            "  self.n_iter_ = _check_optimize_result(\"lbfgs\", opt_res, self.max_iter)\n",
            "/usr/local/lib/python3.8/dist-packages/sklearn/neural_network/_multilayer_perceptron.py:549: ConvergenceWarning: lbfgs failed to converge (status=1):\n",
            "STOP: TOTAL NO. of ITERATIONS REACHED LIMIT.\n",
            "\n",
            "Increase the number of iterations (max_iter) or scale the data as shown in:\n",
            "    https://scikit-learn.org/stable/modules/preprocessing.html\n",
            "  self.n_iter_ = _check_optimize_result(\"lbfgs\", opt_res, self.max_iter)\n",
            "/usr/local/lib/python3.8/dist-packages/sklearn/neural_network/_multilayer_perceptron.py:549: ConvergenceWarning: lbfgs failed to converge (status=1):\n",
            "STOP: TOTAL NO. of ITERATIONS REACHED LIMIT.\n",
            "\n",
            "Increase the number of iterations (max_iter) or scale the data as shown in:\n",
            "    https://scikit-learn.org/stable/modules/preprocessing.html\n",
            "  self.n_iter_ = _check_optimize_result(\"lbfgs\", opt_res, self.max_iter)\n",
            "/usr/local/lib/python3.8/dist-packages/sklearn/neural_network/_multilayer_perceptron.py:549: ConvergenceWarning: lbfgs failed to converge (status=1):\n",
            "STOP: TOTAL NO. of ITERATIONS REACHED LIMIT.\n",
            "\n",
            "Increase the number of iterations (max_iter) or scale the data as shown in:\n",
            "    https://scikit-learn.org/stable/modules/preprocessing.html\n",
            "  self.n_iter_ = _check_optimize_result(\"lbfgs\", opt_res, self.max_iter)\n",
            "/usr/local/lib/python3.8/dist-packages/sklearn/neural_network/_multilayer_perceptron.py:549: ConvergenceWarning: lbfgs failed to converge (status=1):\n",
            "STOP: TOTAL NO. of ITERATIONS REACHED LIMIT.\n",
            "\n",
            "Increase the number of iterations (max_iter) or scale the data as shown in:\n",
            "    https://scikit-learn.org/stable/modules/preprocessing.html\n",
            "  self.n_iter_ = _check_optimize_result(\"lbfgs\", opt_res, self.max_iter)\n",
            "/usr/local/lib/python3.8/dist-packages/sklearn/neural_network/_multilayer_perceptron.py:549: ConvergenceWarning: lbfgs failed to converge (status=1):\n",
            "STOP: TOTAL NO. of ITERATIONS REACHED LIMIT.\n",
            "\n",
            "Increase the number of iterations (max_iter) or scale the data as shown in:\n",
            "    https://scikit-learn.org/stable/modules/preprocessing.html\n",
            "  self.n_iter_ = _check_optimize_result(\"lbfgs\", opt_res, self.max_iter)\n",
            "/usr/local/lib/python3.8/dist-packages/sklearn/neural_network/_multilayer_perceptron.py:549: ConvergenceWarning: lbfgs failed to converge (status=1):\n",
            "STOP: TOTAL NO. of ITERATIONS REACHED LIMIT.\n",
            "\n",
            "Increase the number of iterations (max_iter) or scale the data as shown in:\n",
            "    https://scikit-learn.org/stable/modules/preprocessing.html\n",
            "  self.n_iter_ = _check_optimize_result(\"lbfgs\", opt_res, self.max_iter)\n",
            "/usr/local/lib/python3.8/dist-packages/sklearn/neural_network/_multilayer_perceptron.py:549: ConvergenceWarning: lbfgs failed to converge (status=1):\n",
            "STOP: TOTAL NO. of ITERATIONS REACHED LIMIT.\n",
            "\n",
            "Increase the number of iterations (max_iter) or scale the data as shown in:\n",
            "    https://scikit-learn.org/stable/modules/preprocessing.html\n",
            "  self.n_iter_ = _check_optimize_result(\"lbfgs\", opt_res, self.max_iter)\n",
            "/usr/local/lib/python3.8/dist-packages/sklearn/neural_network/_multilayer_perceptron.py:549: ConvergenceWarning: lbfgs failed to converge (status=1):\n",
            "STOP: TOTAL NO. of ITERATIONS REACHED LIMIT.\n",
            "\n",
            "Increase the number of iterations (max_iter) or scale the data as shown in:\n",
            "    https://scikit-learn.org/stable/modules/preprocessing.html\n",
            "  self.n_iter_ = _check_optimize_result(\"lbfgs\", opt_res, self.max_iter)\n",
            "/usr/local/lib/python3.8/dist-packages/sklearn/neural_network/_multilayer_perceptron.py:549: ConvergenceWarning: lbfgs failed to converge (status=1):\n",
            "STOP: TOTAL NO. of ITERATIONS REACHED LIMIT.\n",
            "\n",
            "Increase the number of iterations (max_iter) or scale the data as shown in:\n",
            "    https://scikit-learn.org/stable/modules/preprocessing.html\n",
            "  self.n_iter_ = _check_optimize_result(\"lbfgs\", opt_res, self.max_iter)\n",
            "/usr/local/lib/python3.8/dist-packages/sklearn/neural_network/_multilayer_perceptron.py:549: ConvergenceWarning: lbfgs failed to converge (status=1):\n",
            "STOP: TOTAL NO. of ITERATIONS REACHED LIMIT.\n",
            "\n",
            "Increase the number of iterations (max_iter) or scale the data as shown in:\n",
            "    https://scikit-learn.org/stable/modules/preprocessing.html\n",
            "  self.n_iter_ = _check_optimize_result(\"lbfgs\", opt_res, self.max_iter)\n",
            "/usr/local/lib/python3.8/dist-packages/sklearn/neural_network/_multilayer_perceptron.py:549: ConvergenceWarning: lbfgs failed to converge (status=1):\n",
            "STOP: TOTAL NO. of ITERATIONS REACHED LIMIT.\n",
            "\n",
            "Increase the number of iterations (max_iter) or scale the data as shown in:\n",
            "    https://scikit-learn.org/stable/modules/preprocessing.html\n",
            "  self.n_iter_ = _check_optimize_result(\"lbfgs\", opt_res, self.max_iter)\n",
            "/usr/local/lib/python3.8/dist-packages/sklearn/neural_network/_multilayer_perceptron.py:549: ConvergenceWarning: lbfgs failed to converge (status=1):\n",
            "STOP: TOTAL NO. of ITERATIONS REACHED LIMIT.\n",
            "\n",
            "Increase the number of iterations (max_iter) or scale the data as shown in:\n",
            "    https://scikit-learn.org/stable/modules/preprocessing.html\n",
            "  self.n_iter_ = _check_optimize_result(\"lbfgs\", opt_res, self.max_iter)\n",
            "/usr/local/lib/python3.8/dist-packages/sklearn/neural_network/_multilayer_perceptron.py:549: ConvergenceWarning: lbfgs failed to converge (status=1):\n",
            "STOP: TOTAL NO. of ITERATIONS REACHED LIMIT.\n",
            "\n",
            "Increase the number of iterations (max_iter) or scale the data as shown in:\n",
            "    https://scikit-learn.org/stable/modules/preprocessing.html\n",
            "  self.n_iter_ = _check_optimize_result(\"lbfgs\", opt_res, self.max_iter)\n",
            "/usr/local/lib/python3.8/dist-packages/sklearn/neural_network/_multilayer_perceptron.py:549: ConvergenceWarning: lbfgs failed to converge (status=1):\n",
            "STOP: TOTAL NO. of ITERATIONS REACHED LIMIT.\n",
            "\n",
            "Increase the number of iterations (max_iter) or scale the data as shown in:\n",
            "    https://scikit-learn.org/stable/modules/preprocessing.html\n",
            "  self.n_iter_ = _check_optimize_result(\"lbfgs\", opt_res, self.max_iter)\n",
            "/usr/local/lib/python3.8/dist-packages/sklearn/neural_network/_multilayer_perceptron.py:549: ConvergenceWarning: lbfgs failed to converge (status=1):\n",
            "STOP: TOTAL NO. of ITERATIONS REACHED LIMIT.\n",
            "\n",
            "Increase the number of iterations (max_iter) or scale the data as shown in:\n",
            "    https://scikit-learn.org/stable/modules/preprocessing.html\n",
            "  self.n_iter_ = _check_optimize_result(\"lbfgs\", opt_res, self.max_iter)\n",
            "/usr/local/lib/python3.8/dist-packages/sklearn/neural_network/_multilayer_perceptron.py:549: ConvergenceWarning: lbfgs failed to converge (status=1):\n",
            "STOP: TOTAL NO. of ITERATIONS REACHED LIMIT.\n",
            "\n",
            "Increase the number of iterations (max_iter) or scale the data as shown in:\n",
            "    https://scikit-learn.org/stable/modules/preprocessing.html\n",
            "  self.n_iter_ = _check_optimize_result(\"lbfgs\", opt_res, self.max_iter)\n",
            "/usr/local/lib/python3.8/dist-packages/sklearn/neural_network/_multilayer_perceptron.py:692: ConvergenceWarning: Stochastic Optimizer: Maximum iterations (200) reached and the optimization hasn't converged yet.\n",
            "  warnings.warn(\n",
            "/usr/local/lib/python3.8/dist-packages/sklearn/neural_network/_multilayer_perceptron.py:692: ConvergenceWarning: Stochastic Optimizer: Maximum iterations (200) reached and the optimization hasn't converged yet.\n",
            "  warnings.warn(\n",
            "/usr/local/lib/python3.8/dist-packages/sklearn/neural_network/_multilayer_perceptron.py:692: ConvergenceWarning: Stochastic Optimizer: Maximum iterations (200) reached and the optimization hasn't converged yet.\n",
            "  warnings.warn(\n",
            "/usr/local/lib/python3.8/dist-packages/sklearn/neural_network/_multilayer_perceptron.py:692: ConvergenceWarning: Stochastic Optimizer: Maximum iterations (200) reached and the optimization hasn't converged yet.\n",
            "  warnings.warn(\n",
            "/usr/local/lib/python3.8/dist-packages/sklearn/neural_network/_multilayer_perceptron.py:692: ConvergenceWarning: Stochastic Optimizer: Maximum iterations (200) reached and the optimization hasn't converged yet.\n",
            "  warnings.warn(\n",
            "/usr/local/lib/python3.8/dist-packages/sklearn/neural_network/_multilayer_perceptron.py:549: ConvergenceWarning: lbfgs failed to converge (status=1):\n",
            "STOP: TOTAL NO. of ITERATIONS REACHED LIMIT.\n",
            "\n",
            "Increase the number of iterations (max_iter) or scale the data as shown in:\n",
            "    https://scikit-learn.org/stable/modules/preprocessing.html\n",
            "  self.n_iter_ = _check_optimize_result(\"lbfgs\", opt_res, self.max_iter)\n",
            "/usr/local/lib/python3.8/dist-packages/sklearn/neural_network/_multilayer_perceptron.py:549: ConvergenceWarning: lbfgs failed to converge (status=1):\n",
            "STOP: TOTAL NO. of ITERATIONS REACHED LIMIT.\n",
            "\n",
            "Increase the number of iterations (max_iter) or scale the data as shown in:\n",
            "    https://scikit-learn.org/stable/modules/preprocessing.html\n",
            "  self.n_iter_ = _check_optimize_result(\"lbfgs\", opt_res, self.max_iter)\n",
            "/usr/local/lib/python3.8/dist-packages/sklearn/neural_network/_multilayer_perceptron.py:549: ConvergenceWarning: lbfgs failed to converge (status=1):\n",
            "STOP: TOTAL NO. of ITERATIONS REACHED LIMIT.\n",
            "\n",
            "Increase the number of iterations (max_iter) or scale the data as shown in:\n",
            "    https://scikit-learn.org/stable/modules/preprocessing.html\n",
            "  self.n_iter_ = _check_optimize_result(\"lbfgs\", opt_res, self.max_iter)\n",
            "/usr/local/lib/python3.8/dist-packages/sklearn/neural_network/_multilayer_perceptron.py:549: ConvergenceWarning: lbfgs failed to converge (status=1):\n",
            "STOP: TOTAL NO. of ITERATIONS REACHED LIMIT.\n",
            "\n",
            "Increase the number of iterations (max_iter) or scale the data as shown in:\n",
            "    https://scikit-learn.org/stable/modules/preprocessing.html\n",
            "  self.n_iter_ = _check_optimize_result(\"lbfgs\", opt_res, self.max_iter)\n",
            "/usr/local/lib/python3.8/dist-packages/sklearn/neural_network/_multilayer_perceptron.py:549: ConvergenceWarning: lbfgs failed to converge (status=1):\n",
            "STOP: TOTAL NO. of ITERATIONS REACHED LIMIT.\n",
            "\n",
            "Increase the number of iterations (max_iter) or scale the data as shown in:\n",
            "    https://scikit-learn.org/stable/modules/preprocessing.html\n",
            "  self.n_iter_ = _check_optimize_result(\"lbfgs\", opt_res, self.max_iter)\n",
            "/usr/local/lib/python3.8/dist-packages/sklearn/neural_network/_multilayer_perceptron.py:549: ConvergenceWarning: lbfgs failed to converge (status=1):\n",
            "STOP: TOTAL NO. of ITERATIONS REACHED LIMIT.\n",
            "\n",
            "Increase the number of iterations (max_iter) or scale the data as shown in:\n",
            "    https://scikit-learn.org/stable/modules/preprocessing.html\n",
            "  self.n_iter_ = _check_optimize_result(\"lbfgs\", opt_res, self.max_iter)\n",
            "/usr/local/lib/python3.8/dist-packages/sklearn/neural_network/_multilayer_perceptron.py:549: ConvergenceWarning: lbfgs failed to converge (status=1):\n",
            "STOP: TOTAL NO. of ITERATIONS REACHED LIMIT.\n",
            "\n",
            "Increase the number of iterations (max_iter) or scale the data as shown in:\n",
            "    https://scikit-learn.org/stable/modules/preprocessing.html\n",
            "  self.n_iter_ = _check_optimize_result(\"lbfgs\", opt_res, self.max_iter)\n",
            "/usr/local/lib/python3.8/dist-packages/sklearn/neural_network/_multilayer_perceptron.py:549: ConvergenceWarning: lbfgs failed to converge (status=1):\n",
            "STOP: TOTAL NO. of ITERATIONS REACHED LIMIT.\n",
            "\n",
            "Increase the number of iterations (max_iter) or scale the data as shown in:\n",
            "    https://scikit-learn.org/stable/modules/preprocessing.html\n",
            "  self.n_iter_ = _check_optimize_result(\"lbfgs\", opt_res, self.max_iter)\n",
            "/usr/local/lib/python3.8/dist-packages/sklearn/neural_network/_multilayer_perceptron.py:549: ConvergenceWarning: lbfgs failed to converge (status=1):\n",
            "STOP: TOTAL NO. of ITERATIONS REACHED LIMIT.\n",
            "\n",
            "Increase the number of iterations (max_iter) or scale the data as shown in:\n",
            "    https://scikit-learn.org/stable/modules/preprocessing.html\n",
            "  self.n_iter_ = _check_optimize_result(\"lbfgs\", opt_res, self.max_iter)\n",
            "/usr/local/lib/python3.8/dist-packages/sklearn/neural_network/_multilayer_perceptron.py:549: ConvergenceWarning: lbfgs failed to converge (status=1):\n",
            "STOP: TOTAL NO. of ITERATIONS REACHED LIMIT.\n",
            "\n",
            "Increase the number of iterations (max_iter) or scale the data as shown in:\n",
            "    https://scikit-learn.org/stable/modules/preprocessing.html\n",
            "  self.n_iter_ = _check_optimize_result(\"lbfgs\", opt_res, self.max_iter)\n",
            "/usr/local/lib/python3.8/dist-packages/sklearn/neural_network/_multilayer_perceptron.py:549: ConvergenceWarning: lbfgs failed to converge (status=1):\n",
            "STOP: TOTAL NO. of ITERATIONS REACHED LIMIT.\n",
            "\n",
            "Increase the number of iterations (max_iter) or scale the data as shown in:\n",
            "    https://scikit-learn.org/stable/modules/preprocessing.html\n",
            "  self.n_iter_ = _check_optimize_result(\"lbfgs\", opt_res, self.max_iter)\n",
            "/usr/local/lib/python3.8/dist-packages/sklearn/neural_network/_multilayer_perceptron.py:549: ConvergenceWarning: lbfgs failed to converge (status=1):\n",
            "STOP: TOTAL NO. of ITERATIONS REACHED LIMIT.\n",
            "\n",
            "Increase the number of iterations (max_iter) or scale the data as shown in:\n",
            "    https://scikit-learn.org/stable/modules/preprocessing.html\n",
            "  self.n_iter_ = _check_optimize_result(\"lbfgs\", opt_res, self.max_iter)\n",
            "/usr/local/lib/python3.8/dist-packages/sklearn/neural_network/_multilayer_perceptron.py:549: ConvergenceWarning: lbfgs failed to converge (status=1):\n",
            "STOP: TOTAL NO. of ITERATIONS REACHED LIMIT.\n",
            "\n",
            "Increase the number of iterations (max_iter) or scale the data as shown in:\n",
            "    https://scikit-learn.org/stable/modules/preprocessing.html\n",
            "  self.n_iter_ = _check_optimize_result(\"lbfgs\", opt_res, self.max_iter)\n",
            "/usr/local/lib/python3.8/dist-packages/sklearn/neural_network/_multilayer_perceptron.py:549: ConvergenceWarning: lbfgs failed to converge (status=1):\n",
            "STOP: TOTAL NO. of ITERATIONS REACHED LIMIT.\n",
            "\n",
            "Increase the number of iterations (max_iter) or scale the data as shown in:\n",
            "    https://scikit-learn.org/stable/modules/preprocessing.html\n",
            "  self.n_iter_ = _check_optimize_result(\"lbfgs\", opt_res, self.max_iter)\n",
            "/usr/local/lib/python3.8/dist-packages/sklearn/neural_network/_multilayer_perceptron.py:549: ConvergenceWarning: lbfgs failed to converge (status=1):\n",
            "STOP: TOTAL NO. of ITERATIONS REACHED LIMIT.\n",
            "\n",
            "Increase the number of iterations (max_iter) or scale the data as shown in:\n",
            "    https://scikit-learn.org/stable/modules/preprocessing.html\n",
            "  self.n_iter_ = _check_optimize_result(\"lbfgs\", opt_res, self.max_iter)\n",
            "/usr/local/lib/python3.8/dist-packages/sklearn/neural_network/_multilayer_perceptron.py:549: ConvergenceWarning: lbfgs failed to converge (status=1):\n",
            "STOP: TOTAL NO. of ITERATIONS REACHED LIMIT.\n",
            "\n",
            "Increase the number of iterations (max_iter) or scale the data as shown in:\n",
            "    https://scikit-learn.org/stable/modules/preprocessing.html\n",
            "  self.n_iter_ = _check_optimize_result(\"lbfgs\", opt_res, self.max_iter)\n",
            "/usr/local/lib/python3.8/dist-packages/sklearn/neural_network/_multilayer_perceptron.py:549: ConvergenceWarning: lbfgs failed to converge (status=1):\n",
            "STOP: TOTAL NO. of ITERATIONS REACHED LIMIT.\n",
            "\n",
            "Increase the number of iterations (max_iter) or scale the data as shown in:\n",
            "    https://scikit-learn.org/stable/modules/preprocessing.html\n",
            "  self.n_iter_ = _check_optimize_result(\"lbfgs\", opt_res, self.max_iter)\n",
            "/usr/local/lib/python3.8/dist-packages/sklearn/neural_network/_multilayer_perceptron.py:549: ConvergenceWarning: lbfgs failed to converge (status=1):\n",
            "STOP: TOTAL NO. of ITERATIONS REACHED LIMIT.\n",
            "\n",
            "Increase the number of iterations (max_iter) or scale the data as shown in:\n",
            "    https://scikit-learn.org/stable/modules/preprocessing.html\n",
            "  self.n_iter_ = _check_optimize_result(\"lbfgs\", opt_res, self.max_iter)\n",
            "/usr/local/lib/python3.8/dist-packages/sklearn/neural_network/_multilayer_perceptron.py:549: ConvergenceWarning: lbfgs failed to converge (status=1):\n",
            "STOP: TOTAL NO. of ITERATIONS REACHED LIMIT.\n",
            "\n",
            "Increase the number of iterations (max_iter) or scale the data as shown in:\n",
            "    https://scikit-learn.org/stable/modules/preprocessing.html\n",
            "  self.n_iter_ = _check_optimize_result(\"lbfgs\", opt_res, self.max_iter)\n",
            "/usr/local/lib/python3.8/dist-packages/sklearn/neural_network/_multilayer_perceptron.py:549: ConvergenceWarning: lbfgs failed to converge (status=1):\n",
            "STOP: TOTAL NO. of ITERATIONS REACHED LIMIT.\n",
            "\n",
            "Increase the number of iterations (max_iter) or scale the data as shown in:\n",
            "    https://scikit-learn.org/stable/modules/preprocessing.html\n",
            "  self.n_iter_ = _check_optimize_result(\"lbfgs\", opt_res, self.max_iter)\n",
            "/usr/local/lib/python3.8/dist-packages/sklearn/neural_network/_multilayer_perceptron.py:549: ConvergenceWarning: lbfgs failed to converge (status=1):\n",
            "STOP: TOTAL NO. of ITERATIONS REACHED LIMIT.\n",
            "\n",
            "Increase the number of iterations (max_iter) or scale the data as shown in:\n",
            "    https://scikit-learn.org/stable/modules/preprocessing.html\n",
            "  self.n_iter_ = _check_optimize_result(\"lbfgs\", opt_res, self.max_iter)\n",
            "/usr/local/lib/python3.8/dist-packages/sklearn/neural_network/_multilayer_perceptron.py:549: ConvergenceWarning: lbfgs failed to converge (status=1):\n",
            "STOP: TOTAL NO. of ITERATIONS REACHED LIMIT.\n",
            "\n",
            "Increase the number of iterations (max_iter) or scale the data as shown in:\n",
            "    https://scikit-learn.org/stable/modules/preprocessing.html\n",
            "  self.n_iter_ = _check_optimize_result(\"lbfgs\", opt_res, self.max_iter)\n",
            "/usr/local/lib/python3.8/dist-packages/sklearn/neural_network/_multilayer_perceptron.py:549: ConvergenceWarning: lbfgs failed to converge (status=1):\n",
            "STOP: TOTAL NO. of ITERATIONS REACHED LIMIT.\n",
            "\n",
            "Increase the number of iterations (max_iter) or scale the data as shown in:\n",
            "    https://scikit-learn.org/stable/modules/preprocessing.html\n",
            "  self.n_iter_ = _check_optimize_result(\"lbfgs\", opt_res, self.max_iter)\n",
            "/usr/local/lib/python3.8/dist-packages/sklearn/neural_network/_multilayer_perceptron.py:549: ConvergenceWarning: lbfgs failed to converge (status=1):\n",
            "STOP: TOTAL NO. of ITERATIONS REACHED LIMIT.\n",
            "\n",
            "Increase the number of iterations (max_iter) or scale the data as shown in:\n",
            "    https://scikit-learn.org/stable/modules/preprocessing.html\n",
            "  self.n_iter_ = _check_optimize_result(\"lbfgs\", opt_res, self.max_iter)\n",
            "/usr/local/lib/python3.8/dist-packages/sklearn/neural_network/_multilayer_perceptron.py:549: ConvergenceWarning: lbfgs failed to converge (status=1):\n",
            "STOP: TOTAL NO. of ITERATIONS REACHED LIMIT.\n",
            "\n",
            "Increase the number of iterations (max_iter) or scale the data as shown in:\n",
            "    https://scikit-learn.org/stable/modules/preprocessing.html\n",
            "  self.n_iter_ = _check_optimize_result(\"lbfgs\", opt_res, self.max_iter)\n",
            "/usr/local/lib/python3.8/dist-packages/sklearn/neural_network/_multilayer_perceptron.py:549: ConvergenceWarning: lbfgs failed to converge (status=1):\n",
            "STOP: TOTAL NO. of ITERATIONS REACHED LIMIT.\n",
            "\n",
            "Increase the number of iterations (max_iter) or scale the data as shown in:\n",
            "    https://scikit-learn.org/stable/modules/preprocessing.html\n",
            "  self.n_iter_ = _check_optimize_result(\"lbfgs\", opt_res, self.max_iter)\n",
            "/usr/local/lib/python3.8/dist-packages/sklearn/model_selection/_validation.py:372: FitFailedWarning: \n",
            "525 fits failed out of a total of 2100.\n",
            "The score on these train-test partitions for these parameters will be set to nan.\n",
            "If these failures are not expected, you can try to debug them by setting error_score='raise'.\n",
            "\n",
            "Below are more details about the failures:\n",
            "--------------------------------------------------------------------------------\n",
            "525 fits failed with the following error:\n",
            "Traceback (most recent call last):\n",
            "  File \"/usr/local/lib/python3.8/dist-packages/sklearn/model_selection/_validation.py\", line 680, in _fit_and_score\n",
            "    estimator.fit(X_train, y_train, **fit_params)\n",
            "  File \"/usr/local/lib/python3.8/dist-packages/sklearn/neural_network/_multilayer_perceptron.py\", line 752, in fit\n",
            "    return self._fit(X, y, incremental=False)\n",
            "  File \"/usr/local/lib/python3.8/dist-packages/sklearn/neural_network/_multilayer_perceptron.py\", line 384, in _fit\n",
            "    self._validate_hyperparameters()\n",
            "  File \"/usr/local/lib/python3.8/dist-packages/sklearn/neural_network/_multilayer_perceptron.py\", line 493, in _validate_hyperparameters\n",
            "    raise ValueError(\n",
            "ValueError: The activation 'identify' is not supported. Supported activations are ['identity', 'logistic', 'relu', 'softmax', 'tanh'].\n",
            "\n",
            "  warnings.warn(some_fits_failed_message, FitFailedWarning)\n",
            "/usr/local/lib/python3.8/dist-packages/sklearn/model_selection/_search.py:969: UserWarning: One or more of the test scores are non-finite: [-3.39196171 -2.82104273  0.20379865 -3.39196171 -2.59081672 -0.21482093\n",
            " -3.39196171 -2.59081672 -0.39687986 -3.39196171 -2.59081672 -0.39687986\n",
            " -3.39196171 -2.59081672 -0.39687986 -0.29515431  0.43984895 -0.0756065\n",
            " -0.29515431  0.43984895 -0.32214322 -0.29515431  0.43984895 -0.31900853\n",
            " -0.29515431  0.43984895 -0.31900853 -0.29515431  0.43984895 -0.31900853\n",
            " -2.28139455 -2.81639556  0.20883015 -2.28139455 -2.81639556 -0.15927271\n",
            " -2.28139455 -2.81639556 -0.15969404 -2.28139455 -2.81639556 -0.15969404\n",
            " -2.28139455 -2.81639556 -0.15969404 -0.97300884 -1.11933445  0.18302432\n",
            " -0.97300884 -1.11933445  0.02311302 -0.97300884 -1.11933445  0.0162801\n",
            " -0.97300884 -1.11933445  0.0162801  -0.97300884 -1.11933445  0.0162801\n",
            " -0.28767728  0.28266953  0.19418444 -0.28767728  0.28266953 -0.14469558\n",
            " -0.28767728  0.28266953 -0.19502596 -0.28767728  0.28266953 -0.19502596\n",
            " -0.28767728  0.28266953 -0.19502596 -0.48950891  0.29233809  0.12851838\n",
            " -0.48950891  0.29233809 -0.06995614 -0.48950891  0.29233809 -0.12640181\n",
            " -0.48950891  0.29233809 -0.12640181 -0.48950891  0.29233809 -0.12640181\n",
            " -1.7219427  -0.7313383   0.15321675 -1.7219427  -0.7313383  -0.06131404\n",
            " -1.7219427  -0.7313383  -0.11851937 -1.7219427  -0.7313383  -0.11851937\n",
            " -1.7219427  -0.7313383  -0.11851937 -1.15635632 -1.371708    0.39199553\n",
            " -1.15635632 -1.23962163  0.15205462 -1.15635632 -1.23962163  0.07253246\n",
            " -1.15635632 -1.23962163  0.02941021 -1.15635632 -1.23962163  0.01877817\n",
            " -0.87700227 -1.0877277  -0.01439952 -0.87700227 -1.0877277  -0.18065689\n",
            " -0.87700227 -1.0877277  -0.21554633 -0.87700227 -1.0877277  -0.21554633\n",
            " -0.87700227 -1.0877277  -0.21554633 -1.47290276 -2.31102617  0.17358705\n",
            " -1.47290276 -2.31102617  0.1747312  -1.47290276 -2.31102617  0.1747312\n",
            " -1.47290276 -2.31102617  0.1747312  -1.47290276 -2.31102617  0.1747312\n",
            " -0.60365255 -0.98708738  0.45468871 -0.60365255 -0.98708738  0.45468871\n",
            " -0.60365255 -0.98708738  0.45468871 -0.60365255 -0.98708738  0.45468871\n",
            " -0.60365255 -0.98708738  0.45468871 -0.17932135  0.36837459  0.15398039\n",
            " -0.17932135  0.36837459  0.15388935 -0.17932135  0.36837459  0.15388935\n",
            " -0.17932135  0.36837459  0.15388935 -0.17932135  0.36837459  0.15388935\n",
            " -1.40916583  0.23777843  0.1888362  -1.40916583  0.23777843  0.1888362\n",
            " -1.40916583  0.23777843  0.1888362  -1.40916583  0.23777843  0.1888362\n",
            " -1.40916583  0.23777843  0.1888362  -1.01839963 -1.62744907  0.27837979\n",
            " -1.01839963 -1.62744907  0.27837979 -1.01839963 -1.62744907  0.27837979\n",
            " -1.01839963 -1.62744907  0.27837979 -1.01839963 -1.62744907  0.27837979\n",
            "         nan         nan         nan         nan         nan         nan\n",
            "         nan         nan         nan         nan         nan         nan\n",
            "         nan         nan         nan         nan         nan         nan\n",
            "         nan         nan         nan         nan         nan         nan\n",
            "         nan         nan         nan         nan         nan         nan\n",
            "         nan         nan         nan         nan         nan         nan\n",
            "         nan         nan         nan         nan         nan         nan\n",
            "         nan         nan         nan         nan         nan         nan\n",
            "         nan         nan         nan         nan         nan         nan\n",
            "         nan         nan         nan         nan         nan         nan\n",
            "         nan         nan         nan         nan         nan         nan\n",
            "         nan         nan         nan         nan         nan         nan\n",
            "         nan         nan         nan         nan         nan         nan\n",
            "         nan         nan         nan         nan         nan         nan\n",
            "         nan         nan         nan         nan         nan         nan\n",
            "         nan         nan         nan         nan         nan         nan\n",
            "         nan         nan         nan         nan         nan         nan\n",
            "         nan         nan         nan -0.16518014 -0.7208475   0.34890112\n",
            " -0.16518014 -0.7208475  -0.11766407 -0.16518014 -0.7208475  -0.14144157\n",
            " -0.16518014 -0.7208475  -0.14144157 -0.16518014 -0.7208475  -0.14144157\n",
            " -0.03785709 -0.37556835  0.6042786  -0.03785709 -0.37556835  0.53399173\n",
            " -0.03785709 -0.37556835  0.53399173 -0.03785709 -0.37556835  0.53399173\n",
            " -0.03785709 -0.37556835  0.53399173 -0.96007873 -0.62665722  0.64964808\n",
            " -0.96007873 -0.62665722  0.64964808 -0.96007873 -0.62665722  0.64964808\n",
            " -0.96007873 -0.62665722  0.64964808 -0.96007873 -0.62665722  0.64964808\n",
            " -0.36046767 -0.54129929  0.64587188 -0.36046767 -0.54129929  0.64587188\n",
            " -0.36046767 -0.54129929  0.64587188 -0.36046767 -0.54129929  0.64587188\n",
            " -0.36046767 -0.54129929  0.64587188  0.07007829  0.39476531  0.645992\n",
            "  0.07007829  0.39476531  0.645992    0.07007829  0.39476531  0.645992\n",
            "  0.07007829  0.39476531  0.645992    0.07007829  0.39476531  0.645992\n",
            " -1.03240989 -1.34294622  0.6431707  -1.03240989 -1.34294622  0.6431707\n",
            " -1.03240989 -1.34294622  0.6431707  -1.03240989 -1.34294622  0.6431707\n",
            " -1.03240989 -1.34294622  0.6431707  -1.27892639 -1.63181397  0.65084958\n",
            " -1.27892639 -1.63181397  0.65084958 -1.27892639 -1.63181397  0.65084958\n",
            " -1.27892639 -1.63181397  0.65084958 -1.27892639 -1.63181397  0.65084958]\n",
            "  warnings.warn(\n",
            "/usr/local/lib/python3.8/dist-packages/sklearn/model_selection/_search.py:984: RuntimeWarning: invalid value encountered in cast\n",
            "  results[\"rank_%s\" % key_name] = np.asarray(\n"
          ]
        },
        {
          "output_type": "execute_result",
          "data": {
            "text/plain": [
              "{'activation': 'tanh',\n",
              " 'hidden_layer_sizes': (10,),\n",
              " 'max_iter': 200,\n",
              " 'random_state': 216,\n",
              " 'solver': 'sgd'}"
            ]
          },
          "metadata": {},
          "execution_count": 42
        }
      ]
    },
    {
      "cell_type": "code",
      "source": [
        "y = df3['telomere length (kb)']\n",
        "X = df3.drop('telomere length (kb)',1)\n",
        "X_train, X_test, y_train, y_test = train_test_split(X, y, test_size=0.2, random_state=216)"
      ],
      "metadata": {
        "colab": {
          "base_uri": "https://localhost:8080/"
        },
        "id": "yum6l29ddT-A",
        "outputId": "995a08d0-0808-473f-c550-4720405d6523"
      },
      "execution_count": null,
      "outputs": [
        {
          "output_type": "stream",
          "name": "stderr",
          "text": [
            "<ipython-input-113-6b97428e46c0>:2: FutureWarning: In a future version of pandas all arguments of DataFrame.drop except for the argument 'labels' will be keyword-only\n",
            "  X = df3.drop('telomere length (kb)',1)\n"
          ]
        }
      ]
    },
    {
      "cell_type": "code",
      "source": [
        "model = MLPRegressor(hidden_layer_sizes= (10,),activation = 'tanh',solver = 'sgd',max_iter=200,random_state = 216)\n",
        "model.fit(X_train, y_train)"
      ],
      "metadata": {
        "colab": {
          "base_uri": "https://localhost:8080/"
        },
        "id": "NDB71XtOdT6p",
        "outputId": "417f4669-1905-40e4-9881-11350b913fcb"
      },
      "execution_count": null,
      "outputs": [
        {
          "output_type": "execute_result",
          "data": {
            "text/plain": [
              "MLPRegressor(activation='tanh', hidden_layer_sizes=(10,), random_state=216,\n",
              "             solver='sgd')"
            ]
          },
          "metadata": {},
          "execution_count": 114
        }
      ]
    },
    {
      "cell_type": "code",
      "source": [
        "y_pred = model.predict(X_test)"
      ],
      "metadata": {
        "id": "8xYKo3K2dhlw"
      },
      "execution_count": null,
      "outputs": []
    },
    {
      "cell_type": "code",
      "source": [
        "#Train\n",
        "print('R2 Value Train:',metrics.r2_score(y_train, model.predict(X_train)))\n",
        "print('MSE Train:',metrics.mean_squared_error(y_train, model.predict(X_train)))\n",
        "print('MAE Train:',metrics.mean_absolute_error(y_train, model.predict(X_train)))"
      ],
      "metadata": {
        "colab": {
          "base_uri": "https://localhost:8080/"
        },
        "id": "hdI3TiBzdT3j",
        "outputId": "9d25ea94-2b23-409e-c7ab-89fdb2db2b53"
      },
      "execution_count": null,
      "outputs": [
        {
          "output_type": "stream",
          "name": "stdout",
          "text": [
            "R2 Value Train: -3.1748526503760948\n",
            "MSE Train: 0.14454029615240152\n",
            "MAE Train: 0.2919911091389807\n"
          ]
        }
      ]
    },
    {
      "cell_type": "code",
      "source": [
        "print('MAPE :',mean_absolute_percentage_error(y_test, y_pred))"
      ],
      "metadata": {
        "colab": {
          "base_uri": "https://localhost:8080/"
        },
        "id": "jdjG4j6ydT0a",
        "outputId": "08f3a35d-ea1c-4842-8079-3e4a05a4f7fa"
      },
      "execution_count": null,
      "outputs": [
        {
          "output_type": "stream",
          "name": "stdout",
          "text": [
            "MAPE : 1.2119072494346825\n"
          ]
        }
      ]
    },
    {
      "cell_type": "code",
      "source": [
        "#Test\n",
        "print('R2 Value Test:',metrics.r2_score(y_test, y_pred))\n",
        "print('MSE Test:',metrics.mean_squared_error(y_test, y_pred))\n",
        "print('MAE Test:',metrics.mean_absolute_error(y_test, y_pred))"
      ],
      "metadata": {
        "colab": {
          "base_uri": "https://localhost:8080/"
        },
        "id": "eduJzvxcdTxN",
        "outputId": "5122b22e-c7c5-4e8c-93a0-74689eef0837"
      },
      "execution_count": null,
      "outputs": [
        {
          "output_type": "stream",
          "name": "stdout",
          "text": [
            "R2 Value Test: -1.7779191870640925\n",
            "MSE Test: 0.17457797088059387\n",
            "MAE Test: 0.34705088087687075\n"
          ]
        }
      ]
    },
    {
      "cell_type": "code",
      "source": [
        "sns.distplot(y_pred, hist = False, color = 'r', label = 'Predicted Values')\n",
        "sns.distplot(y_test, hist = False, color = 'b', label = 'Actual Values')\n",
        "plt.title('Actual vs Predicted Values', fontsize = 16)\n",
        "plt.xlabel('Values', fontsize = 12)\n",
        "plt.ylabel('Frequency', fontsize = 12)\n",
        "plt.legend(loc = 'upper left', fontsize = 13)"
      ],
      "metadata": {
        "colab": {
          "base_uri": "https://localhost:8080/",
          "height": 410
        },
        "id": "A2xg4iTxdTtx",
        "outputId": "8a21a691-f65c-4d99-dd8a-4267d401c770"
      },
      "execution_count": null,
      "outputs": [
        {
          "output_type": "stream",
          "name": "stderr",
          "text": [
            "/usr/local/lib/python3.8/dist-packages/seaborn/distributions.py:2619: FutureWarning: `distplot` is a deprecated function and will be removed in a future version. Please adapt your code to use either `displot` (a figure-level function with similar flexibility) or `kdeplot` (an axes-level function for kernel density plots).\n",
            "  warnings.warn(msg, FutureWarning)\n",
            "/usr/local/lib/python3.8/dist-packages/seaborn/distributions.py:2619: FutureWarning: `distplot` is a deprecated function and will be removed in a future version. Please adapt your code to use either `displot` (a figure-level function with similar flexibility) or `kdeplot` (an axes-level function for kernel density plots).\n",
            "  warnings.warn(msg, FutureWarning)\n"
          ]
        },
        {
          "output_type": "execute_result",
          "data": {
            "text/plain": [
              "<matplotlib.legend.Legend at 0x7f2618b53a90>"
            ]
          },
          "metadata": {},
          "execution_count": 119
        },
        {
          "output_type": "display_data",
          "data": {
            "text/plain": [
              "<Figure size 432x288 with 1 Axes>"
            ],
            "image/png": "[encoded data removed]"
          },
          "metadata": {
            "needs_background": "light"
          }
        }
      ]
    }
  ]
}